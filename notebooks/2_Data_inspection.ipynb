{
 "cells": [
  {
   "cell_type": "markdown",
   "id": "d54962a0",
   "metadata": {},
   "source": [
    "# Importing libraries"
   ]
  },
  {
   "cell_type": "code",
   "execution_count": null,
   "id": "cfc41c45",
   "metadata": {},
   "outputs": [],
   "source": [
    "import pandas as pd\n",
    "import numpy as np\n",
    "import altair as alt"
   ]
  },
  {
   "cell_type": "code",
   "execution_count": null,
   "id": "80ecb86e",
   "metadata": {},
   "outputs": [],
   "source": [
    "pwd"
   ]
  },
  {
   "cell_type": "code",
   "execution_count": null,
   "id": "07636d86",
   "metadata": {},
   "outputs": [],
   "source": [
    "%cd /Users/shamil/Desktop/MADS/2023/Capstone/SIADS-699/datasets/raw/market_data"
   ]
  },
  {
   "cell_type": "code",
   "execution_count": null,
   "id": "d049b2d1",
   "metadata": {},
   "outputs": [],
   "source": [
    "# enable correct rendering\n",
    "#alt.renderers.enable('default')\n",
    "# uses intermediate json files to speed things up\n",
    "#alt.data_transformers.enable('json')\n",
    "# use the 538 theme\n",
    "alt.themes.enable('fivethirtyeight')"
   ]
  },
  {
   "cell_type": "markdown",
   "id": "b641cd80",
   "metadata": {},
   "source": [
    "#  Visualisation functions "
   ]
  },
  {
   "cell_type": "code",
   "execution_count": null,
   "id": "4dd372ce",
   "metadata": {},
   "outputs": [],
   "source": [
    "def ticker_plot(df, name = 'Index plot'):\n",
    "    open_close_color = alt.condition(\"datum.Open <= datum.Close\",\n",
    "                                 alt.value(\"#006633\"),\n",
    "                                 alt.value(\"#FF0000\"))\n",
    "    df['Date'] = pd.to_datetime(df['Date'])\n",
    "\n",
    "    base = alt.Chart(df).encode(\n",
    "        x=alt.X('Date:T', title=\"Year\"),\n",
    "        color=open_close_color\n",
    "    ).properties(height = 250, width = 800)\n",
    "\n",
    "    bar = base.mark_bar(size=2).encode(\n",
    "        alt.Y('Open:Q'),\n",
    "        alt.Y2('Close:Q'))\n",
    "\n",
    "    brush = alt.selection_interval(encodings = ['x'])\n",
    "    view = base.mark_bar(size=1).encode(y = alt.Y('Volume:Q')).add_selection(brush).properties(width=800,height=50)\n",
    "\n",
    "    return (bar & view).properties(title = name)"
   ]
  },
  {
   "cell_type": "code",
   "execution_count": null,
   "id": "69a0eb02",
   "metadata": {},
   "outputs": [],
   "source": [
    "def daily_stock_data_availability(input_DF):\n",
    "    input_DF['Date'] = pd.to_datetime(input_DF['Date'])\n",
    "    input_DF['year'] = input_DF['Date'].dt.year\n",
    "    data_availability ={}\n",
    "    years = input_DF['year'].unique()\n",
    "    for year in years:\n",
    "        year_df = input_DF[input_DF['year'] == year]\n",
    "        data_availability[year] = (year_df.count()/len(year_df)*100).to_dict()\n",
    "        data_availability[year]['total_rows'] = len(year_df)\n",
    "    df_data_availability = pd.DataFrame(data_availability)\n",
    "    total_rows_per_year = df_data_availability.iloc[-1,:]\n",
    "    total_rows_per_year = total_rows_per_year.to_frame().reset_index()\n",
    "    total_rows_per_year['index'] = pd.to_datetime(total_rows_per_year['index'], format='%Y')\n",
    "    visualization1 = alt.Chart(total_rows_per_year, title=\"Number of days stock data available for ticker\"\n",
    "                                       ).mark_bar(size=20, color = '#96EE77').encode(\n",
    "        x=alt.X('index:T', title='Year'),\n",
    "        y=alt.Y('total_rows:Q', title='Days'),\n",
    "        tooltip=[alt.Tooltip('total_rows', title='Stock day'), alt.Tooltip('index:T', format='%Y')]\n",
    "        ).properties(height = 350, width = 350)\n",
    "    \n",
    "    features_availability = df_data_availability.iloc[1:-2,:]\n",
    "    features_availability = features_availability.reset_index()\n",
    "    features_availability = features_availability.melt(id_vars=['index'])\n",
    "    base = alt.Chart(features_availability, title=\"Feature availability per year\").encode(\n",
    "        x=alt.X('index:N', title=\"Feature\"),\n",
    "        y=alt.Y('variable:N', title=\"Year\")\n",
    "    ).properties(height = 350, width = 1450)\n",
    "\n",
    "    heatmap = base.mark_rect(stroke='white',strokeWidth=1).encode(\n",
    "        color=alt.Color('value:Q', title=\"Percentage\", scale=alt.Scale(domain=[20, 100],\n",
    "                                          scheme='viridis', reverse=True)))\n",
    "\n",
    "    text = base.mark_text(baseline='middle', color='white', size=6).encode(\n",
    "        text=alt.Text ('value:Q', format='.1f'),\n",
    "        color=alt.condition(alt.expr.datum['value'] > 30,\n",
    "                                alt.value('white'),\n",
    "                                alt.value('black')))\n",
    "\n",
    "\n",
    "    visualization2 = (heatmap + text)\n",
    "    \n",
    "    return visualization1 | visualization2"
   ]
  },
  {
   "cell_type": "markdown",
   "id": "dbe3c2db",
   "metadata": {},
   "source": [
    "# TTML - TATA TELESERVICES (MAHARASHTRA) LIMITED"
   ]
  },
  {
   "cell_type": "code",
   "execution_count": null,
   "id": "bda41c35",
   "metadata": {},
   "outputs": [],
   "source": [
    "TTML = pd.read_csv('TTML.NS.csv')"
   ]
  },
  {
   "cell_type": "markdown",
   "id": "71c18615",
   "metadata": {},
   "source": [
    "## Plotting Tata Teleservices"
   ]
  },
  {
   "cell_type": "code",
   "execution_count": null,
   "id": "d5f0f72c",
   "metadata": {},
   "outputs": [],
   "source": [
    "ticker_plot(TTML, name = 'TATA TELESERVICES (MAHARASHTRA) LIMITED')"
   ]
  },
  {
   "cell_type": "code",
   "execution_count": null,
   "id": "f7dfcd24",
   "metadata": {},
   "outputs": [],
   "source": [
    "daily_stock_data_availability(TTML)"
   ]
  },
  {
   "cell_type": "markdown",
   "id": "e4803c1a",
   "metadata": {},
   "source": [
    "# CHOLAFIN.NS - CHOLAMANDALAM INVESTMENT AND FINANCE COMPANY LIMITED"
   ]
  },
  {
   "cell_type": "code",
   "execution_count": null,
   "id": "8766f188",
   "metadata": {},
   "outputs": [],
   "source": [
    "CHOLAFIN = pd.read_csv('CHOLAFIN.NS.csv')"
   ]
  },
  {
   "cell_type": "markdown",
   "id": "25d4b1d7",
   "metadata": {},
   "source": [
    "##  Plotting CHOLAMANDALAM"
   ]
  },
  {
   "cell_type": "code",
   "execution_count": null,
   "id": "5393a579",
   "metadata": {},
   "outputs": [],
   "source": [
    "ticker_plot(CHOLAFIN, name = 'CHOLAMANDALAM INVESTMENT AND FINANCE COMPANY LIMITED')"
   ]
  },
  {
   "cell_type": "code",
   "execution_count": null,
   "id": "8fb0432a",
   "metadata": {},
   "outputs": [],
   "source": [
    "daily_stock_data_availability(CHOLAFIN)"
   ]
  },
  {
   "cell_type": "markdown",
   "id": "dcbad23c",
   "metadata": {},
   "source": [
    "# KSB3.DE - KSB LIMITED"
   ]
  },
  {
   "cell_type": "code",
   "execution_count": null,
   "id": "31692409",
   "metadata": {},
   "outputs": [],
   "source": [
    "KSB3 = pd.read_csv('KSB3.DE.csv')"
   ]
  },
  {
   "cell_type": "markdown",
   "id": "c48da343",
   "metadata": {},
   "source": [
    "##  Plotting State Bank of India"
   ]
  },
  {
   "cell_type": "code",
   "execution_count": null,
   "id": "712f02b0",
   "metadata": {},
   "outputs": [],
   "source": [
    "ticker_plot(KSB3, name = 'KSB Limited')"
   ]
  },
  {
   "cell_type": "code",
   "execution_count": null,
   "id": "405678a5",
   "metadata": {},
   "outputs": [],
   "source": [
    "daily_stock_data_availability(KSB3)"
   ]
  },
  {
   "cell_type": "markdown",
   "id": "b27a2477",
   "metadata": {},
   "source": [
    "# ZENSARTECH - ZENSAR TECHNOLOGIES LIMITED"
   ]
  },
  {
   "cell_type": "code",
   "execution_count": null,
   "id": "efe15347",
   "metadata": {},
   "outputs": [],
   "source": [
    "ZENSARTECH = pd.read_csv('ZENSARTECH.NS.csv')"
   ]
  },
  {
   "cell_type": "markdown",
   "id": "100f58fb",
   "metadata": {},
   "source": [
    "## Plotting ZENSARTECH"
   ]
  },
  {
   "cell_type": "code",
   "execution_count": null,
   "id": "32dc6fb2",
   "metadata": {
    "scrolled": false
   },
   "outputs": [],
   "source": [
    "ticker_plot(ZENSARTECH, name = 'ZENSAR TECHNOLOGIES LIMITED')"
   ]
  },
  {
   "cell_type": "code",
   "execution_count": null,
   "id": "36ba74ce",
   "metadata": {},
   "outputs": [],
   "source": [
    "daily_stock_data_availability(ZENSARTECH)"
   ]
  },
  {
   "cell_type": "markdown",
   "id": "aeec4bd3",
   "metadata": {},
   "source": [
    "# Laxmi Organic Industries Limited (LXCHEM.NS)"
   ]
  },
  {
   "cell_type": "code",
   "execution_count": null,
   "id": "bd6e73eb",
   "metadata": {},
   "outputs": [],
   "source": [
    "Laxmi = pd.read_csv('LXCHEM.NS.csv')"
   ]
  },
  {
   "cell_type": "markdown",
   "id": "a2edcb39",
   "metadata": {},
   "source": [
    "## Plotting Laxmi Organic Industries Limited LXCHEM.NS"
   ]
  },
  {
   "cell_type": "code",
   "execution_count": null,
   "id": "ea79bfd6",
   "metadata": {},
   "outputs": [],
   "source": [
    "ticker_plot(Laxmi, name = 'Laxmi Organic Industries Limited (LXCHEM.NS)')"
   ]
  },
  {
   "cell_type": "code",
   "execution_count": null,
   "id": "b277112a",
   "metadata": {},
   "outputs": [],
   "source": [
    "daily_stock_data_availability(Laxmi)"
   ]
  },
  {
   "cell_type": "markdown",
   "id": "03641956",
   "metadata": {},
   "source": [
    "# VMART - V-Mart Retail Limited (VMART.NS)"
   ]
  },
  {
   "cell_type": "code",
   "execution_count": null,
   "id": "5b9865dc",
   "metadata": {},
   "outputs": [],
   "source": [
    "Vmart = pd.read_csv('VMART.NS.csv')"
   ]
  },
  {
   "cell_type": "markdown",
   "id": "4b645b28",
   "metadata": {},
   "source": [
    "## Plotting VMART "
   ]
  },
  {
   "cell_type": "code",
   "execution_count": null,
   "id": "a6ab9396",
   "metadata": {},
   "outputs": [],
   "source": [
    "ticker_plot(Vmart, name = 'V-Mart Retail Limited')"
   ]
  },
  {
   "cell_type": "code",
   "execution_count": null,
   "id": "9582d73c",
   "metadata": {},
   "outputs": [],
   "source": [
    "daily_stock_data_availability(Vmart)"
   ]
  },
  {
   "cell_type": "markdown",
   "id": "e7fb8591",
   "metadata": {},
   "source": [
    "# DLF - DLF Limited (DLF.NS)"
   ]
  },
  {
   "cell_type": "code",
   "execution_count": null,
   "id": "57363d6c",
   "metadata": {},
   "outputs": [],
   "source": [
    "DLF = pd.read_csv('DLF.NS.csv')"
   ]
  },
  {
   "cell_type": "markdown",
   "id": "2aeaef2c",
   "metadata": {},
   "source": [
    "## Plotting DLF "
   ]
  },
  {
   "cell_type": "code",
   "execution_count": null,
   "id": "2f85f78d",
   "metadata": {},
   "outputs": [],
   "source": [
    "ticker_plot(DLF, name = 'DLF Limited')"
   ]
  },
  {
   "cell_type": "code",
   "execution_count": null,
   "id": "0df0a8da",
   "metadata": {},
   "outputs": [],
   "source": [
    "daily_stock_data_availability(DLF)"
   ]
  },
  {
   "cell_type": "markdown",
   "id": "bf4ac098",
   "metadata": {},
   "source": [
    "# IPCALAB - Ipca Laboratories Limited (IPCALAB.NS)"
   ]
  },
  {
   "cell_type": "code",
   "execution_count": null,
   "id": "4ca7c213",
   "metadata": {},
   "outputs": [],
   "source": [
    "Ipcalab = pd.read_csv('IPCALAB.NS.csv')"
   ]
  },
  {
   "cell_type": "markdown",
   "id": "412da019",
   "metadata": {},
   "source": [
    "## Plotting IPCALAB "
   ]
  },
  {
   "cell_type": "code",
   "execution_count": null,
   "id": "1ff5ab46",
   "metadata": {},
   "outputs": [],
   "source": [
    "ticker_plot(Ipcalab, name = 'IPCALAB')"
   ]
  },
  {
   "cell_type": "code",
   "execution_count": null,
   "id": "8022c99a",
   "metadata": {},
   "outputs": [],
   "source": [
    "daily_stock_data_availability(Ipcalab)"
   ]
  },
  {
   "cell_type": "markdown",
   "id": "1a2cf5f6",
   "metadata": {},
   "source": [
    "# ZFCVINDIA - ZF Commercial Vehicle Control Systems India Limited (ZFCVINDIA.NS)"
   ]
  },
  {
   "cell_type": "code",
   "execution_count": null,
   "id": "f1058ccc",
   "metadata": {},
   "outputs": [],
   "source": [
    "Zfc = pd.read_csv('ZFCVINDIA.NS.csv')"
   ]
  },
  {
   "cell_type": "markdown",
   "id": "3bd73cd3",
   "metadata": {},
   "source": [
    "## Plotting ZFCVINDIA"
   ]
  },
  {
   "cell_type": "code",
   "execution_count": null,
   "id": "dcadd0d4",
   "metadata": {},
   "outputs": [],
   "source": [
    "ticker_plot(Zfc, name = 'ZFCVINDIA')"
   ]
  },
  {
   "cell_type": "code",
   "execution_count": null,
   "id": "f0254fb4",
   "metadata": {},
   "outputs": [],
   "source": [
    "daily_stock_data_availability(Zfc)"
   ]
  },
  {
   "cell_type": "markdown",
   "id": "44f6a944",
   "metadata": {},
   "source": [
    "# Other data (features)"
   ]
  },
  {
   "cell_type": "markdown",
   "id": "89f1e3ec",
   "metadata": {},
   "source": [
    "## ^BSESN - S&P BSE SENSEX"
   ]
  },
  {
   "cell_type": "code",
   "execution_count": null,
   "id": "7dd6ceca",
   "metadata": {},
   "outputs": [],
   "source": [
    "BSESN = pd.read_csv('BSESN.csv')"
   ]
  },
  {
   "cell_type": "markdown",
   "id": "1cf96d93",
   "metadata": {},
   "source": [
    "### Plotting BSESN index"
   ]
  },
  {
   "cell_type": "code",
   "execution_count": null,
   "id": "6538666e",
   "metadata": {},
   "outputs": [],
   "source": [
    "ticker_plot(BSESN, name = 'S&P BSE SENSEX')"
   ]
  },
  {
   "cell_type": "code",
   "execution_count": null,
   "id": "dbdbc453",
   "metadata": {},
   "outputs": [],
   "source": [
    "daily_stock_data_availability(BSESN)"
   ]
  },
  {
   "cell_type": "markdown",
   "id": "816d51d3",
   "metadata": {},
   "source": [
    "## GSPC - S&P 500"
   ]
  },
  {
   "cell_type": "code",
   "execution_count": null,
   "id": "feb4160f",
   "metadata": {},
   "outputs": [],
   "source": [
    "SP500 = pd.read_csv('GSPC.csv')"
   ]
  },
  {
   "cell_type": "markdown",
   "id": "438bab46",
   "metadata": {},
   "source": [
    "### Plotting S&P500"
   ]
  },
  {
   "cell_type": "code",
   "execution_count": null,
   "id": "47e0b3c0",
   "metadata": {},
   "outputs": [],
   "source": [
    "ticker_plot(SP500, name = 'S&P 500')"
   ]
  },
  {
   "cell_type": "code",
   "execution_count": null,
   "id": "d0962ae6",
   "metadata": {},
   "outputs": [],
   "source": [
    "daily_stock_data_availability(SP500)"
   ]
  },
  {
   "cell_type": "markdown",
   "id": "32a69c38",
   "metadata": {},
   "source": [
    "## Crude Oil"
   ]
  },
  {
   "cell_type": "code",
   "execution_count": null,
   "id": "9ca19881",
   "metadata": {},
   "outputs": [],
   "source": [
    "clf = pd.read_csv('CL=F.csv')"
   ]
  },
  {
   "cell_type": "markdown",
   "id": "c4ce33e8",
   "metadata": {},
   "source": [
    "### Plotting CL=F price"
   ]
  },
  {
   "cell_type": "code",
   "execution_count": null,
   "id": "0f29b353",
   "metadata": {
    "scrolled": true
   },
   "outputs": [],
   "source": [
    "ticker_plot(clf, name = 'Crude Oil Price')"
   ]
  },
  {
   "cell_type": "code",
   "execution_count": null,
   "id": "f67b2361",
   "metadata": {
    "scrolled": true
   },
   "outputs": [],
   "source": [
    "daily_stock_data_availability(clf)"
   ]
  },
  {
   "cell_type": "markdown",
   "id": "ce489942",
   "metadata": {},
   "source": [
    "##  The Hang Seng Index HSI (Hong Kong)"
   ]
  },
  {
   "cell_type": "code",
   "execution_count": null,
   "id": "324861e7",
   "metadata": {},
   "outputs": [],
   "source": [
    "HSI = pd.read_csv('HSI.csv')"
   ]
  },
  {
   "cell_type": "code",
   "execution_count": null,
   "id": "42d5317d",
   "metadata": {},
   "outputs": [],
   "source": [
    "HSI.head()"
   ]
  },
  {
   "cell_type": "markdown",
   "id": "89576ac3",
   "metadata": {},
   "source": [
    "### Plotting HSI index"
   ]
  },
  {
   "cell_type": "code",
   "execution_count": null,
   "id": "485c1a49",
   "metadata": {
    "scrolled": true
   },
   "outputs": [],
   "source": [
    "ticker_plot(HSI, name = 'The Hang Seng Index HSI (Hong Kong)')"
   ]
  },
  {
   "cell_type": "code",
   "execution_count": null,
   "id": "8a7bb11b",
   "metadata": {
    "scrolled": true
   },
   "outputs": [],
   "source": [
    "daily_stock_data_availability(HSI)"
   ]
  },
  {
   "cell_type": "markdown",
   "id": "350c8318",
   "metadata": {},
   "source": [
    "## NIFTY 50"
   ]
  },
  {
   "cell_type": "code",
   "execution_count": null,
   "id": "430d16b0",
   "metadata": {},
   "outputs": [],
   "source": [
    "NIFTY = pd.read_csv('NIFTY50.csv')"
   ]
  },
  {
   "cell_type": "markdown",
   "id": "cf1e00fc",
   "metadata": {},
   "source": [
    "### Plotting Nifty 50 index"
   ]
  },
  {
   "cell_type": "code",
   "execution_count": null,
   "id": "4b803159",
   "metadata": {},
   "outputs": [],
   "source": [
    "ticker_plot(NIFTY, name = 'NIFTY 50')"
   ]
  },
  {
   "cell_type": "code",
   "execution_count": null,
   "id": "ed6f2bee",
   "metadata": {},
   "outputs": [],
   "source": [
    "daily_stock_data_availability(NIFTY)"
   ]
  },
  {
   "cell_type": "markdown",
   "id": "feeecb29",
   "metadata": {},
   "source": [
    "## STI - Singapore Index"
   ]
  },
  {
   "cell_type": "code",
   "execution_count": null,
   "id": "5334a628",
   "metadata": {},
   "outputs": [],
   "source": [
    "STI = pd.read_csv('STI.csv')"
   ]
  },
  {
   "cell_type": "markdown",
   "id": "6c9fb3f4",
   "metadata": {},
   "source": [
    "### Plotting STI index"
   ]
  },
  {
   "cell_type": "code",
   "execution_count": null,
   "id": "27793f11",
   "metadata": {},
   "outputs": [],
   "source": [
    "ticker_plot(STI, name = 'Singapore Index')"
   ]
  },
  {
   "cell_type": "code",
   "execution_count": null,
   "id": "eb3f1a19",
   "metadata": {},
   "outputs": [],
   "source": [
    "daily_stock_data_availability(STI)"
   ]
  },
  {
   "cell_type": "code",
   "execution_count": null,
   "id": "932fc533",
   "metadata": {},
   "outputs": [],
   "source": [
    "ls"
   ]
  },
  {
   "cell_type": "markdown",
   "id": "00361dc3",
   "metadata": {},
   "source": [
    "##  Interest ratio"
   ]
  },
  {
   "cell_type": "code",
   "execution_count": null,
   "id": "69584334",
   "metadata": {},
   "outputs": [],
   "source": [
    "interest_rate = pd.read_csv('interest_rate.csv')"
   ]
  },
  {
   "cell_type": "markdown",
   "id": "69db64b5",
   "metadata": {},
   "source": [
    "### Plotting Interest Ratio"
   ]
  },
  {
   "cell_type": "code",
   "execution_count": null,
   "id": "bf7e894e",
   "metadata": {},
   "outputs": [],
   "source": [
    "interest_rate"
   ]
  },
  {
   "cell_type": "code",
   "execution_count": null,
   "id": "d67c81e5",
   "metadata": {},
   "outputs": [],
   "source": [
    "daily_stock_data_availability(interest_rate)"
   ]
  },
  {
   "cell_type": "markdown",
   "id": "4850d61c",
   "metadata": {},
   "source": [
    "## USD/INR ratio"
   ]
  },
  {
   "cell_type": "code",
   "execution_count": null,
   "id": "7ab4d1ea",
   "metadata": {},
   "outputs": [],
   "source": [
    "INR_USD_ratio = pd.read_csv('INR=X.csv')"
   ]
  },
  {
   "cell_type": "code",
   "execution_count": null,
   "id": "c0582d2b",
   "metadata": {},
   "outputs": [],
   "source": [
    "INR_USD_ratio.head()"
   ]
  },
  {
   "cell_type": "markdown",
   "id": "c2ddc794",
   "metadata": {},
   "source": [
    "### Plotting USD/INR ratio"
   ]
  },
  {
   "cell_type": "code",
   "execution_count": null,
   "id": "3f038564",
   "metadata": {},
   "outputs": [],
   "source": [
    "ticker_plot(INR_USD_ratio, name = 'INR/USD ratio')"
   ]
  },
  {
   "cell_type": "code",
   "execution_count": null,
   "id": "ce698937",
   "metadata": {},
   "outputs": [],
   "source": [
    "daily_stock_data_availability(INR_USD_ratio)"
   ]
  },
  {
   "cell_type": "markdown",
   "id": "9837a4b7",
   "metadata": {},
   "source": [
    "##  USDX"
   ]
  },
  {
   "cell_type": "code",
   "execution_count": null,
   "id": "469ce54d",
   "metadata": {},
   "outputs": [],
   "source": [
    "USDX = pd.read_csv('USDX-Index.csv')"
   ]
  },
  {
   "cell_type": "markdown",
   "id": "33f4f678",
   "metadata": {},
   "source": [
    "### Plotting USDX"
   ]
  },
  {
   "cell_type": "code",
   "execution_count": null,
   "id": "7a0afe93",
   "metadata": {},
   "outputs": [],
   "source": [
    "ticker_plot(USDX, name = 'USDX')"
   ]
  },
  {
   "cell_type": "code",
   "execution_count": null,
   "id": "bce93ae9",
   "metadata": {},
   "outputs": [],
   "source": [
    "daily_stock_data_availability(USDX)"
   ]
  },
  {
   "cell_type": "markdown",
   "id": "347defa9",
   "metadata": {},
   "source": [
    "## US 10y Treasury Yield"
   ]
  },
  {
   "cell_type": "code",
   "execution_count": null,
   "id": "a977de5d",
   "metadata": {},
   "outputs": [],
   "source": [
    "tr_yield = pd.read_csv('Treasury_Yeild_10_Years.csv')"
   ]
  },
  {
   "cell_type": "markdown",
   "id": "f0719919",
   "metadata": {},
   "source": [
    "### Plotting 10y US Treasure yield"
   ]
  },
  {
   "cell_type": "code",
   "execution_count": null,
   "id": "ed7d8c13",
   "metadata": {},
   "outputs": [],
   "source": [
    "ticker_plot(tr_yield, name = 'US 10 year treasure yield')"
   ]
  },
  {
   "cell_type": "code",
   "execution_count": null,
   "id": "45214242",
   "metadata": {},
   "outputs": [],
   "source": [
    "daily_stock_data_availability(tr_yield)"
   ]
  },
  {
   "cell_type": "markdown",
   "id": "0dfe5f0f",
   "metadata": {},
   "source": [
    "## Shanghai Index SHA"
   ]
  },
  {
   "cell_type": "code",
   "execution_count": null,
   "id": "7411df3c",
   "metadata": {},
   "outputs": [],
   "source": [
    "SHA = pd.read_csv('SHA.csv')"
   ]
  },
  {
   "cell_type": "markdown",
   "id": "3e32f979",
   "metadata": {},
   "source": [
    "### Plotting Shanghai Index"
   ]
  },
  {
   "cell_type": "code",
   "execution_count": null,
   "id": "c071e477",
   "metadata": {},
   "outputs": [],
   "source": [
    "ticker_plot(SHA, name = 'Shanghai Index')"
   ]
  },
  {
   "cell_type": "code",
   "execution_count": null,
   "id": "2e2b9ebf",
   "metadata": {},
   "outputs": [],
   "source": [
    "daily_stock_data_availability(SHA)"
   ]
  },
  {
   "cell_type": "code",
   "execution_count": null,
   "id": "d868ae84",
   "metadata": {},
   "outputs": [],
   "source": []
  }
 ],
 "metadata": {
  "kernelspec": {
   "display_name": "Python 3 (ipykernel)",
   "language": "python",
   "name": "python3"
  },
  "language_info": {
   "codemirror_mode": {
    "name": "ipython",
    "version": 3
   },
   "file_extension": ".py",
   "mimetype": "text/x-python",
   "name": "python",
   "nbconvert_exporter": "python",
   "pygments_lexer": "ipython3",
   "version": "3.9.7"
  }
 },
 "nbformat": 4,
 "nbformat_minor": 5
}
