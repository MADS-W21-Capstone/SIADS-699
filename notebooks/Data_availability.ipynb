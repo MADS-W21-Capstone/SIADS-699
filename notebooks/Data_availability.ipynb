{
 "cells": [
  {
   "cell_type": "markdown",
   "id": "d54962a0",
   "metadata": {},
   "source": [
    "# Importing libraries"
   ]
  },
  {
   "cell_type": "code",
   "execution_count": 1,
   "id": "cfc41c45",
   "metadata": {},
   "outputs": [],
   "source": [
    "import pandas as pd\n",
    "import numpy as np\n",
    "import altair as alt"
   ]
  },
  {
   "cell_type": "code",
   "execution_count": null,
   "id": "d049b2d1",
   "metadata": {},
   "outputs": [],
   "source": [
    "# use the 538 theme\n",
    "alt.themes.enable('fivethirtyeight')"
   ]
  },
  {
   "cell_type": "markdown",
   "id": "b641cd80",
   "metadata": {},
   "source": [
    "#  Visualisation functions "
   ]
  },
  {
   "cell_type": "code",
   "execution_count": 3,
   "id": "4dd372ce",
   "metadata": {},
   "outputs": [],
   "source": [
    "def ticker_plot(df, name = 'Index plot'):\n",
    "    open_close_color = alt.condition(\"datum.Open <= datum.Close\",\n",
    "                                 alt.value(\"#006633\"),\n",
    "                                 alt.value(\"#FF0000\"))\n",
    "    df['Date'] = pd.to_datetime(df['Date'])\n",
    "\n",
    "    base = alt.Chart(df).encode(\n",
    "        x=alt.X('Date:T', title=\"Year\"),\n",
    "        color=open_close_color\n",
    "    ).properties(height = 250, width = 800)\n",
    "\n",
    "    bar = base.mark_bar(size=2).encode(\n",
    "        alt.Y('Open:Q'),\n",
    "        alt.Y2('Close:Q'))\n",
    "\n",
    "    brush = alt.selection_interval(encodings = ['x'])\n",
    "    view = base.mark_bar(size=1).encode(y = alt.Y('Volume:Q')).add_selection(brush).properties(width=800,height=50)\n",
    "\n",
    "    return (bar & view).properties(title = name)"
   ]
  },
  {
   "cell_type": "code",
   "execution_count": 4,
   "id": "69a0eb02",
   "metadata": {},
   "outputs": [],
   "source": [
    "def daily_stock_data_availability(input_DF):\n",
    "    input_DF['Date'] = pd.to_datetime(input_DF['Date'])\n",
    "    input_DF['year'] = input_DF['Date'].dt.year\n",
    "    data_availability ={}\n",
    "    years = input_DF['year'].unique()\n",
    "    for year in years:\n",
    "        year_df = input_DF[input_DF['year'] == year]\n",
    "        data_availability[year] = (year_df.count()/len(year_df)*100).to_dict()\n",
    "        data_availability[year]['total_rows'] = len(year_df)\n",
    "    df_data_availability = pd.DataFrame(data_availability)\n",
    "    total_rows_per_year = df_data_availability.iloc[-1,:]\n",
    "    total_rows_per_year = total_rows_per_year.to_frame().reset_index()\n",
    "    total_rows_per_year['index'] = pd.to_datetime(total_rows_per_year['index'], format='%Y')\n",
    "    visualization1 = alt.Chart(total_rows_per_year, title=\"Number of days stock data available for ticker\"\n",
    "                                       ).mark_bar(size=20, color = '#96EE77').encode(\n",
    "        x=alt.X('index:T', title='Year'),\n",
    "        y=alt.Y('total_rows:Q', title='Days'),\n",
    "        tooltip=[alt.Tooltip('total_rows', title='Stock day'), alt.Tooltip('index:T', format='%Y')]\n",
    "        ).properties(height = 350, width = 350)\n",
    "    \n",
    "    features_availability = df_data_availability.iloc[1:-2,:]\n",
    "    features_availability = features_availability.reset_index()\n",
    "    features_availability = features_availability.melt(id_vars=['index'])\n",
    "    base = alt.Chart(features_availability, title=\"Feature availability per year\").encode(\n",
    "        x=alt.X('index:N', title=\"Feature\"),\n",
    "        y=alt.Y('variable:N', title=\"Year\")\n",
    "    ).properties(height = 350, width = 1450)\n",
    "\n",
    "    heatmap = base.mark_rect(stroke='white',strokeWidth=1).encode(\n",
    "        color=alt.Color('value:Q', title=\"Percentage\", scale=alt.Scale(domain=[20, 100],\n",
    "                                          scheme='viridis', reverse=True)))\n",
    "\n",
    "    text = base.mark_text(baseline='middle', color='white', size=6).encode(\n",
    "        text=alt.Text ('value:Q', format='.1f'),\n",
    "        color=alt.condition(alt.expr.datum['value'] > 30,\n",
    "                                alt.value('white'),\n",
    "                                alt.value('black')))\n",
    "\n",
    "\n",
    "    visualization2 = (heatmap + text)\n",
    "    \n",
    "    return visualization1 | visualization2"
   ]
  },
  {
   "cell_type": "markdown",
   "id": "dbe3c2db",
   "metadata": {},
   "source": [
    "# ELGIEQUIP - ELGI Equipments Ltd"
   ]
  },
  {
   "cell_type": "code",
   "execution_count": null,
   "id": "bda41c35",
   "metadata": {},
   "outputs": [],
   "source": [
    "ELGIEQUIP = pd.read_csv('../datasets/rawdata/rawdata_bse_500/ELGIEQUIP.BO.csv')"
   ]
  },
  {
   "cell_type": "markdown",
   "id": "71c18615",
   "metadata": {},
   "source": [
    "## Plotting ELGI Equipments Ltd"
   ]
  },
  {
   "cell_type": "code",
   "execution_count": null,
   "id": "d5f0f72c",
   "metadata": {},
   "outputs": [],
   "source": [
    "ticker_plot(ELGIEQUIP, name = 'ELGIEQUIP - ELGI Equipments Ltd')"
   ]
  },
  {
   "cell_type": "code",
   "execution_count": null,
   "id": "f7dfcd24",
   "metadata": {},
   "outputs": [],
   "source": [
    "daily_stock_data_availability(ELGIEQUIP)"
   ]
  },
  {
   "cell_type": "markdown",
   "id": "e4803c1a",
   "metadata": {},
   "source": [
    "# TV18BRDCST - TV18 Broadcast Ltd"
   ]
  },
  {
   "cell_type": "code",
   "execution_count": null,
   "id": "8766f188",
   "metadata": {},
   "outputs": [],
   "source": [
    "TV18BRDCST = pd.read_csv('../datasets/rawdata/rawdata_bse_500/TV18BRDCST.BO.csv')"
   ]
  },
  {
   "cell_type": "markdown",
   "id": "25d4b1d7",
   "metadata": {},
   "source": [
    "##  Plotting TV18 Broadcast Ltd"
   ]
  },
  {
   "cell_type": "code",
   "execution_count": null,
   "id": "5393a579",
   "metadata": {},
   "outputs": [],
   "source": [
    "ticker_plot(TV18BRDCST, name = 'TV18 Broadcast Ltd')"
   ]
  },
  {
   "cell_type": "code",
   "execution_count": null,
   "id": "8fb0432a",
   "metadata": {},
   "outputs": [],
   "source": [
    "daily_stock_data_availability(TV18BRDCST)"
   ]
  },
  {
   "cell_type": "markdown",
   "id": "dcbad23c",
   "metadata": {},
   "source": [
    "# IPCALAB - IPCA Laboratories Ltd"
   ]
  },
  {
   "cell_type": "code",
   "execution_count": null,
   "id": "31692409",
   "metadata": {},
   "outputs": [],
   "source": [
    "IPCALAB = pd.read_csv('../datasets/rawdata/rawdata_bse_500/IPCALAB.BO.csv')"
   ]
  },
  {
   "cell_type": "markdown",
   "id": "c48da343",
   "metadata": {},
   "source": [
    "##  Plotting IPCA Laboratories Ltd"
   ]
  },
  {
   "cell_type": "code",
   "execution_count": null,
   "id": "712f02b0",
   "metadata": {},
   "outputs": [],
   "source": [
    "ticker_plot(IPCALAB, name = 'IPCA Laboratories Ltd')"
   ]
  },
  {
   "cell_type": "code",
   "execution_count": null,
   "id": "405678a5",
   "metadata": {},
   "outputs": [],
   "source": [
    "daily_stock_data_availability(IPCALAB)"
   ]
  },
  {
   "cell_type": "markdown",
   "id": "b27a2477",
   "metadata": {},
   "source": [
    "# PGHL - Procter & Gamble Health Ltd"
   ]
  },
  {
   "cell_type": "code",
   "execution_count": null,
   "id": "efe15347",
   "metadata": {},
   "outputs": [],
   "source": [
    "PGHL = pd.read_csv('../datasets/rawdata/rawdata_bse_500/PGHL.BO.csv')"
   ]
  },
  {
   "cell_type": "markdown",
   "id": "100f58fb",
   "metadata": {},
   "source": [
    "## Plotting Procter & Gamble Health Ltd"
   ]
  },
  {
   "cell_type": "code",
   "execution_count": null,
   "id": "32dc6fb2",
   "metadata": {
    "scrolled": false
   },
   "outputs": [],
   "source": [
    "ticker_plot(PGHL, name = 'Procter & Gamble Health Ltd')"
   ]
  },
  {
   "cell_type": "code",
   "execution_count": null,
   "id": "36ba74ce",
   "metadata": {},
   "outputs": [],
   "source": [
    "daily_stock_data_availability(PGHL)"
   ]
  },
  {
   "cell_type": "markdown",
   "id": "aeec4bd3",
   "metadata": {},
   "source": [
    "# EIHOTEL - EIH Ltd"
   ]
  },
  {
   "cell_type": "code",
   "execution_count": null,
   "id": "bd6e73eb",
   "metadata": {},
   "outputs": [],
   "source": [
    "EIHOTEL = pd.read_csv('../datasets/rawdata/rawdata_bse_500/EIHOTEL.BO.csv')"
   ]
  },
  {
   "cell_type": "markdown",
   "id": "a2edcb39",
   "metadata": {},
   "source": [
    "## Plotting EIH Ltd"
   ]
  },
  {
   "cell_type": "code",
   "execution_count": null,
   "id": "ea79bfd6",
   "metadata": {},
   "outputs": [],
   "source": [
    "ticker_plot(EIHOTEL, name = 'EIH Ltd')"
   ]
  },
  {
   "cell_type": "code",
   "execution_count": null,
   "id": "b277112a",
   "metadata": {},
   "outputs": [],
   "source": [
    "daily_stock_data_availability(EIHOTEL)"
   ]
  }
 ],
 "metadata": {
  "kernelspec": {
   "display_name": "Python 3 (ipykernel)",
   "language": "python",
   "name": "python3"
  },
  "language_info": {
   "codemirror_mode": {
    "name": "ipython",
    "version": 3
   },
   "file_extension": ".py",
   "mimetype": "text/x-python",
   "name": "python",
   "nbconvert_exporter": "python",
   "pygments_lexer": "ipython3",
   "version": "3.9.7"
  }
 },
 "nbformat": 4,
 "nbformat_minor": 5
}
