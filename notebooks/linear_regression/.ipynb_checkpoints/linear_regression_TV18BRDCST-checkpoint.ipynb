{
 "cells": [
  {
   "cell_type": "code",
   "execution_count": 1,
   "id": "8afc5231",
   "metadata": {},
   "outputs": [],
   "source": [
    "import pandas as pd\n",
    "import seaborn as sns\n",
    "import matplotlib.pyplot as plt\n",
    "import numpy as np\n",
    "\n",
    "from sklearn.model_selection import train_test_split\n",
    "from sklearn.feature_selection import SelectFromModel\n",
    "from sklearn.preprocessing import StandardScaler\n",
    "from sklearn.metrics import mean_squared_error, r2_score, mean_absolute_percentage_error\n",
    "from sklearn.feature_selection import SelectKBest, f_regression\n",
    "from sklearn.linear_model import LinearRegression\n",
    "from sklearn.model_selection import GridSearchCV"
   ]
  },
  {
   "cell_type": "code",
   "execution_count": 2,
   "id": "0441e2f4",
   "metadata": {},
   "outputs": [],
   "source": [
    "df = pd.read_csv('../../datasets/processed_data/combined_features/TV18BRDCST.BO.csv')"
   ]
  },
  {
   "cell_type": "code",
   "execution_count": 3,
   "id": "7cd6615f",
   "metadata": {},
   "outputs": [
    {
     "data": {
      "text/plain": [
       "Index(['date', 'open', 'close', 'adj close', 'volume', 'low', 'high',\n",
       "       'volume_adi', 'volume_obv', 'volume_cmf',\n",
       "       ...\n",
       "       'inr=x_percent_change', 'cl=f_percent_change',\n",
       "       'treasury_yeild_10_years_percent_change', 'usdx-index_percent_change',\n",
       "       '^nsei_percent_change', '^bsesn_percent_change', '^gspc_percent_change',\n",
       "       'hsi_percent_change', 'sha_percent_change', '^sti_percent_change'],\n",
       "      dtype='object', length=635)"
      ]
     },
     "execution_count": 3,
     "metadata": {},
     "output_type": "execute_result"
    }
   ],
   "source": [
    "df.columns"
   ]
  },
  {
   "cell_type": "code",
   "execution_count": 4,
   "id": "8d95330e",
   "metadata": {},
   "outputs": [],
   "source": [
    "def create_custom_target(df: pd.DataFrame) -> pd.DataFrame:\n",
    "    \"\"\"\n",
    "    This function creates the custom target price, which is computed as ln(high/yesterday_close)\n",
    "    \"\"\"    \n",
    "    # make a copy of the dataframe so as not to change the original dataframe\n",
    "    data_df = df.copy()\n",
    "    \n",
    "    # create yesterday_close feature as\n",
    "    data_df['yesterday_close'] = data_df['close'].shift(1)\n",
    "    \n",
    "    # create custom target price to predict, computing  ln(high/yesterday_close)\n",
    "    data_df['ln_target'] = np.log(data_df['high'] / data_df['yesterday_close'])\n",
    "    \n",
    "    # as yesterday close would not be available for first day, \n",
    "    # we would not have custom target price for that day, which needs to be excluded \n",
    "    return(data_df.iloc[1:, ])"
   ]
  },
  {
   "cell_type": "code",
   "execution_count": 5,
   "id": "c531119f",
   "metadata": {},
   "outputs": [],
   "source": [
    "df = create_custom_target(df)"
   ]
  },
  {
   "cell_type": "code",
   "execution_count": 6,
   "id": "813fe5cf",
   "metadata": {},
   "outputs": [
    {
     "data": {
      "text/plain": [
       "1       110.349998\n",
       "2       107.349998\n",
       "3       101.000000\n",
       "4       100.800003\n",
       "5        98.599998\n",
       "           ...    \n",
       "4016     34.220001\n",
       "4017     34.220001\n",
       "4018     34.360001\n",
       "4019     34.220001\n",
       "4020     35.270000\n",
       "Name: yesterday_close, Length: 4020, dtype: float64"
      ]
     },
     "execution_count": 6,
     "metadata": {},
     "output_type": "execute_result"
    }
   ],
   "source": [
    "df['yesterday_close']"
   ]
  },
  {
   "cell_type": "code",
   "execution_count": 7,
   "id": "cadfb265",
   "metadata": {},
   "outputs": [
    {
     "data": {
      "text/plain": [
       "1       0.001358\n",
       "2       0.013417\n",
       "3       0.013278\n",
       "4       0.037961\n",
       "5      -0.037194\n",
       "          ...   \n",
       "4016    0.044579\n",
       "4017    0.022538\n",
       "4018    0.026707\n",
       "4019    0.038130\n",
       "4020    0.007907\n",
       "Name: ln_target, Length: 4020, dtype: float64"
      ]
     },
     "execution_count": 7,
     "metadata": {},
     "output_type": "execute_result"
    }
   ],
   "source": [
    "df['ln_target'] "
   ]
  },
  {
   "cell_type": "code",
   "execution_count": 8,
   "id": "153f8860",
   "metadata": {},
   "outputs": [],
   "source": [
    "# Drop cols with NaN values\n",
    "df = df.dropna(axis=1, how='all')\n",
    "df.fillna(method='ffill', inplace=True)"
   ]
  },
  {
   "cell_type": "code",
   "execution_count": 9,
   "id": "2e2e8182",
   "metadata": {},
   "outputs": [],
   "source": [
    "combined_date_df = df['date']\n",
    "train_date, test_date = train_test_split(combined_date_df, train_size=0.8, shuffle=False)"
   ]
  },
  {
   "cell_type": "code",
   "execution_count": 10,
   "id": "65cfd022",
   "metadata": {},
   "outputs": [],
   "source": [
    "df_without_date = df.drop(columns=[\"date\"])"
   ]
  },
  {
   "cell_type": "code",
   "execution_count": 11,
   "id": "2fbd9cf5",
   "metadata": {},
   "outputs": [],
   "source": [
    "df_without_date.dropna(inplace=True)"
   ]
  },
  {
   "cell_type": "code",
   "execution_count": 12,
   "id": "d94c6d7d",
   "metadata": {},
   "outputs": [],
   "source": [
    "def timeseries_to_supervise(df, window_size, target):    \n",
    "    X = []\n",
    "    y = []\n",
    "    indx = []\n",
    "    no_records = len(df)\n",
    "    #     \n",
    "    for i in range(window_size, no_records):\n",
    "        X.append(df.iloc[i-window_size:i].drop(target, axis=1).values.flatten())  # Collect past records as a sequence\n",
    "        y.append(df.iloc[i][target])  # Next record as target variable\n",
    "        indx.append(np.arange(i-window_size, i))\n",
    "\n",
    "    X = pd.DataFrame(X)\n",
    "    y = pd.Series(y)\n",
    "    return(X, y, indx)"
   ]
  },
  {
   "cell_type": "code",
   "execution_count": 13,
   "id": "526d0ec6",
   "metadata": {},
   "outputs": [],
   "source": [
    "window_size = 10"
   ]
  },
  {
   "cell_type": "code",
   "execution_count": 14,
   "id": "4994f22b",
   "metadata": {},
   "outputs": [
    {
     "data": {
      "text/plain": [
       "[616, 618, 619, 621, 623, 622]"
      ]
     },
     "execution_count": 14,
     "metadata": {},
     "output_type": "execute_result"
    }
   ],
   "source": [
    "# do train/test split the data with shuffle = False\n",
    "train_data, test_data = train_test_split(df_without_date, train_size=0.8, shuffle=False)\n",
    "\n",
    "# Identify the indices of the specified sentiment columns in the original dataset\n",
    "sentiment_columns = ['agg_polarity', 'agg_compound', 'topic_polarity', 'topic_compound', 'ticker_polarity', 'ticker_compound']\n",
    "column_indices = [train_data.columns.get_loc(col) for col in sentiment_columns if col in train_data.columns]\n",
    "\n",
    "column_indices"
   ]
  },
  {
   "cell_type": "code",
   "execution_count": 15,
   "id": "97d361f9",
   "metadata": {},
   "outputs": [],
   "source": [
    "# convert timeseries to be used in supervise learning model\n",
    "X_train, y_train, indx_train = timeseries_to_supervise(train_data, window_size, 'ln_target')  \n",
    "\n",
    "# convert timeseries to be used in supervise learning model    \n",
    "X_test, y_test, indx_test = timeseries_to_supervise(test_data, window_size, 'ln_target')  "
   ]
  },
  {
   "cell_type": "code",
   "execution_count": 16,
   "id": "2b44ab84",
   "metadata": {},
   "outputs": [],
   "source": [
    "# Use SelectKBest to select the top 44 features\n",
    "selector = SelectKBest(score_func=f_regression, k=44)\n",
    "X_train_44 = selector.fit_transform(X_train, y_train)\n",
    "X_test_44 = selector.transform(X_test)\n",
    "\n",
    "# Determine if the specified columns are among the top 44 features\n",
    "selected_indices = selector.get_support(indices=True)\n",
    "missing_indices = [idx for idx in column_indices if idx not in selected_indices]\n",
    "\n",
    "# Add the specified columns if they are not among the top 44 features\n",
    "for idx in missing_indices:\n",
    "    extracted_column_train = X_train.iloc[:, idx].values.reshape(-1, 1)\n",
    "    extracted_column_test = X_test.iloc[:, idx].values.reshape(-1, 1)\n",
    "    X_train_44 = np.hstack([X_train_44, extracted_column_train])\n",
    "    X_test_44 = np.hstack([X_test_44, extracted_column_test])\n",
    "\n",
    "# If some of the specified columns were already in the top 44, \n",
    "# select additional top features to make the total count 50\n",
    "remaining_indices = [i for i in range(X_train.shape[1]) if i not in selected_indices and i not in missing_indices]\n",
    "num_additional_features_needed = 50 - X_train_44.shape[1]\n",
    "\n",
    "if num_additional_features_needed > 0:\n",
    "    additional_selector = SelectKBest(score_func=f_regression, k=num_additional_features_needed)\n",
    "    additional_selector.fit(X_train.iloc[:, remaining_indices], y_train)\n",
    "    X_train_additional = additional_selector.transform(X_train.iloc[:, remaining_indices])\n",
    "    X_test_additional = additional_selector.transform(X_test.iloc[:, remaining_indices])\n",
    "\n",
    "    X_train_44 = np.hstack([X_train_44, X_train_additional])\n",
    "    X_test_44 = np.hstack([X_test_44, X_test_additional])\n",
    "\n",
    "X_train_50 = X_train_44\n",
    "X_test_50 = X_test_44"
   ]
  },
  {
   "cell_type": "code",
   "execution_count": 17,
   "id": "6da80680",
   "metadata": {},
   "outputs": [
    {
     "name": "stdout",
     "output_type": "stream",
     "text": [
      "Best parameters:  {'fit_intercept': False}\n",
      "Best cross-validation score:  0.0020218152451294594\n"
     ]
    },
    {
     "data": {
      "text/html": [
       "<style>#sk-container-id-1 {color: black;background-color: white;}#sk-container-id-1 pre{padding: 0;}#sk-container-id-1 div.sk-toggleable {background-color: white;}#sk-container-id-1 label.sk-toggleable__label {cursor: pointer;display: block;width: 100%;margin-bottom: 0;padding: 0.3em;box-sizing: border-box;text-align: center;}#sk-container-id-1 label.sk-toggleable__label-arrow:before {content: \"▸\";float: left;margin-right: 0.25em;color: #696969;}#sk-container-id-1 label.sk-toggleable__label-arrow:hover:before {color: black;}#sk-container-id-1 div.sk-estimator:hover label.sk-toggleable__label-arrow:before {color: black;}#sk-container-id-1 div.sk-toggleable__content {max-height: 0;max-width: 0;overflow: hidden;text-align: left;background-color: #f0f8ff;}#sk-container-id-1 div.sk-toggleable__content pre {margin: 0.2em;color: black;border-radius: 0.25em;background-color: #f0f8ff;}#sk-container-id-1 input.sk-toggleable__control:checked~div.sk-toggleable__content {max-height: 200px;max-width: 100%;overflow: auto;}#sk-container-id-1 input.sk-toggleable__control:checked~label.sk-toggleable__label-arrow:before {content: \"▾\";}#sk-container-id-1 div.sk-estimator input.sk-toggleable__control:checked~label.sk-toggleable__label {background-color: #d4ebff;}#sk-container-id-1 div.sk-label input.sk-toggleable__control:checked~label.sk-toggleable__label {background-color: #d4ebff;}#sk-container-id-1 input.sk-hidden--visually {border: 0;clip: rect(1px 1px 1px 1px);clip: rect(1px, 1px, 1px, 1px);height: 1px;margin: -1px;overflow: hidden;padding: 0;position: absolute;width: 1px;}#sk-container-id-1 div.sk-estimator {font-family: monospace;background-color: #f0f8ff;border: 1px dotted black;border-radius: 0.25em;box-sizing: border-box;margin-bottom: 0.5em;}#sk-container-id-1 div.sk-estimator:hover {background-color: #d4ebff;}#sk-container-id-1 div.sk-parallel-item::after {content: \"\";width: 100%;border-bottom: 1px solid gray;flex-grow: 1;}#sk-container-id-1 div.sk-label:hover label.sk-toggleable__label {background-color: #d4ebff;}#sk-container-id-1 div.sk-serial::before {content: \"\";position: absolute;border-left: 1px solid gray;box-sizing: border-box;top: 0;bottom: 0;left: 50%;z-index: 0;}#sk-container-id-1 div.sk-serial {display: flex;flex-direction: column;align-items: center;background-color: white;padding-right: 0.2em;padding-left: 0.2em;position: relative;}#sk-container-id-1 div.sk-item {position: relative;z-index: 1;}#sk-container-id-1 div.sk-parallel {display: flex;align-items: stretch;justify-content: center;background-color: white;position: relative;}#sk-container-id-1 div.sk-item::before, #sk-container-id-1 div.sk-parallel-item::before {content: \"\";position: absolute;border-left: 1px solid gray;box-sizing: border-box;top: 0;bottom: 0;left: 50%;z-index: -1;}#sk-container-id-1 div.sk-parallel-item {display: flex;flex-direction: column;z-index: 1;position: relative;background-color: white;}#sk-container-id-1 div.sk-parallel-item:first-child::after {align-self: flex-end;width: 50%;}#sk-container-id-1 div.sk-parallel-item:last-child::after {align-self: flex-start;width: 50%;}#sk-container-id-1 div.sk-parallel-item:only-child::after {width: 0;}#sk-container-id-1 div.sk-dashed-wrapped {border: 1px dashed gray;margin: 0 0.4em 0.5em 0.4em;box-sizing: border-box;padding-bottom: 0.4em;background-color: white;}#sk-container-id-1 div.sk-label label {font-family: monospace;font-weight: bold;display: inline-block;line-height: 1.2em;}#sk-container-id-1 div.sk-label-container {text-align: center;}#sk-container-id-1 div.sk-container {/* jupyter's `normalize.less` sets `[hidden] { display: none; }` but bootstrap.min.css set `[hidden] { display: none !important; }` so we also need the `!important` here to be able to override the default hidden behavior on the sphinx rendered scikit-learn.org. See: https://github.com/scikit-learn/scikit-learn/issues/21755 */display: inline-block !important;position: relative;}#sk-container-id-1 div.sk-text-repr-fallback {display: none;}</style><div id=\"sk-container-id-1\" class=\"sk-top-container\"><div class=\"sk-text-repr-fallback\"><pre>LinearRegression(fit_intercept=False)</pre><b>In a Jupyter environment, please rerun this cell to show the HTML representation or trust the notebook. <br />On GitHub, the HTML representation is unable to render, please try loading this page with nbviewer.org.</b></div><div class=\"sk-container\" hidden><div class=\"sk-item\"><div class=\"sk-estimator sk-toggleable\"><input class=\"sk-toggleable__control sk-hidden--visually\" id=\"sk-estimator-id-1\" type=\"checkbox\" checked><label for=\"sk-estimator-id-1\" class=\"sk-toggleable__label sk-toggleable__label-arrow\">LinearRegression</label><div class=\"sk-toggleable__content\"><pre>LinearRegression(fit_intercept=False)</pre></div></div></div></div></div>"
      ],
      "text/plain": [
       "LinearRegression(fit_intercept=False)"
      ]
     },
     "execution_count": 17,
     "metadata": {},
     "output_type": "execute_result"
    }
   ],
   "source": [
    "linear_reg = LinearRegression()\n",
    "\n",
    "param_grid = {\n",
    "    'fit_intercept': [True, False],         \n",
    "}\n",
    "\n",
    "grid_search = GridSearchCV(linear_reg, param_grid, cv=5, scoring='neg_mean_squared_error', n_jobs=-1)\n",
    "grid_search.fit(X_train_50, y_train)\n",
    "\n",
    "print(\"Best parameters: \", grid_search.best_params_)\n",
    "print(\"Best cross-validation score: \", -grid_search.best_score_)\n",
    "\n",
    "model_50 = grid_search.best_estimator_\n",
    "model_50.fit(X_train_50, y_train)"
   ]
  },
  {
   "cell_type": "code",
   "execution_count": 18,
   "id": "bcc0a169",
   "metadata": {},
   "outputs": [],
   "source": [
    "def convert_custom_target_to_actual_for_supervise(df: pd.DataFrame, window: int, y: \"pd.Series[int]\") -> \"pd.Series[int]\":\n",
    "    \"\"\"\n",
    "    this module converts custom target - ln(high/yesterday_close) to actual high price again for timeseries converted data using rolling         window of size 10\n",
    "    \"\"\"\n",
    "    data_df = df.copy()\n",
    "    \n",
    "    # exclude first 10 rows of train/test data, as while us\n",
    "    \n",
    "    y = np.exp(y) * data_df.loc[data_df.index[window:], 'yesterday_close'].reset_index(drop=True)\n",
    "    return(y)    "
   ]
  },
  {
   "cell_type": "code",
   "execution_count": 19,
   "id": "9b6bbe36",
   "metadata": {},
   "outputs": [],
   "source": [
    "def evaluate_model(model, window, test_data, test_date, X_test, y_test):\n",
    "    \n",
    "    # do target prediction using the provide model\n",
    "    y_pred = model.predict(X_test)\n",
    "\n",
    "    # convert back to original value, before computing mape            \n",
    "    y_test = convert_custom_target_to_actual_for_supervise(test_data, window, y_test)\n",
    "    y_pred = convert_custom_target_to_actual_for_supervise(test_data, window, y_pred)\n",
    "\n",
    "    test_dates = test_date[window:].reset_index(drop=True)\n",
    "    predictions_df = pd.DataFrame({'date': test_dates, 'y_test': y_test, 'y_pred': y_pred})\n",
    "\n",
    "    # compute regression metric - mape \n",
    "    mape = mean_absolute_percentage_error(y_test, y_pred)\n",
    "\n",
    "    # compute rmse metric\n",
    "    rmse = mean_squared_error(y_test, y_pred, squared=False)        \n",
    "    return(predictions_df, mape, rmse)"
   ]
  },
  {
   "cell_type": "code",
   "execution_count": 20,
   "id": "54eb339d",
   "metadata": {},
   "outputs": [],
   "source": [
    "predictions_df, mape, rmse = evaluate_model(model_50, window_size, test_data, test_date, X_test_50, y_test)"
   ]
  },
  {
   "cell_type": "code",
   "execution_count": 21,
   "id": "18f47e9f",
   "metadata": {},
   "outputs": [
    {
     "data": {
      "text/plain": [
       "(           date     y_test     y_pred\n",
       " 0    2020-10-29  29.500000  30.706082\n",
       " 1    2020-10-30  29.500000  29.947549\n",
       " 2    2020-11-02  29.900000  29.406982\n",
       " 3    2020-11-03  28.400000  28.691628\n",
       " 4    2020-11-04  28.299999  28.691019\n",
       " ..          ...        ...        ...\n",
       " 789  2023-05-24  35.779999  35.104723\n",
       " 790  2023-05-25  35.000000  35.196334\n",
       " 791  2023-05-26  35.290001  35.070036\n",
       " 792  2023-05-30  35.549999  35.036366\n",
       " 793  2023-05-31  35.549999  36.075193\n",
       " \n",
       " [794 rows x 3 columns],\n",
       " 0.023798390860478833,\n",
       " 2.7113313367642244)"
      ]
     },
     "execution_count": 21,
     "metadata": {},
     "output_type": "execute_result"
    }
   ],
   "source": [
    "predictions_df, mape, rmse"
   ]
  },
  {
   "cell_type": "code",
   "execution_count": 22,
   "id": "b9ba15e3",
   "metadata": {},
   "outputs": [
    {
     "name": "stdout",
     "output_type": "stream",
     "text": [
      "MAPE for model with top 50 features: 2.38%\n"
     ]
    }
   ],
   "source": [
    "print(f\"MAPE for model with top 50 features: {mape*100:.2f}%\")"
   ]
  },
  {
   "cell_type": "code",
   "execution_count": 23,
   "id": "ab352ea4",
   "metadata": {},
   "outputs": [],
   "source": [
    "predictions_df.to_csv(\"lr_TV18BRDCST.csv\", index=False)"
   ]
  },
  {
   "cell_type": "code",
   "execution_count": null,
   "id": "456e1fc6",
   "metadata": {},
   "outputs": [],
   "source": [
    "import altair as alt\n",
    "\n",
    "alt.themes.enable('fivethirtyeight')\n",
    "\n",
    "predictions_df['date'] = pd.to_datetime(predictions_df['date'])\n",
    "\n",
    "predictions_df['label'] = 'Actual'\n",
    "predictions_df['predicted_label'] = 'Predicted'\n",
    "\n",
    "# Actual high price line\n",
    "line1 = alt.Chart(predictions_df).mark_line(strokeWidth=2).encode(\n",
    "    x='date:T',\n",
    "    y=alt.Y('y_test:Q', title='Price', scale=alt.Scale(zero=False)),\n",
    "    color=alt.Color('label:N', legend=alt.Legend(title=\"Line Type\")),\n",
    "    tooltip=['date', 'y_test', 'y_pred']\n",
    ")\n",
    "\n",
    "# Predicted high price line\n",
    "line2 = alt.Chart(predictions_df).mark_line(strokeWidth=1, strokeDash=[3, 3]).encode(\n",
    "    x='date:T',\n",
    "    y=alt.Y('y_pred:Q', title='', scale=alt.Scale(zero=False)),\n",
    "    color=alt.Color('predicted_label:N', legend=alt.Legend(title=\"Line Type\")),\n",
    "    tooltip=['date', 'y_test', 'y_pred']\n",
    ")\n",
    "\n",
    "# Combine the two lines\n",
    "chart = alt.layer(line1, line2).properties(\n",
    "    title='Actual vs Predicted High Prices',\n",
    "    width=650,\n",
    "    height=400\n",
    ").interactive()\n",
    "\n",
    "chart"
   ]
  },
  {
   "cell_type": "markdown",
   "id": "d453cdc1",
   "metadata": {},
   "source": [
    "Repeat the process for the top 50 features without sentiment of TV18BRDCST.BO"
   ]
  },
  {
   "cell_type": "code",
   "execution_count": 182,
   "id": "bedc54d2",
   "metadata": {},
   "outputs": [],
   "source": [
    "df = pd.read_csv('../../datasets/processed_data/combined_features/TV18BRDCST.BO.csv')"
   ]
  },
  {
   "cell_type": "code",
   "execution_count": 183,
   "id": "f58c8330",
   "metadata": {},
   "outputs": [],
   "source": [
    "df_without_sentiment = df.drop(columns=['agg_polarity', 'agg_compound', 'topic_polarity', 'topic_compound', 'ticker_polarity', 'ticker_compound'])"
   ]
  },
  {
   "cell_type": "code",
   "execution_count": 184,
   "id": "f685ca3d",
   "metadata": {},
   "outputs": [],
   "source": [
    "df_without_sentiment = create_custom_target(df_without_sentiment)"
   ]
  },
  {
   "cell_type": "code",
   "execution_count": 185,
   "id": "b5eab8ac",
   "metadata": {},
   "outputs": [],
   "source": [
    "# Drop cols with NaN values\n",
    "df_without_sentiment = df_without_sentiment.dropna(axis=1, how='all')\n",
    "df_without_sentiment.fillna(method='ffill', inplace=True)"
   ]
  },
  {
   "cell_type": "code",
   "execution_count": 186,
   "id": "601bfb89",
   "metadata": {},
   "outputs": [],
   "source": [
    "combined_date_df = df_without_sentiment['date']\n",
    "train_date, test_date = train_test_split(combined_date_df, train_size=0.8, shuffle=False)"
   ]
  },
  {
   "cell_type": "code",
   "execution_count": 187,
   "id": "0344f669",
   "metadata": {},
   "outputs": [],
   "source": [
    "df_without_date = df_without_sentiment.drop(columns=[\"date\"])"
   ]
  },
  {
   "cell_type": "code",
   "execution_count": 150,
   "id": "078527e2",
   "metadata": {},
   "outputs": [],
   "source": [
    "df_without_date.dropna(inplace=True)"
   ]
  },
  {
   "cell_type": "code",
   "execution_count": 151,
   "id": "35263d3b",
   "metadata": {},
   "outputs": [],
   "source": [
    "# do train/test split the data with shuffle = False\n",
    "train_data, test_data = train_test_split(df_without_date, train_size=0.8, shuffle=False)\n",
    "\n",
    "# convert timeseries to be used in supervise learning model\n",
    "X_train, y_train, indx_train = timeseries_to_supervise(train_data, window_size, 'ln_target')  \n",
    "\n",
    "# convert timeseries to be used in supervise learning model    \n",
    "X_test, y_test, indx_test = timeseries_to_supervise(test_data, window_size, 'ln_target')  "
   ]
  },
  {
   "cell_type": "code",
   "execution_count": 152,
   "id": "9989d906",
   "metadata": {},
   "outputs": [],
   "source": [
    "selector = SelectKBest(score_func=f_regression, k=50)\n",
    "X_train_50 = selector.fit_transform(X_train, y_train)\n",
    "X_test_50 = selector.transform(X_test)"
   ]
  },
  {
   "cell_type": "code",
   "execution_count": 153,
   "id": "553c63a5",
   "metadata": {},
   "outputs": [
    {
     "data": {
      "text/html": [
       "<style>#sk-container-id-8 {color: black;background-color: white;}#sk-container-id-8 pre{padding: 0;}#sk-container-id-8 div.sk-toggleable {background-color: white;}#sk-container-id-8 label.sk-toggleable__label {cursor: pointer;display: block;width: 100%;margin-bottom: 0;padding: 0.3em;box-sizing: border-box;text-align: center;}#sk-container-id-8 label.sk-toggleable__label-arrow:before {content: \"▸\";float: left;margin-right: 0.25em;color: #696969;}#sk-container-id-8 label.sk-toggleable__label-arrow:hover:before {color: black;}#sk-container-id-8 div.sk-estimator:hover label.sk-toggleable__label-arrow:before {color: black;}#sk-container-id-8 div.sk-toggleable__content {max-height: 0;max-width: 0;overflow: hidden;text-align: left;background-color: #f0f8ff;}#sk-container-id-8 div.sk-toggleable__content pre {margin: 0.2em;color: black;border-radius: 0.25em;background-color: #f0f8ff;}#sk-container-id-8 input.sk-toggleable__control:checked~div.sk-toggleable__content {max-height: 200px;max-width: 100%;overflow: auto;}#sk-container-id-8 input.sk-toggleable__control:checked~label.sk-toggleable__label-arrow:before {content: \"▾\";}#sk-container-id-8 div.sk-estimator input.sk-toggleable__control:checked~label.sk-toggleable__label {background-color: #d4ebff;}#sk-container-id-8 div.sk-label input.sk-toggleable__control:checked~label.sk-toggleable__label {background-color: #d4ebff;}#sk-container-id-8 input.sk-hidden--visually {border: 0;clip: rect(1px 1px 1px 1px);clip: rect(1px, 1px, 1px, 1px);height: 1px;margin: -1px;overflow: hidden;padding: 0;position: absolute;width: 1px;}#sk-container-id-8 div.sk-estimator {font-family: monospace;background-color: #f0f8ff;border: 1px dotted black;border-radius: 0.25em;box-sizing: border-box;margin-bottom: 0.5em;}#sk-container-id-8 div.sk-estimator:hover {background-color: #d4ebff;}#sk-container-id-8 div.sk-parallel-item::after {content: \"\";width: 100%;border-bottom: 1px solid gray;flex-grow: 1;}#sk-container-id-8 div.sk-label:hover label.sk-toggleable__label {background-color: #d4ebff;}#sk-container-id-8 div.sk-serial::before {content: \"\";position: absolute;border-left: 1px solid gray;box-sizing: border-box;top: 0;bottom: 0;left: 50%;z-index: 0;}#sk-container-id-8 div.sk-serial {display: flex;flex-direction: column;align-items: center;background-color: white;padding-right: 0.2em;padding-left: 0.2em;position: relative;}#sk-container-id-8 div.sk-item {position: relative;z-index: 1;}#sk-container-id-8 div.sk-parallel {display: flex;align-items: stretch;justify-content: center;background-color: white;position: relative;}#sk-container-id-8 div.sk-item::before, #sk-container-id-8 div.sk-parallel-item::before {content: \"\";position: absolute;border-left: 1px solid gray;box-sizing: border-box;top: 0;bottom: 0;left: 50%;z-index: -1;}#sk-container-id-8 div.sk-parallel-item {display: flex;flex-direction: column;z-index: 1;position: relative;background-color: white;}#sk-container-id-8 div.sk-parallel-item:first-child::after {align-self: flex-end;width: 50%;}#sk-container-id-8 div.sk-parallel-item:last-child::after {align-self: flex-start;width: 50%;}#sk-container-id-8 div.sk-parallel-item:only-child::after {width: 0;}#sk-container-id-8 div.sk-dashed-wrapped {border: 1px dashed gray;margin: 0 0.4em 0.5em 0.4em;box-sizing: border-box;padding-bottom: 0.4em;background-color: white;}#sk-container-id-8 div.sk-label label {font-family: monospace;font-weight: bold;display: inline-block;line-height: 1.2em;}#sk-container-id-8 div.sk-label-container {text-align: center;}#sk-container-id-8 div.sk-container {/* jupyter's `normalize.less` sets `[hidden] { display: none; }` but bootstrap.min.css set `[hidden] { display: none !important; }` so we also need the `!important` here to be able to override the default hidden behavior on the sphinx rendered scikit-learn.org. See: https://github.com/scikit-learn/scikit-learn/issues/21755 */display: inline-block !important;position: relative;}#sk-container-id-8 div.sk-text-repr-fallback {display: none;}</style><div id=\"sk-container-id-8\" class=\"sk-top-container\"><div class=\"sk-text-repr-fallback\"><pre>RandomForestRegressor(min_samples_leaf=2, n_estimators=200)</pre><b>In a Jupyter environment, please rerun this cell to show the HTML representation or trust the notebook. <br />On GitHub, the HTML representation is unable to render, please try loading this page with nbviewer.org.</b></div><div class=\"sk-container\" hidden><div class=\"sk-item\"><div class=\"sk-estimator sk-toggleable\"><input class=\"sk-toggleable__control sk-hidden--visually\" id=\"sk-estimator-id-8\" type=\"checkbox\" checked><label for=\"sk-estimator-id-8\" class=\"sk-toggleable__label sk-toggleable__label-arrow\">RandomForestRegressor</label><div class=\"sk-toggleable__content\"><pre>RandomForestRegressor(min_samples_leaf=2, n_estimators=200)</pre></div></div></div></div></div>"
      ],
      "text/plain": [
       "RandomForestRegressor(min_samples_leaf=2, n_estimators=200)"
      ]
     },
     "execution_count": 153,
     "metadata": {},
     "output_type": "execute_result"
    }
   ],
   "source": [
    "# Train the model on the top 50 features\n",
    "model_50 = RandomForestRegressor(\n",
    "    n_estimators=200,\n",
    "    min_samples_split=2,\n",
    "    min_samples_leaf=2,\n",
    "    bootstrap=True\n",
    ")\n",
    "model_50.fit(X_train_50, y_train)"
   ]
  },
  {
   "cell_type": "code",
   "execution_count": 154,
   "id": "78efdffd",
   "metadata": {},
   "outputs": [],
   "source": [
    "predictions_df, mape, rmse = evaluate_model(model_50, window_size, test_data, test_date, X_test_50, y_test)"
   ]
  },
  {
   "cell_type": "code",
   "execution_count": 155,
   "id": "8dbe3c49",
   "metadata": {},
   "outputs": [
    {
     "data": {
      "text/plain": [
       "(           date     y_test     y_pred\n",
       " 0    2020-10-29  29.500000  30.729022\n",
       " 1    2020-10-30  29.500000  29.822734\n",
       " 2    2020-11-02  29.900000  29.359983\n",
       " 3    2020-11-03  28.400000  28.574874\n",
       " 4    2020-11-04  28.299999  28.624780\n",
       " ..          ...        ...        ...\n",
       " 789  2023-05-24  35.779999  35.414099\n",
       " 790  2023-05-25  35.000000  35.444916\n",
       " 791  2023-05-26  35.290001  35.474470\n",
       " 792  2023-05-30  35.549999  35.246647\n",
       " 793  2023-05-31  35.549999  36.280089\n",
       " \n",
       " [794 rows x 3 columns],\n",
       " 0.023112997550354456,\n",
       " 2.6787162886826126)"
      ]
     },
     "execution_count": 155,
     "metadata": {},
     "output_type": "execute_result"
    }
   ],
   "source": [
    "predictions_df, mape, rmse"
   ]
  },
  {
   "cell_type": "code",
   "execution_count": 156,
   "id": "db23d32c",
   "metadata": {},
   "outputs": [
    {
     "name": "stdout",
     "output_type": "stream",
     "text": [
      "MAPE for model with top 50 features without sentiment features: 2.31%\n"
     ]
    }
   ],
   "source": [
    "print(f\"MAPE for model with top 50 features without sentiment features: {mape*100:.2f}%\")"
   ]
  },
  {
   "cell_type": "code",
   "execution_count": 157,
   "id": "700e5b8f",
   "metadata": {},
   "outputs": [
    {
     "data": {
      "text/html": [
       "\n",
       "<style>\n",
       "  #altair-viz-51530d27f1c04895997c9489939001a5.vega-embed {\n",
       "    width: 100%;\n",
       "    display: flex;\n",
       "  }\n",
       "\n",
       "  #altair-viz-51530d27f1c04895997c9489939001a5.vega-embed details,\n",
       "  #altair-viz-51530d27f1c04895997c9489939001a5.vega-embed details summary {\n",
       "    position: relative;\n",
       "  }\n",
       "</style>\n",
       "<div id=\"altair-viz-51530d27f1c04895997c9489939001a5\"></div>\n",
       "<script type=\"text/javascript\">\n",
       "  var VEGA_DEBUG = (typeof VEGA_DEBUG == \"undefined\") ? {} : VEGA_DEBUG;\n",
       "  (function(spec, embedOpt){\n",
       "    let outputDiv = document.currentScript.previousElementSibling;\n",
       "    if (outputDiv.id !== \"altair-viz-51530d27f1c04895997c9489939001a5\") {\n",
       "      outputDiv = document.getElementById(\"altair-viz-51530d27f1c04895997c9489939001a5\");\n",
       "    }\n",
       "    const paths = {\n",
       "      \"vega\": \"https://cdn.jsdelivr.net/npm/vega@5?noext\",\n",
       "      \"vega-lib\": \"https://cdn.jsdelivr.net/npm/vega-lib?noext\",\n",
       "      \"vega-lite\": \"https://cdn.jsdelivr.net/npm/vega-lite@5.8.0?noext\",\n",
       "      \"vega-embed\": \"https://cdn.jsdelivr.net/npm/vega-embed@6?noext\",\n",
       "    };\n",
       "\n",
       "    function maybeLoadScript(lib, version) {\n",
       "      var key = `${lib.replace(\"-\", \"\")}_version`;\n",
       "      return (VEGA_DEBUG[key] == version) ?\n",
       "        Promise.resolve(paths[lib]) :\n",
       "        new Promise(function(resolve, reject) {\n",
       "          var s = document.createElement('script');\n",
       "          document.getElementsByTagName(\"head\")[0].appendChild(s);\n",
       "          s.async = true;\n",
       "          s.onload = () => {\n",
       "            VEGA_DEBUG[key] = version;\n",
       "            return resolve(paths[lib]);\n",
       "          };\n",
       "          s.onerror = () => reject(`Error loading script: ${paths[lib]}`);\n",
       "          s.src = paths[lib];\n",
       "        });\n",
       "    }\n",
       "\n",
       "    function showError(err) {\n",
       "      outputDiv.innerHTML = `<div class=\"error\" style=\"color:red;\">${err}</div>`;\n",
       "      throw err;\n",
       "    }\n",
       "\n",
       "    function displayChart(vegaEmbed) {\n",
       "      vegaEmbed(outputDiv, spec, embedOpt)\n",
       "        .catch(err => showError(`Javascript Error: ${err.message}<br>This usually means there's a typo in your chart specification. See the javascript console for the full traceback.`));\n",
       "    }\n",
       "\n",
       "    if(typeof define === \"function\" && define.amd) {\n",
       "      requirejs.config({paths});\n",
       "      require([\"vega-embed\"], displayChart, err => showError(`Error loading script: ${err.message}`));\n",
       "    } else {\n",
       "      maybeLoadScript(\"vega\", \"5\")\n",
       "        .then(() => maybeLoadScript(\"vega-lite\", \"5.8.0\"))\n",
       "        .then(() => maybeLoadScript(\"vega-embed\", \"6\"))\n",
       "        .catch(showError)\n",
       "        .then(() => displayChart(vegaEmbed));\n",
       "    }\n",
       "  })({\"usermeta\": {\"embedOptions\": {\"theme\": \"fivethirtyeight\"}}, \"config\": {\"view\": {\"continuousWidth\": 300, \"continuousHeight\": 300}}, \"layer\": [{\"mark\": {\"type\": \"line\", \"strokeWidth\": 2}, \"encoding\": {\"color\": {\"field\": \"label\", \"legend\": {\"title\": \"Line Type\"}, \"type\": \"nominal\"}, \"tooltip\": [{\"field\": \"date\", \"type\": \"temporal\"}, {\"field\": \"y_test\", \"type\": \"quantitative\"}, {\"field\": \"y_pred\", \"type\": \"quantitative\"}], \"x\": {\"field\": \"date\", \"type\": \"temporal\"}, \"y\": {\"field\": \"y_test\", \"scale\": {\"zero\": false}, \"title\": \"Price\", \"type\": \"quantitative\"}}, \"name\": \"view_7\"}, {\"mark\": {\"type\": \"line\", \"strokeDash\": [3, 3], \"strokeWidth\": 1}, \"encoding\": {\"color\": {\"field\": \"predicted_label\", \"legend\": {\"title\": \"Line Type\"}, \"type\": \"nominal\"}, \"tooltip\": [{\"field\": \"date\", \"type\": \"temporal\"}, {\"field\": \"y_test\", \"type\": \"quantitative\"}, {\"field\": \"y_pred\", \"type\": \"quantitative\"}], \"x\": {\"field\": \"date\", \"type\": \"temporal\"}, \"y\": {\"field\": \"y_pred\", \"scale\": {\"zero\": false}, \"title\": \"\", \"type\": \"quantitative\"}}}], \"data\": {\"name\": \"data-2ebfc4f87b737da6956f1dac00f268c6\"}, \"height\": 400, \"params\": [{\"name\": \"param_7\", \"select\": {\"type\": \"interval\", \"encodings\": [\"x\", \"y\"]}, \"bind\": \"scales\", \"views\": [\"view_7\"]}], \"title\": \"Actual vs Predicted High Prices\", \"width\": 650, \"$schema\": \"https://vega.github.io/schema/vega-lite/v5.8.0.json\", \"datasets\": {\"data-2ebfc4f87b737da6956f1dac00f268c6\": [{\"date\": \"2020-10-29T00:00:00\", \"y_test\": 29.5, \"y_pred\": 30.72902183035012, \"label\": \"Actual\", \"predicted_label\": \"Predicted\"}, {\"date\": \"2020-10-30T00:00:00\", \"y_test\": 29.5, \"y_pred\": 29.822733780870998, \"label\": \"Actual\", \"predicted_label\": \"Predicted\"}, {\"date\": \"2020-11-02T00:00:00\", \"y_test\": 29.89999961853028, \"y_pred\": 29.359983075557054, \"label\": \"Actual\", \"predicted_label\": \"Predicted\"}, {\"date\": \"2020-11-03T00:00:00\", \"y_test\": 28.39999961853028, \"y_pred\": 28.574874116117677, \"label\": \"Actual\", \"predicted_label\": \"Predicted\"}, {\"date\": \"2020-11-04T00:00:00\", \"y_test\": 28.299999237060547, \"y_pred\": 28.62478035115699, \"label\": \"Actual\", \"predicted_label\": \"Predicted\"}, {\"date\": \"2020-11-05T00:00:00\", \"y_test\": 28.399999618530284, \"y_pred\": 28.560895793092524, \"label\": \"Actual\", \"predicted_label\": \"Predicted\"}, {\"date\": \"2020-11-06T00:00:00\", \"y_test\": 28.600000381469727, \"y_pred\": 28.523724195504624, \"label\": \"Actual\", \"predicted_label\": \"Predicted\"}, {\"date\": \"2020-11-09T00:00:00\", \"y_test\": 28.35000038146973, \"y_pred\": 28.31552634820711, \"label\": \"Actual\", \"predicted_label\": \"Predicted\"}, {\"date\": \"2020-11-10T00:00:00\", \"y_test\": 28.25, \"y_pred\": 28.0791185156856, \"label\": \"Actual\", \"predicted_label\": \"Predicted\"}, {\"date\": \"2020-11-11T00:00:00\", \"y_test\": 28.100000381469723, \"y_pred\": 28.167059677787698, \"label\": \"Actual\", \"predicted_label\": \"Predicted\"}, {\"date\": \"2020-11-12T00:00:00\", \"y_test\": 28.70000076293945, \"y_pred\": 28.38625673305127, \"label\": \"Actual\", \"predicted_label\": \"Predicted\"}, {\"date\": \"2020-11-13T00:00:00\", \"y_test\": 29.200000762939453, \"y_pred\": 28.926137825414806, \"label\": \"Actual\", \"predicted_label\": \"Predicted\"}, {\"date\": \"2020-11-13T00:00:00\", \"y_test\": 29.200000762939453, \"y_pred\": 29.636739548890706, \"label\": \"Actual\", \"predicted_label\": \"Predicted\"}, {\"date\": \"2020-11-14T00:00:00\", \"y_test\": 29.299999237060543, \"y_pred\": 29.50093416321447, \"label\": \"Actual\", \"predicted_label\": \"Predicted\"}, {\"date\": \"2020-11-17T00:00:00\", \"y_test\": 29.25, \"y_pred\": 29.490562912999927, \"label\": \"Actual\", \"predicted_label\": \"Predicted\"}, {\"date\": \"2020-11-18T00:00:00\", \"y_test\": 29.799999237060547, \"y_pred\": 28.982290993291556, \"label\": \"Actual\", \"predicted_label\": \"Predicted\"}, {\"date\": \"2020-11-19T00:00:00\", \"y_test\": 31.549999237060547, \"y_pred\": 29.75901100200919, \"label\": \"Actual\", \"predicted_label\": \"Predicted\"}, {\"date\": \"2020-11-20T00:00:00\", \"y_test\": 31.70000076293945, \"y_pred\": 31.72403898563058, \"label\": \"Actual\", \"predicted_label\": \"Predicted\"}, {\"date\": \"2020-11-23T00:00:00\", \"y_test\": 30.79999923706055, \"y_pred\": 30.824756098661723, \"label\": \"Actual\", \"predicted_label\": \"Predicted\"}, {\"date\": \"2020-11-24T00:00:00\", \"y_test\": 30.85000038146973, \"y_pred\": 31.00583398824046, \"label\": \"Actual\", \"predicted_label\": \"Predicted\"}, {\"date\": \"2020-11-25T00:00:00\", \"y_test\": 30.39999961853028, \"y_pred\": 30.471054712718967, \"label\": \"Actual\", \"predicted_label\": \"Predicted\"}, {\"date\": \"2020-11-26T00:00:00\", \"y_test\": 29.999999999999996, \"y_pred\": 29.914413726529272, \"label\": \"Actual\", \"predicted_label\": \"Predicted\"}, {\"date\": \"2020-11-27T00:00:00\", \"y_test\": 30.399999618530284, \"y_pred\": 29.963695190302456, \"label\": \"Actual\", \"predicted_label\": \"Predicted\"}, {\"date\": \"2020-12-01T00:00:00\", \"y_test\": 32.099998474121094, \"y_pred\": 30.373829014013594, \"label\": \"Actual\", \"predicted_label\": \"Predicted\"}, {\"date\": \"2020-12-02T00:00:00\", \"y_test\": 32.599998474121094, \"y_pred\": 32.25120290549628, \"label\": \"Actual\", \"predicted_label\": \"Predicted\"}, {\"date\": \"2020-12-03T00:00:00\", \"y_test\": 33.900001525878906, \"y_pred\": 33.05242797565627, \"label\": \"Actual\", \"predicted_label\": \"Predicted\"}, {\"date\": \"2020-12-04T00:00:00\", \"y_test\": 34.099998474121094, \"y_pred\": 34.73912847338184, \"label\": \"Actual\", \"predicted_label\": \"Predicted\"}, {\"date\": \"2020-12-07T00:00:00\", \"y_test\": 33.349998474121094, \"y_pred\": 33.80724411768184, \"label\": \"Actual\", \"predicted_label\": \"Predicted\"}, {\"date\": \"2020-12-08T00:00:00\", \"y_test\": 33.45000076293945, \"y_pred\": 33.98124163442929, \"label\": \"Actual\", \"predicted_label\": \"Predicted\"}, {\"date\": \"2020-12-09T00:00:00\", \"y_test\": 32.400001525878906, \"y_pred\": 32.621819670158835, \"label\": \"Actual\", \"predicted_label\": \"Predicted\"}, {\"date\": \"2020-12-10T00:00:00\", \"y_test\": 32.0, \"y_pred\": 32.4093500801124, \"label\": \"Actual\", \"predicted_label\": \"Predicted\"}, {\"date\": \"2020-12-11T00:00:00\", \"y_test\": 32.099998474121094, \"y_pred\": 31.549210801975914, \"label\": \"Actual\", \"predicted_label\": \"Predicted\"}, {\"date\": \"2020-12-14T00:00:00\", \"y_test\": 32.0, \"y_pred\": 31.92915867014392, \"label\": \"Actual\", \"predicted_label\": \"Predicted\"}, {\"date\": \"2020-12-15T00:00:00\", \"y_test\": 31.950000762939453, \"y_pred\": 32.31503499018562, \"label\": \"Actual\", \"predicted_label\": \"Predicted\"}, {\"date\": \"2020-12-16T00:00:00\", \"y_test\": 33.25, \"y_pred\": 31.938062946682226, \"label\": \"Actual\", \"predicted_label\": \"Predicted\"}, {\"date\": \"2020-12-16T00:00:00\", \"y_test\": 33.25, \"y_pred\": 33.86999824828254, \"label\": \"Actual\", \"predicted_label\": \"Predicted\"}, {\"date\": \"2020-12-17T00:00:00\", \"y_test\": 34.099998474121094, \"y_pred\": 33.88670180378646, \"label\": \"Actual\", \"predicted_label\": \"Predicted\"}, {\"date\": \"2020-12-18T00:00:00\", \"y_test\": 32.599998474121094, \"y_pred\": 32.93453662086672, \"label\": \"Actual\", \"predicted_label\": \"Predicted\"}, {\"date\": \"2020-12-21T00:00:00\", \"y_test\": 32.5, \"y_pred\": 32.92054019776538, \"label\": \"Actual\", \"predicted_label\": \"Predicted\"}, {\"date\": \"2020-12-22T00:00:00\", \"y_test\": 30.600000381469727, \"y_pred\": 30.630258654018398, \"label\": \"Actual\", \"predicted_label\": \"Predicted\"}, {\"date\": \"2020-12-23T00:00:00\", \"y_test\": 31.100000381469723, \"y_pred\": 31.393774263258006, \"label\": \"Actual\", \"predicted_label\": \"Predicted\"}, {\"date\": \"2020-12-24T00:00:00\", \"y_test\": 32.150001525878906, \"y_pred\": 31.798674181152006, \"label\": \"Actual\", \"predicted_label\": \"Predicted\"}, {\"date\": \"2020-12-28T00:00:00\", \"y_test\": 31.899999618530277, \"y_pred\": 32.03528722507652, \"label\": \"Actual\", \"predicted_label\": \"Predicted\"}, {\"date\": \"2020-12-29T00:00:00\", \"y_test\": 31.799999237060547, \"y_pred\": 32.321849095180056, \"label\": \"Actual\", \"predicted_label\": \"Predicted\"}, {\"date\": \"2020-12-30T00:00:00\", \"y_test\": 31.39999961853028, \"y_pred\": 31.754602268169094, \"label\": \"Actual\", \"predicted_label\": \"Predicted\"}, {\"date\": \"2020-12-31T00:00:00\", \"y_test\": 31.350000381469727, \"y_pred\": 31.71827409632464, \"label\": \"Actual\", \"predicted_label\": \"Predicted\"}, {\"date\": \"2021-01-01T00:00:00\", \"y_test\": 31.70000076293945, \"y_pred\": 31.62316267997102, \"label\": \"Actual\", \"predicted_label\": \"Predicted\"}, {\"date\": \"2021-01-04T00:00:00\", \"y_test\": 31.75, \"y_pred\": 31.764642440792546, \"label\": \"Actual\", \"predicted_label\": \"Predicted\"}, {\"date\": \"2021-01-05T00:00:00\", \"y_test\": 31.14999961853028, \"y_pred\": 32.01164731703738, \"label\": \"Actual\", \"predicted_label\": \"Predicted\"}, {\"date\": \"2021-01-06T00:00:00\", \"y_test\": 31.350000381469723, \"y_pred\": 31.51649092983578, \"label\": \"Actual\", \"predicted_label\": \"Predicted\"}, {\"date\": \"2021-01-07T00:00:00\", \"y_test\": 31.200000762939453, \"y_pred\": 31.11907347643844, \"label\": \"Actual\", \"predicted_label\": \"Predicted\"}, {\"date\": \"2021-01-08T00:00:00\", \"y_test\": 31.999999999999996, \"y_pred\": 31.064500171299994, \"label\": \"Actual\", \"predicted_label\": \"Predicted\"}, {\"date\": \"2021-01-11T00:00:00\", \"y_test\": 32.5, \"y_pred\": 32.19931484211783, \"label\": \"Actual\", \"predicted_label\": \"Predicted\"}, {\"date\": \"2021-01-12T00:00:00\", \"y_test\": 33.20000076293945, \"y_pred\": 32.0182952225618, \"label\": \"Actual\", \"predicted_label\": \"Predicted\"}, {\"date\": \"2021-01-12T00:00:00\", \"y_test\": 33.20000076293945, \"y_pred\": 33.77838500984906, \"label\": \"Actual\", \"predicted_label\": \"Predicted\"}, {\"date\": \"2021-01-13T00:00:00\", \"y_test\": 33.5, \"y_pred\": 33.67910001756029, \"label\": \"Actual\", \"predicted_label\": \"Predicted\"}, {\"date\": \"2021-01-14T00:00:00\", \"y_test\": 32.70000076293945, \"y_pred\": 32.90289294209742, \"label\": \"Actual\", \"predicted_label\": \"Predicted\"}, {\"date\": \"2021-01-15T00:00:00\", \"y_test\": 32.29999923706055, \"y_pred\": 32.61581256724345, \"label\": \"Actual\", \"predicted_label\": \"Predicted\"}, {\"date\": \"2021-01-18T00:00:00\", \"y_test\": 31.450000762939453, \"y_pred\": 31.94597339353345, \"label\": \"Actual\", \"predicted_label\": \"Predicted\"}, {\"date\": \"2021-01-19T00:00:00\", \"y_test\": 32.20000076293945, \"y_pred\": 31.28710986869403, \"label\": \"Actual\", \"predicted_label\": \"Predicted\"}, {\"date\": \"2021-01-20T00:00:00\", \"y_test\": 32.95000076293945, \"y_pred\": 32.36338469239143, \"label\": \"Actual\", \"predicted_label\": \"Predicted\"}, {\"date\": \"2021-01-21T00:00:00\", \"y_test\": 32.0, \"y_pred\": 32.19926394293816, \"label\": \"Actual\", \"predicted_label\": \"Predicted\"}, {\"date\": \"2021-01-22T00:00:00\", \"y_test\": 30.600000381469723, \"y_pred\": 31.707751488618786, \"label\": \"Actual\", \"predicted_label\": \"Predicted\"}, {\"date\": \"2021-01-25T00:00:00\", \"y_test\": 30.0, \"y_pred\": 30.346030061559834, \"label\": \"Actual\", \"predicted_label\": \"Predicted\"}, {\"date\": \"2021-01-27T00:00:00\", \"y_test\": 29.450000762939453, \"y_pred\": 29.91238868924284, \"label\": \"Actual\", \"predicted_label\": \"Predicted\"}, {\"date\": \"2021-01-28T00:00:00\", \"y_test\": 29.450000762939453, \"y_pred\": 29.8625099884763, \"label\": \"Actual\", \"predicted_label\": \"Predicted\"}, {\"date\": \"2021-01-29T00:00:00\", \"y_test\": 28.999999999999996, \"y_pred\": 29.287245906524458, \"label\": \"Actual\", \"predicted_label\": \"Predicted\"}, {\"date\": \"2021-02-01T00:00:00\", \"y_test\": 28.5, \"y_pred\": 28.78126417279088, \"label\": \"Actual\", \"predicted_label\": \"Predicted\"}, {\"date\": \"2021-02-02T00:00:00\", \"y_test\": 28.64999961853028, \"y_pred\": 28.74615828140775, \"label\": \"Actual\", \"predicted_label\": \"Predicted\"}, {\"date\": \"2021-02-03T00:00:00\", \"y_test\": 29.149999618530284, \"y_pred\": 29.148392373025796, \"label\": \"Actual\", \"predicted_label\": \"Predicted\"}, {\"date\": \"2021-02-04T00:00:00\", \"y_test\": 31.5, \"y_pred\": 29.39883413542639, \"label\": \"Actual\", \"predicted_label\": \"Predicted\"}, {\"date\": \"2021-02-05T00:00:00\", \"y_test\": 31.299999237060547, \"y_pred\": 31.327700575071784, \"label\": \"Actual\", \"predicted_label\": \"Predicted\"}, {\"date\": \"2021-02-08T00:00:00\", \"y_test\": 31.29999923706055, \"y_pred\": 30.74358597939957, \"label\": \"Actual\", \"predicted_label\": \"Predicted\"}, {\"date\": \"2021-02-09T00:00:00\", \"y_test\": 30.799999237060547, \"y_pred\": 31.27306443678501, \"label\": \"Actual\", \"predicted_label\": \"Predicted\"}, {\"date\": \"2021-02-10T00:00:00\", \"y_test\": 30.450000762939453, \"y_pred\": 30.406950255597497, \"label\": \"Actual\", \"predicted_label\": \"Predicted\"}, {\"date\": \"2021-02-11T00:00:00\", \"y_test\": 30.70000076293945, \"y_pred\": 30.227789810140493, \"label\": \"Actual\", \"predicted_label\": \"Predicted\"}, {\"date\": \"2021-02-12T00:00:00\", \"y_test\": 30.39999961853028, \"y_pred\": 30.46915887916637, \"label\": \"Actual\", \"predicted_label\": \"Predicted\"}, {\"date\": \"2021-02-15T00:00:00\", \"y_test\": 30.649999618530277, \"y_pred\": 30.459187499505415, \"label\": \"Actual\", \"predicted_label\": \"Predicted\"}, {\"date\": \"2021-02-16T00:00:00\", \"y_test\": 30.350000381469723, \"y_pred\": 30.50371063007682, \"label\": \"Actual\", \"predicted_label\": \"Predicted\"}, {\"date\": \"2021-02-17T00:00:00\", \"y_test\": 30.149999618530277, \"y_pred\": 30.271001552105375, \"label\": \"Actual\", \"predicted_label\": \"Predicted\"}, {\"date\": \"2021-02-18T00:00:00\", \"y_test\": 30.39999961853028, \"y_pred\": 30.282431184300247, \"label\": \"Actual\", \"predicted_label\": \"Predicted\"}, {\"date\": \"2021-02-19T00:00:00\", \"y_test\": 31.25, \"y_pred\": 30.238102265126305, \"label\": \"Actual\", \"predicted_label\": \"Predicted\"}, {\"date\": \"2021-02-22T00:00:00\", \"y_test\": 30.350000381469723, \"y_pred\": 30.695365574682775, \"label\": \"Actual\", \"predicted_label\": \"Predicted\"}, {\"date\": \"2021-02-23T00:00:00\", \"y_test\": 29.600000381469727, \"y_pred\": 29.68336859767376, \"label\": \"Actual\", \"predicted_label\": \"Predicted\"}, {\"date\": \"2021-02-24T00:00:00\", \"y_test\": 29.700000762939453, \"y_pred\": 29.78545930289877, \"label\": \"Actual\", \"predicted_label\": \"Predicted\"}, {\"date\": \"2021-02-25T00:00:00\", \"y_test\": 30.399999618530277, \"y_pred\": 30.195969870567307, \"label\": \"Actual\", \"predicted_label\": \"Predicted\"}, {\"date\": \"2021-02-25T00:00:00\", \"y_test\": 30.399999618530277, \"y_pred\": 30.528940629347186, \"label\": \"Actual\", \"predicted_label\": \"Predicted\"}, {\"date\": \"2021-02-26T00:00:00\", \"y_test\": 29.64999961853028, \"y_pred\": 30.535499350011555, \"label\": \"Actual\", \"predicted_label\": \"Predicted\"}, {\"date\": \"2021-03-01T00:00:00\", \"y_test\": 32.95000076293945, \"y_pred\": 29.808405797817958, \"label\": \"Actual\", \"predicted_label\": \"Predicted\"}, {\"date\": \"2021-03-02T00:00:00\", \"y_test\": 33.400001525878906, \"y_pred\": 33.53802428203642, \"label\": \"Actual\", \"predicted_label\": \"Predicted\"}, {\"date\": \"2021-03-03T00:00:00\", \"y_test\": 33.25, \"y_pred\": 33.42487573419601, \"label\": \"Actual\", \"predicted_label\": \"Predicted\"}, {\"date\": \"2021-03-04T00:00:00\", \"y_test\": 32.650001525878906, \"y_pred\": 33.49586389946618, \"label\": \"Actual\", \"predicted_label\": \"Predicted\"}, {\"date\": \"2021-03-05T00:00:00\", \"y_test\": 35.20000076293945, \"y_pred\": 32.67886588639738, \"label\": \"Actual\", \"predicted_label\": \"Predicted\"}, {\"date\": \"2021-03-08T00:00:00\", \"y_test\": 36.400001525878906, \"y_pred\": 35.37776590620411, \"label\": \"Actual\", \"predicted_label\": \"Predicted\"}, {\"date\": \"2021-03-09T00:00:00\", \"y_test\": 36.400001525878906, \"y_pred\": 36.433014390090094, \"label\": \"Actual\", \"predicted_label\": \"Predicted\"}, {\"date\": \"2021-03-10T00:00:00\", \"y_test\": 35.900001525878906, \"y_pred\": 36.30945298666329, \"label\": \"Actual\", \"predicted_label\": \"Predicted\"}, {\"date\": \"2021-03-12T00:00:00\", \"y_test\": 36.25, \"y_pred\": 35.8463562919405, \"label\": \"Actual\", \"predicted_label\": \"Predicted\"}, {\"date\": \"2021-03-15T00:00:00\", \"y_test\": 35.45000076293945, \"y_pred\": 36.23243853547037, \"label\": \"Actual\", \"predicted_label\": \"Predicted\"}, {\"date\": \"2021-03-16T00:00:00\", \"y_test\": 34.70000076293945, \"y_pred\": 35.215151397856715, \"label\": \"Actual\", \"predicted_label\": \"Predicted\"}, {\"date\": \"2021-03-17T00:00:00\", \"y_test\": 34.25, \"y_pred\": 34.59440965207272, \"label\": \"Actual\", \"predicted_label\": \"Predicted\"}, {\"date\": \"2021-03-18T00:00:00\", \"y_test\": 32.54999923706055, \"y_pred\": 32.362789013360114, \"label\": \"Actual\", \"predicted_label\": \"Predicted\"}, {\"date\": \"2021-03-19T00:00:00\", \"y_test\": 31.450000762939453, \"y_pred\": 31.43633689123321, \"label\": \"Actual\", \"predicted_label\": \"Predicted\"}, {\"date\": \"2021-03-22T00:00:00\", \"y_test\": 31.75, \"y_pred\": 32.226966332419465, \"label\": \"Actual\", \"predicted_label\": \"Predicted\"}, {\"date\": \"2021-03-23T00:00:00\", \"y_test\": 31.850000381469723, \"y_pred\": 31.85420600943522, \"label\": \"Actual\", \"predicted_label\": \"Predicted\"}, {\"date\": \"2021-03-24T00:00:00\", \"y_test\": 31.64999961853028, \"y_pred\": 32.21860962739164, \"label\": \"Actual\", \"predicted_label\": \"Predicted\"}, {\"date\": \"2021-03-25T00:00:00\", \"y_test\": 30.5, \"y_pred\": 30.773696595079848, \"label\": \"Actual\", \"predicted_label\": \"Predicted\"}, {\"date\": \"2021-03-26T00:00:00\", \"y_test\": 30.450000762939457, \"y_pred\": 30.597182307345882, \"label\": \"Actual\", \"predicted_label\": \"Predicted\"}, {\"date\": \"2021-03-30T00:00:00\", \"y_test\": 30.0, \"y_pred\": 30.300535573963703, \"label\": \"Actual\", \"predicted_label\": \"Predicted\"}, {\"date\": \"2021-03-31T00:00:00\", \"y_test\": 30.149999618530277, \"y_pred\": 29.88895361374813, \"label\": \"Actual\", \"predicted_label\": \"Predicted\"}, {\"date\": \"2021-04-01T00:00:00\", \"y_test\": 29.350000381469723, \"y_pred\": 29.530290982215067, \"label\": \"Actual\", \"predicted_label\": \"Predicted\"}, {\"date\": \"2021-04-05T00:00:00\", \"y_test\": 29.700000762939453, \"y_pred\": 29.914104541165067, \"label\": \"Actual\", \"predicted_label\": \"Predicted\"}, {\"date\": \"2021-04-06T00:00:00\", \"y_test\": 28.95000076293945, \"y_pred\": 29.07147827710185, \"label\": \"Actual\", \"predicted_label\": \"Predicted\"}, {\"date\": \"2021-04-07T00:00:00\", \"y_test\": 29.25, \"y_pred\": 28.868421114341963, \"label\": \"Actual\", \"predicted_label\": \"Predicted\"}, {\"date\": \"2021-04-08T00:00:00\", \"y_test\": 29.549999237060547, \"y_pred\": 29.46864903424374, \"label\": \"Actual\", \"predicted_label\": \"Predicted\"}, {\"date\": \"2021-04-09T00:00:00\", \"y_test\": 29.350000381469727, \"y_pred\": 29.648691516657003, \"label\": \"Actual\", \"predicted_label\": \"Predicted\"}, {\"date\": \"2021-04-12T00:00:00\", \"y_test\": 28.39999961853028, \"y_pred\": 29.443274399086704, \"label\": \"Actual\", \"predicted_label\": \"Predicted\"}, {\"date\": \"2021-04-13T00:00:00\", \"y_test\": 27.250000000000004, \"y_pred\": 27.145723215589694, \"label\": \"Actual\", \"predicted_label\": \"Predicted\"}, {\"date\": \"2021-04-15T00:00:00\", \"y_test\": 27.850000381469727, \"y_pred\": 27.8526152765574, \"label\": \"Actual\", \"predicted_label\": \"Predicted\"}, {\"date\": \"2021-04-16T00:00:00\", \"y_test\": 28.350000381469727, \"y_pred\": 27.75493794578183, \"label\": \"Actual\", \"predicted_label\": \"Predicted\"}, {\"date\": \"2021-04-19T00:00:00\", \"y_test\": 28.0, \"y_pred\": 28.869874273499562, \"label\": \"Actual\", \"predicted_label\": \"Predicted\"}, {\"date\": \"2021-04-20T00:00:00\", \"y_test\": 28.350000381469723, \"y_pred\": 28.04129446310299, \"label\": \"Actual\", \"predicted_label\": \"Predicted\"}, {\"date\": \"2021-04-20T00:00:00\", \"y_test\": 28.350000381469727, \"y_pred\": 28.091481736084063, \"label\": \"Actual\", \"predicted_label\": \"Predicted\"}, {\"date\": \"2021-04-20T00:00:00\", \"y_test\": 28.350000381469727, \"y_pred\": 28.134892430851917, \"label\": \"Actual\", \"predicted_label\": \"Predicted\"}, {\"date\": \"2021-04-22T00:00:00\", \"y_test\": 33.04999923706055, \"y_pred\": 28.103919766281557, \"label\": \"Actual\", \"predicted_label\": \"Predicted\"}, {\"date\": \"2021-04-22T00:00:00\", \"y_test\": 33.04999923706055, \"y_pred\": 34.31520566985277, \"label\": \"Actual\", \"predicted_label\": \"Predicted\"}, {\"date\": \"2021-04-22T00:00:00\", \"y_test\": 33.04999923706055, \"y_pred\": 34.27864552496015, \"label\": \"Actual\", \"predicted_label\": \"Predicted\"}, {\"date\": \"2021-04-22T00:00:00\", \"y_test\": 33.04999923706055, \"y_pred\": 34.164410333946456, \"label\": \"Actual\", \"predicted_label\": \"Predicted\"}, {\"date\": \"2021-04-23T00:00:00\", \"y_test\": 35.849998474121094, \"y_pred\": 34.03409637945694, \"label\": \"Actual\", \"predicted_label\": \"Predicted\"}, {\"date\": \"2021-04-26T00:00:00\", \"y_test\": 34.75, \"y_pred\": 35.383030831135585, \"label\": \"Actual\", \"predicted_label\": \"Predicted\"}, {\"date\": \"2021-04-27T00:00:00\", \"y_test\": 34.650001525878906, \"y_pred\": 35.120386653001816, \"label\": \"Actual\", \"predicted_label\": \"Predicted\"}, {\"date\": \"2021-04-28T00:00:00\", \"y_test\": 34.45000076293945, \"y_pred\": 34.73280710978249, \"label\": \"Actual\", \"predicted_label\": \"Predicted\"}, {\"date\": \"2021-04-29T00:00:00\", \"y_test\": 34.25, \"y_pred\": 34.36071521684515, \"label\": \"Actual\", \"predicted_label\": \"Predicted\"}, {\"date\": \"2021-04-30T00:00:00\", \"y_test\": 34.45000076293945, \"y_pred\": 34.82612077438273, \"label\": \"Actual\", \"predicted_label\": \"Predicted\"}, {\"date\": \"2021-05-03T00:00:00\", \"y_test\": 34.49999999999999, \"y_pred\": 34.87208309576937, \"label\": \"Actual\", \"predicted_label\": \"Predicted\"}, {\"date\": \"2021-05-04T00:00:00\", \"y_test\": 34.150001525878906, \"y_pred\": 34.453369391678585, \"label\": \"Actual\", \"predicted_label\": \"Predicted\"}, {\"date\": \"2021-05-05T00:00:00\", \"y_test\": 33.900001525878906, \"y_pred\": 34.17777083361257, \"label\": \"Actual\", \"predicted_label\": \"Predicted\"}, {\"date\": \"2021-05-06T00:00:00\", \"y_test\": 36.54999923706055, \"y_pred\": 34.08527491197214, \"label\": \"Actual\", \"predicted_label\": \"Predicted\"}, {\"date\": \"2021-05-06T00:00:00\", \"y_test\": 36.54999923706055, \"y_pred\": 37.445696929635105, \"label\": \"Actual\", \"predicted_label\": \"Predicted\"}, {\"date\": \"2021-05-07T00:00:00\", \"y_test\": 38.25, \"y_pred\": 37.447575303515556, \"label\": \"Actual\", \"predicted_label\": \"Predicted\"}, {\"date\": \"2021-05-10T00:00:00\", \"y_test\": 39.200000762939446, \"y_pred\": 37.29601669326472, \"label\": \"Actual\", \"predicted_label\": \"Predicted\"}, {\"date\": \"2021-05-11T00:00:00\", \"y_test\": 39.84999847412109, \"y_pred\": 39.98881658126683, \"label\": \"Actual\", \"predicted_label\": \"Predicted\"}, {\"date\": \"2021-05-12T00:00:00\", \"y_test\": 40.29999923706055, \"y_pred\": 40.97219064109884, \"label\": \"Actual\", \"predicted_label\": \"Predicted\"}, {\"date\": \"2021-05-14T00:00:00\", \"y_test\": 38.29999923706055, \"y_pred\": 39.081939356135095, \"label\": \"Actual\", \"predicted_label\": \"Predicted\"}, {\"date\": \"2021-05-17T00:00:00\", \"y_test\": 36.84999847412109, \"y_pred\": 37.47225664297557, \"label\": \"Actual\", \"predicted_label\": \"Predicted\"}, {\"date\": \"2021-05-18T00:00:00\", \"y_test\": 37.40000152587891, \"y_pred\": 37.41116678496966, \"label\": \"Actual\", \"predicted_label\": \"Predicted\"}, {\"date\": \"2021-05-19T00:00:00\", \"y_test\": 40.84999847412109, \"y_pred\": 37.82804595834987, \"label\": \"Actual\", \"predicted_label\": \"Predicted\"}, {\"date\": \"2021-05-20T00:00:00\", \"y_test\": 44.400001525878906, \"y_pred\": 41.60427456332542, \"label\": \"Actual\", \"predicted_label\": \"Predicted\"}, {\"date\": \"2021-05-20T00:00:00\", \"y_test\": 44.400001525878906, \"y_pred\": 41.72309924676854, \"label\": \"Actual\", \"predicted_label\": \"Predicted\"}, {\"date\": \"2021-05-21T00:00:00\", \"y_test\": 41.70000076293945, \"y_pred\": 41.70034019625234, \"label\": \"Actual\", \"predicted_label\": \"Predicted\"}, {\"date\": \"2021-05-24T00:00:00\", \"y_test\": 42.299999237060554, \"y_pred\": 42.16675109345353, \"label\": \"Actual\", \"predicted_label\": \"Predicted\"}, {\"date\": \"2021-05-25T00:00:00\", \"y_test\": 41.79999923706055, \"y_pred\": 41.41202318136961, \"label\": \"Actual\", \"predicted_label\": \"Predicted\"}, {\"date\": \"2021-05-26T00:00:00\", \"y_test\": 41.900001525878906, \"y_pred\": 42.11146010056985, \"label\": \"Actual\", \"predicted_label\": \"Predicted\"}, {\"date\": \"2021-05-27T00:00:00\", \"y_test\": 44.5, \"y_pred\": 41.92450397044538, \"label\": \"Actual\", \"predicted_label\": \"Predicted\"}, {\"date\": \"2021-05-28T00:00:00\", \"y_test\": 44.84999847412109, \"y_pred\": 44.778283001742984, \"label\": \"Actual\", \"predicted_label\": \"Predicted\"}, {\"date\": \"2021-05-31T00:00:00\", \"y_test\": 42.79999923706055, \"y_pred\": 43.31887030115684, \"label\": \"Actual\", \"predicted_label\": \"Predicted\"}, {\"date\": \"2021-06-01T00:00:00\", \"y_test\": 43.349998474121094, \"y_pred\": 42.734500474685774, \"label\": \"Actual\", \"predicted_label\": \"Predicted\"}, {\"date\": \"2021-06-02T00:00:00\", \"y_test\": 43.0, \"y_pred\": 42.41038501175759, \"label\": \"Actual\", \"predicted_label\": \"Predicted\"}, {\"date\": \"2021-06-03T00:00:00\", \"y_test\": 42.45000076293945, \"y_pred\": 43.12142661132453, \"label\": \"Actual\", \"predicted_label\": \"Predicted\"}, {\"date\": \"2021-06-04T00:00:00\", \"y_test\": 42.95000076293945, \"y_pred\": 42.83161894955459, \"label\": \"Actual\", \"predicted_label\": \"Predicted\"}, {\"date\": \"2021-06-07T00:00:00\", \"y_test\": 43.59999847412108, \"y_pred\": 43.28526658571939, \"label\": \"Actual\", \"predicted_label\": \"Predicted\"}, {\"date\": \"2021-06-08T00:00:00\", \"y_test\": 43.5, \"y_pred\": 44.011688861285954, \"label\": \"Actual\", \"predicted_label\": \"Predicted\"}, {\"date\": \"2021-06-09T00:00:00\", \"y_test\": 43.400001525878906, \"y_pred\": 43.67110335268531, \"label\": \"Actual\", \"predicted_label\": \"Predicted\"}, {\"date\": \"2021-06-10T00:00:00\", \"y_test\": 48.95000076293945, \"y_pred\": 42.679191650215934, \"label\": \"Actual\", \"predicted_label\": \"Predicted\"}, {\"date\": \"2021-06-10T00:00:00\", \"y_test\": 48.95000076293945, \"y_pred\": 49.67850039151284, \"label\": \"Actual\", \"predicted_label\": \"Predicted\"}, {\"date\": \"2021-06-11T00:00:00\", \"y_test\": 48.70000076293945, \"y_pred\": 49.43759097719273, \"label\": \"Actual\", \"predicted_label\": \"Predicted\"}, {\"date\": \"2021-06-14T00:00:00\", \"y_test\": 46.400001525878906, \"y_pred\": 47.817558587957336, \"label\": \"Actual\", \"predicted_label\": \"Predicted\"}, {\"date\": \"2021-06-15T00:00:00\", \"y_test\": 46.9000015258789, \"y_pred\": 47.27825252970775, \"label\": \"Actual\", \"predicted_label\": \"Predicted\"}, {\"date\": \"2021-06-16T00:00:00\", \"y_test\": 46.450000762939446, \"y_pred\": 47.121625289616674, \"label\": \"Actual\", \"predicted_label\": \"Predicted\"}, {\"date\": \"2021-06-17T00:00:00\", \"y_test\": 45.400001525878906, \"y_pred\": 45.57651581747194, \"label\": \"Actual\", \"predicted_label\": \"Predicted\"}, {\"date\": \"2021-06-18T00:00:00\", \"y_test\": 44.84999847412108, \"y_pred\": 45.374797424705164, \"label\": \"Actual\", \"predicted_label\": \"Predicted\"}, {\"date\": \"2021-06-21T00:00:00\", \"y_test\": 46.900001525878906, \"y_pred\": 44.03505480877889, \"label\": \"Actual\", \"predicted_label\": \"Predicted\"}, {\"date\": \"2021-06-22T00:00:00\", \"y_test\": 47.299999237060554, \"y_pred\": 46.65181389771564, \"label\": \"Actual\", \"predicted_label\": \"Predicted\"}, {\"date\": \"2021-06-23T00:00:00\", \"y_test\": 46.25, \"y_pred\": 46.69286353301029, \"label\": \"Actual\", \"predicted_label\": \"Predicted\"}, {\"date\": \"2021-06-24T00:00:00\", \"y_test\": 46.24999999999999, \"y_pred\": 46.52593624558029, \"label\": \"Actual\", \"predicted_label\": \"Predicted\"}, {\"date\": \"2021-06-25T00:00:00\", \"y_test\": 45.5, \"y_pred\": 46.28361402082502, \"label\": \"Actual\", \"predicted_label\": \"Predicted\"}, {\"date\": \"2021-06-28T00:00:00\", \"y_test\": 44.70000076293945, \"y_pred\": 44.9871413668382, \"label\": \"Actual\", \"predicted_label\": \"Predicted\"}, {\"date\": \"2021-06-29T00:00:00\", \"y_test\": 44.650001525878906, \"y_pred\": 44.0906829745206, \"label\": \"Actual\", \"predicted_label\": \"Predicted\"}, {\"date\": \"2021-06-30T00:00:00\", \"y_test\": 44.25000000000001, \"y_pred\": 44.85220611848397, \"label\": \"Actual\", \"predicted_label\": \"Predicted\"}, {\"date\": \"2021-07-01T00:00:00\", \"y_test\": 43.84999847412108, \"y_pred\": 43.91771941619325, \"label\": \"Actual\", \"predicted_label\": \"Predicted\"}, {\"date\": \"2021-07-02T00:00:00\", \"y_test\": 43.79999923706055, \"y_pred\": 43.449805093387084, \"label\": \"Actual\", \"predicted_label\": \"Predicted\"}, {\"date\": \"2021-07-05T00:00:00\", \"y_test\": 43.54999923706055, \"y_pred\": 43.333911636577305, \"label\": \"Actual\", \"predicted_label\": \"Predicted\"}, {\"date\": \"2021-07-06T00:00:00\", \"y_test\": 42.95000076293946, \"y_pred\": 43.37804308867803, \"label\": \"Actual\", \"predicted_label\": \"Predicted\"}, {\"date\": \"2021-07-07T00:00:00\", \"y_test\": 43.09999847412109, \"y_pred\": 42.5777718354422, \"label\": \"Actual\", \"predicted_label\": \"Predicted\"}, {\"date\": \"2021-07-08T00:00:00\", \"y_test\": 43.04999923706055, \"y_pred\": 43.42647040716183, \"label\": \"Actual\", \"predicted_label\": \"Predicted\"}, {\"date\": \"2021-07-09T00:00:00\", \"y_test\": 42.29999923706055, \"y_pred\": 43.00529278829043, \"label\": \"Actual\", \"predicted_label\": \"Predicted\"}, {\"date\": \"2021-07-12T00:00:00\", \"y_test\": 42.65000152587891, \"y_pred\": 42.50571567324578, \"label\": \"Actual\", \"predicted_label\": \"Predicted\"}, {\"date\": \"2021-07-13T00:00:00\", \"y_test\": 42.29999923706055, \"y_pred\": 42.336461856783316, \"label\": \"Actual\", \"predicted_label\": \"Predicted\"}, {\"date\": \"2021-07-14T00:00:00\", \"y_test\": 41.50000000000001, \"y_pred\": 41.560516498956936, \"label\": \"Actual\", \"predicted_label\": \"Predicted\"}, {\"date\": \"2021-07-15T00:00:00\", \"y_test\": 42.84999847412109, \"y_pred\": 41.64114810552155, \"label\": \"Actual\", \"predicted_label\": \"Predicted\"}, {\"date\": \"2021-07-16T00:00:00\", \"y_test\": 42.900001525878906, \"y_pred\": 43.338763894129, \"label\": \"Actual\", \"predicted_label\": \"Predicted\"}, {\"date\": \"2021-07-19T00:00:00\", \"y_test\": 41.95000076293945, \"y_pred\": 42.74082834429367, \"label\": \"Actual\", \"predicted_label\": \"Predicted\"}, {\"date\": \"2021-07-20T00:00:00\", \"y_test\": 41.95000076293945, \"y_pred\": 42.08636040326794, \"label\": \"Actual\", \"predicted_label\": \"Predicted\"}, {\"date\": \"2021-07-22T00:00:00\", \"y_test\": 43.45000076293946, \"y_pred\": 41.565366426113485, \"label\": \"Actual\", \"predicted_label\": \"Predicted\"}, {\"date\": \"2021-07-22T00:00:00\", \"y_test\": 43.45000076293946, \"y_pred\": 42.47546016237527, \"label\": \"Actual\", \"predicted_label\": \"Predicted\"}, {\"date\": \"2021-07-22T00:00:00\", \"y_test\": 43.45000076293946, \"y_pred\": 42.36968594721985, \"label\": \"Actual\", \"predicted_label\": \"Predicted\"}, {\"date\": \"2021-07-23T00:00:00\", \"y_test\": 41.95000076293945, \"y_pred\": 42.3666904340386, \"label\": \"Actual\", \"predicted_label\": \"Predicted\"}, {\"date\": \"2021-07-26T00:00:00\", \"y_test\": 41.0, \"y_pred\": 41.05240139203677, \"label\": \"Actual\", \"predicted_label\": \"Predicted\"}, {\"date\": \"2021-07-27T00:00:00\", \"y_test\": 39.04999923706055, \"y_pred\": 39.08845376459146, \"label\": \"Actual\", \"predicted_label\": \"Predicted\"}, {\"date\": \"2021-07-28T00:00:00\", \"y_test\": 38.400001525878906, \"y_pred\": 38.02848444966879, \"label\": \"Actual\", \"predicted_label\": \"Predicted\"}, {\"date\": \"2021-07-29T00:00:00\", \"y_test\": 39.09999847412109, \"y_pred\": 38.921427707280166, \"label\": \"Actual\", \"predicted_label\": \"Predicted\"}, {\"date\": \"2021-07-30T00:00:00\", \"y_test\": 39.599998474121094, \"y_pred\": 39.690591293461836, \"label\": \"Actual\", \"predicted_label\": \"Predicted\"}, {\"date\": \"2021-08-02T00:00:00\", \"y_test\": 39.650001525878906, \"y_pred\": 39.80097729738972, \"label\": \"Actual\", \"predicted_label\": \"Predicted\"}, {\"date\": \"2021-08-03T00:00:00\", \"y_test\": 39.29999923706055, \"y_pred\": 39.841638194476324, \"label\": \"Actual\", \"predicted_label\": \"Predicted\"}, {\"date\": \"2021-08-04T00:00:00\", \"y_test\": 38.900001525878906, \"y_pred\": 39.236805947450385, \"label\": \"Actual\", \"predicted_label\": \"Predicted\"}, {\"date\": \"2021-08-05T00:00:00\", \"y_test\": 37.650001525878906, \"y_pred\": 38.34447008495866, \"label\": \"Actual\", \"predicted_label\": \"Predicted\"}, {\"date\": \"2021-08-06T00:00:00\", \"y_test\": 37.5, \"y_pred\": 37.65148779296042, \"label\": \"Actual\", \"predicted_label\": \"Predicted\"}, {\"date\": \"2021-08-09T00:00:00\", \"y_test\": 40.20000076293945, \"y_pred\": 37.3947056651749, \"label\": \"Actual\", \"predicted_label\": \"Predicted\"}, {\"date\": \"2021-08-09T00:00:00\", \"y_test\": 40.20000076293945, \"y_pred\": 40.277441715613875, \"label\": \"Actual\", \"predicted_label\": \"Predicted\"}, {\"date\": \"2021-08-10T00:00:00\", \"y_test\": 39.99999999999999, \"y_pred\": 40.24021468155796, \"label\": \"Actual\", \"predicted_label\": \"Predicted\"}, {\"date\": \"2021-08-11T00:00:00\", \"y_test\": 38.400001525878906, \"y_pred\": 38.32395224224617, \"label\": \"Actual\", \"predicted_label\": \"Predicted\"}, {\"date\": \"2021-08-12T00:00:00\", \"y_test\": 39.09999847412109, \"y_pred\": 39.10548728499617, \"label\": \"Actual\", \"predicted_label\": \"Predicted\"}, {\"date\": \"2021-08-13T00:00:00\", \"y_test\": 38.79999923706055, \"y_pred\": 39.18468247873239, \"label\": \"Actual\", \"predicted_label\": \"Predicted\"}, {\"date\": \"2021-08-16T00:00:00\", \"y_test\": 38.0, \"y_pred\": 38.24337935805029, \"label\": \"Actual\", \"predicted_label\": \"Predicted\"}, {\"date\": \"2021-08-17T00:00:00\", \"y_test\": 37.200000762939446, \"y_pred\": 37.71827090589899, \"label\": \"Actual\", \"predicted_label\": \"Predicted\"}, {\"date\": \"2021-08-18T00:00:00\", \"y_test\": 37.400001525878906, \"y_pred\": 37.534849184238695, \"label\": \"Actual\", \"predicted_label\": \"Predicted\"}, {\"date\": \"2021-08-20T00:00:00\", \"y_test\": 36.54999923706055, \"y_pred\": 37.56901980418938, \"label\": \"Actual\", \"predicted_label\": \"Predicted\"}, {\"date\": \"2021-08-23T00:00:00\", \"y_test\": 35.400001525878906, \"y_pred\": 35.58406512191598, \"label\": \"Actual\", \"predicted_label\": \"Predicted\"}, {\"date\": \"2021-08-24T00:00:00\", \"y_test\": 34.79999923706055, \"y_pred\": 34.20319431158208, \"label\": \"Actual\", \"predicted_label\": \"Predicted\"}, {\"date\": \"2021-08-25T00:00:00\", \"y_test\": 35.70000076293945, \"y_pred\": 35.29907941641748, \"label\": \"Actual\", \"predicted_label\": \"Predicted\"}, {\"date\": \"2021-08-26T00:00:00\", \"y_test\": 35.79999923706055, \"y_pred\": 35.94399606444139, \"label\": \"Actual\", \"predicted_label\": \"Predicted\"}, {\"date\": \"2021-08-27T00:00:00\", \"y_test\": 34.900001525878906, \"y_pred\": 35.5884333962907, \"label\": \"Actual\", \"predicted_label\": \"Predicted\"}, {\"date\": \"2021-08-30T00:00:00\", \"y_test\": 34.95000076293945, \"y_pred\": 35.08442245125617, \"label\": \"Actual\", \"predicted_label\": \"Predicted\"}, {\"date\": \"2021-08-31T00:00:00\", \"y_test\": 35.349998474121094, \"y_pred\": 35.147045606019475, \"label\": \"Actual\", \"predicted_label\": \"Predicted\"}, {\"date\": \"2021-09-01T00:00:00\", \"y_test\": 35.45000076293945, \"y_pred\": 35.77199937289281, \"label\": \"Actual\", \"predicted_label\": \"Predicted\"}, {\"date\": \"2021-09-02T00:00:00\", \"y_test\": 36.09999847412109, \"y_pred\": 35.2018020316342, \"label\": \"Actual\", \"predicted_label\": \"Predicted\"}, {\"date\": \"2021-09-03T00:00:00\", \"y_test\": 37.04999923706055, \"y_pred\": 35.89240775791644, \"label\": \"Actual\", \"predicted_label\": \"Predicted\"}, {\"date\": \"2021-09-06T00:00:00\", \"y_test\": 37.5, \"y_pred\": 37.206353404123085, \"label\": \"Actual\", \"predicted_label\": \"Predicted\"}, {\"date\": \"2021-09-07T00:00:00\", \"y_test\": 36.54999923706055, \"y_pred\": 37.276847224824245, \"label\": \"Actual\", \"predicted_label\": \"Predicted\"}, {\"date\": \"2021-09-08T00:00:00\", \"y_test\": 36.29999923706055, \"y_pred\": 36.62543486490298, \"label\": \"Actual\", \"predicted_label\": \"Predicted\"}, {\"date\": \"2021-09-09T00:00:00\", \"y_test\": 36.0, \"y_pred\": 36.545666684286665, \"label\": \"Actual\", \"predicted_label\": \"Predicted\"}, {\"date\": \"2021-09-13T00:00:00\", \"y_test\": 36.70000076293945, \"y_pred\": 36.488306510440495, \"label\": \"Actual\", \"predicted_label\": \"Predicted\"}, {\"date\": \"2021-09-14T00:00:00\", \"y_test\": 40.400001525878906, \"y_pred\": 36.81984445000591, \"label\": \"Actual\", \"predicted_label\": \"Predicted\"}, {\"date\": \"2021-09-14T00:00:00\", \"y_test\": 40.400001525878906, \"y_pred\": 40.963745095444644, \"label\": \"Actual\", \"predicted_label\": \"Predicted\"}, {\"date\": \"2021-09-15T00:00:00\", \"y_test\": 41.24999999999999, \"y_pred\": 40.920033100121074, \"label\": \"Actual\", \"predicted_label\": \"Predicted\"}, {\"date\": \"2021-09-16T00:00:00\", \"y_test\": 39.150001525878906, \"y_pred\": 40.09443575751624, \"label\": \"Actual\", \"predicted_label\": \"Predicted\"}, {\"date\": \"2021-09-17T00:00:00\", \"y_test\": 38.5, \"y_pred\": 39.092583154401446, \"label\": \"Actual\", \"predicted_label\": \"Predicted\"}, {\"date\": \"2021-09-20T00:00:00\", \"y_test\": 38.54999923706055, \"y_pred\": 37.94897441849513, \"label\": \"Actual\", \"predicted_label\": \"Predicted\"}, {\"date\": \"2021-09-21T00:00:00\", \"y_test\": 37.150001525878906, \"y_pred\": 37.45569555560737, \"label\": \"Actual\", \"predicted_label\": \"Predicted\"}, {\"date\": \"2021-09-22T00:00:00\", \"y_test\": 40.400001525878906, \"y_pred\": 37.56955327373967, \"label\": \"Actual\", \"predicted_label\": \"Predicted\"}, {\"date\": \"2021-09-22T00:00:00\", \"y_test\": 40.400001525878906, \"y_pred\": 40.07270596267108, \"label\": \"Actual\", \"predicted_label\": \"Predicted\"}, {\"date\": \"2021-09-22T00:00:00\", \"y_test\": 40.400001525878906, \"y_pred\": 40.07883774350075, \"label\": \"Actual\", \"predicted_label\": \"Predicted\"}, {\"date\": \"2021-09-23T00:00:00\", \"y_test\": 40.150001525878906, \"y_pred\": 40.103539189061976, \"label\": \"Actual\", \"predicted_label\": \"Predicted\"}, {\"date\": \"2021-09-24T00:00:00\", \"y_test\": 39.29999923706055, \"y_pred\": 39.94357225647119, \"label\": \"Actual\", \"predicted_label\": \"Predicted\"}, {\"date\": \"2021-09-27T00:00:00\", \"y_test\": 38.24999999999999, \"y_pred\": 39.04885460533296, \"label\": \"Actual\", \"predicted_label\": \"Predicted\"}, {\"date\": \"2021-09-28T00:00:00\", \"y_test\": 39.29999923706055, \"y_pred\": 38.637497654744514, \"label\": \"Actual\", \"predicted_label\": \"Predicted\"}, {\"date\": \"2021-09-29T00:00:00\", \"y_test\": 39.400001525878906, \"y_pred\": 38.98716466871233, \"label\": \"Actual\", \"predicted_label\": \"Predicted\"}, {\"date\": \"2021-09-30T00:00:00\", \"y_test\": 39.20000076293945, \"y_pred\": 39.61814496089574, \"label\": \"Actual\", \"predicted_label\": \"Predicted\"}, {\"date\": \"2021-10-01T00:00:00\", \"y_test\": 41.84999847412109, \"y_pred\": 39.01474178449492, \"label\": \"Actual\", \"predicted_label\": \"Predicted\"}, {\"date\": \"2021-10-04T00:00:00\", \"y_test\": 44.5, \"y_pred\": 42.87248851119807, \"label\": \"Actual\", \"predicted_label\": \"Predicted\"}, {\"date\": \"2021-10-05T00:00:00\", \"y_test\": 45.20000076293945, \"y_pred\": 45.08078181014449, \"label\": \"Actual\", \"predicted_label\": \"Predicted\"}, {\"date\": \"2021-10-06T00:00:00\", \"y_test\": 44.70000076293945, \"y_pred\": 46.014090138220574, \"label\": \"Actual\", \"predicted_label\": \"Predicted\"}, {\"date\": \"2021-10-07T00:00:00\", \"y_test\": 44.00000000000001, \"y_pred\": 44.08822553128791, \"label\": \"Actual\", \"predicted_label\": \"Predicted\"}, {\"date\": \"2021-10-08T00:00:00\", \"y_test\": 43.9000015258789, \"y_pred\": 44.85761077282318, \"label\": \"Actual\", \"predicted_label\": \"Predicted\"}, {\"date\": \"2021-10-11T00:00:00\", \"y_test\": 43.59999847412109, \"y_pred\": 44.224222820042186, \"label\": \"Actual\", \"predicted_label\": \"Predicted\"}, {\"date\": \"2021-10-12T00:00:00\", \"y_test\": 47.400001525878906, \"y_pred\": 44.07410010526533, \"label\": \"Actual\", \"predicted_label\": \"Predicted\"}, {\"date\": \"2021-10-13T00:00:00\", \"y_test\": 46.99999999999999, \"y_pred\": 47.91611388554058, \"label\": \"Actual\", \"predicted_label\": \"Predicted\"}, {\"date\": \"2021-10-14T00:00:00\", \"y_test\": 46.34999847412109, \"y_pred\": 44.979937200136895, \"label\": \"Actual\", \"predicted_label\": \"Predicted\"}, {\"date\": \"2021-10-18T00:00:00\", \"y_test\": 48.75, \"y_pred\": 47.19208936745326, \"label\": \"Actual\", \"predicted_label\": \"Predicted\"}, {\"date\": \"2021-10-19T00:00:00\", \"y_test\": 52.5, \"y_pred\": 48.04505501289574, \"label\": \"Actual\", \"predicted_label\": \"Predicted\"}, {\"date\": \"2021-10-19T00:00:00\", \"y_test\": 52.5, \"y_pred\": 47.8959649053892, \"label\": \"Actual\", \"predicted_label\": \"Predicted\"}, {\"date\": \"2021-10-20T00:00:00\", \"y_test\": 48.29999923706055, \"y_pred\": 47.731251883879786, \"label\": \"Actual\", \"predicted_label\": \"Predicted\"}, {\"date\": \"2021-10-21T00:00:00\", \"y_test\": 46.95000076293945, \"y_pred\": 47.32285610282148, \"label\": \"Actual\", \"predicted_label\": \"Predicted\"}, {\"date\": \"2021-10-22T00:00:00\", \"y_test\": 46.29999923706055, \"y_pred\": 46.42489855265551, \"label\": \"Actual\", \"predicted_label\": \"Predicted\"}, {\"date\": \"2021-10-25T00:00:00\", \"y_test\": 43.34999847412109, \"y_pred\": 44.08549022755113, \"label\": \"Actual\", \"predicted_label\": \"Predicted\"}, {\"date\": \"2021-10-26T00:00:00\", \"y_test\": 43.34999847412109, \"y_pred\": 41.851444858996395, \"label\": \"Actual\", \"predicted_label\": \"Predicted\"}, {\"date\": \"2021-10-27T00:00:00\", \"y_test\": 43.150001525878906, \"y_pred\": 44.05273133506044, \"label\": \"Actual\", \"predicted_label\": \"Predicted\"}, {\"date\": \"2021-10-28T00:00:00\", \"y_test\": 41.900001525878906, \"y_pred\": 42.957437569783764, \"label\": \"Actual\", \"predicted_label\": \"Predicted\"}, {\"date\": \"2021-10-29T00:00:00\", \"y_test\": 41.900001525878906, \"y_pred\": 42.234269284507185, \"label\": \"Actual\", \"predicted_label\": \"Predicted\"}, {\"date\": \"2021-11-01T00:00:00\", \"y_test\": 42.45000076293945, \"y_pred\": 42.529750014225854, \"label\": \"Actual\", \"predicted_label\": \"Predicted\"}, {\"date\": \"2021-11-02T00:00:00\", \"y_test\": 43.75000000000001, \"y_pred\": 43.09692641732661, \"label\": \"Actual\", \"predicted_label\": \"Predicted\"}, {\"date\": \"2021-11-03T00:00:00\", \"y_test\": 43.5, \"y_pred\": 44.09022566041949, \"label\": \"Actual\", \"predicted_label\": \"Predicted\"}, {\"date\": \"2021-11-04T00:00:00\", \"y_test\": 43.34999847412109, \"y_pred\": 43.565903950277075, \"label\": \"Actual\", \"predicted_label\": \"Predicted\"}, {\"date\": \"2021-11-08T00:00:00\", \"y_test\": 46.0, \"y_pred\": 44.357748115660286, \"label\": \"Actual\", \"predicted_label\": \"Predicted\"}, {\"date\": \"2021-11-09T00:00:00\", \"y_test\": 46.79999923706055, \"y_pred\": 47.090908800392135, \"label\": \"Actual\", \"predicted_label\": \"Predicted\"}, {\"date\": \"2021-11-10T00:00:00\", \"y_test\": 48.400001525878906, \"y_pred\": 47.43831422900685, \"label\": \"Actual\", \"predicted_label\": \"Predicted\"}, {\"date\": \"2021-11-11T00:00:00\", \"y_test\": 48.45000076293945, \"y_pred\": 49.010592172143944, \"label\": \"Actual\", \"predicted_label\": \"Predicted\"}, {\"date\": \"2021-11-12T00:00:00\", \"y_test\": 47.299999237060554, \"y_pred\": 47.97816850499206, \"label\": \"Actual\", \"predicted_label\": \"Predicted\"}, {\"date\": \"2021-11-15T00:00:00\", \"y_test\": 47.5, \"y_pred\": 47.98869374442331, \"label\": \"Actual\", \"predicted_label\": \"Predicted\"}, {\"date\": \"2021-11-16T00:00:00\", \"y_test\": 46.0, \"y_pred\": 46.13835176636704, \"label\": \"Actual\", \"predicted_label\": \"Predicted\"}, {\"date\": \"2021-11-17T00:00:00\", \"y_test\": 45.650001525878906, \"y_pred\": 45.8703341016401, \"label\": \"Actual\", \"predicted_label\": \"Predicted\"}, {\"date\": \"2021-11-18T00:00:00\", \"y_test\": 45.04999923706055, \"y_pred\": 46.02486099721509, \"label\": \"Actual\", \"predicted_label\": \"Predicted\"}, {\"date\": \"2021-11-22T00:00:00\", \"y_test\": 43.45000076293945, \"y_pred\": 44.36279653186499, \"label\": \"Actual\", \"predicted_label\": \"Predicted\"}, {\"date\": \"2021-11-23T00:00:00\", \"y_test\": 42.70000076293945, \"y_pred\": 42.02694609813088, \"label\": \"Actual\", \"predicted_label\": \"Predicted\"}, {\"date\": \"2021-11-24T00:00:00\", \"y_test\": 42.65000152587891, \"y_pred\": 43.456705902622, \"label\": \"Actual\", \"predicted_label\": \"Predicted\"}, {\"date\": \"2021-11-25T00:00:00\", \"y_test\": 42.59999847412109, \"y_pred\": 42.942786128333616, \"label\": \"Actual\", \"predicted_label\": \"Predicted\"}, {\"date\": \"2021-11-26T00:00:00\", \"y_test\": 42.79999923706054, \"y_pred\": 43.30159113959423, \"label\": \"Actual\", \"predicted_label\": \"Predicted\"}, {\"date\": \"2021-11-29T00:00:00\", \"y_test\": 42.099998474121094, \"y_pred\": 42.51161300679918, \"label\": \"Actual\", \"predicted_label\": \"Predicted\"}, {\"date\": \"2021-11-30T00:00:00\", \"y_test\": 42.25, \"y_pred\": 42.16430728895175, \"label\": \"Actual\", \"predicted_label\": \"Predicted\"}, {\"date\": \"2021-12-01T00:00:00\", \"y_test\": 42.09999847412108, \"y_pred\": 42.52515237167968, \"label\": \"Actual\", \"predicted_label\": \"Predicted\"}, {\"date\": \"2021-12-02T00:00:00\", \"y_test\": 41.9000015258789, \"y_pred\": 42.0959376429641, \"label\": \"Actual\", \"predicted_label\": \"Predicted\"}, {\"date\": \"2021-12-03T00:00:00\", \"y_test\": 42.0, \"y_pred\": 41.75374285884621, \"label\": \"Actual\", \"predicted_label\": \"Predicted\"}, {\"date\": \"2021-12-06T00:00:00\", \"y_test\": 42.099998474121094, \"y_pred\": 42.15893042138929, \"label\": \"Actual\", \"predicted_label\": \"Predicted\"}, {\"date\": \"2021-12-07T00:00:00\", \"y_test\": 41.95000076293945, \"y_pred\": 41.68025010018839, \"label\": \"Actual\", \"predicted_label\": \"Predicted\"}, {\"date\": \"2021-12-08T00:00:00\", \"y_test\": 42.45000076293945, \"y_pred\": 41.85573019395813, \"label\": \"Actual\", \"predicted_label\": \"Predicted\"}, {\"date\": \"2021-12-09T00:00:00\", \"y_test\": 45.1500015258789, \"y_pred\": 42.45616054442001, \"label\": \"Actual\", \"predicted_label\": \"Predicted\"}, {\"date\": \"2021-12-09T00:00:00\", \"y_test\": 45.150001525878906, \"y_pred\": 45.48335737531829, \"label\": \"Actual\", \"predicted_label\": \"Predicted\"}, {\"date\": \"2021-12-10T00:00:00\", \"y_test\": 50.70000076293945, \"y_pred\": 45.42812504630511, \"label\": \"Actual\", \"predicted_label\": \"Predicted\"}, {\"date\": \"2021-12-10T00:00:00\", \"y_test\": 50.70000076293946, \"y_pred\": 51.80259334589945, \"label\": \"Actual\", \"predicted_label\": \"Predicted\"}, {\"date\": \"2021-12-10T00:00:00\", \"y_test\": 50.70000076293946, \"y_pred\": 51.609337764255045, \"label\": \"Actual\", \"predicted_label\": \"Predicted\"}, {\"date\": \"2021-12-10T00:00:00\", \"y_test\": 50.70000076293946, \"y_pred\": 51.5786471605986, \"label\": \"Actual\", \"predicted_label\": \"Predicted\"}, {\"date\": \"2021-12-10T00:00:00\", \"y_test\": 50.70000076293946, \"y_pred\": 51.53021448229588, \"label\": \"Actual\", \"predicted_label\": \"Predicted\"}, {\"date\": \"2021-12-10T00:00:00\", \"y_test\": 50.70000076293946, \"y_pred\": 51.533834333953855, \"label\": \"Actual\", \"predicted_label\": \"Predicted\"}, {\"date\": \"2021-12-13T00:00:00\", \"y_test\": 53.900001525878906, \"y_pred\": 51.495934278393555, \"label\": \"Actual\", \"predicted_label\": \"Predicted\"}, {\"date\": \"2021-12-13T00:00:00\", \"y_test\": 53.9000015258789, \"y_pred\": 53.75142804063244, \"label\": \"Actual\", \"predicted_label\": \"Predicted\"}, {\"date\": \"2021-12-13T00:00:00\", \"y_test\": 53.9000015258789, \"y_pred\": 53.67555316442797, \"label\": \"Actual\", \"predicted_label\": \"Predicted\"}, {\"date\": \"2021-12-13T00:00:00\", \"y_test\": 53.9000015258789, \"y_pred\": 53.65074732674872, \"label\": \"Actual\", \"predicted_label\": \"Predicted\"}, {\"date\": \"2021-12-13T00:00:00\", \"y_test\": 53.9000015258789, \"y_pred\": 53.53334242317814, \"label\": \"Actual\", \"predicted_label\": \"Predicted\"}, {\"date\": \"2021-12-13T00:00:00\", \"y_test\": 53.9000015258789, \"y_pred\": 53.49526637071926, \"label\": \"Actual\", \"predicted_label\": \"Predicted\"}, {\"date\": \"2021-12-14T00:00:00\", \"y_test\": 55.79999923706054, \"y_pred\": 53.57704206011833, \"label\": \"Actual\", \"predicted_label\": \"Predicted\"}, {\"date\": \"2021-12-14T00:00:00\", \"y_test\": 55.799999237060554, \"y_pred\": 56.06467396852956, \"label\": \"Actual\", \"predicted_label\": \"Predicted\"}, {\"date\": \"2021-12-14T00:00:00\", \"y_test\": 55.799999237060554, \"y_pred\": 56.229618113833766, \"label\": \"Actual\", \"predicted_label\": \"Predicted\"}, {\"date\": \"2021-12-14T00:00:00\", \"y_test\": 55.799999237060554, \"y_pred\": 56.15363577472462, \"label\": \"Actual\", \"predicted_label\": \"Predicted\"}, {\"date\": \"2021-12-14T00:00:00\", \"y_test\": 55.799999237060554, \"y_pred\": 55.7933931049048, \"label\": \"Actual\", \"predicted_label\": \"Predicted\"}, {\"date\": \"2021-12-14T00:00:00\", \"y_test\": 55.799999237060554, \"y_pred\": 55.98081562376829, \"label\": \"Actual\", \"predicted_label\": \"Predicted\"}, {\"date\": \"2021-12-14T00:00:00\", \"y_test\": 55.799999237060554, \"y_pred\": 55.94047930270579, \"label\": \"Actual\", \"predicted_label\": \"Predicted\"}, {\"date\": \"2021-12-15T00:00:00\", \"y_test\": 54.400001525878906, \"y_pred\": 55.89575026517748, \"label\": \"Actual\", \"predicted_label\": \"Predicted\"}, {\"date\": \"2021-12-16T00:00:00\", \"y_test\": 53.04999923706055, \"y_pred\": 54.1753863421065, \"label\": \"Actual\", \"predicted_label\": \"Predicted\"}, {\"date\": \"2021-12-17T00:00:00\", \"y_test\": 49.70000076293946, \"y_pred\": 51.205976919313, \"label\": \"Actual\", \"predicted_label\": \"Predicted\"}, {\"date\": \"2021-12-20T00:00:00\", \"y_test\": 45.0, \"y_pred\": 47.04481901427146, \"label\": \"Actual\", \"predicted_label\": \"Predicted\"}, {\"date\": \"2021-12-21T00:00:00\", \"y_test\": 45.400001525878906, \"y_pred\": 45.321627871184084, \"label\": \"Actual\", \"predicted_label\": \"Predicted\"}, {\"date\": \"2021-12-22T00:00:00\", \"y_test\": 46.20000076293945, \"y_pred\": 45.54543979785128, \"label\": \"Actual\", \"predicted_label\": \"Predicted\"}, {\"date\": \"2021-12-23T00:00:00\", \"y_test\": 45.900001525878906, \"y_pred\": 46.85946690615299, \"label\": \"Actual\", \"predicted_label\": \"Predicted\"}, {\"date\": \"2021-12-24T00:00:00\", \"y_test\": 46.25, \"y_pred\": 46.05316060584148, \"label\": \"Actual\", \"predicted_label\": \"Predicted\"}, {\"date\": \"2021-12-27T00:00:00\", \"y_test\": 45.79999923706055, \"y_pred\": 46.71759895364918, \"label\": \"Actual\", \"predicted_label\": \"Predicted\"}, {\"date\": \"2021-12-28T00:00:00\", \"y_test\": 45.549999237060554, \"y_pred\": 45.56760537160418, \"label\": \"Actual\", \"predicted_label\": \"Predicted\"}, {\"date\": \"2021-12-29T00:00:00\", \"y_test\": 45.29999923706055, \"y_pred\": 45.8259339458718, \"label\": \"Actual\", \"predicted_label\": \"Predicted\"}, {\"date\": \"2021-12-30T00:00:00\", \"y_test\": 44.95000076293945, \"y_pred\": 45.38164260079285, \"label\": \"Actual\", \"predicted_label\": \"Predicted\"}, {\"date\": \"2021-12-31T00:00:00\", \"y_test\": 46.00000000000001, \"y_pred\": 44.87822446107122, \"label\": \"Actual\", \"predicted_label\": \"Predicted\"}, {\"date\": \"2022-01-03T00:00:00\", \"y_test\": 46.9000015258789, \"y_pred\": 45.960519685299886, \"label\": \"Actual\", \"predicted_label\": \"Predicted\"}, {\"date\": \"2022-01-04T00:00:00\", \"y_test\": 47.650001525878906, \"y_pred\": 47.458405726749795, \"label\": \"Actual\", \"predicted_label\": \"Predicted\"}, {\"date\": \"2022-01-05T00:00:00\", \"y_test\": 46.70000076293945, \"y_pred\": 47.80541518405569, \"label\": \"Actual\", \"predicted_label\": \"Predicted\"}, {\"date\": \"2022-01-06T00:00:00\", \"y_test\": 46.70000076293945, \"y_pred\": 46.803335179682705, \"label\": \"Actual\", \"predicted_label\": \"Predicted\"}, {\"date\": \"2022-01-07T00:00:00\", \"y_test\": 47.650001525878906, \"y_pred\": 47.619487804171655, \"label\": \"Actual\", \"predicted_label\": \"Predicted\"}, {\"date\": \"2022-01-10T00:00:00\", \"y_test\": 47.04999923706055, \"y_pred\": 47.4527551837949, \"label\": \"Actual\", \"predicted_label\": \"Predicted\"}, {\"date\": \"2022-01-11T00:00:00\", \"y_test\": 47.09999847412109, \"y_pred\": 47.89133529699413, \"label\": \"Actual\", \"predicted_label\": \"Predicted\"}, {\"date\": \"2022-01-12T00:00:00\", \"y_test\": 46.650001525878906, \"y_pred\": 47.133986228085476, \"label\": \"Actual\", \"predicted_label\": \"Predicted\"}, {\"date\": \"2022-01-13T00:00:00\", \"y_test\": 48.650001525878906, \"y_pred\": 46.941099904352484, \"label\": \"Actual\", \"predicted_label\": \"Predicted\"}, {\"date\": \"2022-01-14T00:00:00\", \"y_test\": 48.5, \"y_pred\": 48.50154402744363, \"label\": \"Actual\", \"predicted_label\": \"Predicted\"}, {\"date\": \"2022-01-17T00:00:00\", \"y_test\": 49.34999847412109, \"y_pred\": 49.23675130253812, \"label\": \"Actual\", \"predicted_label\": \"Predicted\"}, {\"date\": \"2022-01-18T00:00:00\", \"y_test\": 50.79999923706054, \"y_pred\": 49.70758492875265, \"label\": \"Actual\", \"predicted_label\": \"Predicted\"}, {\"date\": \"2022-01-18T00:00:00\", \"y_test\": 50.799999237060554, \"y_pred\": 50.498841406914046, \"label\": \"Actual\", \"predicted_label\": \"Predicted\"}, {\"date\": \"2022-01-18T00:00:00\", \"y_test\": 50.799999237060554, \"y_pred\": 50.59547201796297, \"label\": \"Actual\", \"predicted_label\": \"Predicted\"}, {\"date\": \"2022-01-19T00:00:00\", \"y_test\": 55.1500015258789, \"y_pred\": 50.83903151545988, \"label\": \"Actual\", \"predicted_label\": \"Predicted\"}, {\"date\": \"2022-01-19T00:00:00\", \"y_test\": 55.150001525878906, \"y_pred\": 54.59502997499835, \"label\": \"Actual\", \"predicted_label\": \"Predicted\"}, {\"date\": \"2022-01-19T00:00:00\", \"y_test\": 55.150001525878906, \"y_pred\": 54.45108632899599, \"label\": \"Actual\", \"predicted_label\": \"Predicted\"}, {\"date\": \"2022-01-19T00:00:00\", \"y_test\": 55.150001525878906, \"y_pred\": 54.36868976604954, \"label\": \"Actual\", \"predicted_label\": \"Predicted\"}, {\"date\": \"2022-01-19T00:00:00\", \"y_test\": 55.150001525878906, \"y_pred\": 54.07414995616701, \"label\": \"Actual\", \"predicted_label\": \"Predicted\"}, {\"date\": \"2022-01-20T00:00:00\", \"y_test\": 55.599998474121094, \"y_pred\": 54.00650461674297, \"label\": \"Actual\", \"predicted_label\": \"Predicted\"}, {\"date\": \"2022-01-20T00:00:00\", \"y_test\": 55.59999847412108, \"y_pred\": 56.9114341860309, \"label\": \"Actual\", \"predicted_label\": \"Predicted\"}, {\"date\": \"2022-01-21T00:00:00\", \"y_test\": 56.5, \"y_pred\": 56.885664959404025, \"label\": \"Actual\", \"predicted_label\": \"Predicted\"}, {\"date\": \"2022-01-24T00:00:00\", \"y_test\": 54.1500015258789, \"y_pred\": 54.69307566846911, \"label\": \"Actual\", \"predicted_label\": \"Predicted\"}, {\"date\": \"2022-01-25T00:00:00\", \"y_test\": 51.15000152587891, \"y_pred\": 51.860130762794114, \"label\": \"Actual\", \"predicted_label\": \"Predicted\"}, {\"date\": \"2022-01-27T00:00:00\", \"y_test\": 58.400001525878906, \"y_pred\": 50.23645375010853, \"label\": \"Actual\", \"predicted_label\": \"Predicted\"}, {\"date\": \"2022-01-27T00:00:00\", \"y_test\": 58.400001525878906, \"y_pred\": 60.332113385425515, \"label\": \"Actual\", \"predicted_label\": \"Predicted\"}, {\"date\": \"2022-01-27T00:00:00\", \"y_test\": 58.400001525878906, \"y_pred\": 60.20753442625801, \"label\": \"Actual\", \"predicted_label\": \"Predicted\"}, {\"date\": \"2022-01-27T00:00:00\", \"y_test\": 58.400001525878906, \"y_pred\": 59.96430226060181, \"label\": \"Actual\", \"predicted_label\": \"Predicted\"}, {\"date\": \"2022-01-27T00:00:00\", \"y_test\": 58.400001525878906, \"y_pred\": 59.94229037661019, \"label\": \"Actual\", \"predicted_label\": \"Predicted\"}, {\"date\": \"2022-01-27T00:00:00\", \"y_test\": 58.400001525878906, \"y_pred\": 60.11429997052343, \"label\": \"Actual\", \"predicted_label\": \"Predicted\"}, {\"date\": \"2022-01-27T00:00:00\", \"y_test\": 58.400001525878906, \"y_pred\": 60.20394752808785, \"label\": \"Actual\", \"predicted_label\": \"Predicted\"}, {\"date\": \"2022-01-27T00:00:00\", \"y_test\": 58.400001525878906, \"y_pred\": 59.97015014089045, \"label\": \"Actual\", \"predicted_label\": \"Predicted\"}, {\"date\": \"2022-01-27T00:00:00\", \"y_test\": 58.400001525878906, \"y_pred\": 59.97673091608365, \"label\": \"Actual\", \"predicted_label\": \"Predicted\"}, {\"date\": \"2022-01-27T00:00:00\", \"y_test\": 58.400001525878906, \"y_pred\": 59.935243225543296, \"label\": \"Actual\", \"predicted_label\": \"Predicted\"}, {\"date\": \"2022-01-27T00:00:00\", \"y_test\": 58.400001525878906, \"y_pred\": 60.05109800823096, \"label\": \"Actual\", \"predicted_label\": \"Predicted\"}, {\"date\": \"2022-01-27T00:00:00\", \"y_test\": 58.400001525878906, \"y_pred\": 60.05109800823096, \"label\": \"Actual\", \"predicted_label\": \"Predicted\"}, {\"date\": \"2022-01-27T00:00:00\", \"y_test\": 58.400001525878906, \"y_pred\": 60.05109800823096, \"label\": \"Actual\", \"predicted_label\": \"Predicted\"}, {\"date\": \"2022-01-27T00:00:00\", \"y_test\": 58.400001525878906, \"y_pred\": 60.05109800823096, \"label\": \"Actual\", \"predicted_label\": \"Predicted\"}, {\"date\": \"2022-01-27T00:00:00\", \"y_test\": 58.400001525878906, \"y_pred\": 60.05109800823096, \"label\": \"Actual\", \"predicted_label\": \"Predicted\"}, {\"date\": \"2022-01-27T00:00:00\", \"y_test\": 58.400001525878906, \"y_pred\": 60.05109800823096, \"label\": \"Actual\", \"predicted_label\": \"Predicted\"}, {\"date\": \"2022-01-27T00:00:00\", \"y_test\": 58.400001525878906, \"y_pred\": 60.05109800823096, \"label\": \"Actual\", \"predicted_label\": \"Predicted\"}, {\"date\": \"2022-01-27T00:00:00\", \"y_test\": 58.400001525878906, \"y_pred\": 60.05109800823096, \"label\": \"Actual\", \"predicted_label\": \"Predicted\"}, {\"date\": \"2022-01-27T00:00:00\", \"y_test\": 58.400001525878906, \"y_pred\": 60.05109800823096, \"label\": \"Actual\", \"predicted_label\": \"Predicted\"}, {\"date\": \"2022-01-27T00:00:00\", \"y_test\": 58.400001525878906, \"y_pred\": 60.05109800823096, \"label\": \"Actual\", \"predicted_label\": \"Predicted\"}, {\"date\": \"2022-01-27T00:00:00\", \"y_test\": 58.400001525878906, \"y_pred\": 60.05109800823096, \"label\": \"Actual\", \"predicted_label\": \"Predicted\"}, {\"date\": \"2022-01-27T00:00:00\", \"y_test\": 58.400001525878906, \"y_pred\": 60.05109800823096, \"label\": \"Actual\", \"predicted_label\": \"Predicted\"}, {\"date\": \"2022-01-27T00:00:00\", \"y_test\": 58.400001525878906, \"y_pred\": 60.05109800823096, \"label\": \"Actual\", \"predicted_label\": \"Predicted\"}, {\"date\": \"2022-01-28T00:00:00\", \"y_test\": 65.0, \"y_pred\": 60.05109800823096, \"label\": \"Actual\", \"predicted_label\": \"Predicted\"}, {\"date\": \"2022-01-28T00:00:00\", \"y_test\": 65.0, \"y_pred\": 60.92904018490079, \"label\": \"Actual\", \"predicted_label\": \"Predicted\"}, {\"date\": \"2022-01-28T00:00:00\", \"y_test\": 65.0, \"y_pred\": 61.003111786709255, \"label\": \"Actual\", \"predicted_label\": \"Predicted\"}, {\"date\": \"2022-01-28T00:00:00\", \"y_test\": 65.0, \"y_pred\": 60.96884034470274, \"label\": \"Actual\", \"predicted_label\": \"Predicted\"}, {\"date\": \"2022-01-31T00:00:00\", \"y_test\": 60.099998474121094, \"y_pred\": 61.00484621316541, \"label\": \"Actual\", \"predicted_label\": \"Predicted\"}, {\"date\": \"2022-02-01T00:00:00\", \"y_test\": 59.599998474121094, \"y_pred\": 61.24697632614573, \"label\": \"Actual\", \"predicted_label\": \"Predicted\"}, {\"date\": \"2022-02-02T00:00:00\", \"y_test\": 63.349998474121094, \"y_pred\": 58.92836911907996, \"label\": \"Actual\", \"predicted_label\": \"Predicted\"}, {\"date\": \"2022-02-03T00:00:00\", \"y_test\": 67.4000015258789, \"y_pred\": 63.39308155247836, \"label\": \"Actual\", \"predicted_label\": \"Predicted\"}, {\"date\": \"2022-02-03T00:00:00\", \"y_test\": 67.4000015258789, \"y_pred\": 67.66702429316439, \"label\": \"Actual\", \"predicted_label\": \"Predicted\"}, {\"date\": \"2022-02-03T00:00:00\", \"y_test\": 67.4000015258789, \"y_pred\": 67.59985433201228, \"label\": \"Actual\", \"predicted_label\": \"Predicted\"}, {\"date\": \"2022-02-03T00:00:00\", \"y_test\": 67.4000015258789, \"y_pred\": 67.57764582752736, \"label\": \"Actual\", \"predicted_label\": \"Predicted\"}, {\"date\": \"2022-02-03T00:00:00\", \"y_test\": 67.4000015258789, \"y_pred\": 67.46466119609867, \"label\": \"Actual\", \"predicted_label\": \"Predicted\"}, {\"date\": \"2022-02-04T00:00:00\", \"y_test\": 67.8499984741211, \"y_pred\": 67.65452343826809, \"label\": \"Actual\", \"predicted_label\": \"Predicted\"}, {\"date\": \"2022-02-07T00:00:00\", \"y_test\": 65.69999694824219, \"y_pred\": 67.69452966766788, \"label\": \"Actual\", \"predicted_label\": \"Predicted\"}, {\"date\": \"2022-02-08T00:00:00\", \"y_test\": 64.25, \"y_pred\": 66.23902546324325, \"label\": \"Actual\", \"predicted_label\": \"Predicted\"}, {\"date\": \"2022-02-09T00:00:00\", \"y_test\": 70.0, \"y_pred\": 65.03173274416689, \"label\": \"Actual\", \"predicted_label\": \"Predicted\"}, {\"date\": \"2022-02-09T00:00:00\", \"y_test\": 70.0, \"y_pred\": 72.3917775637171, \"label\": \"Actual\", \"predicted_label\": \"Predicted\"}, {\"date\": \"2022-02-09T00:00:00\", \"y_test\": 70.0, \"y_pred\": 72.41834384732832, \"label\": \"Actual\", \"predicted_label\": \"Predicted\"}, {\"date\": \"2022-02-09T00:00:00\", \"y_test\": 70.0, \"y_pred\": 72.41557527983531, \"label\": \"Actual\", \"predicted_label\": \"Predicted\"}, {\"date\": \"2022-02-09T00:00:00\", \"y_test\": 70.0, \"y_pred\": 72.38821228078271, \"label\": \"Actual\", \"predicted_label\": \"Predicted\"}, {\"date\": \"2022-02-09T00:00:00\", \"y_test\": 70.0, \"y_pred\": 72.30362334621181, \"label\": \"Actual\", \"predicted_label\": \"Predicted\"}, {\"date\": \"2022-02-10T00:00:00\", \"y_test\": 77.0, \"y_pred\": 72.69798906505595, \"label\": \"Actual\", \"predicted_label\": \"Predicted\"}, {\"date\": \"2022-02-10T00:00:00\", \"y_test\": 77.0, \"y_pred\": 77.99910855053098, \"label\": \"Actual\", \"predicted_label\": \"Predicted\"}, {\"date\": \"2022-02-10T00:00:00\", \"y_test\": 77.0, \"y_pred\": 77.95057599097025, \"label\": \"Actual\", \"predicted_label\": \"Predicted\"}, {\"date\": \"2022-02-10T00:00:00\", \"y_test\": 77.0, \"y_pred\": 77.99091366800826, \"label\": \"Actual\", \"predicted_label\": \"Predicted\"}, {\"date\": \"2022-02-11T00:00:00\", \"y_test\": 76.30000305175781, \"y_pred\": 77.65551989884455, \"label\": \"Actual\", \"predicted_label\": \"Predicted\"}, {\"date\": \"2022-02-15T00:00:00\", \"y_test\": 70.5, \"y_pred\": 74.38659833088253, \"label\": \"Actual\", \"predicted_label\": \"Predicted\"}, {\"date\": \"2022-02-16T00:00:00\", \"y_test\": 72.0999984741211, \"y_pred\": 72.19536367516608, \"label\": \"Actual\", \"predicted_label\": \"Predicted\"}, {\"date\": \"2022-02-17T00:00:00\", \"y_test\": 68.19999694824219, \"y_pred\": 68.87753843296426, \"label\": \"Actual\", \"predicted_label\": \"Predicted\"}, {\"date\": \"2022-02-18T00:00:00\", \"y_test\": 67.75, \"y_pred\": 67.34159152275515, \"label\": \"Actual\", \"predicted_label\": \"Predicted\"}, {\"date\": \"2022-02-21T00:00:00\", \"y_test\": 65.69999694824219, \"y_pred\": 67.69380896626265, \"label\": \"Actual\", \"predicted_label\": \"Predicted\"}, {\"date\": \"2022-02-22T00:00:00\", \"y_test\": 61.650001525878906, \"y_pred\": 63.3266151560027, \"label\": \"Actual\", \"predicted_label\": \"Predicted\"}, {\"date\": \"2022-02-23T00:00:00\", \"y_test\": 61.90000152587891, \"y_pred\": 60.26558579568216, \"label\": \"Actual\", \"predicted_label\": \"Predicted\"}, {\"date\": \"2022-02-24T00:00:00\", \"y_test\": 59.0, \"y_pred\": 63.06883002297428, \"label\": \"Actual\", \"predicted_label\": \"Predicted\"}, {\"date\": \"2022-02-25T00:00:00\", \"y_test\": 60.20000076293945, \"y_pred\": 55.99774603260945, \"label\": \"Actual\", \"predicted_label\": \"Predicted\"}, {\"date\": \"2022-02-28T00:00:00\", \"y_test\": 62.950000762939446, \"y_pred\": 61.46907810437715, \"label\": \"Actual\", \"predicted_label\": \"Predicted\"}, {\"date\": \"2022-03-02T00:00:00\", \"y_test\": 62.650001525878906, \"y_pred\": 63.620511701773964, \"label\": \"Actual\", \"predicted_label\": \"Predicted\"}, {\"date\": \"2022-03-03T00:00:00\", \"y_test\": 63.700000762939446, \"y_pred\": 63.97153466668119, \"label\": \"Actual\", \"predicted_label\": \"Predicted\"}, {\"date\": \"2022-03-04T00:00:00\", \"y_test\": 62.65000152587891, \"y_pred\": 63.9533500181929, \"label\": \"Actual\", \"predicted_label\": \"Predicted\"}, {\"date\": \"2022-03-07T00:00:00\", \"y_test\": 59.75, \"y_pred\": 62.72954167570072, \"label\": \"Actual\", \"predicted_label\": \"Predicted\"}, {\"date\": \"2022-03-08T00:00:00\", \"y_test\": 61.25, \"y_pred\": 60.110630873319955, \"label\": \"Actual\", \"predicted_label\": \"Predicted\"}, {\"date\": \"2022-03-09T00:00:00\", \"y_test\": 68.0, \"y_pred\": 63.12259028807735, \"label\": \"Actual\", \"predicted_label\": \"Predicted\"}, {\"date\": \"2022-03-10T00:00:00\", \"y_test\": 68.5, \"y_pred\": 69.13239843338067, \"label\": \"Actual\", \"predicted_label\": \"Predicted\"}, {\"date\": \"2022-03-11T00:00:00\", \"y_test\": 68.25, \"y_pred\": 68.6413602123959, \"label\": \"Actual\", \"predicted_label\": \"Predicted\"}, {\"date\": \"2022-03-14T00:00:00\", \"y_test\": 66.44999694824219, \"y_pred\": 68.39393991542806, \"label\": \"Actual\", \"predicted_label\": \"Predicted\"}, {\"date\": \"2022-03-15T00:00:00\", \"y_test\": 69.19999694824219, \"y_pred\": 68.57635485178595, \"label\": \"Actual\", \"predicted_label\": \"Predicted\"}, {\"date\": \"2022-03-16T00:00:00\", \"y_test\": 68.0, \"y_pred\": 68.138389041575, \"label\": \"Actual\", \"predicted_label\": \"Predicted\"}, {\"date\": \"2022-03-17T00:00:00\", \"y_test\": 69.6500015258789, \"y_pred\": 68.49293241690513, \"label\": \"Actual\", \"predicted_label\": \"Predicted\"}, {\"date\": \"2022-03-21T00:00:00\", \"y_test\": 71.30000305175781, \"y_pred\": 70.41770224545834, \"label\": \"Actual\", \"predicted_label\": \"Predicted\"}, {\"date\": \"2022-03-22T00:00:00\", \"y_test\": 74.0, \"y_pred\": 70.77654614043071, \"label\": \"Actual\", \"predicted_label\": \"Predicted\"}, {\"date\": \"2022-03-23T00:00:00\", \"y_test\": 74.94999694824219, \"y_pred\": 75.53225862659274, \"label\": \"Actual\", \"predicted_label\": \"Predicted\"}, {\"date\": \"2022-03-24T00:00:00\", \"y_test\": 77.3499984741211, \"y_pred\": 73.19575538296934, \"label\": \"Actual\", \"predicted_label\": \"Predicted\"}, {\"date\": \"2022-03-24T00:00:00\", \"y_test\": 77.3499984741211, \"y_pred\": 76.85527502222527, \"label\": \"Actual\", \"predicted_label\": \"Predicted\"}, {\"date\": \"2022-03-24T00:00:00\", \"y_test\": 77.3499984741211, \"y_pred\": 76.64953063307944, \"label\": \"Actual\", \"predicted_label\": \"Predicted\"}, {\"date\": \"2022-03-24T00:00:00\", \"y_test\": 77.3499984741211, \"y_pred\": 76.51809784048369, \"label\": \"Actual\", \"predicted_label\": \"Predicted\"}, {\"date\": \"2022-03-24T00:00:00\", \"y_test\": 77.3499984741211, \"y_pred\": 76.5281144489123, \"label\": \"Actual\", \"predicted_label\": \"Predicted\"}, {\"date\": \"2022-03-24T00:00:00\", \"y_test\": 77.3499984741211, \"y_pred\": 76.88043369500457, \"label\": \"Actual\", \"predicted_label\": \"Predicted\"}, {\"date\": \"2022-03-24T00:00:00\", \"y_test\": 77.3499984741211, \"y_pred\": 76.62543668210402, \"label\": \"Actual\", \"predicted_label\": \"Predicted\"}, {\"date\": \"2022-03-25T00:00:00\", \"y_test\": 75.4000015258789, \"y_pred\": 76.55694517560275, \"label\": \"Actual\", \"predicted_label\": \"Predicted\"}, {\"date\": \"2022-03-28T00:00:00\", \"y_test\": 74.9000015258789, \"y_pred\": 75.17231634192073, \"label\": \"Actual\", \"predicted_label\": \"Predicted\"}, {\"date\": \"2022-03-29T00:00:00\", \"y_test\": 73.75, \"y_pred\": 74.83646830348324, \"label\": \"Actual\", \"predicted_label\": \"Predicted\"}, {\"date\": \"2022-03-30T00:00:00\", \"y_test\": 78.25, \"y_pred\": 73.2662038090093, \"label\": \"Actual\", \"predicted_label\": \"Predicted\"}, {\"date\": \"2022-03-30T00:00:00\", \"y_test\": 78.25, \"y_pred\": 75.59235671759505, \"label\": \"Actual\", \"predicted_label\": \"Predicted\"}, {\"date\": \"2022-03-30T00:00:00\", \"y_test\": 78.25, \"y_pred\": 75.6330573134464, \"label\": \"Actual\", \"predicted_label\": \"Predicted\"}, {\"date\": \"2022-03-30T00:00:00\", \"y_test\": 78.25, \"y_pred\": 75.76939284741132, \"label\": \"Actual\", \"predicted_label\": \"Predicted\"}, {\"date\": \"2022-03-30T00:00:00\", \"y_test\": 78.25, \"y_pred\": 76.06472616698343, \"label\": \"Actual\", \"predicted_label\": \"Predicted\"}, {\"date\": \"2022-03-30T00:00:00\", \"y_test\": 78.25, \"y_pred\": 76.0746239928072, \"label\": \"Actual\", \"predicted_label\": \"Predicted\"}, {\"date\": \"2022-03-30T00:00:00\", \"y_test\": 78.25, \"y_pred\": 76.02613857527689, \"label\": \"Actual\", \"predicted_label\": \"Predicted\"}, {\"date\": \"2022-03-30T00:00:00\", \"y_test\": 78.25, \"y_pred\": 76.16695422170123, \"label\": \"Actual\", \"predicted_label\": \"Predicted\"}, {\"date\": \"2022-03-31T00:00:00\", \"y_test\": 74.80000305175781, \"y_pred\": 75.87124797979513, \"label\": \"Actual\", \"predicted_label\": \"Predicted\"}, {\"date\": \"2022-04-01T00:00:00\", \"y_test\": 76.30000305175781, \"y_pred\": 76.38882857095001, \"label\": \"Actual\", \"predicted_label\": \"Predicted\"}, {\"date\": \"2022-04-04T00:00:00\", \"y_test\": 81.25, \"y_pred\": 77.40682163753918, \"label\": \"Actual\", \"predicted_label\": \"Predicted\"}, {\"date\": \"2022-04-04T00:00:00\", \"y_test\": 81.25, \"y_pred\": 82.34503430819599, \"label\": \"Actual\", \"predicted_label\": \"Predicted\"}, {\"date\": \"2022-04-05T00:00:00\", \"y_test\": 82.55000305175781, \"y_pred\": 82.46224498989291, \"label\": \"Actual\", \"predicted_label\": \"Predicted\"}, {\"date\": \"2022-04-06T00:00:00\", \"y_test\": 82.0, \"y_pred\": 81.88558054202977, \"label\": \"Actual\", \"predicted_label\": \"Predicted\"}, {\"date\": \"2022-04-07T00:00:00\", \"y_test\": 82.0999984741211, \"y_pred\": 82.52702577097344, \"label\": \"Actual\", \"predicted_label\": \"Predicted\"}, {\"date\": \"2022-04-08T00:00:00\", \"y_test\": 78.0, \"y_pred\": 79.17629255458743, \"label\": \"Actual\", \"predicted_label\": \"Predicted\"}, {\"date\": \"2022-04-11T00:00:00\", \"y_test\": 79.0, \"y_pred\": 77.42568433089468, \"label\": \"Actual\", \"predicted_label\": \"Predicted\"}, {\"date\": \"2022-04-12T00:00:00\", \"y_test\": 78.55000305175783, \"y_pred\": 80.26301844381612, \"label\": \"Actual\", \"predicted_label\": \"Predicted\"}, {\"date\": \"2022-04-13T00:00:00\", \"y_test\": 77.3499984741211, \"y_pred\": 77.83614296580137, \"label\": \"Actual\", \"predicted_label\": \"Predicted\"}, {\"date\": \"2022-04-18T00:00:00\", \"y_test\": 76.25, \"y_pred\": 76.34495765703463, \"label\": \"Actual\", \"predicted_label\": \"Predicted\"}, {\"date\": \"2022-04-19T00:00:00\", \"y_test\": 78.5, \"y_pred\": 76.6212964616311, \"label\": \"Actual\", \"predicted_label\": \"Predicted\"}, {\"date\": \"2022-04-20T00:00:00\", \"y_test\": 75.0, \"y_pred\": 75.41376948368782, \"label\": \"Actual\", \"predicted_label\": \"Predicted\"}, {\"date\": \"2022-04-21T00:00:00\", \"y_test\": 74.8499984741211, \"y_pred\": 74.83043479732692, \"label\": \"Actual\", \"predicted_label\": \"Predicted\"}, {\"date\": \"2022-04-22T00:00:00\", \"y_test\": 73.19999694824219, \"y_pred\": 74.81206070464013, \"label\": \"Actual\", \"predicted_label\": \"Predicted\"}, {\"date\": \"2022-04-25T00:00:00\", \"y_test\": 70.55000305175781, \"y_pred\": 73.42257280211535, \"label\": \"Actual\", \"predicted_label\": \"Predicted\"}, {\"date\": \"2022-04-26T00:00:00\", \"y_test\": 73.55000305175781, \"y_pred\": 70.08822395658022, \"label\": \"Actual\", \"predicted_label\": \"Predicted\"}, {\"date\": \"2022-04-27T00:00:00\", \"y_test\": 76.3499984741211, \"y_pred\": 74.84336708452818, \"label\": \"Actual\", \"predicted_label\": \"Predicted\"}, {\"date\": \"2022-04-27T00:00:00\", \"y_test\": 76.3499984741211, \"y_pred\": 77.50389958358979, \"label\": \"Actual\", \"predicted_label\": \"Predicted\"}, {\"date\": \"2022-04-27T00:00:00\", \"y_test\": 76.3499984741211, \"y_pred\": 77.12099522077395, \"label\": \"Actual\", \"predicted_label\": \"Predicted\"}, {\"date\": \"2022-04-27T00:00:00\", \"y_test\": 76.3499984741211, \"y_pred\": 77.07928300530051, \"label\": \"Actual\", \"predicted_label\": \"Predicted\"}, {\"date\": \"2022-04-27T00:00:00\", \"y_test\": 76.3499984741211, \"y_pred\": 77.00713184648666, \"label\": \"Actual\", \"predicted_label\": \"Predicted\"}, {\"date\": \"2022-04-27T00:00:00\", \"y_test\": 76.3499984741211, \"y_pred\": 77.1886646331782, \"label\": \"Actual\", \"predicted_label\": \"Predicted\"}, {\"date\": \"2022-04-28T00:00:00\", \"y_test\": 81.0, \"y_pred\": 77.14161234297485, \"label\": \"Actual\", \"predicted_label\": \"Predicted\"}, {\"date\": \"2022-04-28T00:00:00\", \"y_test\": 81.0, \"y_pred\": 65.02278467808556, \"label\": \"Actual\", \"predicted_label\": \"Predicted\"}, {\"date\": \"2022-04-28T00:00:00\", \"y_test\": 81.0, \"y_pred\": 65.01775840244447, \"label\": \"Actual\", \"predicted_label\": \"Predicted\"}, {\"date\": \"2022-04-28T00:00:00\", \"y_test\": 81.0, \"y_pred\": 64.62607414322108, \"label\": \"Actual\", \"predicted_label\": \"Predicted\"}, {\"date\": \"2022-04-28T00:00:00\", \"y_test\": 81.0, \"y_pred\": 64.73018440468095, \"label\": \"Actual\", \"predicted_label\": \"Predicted\"}, {\"date\": \"2022-04-28T00:00:00\", \"y_test\": 81.0, \"y_pred\": 64.9061524720342, \"label\": \"Actual\", \"predicted_label\": \"Predicted\"}, {\"date\": \"2022-04-28T00:00:00\", \"y_test\": 81.0, \"y_pred\": 64.62951540867658, \"label\": \"Actual\", \"predicted_label\": \"Predicted\"}, {\"date\": \"2022-04-28T00:00:00\", \"y_test\": 81.0, \"y_pred\": 64.44892942912777, \"label\": \"Actual\", \"predicted_label\": \"Predicted\"}, {\"date\": \"2022-04-28T00:00:00\", \"y_test\": 81.0, \"y_pred\": 64.3738579033443, \"label\": \"Actual\", \"predicted_label\": \"Predicted\"}, {\"date\": \"2022-04-28T00:00:00\", \"y_test\": 81.0, \"y_pred\": 64.329226384383, \"label\": \"Actual\", \"predicted_label\": \"Predicted\"}, {\"date\": \"2022-04-28T00:00:00\", \"y_test\": 81.0, \"y_pred\": 64.26836792631687, \"label\": \"Actual\", \"predicted_label\": \"Predicted\"}, {\"date\": \"2022-04-28T00:00:00\", \"y_test\": 81.0, \"y_pred\": 64.26836792631687, \"label\": \"Actual\", \"predicted_label\": \"Predicted\"}, {\"date\": \"2022-04-28T00:00:00\", \"y_test\": 81.0, \"y_pred\": 64.26836792631687, \"label\": \"Actual\", \"predicted_label\": \"Predicted\"}, {\"date\": \"2022-04-28T00:00:00\", \"y_test\": 81.0, \"y_pred\": 64.26836792631687, \"label\": \"Actual\", \"predicted_label\": \"Predicted\"}, {\"date\": \"2022-04-28T00:00:00\", \"y_test\": 81.0, \"y_pred\": 64.26836792631687, \"label\": \"Actual\", \"predicted_label\": \"Predicted\"}, {\"date\": \"2022-04-28T00:00:00\", \"y_test\": 81.0, \"y_pred\": 64.26836792631687, \"label\": \"Actual\", \"predicted_label\": \"Predicted\"}, {\"date\": \"2022-04-29T00:00:00\", \"y_test\": 61.90000152587891, \"y_pred\": 64.26836792631687, \"label\": \"Actual\", \"predicted_label\": \"Predicted\"}, {\"date\": \"2022-04-29T00:00:00\", \"y_test\": 61.900001525878906, \"y_pred\": 56.106540878314135, \"label\": \"Actual\", \"predicted_label\": \"Predicted\"}, {\"date\": \"2022-04-29T00:00:00\", \"y_test\": 61.900001525878906, \"y_pred\": 56.23157328071742, \"label\": \"Actual\", \"predicted_label\": \"Predicted\"}, {\"date\": \"2022-04-29T00:00:00\", \"y_test\": 61.900001525878906, \"y_pred\": 56.354804725725224, \"label\": \"Actual\", \"predicted_label\": \"Predicted\"}, {\"date\": \"2022-04-29T00:00:00\", \"y_test\": 61.900001525878906, \"y_pred\": 56.35457861374144, \"label\": \"Actual\", \"predicted_label\": \"Predicted\"}, {\"date\": \"2022-04-29T00:00:00\", \"y_test\": 61.900001525878906, \"y_pred\": 56.51241616945249, \"label\": \"Actual\", \"predicted_label\": \"Predicted\"}, {\"date\": \"2022-04-29T00:00:00\", \"y_test\": 61.900001525878906, \"y_pred\": 56.51335225078095, \"label\": \"Actual\", \"predicted_label\": \"Predicted\"}, {\"date\": \"2022-04-29T00:00:00\", \"y_test\": 61.900001525878906, \"y_pred\": 56.44512908059468, \"label\": \"Actual\", \"predicted_label\": \"Predicted\"}, {\"date\": \"2022-04-29T00:00:00\", \"y_test\": 61.900001525878906, \"y_pred\": 56.386409666112044, \"label\": \"Actual\", \"predicted_label\": \"Predicted\"}, {\"date\": \"2022-04-29T00:00:00\", \"y_test\": 61.900001525878906, \"y_pred\": 56.42481890290187, \"label\": \"Actual\", \"predicted_label\": \"Predicted\"}, {\"date\": \"2022-05-04T00:00:00\", \"y_test\": 54.099998474121094, \"y_pred\": 56.46340233582548, \"label\": \"Actual\", \"predicted_label\": \"Predicted\"}, {\"date\": \"2022-05-04T00:00:00\", \"y_test\": 54.09999847412108, \"y_pred\": 50.12116918001391, \"label\": \"Actual\", \"predicted_label\": \"Predicted\"}, {\"date\": \"2022-05-04T00:00:00\", \"y_test\": 54.09999847412108, \"y_pred\": 50.132948665829474, \"label\": \"Actual\", \"predicted_label\": \"Predicted\"}, {\"date\": \"2022-05-04T00:00:00\", \"y_test\": 54.09999847412108, \"y_pred\": 50.07996001314873, \"label\": \"Actual\", \"predicted_label\": \"Predicted\"}, {\"date\": \"2022-05-04T00:00:00\", \"y_test\": 54.09999847412108, \"y_pred\": 50.227105130335296, \"label\": \"Actual\", \"predicted_label\": \"Predicted\"}, {\"date\": \"2022-05-04T00:00:00\", \"y_test\": 54.09999847412108, \"y_pred\": 50.29655822308539, \"label\": \"Actual\", \"predicted_label\": \"Predicted\"}, {\"date\": \"2022-05-04T00:00:00\", \"y_test\": 54.09999847412108, \"y_pred\": 50.27382784274808, \"label\": \"Actual\", \"predicted_label\": \"Predicted\"}, {\"date\": \"2022-05-05T00:00:00\", \"y_test\": 50.29999923706055, \"y_pred\": 50.230450669556845, \"label\": \"Actual\", \"predicted_label\": \"Predicted\"}, {\"date\": \"2022-05-05T00:00:00\", \"y_test\": 50.29999923706054, \"y_pred\": 49.06641657411218, \"label\": \"Actual\", \"predicted_label\": \"Predicted\"}, {\"date\": \"2022-05-05T00:00:00\", \"y_test\": 50.29999923706054, \"y_pred\": 49.15930466959343, \"label\": \"Actual\", \"predicted_label\": \"Predicted\"}, {\"date\": \"2022-05-05T00:00:00\", \"y_test\": 50.29999923706054, \"y_pred\": 49.01166168218497, \"label\": \"Actual\", \"predicted_label\": \"Predicted\"}, {\"date\": \"2022-05-05T00:00:00\", \"y_test\": 50.29999923706054, \"y_pred\": 48.98535210602732, \"label\": \"Actual\", \"predicted_label\": \"Predicted\"}, {\"date\": \"2022-05-05T00:00:00\", \"y_test\": 50.29999923706054, \"y_pred\": 49.00193978167898, \"label\": \"Actual\", \"predicted_label\": \"Predicted\"}, {\"date\": \"2022-05-05T00:00:00\", \"y_test\": 50.29999923706054, \"y_pred\": 48.99283466430471, \"label\": \"Actual\", \"predicted_label\": \"Predicted\"}, {\"date\": \"2022-05-05T00:00:00\", \"y_test\": 50.29999923706054, \"y_pred\": 49.04155672413914, \"label\": \"Actual\", \"predicted_label\": \"Predicted\"}, {\"date\": \"2022-05-06T00:00:00\", \"y_test\": 47.79999923706055, \"y_pred\": 48.96626374612144, \"label\": \"Actual\", \"predicted_label\": \"Predicted\"}, {\"date\": \"2022-05-09T00:00:00\", \"y_test\": 45.900001525878906, \"y_pred\": 46.60806864158289, \"label\": \"Actual\", \"predicted_label\": \"Predicted\"}, {\"date\": \"2022-05-10T00:00:00\", \"y_test\": 43.5, \"y_pred\": 44.697563968434196, \"label\": \"Actual\", \"predicted_label\": \"Predicted\"}, {\"date\": \"2022-05-11T00:00:00\", \"y_test\": 41.04999923706055, \"y_pred\": 41.8877853298899, \"label\": \"Actual\", \"predicted_label\": \"Predicted\"}, {\"date\": \"2022-05-12T00:00:00\", \"y_test\": 42.400001525878906, \"y_pred\": 41.45121774707249, \"label\": \"Actual\", \"predicted_label\": \"Predicted\"}, {\"date\": \"2022-05-13T00:00:00\", \"y_test\": 43.24999999999999, \"y_pred\": 43.53125305793937, \"label\": \"Actual\", \"predicted_label\": \"Predicted\"}, {\"date\": \"2022-05-16T00:00:00\", \"y_test\": 41.0, \"y_pred\": 42.06733358058243, \"label\": \"Actual\", \"predicted_label\": \"Predicted\"}, {\"date\": \"2022-05-17T00:00:00\", \"y_test\": 42.25, \"y_pred\": 40.96671926172522, \"label\": \"Actual\", \"predicted_label\": \"Predicted\"}, {\"date\": \"2022-05-18T00:00:00\", \"y_test\": 43.200000762939446, \"y_pred\": 43.55468042971651, \"label\": \"Actual\", \"predicted_label\": \"Predicted\"}, {\"date\": \"2022-05-19T00:00:00\", \"y_test\": 41.400001525878906, \"y_pred\": 43.628559833030806, \"label\": \"Actual\", \"predicted_label\": \"Predicted\"}, {\"date\": \"2022-05-20T00:00:00\", \"y_test\": 41.900001525878906, \"y_pred\": 41.7793779984301, \"label\": \"Actual\", \"predicted_label\": \"Predicted\"}, {\"date\": \"2022-05-23T00:00:00\", \"y_test\": 41.70000076293945, \"y_pred\": 43.811958992421644, \"label\": \"Actual\", \"predicted_label\": \"Predicted\"}, {\"date\": \"2022-05-24T00:00:00\", \"y_test\": 41.00000000000001, \"y_pred\": 42.83169112352596, \"label\": \"Actual\", \"predicted_label\": \"Predicted\"}, {\"date\": \"2022-05-25T00:00:00\", \"y_test\": 40.400001525878906, \"y_pred\": 42.110253237830506, \"label\": \"Actual\", \"predicted_label\": \"Predicted\"}, {\"date\": \"2022-05-26T00:00:00\", \"y_test\": 39.0, \"y_pred\": 40.62234646579128, \"label\": \"Actual\", \"predicted_label\": \"Predicted\"}, {\"date\": \"2022-05-27T00:00:00\", \"y_test\": 39.79999923706054, \"y_pred\": 41.08936663777908, \"label\": \"Actual\", \"predicted_label\": \"Predicted\"}, {\"date\": \"2022-05-30T00:00:00\", \"y_test\": 40.900001525878906, \"y_pred\": 41.582906939401056, \"label\": \"Actual\", \"predicted_label\": \"Predicted\"}, {\"date\": \"2022-05-31T00:00:00\", \"y_test\": 41.20000076293945, \"y_pred\": 42.368880398686805, \"label\": \"Actual\", \"predicted_label\": \"Predicted\"}, {\"date\": \"2022-06-01T00:00:00\", \"y_test\": 41.79999923706055, \"y_pred\": 42.40452502510256, \"label\": \"Actual\", \"predicted_label\": \"Predicted\"}, {\"date\": \"2022-06-02T00:00:00\", \"y_test\": 42.54999923706055, \"y_pred\": 43.253281406077306, \"label\": \"Actual\", \"predicted_label\": \"Predicted\"}, {\"date\": \"2022-06-03T00:00:00\", \"y_test\": 43.20000076293945, \"y_pred\": 43.81724087169552, \"label\": \"Actual\", \"predicted_label\": \"Predicted\"}, {\"date\": \"2022-06-06T00:00:00\", \"y_test\": 40.45000076293945, \"y_pred\": 42.47737445730354, \"label\": \"Actual\", \"predicted_label\": \"Predicted\"}, {\"date\": \"2022-06-07T00:00:00\", \"y_test\": 41.20000076293945, \"y_pred\": 41.90053631095554, \"label\": \"Actual\", \"predicted_label\": \"Predicted\"}, {\"date\": \"2022-06-08T00:00:00\", \"y_test\": 45.400001525878906, \"y_pred\": 42.52564945847327, \"label\": \"Actual\", \"predicted_label\": \"Predicted\"}, {\"date\": \"2022-06-08T00:00:00\", \"y_test\": 45.400001525878906, \"y_pred\": 47.18977762119273, \"label\": \"Actual\", \"predicted_label\": \"Predicted\"}, {\"date\": \"2022-06-08T00:00:00\", \"y_test\": 45.400001525878906, \"y_pred\": 47.02703863776225, \"label\": \"Actual\", \"predicted_label\": \"Predicted\"}, {\"date\": \"2022-06-08T00:00:00\", \"y_test\": 45.400001525878906, \"y_pred\": 46.733660979962664, \"label\": \"Actual\", \"predicted_label\": \"Predicted\"}, {\"date\": \"2022-06-08T00:00:00\", \"y_test\": 45.400001525878906, \"y_pred\": 46.619118032038116, \"label\": \"Actual\", \"predicted_label\": \"Predicted\"}, {\"date\": \"2022-06-08T00:00:00\", \"y_test\": 45.400001525878906, \"y_pred\": 46.45036374784161, \"label\": \"Actual\", \"predicted_label\": \"Predicted\"}, {\"date\": \"2022-06-09T00:00:00\", \"y_test\": 47.25, \"y_pred\": 46.577430291414096, \"label\": \"Actual\", \"predicted_label\": \"Predicted\"}, {\"date\": \"2022-06-09T00:00:00\", \"y_test\": 47.25, \"y_pred\": 47.951043410622624, \"label\": \"Actual\", \"predicted_label\": \"Predicted\"}, {\"date\": \"2022-06-09T00:00:00\", \"y_test\": 47.25, \"y_pred\": 47.877972661123515, \"label\": \"Actual\", \"predicted_label\": \"Predicted\"}, {\"date\": \"2022-06-09T00:00:00\", \"y_test\": 47.25, \"y_pred\": 47.94989745455814, \"label\": \"Actual\", \"predicted_label\": \"Predicted\"}, {\"date\": \"2022-06-09T00:00:00\", \"y_test\": 47.25, \"y_pred\": 47.90936790972922, \"label\": \"Actual\", \"predicted_label\": \"Predicted\"}, {\"date\": \"2022-06-09T00:00:00\", \"y_test\": 47.25, \"y_pred\": 47.924985860452516, \"label\": \"Actual\", \"predicted_label\": \"Predicted\"}, {\"date\": \"2022-06-09T00:00:00\", \"y_test\": 47.25, \"y_pred\": 47.90485458997243, \"label\": \"Actual\", \"predicted_label\": \"Predicted\"}, {\"date\": \"2022-06-10T00:00:00\", \"y_test\": 46.34999847412109, \"y_pred\": 47.95017532161576, \"label\": \"Actual\", \"predicted_label\": \"Predicted\"}, {\"date\": \"2022-06-13T00:00:00\", \"y_test\": 43.45000076293945, \"y_pred\": 46.48239292114267, \"label\": \"Actual\", \"predicted_label\": \"Predicted\"}, {\"date\": \"2022-06-14T00:00:00\", \"y_test\": 41.70000076293945, \"y_pred\": 42.8984810113624, \"label\": \"Actual\", \"predicted_label\": \"Predicted\"}, {\"date\": \"2022-06-15T00:00:00\", \"y_test\": 42.29999923706055, \"y_pred\": 42.015217820609294, \"label\": \"Actual\", \"predicted_label\": \"Predicted\"}, {\"date\": \"2022-06-16T00:00:00\", \"y_test\": 41.59999847412109, \"y_pred\": 42.14336090721106, \"label\": \"Actual\", \"predicted_label\": \"Predicted\"}, {\"date\": \"2022-06-17T00:00:00\", \"y_test\": 38.29999923706055, \"y_pred\": 39.43681507302629, \"label\": \"Actual\", \"predicted_label\": \"Predicted\"}, {\"date\": \"2022-06-20T00:00:00\", \"y_test\": 37.84999847412109, \"y_pred\": 39.11034014669377, \"label\": \"Actual\", \"predicted_label\": \"Predicted\"}, {\"date\": \"2022-06-21T00:00:00\", \"y_test\": 38.400001525878906, \"y_pred\": 36.69980396937499, \"label\": \"Actual\", \"predicted_label\": \"Predicted\"}, {\"date\": \"2022-06-22T00:00:00\", \"y_test\": 37.29999923706055, \"y_pred\": 38.487772354157464, \"label\": \"Actual\", \"predicted_label\": \"Predicted\"}, {\"date\": \"2022-06-23T00:00:00\", \"y_test\": 37.650001525878906, \"y_pred\": 37.754716967990156, \"label\": \"Actual\", \"predicted_label\": \"Predicted\"}, {\"date\": \"2022-06-24T00:00:00\", \"y_test\": 37.900001525878906, \"y_pred\": 38.55393065605803, \"label\": \"Actual\", \"predicted_label\": \"Predicted\"}, {\"date\": \"2022-06-27T00:00:00\", \"y_test\": 38.400001525878906, \"y_pred\": 38.93875438720765, \"label\": \"Actual\", \"predicted_label\": \"Predicted\"}, {\"date\": \"2022-06-28T00:00:00\", \"y_test\": 40.84999847412109, \"y_pred\": 39.07318996480463, \"label\": \"Actual\", \"predicted_label\": \"Predicted\"}, {\"date\": \"2022-06-29T00:00:00\", \"y_test\": 40.79999923706055, \"y_pred\": 40.87254390090347, \"label\": \"Actual\", \"predicted_label\": \"Predicted\"}, {\"date\": \"2022-06-30T00:00:00\", \"y_test\": 40.400001525878906, \"y_pred\": 41.05742935179385, \"label\": \"Actual\", \"predicted_label\": \"Predicted\"}, {\"date\": \"2022-07-01T00:00:00\", \"y_test\": 39.400001525878906, \"y_pred\": 39.996365183183684, \"label\": \"Actual\", \"predicted_label\": \"Predicted\"}, {\"date\": \"2022-07-04T00:00:00\", \"y_test\": 39.54999923706055, \"y_pred\": 40.232386050823266, \"label\": \"Actual\", \"predicted_label\": \"Predicted\"}, {\"date\": \"2022-07-05T00:00:00\", \"y_test\": 39.20000076293945, \"y_pred\": 39.89603291444506, \"label\": \"Actual\", \"predicted_label\": \"Predicted\"}, {\"date\": \"2022-07-06T00:00:00\", \"y_test\": 38.54999923706055, \"y_pred\": 39.270415427220065, \"label\": \"Actual\", \"predicted_label\": \"Predicted\"}, {\"date\": \"2022-07-07T00:00:00\", \"y_test\": 38.95000076293945, \"y_pred\": 38.720713077775, \"label\": \"Actual\", \"predicted_label\": \"Predicted\"}, {\"date\": \"2022-07-08T00:00:00\", \"y_test\": 40.34999847412109, \"y_pred\": 39.566359951306566, \"label\": \"Actual\", \"predicted_label\": \"Predicted\"}, {\"date\": \"2022-07-11T00:00:00\", \"y_test\": 39.59999847412109, \"y_pred\": 40.34459267752742, \"label\": \"Actual\", \"predicted_label\": \"Predicted\"}, {\"date\": \"2022-07-12T00:00:00\", \"y_test\": 40.29999923706055, \"y_pred\": 40.33273180733645, \"label\": \"Actual\", \"predicted_label\": \"Predicted\"}, {\"date\": \"2022-07-13T00:00:00\", \"y_test\": 40.54999923706055, \"y_pred\": 40.562279591794656, \"label\": \"Actual\", \"predicted_label\": \"Predicted\"}, {\"date\": \"2022-07-14T00:00:00\", \"y_test\": 39.400001525878906, \"y_pred\": 39.925103342932, \"label\": \"Actual\", \"predicted_label\": \"Predicted\"}, {\"date\": \"2022-07-15T00:00:00\", \"y_test\": 38.54999923706055, \"y_pred\": 38.831077119241115, \"label\": \"Actual\", \"predicted_label\": \"Predicted\"}, {\"date\": \"2022-07-18T00:00:00\", \"y_test\": 39.84999847412109, \"y_pred\": 38.83296318094724, \"label\": \"Actual\", \"predicted_label\": \"Predicted\"}, {\"date\": \"2022-07-19T00:00:00\", \"y_test\": 39.95000076293945, \"y_pred\": 40.1037337191043, \"label\": \"Actual\", \"predicted_label\": \"Predicted\"}, {\"date\": \"2022-07-20T00:00:00\", \"y_test\": 38.900001525878906, \"y_pred\": 39.361641748172794, \"label\": \"Actual\", \"predicted_label\": \"Predicted\"}, {\"date\": \"2022-07-21T00:00:00\", \"y_test\": 38.45000076293945, \"y_pred\": 38.56853543863298, \"label\": \"Actual\", \"predicted_label\": \"Predicted\"}, {\"date\": \"2022-07-22T00:00:00\", \"y_test\": 38.29999923706055, \"y_pred\": 38.90522504497535, \"label\": \"Actual\", \"predicted_label\": \"Predicted\"}, {\"date\": \"2022-07-25T00:00:00\", \"y_test\": 37.95000076293945, \"y_pred\": 38.491868769150166, \"label\": \"Actual\", \"predicted_label\": \"Predicted\"}, {\"date\": \"2022-07-26T00:00:00\", \"y_test\": 37.349998474121094, \"y_pred\": 38.15462673868979, \"label\": \"Actual\", \"predicted_label\": \"Predicted\"}, {\"date\": \"2022-07-27T00:00:00\", \"y_test\": 37.79999923706055, \"y_pred\": 37.99280660759861, \"label\": \"Actual\", \"predicted_label\": \"Predicted\"}, {\"date\": \"2022-07-28T00:00:00\", \"y_test\": 38.09999847412109, \"y_pred\": 38.786772343076485, \"label\": \"Actual\", \"predicted_label\": \"Predicted\"}, {\"date\": \"2022-07-29T00:00:00\", \"y_test\": 37.79999923706055, \"y_pred\": 38.67217854579076, \"label\": \"Actual\", \"predicted_label\": \"Predicted\"}, {\"date\": \"2022-08-01T00:00:00\", \"y_test\": 38.900001525878906, \"y_pred\": 38.37891028325189, \"label\": \"Actual\", \"predicted_label\": \"Predicted\"}, {\"date\": \"2022-08-02T00:00:00\", \"y_test\": 39.45000076293945, \"y_pred\": 39.262017485851864, \"label\": \"Actual\", \"predicted_label\": \"Predicted\"}, {\"date\": \"2022-08-03T00:00:00\", \"y_test\": 39.049999237060554, \"y_pred\": 39.5364998185214, \"label\": \"Actual\", \"predicted_label\": \"Predicted\"}, {\"date\": \"2022-08-04T00:00:00\", \"y_test\": 39.400001525878906, \"y_pred\": 39.3219485892869, \"label\": \"Actual\", \"predicted_label\": \"Predicted\"}, {\"date\": \"2022-08-05T00:00:00\", \"y_test\": 39.0, \"y_pred\": 39.27920983152685, \"label\": \"Actual\", \"predicted_label\": \"Predicted\"}, {\"date\": \"2022-08-08T00:00:00\", \"y_test\": 38.5, \"y_pred\": 38.95720225176894, \"label\": \"Actual\", \"predicted_label\": \"Predicted\"}, {\"date\": \"2022-08-10T00:00:00\", \"y_test\": 37.900001525878906, \"y_pred\": 38.29093118664835, \"label\": \"Actual\", \"predicted_label\": \"Predicted\"}, {\"date\": \"2022-08-11T00:00:00\", \"y_test\": 37.45000076293945, \"y_pred\": 37.8667017539794, \"label\": \"Actual\", \"predicted_label\": \"Predicted\"}, {\"date\": \"2022-08-12T00:00:00\", \"y_test\": 37.900001525878906, \"y_pred\": 38.337162614573856, \"label\": \"Actual\", \"predicted_label\": \"Predicted\"}, {\"date\": \"2022-08-16T00:00:00\", \"y_test\": 39.29999923706055, \"y_pred\": 38.59782061826653, \"label\": \"Actual\", \"predicted_label\": \"Predicted\"}, {\"date\": \"2022-08-17T00:00:00\", \"y_test\": 39.900001525878906, \"y_pred\": 40.64333609887615, \"label\": \"Actual\", \"predicted_label\": \"Predicted\"}, {\"date\": \"2022-08-18T00:00:00\", \"y_test\": 39.5, \"y_pred\": 40.692730071736854, \"label\": \"Actual\", \"predicted_label\": \"Predicted\"}, {\"date\": \"2022-08-19T00:00:00\", \"y_test\": 42.75000000000001, \"y_pred\": 40.69693257009724, \"label\": \"Actual\", \"predicted_label\": \"Predicted\"}, {\"date\": \"2022-08-19T00:00:00\", \"y_test\": 42.75, \"y_pred\": 42.46814478937541, \"label\": \"Actual\", \"predicted_label\": \"Predicted\"}, {\"date\": \"2022-08-19T00:00:00\", \"y_test\": 42.75, \"y_pred\": 42.52309811607223, \"label\": \"Actual\", \"predicted_label\": \"Predicted\"}, {\"date\": \"2022-08-19T00:00:00\", \"y_test\": 42.75, \"y_pred\": 42.4183881404283, \"label\": \"Actual\", \"predicted_label\": \"Predicted\"}, {\"date\": \"2022-08-22T00:00:00\", \"y_test\": 41.70000076293945, \"y_pred\": 42.35551285543588, \"label\": \"Actual\", \"predicted_label\": \"Predicted\"}, {\"date\": \"2022-08-23T00:00:00\", \"y_test\": 42.45000076293945, \"y_pred\": 42.419986196865196, \"label\": \"Actual\", \"predicted_label\": \"Predicted\"}, {\"date\": \"2022-08-24T00:00:00\", \"y_test\": 43.5, \"y_pred\": 43.627043625418885, \"label\": \"Actual\", \"predicted_label\": \"Predicted\"}, {\"date\": \"2022-08-25T00:00:00\", \"y_test\": 43.09999847412108, \"y_pred\": 42.731075186171196, \"label\": \"Actual\", \"predicted_label\": \"Predicted\"}, {\"date\": \"2022-08-26T00:00:00\", \"y_test\": 43.049999237060554, \"y_pred\": 43.2650573219051, \"label\": \"Actual\", \"predicted_label\": \"Predicted\"}, {\"date\": \"2022-08-29T00:00:00\", \"y_test\": 41.54999923706055, \"y_pred\": 43.3443286808946, \"label\": \"Actual\", \"predicted_label\": \"Predicted\"}, {\"date\": \"2022-08-30T00:00:00\", \"y_test\": 41.29999923706054, \"y_pred\": 41.67217501526114, \"label\": \"Actual\", \"predicted_label\": \"Predicted\"}, {\"date\": \"2022-09-01T00:00:00\", \"y_test\": 43.20000076293945, \"y_pred\": 42.12555728649353, \"label\": \"Actual\", \"predicted_label\": \"Predicted\"}, {\"date\": \"2022-09-02T00:00:00\", \"y_test\": 43.34999847412109, \"y_pred\": 43.91410737346839, \"label\": \"Actual\", \"predicted_label\": \"Predicted\"}, {\"date\": \"2022-09-05T00:00:00\", \"y_test\": 45.20000076293945, \"y_pred\": 42.79158470531893, \"label\": \"Actual\", \"predicted_label\": \"Predicted\"}, {\"date\": \"2022-09-06T00:00:00\", \"y_test\": 45.00000000000001, \"y_pred\": 46.12774278768789, \"label\": \"Actual\", \"predicted_label\": \"Predicted\"}, {\"date\": \"2022-09-07T00:00:00\", \"y_test\": 44.54999923706055, \"y_pred\": 45.193415606195266, \"label\": \"Actual\", \"predicted_label\": \"Predicted\"}, {\"date\": \"2022-09-08T00:00:00\", \"y_test\": 44.70000076293945, \"y_pred\": 45.723941722370824, \"label\": \"Actual\", \"predicted_label\": \"Predicted\"}, {\"date\": \"2022-09-09T00:00:00\", \"y_test\": 44.1500015258789, \"y_pred\": 44.67376667889194, \"label\": \"Actual\", \"predicted_label\": \"Predicted\"}, {\"date\": \"2022-09-12T00:00:00\", \"y_test\": 43.0, \"y_pred\": 43.357587195780134, \"label\": \"Actual\", \"predicted_label\": \"Predicted\"}, {\"date\": \"2022-09-13T00:00:00\", \"y_test\": 42.84999847412108, \"y_pred\": 43.23559818796122, \"label\": \"Actual\", \"predicted_label\": \"Predicted\"}, {\"date\": \"2022-09-14T00:00:00\", \"y_test\": 42.25, \"y_pred\": 43.14384350637344, \"label\": \"Actual\", \"predicted_label\": \"Predicted\"}, {\"date\": \"2022-09-15T00:00:00\", \"y_test\": 41.900001525878906, \"y_pred\": 42.206652316682806, \"label\": \"Actual\", \"predicted_label\": \"Predicted\"}, {\"date\": \"2022-09-16T00:00:00\", \"y_test\": 41.0, \"y_pred\": 41.26030927160924, \"label\": \"Actual\", \"predicted_label\": \"Predicted\"}, {\"date\": \"2022-09-19T00:00:00\", \"y_test\": 39.84999847412109, \"y_pred\": 40.08964297548372, \"label\": \"Actual\", \"predicted_label\": \"Predicted\"}, {\"date\": \"2022-09-20T00:00:00\", \"y_test\": 40.99999999999999, \"y_pred\": 39.82867510305402, \"label\": \"Actual\", \"predicted_label\": \"Predicted\"}, {\"date\": \"2022-09-21T00:00:00\", \"y_test\": 41.20000076293945, \"y_pred\": 41.47196493527966, \"label\": \"Actual\", \"predicted_label\": \"Predicted\"}, {\"date\": \"2022-09-22T00:00:00\", \"y_test\": 41.150001525878906, \"y_pred\": 41.2593231704474, \"label\": \"Actual\", \"predicted_label\": \"Predicted\"}, {\"date\": \"2022-09-23T00:00:00\", \"y_test\": 40.49999999999999, \"y_pred\": 41.02665751413441, \"label\": \"Actual\", \"predicted_label\": \"Predicted\"}, {\"date\": \"2022-09-26T00:00:00\", \"y_test\": 38.70000076293945, \"y_pred\": 39.85469346575881, \"label\": \"Actual\", \"predicted_label\": \"Predicted\"}, {\"date\": \"2022-09-27T00:00:00\", \"y_test\": 37.84999847412109, \"y_pred\": 37.673385571723806, \"label\": \"Actual\", \"predicted_label\": \"Predicted\"}, {\"date\": \"2022-09-28T00:00:00\", \"y_test\": 38.04999923706055, \"y_pred\": 38.30080016715807, \"label\": \"Actual\", \"predicted_label\": \"Predicted\"}, {\"date\": \"2022-09-29T00:00:00\", \"y_test\": 38.45000076293945, \"y_pred\": 38.433011716716855, \"label\": \"Actual\", \"predicted_label\": \"Predicted\"}, {\"date\": \"2022-09-30T00:00:00\", \"y_test\": 38.400001525878906, \"y_pred\": 38.51957320463218, \"label\": \"Actual\", \"predicted_label\": \"Predicted\"}, {\"date\": \"2022-10-03T00:00:00\", \"y_test\": 38.09999847412109, \"y_pred\": 38.5646393313493, \"label\": \"Actual\", \"predicted_label\": \"Predicted\"}, {\"date\": \"2022-10-04T00:00:00\", \"y_test\": 38.50000000000001, \"y_pred\": 38.36600300132419, \"label\": \"Actual\", \"predicted_label\": \"Predicted\"}, {\"date\": \"2022-10-06T00:00:00\", \"y_test\": 39.45000076293945, \"y_pred\": 39.17601233760347, \"label\": \"Actual\", \"predicted_label\": \"Predicted\"}, {\"date\": \"2022-10-07T00:00:00\", \"y_test\": 39.34999847412109, \"y_pred\": 39.85449787012039, \"label\": \"Actual\", \"predicted_label\": \"Predicted\"}, {\"date\": \"2022-10-10T00:00:00\", \"y_test\": 38.79999923706055, \"y_pred\": 39.83838306406209, \"label\": \"Actual\", \"predicted_label\": \"Predicted\"}, {\"date\": \"2022-10-11T00:00:00\", \"y_test\": 39.59999847412109, \"y_pred\": 39.15886027175379, \"label\": \"Actual\", \"predicted_label\": \"Predicted\"}, {\"date\": \"2022-10-12T00:00:00\", \"y_test\": 38.150001525878906, \"y_pred\": 38.53587127293116, \"label\": \"Actual\", \"predicted_label\": \"Predicted\"}, {\"date\": \"2022-10-13T00:00:00\", \"y_test\": 37.70000076293945, \"y_pred\": 38.330717689916014, \"label\": \"Actual\", \"predicted_label\": \"Predicted\"}, {\"date\": \"2022-10-14T00:00:00\", \"y_test\": 37.59999847412109, \"y_pred\": 37.798894157281374, \"label\": \"Actual\", \"predicted_label\": \"Predicted\"}, {\"date\": \"2022-10-17T00:00:00\", \"y_test\": 37.150001525878906, \"y_pred\": 37.48631282616195, \"label\": \"Actual\", \"predicted_label\": \"Predicted\"}, {\"date\": \"2022-10-18T00:00:00\", \"y_test\": 37.75, \"y_pred\": 36.75195636875788, \"label\": \"Actual\", \"predicted_label\": \"Predicted\"}, {\"date\": \"2022-10-19T00:00:00\", \"y_test\": 36.400001525878906, \"y_pred\": 38.18664117832625, \"label\": \"Actual\", \"predicted_label\": \"Predicted\"}, {\"date\": \"2022-10-19T00:00:00\", \"y_test\": 36.400001525878906, \"y_pred\": 36.062821253739614, \"label\": \"Actual\", \"predicted_label\": \"Predicted\"}, {\"date\": \"2022-10-20T00:00:00\", \"y_test\": 35.70000076293945, \"y_pred\": 35.998064099447355, \"label\": \"Actual\", \"predicted_label\": \"Predicted\"}, {\"date\": \"2022-10-21T00:00:00\", \"y_test\": 35.900001525878906, \"y_pred\": 36.295523647155264, \"label\": \"Actual\", \"predicted_label\": \"Predicted\"}, {\"date\": \"2022-10-24T00:00:00\", \"y_test\": 35.599998474121094, \"y_pred\": 35.87574980093773, \"label\": \"Actual\", \"predicted_label\": \"Predicted\"}, {\"date\": \"2022-10-25T00:00:00\", \"y_test\": 35.5, \"y_pred\": 36.189984592588864, \"label\": \"Actual\", \"predicted_label\": \"Predicted\"}, {\"date\": \"2022-10-25T00:00:00\", \"y_test\": 35.5, \"y_pred\": 35.763681043727324, \"label\": \"Actual\", \"predicted_label\": \"Predicted\"}, {\"date\": \"2022-10-25T00:00:00\", \"y_test\": 35.5, \"y_pred\": 35.77324847162206, \"label\": \"Actual\", \"predicted_label\": \"Predicted\"}, {\"date\": \"2022-10-27T00:00:00\", \"y_test\": 35.5, \"y_pred\": 35.787564780567656, \"label\": \"Actual\", \"predicted_label\": \"Predicted\"}, {\"date\": \"2022-10-28T00:00:00\", \"y_test\": 35.25, \"y_pred\": 35.87536556801762, \"label\": \"Actual\", \"predicted_label\": \"Predicted\"}, {\"date\": \"2022-10-31T00:00:00\", \"y_test\": 35.400001525878906, \"y_pred\": 35.416780027412265, \"label\": \"Actual\", \"predicted_label\": \"Predicted\"}, {\"date\": \"2022-11-01T00:00:00\", \"y_test\": 35.099998474121094, \"y_pred\": 35.68655104628116, \"label\": \"Actual\", \"predicted_label\": \"Predicted\"}, {\"date\": \"2022-11-02T00:00:00\", \"y_test\": 35.0, \"y_pred\": 35.525580462720846, \"label\": \"Actual\", \"predicted_label\": \"Predicted\"}, {\"date\": \"2022-11-03T00:00:00\", \"y_test\": 34.849998474121094, \"y_pred\": 35.60795708445796, \"label\": \"Actual\", \"predicted_label\": \"Predicted\"}, {\"date\": \"2022-11-04T00:00:00\", \"y_test\": 36.650001525878906, \"y_pred\": 35.42482673735068, \"label\": \"Actual\", \"predicted_label\": \"Predicted\"}, {\"date\": \"2022-11-07T00:00:00\", \"y_test\": 37.45000076293945, \"y_pred\": 37.380783735908466, \"label\": \"Actual\", \"predicted_label\": \"Predicted\"}, {\"date\": \"2022-11-09T00:00:00\", \"y_test\": 37.54999923706055, \"y_pred\": 38.42541343423331, \"label\": \"Actual\", \"predicted_label\": \"Predicted\"}, {\"date\": \"2022-11-10T00:00:00\", \"y_test\": 36.400001525878906, \"y_pred\": 37.64543141841902, \"label\": \"Actual\", \"predicted_label\": \"Predicted\"}, {\"date\": \"2022-11-11T00:00:00\", \"y_test\": 36.34999847412109, \"y_pred\": 36.43857619505891, \"label\": \"Actual\", \"predicted_label\": \"Predicted\"}, {\"date\": \"2022-11-14T00:00:00\", \"y_test\": 36.29999923706055, \"y_pred\": 36.401117559330295, \"label\": \"Actual\", \"predicted_label\": \"Predicted\"}, {\"date\": \"2022-11-15T00:00:00\", \"y_test\": 36.04999923706055, \"y_pred\": 36.477907233336374, \"label\": \"Actual\", \"predicted_label\": \"Predicted\"}, {\"date\": \"2022-11-16T00:00:00\", \"y_test\": 36.45000076293945, \"y_pred\": 36.28113564869872, \"label\": \"Actual\", \"predicted_label\": \"Predicted\"}, {\"date\": \"2022-11-17T00:00:00\", \"y_test\": 35.849998474121094, \"y_pred\": 36.507566613510974, \"label\": \"Actual\", \"predicted_label\": \"Predicted\"}, {\"date\": \"2022-11-18T00:00:00\", \"y_test\": 35.70000076293945, \"y_pred\": 36.21983201215754, \"label\": \"Actual\", \"predicted_label\": \"Predicted\"}, {\"date\": \"2022-11-21T00:00:00\", \"y_test\": 35.29999923706055, \"y_pred\": 35.78182343593049, \"label\": \"Actual\", \"predicted_label\": \"Predicted\"}, {\"date\": \"2022-11-22T00:00:00\", \"y_test\": 35.29999923706055, \"y_pred\": 35.430041628751106, \"label\": \"Actual\", \"predicted_label\": \"Predicted\"}, {\"date\": \"2022-11-23T00:00:00\", \"y_test\": 35.70000076293945, \"y_pred\": 35.49580919924788, \"label\": \"Actual\", \"predicted_label\": \"Predicted\"}, {\"date\": \"2022-11-24T00:00:00\", \"y_test\": 36.0, \"y_pred\": 35.728159666387015, \"label\": \"Actual\", \"predicted_label\": \"Predicted\"}, {\"date\": \"2022-11-25T00:00:00\", \"y_test\": 37.34999847412109, \"y_pred\": 36.087411639905966, \"label\": \"Actual\", \"predicted_label\": \"Predicted\"}, {\"date\": \"2022-11-28T00:00:00\", \"y_test\": 37.400001525878906, \"y_pred\": 37.74657785049421, \"label\": \"Actual\", \"predicted_label\": \"Predicted\"}, {\"date\": \"2022-11-29T00:00:00\", \"y_test\": 37.09999847412109, \"y_pred\": 37.84430653782717, \"label\": \"Actual\", \"predicted_label\": \"Predicted\"}, {\"date\": \"2022-11-30T00:00:00\", \"y_test\": 37.29999923706055, \"y_pred\": 36.77493538538864, \"label\": \"Actual\", \"predicted_label\": \"Predicted\"}, {\"date\": \"2022-12-01T00:00:00\", \"y_test\": 41.29999923706055, \"y_pred\": 37.97162772581388, \"label\": \"Actual\", \"predicted_label\": \"Predicted\"}, {\"date\": \"2022-12-02T00:00:00\", \"y_test\": 42.20000076293945, \"y_pred\": 41.1476112165422, \"label\": \"Actual\", \"predicted_label\": \"Predicted\"}, {\"date\": \"2022-12-05T00:00:00\", \"y_test\": 42.59999847412109, \"y_pred\": 43.2422739516454, \"label\": \"Actual\", \"predicted_label\": \"Predicted\"}, {\"date\": \"2022-12-06T00:00:00\", \"y_test\": 41.34999847412109, \"y_pred\": 43.7213762600901, \"label\": \"Actual\", \"predicted_label\": \"Predicted\"}, {\"date\": \"2022-12-07T00:00:00\", \"y_test\": 40.650001525878906, \"y_pred\": 41.52965000128323, \"label\": \"Actual\", \"predicted_label\": \"Predicted\"}, {\"date\": \"2022-12-08T00:00:00\", \"y_test\": 41.79999923706055, \"y_pred\": 40.70061745830687, \"label\": \"Actual\", \"predicted_label\": \"Predicted\"}, {\"date\": \"2022-12-09T00:00:00\", \"y_test\": 41.150001525878906, \"y_pred\": 41.51751996023859, \"label\": \"Actual\", \"predicted_label\": \"Predicted\"}, {\"date\": \"2022-12-12T00:00:00\", \"y_test\": 39.90000152587891, \"y_pred\": 40.32072371385907, \"label\": \"Actual\", \"predicted_label\": \"Predicted\"}, {\"date\": \"2022-12-13T00:00:00\", \"y_test\": 40.20000076293945, \"y_pred\": 40.30399231404452, \"label\": \"Actual\", \"predicted_label\": \"Predicted\"}, {\"date\": \"2022-12-14T00:00:00\", \"y_test\": 43.0, \"y_pred\": 40.22668997415614, \"label\": \"Actual\", \"predicted_label\": \"Predicted\"}, {\"date\": \"2022-12-15T00:00:00\", \"y_test\": 42.45000076293946, \"y_pred\": 42.96527634279525, \"label\": \"Actual\", \"predicted_label\": \"Predicted\"}, {\"date\": \"2022-12-16T00:00:00\", \"y_test\": 41.84999847412108, \"y_pred\": 42.26687077386827, \"label\": \"Actual\", \"predicted_label\": \"Predicted\"}, {\"date\": \"2022-12-19T00:00:00\", \"y_test\": 40.45000076293945, \"y_pred\": 41.28073322960193, \"label\": \"Actual\", \"predicted_label\": \"Predicted\"}, {\"date\": \"2022-12-20T00:00:00\", \"y_test\": 39.75, \"y_pred\": 40.38545157479755, \"label\": \"Actual\", \"predicted_label\": \"Predicted\"}, {\"date\": \"2022-12-21T00:00:00\", \"y_test\": 39.200000762939446, \"y_pred\": 39.20430643859881, \"label\": \"Actual\", \"predicted_label\": \"Predicted\"}, {\"date\": \"2022-12-22T00:00:00\", \"y_test\": 37.900001525878906, \"y_pred\": 38.26833361422113, \"label\": \"Actual\", \"predicted_label\": \"Predicted\"}, {\"date\": \"2022-12-23T00:00:00\", \"y_test\": 36.54999923706055, \"y_pred\": 37.67883760978967, \"label\": \"Actual\", \"predicted_label\": \"Predicted\"}, {\"date\": \"2022-12-26T00:00:00\", \"y_test\": 36.29999923706054, \"y_pred\": 35.35607383723074, \"label\": \"Actual\", \"predicted_label\": \"Predicted\"}, {\"date\": \"2022-12-27T00:00:00\", \"y_test\": 37.25, \"y_pred\": 36.966469525248314, \"label\": \"Actual\", \"predicted_label\": \"Predicted\"}, {\"date\": \"2022-12-28T00:00:00\", \"y_test\": 38.150001525878906, \"y_pred\": 37.81693982616171, \"label\": \"Actual\", \"predicted_label\": \"Predicted\"}, {\"date\": \"2022-12-29T00:00:00\", \"y_test\": 37.59999847412109, \"y_pred\": 38.943930079610375, \"label\": \"Actual\", \"predicted_label\": \"Predicted\"}, {\"date\": \"2022-12-30T00:00:00\", \"y_test\": 37.849998474121094, \"y_pred\": 38.080657117725465, \"label\": \"Actual\", \"predicted_label\": \"Predicted\"}, {\"date\": \"2023-01-02T00:00:00\", \"y_test\": 37.84999847412109, \"y_pred\": 37.94896643440633, \"label\": \"Actual\", \"predicted_label\": \"Predicted\"}, {\"date\": \"2023-01-03T00:00:00\", \"y_test\": 38.04999923706055, \"y_pred\": 38.44214915339456, \"label\": \"Actual\", \"predicted_label\": \"Predicted\"}, {\"date\": \"2023-01-04T00:00:00\", \"y_test\": 37.75, \"y_pred\": 38.43406420465518, \"label\": \"Actual\", \"predicted_label\": \"Predicted\"}, {\"date\": \"2023-01-05T00:00:00\", \"y_test\": 37.50000000000001, \"y_pred\": 37.78028203427326, \"label\": \"Actual\", \"predicted_label\": \"Predicted\"}, {\"date\": \"2023-01-06T00:00:00\", \"y_test\": 37.54999923706055, \"y_pred\": 37.8036832327298, \"label\": \"Actual\", \"predicted_label\": \"Predicted\"}, {\"date\": \"2023-01-09T00:00:00\", \"y_test\": 37.34999847412109, \"y_pred\": 37.527608202496275, \"label\": \"Actual\", \"predicted_label\": \"Predicted\"}, {\"date\": \"2023-01-10T00:00:00\", \"y_test\": 37.0, \"y_pred\": 37.53514474305083, \"label\": \"Actual\", \"predicted_label\": \"Predicted\"}, {\"date\": \"2023-01-11T00:00:00\", \"y_test\": 37.09999847412109, \"y_pred\": 37.20604061362985, \"label\": \"Actual\", \"predicted_label\": \"Predicted\"}, {\"date\": \"2023-01-12T00:00:00\", \"y_test\": 37.0, \"y_pred\": 37.65336298555615, \"label\": \"Actual\", \"predicted_label\": \"Predicted\"}, {\"date\": \"2023-01-13T00:00:00\", \"y_test\": 36.75, \"y_pred\": 37.44004414508321, \"label\": \"Actual\", \"predicted_label\": \"Predicted\"}, {\"date\": \"2023-01-16T00:00:00\", \"y_test\": 37.59999847412109, \"y_pred\": 37.333485669394605, \"label\": \"Actual\", \"predicted_label\": \"Predicted\"}, {\"date\": \"2023-01-17T00:00:00\", \"y_test\": 37.29999923706055, \"y_pred\": 37.90386644931505, \"label\": \"Actual\", \"predicted_label\": \"Predicted\"}, {\"date\": \"2023-01-18T00:00:00\", \"y_test\": 36.5, \"y_pred\": 37.30598095507072, \"label\": \"Actual\", \"predicted_label\": \"Predicted\"}, {\"date\": \"2023-01-19T00:00:00\", \"y_test\": 35.95000076293945, \"y_pred\": 36.65729677614838, \"label\": \"Actual\", \"predicted_label\": \"Predicted\"}, {\"date\": \"2023-01-20T00:00:00\", \"y_test\": 35.549999237060554, \"y_pred\": 35.84359230712099, \"label\": \"Actual\", \"predicted_label\": \"Predicted\"}, {\"date\": \"2023-01-23T00:00:00\", \"y_test\": 35.45000076293945, \"y_pred\": 35.80166292192954, \"label\": \"Actual\", \"predicted_label\": \"Predicted\"}, {\"date\": \"2023-01-24T00:00:00\", \"y_test\": 35.099998474121094, \"y_pred\": 35.372623303533175, \"label\": \"Actual\", \"predicted_label\": \"Predicted\"}, {\"date\": \"2023-01-25T00:00:00\", \"y_test\": 34.849998474121094, \"y_pred\": 35.29012164716518, \"label\": \"Actual\", \"predicted_label\": \"Predicted\"}, {\"date\": \"2023-01-27T00:00:00\", \"y_test\": 34.04999923706055, \"y_pred\": 34.51181154961343, \"label\": \"Actual\", \"predicted_label\": \"Predicted\"}, {\"date\": \"2023-01-30T00:00:00\", \"y_test\": 33.400001525878906, \"y_pred\": 33.256806652651036, \"label\": \"Actual\", \"predicted_label\": \"Predicted\"}, {\"date\": \"2023-01-31T00:00:00\", \"y_test\": 34.150001525878906, \"y_pred\": 33.48928833994459, \"label\": \"Actual\", \"predicted_label\": \"Predicted\"}, {\"date\": \"2023-02-01T00:00:00\", \"y_test\": 34.400001525878906, \"y_pred\": 34.791161335474676, \"label\": \"Actual\", \"predicted_label\": \"Predicted\"}, {\"date\": \"2023-02-02T00:00:00\", \"y_test\": 33.04999923706055, \"y_pred\": 32.99625311240276, \"label\": \"Actual\", \"predicted_label\": \"Predicted\"}, {\"date\": \"2023-02-03T00:00:00\", \"y_test\": 32.599998474121094, \"y_pred\": 32.907463464798646, \"label\": \"Actual\", \"predicted_label\": \"Predicted\"}, {\"date\": \"2023-02-06T00:00:00\", \"y_test\": 32.54999923706055, \"y_pred\": 32.941924662038836, \"label\": \"Actual\", \"predicted_label\": \"Predicted\"}, {\"date\": \"2023-02-07T00:00:00\", \"y_test\": 32.45000076293945, \"y_pred\": 32.76917734179883, \"label\": \"Actual\", \"predicted_label\": \"Predicted\"}, {\"date\": \"2023-02-08T00:00:00\", \"y_test\": 32.29999923706055, \"y_pred\": 32.46232583937904, \"label\": \"Actual\", \"predicted_label\": \"Predicted\"}, {\"date\": \"2023-02-09T00:00:00\", \"y_test\": 34.29999923706055, \"y_pred\": 32.846204545783976, \"label\": \"Actual\", \"predicted_label\": \"Predicted\"}, {\"date\": \"2023-02-10T00:00:00\", \"y_test\": 34.79999923706055, \"y_pred\": 34.725223012950316, \"label\": \"Actual\", \"predicted_label\": \"Predicted\"}, {\"date\": \"2023-02-13T00:00:00\", \"y_test\": 34.0, \"y_pred\": 34.827655260807155, \"label\": \"Actual\", \"predicted_label\": \"Predicted\"}, {\"date\": \"2023-02-14T00:00:00\", \"y_test\": 33.599998474121094, \"y_pred\": 33.90726328739615, \"label\": \"Actual\", \"predicted_label\": \"Predicted\"}, {\"date\": \"2023-02-15T00:00:00\", \"y_test\": 33.400001525878906, \"y_pred\": 33.14903642291937, \"label\": \"Actual\", \"predicted_label\": \"Predicted\"}, {\"date\": \"2023-02-16T00:00:00\", \"y_test\": 33.400001525878906, \"y_pred\": 33.619143704186364, \"label\": \"Actual\", \"predicted_label\": \"Predicted\"}, {\"date\": \"2023-02-17T00:00:00\", \"y_test\": 34.099998474121094, \"y_pred\": 33.805381844285925, \"label\": \"Actual\", \"predicted_label\": \"Predicted\"}, {\"date\": \"2023-02-20T00:00:00\", \"y_test\": 33.75, \"y_pred\": 34.0682413405116, \"label\": \"Actual\", \"predicted_label\": \"Predicted\"}, {\"date\": \"2023-02-21T00:00:00\", \"y_test\": 32.75, \"y_pred\": 33.0515194791981, \"label\": \"Actual\", \"predicted_label\": \"Predicted\"}, {\"date\": \"2023-02-22T00:00:00\", \"y_test\": 32.5, \"y_pred\": 32.95828323408656, \"label\": \"Actual\", \"predicted_label\": \"Predicted\"}, {\"date\": \"2023-02-23T00:00:00\", \"y_test\": 32.20000076293945, \"y_pred\": 32.6461847536637, \"label\": \"Actual\", \"predicted_label\": \"Predicted\"}, {\"date\": \"2023-02-24T00:00:00\", \"y_test\": 31.85000038146973, \"y_pred\": 32.04113347565237, \"label\": \"Actual\", \"predicted_label\": \"Predicted\"}, {\"date\": \"2023-02-27T00:00:00\", \"y_test\": 31.299999237060547, \"y_pred\": 32.02187942642546, \"label\": \"Actual\", \"predicted_label\": \"Predicted\"}, {\"date\": \"2023-02-28T00:00:00\", \"y_test\": 32.5, \"y_pred\": 31.326684481905232, \"label\": \"Actual\", \"predicted_label\": \"Predicted\"}, {\"date\": \"2023-03-01T00:00:00\", \"y_test\": 32.400001525878906, \"y_pred\": 32.703118601656584, \"label\": \"Actual\", \"predicted_label\": \"Predicted\"}, {\"date\": \"2023-03-02T00:00:00\", \"y_test\": 32.29999923706055, \"y_pred\": 32.80552837769089, \"label\": \"Actual\", \"predicted_label\": \"Predicted\"}, {\"date\": \"2023-03-03T00:00:00\", \"y_test\": 32.619998931884766, \"y_pred\": 32.625217690878834, \"label\": \"Actual\", \"predicted_label\": \"Predicted\"}, {\"date\": \"2023-03-06T00:00:00\", \"y_test\": 33.22999954223633, \"y_pred\": 32.692351484795495, \"label\": \"Actual\", \"predicted_label\": \"Predicted\"}, {\"date\": \"2023-03-08T00:00:00\", \"y_test\": 32.70000076293945, \"y_pred\": 33.287125874229005, \"label\": \"Actual\", \"predicted_label\": \"Predicted\"}, {\"date\": \"2023-03-09T00:00:00\", \"y_test\": 33.22999954223633, \"y_pred\": 33.29091861026018, \"label\": \"Actual\", \"predicted_label\": \"Predicted\"}, {\"date\": \"2023-03-10T00:00:00\", \"y_test\": 32.33000183105469, \"y_pred\": 33.19662379208136, \"label\": \"Actual\", \"predicted_label\": \"Predicted\"}, {\"date\": \"2023-03-13T00:00:00\", \"y_test\": 31.729999542236328, \"y_pred\": 32.144742933525514, \"label\": \"Actual\", \"predicted_label\": \"Predicted\"}, {\"date\": \"2023-03-14T00:00:00\", \"y_test\": 30.850000381469727, \"y_pred\": 31.234685859945476, \"label\": \"Actual\", \"predicted_label\": \"Predicted\"}, {\"date\": \"2023-03-15T00:00:00\", \"y_test\": 30.709999084472656, \"y_pred\": 30.7513170293823, \"label\": \"Actual\", \"predicted_label\": \"Predicted\"}, {\"date\": \"2023-03-16T00:00:00\", \"y_test\": 30.989999771118168, \"y_pred\": 29.22864553081625, \"label\": \"Actual\", \"predicted_label\": \"Predicted\"}, {\"date\": \"2023-03-17T00:00:00\", \"y_test\": 30.840000152587887, \"y_pred\": 30.934385304255812, \"label\": \"Actual\", \"predicted_label\": \"Predicted\"}, {\"date\": \"2023-03-20T00:00:00\", \"y_test\": 31.71999931335449, \"y_pred\": 30.461972083348464, \"label\": \"Actual\", \"predicted_label\": \"Predicted\"}, {\"date\": \"2023-03-21T00:00:00\", \"y_test\": 31.19000053405762, \"y_pred\": 31.260444646049212, \"label\": \"Actual\", \"predicted_label\": \"Predicted\"}, {\"date\": \"2023-03-22T00:00:00\", \"y_test\": 30.79999923706055, \"y_pred\": 31.044924815912953, \"label\": \"Actual\", \"predicted_label\": \"Predicted\"}, {\"date\": \"2023-03-23T00:00:00\", \"y_test\": 30.450000762939453, \"y_pred\": 30.772199779055764, \"label\": \"Actual\", \"predicted_label\": \"Predicted\"}, {\"date\": \"2023-03-24T00:00:00\", \"y_test\": 30.32999992370605, \"y_pred\": 30.8000309494467, \"label\": \"Actual\", \"predicted_label\": \"Predicted\"}, {\"date\": \"2023-03-27T00:00:00\", \"y_test\": 29.479999542236328, \"y_pred\": 29.842698774391994, \"label\": \"Actual\", \"predicted_label\": \"Predicted\"}, {\"date\": \"2023-03-28T00:00:00\", \"y_test\": 28.89999961853028, \"y_pred\": 28.968943014465435, \"label\": \"Actual\", \"predicted_label\": \"Predicted\"}, {\"date\": \"2023-03-29T00:00:00\", \"y_test\": 28.59000015258789, \"y_pred\": 28.36925266420133, \"label\": \"Actual\", \"predicted_label\": \"Predicted\"}, {\"date\": \"2023-03-31T00:00:00\", \"y_test\": 30.249999999999996, \"y_pred\": 28.973642827011986, \"label\": \"Actual\", \"predicted_label\": \"Predicted\"}, {\"date\": \"2023-04-03T00:00:00\", \"y_test\": 30.14999961853028, \"y_pred\": 29.599406953621493, \"label\": \"Actual\", \"predicted_label\": \"Predicted\"}, {\"date\": \"2023-04-05T00:00:00\", \"y_test\": 30.60000038146973, \"y_pred\": 30.673418298514104, \"label\": \"Actual\", \"predicted_label\": \"Predicted\"}, {\"date\": \"2023-04-06T00:00:00\", \"y_test\": 30.479999542236328, \"y_pred\": 31.084590879225942, \"label\": \"Actual\", \"predicted_label\": \"Predicted\"}, {\"date\": \"2023-04-10T00:00:00\", \"y_test\": 31.0, \"y_pred\": 30.931490239497922, \"label\": \"Actual\", \"predicted_label\": \"Predicted\"}, {\"date\": \"2023-04-11T00:00:00\", \"y_test\": 30.610000610351562, \"y_pred\": 30.70985540020553, \"label\": \"Actual\", \"predicted_label\": \"Predicted\"}, {\"date\": \"2023-04-12T00:00:00\", \"y_test\": 30.56999969482422, \"y_pred\": 30.946334446031823, \"label\": \"Actual\", \"predicted_label\": \"Predicted\"}, {\"date\": \"2023-04-13T00:00:00\", \"y_test\": 30.31999969482422, \"y_pred\": 30.440950813584113, \"label\": \"Actual\", \"predicted_label\": \"Predicted\"}, {\"date\": \"2023-04-17T00:00:00\", \"y_test\": 31.73999977111816, \"y_pred\": 30.663850449330567, \"label\": \"Actual\", \"predicted_label\": \"Predicted\"}, {\"date\": \"2023-04-18T00:00:00\", \"y_test\": 30.09000015258789, \"y_pred\": 31.135610104260962, \"label\": \"Actual\", \"predicted_label\": \"Predicted\"}, {\"date\": \"2023-04-19T00:00:00\", \"y_test\": 29.809999465942383, \"y_pred\": 30.081271779145222, \"label\": \"Actual\", \"predicted_label\": \"Predicted\"}, {\"date\": \"2023-04-20T00:00:00\", \"y_test\": 29.80999946594238, \"y_pred\": 29.96447527911095, \"label\": \"Actual\", \"predicted_label\": \"Predicted\"}, {\"date\": \"2023-04-21T00:00:00\", \"y_test\": 29.590000152587894, \"y_pred\": 29.963647946876463, \"label\": \"Actual\", \"predicted_label\": \"Predicted\"}, {\"date\": \"2023-04-24T00:00:00\", \"y_test\": 29.020000457763675, \"y_pred\": 29.38035922431915, \"label\": \"Actual\", \"predicted_label\": \"Predicted\"}, {\"date\": \"2023-04-25T00:00:00\", \"y_test\": 29.299999237060547, \"y_pred\": 29.30533417684828, \"label\": \"Actual\", \"predicted_label\": \"Predicted\"}, {\"date\": \"2023-04-26T00:00:00\", \"y_test\": 29.389999389648438, \"y_pred\": 29.557697815094187, \"label\": \"Actual\", \"predicted_label\": \"Predicted\"}, {\"date\": \"2023-04-27T00:00:00\", \"y_test\": 30.95000076293945, \"y_pred\": 29.62167361514795, \"label\": \"Actual\", \"predicted_label\": \"Predicted\"}, {\"date\": \"2023-04-28T00:00:00\", \"y_test\": 30.600000381469727, \"y_pred\": 30.954110309491433, \"label\": \"Actual\", \"predicted_label\": \"Predicted\"}, {\"date\": \"2023-05-02T00:00:00\", \"y_test\": 30.819999694824222, \"y_pred\": 30.768437356460026, \"label\": \"Actual\", \"predicted_label\": \"Predicted\"}, {\"date\": \"2023-05-03T00:00:00\", \"y_test\": 31.389999389648438, \"y_pred\": 30.586662485106693, \"label\": \"Actual\", \"predicted_label\": \"Predicted\"}, {\"date\": \"2023-05-04T00:00:00\", \"y_test\": 31.840000152587894, \"y_pred\": 31.31979976459998, \"label\": \"Actual\", \"predicted_label\": \"Predicted\"}, {\"date\": \"2023-05-05T00:00:00\", \"y_test\": 31.530000686645508, \"y_pred\": 31.90052696733139, \"label\": \"Actual\", \"predicted_label\": \"Predicted\"}, {\"date\": \"2023-05-08T00:00:00\", \"y_test\": 31.059999465942383, \"y_pred\": 31.2344932244132, \"label\": \"Actual\", \"predicted_label\": \"Predicted\"}, {\"date\": \"2023-05-09T00:00:00\", \"y_test\": 30.930000305175778, \"y_pred\": 31.28760643495312, \"label\": \"Actual\", \"predicted_label\": \"Predicted\"}, {\"date\": \"2023-05-10T00:00:00\", \"y_test\": 33.22999954223633, \"y_pred\": 30.59723016098184, \"label\": \"Actual\", \"predicted_label\": \"Predicted\"}, {\"date\": \"2023-05-11T00:00:00\", \"y_test\": 33.33000183105469, \"y_pred\": 33.800568258564134, \"label\": \"Actual\", \"predicted_label\": \"Predicted\"}, {\"date\": \"2023-05-12T00:00:00\", \"y_test\": 32.93000030517578, \"y_pred\": 33.06702048313553, \"label\": \"Actual\", \"predicted_label\": \"Predicted\"}, {\"date\": \"2023-05-15T00:00:00\", \"y_test\": 33.150001525878906, \"y_pred\": 33.17138033309277, \"label\": \"Actual\", \"predicted_label\": \"Predicted\"}, {\"date\": \"2023-05-16T00:00:00\", \"y_test\": 33.189998626708984, \"y_pred\": 33.65714523275492, \"label\": \"Actual\", \"predicted_label\": \"Predicted\"}, {\"date\": \"2023-05-17T00:00:00\", \"y_test\": 32.65999984741211, \"y_pred\": 33.082533494887, \"label\": \"Actual\", \"predicted_label\": \"Predicted\"}, {\"date\": \"2023-05-19T00:00:00\", \"y_test\": 31.39999961853028, \"y_pred\": 32.446656139218554, \"label\": \"Actual\", \"predicted_label\": \"Predicted\"}, {\"date\": \"2023-05-22T00:00:00\", \"y_test\": 30.979999542236328, \"y_pred\": 31.356166151030525, \"label\": \"Actual\", \"predicted_label\": \"Predicted\"}, {\"date\": \"2023-05-23T00:00:00\", \"y_test\": 33.22999954223633, \"y_pred\": 31.28028048742683, \"label\": \"Actual\", \"predicted_label\": \"Predicted\"}, {\"date\": \"2023-05-24T00:00:00\", \"y_test\": 35.779998779296875, \"y_pred\": 33.86034985320105, \"label\": \"Actual\", \"predicted_label\": \"Predicted\"}, {\"date\": \"2023-05-24T00:00:00\", \"y_test\": 35.779998779296875, \"y_pred\": 35.294431285273255, \"label\": \"Actual\", \"predicted_label\": \"Predicted\"}, {\"date\": \"2023-05-24T00:00:00\", \"y_test\": 35.779998779296875, \"y_pred\": 35.26433571369802, \"label\": \"Actual\", \"predicted_label\": \"Predicted\"}, {\"date\": \"2023-05-24T00:00:00\", \"y_test\": 35.779998779296875, \"y_pred\": 35.503827489564415, \"label\": \"Actual\", \"predicted_label\": \"Predicted\"}, {\"date\": \"2023-05-24T00:00:00\", \"y_test\": 35.779998779296875, \"y_pred\": 35.41409899699488, \"label\": \"Actual\", \"predicted_label\": \"Predicted\"}, {\"date\": \"2023-05-25T00:00:00\", \"y_test\": 35.0, \"y_pred\": 35.44491612814529, \"label\": \"Actual\", \"predicted_label\": \"Predicted\"}, {\"date\": \"2023-05-26T00:00:00\", \"y_test\": 35.290000915527344, \"y_pred\": 35.4744695074945, \"label\": \"Actual\", \"predicted_label\": \"Predicted\"}, {\"date\": \"2023-05-30T00:00:00\", \"y_test\": 35.54999923706055, \"y_pred\": 35.24664661939841, \"label\": \"Actual\", \"predicted_label\": \"Predicted\"}, {\"date\": \"2023-05-31T00:00:00\", \"y_test\": 35.54999923706055, \"y_pred\": 36.2800890804274, \"label\": \"Actual\", \"predicted_label\": \"Predicted\"}]}}, {\"mode\": \"vega-lite\"});\n",
       "</script>"
      ],
      "text/plain": [
       "alt.LayerChart(...)"
      ]
     },
     "execution_count": 157,
     "metadata": {},
     "output_type": "execute_result"
    }
   ],
   "source": [
    "import altair as alt\n",
    "\n",
    "alt.themes.enable('fivethirtyeight')\n",
    "\n",
    "predictions_df['date'] = pd.to_datetime(predictions_df['date'])\n",
    "\n",
    "predictions_df['label'] = 'Actual'\n",
    "predictions_df['predicted_label'] = 'Predicted'\n",
    "\n",
    "# Actual high price line\n",
    "line1 = alt.Chart(predictions_df).mark_line(strokeWidth=2).encode(\n",
    "    x='date:T',\n",
    "    y=alt.Y('y_test:Q', title='Price', scale=alt.Scale(zero=False)),\n",
    "    color=alt.Color('label:N', legend=alt.Legend(title=\"Line Type\")),\n",
    "    tooltip=['date', 'y_test', 'y_pred']\n",
    ")\n",
    "\n",
    "# Predicted high price line\n",
    "line2 = alt.Chart(predictions_df).mark_line(strokeWidth=1, strokeDash=[3, 3]).encode(\n",
    "    x='date:T',\n",
    "    y=alt.Y('y_pred:Q', title='', scale=alt.Scale(zero=False)),\n",
    "    color=alt.Color('predicted_label:N', legend=alt.Legend(title=\"Line Type\")),\n",
    "    tooltip=['date', 'y_test', 'y_pred']\n",
    ")\n",
    "\n",
    "# Combine the two lines\n",
    "chart = alt.layer(line1, line2).properties(\n",
    "    title='Actual vs Predicted High Prices',\n",
    "    width=650,\n",
    "    height=400\n",
    ").interactive()\n",
    "\n",
    "chart"
   ]
  }
 ],
 "metadata": {
  "kernelspec": {
   "display_name": "Python 3 (ipykernel)",
   "language": "python",
   "name": "python3"
  },
  "language_info": {
   "codemirror_mode": {
    "name": "ipython",
    "version": 3
   },
   "file_extension": ".py",
   "mimetype": "text/x-python",
   "name": "python",
   "nbconvert_exporter": "python",
   "pygments_lexer": "ipython3",
   "version": "3.10.9"
  }
 },
 "nbformat": 4,
 "nbformat_minor": 5
}
