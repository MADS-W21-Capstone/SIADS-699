{
 "cells": [
  {
   "cell_type": "code",
   "execution_count": 1,
   "id": "8bac9e82",
   "metadata": {},
   "outputs": [],
   "source": [
    "import pandas as pd\n",
    "import seaborn as sns\n",
    "import matplotlib.pyplot as plt\n",
    "import numpy as np\n",
    "\n",
    "from sklearn.model_selection import train_test_split\n",
    "from sklearn.feature_selection import SelectFromModel\n",
    "from sklearn.preprocessing import StandardScaler\n",
    "from sklearn.metrics import mean_squared_error, r2_score, mean_absolute_percentage_error\n",
    "from sklearn.feature_selection import SelectKBest, f_regression\n",
    "from sklearn.linear_model import LinearRegression\n",
    "from sklearn.model_selection import GridSearchCV"
   ]
  },
  {
   "cell_type": "code",
   "execution_count": 2,
   "id": "bc46f51b",
   "metadata": {},
   "outputs": [],
   "source": [
    "df = pd.read_csv('../../datasets/processed_data/combined_features/ELGIEQUIP.BO.csv')"
   ]
  },
  {
   "cell_type": "code",
   "execution_count": 3,
   "id": "7aa43669",
   "metadata": {},
   "outputs": [
    {
     "data": {
      "text/plain": [
       "Index(['date', 'open', 'close', 'adj close', 'volume', 'low', 'high',\n",
       "       'volume_adi', 'volume_obv', 'volume_cmf',\n",
       "       ...\n",
       "       'inr=x_percent_change', 'cl=f_percent_change',\n",
       "       'treasury_yeild_10_years_percent_change', 'usdx-index_percent_change',\n",
       "       '^nsei_percent_change', '^bsesn_percent_change', '^gspc_percent_change',\n",
       "       'hsi_percent_change', 'sha_percent_change', '^sti_percent_change'],\n",
       "      dtype='object', length=635)"
      ]
     },
     "execution_count": 3,
     "metadata": {},
     "output_type": "execute_result"
    }
   ],
   "source": [
    "df.columns"
   ]
  },
  {
   "cell_type": "code",
   "execution_count": 4,
   "id": "386d6ea0",
   "metadata": {},
   "outputs": [],
   "source": [
    "def create_custom_target(df: pd.DataFrame) -> pd.DataFrame:\n",
    "    \"\"\"\n",
    "    This function creates the custom target price, which is computed as ln(high/yesterday_close)\n",
    "    \"\"\"    \n",
    "    # make a copy of the dataframe so as not to change the original dataframe\n",
    "    data_df = df.copy()\n",
    "    \n",
    "    # create yesterday_close feature as\n",
    "    data_df['yesterday_close'] = data_df['close'].shift(1)\n",
    "    \n",
    "    # create custom target price to predict, computing  ln(high/yesterday_close)\n",
    "    data_df['ln_target'] = np.log(data_df['high'] / data_df['yesterday_close'])\n",
    "    \n",
    "    # as yesterday close would not be available for first day, \n",
    "    # we would not have custom target price for that day, which needs to be excluded \n",
    "    return(data_df.iloc[1:, ])"
   ]
  },
  {
   "cell_type": "code",
   "execution_count": 5,
   "id": "168dc871",
   "metadata": {},
   "outputs": [],
   "source": [
    "df = create_custom_target(df)"
   ]
  },
  {
   "cell_type": "code",
   "execution_count": 6,
   "id": "77aff531",
   "metadata": {},
   "outputs": [
    {
     "data": {
      "text/plain": [
       "1        13.562500\n",
       "2        13.225000\n",
       "3        13.175000\n",
       "4        12.812500\n",
       "5        12.787500\n",
       "           ...    \n",
       "3745    571.549988\n",
       "3746    571.549988\n",
       "3747    556.349976\n",
       "3748    543.400024\n",
       "3749    534.200012\n",
       "Name: yesterday_close, Length: 3749, dtype: float64"
      ]
     },
     "execution_count": 6,
     "metadata": {},
     "output_type": "execute_result"
    }
   ],
   "source": [
    "df['yesterday_close']"
   ]
  },
  {
   "cell_type": "code",
   "execution_count": 7,
   "id": "cd3037ab",
   "metadata": {},
   "outputs": [
    {
     "data": {
      "text/plain": [
       "1       0.021879\n",
       "2       0.016870\n",
       "3       0.022515\n",
       "4       0.014528\n",
       "5      -0.004900\n",
       "          ...   \n",
       "3745    0.019835\n",
       "3746    0.020350\n",
       "3747    0.011971\n",
       "3748    0.012073\n",
       "3749    0.027328\n",
       "Name: ln_target, Length: 3749, dtype: float64"
      ]
     },
     "execution_count": 7,
     "metadata": {},
     "output_type": "execute_result"
    }
   ],
   "source": [
    "df['ln_target'] "
   ]
  },
  {
   "cell_type": "code",
   "execution_count": 8,
   "id": "0f0c8853",
   "metadata": {},
   "outputs": [],
   "source": [
    "# Drop cols with NaN values\n",
    "df = df.dropna(axis=1, how='all')\n",
    "df.fillna(method='ffill', inplace=True)"
   ]
  },
  {
   "cell_type": "code",
   "execution_count": 9,
   "id": "98208747",
   "metadata": {},
   "outputs": [],
   "source": [
    "combined_date_df = df['date']\n",
    "train_date, test_date = train_test_split(combined_date_df, train_size=0.8, shuffle=False)"
   ]
  },
  {
   "cell_type": "code",
   "execution_count": 10,
   "id": "6fbc2ddf",
   "metadata": {},
   "outputs": [],
   "source": [
    "df_without_date = df.drop(columns=[\"date\"])"
   ]
  },
  {
   "cell_type": "code",
   "execution_count": 11,
   "id": "f76227c5",
   "metadata": {},
   "outputs": [],
   "source": [
    "df_without_date.dropna(inplace=True)"
   ]
  },
  {
   "cell_type": "code",
   "execution_count": 12,
   "id": "161232e2",
   "metadata": {},
   "outputs": [
    {
     "data": {
      "text/html": [
       "<div>\n",
       "<style scoped>\n",
       "    .dataframe tbody tr th:only-of-type {\n",
       "        vertical-align: middle;\n",
       "    }\n",
       "\n",
       "    .dataframe tbody tr th {\n",
       "        vertical-align: top;\n",
       "    }\n",
       "\n",
       "    .dataframe thead th {\n",
       "        text-align: right;\n",
       "    }\n",
       "</style>\n",
       "<table border=\"1\" class=\"dataframe\">\n",
       "  <thead>\n",
       "    <tr style=\"text-align: right;\">\n",
       "      <th></th>\n",
       "      <th>open</th>\n",
       "      <th>close</th>\n",
       "      <th>adj close</th>\n",
       "      <th>volume</th>\n",
       "      <th>low</th>\n",
       "      <th>high</th>\n",
       "      <th>volume_adi</th>\n",
       "      <th>volume_obv</th>\n",
       "      <th>volume_cmf</th>\n",
       "      <th>volume_fi</th>\n",
       "      <th>...</th>\n",
       "      <th>treasury_yeild_10_years_percent_change</th>\n",
       "      <th>usdx-index_percent_change</th>\n",
       "      <th>^nsei_percent_change</th>\n",
       "      <th>^bsesn_percent_change</th>\n",
       "      <th>^gspc_percent_change</th>\n",
       "      <th>hsi_percent_change</th>\n",
       "      <th>sha_percent_change</th>\n",
       "      <th>^sti_percent_change</th>\n",
       "      <th>yesterday_close</th>\n",
       "      <th>ln_target</th>\n",
       "    </tr>\n",
       "  </thead>\n",
       "  <tbody>\n",
       "    <tr>\n",
       "      <th>1</th>\n",
       "      <td>13.162500</td>\n",
       "      <td>13.225000</td>\n",
       "      <td>9.042980</td>\n",
       "      <td>47944</td>\n",
       "      <td>12.925000</td>\n",
       "      <td>13.862500</td>\n",
       "      <td>-3.054382e+04</td>\n",
       "      <td>-34660</td>\n",
       "      <td>-0.292259</td>\n",
       "      <td>-4.452554e+03</td>\n",
       "      <td>...</td>\n",
       "      <td>-0.018383</td>\n",
       "      <td>0.004251</td>\n",
       "      <td>-0.026796</td>\n",
       "      <td>-0.021467</td>\n",
       "      <td>-0.010504</td>\n",
       "      <td>0.015385</td>\n",
       "      <td>-0.011495</td>\n",
       "      <td>0.000000</td>\n",
       "      <td>13.562500</td>\n",
       "      <td>0.021879</td>\n",
       "    </tr>\n",
       "    <tr>\n",
       "      <th>2</th>\n",
       "      <td>13.325000</td>\n",
       "      <td>13.175000</td>\n",
       "      <td>9.008792</td>\n",
       "      <td>8928</td>\n",
       "      <td>13.125000</td>\n",
       "      <td>13.450000</td>\n",
       "      <td>-3.672473e+04</td>\n",
       "      <td>-43588</td>\n",
       "      <td>-0.292259</td>\n",
       "      <td>-4.452554e+03</td>\n",
       "      <td>...</td>\n",
       "      <td>-0.018383</td>\n",
       "      <td>0.004251</td>\n",
       "      <td>-0.005000</td>\n",
       "      <td>-0.006264</td>\n",
       "      <td>-0.005788</td>\n",
       "      <td>0.015385</td>\n",
       "      <td>-0.011495</td>\n",
       "      <td>0.000000</td>\n",
       "      <td>13.225000</td>\n",
       "      <td>0.016870</td>\n",
       "    </tr>\n",
       "    <tr>\n",
       "      <th>3</th>\n",
       "      <td>13.000000</td>\n",
       "      <td>12.812500</td>\n",
       "      <td>8.760922</td>\n",
       "      <td>61976</td>\n",
       "      <td>12.500000</td>\n",
       "      <td>13.475000</td>\n",
       "      <td>-5.897254e+04</td>\n",
       "      <td>-105564</td>\n",
       "      <td>-0.292259</td>\n",
       "      <td>-4.452554e+03</td>\n",
       "      <td>...</td>\n",
       "      <td>0.010775</td>\n",
       "      <td>0.002458</td>\n",
       "      <td>-0.027630</td>\n",
       "      <td>-0.028051</td>\n",
       "      <td>-0.000327</td>\n",
       "      <td>0.015385</td>\n",
       "      <td>-0.011495</td>\n",
       "      <td>0.000000</td>\n",
       "      <td>13.175000</td>\n",
       "      <td>0.022515</td>\n",
       "    </tr>\n",
       "    <tr>\n",
       "      <th>4</th>\n",
       "      <td>12.887500</td>\n",
       "      <td>12.787500</td>\n",
       "      <td>8.743828</td>\n",
       "      <td>24064</td>\n",
       "      <td>12.750000</td>\n",
       "      <td>13.000000</td>\n",
       "      <td>-7.581727e+04</td>\n",
       "      <td>-129628</td>\n",
       "      <td>-0.292259</td>\n",
       "      <td>-4.452554e+03</td>\n",
       "      <td>...</td>\n",
       "      <td>0.021574</td>\n",
       "      <td>-0.005176</td>\n",
       "      <td>0.019921</td>\n",
       "      <td>0.016431</td>\n",
       "      <td>0.019496</td>\n",
       "      <td>0.015385</td>\n",
       "      <td>-0.011495</td>\n",
       "      <td>0.000000</td>\n",
       "      <td>12.812500</td>\n",
       "      <td>0.014528</td>\n",
       "    </tr>\n",
       "    <tr>\n",
       "      <th>5</th>\n",
       "      <td>12.500000</td>\n",
       "      <td>12.650000</td>\n",
       "      <td>8.649808</td>\n",
       "      <td>36556</td>\n",
       "      <td>12.187500</td>\n",
       "      <td>12.725000</td>\n",
       "      <td>-4.946304e+04</td>\n",
       "      <td>-166184</td>\n",
       "      <td>-0.292259</td>\n",
       "      <td>-4.452554e+03</td>\n",
       "      <td>...</td>\n",
       "      <td>0.021574</td>\n",
       "      <td>-0.005176</td>\n",
       "      <td>-0.010509</td>\n",
       "      <td>-0.012527</td>\n",
       "      <td>-0.030889</td>\n",
       "      <td>0.015385</td>\n",
       "      <td>-0.011495</td>\n",
       "      <td>0.000000</td>\n",
       "      <td>12.787500</td>\n",
       "      <td>-0.004900</td>\n",
       "    </tr>\n",
       "    <tr>\n",
       "      <th>...</th>\n",
       "      <td>...</td>\n",
       "      <td>...</td>\n",
       "      <td>...</td>\n",
       "      <td>...</td>\n",
       "      <td>...</td>\n",
       "      <td>...</td>\n",
       "      <td>...</td>\n",
       "      <td>...</td>\n",
       "      <td>...</td>\n",
       "      <td>...</td>\n",
       "      <td>...</td>\n",
       "      <td>...</td>\n",
       "      <td>...</td>\n",
       "      <td>...</td>\n",
       "      <td>...</td>\n",
       "      <td>...</td>\n",
       "      <td>...</td>\n",
       "      <td>...</td>\n",
       "      <td>...</td>\n",
       "      <td>...</td>\n",
       "      <td>...</td>\n",
       "    </tr>\n",
       "    <tr>\n",
       "      <th>3745</th>\n",
       "      <td>535.000000</td>\n",
       "      <td>571.549988</td>\n",
       "      <td>571.549988</td>\n",
       "      <td>136540</td>\n",
       "      <td>531.400024</td>\n",
       "      <td>583.000000</td>\n",
       "      <td>1.677814e+06</td>\n",
       "      <td>75230258</td>\n",
       "      <td>0.297408</td>\n",
       "      <td>3.101130e+06</td>\n",
       "      <td>...</td>\n",
       "      <td>-0.005647</td>\n",
       "      <td>0.002810</td>\n",
       "      <td>0.001835</td>\n",
       "      <td>0.000292</td>\n",
       "      <td>-0.011222</td>\n",
       "      <td>0.181818</td>\n",
       "      <td>0.000000</td>\n",
       "      <td>-0.002427</td>\n",
       "      <td>571.549988</td>\n",
       "      <td>0.019835</td>\n",
       "    </tr>\n",
       "    <tr>\n",
       "      <th>3746</th>\n",
       "      <td>567.950012</td>\n",
       "      <td>556.349976</td>\n",
       "      <td>556.349976</td>\n",
       "      <td>70707</td>\n",
       "      <td>552.049988</td>\n",
       "      <td>583.299988</td>\n",
       "      <td>1.626566e+06</td>\n",
       "      <td>75159551</td>\n",
       "      <td>0.255305</td>\n",
       "      <td>2.504576e+06</td>\n",
       "      <td>...</td>\n",
       "      <td>0.005679</td>\n",
       "      <td>0.003865</td>\n",
       "      <td>-0.003412</td>\n",
       "      <td>-0.003356</td>\n",
       "      <td>-0.007319</td>\n",
       "      <td>0.181818</td>\n",
       "      <td>0.000000</td>\n",
       "      <td>-0.003102</td>\n",
       "      <td>571.549988</td>\n",
       "      <td>0.020350</td>\n",
       "    </tr>\n",
       "    <tr>\n",
       "      <th>3747</th>\n",
       "      <td>558.849976</td>\n",
       "      <td>543.400024</td>\n",
       "      <td>543.400024</td>\n",
       "      <td>22764</td>\n",
       "      <td>540.349976</td>\n",
       "      <td>563.049988</td>\n",
       "      <td>1.609919e+06</td>\n",
       "      <td>75136787</td>\n",
       "      <td>0.240868</td>\n",
       "      <td>2.104666e+06</td>\n",
       "      <td>...</td>\n",
       "      <td>0.025545</td>\n",
       "      <td>0.003080</td>\n",
       "      <td>0.001955</td>\n",
       "      <td>0.001600</td>\n",
       "      <td>0.008758</td>\n",
       "      <td>0.181818</td>\n",
       "      <td>0.000000</td>\n",
       "      <td>-0.000415</td>\n",
       "      <td>556.349976</td>\n",
       "      <td>0.011971</td>\n",
       "    </tr>\n",
       "    <tr>\n",
       "      <th>3748</th>\n",
       "      <td>550.000000</td>\n",
       "      <td>534.200012</td>\n",
       "      <td>534.200012</td>\n",
       "      <td>100755</td>\n",
       "      <td>531.000000</td>\n",
       "      <td>550.000000</td>\n",
       "      <td>1.543103e+06</td>\n",
       "      <td>75036032</td>\n",
       "      <td>0.156200</td>\n",
       "      <td>1.671578e+06</td>\n",
       "      <td>...</td>\n",
       "      <td>0.025545</td>\n",
       "      <td>0.003080</td>\n",
       "      <td>0.005368</td>\n",
       "      <td>0.005515</td>\n",
       "      <td>0.013049</td>\n",
       "      <td>0.181818</td>\n",
       "      <td>0.000000</td>\n",
       "      <td>-0.000279</td>\n",
       "      <td>543.400024</td>\n",
       "      <td>0.012073</td>\n",
       "    </tr>\n",
       "    <tr>\n",
       "      <th>3749</th>\n",
       "      <td>539.950012</td>\n",
       "      <td>532.250000</td>\n",
       "      <td>532.250000</td>\n",
       "      <td>62371</td>\n",
       "      <td>515.299988</td>\n",
       "      <td>549.000000</td>\n",
       "      <td>1.543473e+06</td>\n",
       "      <td>74973661</td>\n",
       "      <td>0.158117</td>\n",
       "      <td>1.415407e+06</td>\n",
       "      <td>...</td>\n",
       "      <td>0.025545</td>\n",
       "      <td>0.003080</td>\n",
       "      <td>0.001893</td>\n",
       "      <td>0.001953</td>\n",
       "      <td>0.000017</td>\n",
       "      <td>0.181818</td>\n",
       "      <td>0.000000</td>\n",
       "      <td>-0.003260</td>\n",
       "      <td>534.200012</td>\n",
       "      <td>0.027328</td>\n",
       "    </tr>\n",
       "  </tbody>\n",
       "</table>\n",
       "<p>3749 rows × 636 columns</p>\n",
       "</div>"
      ],
      "text/plain": [
       "            open       close   adj close  volume         low        high  \\\n",
       "1      13.162500   13.225000    9.042980   47944   12.925000   13.862500   \n",
       "2      13.325000   13.175000    9.008792    8928   13.125000   13.450000   \n",
       "3      13.000000   12.812500    8.760922   61976   12.500000   13.475000   \n",
       "4      12.887500   12.787500    8.743828   24064   12.750000   13.000000   \n",
       "5      12.500000   12.650000    8.649808   36556   12.187500   12.725000   \n",
       "...          ...         ...         ...     ...         ...         ...   \n",
       "3745  535.000000  571.549988  571.549988  136540  531.400024  583.000000   \n",
       "3746  567.950012  556.349976  556.349976   70707  552.049988  583.299988   \n",
       "3747  558.849976  543.400024  543.400024   22764  540.349976  563.049988   \n",
       "3748  550.000000  534.200012  534.200012  100755  531.000000  550.000000   \n",
       "3749  539.950012  532.250000  532.250000   62371  515.299988  549.000000   \n",
       "\n",
       "        volume_adi  volume_obv  volume_cmf     volume_fi  ...  \\\n",
       "1    -3.054382e+04      -34660   -0.292259 -4.452554e+03  ...   \n",
       "2    -3.672473e+04      -43588   -0.292259 -4.452554e+03  ...   \n",
       "3    -5.897254e+04     -105564   -0.292259 -4.452554e+03  ...   \n",
       "4    -7.581727e+04     -129628   -0.292259 -4.452554e+03  ...   \n",
       "5    -4.946304e+04     -166184   -0.292259 -4.452554e+03  ...   \n",
       "...            ...         ...         ...           ...  ...   \n",
       "3745  1.677814e+06    75230258    0.297408  3.101130e+06  ...   \n",
       "3746  1.626566e+06    75159551    0.255305  2.504576e+06  ...   \n",
       "3747  1.609919e+06    75136787    0.240868  2.104666e+06  ...   \n",
       "3748  1.543103e+06    75036032    0.156200  1.671578e+06  ...   \n",
       "3749  1.543473e+06    74973661    0.158117  1.415407e+06  ...   \n",
       "\n",
       "      treasury_yeild_10_years_percent_change  usdx-index_percent_change  \\\n",
       "1                                  -0.018383                   0.004251   \n",
       "2                                  -0.018383                   0.004251   \n",
       "3                                   0.010775                   0.002458   \n",
       "4                                   0.021574                  -0.005176   \n",
       "5                                   0.021574                  -0.005176   \n",
       "...                                      ...                        ...   \n",
       "3745                               -0.005647                   0.002810   \n",
       "3746                                0.005679                   0.003865   \n",
       "3747                                0.025545                   0.003080   \n",
       "3748                                0.025545                   0.003080   \n",
       "3749                                0.025545                   0.003080   \n",
       "\n",
       "      ^nsei_percent_change  ^bsesn_percent_change  ^gspc_percent_change  \\\n",
       "1                -0.026796              -0.021467             -0.010504   \n",
       "2                -0.005000              -0.006264             -0.005788   \n",
       "3                -0.027630              -0.028051             -0.000327   \n",
       "4                 0.019921               0.016431              0.019496   \n",
       "5                -0.010509              -0.012527             -0.030889   \n",
       "...                    ...                    ...                   ...   \n",
       "3745              0.001835               0.000292             -0.011222   \n",
       "3746             -0.003412              -0.003356             -0.007319   \n",
       "3747              0.001955               0.001600              0.008758   \n",
       "3748              0.005368               0.005515              0.013049   \n",
       "3749              0.001893               0.001953              0.000017   \n",
       "\n",
       "      hsi_percent_change  sha_percent_change  ^sti_percent_change  \\\n",
       "1               0.015385           -0.011495             0.000000   \n",
       "2               0.015385           -0.011495             0.000000   \n",
       "3               0.015385           -0.011495             0.000000   \n",
       "4               0.015385           -0.011495             0.000000   \n",
       "5               0.015385           -0.011495             0.000000   \n",
       "...                  ...                 ...                  ...   \n",
       "3745            0.181818            0.000000            -0.002427   \n",
       "3746            0.181818            0.000000            -0.003102   \n",
       "3747            0.181818            0.000000            -0.000415   \n",
       "3748            0.181818            0.000000            -0.000279   \n",
       "3749            0.181818            0.000000            -0.003260   \n",
       "\n",
       "      yesterday_close  ln_target  \n",
       "1           13.562500   0.021879  \n",
       "2           13.225000   0.016870  \n",
       "3           13.175000   0.022515  \n",
       "4           12.812500   0.014528  \n",
       "5           12.787500  -0.004900  \n",
       "...               ...        ...  \n",
       "3745       571.549988   0.019835  \n",
       "3746       571.549988   0.020350  \n",
       "3747       556.349976   0.011971  \n",
       "3748       543.400024   0.012073  \n",
       "3749       534.200012   0.027328  \n",
       "\n",
       "[3749 rows x 636 columns]"
      ]
     },
     "execution_count": 12,
     "metadata": {},
     "output_type": "execute_result"
    }
   ],
   "source": [
    "df_without_date"
   ]
  },
  {
   "cell_type": "code",
   "execution_count": 13,
   "id": "6df2c676",
   "metadata": {},
   "outputs": [],
   "source": [
    "def timeseries_to_supervise(df, window_size, target):    \n",
    "    X = []\n",
    "    y = []\n",
    "    indx = []\n",
    "    no_records = len(df)\n",
    "    \n",
    "    for i in range(window_size, no_records):\n",
    "        X.append(df.iloc[i-window_size:i].drop(target, axis=1).values.flatten())  # Collect past records as a sequence\n",
    "        y.append(df.iloc[i][target])  # Next record as target variable\n",
    "        indx.append(np.arange(i-window_size, i))\n",
    "\n",
    "    X = pd.DataFrame(X)\n",
    "    y = pd.Series(y)\n",
    "    return(X, y, indx)"
   ]
  },
  {
   "cell_type": "code",
   "execution_count": 14,
   "id": "01de558a",
   "metadata": {},
   "outputs": [],
   "source": [
    "window_size = 10"
   ]
  },
  {
   "cell_type": "code",
   "execution_count": 15,
   "id": "3aa99b02",
   "metadata": {},
   "outputs": [
    {
     "data": {
      "text/plain": [
       "[616, 618, 619, 621, 623, 622]"
      ]
     },
     "execution_count": 15,
     "metadata": {},
     "output_type": "execute_result"
    }
   ],
   "source": [
    "# do train/test split the data with shuffle = False\n",
    "train_data, test_data = train_test_split(df_without_date, train_size=0.8, shuffle=False)\n",
    "\n",
    "# Identify the indices of the specified sentiment columns in the original dataset\n",
    "sentiment_columns = ['agg_polarity', 'agg_compound', 'topic_polarity', 'topic_compound', 'ticker_polarity', 'ticker_compound']\n",
    "column_indices = [train_data.columns.get_loc(col) for col in sentiment_columns if col in train_data.columns]\n",
    "\n",
    "column_indices"
   ]
  },
  {
   "cell_type": "code",
   "execution_count": 16,
   "id": "f641f814",
   "metadata": {},
   "outputs": [],
   "source": [
    "# convert timeseries to be used in supervise learning model\n",
    "X_train, y_train, indx_train = timeseries_to_supervise(train_data, window_size, 'ln_target')  \n",
    "\n",
    "# convert timeseries to be used in supervise learning model    \n",
    "X_test, y_test, indx_test = timeseries_to_supervise(test_data, window_size, 'ln_target')  "
   ]
  },
  {
   "cell_type": "code",
   "execution_count": 17,
   "id": "168b9857",
   "metadata": {},
   "outputs": [],
   "source": [
    "# Use SelectKBest to select the top 44 features\n",
    "selector = SelectKBest(score_func=f_regression, k=44)\n",
    "X_train_44 = selector.fit_transform(X_train, y_train)\n",
    "X_test_44 = selector.transform(X_test)\n",
    "\n",
    "# Determine if the specified columns are among the top 44 features\n",
    "selected_indices = selector.get_support(indices=True)\n",
    "missing_indices = [idx for idx in column_indices if idx not in selected_indices]\n",
    "\n",
    "# Add the specified columns if they are not among the top 44 features\n",
    "for idx in missing_indices:\n",
    "    extracted_column_train = X_train.iloc[:, idx].values.reshape(-1, 1)\n",
    "    extracted_column_test = X_test.iloc[:, idx].values.reshape(-1, 1)\n",
    "    X_train_44 = np.hstack([X_train_44, extracted_column_train])\n",
    "    X_test_44 = np.hstack([X_test_44, extracted_column_test])\n",
    "\n",
    "# If some of the specified columns were already in the top 44, \n",
    "# select additional top features to make the total count 50\n",
    "remaining_indices = [i for i in range(X_train.shape[1]) if i not in selected_indices and i not in missing_indices]\n",
    "num_additional_features_needed = 50 - X_train_44.shape[1]\n",
    "\n",
    "if num_additional_features_needed > 0:\n",
    "    additional_selector = SelectKBest(score_func=f_regression, k=num_additional_features_needed)\n",
    "    additional_selector.fit(X_train.iloc[:, remaining_indices], y_train)\n",
    "    X_train_additional = additional_selector.transform(X_train.iloc[:, remaining_indices])\n",
    "    X_test_additional = additional_selector.transform(X_test.iloc[:, remaining_indices])\n",
    "\n",
    "    X_train_44 = np.hstack([X_train_44, X_train_additional])\n",
    "    X_test_44 = np.hstack([X_test_44, X_test_additional])\n",
    "\n",
    "X_train_50 = X_train_44\n",
    "X_test_50 = X_test_44"
   ]
  },
  {
   "cell_type": "code",
   "execution_count": 19,
   "id": "0fcafca1",
   "metadata": {},
   "outputs": [
    {
     "name": "stdout",
     "output_type": "stream",
     "text": [
      "Best parameters:  {'fit_intercept': True}\n",
      "Best cross-validation score:  0.48590803164611557\n"
     ]
    },
    {
     "data": {
      "text/html": [
       "<style>#sk-container-id-1 {color: black;background-color: white;}#sk-container-id-1 pre{padding: 0;}#sk-container-id-1 div.sk-toggleable {background-color: white;}#sk-container-id-1 label.sk-toggleable__label {cursor: pointer;display: block;width: 100%;margin-bottom: 0;padding: 0.3em;box-sizing: border-box;text-align: center;}#sk-container-id-1 label.sk-toggleable__label-arrow:before {content: \"▸\";float: left;margin-right: 0.25em;color: #696969;}#sk-container-id-1 label.sk-toggleable__label-arrow:hover:before {color: black;}#sk-container-id-1 div.sk-estimator:hover label.sk-toggleable__label-arrow:before {color: black;}#sk-container-id-1 div.sk-toggleable__content {max-height: 0;max-width: 0;overflow: hidden;text-align: left;background-color: #f0f8ff;}#sk-container-id-1 div.sk-toggleable__content pre {margin: 0.2em;color: black;border-radius: 0.25em;background-color: #f0f8ff;}#sk-container-id-1 input.sk-toggleable__control:checked~div.sk-toggleable__content {max-height: 200px;max-width: 100%;overflow: auto;}#sk-container-id-1 input.sk-toggleable__control:checked~label.sk-toggleable__label-arrow:before {content: \"▾\";}#sk-container-id-1 div.sk-estimator input.sk-toggleable__control:checked~label.sk-toggleable__label {background-color: #d4ebff;}#sk-container-id-1 div.sk-label input.sk-toggleable__control:checked~label.sk-toggleable__label {background-color: #d4ebff;}#sk-container-id-1 input.sk-hidden--visually {border: 0;clip: rect(1px 1px 1px 1px);clip: rect(1px, 1px, 1px, 1px);height: 1px;margin: -1px;overflow: hidden;padding: 0;position: absolute;width: 1px;}#sk-container-id-1 div.sk-estimator {font-family: monospace;background-color: #f0f8ff;border: 1px dotted black;border-radius: 0.25em;box-sizing: border-box;margin-bottom: 0.5em;}#sk-container-id-1 div.sk-estimator:hover {background-color: #d4ebff;}#sk-container-id-1 div.sk-parallel-item::after {content: \"\";width: 100%;border-bottom: 1px solid gray;flex-grow: 1;}#sk-container-id-1 div.sk-label:hover label.sk-toggleable__label {background-color: #d4ebff;}#sk-container-id-1 div.sk-serial::before {content: \"\";position: absolute;border-left: 1px solid gray;box-sizing: border-box;top: 0;bottom: 0;left: 50%;z-index: 0;}#sk-container-id-1 div.sk-serial {display: flex;flex-direction: column;align-items: center;background-color: white;padding-right: 0.2em;padding-left: 0.2em;position: relative;}#sk-container-id-1 div.sk-item {position: relative;z-index: 1;}#sk-container-id-1 div.sk-parallel {display: flex;align-items: stretch;justify-content: center;background-color: white;position: relative;}#sk-container-id-1 div.sk-item::before, #sk-container-id-1 div.sk-parallel-item::before {content: \"\";position: absolute;border-left: 1px solid gray;box-sizing: border-box;top: 0;bottom: 0;left: 50%;z-index: -1;}#sk-container-id-1 div.sk-parallel-item {display: flex;flex-direction: column;z-index: 1;position: relative;background-color: white;}#sk-container-id-1 div.sk-parallel-item:first-child::after {align-self: flex-end;width: 50%;}#sk-container-id-1 div.sk-parallel-item:last-child::after {align-self: flex-start;width: 50%;}#sk-container-id-1 div.sk-parallel-item:only-child::after {width: 0;}#sk-container-id-1 div.sk-dashed-wrapped {border: 1px dashed gray;margin: 0 0.4em 0.5em 0.4em;box-sizing: border-box;padding-bottom: 0.4em;background-color: white;}#sk-container-id-1 div.sk-label label {font-family: monospace;font-weight: bold;display: inline-block;line-height: 1.2em;}#sk-container-id-1 div.sk-label-container {text-align: center;}#sk-container-id-1 div.sk-container {/* jupyter's `normalize.less` sets `[hidden] { display: none; }` but bootstrap.min.css set `[hidden] { display: none !important; }` so we also need the `!important` here to be able to override the default hidden behavior on the sphinx rendered scikit-learn.org. See: https://github.com/scikit-learn/scikit-learn/issues/21755 */display: inline-block !important;position: relative;}#sk-container-id-1 div.sk-text-repr-fallback {display: none;}</style><div id=\"sk-container-id-1\" class=\"sk-top-container\"><div class=\"sk-text-repr-fallback\"><pre>LinearRegression()</pre><b>In a Jupyter environment, please rerun this cell to show the HTML representation or trust the notebook. <br />On GitHub, the HTML representation is unable to render, please try loading this page with nbviewer.org.</b></div><div class=\"sk-container\" hidden><div class=\"sk-item\"><div class=\"sk-estimator sk-toggleable\"><input class=\"sk-toggleable__control sk-hidden--visually\" id=\"sk-estimator-id-1\" type=\"checkbox\" checked><label for=\"sk-estimator-id-1\" class=\"sk-toggleable__label sk-toggleable__label-arrow\">LinearRegression</label><div class=\"sk-toggleable__content\"><pre>LinearRegression()</pre></div></div></div></div></div>"
      ],
      "text/plain": [
       "LinearRegression()"
      ]
     },
     "execution_count": 19,
     "metadata": {},
     "output_type": "execute_result"
    }
   ],
   "source": [
    "linear_reg = LinearRegression()\n",
    "\n",
    "param_grid = {\n",
    "    'fit_intercept': [True, False],         \n",
    "}\n",
    "\n",
    "grid_search = GridSearchCV(linear_reg, param_grid, cv=5, scoring='neg_mean_squared_error', n_jobs=-1)\n",
    "grid_search.fit(X_train_50, y_train)\n",
    "\n",
    "print(\"Best parameters: \", grid_search.best_params_)\n",
    "print(\"Best cross-validation score: \", -grid_search.best_score_)\n",
    "\n",
    "model_50 = grid_search.best_estimator_\n",
    "model_50.fit(X_train_50, y_train)"
   ]
  },
  {
   "cell_type": "code",
   "execution_count": 21,
   "id": "84e76734",
   "metadata": {},
   "outputs": [],
   "source": [
    "def convert_custom_target_to_actual_for_supervise(df: pd.DataFrame, window: int, y: \"pd.Series[int]\") -> \"pd.Series[int]\":\n",
    "    \"\"\"\n",
    "    this module converts custom target - ln(high/yesterday_close) to actual high price again for timeseries converted data using rolling         window of size 10\n",
    "    \"\"\"\n",
    "    data_df = df.copy()\n",
    "    \n",
    "    # exclude first 10 rows of train/test data, as while us\n",
    "    \n",
    "    y = np.exp(y) * data_df.loc[data_df.index[window:], 'yesterday_close'].reset_index(drop=True)\n",
    "    return(y)    "
   ]
  },
  {
   "cell_type": "code",
   "execution_count": 22,
   "id": "d9e0ac92",
   "metadata": {},
   "outputs": [],
   "source": [
    "def evaluate_model(model, window, test_data, test_date, X_test, y_test):\n",
    "    \n",
    "    # do target prediction using the provide model\n",
    "    y_pred = model.predict(X_test)\n",
    "\n",
    "    # convert back to original value, before computing mape            \n",
    "    y_test = convert_custom_target_to_actual_for_supervise(test_data, window, y_test)\n",
    "    y_pred = convert_custom_target_to_actual_for_supervise(test_data, window, y_pred)\n",
    "\n",
    "    test_dates = test_date[window:].reset_index(drop=True)\n",
    "    predictions_df = pd.DataFrame({'date': test_dates, 'y_test': y_test, 'y_pred': y_pred})\n",
    "\n",
    "    # compute regression metric - mape \n",
    "    mape = mean_absolute_percentage_error(y_test, y_pred)\n",
    "\n",
    "    # compute rmse metric\n",
    "    rmse = mean_squared_error(y_test, y_pred, squared=False)        \n",
    "    return(predictions_df, mape, rmse)"
   ]
  },
  {
   "cell_type": "code",
   "execution_count": 23,
   "id": "9ee983f2",
   "metadata": {},
   "outputs": [],
   "source": [
    "predictions_df, mape, rmse = evaluate_model(model_50, window_size, test_data, test_date, X_test_50, y_test)"
   ]
  },
  {
   "cell_type": "code",
   "execution_count": 24,
   "id": "529d3b04",
   "metadata": {},
   "outputs": [
    {
     "data": {
      "text/plain": [
       "(           date      y_test      y_pred\n",
       " 0    2020-08-25  114.199997  118.476197\n",
       " 1    2020-08-26  113.900002  116.425709\n",
       " 2    2020-08-27  115.000000  117.288799\n",
       " 3    2020-08-28  115.675003  117.563348\n",
       " 4    2020-08-31  115.000000  116.637782\n",
       " ..          ...         ...         ...\n",
       " 735  2023-05-24  583.000000  590.532377\n",
       " 736  2023-05-25  583.299988  585.627757\n",
       " 737  2023-05-26  563.049988  570.592115\n",
       " 738  2023-05-30  550.000000  555.494707\n",
       " 739  2023-05-31  549.000000  546.712044\n",
       " \n",
       " [740 rows x 3 columns],\n",
       " 0.01776715649954395,\n",
       " 9.127031651982774)"
      ]
     },
     "execution_count": 24,
     "metadata": {},
     "output_type": "execute_result"
    }
   ],
   "source": [
    "predictions_df, mape, rmse"
   ]
  },
  {
   "cell_type": "code",
   "execution_count": 25,
   "id": "c1afa403",
   "metadata": {},
   "outputs": [
    {
     "name": "stdout",
     "output_type": "stream",
     "text": [
      "MAPE for model with top 50 features: 1.78%\n"
     ]
    }
   ],
   "source": [
    "print(f\"MAPE for model with top 50 features: {mape*100:.2f}%\")"
   ]
  },
  {
   "cell_type": "code",
   "execution_count": 26,
   "id": "a8114d8e",
   "metadata": {},
   "outputs": [],
   "source": [
    "predictions_df.to_csv(\"lr_ELGIEQUIP.csv\", index=False)"
   ]
  },
  {
   "cell_type": "code",
   "execution_count": 30,
   "id": "cb0acd36",
   "metadata": {},
   "outputs": [
    {
     "name": "stdout",
     "output_type": "stream",
     "text": [
      "trend_ema_slow: 0.06368064807631246\n",
      "trend_vortex_ind_neg: -0.018076149464476485\n",
      "trend_trix: 0.010008167654171273\n",
      "trend_macd: 0.009873975082841803\n",
      "trend_vortex_ind_diff: 0.007892039305151042\n",
      "trend_mass_index: -0.005963893231875655\n",
      "volatility_dcm: -0.005526617657026831\n",
      "trend_ema_fast: -0.004669985961057201\n",
      "trend_vortex_ind_pos: -0.004014878324984067\n",
      "volatility_dcp: -0.0029955864735173826\n"
     ]
    }
   ],
   "source": [
    "feature_names = df.columns.tolist()\n",
    "\n",
    "# Get coefficients from the model\n",
    "coefficients = model_50.coef_\n",
    "\n",
    "# Map coefficients to corresponding feature names\n",
    "feature_coefficient_mapping = dict(zip(feature_names, coefficients))\n",
    "\n",
    "# Sort by absolute coefficient values (magnitude)\n",
    "sorted_features = sorted(feature_coefficient_mapping.items(), key=lambda x: abs(x[1]), reverse=True)\n",
    "\n",
    "# Display top 10\n",
    "for feature, coef in sorted_features[:10]:\n",
    "    print(f\"{feature}: {coef}\")\n",
    "\n"
   ]
  },
  {
   "cell_type": "code",
   "execution_count": 31,
   "id": "2903a891",
   "metadata": {},
   "outputs": [
    {
     "data": {
      "text/html": [
       "\n",
       "<style>\n",
       "  #altair-viz-b40243f48afc44509db8be8386bb2622.vega-embed {\n",
       "    width: 100%;\n",
       "    display: flex;\n",
       "  }\n",
       "\n",
       "  #altair-viz-b40243f48afc44509db8be8386bb2622.vega-embed details,\n",
       "  #altair-viz-b40243f48afc44509db8be8386bb2622.vega-embed details summary {\n",
       "    position: relative;\n",
       "  }\n",
       "</style>\n",
       "<div id=\"altair-viz-b40243f48afc44509db8be8386bb2622\"></div>\n",
       "<script type=\"text/javascript\">\n",
       "  var VEGA_DEBUG = (typeof VEGA_DEBUG == \"undefined\") ? {} : VEGA_DEBUG;\n",
       "  (function(spec, embedOpt){\n",
       "    let outputDiv = document.currentScript.previousElementSibling;\n",
       "    if (outputDiv.id !== \"altair-viz-b40243f48afc44509db8be8386bb2622\") {\n",
       "      outputDiv = document.getElementById(\"altair-viz-b40243f48afc44509db8be8386bb2622\");\n",
       "    }\n",
       "    const paths = {\n",
       "      \"vega\": \"https://cdn.jsdelivr.net/npm/vega@5?noext\",\n",
       "      \"vega-lib\": \"https://cdn.jsdelivr.net/npm/vega-lib?noext\",\n",
       "      \"vega-lite\": \"https://cdn.jsdelivr.net/npm/vega-lite@5.8.0?noext\",\n",
       "      \"vega-embed\": \"https://cdn.jsdelivr.net/npm/vega-embed@6?noext\",\n",
       "    };\n",
       "\n",
       "    function maybeLoadScript(lib, version) {\n",
       "      var key = `${lib.replace(\"-\", \"\")}_version`;\n",
       "      return (VEGA_DEBUG[key] == version) ?\n",
       "        Promise.resolve(paths[lib]) :\n",
       "        new Promise(function(resolve, reject) {\n",
       "          var s = document.createElement('script');\n",
       "          document.getElementsByTagName(\"head\")[0].appendChild(s);\n",
       "          s.async = true;\n",
       "          s.onload = () => {\n",
       "            VEGA_DEBUG[key] = version;\n",
       "            return resolve(paths[lib]);\n",
       "          };\n",
       "          s.onerror = () => reject(`Error loading script: ${paths[lib]}`);\n",
       "          s.src = paths[lib];\n",
       "        });\n",
       "    }\n",
       "\n",
       "    function showError(err) {\n",
       "      outputDiv.innerHTML = `<div class=\"error\" style=\"color:red;\">${err}</div>`;\n",
       "      throw err;\n",
       "    }\n",
       "\n",
       "    function displayChart(vegaEmbed) {\n",
       "      vegaEmbed(outputDiv, spec, embedOpt)\n",
       "        .catch(err => showError(`Javascript Error: ${err.message}<br>This usually means there's a typo in your chart specification. See the javascript console for the full traceback.`));\n",
       "    }\n",
       "\n",
       "    if(typeof define === \"function\" && define.amd) {\n",
       "      requirejs.config({paths});\n",
       "      require([\"vega-embed\"], displayChart, err => showError(`Error loading script: ${err.message}`));\n",
       "    } else {\n",
       "      maybeLoadScript(\"vega\", \"5\")\n",
       "        .then(() => maybeLoadScript(\"vega-lite\", \"5.8.0\"))\n",
       "        .then(() => maybeLoadScript(\"vega-embed\", \"6\"))\n",
       "        .catch(showError)\n",
       "        .then(() => displayChart(vegaEmbed));\n",
       "    }\n",
       "  })({\"usermeta\": {\"embedOptions\": {\"theme\": \"fivethirtyeight\"}}, \"config\": {\"view\": {\"continuousWidth\": 300, \"continuousHeight\": 300}}, \"layer\": [{\"mark\": {\"type\": \"line\", \"strokeWidth\": 2}, \"encoding\": {\"color\": {\"field\": \"label\", \"legend\": {\"title\": \"Line Type\"}, \"type\": \"nominal\"}, \"tooltip\": [{\"field\": \"date\", \"type\": \"temporal\"}, {\"field\": \"y_test\", \"type\": \"quantitative\"}, {\"field\": \"y_pred\", \"type\": \"quantitative\"}], \"x\": {\"field\": \"date\", \"type\": \"temporal\"}, \"y\": {\"field\": \"y_test\", \"scale\": {\"zero\": false}, \"title\": \"Price\", \"type\": \"quantitative\"}}, \"name\": \"view_1\"}, {\"mark\": {\"type\": \"line\", \"strokeDash\": [3, 3], \"strokeWidth\": 1}, \"encoding\": {\"color\": {\"field\": \"predicted_label\", \"legend\": {\"title\": \"Line Type\"}, \"type\": \"nominal\"}, \"tooltip\": [{\"field\": \"date\", \"type\": \"temporal\"}, {\"field\": \"y_test\", \"type\": \"quantitative\"}, {\"field\": \"y_pred\", \"type\": \"quantitative\"}], \"x\": {\"field\": \"date\", \"type\": \"temporal\"}, \"y\": {\"field\": \"y_pred\", \"scale\": {\"zero\": false}, \"title\": \"\", \"type\": \"quantitative\"}}}], \"data\": {\"name\": \"data-d3a648addd9f39b8e5b508987bf6612f\"}, \"height\": 400, \"params\": [{\"name\": \"param_1\", \"select\": {\"type\": \"interval\", \"encodings\": [\"x\", \"y\"]}, \"bind\": \"scales\", \"views\": [\"view_1\"]}], \"title\": \"Actual vs Predicted High Prices\", \"width\": 650, \"$schema\": \"https://vega.github.io/schema/vega-lite/v5.8.0.json\", \"datasets\": {\"data-d3a648addd9f39b8e5b508987bf6612f\": [{\"date\": \"2020-08-25T00:00:00\", \"y_test\": 114.1999969482422, \"y_pred\": 118.47619701403299, \"label\": \"Actual\", \"predicted_label\": \"Predicted\"}, {\"date\": \"2020-08-26T00:00:00\", \"y_test\": 113.90000152587892, \"y_pred\": 116.42570887804264, \"label\": \"Actual\", \"predicted_label\": \"Predicted\"}, {\"date\": \"2020-08-27T00:00:00\", \"y_test\": 114.99999999999999, \"y_pred\": 117.28879907238762, \"label\": \"Actual\", \"predicted_label\": \"Predicted\"}, {\"date\": \"2020-08-28T00:00:00\", \"y_test\": 115.6750030517578, \"y_pred\": 117.56334800012411, \"label\": \"Actual\", \"predicted_label\": \"Predicted\"}, {\"date\": \"2020-08-31T00:00:00\", \"y_test\": 115.0, \"y_pred\": 116.63778246215485, \"label\": \"Actual\", \"predicted_label\": \"Predicted\"}, {\"date\": \"2020-09-01T00:00:00\", \"y_test\": 111.92500305175778, \"y_pred\": 114.05971480585433, \"label\": \"Actual\", \"predicted_label\": \"Predicted\"}, {\"date\": \"2020-09-02T00:00:00\", \"y_test\": 112.4499969482422, \"y_pred\": 114.78147677229732, \"label\": \"Actual\", \"predicted_label\": \"Predicted\"}, {\"date\": \"2020-09-03T00:00:00\", \"y_test\": 114.0, \"y_pred\": 113.85009576030131, \"label\": \"Actual\", \"predicted_label\": \"Predicted\"}, {\"date\": \"2020-09-04T00:00:00\", \"y_test\": 111.4749984741211, \"y_pred\": 116.12966112984883, \"label\": \"Actual\", \"predicted_label\": \"Predicted\"}, {\"date\": \"2020-09-07T00:00:00\", \"y_test\": 109.5500030517578, \"y_pred\": 113.3676378883153, \"label\": \"Actual\", \"predicted_label\": \"Predicted\"}, {\"date\": \"2020-09-08T00:00:00\", \"y_test\": 110.9000015258789, \"y_pred\": 112.16070295744976, \"label\": \"Actual\", \"predicted_label\": \"Predicted\"}, {\"date\": \"2020-09-09T00:00:00\", \"y_test\": 108.3249969482422, \"y_pred\": 111.72783382925522, \"label\": \"Actual\", \"predicted_label\": \"Predicted\"}, {\"date\": \"2020-09-10T00:00:00\", \"y_test\": 110.875, \"y_pred\": 110.4561538548566, \"label\": \"Actual\", \"predicted_label\": \"Predicted\"}, {\"date\": \"2020-09-11T00:00:00\", \"y_test\": 115.50000000000001, \"y_pred\": 112.6605904790042, \"label\": \"Actual\", \"predicted_label\": \"Predicted\"}, {\"date\": \"2020-09-14T00:00:00\", \"y_test\": 118.67500305175778, \"y_pred\": 114.7666730259296, \"label\": \"Actual\", \"predicted_label\": \"Predicted\"}, {\"date\": \"2020-09-15T00:00:00\", \"y_test\": 118.8000030517578, \"y_pred\": 119.60922770278383, \"label\": \"Actual\", \"predicted_label\": \"Predicted\"}, {\"date\": \"2020-09-16T00:00:00\", \"y_test\": 120.82499694824219, \"y_pred\": 119.74500732999138, \"label\": \"Actual\", \"predicted_label\": \"Predicted\"}, {\"date\": \"2020-09-17T00:00:00\", \"y_test\": 120.0, \"y_pred\": 121.5364566428075, \"label\": \"Actual\", \"predicted_label\": \"Predicted\"}, {\"date\": \"2020-09-18T00:00:00\", \"y_test\": 120.27500152587889, \"y_pred\": 121.8545911745983, \"label\": \"Actual\", \"predicted_label\": \"Predicted\"}, {\"date\": \"2020-09-21T00:00:00\", \"y_test\": 128.72500610351562, \"y_pred\": 121.65764157742949, \"label\": \"Actual\", \"predicted_label\": \"Predicted\"}, {\"date\": \"2020-09-22T00:00:00\", \"y_test\": 129.0749969482422, \"y_pred\": 128.7402388547481, \"label\": \"Actual\", \"predicted_label\": \"Predicted\"}, {\"date\": \"2020-09-23T00:00:00\", \"y_test\": 127.4749984741211, \"y_pred\": 125.79168410188, \"label\": \"Actual\", \"predicted_label\": \"Predicted\"}, {\"date\": \"2020-09-24T00:00:00\", \"y_test\": 134.0500030517578, \"y_pred\": 125.17688076255254, \"label\": \"Actual\", \"predicted_label\": \"Predicted\"}, {\"date\": \"2020-09-25T00:00:00\", \"y_test\": 128.9499969482422, \"y_pred\": 127.65408228752553, \"label\": \"Actual\", \"predicted_label\": \"Predicted\"}, {\"date\": \"2020-09-28T00:00:00\", \"y_test\": 125.3000030517578, \"y_pred\": 126.68281040223198, \"label\": \"Actual\", \"predicted_label\": \"Predicted\"}, {\"date\": \"2020-09-29T00:00:00\", \"y_test\": 127.0, \"y_pred\": 123.67465501995318, \"label\": \"Actual\", \"predicted_label\": \"Predicted\"}, {\"date\": \"2020-09-30T00:00:00\", \"y_test\": 121.9000015258789, \"y_pred\": 121.57197143936385, \"label\": \"Actual\", \"predicted_label\": \"Predicted\"}, {\"date\": \"2020-10-01T00:00:00\", \"y_test\": 121.9000015258789, \"y_pred\": 123.62619203018333, \"label\": \"Actual\", \"predicted_label\": \"Predicted\"}, {\"date\": \"2020-10-05T00:00:00\", \"y_test\": 122.99999999999999, \"y_pred\": 121.8070052599798, \"label\": \"Actual\", \"predicted_label\": \"Predicted\"}, {\"date\": \"2020-10-06T00:00:00\", \"y_test\": 123.84999847412111, \"y_pred\": 123.54569098901104, \"label\": \"Actual\", \"predicted_label\": \"Predicted\"}, {\"date\": \"2020-10-07T00:00:00\", \"y_test\": 121.4000015258789, \"y_pred\": 120.3381678258027, \"label\": \"Actual\", \"predicted_label\": \"Predicted\"}, {\"date\": \"2020-10-08T00:00:00\", \"y_test\": 120.5, \"y_pred\": 122.6159039921215, \"label\": \"Actual\", \"predicted_label\": \"Predicted\"}, {\"date\": \"2020-10-09T00:00:00\", \"y_test\": 117.9000015258789, \"y_pred\": 120.58255426148706, \"label\": \"Actual\", \"predicted_label\": \"Predicted\"}, {\"date\": \"2020-10-12T00:00:00\", \"y_test\": 116.0, \"y_pred\": 114.906455731687, \"label\": \"Actual\", \"predicted_label\": \"Predicted\"}, {\"date\": \"2020-10-13T00:00:00\", \"y_test\": 113.25, \"y_pred\": 110.5877970959096, \"label\": \"Actual\", \"predicted_label\": \"Predicted\"}, {\"date\": \"2020-10-14T00:00:00\", \"y_test\": 119.9000015258789, \"y_pred\": 114.45670163912379, \"label\": \"Actual\", \"predicted_label\": \"Predicted\"}, {\"date\": \"2020-10-15T00:00:00\", \"y_test\": 111.5, \"y_pred\": 114.65257179090844, \"label\": \"Actual\", \"predicted_label\": \"Predicted\"}, {\"date\": \"2020-10-16T00:00:00\", \"y_test\": 111.5, \"y_pred\": 110.17232941722156, \"label\": \"Actual\", \"predicted_label\": \"Predicted\"}, {\"date\": \"2020-10-19T00:00:00\", \"y_test\": 113.5, \"y_pred\": 112.85825032499848, \"label\": \"Actual\", \"predicted_label\": \"Predicted\"}, {\"date\": \"2020-10-20T00:00:00\", \"y_test\": 112.05000305175778, \"y_pred\": 114.0707866357196, \"label\": \"Actual\", \"predicted_label\": \"Predicted\"}, {\"date\": \"2020-10-21T00:00:00\", \"y_test\": 111.8499984741211, \"y_pred\": 111.91703409582259, \"label\": \"Actual\", \"predicted_label\": \"Predicted\"}, {\"date\": \"2020-10-22T00:00:00\", \"y_test\": 111.80000305175778, \"y_pred\": 113.85748960456061, \"label\": \"Actual\", \"predicted_label\": \"Predicted\"}, {\"date\": \"2020-10-23T00:00:00\", \"y_test\": 111.5500030517578, \"y_pred\": 112.28062212656249, \"label\": \"Actual\", \"predicted_label\": \"Predicted\"}, {\"date\": \"2020-10-26T00:00:00\", \"y_test\": 111.5500030517578, \"y_pred\": 112.63706152780136, \"label\": \"Actual\", \"predicted_label\": \"Predicted\"}, {\"date\": \"2020-10-27T00:00:00\", \"y_test\": 108.0, \"y_pred\": 110.91820249056626, \"label\": \"Actual\", \"predicted_label\": \"Predicted\"}, {\"date\": \"2020-10-28T00:00:00\", \"y_test\": 108.3000030517578, \"y_pred\": 107.80214148632979, \"label\": \"Actual\", \"predicted_label\": \"Predicted\"}, {\"date\": \"2020-10-29T00:00:00\", \"y_test\": 106.5999984741211, \"y_pred\": 107.45467103842749, \"label\": \"Actual\", \"predicted_label\": \"Predicted\"}, {\"date\": \"2020-10-30T00:00:00\", \"y_test\": 106.50000000000001, \"y_pred\": 106.44408651161416, \"label\": \"Actual\", \"predicted_label\": \"Predicted\"}, {\"date\": \"2020-11-02T00:00:00\", \"y_test\": 108.09999847412108, \"y_pred\": 106.1891136615809, \"label\": \"Actual\", \"predicted_label\": \"Predicted\"}, {\"date\": \"2020-11-03T00:00:00\", \"y_test\": 109.3000030517578, \"y_pred\": 108.2249095155731, \"label\": \"Actual\", \"predicted_label\": \"Predicted\"}, {\"date\": \"2020-11-04T00:00:00\", \"y_test\": 109.99999999999999, \"y_pred\": 110.24090049059191, \"label\": \"Actual\", \"predicted_label\": \"Predicted\"}, {\"date\": \"2020-11-05T00:00:00\", \"y_test\": 108.8499984741211, \"y_pred\": 109.30367059692414, \"label\": \"Actual\", \"predicted_label\": \"Predicted\"}, {\"date\": \"2020-11-06T00:00:00\", \"y_test\": 108.65000152587892, \"y_pred\": 110.01764946132421, \"label\": \"Actual\", \"predicted_label\": \"Predicted\"}, {\"date\": \"2020-11-09T00:00:00\", \"y_test\": 124.59999847412108, \"y_pred\": 109.82016368246575, \"label\": \"Actual\", \"predicted_label\": \"Predicted\"}, {\"date\": \"2020-11-10T00:00:00\", \"y_test\": 123.25, \"y_pred\": 123.44626199993485, \"label\": \"Actual\", \"predicted_label\": \"Predicted\"}, {\"date\": \"2020-11-11T00:00:00\", \"y_test\": 125.00000000000001, \"y_pred\": 125.77337462332552, \"label\": \"Actual\", \"predicted_label\": \"Predicted\"}, {\"date\": \"2020-11-12T00:00:00\", \"y_test\": 122.1999969482422, \"y_pred\": 125.12558852657484, \"label\": \"Actual\", \"predicted_label\": \"Predicted\"}, {\"date\": \"2020-11-13T00:00:00\", \"y_test\": 124.80000305175778, \"y_pred\": 120.67956532252772, \"label\": \"Actual\", \"predicted_label\": \"Predicted\"}, {\"date\": \"2020-11-14T00:00:00\", \"y_test\": 124.6999969482422, \"y_pred\": 120.62955633861196, \"label\": \"Actual\", \"predicted_label\": \"Predicted\"}, {\"date\": \"2020-11-17T00:00:00\", \"y_test\": 122.0, \"y_pred\": 123.38553011720619, \"label\": \"Actual\", \"predicted_label\": \"Predicted\"}, {\"date\": \"2020-11-18T00:00:00\", \"y_test\": 120.9000015258789, \"y_pred\": 120.27399707075293, \"label\": \"Actual\", \"predicted_label\": \"Predicted\"}, {\"date\": \"2020-11-19T00:00:00\", \"y_test\": 130.60000610351562, \"y_pred\": 123.04452095777177, \"label\": \"Actual\", \"predicted_label\": \"Predicted\"}, {\"date\": \"2020-11-20T00:00:00\", \"y_test\": 128.89999389648438, \"y_pred\": 130.27893768475224, \"label\": \"Actual\", \"predicted_label\": \"Predicted\"}, {\"date\": \"2020-11-23T00:00:00\", \"y_test\": 128.5, \"y_pred\": 130.3509766513493, \"label\": \"Actual\", \"predicted_label\": \"Predicted\"}, {\"date\": \"2020-11-24T00:00:00\", \"y_test\": 137.5, \"y_pred\": 130.1698703174848, \"label\": \"Actual\", \"predicted_label\": \"Predicted\"}, {\"date\": \"2020-11-25T00:00:00\", \"y_test\": 137.9499969482422, \"y_pred\": 137.20583332964696, \"label\": \"Actual\", \"predicted_label\": \"Predicted\"}, {\"date\": \"2020-11-26T00:00:00\", \"y_test\": 134.8000030517578, \"y_pred\": 134.62859257524244, \"label\": \"Actual\", \"predicted_label\": \"Predicted\"}, {\"date\": \"2020-11-27T00:00:00\", \"y_test\": 135.0, \"y_pred\": 135.3264932630435, \"label\": \"Actual\", \"predicted_label\": \"Predicted\"}, {\"date\": \"2020-12-01T00:00:00\", \"y_test\": 135.60000610351562, \"y_pred\": 137.36935709999352, \"label\": \"Actual\", \"predicted_label\": \"Predicted\"}, {\"date\": \"2020-12-02T00:00:00\", \"y_test\": 135.64999389648438, \"y_pred\": 138.93657038583797, \"label\": \"Actual\", \"predicted_label\": \"Predicted\"}, {\"date\": \"2020-12-03T00:00:00\", \"y_test\": 136.0, \"y_pred\": 138.15133876875245, \"label\": \"Actual\", \"predicted_label\": \"Predicted\"}, {\"date\": \"2020-12-04T00:00:00\", \"y_test\": 135.5, \"y_pred\": 136.36672891827817, \"label\": \"Actual\", \"predicted_label\": \"Predicted\"}, {\"date\": \"2020-12-07T00:00:00\", \"y_test\": 137.0, \"y_pred\": 137.45985473684894, \"label\": \"Actual\", \"predicted_label\": \"Predicted\"}, {\"date\": \"2020-12-08T00:00:00\", \"y_test\": 137.0, \"y_pred\": 139.23012377633475, \"label\": \"Actual\", \"predicted_label\": \"Predicted\"}, {\"date\": \"2020-12-09T00:00:00\", \"y_test\": 155.25, \"y_pred\": 138.88249467083034, \"label\": \"Actual\", \"predicted_label\": \"Predicted\"}, {\"date\": \"2020-12-10T00:00:00\", \"y_test\": 151.5500030517578, \"y_pred\": 152.68209693925056, \"label\": \"Actual\", \"predicted_label\": \"Predicted\"}, {\"date\": \"2020-12-11T00:00:00\", \"y_test\": 158.14999389648438, \"y_pred\": 150.48946820740625, \"label\": \"Actual\", \"predicted_label\": \"Predicted\"}, {\"date\": \"2020-12-14T00:00:00\", \"y_test\": 169.0, \"y_pred\": 160.24735078791906, \"label\": \"Actual\", \"predicted_label\": \"Predicted\"}, {\"date\": \"2020-12-15T00:00:00\", \"y_test\": 162.4499969482422, \"y_pred\": 169.07863690537388, \"label\": \"Actual\", \"predicted_label\": \"Predicted\"}, {\"date\": \"2020-12-16T00:00:00\", \"y_test\": 161.85000610351562, \"y_pred\": 163.93864840815593, \"label\": \"Actual\", \"predicted_label\": \"Predicted\"}, {\"date\": \"2020-12-17T00:00:00\", \"y_test\": 160.89999389648438, \"y_pred\": 164.19774511422168, \"label\": \"Actual\", \"predicted_label\": \"Predicted\"}, {\"date\": \"2020-12-18T00:00:00\", \"y_test\": 160.25, \"y_pred\": 163.76079872684002, \"label\": \"Actual\", \"predicted_label\": \"Predicted\"}, {\"date\": \"2020-12-21T00:00:00\", \"y_test\": 160.00000000000003, \"y_pred\": 159.5635431394838, \"label\": \"Actual\", \"predicted_label\": \"Predicted\"}, {\"date\": \"2020-12-22T00:00:00\", \"y_test\": 153.89999389648438, \"y_pred\": 158.2079750561207, \"label\": \"Actual\", \"predicted_label\": \"Predicted\"}, {\"date\": \"2020-12-23T00:00:00\", \"y_test\": 158.0, \"y_pred\": 157.84195310216256, \"label\": \"Actual\", \"predicted_label\": \"Predicted\"}, {\"date\": \"2020-12-24T00:00:00\", \"y_test\": 159.99999999999997, \"y_pred\": 161.08609690227524, \"label\": \"Actual\", \"predicted_label\": \"Predicted\"}, {\"date\": \"2020-12-28T00:00:00\", \"y_test\": 160.35000610351562, \"y_pred\": 161.96385853691473, \"label\": \"Actual\", \"predicted_label\": \"Predicted\"}, {\"date\": \"2020-12-29T00:00:00\", \"y_test\": 160.64999389648438, \"y_pred\": 162.7951558416672, \"label\": \"Actual\", \"predicted_label\": \"Predicted\"}, {\"date\": \"2020-12-30T00:00:00\", \"y_test\": 157.39999389648438, \"y_pred\": 159.13775151206863, \"label\": \"Actual\", \"predicted_label\": \"Predicted\"}, {\"date\": \"2020-12-31T00:00:00\", \"y_test\": 156.10000610351562, \"y_pred\": 158.6052942490913, \"label\": \"Actual\", \"predicted_label\": \"Predicted\"}, {\"date\": \"2021-01-01T00:00:00\", \"y_test\": 164.0, \"y_pred\": 157.24628116285368, \"label\": \"Actual\", \"predicted_label\": \"Predicted\"}, {\"date\": \"2021-01-04T00:00:00\", \"y_test\": 160.0, \"y_pred\": 163.36539331387183, \"label\": \"Actual\", \"predicted_label\": \"Predicted\"}, {\"date\": \"2021-01-05T00:00:00\", \"y_test\": 160.14999389648438, \"y_pred\": 163.0054083405148, \"label\": \"Actual\", \"predicted_label\": \"Predicted\"}, {\"date\": \"2021-01-06T00:00:00\", \"y_test\": 160.0500030517578, \"y_pred\": 161.64433981591858, \"label\": \"Actual\", \"predicted_label\": \"Predicted\"}, {\"date\": \"2021-01-07T00:00:00\", \"y_test\": 160.85000610351562, \"y_pred\": 160.90820727760504, \"label\": \"Actual\", \"predicted_label\": \"Predicted\"}, {\"date\": \"2021-01-08T00:00:00\", \"y_test\": 183.25000000000003, \"y_pred\": 163.41657224609668, \"label\": \"Actual\", \"predicted_label\": \"Predicted\"}, {\"date\": \"2021-01-11T00:00:00\", \"y_test\": 193.80000305175784, \"y_pred\": 185.08455958443142, \"label\": \"Actual\", \"predicted_label\": \"Predicted\"}, {\"date\": \"2021-01-12T00:00:00\", \"y_test\": 181.1000061035156, \"y_pred\": 184.29498828242188, \"label\": \"Actual\", \"predicted_label\": \"Predicted\"}, {\"date\": \"2021-01-13T00:00:00\", \"y_test\": 179.5, \"y_pred\": 179.9402713266755, \"label\": \"Actual\", \"predicted_label\": \"Predicted\"}, {\"date\": \"2021-01-14T00:00:00\", \"y_test\": 175.14999389648438, \"y_pred\": 179.6722421555101, \"label\": \"Actual\", \"predicted_label\": \"Predicted\"}, {\"date\": \"2021-01-15T00:00:00\", \"y_test\": 170.60000610351562, \"y_pred\": 173.19841145024864, \"label\": \"Actual\", \"predicted_label\": \"Predicted\"}, {\"date\": \"2021-01-18T00:00:00\", \"y_test\": 169.8500061035156, \"y_pred\": 168.7281196417742, \"label\": \"Actual\", \"predicted_label\": \"Predicted\"}, {\"date\": \"2021-01-19T00:00:00\", \"y_test\": 166.25, \"y_pred\": 166.48953990402748, \"label\": \"Actual\", \"predicted_label\": \"Predicted\"}, {\"date\": \"2021-01-20T00:00:00\", \"y_test\": 166.0, \"y_pred\": 168.6561727843761, \"label\": \"Actual\", \"predicted_label\": \"Predicted\"}, {\"date\": \"2021-01-21T00:00:00\", \"y_test\": 165.0, \"y_pred\": 165.01501364697407, \"label\": \"Actual\", \"predicted_label\": \"Predicted\"}, {\"date\": \"2021-01-22T00:00:00\", \"y_test\": 166.1999969482422, \"y_pred\": 165.64956325781404, \"label\": \"Actual\", \"predicted_label\": \"Predicted\"}, {\"date\": \"2021-01-25T00:00:00\", \"y_test\": 162.60000610351562, \"y_pred\": 162.65176051939002, \"label\": \"Actual\", \"predicted_label\": \"Predicted\"}, {\"date\": \"2021-01-27T00:00:00\", \"y_test\": 156.0, \"y_pred\": 159.0098338377561, \"label\": \"Actual\", \"predicted_label\": \"Predicted\"}, {\"date\": \"2021-01-28T00:00:00\", \"y_test\": 164.0, \"y_pred\": 155.52553045841418, \"label\": \"Actual\", \"predicted_label\": \"Predicted\"}, {\"date\": \"2021-01-29T00:00:00\", \"y_test\": 160.94999694824216, \"y_pred\": 159.38788345068477, \"label\": \"Actual\", \"predicted_label\": \"Predicted\"}, {\"date\": \"2021-02-01T00:00:00\", \"y_test\": 161.60000610351562, \"y_pred\": 160.84601549186806, \"label\": \"Actual\", \"predicted_label\": \"Predicted\"}, {\"date\": \"2021-02-02T00:00:00\", \"y_test\": 165.39999389648438, \"y_pred\": 165.20747628565817, \"label\": \"Actual\", \"predicted_label\": \"Predicted\"}, {\"date\": \"2021-02-03T00:00:00\", \"y_test\": 166.4499969482422, \"y_pred\": 167.1411069215395, \"label\": \"Actual\", \"predicted_label\": \"Predicted\"}, {\"date\": \"2021-02-04T00:00:00\", \"y_test\": 166.50000000000003, \"y_pred\": 167.57411798169653, \"label\": \"Actual\", \"predicted_label\": \"Predicted\"}, {\"date\": \"2021-02-05T00:00:00\", \"y_test\": 166.4499969482422, \"y_pred\": 169.2690157247006, \"label\": \"Actual\", \"predicted_label\": \"Predicted\"}, {\"date\": \"2021-02-08T00:00:00\", \"y_test\": 176.64999389648438, \"y_pred\": 167.95617666056833, \"label\": \"Actual\", \"predicted_label\": \"Predicted\"}, {\"date\": \"2021-02-09T00:00:00\", \"y_test\": 181.3999938964844, \"y_pred\": 173.0127101929528, \"label\": \"Actual\", \"predicted_label\": \"Predicted\"}, {\"date\": \"2021-02-10T00:00:00\", \"y_test\": 178.0, \"y_pred\": 178.81916625599325, \"label\": \"Actual\", \"predicted_label\": \"Predicted\"}, {\"date\": \"2021-02-11T00:00:00\", \"y_test\": 173.9499969482422, \"y_pred\": 172.91658756191336, \"label\": \"Actual\", \"predicted_label\": \"Predicted\"}, {\"date\": \"2021-02-12T00:00:00\", \"y_test\": 170.14999389648438, \"y_pred\": 169.4832960724242, \"label\": \"Actual\", \"predicted_label\": \"Predicted\"}, {\"date\": \"2021-02-15T00:00:00\", \"y_test\": 173.24999999999997, \"y_pred\": 171.62838549642754, \"label\": \"Actual\", \"predicted_label\": \"Predicted\"}, {\"date\": \"2021-02-16T00:00:00\", \"y_test\": 170.6999969482422, \"y_pred\": 168.51540426180782, \"label\": \"Actual\", \"predicted_label\": \"Predicted\"}, {\"date\": \"2021-02-17T00:00:00\", \"y_test\": 175.4499969482422, \"y_pred\": 170.1028737129903, \"label\": \"Actual\", \"predicted_label\": \"Predicted\"}, {\"date\": \"2021-02-18T00:00:00\", \"y_test\": 172.9499969482422, \"y_pred\": 174.5636406704771, \"label\": \"Actual\", \"predicted_label\": \"Predicted\"}, {\"date\": \"2021-02-19T00:00:00\", \"y_test\": 168.4499969482422, \"y_pred\": 171.43998458787362, \"label\": \"Actual\", \"predicted_label\": \"Predicted\"}, {\"date\": \"2021-02-22T00:00:00\", \"y_test\": 163.9499969482422, \"y_pred\": 166.68935409951862, \"label\": \"Actual\", \"predicted_label\": \"Predicted\"}, {\"date\": \"2021-02-23T00:00:00\", \"y_test\": 163.60000610351565, \"y_pred\": 163.47073078571498, \"label\": \"Actual\", \"predicted_label\": \"Predicted\"}, {\"date\": \"2021-02-24T00:00:00\", \"y_test\": 168.99999999999997, \"y_pred\": 164.93865555774605, \"label\": \"Actual\", \"predicted_label\": \"Predicted\"}, {\"date\": \"2021-02-25T00:00:00\", \"y_test\": 183.00000000000003, \"y_pred\": 169.9864704673319, \"label\": \"Actual\", \"predicted_label\": \"Predicted\"}, {\"date\": \"2021-02-26T00:00:00\", \"y_test\": 192.3000030517578, \"y_pred\": 184.70835033285613, \"label\": \"Actual\", \"predicted_label\": \"Predicted\"}, {\"date\": \"2021-03-01T00:00:00\", \"y_test\": 187.60000610351557, \"y_pred\": 185.84284337864753, \"label\": \"Actual\", \"predicted_label\": \"Predicted\"}, {\"date\": \"2021-03-02T00:00:00\", \"y_test\": 185.8500061035156, \"y_pred\": 189.32888000018053, \"label\": \"Actual\", \"predicted_label\": \"Predicted\"}, {\"date\": \"2021-03-03T00:00:00\", \"y_test\": 185.0, \"y_pred\": 183.77478647684086, \"label\": \"Actual\", \"predicted_label\": \"Predicted\"}, {\"date\": \"2021-03-04T00:00:00\", \"y_test\": 186.69999694824222, \"y_pred\": 182.6350424050708, \"label\": \"Actual\", \"predicted_label\": \"Predicted\"}, {\"date\": \"2021-03-05T00:00:00\", \"y_test\": 187.75, \"y_pred\": 184.2983413470216, \"label\": \"Actual\", \"predicted_label\": \"Predicted\"}, {\"date\": \"2021-03-08T00:00:00\", \"y_test\": 201.75000000000003, \"y_pred\": 189.42758157894633, \"label\": \"Actual\", \"predicted_label\": \"Predicted\"}, {\"date\": \"2021-03-08T00:00:00\", \"y_test\": 201.75, \"y_pred\": 205.05780367325326, \"label\": \"Actual\", \"predicted_label\": \"Predicted\"}, {\"date\": \"2021-03-08T00:00:00\", \"y_test\": 201.75, \"y_pred\": 203.2062486445689, \"label\": \"Actual\", \"predicted_label\": \"Predicted\"}, {\"date\": \"2021-03-08T00:00:00\", \"y_test\": 201.75, \"y_pred\": 203.6463933491241, \"label\": \"Actual\", \"predicted_label\": \"Predicted\"}, {\"date\": \"2021-03-08T00:00:00\", \"y_test\": 201.75, \"y_pred\": 203.22307692917323, \"label\": \"Actual\", \"predicted_label\": \"Predicted\"}, {\"date\": \"2021-03-08T00:00:00\", \"y_test\": 201.75, \"y_pred\": 202.40471611183645, \"label\": \"Actual\", \"predicted_label\": \"Predicted\"}, {\"date\": \"2021-03-08T00:00:00\", \"y_test\": 201.75, \"y_pred\": 203.224960739696, \"label\": \"Actual\", \"predicted_label\": \"Predicted\"}, {\"date\": \"2021-03-09T00:00:00\", \"y_test\": 211.5, \"y_pred\": 203.64979016883228, \"label\": \"Actual\", \"predicted_label\": \"Predicted\"}, {\"date\": \"2021-03-10T00:00:00\", \"y_test\": 206.05000305175778, \"y_pred\": 210.86319581447748, \"label\": \"Actual\", \"predicted_label\": \"Predicted\"}, {\"date\": \"2021-03-12T00:00:00\", \"y_test\": 208.44999694824216, \"y_pred\": 207.2005349117621, \"label\": \"Actual\", \"predicted_label\": \"Predicted\"}, {\"date\": \"2021-03-15T00:00:00\", \"y_test\": 209.00000000000003, \"y_pred\": 205.3863825129907, \"label\": \"Actual\", \"predicted_label\": \"Predicted\"}, {\"date\": \"2021-03-16T00:00:00\", \"y_test\": 198.55000305175778, \"y_pred\": 199.1548641749683, \"label\": \"Actual\", \"predicted_label\": \"Predicted\"}, {\"date\": \"2021-03-17T00:00:00\", \"y_test\": 203.75, \"y_pred\": 198.1579968012152, \"label\": \"Actual\", \"predicted_label\": \"Predicted\"}, {\"date\": \"2021-03-18T00:00:00\", \"y_test\": 218.6999969482422, \"y_pred\": 202.92596106785777, \"label\": \"Actual\", \"predicted_label\": \"Predicted\"}, {\"date\": \"2021-03-18T00:00:00\", \"y_test\": 218.6999969482422, \"y_pred\": 197.1696024996482, \"label\": \"Actual\", \"predicted_label\": \"Predicted\"}, {\"date\": \"2021-03-18T00:00:00\", \"y_test\": 218.6999969482422, \"y_pred\": 197.44369706773662, \"label\": \"Actual\", \"predicted_label\": \"Predicted\"}, {\"date\": \"2021-03-18T00:00:00\", \"y_test\": 218.6999969482422, \"y_pred\": 195.84006860978533, \"label\": \"Actual\", \"predicted_label\": \"Predicted\"}, {\"date\": \"2021-03-19T00:00:00\", \"y_test\": 191.99999999999997, \"y_pred\": 196.39823126660272, \"label\": \"Actual\", \"predicted_label\": \"Predicted\"}, {\"date\": \"2021-03-22T00:00:00\", \"y_test\": 195.0, \"y_pred\": 195.1850020134915, \"label\": \"Actual\", \"predicted_label\": \"Predicted\"}, {\"date\": \"2021-03-23T00:00:00\", \"y_test\": 192.99999999999997, \"y_pred\": 197.99283650868867, \"label\": \"Actual\", \"predicted_label\": \"Predicted\"}, {\"date\": \"2021-03-24T00:00:00\", \"y_test\": 190.0, \"y_pred\": 194.6083515748764, \"label\": \"Actual\", \"predicted_label\": \"Predicted\"}, {\"date\": \"2021-03-25T00:00:00\", \"y_test\": 185.6999969482422, \"y_pred\": 189.60010024195157, \"label\": \"Actual\", \"predicted_label\": \"Predicted\"}, {\"date\": \"2021-03-26T00:00:00\", \"y_test\": 182.6499938964844, \"y_pred\": 185.89790601622363, \"label\": \"Actual\", \"predicted_label\": \"Predicted\"}, {\"date\": \"2021-03-30T00:00:00\", \"y_test\": 185.9499969482422, \"y_pred\": 184.60853961287603, \"label\": \"Actual\", \"predicted_label\": \"Predicted\"}, {\"date\": \"2021-03-31T00:00:00\", \"y_test\": 191.19999694824216, \"y_pred\": 185.2334593132765, \"label\": \"Actual\", \"predicted_label\": \"Predicted\"}, {\"date\": \"2021-04-01T00:00:00\", \"y_test\": 198.89999389648443, \"y_pred\": 193.9026235633411, \"label\": \"Actual\", \"predicted_label\": \"Predicted\"}, {\"date\": \"2021-04-05T00:00:00\", \"y_test\": 203.8999938964844, \"y_pred\": 200.4059881606203, \"label\": \"Actual\", \"predicted_label\": \"Predicted\"}, {\"date\": \"2021-04-06T00:00:00\", \"y_test\": 201.0, \"y_pred\": 197.52350990347253, \"label\": \"Actual\", \"predicted_label\": \"Predicted\"}, {\"date\": \"2021-04-06T00:00:00\", \"y_test\": 200.99999999999997, \"y_pred\": 202.0759133613402, \"label\": \"Actual\", \"predicted_label\": \"Predicted\"}, {\"date\": \"2021-04-07T00:00:00\", \"y_test\": 202.0, \"y_pred\": 203.0357295378172, \"label\": \"Actual\", \"predicted_label\": \"Predicted\"}, {\"date\": \"2021-04-08T00:00:00\", \"y_test\": 205.6999969482422, \"y_pred\": 200.43394635363003, \"label\": \"Actual\", \"predicted_label\": \"Predicted\"}, {\"date\": \"2021-04-09T00:00:00\", \"y_test\": 209.99999999999997, \"y_pred\": 207.90910723938552, \"label\": \"Actual\", \"predicted_label\": \"Predicted\"}, {\"date\": \"2021-04-12T00:00:00\", \"y_test\": 196.9499969482422, \"y_pred\": 205.90301446483562, \"label\": \"Actual\", \"predicted_label\": \"Predicted\"}, {\"date\": \"2021-04-13T00:00:00\", \"y_test\": 197.0, \"y_pred\": 194.73066801313843, \"label\": \"Actual\", \"predicted_label\": \"Predicted\"}, {\"date\": \"2021-04-15T00:00:00\", \"y_test\": 206.5500030517578, \"y_pred\": 197.88770229657067, \"label\": \"Actual\", \"predicted_label\": \"Predicted\"}, {\"date\": \"2021-04-16T00:00:00\", \"y_test\": 202.1000061035156, \"y_pred\": 207.087038442008, \"label\": \"Actual\", \"predicted_label\": \"Predicted\"}, {\"date\": \"2021-04-19T00:00:00\", \"y_test\": 231.5, \"y_pred\": 199.36673556242707, \"label\": \"Actual\", \"predicted_label\": \"Predicted\"}, {\"date\": \"2021-04-19T00:00:00\", \"y_test\": 231.5, \"y_pred\": 232.26185493493827, \"label\": \"Actual\", \"predicted_label\": \"Predicted\"}, {\"date\": \"2021-04-20T00:00:00\", \"y_test\": 244.0, \"y_pred\": 229.86809278448, \"label\": \"Actual\", \"predicted_label\": \"Predicted\"}, {\"date\": \"2021-04-22T00:00:00\", \"y_test\": 237.0, \"y_pred\": 226.95159793106157, \"label\": \"Actual\", \"predicted_label\": \"Predicted\"}, {\"date\": \"2021-04-23T00:00:00\", \"y_test\": 233.6999969482422, \"y_pred\": 233.70585057335103, \"label\": \"Actual\", \"predicted_label\": \"Predicted\"}, {\"date\": \"2021-04-26T00:00:00\", \"y_test\": 232.0, \"y_pred\": 226.51048129403335, \"label\": \"Actual\", \"predicted_label\": \"Predicted\"}, {\"date\": \"2021-04-27T00:00:00\", \"y_test\": 224.64999389648438, \"y_pred\": 227.686192589913, \"label\": \"Actual\", \"predicted_label\": \"Predicted\"}, {\"date\": \"2021-04-28T00:00:00\", \"y_test\": 228.0, \"y_pred\": 221.25660356059407, \"label\": \"Actual\", \"predicted_label\": \"Predicted\"}, {\"date\": \"2021-04-29T00:00:00\", \"y_test\": 224.8999938964844, \"y_pred\": 225.29711509303624, \"label\": \"Actual\", \"predicted_label\": \"Predicted\"}, {\"date\": \"2021-04-30T00:00:00\", \"y_test\": 218.5500030517578, \"y_pred\": 222.7002897238316, \"label\": \"Actual\", \"predicted_label\": \"Predicted\"}, {\"date\": \"2021-05-03T00:00:00\", \"y_test\": 219.25000000000003, \"y_pred\": 216.6201683382828, \"label\": \"Actual\", \"predicted_label\": \"Predicted\"}, {\"date\": \"2021-05-04T00:00:00\", \"y_test\": 226.5, \"y_pred\": 219.18166297395058, \"label\": \"Actual\", \"predicted_label\": \"Predicted\"}, {\"date\": \"2021-05-05T00:00:00\", \"y_test\": 223.00000000000003, \"y_pred\": 222.04899220501716, \"label\": \"Actual\", \"predicted_label\": \"Predicted\"}, {\"date\": \"2021-05-06T00:00:00\", \"y_test\": 222.1999969482422, \"y_pred\": 220.6199226811709, \"label\": \"Actual\", \"predicted_label\": \"Predicted\"}, {\"date\": \"2021-05-07T00:00:00\", \"y_test\": 221.0, \"y_pred\": 220.94314282300783, \"label\": \"Actual\", \"predicted_label\": \"Predicted\"}, {\"date\": \"2021-05-10T00:00:00\", \"y_test\": 220.0, \"y_pred\": 221.1780546108919, \"label\": \"Actual\", \"predicted_label\": \"Predicted\"}, {\"date\": \"2021-05-11T00:00:00\", \"y_test\": 221.99999999999997, \"y_pred\": 219.08459146742504, \"label\": \"Actual\", \"predicted_label\": \"Predicted\"}, {\"date\": \"2021-05-12T00:00:00\", \"y_test\": 216.0500030517578, \"y_pred\": 218.29518620730158, \"label\": \"Actual\", \"predicted_label\": \"Predicted\"}, {\"date\": \"2021-05-14T00:00:00\", \"y_test\": 215.39999389648443, \"y_pred\": 217.23726091344264, \"label\": \"Actual\", \"predicted_label\": \"Predicted\"}, {\"date\": \"2021-05-17T00:00:00\", \"y_test\": 213.0, \"y_pred\": 209.6612293655858, \"label\": \"Actual\", \"predicted_label\": \"Predicted\"}, {\"date\": \"2021-05-18T00:00:00\", \"y_test\": 218.0, \"y_pred\": 215.67087853114685, \"label\": \"Actual\", \"predicted_label\": \"Predicted\"}, {\"date\": \"2021-05-19T00:00:00\", \"y_test\": 217.94999694824216, \"y_pred\": 218.16323510925895, \"label\": \"Actual\", \"predicted_label\": \"Predicted\"}, {\"date\": \"2021-05-20T00:00:00\", \"y_test\": 217.5, \"y_pred\": 218.74606944086432, \"label\": \"Actual\", \"predicted_label\": \"Predicted\"}, {\"date\": \"2021-05-21T00:00:00\", \"y_test\": 219.3500061035156, \"y_pred\": 218.55782195871396, \"label\": \"Actual\", \"predicted_label\": \"Predicted\"}, {\"date\": \"2021-05-24T00:00:00\", \"y_test\": 226.1499938964844, \"y_pred\": 218.04833558968116, \"label\": \"Actual\", \"predicted_label\": \"Predicted\"}, {\"date\": \"2021-05-25T00:00:00\", \"y_test\": 222.8000030517578, \"y_pred\": 220.33597208711032, \"label\": \"Actual\", \"predicted_label\": \"Predicted\"}, {\"date\": \"2021-05-26T00:00:00\", \"y_test\": 218.00000000000003, \"y_pred\": 219.71435921913937, \"label\": \"Actual\", \"predicted_label\": \"Predicted\"}, {\"date\": \"2021-05-27T00:00:00\", \"y_test\": 214.75, \"y_pred\": 218.5364964969045, \"label\": \"Actual\", \"predicted_label\": \"Predicted\"}, {\"date\": \"2021-05-28T00:00:00\", \"y_test\": 215.00000000000003, \"y_pred\": 213.14777154971605, \"label\": \"Actual\", \"predicted_label\": \"Predicted\"}, {\"date\": \"2021-05-31T00:00:00\", \"y_test\": 212.6000061035156, \"y_pred\": 212.683923987459, \"label\": \"Actual\", \"predicted_label\": \"Predicted\"}, {\"date\": \"2021-06-01T00:00:00\", \"y_test\": 210.3000030517578, \"y_pred\": 211.56567035158608, \"label\": \"Actual\", \"predicted_label\": \"Predicted\"}, {\"date\": \"2021-06-02T00:00:00\", \"y_test\": 207.89999389648438, \"y_pred\": 209.15138571777948, \"label\": \"Actual\", \"predicted_label\": \"Predicted\"}, {\"date\": \"2021-06-03T00:00:00\", \"y_test\": 213.5, \"y_pred\": 207.43195970873393, \"label\": \"Actual\", \"predicted_label\": \"Predicted\"}, {\"date\": \"2021-06-04T00:00:00\", \"y_test\": 215.25, \"y_pred\": 213.81867356433793, \"label\": \"Actual\", \"predicted_label\": \"Predicted\"}, {\"date\": \"2021-06-07T00:00:00\", \"y_test\": 217.00000000000003, \"y_pred\": 215.1501689856199, \"label\": \"Actual\", \"predicted_label\": \"Predicted\"}, {\"date\": \"2021-06-08T00:00:00\", \"y_test\": 216.3000030517578, \"y_pred\": 217.14630751053076, \"label\": \"Actual\", \"predicted_label\": \"Predicted\"}, {\"date\": \"2021-06-09T00:00:00\", \"y_test\": 220.0, \"y_pred\": 217.529308516915, \"label\": \"Actual\", \"predicted_label\": \"Predicted\"}, {\"date\": \"2021-06-10T00:00:00\", \"y_test\": 216.5500030517578, \"y_pred\": 217.5138955770207, \"label\": \"Actual\", \"predicted_label\": \"Predicted\"}, {\"date\": \"2021-06-11T00:00:00\", \"y_test\": 217.99999999999997, \"y_pred\": 217.5110765558809, \"label\": \"Actual\", \"predicted_label\": \"Predicted\"}, {\"date\": \"2021-06-14T00:00:00\", \"y_test\": 215.64999389648443, \"y_pred\": 217.0188804876408, \"label\": \"Actual\", \"predicted_label\": \"Predicted\"}, {\"date\": \"2021-06-15T00:00:00\", \"y_test\": 217.30000305175778, \"y_pred\": 214.34620045123341, \"label\": \"Actual\", \"predicted_label\": \"Predicted\"}, {\"date\": \"2021-06-16T00:00:00\", \"y_test\": 219.3000030517578, \"y_pred\": 216.91994296417226, \"label\": \"Actual\", \"predicted_label\": \"Predicted\"}, {\"date\": \"2021-06-17T00:00:00\", \"y_test\": 214.25, \"y_pred\": 213.42620028513446, \"label\": \"Actual\", \"predicted_label\": \"Predicted\"}, {\"date\": \"2021-06-18T00:00:00\", \"y_test\": 216.75, \"y_pred\": 213.74810554846212, \"label\": \"Actual\", \"predicted_label\": \"Predicted\"}, {\"date\": \"2021-06-21T00:00:00\", \"y_test\": 210.0, \"y_pred\": 213.27663067767568, \"label\": \"Actual\", \"predicted_label\": \"Predicted\"}, {\"date\": \"2021-06-22T00:00:00\", \"y_test\": 215.35000610351562, \"y_pred\": 212.48605641481407, \"label\": \"Actual\", \"predicted_label\": \"Predicted\"}, {\"date\": \"2021-06-23T00:00:00\", \"y_test\": 221.1499938964844, \"y_pred\": 216.2166199106993, \"label\": \"Actual\", \"predicted_label\": \"Predicted\"}, {\"date\": \"2021-06-24T00:00:00\", \"y_test\": 220.00000000000003, \"y_pred\": 217.86283336007014, \"label\": \"Actual\", \"predicted_label\": \"Predicted\"}, {\"date\": \"2021-06-25T00:00:00\", \"y_test\": 215.75000000000003, \"y_pred\": 215.15721681843223, \"label\": \"Actual\", \"predicted_label\": \"Predicted\"}, {\"date\": \"2021-06-28T00:00:00\", \"y_test\": 216.9499969482422, \"y_pred\": 215.20719227794785, \"label\": \"Actual\", \"predicted_label\": \"Predicted\"}, {\"date\": \"2021-06-29T00:00:00\", \"y_test\": 212.55000305175778, \"y_pred\": 213.7196539935064, \"label\": \"Actual\", \"predicted_label\": \"Predicted\"}, {\"date\": \"2021-06-30T00:00:00\", \"y_test\": 212.3500061035156, \"y_pred\": 213.18198097218715, \"label\": \"Actual\", \"predicted_label\": \"Predicted\"}, {\"date\": \"2021-07-01T00:00:00\", \"y_test\": 209.00000000000003, \"y_pred\": 210.226025638013, \"label\": \"Actual\", \"predicted_label\": \"Predicted\"}, {\"date\": \"2021-07-02T00:00:00\", \"y_test\": 214.0, \"y_pred\": 210.86083851324207, \"label\": \"Actual\", \"predicted_label\": \"Predicted\"}, {\"date\": \"2021-07-05T00:00:00\", \"y_test\": 217.0, \"y_pred\": 213.1109420885651, \"label\": \"Actual\", \"predicted_label\": \"Predicted\"}, {\"date\": \"2021-07-06T00:00:00\", \"y_test\": 220.99999999999997, \"y_pred\": 218.10286923673496, \"label\": \"Actual\", \"predicted_label\": \"Predicted\"}, {\"date\": \"2021-07-07T00:00:00\", \"y_test\": 217.6999969482422, \"y_pred\": 215.44332513246442, \"label\": \"Actual\", \"predicted_label\": \"Predicted\"}, {\"date\": \"2021-07-08T00:00:00\", \"y_test\": 219.8000030517578, \"y_pred\": 218.1676770479658, \"label\": \"Actual\", \"predicted_label\": \"Predicted\"}, {\"date\": \"2021-07-09T00:00:00\", \"y_test\": 218.1000061035156, \"y_pred\": 215.30219022110998, \"label\": \"Actual\", \"predicted_label\": \"Predicted\"}, {\"date\": \"2021-07-12T00:00:00\", \"y_test\": 225.0, \"y_pred\": 216.79396334924695, \"label\": \"Actual\", \"predicted_label\": \"Predicted\"}, {\"date\": \"2021-07-13T00:00:00\", \"y_test\": 224.5500030517578, \"y_pred\": 224.15684671253476, \"label\": \"Actual\", \"predicted_label\": \"Predicted\"}, {\"date\": \"2021-07-14T00:00:00\", \"y_test\": 222.3000030517578, \"y_pred\": 221.5255907182447, \"label\": \"Actual\", \"predicted_label\": \"Predicted\"}, {\"date\": \"2021-07-15T00:00:00\", \"y_test\": 219.8000030517578, \"y_pred\": 221.63773575262834, \"label\": \"Actual\", \"predicted_label\": \"Predicted\"}, {\"date\": \"2021-07-16T00:00:00\", \"y_test\": 214.5500030517578, \"y_pred\": 215.46568832911112, \"label\": \"Actual\", \"predicted_label\": \"Predicted\"}, {\"date\": \"2021-07-19T00:00:00\", \"y_test\": 213.5, \"y_pred\": 213.3911907875363, \"label\": \"Actual\", \"predicted_label\": \"Predicted\"}, {\"date\": \"2021-07-20T00:00:00\", \"y_test\": 210.0, \"y_pred\": 212.5229553764508, \"label\": \"Actual\", \"predicted_label\": \"Predicted\"}, {\"date\": \"2021-07-22T00:00:00\", \"y_test\": 210.55000305175778, \"y_pred\": 210.0438318791972, \"label\": \"Actual\", \"predicted_label\": \"Predicted\"}, {\"date\": \"2021-07-23T00:00:00\", \"y_test\": 209.5, \"y_pred\": 210.27953873330236, \"label\": \"Actual\", \"predicted_label\": \"Predicted\"}, {\"date\": \"2021-07-26T00:00:00\", \"y_test\": 213.9499969482422, \"y_pred\": 208.76681268136483, \"label\": \"Actual\", \"predicted_label\": \"Predicted\"}, {\"date\": \"2021-07-27T00:00:00\", \"y_test\": 215.89999389648438, \"y_pred\": 215.0341401893387, \"label\": \"Actual\", \"predicted_label\": \"Predicted\"}, {\"date\": \"2021-07-28T00:00:00\", \"y_test\": 220.50000000000003, \"y_pred\": 213.32009497415405, \"label\": \"Actual\", \"predicted_label\": \"Predicted\"}, {\"date\": \"2021-07-29T00:00:00\", \"y_test\": 220.6499938964844, \"y_pred\": 218.38376162163485, \"label\": \"Actual\", \"predicted_label\": \"Predicted\"}, {\"date\": \"2021-07-30T00:00:00\", \"y_test\": 228.1999969482422, \"y_pred\": 221.32047442918355, \"label\": \"Actual\", \"predicted_label\": \"Predicted\"}, {\"date\": \"2021-08-02T00:00:00\", \"y_test\": 226.3000030517578, \"y_pred\": 222.56458898256938, \"label\": \"Actual\", \"predicted_label\": \"Predicted\"}, {\"date\": \"2021-08-03T00:00:00\", \"y_test\": 228.35000610351557, \"y_pred\": 229.17784169263703, \"label\": \"Actual\", \"predicted_label\": \"Predicted\"}, {\"date\": \"2021-08-04T00:00:00\", \"y_test\": 214.4499969482422, \"y_pred\": 216.76603083185972, \"label\": \"Actual\", \"predicted_label\": \"Predicted\"}, {\"date\": \"2021-08-05T00:00:00\", \"y_test\": 216.5, \"y_pred\": 206.27543370647, \"label\": \"Actual\", \"predicted_label\": \"Predicted\"}, {\"date\": \"2021-08-06T00:00:00\", \"y_test\": 214.0, \"y_pred\": 213.08154432269092, \"label\": \"Actual\", \"predicted_label\": \"Predicted\"}, {\"date\": \"2021-08-09T00:00:00\", \"y_test\": 210.0, \"y_pred\": 209.73643458001644, \"label\": \"Actual\", \"predicted_label\": \"Predicted\"}, {\"date\": \"2021-08-10T00:00:00\", \"y_test\": 207.1999969482422, \"y_pred\": 209.25946803972496, \"label\": \"Actual\", \"predicted_label\": \"Predicted\"}, {\"date\": \"2021-08-11T00:00:00\", \"y_test\": 209.0, \"y_pred\": 203.97430328925753, \"label\": \"Actual\", \"predicted_label\": \"Predicted\"}, {\"date\": \"2021-08-12T00:00:00\", \"y_test\": 212.39999389648443, \"y_pred\": 208.27395998233249, \"label\": \"Actual\", \"predicted_label\": \"Predicted\"}, {\"date\": \"2021-08-13T00:00:00\", \"y_test\": 211.1499938964844, \"y_pred\": 212.8577746589697, \"label\": \"Actual\", \"predicted_label\": \"Predicted\"}, {\"date\": \"2021-08-16T00:00:00\", \"y_test\": 206.4499969482422, \"y_pred\": 209.64305659663808, \"label\": \"Actual\", \"predicted_label\": \"Predicted\"}, {\"date\": \"2021-08-17T00:00:00\", \"y_test\": 207.75, \"y_pred\": 205.33360103563032, \"label\": \"Actual\", \"predicted_label\": \"Predicted\"}, {\"date\": \"2021-08-18T00:00:00\", \"y_test\": 206.00000000000003, \"y_pred\": 208.32445648660465, \"label\": \"Actual\", \"predicted_label\": \"Predicted\"}, {\"date\": \"2021-08-20T00:00:00\", \"y_test\": 204.8500061035156, \"y_pred\": 208.09787543180204, \"label\": \"Actual\", \"predicted_label\": \"Predicted\"}, {\"date\": \"2021-08-23T00:00:00\", \"y_test\": 204.4499969482422, \"y_pred\": 205.10135732286503, \"label\": \"Actual\", \"predicted_label\": \"Predicted\"}, {\"date\": \"2021-08-24T00:00:00\", \"y_test\": 199.44999694824216, \"y_pred\": 200.21539230801764, \"label\": \"Actual\", \"predicted_label\": \"Predicted\"}, {\"date\": \"2021-08-25T00:00:00\", \"y_test\": 200.00000000000003, \"y_pred\": 200.72412861774475, \"label\": \"Actual\", \"predicted_label\": \"Predicted\"}, {\"date\": \"2021-08-26T00:00:00\", \"y_test\": 199.8999938964844, \"y_pred\": 199.95189701283417, \"label\": \"Actual\", \"predicted_label\": \"Predicted\"}, {\"date\": \"2021-08-27T00:00:00\", \"y_test\": 195.80000305175784, \"y_pred\": 196.73103898162367, \"label\": \"Actual\", \"predicted_label\": \"Predicted\"}, {\"date\": \"2021-08-30T00:00:00\", \"y_test\": 196.99999999999997, \"y_pred\": 197.30605064026832, \"label\": \"Actual\", \"predicted_label\": \"Predicted\"}, {\"date\": \"2021-08-31T00:00:00\", \"y_test\": 202.3500061035156, \"y_pred\": 198.77433766205897, \"label\": \"Actual\", \"predicted_label\": \"Predicted\"}, {\"date\": \"2021-09-01T00:00:00\", \"y_test\": 200.1999969482422, \"y_pred\": 200.5607357218819, \"label\": \"Actual\", \"predicted_label\": \"Predicted\"}, {\"date\": \"2021-09-02T00:00:00\", \"y_test\": 202.60000610351562, \"y_pred\": 202.66614637174692, \"label\": \"Actual\", \"predicted_label\": \"Predicted\"}, {\"date\": \"2021-09-03T00:00:00\", \"y_test\": 201.5, \"y_pred\": 200.8564128767521, \"label\": \"Actual\", \"predicted_label\": \"Predicted\"}, {\"date\": \"2021-09-06T00:00:00\", \"y_test\": 200.9499969482422, \"y_pred\": 202.46722088720858, \"label\": \"Actual\", \"predicted_label\": \"Predicted\"}, {\"date\": \"2021-09-07T00:00:00\", \"y_test\": 201.89999389648443, \"y_pred\": 200.8721711667548, \"label\": \"Actual\", \"predicted_label\": \"Predicted\"}, {\"date\": \"2021-09-08T00:00:00\", \"y_test\": 209.8999938964844, \"y_pred\": 200.80069983798612, \"label\": \"Actual\", \"predicted_label\": \"Predicted\"}, {\"date\": \"2021-09-09T00:00:00\", \"y_test\": 205.0, \"y_pred\": 206.2646312876488, \"label\": \"Actual\", \"predicted_label\": \"Predicted\"}, {\"date\": \"2021-09-13T00:00:00\", \"y_test\": 202.25, \"y_pred\": 204.6165830618427, \"label\": \"Actual\", \"predicted_label\": \"Predicted\"}, {\"date\": \"2021-09-14T00:00:00\", \"y_test\": 201.9499969482422, \"y_pred\": 201.98345284007854, \"label\": \"Actual\", \"predicted_label\": \"Predicted\"}, {\"date\": \"2021-09-15T00:00:00\", \"y_test\": 216.0, \"y_pred\": 201.74953011806645, \"label\": \"Actual\", \"predicted_label\": \"Predicted\"}, {\"date\": \"2021-09-16T00:00:00\", \"y_test\": 217.55000305175784, \"y_pred\": 219.07012615586498, \"label\": \"Actual\", \"predicted_label\": \"Predicted\"}, {\"date\": \"2021-09-17T00:00:00\", \"y_test\": 214.49999999999997, \"y_pred\": 216.27487349961746, \"label\": \"Actual\", \"predicted_label\": \"Predicted\"}, {\"date\": \"2021-09-20T00:00:00\", \"y_test\": 210.6000061035156, \"y_pred\": 216.4888376052464, \"label\": \"Actual\", \"predicted_label\": \"Predicted\"}, {\"date\": \"2021-09-21T00:00:00\", \"y_test\": 208.8999938964844, \"y_pred\": 205.86647140459294, \"label\": \"Actual\", \"predicted_label\": \"Predicted\"}, {\"date\": \"2021-09-22T00:00:00\", \"y_test\": 211.75, \"y_pred\": 206.93862140463548, \"label\": \"Actual\", \"predicted_label\": \"Predicted\"}, {\"date\": \"2021-09-23T00:00:00\", \"y_test\": 219.9499969482422, \"y_pred\": 211.3757427835447, \"label\": \"Actual\", \"predicted_label\": \"Predicted\"}, {\"date\": \"2021-09-24T00:00:00\", \"y_test\": 218.1499938964844, \"y_pred\": 217.61655593439488, \"label\": \"Actual\", \"predicted_label\": \"Predicted\"}, {\"date\": \"2021-09-27T00:00:00\", \"y_test\": 211.0, \"y_pred\": 209.6600741657668, \"label\": \"Actual\", \"predicted_label\": \"Predicted\"}, {\"date\": \"2021-09-28T00:00:00\", \"y_test\": 208.25000000000003, \"y_pred\": 211.08509791936717, \"label\": \"Actual\", \"predicted_label\": \"Predicted\"}, {\"date\": \"2021-09-29T00:00:00\", \"y_test\": 207.5500030517578, \"y_pred\": 205.18559626706863, \"label\": \"Actual\", \"predicted_label\": \"Predicted\"}, {\"date\": \"2021-09-30T00:00:00\", \"y_test\": 206.3500061035156, \"y_pred\": 206.24601362644717, \"label\": \"Actual\", \"predicted_label\": \"Predicted\"}, {\"date\": \"2021-10-01T00:00:00\", \"y_test\": 204.8500061035156, \"y_pred\": 208.4155889160174, \"label\": \"Actual\", \"predicted_label\": \"Predicted\"}, {\"date\": \"2021-10-04T00:00:00\", \"y_test\": 206.25, \"y_pred\": 205.5292781466107, \"label\": \"Actual\", \"predicted_label\": \"Predicted\"}, {\"date\": \"2021-10-05T00:00:00\", \"y_test\": 208.3500061035156, \"y_pred\": 208.7751994401723, \"label\": \"Actual\", \"predicted_label\": \"Predicted\"}, {\"date\": \"2021-10-06T00:00:00\", \"y_test\": 207.0, \"y_pred\": 207.9379421063637, \"label\": \"Actual\", \"predicted_label\": \"Predicted\"}, {\"date\": \"2021-10-07T00:00:00\", \"y_test\": 205.0, \"y_pred\": 206.32225991397476, \"label\": \"Actual\", \"predicted_label\": \"Predicted\"}, {\"date\": \"2021-10-08T00:00:00\", \"y_test\": 203.39999389648438, \"y_pred\": 205.10162755526054, \"label\": \"Actual\", \"predicted_label\": \"Predicted\"}, {\"date\": \"2021-10-11T00:00:00\", \"y_test\": 205.94999694824222, \"y_pred\": 205.5291323700883, \"label\": \"Actual\", \"predicted_label\": \"Predicted\"}, {\"date\": \"2021-10-12T00:00:00\", \"y_test\": 204.1000061035156, \"y_pred\": 206.2187940222644, \"label\": \"Actual\", \"predicted_label\": \"Predicted\"}, {\"date\": \"2021-10-13T00:00:00\", \"y_test\": 205.80000305175784, \"y_pred\": 204.85166309999607, \"label\": \"Actual\", \"predicted_label\": \"Predicted\"}, {\"date\": \"2021-10-14T00:00:00\", \"y_test\": 207.35000610351557, \"y_pred\": 207.12462193769593, \"label\": \"Actual\", \"predicted_label\": \"Predicted\"}, {\"date\": \"2021-10-18T00:00:00\", \"y_test\": 207.19999694824222, \"y_pred\": 207.99415428322476, \"label\": \"Actual\", \"predicted_label\": \"Predicted\"}, {\"date\": \"2021-10-19T00:00:00\", \"y_test\": 204.1000061035156, \"y_pred\": 205.89055255598566, \"label\": \"Actual\", \"predicted_label\": \"Predicted\"}, {\"date\": \"2021-10-20T00:00:00\", \"y_test\": 202.8999938964844, \"y_pred\": 206.34693573308505, \"label\": \"Actual\", \"predicted_label\": \"Predicted\"}, {\"date\": \"2021-10-21T00:00:00\", \"y_test\": 202.24999999999997, \"y_pred\": 204.1736772859553, \"label\": \"Actual\", \"predicted_label\": \"Predicted\"}, {\"date\": \"2021-10-22T00:00:00\", \"y_test\": 203.9499969482422, \"y_pred\": 203.45295450428833, \"label\": \"Actual\", \"predicted_label\": \"Predicted\"}, {\"date\": \"2021-10-25T00:00:00\", \"y_test\": 204.8500061035156, \"y_pred\": 202.9527399102957, \"label\": \"Actual\", \"predicted_label\": \"Predicted\"}, {\"date\": \"2021-10-26T00:00:00\", \"y_test\": 199.1499938964844, \"y_pred\": 199.91779112414187, \"label\": \"Actual\", \"predicted_label\": \"Predicted\"}, {\"date\": \"2021-10-27T00:00:00\", \"y_test\": 201.6999969482422, \"y_pred\": 198.53753890018055, \"label\": \"Actual\", \"predicted_label\": \"Predicted\"}, {\"date\": \"2021-10-28T00:00:00\", \"y_test\": 200.8500061035156, \"y_pred\": 203.41502142937523, \"label\": \"Actual\", \"predicted_label\": \"Predicted\"}, {\"date\": \"2021-10-29T00:00:00\", \"y_test\": 200.55000305175784, \"y_pred\": 202.25711381673005, \"label\": \"Actual\", \"predicted_label\": \"Predicted\"}, {\"date\": \"2021-11-01T00:00:00\", \"y_test\": 201.50000000000003, \"y_pred\": 201.3822519986881, \"label\": \"Actual\", \"predicted_label\": \"Predicted\"}, {\"date\": \"2021-11-02T00:00:00\", \"y_test\": 201.64999389648443, \"y_pred\": 202.58408155252624, \"label\": \"Actual\", \"predicted_label\": \"Predicted\"}, {\"date\": \"2021-11-03T00:00:00\", \"y_test\": 203.25000000000003, \"y_pred\": 203.55638297715356, \"label\": \"Actual\", \"predicted_label\": \"Predicted\"}, {\"date\": \"2021-11-04T00:00:00\", \"y_test\": 204.94999694824216, \"y_pred\": 202.53406183097977, \"label\": \"Actual\", \"predicted_label\": \"Predicted\"}, {\"date\": \"2021-11-08T00:00:00\", \"y_test\": 205.6000061035156, \"y_pred\": 202.892908301457, \"label\": \"Actual\", \"predicted_label\": \"Predicted\"}, {\"date\": \"2021-11-08T00:00:00\", \"y_test\": 205.60000610351562, \"y_pred\": 206.79442118115978, \"label\": \"Actual\", \"predicted_label\": \"Predicted\"}, {\"date\": \"2021-11-08T00:00:00\", \"y_test\": 205.60000610351562, \"y_pred\": 206.79748149732995, \"label\": \"Actual\", \"predicted_label\": \"Predicted\"}, {\"date\": \"2021-11-09T00:00:00\", \"y_test\": 228.0, \"y_pred\": 206.78703376576377, \"label\": \"Actual\", \"predicted_label\": \"Predicted\"}, {\"date\": \"2021-11-09T00:00:00\", \"y_test\": 228.00000000000003, \"y_pred\": 224.6133965234989, \"label\": \"Actual\", \"predicted_label\": \"Predicted\"}, {\"date\": \"2021-11-09T00:00:00\", \"y_test\": 228.00000000000003, \"y_pred\": 223.46881779297047, \"label\": \"Actual\", \"predicted_label\": \"Predicted\"}, {\"date\": \"2021-11-10T00:00:00\", \"y_test\": 223.00000000000003, \"y_pred\": 224.07879213799413, \"label\": \"Actual\", \"predicted_label\": \"Predicted\"}, {\"date\": \"2021-11-11T00:00:00\", \"y_test\": 222.3500061035156, \"y_pred\": 223.91853239719757, \"label\": \"Actual\", \"predicted_label\": \"Predicted\"}, {\"date\": \"2021-11-12T00:00:00\", \"y_test\": 216.0500030517578, \"y_pred\": 217.75462401578594, \"label\": \"Actual\", \"predicted_label\": \"Predicted\"}, {\"date\": \"2021-11-15T00:00:00\", \"y_test\": 226.0, \"y_pred\": 217.88580962370514, \"label\": \"Actual\", \"predicted_label\": \"Predicted\"}, {\"date\": \"2021-11-16T00:00:00\", \"y_test\": 224.50000000000003, \"y_pred\": 223.0907290990883, \"label\": \"Actual\", \"predicted_label\": \"Predicted\"}, {\"date\": \"2021-11-17T00:00:00\", \"y_test\": 215.3500061035156, \"y_pred\": 218.1072142363653, \"label\": \"Actual\", \"predicted_label\": \"Predicted\"}, {\"date\": \"2021-11-18T00:00:00\", \"y_test\": 215.1499938964844, \"y_pred\": 214.61373133930698, \"label\": \"Actual\", \"predicted_label\": \"Predicted\"}, {\"date\": \"2021-11-22T00:00:00\", \"y_test\": 217.9499969482422, \"y_pred\": 216.2127779889455, \"label\": \"Actual\", \"predicted_label\": \"Predicted\"}, {\"date\": \"2021-11-23T00:00:00\", \"y_test\": 233.6999969482422, \"y_pred\": 215.67791582589282, \"label\": \"Actual\", \"predicted_label\": \"Predicted\"}, {\"date\": \"2021-11-24T00:00:00\", \"y_test\": 273.70001220703125, \"y_pred\": 235.1795666485332, \"label\": \"Actual\", \"predicted_label\": \"Predicted\"}, {\"date\": \"2021-11-24T00:00:00\", \"y_test\": 273.70001220703125, \"y_pred\": 279.30902094270743, \"label\": \"Actual\", \"predicted_label\": \"Predicted\"}, {\"date\": \"2021-11-24T00:00:00\", \"y_test\": 273.70001220703125, \"y_pred\": 273.9333008204525, \"label\": \"Actual\", \"predicted_label\": \"Predicted\"}, {\"date\": \"2021-11-24T00:00:00\", \"y_test\": 273.70001220703125, \"y_pred\": 276.5867545705586, \"label\": \"Actual\", \"predicted_label\": \"Predicted\"}, {\"date\": \"2021-11-24T00:00:00\", \"y_test\": 273.70001220703125, \"y_pred\": 273.34349692614956, \"label\": \"Actual\", \"predicted_label\": \"Predicted\"}, {\"date\": \"2021-11-24T00:00:00\", \"y_test\": 273.70001220703125, \"y_pred\": 272.9433185451282, \"label\": \"Actual\", \"predicted_label\": \"Predicted\"}, {\"date\": \"2021-11-24T00:00:00\", \"y_test\": 273.70001220703125, \"y_pred\": 273.8969158898573, \"label\": \"Actual\", \"predicted_label\": \"Predicted\"}, {\"date\": \"2021-11-24T00:00:00\", \"y_test\": 273.70001220703125, \"y_pred\": 274.5228527247629, \"label\": \"Actual\", \"predicted_label\": \"Predicted\"}, {\"date\": \"2021-11-24T00:00:00\", \"y_test\": 273.70001220703125, \"y_pred\": 274.3733427201049, \"label\": \"Actual\", \"predicted_label\": \"Predicted\"}, {\"date\": \"2021-11-24T00:00:00\", \"y_test\": 273.70001220703125, \"y_pred\": 274.13160983807177, \"label\": \"Actual\", \"predicted_label\": \"Predicted\"}, {\"date\": \"2021-11-25T00:00:00\", \"y_test\": 280.1000061035156, \"y_pred\": 273.06227041512943, \"label\": \"Actual\", \"predicted_label\": \"Predicted\"}, {\"date\": \"2021-11-26T00:00:00\", \"y_test\": 266.6000061035156, \"y_pred\": 273.7049801690127, \"label\": \"Actual\", \"predicted_label\": \"Predicted\"}, {\"date\": \"2021-11-29T00:00:00\", \"y_test\": 279.5, \"y_pred\": 264.8389777757376, \"label\": \"Actual\", \"predicted_label\": \"Predicted\"}, {\"date\": \"2021-11-30T00:00:00\", \"y_test\": 292.45001220703125, \"y_pred\": 277.4102788543546, \"label\": \"Actual\", \"predicted_label\": \"Predicted\"}, {\"date\": \"2021-12-01T00:00:00\", \"y_test\": 282.20001220703125, \"y_pred\": 282.357632663311, \"label\": \"Actual\", \"predicted_label\": \"Predicted\"}, {\"date\": \"2021-12-02T00:00:00\", \"y_test\": 282.5, \"y_pred\": 286.8257915746422, \"label\": \"Actual\", \"predicted_label\": \"Predicted\"}, {\"date\": \"2021-12-03T00:00:00\", \"y_test\": 299.7000122070313, \"y_pred\": 281.6009688935941, \"label\": \"Actual\", \"predicted_label\": \"Predicted\"}, {\"date\": \"2021-12-06T00:00:00\", \"y_test\": 321.0, \"y_pred\": 304.8001592430169, \"label\": \"Actual\", \"predicted_label\": \"Predicted\"}, {\"date\": \"2021-12-07T00:00:00\", \"y_test\": 315.0, \"y_pred\": 312.3948555523716, \"label\": \"Actual\", \"predicted_label\": \"Predicted\"}, {\"date\": \"2021-12-08T00:00:00\", \"y_test\": 311.0, \"y_pred\": 317.7302177712893, \"label\": \"Actual\", \"predicted_label\": \"Predicted\"}, {\"date\": \"2021-12-09T00:00:00\", \"y_test\": 311.1000061035156, \"y_pred\": 313.6792126749516, \"label\": \"Actual\", \"predicted_label\": \"Predicted\"}, {\"date\": \"2021-12-10T00:00:00\", \"y_test\": 315.3500061035156, \"y_pred\": 316.1211548625733, \"label\": \"Actual\", \"predicted_label\": \"Predicted\"}, {\"date\": \"2021-12-13T00:00:00\", \"y_test\": 315.3500061035157, \"y_pred\": 316.2736769139844, \"label\": \"Actual\", \"predicted_label\": \"Predicted\"}, {\"date\": \"2021-12-14T00:00:00\", \"y_test\": 315.0, \"y_pred\": 315.3776238838387, \"label\": \"Actual\", \"predicted_label\": \"Predicted\"}, {\"date\": \"2021-12-15T00:00:00\", \"y_test\": 326.1000061035156, \"y_pred\": 318.06253679301494, \"label\": \"Actual\", \"predicted_label\": \"Predicted\"}, {\"date\": \"2021-12-16T00:00:00\", \"y_test\": 346.99999999999994, \"y_pred\": 330.90288555874173, \"label\": \"Actual\", \"predicted_label\": \"Predicted\"}, {\"date\": \"2021-12-17T00:00:00\", \"y_test\": 309.6000061035156, \"y_pred\": 309.691879110043, \"label\": \"Actual\", \"predicted_label\": \"Predicted\"}, {\"date\": \"2021-12-20T00:00:00\", \"y_test\": 283.29998779296875, \"y_pred\": 299.5046454960972, \"label\": \"Actual\", \"predicted_label\": \"Predicted\"}, {\"date\": \"2021-12-21T00:00:00\", \"y_test\": 289.0, \"y_pred\": 281.02206916007515, \"label\": \"Actual\", \"predicted_label\": \"Predicted\"}, {\"date\": \"2021-12-22T00:00:00\", \"y_test\": 287.5, \"y_pred\": 289.1277070426825, \"label\": \"Actual\", \"predicted_label\": \"Predicted\"}, {\"date\": \"2021-12-23T00:00:00\", \"y_test\": 307.95001220703125, \"y_pred\": 292.0587012484352, \"label\": \"Actual\", \"predicted_label\": \"Predicted\"}, {\"date\": \"2021-12-24T00:00:00\", \"y_test\": 301.20001220703125, \"y_pred\": 302.9507362689016, \"label\": \"Actual\", \"predicted_label\": \"Predicted\"}, {\"date\": \"2021-12-27T00:00:00\", \"y_test\": 289.25, \"y_pred\": 295.5938470360512, \"label\": \"Actual\", \"predicted_label\": \"Predicted\"}, {\"date\": \"2021-12-28T00:00:00\", \"y_test\": 287.8500061035156, \"y_pred\": 291.03431248781453, \"label\": \"Actual\", \"predicted_label\": \"Predicted\"}, {\"date\": \"2021-12-29T00:00:00\", \"y_test\": 303.29998779296875, \"y_pred\": 290.67717661140205, \"label\": \"Actual\", \"predicted_label\": \"Predicted\"}, {\"date\": \"2021-12-30T00:00:00\", \"y_test\": 304.0, \"y_pred\": 304.08346073828426, \"label\": \"Actual\", \"predicted_label\": \"Predicted\"}, {\"date\": \"2021-12-31T00:00:00\", \"y_test\": 302.6000061035157, \"y_pred\": 301.58741688302916, \"label\": \"Actual\", \"predicted_label\": \"Predicted\"}, {\"date\": \"2022-01-03T00:00:00\", \"y_test\": 314.3500061035156, \"y_pred\": 304.62735513676233, \"label\": \"Actual\", \"predicted_label\": \"Predicted\"}, {\"date\": \"2022-01-04T00:00:00\", \"y_test\": 314.95001220703125, \"y_pred\": 311.39957232948774, \"label\": \"Actual\", \"predicted_label\": \"Predicted\"}, {\"date\": \"2022-01-05T00:00:00\", \"y_test\": 319.70001220703125, \"y_pred\": 314.77013797498074, \"label\": \"Actual\", \"predicted_label\": \"Predicted\"}, {\"date\": \"2022-01-06T00:00:00\", \"y_test\": 340.29998779296875, \"y_pred\": 323.9770819436206, \"label\": \"Actual\", \"predicted_label\": \"Predicted\"}, {\"date\": \"2022-01-07T00:00:00\", \"y_test\": 340.1499938964844, \"y_pred\": 347.01354188455423, \"label\": \"Actual\", \"predicted_label\": \"Predicted\"}, {\"date\": \"2022-01-10T00:00:00\", \"y_test\": 372.3500061035156, \"y_pred\": 334.1453434085252, \"label\": \"Actual\", \"predicted_label\": \"Predicted\"}, {\"date\": \"2022-01-11T00:00:00\", \"y_test\": 363.6499938964844, \"y_pred\": 376.1615732620303, \"label\": \"Actual\", \"predicted_label\": \"Predicted\"}, {\"date\": \"2022-01-12T00:00:00\", \"y_test\": 362.3500061035156, \"y_pred\": 364.42707522571277, \"label\": \"Actual\", \"predicted_label\": \"Predicted\"}, {\"date\": \"2022-01-13T00:00:00\", \"y_test\": 362.7999877929688, \"y_pred\": 366.9713678802343, \"label\": \"Actual\", \"predicted_label\": \"Predicted\"}, {\"date\": \"2022-01-14T00:00:00\", \"y_test\": 361.0, \"y_pred\": 366.77936060714836, \"label\": \"Actual\", \"predicted_label\": \"Predicted\"}, {\"date\": \"2022-01-17T00:00:00\", \"y_test\": 361.00000000000006, \"y_pred\": 366.6726559009647, \"label\": \"Actual\", \"predicted_label\": \"Predicted\"}, {\"date\": \"2022-01-18T00:00:00\", \"y_test\": 360.5, \"y_pred\": 364.616820674194, \"label\": \"Actual\", \"predicted_label\": \"Predicted\"}, {\"date\": \"2022-01-19T00:00:00\", \"y_test\": 382.4500122070313, \"y_pred\": 358.47454887925375, \"label\": \"Actual\", \"predicted_label\": \"Predicted\"}, {\"date\": \"2022-01-19T00:00:00\", \"y_test\": 382.45001220703136, \"y_pred\": 381.6264697335817, \"label\": \"Actual\", \"predicted_label\": \"Predicted\"}, {\"date\": \"2022-01-19T00:00:00\", \"y_test\": 382.45001220703136, \"y_pred\": 384.8277834446498, \"label\": \"Actual\", \"predicted_label\": \"Predicted\"}, {\"date\": \"2022-01-19T00:00:00\", \"y_test\": 382.45001220703136, \"y_pred\": 382.5557251219778, \"label\": \"Actual\", \"predicted_label\": \"Predicted\"}, {\"date\": \"2022-01-19T00:00:00\", \"y_test\": 382.45001220703136, \"y_pred\": 384.4801785572787, \"label\": \"Actual\", \"predicted_label\": \"Predicted\"}, {\"date\": \"2022-01-19T00:00:00\", \"y_test\": 382.45001220703136, \"y_pred\": 383.93608983467027, \"label\": \"Actual\", \"predicted_label\": \"Predicted\"}, {\"date\": \"2022-01-20T00:00:00\", \"y_test\": 379.8999938964844, \"y_pred\": 383.3313778911767, \"label\": \"Actual\", \"predicted_label\": \"Predicted\"}, {\"date\": \"2022-01-21T00:00:00\", \"y_test\": 374.00000000000006, \"y_pred\": 379.9382991838183, \"label\": \"Actual\", \"predicted_label\": \"Predicted\"}, {\"date\": \"2022-01-24T00:00:00\", \"y_test\": 372.9500122070313, \"y_pred\": 375.79990961111224, \"label\": \"Actual\", \"predicted_label\": \"Predicted\"}, {\"date\": \"2022-01-25T00:00:00\", \"y_test\": 328.54998779296875, \"y_pred\": 340.9588359875733, \"label\": \"Actual\", \"predicted_label\": \"Predicted\"}, {\"date\": \"2022-01-27T00:00:00\", \"y_test\": 336.04998779296875, \"y_pred\": 326.60157860937835, \"label\": \"Actual\", \"predicted_label\": \"Predicted\"}, {\"date\": \"2022-01-28T00:00:00\", \"y_test\": 331.79998779296875, \"y_pred\": 326.11211115651594, \"label\": \"Actual\", \"predicted_label\": \"Predicted\"}, {\"date\": \"2022-01-31T00:00:00\", \"y_test\": 338.8999938964844, \"y_pred\": 320.55672105520557, \"label\": \"Actual\", \"predicted_label\": \"Predicted\"}, {\"date\": \"2022-02-01T00:00:00\", \"y_test\": 341.99999999999994, \"y_pred\": 337.72045223424783, \"label\": \"Actual\", \"predicted_label\": \"Predicted\"}, {\"date\": \"2022-02-02T00:00:00\", \"y_test\": 388.8999938964843, \"y_pred\": 348.0628822766372, \"label\": \"Actual\", \"predicted_label\": \"Predicted\"}, {\"date\": \"2022-02-03T00:00:00\", \"y_test\": 419.35000610351557, \"y_pred\": 389.72276892303034, \"label\": \"Actual\", \"predicted_label\": \"Predicted\"}, {\"date\": \"2022-02-03T00:00:00\", \"y_test\": 419.3500061035156, \"y_pred\": 417.77840691988564, \"label\": \"Actual\", \"predicted_label\": \"Predicted\"}, {\"date\": \"2022-02-04T00:00:00\", \"y_test\": 417.70001220703125, \"y_pred\": 417.7799007374717, \"label\": \"Actual\", \"predicted_label\": \"Predicted\"}, {\"date\": \"2022-02-07T00:00:00\", \"y_test\": 421.20001220703125, \"y_pred\": 427.1121087539904, \"label\": \"Actual\", \"predicted_label\": \"Predicted\"}, {\"date\": \"2022-02-08T00:00:00\", \"y_test\": 422.70001220703125, \"y_pred\": 427.86758389618717, \"label\": \"Actual\", \"predicted_label\": \"Predicted\"}, {\"date\": \"2022-02-09T00:00:00\", \"y_test\": 415.89999389648443, \"y_pred\": 413.20548549223133, \"label\": \"Actual\", \"predicted_label\": \"Predicted\"}, {\"date\": \"2022-02-10T00:00:00\", \"y_test\": 400.0, \"y_pred\": 409.5430511630674, \"label\": \"Actual\", \"predicted_label\": \"Predicted\"}, {\"date\": \"2022-02-11T00:00:00\", \"y_test\": 405.0, \"y_pred\": 398.315739597256, \"label\": \"Actual\", \"predicted_label\": \"Predicted\"}, {\"date\": \"2022-02-15T00:00:00\", \"y_test\": 398.79998779296886, \"y_pred\": 401.97678035444955, \"label\": \"Actual\", \"predicted_label\": \"Predicted\"}, {\"date\": \"2022-02-16T00:00:00\", \"y_test\": 384.2999877929688, \"y_pred\": 378.2079836334956, \"label\": \"Actual\", \"predicted_label\": \"Predicted\"}, {\"date\": \"2022-02-17T00:00:00\", \"y_test\": 378.9500122070313, \"y_pred\": 379.72957027314357, \"label\": \"Actual\", \"predicted_label\": \"Predicted\"}, {\"date\": \"2022-02-18T00:00:00\", \"y_test\": 403.7999877929688, \"y_pred\": 379.8210095866353, \"label\": \"Actual\", \"predicted_label\": \"Predicted\"}, {\"date\": \"2022-02-21T00:00:00\", \"y_test\": 399.0, \"y_pred\": 401.6618154497435, \"label\": \"Actual\", \"predicted_label\": \"Predicted\"}, {\"date\": \"2022-02-22T00:00:00\", \"y_test\": 336.54998779296875, \"y_pred\": 352.2834640335231, \"label\": \"Actual\", \"predicted_label\": \"Predicted\"}, {\"date\": \"2022-02-23T00:00:00\", \"y_test\": 364.5499877929688, \"y_pred\": 333.60891310512994, \"label\": \"Actual\", \"predicted_label\": \"Predicted\"}, {\"date\": \"2022-02-24T00:00:00\", \"y_test\": 368.7000122070313, \"y_pred\": 358.94035347922426, \"label\": \"Actual\", \"predicted_label\": \"Predicted\"}, {\"date\": \"2022-02-25T00:00:00\", \"y_test\": 354.0, \"y_pred\": 338.58003599071503, \"label\": \"Actual\", \"predicted_label\": \"Predicted\"}, {\"date\": \"2022-02-28T00:00:00\", \"y_test\": 336.6499938964844, \"y_pred\": 337.9621020152636, \"label\": \"Actual\", \"predicted_label\": \"Predicted\"}, {\"date\": \"2022-03-02T00:00:00\", \"y_test\": 355.8999938964844, \"y_pred\": 339.13299366111363, \"label\": \"Actual\", \"predicted_label\": \"Predicted\"}, {\"date\": \"2022-03-03T00:00:00\", \"y_test\": 363.9500122070313, \"y_pred\": 360.2560036421959, \"label\": \"Actual\", \"predicted_label\": \"Predicted\"}, {\"date\": \"2022-03-04T00:00:00\", \"y_test\": 354.0, \"y_pred\": 354.0725095350142, \"label\": \"Actual\", \"predicted_label\": \"Predicted\"}, {\"date\": \"2022-03-07T00:00:00\", \"y_test\": 343.04998779296875, \"y_pred\": 359.65670771261523, \"label\": \"Actual\", \"predicted_label\": \"Predicted\"}, {\"date\": \"2022-03-08T00:00:00\", \"y_test\": 333.1000061035156, \"y_pred\": 335.9696818083551, \"label\": \"Actual\", \"predicted_label\": \"Predicted\"}, {\"date\": \"2022-03-09T00:00:00\", \"y_test\": 328.0, \"y_pred\": 326.46091456398995, \"label\": \"Actual\", \"predicted_label\": \"Predicted\"}, {\"date\": \"2022-03-10T00:00:00\", \"y_test\": 332.2999877929688, \"y_pred\": 331.2295674979484, \"label\": \"Actual\", \"predicted_label\": \"Predicted\"}, {\"date\": \"2022-03-11T00:00:00\", \"y_test\": 312.3999938964844, \"y_pred\": 322.09312339786857, \"label\": \"Actual\", \"predicted_label\": \"Predicted\"}, {\"date\": \"2022-03-14T00:00:00\", \"y_test\": 312.79998779296875, \"y_pred\": 313.107496945633, \"label\": \"Actual\", \"predicted_label\": \"Predicted\"}, {\"date\": \"2022-03-15T00:00:00\", \"y_test\": 316.3999938964844, \"y_pred\": 307.70180181872547, \"label\": \"Actual\", \"predicted_label\": \"Predicted\"}, {\"date\": \"2022-03-16T00:00:00\", \"y_test\": 310.54998779296875, \"y_pred\": 313.80859737329, \"label\": \"Actual\", \"predicted_label\": \"Predicted\"}, {\"date\": \"2022-03-17T00:00:00\", \"y_test\": 305.8999938964844, \"y_pred\": 310.3574230522456, \"label\": \"Actual\", \"predicted_label\": \"Predicted\"}, {\"date\": \"2022-03-21T00:00:00\", \"y_test\": 305.2000122070313, \"y_pred\": 307.3284146034997, \"label\": \"Actual\", \"predicted_label\": \"Predicted\"}, {\"date\": \"2022-03-22T00:00:00\", \"y_test\": 295.3500061035157, \"y_pred\": 299.76765476385725, \"label\": \"Actual\", \"predicted_label\": \"Predicted\"}, {\"date\": \"2022-03-23T00:00:00\", \"y_test\": 300.5, \"y_pred\": 296.0979368883305, \"label\": \"Actual\", \"predicted_label\": \"Predicted\"}, {\"date\": \"2022-03-24T00:00:00\", \"y_test\": 289.5, \"y_pred\": 297.7536741005188, \"label\": \"Actual\", \"predicted_label\": \"Predicted\"}, {\"date\": \"2022-03-25T00:00:00\", \"y_test\": 287.29998779296875, \"y_pred\": 292.0600275962043, \"label\": \"Actual\", \"predicted_label\": \"Predicted\"}, {\"date\": \"2022-03-28T00:00:00\", \"y_test\": 278.6499938964843, \"y_pred\": 283.4175445123259, \"label\": \"Actual\", \"predicted_label\": \"Predicted\"}, {\"date\": \"2022-03-29T00:00:00\", \"y_test\": 287.0, \"y_pred\": 279.9942533477666, \"label\": \"Actual\", \"predicted_label\": \"Predicted\"}, {\"date\": \"2022-03-30T00:00:00\", \"y_test\": 290.79998779296875, \"y_pred\": 292.1010583203911, \"label\": \"Actual\", \"predicted_label\": \"Predicted\"}, {\"date\": \"2022-03-31T00:00:00\", \"y_test\": 285.1499938964843, \"y_pred\": 285.41914516289114, \"label\": \"Actual\", \"predicted_label\": \"Predicted\"}, {\"date\": \"2022-04-01T00:00:00\", \"y_test\": 297.54998779296875, \"y_pred\": 285.1033427037398, \"label\": \"Actual\", \"predicted_label\": \"Predicted\"}, {\"date\": \"2022-04-04T00:00:00\", \"y_test\": 314.0, \"y_pred\": 301.3203827793254, \"label\": \"Actual\", \"predicted_label\": \"Predicted\"}, {\"date\": \"2022-04-05T00:00:00\", \"y_test\": 326.75, \"y_pred\": 316.4739721659876, \"label\": \"Actual\", \"predicted_label\": \"Predicted\"}, {\"date\": \"2022-04-06T00:00:00\", \"y_test\": 322.3999938964844, \"y_pred\": 329.20114125586065, \"label\": \"Actual\", \"predicted_label\": \"Predicted\"}, {\"date\": \"2022-04-07T00:00:00\", \"y_test\": 316.0, \"y_pred\": 316.6294349850606, \"label\": \"Actual\", \"predicted_label\": \"Predicted\"}, {\"date\": \"2022-04-08T00:00:00\", \"y_test\": 309.79998779296875, \"y_pred\": 311.4439618900769, \"label\": \"Actual\", \"predicted_label\": \"Predicted\"}, {\"date\": \"2022-04-11T00:00:00\", \"y_test\": 311.75, \"y_pred\": 310.26547346751227, \"label\": \"Actual\", \"predicted_label\": \"Predicted\"}, {\"date\": \"2022-04-12T00:00:00\", \"y_test\": 314.95001220703125, \"y_pred\": 313.1826095198092, \"label\": \"Actual\", \"predicted_label\": \"Predicted\"}, {\"date\": \"2022-04-13T00:00:00\", \"y_test\": 319.3999938964844, \"y_pred\": 316.9979757400384, \"label\": \"Actual\", \"predicted_label\": \"Predicted\"}, {\"date\": \"2022-04-18T00:00:00\", \"y_test\": 324.45001220703125, \"y_pred\": 319.08347912895863, \"label\": \"Actual\", \"predicted_label\": \"Predicted\"}, {\"date\": \"2022-04-19T00:00:00\", \"y_test\": 324.1000061035156, \"y_pred\": 327.10324867509763, \"label\": \"Actual\", \"predicted_label\": \"Predicted\"}, {\"date\": \"2022-04-20T00:00:00\", \"y_test\": 319.6499938964844, \"y_pred\": 312.1257545263782, \"label\": \"Actual\", \"predicted_label\": \"Predicted\"}, {\"date\": \"2022-04-21T00:00:00\", \"y_test\": 314.3500061035157, \"y_pred\": 314.78317186280606, \"label\": \"Actual\", \"predicted_label\": \"Predicted\"}, {\"date\": \"2022-04-22T00:00:00\", \"y_test\": 343.64999389648443, \"y_pred\": 316.7027434287924, \"label\": \"Actual\", \"predicted_label\": \"Predicted\"}, {\"date\": \"2022-04-25T00:00:00\", \"y_test\": 355.04998779296875, \"y_pred\": 344.6111808498906, \"label\": \"Actual\", \"predicted_label\": \"Predicted\"}, {\"date\": \"2022-04-26T00:00:00\", \"y_test\": 349.8999938964844, \"y_pred\": 354.14259066247166, \"label\": \"Actual\", \"predicted_label\": \"Predicted\"}, {\"date\": \"2022-04-26T00:00:00\", \"y_test\": 349.8999938964844, \"y_pred\": 346.78742411452043, \"label\": \"Actual\", \"predicted_label\": \"Predicted\"}, {\"date\": \"2022-04-26T00:00:00\", \"y_test\": 349.8999938964844, \"y_pred\": 346.99345109352697, \"label\": \"Actual\", \"predicted_label\": \"Predicted\"}, {\"date\": \"2022-04-26T00:00:00\", \"y_test\": 349.8999938964844, \"y_pred\": 345.3985107974699, \"label\": \"Actual\", \"predicted_label\": \"Predicted\"}, {\"date\": \"2022-04-26T00:00:00\", \"y_test\": 349.8999938964844, \"y_pred\": 345.8941923658423, \"label\": \"Actual\", \"predicted_label\": \"Predicted\"}, {\"date\": \"2022-04-27T00:00:00\", \"y_test\": 351.99999999999994, \"y_pred\": 346.10098466106086, \"label\": \"Actual\", \"predicted_label\": \"Predicted\"}, {\"date\": \"2022-04-28T00:00:00\", \"y_test\": 359.3500061035156, \"y_pred\": 353.6450294231669, \"label\": \"Actual\", \"predicted_label\": \"Predicted\"}, {\"date\": \"2022-04-29T00:00:00\", \"y_test\": 355.89999389648443, \"y_pred\": 362.89711394307625, \"label\": \"Actual\", \"predicted_label\": \"Predicted\"}, {\"date\": \"2022-05-04T00:00:00\", \"y_test\": 359.70001220703125, \"y_pred\": 353.9102122247175, \"label\": \"Actual\", \"predicted_label\": \"Predicted\"}, {\"date\": \"2022-05-05T00:00:00\", \"y_test\": 356.8999938964844, \"y_pred\": 347.6623421513332, \"label\": \"Actual\", \"predicted_label\": \"Predicted\"}, {\"date\": \"2022-05-06T00:00:00\", \"y_test\": 332.0, \"y_pred\": 344.31990956470054, \"label\": \"Actual\", \"predicted_label\": \"Predicted\"}, {\"date\": \"2022-05-09T00:00:00\", \"y_test\": 319.8999938964844, \"y_pred\": 323.02380424749947, \"label\": \"Actual\", \"predicted_label\": \"Predicted\"}, {\"date\": \"2022-05-10T00:00:00\", \"y_test\": 316.1499938964844, \"y_pred\": 312.50174947462995, \"label\": \"Actual\", \"predicted_label\": \"Predicted\"}, {\"date\": \"2022-05-11T00:00:00\", \"y_test\": 308.0, \"y_pred\": 308.60337272207516, \"label\": \"Actual\", \"predicted_label\": \"Predicted\"}, {\"date\": \"2022-05-12T00:00:00\", \"y_test\": 270.1499938964844, \"y_pred\": 285.17990603630636, \"label\": \"Actual\", \"predicted_label\": \"Predicted\"}, {\"date\": \"2022-05-13T00:00:00\", \"y_test\": 267.8999938964844, \"y_pred\": 268.92338203330667, \"label\": \"Actual\", \"predicted_label\": \"Predicted\"}, {\"date\": \"2022-05-16T00:00:00\", \"y_test\": 308.3999938964844, \"y_pred\": 265.2590417846057, \"label\": \"Actual\", \"predicted_label\": \"Predicted\"}, {\"date\": \"2022-05-16T00:00:00\", \"y_test\": 308.3999938964844, \"y_pred\": 308.36702132095576, \"label\": \"Actual\", \"predicted_label\": \"Predicted\"}, {\"date\": \"2022-05-16T00:00:00\", \"y_test\": 308.3999938964844, \"y_pred\": 310.99144857568103, \"label\": \"Actual\", \"predicted_label\": \"Predicted\"}, {\"date\": \"2022-05-17T00:00:00\", \"y_test\": 328.8500061035156, \"y_pred\": 308.2766994924873, \"label\": \"Actual\", \"predicted_label\": \"Predicted\"}, {\"date\": \"2022-05-17T00:00:00\", \"y_test\": 328.8500061035157, \"y_pred\": 334.4227079248336, \"label\": \"Actual\", \"predicted_label\": \"Predicted\"}, {\"date\": \"2022-05-17T00:00:00\", \"y_test\": 328.8500061035157, \"y_pred\": 335.62961486473625, \"label\": \"Actual\", \"predicted_label\": \"Predicted\"}, {\"date\": \"2022-05-17T00:00:00\", \"y_test\": 328.8500061035157, \"y_pred\": 333.03051648645777, \"label\": \"Actual\", \"predicted_label\": \"Predicted\"}, {\"date\": \"2022-05-17T00:00:00\", \"y_test\": 328.8500061035157, \"y_pred\": 334.52178083984023, \"label\": \"Actual\", \"predicted_label\": \"Predicted\"}, {\"date\": \"2022-05-17T00:00:00\", \"y_test\": 328.8500061035157, \"y_pred\": 333.91803400283135, \"label\": \"Actual\", \"predicted_label\": \"Predicted\"}, {\"date\": \"2022-05-17T00:00:00\", \"y_test\": 328.8500061035157, \"y_pred\": 333.26382099136214, \"label\": \"Actual\", \"predicted_label\": \"Predicted\"}, {\"date\": \"2022-05-18T00:00:00\", \"y_test\": 336.75, \"y_pred\": 335.3771824971167, \"label\": \"Actual\", \"predicted_label\": \"Predicted\"}, {\"date\": \"2022-05-19T00:00:00\", \"y_test\": 335.25, \"y_pred\": 338.28401848566097, \"label\": \"Actual\", \"predicted_label\": \"Predicted\"}, {\"date\": \"2022-05-20T00:00:00\", \"y_test\": 343.29998779296875, \"y_pred\": 342.31725534450794, \"label\": \"Actual\", \"predicted_label\": \"Predicted\"}, {\"date\": \"2022-05-23T00:00:00\", \"y_test\": 342.70001220703125, \"y_pred\": 345.13378225902255, \"label\": \"Actual\", \"predicted_label\": \"Predicted\"}, {\"date\": \"2022-05-24T00:00:00\", \"y_test\": 333.14999389648443, \"y_pred\": 337.3751318815551, \"label\": \"Actual\", \"predicted_label\": \"Predicted\"}, {\"date\": \"2022-05-25T00:00:00\", \"y_test\": 333.29998779296875, \"y_pred\": 336.3513521569347, \"label\": \"Actual\", \"predicted_label\": \"Predicted\"}, {\"date\": \"2022-05-26T00:00:00\", \"y_test\": 348.3999938964844, \"y_pred\": 327.95488673951087, \"label\": \"Actual\", \"predicted_label\": \"Predicted\"}, {\"date\": \"2022-05-27T00:00:00\", \"y_test\": 342.54998779296875, \"y_pred\": 349.8084194840771, \"label\": \"Actual\", \"predicted_label\": \"Predicted\"}, {\"date\": \"2022-05-30T00:00:00\", \"y_test\": 348.0, \"y_pred\": 343.05541128274797, \"label\": \"Actual\", \"predicted_label\": \"Predicted\"}, {\"date\": \"2022-05-31T00:00:00\", \"y_test\": 347.00000000000006, \"y_pred\": 342.25721512355125, \"label\": \"Actual\", \"predicted_label\": \"Predicted\"}, {\"date\": \"2022-06-01T00:00:00\", \"y_test\": 379.85000610351557, \"y_pred\": 351.3665845998752, \"label\": \"Actual\", \"predicted_label\": \"Predicted\"}, {\"date\": \"2022-06-02T00:00:00\", \"y_test\": 386.25000000000006, \"y_pred\": 389.9814170936237, \"label\": \"Actual\", \"predicted_label\": \"Predicted\"}, {\"date\": \"2022-06-03T00:00:00\", \"y_test\": 379.49999999999994, \"y_pred\": 386.29359099896345, \"label\": \"Actual\", \"predicted_label\": \"Predicted\"}, {\"date\": \"2022-06-06T00:00:00\", \"y_test\": 384.70001220703125, \"y_pred\": 380.7676512214371, \"label\": \"Actual\", \"predicted_label\": \"Predicted\"}, {\"date\": \"2022-06-07T00:00:00\", \"y_test\": 381.99999999999994, \"y_pred\": 384.81634254382993, \"label\": \"Actual\", \"predicted_label\": \"Predicted\"}, {\"date\": \"2022-06-08T00:00:00\", \"y_test\": 412.9500122070313, \"y_pred\": 391.26511044251083, \"label\": \"Actual\", \"predicted_label\": \"Predicted\"}, {\"date\": \"2022-06-09T00:00:00\", \"y_test\": 416.0, \"y_pred\": 410.4739206199262, \"label\": \"Actual\", \"predicted_label\": \"Predicted\"}, {\"date\": \"2022-06-10T00:00:00\", \"y_test\": 419.99999999999994, \"y_pred\": 421.3410228618925, \"label\": \"Actual\", \"predicted_label\": \"Predicted\"}, {\"date\": \"2022-06-13T00:00:00\", \"y_test\": 404.99999999999994, \"y_pred\": 414.1718379989309, \"label\": \"Actual\", \"predicted_label\": \"Predicted\"}, {\"date\": \"2022-06-14T00:00:00\", \"y_test\": 417.00000000000006, \"y_pred\": 416.10203952499046, \"label\": \"Actual\", \"predicted_label\": \"Predicted\"}, {\"date\": \"2022-06-15T00:00:00\", \"y_test\": 414.75000000000006, \"y_pred\": 415.7090143175682, \"label\": \"Actual\", \"predicted_label\": \"Predicted\"}, {\"date\": \"2022-06-16T00:00:00\", \"y_test\": 410.5499877929688, \"y_pred\": 404.55629526719923, \"label\": \"Actual\", \"predicted_label\": \"Predicted\"}, {\"date\": \"2022-06-17T00:00:00\", \"y_test\": 396.95001220703125, \"y_pred\": 388.2405785217291, \"label\": \"Actual\", \"predicted_label\": \"Predicted\"}, {\"date\": \"2022-06-20T00:00:00\", \"y_test\": 395.1000061035156, \"y_pred\": 400.4773543025753, \"label\": \"Actual\", \"predicted_label\": \"Predicted\"}, {\"date\": \"2022-06-21T00:00:00\", \"y_test\": 393.99999999999994, \"y_pred\": 371.1261906983871, \"label\": \"Actual\", \"predicted_label\": \"Predicted\"}, {\"date\": \"2022-06-22T00:00:00\", \"y_test\": 389.6499938964844, \"y_pred\": 399.19732874624975, \"label\": \"Actual\", \"predicted_label\": \"Predicted\"}, {\"date\": \"2022-06-23T00:00:00\", \"y_test\": 388.45001220703125, \"y_pred\": 386.10713010158344, \"label\": \"Actual\", \"predicted_label\": \"Predicted\"}, {\"date\": \"2022-06-24T00:00:00\", \"y_test\": 402.2000122070313, \"y_pred\": 393.70184964887454, \"label\": \"Actual\", \"predicted_label\": \"Predicted\"}, {\"date\": \"2022-06-27T00:00:00\", \"y_test\": 399.2000122070313, \"y_pred\": 398.5550152255541, \"label\": \"Actual\", \"predicted_label\": \"Predicted\"}, {\"date\": \"2022-06-28T00:00:00\", \"y_test\": 389.49999999999994, \"y_pred\": 397.5709433186327, \"label\": \"Actual\", \"predicted_label\": \"Predicted\"}, {\"date\": \"2022-06-29T00:00:00\", \"y_test\": 392.6499938964844, \"y_pred\": 392.46295284693736, \"label\": \"Actual\", \"predicted_label\": \"Predicted\"}, {\"date\": \"2022-06-30T00:00:00\", \"y_test\": 370.8500061035156, \"y_pred\": 379.7938814159905, \"label\": \"Actual\", \"predicted_label\": \"Predicted\"}, {\"date\": \"2022-07-01T00:00:00\", \"y_test\": 362.6000061035156, \"y_pred\": 366.27298087925976, \"label\": \"Actual\", \"predicted_label\": \"Predicted\"}, {\"date\": \"2022-07-04T00:00:00\", \"y_test\": 353.20001220703125, \"y_pred\": 352.8820954079698, \"label\": \"Actual\", \"predicted_label\": \"Predicted\"}, {\"date\": \"2022-07-05T00:00:00\", \"y_test\": 385.7000122070313, \"y_pred\": 351.0214502583541, \"label\": \"Actual\", \"predicted_label\": \"Predicted\"}, {\"date\": \"2022-07-06T00:00:00\", \"y_test\": 378.3999938964844, \"y_pred\": 380.0263631993221, \"label\": \"Actual\", \"predicted_label\": \"Predicted\"}, {\"date\": \"2022-07-07T00:00:00\", \"y_test\": 377.7000122070313, \"y_pred\": 383.4855611867946, \"label\": \"Actual\", \"predicted_label\": \"Predicted\"}, {\"date\": \"2022-07-08T00:00:00\", \"y_test\": 371.6499938964843, \"y_pred\": 372.4361337367849, \"label\": \"Actual\", \"predicted_label\": \"Predicted\"}, {\"date\": \"2022-07-11T00:00:00\", \"y_test\": 375.79998779296875, \"y_pred\": 366.228512205515, \"label\": \"Actual\", \"predicted_label\": \"Predicted\"}, {\"date\": \"2022-07-12T00:00:00\", \"y_test\": 376.0, \"y_pred\": 380.4266351085551, \"label\": \"Actual\", \"predicted_label\": \"Predicted\"}, {\"date\": \"2022-07-13T00:00:00\", \"y_test\": 380.0, \"y_pred\": 380.5372817828618, \"label\": \"Actual\", \"predicted_label\": \"Predicted\"}, {\"date\": \"2022-07-14T00:00:00\", \"y_test\": 376.9500122070313, \"y_pred\": 374.59975666937544, \"label\": \"Actual\", \"predicted_label\": \"Predicted\"}, {\"date\": \"2022-07-15T00:00:00\", \"y_test\": 382.89999389648443, \"y_pred\": 380.63042533252053, \"label\": \"Actual\", \"predicted_label\": \"Predicted\"}, {\"date\": \"2022-07-18T00:00:00\", \"y_test\": 385.0, \"y_pred\": 380.9690582023104, \"label\": \"Actual\", \"predicted_label\": \"Predicted\"}, {\"date\": \"2022-07-19T00:00:00\", \"y_test\": 373.7000122070313, \"y_pred\": 377.4232427078035, \"label\": \"Actual\", \"predicted_label\": \"Predicted\"}, {\"date\": \"2022-07-20T00:00:00\", \"y_test\": 377.2000122070313, \"y_pred\": 373.7952869151064, \"label\": \"Actual\", \"predicted_label\": \"Predicted\"}, {\"date\": \"2022-07-21T00:00:00\", \"y_test\": 379.8999938964843, \"y_pred\": 378.9018322193093, \"label\": \"Actual\", \"predicted_label\": \"Predicted\"}, {\"date\": \"2022-07-22T00:00:00\", \"y_test\": 373.5, \"y_pred\": 378.1597543830312, \"label\": \"Actual\", \"predicted_label\": \"Predicted\"}, {\"date\": \"2022-07-25T00:00:00\", \"y_test\": 377.0, \"y_pred\": 373.93172369078405, \"label\": \"Actual\", \"predicted_label\": \"Predicted\"}, {\"date\": \"2022-07-26T00:00:00\", \"y_test\": 373.8999938964843, \"y_pred\": 374.1776707039239, \"label\": \"Actual\", \"predicted_label\": \"Predicted\"}, {\"date\": \"2022-07-27T00:00:00\", \"y_test\": 369.1000061035156, \"y_pred\": 366.00488245391665, \"label\": \"Actual\", \"predicted_label\": \"Predicted\"}, {\"date\": \"2022-07-28T00:00:00\", \"y_test\": 374.99999999999994, \"y_pred\": 371.37780917479256, \"label\": \"Actual\", \"predicted_label\": \"Predicted\"}, {\"date\": \"2022-07-29T00:00:00\", \"y_test\": 378.7000122070313, \"y_pred\": 375.06749474892405, \"label\": \"Actual\", \"predicted_label\": \"Predicted\"}, {\"date\": \"2022-08-01T00:00:00\", \"y_test\": 402.2999877929688, \"y_pred\": 376.0506703086631, \"label\": \"Actual\", \"predicted_label\": \"Predicted\"}, {\"date\": \"2022-08-02T00:00:00\", \"y_test\": 425.9500122070313, \"y_pred\": 404.50669007828145, \"label\": \"Actual\", \"predicted_label\": \"Predicted\"}, {\"date\": \"2022-08-02T00:00:00\", \"y_test\": 425.9500122070313, \"y_pred\": 421.622817253572, \"label\": \"Actual\", \"predicted_label\": \"Predicted\"}, {\"date\": \"2022-08-03T00:00:00\", \"y_test\": 440.0, \"y_pred\": 416.0588385465466, \"label\": \"Actual\", \"predicted_label\": \"Predicted\"}, {\"date\": \"2022-08-03T00:00:00\", \"y_test\": 440.0, \"y_pred\": 448.84535807322106, \"label\": \"Actual\", \"predicted_label\": \"Predicted\"}, {\"date\": \"2022-08-03T00:00:00\", \"y_test\": 440.0, \"y_pred\": 445.5813328390703, \"label\": \"Actual\", \"predicted_label\": \"Predicted\"}, {\"date\": \"2022-08-03T00:00:00\", \"y_test\": 440.0, \"y_pred\": 443.3284270863384, \"label\": \"Actual\", \"predicted_label\": \"Predicted\"}, {\"date\": \"2022-08-03T00:00:00\", \"y_test\": 440.0, \"y_pred\": 442.4440920106122, \"label\": \"Actual\", \"predicted_label\": \"Predicted\"}, {\"date\": \"2022-08-03T00:00:00\", \"y_test\": 440.0, \"y_pred\": 444.35525125094995, \"label\": \"Actual\", \"predicted_label\": \"Predicted\"}, {\"date\": \"2022-08-03T00:00:00\", \"y_test\": 440.0, \"y_pred\": 443.91727147746695, \"label\": \"Actual\", \"predicted_label\": \"Predicted\"}, {\"date\": \"2022-08-03T00:00:00\", \"y_test\": 440.0, \"y_pred\": 442.29511732554806, \"label\": \"Actual\", \"predicted_label\": \"Predicted\"}, {\"date\": \"2022-08-03T00:00:00\", \"y_test\": 440.0, \"y_pred\": 442.42231371773016, \"label\": \"Actual\", \"predicted_label\": \"Predicted\"}, {\"date\": \"2022-08-03T00:00:00\", \"y_test\": 440.0, \"y_pred\": 442.3147709806922, \"label\": \"Actual\", \"predicted_label\": \"Predicted\"}, {\"date\": \"2022-08-04T00:00:00\", \"y_test\": 445.6000061035156, \"y_pred\": 442.2377703327179, \"label\": \"Actual\", \"predicted_label\": \"Predicted\"}, {\"date\": \"2022-08-05T00:00:00\", \"y_test\": 430.7999877929688, \"y_pred\": 430.6474288629577, \"label\": \"Actual\", \"predicted_label\": \"Predicted\"}, {\"date\": \"2022-08-08T00:00:00\", \"y_test\": 437.95001220703125, \"y_pred\": 434.5988427838263, \"label\": \"Actual\", \"predicted_label\": \"Predicted\"}, {\"date\": \"2022-08-10T00:00:00\", \"y_test\": 464.5, \"y_pred\": 441.00817570435237, \"label\": \"Actual\", \"predicted_label\": \"Predicted\"}, {\"date\": \"2022-08-11T00:00:00\", \"y_test\": 453.8500061035156, \"y_pred\": 456.6481768614761, \"label\": \"Actual\", \"predicted_label\": \"Predicted\"}, {\"date\": \"2022-08-11T00:00:00\", \"y_test\": 453.8500061035156, \"y_pred\": 455.09765990813344, \"label\": \"Actual\", \"predicted_label\": \"Predicted\"}, {\"date\": \"2022-08-12T00:00:00\", \"y_test\": 454.0, \"y_pred\": 452.933736901987, \"label\": \"Actual\", \"predicted_label\": \"Predicted\"}, {\"date\": \"2022-08-16T00:00:00\", \"y_test\": 463.04998779296886, \"y_pred\": 462.43957199066296, \"label\": \"Actual\", \"predicted_label\": \"Predicted\"}, {\"date\": \"2022-08-17T00:00:00\", \"y_test\": 435.99999999999994, \"y_pred\": 435.02573493814594, \"label\": \"Actual\", \"predicted_label\": \"Predicted\"}, {\"date\": \"2022-08-18T00:00:00\", \"y_test\": 433.7000122070313, \"y_pred\": 438.1224292776368, \"label\": \"Actual\", \"predicted_label\": \"Predicted\"}, {\"date\": \"2022-08-19T00:00:00\", \"y_test\": 434.20001220703136, \"y_pred\": 432.526817157515, \"label\": \"Actual\", \"predicted_label\": \"Predicted\"}, {\"date\": \"2022-08-22T00:00:00\", \"y_test\": 469.75000000000006, \"y_pred\": 430.8605952032434, \"label\": \"Actual\", \"predicted_label\": \"Predicted\"}, {\"date\": \"2022-08-22T00:00:00\", \"y_test\": 469.75, \"y_pred\": 476.86624154657034, \"label\": \"Actual\", \"predicted_label\": \"Predicted\"}, {\"date\": \"2022-08-22T00:00:00\", \"y_test\": 469.75, \"y_pred\": 477.6944072664911, \"label\": \"Actual\", \"predicted_label\": \"Predicted\"}, {\"date\": \"2022-08-22T00:00:00\", \"y_test\": 469.75, \"y_pred\": 475.58710685743824, \"label\": \"Actual\", \"predicted_label\": \"Predicted\"}, {\"date\": \"2022-08-23T00:00:00\", \"y_test\": 467.1499938964844, \"y_pred\": 475.6454677847607, \"label\": \"Actual\", \"predicted_label\": \"Predicted\"}, {\"date\": \"2022-08-24T00:00:00\", \"y_test\": 481.2000122070313, \"y_pred\": 470.2013053117534, \"label\": \"Actual\", \"predicted_label\": \"Predicted\"}, {\"date\": \"2022-08-25T00:00:00\", \"y_test\": 491.10000610351557, \"y_pred\": 481.24908897846683, \"label\": \"Actual\", \"predicted_label\": \"Predicted\"}, {\"date\": \"2022-08-26T00:00:00\", \"y_test\": 502.0, \"y_pred\": 479.6627459811842, \"label\": \"Actual\", \"predicted_label\": \"Predicted\"}, {\"date\": \"2022-08-29T00:00:00\", \"y_test\": 504.70001220703125, \"y_pred\": 507.0521737508237, \"label\": \"Actual\", \"predicted_label\": \"Predicted\"}, {\"date\": \"2022-08-30T00:00:00\", \"y_test\": 506.45001220703125, \"y_pred\": 508.8963573200355, \"label\": \"Actual\", \"predicted_label\": \"Predicted\"}, {\"date\": \"2022-09-01T00:00:00\", \"y_test\": 505.6499938964844, \"y_pred\": 506.6630118909838, \"label\": \"Actual\", \"predicted_label\": \"Predicted\"}, {\"date\": \"2022-09-02T00:00:00\", \"y_test\": 537.75, \"y_pred\": 499.43704128539423, \"label\": \"Actual\", \"predicted_label\": \"Predicted\"}, {\"date\": \"2022-09-05T00:00:00\", \"y_test\": 544.4500122070312, \"y_pred\": 544.3211487653922, \"label\": \"Actual\", \"predicted_label\": \"Predicted\"}, {\"date\": \"2022-09-06T00:00:00\", \"y_test\": 565.0, \"y_pred\": 551.4813254186341, \"label\": \"Actual\", \"predicted_label\": \"Predicted\"}, {\"date\": \"2022-09-07T00:00:00\", \"y_test\": 566.5, \"y_pred\": 561.2059496124848, \"label\": \"Actual\", \"predicted_label\": \"Predicted\"}, {\"date\": \"2022-09-08T00:00:00\", \"y_test\": 563.8499755859375, \"y_pred\": 573.6979886488476, \"label\": \"Actual\", \"predicted_label\": \"Predicted\"}, {\"date\": \"2022-09-09T00:00:00\", \"y_test\": 565.0, \"y_pred\": 567.137831514918, \"label\": \"Actual\", \"predicted_label\": \"Predicted\"}, {\"date\": \"2022-09-12T00:00:00\", \"y_test\": 560.75, \"y_pred\": 570.7009513278475, \"label\": \"Actual\", \"predicted_label\": \"Predicted\"}, {\"date\": \"2022-09-13T00:00:00\", \"y_test\": 563.9500122070312, \"y_pred\": 570.9314184237369, \"label\": \"Actual\", \"predicted_label\": \"Predicted\"}, {\"date\": \"2022-09-14T00:00:00\", \"y_test\": 557.4000244140625, \"y_pred\": 546.4227025960474, \"label\": \"Actual\", \"predicted_label\": \"Predicted\"}, {\"date\": \"2022-09-15T00:00:00\", \"y_test\": 555.0, \"y_pred\": 564.2198435525755, \"label\": \"Actual\", \"predicted_label\": \"Predicted\"}, {\"date\": \"2022-09-16T00:00:00\", \"y_test\": 529.25, \"y_pred\": 538.3555692113899, \"label\": \"Actual\", \"predicted_label\": \"Predicted\"}, {\"date\": \"2022-09-19T00:00:00\", \"y_test\": 498.14999389648443, \"y_pred\": 499.98814067918966, \"label\": \"Actual\", \"predicted_label\": \"Predicted\"}, {\"date\": \"2022-09-20T00:00:00\", \"y_test\": 506.74999999999994, \"y_pred\": 485.26500748651165, \"label\": \"Actual\", \"predicted_label\": \"Predicted\"}, {\"date\": \"2022-09-21T00:00:00\", \"y_test\": 492.45001220703136, \"y_pred\": 492.4107275429085, \"label\": \"Actual\", \"predicted_label\": \"Predicted\"}, {\"date\": \"2022-09-22T00:00:00\", \"y_test\": 473.7999877929688, \"y_pred\": 476.0775493547593, \"label\": \"Actual\", \"predicted_label\": \"Predicted\"}, {\"date\": \"2022-09-23T00:00:00\", \"y_test\": 469.2000122070313, \"y_pred\": 475.14967555500164, \"label\": \"Actual\", \"predicted_label\": \"Predicted\"}, {\"date\": \"2022-09-26T00:00:00\", \"y_test\": 442.9500122070313, \"y_pred\": 461.3689258818723, \"label\": \"Actual\", \"predicted_label\": \"Predicted\"}, {\"date\": \"2022-09-27T00:00:00\", \"y_test\": 435.9500122070313, \"y_pred\": 435.3879993663734, \"label\": \"Actual\", \"predicted_label\": \"Predicted\"}, {\"date\": \"2022-09-28T00:00:00\", \"y_test\": 410.0, \"y_pred\": 422.99047798598605, \"label\": \"Actual\", \"predicted_label\": \"Predicted\"}, {\"date\": \"2022-09-29T00:00:00\", \"y_test\": 428.20001220703136, \"y_pred\": 416.64322653534805, \"label\": \"Actual\", \"predicted_label\": \"Predicted\"}, {\"date\": \"2022-09-30T00:00:00\", \"y_test\": 426.79998779296886, \"y_pred\": 426.2573696313335, \"label\": \"Actual\", \"predicted_label\": \"Predicted\"}, {\"date\": \"2022-10-03T00:00:00\", \"y_test\": 425.6499938964844, \"y_pred\": 431.54903253429643, \"label\": \"Actual\", \"predicted_label\": \"Predicted\"}, {\"date\": \"2022-10-04T00:00:00\", \"y_test\": 435.0, \"y_pred\": 432.33308395282694, \"label\": \"Actual\", \"predicted_label\": \"Predicted\"}, {\"date\": \"2022-10-06T00:00:00\", \"y_test\": 442.0, \"y_pred\": 437.1399012056537, \"label\": \"Actual\", \"predicted_label\": \"Predicted\"}, {\"date\": \"2022-10-07T00:00:00\", \"y_test\": 429.1499938964844, \"y_pred\": 442.4836354802041, \"label\": \"Actual\", \"predicted_label\": \"Predicted\"}, {\"date\": \"2022-10-10T00:00:00\", \"y_test\": 417.6000061035156, \"y_pred\": 439.7918383497548, \"label\": \"Actual\", \"predicted_label\": \"Predicted\"}, {\"date\": \"2022-10-11T00:00:00\", \"y_test\": 423.54998779296886, \"y_pred\": 422.325554944348, \"label\": \"Actual\", \"predicted_label\": \"Predicted\"}, {\"date\": \"2022-10-12T00:00:00\", \"y_test\": 413.29998779296886, \"y_pred\": 420.94326836071167, \"label\": \"Actual\", \"predicted_label\": \"Predicted\"}, {\"date\": \"2022-10-13T00:00:00\", \"y_test\": 412.9500122070313, \"y_pred\": 418.7184575933201, \"label\": \"Actual\", \"predicted_label\": \"Predicted\"}, {\"date\": \"2022-10-14T00:00:00\", \"y_test\": 427.0, \"y_pred\": 410.2980262595982, \"label\": \"Actual\", \"predicted_label\": \"Predicted\"}, {\"date\": \"2022-10-17T00:00:00\", \"y_test\": 451.1000061035157, \"y_pred\": 433.6420135430686, \"label\": \"Actual\", \"predicted_label\": \"Predicted\"}, {\"date\": \"2022-10-18T00:00:00\", \"y_test\": 439.79998779296886, \"y_pred\": 442.20042978292605, \"label\": \"Actual\", \"predicted_label\": \"Predicted\"}, {\"date\": \"2022-10-19T00:00:00\", \"y_test\": 453.29998779296886, \"y_pred\": 448.60306346720023, \"label\": \"Actual\", \"predicted_label\": \"Predicted\"}, {\"date\": \"2022-10-20T00:00:00\", \"y_test\": 454.75, \"y_pred\": 459.7744843088204, \"label\": \"Actual\", \"predicted_label\": \"Predicted\"}, {\"date\": \"2022-10-21T00:00:00\", \"y_test\": 500.0, \"y_pred\": 462.23055799765524, \"label\": \"Actual\", \"predicted_label\": \"Predicted\"}, {\"date\": \"2022-10-24T00:00:00\", \"y_test\": 509.7000122070313, \"y_pred\": 504.64820485027724, \"label\": \"Actual\", \"predicted_label\": \"Predicted\"}, {\"date\": \"2022-10-25T00:00:00\", \"y_test\": 531.25, \"y_pred\": 522.2976798124524, \"label\": \"Actual\", \"predicted_label\": \"Predicted\"}, {\"date\": \"2022-10-27T00:00:00\", \"y_test\": 534.7999877929688, \"y_pred\": 539.7238528670493, \"label\": \"Actual\", \"predicted_label\": \"Predicted\"}, {\"date\": \"2022-10-28T00:00:00\", \"y_test\": 540.7999877929688, \"y_pred\": 541.2978095345396, \"label\": \"Actual\", \"predicted_label\": \"Predicted\"}, {\"date\": \"2022-10-31T00:00:00\", \"y_test\": 510.3999938964844, \"y_pred\": 518.9457304490145, \"label\": \"Actual\", \"predicted_label\": \"Predicted\"}, {\"date\": \"2022-11-01T00:00:00\", \"y_test\": 506.00000000000006, \"y_pred\": 496.45233134796433, \"label\": \"Actual\", \"predicted_label\": \"Predicted\"}, {\"date\": \"2022-11-02T00:00:00\", \"y_test\": 501.70001220703125, \"y_pred\": 496.866904761702, \"label\": \"Actual\", \"predicted_label\": \"Predicted\"}, {\"date\": \"2022-11-03T00:00:00\", \"y_test\": 488.54998779296886, \"y_pred\": 501.54419595629, \"label\": \"Actual\", \"predicted_label\": \"Predicted\"}, {\"date\": \"2022-11-04T00:00:00\", \"y_test\": 503.00000000000006, \"y_pred\": 495.97725084975855, \"label\": \"Actual\", \"predicted_label\": \"Predicted\"}, {\"date\": \"2022-11-07T00:00:00\", \"y_test\": 514.5, \"y_pred\": 507.12769032027774, \"label\": \"Actual\", \"predicted_label\": \"Predicted\"}, {\"date\": \"2022-11-09T00:00:00\", \"y_test\": 501.75, \"y_pred\": 512.410558219742, \"label\": \"Actual\", \"predicted_label\": \"Predicted\"}, {\"date\": \"2022-11-10T00:00:00\", \"y_test\": 510.8500061035156, \"y_pred\": 511.7803857700947, \"label\": \"Actual\", \"predicted_label\": \"Predicted\"}, {\"date\": \"2022-11-11T00:00:00\", \"y_test\": 521.9500122070312, \"y_pred\": 522.0800550778399, \"label\": \"Actual\", \"predicted_label\": \"Predicted\"}, {\"date\": \"2022-11-14T00:00:00\", \"y_test\": 507.5, \"y_pred\": 517.6624837820856, \"label\": \"Actual\", \"predicted_label\": \"Predicted\"}, {\"date\": \"2022-11-15T00:00:00\", \"y_test\": 514.75, \"y_pred\": 514.6822757090223, \"label\": \"Actual\", \"predicted_label\": \"Predicted\"}, {\"date\": \"2022-11-16T00:00:00\", \"y_test\": 512.0, \"y_pred\": 522.272216903298, \"label\": \"Actual\", \"predicted_label\": \"Predicted\"}, {\"date\": \"2022-11-17T00:00:00\", \"y_test\": 500.49999999999994, \"y_pred\": 507.3699740159311, \"label\": \"Actual\", \"predicted_label\": \"Predicted\"}, {\"date\": \"2022-11-18T00:00:00\", \"y_test\": 502.45001220703136, \"y_pred\": 509.223072816206, \"label\": \"Actual\", \"predicted_label\": \"Predicted\"}, {\"date\": \"2022-11-21T00:00:00\", \"y_test\": 510.8500061035157, \"y_pred\": 498.50901853477563, \"label\": \"Actual\", \"predicted_label\": \"Predicted\"}, {\"date\": \"2022-11-22T00:00:00\", \"y_test\": 509.50000000000006, \"y_pred\": 514.5172749047042, \"label\": \"Actual\", \"predicted_label\": \"Predicted\"}, {\"date\": \"2022-11-23T00:00:00\", \"y_test\": 506.3500061035156, \"y_pred\": 507.30460002009414, \"label\": \"Actual\", \"predicted_label\": \"Predicted\"}, {\"date\": \"2022-11-24T00:00:00\", \"y_test\": 505.8500061035156, \"y_pred\": 506.48505458484203, \"label\": \"Actual\", \"predicted_label\": \"Predicted\"}, {\"date\": \"2022-11-25T00:00:00\", \"y_test\": 512.4500122070312, \"y_pred\": 509.16568815275605, \"label\": \"Actual\", \"predicted_label\": \"Predicted\"}, {\"date\": \"2022-11-28T00:00:00\", \"y_test\": 495.6499938964844, \"y_pred\": 492.1135234467278, \"label\": \"Actual\", \"predicted_label\": \"Predicted\"}, {\"date\": \"2022-11-29T00:00:00\", \"y_test\": 490.8500061035156, \"y_pred\": 501.679607424233, \"label\": \"Actual\", \"predicted_label\": \"Predicted\"}, {\"date\": \"2022-11-30T00:00:00\", \"y_test\": 483.95001220703136, \"y_pred\": 478.9763627291556, \"label\": \"Actual\", \"predicted_label\": \"Predicted\"}, {\"date\": \"2022-12-01T00:00:00\", \"y_test\": 493.25, \"y_pred\": 482.5108680902653, \"label\": \"Actual\", \"predicted_label\": \"Predicted\"}, {\"date\": \"2022-12-02T00:00:00\", \"y_test\": 490.6000061035156, \"y_pred\": 493.12435566902946, \"label\": \"Actual\", \"predicted_label\": \"Predicted\"}, {\"date\": \"2022-12-05T00:00:00\", \"y_test\": 493.8500061035156, \"y_pred\": 496.1250723339763, \"label\": \"Actual\", \"predicted_label\": \"Predicted\"}, {\"date\": \"2022-12-06T00:00:00\", \"y_test\": 520.0, \"y_pred\": 497.3399738172323, \"label\": \"Actual\", \"predicted_label\": \"Predicted\"}, {\"date\": \"2022-12-07T00:00:00\", \"y_test\": 525.0, \"y_pred\": 523.8801949640357, \"label\": \"Actual\", \"predicted_label\": \"Predicted\"}, {\"date\": \"2022-12-08T00:00:00\", \"y_test\": 531.2000122070312, \"y_pred\": 531.5199498571053, \"label\": \"Actual\", \"predicted_label\": \"Predicted\"}, {\"date\": \"2022-12-09T00:00:00\", \"y_test\": 532.4999999999999, \"y_pred\": 533.801754488948, \"label\": \"Actual\", \"predicted_label\": \"Predicted\"}, {\"date\": \"2022-12-12T00:00:00\", \"y_test\": 512.7999877929688, \"y_pred\": 520.1464754056313, \"label\": \"Actual\", \"predicted_label\": \"Predicted\"}, {\"date\": \"2022-12-13T00:00:00\", \"y_test\": 526.3499755859375, \"y_pred\": 519.3236454698146, \"label\": \"Actual\", \"predicted_label\": \"Predicted\"}, {\"date\": \"2022-12-14T00:00:00\", \"y_test\": 531.5499877929688, \"y_pred\": 521.8014255991511, \"label\": \"Actual\", \"predicted_label\": \"Predicted\"}, {\"date\": \"2022-12-15T00:00:00\", \"y_test\": 517.4500122070312, \"y_pred\": 523.5337343636513, \"label\": \"Actual\", \"predicted_label\": \"Predicted\"}, {\"date\": \"2022-12-16T00:00:00\", \"y_test\": 502.2000122070313, \"y_pred\": 510.9083024554911, \"label\": \"Actual\", \"predicted_label\": \"Predicted\"}, {\"date\": \"2022-12-19T00:00:00\", \"y_test\": 486.6000061035156, \"y_pred\": 498.232868222634, \"label\": \"Actual\", \"predicted_label\": \"Predicted\"}, {\"date\": \"2022-12-20T00:00:00\", \"y_test\": 489.99999999999994, \"y_pred\": 488.623588788228, \"label\": \"Actual\", \"predicted_label\": \"Predicted\"}, {\"date\": \"2022-12-21T00:00:00\", \"y_test\": 492.3999938964844, \"y_pred\": 489.4146258686334, \"label\": \"Actual\", \"predicted_label\": \"Predicted\"}, {\"date\": \"2022-12-22T00:00:00\", \"y_test\": 477.79998779296886, \"y_pred\": 477.9082972265632, \"label\": \"Actual\", \"predicted_label\": \"Predicted\"}, {\"date\": \"2022-12-23T00:00:00\", \"y_test\": 446.0, \"y_pred\": 459.3787574457875, \"label\": \"Actual\", \"predicted_label\": \"Predicted\"}, {\"date\": \"2022-12-26T00:00:00\", \"y_test\": 442.2999877929688, \"y_pred\": 428.3177842533948, \"label\": \"Actual\", \"predicted_label\": \"Predicted\"}, {\"date\": \"2022-12-27T00:00:00\", \"y_test\": 449.9500122070313, \"y_pred\": 447.5533514249987, \"label\": \"Actual\", \"predicted_label\": \"Predicted\"}, {\"date\": \"2022-12-28T00:00:00\", \"y_test\": 438.5499877929688, \"y_pred\": 449.10558041097556, \"label\": \"Actual\", \"predicted_label\": \"Predicted\"}, {\"date\": \"2022-12-29T00:00:00\", \"y_test\": 437.5499877929688, \"y_pred\": 438.4899837736953, \"label\": \"Actual\", \"predicted_label\": \"Predicted\"}, {\"date\": \"2022-12-30T00:00:00\", \"y_test\": 438.25, \"y_pred\": 440.282484266338, \"label\": \"Actual\", \"predicted_label\": \"Predicted\"}, {\"date\": \"2023-01-02T00:00:00\", \"y_test\": 426.29998779296886, \"y_pred\": 429.80574059686927, \"label\": \"Actual\", \"predicted_label\": \"Predicted\"}, {\"date\": \"2023-01-03T00:00:00\", \"y_test\": 420.5, \"y_pred\": 430.1581538677422, \"label\": \"Actual\", \"predicted_label\": \"Predicted\"}, {\"date\": \"2023-01-04T00:00:00\", \"y_test\": 420.0, \"y_pred\": 421.10949116679717, \"label\": \"Actual\", \"predicted_label\": \"Predicted\"}, {\"date\": \"2023-01-05T00:00:00\", \"y_test\": 415.45001220703125, \"y_pred\": 415.89349898130286, \"label\": \"Actual\", \"predicted_label\": \"Predicted\"}, {\"date\": \"2023-01-06T00:00:00\", \"y_test\": 413.50000000000006, \"y_pred\": 421.0708669789444, \"label\": \"Actual\", \"predicted_label\": \"Predicted\"}, {\"date\": \"2023-01-09T00:00:00\", \"y_test\": 415.74999999999994, \"y_pred\": 421.32614918300806, \"label\": \"Actual\", \"predicted_label\": \"Predicted\"}, {\"date\": \"2023-01-10T00:00:00\", \"y_test\": 416.49999999999994, \"y_pred\": 419.256270209515, \"label\": \"Actual\", \"predicted_label\": \"Predicted\"}, {\"date\": \"2023-01-11T00:00:00\", \"y_test\": 423.45001220703136, \"y_pred\": 423.72690832194286, \"label\": \"Actual\", \"predicted_label\": \"Predicted\"}, {\"date\": \"2023-01-12T00:00:00\", \"y_test\": 421.1499938964844, \"y_pred\": 412.88510000114553, \"label\": \"Actual\", \"predicted_label\": \"Predicted\"}, {\"date\": \"2023-01-13T00:00:00\", \"y_test\": 414.8999938964843, \"y_pred\": 422.0122277981364, \"label\": \"Actual\", \"predicted_label\": \"Predicted\"}, {\"date\": \"2023-01-16T00:00:00\", \"y_test\": 411.7999877929688, \"y_pred\": 416.5194056735496, \"label\": \"Actual\", \"predicted_label\": \"Predicted\"}, {\"date\": \"2023-01-17T00:00:00\", \"y_test\": 416.9500122070313, \"y_pred\": 418.3083310109337, \"label\": \"Actual\", \"predicted_label\": \"Predicted\"}, {\"date\": \"2023-01-18T00:00:00\", \"y_test\": 405.6499938964844, \"y_pred\": 409.43389352767707, \"label\": \"Actual\", \"predicted_label\": \"Predicted\"}, {\"date\": \"2023-01-19T00:00:00\", \"y_test\": 398.0, \"y_pred\": 406.8740580376783, \"label\": \"Actual\", \"predicted_label\": \"Predicted\"}, {\"date\": \"2023-01-20T00:00:00\", \"y_test\": 388.6499938964844, \"y_pred\": 396.47853468004485, \"label\": \"Actual\", \"predicted_label\": \"Predicted\"}, {\"date\": \"2023-01-23T00:00:00\", \"y_test\": 384.8999938964844, \"y_pred\": 391.88609435837293, \"label\": \"Actual\", \"predicted_label\": \"Predicted\"}, {\"date\": \"2023-01-24T00:00:00\", \"y_test\": 379.0, \"y_pred\": 382.19294547070933, \"label\": \"Actual\", \"predicted_label\": \"Predicted\"}, {\"date\": \"2023-01-25T00:00:00\", \"y_test\": 385.24999999999994, \"y_pred\": 381.2171484169661, \"label\": \"Actual\", \"predicted_label\": \"Predicted\"}, {\"date\": \"2023-01-27T00:00:00\", \"y_test\": 375.7999877929688, \"y_pred\": 378.2105050525558, \"label\": \"Actual\", \"predicted_label\": \"Predicted\"}, {\"date\": \"2023-01-30T00:00:00\", \"y_test\": 367.3500061035156, \"y_pred\": 372.09882334976317, \"label\": \"Actual\", \"predicted_label\": \"Predicted\"}, {\"date\": \"2023-01-31T00:00:00\", \"y_test\": 387.64999389648443, \"y_pred\": 369.62992514310616, \"label\": \"Actual\", \"predicted_label\": \"Predicted\"}, {\"date\": \"2023-02-01T00:00:00\", \"y_test\": 390.5, \"y_pred\": 386.3236659635295, \"label\": \"Actual\", \"predicted_label\": \"Predicted\"}, {\"date\": \"2023-02-02T00:00:00\", \"y_test\": 389.00000000000006, \"y_pred\": 385.90271440727724, \"label\": \"Actual\", \"predicted_label\": \"Predicted\"}, {\"date\": \"2023-02-03T00:00:00\", \"y_test\": 394.00000000000006, \"y_pred\": 387.308460113427, \"label\": \"Actual\", \"predicted_label\": \"Predicted\"}, {\"date\": \"2023-02-06T00:00:00\", \"y_test\": 420.0, \"y_pred\": 391.80118767149054, \"label\": \"Actual\", \"predicted_label\": \"Predicted\"}, {\"date\": \"2023-02-07T00:00:00\", \"y_test\": 423.14999389648443, \"y_pred\": 421.19426279837273, \"label\": \"Actual\", \"predicted_label\": \"Predicted\"}, {\"date\": \"2023-02-08T00:00:00\", \"y_test\": 429.45001220703125, \"y_pred\": 411.8382463514782, \"label\": \"Actual\", \"predicted_label\": \"Predicted\"}, {\"date\": \"2023-02-09T00:00:00\", \"y_test\": 443.9500122070313, \"y_pred\": 435.7500795880577, \"label\": \"Actual\", \"predicted_label\": \"Predicted\"}, {\"date\": \"2023-02-10T00:00:00\", \"y_test\": 448.35000610351557, \"y_pred\": 452.11261328315044, \"label\": \"Actual\", \"predicted_label\": \"Predicted\"}, {\"date\": \"2023-02-13T00:00:00\", \"y_test\": 445.04998779296875, \"y_pred\": 451.5311655588149, \"label\": \"Actual\", \"predicted_label\": \"Predicted\"}, {\"date\": \"2023-02-14T00:00:00\", \"y_test\": 462.0, \"y_pred\": 451.1010515635269, \"label\": \"Actual\", \"predicted_label\": \"Predicted\"}, {\"date\": \"2023-02-15T00:00:00\", \"y_test\": 455.3500061035156, \"y_pred\": 464.43981783721404, \"label\": \"Actual\", \"predicted_label\": \"Predicted\"}, {\"date\": \"2023-02-16T00:00:00\", \"y_test\": 454.70001220703125, \"y_pred\": 452.491777641277, \"label\": \"Actual\", \"predicted_label\": \"Predicted\"}, {\"date\": \"2023-02-17T00:00:00\", \"y_test\": 459.5499877929688, \"y_pred\": 459.43521842091553, \"label\": \"Actual\", \"predicted_label\": \"Predicted\"}, {\"date\": \"2023-02-20T00:00:00\", \"y_test\": 468.0, \"y_pred\": 457.186002914608, \"label\": \"Actual\", \"predicted_label\": \"Predicted\"}, {\"date\": \"2023-02-21T00:00:00\", \"y_test\": 465.8500061035156, \"y_pred\": 463.34945390003685, \"label\": \"Actual\", \"predicted_label\": \"Predicted\"}, {\"date\": \"2023-02-22T00:00:00\", \"y_test\": 466.74999999999994, \"y_pred\": 469.47798499162127, \"label\": \"Actual\", \"predicted_label\": \"Predicted\"}, {\"date\": \"2023-02-23T00:00:00\", \"y_test\": 464.95001220703136, \"y_pred\": 472.9180366085872, \"label\": \"Actual\", \"predicted_label\": \"Predicted\"}, {\"date\": \"2023-02-24T00:00:00\", \"y_test\": 456.35000610351557, \"y_pred\": 459.4944036905027, \"label\": \"Actual\", \"predicted_label\": \"Predicted\"}, {\"date\": \"2023-02-27T00:00:00\", \"y_test\": 444.75000000000006, \"y_pred\": 453.01157784510804, \"label\": \"Actual\", \"predicted_label\": \"Predicted\"}, {\"date\": \"2023-02-28T00:00:00\", \"y_test\": 474.25000000000006, \"y_pred\": 439.9738367995797, \"label\": \"Actual\", \"predicted_label\": \"Predicted\"}, {\"date\": \"2023-03-01T00:00:00\", \"y_test\": 480.0, \"y_pred\": 477.7597268387445, \"label\": \"Actual\", \"predicted_label\": \"Predicted\"}, {\"date\": \"2023-03-02T00:00:00\", \"y_test\": 482.25, \"y_pred\": 489.6599679581095, \"label\": \"Actual\", \"predicted_label\": \"Predicted\"}, {\"date\": \"2023-03-03T00:00:00\", \"y_test\": 484.75000000000006, \"y_pred\": 489.84506830757124, \"label\": \"Actual\", \"predicted_label\": \"Predicted\"}, {\"date\": \"2023-03-06T00:00:00\", \"y_test\": 480.6499938964844, \"y_pred\": 475.2862716886001, \"label\": \"Actual\", \"predicted_label\": \"Predicted\"}, {\"date\": \"2023-03-08T00:00:00\", \"y_test\": 479.45001220703125, \"y_pred\": 486.21664079492524, \"label\": \"Actual\", \"predicted_label\": \"Predicted\"}, {\"date\": \"2023-03-09T00:00:00\", \"y_test\": 472.2999877929688, \"y_pred\": 474.26505172418257, \"label\": \"Actual\", \"predicted_label\": \"Predicted\"}, {\"date\": \"2023-03-10T00:00:00\", \"y_test\": 471.2000122070313, \"y_pred\": 479.8429142141142, \"label\": \"Actual\", \"predicted_label\": \"Predicted\"}, {\"date\": \"2023-03-13T00:00:00\", \"y_test\": 494.0499877929688, \"y_pred\": 476.5949605726092, \"label\": \"Actual\", \"predicted_label\": \"Predicted\"}, {\"date\": \"2023-03-14T00:00:00\", \"y_test\": 479.0, \"y_pred\": 485.2784941425108, \"label\": \"Actual\", \"predicted_label\": \"Predicted\"}, {\"date\": \"2023-03-15T00:00:00\", \"y_test\": 492.79998779296875, \"y_pred\": 485.2842819668989, \"label\": \"Actual\", \"predicted_label\": \"Predicted\"}, {\"date\": \"2023-03-16T00:00:00\", \"y_test\": 483.3999938964844, \"y_pred\": 492.00267734252344, \"label\": \"Actual\", \"predicted_label\": \"Predicted\"}, {\"date\": \"2023-03-17T00:00:00\", \"y_test\": 494.54998779296875, \"y_pred\": 486.22434230805095, \"label\": \"Actual\", \"predicted_label\": \"Predicted\"}, {\"date\": \"2023-03-20T00:00:00\", \"y_test\": 489.75, \"y_pred\": 496.33295668526944, \"label\": \"Actual\", \"predicted_label\": \"Predicted\"}, {\"date\": \"2023-03-21T00:00:00\", \"y_test\": 482.24999999999994, \"y_pred\": 487.77619619414907, \"label\": \"Actual\", \"predicted_label\": \"Predicted\"}, {\"date\": \"2023-03-22T00:00:00\", \"y_test\": 475.4500122070313, \"y_pred\": 479.30331469706357, \"label\": \"Actual\", \"predicted_label\": \"Predicted\"}, {\"date\": \"2023-03-23T00:00:00\", \"y_test\": 488.2000122070313, \"y_pred\": 480.54206639435847, \"label\": \"Actual\", \"predicted_label\": \"Predicted\"}, {\"date\": \"2023-03-24T00:00:00\", \"y_test\": 480.0, \"y_pred\": 487.52583077911686, \"label\": \"Actual\", \"predicted_label\": \"Predicted\"}, {\"date\": \"2023-03-27T00:00:00\", \"y_test\": 469.89999389648443, \"y_pred\": 476.5483033965781, \"label\": \"Actual\", \"predicted_label\": \"Predicted\"}, {\"date\": \"2023-03-28T00:00:00\", \"y_test\": 451.6000061035156, \"y_pred\": 452.56104615136627, \"label\": \"Actual\", \"predicted_label\": \"Predicted\"}, {\"date\": \"2023-03-29T00:00:00\", \"y_test\": 440.1000061035156, \"y_pred\": 436.5984700142744, \"label\": \"Actual\", \"predicted_label\": \"Predicted\"}, {\"date\": \"2023-03-31T00:00:00\", \"y_test\": 446.0, \"y_pred\": 440.74215662020646, \"label\": \"Actual\", \"predicted_label\": \"Predicted\"}, {\"date\": \"2023-04-03T00:00:00\", \"y_test\": 451.6000061035156, \"y_pred\": 447.44435580338614, \"label\": \"Actual\", \"predicted_label\": \"Predicted\"}, {\"date\": \"2023-04-05T00:00:00\", \"y_test\": 471.4500122070313, \"y_pred\": 437.93021634399247, \"label\": \"Actual\", \"predicted_label\": \"Predicted\"}, {\"date\": \"2023-04-06T00:00:00\", \"y_test\": 471.49999999999994, \"y_pred\": 472.8438231046456, \"label\": \"Actual\", \"predicted_label\": \"Predicted\"}, {\"date\": \"2023-04-10T00:00:00\", \"y_test\": 477.99999999999994, \"y_pred\": 474.4889023162831, \"label\": \"Actual\", \"predicted_label\": \"Predicted\"}, {\"date\": \"2023-04-11T00:00:00\", \"y_test\": 477.9500122070313, \"y_pred\": 473.27004309753505, \"label\": \"Actual\", \"predicted_label\": \"Predicted\"}, {\"date\": \"2023-04-12T00:00:00\", \"y_test\": 472.0, \"y_pred\": 476.7815470548492, \"label\": \"Actual\", \"predicted_label\": \"Predicted\"}, {\"date\": \"2023-04-13T00:00:00\", \"y_test\": 478.95001220703136, \"y_pred\": 475.04367684058377, \"label\": \"Actual\", \"predicted_label\": \"Predicted\"}, {\"date\": \"2023-04-17T00:00:00\", \"y_test\": 474.79998779296875, \"y_pred\": 473.59697378824137, \"label\": \"Actual\", \"predicted_label\": \"Predicted\"}, {\"date\": \"2023-04-18T00:00:00\", \"y_test\": 482.3999938964843, \"y_pred\": 479.67088531922, \"label\": \"Actual\", \"predicted_label\": \"Predicted\"}, {\"date\": \"2023-04-19T00:00:00\", \"y_test\": 514.0, \"y_pred\": 484.2578242887011, \"label\": \"Actual\", \"predicted_label\": \"Predicted\"}, {\"date\": \"2023-04-20T00:00:00\", \"y_test\": 515.0, \"y_pred\": 518.2686562042556, \"label\": \"Actual\", \"predicted_label\": \"Predicted\"}, {\"date\": \"2023-04-21T00:00:00\", \"y_test\": 508.9500122070313, \"y_pred\": 520.5364502229083, \"label\": \"Actual\", \"predicted_label\": \"Predicted\"}, {\"date\": \"2023-04-24T00:00:00\", \"y_test\": 502.04998779296886, \"y_pred\": 501.3037318571067, \"label\": \"Actual\", \"predicted_label\": \"Predicted\"}, {\"date\": \"2023-04-25T00:00:00\", \"y_test\": 492.8999938964843, \"y_pred\": 492.8725222311933, \"label\": \"Actual\", \"predicted_label\": \"Predicted\"}, {\"date\": \"2023-04-26T00:00:00\", \"y_test\": 483.6000061035157, \"y_pred\": 483.5381276103355, \"label\": \"Actual\", \"predicted_label\": \"Predicted\"}, {\"date\": \"2023-04-27T00:00:00\", \"y_test\": 478.0, \"y_pred\": 478.8037132213698, \"label\": \"Actual\", \"predicted_label\": \"Predicted\"}, {\"date\": \"2023-04-28T00:00:00\", \"y_test\": 474.00000000000006, \"y_pred\": 478.7492357913234, \"label\": \"Actual\", \"predicted_label\": \"Predicted\"}, {\"date\": \"2023-05-02T00:00:00\", \"y_test\": 474.3500061035156, \"y_pred\": 473.57308635782294, \"label\": \"Actual\", \"predicted_label\": \"Predicted\"}, {\"date\": \"2023-05-03T00:00:00\", \"y_test\": 466.45001220703136, \"y_pred\": 468.423930033343, \"label\": \"Actual\", \"predicted_label\": \"Predicted\"}, {\"date\": \"2023-05-04T00:00:00\", \"y_test\": 456.0, \"y_pred\": 464.5463799031884, \"label\": \"Actual\", \"predicted_label\": \"Predicted\"}, {\"date\": \"2023-05-05T00:00:00\", \"y_test\": 463.95001220703125, \"y_pred\": 454.9986065023097, \"label\": \"Actual\", \"predicted_label\": \"Predicted\"}, {\"date\": \"2023-05-08T00:00:00\", \"y_test\": 455.0, \"y_pred\": 454.5156778772378, \"label\": \"Actual\", \"predicted_label\": \"Predicted\"}, {\"date\": \"2023-05-09T00:00:00\", \"y_test\": 458.3999938964844, \"y_pred\": 460.6734622248065, \"label\": \"Actual\", \"predicted_label\": \"Predicted\"}, {\"date\": \"2023-05-10T00:00:00\", \"y_test\": 447.9500122070313, \"y_pred\": 452.056388449944, \"label\": \"Actual\", \"predicted_label\": \"Predicted\"}, {\"date\": \"2023-05-11T00:00:00\", \"y_test\": 450.29998779296875, \"y_pred\": 453.7931833100765, \"label\": \"Actual\", \"predicted_label\": \"Predicted\"}, {\"date\": \"2023-05-12T00:00:00\", \"y_test\": 454.00000000000006, \"y_pred\": 453.76560375302336, \"label\": \"Actual\", \"predicted_label\": \"Predicted\"}, {\"date\": \"2023-05-15T00:00:00\", \"y_test\": 471.0, \"y_pred\": 439.6096843319809, \"label\": \"Actual\", \"predicted_label\": \"Predicted\"}, {\"date\": \"2023-05-16T00:00:00\", \"y_test\": 491.99999999999994, \"y_pred\": 475.6847742554943, \"label\": \"Actual\", \"predicted_label\": \"Predicted\"}, {\"date\": \"2023-05-17T00:00:00\", \"y_test\": 484.7000122070313, \"y_pred\": 497.8322456657065, \"label\": \"Actual\", \"predicted_label\": \"Predicted\"}, {\"date\": \"2023-05-19T00:00:00\", \"y_test\": 477.8500061035156, \"y_pred\": 479.51365639726987, \"label\": \"Actual\", \"predicted_label\": \"Predicted\"}, {\"date\": \"2023-05-22T00:00:00\", \"y_test\": 564.0, \"y_pred\": 480.44063148737877, \"label\": \"Actual\", \"predicted_label\": \"Predicted\"}, {\"date\": \"2023-05-23T00:00:00\", \"y_test\": 565.1500244140624, \"y_pred\": 573.7388928597426, \"label\": \"Actual\", \"predicted_label\": \"Predicted\"}, {\"date\": \"2023-05-24T00:00:00\", \"y_test\": 582.9999999999999, \"y_pred\": 559.2376211948572, \"label\": \"Actual\", \"predicted_label\": \"Predicted\"}, {\"date\": \"2023-05-24T00:00:00\", \"y_test\": 583.0, \"y_pred\": 590.5323768223225, \"label\": \"Actual\", \"predicted_label\": \"Predicted\"}, {\"date\": \"2023-05-25T00:00:00\", \"y_test\": 583.2999877929688, \"y_pred\": 585.6277567463047, \"label\": \"Actual\", \"predicted_label\": \"Predicted\"}, {\"date\": \"2023-05-26T00:00:00\", \"y_test\": 563.0499877929688, \"y_pred\": 570.5921154818556, \"label\": \"Actual\", \"predicted_label\": \"Predicted\"}, {\"date\": \"2023-05-30T00:00:00\", \"y_test\": 550.0, \"y_pred\": 555.4947068344753, \"label\": \"Actual\", \"predicted_label\": \"Predicted\"}, {\"date\": \"2023-05-31T00:00:00\", \"y_test\": 549.0, \"y_pred\": 546.7120444555408, \"label\": \"Actual\", \"predicted_label\": \"Predicted\"}]}}, {\"mode\": \"vega-lite\"});\n",
       "</script>"
      ],
      "text/plain": [
       "alt.LayerChart(...)"
      ]
     },
     "execution_count": 31,
     "metadata": {},
     "output_type": "execute_result"
    }
   ],
   "source": [
    "import altair as alt\n",
    "\n",
    "alt.themes.enable('fivethirtyeight')\n",
    "\n",
    "predictions_df['date'] = pd.to_datetime(predictions_df['date'])\n",
    "\n",
    "predictions_df['label'] = 'Actual'\n",
    "predictions_df['predicted_label'] = 'Predicted'\n",
    "\n",
    "# Actual high price line\n",
    "line1 = alt.Chart(predictions_df).mark_line(strokeWidth=2).encode(\n",
    "    x='date:T',\n",
    "    y=alt.Y('y_test:Q', title='Price', scale=alt.Scale(zero=False)),\n",
    "    color=alt.Color('label:N', legend=alt.Legend(title=\"Line Type\")),\n",
    "    tooltip=['date', 'y_test', 'y_pred']\n",
    ")\n",
    "\n",
    "# Predicted high price line\n",
    "line2 = alt.Chart(predictions_df).mark_line(strokeWidth=1, strokeDash=[3, 3]).encode(\n",
    "    x='date:T',\n",
    "    y=alt.Y('y_pred:Q', title='', scale=alt.Scale(zero=False)),\n",
    "    color=alt.Color('predicted_label:N', legend=alt.Legend(title=\"Line Type\")),\n",
    "    tooltip=['date', 'y_test', 'y_pred']\n",
    ")\n",
    "\n",
    "# Combine the two lines\n",
    "chart = alt.layer(line1, line2).properties(\n",
    "    title='Actual vs Predicted High Prices',\n",
    "    width=650,\n",
    "    height=400\n",
    ").interactive()\n",
    "\n",
    "chart"
   ]
  },
  {
   "cell_type": "markdown",
   "id": "d2c47f8d",
   "metadata": {},
   "source": [
    "Repeat the process for the top 50 features without sentiment of ELGIEQUIP.BO"
   ]
  },
  {
   "cell_type": "code",
   "execution_count": 32,
   "id": "6c999e56",
   "metadata": {},
   "outputs": [],
   "source": [
    "df = pd.read_csv('../../datasets/processed_data/combined_features/ELGIEQUIP.BO.csv')"
   ]
  },
  {
   "cell_type": "code",
   "execution_count": 33,
   "id": "a0ea6323",
   "metadata": {},
   "outputs": [],
   "source": [
    "df_without_sentiment = df.drop(columns=['agg_polarity', 'agg_compound', 'topic_polarity', 'topic_compound', 'ticker_polarity', 'ticker_compound'])"
   ]
  },
  {
   "cell_type": "code",
   "execution_count": 34,
   "id": "89ef90cb",
   "metadata": {},
   "outputs": [],
   "source": [
    "df_without_sentiment = create_custom_target(df_without_sentiment)"
   ]
  },
  {
   "cell_type": "code",
   "execution_count": 35,
   "id": "036103bb",
   "metadata": {},
   "outputs": [],
   "source": [
    "# Drop cols with NaN values\n",
    "df_without_sentiment = df_without_sentiment.dropna(axis=1, how='all')\n",
    "df_without_sentiment.fillna(method='ffill', inplace=True)"
   ]
  },
  {
   "cell_type": "code",
   "execution_count": 36,
   "id": "813972a8",
   "metadata": {},
   "outputs": [],
   "source": [
    "combined_date_df = df_without_sentiment['date']\n",
    "train_date, test_date = train_test_split(combined_date_df, train_size=0.8, shuffle=False)"
   ]
  },
  {
   "cell_type": "code",
   "execution_count": 37,
   "id": "a6f7512d",
   "metadata": {},
   "outputs": [],
   "source": [
    "df_without_date = df_without_sentiment.drop(columns=[\"date\"])"
   ]
  },
  {
   "cell_type": "code",
   "execution_count": 38,
   "id": "a3e45327",
   "metadata": {},
   "outputs": [],
   "source": [
    "df_without_date.dropna(inplace=True)"
   ]
  },
  {
   "cell_type": "code",
   "execution_count": 39,
   "id": "b1ec0f23",
   "metadata": {},
   "outputs": [],
   "source": [
    "# do train/test split the data with shuffle = False\n",
    "train_data, test_data = train_test_split(df_without_date, train_size=0.8, shuffle=False)\n",
    "\n",
    "# convert timeseries to be used in supervise learning model\n",
    "X_train, y_train, indx_train = timeseries_to_supervise(train_data, window_size, 'ln_target')\n",
    "\n",
    "# convert timeseries to be used in supervise learning model    \n",
    "X_test, y_test, indx_test = timeseries_to_supervise(test_data, window_size, 'ln_target')  "
   ]
  },
  {
   "cell_type": "code",
   "execution_count": 40,
   "id": "ecaeea79",
   "metadata": {},
   "outputs": [],
   "source": [
    "selector = SelectKBest(score_func=f_regression, k=50)\n",
    "X_train_50 = selector.fit_transform(X_train, y_train)\n",
    "X_test_50 = selector.transform(X_test)"
   ]
  },
  {
   "cell_type": "code",
   "execution_count": 41,
   "id": "6905b440",
   "metadata": {},
   "outputs": [
    {
     "name": "stdout",
     "output_type": "stream",
     "text": [
      "Best parameters:  {'fit_intercept': False}\n",
      "Best cross-validation score:  9.325578841168264\n"
     ]
    },
    {
     "data": {
      "text/html": [
       "<style>#sk-container-id-2 {color: black;background-color: white;}#sk-container-id-2 pre{padding: 0;}#sk-container-id-2 div.sk-toggleable {background-color: white;}#sk-container-id-2 label.sk-toggleable__label {cursor: pointer;display: block;width: 100%;margin-bottom: 0;padding: 0.3em;box-sizing: border-box;text-align: center;}#sk-container-id-2 label.sk-toggleable__label-arrow:before {content: \"▸\";float: left;margin-right: 0.25em;color: #696969;}#sk-container-id-2 label.sk-toggleable__label-arrow:hover:before {color: black;}#sk-container-id-2 div.sk-estimator:hover label.sk-toggleable__label-arrow:before {color: black;}#sk-container-id-2 div.sk-toggleable__content {max-height: 0;max-width: 0;overflow: hidden;text-align: left;background-color: #f0f8ff;}#sk-container-id-2 div.sk-toggleable__content pre {margin: 0.2em;color: black;border-radius: 0.25em;background-color: #f0f8ff;}#sk-container-id-2 input.sk-toggleable__control:checked~div.sk-toggleable__content {max-height: 200px;max-width: 100%;overflow: auto;}#sk-container-id-2 input.sk-toggleable__control:checked~label.sk-toggleable__label-arrow:before {content: \"▾\";}#sk-container-id-2 div.sk-estimator input.sk-toggleable__control:checked~label.sk-toggleable__label {background-color: #d4ebff;}#sk-container-id-2 div.sk-label input.sk-toggleable__control:checked~label.sk-toggleable__label {background-color: #d4ebff;}#sk-container-id-2 input.sk-hidden--visually {border: 0;clip: rect(1px 1px 1px 1px);clip: rect(1px, 1px, 1px, 1px);height: 1px;margin: -1px;overflow: hidden;padding: 0;position: absolute;width: 1px;}#sk-container-id-2 div.sk-estimator {font-family: monospace;background-color: #f0f8ff;border: 1px dotted black;border-radius: 0.25em;box-sizing: border-box;margin-bottom: 0.5em;}#sk-container-id-2 div.sk-estimator:hover {background-color: #d4ebff;}#sk-container-id-2 div.sk-parallel-item::after {content: \"\";width: 100%;border-bottom: 1px solid gray;flex-grow: 1;}#sk-container-id-2 div.sk-label:hover label.sk-toggleable__label {background-color: #d4ebff;}#sk-container-id-2 div.sk-serial::before {content: \"\";position: absolute;border-left: 1px solid gray;box-sizing: border-box;top: 0;bottom: 0;left: 50%;z-index: 0;}#sk-container-id-2 div.sk-serial {display: flex;flex-direction: column;align-items: center;background-color: white;padding-right: 0.2em;padding-left: 0.2em;position: relative;}#sk-container-id-2 div.sk-item {position: relative;z-index: 1;}#sk-container-id-2 div.sk-parallel {display: flex;align-items: stretch;justify-content: center;background-color: white;position: relative;}#sk-container-id-2 div.sk-item::before, #sk-container-id-2 div.sk-parallel-item::before {content: \"\";position: absolute;border-left: 1px solid gray;box-sizing: border-box;top: 0;bottom: 0;left: 50%;z-index: -1;}#sk-container-id-2 div.sk-parallel-item {display: flex;flex-direction: column;z-index: 1;position: relative;background-color: white;}#sk-container-id-2 div.sk-parallel-item:first-child::after {align-self: flex-end;width: 50%;}#sk-container-id-2 div.sk-parallel-item:last-child::after {align-self: flex-start;width: 50%;}#sk-container-id-2 div.sk-parallel-item:only-child::after {width: 0;}#sk-container-id-2 div.sk-dashed-wrapped {border: 1px dashed gray;margin: 0 0.4em 0.5em 0.4em;box-sizing: border-box;padding-bottom: 0.4em;background-color: white;}#sk-container-id-2 div.sk-label label {font-family: monospace;font-weight: bold;display: inline-block;line-height: 1.2em;}#sk-container-id-2 div.sk-label-container {text-align: center;}#sk-container-id-2 div.sk-container {/* jupyter's `normalize.less` sets `[hidden] { display: none; }` but bootstrap.min.css set `[hidden] { display: none !important; }` so we also need the `!important` here to be able to override the default hidden behavior on the sphinx rendered scikit-learn.org. See: https://github.com/scikit-learn/scikit-learn/issues/21755 */display: inline-block !important;position: relative;}#sk-container-id-2 div.sk-text-repr-fallback {display: none;}</style><div id=\"sk-container-id-2\" class=\"sk-top-container\"><div class=\"sk-text-repr-fallback\"><pre>LinearRegression(fit_intercept=False)</pre><b>In a Jupyter environment, please rerun this cell to show the HTML representation or trust the notebook. <br />On GitHub, the HTML representation is unable to render, please try loading this page with nbviewer.org.</b></div><div class=\"sk-container\" hidden><div class=\"sk-item\"><div class=\"sk-estimator sk-toggleable\"><input class=\"sk-toggleable__control sk-hidden--visually\" id=\"sk-estimator-id-2\" type=\"checkbox\" checked><label for=\"sk-estimator-id-2\" class=\"sk-toggleable__label sk-toggleable__label-arrow\">LinearRegression</label><div class=\"sk-toggleable__content\"><pre>LinearRegression(fit_intercept=False)</pre></div></div></div></div></div>"
      ],
      "text/plain": [
       "LinearRegression(fit_intercept=False)"
      ]
     },
     "execution_count": 41,
     "metadata": {},
     "output_type": "execute_result"
    }
   ],
   "source": [
    "linear_reg = LinearRegression()\n",
    "\n",
    "param_grid = {\n",
    "    'fit_intercept': [True, False],         \n",
    "}\n",
    "\n",
    "grid_search = GridSearchCV(linear_reg, param_grid, cv=5, scoring='neg_mean_squared_error', n_jobs=-1)\n",
    "grid_search.fit(X_train_50, y_train)\n",
    "\n",
    "print(\"Best parameters: \", grid_search.best_params_)\n",
    "print(\"Best cross-validation score: \", -grid_search.best_score_)\n",
    "\n",
    "model_50 = grid_search.best_estimator_\n",
    "model_50.fit(X_train_50, y_train)"
   ]
  },
  {
   "cell_type": "code",
   "execution_count": 42,
   "id": "e6a04322",
   "metadata": {},
   "outputs": [],
   "source": [
    "predictions_df, mape, rmse = evaluate_model(model_50, window_size, test_data, test_date, X_test_50, y_test)"
   ]
  },
  {
   "cell_type": "code",
   "execution_count": 43,
   "id": "c31e93b5",
   "metadata": {},
   "outputs": [
    {
     "data": {
      "text/plain": [
       "(           date      y_test      y_pred\n",
       " 0    2020-08-25  114.199997  118.301923\n",
       " 1    2020-08-26  113.900002  116.425265\n",
       " 2    2020-08-27  115.000000  117.306102\n",
       " 3    2020-08-28  115.675003  117.465682\n",
       " 4    2020-08-31  115.000000  116.466288\n",
       " ..          ...         ...         ...\n",
       " 735  2023-05-24  583.000000  587.986767\n",
       " 736  2023-05-25  583.299988  583.828207\n",
       " 737  2023-05-26  563.049988  568.827425\n",
       " 738  2023-05-30  550.000000  552.306251\n",
       " 739  2023-05-31  549.000000  544.132625\n",
       " \n",
       " [740 rows x 3 columns],\n",
       " 0.017562207052635306,\n",
       " 9.13656705535197)"
      ]
     },
     "execution_count": 43,
     "metadata": {},
     "output_type": "execute_result"
    }
   ],
   "source": [
    "predictions_df, mape, rmse"
   ]
  },
  {
   "cell_type": "code",
   "execution_count": 44,
   "id": "0096cf6f",
   "metadata": {},
   "outputs": [],
   "source": [
    "df.to_csv('lr_ELGIEQUIP_without_sentiment.csv', index=False)"
   ]
  },
  {
   "cell_type": "code",
   "execution_count": 45,
   "id": "f6688fb1",
   "metadata": {},
   "outputs": [
    {
     "name": "stdout",
     "output_type": "stream",
     "text": [
      "MAPE for model with top 50 features without sentiment features: 1.76%\n"
     ]
    }
   ],
   "source": [
    "print(f\"MAPE for model with top 50 features without sentiment features: {mape*100:.2f}%\")"
   ]
  },
  {
   "cell_type": "code",
   "execution_count": 46,
   "id": "096712f0",
   "metadata": {},
   "outputs": [
    {
     "name": "stdout",
     "output_type": "stream",
     "text": [
      "trend_ema_slow: 0.007290970905299798\n",
      "trend_macd_signal: -0.005011286821535551\n",
      "trend_mass_index: -0.003271710309079676\n",
      "trend_vortex_ind_diff: 0.003203415969423394\n",
      "trend_sma_fast: -0.00288273802255256\n",
      "trend_sma_slow: -0.0024702843962163337\n",
      "volatility_kchi: 0.0016549118991988556\n",
      "trend_vortex_ind_neg: 0.0015257915055808555\n",
      "volatility_atr: 0.0014692584328491758\n",
      "volatility_bbm: -0.0011322548529605486\n"
     ]
    }
   ],
   "source": [
    "feature_names = df.columns.tolist()\n",
    "\n",
    "# Get coefficients from the model\n",
    "coefficients = model_50.coef_\n",
    "\n",
    "# Map coefficients to corresponding feature names\n",
    "feature_coefficient_mapping = dict(zip(feature_names, coefficients))\n",
    "\n",
    "# Sort by absolute coefficient values (magnitude)\n",
    "sorted_features = sorted(feature_coefficient_mapping.items(), key=lambda x: abs(x[1]), reverse=True)\n",
    "\n",
    "# Display top 10\n",
    "for feature, coef in sorted_features[:10]:\n",
    "    print(f\"{feature}: {coef}\")"
   ]
  },
  {
   "cell_type": "code",
   "execution_count": 47,
   "id": "c42d3f2a",
   "metadata": {},
   "outputs": [
    {
     "data": {
      "text/html": [
       "\n",
       "<style>\n",
       "  #altair-viz-0d4cd8e941ee49938da91821b49d0769.vega-embed {\n",
       "    width: 100%;\n",
       "    display: flex;\n",
       "  }\n",
       "\n",
       "  #altair-viz-0d4cd8e941ee49938da91821b49d0769.vega-embed details,\n",
       "  #altair-viz-0d4cd8e941ee49938da91821b49d0769.vega-embed details summary {\n",
       "    position: relative;\n",
       "  }\n",
       "</style>\n",
       "<div id=\"altair-viz-0d4cd8e941ee49938da91821b49d0769\"></div>\n",
       "<script type=\"text/javascript\">\n",
       "  var VEGA_DEBUG = (typeof VEGA_DEBUG == \"undefined\") ? {} : VEGA_DEBUG;\n",
       "  (function(spec, embedOpt){\n",
       "    let outputDiv = document.currentScript.previousElementSibling;\n",
       "    if (outputDiv.id !== \"altair-viz-0d4cd8e941ee49938da91821b49d0769\") {\n",
       "      outputDiv = document.getElementById(\"altair-viz-0d4cd8e941ee49938da91821b49d0769\");\n",
       "    }\n",
       "    const paths = {\n",
       "      \"vega\": \"https://cdn.jsdelivr.net/npm/vega@5?noext\",\n",
       "      \"vega-lib\": \"https://cdn.jsdelivr.net/npm/vega-lib?noext\",\n",
       "      \"vega-lite\": \"https://cdn.jsdelivr.net/npm/vega-lite@5.8.0?noext\",\n",
       "      \"vega-embed\": \"https://cdn.jsdelivr.net/npm/vega-embed@6?noext\",\n",
       "    };\n",
       "\n",
       "    function maybeLoadScript(lib, version) {\n",
       "      var key = `${lib.replace(\"-\", \"\")}_version`;\n",
       "      return (VEGA_DEBUG[key] == version) ?\n",
       "        Promise.resolve(paths[lib]) :\n",
       "        new Promise(function(resolve, reject) {\n",
       "          var s = document.createElement('script');\n",
       "          document.getElementsByTagName(\"head\")[0].appendChild(s);\n",
       "          s.async = true;\n",
       "          s.onload = () => {\n",
       "            VEGA_DEBUG[key] = version;\n",
       "            return resolve(paths[lib]);\n",
       "          };\n",
       "          s.onerror = () => reject(`Error loading script: ${paths[lib]}`);\n",
       "          s.src = paths[lib];\n",
       "        });\n",
       "    }\n",
       "\n",
       "    function showError(err) {\n",
       "      outputDiv.innerHTML = `<div class=\"error\" style=\"color:red;\">${err}</div>`;\n",
       "      throw err;\n",
       "    }\n",
       "\n",
       "    function displayChart(vegaEmbed) {\n",
       "      vegaEmbed(outputDiv, spec, embedOpt)\n",
       "        .catch(err => showError(`Javascript Error: ${err.message}<br>This usually means there's a typo in your chart specification. See the javascript console for the full traceback.`));\n",
       "    }\n",
       "\n",
       "    if(typeof define === \"function\" && define.amd) {\n",
       "      requirejs.config({paths});\n",
       "      require([\"vega-embed\"], displayChart, err => showError(`Error loading script: ${err.message}`));\n",
       "    } else {\n",
       "      maybeLoadScript(\"vega\", \"5\")\n",
       "        .then(() => maybeLoadScript(\"vega-lite\", \"5.8.0\"))\n",
       "        .then(() => maybeLoadScript(\"vega-embed\", \"6\"))\n",
       "        .catch(showError)\n",
       "        .then(() => displayChart(vegaEmbed));\n",
       "    }\n",
       "  })({\"usermeta\": {\"embedOptions\": {\"theme\": \"fivethirtyeight\"}}, \"config\": {\"view\": {\"continuousWidth\": 300, \"continuousHeight\": 300}}, \"layer\": [{\"mark\": {\"type\": \"line\", \"strokeWidth\": 2}, \"encoding\": {\"color\": {\"field\": \"label\", \"legend\": {\"title\": \"Line Type\"}, \"type\": \"nominal\"}, \"tooltip\": [{\"field\": \"date\", \"type\": \"temporal\"}, {\"field\": \"y_test\", \"type\": \"quantitative\"}, {\"field\": \"y_pred\", \"type\": \"quantitative\"}], \"x\": {\"field\": \"date\", \"type\": \"temporal\"}, \"y\": {\"field\": \"y_test\", \"scale\": {\"zero\": false}, \"title\": \"Price\", \"type\": \"quantitative\"}}, \"name\": \"view_2\"}, {\"mark\": {\"type\": \"line\", \"strokeDash\": [3, 3], \"strokeWidth\": 1}, \"encoding\": {\"color\": {\"field\": \"predicted_label\", \"legend\": {\"title\": \"Line Type\"}, \"type\": \"nominal\"}, \"tooltip\": [{\"field\": \"date\", \"type\": \"temporal\"}, {\"field\": \"y_test\", \"type\": \"quantitative\"}, {\"field\": \"y_pred\", \"type\": \"quantitative\"}], \"x\": {\"field\": \"date\", \"type\": \"temporal\"}, \"y\": {\"field\": \"y_pred\", \"scale\": {\"zero\": false}, \"title\": \"\", \"type\": \"quantitative\"}}}], \"data\": {\"name\": \"data-6802b2034655aad32156eaad0f53cb2e\"}, \"height\": 400, \"params\": [{\"name\": \"param_2\", \"select\": {\"type\": \"interval\", \"encodings\": [\"x\", \"y\"]}, \"bind\": \"scales\", \"views\": [\"view_2\"]}], \"title\": \"Actual vs Predicted High Prices\", \"width\": 650, \"$schema\": \"https://vega.github.io/schema/vega-lite/v5.8.0.json\", \"datasets\": {\"data-6802b2034655aad32156eaad0f53cb2e\": [{\"date\": \"2020-08-25T00:00:00\", \"y_test\": 114.1999969482422, \"y_pred\": 118.30192262164937, \"label\": \"Actual\", \"predicted_label\": \"Predicted\"}, {\"date\": \"2020-08-26T00:00:00\", \"y_test\": 113.90000152587892, \"y_pred\": 116.4252653664358, \"label\": \"Actual\", \"predicted_label\": \"Predicted\"}, {\"date\": \"2020-08-27T00:00:00\", \"y_test\": 114.99999999999999, \"y_pred\": 117.30610156222849, \"label\": \"Actual\", \"predicted_label\": \"Predicted\"}, {\"date\": \"2020-08-28T00:00:00\", \"y_test\": 115.6750030517578, \"y_pred\": 117.4656823358782, \"label\": \"Actual\", \"predicted_label\": \"Predicted\"}, {\"date\": \"2020-08-31T00:00:00\", \"y_test\": 115.0, \"y_pred\": 116.46628805499076, \"label\": \"Actual\", \"predicted_label\": \"Predicted\"}, {\"date\": \"2020-09-01T00:00:00\", \"y_test\": 111.92500305175778, \"y_pred\": 113.92121735675049, \"label\": \"Actual\", \"predicted_label\": \"Predicted\"}, {\"date\": \"2020-09-02T00:00:00\", \"y_test\": 112.4499969482422, \"y_pred\": 114.73029517570438, \"label\": \"Actual\", \"predicted_label\": \"Predicted\"}, {\"date\": \"2020-09-03T00:00:00\", \"y_test\": 114.0, \"y_pred\": 113.72304748388684, \"label\": \"Actual\", \"predicted_label\": \"Predicted\"}, {\"date\": \"2020-09-04T00:00:00\", \"y_test\": 111.4749984741211, \"y_pred\": 115.98624768635783, \"label\": \"Actual\", \"predicted_label\": \"Predicted\"}, {\"date\": \"2020-09-07T00:00:00\", \"y_test\": 109.5500030517578, \"y_pred\": 113.2745714317642, \"label\": \"Actual\", \"predicted_label\": \"Predicted\"}, {\"date\": \"2020-09-08T00:00:00\", \"y_test\": 110.9000015258789, \"y_pred\": 112.07135931289147, \"label\": \"Actual\", \"predicted_label\": \"Predicted\"}, {\"date\": \"2020-09-09T00:00:00\", \"y_test\": 108.3249969482422, \"y_pred\": 111.54333585859366, \"label\": \"Actual\", \"predicted_label\": \"Predicted\"}, {\"date\": \"2020-09-10T00:00:00\", \"y_test\": 110.875, \"y_pred\": 110.16821411527046, \"label\": \"Actual\", \"predicted_label\": \"Predicted\"}, {\"date\": \"2020-09-11T00:00:00\", \"y_test\": 115.50000000000001, \"y_pred\": 112.50202101773297, \"label\": \"Actual\", \"predicted_label\": \"Predicted\"}, {\"date\": \"2020-09-14T00:00:00\", \"y_test\": 118.67500305175778, \"y_pred\": 114.70825509291558, \"label\": \"Actual\", \"predicted_label\": \"Predicted\"}, {\"date\": \"2020-09-15T00:00:00\", \"y_test\": 118.8000030517578, \"y_pred\": 119.55114121635852, \"label\": \"Actual\", \"predicted_label\": \"Predicted\"}, {\"date\": \"2020-09-16T00:00:00\", \"y_test\": 120.82499694824219, \"y_pred\": 119.72885681028433, \"label\": \"Actual\", \"predicted_label\": \"Predicted\"}, {\"date\": \"2020-09-17T00:00:00\", \"y_test\": 120.0, \"y_pred\": 121.51378675526327, \"label\": \"Actual\", \"predicted_label\": \"Predicted\"}, {\"date\": \"2020-09-18T00:00:00\", \"y_test\": 120.27500152587889, \"y_pred\": 121.908223182469, \"label\": \"Actual\", \"predicted_label\": \"Predicted\"}, {\"date\": \"2020-09-21T00:00:00\", \"y_test\": 128.72500610351562, \"y_pred\": 121.53502979192291, \"label\": \"Actual\", \"predicted_label\": \"Predicted\"}, {\"date\": \"2020-09-22T00:00:00\", \"y_test\": 129.0749969482422, \"y_pred\": 128.76888032929853, \"label\": \"Actual\", \"predicted_label\": \"Predicted\"}, {\"date\": \"2020-09-23T00:00:00\", \"y_test\": 127.4749984741211, \"y_pred\": 125.8135218410112, \"label\": \"Actual\", \"predicted_label\": \"Predicted\"}, {\"date\": \"2020-09-24T00:00:00\", \"y_test\": 134.0500030517578, \"y_pred\": 125.20675243653254, \"label\": \"Actual\", \"predicted_label\": \"Predicted\"}, {\"date\": \"2020-09-25T00:00:00\", \"y_test\": 128.9499969482422, \"y_pred\": 127.76340743076746, \"label\": \"Actual\", \"predicted_label\": \"Predicted\"}, {\"date\": \"2020-09-28T00:00:00\", \"y_test\": 125.3000030517578, \"y_pred\": 126.68783636176762, \"label\": \"Actual\", \"predicted_label\": \"Predicted\"}, {\"date\": \"2020-09-29T00:00:00\", \"y_test\": 127.0, \"y_pred\": 123.68115168470588, \"label\": \"Actual\", \"predicted_label\": \"Predicted\"}, {\"date\": \"2020-09-30T00:00:00\", \"y_test\": 121.9000015258789, \"y_pred\": 121.60418371527572, \"label\": \"Actual\", \"predicted_label\": \"Predicted\"}, {\"date\": \"2020-10-01T00:00:00\", \"y_test\": 121.9000015258789, \"y_pred\": 123.65457262651657, \"label\": \"Actual\", \"predicted_label\": \"Predicted\"}, {\"date\": \"2020-10-05T00:00:00\", \"y_test\": 122.99999999999999, \"y_pred\": 121.85841092919073, \"label\": \"Actual\", \"predicted_label\": \"Predicted\"}, {\"date\": \"2020-10-06T00:00:00\", \"y_test\": 123.84999847412111, \"y_pred\": 123.60087744548362, \"label\": \"Actual\", \"predicted_label\": \"Predicted\"}, {\"date\": \"2020-10-07T00:00:00\", \"y_test\": 121.4000015258789, \"y_pred\": 120.59070646802736, \"label\": \"Actual\", \"predicted_label\": \"Predicted\"}, {\"date\": \"2020-10-08T00:00:00\", \"y_test\": 120.5, \"y_pred\": 122.77438178875171, \"label\": \"Actual\", \"predicted_label\": \"Predicted\"}, {\"date\": \"2020-10-09T00:00:00\", \"y_test\": 117.9000015258789, \"y_pred\": 120.6375565085162, \"label\": \"Actual\", \"predicted_label\": \"Predicted\"}, {\"date\": \"2020-10-12T00:00:00\", \"y_test\": 116.0, \"y_pred\": 115.58622369154705, \"label\": \"Actual\", \"predicted_label\": \"Predicted\"}, {\"date\": \"2020-10-13T00:00:00\", \"y_test\": 113.25, \"y_pred\": 110.67960321842048, \"label\": \"Actual\", \"predicted_label\": \"Predicted\"}, {\"date\": \"2020-10-14T00:00:00\", \"y_test\": 119.9000015258789, \"y_pred\": 114.52670633646164, \"label\": \"Actual\", \"predicted_label\": \"Predicted\"}, {\"date\": \"2020-10-15T00:00:00\", \"y_test\": 111.5, \"y_pred\": 114.78713728601076, \"label\": \"Actual\", \"predicted_label\": \"Predicted\"}, {\"date\": \"2020-10-16T00:00:00\", \"y_test\": 111.5, \"y_pred\": 110.3716978153262, \"label\": \"Actual\", \"predicted_label\": \"Predicted\"}, {\"date\": \"2020-10-19T00:00:00\", \"y_test\": 113.5, \"y_pred\": 113.09799243386095, \"label\": \"Actual\", \"predicted_label\": \"Predicted\"}, {\"date\": \"2020-10-20T00:00:00\", \"y_test\": 112.05000305175778, \"y_pred\": 114.32165882804878, \"label\": \"Actual\", \"predicted_label\": \"Predicted\"}, {\"date\": \"2020-10-21T00:00:00\", \"y_test\": 111.8499984741211, \"y_pred\": 111.98795628574199, \"label\": \"Actual\", \"predicted_label\": \"Predicted\"}, {\"date\": \"2020-10-22T00:00:00\", \"y_test\": 111.80000305175778, \"y_pred\": 113.8593661097944, \"label\": \"Actual\", \"predicted_label\": \"Predicted\"}, {\"date\": \"2020-10-23T00:00:00\", \"y_test\": 111.5500030517578, \"y_pred\": 112.50040889657858, \"label\": \"Actual\", \"predicted_label\": \"Predicted\"}, {\"date\": \"2020-10-26T00:00:00\", \"y_test\": 111.5500030517578, \"y_pred\": 112.71831862005928, \"label\": \"Actual\", \"predicted_label\": \"Predicted\"}, {\"date\": \"2020-10-27T00:00:00\", \"y_test\": 108.0, \"y_pred\": 110.90931230154203, \"label\": \"Actual\", \"predicted_label\": \"Predicted\"}, {\"date\": \"2020-10-28T00:00:00\", \"y_test\": 108.3000030517578, \"y_pred\": 107.8518099212221, \"label\": \"Actual\", \"predicted_label\": \"Predicted\"}, {\"date\": \"2020-10-29T00:00:00\", \"y_test\": 106.5999984741211, \"y_pred\": 107.58077194371967, \"label\": \"Actual\", \"predicted_label\": \"Predicted\"}, {\"date\": \"2020-10-30T00:00:00\", \"y_test\": 106.50000000000001, \"y_pred\": 106.41865595035752, \"label\": \"Actual\", \"predicted_label\": \"Predicted\"}, {\"date\": \"2020-11-02T00:00:00\", \"y_test\": 108.09999847412108, \"y_pred\": 106.14956578365728, \"label\": \"Actual\", \"predicted_label\": \"Predicted\"}, {\"date\": \"2020-11-03T00:00:00\", \"y_test\": 109.3000030517578, \"y_pred\": 108.33256396290284, \"label\": \"Actual\", \"predicted_label\": \"Predicted\"}, {\"date\": \"2020-11-04T00:00:00\", \"y_test\": 109.99999999999999, \"y_pred\": 110.29581088973721, \"label\": \"Actual\", \"predicted_label\": \"Predicted\"}, {\"date\": \"2020-11-05T00:00:00\", \"y_test\": 108.8499984741211, \"y_pred\": 109.40253364969001, \"label\": \"Actual\", \"predicted_label\": \"Predicted\"}, {\"date\": \"2020-11-06T00:00:00\", \"y_test\": 108.65000152587892, \"y_pred\": 110.0717045544846, \"label\": \"Actual\", \"predicted_label\": \"Predicted\"}, {\"date\": \"2020-11-09T00:00:00\", \"y_test\": 124.59999847412108, \"y_pred\": 109.84897081968154, \"label\": \"Actual\", \"predicted_label\": \"Predicted\"}, {\"date\": \"2020-11-10T00:00:00\", \"y_test\": 123.25, \"y_pred\": 123.59836039666588, \"label\": \"Actual\", \"predicted_label\": \"Predicted\"}, {\"date\": \"2020-11-11T00:00:00\", \"y_test\": 125.00000000000001, \"y_pred\": 125.7912008407063, \"label\": \"Actual\", \"predicted_label\": \"Predicted\"}, {\"date\": \"2020-11-12T00:00:00\", \"y_test\": 122.1999969482422, \"y_pred\": 125.07467074707962, \"label\": \"Actual\", \"predicted_label\": \"Predicted\"}, {\"date\": \"2020-11-13T00:00:00\", \"y_test\": 124.80000305175778, \"y_pred\": 120.72462319995847, \"label\": \"Actual\", \"predicted_label\": \"Predicted\"}, {\"date\": \"2020-11-14T00:00:00\", \"y_test\": 124.6999969482422, \"y_pred\": 120.67500158440012, \"label\": \"Actual\", \"predicted_label\": \"Predicted\"}, {\"date\": \"2020-11-17T00:00:00\", \"y_test\": 122.0, \"y_pred\": 123.41842281045622, \"label\": \"Actual\", \"predicted_label\": \"Predicted\"}, {\"date\": \"2020-11-18T00:00:00\", \"y_test\": 120.9000015258789, \"y_pred\": 120.21624667208249, \"label\": \"Actual\", \"predicted_label\": \"Predicted\"}, {\"date\": \"2020-11-19T00:00:00\", \"y_test\": 130.60000610351562, \"y_pred\": 123.15406493320916, \"label\": \"Actual\", \"predicted_label\": \"Predicted\"}, {\"date\": \"2020-11-20T00:00:00\", \"y_test\": 128.89999389648438, \"y_pred\": 130.46736065462161, \"label\": \"Actual\", \"predicted_label\": \"Predicted\"}, {\"date\": \"2020-11-23T00:00:00\", \"y_test\": 128.5, \"y_pred\": 130.38765153326344, \"label\": \"Actual\", \"predicted_label\": \"Predicted\"}, {\"date\": \"2020-11-24T00:00:00\", \"y_test\": 137.5, \"y_pred\": 130.16775946043327, \"label\": \"Actual\", \"predicted_label\": \"Predicted\"}, {\"date\": \"2020-11-25T00:00:00\", \"y_test\": 137.9499969482422, \"y_pred\": 137.2584678162832, \"label\": \"Actual\", \"predicted_label\": \"Predicted\"}, {\"date\": \"2020-11-26T00:00:00\", \"y_test\": 134.8000030517578, \"y_pred\": 134.7169294660061, \"label\": \"Actual\", \"predicted_label\": \"Predicted\"}, {\"date\": \"2020-11-27T00:00:00\", \"y_test\": 135.0, \"y_pred\": 135.3465225866636, \"label\": \"Actual\", \"predicted_label\": \"Predicted\"}, {\"date\": \"2020-12-01T00:00:00\", \"y_test\": 135.60000610351562, \"y_pred\": 137.30221684144493, \"label\": \"Actual\", \"predicted_label\": \"Predicted\"}, {\"date\": \"2020-12-02T00:00:00\", \"y_test\": 135.64999389648438, \"y_pred\": 139.1167166458654, \"label\": \"Actual\", \"predicted_label\": \"Predicted\"}, {\"date\": \"2020-12-03T00:00:00\", \"y_test\": 136.0, \"y_pred\": 138.22975327477076, \"label\": \"Actual\", \"predicted_label\": \"Predicted\"}, {\"date\": \"2020-12-04T00:00:00\", \"y_test\": 135.5, \"y_pred\": 136.34180944244667, \"label\": \"Actual\", \"predicted_label\": \"Predicted\"}, {\"date\": \"2020-12-07T00:00:00\", \"y_test\": 137.0, \"y_pred\": 137.41694990197408, \"label\": \"Actual\", \"predicted_label\": \"Predicted\"}, {\"date\": \"2020-12-08T00:00:00\", \"y_test\": 137.0, \"y_pred\": 138.97451579832597, \"label\": \"Actual\", \"predicted_label\": \"Predicted\"}, {\"date\": \"2020-12-09T00:00:00\", \"y_test\": 155.25, \"y_pred\": 138.9064881676854, \"label\": \"Actual\", \"predicted_label\": \"Predicted\"}, {\"date\": \"2020-12-10T00:00:00\", \"y_test\": 151.5500030517578, \"y_pred\": 152.78282472628854, \"label\": \"Actual\", \"predicted_label\": \"Predicted\"}, {\"date\": \"2020-12-11T00:00:00\", \"y_test\": 158.14999389648438, \"y_pred\": 150.46098797696806, \"label\": \"Actual\", \"predicted_label\": \"Predicted\"}, {\"date\": \"2020-12-14T00:00:00\", \"y_test\": 169.0, \"y_pred\": 160.3275658651339, \"label\": \"Actual\", \"predicted_label\": \"Predicted\"}, {\"date\": \"2020-12-15T00:00:00\", \"y_test\": 162.4499969482422, \"y_pred\": 169.25238047757136, \"label\": \"Actual\", \"predicted_label\": \"Predicted\"}, {\"date\": \"2020-12-16T00:00:00\", \"y_test\": 161.85000610351562, \"y_pred\": 163.85637412725887, \"label\": \"Actual\", \"predicted_label\": \"Predicted\"}, {\"date\": \"2020-12-17T00:00:00\", \"y_test\": 160.89999389648438, \"y_pred\": 164.04316219989556, \"label\": \"Actual\", \"predicted_label\": \"Predicted\"}, {\"date\": \"2020-12-18T00:00:00\", \"y_test\": 160.25, \"y_pred\": 163.56037392761147, \"label\": \"Actual\", \"predicted_label\": \"Predicted\"}, {\"date\": \"2020-12-21T00:00:00\", \"y_test\": 160.00000000000003, \"y_pred\": 159.45593896751166, \"label\": \"Actual\", \"predicted_label\": \"Predicted\"}, {\"date\": \"2020-12-22T00:00:00\", \"y_test\": 153.89999389648438, \"y_pred\": 158.1929223822496, \"label\": \"Actual\", \"predicted_label\": \"Predicted\"}, {\"date\": \"2020-12-23T00:00:00\", \"y_test\": 158.0, \"y_pred\": 157.8825032795144, \"label\": \"Actual\", \"predicted_label\": \"Predicted\"}, {\"date\": \"2020-12-24T00:00:00\", \"y_test\": 159.99999999999997, \"y_pred\": 161.09005878234623, \"label\": \"Actual\", \"predicted_label\": \"Predicted\"}, {\"date\": \"2020-12-28T00:00:00\", \"y_test\": 160.35000610351562, \"y_pred\": 161.96209786585868, \"label\": \"Actual\", \"predicted_label\": \"Predicted\"}, {\"date\": \"2020-12-29T00:00:00\", \"y_test\": 160.64999389648438, \"y_pred\": 163.2973672532382, \"label\": \"Actual\", \"predicted_label\": \"Predicted\"}, {\"date\": \"2020-12-30T00:00:00\", \"y_test\": 157.39999389648438, \"y_pred\": 158.9658826422413, \"label\": \"Actual\", \"predicted_label\": \"Predicted\"}, {\"date\": \"2020-12-31T00:00:00\", \"y_test\": 156.10000610351562, \"y_pred\": 158.40641812817648, \"label\": \"Actual\", \"predicted_label\": \"Predicted\"}, {\"date\": \"2021-01-01T00:00:00\", \"y_test\": 164.0, \"y_pred\": 157.07535688443596, \"label\": \"Actual\", \"predicted_label\": \"Predicted\"}, {\"date\": \"2021-01-04T00:00:00\", \"y_test\": 160.0, \"y_pred\": 163.6099062233541, \"label\": \"Actual\", \"predicted_label\": \"Predicted\"}, {\"date\": \"2021-01-05T00:00:00\", \"y_test\": 160.14999389648438, \"y_pred\": 162.89750654997383, \"label\": \"Actual\", \"predicted_label\": \"Predicted\"}, {\"date\": \"2021-01-06T00:00:00\", \"y_test\": 160.0500030517578, \"y_pred\": 161.58289280370153, \"label\": \"Actual\", \"predicted_label\": \"Predicted\"}, {\"date\": \"2021-01-07T00:00:00\", \"y_test\": 160.85000610351562, \"y_pred\": 161.61565521740079, \"label\": \"Actual\", \"predicted_label\": \"Predicted\"}, {\"date\": \"2021-01-08T00:00:00\", \"y_test\": 183.25000000000003, \"y_pred\": 163.16185329661837, \"label\": \"Actual\", \"predicted_label\": \"Predicted\"}, {\"date\": \"2021-01-11T00:00:00\", \"y_test\": 193.80000305175784, \"y_pred\": 185.0796048343526, \"label\": \"Actual\", \"predicted_label\": \"Predicted\"}, {\"date\": \"2021-01-12T00:00:00\", \"y_test\": 181.1000061035156, \"y_pred\": 184.21916954050363, \"label\": \"Actual\", \"predicted_label\": \"Predicted\"}, {\"date\": \"2021-01-13T00:00:00\", \"y_test\": 179.5, \"y_pred\": 179.79192898647767, \"label\": \"Actual\", \"predicted_label\": \"Predicted\"}, {\"date\": \"2021-01-14T00:00:00\", \"y_test\": 175.14999389648438, \"y_pred\": 179.5770462747839, \"label\": \"Actual\", \"predicted_label\": \"Predicted\"}, {\"date\": \"2021-01-15T00:00:00\", \"y_test\": 170.60000610351562, \"y_pred\": 173.05570517911949, \"label\": \"Actual\", \"predicted_label\": \"Predicted\"}, {\"date\": \"2021-01-18T00:00:00\", \"y_test\": 169.8500061035156, \"y_pred\": 168.3843549018765, \"label\": \"Actual\", \"predicted_label\": \"Predicted\"}, {\"date\": \"2021-01-19T00:00:00\", \"y_test\": 166.25, \"y_pred\": 166.2959080395092, \"label\": \"Actual\", \"predicted_label\": \"Predicted\"}, {\"date\": \"2021-01-20T00:00:00\", \"y_test\": 166.0, \"y_pred\": 168.5092040462611, \"label\": \"Actual\", \"predicted_label\": \"Predicted\"}, {\"date\": \"2021-01-21T00:00:00\", \"y_test\": 165.0, \"y_pred\": 165.0064559423152, \"label\": \"Actual\", \"predicted_label\": \"Predicted\"}, {\"date\": \"2021-01-22T00:00:00\", \"y_test\": 166.1999969482422, \"y_pred\": 165.54364660722044, \"label\": \"Actual\", \"predicted_label\": \"Predicted\"}, {\"date\": \"2021-01-25T00:00:00\", \"y_test\": 162.60000610351562, \"y_pred\": 162.6415666555554, \"label\": \"Actual\", \"predicted_label\": \"Predicted\"}, {\"date\": \"2021-01-27T00:00:00\", \"y_test\": 156.0, \"y_pred\": 158.87516892081516, \"label\": \"Actual\", \"predicted_label\": \"Predicted\"}, {\"date\": \"2021-01-28T00:00:00\", \"y_test\": 164.0, \"y_pred\": 155.29860911826373, \"label\": \"Actual\", \"predicted_label\": \"Predicted\"}, {\"date\": \"2021-01-29T00:00:00\", \"y_test\": 160.94999694824216, \"y_pred\": 159.41390077503073, \"label\": \"Actual\", \"predicted_label\": \"Predicted\"}, {\"date\": \"2021-02-01T00:00:00\", \"y_test\": 161.60000610351562, \"y_pred\": 160.68210816925077, \"label\": \"Actual\", \"predicted_label\": \"Predicted\"}, {\"date\": \"2021-02-02T00:00:00\", \"y_test\": 165.39999389648438, \"y_pred\": 165.1377060076255, \"label\": \"Actual\", \"predicted_label\": \"Predicted\"}, {\"date\": \"2021-02-03T00:00:00\", \"y_test\": 166.4499969482422, \"y_pred\": 167.16585550145533, \"label\": \"Actual\", \"predicted_label\": \"Predicted\"}, {\"date\": \"2021-02-04T00:00:00\", \"y_test\": 166.50000000000003, \"y_pred\": 167.31268255711342, \"label\": \"Actual\", \"predicted_label\": \"Predicted\"}, {\"date\": \"2021-02-05T00:00:00\", \"y_test\": 166.4499969482422, \"y_pred\": 169.02785580546694, \"label\": \"Actual\", \"predicted_label\": \"Predicted\"}, {\"date\": \"2021-02-08T00:00:00\", \"y_test\": 176.64999389648438, \"y_pred\": 167.7763443882763, \"label\": \"Actual\", \"predicted_label\": \"Predicted\"}, {\"date\": \"2021-02-09T00:00:00\", \"y_test\": 181.3999938964844, \"y_pred\": 173.08288277194106, \"label\": \"Actual\", \"predicted_label\": \"Predicted\"}, {\"date\": \"2021-02-10T00:00:00\", \"y_test\": 178.0, \"y_pred\": 178.754771105113, \"label\": \"Actual\", \"predicted_label\": \"Predicted\"}, {\"date\": \"2021-02-11T00:00:00\", \"y_test\": 173.9499969482422, \"y_pred\": 173.01021527282586, \"label\": \"Actual\", \"predicted_label\": \"Predicted\"}, {\"date\": \"2021-02-12T00:00:00\", \"y_test\": 170.14999389648438, \"y_pred\": 169.3645702420867, \"label\": \"Actual\", \"predicted_label\": \"Predicted\"}, {\"date\": \"2021-02-15T00:00:00\", \"y_test\": 173.24999999999997, \"y_pred\": 171.56641579859775, \"label\": \"Actual\", \"predicted_label\": \"Predicted\"}, {\"date\": \"2021-02-16T00:00:00\", \"y_test\": 170.6999969482422, \"y_pred\": 168.423348584304, \"label\": \"Actual\", \"predicted_label\": \"Predicted\"}, {\"date\": \"2021-02-17T00:00:00\", \"y_test\": 175.4499969482422, \"y_pred\": 169.9331085138207, \"label\": \"Actual\", \"predicted_label\": \"Predicted\"}, {\"date\": \"2021-02-18T00:00:00\", \"y_test\": 172.9499969482422, \"y_pred\": 174.56181546648077, \"label\": \"Actual\", \"predicted_label\": \"Predicted\"}, {\"date\": \"2021-02-19T00:00:00\", \"y_test\": 168.4499969482422, \"y_pred\": 171.43207448489335, \"label\": \"Actual\", \"predicted_label\": \"Predicted\"}, {\"date\": \"2021-02-22T00:00:00\", \"y_test\": 163.9499969482422, \"y_pred\": 166.8197797458103, \"label\": \"Actual\", \"predicted_label\": \"Predicted\"}, {\"date\": \"2021-02-23T00:00:00\", \"y_test\": 163.60000610351565, \"y_pred\": 164.56084749538422, \"label\": \"Actual\", \"predicted_label\": \"Predicted\"}, {\"date\": \"2021-02-24T00:00:00\", \"y_test\": 168.99999999999997, \"y_pred\": 165.04063617167134, \"label\": \"Actual\", \"predicted_label\": \"Predicted\"}, {\"date\": \"2021-02-25T00:00:00\", \"y_test\": 183.00000000000003, \"y_pred\": 170.1366817346988, \"label\": \"Actual\", \"predicted_label\": \"Predicted\"}, {\"date\": \"2021-02-26T00:00:00\", \"y_test\": 192.3000030517578, \"y_pred\": 184.94596286426582, \"label\": \"Actual\", \"predicted_label\": \"Predicted\"}, {\"date\": \"2021-03-01T00:00:00\", \"y_test\": 187.60000610351557, \"y_pred\": 186.89486126027364, \"label\": \"Actual\", \"predicted_label\": \"Predicted\"}, {\"date\": \"2021-03-02T00:00:00\", \"y_test\": 185.8500061035156, \"y_pred\": 189.400838928003, \"label\": \"Actual\", \"predicted_label\": \"Predicted\"}, {\"date\": \"2021-03-03T00:00:00\", \"y_test\": 185.0, \"y_pred\": 184.8063792628606, \"label\": \"Actual\", \"predicted_label\": \"Predicted\"}, {\"date\": \"2021-03-04T00:00:00\", \"y_test\": 186.69999694824222, \"y_pred\": 183.7700847801251, \"label\": \"Actual\", \"predicted_label\": \"Predicted\"}, {\"date\": \"2021-03-05T00:00:00\", \"y_test\": 187.75, \"y_pred\": 184.39914613825715, \"label\": \"Actual\", \"predicted_label\": \"Predicted\"}, {\"date\": \"2021-03-08T00:00:00\", \"y_test\": 201.75000000000003, \"y_pred\": 189.45359694982875, \"label\": \"Actual\", \"predicted_label\": \"Predicted\"}, {\"date\": \"2021-03-08T00:00:00\", \"y_test\": 201.75, \"y_pred\": 204.9858361495285, \"label\": \"Actual\", \"predicted_label\": \"Predicted\"}, {\"date\": \"2021-03-08T00:00:00\", \"y_test\": 201.75, \"y_pred\": 203.2041213042758, \"label\": \"Actual\", \"predicted_label\": \"Predicted\"}, {\"date\": \"2021-03-08T00:00:00\", \"y_test\": 201.75, \"y_pred\": 203.4922629160591, \"label\": \"Actual\", \"predicted_label\": \"Predicted\"}, {\"date\": \"2021-03-08T00:00:00\", \"y_test\": 201.75, \"y_pred\": 203.26167511687592, \"label\": \"Actual\", \"predicted_label\": \"Predicted\"}, {\"date\": \"2021-03-08T00:00:00\", \"y_test\": 201.75, \"y_pred\": 203.380383736994, \"label\": \"Actual\", \"predicted_label\": \"Predicted\"}, {\"date\": \"2021-03-08T00:00:00\", \"y_test\": 201.75, \"y_pred\": 203.22646594771885, \"label\": \"Actual\", \"predicted_label\": \"Predicted\"}, {\"date\": \"2021-03-09T00:00:00\", \"y_test\": 211.5, \"y_pred\": 203.53856537911741, \"label\": \"Actual\", \"predicted_label\": \"Predicted\"}, {\"date\": \"2021-03-10T00:00:00\", \"y_test\": 206.05000305175778, \"y_pred\": 210.89696549375054, \"label\": \"Actual\", \"predicted_label\": \"Predicted\"}, {\"date\": \"2021-03-12T00:00:00\", \"y_test\": 208.44999694824216, \"y_pred\": 207.033596353973, \"label\": \"Actual\", \"predicted_label\": \"Predicted\"}, {\"date\": \"2021-03-15T00:00:00\", \"y_test\": 209.00000000000003, \"y_pred\": 205.59616108410398, \"label\": \"Actual\", \"predicted_label\": \"Predicted\"}, {\"date\": \"2021-03-16T00:00:00\", \"y_test\": 198.55000305175778, \"y_pred\": 199.5471135098904, \"label\": \"Actual\", \"predicted_label\": \"Predicted\"}, {\"date\": \"2021-03-17T00:00:00\", \"y_test\": 203.75, \"y_pred\": 198.58609397805773, \"label\": \"Actual\", \"predicted_label\": \"Predicted\"}, {\"date\": \"2021-03-18T00:00:00\", \"y_test\": 218.6999969482422, \"y_pred\": 203.41483029261863, \"label\": \"Actual\", \"predicted_label\": \"Predicted\"}, {\"date\": \"2021-03-18T00:00:00\", \"y_test\": 218.6999969482422, \"y_pred\": 197.71289886933877, \"label\": \"Actual\", \"predicted_label\": \"Predicted\"}, {\"date\": \"2021-03-18T00:00:00\", \"y_test\": 218.6999969482422, \"y_pred\": 197.6590510790093, \"label\": \"Actual\", \"predicted_label\": \"Predicted\"}, {\"date\": \"2021-03-18T00:00:00\", \"y_test\": 218.6999969482422, \"y_pred\": 196.59995258904848, \"label\": \"Actual\", \"predicted_label\": \"Predicted\"}, {\"date\": \"2021-03-19T00:00:00\", \"y_test\": 191.99999999999997, \"y_pred\": 197.22036091151494, \"label\": \"Actual\", \"predicted_label\": \"Predicted\"}, {\"date\": \"2021-03-22T00:00:00\", \"y_test\": 195.0, \"y_pred\": 195.02472413873727, \"label\": \"Actual\", \"predicted_label\": \"Predicted\"}, {\"date\": \"2021-03-23T00:00:00\", \"y_test\": 192.99999999999997, \"y_pred\": 198.04458858227588, \"label\": \"Actual\", \"predicted_label\": \"Predicted\"}, {\"date\": \"2021-03-24T00:00:00\", \"y_test\": 190.0, \"y_pred\": 194.5691605663324, \"label\": \"Actual\", \"predicted_label\": \"Predicted\"}, {\"date\": \"2021-03-25T00:00:00\", \"y_test\": 185.6999969482422, \"y_pred\": 189.52499718503205, \"label\": \"Actual\", \"predicted_label\": \"Predicted\"}, {\"date\": \"2021-03-26T00:00:00\", \"y_test\": 182.6499938964844, \"y_pred\": 185.25567951032076, \"label\": \"Actual\", \"predicted_label\": \"Predicted\"}, {\"date\": \"2021-03-30T00:00:00\", \"y_test\": 185.9499969482422, \"y_pred\": 186.00174689406293, \"label\": \"Actual\", \"predicted_label\": \"Predicted\"}, {\"date\": \"2021-03-31T00:00:00\", \"y_test\": 191.19999694824216, \"y_pred\": 186.3568365216284, \"label\": \"Actual\", \"predicted_label\": \"Predicted\"}, {\"date\": \"2021-04-01T00:00:00\", \"y_test\": 198.89999389648443, \"y_pred\": 194.93045936868035, \"label\": \"Actual\", \"predicted_label\": \"Predicted\"}, {\"date\": \"2021-04-05T00:00:00\", \"y_test\": 203.8999938964844, \"y_pred\": 201.7366054538541, \"label\": \"Actual\", \"predicted_label\": \"Predicted\"}, {\"date\": \"2021-04-06T00:00:00\", \"y_test\": 201.0, \"y_pred\": 198.0246462519245, \"label\": \"Actual\", \"predicted_label\": \"Predicted\"}, {\"date\": \"2021-04-06T00:00:00\", \"y_test\": 200.99999999999997, \"y_pred\": 202.51993265659772, \"label\": \"Actual\", \"predicted_label\": \"Predicted\"}, {\"date\": \"2021-04-07T00:00:00\", \"y_test\": 202.0, \"y_pred\": 203.4204894939773, \"label\": \"Actual\", \"predicted_label\": \"Predicted\"}, {\"date\": \"2021-04-08T00:00:00\", \"y_test\": 205.6999969482422, \"y_pred\": 200.66175026742835, \"label\": \"Actual\", \"predicted_label\": \"Predicted\"}, {\"date\": \"2021-04-09T00:00:00\", \"y_test\": 209.99999999999997, \"y_pred\": 208.12944265020167, \"label\": \"Actual\", \"predicted_label\": \"Predicted\"}, {\"date\": \"2021-04-12T00:00:00\", \"y_test\": 196.9499969482422, \"y_pred\": 206.14368917447925, \"label\": \"Actual\", \"predicted_label\": \"Predicted\"}, {\"date\": \"2021-04-13T00:00:00\", \"y_test\": 197.0, \"y_pred\": 194.7999337503033, \"label\": \"Actual\", \"predicted_label\": \"Predicted\"}, {\"date\": \"2021-04-15T00:00:00\", \"y_test\": 206.5500030517578, \"y_pred\": 197.68480440701194, \"label\": \"Actual\", \"predicted_label\": \"Predicted\"}, {\"date\": \"2021-04-16T00:00:00\", \"y_test\": 202.1000061035156, \"y_pred\": 207.15309057213426, \"label\": \"Actual\", \"predicted_label\": \"Predicted\"}, {\"date\": \"2021-04-19T00:00:00\", \"y_test\": 231.5, \"y_pred\": 199.2717857992933, \"label\": \"Actual\", \"predicted_label\": \"Predicted\"}, {\"date\": \"2021-04-19T00:00:00\", \"y_test\": 231.5, \"y_pred\": 232.95701927836973, \"label\": \"Actual\", \"predicted_label\": \"Predicted\"}, {\"date\": \"2021-04-20T00:00:00\", \"y_test\": 244.0, \"y_pred\": 230.23372525912026, \"label\": \"Actual\", \"predicted_label\": \"Predicted\"}, {\"date\": \"2021-04-22T00:00:00\", \"y_test\": 237.0, \"y_pred\": 226.84669110719497, \"label\": \"Actual\", \"predicted_label\": \"Predicted\"}, {\"date\": \"2021-04-23T00:00:00\", \"y_test\": 233.6999969482422, \"y_pred\": 233.9071213661705, \"label\": \"Actual\", \"predicted_label\": \"Predicted\"}, {\"date\": \"2021-04-26T00:00:00\", \"y_test\": 232.0, \"y_pred\": 226.40111092613145, \"label\": \"Actual\", \"predicted_label\": \"Predicted\"}, {\"date\": \"2021-04-27T00:00:00\", \"y_test\": 224.64999389648438, \"y_pred\": 227.73727597952066, \"label\": \"Actual\", \"predicted_label\": \"Predicted\"}, {\"date\": \"2021-04-28T00:00:00\", \"y_test\": 228.0, \"y_pred\": 221.0907769817566, \"label\": \"Actual\", \"predicted_label\": \"Predicted\"}, {\"date\": \"2021-04-29T00:00:00\", \"y_test\": 224.8999938964844, \"y_pred\": 225.49428015887736, \"label\": \"Actual\", \"predicted_label\": \"Predicted\"}, {\"date\": \"2021-04-30T00:00:00\", \"y_test\": 218.5500030517578, \"y_pred\": 222.77688814374488, \"label\": \"Actual\", \"predicted_label\": \"Predicted\"}, {\"date\": \"2021-05-03T00:00:00\", \"y_test\": 219.25000000000003, \"y_pred\": 217.66055419735608, \"label\": \"Actual\", \"predicted_label\": \"Predicted\"}, {\"date\": \"2021-05-04T00:00:00\", \"y_test\": 226.5, \"y_pred\": 220.501432643591, \"label\": \"Actual\", \"predicted_label\": \"Predicted\"}, {\"date\": \"2021-05-05T00:00:00\", \"y_test\": 223.00000000000003, \"y_pred\": 222.0682313086494, \"label\": \"Actual\", \"predicted_label\": \"Predicted\"}, {\"date\": \"2021-05-06T00:00:00\", \"y_test\": 222.1999969482422, \"y_pred\": 220.57343860870333, \"label\": \"Actual\", \"predicted_label\": \"Predicted\"}, {\"date\": \"2021-05-07T00:00:00\", \"y_test\": 221.0, \"y_pred\": 220.8928744104266, \"label\": \"Actual\", \"predicted_label\": \"Predicted\"}, {\"date\": \"2021-05-10T00:00:00\", \"y_test\": 220.0, \"y_pred\": 221.38684398879866, \"label\": \"Actual\", \"predicted_label\": \"Predicted\"}, {\"date\": \"2021-05-11T00:00:00\", \"y_test\": 221.99999999999997, \"y_pred\": 219.16022112557354, \"label\": \"Actual\", \"predicted_label\": \"Predicted\"}, {\"date\": \"2021-05-12T00:00:00\", \"y_test\": 216.0500030517578, \"y_pred\": 218.49594370839694, \"label\": \"Actual\", \"predicted_label\": \"Predicted\"}, {\"date\": \"2021-05-14T00:00:00\", \"y_test\": 215.39999389648443, \"y_pred\": 217.57675420626154, \"label\": \"Actual\", \"predicted_label\": \"Predicted\"}, {\"date\": \"2021-05-17T00:00:00\", \"y_test\": 213.0, \"y_pred\": 209.75626047273323, \"label\": \"Actual\", \"predicted_label\": \"Predicted\"}, {\"date\": \"2021-05-18T00:00:00\", \"y_test\": 218.0, \"y_pred\": 216.6989473373545, \"label\": \"Actual\", \"predicted_label\": \"Predicted\"}, {\"date\": \"2021-05-19T00:00:00\", \"y_test\": 217.94999694824216, \"y_pred\": 218.10673826359368, \"label\": \"Actual\", \"predicted_label\": \"Predicted\"}, {\"date\": \"2021-05-20T00:00:00\", \"y_test\": 217.5, \"y_pred\": 218.55128080380777, \"label\": \"Actual\", \"predicted_label\": \"Predicted\"}, {\"date\": \"2021-05-21T00:00:00\", \"y_test\": 219.3500061035156, \"y_pred\": 218.6212856283011, \"label\": \"Actual\", \"predicted_label\": \"Predicted\"}, {\"date\": \"2021-05-24T00:00:00\", \"y_test\": 226.1499938964844, \"y_pred\": 218.00103942333348, \"label\": \"Actual\", \"predicted_label\": \"Predicted\"}, {\"date\": \"2021-05-25T00:00:00\", \"y_test\": 222.8000030517578, \"y_pred\": 220.33010576578803, \"label\": \"Actual\", \"predicted_label\": \"Predicted\"}, {\"date\": \"2021-05-26T00:00:00\", \"y_test\": 218.00000000000003, \"y_pred\": 219.84232066801238, \"label\": \"Actual\", \"predicted_label\": \"Predicted\"}, {\"date\": \"2021-05-27T00:00:00\", \"y_test\": 214.75, \"y_pred\": 218.64705517600356, \"label\": \"Actual\", \"predicted_label\": \"Predicted\"}, {\"date\": \"2021-05-28T00:00:00\", \"y_test\": 215.00000000000003, \"y_pred\": 213.44872262878317, \"label\": \"Actual\", \"predicted_label\": \"Predicted\"}, {\"date\": \"2021-05-31T00:00:00\", \"y_test\": 212.6000061035156, \"y_pred\": 212.73477373394724, \"label\": \"Actual\", \"predicted_label\": \"Predicted\"}, {\"date\": \"2021-06-01T00:00:00\", \"y_test\": 210.3000030517578, \"y_pred\": 211.61173131035244, \"label\": \"Actual\", \"predicted_label\": \"Predicted\"}, {\"date\": \"2021-06-02T00:00:00\", \"y_test\": 207.89999389648438, \"y_pred\": 209.13756827989127, \"label\": \"Actual\", \"predicted_label\": \"Predicted\"}, {\"date\": \"2021-06-03T00:00:00\", \"y_test\": 213.5, \"y_pred\": 207.57734286204334, \"label\": \"Actual\", \"predicted_label\": \"Predicted\"}, {\"date\": \"2021-06-04T00:00:00\", \"y_test\": 215.25, \"y_pred\": 214.08908945256087, \"label\": \"Actual\", \"predicted_label\": \"Predicted\"}, {\"date\": \"2021-06-07T00:00:00\", \"y_test\": 217.00000000000003, \"y_pred\": 216.56989644819808, \"label\": \"Actual\", \"predicted_label\": \"Predicted\"}, {\"date\": \"2021-06-08T00:00:00\", \"y_test\": 216.3000030517578, \"y_pred\": 217.44095814742306, \"label\": \"Actual\", \"predicted_label\": \"Predicted\"}, {\"date\": \"2021-06-09T00:00:00\", \"y_test\": 220.0, \"y_pred\": 217.65490056082308, \"label\": \"Actual\", \"predicted_label\": \"Predicted\"}, {\"date\": \"2021-06-10T00:00:00\", \"y_test\": 216.5500030517578, \"y_pred\": 217.70644897088667, \"label\": \"Actual\", \"predicted_label\": \"Predicted\"}, {\"date\": \"2021-06-11T00:00:00\", \"y_test\": 217.99999999999997, \"y_pred\": 217.63832599500472, \"label\": \"Actual\", \"predicted_label\": \"Predicted\"}, {\"date\": \"2021-06-14T00:00:00\", \"y_test\": 215.64999389648443, \"y_pred\": 217.1437805940737, \"label\": \"Actual\", \"predicted_label\": \"Predicted\"}, {\"date\": \"2021-06-15T00:00:00\", \"y_test\": 217.30000305175778, \"y_pred\": 214.5058177899882, \"label\": \"Actual\", \"predicted_label\": \"Predicted\"}, {\"date\": \"2021-06-16T00:00:00\", \"y_test\": 219.3000030517578, \"y_pred\": 217.23237941661264, \"label\": \"Actual\", \"predicted_label\": \"Predicted\"}, {\"date\": \"2021-06-17T00:00:00\", \"y_test\": 214.25, \"y_pred\": 213.50934245606604, \"label\": \"Actual\", \"predicted_label\": \"Predicted\"}, {\"date\": \"2021-06-18T00:00:00\", \"y_test\": 216.75, \"y_pred\": 213.8331975750549, \"label\": \"Actual\", \"predicted_label\": \"Predicted\"}, {\"date\": \"2021-06-21T00:00:00\", \"y_test\": 210.0, \"y_pred\": 213.61395044120854, \"label\": \"Actual\", \"predicted_label\": \"Predicted\"}, {\"date\": \"2021-06-22T00:00:00\", \"y_test\": 215.35000610351562, \"y_pred\": 212.63997040470096, \"label\": \"Actual\", \"predicted_label\": \"Predicted\"}, {\"date\": \"2021-06-23T00:00:00\", \"y_test\": 221.1499938964844, \"y_pred\": 216.25563225016066, \"label\": \"Actual\", \"predicted_label\": \"Predicted\"}, {\"date\": \"2021-06-24T00:00:00\", \"y_test\": 220.00000000000003, \"y_pred\": 218.12747609352328, \"label\": \"Actual\", \"predicted_label\": \"Predicted\"}, {\"date\": \"2021-06-25T00:00:00\", \"y_test\": 215.75000000000003, \"y_pred\": 215.31034298379714, \"label\": \"Actual\", \"predicted_label\": \"Predicted\"}, {\"date\": \"2021-06-28T00:00:00\", \"y_test\": 216.9499969482422, \"y_pred\": 215.40803612980454, \"label\": \"Actual\", \"predicted_label\": \"Predicted\"}, {\"date\": \"2021-06-29T00:00:00\", \"y_test\": 212.55000305175778, \"y_pred\": 213.97163077797578, \"label\": \"Actual\", \"predicted_label\": \"Predicted\"}, {\"date\": \"2021-06-30T00:00:00\", \"y_test\": 212.3500061035156, \"y_pred\": 213.40122821133812, \"label\": \"Actual\", \"predicted_label\": \"Predicted\"}, {\"date\": \"2021-07-01T00:00:00\", \"y_test\": 209.00000000000003, \"y_pred\": 210.6008408649666, \"label\": \"Actual\", \"predicted_label\": \"Predicted\"}, {\"date\": \"2021-07-02T00:00:00\", \"y_test\": 214.0, \"y_pred\": 211.1170628638955, \"label\": \"Actual\", \"predicted_label\": \"Predicted\"}, {\"date\": \"2021-07-05T00:00:00\", \"y_test\": 217.0, \"y_pred\": 213.24004572688196, \"label\": \"Actual\", \"predicted_label\": \"Predicted\"}, {\"date\": \"2021-07-06T00:00:00\", \"y_test\": 220.99999999999997, \"y_pred\": 218.444565970355, \"label\": \"Actual\", \"predicted_label\": \"Predicted\"}, {\"date\": \"2021-07-07T00:00:00\", \"y_test\": 217.6999969482422, \"y_pred\": 215.74151302252247, \"label\": \"Actual\", \"predicted_label\": \"Predicted\"}, {\"date\": \"2021-07-08T00:00:00\", \"y_test\": 219.8000030517578, \"y_pred\": 218.49670752533737, \"label\": \"Actual\", \"predicted_label\": \"Predicted\"}, {\"date\": \"2021-07-09T00:00:00\", \"y_test\": 218.1000061035156, \"y_pred\": 215.51800546656804, \"label\": \"Actual\", \"predicted_label\": \"Predicted\"}, {\"date\": \"2021-07-12T00:00:00\", \"y_test\": 225.0, \"y_pred\": 216.92954384621154, \"label\": \"Actual\", \"predicted_label\": \"Predicted\"}, {\"date\": \"2021-07-13T00:00:00\", \"y_test\": 224.5500030517578, \"y_pred\": 224.4529247130055, \"label\": \"Actual\", \"predicted_label\": \"Predicted\"}, {\"date\": \"2021-07-14T00:00:00\", \"y_test\": 222.3000030517578, \"y_pred\": 221.7220973091744, \"label\": \"Actual\", \"predicted_label\": \"Predicted\"}, {\"date\": \"2021-07-15T00:00:00\", \"y_test\": 219.8000030517578, \"y_pred\": 221.71084111409976, \"label\": \"Actual\", \"predicted_label\": \"Predicted\"}, {\"date\": \"2021-07-16T00:00:00\", \"y_test\": 214.5500030517578, \"y_pred\": 215.59218549391196, \"label\": \"Actual\", \"predicted_label\": \"Predicted\"}, {\"date\": \"2021-07-19T00:00:00\", \"y_test\": 213.5, \"y_pred\": 213.43546316930718, \"label\": \"Actual\", \"predicted_label\": \"Predicted\"}, {\"date\": \"2021-07-20T00:00:00\", \"y_test\": 210.0, \"y_pred\": 212.7081386535296, \"label\": \"Actual\", \"predicted_label\": \"Predicted\"}, {\"date\": \"2021-07-22T00:00:00\", \"y_test\": 210.55000305175778, \"y_pred\": 210.10901946619904, \"label\": \"Actual\", \"predicted_label\": \"Predicted\"}, {\"date\": \"2021-07-23T00:00:00\", \"y_test\": 209.5, \"y_pred\": 210.3056766272587, \"label\": \"Actual\", \"predicted_label\": \"Predicted\"}, {\"date\": \"2021-07-26T00:00:00\", \"y_test\": 213.9499969482422, \"y_pred\": 208.87185195121435, \"label\": \"Actual\", \"predicted_label\": \"Predicted\"}, {\"date\": \"2021-07-27T00:00:00\", \"y_test\": 215.89999389648438, \"y_pred\": 215.1702117243088, \"label\": \"Actual\", \"predicted_label\": \"Predicted\"}, {\"date\": \"2021-07-28T00:00:00\", \"y_test\": 220.50000000000003, \"y_pred\": 213.5078500634776, \"label\": \"Actual\", \"predicted_label\": \"Predicted\"}, {\"date\": \"2021-07-29T00:00:00\", \"y_test\": 220.6499938964844, \"y_pred\": 218.4817638645073, \"label\": \"Actual\", \"predicted_label\": \"Predicted\"}, {\"date\": \"2021-07-30T00:00:00\", \"y_test\": 228.1999969482422, \"y_pred\": 221.38544645994693, \"label\": \"Actual\", \"predicted_label\": \"Predicted\"}, {\"date\": \"2021-08-02T00:00:00\", \"y_test\": 226.3000030517578, \"y_pred\": 222.64854589831066, \"label\": \"Actual\", \"predicted_label\": \"Predicted\"}, {\"date\": \"2021-08-03T00:00:00\", \"y_test\": 228.35000610351557, \"y_pred\": 229.19424374798754, \"label\": \"Actual\", \"predicted_label\": \"Predicted\"}, {\"date\": \"2021-08-04T00:00:00\", \"y_test\": 214.4499969482422, \"y_pred\": 216.87465432802094, \"label\": \"Actual\", \"predicted_label\": \"Predicted\"}, {\"date\": \"2021-08-05T00:00:00\", \"y_test\": 216.5, \"y_pred\": 206.34159731542206, \"label\": \"Actual\", \"predicted_label\": \"Predicted\"}, {\"date\": \"2021-08-06T00:00:00\", \"y_test\": 214.0, \"y_pred\": 213.27064184710886, \"label\": \"Actual\", \"predicted_label\": \"Predicted\"}, {\"date\": \"2021-08-09T00:00:00\", \"y_test\": 210.0, \"y_pred\": 209.70478961941217, \"label\": \"Actual\", \"predicted_label\": \"Predicted\"}, {\"date\": \"2021-08-10T00:00:00\", \"y_test\": 207.1999969482422, \"y_pred\": 209.54114959185625, \"label\": \"Actual\", \"predicted_label\": \"Predicted\"}, {\"date\": \"2021-08-11T00:00:00\", \"y_test\": 209.0, \"y_pred\": 204.12160003399023, \"label\": \"Actual\", \"predicted_label\": \"Predicted\"}, {\"date\": \"2021-08-12T00:00:00\", \"y_test\": 212.39999389648443, \"y_pred\": 208.45406407062745, \"label\": \"Actual\", \"predicted_label\": \"Predicted\"}, {\"date\": \"2021-08-13T00:00:00\", \"y_test\": 211.1499938964844, \"y_pred\": 212.96238455244224, \"label\": \"Actual\", \"predicted_label\": \"Predicted\"}, {\"date\": \"2021-08-16T00:00:00\", \"y_test\": 206.4499969482422, \"y_pred\": 209.7536637156164, \"label\": \"Actual\", \"predicted_label\": \"Predicted\"}, {\"date\": \"2021-08-17T00:00:00\", \"y_test\": 207.75, \"y_pred\": 205.62449670888583, \"label\": \"Actual\", \"predicted_label\": \"Predicted\"}, {\"date\": \"2021-08-18T00:00:00\", \"y_test\": 206.00000000000003, \"y_pred\": 208.56886610093488, \"label\": \"Actual\", \"predicted_label\": \"Predicted\"}, {\"date\": \"2021-08-20T00:00:00\", \"y_test\": 204.8500061035156, \"y_pred\": 208.17162402870366, \"label\": \"Actual\", \"predicted_label\": \"Predicted\"}, {\"date\": \"2021-08-23T00:00:00\", \"y_test\": 204.4499969482422, \"y_pred\": 205.32021092987006, \"label\": \"Actual\", \"predicted_label\": \"Predicted\"}, {\"date\": \"2021-08-24T00:00:00\", \"y_test\": 199.44999694824216, \"y_pred\": 200.33231358894818, \"label\": \"Actual\", \"predicted_label\": \"Predicted\"}, {\"date\": \"2021-08-25T00:00:00\", \"y_test\": 200.00000000000003, \"y_pred\": 199.95986269116898, \"label\": \"Actual\", \"predicted_label\": \"Predicted\"}, {\"date\": \"2021-08-26T00:00:00\", \"y_test\": 199.8999938964844, \"y_pred\": 200.0017868440542, \"label\": \"Actual\", \"predicted_label\": \"Predicted\"}, {\"date\": \"2021-08-27T00:00:00\", \"y_test\": 195.80000305175784, \"y_pred\": 196.94026689285312, \"label\": \"Actual\", \"predicted_label\": \"Predicted\"}, {\"date\": \"2021-08-30T00:00:00\", \"y_test\": 196.99999999999997, \"y_pred\": 197.47054409148774, \"label\": \"Actual\", \"predicted_label\": \"Predicted\"}, {\"date\": \"2021-08-31T00:00:00\", \"y_test\": 202.3500061035156, \"y_pred\": 198.83606792961925, \"label\": \"Actual\", \"predicted_label\": \"Predicted\"}, {\"date\": \"2021-09-01T00:00:00\", \"y_test\": 200.1999969482422, \"y_pred\": 200.594357118549, \"label\": \"Actual\", \"predicted_label\": \"Predicted\"}, {\"date\": \"2021-09-02T00:00:00\", \"y_test\": 202.60000610351562, \"y_pred\": 202.72639789854526, \"label\": \"Actual\", \"predicted_label\": \"Predicted\"}, {\"date\": \"2021-09-03T00:00:00\", \"y_test\": 201.5, \"y_pred\": 200.92834169963788, \"label\": \"Actual\", \"predicted_label\": \"Predicted\"}, {\"date\": \"2021-09-06T00:00:00\", \"y_test\": 200.9499969482422, \"y_pred\": 202.5703137099143, \"label\": \"Actual\", \"predicted_label\": \"Predicted\"}, {\"date\": \"2021-09-07T00:00:00\", \"y_test\": 201.89999389648443, \"y_pred\": 200.81338566372918, \"label\": \"Actual\", \"predicted_label\": \"Predicted\"}, {\"date\": \"2021-09-08T00:00:00\", \"y_test\": 209.8999938964844, \"y_pred\": 200.94136886740299, \"label\": \"Actual\", \"predicted_label\": \"Predicted\"}, {\"date\": \"2021-09-09T00:00:00\", \"y_test\": 205.0, \"y_pred\": 206.40958301482252, \"label\": \"Actual\", \"predicted_label\": \"Predicted\"}, {\"date\": \"2021-09-13T00:00:00\", \"y_test\": 202.25, \"y_pred\": 204.3416070694843, \"label\": \"Actual\", \"predicted_label\": \"Predicted\"}, {\"date\": \"2021-09-14T00:00:00\", \"y_test\": 201.9499969482422, \"y_pred\": 201.91288204011244, \"label\": \"Actual\", \"predicted_label\": \"Predicted\"}, {\"date\": \"2021-09-15T00:00:00\", \"y_test\": 216.0, \"y_pred\": 201.78823839413462, \"label\": \"Actual\", \"predicted_label\": \"Predicted\"}, {\"date\": \"2021-09-16T00:00:00\", \"y_test\": 217.55000305175784, \"y_pred\": 219.381517281143, \"label\": \"Actual\", \"predicted_label\": \"Predicted\"}, {\"date\": \"2021-09-17T00:00:00\", \"y_test\": 214.49999999999997, \"y_pred\": 216.23604814344517, \"label\": \"Actual\", \"predicted_label\": \"Predicted\"}, {\"date\": \"2021-09-20T00:00:00\", \"y_test\": 210.6000061035156, \"y_pred\": 216.3847146857319, \"label\": \"Actual\", \"predicted_label\": \"Predicted\"}, {\"date\": \"2021-09-21T00:00:00\", \"y_test\": 208.8999938964844, \"y_pred\": 206.01071367690926, \"label\": \"Actual\", \"predicted_label\": \"Predicted\"}, {\"date\": \"2021-09-22T00:00:00\", \"y_test\": 211.75, \"y_pred\": 207.08196681268544, \"label\": \"Actual\", \"predicted_label\": \"Predicted\"}, {\"date\": \"2021-09-23T00:00:00\", \"y_test\": 219.9499969482422, \"y_pred\": 211.59120279412178, \"label\": \"Actual\", \"predicted_label\": \"Predicted\"}, {\"date\": \"2021-09-24T00:00:00\", \"y_test\": 218.1499938964844, \"y_pred\": 217.82398768193661, \"label\": \"Actual\", \"predicted_label\": \"Predicted\"}, {\"date\": \"2021-09-27T00:00:00\", \"y_test\": 211.0, \"y_pred\": 209.88661775704597, \"label\": \"Actual\", \"predicted_label\": \"Predicted\"}, {\"date\": \"2021-09-28T00:00:00\", \"y_test\": 208.25000000000003, \"y_pred\": 211.27751985054937, \"label\": \"Actual\", \"predicted_label\": \"Predicted\"}, {\"date\": \"2021-09-29T00:00:00\", \"y_test\": 207.5500030517578, \"y_pred\": 205.37514215562805, \"label\": \"Actual\", \"predicted_label\": \"Predicted\"}, {\"date\": \"2021-09-30T00:00:00\", \"y_test\": 206.3500061035156, \"y_pred\": 206.40432811678644, \"label\": \"Actual\", \"predicted_label\": \"Predicted\"}, {\"date\": \"2021-10-01T00:00:00\", \"y_test\": 204.8500061035156, \"y_pred\": 208.5729576103414, \"label\": \"Actual\", \"predicted_label\": \"Predicted\"}, {\"date\": \"2021-10-04T00:00:00\", \"y_test\": 206.25, \"y_pred\": 205.5310337584366, \"label\": \"Actual\", \"predicted_label\": \"Predicted\"}, {\"date\": \"2021-10-05T00:00:00\", \"y_test\": 208.3500061035156, \"y_pred\": 208.80228293482446, \"label\": \"Actual\", \"predicted_label\": \"Predicted\"}, {\"date\": \"2021-10-06T00:00:00\", \"y_test\": 207.0, \"y_pred\": 208.02973192783236, \"label\": \"Actual\", \"predicted_label\": \"Predicted\"}, {\"date\": \"2021-10-07T00:00:00\", \"y_test\": 205.0, \"y_pred\": 206.32367431615646, \"label\": \"Actual\", \"predicted_label\": \"Predicted\"}, {\"date\": \"2021-10-08T00:00:00\", \"y_test\": 203.39999389648438, \"y_pred\": 205.2386111295848, \"label\": \"Actual\", \"predicted_label\": \"Predicted\"}, {\"date\": \"2021-10-11T00:00:00\", \"y_test\": 205.94999694824222, \"y_pred\": 204.12820491856866, \"label\": \"Actual\", \"predicted_label\": \"Predicted\"}, {\"date\": \"2021-10-12T00:00:00\", \"y_test\": 204.1000061035156, \"y_pred\": 206.26500823997543, \"label\": \"Actual\", \"predicted_label\": \"Predicted\"}, {\"date\": \"2021-10-13T00:00:00\", \"y_test\": 205.80000305175784, \"y_pred\": 204.87445837276306, \"label\": \"Actual\", \"predicted_label\": \"Predicted\"}, {\"date\": \"2021-10-14T00:00:00\", \"y_test\": 207.35000610351557, \"y_pred\": 207.11472927911475, \"label\": \"Actual\", \"predicted_label\": \"Predicted\"}, {\"date\": \"2021-10-18T00:00:00\", \"y_test\": 207.19999694824222, \"y_pred\": 207.89071133339698, \"label\": \"Actual\", \"predicted_label\": \"Predicted\"}, {\"date\": \"2021-10-19T00:00:00\", \"y_test\": 204.1000061035156, \"y_pred\": 205.90025838504133, \"label\": \"Actual\", \"predicted_label\": \"Predicted\"}, {\"date\": \"2021-10-20T00:00:00\", \"y_test\": 202.8999938964844, \"y_pred\": 206.4138005135861, \"label\": \"Actual\", \"predicted_label\": \"Predicted\"}, {\"date\": \"2021-10-21T00:00:00\", \"y_test\": 202.24999999999997, \"y_pred\": 204.06084055646295, \"label\": \"Actual\", \"predicted_label\": \"Predicted\"}, {\"date\": \"2021-10-22T00:00:00\", \"y_test\": 203.9499969482422, \"y_pred\": 203.2257918167377, \"label\": \"Actual\", \"predicted_label\": \"Predicted\"}, {\"date\": \"2021-10-25T00:00:00\", \"y_test\": 204.8500061035156, \"y_pred\": 202.69976373529812, \"label\": \"Actual\", \"predicted_label\": \"Predicted\"}, {\"date\": \"2021-10-26T00:00:00\", \"y_test\": 199.1499938964844, \"y_pred\": 199.8158477283406, \"label\": \"Actual\", \"predicted_label\": \"Predicted\"}, {\"date\": \"2021-10-27T00:00:00\", \"y_test\": 201.6999969482422, \"y_pred\": 198.56875984220073, \"label\": \"Actual\", \"predicted_label\": \"Predicted\"}, {\"date\": \"2021-10-28T00:00:00\", \"y_test\": 200.8500061035156, \"y_pred\": 203.36042958642693, \"label\": \"Actual\", \"predicted_label\": \"Predicted\"}, {\"date\": \"2021-10-29T00:00:00\", \"y_test\": 200.55000305175784, \"y_pred\": 202.11417872304614, \"label\": \"Actual\", \"predicted_label\": \"Predicted\"}, {\"date\": \"2021-11-01T00:00:00\", \"y_test\": 201.50000000000003, \"y_pred\": 201.2772180045932, \"label\": \"Actual\", \"predicted_label\": \"Predicted\"}, {\"date\": \"2021-11-02T00:00:00\", \"y_test\": 201.64999389648443, \"y_pred\": 202.68944248580374, \"label\": \"Actual\", \"predicted_label\": \"Predicted\"}, {\"date\": \"2021-11-03T00:00:00\", \"y_test\": 203.25000000000003, \"y_pred\": 203.47454339156843, \"label\": \"Actual\", \"predicted_label\": \"Predicted\"}, {\"date\": \"2021-11-04T00:00:00\", \"y_test\": 204.94999694824216, \"y_pred\": 202.5321180982932, \"label\": \"Actual\", \"predicted_label\": \"Predicted\"}, {\"date\": \"2021-11-08T00:00:00\", \"y_test\": 205.6000061035156, \"y_pred\": 203.05963818332836, \"label\": \"Actual\", \"predicted_label\": \"Predicted\"}, {\"date\": \"2021-11-08T00:00:00\", \"y_test\": 205.60000610351562, \"y_pred\": 206.97056315700453, \"label\": \"Actual\", \"predicted_label\": \"Predicted\"}, {\"date\": \"2021-11-08T00:00:00\", \"y_test\": 205.60000610351562, \"y_pred\": 206.9311651499123, \"label\": \"Actual\", \"predicted_label\": \"Predicted\"}, {\"date\": \"2021-11-09T00:00:00\", \"y_test\": 228.0, \"y_pred\": 206.9907455854432, \"label\": \"Actual\", \"predicted_label\": \"Predicted\"}, {\"date\": \"2021-11-09T00:00:00\", \"y_test\": 228.00000000000003, \"y_pred\": 224.62665038312727, \"label\": \"Actual\", \"predicted_label\": \"Predicted\"}, {\"date\": \"2021-11-09T00:00:00\", \"y_test\": 228.00000000000003, \"y_pred\": 223.19576048064448, \"label\": \"Actual\", \"predicted_label\": \"Predicted\"}, {\"date\": \"2021-11-10T00:00:00\", \"y_test\": 223.00000000000003, \"y_pred\": 223.67800533845772, \"label\": \"Actual\", \"predicted_label\": \"Predicted\"}, {\"date\": \"2021-11-11T00:00:00\", \"y_test\": 222.3500061035156, \"y_pred\": 223.95277687450533, \"label\": \"Actual\", \"predicted_label\": \"Predicted\"}, {\"date\": \"2021-11-12T00:00:00\", \"y_test\": 216.0500030517578, \"y_pred\": 217.62512875675023, \"label\": \"Actual\", \"predicted_label\": \"Predicted\"}, {\"date\": \"2021-11-15T00:00:00\", \"y_test\": 226.0, \"y_pred\": 217.39127378882466, \"label\": \"Actual\", \"predicted_label\": \"Predicted\"}, {\"date\": \"2021-11-16T00:00:00\", \"y_test\": 224.50000000000003, \"y_pred\": 224.25312284556625, \"label\": \"Actual\", \"predicted_label\": \"Predicted\"}, {\"date\": \"2021-11-17T00:00:00\", \"y_test\": 215.3500061035156, \"y_pred\": 219.06272169228734, \"label\": \"Actual\", \"predicted_label\": \"Predicted\"}, {\"date\": \"2021-11-18T00:00:00\", \"y_test\": 215.1499938964844, \"y_pred\": 215.4171212570336, \"label\": \"Actual\", \"predicted_label\": \"Predicted\"}, {\"date\": \"2021-11-22T00:00:00\", \"y_test\": 217.9499969482422, \"y_pred\": 216.76042269509162, \"label\": \"Actual\", \"predicted_label\": \"Predicted\"}, {\"date\": \"2021-11-23T00:00:00\", \"y_test\": 233.6999969482422, \"y_pred\": 216.67591681141346, \"label\": \"Actual\", \"predicted_label\": \"Predicted\"}, {\"date\": \"2021-11-24T00:00:00\", \"y_test\": 273.70001220703125, \"y_pred\": 236.49370615892775, \"label\": \"Actual\", \"predicted_label\": \"Predicted\"}, {\"date\": \"2021-11-24T00:00:00\", \"y_test\": 273.70001220703125, \"y_pred\": 279.24266412858486, \"label\": \"Actual\", \"predicted_label\": \"Predicted\"}, {\"date\": \"2021-11-24T00:00:00\", \"y_test\": 273.70001220703125, \"y_pred\": 273.31027227460083, \"label\": \"Actual\", \"predicted_label\": \"Predicted\"}, {\"date\": \"2021-11-24T00:00:00\", \"y_test\": 273.70001220703125, \"y_pred\": 275.0437778096943, \"label\": \"Actual\", \"predicted_label\": \"Predicted\"}, {\"date\": \"2021-11-24T00:00:00\", \"y_test\": 273.70001220703125, \"y_pred\": 273.04460103189774, \"label\": \"Actual\", \"predicted_label\": \"Predicted\"}, {\"date\": \"2021-11-24T00:00:00\", \"y_test\": 273.70001220703125, \"y_pred\": 272.4752640426728, \"label\": \"Actual\", \"predicted_label\": \"Predicted\"}, {\"date\": \"2021-11-24T00:00:00\", \"y_test\": 273.70001220703125, \"y_pred\": 273.1666689817294, \"label\": \"Actual\", \"predicted_label\": \"Predicted\"}, {\"date\": \"2021-11-24T00:00:00\", \"y_test\": 273.70001220703125, \"y_pred\": 274.1303613514394, \"label\": \"Actual\", \"predicted_label\": \"Predicted\"}, {\"date\": \"2021-11-24T00:00:00\", \"y_test\": 273.70001220703125, \"y_pred\": 274.11760639373017, \"label\": \"Actual\", \"predicted_label\": \"Predicted\"}, {\"date\": \"2021-11-24T00:00:00\", \"y_test\": 273.70001220703125, \"y_pred\": 273.64704204926034, \"label\": \"Actual\", \"predicted_label\": \"Predicted\"}, {\"date\": \"2021-11-25T00:00:00\", \"y_test\": 280.1000061035156, \"y_pred\": 273.3424719484567, \"label\": \"Actual\", \"predicted_label\": \"Predicted\"}, {\"date\": \"2021-11-26T00:00:00\", \"y_test\": 266.6000061035156, \"y_pred\": 274.05197358102157, \"label\": \"Actual\", \"predicted_label\": \"Predicted\"}, {\"date\": \"2021-11-29T00:00:00\", \"y_test\": 279.5, \"y_pred\": 265.20129445345884, \"label\": \"Actual\", \"predicted_label\": \"Predicted\"}, {\"date\": \"2021-11-30T00:00:00\", \"y_test\": 292.45001220703125, \"y_pred\": 277.98388203335367, \"label\": \"Actual\", \"predicted_label\": \"Predicted\"}, {\"date\": \"2021-12-01T00:00:00\", \"y_test\": 282.20001220703125, \"y_pred\": 282.9056766750788, \"label\": \"Actual\", \"predicted_label\": \"Predicted\"}, {\"date\": \"2021-12-02T00:00:00\", \"y_test\": 282.5, \"y_pred\": 286.93322085272524, \"label\": \"Actual\", \"predicted_label\": \"Predicted\"}, {\"date\": \"2021-12-03T00:00:00\", \"y_test\": 299.7000122070313, \"y_pred\": 282.18628706822886, \"label\": \"Actual\", \"predicted_label\": \"Predicted\"}, {\"date\": \"2021-12-06T00:00:00\", \"y_test\": 321.0, \"y_pred\": 305.6288866571139, \"label\": \"Actual\", \"predicted_label\": \"Predicted\"}, {\"date\": \"2021-12-07T00:00:00\", \"y_test\": 315.0, \"y_pred\": 312.7762837938359, \"label\": \"Actual\", \"predicted_label\": \"Predicted\"}, {\"date\": \"2021-12-08T00:00:00\", \"y_test\": 311.0, \"y_pred\": 317.97536200547006, \"label\": \"Actual\", \"predicted_label\": \"Predicted\"}, {\"date\": \"2021-12-09T00:00:00\", \"y_test\": 311.1000061035156, \"y_pred\": 312.50756005955884, \"label\": \"Actual\", \"predicted_label\": \"Predicted\"}, {\"date\": \"2021-12-10T00:00:00\", \"y_test\": 315.3500061035156, \"y_pred\": 314.76624901671437, \"label\": \"Actual\", \"predicted_label\": \"Predicted\"}, {\"date\": \"2021-12-13T00:00:00\", \"y_test\": 315.3500061035157, \"y_pred\": 314.9895218332929, \"label\": \"Actual\", \"predicted_label\": \"Predicted\"}, {\"date\": \"2021-12-14T00:00:00\", \"y_test\": 315.0, \"y_pred\": 315.0076264988579, \"label\": \"Actual\", \"predicted_label\": \"Predicted\"}, {\"date\": \"2021-12-15T00:00:00\", \"y_test\": 326.1000061035156, \"y_pred\": 316.8110248572001, \"label\": \"Actual\", \"predicted_label\": \"Predicted\"}, {\"date\": \"2021-12-16T00:00:00\", \"y_test\": 346.99999999999994, \"y_pred\": 329.9760834189238, \"label\": \"Actual\", \"predicted_label\": \"Predicted\"}, {\"date\": \"2021-12-17T00:00:00\", \"y_test\": 309.6000061035156, \"y_pred\": 308.7835008733455, \"label\": \"Actual\", \"predicted_label\": \"Predicted\"}, {\"date\": \"2021-12-20T00:00:00\", \"y_test\": 283.29998779296875, \"y_pred\": 299.1793158064269, \"label\": \"Actual\", \"predicted_label\": \"Predicted\"}, {\"date\": \"2021-12-21T00:00:00\", \"y_test\": 289.0, \"y_pred\": 279.7704756197177, \"label\": \"Actual\", \"predicted_label\": \"Predicted\"}, {\"date\": \"2021-12-22T00:00:00\", \"y_test\": 287.5, \"y_pred\": 287.9087107605583, \"label\": \"Actual\", \"predicted_label\": \"Predicted\"}, {\"date\": \"2021-12-23T00:00:00\", \"y_test\": 307.95001220703125, \"y_pred\": 290.2629658718443, \"label\": \"Actual\", \"predicted_label\": \"Predicted\"}, {\"date\": \"2021-12-24T00:00:00\", \"y_test\": 301.20001220703125, \"y_pred\": 301.9560327685008, \"label\": \"Actual\", \"predicted_label\": \"Predicted\"}, {\"date\": \"2021-12-27T00:00:00\", \"y_test\": 289.25, \"y_pred\": 294.4507747876897, \"label\": \"Actual\", \"predicted_label\": \"Predicted\"}, {\"date\": \"2021-12-28T00:00:00\", \"y_test\": 287.8500061035156, \"y_pred\": 289.9515851700296, \"label\": \"Actual\", \"predicted_label\": \"Predicted\"}, {\"date\": \"2021-12-29T00:00:00\", \"y_test\": 303.29998779296875, \"y_pred\": 289.9603643542869, \"label\": \"Actual\", \"predicted_label\": \"Predicted\"}, {\"date\": \"2021-12-30T00:00:00\", \"y_test\": 304.0, \"y_pred\": 303.71363673350794, \"label\": \"Actual\", \"predicted_label\": \"Predicted\"}, {\"date\": \"2021-12-31T00:00:00\", \"y_test\": 302.6000061035157, \"y_pred\": 300.75766938903865, \"label\": \"Actual\", \"predicted_label\": \"Predicted\"}, {\"date\": \"2022-01-03T00:00:00\", \"y_test\": 314.3500061035156, \"y_pred\": 303.9309701700619, \"label\": \"Actual\", \"predicted_label\": \"Predicted\"}, {\"date\": \"2022-01-04T00:00:00\", \"y_test\": 314.95001220703125, \"y_pred\": 310.6892420528619, \"label\": \"Actual\", \"predicted_label\": \"Predicted\"}, {\"date\": \"2022-01-05T00:00:00\", \"y_test\": 319.70001220703125, \"y_pred\": 313.817366204987, \"label\": \"Actual\", \"predicted_label\": \"Predicted\"}, {\"date\": \"2022-01-06T00:00:00\", \"y_test\": 340.29998779296875, \"y_pred\": 323.22792850948366, \"label\": \"Actual\", \"predicted_label\": \"Predicted\"}, {\"date\": \"2022-01-07T00:00:00\", \"y_test\": 340.1499938964844, \"y_pred\": 346.7177190543571, \"label\": \"Actual\", \"predicted_label\": \"Predicted\"}, {\"date\": \"2022-01-10T00:00:00\", \"y_test\": 372.3500061035156, \"y_pred\": 333.45155506678674, \"label\": \"Actual\", \"predicted_label\": \"Predicted\"}, {\"date\": \"2022-01-11T00:00:00\", \"y_test\": 363.6499938964844, \"y_pred\": 375.52232474891656, \"label\": \"Actual\", \"predicted_label\": \"Predicted\"}, {\"date\": \"2022-01-12T00:00:00\", \"y_test\": 362.3500061035156, \"y_pred\": 363.3083780076064, \"label\": \"Actual\", \"predicted_label\": \"Predicted\"}, {\"date\": \"2022-01-13T00:00:00\", \"y_test\": 362.7999877929688, \"y_pred\": 365.2313664298022, \"label\": \"Actual\", \"predicted_label\": \"Predicted\"}, {\"date\": \"2022-01-14T00:00:00\", \"y_test\": 361.0, \"y_pred\": 364.96654719637587, \"label\": \"Actual\", \"predicted_label\": \"Predicted\"}, {\"date\": \"2022-01-17T00:00:00\", \"y_test\": 361.00000000000006, \"y_pred\": 364.79571956824617, \"label\": \"Actual\", \"predicted_label\": \"Predicted\"}, {\"date\": \"2022-01-18T00:00:00\", \"y_test\": 360.5, \"y_pred\": 362.65096810478553, \"label\": \"Actual\", \"predicted_label\": \"Predicted\"}, {\"date\": \"2022-01-19T00:00:00\", \"y_test\": 382.4500122070313, \"y_pred\": 356.8329017093856, \"label\": \"Actual\", \"predicted_label\": \"Predicted\"}, {\"date\": \"2022-01-19T00:00:00\", \"y_test\": 382.45001220703136, \"y_pred\": 382.7528963789394, \"label\": \"Actual\", \"predicted_label\": \"Predicted\"}, {\"date\": \"2022-01-19T00:00:00\", \"y_test\": 382.45001220703136, \"y_pred\": 383.2345211605329, \"label\": \"Actual\", \"predicted_label\": \"Predicted\"}, {\"date\": \"2022-01-19T00:00:00\", \"y_test\": 382.45001220703136, \"y_pred\": 382.5168509554981, \"label\": \"Actual\", \"predicted_label\": \"Predicted\"}, {\"date\": \"2022-01-19T00:00:00\", \"y_test\": 382.45001220703136, \"y_pred\": 383.0254709653368, \"label\": \"Actual\", \"predicted_label\": \"Predicted\"}, {\"date\": \"2022-01-19T00:00:00\", \"y_test\": 382.45001220703136, \"y_pred\": 382.283759332391, \"label\": \"Actual\", \"predicted_label\": \"Predicted\"}, {\"date\": \"2022-01-20T00:00:00\", \"y_test\": 379.8999938964844, \"y_pred\": 381.58998478046567, \"label\": \"Actual\", \"predicted_label\": \"Predicted\"}, {\"date\": \"2022-01-21T00:00:00\", \"y_test\": 374.00000000000006, \"y_pred\": 379.2202568886773, \"label\": \"Actual\", \"predicted_label\": \"Predicted\"}, {\"date\": \"2022-01-24T00:00:00\", \"y_test\": 372.9500122070313, \"y_pred\": 374.22104653827927, \"label\": \"Actual\", \"predicted_label\": \"Predicted\"}, {\"date\": \"2022-01-25T00:00:00\", \"y_test\": 328.54998779296875, \"y_pred\": 339.9473471474496, \"label\": \"Actual\", \"predicted_label\": \"Predicted\"}, {\"date\": \"2022-01-27T00:00:00\", \"y_test\": 336.04998779296875, \"y_pred\": 326.3542744763232, \"label\": \"Actual\", \"predicted_label\": \"Predicted\"}, {\"date\": \"2022-01-28T00:00:00\", \"y_test\": 331.79998779296875, \"y_pred\": 326.052592974557, \"label\": \"Actual\", \"predicted_label\": \"Predicted\"}, {\"date\": \"2022-01-31T00:00:00\", \"y_test\": 338.8999938964844, \"y_pred\": 320.4051675267933, \"label\": \"Actual\", \"predicted_label\": \"Predicted\"}, {\"date\": \"2022-02-01T00:00:00\", \"y_test\": 341.99999999999994, \"y_pred\": 338.3588686613618, \"label\": \"Actual\", \"predicted_label\": \"Predicted\"}, {\"date\": \"2022-02-02T00:00:00\", \"y_test\": 388.8999938964843, \"y_pred\": 348.5273174746698, \"label\": \"Actual\", \"predicted_label\": \"Predicted\"}, {\"date\": \"2022-02-03T00:00:00\", \"y_test\": 419.35000610351557, \"y_pred\": 391.4813686246794, \"label\": \"Actual\", \"predicted_label\": \"Predicted\"}, {\"date\": \"2022-02-03T00:00:00\", \"y_test\": 419.3500061035156, \"y_pred\": 416.38503973729297, \"label\": \"Actual\", \"predicted_label\": \"Predicted\"}, {\"date\": \"2022-02-04T00:00:00\", \"y_test\": 417.70001220703125, \"y_pred\": 415.9954628648019, \"label\": \"Actual\", \"predicted_label\": \"Predicted\"}, {\"date\": \"2022-02-07T00:00:00\", \"y_test\": 421.20001220703125, \"y_pred\": 426.9510640723815, \"label\": \"Actual\", \"predicted_label\": \"Predicted\"}, {\"date\": \"2022-02-08T00:00:00\", \"y_test\": 422.70001220703125, \"y_pred\": 427.39613492417607, \"label\": \"Actual\", \"predicted_label\": \"Predicted\"}, {\"date\": \"2022-02-09T00:00:00\", \"y_test\": 415.89999389648443, \"y_pred\": 412.07776111443894, \"label\": \"Actual\", \"predicted_label\": \"Predicted\"}, {\"date\": \"2022-02-10T00:00:00\", \"y_test\": 400.0, \"y_pred\": 407.5812533726726, \"label\": \"Actual\", \"predicted_label\": \"Predicted\"}, {\"date\": \"2022-02-11T00:00:00\", \"y_test\": 405.0, \"y_pred\": 398.0415297955484, \"label\": \"Actual\", \"predicted_label\": \"Predicted\"}, {\"date\": \"2022-02-15T00:00:00\", \"y_test\": 398.79998779296886, \"y_pred\": 401.5897839937891, \"label\": \"Actual\", \"predicted_label\": \"Predicted\"}, {\"date\": \"2022-02-16T00:00:00\", \"y_test\": 384.2999877929688, \"y_pred\": 378.67780232103325, \"label\": \"Actual\", \"predicted_label\": \"Predicted\"}, {\"date\": \"2022-02-17T00:00:00\", \"y_test\": 378.9500122070313, \"y_pred\": 378.1561344701837, \"label\": \"Actual\", \"predicted_label\": \"Predicted\"}, {\"date\": \"2022-02-18T00:00:00\", \"y_test\": 403.7999877929688, \"y_pred\": 380.0316254058135, \"label\": \"Actual\", \"predicted_label\": \"Predicted\"}, {\"date\": \"2022-02-21T00:00:00\", \"y_test\": 399.0, \"y_pred\": 400.0931917726877, \"label\": \"Actual\", \"predicted_label\": \"Predicted\"}, {\"date\": \"2022-02-22T00:00:00\", \"y_test\": 336.54998779296875, \"y_pred\": 352.6474122125799, \"label\": \"Actual\", \"predicted_label\": \"Predicted\"}, {\"date\": \"2022-02-23T00:00:00\", \"y_test\": 364.5499877929688, \"y_pred\": 333.98310128022945, \"label\": \"Actual\", \"predicted_label\": \"Predicted\"}, {\"date\": \"2022-02-24T00:00:00\", \"y_test\": 368.7000122070313, \"y_pred\": 358.50258639255, \"label\": \"Actual\", \"predicted_label\": \"Predicted\"}, {\"date\": \"2022-02-25T00:00:00\", \"y_test\": 354.0, \"y_pred\": 337.52895343200464, \"label\": \"Actual\", \"predicted_label\": \"Predicted\"}, {\"date\": \"2022-02-28T00:00:00\", \"y_test\": 336.6499938964844, \"y_pred\": 337.354032325265, \"label\": \"Actual\", \"predicted_label\": \"Predicted\"}, {\"date\": \"2022-03-02T00:00:00\", \"y_test\": 355.8999938964844, \"y_pred\": 338.58345419290544, \"label\": \"Actual\", \"predicted_label\": \"Predicted\"}, {\"date\": \"2022-03-03T00:00:00\", \"y_test\": 363.9500122070313, \"y_pred\": 359.55965917232135, \"label\": \"Actual\", \"predicted_label\": \"Predicted\"}, {\"date\": \"2022-03-04T00:00:00\", \"y_test\": 354.0, \"y_pred\": 353.14721689958924, \"label\": \"Actual\", \"predicted_label\": \"Predicted\"}, {\"date\": \"2022-03-07T00:00:00\", \"y_test\": 343.04998779296875, \"y_pred\": 359.1788641033053, \"label\": \"Actual\", \"predicted_label\": \"Predicted\"}, {\"date\": \"2022-03-08T00:00:00\", \"y_test\": 333.1000061035156, \"y_pred\": 337.41214287957496, \"label\": \"Actual\", \"predicted_label\": \"Predicted\"}, {\"date\": \"2022-03-09T00:00:00\", \"y_test\": 328.0, \"y_pred\": 326.0595751678671, \"label\": \"Actual\", \"predicted_label\": \"Predicted\"}, {\"date\": \"2022-03-10T00:00:00\", \"y_test\": 332.2999877929688, \"y_pred\": 330.80310761574657, \"label\": \"Actual\", \"predicted_label\": \"Predicted\"}, {\"date\": \"2022-03-11T00:00:00\", \"y_test\": 312.3999938964844, \"y_pred\": 321.95419630810034, \"label\": \"Actual\", \"predicted_label\": \"Predicted\"}, {\"date\": \"2022-03-14T00:00:00\", \"y_test\": 312.79998779296875, \"y_pred\": 312.61746005938744, \"label\": \"Actual\", \"predicted_label\": \"Predicted\"}, {\"date\": \"2022-03-15T00:00:00\", \"y_test\": 316.3999938964844, \"y_pred\": 307.142931043168, \"label\": \"Actual\", \"predicted_label\": \"Predicted\"}, {\"date\": \"2022-03-16T00:00:00\", \"y_test\": 310.54998779296875, \"y_pred\": 313.7691086564496, \"label\": \"Actual\", \"predicted_label\": \"Predicted\"}, {\"date\": \"2022-03-17T00:00:00\", \"y_test\": 305.8999938964844, \"y_pred\": 310.1543873856032, \"label\": \"Actual\", \"predicted_label\": \"Predicted\"}, {\"date\": \"2022-03-21T00:00:00\", \"y_test\": 305.2000122070313, \"y_pred\": 306.99098792624255, \"label\": \"Actual\", \"predicted_label\": \"Predicted\"}, {\"date\": \"2022-03-22T00:00:00\", \"y_test\": 295.3500061035157, \"y_pred\": 299.7816190408761, \"label\": \"Actual\", \"predicted_label\": \"Predicted\"}, {\"date\": \"2022-03-23T00:00:00\", \"y_test\": 300.5, \"y_pred\": 296.23443437698074, \"label\": \"Actual\", \"predicted_label\": \"Predicted\"}, {\"date\": \"2022-03-24T00:00:00\", \"y_test\": 289.5, \"y_pred\": 297.7245493036047, \"label\": \"Actual\", \"predicted_label\": \"Predicted\"}, {\"date\": \"2022-03-25T00:00:00\", \"y_test\": 287.29998779296875, \"y_pred\": 291.96552882301586, \"label\": \"Actual\", \"predicted_label\": \"Predicted\"}, {\"date\": \"2022-03-28T00:00:00\", \"y_test\": 278.6499938964843, \"y_pred\": 283.2812062273256, \"label\": \"Actual\", \"predicted_label\": \"Predicted\"}, {\"date\": \"2022-03-29T00:00:00\", \"y_test\": 287.0, \"y_pred\": 279.6586519982367, \"label\": \"Actual\", \"predicted_label\": \"Predicted\"}, {\"date\": \"2022-03-30T00:00:00\", \"y_test\": 290.79998779296875, \"y_pred\": 292.1208645319468, \"label\": \"Actual\", \"predicted_label\": \"Predicted\"}, {\"date\": \"2022-03-31T00:00:00\", \"y_test\": 285.1499938964843, \"y_pred\": 285.1787649510174, \"label\": \"Actual\", \"predicted_label\": \"Predicted\"}, {\"date\": \"2022-04-01T00:00:00\", \"y_test\": 297.54998779296875, \"y_pred\": 285.03266900403185, \"label\": \"Actual\", \"predicted_label\": \"Predicted\"}, {\"date\": \"2022-04-04T00:00:00\", \"y_test\": 314.0, \"y_pred\": 301.657898170258, \"label\": \"Actual\", \"predicted_label\": \"Predicted\"}, {\"date\": \"2022-04-05T00:00:00\", \"y_test\": 326.75, \"y_pred\": 316.7819699920423, \"label\": \"Actual\", \"predicted_label\": \"Predicted\"}, {\"date\": \"2022-04-06T00:00:00\", \"y_test\": 322.3999938964844, \"y_pred\": 328.994039210443, \"label\": \"Actual\", \"predicted_label\": \"Predicted\"}, {\"date\": \"2022-04-07T00:00:00\", \"y_test\": 316.0, \"y_pred\": 316.52994394490435, \"label\": \"Actual\", \"predicted_label\": \"Predicted\"}, {\"date\": \"2022-04-08T00:00:00\", \"y_test\": 309.79998779296875, \"y_pred\": 311.4570800247212, \"label\": \"Actual\", \"predicted_label\": \"Predicted\"}, {\"date\": \"2022-04-11T00:00:00\", \"y_test\": 311.75, \"y_pred\": 309.9745035517667, \"label\": \"Actual\", \"predicted_label\": \"Predicted\"}, {\"date\": \"2022-04-12T00:00:00\", \"y_test\": 314.95001220703125, \"y_pred\": 312.93858716387274, \"label\": \"Actual\", \"predicted_label\": \"Predicted\"}, {\"date\": \"2022-04-13T00:00:00\", \"y_test\": 319.3999938964844, \"y_pred\": 316.824226835139, \"label\": \"Actual\", \"predicted_label\": \"Predicted\"}, {\"date\": \"2022-04-18T00:00:00\", \"y_test\": 324.45001220703125, \"y_pred\": 319.06420766110574, \"label\": \"Actual\", \"predicted_label\": \"Predicted\"}, {\"date\": \"2022-04-19T00:00:00\", \"y_test\": 324.1000061035156, \"y_pred\": 327.0533133186496, \"label\": \"Actual\", \"predicted_label\": \"Predicted\"}, {\"date\": \"2022-04-20T00:00:00\", \"y_test\": 319.6499938964844, \"y_pred\": 311.8602640572892, \"label\": \"Actual\", \"predicted_label\": \"Predicted\"}, {\"date\": \"2022-04-21T00:00:00\", \"y_test\": 314.3500061035157, \"y_pred\": 314.9019286966122, \"label\": \"Actual\", \"predicted_label\": \"Predicted\"}, {\"date\": \"2022-04-22T00:00:00\", \"y_test\": 343.64999389648443, \"y_pred\": 316.5472800661992, \"label\": \"Actual\", \"predicted_label\": \"Predicted\"}, {\"date\": \"2022-04-25T00:00:00\", \"y_test\": 355.04998779296875, \"y_pred\": 346.41769835759646, \"label\": \"Actual\", \"predicted_label\": \"Predicted\"}, {\"date\": \"2022-04-26T00:00:00\", \"y_test\": 349.8999938964844, \"y_pred\": 353.98054235407733, \"label\": \"Actual\", \"predicted_label\": \"Predicted\"}, {\"date\": \"2022-04-26T00:00:00\", \"y_test\": 349.8999938964844, \"y_pred\": 346.3114574063139, \"label\": \"Actual\", \"predicted_label\": \"Predicted\"}, {\"date\": \"2022-04-26T00:00:00\", \"y_test\": 349.8999938964844, \"y_pred\": 346.5790018817545, \"label\": \"Actual\", \"predicted_label\": \"Predicted\"}, {\"date\": \"2022-04-26T00:00:00\", \"y_test\": 349.8999938964844, \"y_pred\": 345.2647074775243, \"label\": \"Actual\", \"predicted_label\": \"Predicted\"}, {\"date\": \"2022-04-26T00:00:00\", \"y_test\": 349.8999938964844, \"y_pred\": 345.2560021708939, \"label\": \"Actual\", \"predicted_label\": \"Predicted\"}, {\"date\": \"2022-04-27T00:00:00\", \"y_test\": 351.99999999999994, \"y_pred\": 345.7777978550419, \"label\": \"Actual\", \"predicted_label\": \"Predicted\"}, {\"date\": \"2022-04-28T00:00:00\", \"y_test\": 359.3500061035156, \"y_pred\": 353.6805075703676, \"label\": \"Actual\", \"predicted_label\": \"Predicted\"}, {\"date\": \"2022-04-29T00:00:00\", \"y_test\": 355.89999389648443, \"y_pred\": 362.4253021999459, \"label\": \"Actual\", \"predicted_label\": \"Predicted\"}, {\"date\": \"2022-05-04T00:00:00\", \"y_test\": 359.70001220703125, \"y_pred\": 353.25433442115263, \"label\": \"Actual\", \"predicted_label\": \"Predicted\"}, {\"date\": \"2022-05-05T00:00:00\", \"y_test\": 356.8999938964844, \"y_pred\": 348.92712152194923, \"label\": \"Actual\", \"predicted_label\": \"Predicted\"}, {\"date\": \"2022-05-06T00:00:00\", \"y_test\": 332.0, \"y_pred\": 345.6466276845592, \"label\": \"Actual\", \"predicted_label\": \"Predicted\"}, {\"date\": \"2022-05-09T00:00:00\", \"y_test\": 319.8999938964844, \"y_pred\": 323.70105370514267, \"label\": \"Actual\", \"predicted_label\": \"Predicted\"}, {\"date\": \"2022-05-10T00:00:00\", \"y_test\": 316.1499938964844, \"y_pred\": 313.74819521365686, \"label\": \"Actual\", \"predicted_label\": \"Predicted\"}, {\"date\": \"2022-05-11T00:00:00\", \"y_test\": 308.0, \"y_pred\": 309.5979657128987, \"label\": \"Actual\", \"predicted_label\": \"Predicted\"}, {\"date\": \"2022-05-12T00:00:00\", \"y_test\": 270.1499938964844, \"y_pred\": 286.2774162393243, \"label\": \"Actual\", \"predicted_label\": \"Predicted\"}, {\"date\": \"2022-05-13T00:00:00\", \"y_test\": 267.8999938964844, \"y_pred\": 268.16854765679136, \"label\": \"Actual\", \"predicted_label\": \"Predicted\"}, {\"date\": \"2022-05-16T00:00:00\", \"y_test\": 308.3999938964844, \"y_pred\": 264.71217368028016, \"label\": \"Actual\", \"predicted_label\": \"Predicted\"}, {\"date\": \"2022-05-16T00:00:00\", \"y_test\": 308.3999938964844, \"y_pred\": 308.53881820764155, \"label\": \"Actual\", \"predicted_label\": \"Predicted\"}, {\"date\": \"2022-05-16T00:00:00\", \"y_test\": 308.3999938964844, \"y_pred\": 310.5494851193113, \"label\": \"Actual\", \"predicted_label\": \"Predicted\"}, {\"date\": \"2022-05-17T00:00:00\", \"y_test\": 328.8500061035156, \"y_pred\": 308.21828537307147, \"label\": \"Actual\", \"predicted_label\": \"Predicted\"}, {\"date\": \"2022-05-17T00:00:00\", \"y_test\": 328.8500061035157, \"y_pred\": 334.66664767165105, \"label\": \"Actual\", \"predicted_label\": \"Predicted\"}, {\"date\": \"2022-05-17T00:00:00\", \"y_test\": 328.8500061035157, \"y_pred\": 335.1531982981277, \"label\": \"Actual\", \"predicted_label\": \"Predicted\"}, {\"date\": \"2022-05-17T00:00:00\", \"y_test\": 328.8500061035157, \"y_pred\": 332.50891767017197, \"label\": \"Actual\", \"predicted_label\": \"Predicted\"}, {\"date\": \"2022-05-17T00:00:00\", \"y_test\": 328.8500061035157, \"y_pred\": 334.34882361107645, \"label\": \"Actual\", \"predicted_label\": \"Predicted\"}, {\"date\": \"2022-05-17T00:00:00\", \"y_test\": 328.8500061035157, \"y_pred\": 333.9308352204278, \"label\": \"Actual\", \"predicted_label\": \"Predicted\"}, {\"date\": \"2022-05-17T00:00:00\", \"y_test\": 328.8500061035157, \"y_pred\": 332.8742926527909, \"label\": \"Actual\", \"predicted_label\": \"Predicted\"}, {\"date\": \"2022-05-18T00:00:00\", \"y_test\": 336.75, \"y_pred\": 333.2943446920078, \"label\": \"Actual\", \"predicted_label\": \"Predicted\"}, {\"date\": \"2022-05-19T00:00:00\", \"y_test\": 335.25, \"y_pred\": 337.4926513932758, \"label\": \"Actual\", \"predicted_label\": \"Predicted\"}, {\"date\": \"2022-05-20T00:00:00\", \"y_test\": 343.29998779296875, \"y_pred\": 340.939212176002, \"label\": \"Actual\", \"predicted_label\": \"Predicted\"}, {\"date\": \"2022-05-23T00:00:00\", \"y_test\": 342.70001220703125, \"y_pred\": 346.55636799398474, \"label\": \"Actual\", \"predicted_label\": \"Predicted\"}, {\"date\": \"2022-05-24T00:00:00\", \"y_test\": 333.14999389648443, \"y_pred\": 338.6012026108673, \"label\": \"Actual\", \"predicted_label\": \"Predicted\"}, {\"date\": \"2022-05-25T00:00:00\", \"y_test\": 333.29998779296875, \"y_pred\": 337.41570166926755, \"label\": \"Actual\", \"predicted_label\": \"Predicted\"}, {\"date\": \"2022-05-26T00:00:00\", \"y_test\": 348.3999938964844, \"y_pred\": 328.7594023324369, \"label\": \"Actual\", \"predicted_label\": \"Predicted\"}, {\"date\": \"2022-05-27T00:00:00\", \"y_test\": 342.54998779296875, \"y_pred\": 351.17876217935674, \"label\": \"Actual\", \"predicted_label\": \"Predicted\"}, {\"date\": \"2022-05-30T00:00:00\", \"y_test\": 348.0, \"y_pred\": 341.7732477069633, \"label\": \"Actual\", \"predicted_label\": \"Predicted\"}, {\"date\": \"2022-05-31T00:00:00\", \"y_test\": 347.00000000000006, \"y_pred\": 343.38134965467685, \"label\": \"Actual\", \"predicted_label\": \"Predicted\"}, {\"date\": \"2022-06-01T00:00:00\", \"y_test\": 379.85000610351557, \"y_pred\": 353.0488849192966, \"label\": \"Actual\", \"predicted_label\": \"Predicted\"}, {\"date\": \"2022-06-02T00:00:00\", \"y_test\": 386.25000000000006, \"y_pred\": 389.29842908427565, \"label\": \"Actual\", \"predicted_label\": \"Predicted\"}, {\"date\": \"2022-06-03T00:00:00\", \"y_test\": 379.49999999999994, \"y_pred\": 386.3303965615966, \"label\": \"Actual\", \"predicted_label\": \"Predicted\"}, {\"date\": \"2022-06-06T00:00:00\", \"y_test\": 384.70001220703125, \"y_pred\": 379.5768836412022, \"label\": \"Actual\", \"predicted_label\": \"Predicted\"}, {\"date\": \"2022-06-07T00:00:00\", \"y_test\": 381.99999999999994, \"y_pred\": 384.7847014980017, \"label\": \"Actual\", \"predicted_label\": \"Predicted\"}, {\"date\": \"2022-06-08T00:00:00\", \"y_test\": 412.9500122070313, \"y_pred\": 390.4112257602163, \"label\": \"Actual\", \"predicted_label\": \"Predicted\"}, {\"date\": \"2022-06-09T00:00:00\", \"y_test\": 416.0, \"y_pred\": 409.16642312233006, \"label\": \"Actual\", \"predicted_label\": \"Predicted\"}, {\"date\": \"2022-06-10T00:00:00\", \"y_test\": 419.99999999999994, \"y_pred\": 419.92971645567764, \"label\": \"Actual\", \"predicted_label\": \"Predicted\"}, {\"date\": \"2022-06-13T00:00:00\", \"y_test\": 404.99999999999994, \"y_pred\": 415.4319492922297, \"label\": \"Actual\", \"predicted_label\": \"Predicted\"}, {\"date\": \"2022-06-14T00:00:00\", \"y_test\": 417.00000000000006, \"y_pred\": 414.561952271639, \"label\": \"Actual\", \"predicted_label\": \"Predicted\"}, {\"date\": \"2022-06-15T00:00:00\", \"y_test\": 414.75000000000006, \"y_pred\": 414.1299331786004, \"label\": \"Actual\", \"predicted_label\": \"Predicted\"}, {\"date\": \"2022-06-16T00:00:00\", \"y_test\": 410.5499877929688, \"y_pred\": 404.73347231492687, \"label\": \"Actual\", \"predicted_label\": \"Predicted\"}, {\"date\": \"2022-06-17T00:00:00\", \"y_test\": 396.95001220703125, \"y_pred\": 388.0228505786342, \"label\": \"Actual\", \"predicted_label\": \"Predicted\"}, {\"date\": \"2022-06-20T00:00:00\", \"y_test\": 395.1000061035156, \"y_pred\": 399.47844809049604, \"label\": \"Actual\", \"predicted_label\": \"Predicted\"}, {\"date\": \"2022-06-21T00:00:00\", \"y_test\": 393.99999999999994, \"y_pred\": 369.82781560214784, \"label\": \"Actual\", \"predicted_label\": \"Predicted\"}, {\"date\": \"2022-06-22T00:00:00\", \"y_test\": 389.6499938964844, \"y_pred\": 399.7056620764149, \"label\": \"Actual\", \"predicted_label\": \"Predicted\"}, {\"date\": \"2022-06-23T00:00:00\", \"y_test\": 388.45001220703125, \"y_pred\": 384.87188420826806, \"label\": \"Actual\", \"predicted_label\": \"Predicted\"}, {\"date\": \"2022-06-24T00:00:00\", \"y_test\": 402.2000122070313, \"y_pred\": 392.61279295831457, \"label\": \"Actual\", \"predicted_label\": \"Predicted\"}, {\"date\": \"2022-06-27T00:00:00\", \"y_test\": 399.2000122070313, \"y_pred\": 397.6246381490069, \"label\": \"Actual\", \"predicted_label\": \"Predicted\"}, {\"date\": \"2022-06-28T00:00:00\", \"y_test\": 389.49999999999994, \"y_pred\": 396.2661030922004, \"label\": \"Actual\", \"predicted_label\": \"Predicted\"}, {\"date\": \"2022-06-29T00:00:00\", \"y_test\": 392.6499938964844, \"y_pred\": 391.0344655008877, \"label\": \"Actual\", \"predicted_label\": \"Predicted\"}, {\"date\": \"2022-06-30T00:00:00\", \"y_test\": 370.8500061035156, \"y_pred\": 379.7136739325677, \"label\": \"Actual\", \"predicted_label\": \"Predicted\"}, {\"date\": \"2022-07-01T00:00:00\", \"y_test\": 362.6000061035156, \"y_pred\": 365.79142609107237, \"label\": \"Actual\", \"predicted_label\": \"Predicted\"}, {\"date\": \"2022-07-04T00:00:00\", \"y_test\": 353.20001220703125, \"y_pred\": 351.8822728747644, \"label\": \"Actual\", \"predicted_label\": \"Predicted\"}, {\"date\": \"2022-07-05T00:00:00\", \"y_test\": 385.7000122070313, \"y_pred\": 350.38990084999034, \"label\": \"Actual\", \"predicted_label\": \"Predicted\"}, {\"date\": \"2022-07-06T00:00:00\", \"y_test\": 378.3999938964844, \"y_pred\": 380.27282440699423, \"label\": \"Actual\", \"predicted_label\": \"Predicted\"}, {\"date\": \"2022-07-07T00:00:00\", \"y_test\": 377.7000122070313, \"y_pred\": 382.4481735560898, \"label\": \"Actual\", \"predicted_label\": \"Predicted\"}, {\"date\": \"2022-07-08T00:00:00\", \"y_test\": 371.6499938964843, \"y_pred\": 371.34964634358477, \"label\": \"Actual\", \"predicted_label\": \"Predicted\"}, {\"date\": \"2022-07-11T00:00:00\", \"y_test\": 375.79998779296875, \"y_pred\": 365.91974210958693, \"label\": \"Actual\", \"predicted_label\": \"Predicted\"}, {\"date\": \"2022-07-12T00:00:00\", \"y_test\": 376.0, \"y_pred\": 380.3890653025469, \"label\": \"Actual\", \"predicted_label\": \"Predicted\"}, {\"date\": \"2022-07-13T00:00:00\", \"y_test\": 380.0, \"y_pred\": 379.90725362281876, \"label\": \"Actual\", \"predicted_label\": \"Predicted\"}, {\"date\": \"2022-07-14T00:00:00\", \"y_test\": 376.9500122070313, \"y_pred\": 372.5096061053387, \"label\": \"Actual\", \"predicted_label\": \"Predicted\"}, {\"date\": \"2022-07-15T00:00:00\", \"y_test\": 382.89999389648443, \"y_pred\": 380.4615197680571, \"label\": \"Actual\", \"predicted_label\": \"Predicted\"}, {\"date\": \"2022-07-18T00:00:00\", \"y_test\": 385.0, \"y_pred\": 380.6288096269384, \"label\": \"Actual\", \"predicted_label\": \"Predicted\"}, {\"date\": \"2022-07-19T00:00:00\", \"y_test\": 373.7000122070313, \"y_pred\": 377.57393772411154, \"label\": \"Actual\", \"predicted_label\": \"Predicted\"}, {\"date\": \"2022-07-20T00:00:00\", \"y_test\": 377.2000122070313, \"y_pred\": 373.9702758980957, \"label\": \"Actual\", \"predicted_label\": \"Predicted\"}, {\"date\": \"2022-07-21T00:00:00\", \"y_test\": 379.8999938964843, \"y_pred\": 378.3308888259494, \"label\": \"Actual\", \"predicted_label\": \"Predicted\"}, {\"date\": \"2022-07-22T00:00:00\", \"y_test\": 373.5, \"y_pred\": 377.4022526260858, \"label\": \"Actual\", \"predicted_label\": \"Predicted\"}, {\"date\": \"2022-07-25T00:00:00\", \"y_test\": 377.0, \"y_pred\": 373.2634248100616, \"label\": \"Actual\", \"predicted_label\": \"Predicted\"}, {\"date\": \"2022-07-26T00:00:00\", \"y_test\": 373.8999938964843, \"y_pred\": 374.0365685793686, \"label\": \"Actual\", \"predicted_label\": \"Predicted\"}, {\"date\": \"2022-07-27T00:00:00\", \"y_test\": 369.1000061035156, \"y_pred\": 365.79726984983523, \"label\": \"Actual\", \"predicted_label\": \"Predicted\"}, {\"date\": \"2022-07-28T00:00:00\", \"y_test\": 374.99999999999994, \"y_pred\": 371.1765706856909, \"label\": \"Actual\", \"predicted_label\": \"Predicted\"}, {\"date\": \"2022-07-29T00:00:00\", \"y_test\": 378.7000122070313, \"y_pred\": 374.62628410167105, \"label\": \"Actual\", \"predicted_label\": \"Predicted\"}, {\"date\": \"2022-08-01T00:00:00\", \"y_test\": 402.2999877929688, \"y_pred\": 375.59494050922314, \"label\": \"Actual\", \"predicted_label\": \"Predicted\"}, {\"date\": \"2022-08-02T00:00:00\", \"y_test\": 425.9500122070313, \"y_pred\": 404.5338880594892, \"label\": \"Actual\", \"predicted_label\": \"Predicted\"}, {\"date\": \"2022-08-02T00:00:00\", \"y_test\": 425.9500122070313, \"y_pred\": 421.3246457785517, \"label\": \"Actual\", \"predicted_label\": \"Predicted\"}, {\"date\": \"2022-08-03T00:00:00\", \"y_test\": 440.0, \"y_pred\": 416.92951033929336, \"label\": \"Actual\", \"predicted_label\": \"Predicted\"}, {\"date\": \"2022-08-03T00:00:00\", \"y_test\": 440.0, \"y_pred\": 448.3211933783073, \"label\": \"Actual\", \"predicted_label\": \"Predicted\"}, {\"date\": \"2022-08-03T00:00:00\", \"y_test\": 440.0, \"y_pred\": 441.8420245692884, \"label\": \"Actual\", \"predicted_label\": \"Predicted\"}, {\"date\": \"2022-08-03T00:00:00\", \"y_test\": 440.0, \"y_pred\": 442.64280166062866, \"label\": \"Actual\", \"predicted_label\": \"Predicted\"}, {\"date\": \"2022-08-03T00:00:00\", \"y_test\": 440.0, \"y_pred\": 441.9289942318034, \"label\": \"Actual\", \"predicted_label\": \"Predicted\"}, {\"date\": \"2022-08-03T00:00:00\", \"y_test\": 440.0, \"y_pred\": 443.51537566257775, \"label\": \"Actual\", \"predicted_label\": \"Predicted\"}, {\"date\": \"2022-08-03T00:00:00\", \"y_test\": 440.0, \"y_pred\": 442.94840105794685, \"label\": \"Actual\", \"predicted_label\": \"Predicted\"}, {\"date\": \"2022-08-03T00:00:00\", \"y_test\": 440.0, \"y_pred\": 443.463933887196, \"label\": \"Actual\", \"predicted_label\": \"Predicted\"}, {\"date\": \"2022-08-03T00:00:00\", \"y_test\": 440.0, \"y_pred\": 443.5497943322184, \"label\": \"Actual\", \"predicted_label\": \"Predicted\"}, {\"date\": \"2022-08-03T00:00:00\", \"y_test\": 440.0, \"y_pred\": 443.43286657002847, \"label\": \"Actual\", \"predicted_label\": \"Predicted\"}, {\"date\": \"2022-08-04T00:00:00\", \"y_test\": 445.6000061035156, \"y_pred\": 443.414223551357, \"label\": \"Actual\", \"predicted_label\": \"Predicted\"}, {\"date\": \"2022-08-05T00:00:00\", \"y_test\": 430.7999877929688, \"y_pred\": 431.9371812798571, \"label\": \"Actual\", \"predicted_label\": \"Predicted\"}, {\"date\": \"2022-08-08T00:00:00\", \"y_test\": 437.95001220703125, \"y_pred\": 435.5024478037923, \"label\": \"Actual\", \"predicted_label\": \"Predicted\"}, {\"date\": \"2022-08-10T00:00:00\", \"y_test\": 464.5, \"y_pred\": 440.7863783187235, \"label\": \"Actual\", \"predicted_label\": \"Predicted\"}, {\"date\": \"2022-08-11T00:00:00\", \"y_test\": 453.8500061035156, \"y_pred\": 457.27376480536515, \"label\": \"Actual\", \"predicted_label\": \"Predicted\"}, {\"date\": \"2022-08-11T00:00:00\", \"y_test\": 453.8500061035156, \"y_pred\": 455.2330110858937, \"label\": \"Actual\", \"predicted_label\": \"Predicted\"}, {\"date\": \"2022-08-12T00:00:00\", \"y_test\": 454.0, \"y_pred\": 453.20600564518315, \"label\": \"Actual\", \"predicted_label\": \"Predicted\"}, {\"date\": \"2022-08-16T00:00:00\", \"y_test\": 463.04998779296886, \"y_pred\": 462.4992196143616, \"label\": \"Actual\", \"predicted_label\": \"Predicted\"}, {\"date\": \"2022-08-17T00:00:00\", \"y_test\": 435.99999999999994, \"y_pred\": 435.74786907587935, \"label\": \"Actual\", \"predicted_label\": \"Predicted\"}, {\"date\": \"2022-08-18T00:00:00\", \"y_test\": 433.7000122070313, \"y_pred\": 438.1805829669306, \"label\": \"Actual\", \"predicted_label\": \"Predicted\"}, {\"date\": \"2022-08-19T00:00:00\", \"y_test\": 434.20001220703136, \"y_pred\": 433.13216231581725, \"label\": \"Actual\", \"predicted_label\": \"Predicted\"}, {\"date\": \"2022-08-22T00:00:00\", \"y_test\": 469.75000000000006, \"y_pred\": 429.10568160545245, \"label\": \"Actual\", \"predicted_label\": \"Predicted\"}, {\"date\": \"2022-08-22T00:00:00\", \"y_test\": 469.75, \"y_pred\": 475.6913948731275, \"label\": \"Actual\", \"predicted_label\": \"Predicted\"}, {\"date\": \"2022-08-22T00:00:00\", \"y_test\": 469.75, \"y_pred\": 477.59361062287104, \"label\": \"Actual\", \"predicted_label\": \"Predicted\"}, {\"date\": \"2022-08-22T00:00:00\", \"y_test\": 469.75, \"y_pred\": 475.5107714796376, \"label\": \"Actual\", \"predicted_label\": \"Predicted\"}, {\"date\": \"2022-08-23T00:00:00\", \"y_test\": 467.1499938964844, \"y_pred\": 476.18773296706246, \"label\": \"Actual\", \"predicted_label\": \"Predicted\"}, {\"date\": \"2022-08-24T00:00:00\", \"y_test\": 481.2000122070313, \"y_pred\": 471.240401409019, \"label\": \"Actual\", \"predicted_label\": \"Predicted\"}, {\"date\": \"2022-08-25T00:00:00\", \"y_test\": 491.10000610351557, \"y_pred\": 482.7659587847573, \"label\": \"Actual\", \"predicted_label\": \"Predicted\"}, {\"date\": \"2022-08-26T00:00:00\", \"y_test\": 502.0, \"y_pred\": 477.8187660465622, \"label\": \"Actual\", \"predicted_label\": \"Predicted\"}, {\"date\": \"2022-08-29T00:00:00\", \"y_test\": 504.70001220703125, \"y_pred\": 505.47558019912447, \"label\": \"Actual\", \"predicted_label\": \"Predicted\"}, {\"date\": \"2022-08-30T00:00:00\", \"y_test\": 506.45001220703125, \"y_pred\": 506.5754608008359, \"label\": \"Actual\", \"predicted_label\": \"Predicted\"}, {\"date\": \"2022-09-01T00:00:00\", \"y_test\": 505.6499938964844, \"y_pred\": 506.5247370238601, \"label\": \"Actual\", \"predicted_label\": \"Predicted\"}, {\"date\": \"2022-09-02T00:00:00\", \"y_test\": 537.75, \"y_pred\": 499.6389754282492, \"label\": \"Actual\", \"predicted_label\": \"Predicted\"}, {\"date\": \"2022-09-05T00:00:00\", \"y_test\": 544.4500122070312, \"y_pred\": 545.256035291403, \"label\": \"Actual\", \"predicted_label\": \"Predicted\"}, {\"date\": \"2022-09-06T00:00:00\", \"y_test\": 565.0, \"y_pred\": 551.6904869162013, \"label\": \"Actual\", \"predicted_label\": \"Predicted\"}, {\"date\": \"2022-09-07T00:00:00\", \"y_test\": 566.5, \"y_pred\": 557.6241009265444, \"label\": \"Actual\", \"predicted_label\": \"Predicted\"}, {\"date\": \"2022-09-08T00:00:00\", \"y_test\": 563.8499755859375, \"y_pred\": 570.7232726681856, \"label\": \"Actual\", \"predicted_label\": \"Predicted\"}, {\"date\": \"2022-09-09T00:00:00\", \"y_test\": 565.0, \"y_pred\": 563.655116739017, \"label\": \"Actual\", \"predicted_label\": \"Predicted\"}, {\"date\": \"2022-09-12T00:00:00\", \"y_test\": 560.75, \"y_pred\": 566.5126962776903, \"label\": \"Actual\", \"predicted_label\": \"Predicted\"}, {\"date\": \"2022-09-13T00:00:00\", \"y_test\": 563.9500122070312, \"y_pred\": 566.312359337431, \"label\": \"Actual\", \"predicted_label\": \"Predicted\"}, {\"date\": \"2022-09-14T00:00:00\", \"y_test\": 557.4000244140625, \"y_pred\": 542.8609738170861, \"label\": \"Actual\", \"predicted_label\": \"Predicted\"}, {\"date\": \"2022-09-15T00:00:00\", \"y_test\": 555.0, \"y_pred\": 560.4729780624322, \"label\": \"Actual\", \"predicted_label\": \"Predicted\"}, {\"date\": \"2022-09-16T00:00:00\", \"y_test\": 529.25, \"y_pred\": 534.6171570269979, \"label\": \"Actual\", \"predicted_label\": \"Predicted\"}, {\"date\": \"2022-09-19T00:00:00\", \"y_test\": 498.14999389648443, \"y_pred\": 496.04923495692924, \"label\": \"Actual\", \"predicted_label\": \"Predicted\"}, {\"date\": \"2022-09-20T00:00:00\", \"y_test\": 506.74999999999994, \"y_pred\": 481.4348780438618, \"label\": \"Actual\", \"predicted_label\": \"Predicted\"}, {\"date\": \"2022-09-21T00:00:00\", \"y_test\": 492.45001220703136, \"y_pred\": 489.4036799600523, \"label\": \"Actual\", \"predicted_label\": \"Predicted\"}, {\"date\": \"2022-09-22T00:00:00\", \"y_test\": 473.7999877929688, \"y_pred\": 472.44331257898114, \"label\": \"Actual\", \"predicted_label\": \"Predicted\"}, {\"date\": \"2022-09-23T00:00:00\", \"y_test\": 469.2000122070313, \"y_pred\": 471.72490920561046, \"label\": \"Actual\", \"predicted_label\": \"Predicted\"}, {\"date\": \"2022-09-26T00:00:00\", \"y_test\": 442.9500122070313, \"y_pred\": 459.0537700229474, \"label\": \"Actual\", \"predicted_label\": \"Predicted\"}, {\"date\": \"2022-09-27T00:00:00\", \"y_test\": 435.9500122070313, \"y_pred\": 434.6608188045677, \"label\": \"Actual\", \"predicted_label\": \"Predicted\"}, {\"date\": \"2022-09-28T00:00:00\", \"y_test\": 410.0, \"y_pred\": 420.67385434436875, \"label\": \"Actual\", \"predicted_label\": \"Predicted\"}, {\"date\": \"2022-09-29T00:00:00\", \"y_test\": 428.20001220703136, \"y_pred\": 414.82500016300077, \"label\": \"Actual\", \"predicted_label\": \"Predicted\"}, {\"date\": \"2022-09-30T00:00:00\", \"y_test\": 426.79998779296886, \"y_pred\": 425.32175723554036, \"label\": \"Actual\", \"predicted_label\": \"Predicted\"}, {\"date\": \"2022-10-03T00:00:00\", \"y_test\": 425.6499938964844, \"y_pred\": 430.5396524511509, \"label\": \"Actual\", \"predicted_label\": \"Predicted\"}, {\"date\": \"2022-10-04T00:00:00\", \"y_test\": 435.0, \"y_pred\": 431.1148438400443, \"label\": \"Actual\", \"predicted_label\": \"Predicted\"}, {\"date\": \"2022-10-06T00:00:00\", \"y_test\": 442.0, \"y_pred\": 435.97014524781264, \"label\": \"Actual\", \"predicted_label\": \"Predicted\"}, {\"date\": \"2022-10-07T00:00:00\", \"y_test\": 429.1499938964844, \"y_pred\": 441.4660450603159, \"label\": \"Actual\", \"predicted_label\": \"Predicted\"}, {\"date\": \"2022-10-10T00:00:00\", \"y_test\": 417.6000061035156, \"y_pred\": 438.31838193260995, \"label\": \"Actual\", \"predicted_label\": \"Predicted\"}, {\"date\": \"2022-10-11T00:00:00\", \"y_test\": 423.54998779296886, \"y_pred\": 421.5533071835214, \"label\": \"Actual\", \"predicted_label\": \"Predicted\"}, {\"date\": \"2022-10-12T00:00:00\", \"y_test\": 413.29998779296886, \"y_pred\": 419.91669116524497, \"label\": \"Actual\", \"predicted_label\": \"Predicted\"}, {\"date\": \"2022-10-13T00:00:00\", \"y_test\": 412.9500122070313, \"y_pred\": 417.53059693922734, \"label\": \"Actual\", \"predicted_label\": \"Predicted\"}, {\"date\": \"2022-10-14T00:00:00\", \"y_test\": 427.0, \"y_pred\": 411.39182580423085, \"label\": \"Actual\", \"predicted_label\": \"Predicted\"}, {\"date\": \"2022-10-17T00:00:00\", \"y_test\": 451.1000061035157, \"y_pred\": 433.1585398433192, \"label\": \"Actual\", \"predicted_label\": \"Predicted\"}, {\"date\": \"2022-10-18T00:00:00\", \"y_test\": 439.79998779296886, \"y_pred\": 441.45619128909067, \"label\": \"Actual\", \"predicted_label\": \"Predicted\"}, {\"date\": \"2022-10-19T00:00:00\", \"y_test\": 453.29998779296886, \"y_pred\": 446.93449571880376, \"label\": \"Actual\", \"predicted_label\": \"Predicted\"}, {\"date\": \"2022-10-20T00:00:00\", \"y_test\": 454.75, \"y_pred\": 459.0238643669756, \"label\": \"Actual\", \"predicted_label\": \"Predicted\"}, {\"date\": \"2022-10-21T00:00:00\", \"y_test\": 500.0, \"y_pred\": 461.5803861077168, \"label\": \"Actual\", \"predicted_label\": \"Predicted\"}, {\"date\": \"2022-10-24T00:00:00\", \"y_test\": 509.7000122070313, \"y_pred\": 504.73447474225594, \"label\": \"Actual\", \"predicted_label\": \"Predicted\"}, {\"date\": \"2022-10-25T00:00:00\", \"y_test\": 531.25, \"y_pred\": 520.9476487022864, \"label\": \"Actual\", \"predicted_label\": \"Predicted\"}, {\"date\": \"2022-10-27T00:00:00\", \"y_test\": 534.7999877929688, \"y_pred\": 538.5808329503616, \"label\": \"Actual\", \"predicted_label\": \"Predicted\"}, {\"date\": \"2022-10-28T00:00:00\", \"y_test\": 540.7999877929688, \"y_pred\": 542.7346930463783, \"label\": \"Actual\", \"predicted_label\": \"Predicted\"}, {\"date\": \"2022-10-31T00:00:00\", \"y_test\": 510.3999938964844, \"y_pred\": 518.5600631992436, \"label\": \"Actual\", \"predicted_label\": \"Predicted\"}, {\"date\": \"2022-11-01T00:00:00\", \"y_test\": 506.00000000000006, \"y_pred\": 493.9966549810685, \"label\": \"Actual\", \"predicted_label\": \"Predicted\"}, {\"date\": \"2022-11-02T00:00:00\", \"y_test\": 501.70001220703125, \"y_pred\": 496.69562650694104, \"label\": \"Actual\", \"predicted_label\": \"Predicted\"}, {\"date\": \"2022-11-03T00:00:00\", \"y_test\": 488.54998779296886, \"y_pred\": 499.76742866885957, \"label\": \"Actual\", \"predicted_label\": \"Predicted\"}, {\"date\": \"2022-11-04T00:00:00\", \"y_test\": 503.00000000000006, \"y_pred\": 495.1080931949096, \"label\": \"Actual\", \"predicted_label\": \"Predicted\"}, {\"date\": \"2022-11-07T00:00:00\", \"y_test\": 514.5, \"y_pred\": 504.73274948512636, \"label\": \"Actual\", \"predicted_label\": \"Predicted\"}, {\"date\": \"2022-11-09T00:00:00\", \"y_test\": 501.75, \"y_pred\": 509.0721173189719, \"label\": \"Actual\", \"predicted_label\": \"Predicted\"}, {\"date\": \"2022-11-10T00:00:00\", \"y_test\": 510.8500061035156, \"y_pred\": 508.4885027100014, \"label\": \"Actual\", \"predicted_label\": \"Predicted\"}, {\"date\": \"2022-11-11T00:00:00\", \"y_test\": 521.9500122070312, \"y_pred\": 519.8838881011532, \"label\": \"Actual\", \"predicted_label\": \"Predicted\"}, {\"date\": \"2022-11-14T00:00:00\", \"y_test\": 507.5, \"y_pred\": 515.544830799157, \"label\": \"Actual\", \"predicted_label\": \"Predicted\"}, {\"date\": \"2022-11-15T00:00:00\", \"y_test\": 514.75, \"y_pred\": 512.1136016105171, \"label\": \"Actual\", \"predicted_label\": \"Predicted\"}, {\"date\": \"2022-11-16T00:00:00\", \"y_test\": 512.0, \"y_pred\": 519.741958649098, \"label\": \"Actual\", \"predicted_label\": \"Predicted\"}, {\"date\": \"2022-11-17T00:00:00\", \"y_test\": 500.49999999999994, \"y_pred\": 505.3330109854517, \"label\": \"Actual\", \"predicted_label\": \"Predicted\"}, {\"date\": \"2022-11-18T00:00:00\", \"y_test\": 502.45001220703136, \"y_pred\": 506.2133290431849, \"label\": \"Actual\", \"predicted_label\": \"Predicted\"}, {\"date\": \"2022-11-21T00:00:00\", \"y_test\": 510.8500061035157, \"y_pred\": 496.08221271443296, \"label\": \"Actual\", \"predicted_label\": \"Predicted\"}, {\"date\": \"2022-11-22T00:00:00\", \"y_test\": 509.50000000000006, \"y_pred\": 515.6700686318342, \"label\": \"Actual\", \"predicted_label\": \"Predicted\"}, {\"date\": \"2022-11-23T00:00:00\", \"y_test\": 506.3500061035156, \"y_pred\": 504.7506985159819, \"label\": \"Actual\", \"predicted_label\": \"Predicted\"}, {\"date\": \"2022-11-24T00:00:00\", \"y_test\": 505.8500061035156, \"y_pred\": 504.2742469657126, \"label\": \"Actual\", \"predicted_label\": \"Predicted\"}, {\"date\": \"2022-11-25T00:00:00\", \"y_test\": 512.4500122070312, \"y_pred\": 506.9989623972642, \"label\": \"Actual\", \"predicted_label\": \"Predicted\"}, {\"date\": \"2022-11-28T00:00:00\", \"y_test\": 495.6499938964844, \"y_pred\": 490.5982597558012, \"label\": \"Actual\", \"predicted_label\": \"Predicted\"}, {\"date\": \"2022-11-29T00:00:00\", \"y_test\": 490.8500061035156, \"y_pred\": 500.2487805839265, \"label\": \"Actual\", \"predicted_label\": \"Predicted\"}, {\"date\": \"2022-11-30T00:00:00\", \"y_test\": 483.95001220703136, \"y_pred\": 477.3910017697641, \"label\": \"Actual\", \"predicted_label\": \"Predicted\"}, {\"date\": \"2022-12-01T00:00:00\", \"y_test\": 493.25, \"y_pred\": 481.26757285648154, \"label\": \"Actual\", \"predicted_label\": \"Predicted\"}, {\"date\": \"2022-12-02T00:00:00\", \"y_test\": 490.6000061035156, \"y_pred\": 491.9920578020906, \"label\": \"Actual\", \"predicted_label\": \"Predicted\"}, {\"date\": \"2022-12-05T00:00:00\", \"y_test\": 493.8500061035156, \"y_pred\": 494.66828390729836, \"label\": \"Actual\", \"predicted_label\": \"Predicted\"}, {\"date\": \"2022-12-06T00:00:00\", \"y_test\": 520.0, \"y_pred\": 495.85584744002443, \"label\": \"Actual\", \"predicted_label\": \"Predicted\"}, {\"date\": \"2022-12-07T00:00:00\", \"y_test\": 525.0, \"y_pred\": 523.7596453579513, \"label\": \"Actual\", \"predicted_label\": \"Predicted\"}, {\"date\": \"2022-12-08T00:00:00\", \"y_test\": 531.2000122070312, \"y_pred\": 529.9215015075184, \"label\": \"Actual\", \"predicted_label\": \"Predicted\"}, {\"date\": \"2022-12-09T00:00:00\", \"y_test\": 532.4999999999999, \"y_pred\": 535.8174450414081, \"label\": \"Actual\", \"predicted_label\": \"Predicted\"}, {\"date\": \"2022-12-12T00:00:00\", \"y_test\": 512.7999877929688, \"y_pred\": 519.3530407466546, \"label\": \"Actual\", \"predicted_label\": \"Predicted\"}, {\"date\": \"2022-12-13T00:00:00\", \"y_test\": 526.3499755859375, \"y_pred\": 518.1964430277388, \"label\": \"Actual\", \"predicted_label\": \"Predicted\"}, {\"date\": \"2022-12-14T00:00:00\", \"y_test\": 531.5499877929688, \"y_pred\": 523.6404572785539, \"label\": \"Actual\", \"predicted_label\": \"Predicted\"}, {\"date\": \"2022-12-15T00:00:00\", \"y_test\": 517.4500122070312, \"y_pred\": 521.9499456794847, \"label\": \"Actual\", \"predicted_label\": \"Predicted\"}, {\"date\": \"2022-12-16T00:00:00\", \"y_test\": 502.2000122070313, \"y_pred\": 509.06704520345596, \"label\": \"Actual\", \"predicted_label\": \"Predicted\"}, {\"date\": \"2022-12-19T00:00:00\", \"y_test\": 486.6000061035156, \"y_pred\": 497.1786834899253, \"label\": \"Actual\", \"predicted_label\": \"Predicted\"}, {\"date\": \"2022-12-20T00:00:00\", \"y_test\": 489.99999999999994, \"y_pred\": 487.5812064743395, \"label\": \"Actual\", \"predicted_label\": \"Predicted\"}, {\"date\": \"2022-12-21T00:00:00\", \"y_test\": 492.3999938964844, \"y_pred\": 487.7124456501258, \"label\": \"Actual\", \"predicted_label\": \"Predicted\"}, {\"date\": \"2022-12-22T00:00:00\", \"y_test\": 477.79998779296886, \"y_pred\": 476.0011709144845, \"label\": \"Actual\", \"predicted_label\": \"Predicted\"}, {\"date\": \"2022-12-23T00:00:00\", \"y_test\": 446.0, \"y_pred\": 458.2308502762394, \"label\": \"Actual\", \"predicted_label\": \"Predicted\"}, {\"date\": \"2022-12-26T00:00:00\", \"y_test\": 442.2999877929688, \"y_pred\": 427.15749342363443, \"label\": \"Actual\", \"predicted_label\": \"Predicted\"}, {\"date\": \"2022-12-27T00:00:00\", \"y_test\": 449.9500122070313, \"y_pred\": 446.4926261906083, \"label\": \"Actual\", \"predicted_label\": \"Predicted\"}, {\"date\": \"2022-12-28T00:00:00\", \"y_test\": 438.5499877929688, \"y_pred\": 447.2321941302378, \"label\": \"Actual\", \"predicted_label\": \"Predicted\"}, {\"date\": \"2022-12-29T00:00:00\", \"y_test\": 437.5499877929688, \"y_pred\": 437.4556946374428, \"label\": \"Actual\", \"predicted_label\": \"Predicted\"}, {\"date\": \"2022-12-30T00:00:00\", \"y_test\": 438.25, \"y_pred\": 439.9912040293528, \"label\": \"Actual\", \"predicted_label\": \"Predicted\"}, {\"date\": \"2023-01-02T00:00:00\", \"y_test\": 426.29998779296886, \"y_pred\": 429.984669784959, \"label\": \"Actual\", \"predicted_label\": \"Predicted\"}, {\"date\": \"2023-01-03T00:00:00\", \"y_test\": 420.5, \"y_pred\": 429.0464924040378, \"label\": \"Actual\", \"predicted_label\": \"Predicted\"}, {\"date\": \"2023-01-04T00:00:00\", \"y_test\": 420.0, \"y_pred\": 420.1052965525688, \"label\": \"Actual\", \"predicted_label\": \"Predicted\"}, {\"date\": \"2023-01-05T00:00:00\", \"y_test\": 415.45001220703125, \"y_pred\": 416.4808241205208, \"label\": \"Actual\", \"predicted_label\": \"Predicted\"}, {\"date\": \"2023-01-06T00:00:00\", \"y_test\": 413.50000000000006, \"y_pred\": 421.06395030530564, \"label\": \"Actual\", \"predicted_label\": \"Predicted\"}, {\"date\": \"2023-01-09T00:00:00\", \"y_test\": 415.74999999999994, \"y_pred\": 420.49919628683676, \"label\": \"Actual\", \"predicted_label\": \"Predicted\"}, {\"date\": \"2023-01-10T00:00:00\", \"y_test\": 416.49999999999994, \"y_pred\": 418.5704012073654, \"label\": \"Actual\", \"predicted_label\": \"Predicted\"}, {\"date\": \"2023-01-11T00:00:00\", \"y_test\": 423.45001220703136, \"y_pred\": 423.09659893883315, \"label\": \"Actual\", \"predicted_label\": \"Predicted\"}, {\"date\": \"2023-01-12T00:00:00\", \"y_test\": 421.1499938964844, \"y_pred\": 412.68262956036307, \"label\": \"Actual\", \"predicted_label\": \"Predicted\"}, {\"date\": \"2023-01-13T00:00:00\", \"y_test\": 414.8999938964843, \"y_pred\": 421.8896466291621, \"label\": \"Actual\", \"predicted_label\": \"Predicted\"}, {\"date\": \"2023-01-16T00:00:00\", \"y_test\": 411.7999877929688, \"y_pred\": 416.1508923244058, \"label\": \"Actual\", \"predicted_label\": \"Predicted\"}, {\"date\": \"2023-01-17T00:00:00\", \"y_test\": 416.9500122070313, \"y_pred\": 418.25516677614655, \"label\": \"Actual\", \"predicted_label\": \"Predicted\"}, {\"date\": \"2023-01-18T00:00:00\", \"y_test\": 405.6499938964844, \"y_pred\": 409.4876172867654, \"label\": \"Actual\", \"predicted_label\": \"Predicted\"}, {\"date\": \"2023-01-19T00:00:00\", \"y_test\": 398.0, \"y_pred\": 406.51403250870044, \"label\": \"Actual\", \"predicted_label\": \"Predicted\"}, {\"date\": \"2023-01-20T00:00:00\", \"y_test\": 388.6499938964844, \"y_pred\": 396.29424173439276, \"label\": \"Actual\", \"predicted_label\": \"Predicted\"}, {\"date\": \"2023-01-23T00:00:00\", \"y_test\": 384.8999938964844, \"y_pred\": 391.55444125384673, \"label\": \"Actual\", \"predicted_label\": \"Predicted\"}, {\"date\": \"2023-01-24T00:00:00\", \"y_test\": 379.0, \"y_pred\": 382.2530179666181, \"label\": \"Actual\", \"predicted_label\": \"Predicted\"}, {\"date\": \"2023-01-25T00:00:00\", \"y_test\": 385.24999999999994, \"y_pred\": 380.9477331575439, \"label\": \"Actual\", \"predicted_label\": \"Predicted\"}, {\"date\": \"2023-01-27T00:00:00\", \"y_test\": 375.7999877929688, \"y_pred\": 378.3507195914509, \"label\": \"Actual\", \"predicted_label\": \"Predicted\"}, {\"date\": \"2023-01-30T00:00:00\", \"y_test\": 367.3500061035156, \"y_pred\": 372.3152462907731, \"label\": \"Actual\", \"predicted_label\": \"Predicted\"}, {\"date\": \"2023-01-31T00:00:00\", \"y_test\": 387.64999389648443, \"y_pred\": 369.7364334879694, \"label\": \"Actual\", \"predicted_label\": \"Predicted\"}, {\"date\": \"2023-02-01T00:00:00\", \"y_test\": 390.5, \"y_pred\": 387.18374029152386, \"label\": \"Actual\", \"predicted_label\": \"Predicted\"}, {\"date\": \"2023-02-02T00:00:00\", \"y_test\": 389.00000000000006, \"y_pred\": 386.3164298092809, \"label\": \"Actual\", \"predicted_label\": \"Predicted\"}, {\"date\": \"2023-02-03T00:00:00\", \"y_test\": 394.00000000000006, \"y_pred\": 387.59450429122717, \"label\": \"Actual\", \"predicted_label\": \"Predicted\"}, {\"date\": \"2023-02-06T00:00:00\", \"y_test\": 420.0, \"y_pred\": 392.3602014945049, \"label\": \"Actual\", \"predicted_label\": \"Predicted\"}, {\"date\": \"2023-02-07T00:00:00\", \"y_test\": 423.14999389648443, \"y_pred\": 422.52107044103917, \"label\": \"Actual\", \"predicted_label\": \"Predicted\"}, {\"date\": \"2023-02-08T00:00:00\", \"y_test\": 429.45001220703125, \"y_pred\": 411.38474816226477, \"label\": \"Actual\", \"predicted_label\": \"Predicted\"}, {\"date\": \"2023-02-09T00:00:00\", \"y_test\": 443.9500122070313, \"y_pred\": 436.1627127591723, \"label\": \"Actual\", \"predicted_label\": \"Predicted\"}, {\"date\": \"2023-02-10T00:00:00\", \"y_test\": 448.35000610351557, \"y_pred\": 452.5048512794876, \"label\": \"Actual\", \"predicted_label\": \"Predicted\"}, {\"date\": \"2023-02-13T00:00:00\", \"y_test\": 445.04998779296875, \"y_pred\": 450.8918630386011, \"label\": \"Actual\", \"predicted_label\": \"Predicted\"}, {\"date\": \"2023-02-14T00:00:00\", \"y_test\": 462.0, \"y_pred\": 450.3180859461721, \"label\": \"Actual\", \"predicted_label\": \"Predicted\"}, {\"date\": \"2023-02-15T00:00:00\", \"y_test\": 455.3500061035156, \"y_pred\": 464.33769272479896, \"label\": \"Actual\", \"predicted_label\": \"Predicted\"}, {\"date\": \"2023-02-16T00:00:00\", \"y_test\": 454.70001220703125, \"y_pred\": 451.8694869541862, \"label\": \"Actual\", \"predicted_label\": \"Predicted\"}, {\"date\": \"2023-02-17T00:00:00\", \"y_test\": 459.5499877929688, \"y_pred\": 458.16754394363437, \"label\": \"Actual\", \"predicted_label\": \"Predicted\"}, {\"date\": \"2023-02-20T00:00:00\", \"y_test\": 468.0, \"y_pred\": 456.27004130912906, \"label\": \"Actual\", \"predicted_label\": \"Predicted\"}, {\"date\": \"2023-02-21T00:00:00\", \"y_test\": 465.8500061035156, \"y_pred\": 462.5466715928513, \"label\": \"Actual\", \"predicted_label\": \"Predicted\"}, {\"date\": \"2023-02-22T00:00:00\", \"y_test\": 466.74999999999994, \"y_pred\": 468.0978297914147, \"label\": \"Actual\", \"predicted_label\": \"Predicted\"}, {\"date\": \"2023-02-23T00:00:00\", \"y_test\": 464.95001220703136, \"y_pred\": 471.3805104651814, \"label\": \"Actual\", \"predicted_label\": \"Predicted\"}, {\"date\": \"2023-02-24T00:00:00\", \"y_test\": 456.35000610351557, \"y_pred\": 457.7464833650405, \"label\": \"Actual\", \"predicted_label\": \"Predicted\"}, {\"date\": \"2023-02-27T00:00:00\", \"y_test\": 444.75000000000006, \"y_pred\": 451.4712320547994, \"label\": \"Actual\", \"predicted_label\": \"Predicted\"}, {\"date\": \"2023-02-28T00:00:00\", \"y_test\": 474.25000000000006, \"y_pred\": 438.87245265248936, \"label\": \"Actual\", \"predicted_label\": \"Predicted\"}, {\"date\": \"2023-03-01T00:00:00\", \"y_test\": 480.0, \"y_pred\": 476.94401627006204, \"label\": \"Actual\", \"predicted_label\": \"Predicted\"}, {\"date\": \"2023-03-02T00:00:00\", \"y_test\": 482.25, \"y_pred\": 487.8779067148264, \"label\": \"Actual\", \"predicted_label\": \"Predicted\"}, {\"date\": \"2023-03-03T00:00:00\", \"y_test\": 484.75000000000006, \"y_pred\": 487.4359889065491, \"label\": \"Actual\", \"predicted_label\": \"Predicted\"}, {\"date\": \"2023-03-06T00:00:00\", \"y_test\": 480.6499938964844, \"y_pred\": 476.0846734909995, \"label\": \"Actual\", \"predicted_label\": \"Predicted\"}, {\"date\": \"2023-03-08T00:00:00\", \"y_test\": 479.45001220703125, \"y_pred\": 485.0875657369577, \"label\": \"Actual\", \"predicted_label\": \"Predicted\"}, {\"date\": \"2023-03-09T00:00:00\", \"y_test\": 472.2999877929688, \"y_pred\": 472.1396972672719, \"label\": \"Actual\", \"predicted_label\": \"Predicted\"}, {\"date\": \"2023-03-10T00:00:00\", \"y_test\": 471.2000122070313, \"y_pred\": 478.1015781420064, \"label\": \"Actual\", \"predicted_label\": \"Predicted\"}, {\"date\": \"2023-03-13T00:00:00\", \"y_test\": 494.0499877929688, \"y_pred\": 475.4588500610329, \"label\": \"Actual\", \"predicted_label\": \"Predicted\"}, {\"date\": \"2023-03-14T00:00:00\", \"y_test\": 479.0, \"y_pred\": 484.34197668812834, \"label\": \"Actual\", \"predicted_label\": \"Predicted\"}, {\"date\": \"2023-03-15T00:00:00\", \"y_test\": 492.79998779296875, \"y_pred\": 483.4070361578643, \"label\": \"Actual\", \"predicted_label\": \"Predicted\"}, {\"date\": \"2023-03-16T00:00:00\", \"y_test\": 483.3999938964844, \"y_pred\": 490.362567320813, \"label\": \"Actual\", \"predicted_label\": \"Predicted\"}, {\"date\": \"2023-03-17T00:00:00\", \"y_test\": 494.54998779296875, \"y_pred\": 484.6282951080828, \"label\": \"Actual\", \"predicted_label\": \"Predicted\"}, {\"date\": \"2023-03-20T00:00:00\", \"y_test\": 489.75, \"y_pred\": 496.6953984449326, \"label\": \"Actual\", \"predicted_label\": \"Predicted\"}, {\"date\": \"2023-03-21T00:00:00\", \"y_test\": 482.24999999999994, \"y_pred\": 485.9919818984636, \"label\": \"Actual\", \"predicted_label\": \"Predicted\"}, {\"date\": \"2023-03-22T00:00:00\", \"y_test\": 475.4500122070313, \"y_pred\": 477.1373418514349, \"label\": \"Actual\", \"predicted_label\": \"Predicted\"}, {\"date\": \"2023-03-23T00:00:00\", \"y_test\": 488.2000122070313, \"y_pred\": 479.3129284756124, \"label\": \"Actual\", \"predicted_label\": \"Predicted\"}, {\"date\": \"2023-03-24T00:00:00\", \"y_test\": 480.0, \"y_pred\": 486.6925126854377, \"label\": \"Actual\", \"predicted_label\": \"Predicted\"}, {\"date\": \"2023-03-27T00:00:00\", \"y_test\": 469.89999389648443, \"y_pred\": 474.1548795384594, \"label\": \"Actual\", \"predicted_label\": \"Predicted\"}, {\"date\": \"2023-03-28T00:00:00\", \"y_test\": 451.6000061035156, \"y_pred\": 451.31280311612494, \"label\": \"Actual\", \"predicted_label\": \"Predicted\"}, {\"date\": \"2023-03-29T00:00:00\", \"y_test\": 440.1000061035156, \"y_pred\": 433.73155422009427, \"label\": \"Actual\", \"predicted_label\": \"Predicted\"}, {\"date\": \"2023-03-31T00:00:00\", \"y_test\": 446.0, \"y_pred\": 439.28559600761594, \"label\": \"Actual\", \"predicted_label\": \"Predicted\"}, {\"date\": \"2023-04-03T00:00:00\", \"y_test\": 451.6000061035156, \"y_pred\": 445.22437889214734, \"label\": \"Actual\", \"predicted_label\": \"Predicted\"}, {\"date\": \"2023-04-05T00:00:00\", \"y_test\": 471.4500122070313, \"y_pred\": 438.99976411825617, \"label\": \"Actual\", \"predicted_label\": \"Predicted\"}, {\"date\": \"2023-04-06T00:00:00\", \"y_test\": 471.49999999999994, \"y_pred\": 472.3363032772942, \"label\": \"Actual\", \"predicted_label\": \"Predicted\"}, {\"date\": \"2023-04-10T00:00:00\", \"y_test\": 477.99999999999994, \"y_pred\": 473.272958581215, \"label\": \"Actual\", \"predicted_label\": \"Predicted\"}, {\"date\": \"2023-04-11T00:00:00\", \"y_test\": 477.9500122070313, \"y_pred\": 472.38332082226265, \"label\": \"Actual\", \"predicted_label\": \"Predicted\"}, {\"date\": \"2023-04-12T00:00:00\", \"y_test\": 472.0, \"y_pred\": 476.10247808290916, \"label\": \"Actual\", \"predicted_label\": \"Predicted\"}, {\"date\": \"2023-04-13T00:00:00\", \"y_test\": 478.95001220703136, \"y_pred\": 475.3987707032809, \"label\": \"Actual\", \"predicted_label\": \"Predicted\"}, {\"date\": \"2023-04-17T00:00:00\", \"y_test\": 474.79998779296875, \"y_pred\": 473.35258748900776, \"label\": \"Actual\", \"predicted_label\": \"Predicted\"}, {\"date\": \"2023-04-18T00:00:00\", \"y_test\": 482.3999938964843, \"y_pred\": 478.88946956950986, \"label\": \"Actual\", \"predicted_label\": \"Predicted\"}, {\"date\": \"2023-04-19T00:00:00\", \"y_test\": 514.0, \"y_pred\": 483.0236145335216, \"label\": \"Actual\", \"predicted_label\": \"Predicted\"}, {\"date\": \"2023-04-20T00:00:00\", \"y_test\": 515.0, \"y_pred\": 517.9690465591076, \"label\": \"Actual\", \"predicted_label\": \"Predicted\"}, {\"date\": \"2023-04-21T00:00:00\", \"y_test\": 508.9500122070313, \"y_pred\": 518.7834469877309, \"label\": \"Actual\", \"predicted_label\": \"Predicted\"}, {\"date\": \"2023-04-24T00:00:00\", \"y_test\": 502.04998779296886, \"y_pred\": 499.59952120500634, \"label\": \"Actual\", \"predicted_label\": \"Predicted\"}, {\"date\": \"2023-04-25T00:00:00\", \"y_test\": 492.8999938964843, \"y_pred\": 491.7992326552197, \"label\": \"Actual\", \"predicted_label\": \"Predicted\"}, {\"date\": \"2023-04-26T00:00:00\", \"y_test\": 483.6000061035157, \"y_pred\": 482.27803578882515, \"label\": \"Actual\", \"predicted_label\": \"Predicted\"}, {\"date\": \"2023-04-27T00:00:00\", \"y_test\": 478.0, \"y_pred\": 477.23786876038776, \"label\": \"Actual\", \"predicted_label\": \"Predicted\"}, {\"date\": \"2023-04-28T00:00:00\", \"y_test\": 474.00000000000006, \"y_pred\": 476.883338303661, \"label\": \"Actual\", \"predicted_label\": \"Predicted\"}, {\"date\": \"2023-05-02T00:00:00\", \"y_test\": 474.3500061035156, \"y_pred\": 472.48564964455966, \"label\": \"Actual\", \"predicted_label\": \"Predicted\"}, {\"date\": \"2023-05-03T00:00:00\", \"y_test\": 466.45001220703136, \"y_pred\": 466.895270761415, \"label\": \"Actual\", \"predicted_label\": \"Predicted\"}, {\"date\": \"2023-05-04T00:00:00\", \"y_test\": 456.0, \"y_pred\": 462.8008499759678, \"label\": \"Actual\", \"predicted_label\": \"Predicted\"}, {\"date\": \"2023-05-05T00:00:00\", \"y_test\": 463.95001220703125, \"y_pred\": 455.58719716409803, \"label\": \"Actual\", \"predicted_label\": \"Predicted\"}, {\"date\": \"2023-05-08T00:00:00\", \"y_test\": 455.0, \"y_pred\": 453.70452109730735, \"label\": \"Actual\", \"predicted_label\": \"Predicted\"}, {\"date\": \"2023-05-09T00:00:00\", \"y_test\": 458.3999938964844, \"y_pred\": 459.3813445304297, \"label\": \"Actual\", \"predicted_label\": \"Predicted\"}, {\"date\": \"2023-05-10T00:00:00\", \"y_test\": 447.9500122070313, \"y_pred\": 451.0412850892125, \"label\": \"Actual\", \"predicted_label\": \"Predicted\"}, {\"date\": \"2023-05-11T00:00:00\", \"y_test\": 450.29998779296875, \"y_pred\": 452.911875238833, \"label\": \"Actual\", \"predicted_label\": \"Predicted\"}, {\"date\": \"2023-05-12T00:00:00\", \"y_test\": 454.00000000000006, \"y_pred\": 452.74554798798056, \"label\": \"Actual\", \"predicted_label\": \"Predicted\"}, {\"date\": \"2023-05-15T00:00:00\", \"y_test\": 471.0, \"y_pred\": 438.98684271663774, \"label\": \"Actual\", \"predicted_label\": \"Predicted\"}, {\"date\": \"2023-05-16T00:00:00\", \"y_test\": 491.99999999999994, \"y_pred\": 475.4702542814914, \"label\": \"Actual\", \"predicted_label\": \"Predicted\"}, {\"date\": \"2023-05-17T00:00:00\", \"y_test\": 484.7000122070313, \"y_pred\": 497.4069277994676, \"label\": \"Actual\", \"predicted_label\": \"Predicted\"}, {\"date\": \"2023-05-19T00:00:00\", \"y_test\": 477.8500061035156, \"y_pred\": 478.034416309748, \"label\": \"Actual\", \"predicted_label\": \"Predicted\"}, {\"date\": \"2023-05-22T00:00:00\", \"y_test\": 564.0, \"y_pred\": 479.10211819539757, \"label\": \"Actual\", \"predicted_label\": \"Predicted\"}, {\"date\": \"2023-05-23T00:00:00\", \"y_test\": 565.1500244140624, \"y_pred\": 574.9561445885188, \"label\": \"Actual\", \"predicted_label\": \"Predicted\"}, {\"date\": \"2023-05-24T00:00:00\", \"y_test\": 582.9999999999999, \"y_pred\": 556.1742618330037, \"label\": \"Actual\", \"predicted_label\": \"Predicted\"}, {\"date\": \"2023-05-24T00:00:00\", \"y_test\": 583.0, \"y_pred\": 587.9867668322115, \"label\": \"Actual\", \"predicted_label\": \"Predicted\"}, {\"date\": \"2023-05-25T00:00:00\", \"y_test\": 583.2999877929688, \"y_pred\": 583.8282065335967, \"label\": \"Actual\", \"predicted_label\": \"Predicted\"}, {\"date\": \"2023-05-26T00:00:00\", \"y_test\": 563.0499877929688, \"y_pred\": 568.8274248727662, \"label\": \"Actual\", \"predicted_label\": \"Predicted\"}, {\"date\": \"2023-05-30T00:00:00\", \"y_test\": 550.0, \"y_pred\": 552.3062510568939, \"label\": \"Actual\", \"predicted_label\": \"Predicted\"}, {\"date\": \"2023-05-31T00:00:00\", \"y_test\": 549.0, \"y_pred\": 544.1326252632485, \"label\": \"Actual\", \"predicted_label\": \"Predicted\"}]}}, {\"mode\": \"vega-lite\"});\n",
       "</script>"
      ],
      "text/plain": [
       "alt.LayerChart(...)"
      ]
     },
     "execution_count": 47,
     "metadata": {},
     "output_type": "execute_result"
    }
   ],
   "source": [
    "import altair as alt\n",
    "\n",
    "alt.themes.enable('fivethirtyeight')\n",
    "\n",
    "predictions_df['date'] = pd.to_datetime(predictions_df['date'])\n",
    "\n",
    "predictions_df['label'] = 'Actual'\n",
    "predictions_df['predicted_label'] = 'Predicted'\n",
    "\n",
    "# Actual high price line\n",
    "line1 = alt.Chart(predictions_df).mark_line(strokeWidth=2).encode(\n",
    "    x='date:T',\n",
    "    y=alt.Y('y_test:Q', title='Price', scale=alt.Scale(zero=False)),\n",
    "    color=alt.Color('label:N', legend=alt.Legend(title=\"Line Type\")),\n",
    "    tooltip=['date', 'y_test', 'y_pred']\n",
    ")\n",
    "\n",
    "# Predicted high price line\n",
    "line2 = alt.Chart(predictions_df).mark_line(strokeWidth=1, strokeDash=[3, 3]).encode(\n",
    "    x='date:T',\n",
    "    y=alt.Y('y_pred:Q', title='', scale=alt.Scale(zero=False)),\n",
    "    color=alt.Color('predicted_label:N', legend=alt.Legend(title=\"Line Type\")),\n",
    "    tooltip=['date', 'y_test', 'y_pred']\n",
    ")\n",
    "\n",
    "# Combine the two lines\n",
    "chart = alt.layer(line1, line2).properties(\n",
    "    title='Actual vs Predicted High Prices',\n",
    "    width=650,\n",
    "    height=400\n",
    ").interactive()\n",
    "\n",
    "chart"
   ]
  }
 ],
 "metadata": {
  "kernelspec": {
   "display_name": "Python 3 (ipykernel)",
   "language": "python",
   "name": "python3"
  },
  "language_info": {
   "codemirror_mode": {
    "name": "ipython",
    "version": 3
   },
   "file_extension": ".py",
   "mimetype": "text/x-python",
   "name": "python",
   "nbconvert_exporter": "python",
   "pygments_lexer": "ipython3",
   "version": "3.10.9"
  }
 },
 "nbformat": 4,
 "nbformat_minor": 5
}
