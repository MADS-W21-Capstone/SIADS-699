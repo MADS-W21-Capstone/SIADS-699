{
 "cells": [
  {
   "cell_type": "code",
   "execution_count": 108,
   "id": "7c798fa0",
   "metadata": {},
   "outputs": [],
   "source": [
    "import pandas as pd\n",
    "import seaborn as sns\n",
    "import matplotlib.pyplot as plt\n",
    "import numpy as np\n",
    "\n",
    "from sklearn.model_selection import train_test_split\n",
    "from sklearn.ensemble import RandomForestRegressor\n",
    "from sklearn.feature_selection import SelectFromModel\n",
    "from sklearn.preprocessing import StandardScaler\n",
    "from sklearn.metrics import mean_squared_error, r2_score, mean_absolute_percentage_error\n",
    "from sklearn.feature_selection import SelectKBest, f_regression"
   ]
  },
  {
   "cell_type": "markdown",
   "id": "daaafcb8",
   "metadata": {},
   "source": [
    "### 50/100/150 Feature Selection Analysis wiht Sentiment for EIHOTEL.BO"
   ]
  },
  {
   "cell_type": "code",
   "execution_count": 109,
   "id": "44903f56",
   "metadata": {},
   "outputs": [],
   "source": [
    "df = pd.read_csv('../../datasets/processed_data/combined_features/EIHOTEL.BO.csv')"
   ]
  },
  {
   "cell_type": "code",
   "execution_count": 110,
   "id": "579a04f0",
   "metadata": {},
   "outputs": [
    {
     "data": {
      "text/plain": [
       "Index(['date', 'open', 'close', 'adj close', 'volume', 'low', 'high',\n",
       "       'volume_adi', 'volume_obv', 'volume_cmf',\n",
       "       ...\n",
       "       'inr=x_percent_change', 'cl=f_percent_change',\n",
       "       'treasury_yeild_10_years_percent_change', 'usdx-index_percent_change',\n",
       "       '^nsei_percent_change', '^bsesn_percent_change', '^gspc_percent_change',\n",
       "       'hsi_percent_change', 'sha_percent_change', '^sti_percent_change'],\n",
       "      dtype='object', length=635)"
      ]
     },
     "execution_count": 110,
     "metadata": {},
     "output_type": "execute_result"
    }
   ],
   "source": [
    "df.columns"
   ]
  },
  {
   "cell_type": "code",
   "execution_count": 111,
   "id": "a4e659f3",
   "metadata": {},
   "outputs": [],
   "source": [
    "def create_custom_target(df: pd.DataFrame) -> pd.DataFrame:\n",
    "    \"\"\"\n",
    "    This function creates the custom target price, which is computed as ln(high/yesterday_close)\n",
    "    \"\"\"    \n",
    "    # make a copy of the dataframe so as not to change the original dataframe\n",
    "    data_df = df.copy()\n",
    "    \n",
    "    # create yesterday_close feature as\n",
    "    data_df['yesterday_close'] = data_df['close'].shift(1)\n",
    "    \n",
    "    # create custom target price to predict, computing  ln(high/yesterday_close)\n",
    "    data_df['ln_target'] = np.log(data_df['high'] / data_df['yesterday_close'])\n",
    "    \n",
    "    # as yesterday close would not be available for first day, \n",
    "    # we would not have custom target price for that day, which needs to be excluded \n",
    "    return(data_df.iloc[1:, ])"
   ]
  },
  {
   "cell_type": "code",
   "execution_count": 112,
   "id": "9bb6276c",
   "metadata": {},
   "outputs": [],
   "source": [
    "df = create_custom_target(df)"
   ]
  },
  {
   "cell_type": "code",
   "execution_count": 113,
   "id": "e4a0d873",
   "metadata": {},
   "outputs": [],
   "source": [
    "# Drop cols with NaN values\n",
    "df = df.dropna(axis=1, how='all')\n",
    "df.fillna(method='ffill', inplace=True)"
   ]
  },
  {
   "cell_type": "code",
   "execution_count": 114,
   "id": "c066f054",
   "metadata": {},
   "outputs": [],
   "source": [
    "combined_date_df = df['date']\n",
    "train_date, test_date = train_test_split(combined_date_df, train_size=0.8, shuffle=False)\n",
    "dev_date, test_date = train_test_split(test_date, train_size=0.5, shuffle=False)"
   ]
  },
  {
   "cell_type": "code",
   "execution_count": 115,
   "id": "7d3125db",
   "metadata": {},
   "outputs": [],
   "source": [
    "df_without_date = df.drop(columns=[\"date\"])"
   ]
  },
  {
   "cell_type": "code",
   "execution_count": 116,
   "id": "b8b705e9",
   "metadata": {},
   "outputs": [],
   "source": [
    "df_without_date.dropna(inplace=True)"
   ]
  },
  {
   "cell_type": "code",
   "execution_count": 117,
   "id": "d1a10055",
   "metadata": {},
   "outputs": [],
   "source": [
    "def timeseries_to_supervise(df, window_size, target):    \n",
    "    X = []\n",
    "    y = []\n",
    "    indx = []\n",
    "    no_records = len(df)\n",
    "    #     \n",
    "    for i in range(window_size, no_records):\n",
    "        X.append(df.iloc[i-window_size:i].drop(target, axis=1).values.flatten())  # Collect past records as a sequence\n",
    "        y.append(df.iloc[i][target])  # Next record as target variable\n",
    "        indx.append(np.arange(i-window_size, i))\n",
    "\n",
    "    X = pd.DataFrame(X)\n",
    "    y = pd.Series(y)\n",
    "    return(X, y, indx)"
   ]
  },
  {
   "cell_type": "code",
   "execution_count": 118,
   "id": "0d2c84f1",
   "metadata": {},
   "outputs": [],
   "source": [
    "window_size = 10"
   ]
  },
  {
   "cell_type": "code",
   "execution_count": 119,
   "id": "2a4396e3",
   "metadata": {},
   "outputs": [],
   "source": [
    "# do train/test split the data with shuffle = False\n",
    "train_data, test_data = train_test_split(df_without_date, train_size=0.8, shuffle=False)\n",
    "\n",
    "# convert timeseries to be used in supervise learning model\n",
    "X_train, y_train, indx_train = timeseries_to_supervise(train_data, window_size, 'ln_target')  \n",
    "\n",
    "# further split test set to have an hold out set to be used for backtesting\n",
    "dev_data, test_data = train_test_split(test_data, train_size=0.5, shuffle=False)\n",
    "\n",
    "# convert timeseries to be used in supervise learning model    \n",
    "X_test, y_test, indx_test = timeseries_to_supervise(dev_data, window_size, 'ln_target')  "
   ]
  },
  {
   "cell_type": "code",
   "execution_count": 120,
   "id": "6495a9ff",
   "metadata": {},
   "outputs": [],
   "source": [
    "selector = SelectKBest(score_func=f_regression, k=50)\n",
    "X_train_50 = selector.fit_transform(X_train, y_train)\n",
    "X_test_50 = selector.transform(X_test)"
   ]
  },
  {
   "cell_type": "code",
   "execution_count": 121,
   "id": "f1d774dd",
   "metadata": {},
   "outputs": [
    {
     "data": {
      "text/html": [
       "<style>#sk-container-id-10 {color: black;background-color: white;}#sk-container-id-10 pre{padding: 0;}#sk-container-id-10 div.sk-toggleable {background-color: white;}#sk-container-id-10 label.sk-toggleable__label {cursor: pointer;display: block;width: 100%;margin-bottom: 0;padding: 0.3em;box-sizing: border-box;text-align: center;}#sk-container-id-10 label.sk-toggleable__label-arrow:before {content: \"▸\";float: left;margin-right: 0.25em;color: #696969;}#sk-container-id-10 label.sk-toggleable__label-arrow:hover:before {color: black;}#sk-container-id-10 div.sk-estimator:hover label.sk-toggleable__label-arrow:before {color: black;}#sk-container-id-10 div.sk-toggleable__content {max-height: 0;max-width: 0;overflow: hidden;text-align: left;background-color: #f0f8ff;}#sk-container-id-10 div.sk-toggleable__content pre {margin: 0.2em;color: black;border-radius: 0.25em;background-color: #f0f8ff;}#sk-container-id-10 input.sk-toggleable__control:checked~div.sk-toggleable__content {max-height: 200px;max-width: 100%;overflow: auto;}#sk-container-id-10 input.sk-toggleable__control:checked~label.sk-toggleable__label-arrow:before {content: \"▾\";}#sk-container-id-10 div.sk-estimator input.sk-toggleable__control:checked~label.sk-toggleable__label {background-color: #d4ebff;}#sk-container-id-10 div.sk-label input.sk-toggleable__control:checked~label.sk-toggleable__label {background-color: #d4ebff;}#sk-container-id-10 input.sk-hidden--visually {border: 0;clip: rect(1px 1px 1px 1px);clip: rect(1px, 1px, 1px, 1px);height: 1px;margin: -1px;overflow: hidden;padding: 0;position: absolute;width: 1px;}#sk-container-id-10 div.sk-estimator {font-family: monospace;background-color: #f0f8ff;border: 1px dotted black;border-radius: 0.25em;box-sizing: border-box;margin-bottom: 0.5em;}#sk-container-id-10 div.sk-estimator:hover {background-color: #d4ebff;}#sk-container-id-10 div.sk-parallel-item::after {content: \"\";width: 100%;border-bottom: 1px solid gray;flex-grow: 1;}#sk-container-id-10 div.sk-label:hover label.sk-toggleable__label {background-color: #d4ebff;}#sk-container-id-10 div.sk-serial::before {content: \"\";position: absolute;border-left: 1px solid gray;box-sizing: border-box;top: 0;bottom: 0;left: 50%;z-index: 0;}#sk-container-id-10 div.sk-serial {display: flex;flex-direction: column;align-items: center;background-color: white;padding-right: 0.2em;padding-left: 0.2em;position: relative;}#sk-container-id-10 div.sk-item {position: relative;z-index: 1;}#sk-container-id-10 div.sk-parallel {display: flex;align-items: stretch;justify-content: center;background-color: white;position: relative;}#sk-container-id-10 div.sk-item::before, #sk-container-id-10 div.sk-parallel-item::before {content: \"\";position: absolute;border-left: 1px solid gray;box-sizing: border-box;top: 0;bottom: 0;left: 50%;z-index: -1;}#sk-container-id-10 div.sk-parallel-item {display: flex;flex-direction: column;z-index: 1;position: relative;background-color: white;}#sk-container-id-10 div.sk-parallel-item:first-child::after {align-self: flex-end;width: 50%;}#sk-container-id-10 div.sk-parallel-item:last-child::after {align-self: flex-start;width: 50%;}#sk-container-id-10 div.sk-parallel-item:only-child::after {width: 0;}#sk-container-id-10 div.sk-dashed-wrapped {border: 1px dashed gray;margin: 0 0.4em 0.5em 0.4em;box-sizing: border-box;padding-bottom: 0.4em;background-color: white;}#sk-container-id-10 div.sk-label label {font-family: monospace;font-weight: bold;display: inline-block;line-height: 1.2em;}#sk-container-id-10 div.sk-label-container {text-align: center;}#sk-container-id-10 div.sk-container {/* jupyter's `normalize.less` sets `[hidden] { display: none; }` but bootstrap.min.css set `[hidden] { display: none !important; }` so we also need the `!important` here to be able to override the default hidden behavior on the sphinx rendered scikit-learn.org. See: https://github.com/scikit-learn/scikit-learn/issues/21755 */display: inline-block !important;position: relative;}#sk-container-id-10 div.sk-text-repr-fallback {display: none;}</style><div id=\"sk-container-id-10\" class=\"sk-top-container\"><div class=\"sk-text-repr-fallback\"><pre>RandomForestRegressor(min_samples_leaf=2, n_estimators=200)</pre><b>In a Jupyter environment, please rerun this cell to show the HTML representation or trust the notebook. <br />On GitHub, the HTML representation is unable to render, please try loading this page with nbviewer.org.</b></div><div class=\"sk-container\" hidden><div class=\"sk-item\"><div class=\"sk-estimator sk-toggleable\"><input class=\"sk-toggleable__control sk-hidden--visually\" id=\"sk-estimator-id-10\" type=\"checkbox\" checked><label for=\"sk-estimator-id-10\" class=\"sk-toggleable__label sk-toggleable__label-arrow\">RandomForestRegressor</label><div class=\"sk-toggleable__content\"><pre>RandomForestRegressor(min_samples_leaf=2, n_estimators=200)</pre></div></div></div></div></div>"
      ],
      "text/plain": [
       "RandomForestRegressor(min_samples_leaf=2, n_estimators=200)"
      ]
     },
     "execution_count": 121,
     "metadata": {},
     "output_type": "execute_result"
    }
   ],
   "source": [
    "# Train the model on the top 50 features\n",
    "model_50 = RandomForestRegressor(\n",
    "    n_estimators=200,\n",
    "    min_samples_split=2,\n",
    "    min_samples_leaf=2,\n",
    "    bootstrap=True\n",
    ")\n",
    "model_50.fit(X_train_50, y_train)"
   ]
  },
  {
   "cell_type": "code",
   "execution_count": 122,
   "id": "84be092c",
   "metadata": {},
   "outputs": [],
   "source": [
    "def convert_custom_target_to_actual_for_supervise(df: pd.DataFrame, window: int, y: \"pd.Series[int]\") -> \"pd.Series[int]\":\n",
    "    \"\"\"\n",
    "    this module converts custom target - ln(high/yesterday_close) to actual high price again for timeseries converted data using rolling window of size 10\n",
    "    \"\"\"\n",
    "    data_df = df.copy()\n",
    "    \n",
    "    # exclude first 10 rows of train/test data, as while us\n",
    "    \n",
    "    y = np.exp(y) * data_df.loc[data_df.index[window:], 'yesterday_close'].reset_index(drop=True)\n",
    "    return(y)    "
   ]
  },
  {
   "cell_type": "code",
   "execution_count": 123,
   "id": "c0037cf4",
   "metadata": {},
   "outputs": [],
   "source": [
    "def evaluate_model(model, window, dev_data, dev_date, X_test, y_test):\n",
    "    \n",
    "    # do target prediction using the provide model\n",
    "    y_pred = model.predict(X_test)\n",
    "\n",
    "    # convert back to original value, before computing mape            \n",
    "    y_test = convert_custom_target_to_actual_for_supervise(dev_data, window, y_test)\n",
    "    y_pred = convert_custom_target_to_actual_for_supervise(dev_data, window, y_pred)\n",
    "\n",
    "    dev_dates = dev_date[window:].reset_index(drop=True)\n",
    "    predictions_df = pd.DataFrame({'date': dev_dates, 'y_test': y_test, 'y_pred': y_pred})\n",
    "\n",
    "    # compute regression metric - mape \n",
    "    mape = mean_absolute_percentage_error(y_test, y_pred)\n",
    "\n",
    "    # compute rmse metric\n",
    "    rmse = mean_squared_error(y_test, y_pred, squared=False)        \n",
    "    return(predictions_df, mape, rmse)"
   ]
  },
  {
   "cell_type": "code",
   "execution_count": 124,
   "id": "1e1f37f8",
   "metadata": {},
   "outputs": [],
   "source": [
    "predictions_df, mape, rmse = evaluate_model(model_50, window_size, dev_data, dev_date, X_test_50, y_test)"
   ]
  },
  {
   "cell_type": "code",
   "execution_count": 125,
   "id": "5315c849",
   "metadata": {},
   "outputs": [
    {
     "data": {
      "text/plain": [
       "(           date      y_test      y_pred\n",
       " 0    2020-06-23   74.900002   74.006344\n",
       " 1    2020-06-24   74.949997   77.639855\n",
       " 2    2020-06-25   68.900002   72.494786\n",
       " 3    2020-06-26   69.000000   70.041822\n",
       " 4    2020-06-29   68.750000   68.896226\n",
       " ..          ...         ...         ...\n",
       " 353  2021-11-23  138.600006  141.418643\n",
       " 354  2021-11-24  139.600006  141.405200\n",
       " 355  2021-11-25  138.699997  142.333736\n",
       " 356  2021-11-26  135.699997  141.988460\n",
       " 357  2021-11-29  128.300003  131.945753\n",
       " \n",
       " [358 rows x 3 columns],\n",
       " 0.0203830921822276,\n",
       " 2.7523313630728397)"
      ]
     },
     "execution_count": 125,
     "metadata": {},
     "output_type": "execute_result"
    }
   ],
   "source": [
    "predictions_df, mape, rmse"
   ]
  },
  {
   "cell_type": "code",
   "execution_count": 127,
   "id": "94d27381",
   "metadata": {},
   "outputs": [
    {
     "name": "stdout",
     "output_type": "stream",
     "text": [
      "MAPE for model with top 50 features: 2.04%\n"
     ]
    }
   ],
   "source": [
    "print(f\"MAPE for model with top 50 features: {mape*100:.2f}%\")"
   ]
  },
  {
   "cell_type": "code",
   "execution_count": 107,
   "id": "654fdc3d",
   "metadata": {},
   "outputs": [
    {
     "data": {
      "text/html": [
       "\n",
       "<style>\n",
       "  #altair-viz-17f3fd2373184e3db6ab121b97160370.vega-embed {\n",
       "    width: 100%;\n",
       "    display: flex;\n",
       "  }\n",
       "\n",
       "  #altair-viz-17f3fd2373184e3db6ab121b97160370.vega-embed details,\n",
       "  #altair-viz-17f3fd2373184e3db6ab121b97160370.vega-embed details summary {\n",
       "    position: relative;\n",
       "  }\n",
       "</style>\n",
       "<div id=\"altair-viz-17f3fd2373184e3db6ab121b97160370\"></div>\n",
       "<script type=\"text/javascript\">\n",
       "  var VEGA_DEBUG = (typeof VEGA_DEBUG == \"undefined\") ? {} : VEGA_DEBUG;\n",
       "  (function(spec, embedOpt){\n",
       "    let outputDiv = document.currentScript.previousElementSibling;\n",
       "    if (outputDiv.id !== \"altair-viz-17f3fd2373184e3db6ab121b97160370\") {\n",
       "      outputDiv = document.getElementById(\"altair-viz-17f3fd2373184e3db6ab121b97160370\");\n",
       "    }\n",
       "    const paths = {\n",
       "      \"vega\": \"https://cdn.jsdelivr.net/npm/vega@5?noext\",\n",
       "      \"vega-lib\": \"https://cdn.jsdelivr.net/npm/vega-lib?noext\",\n",
       "      \"vega-lite\": \"https://cdn.jsdelivr.net/npm/vega-lite@5.8.0?noext\",\n",
       "      \"vega-embed\": \"https://cdn.jsdelivr.net/npm/vega-embed@6?noext\",\n",
       "    };\n",
       "\n",
       "    function maybeLoadScript(lib, version) {\n",
       "      var key = `${lib.replace(\"-\", \"\")}_version`;\n",
       "      return (VEGA_DEBUG[key] == version) ?\n",
       "        Promise.resolve(paths[lib]) :\n",
       "        new Promise(function(resolve, reject) {\n",
       "          var s = document.createElement('script');\n",
       "          document.getElementsByTagName(\"head\")[0].appendChild(s);\n",
       "          s.async = true;\n",
       "          s.onload = () => {\n",
       "            VEGA_DEBUG[key] = version;\n",
       "            return resolve(paths[lib]);\n",
       "          };\n",
       "          s.onerror = () => reject(`Error loading script: ${paths[lib]}`);\n",
       "          s.src = paths[lib];\n",
       "        });\n",
       "    }\n",
       "\n",
       "    function showError(err) {\n",
       "      outputDiv.innerHTML = `<div class=\"error\" style=\"color:red;\">${err}</div>`;\n",
       "      throw err;\n",
       "    }\n",
       "\n",
       "    function displayChart(vegaEmbed) {\n",
       "      vegaEmbed(outputDiv, spec, embedOpt)\n",
       "        .catch(err => showError(`Javascript Error: ${err.message}<br>This usually means there's a typo in your chart specification. See the javascript console for the full traceback.`));\n",
       "    }\n",
       "\n",
       "    if(typeof define === \"function\" && define.amd) {\n",
       "      requirejs.config({paths});\n",
       "      require([\"vega-embed\"], displayChart, err => showError(`Error loading script: ${err.message}`));\n",
       "    } else {\n",
       "      maybeLoadScript(\"vega\", \"5\")\n",
       "        .then(() => maybeLoadScript(\"vega-lite\", \"5.8.0\"))\n",
       "        .then(() => maybeLoadScript(\"vega-embed\", \"6\"))\n",
       "        .catch(showError)\n",
       "        .then(() => displayChart(vegaEmbed));\n",
       "    }\n",
       "  })({\"usermeta\": {\"embedOptions\": {\"theme\": \"fivethirtyeight\"}}, \"config\": {\"view\": {\"continuousWidth\": 300, \"continuousHeight\": 300}}, \"layer\": [{\"mark\": {\"type\": \"line\", \"strokeWidth\": 2}, \"encoding\": {\"color\": {\"field\": \"label\", \"legend\": {\"title\": \"Line Type\"}, \"type\": \"nominal\"}, \"tooltip\": [{\"field\": \"date\", \"type\": \"temporal\"}, {\"field\": \"y_test\", \"type\": \"quantitative\"}, {\"field\": \"y_pred\", \"type\": \"quantitative\"}], \"x\": {\"field\": \"date\", \"type\": \"temporal\"}, \"y\": {\"field\": \"y_test\", \"scale\": {\"zero\": false}, \"title\": \"Price\", \"type\": \"quantitative\"}}, \"name\": \"view_6\"}, {\"mark\": {\"type\": \"line\", \"strokeDash\": [3, 3], \"strokeWidth\": 1}, \"encoding\": {\"color\": {\"field\": \"predicted_label\", \"legend\": {\"title\": \"Line Type\"}, \"type\": \"nominal\"}, \"tooltip\": [{\"field\": \"date\", \"type\": \"temporal\"}, {\"field\": \"y_test\", \"type\": \"quantitative\"}, {\"field\": \"y_pred\", \"type\": \"quantitative\"}], \"x\": {\"field\": \"date\", \"type\": \"temporal\"}, \"y\": {\"field\": \"y_pred\", \"scale\": {\"zero\": false}, \"title\": \"\", \"type\": \"quantitative\"}}}], \"data\": {\"name\": \"data-df75c23c570ab6a879685b0c5201bb7b\"}, \"height\": 400, \"params\": [{\"name\": \"param_6\", \"select\": {\"type\": \"interval\", \"encodings\": [\"x\", \"y\"]}, \"bind\": \"scales\", \"views\": [\"view_6\"]}], \"title\": \"Actual vs Predicted High Prices\", \"width\": 650, \"$schema\": \"https://vega.github.io/schema/vega-lite/v5.8.0.json\", \"datasets\": {\"data-df75c23c570ab6a879685b0c5201bb7b\": [{\"date\": \"2020-06-23T00:00:00\", \"y_test\": 74.9000015258789, \"y_pred\": 73.95437580040658, \"label\": \"Actual\", \"predicted_label\": \"Predicted\"}, {\"date\": \"2020-06-24T00:00:00\", \"y_test\": 74.94999694824219, \"y_pred\": 77.63894505621968, \"label\": \"Actual\", \"predicted_label\": \"Predicted\"}, {\"date\": \"2020-06-25T00:00:00\", \"y_test\": 68.9000015258789, \"y_pred\": 72.33100013292024, \"label\": \"Actual\", \"predicted_label\": \"Predicted\"}, {\"date\": \"2020-06-26T00:00:00\", \"y_test\": 69.0, \"y_pred\": 69.92140846981167, \"label\": \"Actual\", \"predicted_label\": \"Predicted\"}, {\"date\": \"2020-06-29T00:00:00\", \"y_test\": 68.75, \"y_pred\": 68.83627212239807, \"label\": \"Actual\", \"predicted_label\": \"Predicted\"}, {\"date\": \"2020-06-30T00:00:00\", \"y_test\": 65.44999694824219, \"y_pred\": 67.35247363523044, \"label\": \"Actual\", \"predicted_label\": \"Predicted\"}, {\"date\": \"2020-07-01T00:00:00\", \"y_test\": 64.75, \"y_pred\": 66.29735478263895, \"label\": \"Actual\", \"predicted_label\": \"Predicted\"}, {\"date\": \"2020-07-02T00:00:00\", \"y_test\": 67.4000015258789, \"y_pred\": 67.12481927472155, \"label\": \"Actual\", \"predicted_label\": \"Predicted\"}, {\"date\": \"2020-07-06T00:00:00\", \"y_test\": 67.1500015258789, \"y_pred\": 68.62308815464719, \"label\": \"Actual\", \"predicted_label\": \"Predicted\"}, {\"date\": \"2020-07-07T00:00:00\", \"y_test\": 68.69999694824219, \"y_pred\": 68.79188578121278, \"label\": \"Actual\", \"predicted_label\": \"Predicted\"}, {\"date\": \"2020-07-08T00:00:00\", \"y_test\": 70.3499984741211, \"y_pred\": 70.70359423794824, \"label\": \"Actual\", \"predicted_label\": \"Predicted\"}, {\"date\": \"2020-07-09T00:00:00\", \"y_test\": 67.6500015258789, \"y_pred\": 69.73581744569321, \"label\": \"Actual\", \"predicted_label\": \"Predicted\"}, {\"date\": \"2020-07-10T00:00:00\", \"y_test\": 66.55000305175781, \"y_pred\": 68.5711617185127, \"label\": \"Actual\", \"predicted_label\": \"Predicted\"}, {\"date\": \"2020-07-13T00:00:00\", \"y_test\": 66.80000305175781, \"y_pred\": 68.7180710961557, \"label\": \"Actual\", \"predicted_label\": \"Predicted\"}, {\"date\": \"2020-07-14T00:00:00\", \"y_test\": 66.8499984741211, \"y_pred\": 67.64137559629121, \"label\": \"Actual\", \"predicted_label\": \"Predicted\"}, {\"date\": \"2020-07-15T00:00:00\", \"y_test\": 65.0, \"y_pred\": 65.38279919869163, \"label\": \"Actual\", \"predicted_label\": \"Predicted\"}, {\"date\": \"2020-07-16T00:00:00\", \"y_test\": 63.70000076293945, \"y_pred\": 64.61019970772496, \"label\": \"Actual\", \"predicted_label\": \"Predicted\"}, {\"date\": \"2020-07-17T00:00:00\", \"y_test\": 62.700000762939446, \"y_pred\": 64.38079339189498, \"label\": \"Actual\", \"predicted_label\": \"Predicted\"}, {\"date\": \"2020-07-20T00:00:00\", \"y_test\": 62.900001525878906, \"y_pred\": 63.39395738363247, \"label\": \"Actual\", \"predicted_label\": \"Predicted\"}, {\"date\": \"2020-07-21T00:00:00\", \"y_test\": 62.5, \"y_pred\": 62.05909590208884, \"label\": \"Actual\", \"predicted_label\": \"Predicted\"}, {\"date\": \"2020-07-22T00:00:00\", \"y_test\": 63.25, \"y_pred\": 63.31810291707854, \"label\": \"Actual\", \"predicted_label\": \"Predicted\"}, {\"date\": \"2020-07-23T00:00:00\", \"y_test\": 63.20000076293946, \"y_pred\": 64.5225388955643, \"label\": \"Actual\", \"predicted_label\": \"Predicted\"}, {\"date\": \"2020-07-24T00:00:00\", \"y_test\": 62.5, \"y_pred\": 64.41621694265073, \"label\": \"Actual\", \"predicted_label\": \"Predicted\"}, {\"date\": \"2020-07-27T00:00:00\", \"y_test\": 62.0, \"y_pred\": 62.911554028133104, \"label\": \"Actual\", \"predicted_label\": \"Predicted\"}, {\"date\": \"2020-07-28T00:00:00\", \"y_test\": 60.59999847412109, \"y_pred\": 62.264147154831356, \"label\": \"Actual\", \"predicted_label\": \"Predicted\"}, {\"date\": \"2020-07-29T00:00:00\", \"y_test\": 61.09999847412108, \"y_pred\": 61.970523999926556, \"label\": \"Actual\", \"predicted_label\": \"Predicted\"}, {\"date\": \"2020-07-30T00:00:00\", \"y_test\": 65.6500015258789, \"y_pred\": 61.53702572380729, \"label\": \"Actual\", \"predicted_label\": \"Predicted\"}, {\"date\": \"2020-07-31T00:00:00\", \"y_test\": 67.25, \"y_pred\": 67.69499401582802, \"label\": \"Actual\", \"predicted_label\": \"Predicted\"}, {\"date\": \"2020-08-03T00:00:00\", \"y_test\": 68.6500015258789, \"y_pred\": 67.03336893604718, \"label\": \"Actual\", \"predicted_label\": \"Predicted\"}, {\"date\": \"2020-08-04T00:00:00\", \"y_test\": 66.80000305175781, \"y_pred\": 68.08726077627526, \"label\": \"Actual\", \"predicted_label\": \"Predicted\"}, {\"date\": \"2020-08-05T00:00:00\", \"y_test\": 65.80000305175781, \"y_pred\": 67.40031003116299, \"label\": \"Actual\", \"predicted_label\": \"Predicted\"}, {\"date\": \"2020-08-06T00:00:00\", \"y_test\": 68.5, \"y_pred\": 67.15351809877015, \"label\": \"Actual\", \"predicted_label\": \"Predicted\"}, {\"date\": \"2020-08-07T00:00:00\", \"y_test\": 69.9000015258789, \"y_pred\": 69.73342122805933, \"label\": \"Actual\", \"predicted_label\": \"Predicted\"}, {\"date\": \"2020-08-10T00:00:00\", \"y_test\": 70.5999984741211, \"y_pred\": 71.34835267984452, \"label\": \"Actual\", \"predicted_label\": \"Predicted\"}, {\"date\": \"2020-08-11T00:00:00\", \"y_test\": 69.5, \"y_pred\": 70.86837778258035, \"label\": \"Actual\", \"predicted_label\": \"Predicted\"}, {\"date\": \"2020-08-12T00:00:00\", \"y_test\": 69.30000305175781, \"y_pred\": 69.464805142356, \"label\": \"Actual\", \"predicted_label\": \"Predicted\"}, {\"date\": \"2020-08-13T00:00:00\", \"y_test\": 77.25, \"y_pred\": 70.75019723415414, \"label\": \"Actual\", \"predicted_label\": \"Predicted\"}, {\"date\": \"2020-08-14T00:00:00\", \"y_test\": 80.30000305175781, \"y_pred\": 79.6100665197872, \"label\": \"Actual\", \"predicted_label\": \"Predicted\"}, {\"date\": \"2020-08-17T00:00:00\", \"y_test\": 81.0, \"y_pred\": 77.91591705034698, \"label\": \"Actual\", \"predicted_label\": \"Predicted\"}, {\"date\": \"2020-08-18T00:00:00\", \"y_test\": 84.4000015258789, \"y_pred\": 82.16714656684296, \"label\": \"Actual\", \"predicted_label\": \"Predicted\"}, {\"date\": \"2020-08-19T00:00:00\", \"y_test\": 82.4499969482422, \"y_pred\": 85.36457513512967, \"label\": \"Actual\", \"predicted_label\": \"Predicted\"}, {\"date\": \"2020-08-20T00:00:00\", \"y_test\": 89.80000305175781, \"y_pred\": 85.93126735910259, \"label\": \"Actual\", \"predicted_label\": \"Predicted\"}, {\"date\": \"2020-08-21T00:00:00\", \"y_test\": 96.40000152587889, \"y_pred\": 94.4310374416495, \"label\": \"Actual\", \"predicted_label\": \"Predicted\"}, {\"date\": \"2020-08-24T00:00:00\", \"y_test\": 94.4000015258789, \"y_pred\": 98.28339960841262, \"label\": \"Actual\", \"predicted_label\": \"Predicted\"}, {\"date\": \"2020-08-25T00:00:00\", \"y_test\": 93.34999847412111, \"y_pred\": 98.25081704751648, \"label\": \"Actual\", \"predicted_label\": \"Predicted\"}, {\"date\": \"2020-08-26T00:00:00\", \"y_test\": 90.5500030517578, \"y_pred\": 96.14891755989389, \"label\": \"Actual\", \"predicted_label\": \"Predicted\"}, {\"date\": \"2020-08-27T00:00:00\", \"y_test\": 93.9000015258789, \"y_pred\": 95.93246066608373, \"label\": \"Actual\", \"predicted_label\": \"Predicted\"}, {\"date\": \"2020-08-28T00:00:00\", \"y_test\": 94.9000015258789, \"y_pred\": 98.60473228054957, \"label\": \"Actual\", \"predicted_label\": \"Predicted\"}, {\"date\": \"2020-08-31T00:00:00\", \"y_test\": 95.80000305175778, \"y_pred\": 100.38494733728751, \"label\": \"Actual\", \"predicted_label\": \"Predicted\"}, {\"date\": \"2020-09-01T00:00:00\", \"y_test\": 92.0, \"y_pred\": 94.30056565158239, \"label\": \"Actual\", \"predicted_label\": \"Predicted\"}, {\"date\": \"2020-09-02T00:00:00\", \"y_test\": 89.8499984741211, \"y_pred\": 95.36632462566712, \"label\": \"Actual\", \"predicted_label\": \"Predicted\"}, {\"date\": \"2020-09-03T00:00:00\", \"y_test\": 88.1500015258789, \"y_pred\": 93.46035670608532, \"label\": \"Actual\", \"predicted_label\": \"Predicted\"}, {\"date\": \"2020-09-04T00:00:00\", \"y_test\": 88.5, \"y_pred\": 92.3322783222847, \"label\": \"Actual\", \"predicted_label\": \"Predicted\"}, {\"date\": \"2020-09-07T00:00:00\", \"y_test\": 88.0, \"y_pred\": 93.50845679689813, \"label\": \"Actual\", \"predicted_label\": \"Predicted\"}, {\"date\": \"2020-09-08T00:00:00\", \"y_test\": 86.69999694824219, \"y_pred\": 89.26358557429113, \"label\": \"Actual\", \"predicted_label\": \"Predicted\"}, {\"date\": \"2020-09-09T00:00:00\", \"y_test\": 83.1500015258789, \"y_pred\": 88.5559467477441, \"label\": \"Actual\", \"predicted_label\": \"Predicted\"}, {\"date\": \"2020-09-10T00:00:00\", \"y_test\": 85.19999694824217, \"y_pred\": 84.9699234155945, \"label\": \"Actual\", \"predicted_label\": \"Predicted\"}, {\"date\": \"2020-09-11T00:00:00\", \"y_test\": 86.59999847412111, \"y_pred\": 87.1555170905464, \"label\": \"Actual\", \"predicted_label\": \"Predicted\"}, {\"date\": \"2020-09-14T00:00:00\", \"y_test\": 90.1999969482422, \"y_pred\": 88.36465466186176, \"label\": \"Actual\", \"predicted_label\": \"Predicted\"}, {\"date\": \"2020-09-15T00:00:00\", \"y_test\": 91.5999984741211, \"y_pred\": 92.45783949533954, \"label\": \"Actual\", \"predicted_label\": \"Predicted\"}, {\"date\": \"2020-09-16T00:00:00\", \"y_test\": 89.5, \"y_pred\": 90.50881025595756, \"label\": \"Actual\", \"predicted_label\": \"Predicted\"}, {\"date\": \"2020-09-17T00:00:00\", \"y_test\": 88.44999694824219, \"y_pred\": 91.6061052665511, \"label\": \"Actual\", \"predicted_label\": \"Predicted\"}, {\"date\": \"2020-09-18T00:00:00\", \"y_test\": 89.75, \"y_pred\": 89.70145092212056, \"label\": \"Actual\", \"predicted_label\": \"Predicted\"}, {\"date\": \"2020-09-21T00:00:00\", \"y_test\": 87.0, \"y_pred\": 89.69680514646804, \"label\": \"Actual\", \"predicted_label\": \"Predicted\"}, {\"date\": \"2020-09-22T00:00:00\", \"y_test\": 82.0999984741211, \"y_pred\": 86.96748780752475, \"label\": \"Actual\", \"predicted_label\": \"Predicted\"}, {\"date\": \"2020-09-23T00:00:00\", \"y_test\": 80.5999984741211, \"y_pred\": 81.62591078097071, \"label\": \"Actual\", \"predicted_label\": \"Predicted\"}, {\"date\": \"2020-09-24T00:00:00\", \"y_test\": 77.6500015258789, \"y_pred\": 82.14994209829037, \"label\": \"Actual\", \"predicted_label\": \"Predicted\"}, {\"date\": \"2020-09-25T00:00:00\", \"y_test\": 79.0, \"y_pred\": 77.7981384440539, \"label\": \"Actual\", \"predicted_label\": \"Predicted\"}, {\"date\": \"2020-09-28T00:00:00\", \"y_test\": 83.75, \"y_pred\": 81.16362755367209, \"label\": \"Actual\", \"predicted_label\": \"Predicted\"}, {\"date\": \"2020-09-29T00:00:00\", \"y_test\": 84.59999847412111, \"y_pred\": 85.75790427400734, \"label\": \"Actual\", \"predicted_label\": \"Predicted\"}, {\"date\": \"2020-09-30T00:00:00\", \"y_test\": 83.05000305175781, \"y_pred\": 84.83232719583883, \"label\": \"Actual\", \"predicted_label\": \"Predicted\"}, {\"date\": \"2020-10-01T00:00:00\", \"y_test\": 84.4000015258789, \"y_pred\": 83.9283701465799, \"label\": \"Actual\", \"predicted_label\": \"Predicted\"}, {\"date\": \"2020-10-05T00:00:00\", \"y_test\": 84.90000152587892, \"y_pred\": 86.8293624380866, \"label\": \"Actual\", \"predicted_label\": \"Predicted\"}, {\"date\": \"2020-10-06T00:00:00\", \"y_test\": 82.1500015258789, \"y_pred\": 84.9362290051871, \"label\": \"Actual\", \"predicted_label\": \"Predicted\"}, {\"date\": \"2020-10-07T00:00:00\", \"y_test\": 80.0, \"y_pred\": 82.92962734116162, \"label\": \"Actual\", \"predicted_label\": \"Predicted\"}, {\"date\": \"2020-10-08T00:00:00\", \"y_test\": 80.00000000000001, \"y_pred\": 81.75829838818929, \"label\": \"Actual\", \"predicted_label\": \"Predicted\"}, {\"date\": \"2020-10-09T00:00:00\", \"y_test\": 79.55000305175781, \"y_pred\": 80.70903178017402, \"label\": \"Actual\", \"predicted_label\": \"Predicted\"}, {\"date\": \"2020-10-12T00:00:00\", \"y_test\": 80.0, \"y_pred\": 81.04107760981842, \"label\": \"Actual\", \"predicted_label\": \"Predicted\"}, {\"date\": \"2020-10-13T00:00:00\", \"y_test\": 76.44999694824219, \"y_pred\": 78.5550317375025, \"label\": \"Actual\", \"predicted_label\": \"Predicted\"}, {\"date\": \"2020-10-14T00:00:00\", \"y_test\": 78.5, \"y_pred\": 78.96348109276742, \"label\": \"Actual\", \"predicted_label\": \"Predicted\"}, {\"date\": \"2020-10-15T00:00:00\", \"y_test\": 78.4000015258789, \"y_pred\": 80.17924378082097, \"label\": \"Actual\", \"predicted_label\": \"Predicted\"}, {\"date\": \"2020-10-16T00:00:00\", \"y_test\": 77.0, \"y_pred\": 77.92441419942912, \"label\": \"Actual\", \"predicted_label\": \"Predicted\"}, {\"date\": \"2020-10-19T00:00:00\", \"y_test\": 76.94999694824219, \"y_pred\": 79.38859707749656, \"label\": \"Actual\", \"predicted_label\": \"Predicted\"}, {\"date\": \"2020-10-20T00:00:00\", \"y_test\": 76.9000015258789, \"y_pred\": 79.21158852259826, \"label\": \"Actual\", \"predicted_label\": \"Predicted\"}, {\"date\": \"2020-10-21T00:00:00\", \"y_test\": 77.0, \"y_pred\": 77.79600885251084, \"label\": \"Actual\", \"predicted_label\": \"Predicted\"}, {\"date\": \"2020-10-22T00:00:00\", \"y_test\": 77.9000015258789, \"y_pred\": 78.63809511935995, \"label\": \"Actual\", \"predicted_label\": \"Predicted\"}, {\"date\": \"2020-10-23T00:00:00\", \"y_test\": 80.4000015258789, \"y_pred\": 79.59393704228553, \"label\": \"Actual\", \"predicted_label\": \"Predicted\"}, {\"date\": \"2020-10-26T00:00:00\", \"y_test\": 79.8499984741211, \"y_pred\": 81.28879711750831, \"label\": \"Actual\", \"predicted_label\": \"Predicted\"}, {\"date\": \"2020-10-27T00:00:00\", \"y_test\": 77.5, \"y_pred\": 79.6365490415545, \"label\": \"Actual\", \"predicted_label\": \"Predicted\"}, {\"date\": \"2020-10-28T00:00:00\", \"y_test\": 77.0999984741211, \"y_pred\": 79.4605396306024, \"label\": \"Actual\", \"predicted_label\": \"Predicted\"}, {\"date\": \"2020-10-29T00:00:00\", \"y_test\": 75.5999984741211, \"y_pred\": 78.51438184255389, \"label\": \"Actual\", \"predicted_label\": \"Predicted\"}, {\"date\": \"2020-10-30T00:00:00\", \"y_test\": 75.75, \"y_pred\": 77.32816436691076, \"label\": \"Actual\", \"predicted_label\": \"Predicted\"}, {\"date\": \"2020-11-02T00:00:00\", \"y_test\": 75.5, \"y_pred\": 77.22322040055867, \"label\": \"Actual\", \"predicted_label\": \"Predicted\"}, {\"date\": \"2020-11-03T00:00:00\", \"y_test\": 74.9000015258789, \"y_pred\": 76.09649403582003, \"label\": \"Actual\", \"predicted_label\": \"Predicted\"}, {\"date\": \"2020-11-04T00:00:00\", \"y_test\": 75.1500015258789, \"y_pred\": 77.08539832989271, \"label\": \"Actual\", \"predicted_label\": \"Predicted\"}, {\"date\": \"2020-11-05T00:00:00\", \"y_test\": 75.0, \"y_pred\": 76.77794138154323, \"label\": \"Actual\", \"predicted_label\": \"Predicted\"}, {\"date\": \"2020-11-06T00:00:00\", \"y_test\": 79.5999984741211, \"y_pred\": 76.58363442069401, \"label\": \"Actual\", \"predicted_label\": \"Predicted\"}, {\"date\": \"2020-11-09T00:00:00\", \"y_test\": 77.75, \"y_pred\": 78.98899364672019, \"label\": \"Actual\", \"predicted_label\": \"Predicted\"}, {\"date\": \"2020-11-10T00:00:00\", \"y_test\": 83.75, \"y_pred\": 79.7892627392784, \"label\": \"Actual\", \"predicted_label\": \"Predicted\"}, {\"date\": \"2020-11-11T00:00:00\", \"y_test\": 83.59999847412111, \"y_pred\": 86.07416490052053, \"label\": \"Actual\", \"predicted_label\": \"Predicted\"}, {\"date\": \"2020-11-12T00:00:00\", \"y_test\": 82.9000015258789, \"y_pred\": 84.26707509816833, \"label\": \"Actual\", \"predicted_label\": \"Predicted\"}, {\"date\": \"2020-11-13T00:00:00\", \"y_test\": 82.55000305175781, \"y_pred\": 84.66757790950383, \"label\": \"Actual\", \"predicted_label\": \"Predicted\"}, {\"date\": \"2020-11-14T00:00:00\", \"y_test\": 83.4000015258789, \"y_pred\": 84.36004014338651, \"label\": \"Actual\", \"predicted_label\": \"Predicted\"}, {\"date\": \"2020-11-17T00:00:00\", \"y_test\": 89.6999969482422, \"y_pred\": 85.26705935564675, \"label\": \"Actual\", \"predicted_label\": \"Predicted\"}, {\"date\": \"2020-11-18T00:00:00\", \"y_test\": 89.69999694824219, \"y_pred\": 91.74293311544744, \"label\": \"Actual\", \"predicted_label\": \"Predicted\"}, {\"date\": \"2020-11-19T00:00:00\", \"y_test\": 89.69999694824219, \"y_pred\": 90.41975093302773, \"label\": \"Actual\", \"predicted_label\": \"Predicted\"}, {\"date\": \"2020-11-20T00:00:00\", \"y_test\": 90.25, \"y_pred\": 91.64878632734667, \"label\": \"Actual\", \"predicted_label\": \"Predicted\"}, {\"date\": \"2020-11-23T00:00:00\", \"y_test\": 89.0999984741211, \"y_pred\": 92.2615169631881, \"label\": \"Actual\", \"predicted_label\": \"Predicted\"}, {\"date\": \"2020-11-24T00:00:00\", \"y_test\": 88.1500015258789, \"y_pred\": 89.58273535835332, \"label\": \"Actual\", \"predicted_label\": \"Predicted\"}, {\"date\": \"2020-11-25T00:00:00\", \"y_test\": 89.0, \"y_pred\": 89.75740763223111, \"label\": \"Actual\", \"predicted_label\": \"Predicted\"}, {\"date\": \"2020-11-26T00:00:00\", \"y_test\": 91.25, \"y_pred\": 89.1570324306133, \"label\": \"Actual\", \"predicted_label\": \"Predicted\"}, {\"date\": \"2020-11-27T00:00:00\", \"y_test\": 91.0, \"y_pred\": 92.78613920085076, \"label\": \"Actual\", \"predicted_label\": \"Predicted\"}, {\"date\": \"2020-12-01T00:00:00\", \"y_test\": 94.59999847412111, \"y_pred\": 92.98083217011086, \"label\": \"Actual\", \"predicted_label\": \"Predicted\"}, {\"date\": \"2020-12-02T00:00:00\", \"y_test\": 96.00000000000001, \"y_pred\": 95.30208272773437, \"label\": \"Actual\", \"predicted_label\": \"Predicted\"}, {\"date\": \"2020-12-03T00:00:00\", \"y_test\": 99.69999694824222, \"y_pred\": 97.41345179583064, \"label\": \"Actual\", \"predicted_label\": \"Predicted\"}, {\"date\": \"2020-12-04T00:00:00\", \"y_test\": 100.6999969482422, \"y_pred\": 102.62385442919779, \"label\": \"Actual\", \"predicted_label\": \"Predicted\"}, {\"date\": \"2020-12-07T00:00:00\", \"y_test\": 103.65000152587892, \"y_pred\": 101.52685954213888, \"label\": \"Actual\", \"predicted_label\": \"Predicted\"}, {\"date\": \"2020-12-08T00:00:00\", \"y_test\": 104.84999847412111, \"y_pred\": 105.16038026272291, \"label\": \"Actual\", \"predicted_label\": \"Predicted\"}, {\"date\": \"2020-12-09T00:00:00\", \"y_test\": 104.5999984741211, \"y_pred\": 105.24745934142253, \"label\": \"Actual\", \"predicted_label\": \"Predicted\"}, {\"date\": \"2020-12-10T00:00:00\", \"y_test\": 102.8000030517578, \"y_pred\": 106.55620667217909, \"label\": \"Actual\", \"predicted_label\": \"Predicted\"}, {\"date\": \"2020-12-11T00:00:00\", \"y_test\": 104.0, \"y_pred\": 103.8813510934483, \"label\": \"Actual\", \"predicted_label\": \"Predicted\"}, {\"date\": \"2020-12-14T00:00:00\", \"y_test\": 102.5, \"y_pred\": 104.08041345446821, \"label\": \"Actual\", \"predicted_label\": \"Predicted\"}, {\"date\": \"2020-12-15T00:00:00\", \"y_test\": 102.5999984741211, \"y_pred\": 105.17410755943781, \"label\": \"Actual\", \"predicted_label\": \"Predicted\"}, {\"date\": \"2020-12-16T00:00:00\", \"y_test\": 102.40000152587892, \"y_pred\": 104.78421239510162, \"label\": \"Actual\", \"predicted_label\": \"Predicted\"}, {\"date\": \"2020-12-17T00:00:00\", \"y_test\": 100.6500015258789, \"y_pred\": 104.16887585847107, \"label\": \"Actual\", \"predicted_label\": \"Predicted\"}, {\"date\": \"2020-12-18T00:00:00\", \"y_test\": 100.00000000000001, \"y_pred\": 103.06903636712075, \"label\": \"Actual\", \"predicted_label\": \"Predicted\"}, {\"date\": \"2020-12-21T00:00:00\", \"y_test\": 98.90000152587889, \"y_pred\": 99.79072763264799, \"label\": \"Actual\", \"predicted_label\": \"Predicted\"}, {\"date\": \"2020-12-22T00:00:00\", \"y_test\": 90.1999969482422, \"y_pred\": 93.4001933563764, \"label\": \"Actual\", \"predicted_label\": \"Predicted\"}, {\"date\": \"2020-12-23T00:00:00\", \"y_test\": 92.9000015258789, \"y_pred\": 93.05299043925176, \"label\": \"Actual\", \"predicted_label\": \"Predicted\"}, {\"date\": \"2020-12-24T00:00:00\", \"y_test\": 94.94999694824219, \"y_pred\": 95.94753140601195, \"label\": \"Actual\", \"predicted_label\": \"Predicted\"}, {\"date\": \"2020-12-28T00:00:00\", \"y_test\": 92.75, \"y_pred\": 94.56270476958667, \"label\": \"Actual\", \"predicted_label\": \"Predicted\"}, {\"date\": \"2020-12-29T00:00:00\", \"y_test\": 91.4499969482422, \"y_pred\": 93.13337570697576, \"label\": \"Actual\", \"predicted_label\": \"Predicted\"}, {\"date\": \"2020-12-30T00:00:00\", \"y_test\": 90.9000015258789, \"y_pred\": 92.27452141397582, \"label\": \"Actual\", \"predicted_label\": \"Predicted\"}, {\"date\": \"2020-12-31T00:00:00\", \"y_test\": 91.50000000000001, \"y_pred\": 94.10830060222041, \"label\": \"Actual\", \"predicted_label\": \"Predicted\"}, {\"date\": \"2021-01-01T00:00:00\", \"y_test\": 93.9000015258789, \"y_pred\": 93.87682888552406, \"label\": \"Actual\", \"predicted_label\": \"Predicted\"}, {\"date\": \"2021-01-04T00:00:00\", \"y_test\": 97.0, \"y_pred\": 97.0964728392308, \"label\": \"Actual\", \"predicted_label\": \"Predicted\"}, {\"date\": \"2021-01-05T00:00:00\", \"y_test\": 95.5, \"y_pred\": 100.10897937708475, \"label\": \"Actual\", \"predicted_label\": \"Predicted\"}, {\"date\": \"2021-01-06T00:00:00\", \"y_test\": 98.15000152587892, \"y_pred\": 98.62607474875671, \"label\": \"Actual\", \"predicted_label\": \"Predicted\"}, {\"date\": \"2021-01-07T00:00:00\", \"y_test\": 98.5, \"y_pred\": 99.45803285641956, \"label\": \"Actual\", \"predicted_label\": \"Predicted\"}, {\"date\": \"2021-01-08T00:00:00\", \"y_test\": 99.34999847412111, \"y_pred\": 100.47093377766406, \"label\": \"Actual\", \"predicted_label\": \"Predicted\"}, {\"date\": \"2021-01-11T00:00:00\", \"y_test\": 99.4000015258789, \"y_pred\": 101.16526002425904, \"label\": \"Actual\", \"predicted_label\": \"Predicted\"}, {\"date\": \"2021-01-12T00:00:00\", \"y_test\": 97.4000015258789, \"y_pred\": 99.83646645068998, \"label\": \"Actual\", \"predicted_label\": \"Predicted\"}, {\"date\": \"2021-01-13T00:00:00\", \"y_test\": 100.6500015258789, \"y_pred\": 100.13771188783252, \"label\": \"Actual\", \"predicted_label\": \"Predicted\"}, {\"date\": \"2021-01-14T00:00:00\", \"y_test\": 99.8000030517578, \"y_pred\": 99.60047330182576, \"label\": \"Actual\", \"predicted_label\": \"Predicted\"}, {\"date\": \"2021-01-15T00:00:00\", \"y_test\": 98.0, \"y_pred\": 100.22497218769915, \"label\": \"Actual\", \"predicted_label\": \"Predicted\"}, {\"date\": \"2021-01-18T00:00:00\", \"y_test\": 97.0, \"y_pred\": 99.84799200308161, \"label\": \"Actual\", \"predicted_label\": \"Predicted\"}, {\"date\": \"2021-01-19T00:00:00\", \"y_test\": 95.49999999999999, \"y_pred\": 96.2262105723486, \"label\": \"Actual\", \"predicted_label\": \"Predicted\"}, {\"date\": \"2021-01-20T00:00:00\", \"y_test\": 96.3000030517578, \"y_pred\": 97.6146875981008, \"label\": \"Actual\", \"predicted_label\": \"Predicted\"}, {\"date\": \"2021-01-21T00:00:00\", \"y_test\": 96.4499969482422, \"y_pred\": 98.11262938573954, \"label\": \"Actual\", \"predicted_label\": \"Predicted\"}, {\"date\": \"2021-01-22T00:00:00\", \"y_test\": 95.3000030517578, \"y_pred\": 98.0639639527219, \"label\": \"Actual\", \"predicted_label\": \"Predicted\"}, {\"date\": \"2021-01-25T00:00:00\", \"y_test\": 93.40000152587892, \"y_pred\": 96.17223854765638, \"label\": \"Actual\", \"predicted_label\": \"Predicted\"}, {\"date\": \"2021-01-27T00:00:00\", \"y_test\": 93.6999969482422, \"y_pred\": 95.45062410613006, \"label\": \"Actual\", \"predicted_label\": \"Predicted\"}, {\"date\": \"2021-01-28T00:00:00\", \"y_test\": 94.49999999999999, \"y_pred\": 95.79964868975493, \"label\": \"Actual\", \"predicted_label\": \"Predicted\"}, {\"date\": \"2021-01-29T00:00:00\", \"y_test\": 94.75000000000001, \"y_pred\": 97.00644675794526, \"label\": \"Actual\", \"predicted_label\": \"Predicted\"}, {\"date\": \"2021-02-01T00:00:00\", \"y_test\": 93.24999999999999, \"y_pred\": 95.83364172312567, \"label\": \"Actual\", \"predicted_label\": \"Predicted\"}, {\"date\": \"2021-02-02T00:00:00\", \"y_test\": 94.0, \"y_pred\": 94.12272447448981, \"label\": \"Actual\", \"predicted_label\": \"Predicted\"}, {\"date\": \"2021-02-03T00:00:00\", \"y_test\": 95.3000030517578, \"y_pred\": 95.28583869010663, \"label\": \"Actual\", \"predicted_label\": \"Predicted\"}, {\"date\": \"2021-02-04T00:00:00\", \"y_test\": 95.8000030517578, \"y_pred\": 97.58297268514781, \"label\": \"Actual\", \"predicted_label\": \"Predicted\"}, {\"date\": \"2021-02-05T00:00:00\", \"y_test\": 96.8499984741211, \"y_pred\": 96.53637554864419, \"label\": \"Actual\", \"predicted_label\": \"Predicted\"}, {\"date\": \"2021-02-08T00:00:00\", \"y_test\": 99.6500015258789, \"y_pred\": 99.86206892388536, \"label\": \"Actual\", \"predicted_label\": \"Predicted\"}, {\"date\": \"2021-02-09T00:00:00\", \"y_test\": 101.0500030517578, \"y_pred\": 102.6395030310549, \"label\": \"Actual\", \"predicted_label\": \"Predicted\"}, {\"date\": \"2021-02-10T00:00:00\", \"y_test\": 97.9499969482422, \"y_pred\": 98.86287358540106, \"label\": \"Actual\", \"predicted_label\": \"Predicted\"}, {\"date\": \"2021-02-11T00:00:00\", \"y_test\": 99.49999999999999, \"y_pred\": 100.63784729782066, \"label\": \"Actual\", \"predicted_label\": \"Predicted\"}, {\"date\": \"2021-02-12T00:00:00\", \"y_test\": 99.5, \"y_pred\": 100.92452412167594, \"label\": \"Actual\", \"predicted_label\": \"Predicted\"}, {\"date\": \"2021-02-15T00:00:00\", \"y_test\": 99.75000000000001, \"y_pred\": 101.52583665747106, \"label\": \"Actual\", \"predicted_label\": \"Predicted\"}, {\"date\": \"2021-02-16T00:00:00\", \"y_test\": 101.25, \"y_pred\": 102.35345361050408, \"label\": \"Actual\", \"predicted_label\": \"Predicted\"}, {\"date\": \"2021-02-17T00:00:00\", \"y_test\": 99.1999969482422, \"y_pred\": 102.32881515398606, \"label\": \"Actual\", \"predicted_label\": \"Predicted\"}, {\"date\": \"2021-02-18T00:00:00\", \"y_test\": 98.94999694824219, \"y_pred\": 100.25075824785259, \"label\": \"Actual\", \"predicted_label\": \"Predicted\"}, {\"date\": \"2021-02-19T00:00:00\", \"y_test\": 99.40000152587892, \"y_pred\": 101.02240906343135, \"label\": \"Actual\", \"predicted_label\": \"Predicted\"}, {\"date\": \"2021-02-22T00:00:00\", \"y_test\": 97.30000305175778, \"y_pred\": 100.34537517851844, \"label\": \"Actual\", \"predicted_label\": \"Predicted\"}, {\"date\": \"2021-02-23T00:00:00\", \"y_test\": 97.9499969482422, \"y_pred\": 99.94737383976167, \"label\": \"Actual\", \"predicted_label\": \"Predicted\"}, {\"date\": \"2021-02-24T00:00:00\", \"y_test\": 97.9499969482422, \"y_pred\": 100.23538176501718, \"label\": \"Actual\", \"predicted_label\": \"Predicted\"}, {\"date\": \"2021-02-25T00:00:00\", \"y_test\": 98.9000015258789, \"y_pred\": 100.85296302859861, \"label\": \"Actual\", \"predicted_label\": \"Predicted\"}, {\"date\": \"2021-02-26T00:00:00\", \"y_test\": 98.25000000000001, \"y_pred\": 100.2258357480936, \"label\": \"Actual\", \"predicted_label\": \"Predicted\"}, {\"date\": \"2021-03-01T00:00:00\", \"y_test\": 99.5, \"y_pred\": 99.71525829383837, \"label\": \"Actual\", \"predicted_label\": \"Predicted\"}, {\"date\": \"2021-03-02T00:00:00\", \"y_test\": 98.5999984741211, \"y_pred\": 99.94620411841362, \"label\": \"Actual\", \"predicted_label\": \"Predicted\"}, {\"date\": \"2021-03-03T00:00:00\", \"y_test\": 104.6999969482422, \"y_pred\": 100.53924859163753, \"label\": \"Actual\", \"predicted_label\": \"Predicted\"}, {\"date\": \"2021-03-04T00:00:00\", \"y_test\": 110.84999847412111, \"y_pred\": 107.62286330306566, \"label\": \"Actual\", \"predicted_label\": \"Predicted\"}, {\"date\": \"2021-03-05T00:00:00\", \"y_test\": 111.0, \"y_pred\": 113.91978480041317, \"label\": \"Actual\", \"predicted_label\": \"Predicted\"}, {\"date\": \"2021-03-08T00:00:00\", \"y_test\": 112.5, \"y_pred\": 113.78786194432068, \"label\": \"Actual\", \"predicted_label\": \"Predicted\"}, {\"date\": \"2021-03-09T00:00:00\", \"y_test\": 110.0, \"y_pred\": 112.0505936954592, \"label\": \"Actual\", \"predicted_label\": \"Predicted\"}, {\"date\": \"2021-03-10T00:00:00\", \"y_test\": 109.3499984741211, \"y_pred\": 111.72852977924808, \"label\": \"Actual\", \"predicted_label\": \"Predicted\"}, {\"date\": \"2021-03-12T00:00:00\", \"y_test\": 109.0, \"y_pred\": 111.71581713763689, \"label\": \"Actual\", \"predicted_label\": \"Predicted\"}, {\"date\": \"2021-03-15T00:00:00\", \"y_test\": 107.9499969482422, \"y_pred\": 110.24274158856245, \"label\": \"Actual\", \"predicted_label\": \"Predicted\"}, {\"date\": \"2021-03-16T00:00:00\", \"y_test\": 104.49999999999999, \"y_pred\": 106.24400694508107, \"label\": \"Actual\", \"predicted_label\": \"Predicted\"}, {\"date\": \"2021-03-17T00:00:00\", \"y_test\": 108.0, \"y_pred\": 106.51753509335805, \"label\": \"Actual\", \"predicted_label\": \"Predicted\"}, {\"date\": \"2021-03-18T00:00:00\", \"y_test\": 103.05000305175778, \"y_pred\": 104.00456760302555, \"label\": \"Actual\", \"predicted_label\": \"Predicted\"}, {\"date\": \"2021-03-19T00:00:00\", \"y_test\": 99.8499984741211, \"y_pred\": 102.81354596113107, \"label\": \"Actual\", \"predicted_label\": \"Predicted\"}, {\"date\": \"2021-03-22T00:00:00\", \"y_test\": 98.75, \"y_pred\": 101.86149119559575, \"label\": \"Actual\", \"predicted_label\": \"Predicted\"}, {\"date\": \"2021-03-23T00:00:00\", \"y_test\": 100.0500030517578, \"y_pred\": 101.79982255633472, \"label\": \"Actual\", \"predicted_label\": \"Predicted\"}, {\"date\": \"2021-03-24T00:00:00\", \"y_test\": 99.9499969482422, \"y_pred\": 104.11423092560837, \"label\": \"Actual\", \"predicted_label\": \"Predicted\"}, {\"date\": \"2021-03-25T00:00:00\", \"y_test\": 98.0500030517578, \"y_pred\": 102.7138668597141, \"label\": \"Actual\", \"predicted_label\": \"Predicted\"}, {\"date\": \"2021-03-26T00:00:00\", \"y_test\": 97.90000152587892, \"y_pred\": 99.5146138431971, \"label\": \"Actual\", \"predicted_label\": \"Predicted\"}, {\"date\": \"2021-03-30T00:00:00\", \"y_test\": 95.5999984741211, \"y_pred\": 99.05435386000833, \"label\": \"Actual\", \"predicted_label\": \"Predicted\"}, {\"date\": \"2021-03-31T00:00:00\", \"y_test\": 96.1500015258789, \"y_pred\": 96.36659004553631, \"label\": \"Actual\", \"predicted_label\": \"Predicted\"}, {\"date\": \"2021-04-01T00:00:00\", \"y_test\": 97.3499984741211, \"y_pred\": 95.75695630602905, \"label\": \"Actual\", \"predicted_label\": \"Predicted\"}, {\"date\": \"2021-04-05T00:00:00\", \"y_test\": 93.5999984741211, \"y_pred\": 98.49011034571987, \"label\": \"Actual\", \"predicted_label\": \"Predicted\"}, {\"date\": \"2021-04-06T00:00:00\", \"y_test\": 93.05000305175781, \"y_pred\": 95.19491219323625, \"label\": \"Actual\", \"predicted_label\": \"Predicted\"}, {\"date\": \"2021-04-07T00:00:00\", \"y_test\": 94.1999969482422, \"y_pred\": 94.04978551255076, \"label\": \"Actual\", \"predicted_label\": \"Predicted\"}, {\"date\": \"2021-04-08T00:00:00\", \"y_test\": 94.3000030517578, \"y_pred\": 96.28381491818715, \"label\": \"Actual\", \"predicted_label\": \"Predicted\"}, {\"date\": \"2021-04-09T00:00:00\", \"y_test\": 94.9000015258789, \"y_pred\": 95.40855249657109, \"label\": \"Actual\", \"predicted_label\": \"Predicted\"}, {\"date\": \"2021-04-12T00:00:00\", \"y_test\": 92.00000000000001, \"y_pred\": 94.68458032089292, \"label\": \"Actual\", \"predicted_label\": \"Predicted\"}, {\"date\": \"2021-04-13T00:00:00\", \"y_test\": 89.4000015258789, \"y_pred\": 89.81160380680956, \"label\": \"Actual\", \"predicted_label\": \"Predicted\"}, {\"date\": \"2021-04-15T00:00:00\", \"y_test\": 88.30000305175781, \"y_pred\": 91.95047978858351, \"label\": \"Actual\", \"predicted_label\": \"Predicted\"}, {\"date\": \"2021-04-16T00:00:00\", \"y_test\": 88.84999847412111, \"y_pred\": 90.67386814219033, \"label\": \"Actual\", \"predicted_label\": \"Predicted\"}, {\"date\": \"2021-04-19T00:00:00\", \"y_test\": 85.0, \"y_pred\": 89.52561532112341, \"label\": \"Actual\", \"predicted_label\": \"Predicted\"}, {\"date\": \"2021-04-20T00:00:00\", \"y_test\": 86.1999969482422, \"y_pred\": 85.5773678107851, \"label\": \"Actual\", \"predicted_label\": \"Predicted\"}, {\"date\": \"2021-04-22T00:00:00\", \"y_test\": 85.80000305175781, \"y_pred\": 85.97900132135705, \"label\": \"Actual\", \"predicted_label\": \"Predicted\"}, {\"date\": \"2021-04-23T00:00:00\", \"y_test\": 86.55000305175781, \"y_pred\": 85.92130773668886, \"label\": \"Actual\", \"predicted_label\": \"Predicted\"}, {\"date\": \"2021-04-26T00:00:00\", \"y_test\": 88.94999694824219, \"y_pred\": 88.00608522702629, \"label\": \"Actual\", \"predicted_label\": \"Predicted\"}, {\"date\": \"2021-04-27T00:00:00\", \"y_test\": 90.0, \"y_pred\": 90.56752913796149, \"label\": \"Actual\", \"predicted_label\": \"Predicted\"}, {\"date\": \"2021-04-28T00:00:00\", \"y_test\": 91.5999984741211, \"y_pred\": 90.80467800694252, \"label\": \"Actual\", \"predicted_label\": \"Predicted\"}, {\"date\": \"2021-04-29T00:00:00\", \"y_test\": 88.9000015258789, \"y_pred\": 89.60299240023069, \"label\": \"Actual\", \"predicted_label\": \"Predicted\"}, {\"date\": \"2021-04-30T00:00:00\", \"y_test\": 89.5, \"y_pred\": 89.19680800661773, \"label\": \"Actual\", \"predicted_label\": \"Predicted\"}, {\"date\": \"2021-05-03T00:00:00\", \"y_test\": 87.30000305175781, \"y_pred\": 88.46371798917842, \"label\": \"Actual\", \"predicted_label\": \"Predicted\"}, {\"date\": \"2021-05-04T00:00:00\", \"y_test\": 90.5, \"y_pred\": 88.14204833152085, \"label\": \"Actual\", \"predicted_label\": \"Predicted\"}, {\"date\": \"2021-05-05T00:00:00\", \"y_test\": 88.80000305175781, \"y_pred\": 88.47377284936782, \"label\": \"Actual\", \"predicted_label\": \"Predicted\"}, {\"date\": \"2021-05-06T00:00:00\", \"y_test\": 90.1999969482422, \"y_pred\": 89.66007289482366, \"label\": \"Actual\", \"predicted_label\": \"Predicted\"}, {\"date\": \"2021-05-07T00:00:00\", \"y_test\": 91.30000305175778, \"y_pred\": 91.33960632512981, \"label\": \"Actual\", \"predicted_label\": \"Predicted\"}, {\"date\": \"2021-05-10T00:00:00\", \"y_test\": 91.0, \"y_pred\": 91.43208059092247, \"label\": \"Actual\", \"predicted_label\": \"Predicted\"}, {\"date\": \"2021-05-11T00:00:00\", \"y_test\": 93.0, \"y_pred\": 90.50759021829874, \"label\": \"Actual\", \"predicted_label\": \"Predicted\"}, {\"date\": \"2021-05-12T00:00:00\", \"y_test\": 93.90000152587892, \"y_pred\": 92.75177480029396, \"label\": \"Actual\", \"predicted_label\": \"Predicted\"}, {\"date\": \"2021-05-14T00:00:00\", \"y_test\": 93.9499969482422, \"y_pred\": 94.30503164073794, \"label\": \"Actual\", \"predicted_label\": \"Predicted\"}, {\"date\": \"2021-05-17T00:00:00\", \"y_test\": 93.75000000000001, \"y_pred\": 94.0703730780304, \"label\": \"Actual\", \"predicted_label\": \"Predicted\"}, {\"date\": \"2021-05-18T00:00:00\", \"y_test\": 99.44999694824219, \"y_pred\": 94.40664708018576, \"label\": \"Actual\", \"predicted_label\": \"Predicted\"}, {\"date\": \"2021-05-19T00:00:00\", \"y_test\": 100.1500015258789, \"y_pred\": 99.13886405421577, \"label\": \"Actual\", \"predicted_label\": \"Predicted\"}, {\"date\": \"2021-05-20T00:00:00\", \"y_test\": 99.84999847412111, \"y_pred\": 100.96929348242621, \"label\": \"Actual\", \"predicted_label\": \"Predicted\"}, {\"date\": \"2021-05-21T00:00:00\", \"y_test\": 101.69999694824222, \"y_pred\": 98.75740144026027, \"label\": \"Actual\", \"predicted_label\": \"Predicted\"}, {\"date\": \"2021-05-24T00:00:00\", \"y_test\": 106.44999694824219, \"y_pred\": 101.23831283132476, \"label\": \"Actual\", \"predicted_label\": \"Predicted\"}, {\"date\": \"2021-05-25T00:00:00\", \"y_test\": 112.99999999999999, \"y_pred\": 107.76101134550083, \"label\": \"Actual\", \"predicted_label\": \"Predicted\"}, {\"date\": \"2021-05-26T00:00:00\", \"y_test\": 110.9000015258789, \"y_pred\": 111.06456159730203, \"label\": \"Actual\", \"predicted_label\": \"Predicted\"}, {\"date\": \"2021-05-27T00:00:00\", \"y_test\": 114.40000152587892, \"y_pred\": 108.50638884617317, \"label\": \"Actual\", \"predicted_label\": \"Predicted\"}, {\"date\": \"2021-05-28T00:00:00\", \"y_test\": 114.4499969482422, \"y_pred\": 114.63083492911112, \"label\": \"Actual\", \"predicted_label\": \"Predicted\"}, {\"date\": \"2021-05-31T00:00:00\", \"y_test\": 112.59999847412111, \"y_pred\": 111.30666407881166, \"label\": \"Actual\", \"predicted_label\": \"Predicted\"}, {\"date\": \"2021-06-01T00:00:00\", \"y_test\": 111.6500015258789, \"y_pred\": 111.11196082138207, \"label\": \"Actual\", \"predicted_label\": \"Predicted\"}, {\"date\": \"2021-06-02T00:00:00\", \"y_test\": 111.4000015258789, \"y_pred\": 110.93963386992658, \"label\": \"Actual\", \"predicted_label\": \"Predicted\"}, {\"date\": \"2021-06-03T00:00:00\", \"y_test\": 111.15000152587892, \"y_pred\": 109.795873360668, \"label\": \"Actual\", \"predicted_label\": \"Predicted\"}, {\"date\": \"2021-06-04T00:00:00\", \"y_test\": 121.15000152587892, \"y_pred\": 112.80684901681842, \"label\": \"Actual\", \"predicted_label\": \"Predicted\"}, {\"date\": \"2021-06-07T00:00:00\", \"y_test\": 120.6999969482422, \"y_pred\": 118.71829881974975, \"label\": \"Actual\", \"predicted_label\": \"Predicted\"}, {\"date\": \"2021-06-08T00:00:00\", \"y_test\": 119.0, \"y_pred\": 120.37284791005881, \"label\": \"Actual\", \"predicted_label\": \"Predicted\"}, {\"date\": \"2021-06-09T00:00:00\", \"y_test\": 118.1999969482422, \"y_pred\": 117.57901559751183, \"label\": \"Actual\", \"predicted_label\": \"Predicted\"}, {\"date\": \"2021-06-10T00:00:00\", \"y_test\": 118.15000152587892, \"y_pred\": 115.41403829100935, \"label\": \"Actual\", \"predicted_label\": \"Predicted\"}, {\"date\": \"2021-06-11T00:00:00\", \"y_test\": 118.15000152587892, \"y_pred\": 118.59286937167734, \"label\": \"Actual\", \"predicted_label\": \"Predicted\"}, {\"date\": \"2021-06-14T00:00:00\", \"y_test\": 119.84999847412111, \"y_pred\": 116.95226240481935, \"label\": \"Actual\", \"predicted_label\": \"Predicted\"}, {\"date\": \"2021-06-15T00:00:00\", \"y_test\": 119.25, \"y_pred\": 118.79134554424162, \"label\": \"Actual\", \"predicted_label\": \"Predicted\"}, {\"date\": \"2021-06-16T00:00:00\", \"y_test\": 119.00000000000001, \"y_pred\": 119.62761754516328, \"label\": \"Actual\", \"predicted_label\": \"Predicted\"}, {\"date\": \"2021-06-17T00:00:00\", \"y_test\": 116.75, \"y_pred\": 118.05864723990133, \"label\": \"Actual\", \"predicted_label\": \"Predicted\"}, {\"date\": \"2021-06-18T00:00:00\", \"y_test\": 114.8499984741211, \"y_pred\": 115.52619672190657, \"label\": \"Actual\", \"predicted_label\": \"Predicted\"}, {\"date\": \"2021-06-21T00:00:00\", \"y_test\": 111.1999969482422, \"y_pred\": 112.51696007691316, \"label\": \"Actual\", \"predicted_label\": \"Predicted\"}, {\"date\": \"2021-06-22T00:00:00\", \"y_test\": 116.9499969482422, \"y_pred\": 112.59515794409846, \"label\": \"Actual\", \"predicted_label\": \"Predicted\"}, {\"date\": \"2021-06-23T00:00:00\", \"y_test\": 115.9000015258789, \"y_pred\": 115.65194830771028, \"label\": \"Actual\", \"predicted_label\": \"Predicted\"}, {\"date\": \"2021-06-24T00:00:00\", \"y_test\": 114.99999999999999, \"y_pred\": 116.19864270301568, \"label\": \"Actual\", \"predicted_label\": \"Predicted\"}, {\"date\": \"2021-06-25T00:00:00\", \"y_test\": 115.4499969482422, \"y_pred\": 113.52988608389832, \"label\": \"Actual\", \"predicted_label\": \"Predicted\"}, {\"date\": \"2021-06-28T00:00:00\", \"y_test\": 114.8499984741211, \"y_pred\": 115.25311929934175, \"label\": \"Actual\", \"predicted_label\": \"Predicted\"}, {\"date\": \"2021-06-29T00:00:00\", \"y_test\": 115.59999847412111, \"y_pred\": 115.04091500283559, \"label\": \"Actual\", \"predicted_label\": \"Predicted\"}, {\"date\": \"2021-06-30T00:00:00\", \"y_test\": 113.0, \"y_pred\": 113.43547751130004, \"label\": \"Actual\", \"predicted_label\": \"Predicted\"}, {\"date\": \"2021-07-01T00:00:00\", \"y_test\": 113.84999847412111, \"y_pred\": 113.3055787520751, \"label\": \"Actual\", \"predicted_label\": \"Predicted\"}, {\"date\": \"2021-07-02T00:00:00\", \"y_test\": 112.6999969482422, \"y_pred\": 112.84406567133075, \"label\": \"Actual\", \"predicted_label\": \"Predicted\"}, {\"date\": \"2021-07-05T00:00:00\", \"y_test\": 114.0, \"y_pred\": 113.73101569788672, \"label\": \"Actual\", \"predicted_label\": \"Predicted\"}, {\"date\": \"2021-07-06T00:00:00\", \"y_test\": 119.6999969482422, \"y_pred\": 114.92644158829009, \"label\": \"Actual\", \"predicted_label\": \"Predicted\"}, {\"date\": \"2021-07-07T00:00:00\", \"y_test\": 122.59999847412111, \"y_pred\": 119.76536616993054, \"label\": \"Actual\", \"predicted_label\": \"Predicted\"}, {\"date\": \"2021-07-08T00:00:00\", \"y_test\": 119.5, \"y_pred\": 119.12541736348139, \"label\": \"Actual\", \"predicted_label\": \"Predicted\"}, {\"date\": \"2021-07-09T00:00:00\", \"y_test\": 118.5, \"y_pred\": 119.94345273498493, \"label\": \"Actual\", \"predicted_label\": \"Predicted\"}, {\"date\": \"2021-07-12T00:00:00\", \"y_test\": 119.8499984741211, \"y_pred\": 119.2933956416742, \"label\": \"Actual\", \"predicted_label\": \"Predicted\"}, {\"date\": \"2021-07-13T00:00:00\", \"y_test\": 119.0, \"y_pred\": 118.52578077668677, \"label\": \"Actual\", \"predicted_label\": \"Predicted\"}, {\"date\": \"2021-07-14T00:00:00\", \"y_test\": 118.19999694824219, \"y_pred\": 118.86521117411071, \"label\": \"Actual\", \"predicted_label\": \"Predicted\"}, {\"date\": \"2021-07-15T00:00:00\", \"y_test\": 120.80000305175778, \"y_pred\": 118.31597242585823, \"label\": \"Actual\", \"predicted_label\": \"Predicted\"}, {\"date\": \"2021-07-16T00:00:00\", \"y_test\": 118.0500030517578, \"y_pred\": 118.73608080926842, \"label\": \"Actual\", \"predicted_label\": \"Predicted\"}, {\"date\": \"2021-07-19T00:00:00\", \"y_test\": 116.5500030517578, \"y_pred\": 117.52984577163686, \"label\": \"Actual\", \"predicted_label\": \"Predicted\"}, {\"date\": \"2021-07-20T00:00:00\", \"y_test\": 113.0, \"y_pred\": 115.73096626143032, \"label\": \"Actual\", \"predicted_label\": \"Predicted\"}, {\"date\": \"2021-07-22T00:00:00\", \"y_test\": 113.24999999999999, \"y_pred\": 111.8604462477153, \"label\": \"Actual\", \"predicted_label\": \"Predicted\"}, {\"date\": \"2021-07-23T00:00:00\", \"y_test\": 114.0, \"y_pred\": 113.78252642239318, \"label\": \"Actual\", \"predicted_label\": \"Predicted\"}, {\"date\": \"2021-07-26T00:00:00\", \"y_test\": 115.25000000000001, \"y_pred\": 116.36321774609912, \"label\": \"Actual\", \"predicted_label\": \"Predicted\"}, {\"date\": \"2021-07-27T00:00:00\", \"y_test\": 114.9000015258789, \"y_pred\": 114.98892778264688, \"label\": \"Actual\", \"predicted_label\": \"Predicted\"}, {\"date\": \"2021-07-28T00:00:00\", \"y_test\": 113.15000152587889, \"y_pred\": 114.18860895366645, \"label\": \"Actual\", \"predicted_label\": \"Predicted\"}, {\"date\": \"2021-07-29T00:00:00\", \"y_test\": 114.25000000000001, \"y_pred\": 113.49247699646286, \"label\": \"Actual\", \"predicted_label\": \"Predicted\"}, {\"date\": \"2021-07-30T00:00:00\", \"y_test\": 113.8000030517578, \"y_pred\": 114.63779315617002, \"label\": \"Actual\", \"predicted_label\": \"Predicted\"}, {\"date\": \"2021-08-02T00:00:00\", \"y_test\": 113.5, \"y_pred\": 114.33092266368882, \"label\": \"Actual\", \"predicted_label\": \"Predicted\"}, {\"date\": \"2021-08-03T00:00:00\", \"y_test\": 112.0, \"y_pred\": 114.05921244301291, \"label\": \"Actual\", \"predicted_label\": \"Predicted\"}, {\"date\": \"2021-08-04T00:00:00\", \"y_test\": 111.8499984741211, \"y_pred\": 112.49259483939457, \"label\": \"Actual\", \"predicted_label\": \"Predicted\"}, {\"date\": \"2021-08-05T00:00:00\", \"y_test\": 109.5, \"y_pred\": 110.80434552725013, \"label\": \"Actual\", \"predicted_label\": \"Predicted\"}, {\"date\": \"2021-08-06T00:00:00\", \"y_test\": 109.69999694824222, \"y_pred\": 111.56655263105439, \"label\": \"Actual\", \"predicted_label\": \"Predicted\"}, {\"date\": \"2021-08-09T00:00:00\", \"y_test\": 109.49999999999999, \"y_pred\": 111.49268500241644, \"label\": \"Actual\", \"predicted_label\": \"Predicted\"}, {\"date\": \"2021-08-10T00:00:00\", \"y_test\": 108.69999694824219, \"y_pred\": 109.94942312638433, \"label\": \"Actual\", \"predicted_label\": \"Predicted\"}, {\"date\": \"2021-08-11T00:00:00\", \"y_test\": 104.5, \"y_pred\": 107.45959223979821, \"label\": \"Actual\", \"predicted_label\": \"Predicted\"}, {\"date\": \"2021-08-12T00:00:00\", \"y_test\": 105.9000015258789, \"y_pred\": 106.14648726597959, \"label\": \"Actual\", \"predicted_label\": \"Predicted\"}, {\"date\": \"2021-08-13T00:00:00\", \"y_test\": 106.99999999999999, \"y_pred\": 108.84019565576219, \"label\": \"Actual\", \"predicted_label\": \"Predicted\"}, {\"date\": \"2021-08-16T00:00:00\", \"y_test\": 105.65000152587889, \"y_pred\": 108.30356348340914, \"label\": \"Actual\", \"predicted_label\": \"Predicted\"}, {\"date\": \"2021-08-17T00:00:00\", \"y_test\": 103.65000152587892, \"y_pred\": 106.57604115235121, \"label\": \"Actual\", \"predicted_label\": \"Predicted\"}, {\"date\": \"2021-08-18T00:00:00\", \"y_test\": 104.19999694824219, \"y_pred\": 106.65357275509518, \"label\": \"Actual\", \"predicted_label\": \"Predicted\"}, {\"date\": \"2021-08-20T00:00:00\", \"y_test\": 103.4499969482422, \"y_pred\": 107.02263768153665, \"label\": \"Actual\", \"predicted_label\": \"Predicted\"}, {\"date\": \"2021-08-23T00:00:00\", \"y_test\": 104.0999984741211, \"y_pred\": 105.78791431422356, \"label\": \"Actual\", \"predicted_label\": \"Predicted\"}, {\"date\": \"2021-08-24T00:00:00\", \"y_test\": 110.0, \"y_pred\": 104.13852507364936, \"label\": \"Actual\", \"predicted_label\": \"Predicted\"}, {\"date\": \"2021-08-25T00:00:00\", \"y_test\": 106.75000000000001, \"y_pred\": 109.03840998974856, \"label\": \"Actual\", \"predicted_label\": \"Predicted\"}, {\"date\": \"2021-08-26T00:00:00\", \"y_test\": 105.5500030517578, \"y_pred\": 110.17088132245046, \"label\": \"Actual\", \"predicted_label\": \"Predicted\"}, {\"date\": \"2021-08-27T00:00:00\", \"y_test\": 105.8000030517578, \"y_pred\": 108.19863215677464, \"label\": \"Actual\", \"predicted_label\": \"Predicted\"}, {\"date\": \"2021-08-30T00:00:00\", \"y_test\": 106.5999984741211, \"y_pred\": 108.57655820397409, \"label\": \"Actual\", \"predicted_label\": \"Predicted\"}, {\"date\": \"2021-08-31T00:00:00\", \"y_test\": 105.69999694824219, \"y_pred\": 106.81496465609476, \"label\": \"Actual\", \"predicted_label\": \"Predicted\"}, {\"date\": \"2021-09-01T00:00:00\", \"y_test\": 104.15000152587892, \"y_pred\": 106.33589734658374, \"label\": \"Actual\", \"predicted_label\": \"Predicted\"}, {\"date\": \"2021-09-02T00:00:00\", \"y_test\": 109.59999847412108, \"y_pred\": 106.55559569313453, \"label\": \"Actual\", \"predicted_label\": \"Predicted\"}, {\"date\": \"2021-09-03T00:00:00\", \"y_test\": 109.25, \"y_pred\": 110.53567029768483, \"label\": \"Actual\", \"predicted_label\": \"Predicted\"}, {\"date\": \"2021-09-06T00:00:00\", \"y_test\": 108.5999984741211, \"y_pred\": 110.18026657119941, \"label\": \"Actual\", \"predicted_label\": \"Predicted\"}, {\"date\": \"2021-09-07T00:00:00\", \"y_test\": 107.8000030517578, \"y_pred\": 109.96087758516542, \"label\": \"Actual\", \"predicted_label\": \"Predicted\"}, {\"date\": \"2021-09-08T00:00:00\", \"y_test\": 108.0999984741211, \"y_pred\": 109.68313137866811, \"label\": \"Actual\", \"predicted_label\": \"Predicted\"}, {\"date\": \"2021-09-09T00:00:00\", \"y_test\": 108.3000030517578, \"y_pred\": 109.57540592321352, \"label\": \"Actual\", \"predicted_label\": \"Predicted\"}, {\"date\": \"2021-09-13T00:00:00\", \"y_test\": 110.6999969482422, \"y_pred\": 110.4111875237127, \"label\": \"Actual\", \"predicted_label\": \"Predicted\"}, {\"date\": \"2021-09-14T00:00:00\", \"y_test\": 111.5, \"y_pred\": 113.24689915083908, \"label\": \"Actual\", \"predicted_label\": \"Predicted\"}, {\"date\": \"2021-09-15T00:00:00\", \"y_test\": 111.8499984741211, \"y_pred\": 113.22975477896655, \"label\": \"Actual\", \"predicted_label\": \"Predicted\"}, {\"date\": \"2021-09-16T00:00:00\", \"y_test\": 112.40000152587892, \"y_pred\": 113.97332828311548, \"label\": \"Actual\", \"predicted_label\": \"Predicted\"}, {\"date\": \"2021-09-17T00:00:00\", \"y_test\": 112.5, \"y_pred\": 113.46429301998722, \"label\": \"Actual\", \"predicted_label\": \"Predicted\"}, {\"date\": \"2021-09-20T00:00:00\", \"y_test\": 121.0, \"y_pred\": 110.72503848802253, \"label\": \"Actual\", \"predicted_label\": \"Predicted\"}, {\"date\": \"2021-09-21T00:00:00\", \"y_test\": 112.6999969482422, \"y_pred\": 114.91694146994497, \"label\": \"Actual\", \"predicted_label\": \"Predicted\"}, {\"date\": \"2021-09-22T00:00:00\", \"y_test\": 117.4000015258789, \"y_pred\": 116.42420859672082, \"label\": \"Actual\", \"predicted_label\": \"Predicted\"}, {\"date\": \"2021-09-23T00:00:00\", \"y_test\": 124.15000152587889, \"y_pred\": 119.2640016065104, \"label\": \"Actual\", \"predicted_label\": \"Predicted\"}, {\"date\": \"2021-09-24T00:00:00\", \"y_test\": 126.5, \"y_pred\": 128.04681583813095, \"label\": \"Actual\", \"predicted_label\": \"Predicted\"}, {\"date\": \"2021-09-27T00:00:00\", \"y_test\": 150.6999969482422, \"y_pred\": 130.20470789167481, \"label\": \"Actual\", \"predicted_label\": \"Predicted\"}, {\"date\": \"2021-09-28T00:00:00\", \"y_test\": 144.9499969482422, \"y_pred\": 148.7421849486574, \"label\": \"Actual\", \"predicted_label\": \"Predicted\"}, {\"date\": \"2021-09-29T00:00:00\", \"y_test\": 134.8000030517578, \"y_pred\": 135.03632735682493, \"label\": \"Actual\", \"predicted_label\": \"Predicted\"}, {\"date\": \"2021-09-30T00:00:00\", \"y_test\": 131.89999389648438, \"y_pred\": 136.862878073032, \"label\": \"Actual\", \"predicted_label\": \"Predicted\"}, {\"date\": \"2021-10-01T00:00:00\", \"y_test\": 131.39999389648438, \"y_pred\": 135.27478604283587, \"label\": \"Actual\", \"predicted_label\": \"Predicted\"}, {\"date\": \"2021-10-04T00:00:00\", \"y_test\": 134.60000610351562, \"y_pred\": 134.26214508595942, \"label\": \"Actual\", \"predicted_label\": \"Predicted\"}, {\"date\": \"2021-10-05T00:00:00\", \"y_test\": 132.35000610351562, \"y_pred\": 136.17555063112155, \"label\": \"Actual\", \"predicted_label\": \"Predicted\"}, {\"date\": \"2021-10-06T00:00:00\", \"y_test\": 137.5500030517578, \"y_pred\": 139.02889504747782, \"label\": \"Actual\", \"predicted_label\": \"Predicted\"}, {\"date\": \"2021-10-07T00:00:00\", \"y_test\": 137.25, \"y_pred\": 140.47716529347647, \"label\": \"Actual\", \"predicted_label\": \"Predicted\"}, {\"date\": \"2021-10-08T00:00:00\", \"y_test\": 147.35000610351562, \"y_pred\": 144.96826267544003, \"label\": \"Actual\", \"predicted_label\": \"Predicted\"}, {\"date\": \"2021-10-11T00:00:00\", \"y_test\": 147.75, \"y_pred\": 146.62728342560865, \"label\": \"Actual\", \"predicted_label\": \"Predicted\"}, {\"date\": \"2021-10-12T00:00:00\", \"y_test\": 146.05000305175778, \"y_pred\": 150.25162337528135, \"label\": \"Actual\", \"predicted_label\": \"Predicted\"}, {\"date\": \"2021-10-13T00:00:00\", \"y_test\": 143.74999999999997, \"y_pred\": 150.0258790785144, \"label\": \"Actual\", \"predicted_label\": \"Predicted\"}, {\"date\": \"2021-10-14T00:00:00\", \"y_test\": 143.35000610351562, \"y_pred\": 148.3066907941476, \"label\": \"Actual\", \"predicted_label\": \"Predicted\"}, {\"date\": \"2021-10-18T00:00:00\", \"y_test\": 145.5, \"y_pred\": 148.77270898309888, \"label\": \"Actual\", \"predicted_label\": \"Predicted\"}, {\"date\": \"2021-10-19T00:00:00\", \"y_test\": 148.9499969482422, \"y_pred\": 150.4218176859525, \"label\": \"Actual\", \"predicted_label\": \"Predicted\"}, {\"date\": \"2021-10-20T00:00:00\", \"y_test\": 143.60000610351562, \"y_pred\": 145.67224067714875, \"label\": \"Actual\", \"predicted_label\": \"Predicted\"}, {\"date\": \"2021-10-21T00:00:00\", \"y_test\": 144.8000030517578, \"y_pred\": 148.33168301848374, \"label\": \"Actual\", \"predicted_label\": \"Predicted\"}, {\"date\": \"2021-10-22T00:00:00\", \"y_test\": 143.1999969482422, \"y_pred\": 143.85612994536052, \"label\": \"Actual\", \"predicted_label\": \"Predicted\"}, {\"date\": \"2021-10-25T00:00:00\", \"y_test\": 140.8000030517578, \"y_pred\": 142.7885147773767, \"label\": \"Actual\", \"predicted_label\": \"Predicted\"}, {\"date\": \"2021-10-26T00:00:00\", \"y_test\": 144.4499969482422, \"y_pred\": 145.48722258902762, \"label\": \"Actual\", \"predicted_label\": \"Predicted\"}, {\"date\": \"2021-10-27T00:00:00\", \"y_test\": 143.5, \"y_pred\": 144.64674556982564, \"label\": \"Actual\", \"predicted_label\": \"Predicted\"}, {\"date\": \"2021-10-28T00:00:00\", \"y_test\": 143.4499969482422, \"y_pred\": 146.95103309680965, \"label\": \"Actual\", \"predicted_label\": \"Predicted\"}, {\"date\": \"2021-10-29T00:00:00\", \"y_test\": 140.89999389648438, \"y_pred\": 142.828724588411, \"label\": \"Actual\", \"predicted_label\": \"Predicted\"}, {\"date\": \"2021-11-01T00:00:00\", \"y_test\": 141.4499969482422, \"y_pred\": 143.80987837441208, \"label\": \"Actual\", \"predicted_label\": \"Predicted\"}, {\"date\": \"2021-11-02T00:00:00\", \"y_test\": 143.85000610351562, \"y_pred\": 145.57549708513523, \"label\": \"Actual\", \"predicted_label\": \"Predicted\"}, {\"date\": \"2021-11-03T00:00:00\", \"y_test\": 142.4499969482422, \"y_pred\": 145.85530817367865, \"label\": \"Actual\", \"predicted_label\": \"Predicted\"}, {\"date\": \"2021-11-04T00:00:00\", \"y_test\": 142.64999389648438, \"y_pred\": 144.96942053195113, \"label\": \"Actual\", \"predicted_label\": \"Predicted\"}, {\"date\": \"2021-11-08T00:00:00\", \"y_test\": 152.8000030517578, \"y_pred\": 146.10604234664066, \"label\": \"Actual\", \"predicted_label\": \"Predicted\"}, {\"date\": \"2021-11-09T00:00:00\", \"y_test\": 155.0, \"y_pred\": 156.9464325112174, \"label\": \"Actual\", \"predicted_label\": \"Predicted\"}, {\"date\": \"2021-11-10T00:00:00\", \"y_test\": 154.9499969482422, \"y_pred\": 156.53923867164127, \"label\": \"Actual\", \"predicted_label\": \"Predicted\"}, {\"date\": \"2021-11-11T00:00:00\", \"y_test\": 152.39999389648438, \"y_pred\": 156.8635717462034, \"label\": \"Actual\", \"predicted_label\": \"Predicted\"}, {\"date\": \"2021-11-12T00:00:00\", \"y_test\": 148.85000610351562, \"y_pred\": 151.43367043371933, \"label\": \"Actual\", \"predicted_label\": \"Predicted\"}, {\"date\": \"2021-11-15T00:00:00\", \"y_test\": 146.85000610351562, \"y_pred\": 147.17681456549337, \"label\": \"Actual\", \"predicted_label\": \"Predicted\"}, {\"date\": \"2021-11-16T00:00:00\", \"y_test\": 147.64999389648438, \"y_pred\": 149.83069748854845, \"label\": \"Actual\", \"predicted_label\": \"Predicted\"}, {\"date\": \"2021-11-17T00:00:00\", \"y_test\": 145.8000030517578, \"y_pred\": 148.20611951483536, \"label\": \"Actual\", \"predicted_label\": \"Predicted\"}, {\"date\": \"2021-11-18T00:00:00\", \"y_test\": 145.4499969482422, \"y_pred\": 148.84953658188533, \"label\": \"Actual\", \"predicted_label\": \"Predicted\"}, {\"date\": \"2021-11-22T00:00:00\", \"y_test\": 141.75, \"y_pred\": 146.9815954823211, \"label\": \"Actual\", \"predicted_label\": \"Predicted\"}, {\"date\": \"2021-11-23T00:00:00\", \"y_test\": 138.60000610351562, \"y_pred\": 141.51717470135594, \"label\": \"Actual\", \"predicted_label\": \"Predicted\"}, {\"date\": \"2021-11-24T00:00:00\", \"y_test\": 139.60000610351562, \"y_pred\": 141.36391511123296, \"label\": \"Actual\", \"predicted_label\": \"Predicted\"}, {\"date\": \"2021-11-25T00:00:00\", \"y_test\": 138.6999969482422, \"y_pred\": 142.20665075092452, \"label\": \"Actual\", \"predicted_label\": \"Predicted\"}, {\"date\": \"2021-11-26T00:00:00\", \"y_test\": 135.6999969482422, \"y_pred\": 141.98657418508424, \"label\": \"Actual\", \"predicted_label\": \"Predicted\"}, {\"date\": \"2021-11-29T00:00:00\", \"y_test\": 128.3000030517578, \"y_pred\": 131.79276955983056, \"label\": \"Actual\", \"predicted_label\": \"Predicted\"}]}}, {\"mode\": \"vega-lite\"});\n",
       "</script>"
      ],
      "text/plain": [
       "alt.LayerChart(...)"
      ]
     },
     "execution_count": 107,
     "metadata": {},
     "output_type": "execute_result"
    }
   ],
   "source": [
    "import altair as alt\n",
    "\n",
    "alt.themes.enable('fivethirtyeight')\n",
    "\n",
    "predictions_df_copy = predictions_df.copy(deep=True)\n",
    "\n",
    "\n",
    "predictions_df_copy['date'] = pd.to_datetime(predictions_df_copy['date'])\n",
    "\n",
    "predictions_df_copy['label'] = 'Actual'\n",
    "predictions_df_copy['predicted_label'] = 'Predicted'\n",
    "\n",
    "# Actual high price line\n",
    "line1 = alt.Chart(predictions_df_copy).mark_line(strokeWidth=2).encode(\n",
    "    x='date:T',\n",
    "    y=alt.Y('y_test:Q', title='Price', scale=alt.Scale(zero=False)),\n",
    "    color=alt.Color('label:N', legend=alt.Legend(title=\"Line Type\")),\n",
    "    tooltip=['date', 'y_test', 'y_pred']\n",
    ")\n",
    "\n",
    "# Predicted high price line\n",
    "line2 = alt.Chart(predictions_df_copy).mark_line(strokeWidth=1, strokeDash=[3, 3]).encode(\n",
    "    x='date:T',\n",
    "    y=alt.Y('y_pred:Q', title='', scale=alt.Scale(zero=False)),\n",
    "    color=alt.Color('predicted_label:N', legend=alt.Legend(title=\"Line Type\")),\n",
    "    tooltip=['date', 'y_test', 'y_pred']\n",
    ")\n",
    "\n",
    "# Combine the two lines\n",
    "chart = alt.layer(line1, line2).properties(\n",
    "    title='Actual vs Predicted High Prices',\n",
    "    width=650,\n",
    "    height=400\n",
    ").interactive()\n",
    "\n",
    "chart"
   ]
  },
  {
   "cell_type": "code",
   "execution_count": 100,
   "id": "218fd095",
   "metadata": {},
   "outputs": [
    {
     "name": "stdout",
     "output_type": "stream",
     "text": [
      "trend_sma_fast: 0.06528678458747525\n",
      "trend_ema_slow: 0.06463049624198064\n",
      "trend_macd_diff: 0.06313329842254047\n",
      "volatility_atr: 0.06189810865096165\n",
      "trend_sma_slow: 0.0533763179985723\n",
      "volatility_kcli: 0.05257192762604916\n",
      "volume_sma_em: 0.05242321661360504\n",
      "volatility_kcp: 0.05154421657196989\n",
      "volatility_bbw: 0.05126332330073917\n",
      "date: 0.04951368544427906\n"
     ]
    }
   ],
   "source": [
    "feature_names = df.columns.tolist()\n",
    "\n",
    "# Get feature importances\n",
    "importances = model_50.feature_importances_\n",
    "\n",
    "# Map importances to corresponding feature names\n",
    "feature_importance_mapping = dict(zip(feature_names, importances))\n",
    "\n",
    "# Sort by importance\n",
    "sorted_features = sorted(feature_importance_mapping.items(), key=lambda x: x[1], reverse=True)\n",
    "\n",
    "# Display top 10\n",
    "for feature, importance in sorted_features[:10]:\n",
    "    print(f\"{feature}: {importance}\")\n"
   ]
  },
  {
   "cell_type": "markdown",
   "id": "087d122c",
   "metadata": {},
   "source": [
    "Repeat the process for the top 100 features of EIHOTEL.BO"
   ]
  },
  {
   "cell_type": "code",
   "execution_count": 340,
   "id": "b68754e6",
   "metadata": {},
   "outputs": [],
   "source": [
    "selector = SelectKBest(score_func=f_regression, k=100)"
   ]
  },
  {
   "cell_type": "code",
   "execution_count": 341,
   "id": "7b04f54c",
   "metadata": {},
   "outputs": [
    {
     "data": {
      "text/html": [
       "<style>#sk-container-id-45 {color: black;background-color: white;}#sk-container-id-45 pre{padding: 0;}#sk-container-id-45 div.sk-toggleable {background-color: white;}#sk-container-id-45 label.sk-toggleable__label {cursor: pointer;display: block;width: 100%;margin-bottom: 0;padding: 0.3em;box-sizing: border-box;text-align: center;}#sk-container-id-45 label.sk-toggleable__label-arrow:before {content: \"▸\";float: left;margin-right: 0.25em;color: #696969;}#sk-container-id-45 label.sk-toggleable__label-arrow:hover:before {color: black;}#sk-container-id-45 div.sk-estimator:hover label.sk-toggleable__label-arrow:before {color: black;}#sk-container-id-45 div.sk-toggleable__content {max-height: 0;max-width: 0;overflow: hidden;text-align: left;background-color: #f0f8ff;}#sk-container-id-45 div.sk-toggleable__content pre {margin: 0.2em;color: black;border-radius: 0.25em;background-color: #f0f8ff;}#sk-container-id-45 input.sk-toggleable__control:checked~div.sk-toggleable__content {max-height: 200px;max-width: 100%;overflow: auto;}#sk-container-id-45 input.sk-toggleable__control:checked~label.sk-toggleable__label-arrow:before {content: \"▾\";}#sk-container-id-45 div.sk-estimator input.sk-toggleable__control:checked~label.sk-toggleable__label {background-color: #d4ebff;}#sk-container-id-45 div.sk-label input.sk-toggleable__control:checked~label.sk-toggleable__label {background-color: #d4ebff;}#sk-container-id-45 input.sk-hidden--visually {border: 0;clip: rect(1px 1px 1px 1px);clip: rect(1px, 1px, 1px, 1px);height: 1px;margin: -1px;overflow: hidden;padding: 0;position: absolute;width: 1px;}#sk-container-id-45 div.sk-estimator {font-family: monospace;background-color: #f0f8ff;border: 1px dotted black;border-radius: 0.25em;box-sizing: border-box;margin-bottom: 0.5em;}#sk-container-id-45 div.sk-estimator:hover {background-color: #d4ebff;}#sk-container-id-45 div.sk-parallel-item::after {content: \"\";width: 100%;border-bottom: 1px solid gray;flex-grow: 1;}#sk-container-id-45 div.sk-label:hover label.sk-toggleable__label {background-color: #d4ebff;}#sk-container-id-45 div.sk-serial::before {content: \"\";position: absolute;border-left: 1px solid gray;box-sizing: border-box;top: 0;bottom: 0;left: 50%;z-index: 0;}#sk-container-id-45 div.sk-serial {display: flex;flex-direction: column;align-items: center;background-color: white;padding-right: 0.2em;padding-left: 0.2em;position: relative;}#sk-container-id-45 div.sk-item {position: relative;z-index: 1;}#sk-container-id-45 div.sk-parallel {display: flex;align-items: stretch;justify-content: center;background-color: white;position: relative;}#sk-container-id-45 div.sk-item::before, #sk-container-id-45 div.sk-parallel-item::before {content: \"\";position: absolute;border-left: 1px solid gray;box-sizing: border-box;top: 0;bottom: 0;left: 50%;z-index: -1;}#sk-container-id-45 div.sk-parallel-item {display: flex;flex-direction: column;z-index: 1;position: relative;background-color: white;}#sk-container-id-45 div.sk-parallel-item:first-child::after {align-self: flex-end;width: 50%;}#sk-container-id-45 div.sk-parallel-item:last-child::after {align-self: flex-start;width: 50%;}#sk-container-id-45 div.sk-parallel-item:only-child::after {width: 0;}#sk-container-id-45 div.sk-dashed-wrapped {border: 1px dashed gray;margin: 0 0.4em 0.5em 0.4em;box-sizing: border-box;padding-bottom: 0.4em;background-color: white;}#sk-container-id-45 div.sk-label label {font-family: monospace;font-weight: bold;display: inline-block;line-height: 1.2em;}#sk-container-id-45 div.sk-label-container {text-align: center;}#sk-container-id-45 div.sk-container {/* jupyter's `normalize.less` sets `[hidden] { display: none; }` but bootstrap.min.css set `[hidden] { display: none !important; }` so we also need the `!important` here to be able to override the default hidden behavior on the sphinx rendered scikit-learn.org. See: https://github.com/scikit-learn/scikit-learn/issues/21755 */display: inline-block !important;position: relative;}#sk-container-id-45 div.sk-text-repr-fallback {display: none;}</style><div id=\"sk-container-id-45\" class=\"sk-top-container\"><div class=\"sk-text-repr-fallback\"><pre>SelectKBest(k=100, score_func=&lt;function f_regression at 0x000001F9DD37FD00&gt;)</pre><b>In a Jupyter environment, please rerun this cell to show the HTML representation or trust the notebook. <br />On GitHub, the HTML representation is unable to render, please try loading this page with nbviewer.org.</b></div><div class=\"sk-container\" hidden><div class=\"sk-item\"><div class=\"sk-estimator sk-toggleable\"><input class=\"sk-toggleable__control sk-hidden--visually\" id=\"sk-estimator-id-45\" type=\"checkbox\" checked><label for=\"sk-estimator-id-45\" class=\"sk-toggleable__label sk-toggleable__label-arrow\">SelectKBest</label><div class=\"sk-toggleable__content\"><pre>SelectKBest(k=100, score_func=&lt;function f_regression at 0x000001F9DD37FD00&gt;)</pre></div></div></div></div></div>"
      ],
      "text/plain": [
       "SelectKBest(k=100, score_func=<function f_regression at 0x000001F9DD37FD00>)"
      ]
     },
     "execution_count": 341,
     "metadata": {},
     "output_type": "execute_result"
    }
   ],
   "source": [
    "selector.fit(X_train, y_train)"
   ]
  },
  {
   "cell_type": "code",
   "execution_count": 342,
   "id": "801353e9",
   "metadata": {},
   "outputs": [],
   "source": [
    "X_train_100 = selector.transform(X_train)\n",
    "X_test_100 = selector.transform(X_test)"
   ]
  },
  {
   "cell_type": "code",
   "execution_count": 343,
   "id": "d539ee90",
   "metadata": {},
   "outputs": [
    {
     "data": {
      "text/html": [
       "<style>#sk-container-id-46 {color: black;background-color: white;}#sk-container-id-46 pre{padding: 0;}#sk-container-id-46 div.sk-toggleable {background-color: white;}#sk-container-id-46 label.sk-toggleable__label {cursor: pointer;display: block;width: 100%;margin-bottom: 0;padding: 0.3em;box-sizing: border-box;text-align: center;}#sk-container-id-46 label.sk-toggleable__label-arrow:before {content: \"▸\";float: left;margin-right: 0.25em;color: #696969;}#sk-container-id-46 label.sk-toggleable__label-arrow:hover:before {color: black;}#sk-container-id-46 div.sk-estimator:hover label.sk-toggleable__label-arrow:before {color: black;}#sk-container-id-46 div.sk-toggleable__content {max-height: 0;max-width: 0;overflow: hidden;text-align: left;background-color: #f0f8ff;}#sk-container-id-46 div.sk-toggleable__content pre {margin: 0.2em;color: black;border-radius: 0.25em;background-color: #f0f8ff;}#sk-container-id-46 input.sk-toggleable__control:checked~div.sk-toggleable__content {max-height: 200px;max-width: 100%;overflow: auto;}#sk-container-id-46 input.sk-toggleable__control:checked~label.sk-toggleable__label-arrow:before {content: \"▾\";}#sk-container-id-46 div.sk-estimator input.sk-toggleable__control:checked~label.sk-toggleable__label {background-color: #d4ebff;}#sk-container-id-46 div.sk-label input.sk-toggleable__control:checked~label.sk-toggleable__label {background-color: #d4ebff;}#sk-container-id-46 input.sk-hidden--visually {border: 0;clip: rect(1px 1px 1px 1px);clip: rect(1px, 1px, 1px, 1px);height: 1px;margin: -1px;overflow: hidden;padding: 0;position: absolute;width: 1px;}#sk-container-id-46 div.sk-estimator {font-family: monospace;background-color: #f0f8ff;border: 1px dotted black;border-radius: 0.25em;box-sizing: border-box;margin-bottom: 0.5em;}#sk-container-id-46 div.sk-estimator:hover {background-color: #d4ebff;}#sk-container-id-46 div.sk-parallel-item::after {content: \"\";width: 100%;border-bottom: 1px solid gray;flex-grow: 1;}#sk-container-id-46 div.sk-label:hover label.sk-toggleable__label {background-color: #d4ebff;}#sk-container-id-46 div.sk-serial::before {content: \"\";position: absolute;border-left: 1px solid gray;box-sizing: border-box;top: 0;bottom: 0;left: 50%;z-index: 0;}#sk-container-id-46 div.sk-serial {display: flex;flex-direction: column;align-items: center;background-color: white;padding-right: 0.2em;padding-left: 0.2em;position: relative;}#sk-container-id-46 div.sk-item {position: relative;z-index: 1;}#sk-container-id-46 div.sk-parallel {display: flex;align-items: stretch;justify-content: center;background-color: white;position: relative;}#sk-container-id-46 div.sk-item::before, #sk-container-id-46 div.sk-parallel-item::before {content: \"\";position: absolute;border-left: 1px solid gray;box-sizing: border-box;top: 0;bottom: 0;left: 50%;z-index: -1;}#sk-container-id-46 div.sk-parallel-item {display: flex;flex-direction: column;z-index: 1;position: relative;background-color: white;}#sk-container-id-46 div.sk-parallel-item:first-child::after {align-self: flex-end;width: 50%;}#sk-container-id-46 div.sk-parallel-item:last-child::after {align-self: flex-start;width: 50%;}#sk-container-id-46 div.sk-parallel-item:only-child::after {width: 0;}#sk-container-id-46 div.sk-dashed-wrapped {border: 1px dashed gray;margin: 0 0.4em 0.5em 0.4em;box-sizing: border-box;padding-bottom: 0.4em;background-color: white;}#sk-container-id-46 div.sk-label label {font-family: monospace;font-weight: bold;display: inline-block;line-height: 1.2em;}#sk-container-id-46 div.sk-label-container {text-align: center;}#sk-container-id-46 div.sk-container {/* jupyter's `normalize.less` sets `[hidden] { display: none; }` but bootstrap.min.css set `[hidden] { display: none !important; }` so we also need the `!important` here to be able to override the default hidden behavior on the sphinx rendered scikit-learn.org. See: https://github.com/scikit-learn/scikit-learn/issues/21755 */display: inline-block !important;position: relative;}#sk-container-id-46 div.sk-text-repr-fallback {display: none;}</style><div id=\"sk-container-id-46\" class=\"sk-top-container\"><div class=\"sk-text-repr-fallback\"><pre>RandomForestRegressor()</pre><b>In a Jupyter environment, please rerun this cell to show the HTML representation or trust the notebook. <br />On GitHub, the HTML representation is unable to render, please try loading this page with nbviewer.org.</b></div><div class=\"sk-container\" hidden><div class=\"sk-item\"><div class=\"sk-estimator sk-toggleable\"><input class=\"sk-toggleable__control sk-hidden--visually\" id=\"sk-estimator-id-46\" type=\"checkbox\" checked><label for=\"sk-estimator-id-46\" class=\"sk-toggleable__label sk-toggleable__label-arrow\">RandomForestRegressor</label><div class=\"sk-toggleable__content\"><pre>RandomForestRegressor()</pre></div></div></div></div></div>"
      ],
      "text/plain": [
       "RandomForestRegressor()"
      ]
     },
     "execution_count": 343,
     "metadata": {},
     "output_type": "execute_result"
    }
   ],
   "source": [
    "model_100 = RandomForestRegressor()\n",
    "model_100.fit(X_train_100, y_train)"
   ]
  },
  {
   "cell_type": "code",
   "execution_count": 344,
   "id": "bbed1fa0",
   "metadata": {},
   "outputs": [
    {
     "data": {
      "text/plain": [
       "(1.8266978434701696e-05,\n",
       " 0.9683592111555606,\n",
       " 0.00011795422453992068,\n",
       " 0.7710554665649287)"
      ]
     },
     "execution_count": 344,
     "metadata": {},
     "output_type": "execute_result"
    }
   ],
   "source": [
    "# Predict on the training data\n",
    "y_train_pred_100 = model_100.predict(X_train_100)\n",
    "\n",
    "# Predict on the testing data\n",
    "y_test_pred_100 = model_100.predict(X_test_100)\n",
    "\n",
    "# Calculate MSE and R^2 for the training data\n",
    "mse_train_100 = mean_squared_error(y_train, y_train_pred_100)\n",
    "r2_train_100 = r2_score(y_train, y_train_pred_100)\n",
    "\n",
    "# Calculate MSE and R^2 for the testing data\n",
    "mse_test_100 = mean_squared_error(y_test, y_test_pred_100)\n",
    "r2_test_100 = r2_score(y_test, y_test_pred_100)\n",
    "\n",
    "mse_train_100, r2_train_100, mse_test_100, r2_test_100"
   ]
  },
  {
   "cell_type": "code",
   "execution_count": 345,
   "id": "2046ccf5",
   "metadata": {},
   "outputs": [
    {
     "data": {
      "text/plain": [
       "(0.00427398858616886, 0.010860673300487437)"
      ]
     },
     "execution_count": 345,
     "metadata": {},
     "output_type": "execute_result"
    }
   ],
   "source": [
    "# Calculate RMSE for the training data\n",
    "rmse_train_100 = np.sqrt(mse_train_100)\n",
    "\n",
    "# Calculate RMSE for the testing data\n",
    "rmse_test_100 = np.sqrt(mse_test_100)\n",
    "\n",
    "rmse_train_100, rmse_test_100"
   ]
  },
  {
   "cell_type": "code",
   "execution_count": 346,
   "id": "5ea70fc3",
   "metadata": {},
   "outputs": [
    {
     "name": "stdout",
     "output_type": "stream",
     "text": [
      "MAPE for model with top 100 features: 79.83%\n"
     ]
    }
   ],
   "source": [
    "mape_value_100 = mape(y_test, y_test_pred_100)\n",
    "print(f\"MAPE for model with top 100 features: {mape_value_100:.2f}%\")\n"
   ]
  },
  {
   "cell_type": "markdown",
   "id": "e07e0dbd",
   "metadata": {},
   "source": [
    "Repeat the process for the top 150 features of EIHOTEL.BO"
   ]
  },
  {
   "cell_type": "code",
   "execution_count": 347,
   "id": "baf92286",
   "metadata": {},
   "outputs": [],
   "source": [
    "selector = SelectKBest(score_func=f_regression, k=150)"
   ]
  },
  {
   "cell_type": "code",
   "execution_count": 348,
   "id": "1db6e575",
   "metadata": {},
   "outputs": [
    {
     "data": {
      "text/html": [
       "<style>#sk-container-id-47 {color: black;background-color: white;}#sk-container-id-47 pre{padding: 0;}#sk-container-id-47 div.sk-toggleable {background-color: white;}#sk-container-id-47 label.sk-toggleable__label {cursor: pointer;display: block;width: 100%;margin-bottom: 0;padding: 0.3em;box-sizing: border-box;text-align: center;}#sk-container-id-47 label.sk-toggleable__label-arrow:before {content: \"▸\";float: left;margin-right: 0.25em;color: #696969;}#sk-container-id-47 label.sk-toggleable__label-arrow:hover:before {color: black;}#sk-container-id-47 div.sk-estimator:hover label.sk-toggleable__label-arrow:before {color: black;}#sk-container-id-47 div.sk-toggleable__content {max-height: 0;max-width: 0;overflow: hidden;text-align: left;background-color: #f0f8ff;}#sk-container-id-47 div.sk-toggleable__content pre {margin: 0.2em;color: black;border-radius: 0.25em;background-color: #f0f8ff;}#sk-container-id-47 input.sk-toggleable__control:checked~div.sk-toggleable__content {max-height: 200px;max-width: 100%;overflow: auto;}#sk-container-id-47 input.sk-toggleable__control:checked~label.sk-toggleable__label-arrow:before {content: \"▾\";}#sk-container-id-47 div.sk-estimator input.sk-toggleable__control:checked~label.sk-toggleable__label {background-color: #d4ebff;}#sk-container-id-47 div.sk-label input.sk-toggleable__control:checked~label.sk-toggleable__label {background-color: #d4ebff;}#sk-container-id-47 input.sk-hidden--visually {border: 0;clip: rect(1px 1px 1px 1px);clip: rect(1px, 1px, 1px, 1px);height: 1px;margin: -1px;overflow: hidden;padding: 0;position: absolute;width: 1px;}#sk-container-id-47 div.sk-estimator {font-family: monospace;background-color: #f0f8ff;border: 1px dotted black;border-radius: 0.25em;box-sizing: border-box;margin-bottom: 0.5em;}#sk-container-id-47 div.sk-estimator:hover {background-color: #d4ebff;}#sk-container-id-47 div.sk-parallel-item::after {content: \"\";width: 100%;border-bottom: 1px solid gray;flex-grow: 1;}#sk-container-id-47 div.sk-label:hover label.sk-toggleable__label {background-color: #d4ebff;}#sk-container-id-47 div.sk-serial::before {content: \"\";position: absolute;border-left: 1px solid gray;box-sizing: border-box;top: 0;bottom: 0;left: 50%;z-index: 0;}#sk-container-id-47 div.sk-serial {display: flex;flex-direction: column;align-items: center;background-color: white;padding-right: 0.2em;padding-left: 0.2em;position: relative;}#sk-container-id-47 div.sk-item {position: relative;z-index: 1;}#sk-container-id-47 div.sk-parallel {display: flex;align-items: stretch;justify-content: center;background-color: white;position: relative;}#sk-container-id-47 div.sk-item::before, #sk-container-id-47 div.sk-parallel-item::before {content: \"\";position: absolute;border-left: 1px solid gray;box-sizing: border-box;top: 0;bottom: 0;left: 50%;z-index: -1;}#sk-container-id-47 div.sk-parallel-item {display: flex;flex-direction: column;z-index: 1;position: relative;background-color: white;}#sk-container-id-47 div.sk-parallel-item:first-child::after {align-self: flex-end;width: 50%;}#sk-container-id-47 div.sk-parallel-item:last-child::after {align-self: flex-start;width: 50%;}#sk-container-id-47 div.sk-parallel-item:only-child::after {width: 0;}#sk-container-id-47 div.sk-dashed-wrapped {border: 1px dashed gray;margin: 0 0.4em 0.5em 0.4em;box-sizing: border-box;padding-bottom: 0.4em;background-color: white;}#sk-container-id-47 div.sk-label label {font-family: monospace;font-weight: bold;display: inline-block;line-height: 1.2em;}#sk-container-id-47 div.sk-label-container {text-align: center;}#sk-container-id-47 div.sk-container {/* jupyter's `normalize.less` sets `[hidden] { display: none; }` but bootstrap.min.css set `[hidden] { display: none !important; }` so we also need the `!important` here to be able to override the default hidden behavior on the sphinx rendered scikit-learn.org. See: https://github.com/scikit-learn/scikit-learn/issues/21755 */display: inline-block !important;position: relative;}#sk-container-id-47 div.sk-text-repr-fallback {display: none;}</style><div id=\"sk-container-id-47\" class=\"sk-top-container\"><div class=\"sk-text-repr-fallback\"><pre>SelectKBest(k=150, score_func=&lt;function f_regression at 0x000001F9DD37FD00&gt;)</pre><b>In a Jupyter environment, please rerun this cell to show the HTML representation or trust the notebook. <br />On GitHub, the HTML representation is unable to render, please try loading this page with nbviewer.org.</b></div><div class=\"sk-container\" hidden><div class=\"sk-item\"><div class=\"sk-estimator sk-toggleable\"><input class=\"sk-toggleable__control sk-hidden--visually\" id=\"sk-estimator-id-47\" type=\"checkbox\" checked><label for=\"sk-estimator-id-47\" class=\"sk-toggleable__label sk-toggleable__label-arrow\">SelectKBest</label><div class=\"sk-toggleable__content\"><pre>SelectKBest(k=150, score_func=&lt;function f_regression at 0x000001F9DD37FD00&gt;)</pre></div></div></div></div></div>"
      ],
      "text/plain": [
       "SelectKBest(k=150, score_func=<function f_regression at 0x000001F9DD37FD00>)"
      ]
     },
     "execution_count": 348,
     "metadata": {},
     "output_type": "execute_result"
    }
   ],
   "source": [
    "selector.fit(X_train, y_train)"
   ]
  },
  {
   "cell_type": "code",
   "execution_count": 349,
   "id": "2de741be",
   "metadata": {},
   "outputs": [],
   "source": [
    "X_train_150 = selector.transform(X_train)\n",
    "X_test_150 = selector.transform(X_test)"
   ]
  },
  {
   "cell_type": "code",
   "execution_count": 350,
   "id": "5680e41f",
   "metadata": {},
   "outputs": [
    {
     "data": {
      "text/html": [
       "<style>#sk-container-id-48 {color: black;background-color: white;}#sk-container-id-48 pre{padding: 0;}#sk-container-id-48 div.sk-toggleable {background-color: white;}#sk-container-id-48 label.sk-toggleable__label {cursor: pointer;display: block;width: 100%;margin-bottom: 0;padding: 0.3em;box-sizing: border-box;text-align: center;}#sk-container-id-48 label.sk-toggleable__label-arrow:before {content: \"▸\";float: left;margin-right: 0.25em;color: #696969;}#sk-container-id-48 label.sk-toggleable__label-arrow:hover:before {color: black;}#sk-container-id-48 div.sk-estimator:hover label.sk-toggleable__label-arrow:before {color: black;}#sk-container-id-48 div.sk-toggleable__content {max-height: 0;max-width: 0;overflow: hidden;text-align: left;background-color: #f0f8ff;}#sk-container-id-48 div.sk-toggleable__content pre {margin: 0.2em;color: black;border-radius: 0.25em;background-color: #f0f8ff;}#sk-container-id-48 input.sk-toggleable__control:checked~div.sk-toggleable__content {max-height: 200px;max-width: 100%;overflow: auto;}#sk-container-id-48 input.sk-toggleable__control:checked~label.sk-toggleable__label-arrow:before {content: \"▾\";}#sk-container-id-48 div.sk-estimator input.sk-toggleable__control:checked~label.sk-toggleable__label {background-color: #d4ebff;}#sk-container-id-48 div.sk-label input.sk-toggleable__control:checked~label.sk-toggleable__label {background-color: #d4ebff;}#sk-container-id-48 input.sk-hidden--visually {border: 0;clip: rect(1px 1px 1px 1px);clip: rect(1px, 1px, 1px, 1px);height: 1px;margin: -1px;overflow: hidden;padding: 0;position: absolute;width: 1px;}#sk-container-id-48 div.sk-estimator {font-family: monospace;background-color: #f0f8ff;border: 1px dotted black;border-radius: 0.25em;box-sizing: border-box;margin-bottom: 0.5em;}#sk-container-id-48 div.sk-estimator:hover {background-color: #d4ebff;}#sk-container-id-48 div.sk-parallel-item::after {content: \"\";width: 100%;border-bottom: 1px solid gray;flex-grow: 1;}#sk-container-id-48 div.sk-label:hover label.sk-toggleable__label {background-color: #d4ebff;}#sk-container-id-48 div.sk-serial::before {content: \"\";position: absolute;border-left: 1px solid gray;box-sizing: border-box;top: 0;bottom: 0;left: 50%;z-index: 0;}#sk-container-id-48 div.sk-serial {display: flex;flex-direction: column;align-items: center;background-color: white;padding-right: 0.2em;padding-left: 0.2em;position: relative;}#sk-container-id-48 div.sk-item {position: relative;z-index: 1;}#sk-container-id-48 div.sk-parallel {display: flex;align-items: stretch;justify-content: center;background-color: white;position: relative;}#sk-container-id-48 div.sk-item::before, #sk-container-id-48 div.sk-parallel-item::before {content: \"\";position: absolute;border-left: 1px solid gray;box-sizing: border-box;top: 0;bottom: 0;left: 50%;z-index: -1;}#sk-container-id-48 div.sk-parallel-item {display: flex;flex-direction: column;z-index: 1;position: relative;background-color: white;}#sk-container-id-48 div.sk-parallel-item:first-child::after {align-self: flex-end;width: 50%;}#sk-container-id-48 div.sk-parallel-item:last-child::after {align-self: flex-start;width: 50%;}#sk-container-id-48 div.sk-parallel-item:only-child::after {width: 0;}#sk-container-id-48 div.sk-dashed-wrapped {border: 1px dashed gray;margin: 0 0.4em 0.5em 0.4em;box-sizing: border-box;padding-bottom: 0.4em;background-color: white;}#sk-container-id-48 div.sk-label label {font-family: monospace;font-weight: bold;display: inline-block;line-height: 1.2em;}#sk-container-id-48 div.sk-label-container {text-align: center;}#sk-container-id-48 div.sk-container {/* jupyter's `normalize.less` sets `[hidden] { display: none; }` but bootstrap.min.css set `[hidden] { display: none !important; }` so we also need the `!important` here to be able to override the default hidden behavior on the sphinx rendered scikit-learn.org. See: https://github.com/scikit-learn/scikit-learn/issues/21755 */display: inline-block !important;position: relative;}#sk-container-id-48 div.sk-text-repr-fallback {display: none;}</style><div id=\"sk-container-id-48\" class=\"sk-top-container\"><div class=\"sk-text-repr-fallback\"><pre>RandomForestRegressor()</pre><b>In a Jupyter environment, please rerun this cell to show the HTML representation or trust the notebook. <br />On GitHub, the HTML representation is unable to render, please try loading this page with nbviewer.org.</b></div><div class=\"sk-container\" hidden><div class=\"sk-item\"><div class=\"sk-estimator sk-toggleable\"><input class=\"sk-toggleable__control sk-hidden--visually\" id=\"sk-estimator-id-48\" type=\"checkbox\" checked><label for=\"sk-estimator-id-48\" class=\"sk-toggleable__label sk-toggleable__label-arrow\">RandomForestRegressor</label><div class=\"sk-toggleable__content\"><pre>RandomForestRegressor()</pre></div></div></div></div></div>"
      ],
      "text/plain": [
       "RandomForestRegressor()"
      ]
     },
     "execution_count": 350,
     "metadata": {},
     "output_type": "execute_result"
    }
   ],
   "source": [
    "model_150 = RandomForestRegressor()\n",
    "model_150.fit(X_train_150, y_train)"
   ]
  },
  {
   "cell_type": "code",
   "execution_count": 351,
   "id": "3770bb0f",
   "metadata": {},
   "outputs": [
    {
     "data": {
      "text/plain": [
       "(1.7031339575836034e-05,\n",
       " 0.9704994987987036,\n",
       " 0.00011319978225331366,\n",
       " 0.7802836529677211)"
      ]
     },
     "execution_count": 351,
     "metadata": {},
     "output_type": "execute_result"
    }
   ],
   "source": [
    "# Predict on the training data\n",
    "y_train_pred_150 = model_150.predict(X_train_150)\n",
    "\n",
    "# Predict on the testing data\n",
    "y_test_pred_150 = model_150.predict(X_test_150)\n",
    "\n",
    "# Calculate MSE and R^2 for the training data\n",
    "mse_train_150 = mean_squared_error(y_train, y_train_pred_150)\n",
    "r2_train_150 = r2_score(y_train, y_train_pred_150)\n",
    "\n",
    "# Calculate MSE and R^2 for the testing data\n",
    "mse_test_150 = mean_squared_error(y_test, y_test_pred_150)\n",
    "r2_test_150 = r2_score(y_test, y_test_pred_150)\n",
    "\n",
    "mse_train_150, r2_train_150, mse_test_150, r2_test_150"
   ]
  },
  {
   "cell_type": "code",
   "execution_count": 352,
   "id": "38c88661",
   "metadata": {},
   "outputs": [
    {
     "data": {
      "text/plain": [
       "(0.00427398858616886, 0.010860673300487437)"
      ]
     },
     "execution_count": 352,
     "metadata": {},
     "output_type": "execute_result"
    }
   ],
   "source": [
    "# Calculate RMSE for the training data\n",
    "rmse_train_100 = np.sqrt(mse_train_100)\n",
    "\n",
    "# Calculate RMSE for the testing data\n",
    "rmse_test_100 = np.sqrt(mse_test_100)\n",
    "\n",
    "rmse_train_100, rmse_test_100"
   ]
  },
  {
   "cell_type": "code",
   "execution_count": 353,
   "id": "52b1155b",
   "metadata": {},
   "outputs": [
    {
     "name": "stdout",
     "output_type": "stream",
     "text": [
      "MAPE for model with top 150 features: 85.86%\n"
     ]
    }
   ],
   "source": [
    "mape_value_150 = mape(y_test, y_test_pred_150)\n",
    "print(f\"MAPE for model with top 150 features: {mape_value_150:.2f}%\")"
   ]
  },
  {
   "cell_type": "markdown",
   "id": "e88b2315",
   "metadata": {},
   "source": [
    "### 50/100/150 Feature Selection Analysis wihtout Sentiment for EIHOTEL.BO"
   ]
  },
  {
   "cell_type": "code",
   "execution_count": 128,
   "id": "090cfcf2",
   "metadata": {},
   "outputs": [],
   "source": [
    "df_without_sentiment = df.drop(columns=['agg_polarity', 'agg_compound', 'topic_polarity', 'topic_compound', 'ticker_polarity', 'ticker_compound'])"
   ]
  },
  {
   "cell_type": "code",
   "execution_count": 129,
   "id": "dc73d153",
   "metadata": {},
   "outputs": [],
   "source": [
    "df_without_sentiment = create_custom_target(df_without_sentiment)"
   ]
  },
  {
   "cell_type": "code",
   "execution_count": 130,
   "id": "eb2f731c",
   "metadata": {},
   "outputs": [],
   "source": [
    "# Drop cols with NaN values\n",
    "df_without_sentiment = df_without_sentiment.dropna(axis=1, how='all')\n",
    "df_without_sentiment.fillna(method='ffill', inplace=True)"
   ]
  },
  {
   "cell_type": "code",
   "execution_count": 131,
   "id": "2d9f8994",
   "metadata": {},
   "outputs": [],
   "source": [
    "combined_date_df = df_without_sentiment['date']\n",
    "train_date, test_date = train_test_split(combined_date_df, train_size=0.8, shuffle=False)\n",
    "dev_date, test_date = train_test_split(test_date, train_size=0.5, shuffle=False)"
   ]
  },
  {
   "cell_type": "code",
   "execution_count": 132,
   "id": "b3ee2ec8",
   "metadata": {},
   "outputs": [],
   "source": [
    "df_without_date = df_without_sentiment.drop(columns=[\"date\"])"
   ]
  },
  {
   "cell_type": "code",
   "execution_count": 133,
   "id": "97f929ea",
   "metadata": {},
   "outputs": [],
   "source": [
    "df_without_date.dropna(inplace=True)"
   ]
  },
  {
   "cell_type": "code",
   "execution_count": 134,
   "id": "726bb75d",
   "metadata": {},
   "outputs": [],
   "source": [
    "# do train/test split the data with shuffle = False\n",
    "train_data, test_data = train_test_split(df_without_date, train_size=0.8, shuffle=False)\n",
    "\n",
    "# convert timeseries to be used in supervise learning model\n",
    "X_train, y_train, indx_train = timeseries_to_supervise(train_data, window_size, 'ln_target')  \n",
    "\n",
    "# further split test set to have an hold out set to be used for backtesting\n",
    "dev_data, test_data = train_test_split(test_data, train_size=0.5, shuffle=False)\n",
    "\n",
    "# convert timeseries to be used in supervise learning model    \n",
    "X_test, y_test, indx_test = timeseries_to_supervise(dev_data, window_size, 'ln_target')  "
   ]
  },
  {
   "cell_type": "code",
   "execution_count": 135,
   "id": "76624e15",
   "metadata": {},
   "outputs": [],
   "source": [
    "selector = SelectKBest(score_func=f_regression, k=50)\n",
    "X_train_50 = selector.fit_transform(X_train, y_train)\n",
    "X_test_50 = selector.transform(X_test)"
   ]
  },
  {
   "cell_type": "code",
   "execution_count": 136,
   "id": "2f346f9e",
   "metadata": {},
   "outputs": [
    {
     "data": {
      "text/html": [
       "<style>#sk-container-id-11 {color: black;background-color: white;}#sk-container-id-11 pre{padding: 0;}#sk-container-id-11 div.sk-toggleable {background-color: white;}#sk-container-id-11 label.sk-toggleable__label {cursor: pointer;display: block;width: 100%;margin-bottom: 0;padding: 0.3em;box-sizing: border-box;text-align: center;}#sk-container-id-11 label.sk-toggleable__label-arrow:before {content: \"▸\";float: left;margin-right: 0.25em;color: #696969;}#sk-container-id-11 label.sk-toggleable__label-arrow:hover:before {color: black;}#sk-container-id-11 div.sk-estimator:hover label.sk-toggleable__label-arrow:before {color: black;}#sk-container-id-11 div.sk-toggleable__content {max-height: 0;max-width: 0;overflow: hidden;text-align: left;background-color: #f0f8ff;}#sk-container-id-11 div.sk-toggleable__content pre {margin: 0.2em;color: black;border-radius: 0.25em;background-color: #f0f8ff;}#sk-container-id-11 input.sk-toggleable__control:checked~div.sk-toggleable__content {max-height: 200px;max-width: 100%;overflow: auto;}#sk-container-id-11 input.sk-toggleable__control:checked~label.sk-toggleable__label-arrow:before {content: \"▾\";}#sk-container-id-11 div.sk-estimator input.sk-toggleable__control:checked~label.sk-toggleable__label {background-color: #d4ebff;}#sk-container-id-11 div.sk-label input.sk-toggleable__control:checked~label.sk-toggleable__label {background-color: #d4ebff;}#sk-container-id-11 input.sk-hidden--visually {border: 0;clip: rect(1px 1px 1px 1px);clip: rect(1px, 1px, 1px, 1px);height: 1px;margin: -1px;overflow: hidden;padding: 0;position: absolute;width: 1px;}#sk-container-id-11 div.sk-estimator {font-family: monospace;background-color: #f0f8ff;border: 1px dotted black;border-radius: 0.25em;box-sizing: border-box;margin-bottom: 0.5em;}#sk-container-id-11 div.sk-estimator:hover {background-color: #d4ebff;}#sk-container-id-11 div.sk-parallel-item::after {content: \"\";width: 100%;border-bottom: 1px solid gray;flex-grow: 1;}#sk-container-id-11 div.sk-label:hover label.sk-toggleable__label {background-color: #d4ebff;}#sk-container-id-11 div.sk-serial::before {content: \"\";position: absolute;border-left: 1px solid gray;box-sizing: border-box;top: 0;bottom: 0;left: 50%;z-index: 0;}#sk-container-id-11 div.sk-serial {display: flex;flex-direction: column;align-items: center;background-color: white;padding-right: 0.2em;padding-left: 0.2em;position: relative;}#sk-container-id-11 div.sk-item {position: relative;z-index: 1;}#sk-container-id-11 div.sk-parallel {display: flex;align-items: stretch;justify-content: center;background-color: white;position: relative;}#sk-container-id-11 div.sk-item::before, #sk-container-id-11 div.sk-parallel-item::before {content: \"\";position: absolute;border-left: 1px solid gray;box-sizing: border-box;top: 0;bottom: 0;left: 50%;z-index: -1;}#sk-container-id-11 div.sk-parallel-item {display: flex;flex-direction: column;z-index: 1;position: relative;background-color: white;}#sk-container-id-11 div.sk-parallel-item:first-child::after {align-self: flex-end;width: 50%;}#sk-container-id-11 div.sk-parallel-item:last-child::after {align-self: flex-start;width: 50%;}#sk-container-id-11 div.sk-parallel-item:only-child::after {width: 0;}#sk-container-id-11 div.sk-dashed-wrapped {border: 1px dashed gray;margin: 0 0.4em 0.5em 0.4em;box-sizing: border-box;padding-bottom: 0.4em;background-color: white;}#sk-container-id-11 div.sk-label label {font-family: monospace;font-weight: bold;display: inline-block;line-height: 1.2em;}#sk-container-id-11 div.sk-label-container {text-align: center;}#sk-container-id-11 div.sk-container {/* jupyter's `normalize.less` sets `[hidden] { display: none; }` but bootstrap.min.css set `[hidden] { display: none !important; }` so we also need the `!important` here to be able to override the default hidden behavior on the sphinx rendered scikit-learn.org. See: https://github.com/scikit-learn/scikit-learn/issues/21755 */display: inline-block !important;position: relative;}#sk-container-id-11 div.sk-text-repr-fallback {display: none;}</style><div id=\"sk-container-id-11\" class=\"sk-top-container\"><div class=\"sk-text-repr-fallback\"><pre>RandomForestRegressor(min_samples_leaf=2, n_estimators=200)</pre><b>In a Jupyter environment, please rerun this cell to show the HTML representation or trust the notebook. <br />On GitHub, the HTML representation is unable to render, please try loading this page with nbviewer.org.</b></div><div class=\"sk-container\" hidden><div class=\"sk-item\"><div class=\"sk-estimator sk-toggleable\"><input class=\"sk-toggleable__control sk-hidden--visually\" id=\"sk-estimator-id-11\" type=\"checkbox\" checked><label for=\"sk-estimator-id-11\" class=\"sk-toggleable__label sk-toggleable__label-arrow\">RandomForestRegressor</label><div class=\"sk-toggleable__content\"><pre>RandomForestRegressor(min_samples_leaf=2, n_estimators=200)</pre></div></div></div></div></div>"
      ],
      "text/plain": [
       "RandomForestRegressor(min_samples_leaf=2, n_estimators=200)"
      ]
     },
     "execution_count": 136,
     "metadata": {},
     "output_type": "execute_result"
    }
   ],
   "source": [
    "# Train the model on the top 50 features\n",
    "model_50 = RandomForestRegressor(\n",
    "    n_estimators=200,\n",
    "    min_samples_split=2,\n",
    "    min_samples_leaf=2,\n",
    "    bootstrap=True\n",
    ")\n",
    "model_50.fit(X_train_50, y_train)"
   ]
  },
  {
   "cell_type": "code",
   "execution_count": 137,
   "id": "c693d76f",
   "metadata": {},
   "outputs": [],
   "source": [
    "predictions_df, mape, rmse = evaluate_model(model_50, window_size, dev_data, dev_date, X_test_50, y_test)"
   ]
  },
  {
   "cell_type": "code",
   "execution_count": 103,
   "id": "e36d50ff",
   "metadata": {},
   "outputs": [
    {
     "data": {
      "text/plain": [
       "(           date      y_test      y_pred\n",
       " 0    2020-06-23   74.900002   73.954376\n",
       " 1    2020-06-24   74.949997   77.638945\n",
       " 2    2020-06-25   68.900002   72.331000\n",
       " 3    2020-06-26   69.000000   69.921408\n",
       " 4    2020-06-29   68.750000   68.836272\n",
       " ..          ...         ...         ...\n",
       " 353  2021-11-23  138.600006  141.517175\n",
       " 354  2021-11-24  139.600006  141.363915\n",
       " 355  2021-11-25  138.699997  142.206651\n",
       " 356  2021-11-26  135.699997  141.986574\n",
       " 357  2021-11-29  128.300003  131.792770\n",
       " \n",
       " [358 rows x 3 columns],\n",
       " 0.020174440426755404,\n",
       " 2.712012490832198)"
      ]
     },
     "execution_count": 103,
     "metadata": {},
     "output_type": "execute_result"
    }
   ],
   "source": [
    "predictions_df, mape, rmse"
   ]
  },
  {
   "cell_type": "code",
   "execution_count": 104,
   "id": "5b4e40a9",
   "metadata": {},
   "outputs": [
    {
     "name": "stdout",
     "output_type": "stream",
     "text": [
      "MAPE for model with top 50 features without sentiment features: 2.02%\n"
     ]
    }
   ],
   "source": [
    "print(f\"MAPE for model with top 50 features without sentiment features: {mape*100:.2f}%\")"
   ]
  },
  {
   "cell_type": "code",
   "execution_count": 105,
   "id": "c84d983e",
   "metadata": {},
   "outputs": [
    {
     "data": {
      "text/html": [
       "\n",
       "<style>\n",
       "  #altair-viz-90126c61f4ab40458c5fb64affc12b0e.vega-embed {\n",
       "    width: 100%;\n",
       "    display: flex;\n",
       "  }\n",
       "\n",
       "  #altair-viz-90126c61f4ab40458c5fb64affc12b0e.vega-embed details,\n",
       "  #altair-viz-90126c61f4ab40458c5fb64affc12b0e.vega-embed details summary {\n",
       "    position: relative;\n",
       "  }\n",
       "</style>\n",
       "<div id=\"altair-viz-90126c61f4ab40458c5fb64affc12b0e\"></div>\n",
       "<script type=\"text/javascript\">\n",
       "  var VEGA_DEBUG = (typeof VEGA_DEBUG == \"undefined\") ? {} : VEGA_DEBUG;\n",
       "  (function(spec, embedOpt){\n",
       "    let outputDiv = document.currentScript.previousElementSibling;\n",
       "    if (outputDiv.id !== \"altair-viz-90126c61f4ab40458c5fb64affc12b0e\") {\n",
       "      outputDiv = document.getElementById(\"altair-viz-90126c61f4ab40458c5fb64affc12b0e\");\n",
       "    }\n",
       "    const paths = {\n",
       "      \"vega\": \"https://cdn.jsdelivr.net/npm/vega@5?noext\",\n",
       "      \"vega-lib\": \"https://cdn.jsdelivr.net/npm/vega-lib?noext\",\n",
       "      \"vega-lite\": \"https://cdn.jsdelivr.net/npm/vega-lite@5.8.0?noext\",\n",
       "      \"vega-embed\": \"https://cdn.jsdelivr.net/npm/vega-embed@6?noext\",\n",
       "    };\n",
       "\n",
       "    function maybeLoadScript(lib, version) {\n",
       "      var key = `${lib.replace(\"-\", \"\")}_version`;\n",
       "      return (VEGA_DEBUG[key] == version) ?\n",
       "        Promise.resolve(paths[lib]) :\n",
       "        new Promise(function(resolve, reject) {\n",
       "          var s = document.createElement('script');\n",
       "          document.getElementsByTagName(\"head\")[0].appendChild(s);\n",
       "          s.async = true;\n",
       "          s.onload = () => {\n",
       "            VEGA_DEBUG[key] = version;\n",
       "            return resolve(paths[lib]);\n",
       "          };\n",
       "          s.onerror = () => reject(`Error loading script: ${paths[lib]}`);\n",
       "          s.src = paths[lib];\n",
       "        });\n",
       "    }\n",
       "\n",
       "    function showError(err) {\n",
       "      outputDiv.innerHTML = `<div class=\"error\" style=\"color:red;\">${err}</div>`;\n",
       "      throw err;\n",
       "    }\n",
       "\n",
       "    function displayChart(vegaEmbed) {\n",
       "      vegaEmbed(outputDiv, spec, embedOpt)\n",
       "        .catch(err => showError(`Javascript Error: ${err.message}<br>This usually means there's a typo in your chart specification. See the javascript console for the full traceback.`));\n",
       "    }\n",
       "\n",
       "    if(typeof define === \"function\" && define.amd) {\n",
       "      requirejs.config({paths});\n",
       "      require([\"vega-embed\"], displayChart, err => showError(`Error loading script: ${err.message}`));\n",
       "    } else {\n",
       "      maybeLoadScript(\"vega\", \"5\")\n",
       "        .then(() => maybeLoadScript(\"vega-lite\", \"5.8.0\"))\n",
       "        .then(() => maybeLoadScript(\"vega-embed\", \"6\"))\n",
       "        .catch(showError)\n",
       "        .then(() => displayChart(vegaEmbed));\n",
       "    }\n",
       "  })({\"usermeta\": {\"embedOptions\": {\"theme\": \"fivethirtyeight\"}}, \"config\": {\"view\": {\"continuousWidth\": 300, \"continuousHeight\": 300}}, \"layer\": [{\"mark\": {\"type\": \"line\", \"strokeWidth\": 2}, \"encoding\": {\"color\": {\"field\": \"label\", \"legend\": {\"title\": \"Line Type\"}, \"type\": \"nominal\"}, \"tooltip\": [{\"field\": \"date\", \"type\": \"temporal\"}, {\"field\": \"y_test\", \"type\": \"quantitative\"}, {\"field\": \"y_pred\", \"type\": \"quantitative\"}], \"x\": {\"field\": \"date\", \"type\": \"temporal\"}, \"y\": {\"field\": \"y_test\", \"scale\": {\"zero\": false}, \"title\": \"Price\", \"type\": \"quantitative\"}}, \"name\": \"view_5\"}, {\"mark\": {\"type\": \"line\", \"strokeDash\": [3, 3], \"strokeWidth\": 1}, \"encoding\": {\"color\": {\"field\": \"predicted_label\", \"legend\": {\"title\": \"Line Type\"}, \"type\": \"nominal\"}, \"tooltip\": [{\"field\": \"date\", \"type\": \"temporal\"}, {\"field\": \"y_test\", \"type\": \"quantitative\"}, {\"field\": \"y_pred\", \"type\": \"quantitative\"}], \"x\": {\"field\": \"date\", \"type\": \"temporal\"}, \"y\": {\"field\": \"y_pred\", \"scale\": {\"zero\": false}, \"title\": \"\", \"type\": \"quantitative\"}}}], \"data\": {\"name\": \"data-df75c23c570ab6a879685b0c5201bb7b\"}, \"height\": 400, \"params\": [{\"name\": \"param_5\", \"select\": {\"type\": \"interval\", \"encodings\": [\"x\", \"y\"]}, \"bind\": \"scales\", \"views\": [\"view_5\"]}], \"title\": \"Actual vs Predicted High Prices\", \"width\": 650, \"$schema\": \"https://vega.github.io/schema/vega-lite/v5.8.0.json\", \"datasets\": {\"data-df75c23c570ab6a879685b0c5201bb7b\": [{\"date\": \"2020-06-23T00:00:00\", \"y_test\": 74.9000015258789, \"y_pred\": 73.95437580040658, \"label\": \"Actual\", \"predicted_label\": \"Predicted\"}, {\"date\": \"2020-06-24T00:00:00\", \"y_test\": 74.94999694824219, \"y_pred\": 77.63894505621968, \"label\": \"Actual\", \"predicted_label\": \"Predicted\"}, {\"date\": \"2020-06-25T00:00:00\", \"y_test\": 68.9000015258789, \"y_pred\": 72.33100013292024, \"label\": \"Actual\", \"predicted_label\": \"Predicted\"}, {\"date\": \"2020-06-26T00:00:00\", \"y_test\": 69.0, \"y_pred\": 69.92140846981167, \"label\": \"Actual\", \"predicted_label\": \"Predicted\"}, {\"date\": \"2020-06-29T00:00:00\", \"y_test\": 68.75, \"y_pred\": 68.83627212239807, \"label\": \"Actual\", \"predicted_label\": \"Predicted\"}, {\"date\": \"2020-06-30T00:00:00\", \"y_test\": 65.44999694824219, \"y_pred\": 67.35247363523044, \"label\": \"Actual\", \"predicted_label\": \"Predicted\"}, {\"date\": \"2020-07-01T00:00:00\", \"y_test\": 64.75, \"y_pred\": 66.29735478263895, \"label\": \"Actual\", \"predicted_label\": \"Predicted\"}, {\"date\": \"2020-07-02T00:00:00\", \"y_test\": 67.4000015258789, \"y_pred\": 67.12481927472155, \"label\": \"Actual\", \"predicted_label\": \"Predicted\"}, {\"date\": \"2020-07-06T00:00:00\", \"y_test\": 67.1500015258789, \"y_pred\": 68.62308815464719, \"label\": \"Actual\", \"predicted_label\": \"Predicted\"}, {\"date\": \"2020-07-07T00:00:00\", \"y_test\": 68.69999694824219, \"y_pred\": 68.79188578121278, \"label\": \"Actual\", \"predicted_label\": \"Predicted\"}, {\"date\": \"2020-07-08T00:00:00\", \"y_test\": 70.3499984741211, \"y_pred\": 70.70359423794824, \"label\": \"Actual\", \"predicted_label\": \"Predicted\"}, {\"date\": \"2020-07-09T00:00:00\", \"y_test\": 67.6500015258789, \"y_pred\": 69.73581744569321, \"label\": \"Actual\", \"predicted_label\": \"Predicted\"}, {\"date\": \"2020-07-10T00:00:00\", \"y_test\": 66.55000305175781, \"y_pred\": 68.5711617185127, \"label\": \"Actual\", \"predicted_label\": \"Predicted\"}, {\"date\": \"2020-07-13T00:00:00\", \"y_test\": 66.80000305175781, \"y_pred\": 68.7180710961557, \"label\": \"Actual\", \"predicted_label\": \"Predicted\"}, {\"date\": \"2020-07-14T00:00:00\", \"y_test\": 66.8499984741211, \"y_pred\": 67.64137559629121, \"label\": \"Actual\", \"predicted_label\": \"Predicted\"}, {\"date\": \"2020-07-15T00:00:00\", \"y_test\": 65.0, \"y_pred\": 65.38279919869163, \"label\": \"Actual\", \"predicted_label\": \"Predicted\"}, {\"date\": \"2020-07-16T00:00:00\", \"y_test\": 63.70000076293945, \"y_pred\": 64.61019970772496, \"label\": \"Actual\", \"predicted_label\": \"Predicted\"}, {\"date\": \"2020-07-17T00:00:00\", \"y_test\": 62.700000762939446, \"y_pred\": 64.38079339189498, \"label\": \"Actual\", \"predicted_label\": \"Predicted\"}, {\"date\": \"2020-07-20T00:00:00\", \"y_test\": 62.900001525878906, \"y_pred\": 63.39395738363247, \"label\": \"Actual\", \"predicted_label\": \"Predicted\"}, {\"date\": \"2020-07-21T00:00:00\", \"y_test\": 62.5, \"y_pred\": 62.05909590208884, \"label\": \"Actual\", \"predicted_label\": \"Predicted\"}, {\"date\": \"2020-07-22T00:00:00\", \"y_test\": 63.25, \"y_pred\": 63.31810291707854, \"label\": \"Actual\", \"predicted_label\": \"Predicted\"}, {\"date\": \"2020-07-23T00:00:00\", \"y_test\": 63.20000076293946, \"y_pred\": 64.5225388955643, \"label\": \"Actual\", \"predicted_label\": \"Predicted\"}, {\"date\": \"2020-07-24T00:00:00\", \"y_test\": 62.5, \"y_pred\": 64.41621694265073, \"label\": \"Actual\", \"predicted_label\": \"Predicted\"}, {\"date\": \"2020-07-27T00:00:00\", \"y_test\": 62.0, \"y_pred\": 62.911554028133104, \"label\": \"Actual\", \"predicted_label\": \"Predicted\"}, {\"date\": \"2020-07-28T00:00:00\", \"y_test\": 60.59999847412109, \"y_pred\": 62.264147154831356, \"label\": \"Actual\", \"predicted_label\": \"Predicted\"}, {\"date\": \"2020-07-29T00:00:00\", \"y_test\": 61.09999847412108, \"y_pred\": 61.970523999926556, \"label\": \"Actual\", \"predicted_label\": \"Predicted\"}, {\"date\": \"2020-07-30T00:00:00\", \"y_test\": 65.6500015258789, \"y_pred\": 61.53702572380729, \"label\": \"Actual\", \"predicted_label\": \"Predicted\"}, {\"date\": \"2020-07-31T00:00:00\", \"y_test\": 67.25, \"y_pred\": 67.69499401582802, \"label\": \"Actual\", \"predicted_label\": \"Predicted\"}, {\"date\": \"2020-08-03T00:00:00\", \"y_test\": 68.6500015258789, \"y_pred\": 67.03336893604718, \"label\": \"Actual\", \"predicted_label\": \"Predicted\"}, {\"date\": \"2020-08-04T00:00:00\", \"y_test\": 66.80000305175781, \"y_pred\": 68.08726077627526, \"label\": \"Actual\", \"predicted_label\": \"Predicted\"}, {\"date\": \"2020-08-05T00:00:00\", \"y_test\": 65.80000305175781, \"y_pred\": 67.40031003116299, \"label\": \"Actual\", \"predicted_label\": \"Predicted\"}, {\"date\": \"2020-08-06T00:00:00\", \"y_test\": 68.5, \"y_pred\": 67.15351809877015, \"label\": \"Actual\", \"predicted_label\": \"Predicted\"}, {\"date\": \"2020-08-07T00:00:00\", \"y_test\": 69.9000015258789, \"y_pred\": 69.73342122805933, \"label\": \"Actual\", \"predicted_label\": \"Predicted\"}, {\"date\": \"2020-08-10T00:00:00\", \"y_test\": 70.5999984741211, \"y_pred\": 71.34835267984452, \"label\": \"Actual\", \"predicted_label\": \"Predicted\"}, {\"date\": \"2020-08-11T00:00:00\", \"y_test\": 69.5, \"y_pred\": 70.86837778258035, \"label\": \"Actual\", \"predicted_label\": \"Predicted\"}, {\"date\": \"2020-08-12T00:00:00\", \"y_test\": 69.30000305175781, \"y_pred\": 69.464805142356, \"label\": \"Actual\", \"predicted_label\": \"Predicted\"}, {\"date\": \"2020-08-13T00:00:00\", \"y_test\": 77.25, \"y_pred\": 70.75019723415414, \"label\": \"Actual\", \"predicted_label\": \"Predicted\"}, {\"date\": \"2020-08-14T00:00:00\", \"y_test\": 80.30000305175781, \"y_pred\": 79.6100665197872, \"label\": \"Actual\", \"predicted_label\": \"Predicted\"}, {\"date\": \"2020-08-17T00:00:00\", \"y_test\": 81.0, \"y_pred\": 77.91591705034698, \"label\": \"Actual\", \"predicted_label\": \"Predicted\"}, {\"date\": \"2020-08-18T00:00:00\", \"y_test\": 84.4000015258789, \"y_pred\": 82.16714656684296, \"label\": \"Actual\", \"predicted_label\": \"Predicted\"}, {\"date\": \"2020-08-19T00:00:00\", \"y_test\": 82.4499969482422, \"y_pred\": 85.36457513512967, \"label\": \"Actual\", \"predicted_label\": \"Predicted\"}, {\"date\": \"2020-08-20T00:00:00\", \"y_test\": 89.80000305175781, \"y_pred\": 85.93126735910259, \"label\": \"Actual\", \"predicted_label\": \"Predicted\"}, {\"date\": \"2020-08-21T00:00:00\", \"y_test\": 96.40000152587889, \"y_pred\": 94.4310374416495, \"label\": \"Actual\", \"predicted_label\": \"Predicted\"}, {\"date\": \"2020-08-24T00:00:00\", \"y_test\": 94.4000015258789, \"y_pred\": 98.28339960841262, \"label\": \"Actual\", \"predicted_label\": \"Predicted\"}, {\"date\": \"2020-08-25T00:00:00\", \"y_test\": 93.34999847412111, \"y_pred\": 98.25081704751648, \"label\": \"Actual\", \"predicted_label\": \"Predicted\"}, {\"date\": \"2020-08-26T00:00:00\", \"y_test\": 90.5500030517578, \"y_pred\": 96.14891755989389, \"label\": \"Actual\", \"predicted_label\": \"Predicted\"}, {\"date\": \"2020-08-27T00:00:00\", \"y_test\": 93.9000015258789, \"y_pred\": 95.93246066608373, \"label\": \"Actual\", \"predicted_label\": \"Predicted\"}, {\"date\": \"2020-08-28T00:00:00\", \"y_test\": 94.9000015258789, \"y_pred\": 98.60473228054957, \"label\": \"Actual\", \"predicted_label\": \"Predicted\"}, {\"date\": \"2020-08-31T00:00:00\", \"y_test\": 95.80000305175778, \"y_pred\": 100.38494733728751, \"label\": \"Actual\", \"predicted_label\": \"Predicted\"}, {\"date\": \"2020-09-01T00:00:00\", \"y_test\": 92.0, \"y_pred\": 94.30056565158239, \"label\": \"Actual\", \"predicted_label\": \"Predicted\"}, {\"date\": \"2020-09-02T00:00:00\", \"y_test\": 89.8499984741211, \"y_pred\": 95.36632462566712, \"label\": \"Actual\", \"predicted_label\": \"Predicted\"}, {\"date\": \"2020-09-03T00:00:00\", \"y_test\": 88.1500015258789, \"y_pred\": 93.46035670608532, \"label\": \"Actual\", \"predicted_label\": \"Predicted\"}, {\"date\": \"2020-09-04T00:00:00\", \"y_test\": 88.5, \"y_pred\": 92.3322783222847, \"label\": \"Actual\", \"predicted_label\": \"Predicted\"}, {\"date\": \"2020-09-07T00:00:00\", \"y_test\": 88.0, \"y_pred\": 93.50845679689813, \"label\": \"Actual\", \"predicted_label\": \"Predicted\"}, {\"date\": \"2020-09-08T00:00:00\", \"y_test\": 86.69999694824219, \"y_pred\": 89.26358557429113, \"label\": \"Actual\", \"predicted_label\": \"Predicted\"}, {\"date\": \"2020-09-09T00:00:00\", \"y_test\": 83.1500015258789, \"y_pred\": 88.5559467477441, \"label\": \"Actual\", \"predicted_label\": \"Predicted\"}, {\"date\": \"2020-09-10T00:00:00\", \"y_test\": 85.19999694824217, \"y_pred\": 84.9699234155945, \"label\": \"Actual\", \"predicted_label\": \"Predicted\"}, {\"date\": \"2020-09-11T00:00:00\", \"y_test\": 86.59999847412111, \"y_pred\": 87.1555170905464, \"label\": \"Actual\", \"predicted_label\": \"Predicted\"}, {\"date\": \"2020-09-14T00:00:00\", \"y_test\": 90.1999969482422, \"y_pred\": 88.36465466186176, \"label\": \"Actual\", \"predicted_label\": \"Predicted\"}, {\"date\": \"2020-09-15T00:00:00\", \"y_test\": 91.5999984741211, \"y_pred\": 92.45783949533954, \"label\": \"Actual\", \"predicted_label\": \"Predicted\"}, {\"date\": \"2020-09-16T00:00:00\", \"y_test\": 89.5, \"y_pred\": 90.50881025595756, \"label\": \"Actual\", \"predicted_label\": \"Predicted\"}, {\"date\": \"2020-09-17T00:00:00\", \"y_test\": 88.44999694824219, \"y_pred\": 91.6061052665511, \"label\": \"Actual\", \"predicted_label\": \"Predicted\"}, {\"date\": \"2020-09-18T00:00:00\", \"y_test\": 89.75, \"y_pred\": 89.70145092212056, \"label\": \"Actual\", \"predicted_label\": \"Predicted\"}, {\"date\": \"2020-09-21T00:00:00\", \"y_test\": 87.0, \"y_pred\": 89.69680514646804, \"label\": \"Actual\", \"predicted_label\": \"Predicted\"}, {\"date\": \"2020-09-22T00:00:00\", \"y_test\": 82.0999984741211, \"y_pred\": 86.96748780752475, \"label\": \"Actual\", \"predicted_label\": \"Predicted\"}, {\"date\": \"2020-09-23T00:00:00\", \"y_test\": 80.5999984741211, \"y_pred\": 81.62591078097071, \"label\": \"Actual\", \"predicted_label\": \"Predicted\"}, {\"date\": \"2020-09-24T00:00:00\", \"y_test\": 77.6500015258789, \"y_pred\": 82.14994209829037, \"label\": \"Actual\", \"predicted_label\": \"Predicted\"}, {\"date\": \"2020-09-25T00:00:00\", \"y_test\": 79.0, \"y_pred\": 77.7981384440539, \"label\": \"Actual\", \"predicted_label\": \"Predicted\"}, {\"date\": \"2020-09-28T00:00:00\", \"y_test\": 83.75, \"y_pred\": 81.16362755367209, \"label\": \"Actual\", \"predicted_label\": \"Predicted\"}, {\"date\": \"2020-09-29T00:00:00\", \"y_test\": 84.59999847412111, \"y_pred\": 85.75790427400734, \"label\": \"Actual\", \"predicted_label\": \"Predicted\"}, {\"date\": \"2020-09-30T00:00:00\", \"y_test\": 83.05000305175781, \"y_pred\": 84.83232719583883, \"label\": \"Actual\", \"predicted_label\": \"Predicted\"}, {\"date\": \"2020-10-01T00:00:00\", \"y_test\": 84.4000015258789, \"y_pred\": 83.9283701465799, \"label\": \"Actual\", \"predicted_label\": \"Predicted\"}, {\"date\": \"2020-10-05T00:00:00\", \"y_test\": 84.90000152587892, \"y_pred\": 86.8293624380866, \"label\": \"Actual\", \"predicted_label\": \"Predicted\"}, {\"date\": \"2020-10-06T00:00:00\", \"y_test\": 82.1500015258789, \"y_pred\": 84.9362290051871, \"label\": \"Actual\", \"predicted_label\": \"Predicted\"}, {\"date\": \"2020-10-07T00:00:00\", \"y_test\": 80.0, \"y_pred\": 82.92962734116162, \"label\": \"Actual\", \"predicted_label\": \"Predicted\"}, {\"date\": \"2020-10-08T00:00:00\", \"y_test\": 80.00000000000001, \"y_pred\": 81.75829838818929, \"label\": \"Actual\", \"predicted_label\": \"Predicted\"}, {\"date\": \"2020-10-09T00:00:00\", \"y_test\": 79.55000305175781, \"y_pred\": 80.70903178017402, \"label\": \"Actual\", \"predicted_label\": \"Predicted\"}, {\"date\": \"2020-10-12T00:00:00\", \"y_test\": 80.0, \"y_pred\": 81.04107760981842, \"label\": \"Actual\", \"predicted_label\": \"Predicted\"}, {\"date\": \"2020-10-13T00:00:00\", \"y_test\": 76.44999694824219, \"y_pred\": 78.5550317375025, \"label\": \"Actual\", \"predicted_label\": \"Predicted\"}, {\"date\": \"2020-10-14T00:00:00\", \"y_test\": 78.5, \"y_pred\": 78.96348109276742, \"label\": \"Actual\", \"predicted_label\": \"Predicted\"}, {\"date\": \"2020-10-15T00:00:00\", \"y_test\": 78.4000015258789, \"y_pred\": 80.17924378082097, \"label\": \"Actual\", \"predicted_label\": \"Predicted\"}, {\"date\": \"2020-10-16T00:00:00\", \"y_test\": 77.0, \"y_pred\": 77.92441419942912, \"label\": \"Actual\", \"predicted_label\": \"Predicted\"}, {\"date\": \"2020-10-19T00:00:00\", \"y_test\": 76.94999694824219, \"y_pred\": 79.38859707749656, \"label\": \"Actual\", \"predicted_label\": \"Predicted\"}, {\"date\": \"2020-10-20T00:00:00\", \"y_test\": 76.9000015258789, \"y_pred\": 79.21158852259826, \"label\": \"Actual\", \"predicted_label\": \"Predicted\"}, {\"date\": \"2020-10-21T00:00:00\", \"y_test\": 77.0, \"y_pred\": 77.79600885251084, \"label\": \"Actual\", \"predicted_label\": \"Predicted\"}, {\"date\": \"2020-10-22T00:00:00\", \"y_test\": 77.9000015258789, \"y_pred\": 78.63809511935995, \"label\": \"Actual\", \"predicted_label\": \"Predicted\"}, {\"date\": \"2020-10-23T00:00:00\", \"y_test\": 80.4000015258789, \"y_pred\": 79.59393704228553, \"label\": \"Actual\", \"predicted_label\": \"Predicted\"}, {\"date\": \"2020-10-26T00:00:00\", \"y_test\": 79.8499984741211, \"y_pred\": 81.28879711750831, \"label\": \"Actual\", \"predicted_label\": \"Predicted\"}, {\"date\": \"2020-10-27T00:00:00\", \"y_test\": 77.5, \"y_pred\": 79.6365490415545, \"label\": \"Actual\", \"predicted_label\": \"Predicted\"}, {\"date\": \"2020-10-28T00:00:00\", \"y_test\": 77.0999984741211, \"y_pred\": 79.4605396306024, \"label\": \"Actual\", \"predicted_label\": \"Predicted\"}, {\"date\": \"2020-10-29T00:00:00\", \"y_test\": 75.5999984741211, \"y_pred\": 78.51438184255389, \"label\": \"Actual\", \"predicted_label\": \"Predicted\"}, {\"date\": \"2020-10-30T00:00:00\", \"y_test\": 75.75, \"y_pred\": 77.32816436691076, \"label\": \"Actual\", \"predicted_label\": \"Predicted\"}, {\"date\": \"2020-11-02T00:00:00\", \"y_test\": 75.5, \"y_pred\": 77.22322040055867, \"label\": \"Actual\", \"predicted_label\": \"Predicted\"}, {\"date\": \"2020-11-03T00:00:00\", \"y_test\": 74.9000015258789, \"y_pred\": 76.09649403582003, \"label\": \"Actual\", \"predicted_label\": \"Predicted\"}, {\"date\": \"2020-11-04T00:00:00\", \"y_test\": 75.1500015258789, \"y_pred\": 77.08539832989271, \"label\": \"Actual\", \"predicted_label\": \"Predicted\"}, {\"date\": \"2020-11-05T00:00:00\", \"y_test\": 75.0, \"y_pred\": 76.77794138154323, \"label\": \"Actual\", \"predicted_label\": \"Predicted\"}, {\"date\": \"2020-11-06T00:00:00\", \"y_test\": 79.5999984741211, \"y_pred\": 76.58363442069401, \"label\": \"Actual\", \"predicted_label\": \"Predicted\"}, {\"date\": \"2020-11-09T00:00:00\", \"y_test\": 77.75, \"y_pred\": 78.98899364672019, \"label\": \"Actual\", \"predicted_label\": \"Predicted\"}, {\"date\": \"2020-11-10T00:00:00\", \"y_test\": 83.75, \"y_pred\": 79.7892627392784, \"label\": \"Actual\", \"predicted_label\": \"Predicted\"}, {\"date\": \"2020-11-11T00:00:00\", \"y_test\": 83.59999847412111, \"y_pred\": 86.07416490052053, \"label\": \"Actual\", \"predicted_label\": \"Predicted\"}, {\"date\": \"2020-11-12T00:00:00\", \"y_test\": 82.9000015258789, \"y_pred\": 84.26707509816833, \"label\": \"Actual\", \"predicted_label\": \"Predicted\"}, {\"date\": \"2020-11-13T00:00:00\", \"y_test\": 82.55000305175781, \"y_pred\": 84.66757790950383, \"label\": \"Actual\", \"predicted_label\": \"Predicted\"}, {\"date\": \"2020-11-14T00:00:00\", \"y_test\": 83.4000015258789, \"y_pred\": 84.36004014338651, \"label\": \"Actual\", \"predicted_label\": \"Predicted\"}, {\"date\": \"2020-11-17T00:00:00\", \"y_test\": 89.6999969482422, \"y_pred\": 85.26705935564675, \"label\": \"Actual\", \"predicted_label\": \"Predicted\"}, {\"date\": \"2020-11-18T00:00:00\", \"y_test\": 89.69999694824219, \"y_pred\": 91.74293311544744, \"label\": \"Actual\", \"predicted_label\": \"Predicted\"}, {\"date\": \"2020-11-19T00:00:00\", \"y_test\": 89.69999694824219, \"y_pred\": 90.41975093302773, \"label\": \"Actual\", \"predicted_label\": \"Predicted\"}, {\"date\": \"2020-11-20T00:00:00\", \"y_test\": 90.25, \"y_pred\": 91.64878632734667, \"label\": \"Actual\", \"predicted_label\": \"Predicted\"}, {\"date\": \"2020-11-23T00:00:00\", \"y_test\": 89.0999984741211, \"y_pred\": 92.2615169631881, \"label\": \"Actual\", \"predicted_label\": \"Predicted\"}, {\"date\": \"2020-11-24T00:00:00\", \"y_test\": 88.1500015258789, \"y_pred\": 89.58273535835332, \"label\": \"Actual\", \"predicted_label\": \"Predicted\"}, {\"date\": \"2020-11-25T00:00:00\", \"y_test\": 89.0, \"y_pred\": 89.75740763223111, \"label\": \"Actual\", \"predicted_label\": \"Predicted\"}, {\"date\": \"2020-11-26T00:00:00\", \"y_test\": 91.25, \"y_pred\": 89.1570324306133, \"label\": \"Actual\", \"predicted_label\": \"Predicted\"}, {\"date\": \"2020-11-27T00:00:00\", \"y_test\": 91.0, \"y_pred\": 92.78613920085076, \"label\": \"Actual\", \"predicted_label\": \"Predicted\"}, {\"date\": \"2020-12-01T00:00:00\", \"y_test\": 94.59999847412111, \"y_pred\": 92.98083217011086, \"label\": \"Actual\", \"predicted_label\": \"Predicted\"}, {\"date\": \"2020-12-02T00:00:00\", \"y_test\": 96.00000000000001, \"y_pred\": 95.30208272773437, \"label\": \"Actual\", \"predicted_label\": \"Predicted\"}, {\"date\": \"2020-12-03T00:00:00\", \"y_test\": 99.69999694824222, \"y_pred\": 97.41345179583064, \"label\": \"Actual\", \"predicted_label\": \"Predicted\"}, {\"date\": \"2020-12-04T00:00:00\", \"y_test\": 100.6999969482422, \"y_pred\": 102.62385442919779, \"label\": \"Actual\", \"predicted_label\": \"Predicted\"}, {\"date\": \"2020-12-07T00:00:00\", \"y_test\": 103.65000152587892, \"y_pred\": 101.52685954213888, \"label\": \"Actual\", \"predicted_label\": \"Predicted\"}, {\"date\": \"2020-12-08T00:00:00\", \"y_test\": 104.84999847412111, \"y_pred\": 105.16038026272291, \"label\": \"Actual\", \"predicted_label\": \"Predicted\"}, {\"date\": \"2020-12-09T00:00:00\", \"y_test\": 104.5999984741211, \"y_pred\": 105.24745934142253, \"label\": \"Actual\", \"predicted_label\": \"Predicted\"}, {\"date\": \"2020-12-10T00:00:00\", \"y_test\": 102.8000030517578, \"y_pred\": 106.55620667217909, \"label\": \"Actual\", \"predicted_label\": \"Predicted\"}, {\"date\": \"2020-12-11T00:00:00\", \"y_test\": 104.0, \"y_pred\": 103.8813510934483, \"label\": \"Actual\", \"predicted_label\": \"Predicted\"}, {\"date\": \"2020-12-14T00:00:00\", \"y_test\": 102.5, \"y_pred\": 104.08041345446821, \"label\": \"Actual\", \"predicted_label\": \"Predicted\"}, {\"date\": \"2020-12-15T00:00:00\", \"y_test\": 102.5999984741211, \"y_pred\": 105.17410755943781, \"label\": \"Actual\", \"predicted_label\": \"Predicted\"}, {\"date\": \"2020-12-16T00:00:00\", \"y_test\": 102.40000152587892, \"y_pred\": 104.78421239510162, \"label\": \"Actual\", \"predicted_label\": \"Predicted\"}, {\"date\": \"2020-12-17T00:00:00\", \"y_test\": 100.6500015258789, \"y_pred\": 104.16887585847107, \"label\": \"Actual\", \"predicted_label\": \"Predicted\"}, {\"date\": \"2020-12-18T00:00:00\", \"y_test\": 100.00000000000001, \"y_pred\": 103.06903636712075, \"label\": \"Actual\", \"predicted_label\": \"Predicted\"}, {\"date\": \"2020-12-21T00:00:00\", \"y_test\": 98.90000152587889, \"y_pred\": 99.79072763264799, \"label\": \"Actual\", \"predicted_label\": \"Predicted\"}, {\"date\": \"2020-12-22T00:00:00\", \"y_test\": 90.1999969482422, \"y_pred\": 93.4001933563764, \"label\": \"Actual\", \"predicted_label\": \"Predicted\"}, {\"date\": \"2020-12-23T00:00:00\", \"y_test\": 92.9000015258789, \"y_pred\": 93.05299043925176, \"label\": \"Actual\", \"predicted_label\": \"Predicted\"}, {\"date\": \"2020-12-24T00:00:00\", \"y_test\": 94.94999694824219, \"y_pred\": 95.94753140601195, \"label\": \"Actual\", \"predicted_label\": \"Predicted\"}, {\"date\": \"2020-12-28T00:00:00\", \"y_test\": 92.75, \"y_pred\": 94.56270476958667, \"label\": \"Actual\", \"predicted_label\": \"Predicted\"}, {\"date\": \"2020-12-29T00:00:00\", \"y_test\": 91.4499969482422, \"y_pred\": 93.13337570697576, \"label\": \"Actual\", \"predicted_label\": \"Predicted\"}, {\"date\": \"2020-12-30T00:00:00\", \"y_test\": 90.9000015258789, \"y_pred\": 92.27452141397582, \"label\": \"Actual\", \"predicted_label\": \"Predicted\"}, {\"date\": \"2020-12-31T00:00:00\", \"y_test\": 91.50000000000001, \"y_pred\": 94.10830060222041, \"label\": \"Actual\", \"predicted_label\": \"Predicted\"}, {\"date\": \"2021-01-01T00:00:00\", \"y_test\": 93.9000015258789, \"y_pred\": 93.87682888552406, \"label\": \"Actual\", \"predicted_label\": \"Predicted\"}, {\"date\": \"2021-01-04T00:00:00\", \"y_test\": 97.0, \"y_pred\": 97.0964728392308, \"label\": \"Actual\", \"predicted_label\": \"Predicted\"}, {\"date\": \"2021-01-05T00:00:00\", \"y_test\": 95.5, \"y_pred\": 100.10897937708475, \"label\": \"Actual\", \"predicted_label\": \"Predicted\"}, {\"date\": \"2021-01-06T00:00:00\", \"y_test\": 98.15000152587892, \"y_pred\": 98.62607474875671, \"label\": \"Actual\", \"predicted_label\": \"Predicted\"}, {\"date\": \"2021-01-07T00:00:00\", \"y_test\": 98.5, \"y_pred\": 99.45803285641956, \"label\": \"Actual\", \"predicted_label\": \"Predicted\"}, {\"date\": \"2021-01-08T00:00:00\", \"y_test\": 99.34999847412111, \"y_pred\": 100.47093377766406, \"label\": \"Actual\", \"predicted_label\": \"Predicted\"}, {\"date\": \"2021-01-11T00:00:00\", \"y_test\": 99.4000015258789, \"y_pred\": 101.16526002425904, \"label\": \"Actual\", \"predicted_label\": \"Predicted\"}, {\"date\": \"2021-01-12T00:00:00\", \"y_test\": 97.4000015258789, \"y_pred\": 99.83646645068998, \"label\": \"Actual\", \"predicted_label\": \"Predicted\"}, {\"date\": \"2021-01-13T00:00:00\", \"y_test\": 100.6500015258789, \"y_pred\": 100.13771188783252, \"label\": \"Actual\", \"predicted_label\": \"Predicted\"}, {\"date\": \"2021-01-14T00:00:00\", \"y_test\": 99.8000030517578, \"y_pred\": 99.60047330182576, \"label\": \"Actual\", \"predicted_label\": \"Predicted\"}, {\"date\": \"2021-01-15T00:00:00\", \"y_test\": 98.0, \"y_pred\": 100.22497218769915, \"label\": \"Actual\", \"predicted_label\": \"Predicted\"}, {\"date\": \"2021-01-18T00:00:00\", \"y_test\": 97.0, \"y_pred\": 99.84799200308161, \"label\": \"Actual\", \"predicted_label\": \"Predicted\"}, {\"date\": \"2021-01-19T00:00:00\", \"y_test\": 95.49999999999999, \"y_pred\": 96.2262105723486, \"label\": \"Actual\", \"predicted_label\": \"Predicted\"}, {\"date\": \"2021-01-20T00:00:00\", \"y_test\": 96.3000030517578, \"y_pred\": 97.6146875981008, \"label\": \"Actual\", \"predicted_label\": \"Predicted\"}, {\"date\": \"2021-01-21T00:00:00\", \"y_test\": 96.4499969482422, \"y_pred\": 98.11262938573954, \"label\": \"Actual\", \"predicted_label\": \"Predicted\"}, {\"date\": \"2021-01-22T00:00:00\", \"y_test\": 95.3000030517578, \"y_pred\": 98.0639639527219, \"label\": \"Actual\", \"predicted_label\": \"Predicted\"}, {\"date\": \"2021-01-25T00:00:00\", \"y_test\": 93.40000152587892, \"y_pred\": 96.17223854765638, \"label\": \"Actual\", \"predicted_label\": \"Predicted\"}, {\"date\": \"2021-01-27T00:00:00\", \"y_test\": 93.6999969482422, \"y_pred\": 95.45062410613006, \"label\": \"Actual\", \"predicted_label\": \"Predicted\"}, {\"date\": \"2021-01-28T00:00:00\", \"y_test\": 94.49999999999999, \"y_pred\": 95.79964868975493, \"label\": \"Actual\", \"predicted_label\": \"Predicted\"}, {\"date\": \"2021-01-29T00:00:00\", \"y_test\": 94.75000000000001, \"y_pred\": 97.00644675794526, \"label\": \"Actual\", \"predicted_label\": \"Predicted\"}, {\"date\": \"2021-02-01T00:00:00\", \"y_test\": 93.24999999999999, \"y_pred\": 95.83364172312567, \"label\": \"Actual\", \"predicted_label\": \"Predicted\"}, {\"date\": \"2021-02-02T00:00:00\", \"y_test\": 94.0, \"y_pred\": 94.12272447448981, \"label\": \"Actual\", \"predicted_label\": \"Predicted\"}, {\"date\": \"2021-02-03T00:00:00\", \"y_test\": 95.3000030517578, \"y_pred\": 95.28583869010663, \"label\": \"Actual\", \"predicted_label\": \"Predicted\"}, {\"date\": \"2021-02-04T00:00:00\", \"y_test\": 95.8000030517578, \"y_pred\": 97.58297268514781, \"label\": \"Actual\", \"predicted_label\": \"Predicted\"}, {\"date\": \"2021-02-05T00:00:00\", \"y_test\": 96.8499984741211, \"y_pred\": 96.53637554864419, \"label\": \"Actual\", \"predicted_label\": \"Predicted\"}, {\"date\": \"2021-02-08T00:00:00\", \"y_test\": 99.6500015258789, \"y_pred\": 99.86206892388536, \"label\": \"Actual\", \"predicted_label\": \"Predicted\"}, {\"date\": \"2021-02-09T00:00:00\", \"y_test\": 101.0500030517578, \"y_pred\": 102.6395030310549, \"label\": \"Actual\", \"predicted_label\": \"Predicted\"}, {\"date\": \"2021-02-10T00:00:00\", \"y_test\": 97.9499969482422, \"y_pred\": 98.86287358540106, \"label\": \"Actual\", \"predicted_label\": \"Predicted\"}, {\"date\": \"2021-02-11T00:00:00\", \"y_test\": 99.49999999999999, \"y_pred\": 100.63784729782066, \"label\": \"Actual\", \"predicted_label\": \"Predicted\"}, {\"date\": \"2021-02-12T00:00:00\", \"y_test\": 99.5, \"y_pred\": 100.92452412167594, \"label\": \"Actual\", \"predicted_label\": \"Predicted\"}, {\"date\": \"2021-02-15T00:00:00\", \"y_test\": 99.75000000000001, \"y_pred\": 101.52583665747106, \"label\": \"Actual\", \"predicted_label\": \"Predicted\"}, {\"date\": \"2021-02-16T00:00:00\", \"y_test\": 101.25, \"y_pred\": 102.35345361050408, \"label\": \"Actual\", \"predicted_label\": \"Predicted\"}, {\"date\": \"2021-02-17T00:00:00\", \"y_test\": 99.1999969482422, \"y_pred\": 102.32881515398606, \"label\": \"Actual\", \"predicted_label\": \"Predicted\"}, {\"date\": \"2021-02-18T00:00:00\", \"y_test\": 98.94999694824219, \"y_pred\": 100.25075824785259, \"label\": \"Actual\", \"predicted_label\": \"Predicted\"}, {\"date\": \"2021-02-19T00:00:00\", \"y_test\": 99.40000152587892, \"y_pred\": 101.02240906343135, \"label\": \"Actual\", \"predicted_label\": \"Predicted\"}, {\"date\": \"2021-02-22T00:00:00\", \"y_test\": 97.30000305175778, \"y_pred\": 100.34537517851844, \"label\": \"Actual\", \"predicted_label\": \"Predicted\"}, {\"date\": \"2021-02-23T00:00:00\", \"y_test\": 97.9499969482422, \"y_pred\": 99.94737383976167, \"label\": \"Actual\", \"predicted_label\": \"Predicted\"}, {\"date\": \"2021-02-24T00:00:00\", \"y_test\": 97.9499969482422, \"y_pred\": 100.23538176501718, \"label\": \"Actual\", \"predicted_label\": \"Predicted\"}, {\"date\": \"2021-02-25T00:00:00\", \"y_test\": 98.9000015258789, \"y_pred\": 100.85296302859861, \"label\": \"Actual\", \"predicted_label\": \"Predicted\"}, {\"date\": \"2021-02-26T00:00:00\", \"y_test\": 98.25000000000001, \"y_pred\": 100.2258357480936, \"label\": \"Actual\", \"predicted_label\": \"Predicted\"}, {\"date\": \"2021-03-01T00:00:00\", \"y_test\": 99.5, \"y_pred\": 99.71525829383837, \"label\": \"Actual\", \"predicted_label\": \"Predicted\"}, {\"date\": \"2021-03-02T00:00:00\", \"y_test\": 98.5999984741211, \"y_pred\": 99.94620411841362, \"label\": \"Actual\", \"predicted_label\": \"Predicted\"}, {\"date\": \"2021-03-03T00:00:00\", \"y_test\": 104.6999969482422, \"y_pred\": 100.53924859163753, \"label\": \"Actual\", \"predicted_label\": \"Predicted\"}, {\"date\": \"2021-03-04T00:00:00\", \"y_test\": 110.84999847412111, \"y_pred\": 107.62286330306566, \"label\": \"Actual\", \"predicted_label\": \"Predicted\"}, {\"date\": \"2021-03-05T00:00:00\", \"y_test\": 111.0, \"y_pred\": 113.91978480041317, \"label\": \"Actual\", \"predicted_label\": \"Predicted\"}, {\"date\": \"2021-03-08T00:00:00\", \"y_test\": 112.5, \"y_pred\": 113.78786194432068, \"label\": \"Actual\", \"predicted_label\": \"Predicted\"}, {\"date\": \"2021-03-09T00:00:00\", \"y_test\": 110.0, \"y_pred\": 112.0505936954592, \"label\": \"Actual\", \"predicted_label\": \"Predicted\"}, {\"date\": \"2021-03-10T00:00:00\", \"y_test\": 109.3499984741211, \"y_pred\": 111.72852977924808, \"label\": \"Actual\", \"predicted_label\": \"Predicted\"}, {\"date\": \"2021-03-12T00:00:00\", \"y_test\": 109.0, \"y_pred\": 111.71581713763689, \"label\": \"Actual\", \"predicted_label\": \"Predicted\"}, {\"date\": \"2021-03-15T00:00:00\", \"y_test\": 107.9499969482422, \"y_pred\": 110.24274158856245, \"label\": \"Actual\", \"predicted_label\": \"Predicted\"}, {\"date\": \"2021-03-16T00:00:00\", \"y_test\": 104.49999999999999, \"y_pred\": 106.24400694508107, \"label\": \"Actual\", \"predicted_label\": \"Predicted\"}, {\"date\": \"2021-03-17T00:00:00\", \"y_test\": 108.0, \"y_pred\": 106.51753509335805, \"label\": \"Actual\", \"predicted_label\": \"Predicted\"}, {\"date\": \"2021-03-18T00:00:00\", \"y_test\": 103.05000305175778, \"y_pred\": 104.00456760302555, \"label\": \"Actual\", \"predicted_label\": \"Predicted\"}, {\"date\": \"2021-03-19T00:00:00\", \"y_test\": 99.8499984741211, \"y_pred\": 102.81354596113107, \"label\": \"Actual\", \"predicted_label\": \"Predicted\"}, {\"date\": \"2021-03-22T00:00:00\", \"y_test\": 98.75, \"y_pred\": 101.86149119559575, \"label\": \"Actual\", \"predicted_label\": \"Predicted\"}, {\"date\": \"2021-03-23T00:00:00\", \"y_test\": 100.0500030517578, \"y_pred\": 101.79982255633472, \"label\": \"Actual\", \"predicted_label\": \"Predicted\"}, {\"date\": \"2021-03-24T00:00:00\", \"y_test\": 99.9499969482422, \"y_pred\": 104.11423092560837, \"label\": \"Actual\", \"predicted_label\": \"Predicted\"}, {\"date\": \"2021-03-25T00:00:00\", \"y_test\": 98.0500030517578, \"y_pred\": 102.7138668597141, \"label\": \"Actual\", \"predicted_label\": \"Predicted\"}, {\"date\": \"2021-03-26T00:00:00\", \"y_test\": 97.90000152587892, \"y_pred\": 99.5146138431971, \"label\": \"Actual\", \"predicted_label\": \"Predicted\"}, {\"date\": \"2021-03-30T00:00:00\", \"y_test\": 95.5999984741211, \"y_pred\": 99.05435386000833, \"label\": \"Actual\", \"predicted_label\": \"Predicted\"}, {\"date\": \"2021-03-31T00:00:00\", \"y_test\": 96.1500015258789, \"y_pred\": 96.36659004553631, \"label\": \"Actual\", \"predicted_label\": \"Predicted\"}, {\"date\": \"2021-04-01T00:00:00\", \"y_test\": 97.3499984741211, \"y_pred\": 95.75695630602905, \"label\": \"Actual\", \"predicted_label\": \"Predicted\"}, {\"date\": \"2021-04-05T00:00:00\", \"y_test\": 93.5999984741211, \"y_pred\": 98.49011034571987, \"label\": \"Actual\", \"predicted_label\": \"Predicted\"}, {\"date\": \"2021-04-06T00:00:00\", \"y_test\": 93.05000305175781, \"y_pred\": 95.19491219323625, \"label\": \"Actual\", \"predicted_label\": \"Predicted\"}, {\"date\": \"2021-04-07T00:00:00\", \"y_test\": 94.1999969482422, \"y_pred\": 94.04978551255076, \"label\": \"Actual\", \"predicted_label\": \"Predicted\"}, {\"date\": \"2021-04-08T00:00:00\", \"y_test\": 94.3000030517578, \"y_pred\": 96.28381491818715, \"label\": \"Actual\", \"predicted_label\": \"Predicted\"}, {\"date\": \"2021-04-09T00:00:00\", \"y_test\": 94.9000015258789, \"y_pred\": 95.40855249657109, \"label\": \"Actual\", \"predicted_label\": \"Predicted\"}, {\"date\": \"2021-04-12T00:00:00\", \"y_test\": 92.00000000000001, \"y_pred\": 94.68458032089292, \"label\": \"Actual\", \"predicted_label\": \"Predicted\"}, {\"date\": \"2021-04-13T00:00:00\", \"y_test\": 89.4000015258789, \"y_pred\": 89.81160380680956, \"label\": \"Actual\", \"predicted_label\": \"Predicted\"}, {\"date\": \"2021-04-15T00:00:00\", \"y_test\": 88.30000305175781, \"y_pred\": 91.95047978858351, \"label\": \"Actual\", \"predicted_label\": \"Predicted\"}, {\"date\": \"2021-04-16T00:00:00\", \"y_test\": 88.84999847412111, \"y_pred\": 90.67386814219033, \"label\": \"Actual\", \"predicted_label\": \"Predicted\"}, {\"date\": \"2021-04-19T00:00:00\", \"y_test\": 85.0, \"y_pred\": 89.52561532112341, \"label\": \"Actual\", \"predicted_label\": \"Predicted\"}, {\"date\": \"2021-04-20T00:00:00\", \"y_test\": 86.1999969482422, \"y_pred\": 85.5773678107851, \"label\": \"Actual\", \"predicted_label\": \"Predicted\"}, {\"date\": \"2021-04-22T00:00:00\", \"y_test\": 85.80000305175781, \"y_pred\": 85.97900132135705, \"label\": \"Actual\", \"predicted_label\": \"Predicted\"}, {\"date\": \"2021-04-23T00:00:00\", \"y_test\": 86.55000305175781, \"y_pred\": 85.92130773668886, \"label\": \"Actual\", \"predicted_label\": \"Predicted\"}, {\"date\": \"2021-04-26T00:00:00\", \"y_test\": 88.94999694824219, \"y_pred\": 88.00608522702629, \"label\": \"Actual\", \"predicted_label\": \"Predicted\"}, {\"date\": \"2021-04-27T00:00:00\", \"y_test\": 90.0, \"y_pred\": 90.56752913796149, \"label\": \"Actual\", \"predicted_label\": \"Predicted\"}, {\"date\": \"2021-04-28T00:00:00\", \"y_test\": 91.5999984741211, \"y_pred\": 90.80467800694252, \"label\": \"Actual\", \"predicted_label\": \"Predicted\"}, {\"date\": \"2021-04-29T00:00:00\", \"y_test\": 88.9000015258789, \"y_pred\": 89.60299240023069, \"label\": \"Actual\", \"predicted_label\": \"Predicted\"}, {\"date\": \"2021-04-30T00:00:00\", \"y_test\": 89.5, \"y_pred\": 89.19680800661773, \"label\": \"Actual\", \"predicted_label\": \"Predicted\"}, {\"date\": \"2021-05-03T00:00:00\", \"y_test\": 87.30000305175781, \"y_pred\": 88.46371798917842, \"label\": \"Actual\", \"predicted_label\": \"Predicted\"}, {\"date\": \"2021-05-04T00:00:00\", \"y_test\": 90.5, \"y_pred\": 88.14204833152085, \"label\": \"Actual\", \"predicted_label\": \"Predicted\"}, {\"date\": \"2021-05-05T00:00:00\", \"y_test\": 88.80000305175781, \"y_pred\": 88.47377284936782, \"label\": \"Actual\", \"predicted_label\": \"Predicted\"}, {\"date\": \"2021-05-06T00:00:00\", \"y_test\": 90.1999969482422, \"y_pred\": 89.66007289482366, \"label\": \"Actual\", \"predicted_label\": \"Predicted\"}, {\"date\": \"2021-05-07T00:00:00\", \"y_test\": 91.30000305175778, \"y_pred\": 91.33960632512981, \"label\": \"Actual\", \"predicted_label\": \"Predicted\"}, {\"date\": \"2021-05-10T00:00:00\", \"y_test\": 91.0, \"y_pred\": 91.43208059092247, \"label\": \"Actual\", \"predicted_label\": \"Predicted\"}, {\"date\": \"2021-05-11T00:00:00\", \"y_test\": 93.0, \"y_pred\": 90.50759021829874, \"label\": \"Actual\", \"predicted_label\": \"Predicted\"}, {\"date\": \"2021-05-12T00:00:00\", \"y_test\": 93.90000152587892, \"y_pred\": 92.75177480029396, \"label\": \"Actual\", \"predicted_label\": \"Predicted\"}, {\"date\": \"2021-05-14T00:00:00\", \"y_test\": 93.9499969482422, \"y_pred\": 94.30503164073794, \"label\": \"Actual\", \"predicted_label\": \"Predicted\"}, {\"date\": \"2021-05-17T00:00:00\", \"y_test\": 93.75000000000001, \"y_pred\": 94.0703730780304, \"label\": \"Actual\", \"predicted_label\": \"Predicted\"}, {\"date\": \"2021-05-18T00:00:00\", \"y_test\": 99.44999694824219, \"y_pred\": 94.40664708018576, \"label\": \"Actual\", \"predicted_label\": \"Predicted\"}, {\"date\": \"2021-05-19T00:00:00\", \"y_test\": 100.1500015258789, \"y_pred\": 99.13886405421577, \"label\": \"Actual\", \"predicted_label\": \"Predicted\"}, {\"date\": \"2021-05-20T00:00:00\", \"y_test\": 99.84999847412111, \"y_pred\": 100.96929348242621, \"label\": \"Actual\", \"predicted_label\": \"Predicted\"}, {\"date\": \"2021-05-21T00:00:00\", \"y_test\": 101.69999694824222, \"y_pred\": 98.75740144026027, \"label\": \"Actual\", \"predicted_label\": \"Predicted\"}, {\"date\": \"2021-05-24T00:00:00\", \"y_test\": 106.44999694824219, \"y_pred\": 101.23831283132476, \"label\": \"Actual\", \"predicted_label\": \"Predicted\"}, {\"date\": \"2021-05-25T00:00:00\", \"y_test\": 112.99999999999999, \"y_pred\": 107.76101134550083, \"label\": \"Actual\", \"predicted_label\": \"Predicted\"}, {\"date\": \"2021-05-26T00:00:00\", \"y_test\": 110.9000015258789, \"y_pred\": 111.06456159730203, \"label\": \"Actual\", \"predicted_label\": \"Predicted\"}, {\"date\": \"2021-05-27T00:00:00\", \"y_test\": 114.40000152587892, \"y_pred\": 108.50638884617317, \"label\": \"Actual\", \"predicted_label\": \"Predicted\"}, {\"date\": \"2021-05-28T00:00:00\", \"y_test\": 114.4499969482422, \"y_pred\": 114.63083492911112, \"label\": \"Actual\", \"predicted_label\": \"Predicted\"}, {\"date\": \"2021-05-31T00:00:00\", \"y_test\": 112.59999847412111, \"y_pred\": 111.30666407881166, \"label\": \"Actual\", \"predicted_label\": \"Predicted\"}, {\"date\": \"2021-06-01T00:00:00\", \"y_test\": 111.6500015258789, \"y_pred\": 111.11196082138207, \"label\": \"Actual\", \"predicted_label\": \"Predicted\"}, {\"date\": \"2021-06-02T00:00:00\", \"y_test\": 111.4000015258789, \"y_pred\": 110.93963386992658, \"label\": \"Actual\", \"predicted_label\": \"Predicted\"}, {\"date\": \"2021-06-03T00:00:00\", \"y_test\": 111.15000152587892, \"y_pred\": 109.795873360668, \"label\": \"Actual\", \"predicted_label\": \"Predicted\"}, {\"date\": \"2021-06-04T00:00:00\", \"y_test\": 121.15000152587892, \"y_pred\": 112.80684901681842, \"label\": \"Actual\", \"predicted_label\": \"Predicted\"}, {\"date\": \"2021-06-07T00:00:00\", \"y_test\": 120.6999969482422, \"y_pred\": 118.71829881974975, \"label\": \"Actual\", \"predicted_label\": \"Predicted\"}, {\"date\": \"2021-06-08T00:00:00\", \"y_test\": 119.0, \"y_pred\": 120.37284791005881, \"label\": \"Actual\", \"predicted_label\": \"Predicted\"}, {\"date\": \"2021-06-09T00:00:00\", \"y_test\": 118.1999969482422, \"y_pred\": 117.57901559751183, \"label\": \"Actual\", \"predicted_label\": \"Predicted\"}, {\"date\": \"2021-06-10T00:00:00\", \"y_test\": 118.15000152587892, \"y_pred\": 115.41403829100935, \"label\": \"Actual\", \"predicted_label\": \"Predicted\"}, {\"date\": \"2021-06-11T00:00:00\", \"y_test\": 118.15000152587892, \"y_pred\": 118.59286937167734, \"label\": \"Actual\", \"predicted_label\": \"Predicted\"}, {\"date\": \"2021-06-14T00:00:00\", \"y_test\": 119.84999847412111, \"y_pred\": 116.95226240481935, \"label\": \"Actual\", \"predicted_label\": \"Predicted\"}, {\"date\": \"2021-06-15T00:00:00\", \"y_test\": 119.25, \"y_pred\": 118.79134554424162, \"label\": \"Actual\", \"predicted_label\": \"Predicted\"}, {\"date\": \"2021-06-16T00:00:00\", \"y_test\": 119.00000000000001, \"y_pred\": 119.62761754516328, \"label\": \"Actual\", \"predicted_label\": \"Predicted\"}, {\"date\": \"2021-06-17T00:00:00\", \"y_test\": 116.75, \"y_pred\": 118.05864723990133, \"label\": \"Actual\", \"predicted_label\": \"Predicted\"}, {\"date\": \"2021-06-18T00:00:00\", \"y_test\": 114.8499984741211, \"y_pred\": 115.52619672190657, \"label\": \"Actual\", \"predicted_label\": \"Predicted\"}, {\"date\": \"2021-06-21T00:00:00\", \"y_test\": 111.1999969482422, \"y_pred\": 112.51696007691316, \"label\": \"Actual\", \"predicted_label\": \"Predicted\"}, {\"date\": \"2021-06-22T00:00:00\", \"y_test\": 116.9499969482422, \"y_pred\": 112.59515794409846, \"label\": \"Actual\", \"predicted_label\": \"Predicted\"}, {\"date\": \"2021-06-23T00:00:00\", \"y_test\": 115.9000015258789, \"y_pred\": 115.65194830771028, \"label\": \"Actual\", \"predicted_label\": \"Predicted\"}, {\"date\": \"2021-06-24T00:00:00\", \"y_test\": 114.99999999999999, \"y_pred\": 116.19864270301568, \"label\": \"Actual\", \"predicted_label\": \"Predicted\"}, {\"date\": \"2021-06-25T00:00:00\", \"y_test\": 115.4499969482422, \"y_pred\": 113.52988608389832, \"label\": \"Actual\", \"predicted_label\": \"Predicted\"}, {\"date\": \"2021-06-28T00:00:00\", \"y_test\": 114.8499984741211, \"y_pred\": 115.25311929934175, \"label\": \"Actual\", \"predicted_label\": \"Predicted\"}, {\"date\": \"2021-06-29T00:00:00\", \"y_test\": 115.59999847412111, \"y_pred\": 115.04091500283559, \"label\": \"Actual\", \"predicted_label\": \"Predicted\"}, {\"date\": \"2021-06-30T00:00:00\", \"y_test\": 113.0, \"y_pred\": 113.43547751130004, \"label\": \"Actual\", \"predicted_label\": \"Predicted\"}, {\"date\": \"2021-07-01T00:00:00\", \"y_test\": 113.84999847412111, \"y_pred\": 113.3055787520751, \"label\": \"Actual\", \"predicted_label\": \"Predicted\"}, {\"date\": \"2021-07-02T00:00:00\", \"y_test\": 112.6999969482422, \"y_pred\": 112.84406567133075, \"label\": \"Actual\", \"predicted_label\": \"Predicted\"}, {\"date\": \"2021-07-05T00:00:00\", \"y_test\": 114.0, \"y_pred\": 113.73101569788672, \"label\": \"Actual\", \"predicted_label\": \"Predicted\"}, {\"date\": \"2021-07-06T00:00:00\", \"y_test\": 119.6999969482422, \"y_pred\": 114.92644158829009, \"label\": \"Actual\", \"predicted_label\": \"Predicted\"}, {\"date\": \"2021-07-07T00:00:00\", \"y_test\": 122.59999847412111, \"y_pred\": 119.76536616993054, \"label\": \"Actual\", \"predicted_label\": \"Predicted\"}, {\"date\": \"2021-07-08T00:00:00\", \"y_test\": 119.5, \"y_pred\": 119.12541736348139, \"label\": \"Actual\", \"predicted_label\": \"Predicted\"}, {\"date\": \"2021-07-09T00:00:00\", \"y_test\": 118.5, \"y_pred\": 119.94345273498493, \"label\": \"Actual\", \"predicted_label\": \"Predicted\"}, {\"date\": \"2021-07-12T00:00:00\", \"y_test\": 119.8499984741211, \"y_pred\": 119.2933956416742, \"label\": \"Actual\", \"predicted_label\": \"Predicted\"}, {\"date\": \"2021-07-13T00:00:00\", \"y_test\": 119.0, \"y_pred\": 118.52578077668677, \"label\": \"Actual\", \"predicted_label\": \"Predicted\"}, {\"date\": \"2021-07-14T00:00:00\", \"y_test\": 118.19999694824219, \"y_pred\": 118.86521117411071, \"label\": \"Actual\", \"predicted_label\": \"Predicted\"}, {\"date\": \"2021-07-15T00:00:00\", \"y_test\": 120.80000305175778, \"y_pred\": 118.31597242585823, \"label\": \"Actual\", \"predicted_label\": \"Predicted\"}, {\"date\": \"2021-07-16T00:00:00\", \"y_test\": 118.0500030517578, \"y_pred\": 118.73608080926842, \"label\": \"Actual\", \"predicted_label\": \"Predicted\"}, {\"date\": \"2021-07-19T00:00:00\", \"y_test\": 116.5500030517578, \"y_pred\": 117.52984577163686, \"label\": \"Actual\", \"predicted_label\": \"Predicted\"}, {\"date\": \"2021-07-20T00:00:00\", \"y_test\": 113.0, \"y_pred\": 115.73096626143032, \"label\": \"Actual\", \"predicted_label\": \"Predicted\"}, {\"date\": \"2021-07-22T00:00:00\", \"y_test\": 113.24999999999999, \"y_pred\": 111.8604462477153, \"label\": \"Actual\", \"predicted_label\": \"Predicted\"}, {\"date\": \"2021-07-23T00:00:00\", \"y_test\": 114.0, \"y_pred\": 113.78252642239318, \"label\": \"Actual\", \"predicted_label\": \"Predicted\"}, {\"date\": \"2021-07-26T00:00:00\", \"y_test\": 115.25000000000001, \"y_pred\": 116.36321774609912, \"label\": \"Actual\", \"predicted_label\": \"Predicted\"}, {\"date\": \"2021-07-27T00:00:00\", \"y_test\": 114.9000015258789, \"y_pred\": 114.98892778264688, \"label\": \"Actual\", \"predicted_label\": \"Predicted\"}, {\"date\": \"2021-07-28T00:00:00\", \"y_test\": 113.15000152587889, \"y_pred\": 114.18860895366645, \"label\": \"Actual\", \"predicted_label\": \"Predicted\"}, {\"date\": \"2021-07-29T00:00:00\", \"y_test\": 114.25000000000001, \"y_pred\": 113.49247699646286, \"label\": \"Actual\", \"predicted_label\": \"Predicted\"}, {\"date\": \"2021-07-30T00:00:00\", \"y_test\": 113.8000030517578, \"y_pred\": 114.63779315617002, \"label\": \"Actual\", \"predicted_label\": \"Predicted\"}, {\"date\": \"2021-08-02T00:00:00\", \"y_test\": 113.5, \"y_pred\": 114.33092266368882, \"label\": \"Actual\", \"predicted_label\": \"Predicted\"}, {\"date\": \"2021-08-03T00:00:00\", \"y_test\": 112.0, \"y_pred\": 114.05921244301291, \"label\": \"Actual\", \"predicted_label\": \"Predicted\"}, {\"date\": \"2021-08-04T00:00:00\", \"y_test\": 111.8499984741211, \"y_pred\": 112.49259483939457, \"label\": \"Actual\", \"predicted_label\": \"Predicted\"}, {\"date\": \"2021-08-05T00:00:00\", \"y_test\": 109.5, \"y_pred\": 110.80434552725013, \"label\": \"Actual\", \"predicted_label\": \"Predicted\"}, {\"date\": \"2021-08-06T00:00:00\", \"y_test\": 109.69999694824222, \"y_pred\": 111.56655263105439, \"label\": \"Actual\", \"predicted_label\": \"Predicted\"}, {\"date\": \"2021-08-09T00:00:00\", \"y_test\": 109.49999999999999, \"y_pred\": 111.49268500241644, \"label\": \"Actual\", \"predicted_label\": \"Predicted\"}, {\"date\": \"2021-08-10T00:00:00\", \"y_test\": 108.69999694824219, \"y_pred\": 109.94942312638433, \"label\": \"Actual\", \"predicted_label\": \"Predicted\"}, {\"date\": \"2021-08-11T00:00:00\", \"y_test\": 104.5, \"y_pred\": 107.45959223979821, \"label\": \"Actual\", \"predicted_label\": \"Predicted\"}, {\"date\": \"2021-08-12T00:00:00\", \"y_test\": 105.9000015258789, \"y_pred\": 106.14648726597959, \"label\": \"Actual\", \"predicted_label\": \"Predicted\"}, {\"date\": \"2021-08-13T00:00:00\", \"y_test\": 106.99999999999999, \"y_pred\": 108.84019565576219, \"label\": \"Actual\", \"predicted_label\": \"Predicted\"}, {\"date\": \"2021-08-16T00:00:00\", \"y_test\": 105.65000152587889, \"y_pred\": 108.30356348340914, \"label\": \"Actual\", \"predicted_label\": \"Predicted\"}, {\"date\": \"2021-08-17T00:00:00\", \"y_test\": 103.65000152587892, \"y_pred\": 106.57604115235121, \"label\": \"Actual\", \"predicted_label\": \"Predicted\"}, {\"date\": \"2021-08-18T00:00:00\", \"y_test\": 104.19999694824219, \"y_pred\": 106.65357275509518, \"label\": \"Actual\", \"predicted_label\": \"Predicted\"}, {\"date\": \"2021-08-20T00:00:00\", \"y_test\": 103.4499969482422, \"y_pred\": 107.02263768153665, \"label\": \"Actual\", \"predicted_label\": \"Predicted\"}, {\"date\": \"2021-08-23T00:00:00\", \"y_test\": 104.0999984741211, \"y_pred\": 105.78791431422356, \"label\": \"Actual\", \"predicted_label\": \"Predicted\"}, {\"date\": \"2021-08-24T00:00:00\", \"y_test\": 110.0, \"y_pred\": 104.13852507364936, \"label\": \"Actual\", \"predicted_label\": \"Predicted\"}, {\"date\": \"2021-08-25T00:00:00\", \"y_test\": 106.75000000000001, \"y_pred\": 109.03840998974856, \"label\": \"Actual\", \"predicted_label\": \"Predicted\"}, {\"date\": \"2021-08-26T00:00:00\", \"y_test\": 105.5500030517578, \"y_pred\": 110.17088132245046, \"label\": \"Actual\", \"predicted_label\": \"Predicted\"}, {\"date\": \"2021-08-27T00:00:00\", \"y_test\": 105.8000030517578, \"y_pred\": 108.19863215677464, \"label\": \"Actual\", \"predicted_label\": \"Predicted\"}, {\"date\": \"2021-08-30T00:00:00\", \"y_test\": 106.5999984741211, \"y_pred\": 108.57655820397409, \"label\": \"Actual\", \"predicted_label\": \"Predicted\"}, {\"date\": \"2021-08-31T00:00:00\", \"y_test\": 105.69999694824219, \"y_pred\": 106.81496465609476, \"label\": \"Actual\", \"predicted_label\": \"Predicted\"}, {\"date\": \"2021-09-01T00:00:00\", \"y_test\": 104.15000152587892, \"y_pred\": 106.33589734658374, \"label\": \"Actual\", \"predicted_label\": \"Predicted\"}, {\"date\": \"2021-09-02T00:00:00\", \"y_test\": 109.59999847412108, \"y_pred\": 106.55559569313453, \"label\": \"Actual\", \"predicted_label\": \"Predicted\"}, {\"date\": \"2021-09-03T00:00:00\", \"y_test\": 109.25, \"y_pred\": 110.53567029768483, \"label\": \"Actual\", \"predicted_label\": \"Predicted\"}, {\"date\": \"2021-09-06T00:00:00\", \"y_test\": 108.5999984741211, \"y_pred\": 110.18026657119941, \"label\": \"Actual\", \"predicted_label\": \"Predicted\"}, {\"date\": \"2021-09-07T00:00:00\", \"y_test\": 107.8000030517578, \"y_pred\": 109.96087758516542, \"label\": \"Actual\", \"predicted_label\": \"Predicted\"}, {\"date\": \"2021-09-08T00:00:00\", \"y_test\": 108.0999984741211, \"y_pred\": 109.68313137866811, \"label\": \"Actual\", \"predicted_label\": \"Predicted\"}, {\"date\": \"2021-09-09T00:00:00\", \"y_test\": 108.3000030517578, \"y_pred\": 109.57540592321352, \"label\": \"Actual\", \"predicted_label\": \"Predicted\"}, {\"date\": \"2021-09-13T00:00:00\", \"y_test\": 110.6999969482422, \"y_pred\": 110.4111875237127, \"label\": \"Actual\", \"predicted_label\": \"Predicted\"}, {\"date\": \"2021-09-14T00:00:00\", \"y_test\": 111.5, \"y_pred\": 113.24689915083908, \"label\": \"Actual\", \"predicted_label\": \"Predicted\"}, {\"date\": \"2021-09-15T00:00:00\", \"y_test\": 111.8499984741211, \"y_pred\": 113.22975477896655, \"label\": \"Actual\", \"predicted_label\": \"Predicted\"}, {\"date\": \"2021-09-16T00:00:00\", \"y_test\": 112.40000152587892, \"y_pred\": 113.97332828311548, \"label\": \"Actual\", \"predicted_label\": \"Predicted\"}, {\"date\": \"2021-09-17T00:00:00\", \"y_test\": 112.5, \"y_pred\": 113.46429301998722, \"label\": \"Actual\", \"predicted_label\": \"Predicted\"}, {\"date\": \"2021-09-20T00:00:00\", \"y_test\": 121.0, \"y_pred\": 110.72503848802253, \"label\": \"Actual\", \"predicted_label\": \"Predicted\"}, {\"date\": \"2021-09-21T00:00:00\", \"y_test\": 112.6999969482422, \"y_pred\": 114.91694146994497, \"label\": \"Actual\", \"predicted_label\": \"Predicted\"}, {\"date\": \"2021-09-22T00:00:00\", \"y_test\": 117.4000015258789, \"y_pred\": 116.42420859672082, \"label\": \"Actual\", \"predicted_label\": \"Predicted\"}, {\"date\": \"2021-09-23T00:00:00\", \"y_test\": 124.15000152587889, \"y_pred\": 119.2640016065104, \"label\": \"Actual\", \"predicted_label\": \"Predicted\"}, {\"date\": \"2021-09-24T00:00:00\", \"y_test\": 126.5, \"y_pred\": 128.04681583813095, \"label\": \"Actual\", \"predicted_label\": \"Predicted\"}, {\"date\": \"2021-09-27T00:00:00\", \"y_test\": 150.6999969482422, \"y_pred\": 130.20470789167481, \"label\": \"Actual\", \"predicted_label\": \"Predicted\"}, {\"date\": \"2021-09-28T00:00:00\", \"y_test\": 144.9499969482422, \"y_pred\": 148.7421849486574, \"label\": \"Actual\", \"predicted_label\": \"Predicted\"}, {\"date\": \"2021-09-29T00:00:00\", \"y_test\": 134.8000030517578, \"y_pred\": 135.03632735682493, \"label\": \"Actual\", \"predicted_label\": \"Predicted\"}, {\"date\": \"2021-09-30T00:00:00\", \"y_test\": 131.89999389648438, \"y_pred\": 136.862878073032, \"label\": \"Actual\", \"predicted_label\": \"Predicted\"}, {\"date\": \"2021-10-01T00:00:00\", \"y_test\": 131.39999389648438, \"y_pred\": 135.27478604283587, \"label\": \"Actual\", \"predicted_label\": \"Predicted\"}, {\"date\": \"2021-10-04T00:00:00\", \"y_test\": 134.60000610351562, \"y_pred\": 134.26214508595942, \"label\": \"Actual\", \"predicted_label\": \"Predicted\"}, {\"date\": \"2021-10-05T00:00:00\", \"y_test\": 132.35000610351562, \"y_pred\": 136.17555063112155, \"label\": \"Actual\", \"predicted_label\": \"Predicted\"}, {\"date\": \"2021-10-06T00:00:00\", \"y_test\": 137.5500030517578, \"y_pred\": 139.02889504747782, \"label\": \"Actual\", \"predicted_label\": \"Predicted\"}, {\"date\": \"2021-10-07T00:00:00\", \"y_test\": 137.25, \"y_pred\": 140.47716529347647, \"label\": \"Actual\", \"predicted_label\": \"Predicted\"}, {\"date\": \"2021-10-08T00:00:00\", \"y_test\": 147.35000610351562, \"y_pred\": 144.96826267544003, \"label\": \"Actual\", \"predicted_label\": \"Predicted\"}, {\"date\": \"2021-10-11T00:00:00\", \"y_test\": 147.75, \"y_pred\": 146.62728342560865, \"label\": \"Actual\", \"predicted_label\": \"Predicted\"}, {\"date\": \"2021-10-12T00:00:00\", \"y_test\": 146.05000305175778, \"y_pred\": 150.25162337528135, \"label\": \"Actual\", \"predicted_label\": \"Predicted\"}, {\"date\": \"2021-10-13T00:00:00\", \"y_test\": 143.74999999999997, \"y_pred\": 150.0258790785144, \"label\": \"Actual\", \"predicted_label\": \"Predicted\"}, {\"date\": \"2021-10-14T00:00:00\", \"y_test\": 143.35000610351562, \"y_pred\": 148.3066907941476, \"label\": \"Actual\", \"predicted_label\": \"Predicted\"}, {\"date\": \"2021-10-18T00:00:00\", \"y_test\": 145.5, \"y_pred\": 148.77270898309888, \"label\": \"Actual\", \"predicted_label\": \"Predicted\"}, {\"date\": \"2021-10-19T00:00:00\", \"y_test\": 148.9499969482422, \"y_pred\": 150.4218176859525, \"label\": \"Actual\", \"predicted_label\": \"Predicted\"}, {\"date\": \"2021-10-20T00:00:00\", \"y_test\": 143.60000610351562, \"y_pred\": 145.67224067714875, \"label\": \"Actual\", \"predicted_label\": \"Predicted\"}, {\"date\": \"2021-10-21T00:00:00\", \"y_test\": 144.8000030517578, \"y_pred\": 148.33168301848374, \"label\": \"Actual\", \"predicted_label\": \"Predicted\"}, {\"date\": \"2021-10-22T00:00:00\", \"y_test\": 143.1999969482422, \"y_pred\": 143.85612994536052, \"label\": \"Actual\", \"predicted_label\": \"Predicted\"}, {\"date\": \"2021-10-25T00:00:00\", \"y_test\": 140.8000030517578, \"y_pred\": 142.7885147773767, \"label\": \"Actual\", \"predicted_label\": \"Predicted\"}, {\"date\": \"2021-10-26T00:00:00\", \"y_test\": 144.4499969482422, \"y_pred\": 145.48722258902762, \"label\": \"Actual\", \"predicted_label\": \"Predicted\"}, {\"date\": \"2021-10-27T00:00:00\", \"y_test\": 143.5, \"y_pred\": 144.64674556982564, \"label\": \"Actual\", \"predicted_label\": \"Predicted\"}, {\"date\": \"2021-10-28T00:00:00\", \"y_test\": 143.4499969482422, \"y_pred\": 146.95103309680965, \"label\": \"Actual\", \"predicted_label\": \"Predicted\"}, {\"date\": \"2021-10-29T00:00:00\", \"y_test\": 140.89999389648438, \"y_pred\": 142.828724588411, \"label\": \"Actual\", \"predicted_label\": \"Predicted\"}, {\"date\": \"2021-11-01T00:00:00\", \"y_test\": 141.4499969482422, \"y_pred\": 143.80987837441208, \"label\": \"Actual\", \"predicted_label\": \"Predicted\"}, {\"date\": \"2021-11-02T00:00:00\", \"y_test\": 143.85000610351562, \"y_pred\": 145.57549708513523, \"label\": \"Actual\", \"predicted_label\": \"Predicted\"}, {\"date\": \"2021-11-03T00:00:00\", \"y_test\": 142.4499969482422, \"y_pred\": 145.85530817367865, \"label\": \"Actual\", \"predicted_label\": \"Predicted\"}, {\"date\": \"2021-11-04T00:00:00\", \"y_test\": 142.64999389648438, \"y_pred\": 144.96942053195113, \"label\": \"Actual\", \"predicted_label\": \"Predicted\"}, {\"date\": \"2021-11-08T00:00:00\", \"y_test\": 152.8000030517578, \"y_pred\": 146.10604234664066, \"label\": \"Actual\", \"predicted_label\": \"Predicted\"}, {\"date\": \"2021-11-09T00:00:00\", \"y_test\": 155.0, \"y_pred\": 156.9464325112174, \"label\": \"Actual\", \"predicted_label\": \"Predicted\"}, {\"date\": \"2021-11-10T00:00:00\", \"y_test\": 154.9499969482422, \"y_pred\": 156.53923867164127, \"label\": \"Actual\", \"predicted_label\": \"Predicted\"}, {\"date\": \"2021-11-11T00:00:00\", \"y_test\": 152.39999389648438, \"y_pred\": 156.8635717462034, \"label\": \"Actual\", \"predicted_label\": \"Predicted\"}, {\"date\": \"2021-11-12T00:00:00\", \"y_test\": 148.85000610351562, \"y_pred\": 151.43367043371933, \"label\": \"Actual\", \"predicted_label\": \"Predicted\"}, {\"date\": \"2021-11-15T00:00:00\", \"y_test\": 146.85000610351562, \"y_pred\": 147.17681456549337, \"label\": \"Actual\", \"predicted_label\": \"Predicted\"}, {\"date\": \"2021-11-16T00:00:00\", \"y_test\": 147.64999389648438, \"y_pred\": 149.83069748854845, \"label\": \"Actual\", \"predicted_label\": \"Predicted\"}, {\"date\": \"2021-11-17T00:00:00\", \"y_test\": 145.8000030517578, \"y_pred\": 148.20611951483536, \"label\": \"Actual\", \"predicted_label\": \"Predicted\"}, {\"date\": \"2021-11-18T00:00:00\", \"y_test\": 145.4499969482422, \"y_pred\": 148.84953658188533, \"label\": \"Actual\", \"predicted_label\": \"Predicted\"}, {\"date\": \"2021-11-22T00:00:00\", \"y_test\": 141.75, \"y_pred\": 146.9815954823211, \"label\": \"Actual\", \"predicted_label\": \"Predicted\"}, {\"date\": \"2021-11-23T00:00:00\", \"y_test\": 138.60000610351562, \"y_pred\": 141.51717470135594, \"label\": \"Actual\", \"predicted_label\": \"Predicted\"}, {\"date\": \"2021-11-24T00:00:00\", \"y_test\": 139.60000610351562, \"y_pred\": 141.36391511123296, \"label\": \"Actual\", \"predicted_label\": \"Predicted\"}, {\"date\": \"2021-11-25T00:00:00\", \"y_test\": 138.6999969482422, \"y_pred\": 142.20665075092452, \"label\": \"Actual\", \"predicted_label\": \"Predicted\"}, {\"date\": \"2021-11-26T00:00:00\", \"y_test\": 135.6999969482422, \"y_pred\": 141.98657418508424, \"label\": \"Actual\", \"predicted_label\": \"Predicted\"}, {\"date\": \"2021-11-29T00:00:00\", \"y_test\": 128.3000030517578, \"y_pred\": 131.79276955983056, \"label\": \"Actual\", \"predicted_label\": \"Predicted\"}]}}, {\"mode\": \"vega-lite\"});\n",
       "</script>"
      ],
      "text/plain": [
       "alt.LayerChart(...)"
      ]
     },
     "execution_count": 105,
     "metadata": {},
     "output_type": "execute_result"
    }
   ],
   "source": [
    "import altair as alt\n",
    "\n",
    "alt.themes.enable('fivethirtyeight')\n",
    "\n",
    "predictions_df['date'] = pd.to_datetime(predictions_df['date'])\n",
    "\n",
    "predictions_df['label'] = 'Actual'\n",
    "predictions_df['predicted_label'] = 'Predicted'\n",
    "\n",
    "# Actual high price line\n",
    "line1 = alt.Chart(predictions_df).mark_line(strokeWidth=2).encode(\n",
    "    x='date:T',\n",
    "    y=alt.Y('y_test:Q', title='Price', scale=alt.Scale(zero=False)),\n",
    "    color=alt.Color('label:N', legend=alt.Legend(title=\"Line Type\")),\n",
    "    tooltip=['date', 'y_test', 'y_pred']\n",
    ")\n",
    "\n",
    "# Predicted high price line\n",
    "line2 = alt.Chart(predictions_df).mark_line(strokeWidth=1, strokeDash=[3, 3]).encode(\n",
    "    x='date:T',\n",
    "    y=alt.Y('y_pred:Q', title='', scale=alt.Scale(zero=False)),\n",
    "    color=alt.Color('predicted_label:N', legend=alt.Legend(title=\"Line Type\")),\n",
    "    tooltip=['date', 'y_test', 'y_pred']\n",
    ")\n",
    "\n",
    "# Combine the two lines\n",
    "chart = alt.layer(line1, line2).properties(\n",
    "    title='Actual vs Predicted High Prices',\n",
    "    width=650,\n",
    "    height=400\n",
    ").interactive()\n",
    "\n",
    "chart"
   ]
  },
  {
   "cell_type": "markdown",
   "id": "35969c2f",
   "metadata": {},
   "source": [
    "Repeat the process for the top 100 features without sentiment of EIHOTEL.BO"
   ]
  },
  {
   "cell_type": "code",
   "execution_count": 365,
   "id": "45b0343e",
   "metadata": {},
   "outputs": [],
   "source": [
    "selector = SelectKBest(score_func=f_regression, k=100)"
   ]
  },
  {
   "cell_type": "code",
   "execution_count": 366,
   "id": "fb410352",
   "metadata": {},
   "outputs": [
    {
     "data": {
      "text/html": [
       "<style>#sk-container-id-51 {color: black;background-color: white;}#sk-container-id-51 pre{padding: 0;}#sk-container-id-51 div.sk-toggleable {background-color: white;}#sk-container-id-51 label.sk-toggleable__label {cursor: pointer;display: block;width: 100%;margin-bottom: 0;padding: 0.3em;box-sizing: border-box;text-align: center;}#sk-container-id-51 label.sk-toggleable__label-arrow:before {content: \"▸\";float: left;margin-right: 0.25em;color: #696969;}#sk-container-id-51 label.sk-toggleable__label-arrow:hover:before {color: black;}#sk-container-id-51 div.sk-estimator:hover label.sk-toggleable__label-arrow:before {color: black;}#sk-container-id-51 div.sk-toggleable__content {max-height: 0;max-width: 0;overflow: hidden;text-align: left;background-color: #f0f8ff;}#sk-container-id-51 div.sk-toggleable__content pre {margin: 0.2em;color: black;border-radius: 0.25em;background-color: #f0f8ff;}#sk-container-id-51 input.sk-toggleable__control:checked~div.sk-toggleable__content {max-height: 200px;max-width: 100%;overflow: auto;}#sk-container-id-51 input.sk-toggleable__control:checked~label.sk-toggleable__label-arrow:before {content: \"▾\";}#sk-container-id-51 div.sk-estimator input.sk-toggleable__control:checked~label.sk-toggleable__label {background-color: #d4ebff;}#sk-container-id-51 div.sk-label input.sk-toggleable__control:checked~label.sk-toggleable__label {background-color: #d4ebff;}#sk-container-id-51 input.sk-hidden--visually {border: 0;clip: rect(1px 1px 1px 1px);clip: rect(1px, 1px, 1px, 1px);height: 1px;margin: -1px;overflow: hidden;padding: 0;position: absolute;width: 1px;}#sk-container-id-51 div.sk-estimator {font-family: monospace;background-color: #f0f8ff;border: 1px dotted black;border-radius: 0.25em;box-sizing: border-box;margin-bottom: 0.5em;}#sk-container-id-51 div.sk-estimator:hover {background-color: #d4ebff;}#sk-container-id-51 div.sk-parallel-item::after {content: \"\";width: 100%;border-bottom: 1px solid gray;flex-grow: 1;}#sk-container-id-51 div.sk-label:hover label.sk-toggleable__label {background-color: #d4ebff;}#sk-container-id-51 div.sk-serial::before {content: \"\";position: absolute;border-left: 1px solid gray;box-sizing: border-box;top: 0;bottom: 0;left: 50%;z-index: 0;}#sk-container-id-51 div.sk-serial {display: flex;flex-direction: column;align-items: center;background-color: white;padding-right: 0.2em;padding-left: 0.2em;position: relative;}#sk-container-id-51 div.sk-item {position: relative;z-index: 1;}#sk-container-id-51 div.sk-parallel {display: flex;align-items: stretch;justify-content: center;background-color: white;position: relative;}#sk-container-id-51 div.sk-item::before, #sk-container-id-51 div.sk-parallel-item::before {content: \"\";position: absolute;border-left: 1px solid gray;box-sizing: border-box;top: 0;bottom: 0;left: 50%;z-index: -1;}#sk-container-id-51 div.sk-parallel-item {display: flex;flex-direction: column;z-index: 1;position: relative;background-color: white;}#sk-container-id-51 div.sk-parallel-item:first-child::after {align-self: flex-end;width: 50%;}#sk-container-id-51 div.sk-parallel-item:last-child::after {align-self: flex-start;width: 50%;}#sk-container-id-51 div.sk-parallel-item:only-child::after {width: 0;}#sk-container-id-51 div.sk-dashed-wrapped {border: 1px dashed gray;margin: 0 0.4em 0.5em 0.4em;box-sizing: border-box;padding-bottom: 0.4em;background-color: white;}#sk-container-id-51 div.sk-label label {font-family: monospace;font-weight: bold;display: inline-block;line-height: 1.2em;}#sk-container-id-51 div.sk-label-container {text-align: center;}#sk-container-id-51 div.sk-container {/* jupyter's `normalize.less` sets `[hidden] { display: none; }` but bootstrap.min.css set `[hidden] { display: none !important; }` so we also need the `!important` here to be able to override the default hidden behavior on the sphinx rendered scikit-learn.org. See: https://github.com/scikit-learn/scikit-learn/issues/21755 */display: inline-block !important;position: relative;}#sk-container-id-51 div.sk-text-repr-fallback {display: none;}</style><div id=\"sk-container-id-51\" class=\"sk-top-container\"><div class=\"sk-text-repr-fallback\"><pre>SelectKBest(k=100, score_func=&lt;function f_regression at 0x000001F9DD37FD00&gt;)</pre><b>In a Jupyter environment, please rerun this cell to show the HTML representation or trust the notebook. <br />On GitHub, the HTML representation is unable to render, please try loading this page with nbviewer.org.</b></div><div class=\"sk-container\" hidden><div class=\"sk-item\"><div class=\"sk-estimator sk-toggleable\"><input class=\"sk-toggleable__control sk-hidden--visually\" id=\"sk-estimator-id-51\" type=\"checkbox\" checked><label for=\"sk-estimator-id-51\" class=\"sk-toggleable__label sk-toggleable__label-arrow\">SelectKBest</label><div class=\"sk-toggleable__content\"><pre>SelectKBest(k=100, score_func=&lt;function f_regression at 0x000001F9DD37FD00&gt;)</pre></div></div></div></div></div>"
      ],
      "text/plain": [
       "SelectKBest(k=100, score_func=<function f_regression at 0x000001F9DD37FD00>)"
      ]
     },
     "execution_count": 366,
     "metadata": {},
     "output_type": "execute_result"
    }
   ],
   "source": [
    "selector.fit(X_train, y_train)"
   ]
  },
  {
   "cell_type": "code",
   "execution_count": 367,
   "id": "b042d13c",
   "metadata": {},
   "outputs": [],
   "source": [
    "# Select the top 100 features without sentiment\n",
    "X_train_100_without_sentiment = selector.transform(X_train)\n",
    "X_test_100_without_sentiment = selector.transform(X_test)"
   ]
  },
  {
   "cell_type": "code",
   "execution_count": 368,
   "id": "a47b2ad2",
   "metadata": {},
   "outputs": [
    {
     "data": {
      "text/html": [
       "<style>#sk-container-id-52 {color: black;background-color: white;}#sk-container-id-52 pre{padding: 0;}#sk-container-id-52 div.sk-toggleable {background-color: white;}#sk-container-id-52 label.sk-toggleable__label {cursor: pointer;display: block;width: 100%;margin-bottom: 0;padding: 0.3em;box-sizing: border-box;text-align: center;}#sk-container-id-52 label.sk-toggleable__label-arrow:before {content: \"▸\";float: left;margin-right: 0.25em;color: #696969;}#sk-container-id-52 label.sk-toggleable__label-arrow:hover:before {color: black;}#sk-container-id-52 div.sk-estimator:hover label.sk-toggleable__label-arrow:before {color: black;}#sk-container-id-52 div.sk-toggleable__content {max-height: 0;max-width: 0;overflow: hidden;text-align: left;background-color: #f0f8ff;}#sk-container-id-52 div.sk-toggleable__content pre {margin: 0.2em;color: black;border-radius: 0.25em;background-color: #f0f8ff;}#sk-container-id-52 input.sk-toggleable__control:checked~div.sk-toggleable__content {max-height: 200px;max-width: 100%;overflow: auto;}#sk-container-id-52 input.sk-toggleable__control:checked~label.sk-toggleable__label-arrow:before {content: \"▾\";}#sk-container-id-52 div.sk-estimator input.sk-toggleable__control:checked~label.sk-toggleable__label {background-color: #d4ebff;}#sk-container-id-52 div.sk-label input.sk-toggleable__control:checked~label.sk-toggleable__label {background-color: #d4ebff;}#sk-container-id-52 input.sk-hidden--visually {border: 0;clip: rect(1px 1px 1px 1px);clip: rect(1px, 1px, 1px, 1px);height: 1px;margin: -1px;overflow: hidden;padding: 0;position: absolute;width: 1px;}#sk-container-id-52 div.sk-estimator {font-family: monospace;background-color: #f0f8ff;border: 1px dotted black;border-radius: 0.25em;box-sizing: border-box;margin-bottom: 0.5em;}#sk-container-id-52 div.sk-estimator:hover {background-color: #d4ebff;}#sk-container-id-52 div.sk-parallel-item::after {content: \"\";width: 100%;border-bottom: 1px solid gray;flex-grow: 1;}#sk-container-id-52 div.sk-label:hover label.sk-toggleable__label {background-color: #d4ebff;}#sk-container-id-52 div.sk-serial::before {content: \"\";position: absolute;border-left: 1px solid gray;box-sizing: border-box;top: 0;bottom: 0;left: 50%;z-index: 0;}#sk-container-id-52 div.sk-serial {display: flex;flex-direction: column;align-items: center;background-color: white;padding-right: 0.2em;padding-left: 0.2em;position: relative;}#sk-container-id-52 div.sk-item {position: relative;z-index: 1;}#sk-container-id-52 div.sk-parallel {display: flex;align-items: stretch;justify-content: center;background-color: white;position: relative;}#sk-container-id-52 div.sk-item::before, #sk-container-id-52 div.sk-parallel-item::before {content: \"\";position: absolute;border-left: 1px solid gray;box-sizing: border-box;top: 0;bottom: 0;left: 50%;z-index: -1;}#sk-container-id-52 div.sk-parallel-item {display: flex;flex-direction: column;z-index: 1;position: relative;background-color: white;}#sk-container-id-52 div.sk-parallel-item:first-child::after {align-self: flex-end;width: 50%;}#sk-container-id-52 div.sk-parallel-item:last-child::after {align-self: flex-start;width: 50%;}#sk-container-id-52 div.sk-parallel-item:only-child::after {width: 0;}#sk-container-id-52 div.sk-dashed-wrapped {border: 1px dashed gray;margin: 0 0.4em 0.5em 0.4em;box-sizing: border-box;padding-bottom: 0.4em;background-color: white;}#sk-container-id-52 div.sk-label label {font-family: monospace;font-weight: bold;display: inline-block;line-height: 1.2em;}#sk-container-id-52 div.sk-label-container {text-align: center;}#sk-container-id-52 div.sk-container {/* jupyter's `normalize.less` sets `[hidden] { display: none; }` but bootstrap.min.css set `[hidden] { display: none !important; }` so we also need the `!important` here to be able to override the default hidden behavior on the sphinx rendered scikit-learn.org. See: https://github.com/scikit-learn/scikit-learn/issues/21755 */display: inline-block !important;position: relative;}#sk-container-id-52 div.sk-text-repr-fallback {display: none;}</style><div id=\"sk-container-id-52\" class=\"sk-top-container\"><div class=\"sk-text-repr-fallback\"><pre>RandomForestRegressor()</pre><b>In a Jupyter environment, please rerun this cell to show the HTML representation or trust the notebook. <br />On GitHub, the HTML representation is unable to render, please try loading this page with nbviewer.org.</b></div><div class=\"sk-container\" hidden><div class=\"sk-item\"><div class=\"sk-estimator sk-toggleable\"><input class=\"sk-toggleable__control sk-hidden--visually\" id=\"sk-estimator-id-52\" type=\"checkbox\" checked><label for=\"sk-estimator-id-52\" class=\"sk-toggleable__label sk-toggleable__label-arrow\">RandomForestRegressor</label><div class=\"sk-toggleable__content\"><pre>RandomForestRegressor()</pre></div></div></div></div></div>"
      ],
      "text/plain": [
       "RandomForestRegressor()"
      ]
     },
     "execution_count": 368,
     "metadata": {},
     "output_type": "execute_result"
    }
   ],
   "source": [
    "# Train the model on the top 100 features without sentiment\n",
    "model_100_without_sentiment = RandomForestRegressor()\n",
    "model_100_without_sentiment.fit(X_train_100_without_sentiment, y_train)"
   ]
  },
  {
   "cell_type": "code",
   "execution_count": 369,
   "id": "22bce0ea",
   "metadata": {},
   "outputs": [
    {
     "data": {
      "text/plain": [
       "(1.8066885372463017e-05,\n",
       " 0.9687057984334819,\n",
       " 0.00011609741181401809,\n",
       " 0.7746594673954729)"
      ]
     },
     "execution_count": 369,
     "metadata": {},
     "output_type": "execute_result"
    }
   ],
   "source": [
    "# Predict on the training data\n",
    "y_train_pred_100_without_sentiment = model_100_without_sentiment.predict(X_train_100_without_sentiment)\n",
    "\n",
    "# Predict on the testing data\n",
    "y_test_pred_100_without_sentiment = model_100_without_sentiment.predict(X_test_100_without_sentiment)\n",
    "\n",
    "# Calculate MSE and R^2 for the training data\n",
    "mse_train_100_without_sentiment = mean_squared_error(y_train, y_train_pred_100_without_sentiment)\n",
    "r2_train_100_without_sentiment = r2_score(y_train, y_train_pred_100_without_sentiment)\n",
    "\n",
    "# Calculate MSE and R^2 for the testing data\n",
    "mse_test_100_without_sentiment = mean_squared_error(y_test, y_test_pred_100_without_sentiment)\n",
    "r2_test_100_without_sentiment = r2_score(y_test, y_test_pred_100_without_sentiment)\n",
    "\n",
    "mse_train_100_without_sentiment, r2_train_100_without_sentiment, mse_test_100_without_sentiment, r2_test_100_without_sentiment"
   ]
  },
  {
   "cell_type": "code",
   "execution_count": 370,
   "id": "d0033ede",
   "metadata": {},
   "outputs": [
    {
     "data": {
      "text/plain": [
       "(0.004250515894860648, 0.010774850895210481)"
      ]
     },
     "execution_count": 370,
     "metadata": {},
     "output_type": "execute_result"
    }
   ],
   "source": [
    "# Calculate RMSE for the training data\n",
    "rmse_train_100_without_sentiment = np.sqrt(mse_train_100_without_sentiment)\n",
    "\n",
    "# Calculate RMSE for the testing data\n",
    "rmse_test_100_without_sentiment = np.sqrt(mse_test_100_without_sentiment)\n",
    "\n",
    "rmse_train_100_without_sentiment, rmse_test_100_without_sentiment"
   ]
  },
  {
   "cell_type": "code",
   "execution_count": 379,
   "id": "ce0326b4",
   "metadata": {},
   "outputs": [
    {
     "name": "stdout",
     "output_type": "stream",
     "text": [
      "MAPE for model with top 100 features without sentiment: 78.64%\n",
      "78.63537079382344\n"
     ]
    }
   ],
   "source": [
    "mape_value_100_without_sentiment = mape(y_test, y_test_pred_100_without_sentiment)\n",
    "\n",
    "print(f\"MAPE for model with top 100 features without sentiment: {mape_value_100_without_sentiment:.2f}%\")"
   ]
  },
  {
   "cell_type": "markdown",
   "id": "59396977",
   "metadata": {},
   "source": [
    "Repeat the process for the top 150 features without sentiment of EIHOTEL.BO"
   ]
  },
  {
   "cell_type": "code",
   "execution_count": 372,
   "id": "1fd48b44",
   "metadata": {},
   "outputs": [],
   "source": [
    "selector = SelectKBest(score_func=f_regression, k=150)"
   ]
  },
  {
   "cell_type": "code",
   "execution_count": 373,
   "id": "5936108b",
   "metadata": {},
   "outputs": [
    {
     "data": {
      "text/html": [
       "<style>#sk-container-id-53 {color: black;background-color: white;}#sk-container-id-53 pre{padding: 0;}#sk-container-id-53 div.sk-toggleable {background-color: white;}#sk-container-id-53 label.sk-toggleable__label {cursor: pointer;display: block;width: 100%;margin-bottom: 0;padding: 0.3em;box-sizing: border-box;text-align: center;}#sk-container-id-53 label.sk-toggleable__label-arrow:before {content: \"▸\";float: left;margin-right: 0.25em;color: #696969;}#sk-container-id-53 label.sk-toggleable__label-arrow:hover:before {color: black;}#sk-container-id-53 div.sk-estimator:hover label.sk-toggleable__label-arrow:before {color: black;}#sk-container-id-53 div.sk-toggleable__content {max-height: 0;max-width: 0;overflow: hidden;text-align: left;background-color: #f0f8ff;}#sk-container-id-53 div.sk-toggleable__content pre {margin: 0.2em;color: black;border-radius: 0.25em;background-color: #f0f8ff;}#sk-container-id-53 input.sk-toggleable__control:checked~div.sk-toggleable__content {max-height: 200px;max-width: 100%;overflow: auto;}#sk-container-id-53 input.sk-toggleable__control:checked~label.sk-toggleable__label-arrow:before {content: \"▾\";}#sk-container-id-53 div.sk-estimator input.sk-toggleable__control:checked~label.sk-toggleable__label {background-color: #d4ebff;}#sk-container-id-53 div.sk-label input.sk-toggleable__control:checked~label.sk-toggleable__label {background-color: #d4ebff;}#sk-container-id-53 input.sk-hidden--visually {border: 0;clip: rect(1px 1px 1px 1px);clip: rect(1px, 1px, 1px, 1px);height: 1px;margin: -1px;overflow: hidden;padding: 0;position: absolute;width: 1px;}#sk-container-id-53 div.sk-estimator {font-family: monospace;background-color: #f0f8ff;border: 1px dotted black;border-radius: 0.25em;box-sizing: border-box;margin-bottom: 0.5em;}#sk-container-id-53 div.sk-estimator:hover {background-color: #d4ebff;}#sk-container-id-53 div.sk-parallel-item::after {content: \"\";width: 100%;border-bottom: 1px solid gray;flex-grow: 1;}#sk-container-id-53 div.sk-label:hover label.sk-toggleable__label {background-color: #d4ebff;}#sk-container-id-53 div.sk-serial::before {content: \"\";position: absolute;border-left: 1px solid gray;box-sizing: border-box;top: 0;bottom: 0;left: 50%;z-index: 0;}#sk-container-id-53 div.sk-serial {display: flex;flex-direction: column;align-items: center;background-color: white;padding-right: 0.2em;padding-left: 0.2em;position: relative;}#sk-container-id-53 div.sk-item {position: relative;z-index: 1;}#sk-container-id-53 div.sk-parallel {display: flex;align-items: stretch;justify-content: center;background-color: white;position: relative;}#sk-container-id-53 div.sk-item::before, #sk-container-id-53 div.sk-parallel-item::before {content: \"\";position: absolute;border-left: 1px solid gray;box-sizing: border-box;top: 0;bottom: 0;left: 50%;z-index: -1;}#sk-container-id-53 div.sk-parallel-item {display: flex;flex-direction: column;z-index: 1;position: relative;background-color: white;}#sk-container-id-53 div.sk-parallel-item:first-child::after {align-self: flex-end;width: 50%;}#sk-container-id-53 div.sk-parallel-item:last-child::after {align-self: flex-start;width: 50%;}#sk-container-id-53 div.sk-parallel-item:only-child::after {width: 0;}#sk-container-id-53 div.sk-dashed-wrapped {border: 1px dashed gray;margin: 0 0.4em 0.5em 0.4em;box-sizing: border-box;padding-bottom: 0.4em;background-color: white;}#sk-container-id-53 div.sk-label label {font-family: monospace;font-weight: bold;display: inline-block;line-height: 1.2em;}#sk-container-id-53 div.sk-label-container {text-align: center;}#sk-container-id-53 div.sk-container {/* jupyter's `normalize.less` sets `[hidden] { display: none; }` but bootstrap.min.css set `[hidden] { display: none !important; }` so we also need the `!important` here to be able to override the default hidden behavior on the sphinx rendered scikit-learn.org. See: https://github.com/scikit-learn/scikit-learn/issues/21755 */display: inline-block !important;position: relative;}#sk-container-id-53 div.sk-text-repr-fallback {display: none;}</style><div id=\"sk-container-id-53\" class=\"sk-top-container\"><div class=\"sk-text-repr-fallback\"><pre>SelectKBest(k=150, score_func=&lt;function f_regression at 0x000001F9DD37FD00&gt;)</pre><b>In a Jupyter environment, please rerun this cell to show the HTML representation or trust the notebook. <br />On GitHub, the HTML representation is unable to render, please try loading this page with nbviewer.org.</b></div><div class=\"sk-container\" hidden><div class=\"sk-item\"><div class=\"sk-estimator sk-toggleable\"><input class=\"sk-toggleable__control sk-hidden--visually\" id=\"sk-estimator-id-53\" type=\"checkbox\" checked><label for=\"sk-estimator-id-53\" class=\"sk-toggleable__label sk-toggleable__label-arrow\">SelectKBest</label><div class=\"sk-toggleable__content\"><pre>SelectKBest(k=150, score_func=&lt;function f_regression at 0x000001F9DD37FD00&gt;)</pre></div></div></div></div></div>"
      ],
      "text/plain": [
       "SelectKBest(k=150, score_func=<function f_regression at 0x000001F9DD37FD00>)"
      ]
     },
     "execution_count": 373,
     "metadata": {},
     "output_type": "execute_result"
    }
   ],
   "source": [
    "selector.fit(X_train, y_train)"
   ]
  },
  {
   "cell_type": "code",
   "execution_count": 374,
   "id": "63ab8047",
   "metadata": {},
   "outputs": [],
   "source": [
    "# Select the top 150 features without sentiment\n",
    "X_train_150_without_sentiment = selector.transform(X_train)\n",
    "X_test_150_without_sentiment = selector.transform(X_test)"
   ]
  },
  {
   "cell_type": "code",
   "execution_count": 375,
   "id": "31e01a6a",
   "metadata": {},
   "outputs": [
    {
     "data": {
      "text/html": [
       "<style>#sk-container-id-54 {color: black;background-color: white;}#sk-container-id-54 pre{padding: 0;}#sk-container-id-54 div.sk-toggleable {background-color: white;}#sk-container-id-54 label.sk-toggleable__label {cursor: pointer;display: block;width: 100%;margin-bottom: 0;padding: 0.3em;box-sizing: border-box;text-align: center;}#sk-container-id-54 label.sk-toggleable__label-arrow:before {content: \"▸\";float: left;margin-right: 0.25em;color: #696969;}#sk-container-id-54 label.sk-toggleable__label-arrow:hover:before {color: black;}#sk-container-id-54 div.sk-estimator:hover label.sk-toggleable__label-arrow:before {color: black;}#sk-container-id-54 div.sk-toggleable__content {max-height: 0;max-width: 0;overflow: hidden;text-align: left;background-color: #f0f8ff;}#sk-container-id-54 div.sk-toggleable__content pre {margin: 0.2em;color: black;border-radius: 0.25em;background-color: #f0f8ff;}#sk-container-id-54 input.sk-toggleable__control:checked~div.sk-toggleable__content {max-height: 200px;max-width: 100%;overflow: auto;}#sk-container-id-54 input.sk-toggleable__control:checked~label.sk-toggleable__label-arrow:before {content: \"▾\";}#sk-container-id-54 div.sk-estimator input.sk-toggleable__control:checked~label.sk-toggleable__label {background-color: #d4ebff;}#sk-container-id-54 div.sk-label input.sk-toggleable__control:checked~label.sk-toggleable__label {background-color: #d4ebff;}#sk-container-id-54 input.sk-hidden--visually {border: 0;clip: rect(1px 1px 1px 1px);clip: rect(1px, 1px, 1px, 1px);height: 1px;margin: -1px;overflow: hidden;padding: 0;position: absolute;width: 1px;}#sk-container-id-54 div.sk-estimator {font-family: monospace;background-color: #f0f8ff;border: 1px dotted black;border-radius: 0.25em;box-sizing: border-box;margin-bottom: 0.5em;}#sk-container-id-54 div.sk-estimator:hover {background-color: #d4ebff;}#sk-container-id-54 div.sk-parallel-item::after {content: \"\";width: 100%;border-bottom: 1px solid gray;flex-grow: 1;}#sk-container-id-54 div.sk-label:hover label.sk-toggleable__label {background-color: #d4ebff;}#sk-container-id-54 div.sk-serial::before {content: \"\";position: absolute;border-left: 1px solid gray;box-sizing: border-box;top: 0;bottom: 0;left: 50%;z-index: 0;}#sk-container-id-54 div.sk-serial {display: flex;flex-direction: column;align-items: center;background-color: white;padding-right: 0.2em;padding-left: 0.2em;position: relative;}#sk-container-id-54 div.sk-item {position: relative;z-index: 1;}#sk-container-id-54 div.sk-parallel {display: flex;align-items: stretch;justify-content: center;background-color: white;position: relative;}#sk-container-id-54 div.sk-item::before, #sk-container-id-54 div.sk-parallel-item::before {content: \"\";position: absolute;border-left: 1px solid gray;box-sizing: border-box;top: 0;bottom: 0;left: 50%;z-index: -1;}#sk-container-id-54 div.sk-parallel-item {display: flex;flex-direction: column;z-index: 1;position: relative;background-color: white;}#sk-container-id-54 div.sk-parallel-item:first-child::after {align-self: flex-end;width: 50%;}#sk-container-id-54 div.sk-parallel-item:last-child::after {align-self: flex-start;width: 50%;}#sk-container-id-54 div.sk-parallel-item:only-child::after {width: 0;}#sk-container-id-54 div.sk-dashed-wrapped {border: 1px dashed gray;margin: 0 0.4em 0.5em 0.4em;box-sizing: border-box;padding-bottom: 0.4em;background-color: white;}#sk-container-id-54 div.sk-label label {font-family: monospace;font-weight: bold;display: inline-block;line-height: 1.2em;}#sk-container-id-54 div.sk-label-container {text-align: center;}#sk-container-id-54 div.sk-container {/* jupyter's `normalize.less` sets `[hidden] { display: none; }` but bootstrap.min.css set `[hidden] { display: none !important; }` so we also need the `!important` here to be able to override the default hidden behavior on the sphinx rendered scikit-learn.org. See: https://github.com/scikit-learn/scikit-learn/issues/21755 */display: inline-block !important;position: relative;}#sk-container-id-54 div.sk-text-repr-fallback {display: none;}</style><div id=\"sk-container-id-54\" class=\"sk-top-container\"><div class=\"sk-text-repr-fallback\"><pre>RandomForestRegressor()</pre><b>In a Jupyter environment, please rerun this cell to show the HTML representation or trust the notebook. <br />On GitHub, the HTML representation is unable to render, please try loading this page with nbviewer.org.</b></div><div class=\"sk-container\" hidden><div class=\"sk-item\"><div class=\"sk-estimator sk-toggleable\"><input class=\"sk-toggleable__control sk-hidden--visually\" id=\"sk-estimator-id-54\" type=\"checkbox\" checked><label for=\"sk-estimator-id-54\" class=\"sk-toggleable__label sk-toggleable__label-arrow\">RandomForestRegressor</label><div class=\"sk-toggleable__content\"><pre>RandomForestRegressor()</pre></div></div></div></div></div>"
      ],
      "text/plain": [
       "RandomForestRegressor()"
      ]
     },
     "execution_count": 375,
     "metadata": {},
     "output_type": "execute_result"
    }
   ],
   "source": [
    "# Train the model on the top 150 features without sentiment\n",
    "model_150_without_sentiment = RandomForestRegressor()\n",
    "model_150_without_sentiment.fit(X_train_150_without_sentiment, y_train)"
   ]
  },
  {
   "cell_type": "code",
   "execution_count": 376,
   "id": "09910622",
   "metadata": {},
   "outputs": [
    {
     "data": {
      "text/plain": [
       "(1.7643287217080387e-05,\n",
       " 0.969439525680014,\n",
       " 0.00011351735887073847,\n",
       " 0.779667249182356)"
      ]
     },
     "execution_count": 376,
     "metadata": {},
     "output_type": "execute_result"
    }
   ],
   "source": [
    "# Predict on the training data\n",
    "y_train_pred_150_without_sentiment = model_150_without_sentiment.predict(X_train_150_without_sentiment)\n",
    "\n",
    "# Predict on the testing data\n",
    "y_test_pred_150_without_sentiment = model_150_without_sentiment.predict(X_test_150_without_sentiment)\n",
    "\n",
    "# Calculate MSE and R^2 for the training data\n",
    "mse_train_150_without_sentiment = mean_squared_error(y_train, y_train_pred_150_without_sentiment)\n",
    "r2_train_150_without_sentiment = r2_score(y_train, y_train_pred_150_without_sentiment)\n",
    "\n",
    "# Calculate MSE and R^2 for the testing data\n",
    "mse_test_150_without_sentiment = mean_squared_error(y_test, y_test_pred_150_without_sentiment)\n",
    "r2_test_150_without_sentiment = r2_score(y_test, y_test_pred_150_without_sentiment)\n",
    "\n",
    "mse_train_150_without_sentiment, r2_train_150_without_sentiment, mse_test_150_without_sentiment, r2_test_150_without_sentiment"
   ]
  },
  {
   "cell_type": "code",
   "execution_count": 377,
   "id": "96bc745b",
   "metadata": {},
   "outputs": [
    {
     "data": {
      "text/plain": [
       "(0.0042003913171370574, 0.01065445253735444)"
      ]
     },
     "execution_count": 377,
     "metadata": {},
     "output_type": "execute_result"
    }
   ],
   "source": [
    "# Calculate RMSE for the training data\n",
    "rmse_train_150_without_sentiment = np.sqrt(mse_train_150_without_sentiment)\n",
    "\n",
    "# Calculate RMSE for the testing data\n",
    "rmse_test_150_without_sentiment = np.sqrt(mse_test_150_without_sentiment)\n",
    "\n",
    "rmse_train_150_without_sentiment, rmse_test_150_without_sentiment"
   ]
  },
  {
   "cell_type": "code",
   "execution_count": 378,
   "id": "143dbf50",
   "metadata": {},
   "outputs": [
    {
     "name": "stdout",
     "output_type": "stream",
     "text": [
      "MAPE for model with top 150 features without sentiment: 86.23%\n"
     ]
    }
   ],
   "source": [
    "mape_value_150_without_sentiment = mape(y_test, y_test_pred_150_without_sentiment)\n",
    "\n",
    "print(f\"MAPE for model with top 150 features without sentiment: {mape_value_150_without_sentiment:.2f}%\")"
   ]
  },
  {
   "cell_type": "markdown",
   "id": "01ef2bbb",
   "metadata": {},
   "source": [
    "### An explaination of key features:\n",
    "volume_vwap: Volume Weighted Average Price (VWAP) - an average price based on both volume and price. Commonly used as a benchmark.\n",
    "\n",
    "volume_vpt: Volume Price Trend - it indicates the amount of volume, which can be attributed to the trend's direction.\n",
    "\n",
    "date: Represents the specific date for each data entry.\n",
    "\n",
    "adj close: Adjusted closing price accounts for events such as dividends, stock splits, and new stock offerings.\n",
    "\n",
    "volume_adi: Accumulation/Distribution Index - relates volume to price change.\n",
    "\n",
    "high: The highest price of the stock during a particular period.\n",
    "\n",
    "volatility_bbh: Bollinger Bands High - a volatility indicator, representing the upper band.\n",
    "\n",
    "volume_sma_em: Volume Simple Moving Average Exponential - the exponential moving average of volume.\n",
    "\n",
    "volatility_dcw: Donchian Channel Width - shows the size of the Donchian Channel, indicating volatility.\n",
    "\n",
    "volume_obv: On-Balance Volume - uses volume flow to predict price changes.\n",
    "\n",
    "volume_em: Volume Exponential Moving - the exponential moving average of volume.\n",
    "\n",
    "volume: The number of shares or contracts traded in a stock or an entire market during a given period.\n",
    "\n",
    "volume_fi: Force Index - measures the pressure of either buying or selling.\n",
    "\n",
    "open: The price at which a stock started trading during a particular period.\n",
    "\n",
    "trend_mass_index: Mass Index - identifies reversals when the range widens or narrows.\n",
    "\n",
    "volatility_bbm: Bollinger Bands Middle - the middle band of the Bollinger Bands.\n",
    "\n",
    "volatility_ui: Ulcer Index - measures downside risk.\n",
    "\n",
    "volume_cmf: Chaikin Money Flow - measures the amount of Money Flow Volume over a certain period.\n",
    "\n",
    "volatility_kcw: Keltner Channel Width - shows the width between Keltner Channels, indicating volatility.\n",
    "\n",
    "volatility_kcc: Keltner Channel Central - the middle line of the Keltner Channel.\n",
    "\n",
    "volume_nvi: Negative Volume Index - focuses on periods where volume has decreased from the previous period.\n",
    "\n",
    "volatility_bbli: Bollinger Bands Low Indicator - a volatility indicator, representing the lower band.\n",
    "\n",
    "trend_vortex_ind_diff: Vortex Indicator Difference - shows the difference between VI+ and VI-.\n",
    "\n",
    "volatility_bbw: Bollinger Bandwidth - shows the width between the Bollinger Bands.\n",
    "\n",
    "trend_trix: TRIX - shows the percent rate of change of a triple exponentially smoothed moving average.\n",
    "\n",
    "trend_ema_slow: Exponential Moving Average Slow - places a greater weight and significance on the most recent data points.\n",
    "\n",
    "trend_vortex_ind_pos: Vortex Indicator Positive - an indicator used for spotting trend reversals.\n",
    "\n",
    "volatility_kcl: Keltner Channel Low - the lower band of the Keltner Channel.\n",
    "\n",
    "volatility_atr: Average True Range - measures stock volatility.\n",
    "\n",
    "volatility_bbp: Bollinger Bands Percentage - relates the current price to the Bollinger Bands levels.\n",
    "\n",
    "volatility_kch: Keltner Channel High - the upper band of the Keltner Channel.\n",
    "\n",
    "volatility_kcli: Keltner Channel Low Indicator - the lower channel line of the Keltner Channel.\n",
    "\n",
    "volatility_dcl: Donchian Channel Low - the lowest price of the last 'n' days.\n",
    "\n",
    "volatility_kchi: Keltner Channel High Indicator - the upper channel line of the Keltner Channel.\n",
    "\n",
    "volatility_bbhi: Bollinger Bands High Indicator - indicates if the price is above the upper Bollinger band.\n",
    "\n",
    "trend_macd: Moving Average Convergence Divergence - shows the relationship between two moving averages of a stock’s price.\n",
    "\n",
    "trend_sma_fast: Simple Moving Average Fast - the average stock price over a specific period, giving equal weight to every daily price.\n",
    "\n",
    "trend_sma_slow: Simple Moving Average Slow - similar to SMA fast but considers a longer period.\n",
    "\n",
    "trend_ema_fast: Exponential Moving Average Fast - like SMA but gives more weight to recent prices.\n",
    "\n",
    "volatility_dcm: Donchian Channel Middle - the average of the Donchian high and low.\n",
    "\n",
    "volatility_dch: Donchian Channel High - the highest price of the last 'n' days.\n",
    "\n",
    "trend_macd_diff: The difference between MACD and its signal line.\n",
    "\n",
    "trend_macd_signal: The signal line of the MACD, which is an EMA of the MACD.\n",
    "\n",
    "low: The lowest price of the stock during a particular period.\n",
    "\n",
    "close: The final price at which the stock is traded during a particular period."
   ]
  }
 ],
 "metadata": {
  "kernelspec": {
   "display_name": "Python 3 (ipykernel)",
   "language": "python",
   "name": "python3"
  },
  "language_info": {
   "codemirror_mode": {
    "name": "ipython",
    "version": 3
   },
   "file_extension": ".py",
   "mimetype": "text/x-python",
   "name": "python",
   "nbconvert_exporter": "python",
   "pygments_lexer": "ipython3",
   "version": "3.10.9"
  }
 },
 "nbformat": 4,
 "nbformat_minor": 5
}
