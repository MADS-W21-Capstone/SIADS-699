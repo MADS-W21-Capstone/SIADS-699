{
 "cells": [
  {
   "cell_type": "code",
   "execution_count": 165,
   "id": "7c798fa0",
   "metadata": {},
   "outputs": [],
   "source": [
    "import pandas as pd\n",
    "import seaborn as sns\n",
    "import matplotlib.pyplot as plt\n",
    "import numpy as np\n",
    "\n",
    "from sklearn.model_selection import train_test_split\n",
    "from sklearn.ensemble import RandomForestRegressor\n",
    "from sklearn.feature_selection import SelectFromModel\n",
    "from sklearn.preprocessing import StandardScaler\n",
    "from sklearn.metrics import mean_squared_error, r2_score, mean_absolute_percentage_error\n",
    "from sklearn.feature_selection import SelectKBest, f_regression"
   ]
  },
  {
   "cell_type": "markdown",
   "id": "daaafcb8",
   "metadata": {},
   "source": [
    "### 50/100/150 Feature Selection Analysis wiht Sentiment for EIHOTEL.BO"
   ]
  },
  {
   "cell_type": "code",
   "execution_count": 187,
   "id": "44903f56",
   "metadata": {},
   "outputs": [],
   "source": [
    "df = pd.read_csv('../../datasets/processed_data/combined_features/EIHOTEL.BO.csv')"
   ]
  },
  {
   "cell_type": "code",
   "execution_count": 188,
   "id": "579a04f0",
   "metadata": {},
   "outputs": [
    {
     "data": {
      "text/plain": [
       "Index(['date', 'open', 'close', 'adj close', 'volume', 'low', 'high',\n",
       "       'volume_adi', 'volume_obv', 'volume_cmf',\n",
       "       ...\n",
       "       'inr=x_percent_change', 'cl=f_percent_change',\n",
       "       'treasury_yeild_10_years_percent_change', 'usdx-index_percent_change',\n",
       "       '^nsei_percent_change', '^bsesn_percent_change', '^gspc_percent_change',\n",
       "       'hsi_percent_change', 'sha_percent_change', '^sti_percent_change'],\n",
       "      dtype='object', length=635)"
      ]
     },
     "execution_count": 188,
     "metadata": {},
     "output_type": "execute_result"
    }
   ],
   "source": [
    "df.columns"
   ]
  },
  {
   "cell_type": "code",
   "execution_count": 189,
   "id": "a4e659f3",
   "metadata": {},
   "outputs": [],
   "source": [
    "def create_custom_target(df: pd.DataFrame) -> pd.DataFrame:\n",
    "    \"\"\"\n",
    "    This function creates the custom target price, which is computed as ln(high/yesterday_close)\n",
    "    \"\"\"    \n",
    "    # make a copy of the dataframe so as not to change the original dataframe\n",
    "    data_df = df.copy()\n",
    "    \n",
    "    # create yesterday_close feature as\n",
    "    data_df['yesterday_close'] = data_df['close'].shift(1)\n",
    "    \n",
    "    # create custom target price to predict, computing  ln(high/yesterday_close)\n",
    "    data_df['ln_target'] = np.log(data_df['high'] / data_df['yesterday_close'])\n",
    "    \n",
    "    # as yesterday close would not be available for first day, \n",
    "    # we would not have custom target price for that day, which needs to be excluded \n",
    "    return(data_df.iloc[1:, ])"
   ]
  },
  {
   "cell_type": "code",
   "execution_count": 190,
   "id": "9bb6276c",
   "metadata": {},
   "outputs": [],
   "source": [
    "df = create_custom_target(df)"
   ]
  },
  {
   "cell_type": "code",
   "execution_count": 191,
   "id": "e4a0d873",
   "metadata": {},
   "outputs": [],
   "source": [
    "# Drop cols with NaN values\n",
    "df = df.dropna(axis=1, how='all')\n",
    "df.fillna(method='ffill', inplace=True)"
   ]
  },
  {
   "cell_type": "code",
   "execution_count": 192,
   "id": "c066f054",
   "metadata": {},
   "outputs": [],
   "source": [
    "combined_date_df = df['date']\n",
    "train_date, test_date = train_test_split(combined_date_df, train_size=0.8, shuffle=False)"
   ]
  },
  {
   "cell_type": "code",
   "execution_count": 193,
   "id": "7d3125db",
   "metadata": {},
   "outputs": [],
   "source": [
    "df_without_date = df.drop(columns=[\"date\"])"
   ]
  },
  {
   "cell_type": "code",
   "execution_count": 194,
   "id": "b8b705e9",
   "metadata": {},
   "outputs": [],
   "source": [
    "df_without_date.dropna(inplace=True)"
   ]
  },
  {
   "cell_type": "code",
   "execution_count": 195,
   "id": "d1a10055",
   "metadata": {},
   "outputs": [],
   "source": [
    "def timeseries_to_supervise(df, window_size, target):    \n",
    "    X = []\n",
    "    y = []\n",
    "    indx = []\n",
    "    no_records = len(df)\n",
    "    #     \n",
    "    for i in range(window_size, no_records):\n",
    "        X.append(df.iloc[i-window_size:i].drop(target, axis=1).values.flatten())  # Collect past records as a sequence\n",
    "        y.append(df.iloc[i][target])  # Next record as target variable\n",
    "        indx.append(np.arange(i-window_size, i))\n",
    "\n",
    "    X = pd.DataFrame(X)\n",
    "    y = pd.Series(y)\n",
    "    return(X, y, indx)"
   ]
  },
  {
   "cell_type": "code",
   "execution_count": 196,
   "id": "0d2c84f1",
   "metadata": {},
   "outputs": [],
   "source": [
    "window_size = 10"
   ]
  },
  {
   "cell_type": "code",
   "execution_count": 197,
   "id": "69f26633",
   "metadata": {},
   "outputs": [
    {
     "data": {
      "text/plain": [
       "[616, 618, 619, 621, 623, 622]"
      ]
     },
     "execution_count": 197,
     "metadata": {},
     "output_type": "execute_result"
    }
   ],
   "source": [
    "# do train/test split the data with shuffle = False\n",
    "train_data, test_data = train_test_split(df_without_date, train_size=0.8, shuffle=False)\n",
    "\n",
    "# Identify the indices of the specified sentiment columns in the original dataset\n",
    "sentiment_columns = ['agg_polarity', 'agg_compound', 'topic_polarity', 'topic_compound', 'ticker_polarity', 'ticker_compound']\n",
    "column_indices = [train_data.columns.get_loc(col) for col in sentiment_columns if col in train_data.columns]\n",
    "\n",
    "column_indices"
   ]
  },
  {
   "cell_type": "code",
   "execution_count": 198,
   "id": "26abc452",
   "metadata": {},
   "outputs": [],
   "source": [
    "# convert timeseries to be used in supervise learning model\n",
    "X_train, y_train, indx_train = timeseries_to_supervise(train_data, window_size, 'ln_target')  \n",
    "\n",
    "# convert timeseries to be used in supervise learning model    \n",
    "X_test, y_test, indx_test = timeseries_to_supervise(test_data, window_size, 'ln_target')  "
   ]
  },
  {
   "cell_type": "code",
   "execution_count": 199,
   "id": "b39b57e5",
   "metadata": {},
   "outputs": [],
   "source": [
    "# Use SelectKBest to select the top 44 features\n",
    "selector = SelectKBest(score_func=f_regression, k=44)\n",
    "X_train_44 = selector.fit_transform(X_train, y_train)\n",
    "X_test_44 = selector.transform(X_test)\n",
    "\n",
    "# Determine if the specified columns are among the top 44 features\n",
    "selected_indices = selector.get_support(indices=True)\n",
    "missing_indices = [idx for idx in column_indices if idx not in selected_indices]\n",
    "\n",
    "# Add the specified columns if they are not among the top 44 features\n",
    "for idx in missing_indices:\n",
    "    extracted_column_train = X_train.iloc[:, idx].values.reshape(-1, 1)\n",
    "    extracted_column_test = X_test.iloc[:, idx].values.reshape(-1, 1)\n",
    "    X_train_44 = np.hstack([X_train_44, extracted_column_train])\n",
    "    X_test_44 = np.hstack([X_test_44, extracted_column_test])\n",
    "\n",
    "# If some of the specified columns were already in the top 44, \n",
    "# select additional top features to make the total count 50\n",
    "remaining_indices = [i for i in range(X_train.shape[1]) if i not in selected_indices and i not in missing_indices]\n",
    "num_additional_features_needed = 50 - X_train_44.shape[1]\n",
    "\n",
    "if num_additional_features_needed > 0:\n",
    "    additional_selector = SelectKBest(score_func=f_regression, k=num_additional_features_needed)\n",
    "    additional_selector.fit(X_train.iloc[:, remaining_indices], y_train)\n",
    "    X_train_additional = additional_selector.transform(X_train.iloc[:, remaining_indices])\n",
    "    X_test_additional = additional_selector.transform(X_test.iloc[:, remaining_indices])\n",
    "\n",
    "    X_train_44 = np.hstack([X_train_44, X_train_additional])\n",
    "    X_test_44 = np.hstack([X_test_44, X_test_additional])\n",
    "\n",
    "X_train_50 = X_train_44\n",
    "X_test_50 = X_test_44"
   ]
  },
  {
   "cell_type": "code",
   "execution_count": 200,
   "id": "f1d774dd",
   "metadata": {},
   "outputs": [
    {
     "data": {
      "text/html": [
       "<style>#sk-container-id-14 {color: black;background-color: white;}#sk-container-id-14 pre{padding: 0;}#sk-container-id-14 div.sk-toggleable {background-color: white;}#sk-container-id-14 label.sk-toggleable__label {cursor: pointer;display: block;width: 100%;margin-bottom: 0;padding: 0.3em;box-sizing: border-box;text-align: center;}#sk-container-id-14 label.sk-toggleable__label-arrow:before {content: \"▸\";float: left;margin-right: 0.25em;color: #696969;}#sk-container-id-14 label.sk-toggleable__label-arrow:hover:before {color: black;}#sk-container-id-14 div.sk-estimator:hover label.sk-toggleable__label-arrow:before {color: black;}#sk-container-id-14 div.sk-toggleable__content {max-height: 0;max-width: 0;overflow: hidden;text-align: left;background-color: #f0f8ff;}#sk-container-id-14 div.sk-toggleable__content pre {margin: 0.2em;color: black;border-radius: 0.25em;background-color: #f0f8ff;}#sk-container-id-14 input.sk-toggleable__control:checked~div.sk-toggleable__content {max-height: 200px;max-width: 100%;overflow: auto;}#sk-container-id-14 input.sk-toggleable__control:checked~label.sk-toggleable__label-arrow:before {content: \"▾\";}#sk-container-id-14 div.sk-estimator input.sk-toggleable__control:checked~label.sk-toggleable__label {background-color: #d4ebff;}#sk-container-id-14 div.sk-label input.sk-toggleable__control:checked~label.sk-toggleable__label {background-color: #d4ebff;}#sk-container-id-14 input.sk-hidden--visually {border: 0;clip: rect(1px 1px 1px 1px);clip: rect(1px, 1px, 1px, 1px);height: 1px;margin: -1px;overflow: hidden;padding: 0;position: absolute;width: 1px;}#sk-container-id-14 div.sk-estimator {font-family: monospace;background-color: #f0f8ff;border: 1px dotted black;border-radius: 0.25em;box-sizing: border-box;margin-bottom: 0.5em;}#sk-container-id-14 div.sk-estimator:hover {background-color: #d4ebff;}#sk-container-id-14 div.sk-parallel-item::after {content: \"\";width: 100%;border-bottom: 1px solid gray;flex-grow: 1;}#sk-container-id-14 div.sk-label:hover label.sk-toggleable__label {background-color: #d4ebff;}#sk-container-id-14 div.sk-serial::before {content: \"\";position: absolute;border-left: 1px solid gray;box-sizing: border-box;top: 0;bottom: 0;left: 50%;z-index: 0;}#sk-container-id-14 div.sk-serial {display: flex;flex-direction: column;align-items: center;background-color: white;padding-right: 0.2em;padding-left: 0.2em;position: relative;}#sk-container-id-14 div.sk-item {position: relative;z-index: 1;}#sk-container-id-14 div.sk-parallel {display: flex;align-items: stretch;justify-content: center;background-color: white;position: relative;}#sk-container-id-14 div.sk-item::before, #sk-container-id-14 div.sk-parallel-item::before {content: \"\";position: absolute;border-left: 1px solid gray;box-sizing: border-box;top: 0;bottom: 0;left: 50%;z-index: -1;}#sk-container-id-14 div.sk-parallel-item {display: flex;flex-direction: column;z-index: 1;position: relative;background-color: white;}#sk-container-id-14 div.sk-parallel-item:first-child::after {align-self: flex-end;width: 50%;}#sk-container-id-14 div.sk-parallel-item:last-child::after {align-self: flex-start;width: 50%;}#sk-container-id-14 div.sk-parallel-item:only-child::after {width: 0;}#sk-container-id-14 div.sk-dashed-wrapped {border: 1px dashed gray;margin: 0 0.4em 0.5em 0.4em;box-sizing: border-box;padding-bottom: 0.4em;background-color: white;}#sk-container-id-14 div.sk-label label {font-family: monospace;font-weight: bold;display: inline-block;line-height: 1.2em;}#sk-container-id-14 div.sk-label-container {text-align: center;}#sk-container-id-14 div.sk-container {/* jupyter's `normalize.less` sets `[hidden] { display: none; }` but bootstrap.min.css set `[hidden] { display: none !important; }` so we also need the `!important` here to be able to override the default hidden behavior on the sphinx rendered scikit-learn.org. See: https://github.com/scikit-learn/scikit-learn/issues/21755 */display: inline-block !important;position: relative;}#sk-container-id-14 div.sk-text-repr-fallback {display: none;}</style><div id=\"sk-container-id-14\" class=\"sk-top-container\"><div class=\"sk-text-repr-fallback\"><pre>RandomForestRegressor(min_samples_leaf=2, n_estimators=200)</pre><b>In a Jupyter environment, please rerun this cell to show the HTML representation or trust the notebook. <br />On GitHub, the HTML representation is unable to render, please try loading this page with nbviewer.org.</b></div><div class=\"sk-container\" hidden><div class=\"sk-item\"><div class=\"sk-estimator sk-toggleable\"><input class=\"sk-toggleable__control sk-hidden--visually\" id=\"sk-estimator-id-14\" type=\"checkbox\" checked><label for=\"sk-estimator-id-14\" class=\"sk-toggleable__label sk-toggleable__label-arrow\">RandomForestRegressor</label><div class=\"sk-toggleable__content\"><pre>RandomForestRegressor(min_samples_leaf=2, n_estimators=200)</pre></div></div></div></div></div>"
      ],
      "text/plain": [
       "RandomForestRegressor(min_samples_leaf=2, n_estimators=200)"
      ]
     },
     "execution_count": 200,
     "metadata": {},
     "output_type": "execute_result"
    }
   ],
   "source": [
    "# Train the model on the top 50 features\n",
    "model_50 = RandomForestRegressor(\n",
    "    n_estimators=200,\n",
    "    min_samples_split=2,\n",
    "    min_samples_leaf=2,\n",
    "    bootstrap=True\n",
    ")\n",
    "model_50.fit(X_train_50, y_train)"
   ]
  },
  {
   "cell_type": "code",
   "execution_count": 201,
   "id": "84be092c",
   "metadata": {},
   "outputs": [],
   "source": [
    "def convert_custom_target_to_actual_for_supervise(df: pd.DataFrame, window: int, y: \"pd.Series[int]\") -> \"pd.Series[int]\":\n",
    "    \"\"\"\n",
    "    this module converts custom target - ln(high/yesterday_close) to actual high price again for timeseries converted data using rolling window of size 10\n",
    "    \"\"\"\n",
    "    data_df = df.copy()\n",
    "    \n",
    "    # exclude first 10 rows of train/test data, as while us\n",
    "    \n",
    "    y = np.exp(y) * data_df.loc[data_df.index[window:], 'yesterday_close'].reset_index(drop=True)\n",
    "    return(y)    "
   ]
  },
  {
   "cell_type": "code",
   "execution_count": 202,
   "id": "c0037cf4",
   "metadata": {},
   "outputs": [],
   "source": [
    "def evaluate_model(model, window, test_data, test_date, X_test, y_test):\n",
    "    \n",
    "    # do target prediction using the provide model\n",
    "    y_pred = model.predict(X_test)\n",
    "\n",
    "    # convert back to original value, before computing mape            \n",
    "    y_test = convert_custom_target_to_actual_for_supervise(test_data, window, y_test)\n",
    "    y_pred = convert_custom_target_to_actual_for_supervise(test_data, window, y_pred)\n",
    "\n",
    "    test_dates = test_date[window:].reset_index(drop=True)\n",
    "    predictions_df = pd.DataFrame({'date': test_dates, 'y_test': y_test, 'y_pred': y_pred})\n",
    "\n",
    "    # compute regression metric - mape \n",
    "    mape = mean_absolute_percentage_error(y_test, y_pred)\n",
    "\n",
    "    # compute rmse metric\n",
    "    rmse = mean_squared_error(y_test, y_pred, squared=False)        \n",
    "    return(predictions_df, mape, rmse)"
   ]
  },
  {
   "cell_type": "code",
   "execution_count": 203,
   "id": "1e1f37f8",
   "metadata": {},
   "outputs": [],
   "source": [
    "predictions_df, mape, rmse = evaluate_model(model_50, window_size, test_data, test_date, X_test_50, y_test)"
   ]
  },
  {
   "cell_type": "code",
   "execution_count": 204,
   "id": "5315c849",
   "metadata": {},
   "outputs": [
    {
     "data": {
      "text/plain": [
       "(           date      y_test      y_pred\n",
       " 0    2020-06-23   74.900002   74.200981\n",
       " 1    2020-06-24   74.949997   77.843404\n",
       " 2    2020-06-25   68.900002   72.411023\n",
       " 3    2020-06-26   69.000000   69.705739\n",
       " 4    2020-06-29   68.750000   68.643302\n",
       " ..          ...         ...         ...\n",
       " 722  2023-05-24  205.600006  205.035468\n",
       " 723  2023-05-25  215.850006  205.059525\n",
       " 724  2023-05-26  207.699997  211.208415\n",
       " 725  2023-05-30  207.850006  210.837331\n",
       " 726  2023-05-31  210.750000  212.903940\n",
       " \n",
       " [727 rows x 3 columns],\n",
       " 0.02269160865282945,\n",
       " 3.8902816054724156)"
      ]
     },
     "execution_count": 204,
     "metadata": {},
     "output_type": "execute_result"
    }
   ],
   "source": [
    "predictions_df, mape, rmse"
   ]
  },
  {
   "cell_type": "code",
   "execution_count": 205,
   "id": "94d27381",
   "metadata": {},
   "outputs": [
    {
     "name": "stdout",
     "output_type": "stream",
     "text": [
      "MAPE for model with top 50 features: 2.27%\n"
     ]
    }
   ],
   "source": [
    "print(f\"MAPE for model with top 50 features: {mape*100:.2f}%\")"
   ]
  },
  {
   "cell_type": "code",
   "execution_count": 207,
   "id": "ac76dc1e",
   "metadata": {},
   "outputs": [],
   "source": [
    "predictions_df.to_csv(\"rf_EIHOTEL.csv\", index=False)"
   ]
  },
  {
   "cell_type": "code",
   "execution_count": 186,
   "id": "654fdc3d",
   "metadata": {},
   "outputs": [
    {
     "data": {
      "text/html": [
       "\n",
       "<style>\n",
       "  #altair-viz-c70a2120830e455a9b23e49d045c8ba4.vega-embed {\n",
       "    width: 100%;\n",
       "    display: flex;\n",
       "  }\n",
       "\n",
       "  #altair-viz-c70a2120830e455a9b23e49d045c8ba4.vega-embed details,\n",
       "  #altair-viz-c70a2120830e455a9b23e49d045c8ba4.vega-embed details summary {\n",
       "    position: relative;\n",
       "  }\n",
       "</style>\n",
       "<div id=\"altair-viz-c70a2120830e455a9b23e49d045c8ba4\"></div>\n",
       "<script type=\"text/javascript\">\n",
       "  var VEGA_DEBUG = (typeof VEGA_DEBUG == \"undefined\") ? {} : VEGA_DEBUG;\n",
       "  (function(spec, embedOpt){\n",
       "    let outputDiv = document.currentScript.previousElementSibling;\n",
       "    if (outputDiv.id !== \"altair-viz-c70a2120830e455a9b23e49d045c8ba4\") {\n",
       "      outputDiv = document.getElementById(\"altair-viz-c70a2120830e455a9b23e49d045c8ba4\");\n",
       "    }\n",
       "    const paths = {\n",
       "      \"vega\": \"https://cdn.jsdelivr.net/npm/vega@5?noext\",\n",
       "      \"vega-lib\": \"https://cdn.jsdelivr.net/npm/vega-lib?noext\",\n",
       "      \"vega-lite\": \"https://cdn.jsdelivr.net/npm/vega-lite@5.8.0?noext\",\n",
       "      \"vega-embed\": \"https://cdn.jsdelivr.net/npm/vega-embed@6?noext\",\n",
       "    };\n",
       "\n",
       "    function maybeLoadScript(lib, version) {\n",
       "      var key = `${lib.replace(\"-\", \"\")}_version`;\n",
       "      return (VEGA_DEBUG[key] == version) ?\n",
       "        Promise.resolve(paths[lib]) :\n",
       "        new Promise(function(resolve, reject) {\n",
       "          var s = document.createElement('script');\n",
       "          document.getElementsByTagName(\"head\")[0].appendChild(s);\n",
       "          s.async = true;\n",
       "          s.onload = () => {\n",
       "            VEGA_DEBUG[key] = version;\n",
       "            return resolve(paths[lib]);\n",
       "          };\n",
       "          s.onerror = () => reject(`Error loading script: ${paths[lib]}`);\n",
       "          s.src = paths[lib];\n",
       "        });\n",
       "    }\n",
       "\n",
       "    function showError(err) {\n",
       "      outputDiv.innerHTML = `<div class=\"error\" style=\"color:red;\">${err}</div>`;\n",
       "      throw err;\n",
       "    }\n",
       "\n",
       "    function displayChart(vegaEmbed) {\n",
       "      vegaEmbed(outputDiv, spec, embedOpt)\n",
       "        .catch(err => showError(`Javascript Error: ${err.message}<br>This usually means there's a typo in your chart specification. See the javascript console for the full traceback.`));\n",
       "    }\n",
       "\n",
       "    if(typeof define === \"function\" && define.amd) {\n",
       "      requirejs.config({paths});\n",
       "      require([\"vega-embed\"], displayChart, err => showError(`Error loading script: ${err.message}`));\n",
       "    } else {\n",
       "      maybeLoadScript(\"vega\", \"5\")\n",
       "        .then(() => maybeLoadScript(\"vega-lite\", \"5.8.0\"))\n",
       "        .then(() => maybeLoadScript(\"vega-embed\", \"6\"))\n",
       "        .catch(showError)\n",
       "        .then(() => displayChart(vegaEmbed));\n",
       "    }\n",
       "  })({\"usermeta\": {\"embedOptions\": {\"theme\": \"fivethirtyeight\"}}, \"config\": {\"view\": {\"continuousWidth\": 300, \"continuousHeight\": 300}}, \"layer\": [{\"mark\": {\"type\": \"line\", \"strokeWidth\": 2}, \"encoding\": {\"color\": {\"field\": \"label\", \"legend\": {\"title\": \"Line Type\"}, \"type\": \"nominal\"}, \"tooltip\": [{\"field\": \"date\", \"type\": \"temporal\"}, {\"field\": \"y_test\", \"type\": \"quantitative\"}, {\"field\": \"y_pred\", \"type\": \"quantitative\"}], \"x\": {\"field\": \"date\", \"type\": \"temporal\"}, \"y\": {\"field\": \"y_test\", \"scale\": {\"zero\": false}, \"title\": \"Price\", \"type\": \"quantitative\"}}, \"name\": \"view_8\"}, {\"mark\": {\"type\": \"line\", \"strokeDash\": [3, 3], \"strokeWidth\": 1}, \"encoding\": {\"color\": {\"field\": \"predicted_label\", \"legend\": {\"title\": \"Line Type\"}, \"type\": \"nominal\"}, \"tooltip\": [{\"field\": \"date\", \"type\": \"temporal\"}, {\"field\": \"y_test\", \"type\": \"quantitative\"}, {\"field\": \"y_pred\", \"type\": \"quantitative\"}], \"x\": {\"field\": \"date\", \"type\": \"temporal\"}, \"y\": {\"field\": \"y_pred\", \"scale\": {\"zero\": false}, \"title\": \"\", \"type\": \"quantitative\"}}}], \"data\": {\"name\": \"data-901d465d6d2ac945ecafe487c00127e5\"}, \"height\": 400, \"params\": [{\"name\": \"param_8\", \"select\": {\"type\": \"interval\", \"encodings\": [\"x\", \"y\"]}, \"bind\": \"scales\", \"views\": [\"view_8\"]}], \"title\": \"Actual vs Predicted High Prices\", \"width\": 650, \"$schema\": \"https://vega.github.io/schema/vega-lite/v5.8.0.json\", \"datasets\": {\"data-901d465d6d2ac945ecafe487c00127e5\": [{\"date\": \"2020-06-23T00:00:00\", \"y_test\": 74.9000015258789, \"y_pred\": 74.06856412013565, \"label\": \"Actual\", \"predicted_label\": \"Predicted\"}, {\"date\": \"2020-06-24T00:00:00\", \"y_test\": 74.94999694824219, \"y_pred\": 77.614767931473, \"label\": \"Actual\", \"predicted_label\": \"Predicted\"}, {\"date\": \"2020-06-25T00:00:00\", \"y_test\": 68.9000015258789, \"y_pred\": 72.27954610404265, \"label\": \"Actual\", \"predicted_label\": \"Predicted\"}, {\"date\": \"2020-06-26T00:00:00\", \"y_test\": 69.0, \"y_pred\": 69.86406147409755, \"label\": \"Actual\", \"predicted_label\": \"Predicted\"}, {\"date\": \"2020-06-29T00:00:00\", \"y_test\": 68.75, \"y_pred\": 68.62333186870404, \"label\": \"Actual\", \"predicted_label\": \"Predicted\"}, {\"date\": \"2020-06-30T00:00:00\", \"y_test\": 65.44999694824219, \"y_pred\": 67.33463452248209, \"label\": \"Actual\", \"predicted_label\": \"Predicted\"}, {\"date\": \"2020-07-01T00:00:00\", \"y_test\": 64.75, \"y_pred\": 66.18383060135702, \"label\": \"Actual\", \"predicted_label\": \"Predicted\"}, {\"date\": \"2020-07-02T00:00:00\", \"y_test\": 67.4000015258789, \"y_pred\": 67.1394556073015, \"label\": \"Actual\", \"predicted_label\": \"Predicted\"}, {\"date\": \"2020-07-06T00:00:00\", \"y_test\": 67.1500015258789, \"y_pred\": 68.51642583820941, \"label\": \"Actual\", \"predicted_label\": \"Predicted\"}, {\"date\": \"2020-07-07T00:00:00\", \"y_test\": 68.69999694824219, \"y_pred\": 68.88376072304351, \"label\": \"Actual\", \"predicted_label\": \"Predicted\"}, {\"date\": \"2020-07-08T00:00:00\", \"y_test\": 70.3499984741211, \"y_pred\": 70.73158401696091, \"label\": \"Actual\", \"predicted_label\": \"Predicted\"}, {\"date\": \"2020-07-09T00:00:00\", \"y_test\": 67.6500015258789, \"y_pred\": 69.76042585303547, \"label\": \"Actual\", \"predicted_label\": \"Predicted\"}, {\"date\": \"2020-07-10T00:00:00\", \"y_test\": 66.55000305175781, \"y_pred\": 68.68891583760409, \"label\": \"Actual\", \"predicted_label\": \"Predicted\"}, {\"date\": \"2020-07-13T00:00:00\", \"y_test\": 66.80000305175781, \"y_pred\": 68.84766056269856, \"label\": \"Actual\", \"predicted_label\": \"Predicted\"}, {\"date\": \"2020-07-14T00:00:00\", \"y_test\": 66.8499984741211, \"y_pred\": 67.6877713323115, \"label\": \"Actual\", \"predicted_label\": \"Predicted\"}, {\"date\": \"2020-07-15T00:00:00\", \"y_test\": 65.0, \"y_pred\": 65.41659601294495, \"label\": \"Actual\", \"predicted_label\": \"Predicted\"}, {\"date\": \"2020-07-16T00:00:00\", \"y_test\": 63.70000076293945, \"y_pred\": 64.72425955511446, \"label\": \"Actual\", \"predicted_label\": \"Predicted\"}, {\"date\": \"2020-07-17T00:00:00\", \"y_test\": 62.700000762939446, \"y_pred\": 64.64388792074497, \"label\": \"Actual\", \"predicted_label\": \"Predicted\"}, {\"date\": \"2020-07-20T00:00:00\", \"y_test\": 62.900001525878906, \"y_pred\": 63.35360031434739, \"label\": \"Actual\", \"predicted_label\": \"Predicted\"}, {\"date\": \"2020-07-21T00:00:00\", \"y_test\": 62.5, \"y_pred\": 62.06916159264114, \"label\": \"Actual\", \"predicted_label\": \"Predicted\"}, {\"date\": \"2020-07-22T00:00:00\", \"y_test\": 63.25, \"y_pred\": 63.28747632065964, \"label\": \"Actual\", \"predicted_label\": \"Predicted\"}, {\"date\": \"2020-07-23T00:00:00\", \"y_test\": 63.20000076293946, \"y_pred\": 64.4989957980232, \"label\": \"Actual\", \"predicted_label\": \"Predicted\"}, {\"date\": \"2020-07-24T00:00:00\", \"y_test\": 62.5, \"y_pred\": 64.53749548624029, \"label\": \"Actual\", \"predicted_label\": \"Predicted\"}, {\"date\": \"2020-07-27T00:00:00\", \"y_test\": 62.0, \"y_pred\": 62.99600894346735, \"label\": \"Actual\", \"predicted_label\": \"Predicted\"}, {\"date\": \"2020-07-28T00:00:00\", \"y_test\": 60.59999847412109, \"y_pred\": 62.28983404752209, \"label\": \"Actual\", \"predicted_label\": \"Predicted\"}, {\"date\": \"2020-07-29T00:00:00\", \"y_test\": 61.09999847412108, \"y_pred\": 62.04581152171045, \"label\": \"Actual\", \"predicted_label\": \"Predicted\"}, {\"date\": \"2020-07-30T00:00:00\", \"y_test\": 65.6500015258789, \"y_pred\": 61.69443662158569, \"label\": \"Actual\", \"predicted_label\": \"Predicted\"}, {\"date\": \"2020-07-31T00:00:00\", \"y_test\": 67.25, \"y_pred\": 67.76090449902128, \"label\": \"Actual\", \"predicted_label\": \"Predicted\"}, {\"date\": \"2020-08-03T00:00:00\", \"y_test\": 68.6500015258789, \"y_pred\": 67.17049863792617, \"label\": \"Actual\", \"predicted_label\": \"Predicted\"}, {\"date\": \"2020-08-04T00:00:00\", \"y_test\": 66.80000305175781, \"y_pred\": 68.2961590818156, \"label\": \"Actual\", \"predicted_label\": \"Predicted\"}, {\"date\": \"2020-08-05T00:00:00\", \"y_test\": 65.80000305175781, \"y_pred\": 67.47840758457046, \"label\": \"Actual\", \"predicted_label\": \"Predicted\"}, {\"date\": \"2020-08-06T00:00:00\", \"y_test\": 68.5, \"y_pred\": 67.37037996158882, \"label\": \"Actual\", \"predicted_label\": \"Predicted\"}, {\"date\": \"2020-08-07T00:00:00\", \"y_test\": 69.9000015258789, \"y_pred\": 70.02662864331161, \"label\": \"Actual\", \"predicted_label\": \"Predicted\"}, {\"date\": \"2020-08-10T00:00:00\", \"y_test\": 70.5999984741211, \"y_pred\": 71.61196494215777, \"label\": \"Actual\", \"predicted_label\": \"Predicted\"}, {\"date\": \"2020-08-11T00:00:00\", \"y_test\": 69.5, \"y_pred\": 71.06104692998363, \"label\": \"Actual\", \"predicted_label\": \"Predicted\"}, {\"date\": \"2020-08-12T00:00:00\", \"y_test\": 69.30000305175781, \"y_pred\": 69.70465760368359, \"label\": \"Actual\", \"predicted_label\": \"Predicted\"}, {\"date\": \"2020-08-13T00:00:00\", \"y_test\": 77.25, \"y_pred\": 70.77340643603624, \"label\": \"Actual\", \"predicted_label\": \"Predicted\"}, {\"date\": \"2020-08-14T00:00:00\", \"y_test\": 80.30000305175781, \"y_pred\": 79.64777922958507, \"label\": \"Actual\", \"predicted_label\": \"Predicted\"}, {\"date\": \"2020-08-17T00:00:00\", \"y_test\": 81.0, \"y_pred\": 78.24821876268243, \"label\": \"Actual\", \"predicted_label\": \"Predicted\"}, {\"date\": \"2020-08-18T00:00:00\", \"y_test\": 84.4000015258789, \"y_pred\": 82.26179654515232, \"label\": \"Actual\", \"predicted_label\": \"Predicted\"}, {\"date\": \"2020-08-19T00:00:00\", \"y_test\": 82.4499969482422, \"y_pred\": 85.46894642086127, \"label\": \"Actual\", \"predicted_label\": \"Predicted\"}, {\"date\": \"2020-08-20T00:00:00\", \"y_test\": 89.80000305175781, \"y_pred\": 85.79204349248714, \"label\": \"Actual\", \"predicted_label\": \"Predicted\"}, {\"date\": \"2020-08-21T00:00:00\", \"y_test\": 96.40000152587889, \"y_pred\": 94.13000418244428, \"label\": \"Actual\", \"predicted_label\": \"Predicted\"}, {\"date\": \"2020-08-24T00:00:00\", \"y_test\": 94.4000015258789, \"y_pred\": 98.41705218773852, \"label\": \"Actual\", \"predicted_label\": \"Predicted\"}, {\"date\": \"2020-08-25T00:00:00\", \"y_test\": 93.34999847412111, \"y_pred\": 98.42144302615941, \"label\": \"Actual\", \"predicted_label\": \"Predicted\"}, {\"date\": \"2020-08-26T00:00:00\", \"y_test\": 90.5500030517578, \"y_pred\": 95.76422361361026, \"label\": \"Actual\", \"predicted_label\": \"Predicted\"}, {\"date\": \"2020-08-27T00:00:00\", \"y_test\": 93.9000015258789, \"y_pred\": 95.70259876647613, \"label\": \"Actual\", \"predicted_label\": \"Predicted\"}, {\"date\": \"2020-08-28T00:00:00\", \"y_test\": 94.9000015258789, \"y_pred\": 98.63769695372781, \"label\": \"Actual\", \"predicted_label\": \"Predicted\"}, {\"date\": \"2020-08-31T00:00:00\", \"y_test\": 95.80000305175778, \"y_pred\": 99.66582411622542, \"label\": \"Actual\", \"predicted_label\": \"Predicted\"}, {\"date\": \"2020-09-01T00:00:00\", \"y_test\": 92.0, \"y_pred\": 94.07659647981203, \"label\": \"Actual\", \"predicted_label\": \"Predicted\"}, {\"date\": \"2020-09-02T00:00:00\", \"y_test\": 89.8499984741211, \"y_pred\": 94.74890132508916, \"label\": \"Actual\", \"predicted_label\": \"Predicted\"}, {\"date\": \"2020-09-03T00:00:00\", \"y_test\": 88.1500015258789, \"y_pred\": 93.01987506538173, \"label\": \"Actual\", \"predicted_label\": \"Predicted\"}, {\"date\": \"2020-09-04T00:00:00\", \"y_test\": 88.5, \"y_pred\": 91.92498256723371, \"label\": \"Actual\", \"predicted_label\": \"Predicted\"}, {\"date\": \"2020-09-07T00:00:00\", \"y_test\": 88.0, \"y_pred\": 93.19810166056676, \"label\": \"Actual\", \"predicted_label\": \"Predicted\"}, {\"date\": \"2020-09-08T00:00:00\", \"y_test\": 86.69999694824219, \"y_pred\": 88.96657038116633, \"label\": \"Actual\", \"predicted_label\": \"Predicted\"}, {\"date\": \"2020-09-09T00:00:00\", \"y_test\": 83.1500015258789, \"y_pred\": 88.71865517148558, \"label\": \"Actual\", \"predicted_label\": \"Predicted\"}, {\"date\": \"2020-09-10T00:00:00\", \"y_test\": 85.19999694824217, \"y_pred\": 85.22781147605794, \"label\": \"Actual\", \"predicted_label\": \"Predicted\"}, {\"date\": \"2020-09-11T00:00:00\", \"y_test\": 86.59999847412111, \"y_pred\": 87.23626713069828, \"label\": \"Actual\", \"predicted_label\": \"Predicted\"}, {\"date\": \"2020-09-14T00:00:00\", \"y_test\": 90.1999969482422, \"y_pred\": 88.39271057565769, \"label\": \"Actual\", \"predicted_label\": \"Predicted\"}, {\"date\": \"2020-09-15T00:00:00\", \"y_test\": 91.5999984741211, \"y_pred\": 92.56853281432373, \"label\": \"Actual\", \"predicted_label\": \"Predicted\"}, {\"date\": \"2020-09-16T00:00:00\", \"y_test\": 89.5, \"y_pred\": 90.73100305105937, \"label\": \"Actual\", \"predicted_label\": \"Predicted\"}, {\"date\": \"2020-09-17T00:00:00\", \"y_test\": 88.44999694824219, \"y_pred\": 91.99654767410638, \"label\": \"Actual\", \"predicted_label\": \"Predicted\"}, {\"date\": \"2020-09-18T00:00:00\", \"y_test\": 89.75, \"y_pred\": 89.9065419039731, \"label\": \"Actual\", \"predicted_label\": \"Predicted\"}, {\"date\": \"2020-09-21T00:00:00\", \"y_test\": 87.0, \"y_pred\": 89.82628904473792, \"label\": \"Actual\", \"predicted_label\": \"Predicted\"}, {\"date\": \"2020-09-22T00:00:00\", \"y_test\": 82.0999984741211, \"y_pred\": 86.84711832195322, \"label\": \"Actual\", \"predicted_label\": \"Predicted\"}, {\"date\": \"2020-09-23T00:00:00\", \"y_test\": 80.5999984741211, \"y_pred\": 80.6294139823484, \"label\": \"Actual\", \"predicted_label\": \"Predicted\"}, {\"date\": \"2020-09-24T00:00:00\", \"y_test\": 77.6500015258789, \"y_pred\": 82.10127766996685, \"label\": \"Actual\", \"predicted_label\": \"Predicted\"}, {\"date\": \"2020-09-25T00:00:00\", \"y_test\": 79.0, \"y_pred\": 77.83709593429548, \"label\": \"Actual\", \"predicted_label\": \"Predicted\"}, {\"date\": \"2020-09-28T00:00:00\", \"y_test\": 83.75, \"y_pred\": 81.13674607506458, \"label\": \"Actual\", \"predicted_label\": \"Predicted\"}, {\"date\": \"2020-09-29T00:00:00\", \"y_test\": 84.59999847412111, \"y_pred\": 85.58129060075666, \"label\": \"Actual\", \"predicted_label\": \"Predicted\"}, {\"date\": \"2020-09-30T00:00:00\", \"y_test\": 83.05000305175781, \"y_pred\": 84.83812241182814, \"label\": \"Actual\", \"predicted_label\": \"Predicted\"}, {\"date\": \"2020-10-01T00:00:00\", \"y_test\": 84.4000015258789, \"y_pred\": 84.03559542121111, \"label\": \"Actual\", \"predicted_label\": \"Predicted\"}, {\"date\": \"2020-10-05T00:00:00\", \"y_test\": 84.90000152587892, \"y_pred\": 86.89075260060498, \"label\": \"Actual\", \"predicted_label\": \"Predicted\"}, {\"date\": \"2020-10-06T00:00:00\", \"y_test\": 82.1500015258789, \"y_pred\": 84.85332823639845, \"label\": \"Actual\", \"predicted_label\": \"Predicted\"}, {\"date\": \"2020-10-07T00:00:00\", \"y_test\": 80.0, \"y_pred\": 83.04303684300817, \"label\": \"Actual\", \"predicted_label\": \"Predicted\"}, {\"date\": \"2020-10-08T00:00:00\", \"y_test\": 80.00000000000001, \"y_pred\": 81.80321072398438, \"label\": \"Actual\", \"predicted_label\": \"Predicted\"}, {\"date\": \"2020-10-09T00:00:00\", \"y_test\": 79.55000305175781, \"y_pred\": 80.76767991789362, \"label\": \"Actual\", \"predicted_label\": \"Predicted\"}, {\"date\": \"2020-10-12T00:00:00\", \"y_test\": 80.0, \"y_pred\": 81.14581169322862, \"label\": \"Actual\", \"predicted_label\": \"Predicted\"}, {\"date\": \"2020-10-13T00:00:00\", \"y_test\": 76.44999694824219, \"y_pred\": 78.79425208995868, \"label\": \"Actual\", \"predicted_label\": \"Predicted\"}, {\"date\": \"2020-10-14T00:00:00\", \"y_test\": 78.5, \"y_pred\": 79.1983038362765, \"label\": \"Actual\", \"predicted_label\": \"Predicted\"}, {\"date\": \"2020-10-15T00:00:00\", \"y_test\": 78.4000015258789, \"y_pred\": 80.27644645810452, \"label\": \"Actual\", \"predicted_label\": \"Predicted\"}, {\"date\": \"2020-10-16T00:00:00\", \"y_test\": 77.0, \"y_pred\": 78.0910452156567, \"label\": \"Actual\", \"predicted_label\": \"Predicted\"}, {\"date\": \"2020-10-19T00:00:00\", \"y_test\": 76.94999694824219, \"y_pred\": 79.2819641392833, \"label\": \"Actual\", \"predicted_label\": \"Predicted\"}, {\"date\": \"2020-10-20T00:00:00\", \"y_test\": 76.9000015258789, \"y_pred\": 79.23842596187885, \"label\": \"Actual\", \"predicted_label\": \"Predicted\"}, {\"date\": \"2020-10-21T00:00:00\", \"y_test\": 77.0, \"y_pred\": 77.75050264147094, \"label\": \"Actual\", \"predicted_label\": \"Predicted\"}, {\"date\": \"2020-10-22T00:00:00\", \"y_test\": 77.9000015258789, \"y_pred\": 78.62519682256891, \"label\": \"Actual\", \"predicted_label\": \"Predicted\"}, {\"date\": \"2020-10-23T00:00:00\", \"y_test\": 80.4000015258789, \"y_pred\": 79.5152360095027, \"label\": \"Actual\", \"predicted_label\": \"Predicted\"}, {\"date\": \"2020-10-26T00:00:00\", \"y_test\": 79.8499984741211, \"y_pred\": 81.17097405665056, \"label\": \"Actual\", \"predicted_label\": \"Predicted\"}, {\"date\": \"2020-10-27T00:00:00\", \"y_test\": 77.5, \"y_pred\": 79.75290250957092, \"label\": \"Actual\", \"predicted_label\": \"Predicted\"}, {\"date\": \"2020-10-28T00:00:00\", \"y_test\": 77.0999984741211, \"y_pred\": 79.50999626444539, \"label\": \"Actual\", \"predicted_label\": \"Predicted\"}, {\"date\": \"2020-10-29T00:00:00\", \"y_test\": 75.5999984741211, \"y_pred\": 78.45575888236908, \"label\": \"Actual\", \"predicted_label\": \"Predicted\"}, {\"date\": \"2020-10-30T00:00:00\", \"y_test\": 75.75, \"y_pred\": 77.35183947021095, \"label\": \"Actual\", \"predicted_label\": \"Predicted\"}, {\"date\": \"2020-11-02T00:00:00\", \"y_test\": 75.5, \"y_pred\": 77.17864277979051, \"label\": \"Actual\", \"predicted_label\": \"Predicted\"}, {\"date\": \"2020-11-03T00:00:00\", \"y_test\": 74.9000015258789, \"y_pred\": 75.93763567727342, \"label\": \"Actual\", \"predicted_label\": \"Predicted\"}, {\"date\": \"2020-11-04T00:00:00\", \"y_test\": 75.1500015258789, \"y_pred\": 77.02493107263355, \"label\": \"Actual\", \"predicted_label\": \"Predicted\"}, {\"date\": \"2020-11-05T00:00:00\", \"y_test\": 75.0, \"y_pred\": 76.79059168401635, \"label\": \"Actual\", \"predicted_label\": \"Predicted\"}, {\"date\": \"2020-11-06T00:00:00\", \"y_test\": 79.5999984741211, \"y_pred\": 76.47670719750664, \"label\": \"Actual\", \"predicted_label\": \"Predicted\"}, {\"date\": \"2020-11-09T00:00:00\", \"y_test\": 77.75, \"y_pred\": 78.8336617889431, \"label\": \"Actual\", \"predicted_label\": \"Predicted\"}, {\"date\": \"2020-11-10T00:00:00\", \"y_test\": 83.75, \"y_pred\": 79.58164096319932, \"label\": \"Actual\", \"predicted_label\": \"Predicted\"}, {\"date\": \"2020-11-11T00:00:00\", \"y_test\": 83.59999847412111, \"y_pred\": 86.09779499751409, \"label\": \"Actual\", \"predicted_label\": \"Predicted\"}, {\"date\": \"2020-11-12T00:00:00\", \"y_test\": 82.9000015258789, \"y_pred\": 84.11187742377518, \"label\": \"Actual\", \"predicted_label\": \"Predicted\"}, {\"date\": \"2020-11-13T00:00:00\", \"y_test\": 82.55000305175781, \"y_pred\": 84.45304405050553, \"label\": \"Actual\", \"predicted_label\": \"Predicted\"}, {\"date\": \"2020-11-14T00:00:00\", \"y_test\": 83.4000015258789, \"y_pred\": 84.43105459668965, \"label\": \"Actual\", \"predicted_label\": \"Predicted\"}, {\"date\": \"2020-11-17T00:00:00\", \"y_test\": 89.6999969482422, \"y_pred\": 85.28608985473947, \"label\": \"Actual\", \"predicted_label\": \"Predicted\"}, {\"date\": \"2020-11-18T00:00:00\", \"y_test\": 89.69999694824219, \"y_pred\": 91.5639033104921, \"label\": \"Actual\", \"predicted_label\": \"Predicted\"}, {\"date\": \"2020-11-19T00:00:00\", \"y_test\": 89.69999694824219, \"y_pred\": 90.60612202698707, \"label\": \"Actual\", \"predicted_label\": \"Predicted\"}, {\"date\": \"2020-11-20T00:00:00\", \"y_test\": 90.25, \"y_pred\": 91.80383656162239, \"label\": \"Actual\", \"predicted_label\": \"Predicted\"}, {\"date\": \"2020-11-23T00:00:00\", \"y_test\": 89.0999984741211, \"y_pred\": 91.56313888877555, \"label\": \"Actual\", \"predicted_label\": \"Predicted\"}, {\"date\": \"2020-11-24T00:00:00\", \"y_test\": 88.1500015258789, \"y_pred\": 89.97114591928955, \"label\": \"Actual\", \"predicted_label\": \"Predicted\"}, {\"date\": \"2020-11-25T00:00:00\", \"y_test\": 89.0, \"y_pred\": 90.1421774772551, \"label\": \"Actual\", \"predicted_label\": \"Predicted\"}, {\"date\": \"2020-11-26T00:00:00\", \"y_test\": 91.25, \"y_pred\": 89.4939344036242, \"label\": \"Actual\", \"predicted_label\": \"Predicted\"}, {\"date\": \"2020-11-27T00:00:00\", \"y_test\": 91.0, \"y_pred\": 92.86984545330998, \"label\": \"Actual\", \"predicted_label\": \"Predicted\"}, {\"date\": \"2020-12-01T00:00:00\", \"y_test\": 94.59999847412111, \"y_pred\": 93.22719819926941, \"label\": \"Actual\", \"predicted_label\": \"Predicted\"}, {\"date\": \"2020-12-02T00:00:00\", \"y_test\": 96.00000000000001, \"y_pred\": 95.46775031702805, \"label\": \"Actual\", \"predicted_label\": \"Predicted\"}, {\"date\": \"2020-12-03T00:00:00\", \"y_test\": 99.69999694824222, \"y_pred\": 97.36241940917057, \"label\": \"Actual\", \"predicted_label\": \"Predicted\"}, {\"date\": \"2020-12-04T00:00:00\", \"y_test\": 100.6999969482422, \"y_pred\": 103.07545383914547, \"label\": \"Actual\", \"predicted_label\": \"Predicted\"}, {\"date\": \"2020-12-07T00:00:00\", \"y_test\": 103.65000152587892, \"y_pred\": 101.96834922759191, \"label\": \"Actual\", \"predicted_label\": \"Predicted\"}, {\"date\": \"2020-12-08T00:00:00\", \"y_test\": 104.84999847412111, \"y_pred\": 105.61811359833698, \"label\": \"Actual\", \"predicted_label\": \"Predicted\"}, {\"date\": \"2020-12-09T00:00:00\", \"y_test\": 104.5999984741211, \"y_pred\": 105.71935593265218, \"label\": \"Actual\", \"predicted_label\": \"Predicted\"}, {\"date\": \"2020-12-10T00:00:00\", \"y_test\": 102.8000030517578, \"y_pred\": 106.882941962534, \"label\": \"Actual\", \"predicted_label\": \"Predicted\"}, {\"date\": \"2020-12-11T00:00:00\", \"y_test\": 104.0, \"y_pred\": 103.94936833173365, \"label\": \"Actual\", \"predicted_label\": \"Predicted\"}, {\"date\": \"2020-12-14T00:00:00\", \"y_test\": 102.5, \"y_pred\": 103.6691355444447, \"label\": \"Actual\", \"predicted_label\": \"Predicted\"}, {\"date\": \"2020-12-15T00:00:00\", \"y_test\": 102.5999984741211, \"y_pred\": 105.46371925201022, \"label\": \"Actual\", \"predicted_label\": \"Predicted\"}, {\"date\": \"2020-12-16T00:00:00\", \"y_test\": 102.40000152587892, \"y_pred\": 105.07807886453892, \"label\": \"Actual\", \"predicted_label\": \"Predicted\"}, {\"date\": \"2020-12-17T00:00:00\", \"y_test\": 100.6500015258789, \"y_pred\": 104.53549027270479, \"label\": \"Actual\", \"predicted_label\": \"Predicted\"}, {\"date\": \"2020-12-18T00:00:00\", \"y_test\": 100.00000000000001, \"y_pred\": 103.16380988501085, \"label\": \"Actual\", \"predicted_label\": \"Predicted\"}, {\"date\": \"2020-12-21T00:00:00\", \"y_test\": 98.90000152587889, \"y_pred\": 99.8392781735138, \"label\": \"Actual\", \"predicted_label\": \"Predicted\"}, {\"date\": \"2020-12-22T00:00:00\", \"y_test\": 90.1999969482422, \"y_pred\": 93.781259237896, \"label\": \"Actual\", \"predicted_label\": \"Predicted\"}, {\"date\": \"2020-12-23T00:00:00\", \"y_test\": 92.9000015258789, \"y_pred\": 93.22526729945612, \"label\": \"Actual\", \"predicted_label\": \"Predicted\"}, {\"date\": \"2020-12-24T00:00:00\", \"y_test\": 94.94999694824219, \"y_pred\": 96.03482981561866, \"label\": \"Actual\", \"predicted_label\": \"Predicted\"}, {\"date\": \"2020-12-28T00:00:00\", \"y_test\": 92.75, \"y_pred\": 94.37855960130017, \"label\": \"Actual\", \"predicted_label\": \"Predicted\"}, {\"date\": \"2020-12-29T00:00:00\", \"y_test\": 91.4499969482422, \"y_pred\": 93.35919917229278, \"label\": \"Actual\", \"predicted_label\": \"Predicted\"}, {\"date\": \"2020-12-30T00:00:00\", \"y_test\": 90.9000015258789, \"y_pred\": 92.52628885158883, \"label\": \"Actual\", \"predicted_label\": \"Predicted\"}, {\"date\": \"2020-12-31T00:00:00\", \"y_test\": 91.50000000000001, \"y_pred\": 94.17293944185163, \"label\": \"Actual\", \"predicted_label\": \"Predicted\"}, {\"date\": \"2021-01-01T00:00:00\", \"y_test\": 93.9000015258789, \"y_pred\": 93.84867076774455, \"label\": \"Actual\", \"predicted_label\": \"Predicted\"}, {\"date\": \"2021-01-04T00:00:00\", \"y_test\": 97.0, \"y_pred\": 97.22424921332801, \"label\": \"Actual\", \"predicted_label\": \"Predicted\"}, {\"date\": \"2021-01-05T00:00:00\", \"y_test\": 95.5, \"y_pred\": 100.09332368103192, \"label\": \"Actual\", \"predicted_label\": \"Predicted\"}, {\"date\": \"2021-01-06T00:00:00\", \"y_test\": 98.15000152587892, \"y_pred\": 98.83297147260336, \"label\": \"Actual\", \"predicted_label\": \"Predicted\"}, {\"date\": \"2021-01-07T00:00:00\", \"y_test\": 98.5, \"y_pred\": 99.45347722168216, \"label\": \"Actual\", \"predicted_label\": \"Predicted\"}, {\"date\": \"2021-01-08T00:00:00\", \"y_test\": 99.34999847412111, \"y_pred\": 100.57897785269162, \"label\": \"Actual\", \"predicted_label\": \"Predicted\"}, {\"date\": \"2021-01-11T00:00:00\", \"y_test\": 99.4000015258789, \"y_pred\": 101.1584396088677, \"label\": \"Actual\", \"predicted_label\": \"Predicted\"}, {\"date\": \"2021-01-12T00:00:00\", \"y_test\": 97.4000015258789, \"y_pred\": 99.79769591837325, \"label\": \"Actual\", \"predicted_label\": \"Predicted\"}, {\"date\": \"2021-01-13T00:00:00\", \"y_test\": 100.6500015258789, \"y_pred\": 99.98971491710876, \"label\": \"Actual\", \"predicted_label\": \"Predicted\"}, {\"date\": \"2021-01-14T00:00:00\", \"y_test\": 99.8000030517578, \"y_pred\": 99.98962755005057, \"label\": \"Actual\", \"predicted_label\": \"Predicted\"}, {\"date\": \"2021-01-15T00:00:00\", \"y_test\": 98.0, \"y_pred\": 100.54054609085756, \"label\": \"Actual\", \"predicted_label\": \"Predicted\"}, {\"date\": \"2021-01-18T00:00:00\", \"y_test\": 97.0, \"y_pred\": 99.97198015252452, \"label\": \"Actual\", \"predicted_label\": \"Predicted\"}, {\"date\": \"2021-01-19T00:00:00\", \"y_test\": 95.49999999999999, \"y_pred\": 96.4066356512898, \"label\": \"Actual\", \"predicted_label\": \"Predicted\"}, {\"date\": \"2021-01-20T00:00:00\", \"y_test\": 96.3000030517578, \"y_pred\": 97.7139673091757, \"label\": \"Actual\", \"predicted_label\": \"Predicted\"}, {\"date\": \"2021-01-21T00:00:00\", \"y_test\": 96.4499969482422, \"y_pred\": 97.95056834972193, \"label\": \"Actual\", \"predicted_label\": \"Predicted\"}, {\"date\": \"2021-01-22T00:00:00\", \"y_test\": 95.3000030517578, \"y_pred\": 98.18759496853733, \"label\": \"Actual\", \"predicted_label\": \"Predicted\"}, {\"date\": \"2021-01-25T00:00:00\", \"y_test\": 93.40000152587892, \"y_pred\": 95.88735927801925, \"label\": \"Actual\", \"predicted_label\": \"Predicted\"}, {\"date\": \"2021-01-27T00:00:00\", \"y_test\": 93.6999969482422, \"y_pred\": 95.52709109244849, \"label\": \"Actual\", \"predicted_label\": \"Predicted\"}, {\"date\": \"2021-01-28T00:00:00\", \"y_test\": 94.49999999999999, \"y_pred\": 95.85002265302931, \"label\": \"Actual\", \"predicted_label\": \"Predicted\"}, {\"date\": \"2021-01-29T00:00:00\", \"y_test\": 94.75000000000001, \"y_pred\": 97.12022886153602, \"label\": \"Actual\", \"predicted_label\": \"Predicted\"}, {\"date\": \"2021-02-01T00:00:00\", \"y_test\": 93.24999999999999, \"y_pred\": 96.01772078549597, \"label\": \"Actual\", \"predicted_label\": \"Predicted\"}, {\"date\": \"2021-02-02T00:00:00\", \"y_test\": 94.0, \"y_pred\": 94.05539668937722, \"label\": \"Actual\", \"predicted_label\": \"Predicted\"}, {\"date\": \"2021-02-03T00:00:00\", \"y_test\": 95.3000030517578, \"y_pred\": 95.20840008029086, \"label\": \"Actual\", \"predicted_label\": \"Predicted\"}, {\"date\": \"2021-02-04T00:00:00\", \"y_test\": 95.8000030517578, \"y_pred\": 97.46568678446431, \"label\": \"Actual\", \"predicted_label\": \"Predicted\"}, {\"date\": \"2021-02-05T00:00:00\", \"y_test\": 96.8499984741211, \"y_pred\": 96.36748872085175, \"label\": \"Actual\", \"predicted_label\": \"Predicted\"}, {\"date\": \"2021-02-08T00:00:00\", \"y_test\": 99.6500015258789, \"y_pred\": 99.82830222512118, \"label\": \"Actual\", \"predicted_label\": \"Predicted\"}, {\"date\": \"2021-02-09T00:00:00\", \"y_test\": 101.0500030517578, \"y_pred\": 102.53780784599527, \"label\": \"Actual\", \"predicted_label\": \"Predicted\"}, {\"date\": \"2021-02-10T00:00:00\", \"y_test\": 97.9499969482422, \"y_pred\": 98.87006101085738, \"label\": \"Actual\", \"predicted_label\": \"Predicted\"}, {\"date\": \"2021-02-11T00:00:00\", \"y_test\": 99.49999999999999, \"y_pred\": 100.56910670869576, \"label\": \"Actual\", \"predicted_label\": \"Predicted\"}, {\"date\": \"2021-02-12T00:00:00\", \"y_test\": 99.5, \"y_pred\": 100.99838901764302, \"label\": \"Actual\", \"predicted_label\": \"Predicted\"}, {\"date\": \"2021-02-15T00:00:00\", \"y_test\": 99.75000000000001, \"y_pred\": 101.6417798030998, \"label\": \"Actual\", \"predicted_label\": \"Predicted\"}, {\"date\": \"2021-02-16T00:00:00\", \"y_test\": 101.25, \"y_pred\": 102.45120352584804, \"label\": \"Actual\", \"predicted_label\": \"Predicted\"}, {\"date\": \"2021-02-17T00:00:00\", \"y_test\": 99.1999969482422, \"y_pred\": 102.50330213728101, \"label\": \"Actual\", \"predicted_label\": \"Predicted\"}, {\"date\": \"2021-02-18T00:00:00\", \"y_test\": 98.94999694824219, \"y_pred\": 100.39909428812587, \"label\": \"Actual\", \"predicted_label\": \"Predicted\"}, {\"date\": \"2021-02-19T00:00:00\", \"y_test\": 99.40000152587892, \"y_pred\": 101.23004458832071, \"label\": \"Actual\", \"predicted_label\": \"Predicted\"}, {\"date\": \"2021-02-22T00:00:00\", \"y_test\": 97.30000305175778, \"y_pred\": 100.5504608583397, \"label\": \"Actual\", \"predicted_label\": \"Predicted\"}, {\"date\": \"2021-02-23T00:00:00\", \"y_test\": 97.9499969482422, \"y_pred\": 99.97838102918918, \"label\": \"Actual\", \"predicted_label\": \"Predicted\"}, {\"date\": \"2021-02-24T00:00:00\", \"y_test\": 97.9499969482422, \"y_pred\": 99.94535703190645, \"label\": \"Actual\", \"predicted_label\": \"Predicted\"}, {\"date\": \"2021-02-25T00:00:00\", \"y_test\": 98.9000015258789, \"y_pred\": 100.59824189102491, \"label\": \"Actual\", \"predicted_label\": \"Predicted\"}, {\"date\": \"2021-02-26T00:00:00\", \"y_test\": 98.25000000000001, \"y_pred\": 99.82813182915424, \"label\": \"Actual\", \"predicted_label\": \"Predicted\"}, {\"date\": \"2021-03-01T00:00:00\", \"y_test\": 99.5, \"y_pred\": 99.71657746588423, \"label\": \"Actual\", \"predicted_label\": \"Predicted\"}, {\"date\": \"2021-03-02T00:00:00\", \"y_test\": 98.5999984741211, \"y_pred\": 100.01960535904234, \"label\": \"Actual\", \"predicted_label\": \"Predicted\"}, {\"date\": \"2021-03-03T00:00:00\", \"y_test\": 104.6999969482422, \"y_pred\": 100.45262462169617, \"label\": \"Actual\", \"predicted_label\": \"Predicted\"}, {\"date\": \"2021-03-04T00:00:00\", \"y_test\": 110.84999847412111, \"y_pred\": 107.29662106035623, \"label\": \"Actual\", \"predicted_label\": \"Predicted\"}, {\"date\": \"2021-03-05T00:00:00\", \"y_test\": 111.0, \"y_pred\": 113.84340306364054, \"label\": \"Actual\", \"predicted_label\": \"Predicted\"}, {\"date\": \"2021-03-08T00:00:00\", \"y_test\": 112.5, \"y_pred\": 113.7451599634143, \"label\": \"Actual\", \"predicted_label\": \"Predicted\"}, {\"date\": \"2021-03-09T00:00:00\", \"y_test\": 110.0, \"y_pred\": 112.34608254832285, \"label\": \"Actual\", \"predicted_label\": \"Predicted\"}, {\"date\": \"2021-03-10T00:00:00\", \"y_test\": 109.3499984741211, \"y_pred\": 111.83794388274302, \"label\": \"Actual\", \"predicted_label\": \"Predicted\"}, {\"date\": \"2021-03-12T00:00:00\", \"y_test\": 109.0, \"y_pred\": 112.09734445236239, \"label\": \"Actual\", \"predicted_label\": \"Predicted\"}, {\"date\": \"2021-03-15T00:00:00\", \"y_test\": 107.9499969482422, \"y_pred\": 110.51806027792817, \"label\": \"Actual\", \"predicted_label\": \"Predicted\"}, {\"date\": \"2021-03-16T00:00:00\", \"y_test\": 104.49999999999999, \"y_pred\": 106.5319076084531, \"label\": \"Actual\", \"predicted_label\": \"Predicted\"}, {\"date\": \"2021-03-17T00:00:00\", \"y_test\": 108.0, \"y_pred\": 106.70013414271403, \"label\": \"Actual\", \"predicted_label\": \"Predicted\"}, {\"date\": \"2021-03-18T00:00:00\", \"y_test\": 103.05000305175778, \"y_pred\": 104.03874186647008, \"label\": \"Actual\", \"predicted_label\": \"Predicted\"}, {\"date\": \"2021-03-19T00:00:00\", \"y_test\": 99.8499984741211, \"y_pred\": 102.72311146031095, \"label\": \"Actual\", \"predicted_label\": \"Predicted\"}, {\"date\": \"2021-03-22T00:00:00\", \"y_test\": 98.75, \"y_pred\": 101.96889953413347, \"label\": \"Actual\", \"predicted_label\": \"Predicted\"}, {\"date\": \"2021-03-23T00:00:00\", \"y_test\": 100.0500030517578, \"y_pred\": 101.88558882465165, \"label\": \"Actual\", \"predicted_label\": \"Predicted\"}, {\"date\": \"2021-03-24T00:00:00\", \"y_test\": 99.9499969482422, \"y_pred\": 103.91008867557001, \"label\": \"Actual\", \"predicted_label\": \"Predicted\"}, {\"date\": \"2021-03-25T00:00:00\", \"y_test\": 98.0500030517578, \"y_pred\": 103.01870690538995, \"label\": \"Actual\", \"predicted_label\": \"Predicted\"}, {\"date\": \"2021-03-26T00:00:00\", \"y_test\": 97.90000152587892, \"y_pred\": 99.64426632932009, \"label\": \"Actual\", \"predicted_label\": \"Predicted\"}, {\"date\": \"2021-03-30T00:00:00\", \"y_test\": 95.5999984741211, \"y_pred\": 99.21172843131883, \"label\": \"Actual\", \"predicted_label\": \"Predicted\"}, {\"date\": \"2021-03-31T00:00:00\", \"y_test\": 96.1500015258789, \"y_pred\": 96.59248617561124, \"label\": \"Actual\", \"predicted_label\": \"Predicted\"}, {\"date\": \"2021-04-01T00:00:00\", \"y_test\": 97.3499984741211, \"y_pred\": 95.90962707657485, \"label\": \"Actual\", \"predicted_label\": \"Predicted\"}, {\"date\": \"2021-04-05T00:00:00\", \"y_test\": 93.5999984741211, \"y_pred\": 98.83235029480785, \"label\": \"Actual\", \"predicted_label\": \"Predicted\"}, {\"date\": \"2021-04-06T00:00:00\", \"y_test\": 93.05000305175781, \"y_pred\": 95.23924718145551, \"label\": \"Actual\", \"predicted_label\": \"Predicted\"}, {\"date\": \"2021-04-07T00:00:00\", \"y_test\": 94.1999969482422, \"y_pred\": 94.02530898997875, \"label\": \"Actual\", \"predicted_label\": \"Predicted\"}, {\"date\": \"2021-04-08T00:00:00\", \"y_test\": 94.3000030517578, \"y_pred\": 96.08688899857881, \"label\": \"Actual\", \"predicted_label\": \"Predicted\"}, {\"date\": \"2021-04-09T00:00:00\", \"y_test\": 94.9000015258789, \"y_pred\": 95.35387118172198, \"label\": \"Actual\", \"predicted_label\": \"Predicted\"}, {\"date\": \"2021-04-12T00:00:00\", \"y_test\": 92.00000000000001, \"y_pred\": 94.67863945647689, \"label\": \"Actual\", \"predicted_label\": \"Predicted\"}, {\"date\": \"2021-04-13T00:00:00\", \"y_test\": 89.4000015258789, \"y_pred\": 89.97967137582172, \"label\": \"Actual\", \"predicted_label\": \"Predicted\"}, {\"date\": \"2021-04-15T00:00:00\", \"y_test\": 88.30000305175781, \"y_pred\": 91.94169697197023, \"label\": \"Actual\", \"predicted_label\": \"Predicted\"}, {\"date\": \"2021-04-16T00:00:00\", \"y_test\": 88.84999847412111, \"y_pred\": 90.90211775457307, \"label\": \"Actual\", \"predicted_label\": \"Predicted\"}, {\"date\": \"2021-04-19T00:00:00\", \"y_test\": 85.0, \"y_pred\": 89.50546260125297, \"label\": \"Actual\", \"predicted_label\": \"Predicted\"}, {\"date\": \"2021-04-20T00:00:00\", \"y_test\": 86.1999969482422, \"y_pred\": 85.66414920942503, \"label\": \"Actual\", \"predicted_label\": \"Predicted\"}, {\"date\": \"2021-04-22T00:00:00\", \"y_test\": 85.80000305175781, \"y_pred\": 86.2208835921035, \"label\": \"Actual\", \"predicted_label\": \"Predicted\"}, {\"date\": \"2021-04-23T00:00:00\", \"y_test\": 86.55000305175781, \"y_pred\": 86.00690571611383, \"label\": \"Actual\", \"predicted_label\": \"Predicted\"}, {\"date\": \"2021-04-26T00:00:00\", \"y_test\": 88.94999694824219, \"y_pred\": 88.27144914604501, \"label\": \"Actual\", \"predicted_label\": \"Predicted\"}, {\"date\": \"2021-04-27T00:00:00\", \"y_test\": 90.0, \"y_pred\": 90.70551641872595, \"label\": \"Actual\", \"predicted_label\": \"Predicted\"}, {\"date\": \"2021-04-28T00:00:00\", \"y_test\": 91.5999984741211, \"y_pred\": 91.16258271221686, \"label\": \"Actual\", \"predicted_label\": \"Predicted\"}, {\"date\": \"2021-04-29T00:00:00\", \"y_test\": 88.9000015258789, \"y_pred\": 89.86788632390669, \"label\": \"Actual\", \"predicted_label\": \"Predicted\"}, {\"date\": \"2021-04-30T00:00:00\", \"y_test\": 89.5, \"y_pred\": 89.01669301315906, \"label\": \"Actual\", \"predicted_label\": \"Predicted\"}, {\"date\": \"2021-05-03T00:00:00\", \"y_test\": 87.30000305175781, \"y_pred\": 88.57625735268284, \"label\": \"Actual\", \"predicted_label\": \"Predicted\"}, {\"date\": \"2021-05-04T00:00:00\", \"y_test\": 90.5, \"y_pred\": 88.5600497533572, \"label\": \"Actual\", \"predicted_label\": \"Predicted\"}, {\"date\": \"2021-05-05T00:00:00\", \"y_test\": 88.80000305175781, \"y_pred\": 88.44424041985484, \"label\": \"Actual\", \"predicted_label\": \"Predicted\"}, {\"date\": \"2021-05-06T00:00:00\", \"y_test\": 90.1999969482422, \"y_pred\": 89.78254318887274, \"label\": \"Actual\", \"predicted_label\": \"Predicted\"}, {\"date\": \"2021-05-07T00:00:00\", \"y_test\": 91.30000305175778, \"y_pred\": 91.25761194136656, \"label\": \"Actual\", \"predicted_label\": \"Predicted\"}, {\"date\": \"2021-05-10T00:00:00\", \"y_test\": 91.0, \"y_pred\": 91.16965020804517, \"label\": \"Actual\", \"predicted_label\": \"Predicted\"}, {\"date\": \"2021-05-11T00:00:00\", \"y_test\": 93.0, \"y_pred\": 90.34662776033802, \"label\": \"Actual\", \"predicted_label\": \"Predicted\"}, {\"date\": \"2021-05-12T00:00:00\", \"y_test\": 93.90000152587892, \"y_pred\": 92.98443070222027, \"label\": \"Actual\", \"predicted_label\": \"Predicted\"}, {\"date\": \"2021-05-14T00:00:00\", \"y_test\": 93.9499969482422, \"y_pred\": 94.16810277326046, \"label\": \"Actual\", \"predicted_label\": \"Predicted\"}, {\"date\": \"2021-05-17T00:00:00\", \"y_test\": 93.75000000000001, \"y_pred\": 94.28635374545576, \"label\": \"Actual\", \"predicted_label\": \"Predicted\"}, {\"date\": \"2021-05-18T00:00:00\", \"y_test\": 99.44999694824219, \"y_pred\": 94.17124002620169, \"label\": \"Actual\", \"predicted_label\": \"Predicted\"}, {\"date\": \"2021-05-19T00:00:00\", \"y_test\": 100.1500015258789, \"y_pred\": 99.4061265005788, \"label\": \"Actual\", \"predicted_label\": \"Predicted\"}, {\"date\": \"2021-05-20T00:00:00\", \"y_test\": 99.84999847412111, \"y_pred\": 100.84746958783451, \"label\": \"Actual\", \"predicted_label\": \"Predicted\"}, {\"date\": \"2021-05-21T00:00:00\", \"y_test\": 101.69999694824222, \"y_pred\": 98.97175868955583, \"label\": \"Actual\", \"predicted_label\": \"Predicted\"}, {\"date\": \"2021-05-24T00:00:00\", \"y_test\": 106.44999694824219, \"y_pred\": 99.95601491077798, \"label\": \"Actual\", \"predicted_label\": \"Predicted\"}, {\"date\": \"2021-05-25T00:00:00\", \"y_test\": 112.99999999999999, \"y_pred\": 108.122821482316, \"label\": \"Actual\", \"predicted_label\": \"Predicted\"}, {\"date\": \"2021-05-26T00:00:00\", \"y_test\": 110.9000015258789, \"y_pred\": 111.7457968531113, \"label\": \"Actual\", \"predicted_label\": \"Predicted\"}, {\"date\": \"2021-05-27T00:00:00\", \"y_test\": 114.40000152587892, \"y_pred\": 108.99240435622012, \"label\": \"Actual\", \"predicted_label\": \"Predicted\"}, {\"date\": \"2021-05-28T00:00:00\", \"y_test\": 114.4499969482422, \"y_pred\": 115.77213182920916, \"label\": \"Actual\", \"predicted_label\": \"Predicted\"}, {\"date\": \"2021-05-31T00:00:00\", \"y_test\": 112.59999847412111, \"y_pred\": 111.79928617117945, \"label\": \"Actual\", \"predicted_label\": \"Predicted\"}, {\"date\": \"2021-06-01T00:00:00\", \"y_test\": 111.6500015258789, \"y_pred\": 111.02022796012609, \"label\": \"Actual\", \"predicted_label\": \"Predicted\"}, {\"date\": \"2021-06-02T00:00:00\", \"y_test\": 111.4000015258789, \"y_pred\": 111.17675864683588, \"label\": \"Actual\", \"predicted_label\": \"Predicted\"}, {\"date\": \"2021-06-03T00:00:00\", \"y_test\": 111.15000152587892, \"y_pred\": 109.82622935860496, \"label\": \"Actual\", \"predicted_label\": \"Predicted\"}, {\"date\": \"2021-06-04T00:00:00\", \"y_test\": 121.15000152587892, \"y_pred\": 112.6929041537213, \"label\": \"Actual\", \"predicted_label\": \"Predicted\"}, {\"date\": \"2021-06-07T00:00:00\", \"y_test\": 120.6999969482422, \"y_pred\": 118.68212847179124, \"label\": \"Actual\", \"predicted_label\": \"Predicted\"}, {\"date\": \"2021-06-08T00:00:00\", \"y_test\": 119.0, \"y_pred\": 120.75723302889288, \"label\": \"Actual\", \"predicted_label\": \"Predicted\"}, {\"date\": \"2021-06-09T00:00:00\", \"y_test\": 118.1999969482422, \"y_pred\": 117.52004148152828, \"label\": \"Actual\", \"predicted_label\": \"Predicted\"}, {\"date\": \"2021-06-10T00:00:00\", \"y_test\": 118.15000152587892, \"y_pred\": 115.93662391503204, \"label\": \"Actual\", \"predicted_label\": \"Predicted\"}, {\"date\": \"2021-06-11T00:00:00\", \"y_test\": 118.15000152587892, \"y_pred\": 119.2253808699289, \"label\": \"Actual\", \"predicted_label\": \"Predicted\"}, {\"date\": \"2021-06-14T00:00:00\", \"y_test\": 119.84999847412111, \"y_pred\": 117.6049042930341, \"label\": \"Actual\", \"predicted_label\": \"Predicted\"}, {\"date\": \"2021-06-15T00:00:00\", \"y_test\": 119.25, \"y_pred\": 119.15505433143625, \"label\": \"Actual\", \"predicted_label\": \"Predicted\"}, {\"date\": \"2021-06-16T00:00:00\", \"y_test\": 119.00000000000001, \"y_pred\": 120.13033399458388, \"label\": \"Actual\", \"predicted_label\": \"Predicted\"}, {\"date\": \"2021-06-17T00:00:00\", \"y_test\": 116.75, \"y_pred\": 118.2866575494984, \"label\": \"Actual\", \"predicted_label\": \"Predicted\"}, {\"date\": \"2021-06-18T00:00:00\", \"y_test\": 114.8499984741211, \"y_pred\": 116.17066082793939, \"label\": \"Actual\", \"predicted_label\": \"Predicted\"}, {\"date\": \"2021-06-21T00:00:00\", \"y_test\": 111.1999969482422, \"y_pred\": 113.05687660737436, \"label\": \"Actual\", \"predicted_label\": \"Predicted\"}, {\"date\": \"2021-06-22T00:00:00\", \"y_test\": 116.9499969482422, \"y_pred\": 112.6550127858104, \"label\": \"Actual\", \"predicted_label\": \"Predicted\"}, {\"date\": \"2021-06-23T00:00:00\", \"y_test\": 115.9000015258789, \"y_pred\": 115.8398646524256, \"label\": \"Actual\", \"predicted_label\": \"Predicted\"}, {\"date\": \"2021-06-24T00:00:00\", \"y_test\": 114.99999999999999, \"y_pred\": 116.47116456845768, \"label\": \"Actual\", \"predicted_label\": \"Predicted\"}, {\"date\": \"2021-06-25T00:00:00\", \"y_test\": 115.4499969482422, \"y_pred\": 113.76132630628965, \"label\": \"Actual\", \"predicted_label\": \"Predicted\"}, {\"date\": \"2021-06-28T00:00:00\", \"y_test\": 114.8499984741211, \"y_pred\": 115.996551713644, \"label\": \"Actual\", \"predicted_label\": \"Predicted\"}, {\"date\": \"2021-06-29T00:00:00\", \"y_test\": 115.59999847412111, \"y_pred\": 114.99015298218171, \"label\": \"Actual\", \"predicted_label\": \"Predicted\"}, {\"date\": \"2021-06-30T00:00:00\", \"y_test\": 113.0, \"y_pred\": 112.88203394903104, \"label\": \"Actual\", \"predicted_label\": \"Predicted\"}, {\"date\": \"2021-07-01T00:00:00\", \"y_test\": 113.84999847412111, \"y_pred\": 113.44471670570711, \"label\": \"Actual\", \"predicted_label\": \"Predicted\"}, {\"date\": \"2021-07-02T00:00:00\", \"y_test\": 112.6999969482422, \"y_pred\": 112.54218690336054, \"label\": \"Actual\", \"predicted_label\": \"Predicted\"}, {\"date\": \"2021-07-05T00:00:00\", \"y_test\": 114.0, \"y_pred\": 113.37255155587967, \"label\": \"Actual\", \"predicted_label\": \"Predicted\"}, {\"date\": \"2021-07-06T00:00:00\", \"y_test\": 119.6999969482422, \"y_pred\": 114.76683859888729, \"label\": \"Actual\", \"predicted_label\": \"Predicted\"}, {\"date\": \"2021-07-07T00:00:00\", \"y_test\": 122.59999847412111, \"y_pred\": 119.54476465976035, \"label\": \"Actual\", \"predicted_label\": \"Predicted\"}, {\"date\": \"2021-07-08T00:00:00\", \"y_test\": 119.5, \"y_pred\": 118.95765910452995, \"label\": \"Actual\", \"predicted_label\": \"Predicted\"}, {\"date\": \"2021-07-09T00:00:00\", \"y_test\": 118.5, \"y_pred\": 119.93628542819563, \"label\": \"Actual\", \"predicted_label\": \"Predicted\"}, {\"date\": \"2021-07-12T00:00:00\", \"y_test\": 119.8499984741211, \"y_pred\": 119.29961705921745, \"label\": \"Actual\", \"predicted_label\": \"Predicted\"}, {\"date\": \"2021-07-13T00:00:00\", \"y_test\": 119.0, \"y_pred\": 118.44603199929992, \"label\": \"Actual\", \"predicted_label\": \"Predicted\"}, {\"date\": \"2021-07-14T00:00:00\", \"y_test\": 118.19999694824219, \"y_pred\": 118.74648660559984, \"label\": \"Actual\", \"predicted_label\": \"Predicted\"}, {\"date\": \"2021-07-15T00:00:00\", \"y_test\": 120.80000305175778, \"y_pred\": 117.83878247667803, \"label\": \"Actual\", \"predicted_label\": \"Predicted\"}, {\"date\": \"2021-07-16T00:00:00\", \"y_test\": 118.0500030517578, \"y_pred\": 118.25964455527014, \"label\": \"Actual\", \"predicted_label\": \"Predicted\"}, {\"date\": \"2021-07-19T00:00:00\", \"y_test\": 116.5500030517578, \"y_pred\": 117.34553116659212, \"label\": \"Actual\", \"predicted_label\": \"Predicted\"}, {\"date\": \"2021-07-20T00:00:00\", \"y_test\": 113.0, \"y_pred\": 115.35388683105418, \"label\": \"Actual\", \"predicted_label\": \"Predicted\"}, {\"date\": \"2021-07-22T00:00:00\", \"y_test\": 113.24999999999999, \"y_pred\": 111.56570526163743, \"label\": \"Actual\", \"predicted_label\": \"Predicted\"}, {\"date\": \"2021-07-23T00:00:00\", \"y_test\": 114.0, \"y_pred\": 113.5381279048249, \"label\": \"Actual\", \"predicted_label\": \"Predicted\"}, {\"date\": \"2021-07-26T00:00:00\", \"y_test\": 115.25000000000001, \"y_pred\": 115.61437875812669, \"label\": \"Actual\", \"predicted_label\": \"Predicted\"}, {\"date\": \"2021-07-27T00:00:00\", \"y_test\": 114.9000015258789, \"y_pred\": 114.88660561491477, \"label\": \"Actual\", \"predicted_label\": \"Predicted\"}, {\"date\": \"2021-07-28T00:00:00\", \"y_test\": 113.15000152587889, \"y_pred\": 114.03685707969306, \"label\": \"Actual\", \"predicted_label\": \"Predicted\"}, {\"date\": \"2021-07-29T00:00:00\", \"y_test\": 114.25000000000001, \"y_pred\": 113.1110810031429, \"label\": \"Actual\", \"predicted_label\": \"Predicted\"}, {\"date\": \"2021-07-30T00:00:00\", \"y_test\": 113.8000030517578, \"y_pred\": 114.62113041854901, \"label\": \"Actual\", \"predicted_label\": \"Predicted\"}, {\"date\": \"2021-08-02T00:00:00\", \"y_test\": 113.5, \"y_pred\": 113.6564224669128, \"label\": \"Actual\", \"predicted_label\": \"Predicted\"}, {\"date\": \"2021-08-03T00:00:00\", \"y_test\": 112.0, \"y_pred\": 113.57957969806047, \"label\": \"Actual\", \"predicted_label\": \"Predicted\"}, {\"date\": \"2021-08-04T00:00:00\", \"y_test\": 111.8499984741211, \"y_pred\": 111.77451526031729, \"label\": \"Actual\", \"predicted_label\": \"Predicted\"}, {\"date\": \"2021-08-05T00:00:00\", \"y_test\": 109.5, \"y_pred\": 111.01548660957276, \"label\": \"Actual\", \"predicted_label\": \"Predicted\"}, {\"date\": \"2021-08-06T00:00:00\", \"y_test\": 109.69999694824222, \"y_pred\": 111.96572522303981, \"label\": \"Actual\", \"predicted_label\": \"Predicted\"}, {\"date\": \"2021-08-09T00:00:00\", \"y_test\": 109.49999999999999, \"y_pred\": 112.05732607402385, \"label\": \"Actual\", \"predicted_label\": \"Predicted\"}, {\"date\": \"2021-08-10T00:00:00\", \"y_test\": 108.69999694824219, \"y_pred\": 110.65335040647597, \"label\": \"Actual\", \"predicted_label\": \"Predicted\"}, {\"date\": \"2021-08-11T00:00:00\", \"y_test\": 104.5, \"y_pred\": 107.50206894241454, \"label\": \"Actual\", \"predicted_label\": \"Predicted\"}, {\"date\": \"2021-08-12T00:00:00\", \"y_test\": 105.9000015258789, \"y_pred\": 106.23762231372922, \"label\": \"Actual\", \"predicted_label\": \"Predicted\"}, {\"date\": \"2021-08-13T00:00:00\", \"y_test\": 106.99999999999999, \"y_pred\": 108.96011195340328, \"label\": \"Actual\", \"predicted_label\": \"Predicted\"}, {\"date\": \"2021-08-16T00:00:00\", \"y_test\": 105.65000152587889, \"y_pred\": 108.7668279067871, \"label\": \"Actual\", \"predicted_label\": \"Predicted\"}, {\"date\": \"2021-08-17T00:00:00\", \"y_test\": 103.65000152587892, \"y_pred\": 106.63628736519784, \"label\": \"Actual\", \"predicted_label\": \"Predicted\"}, {\"date\": \"2021-08-18T00:00:00\", \"y_test\": 104.19999694824219, \"y_pred\": 106.80549993027941, \"label\": \"Actual\", \"predicted_label\": \"Predicted\"}, {\"date\": \"2021-08-20T00:00:00\", \"y_test\": 103.4499969482422, \"y_pred\": 107.13339856618549, \"label\": \"Actual\", \"predicted_label\": \"Predicted\"}, {\"date\": \"2021-08-23T00:00:00\", \"y_test\": 104.0999984741211, \"y_pred\": 105.79596366590773, \"label\": \"Actual\", \"predicted_label\": \"Predicted\"}, {\"date\": \"2021-08-24T00:00:00\", \"y_test\": 110.0, \"y_pred\": 104.28688945099788, \"label\": \"Actual\", \"predicted_label\": \"Predicted\"}, {\"date\": \"2021-08-25T00:00:00\", \"y_test\": 106.75000000000001, \"y_pred\": 109.1290224525902, \"label\": \"Actual\", \"predicted_label\": \"Predicted\"}, {\"date\": \"2021-08-26T00:00:00\", \"y_test\": 105.5500030517578, \"y_pred\": 110.1387142873726, \"label\": \"Actual\", \"predicted_label\": \"Predicted\"}, {\"date\": \"2021-08-27T00:00:00\", \"y_test\": 105.8000030517578, \"y_pred\": 108.12644167384711, \"label\": \"Actual\", \"predicted_label\": \"Predicted\"}, {\"date\": \"2021-08-30T00:00:00\", \"y_test\": 106.5999984741211, \"y_pred\": 108.56829830768497, \"label\": \"Actual\", \"predicted_label\": \"Predicted\"}, {\"date\": \"2021-08-31T00:00:00\", \"y_test\": 105.69999694824219, \"y_pred\": 106.68579579046238, \"label\": \"Actual\", \"predicted_label\": \"Predicted\"}, {\"date\": \"2021-09-01T00:00:00\", \"y_test\": 104.15000152587892, \"y_pred\": 106.30524434376304, \"label\": \"Actual\", \"predicted_label\": \"Predicted\"}, {\"date\": \"2021-09-02T00:00:00\", \"y_test\": 109.59999847412108, \"y_pred\": 106.78294116977872, \"label\": \"Actual\", \"predicted_label\": \"Predicted\"}, {\"date\": \"2021-09-03T00:00:00\", \"y_test\": 109.25, \"y_pred\": 110.75288913017634, \"label\": \"Actual\", \"predicted_label\": \"Predicted\"}, {\"date\": \"2021-09-06T00:00:00\", \"y_test\": 108.5999984741211, \"y_pred\": 110.05884441092014, \"label\": \"Actual\", \"predicted_label\": \"Predicted\"}, {\"date\": \"2021-09-07T00:00:00\", \"y_test\": 107.8000030517578, \"y_pred\": 109.93795075490664, \"label\": \"Actual\", \"predicted_label\": \"Predicted\"}, {\"date\": \"2021-09-08T00:00:00\", \"y_test\": 108.0999984741211, \"y_pred\": 109.79917925543255, \"label\": \"Actual\", \"predicted_label\": \"Predicted\"}, {\"date\": \"2021-09-09T00:00:00\", \"y_test\": 108.3000030517578, \"y_pred\": 109.74737469923768, \"label\": \"Actual\", \"predicted_label\": \"Predicted\"}, {\"date\": \"2021-09-13T00:00:00\", \"y_test\": 110.6999969482422, \"y_pred\": 110.65631573748108, \"label\": \"Actual\", \"predicted_label\": \"Predicted\"}, {\"date\": \"2021-09-14T00:00:00\", \"y_test\": 111.5, \"y_pred\": 113.56405445751051, \"label\": \"Actual\", \"predicted_label\": \"Predicted\"}, {\"date\": \"2021-09-15T00:00:00\", \"y_test\": 111.8499984741211, \"y_pred\": 113.55744882676441, \"label\": \"Actual\", \"predicted_label\": \"Predicted\"}, {\"date\": \"2021-09-16T00:00:00\", \"y_test\": 112.40000152587892, \"y_pred\": 114.40775489395718, \"label\": \"Actual\", \"predicted_label\": \"Predicted\"}, {\"date\": \"2021-09-17T00:00:00\", \"y_test\": 112.5, \"y_pred\": 113.574957190893, \"label\": \"Actual\", \"predicted_label\": \"Predicted\"}, {\"date\": \"2021-09-20T00:00:00\", \"y_test\": 121.0, \"y_pred\": 110.87849046135024, \"label\": \"Actual\", \"predicted_label\": \"Predicted\"}, {\"date\": \"2021-09-21T00:00:00\", \"y_test\": 112.6999969482422, \"y_pred\": 115.28201311953129, \"label\": \"Actual\", \"predicted_label\": \"Predicted\"}, {\"date\": \"2021-09-22T00:00:00\", \"y_test\": 117.4000015258789, \"y_pred\": 116.59472583041051, \"label\": \"Actual\", \"predicted_label\": \"Predicted\"}, {\"date\": \"2021-09-23T00:00:00\", \"y_test\": 124.15000152587889, \"y_pred\": 119.158880797259, \"label\": \"Actual\", \"predicted_label\": \"Predicted\"}, {\"date\": \"2021-09-24T00:00:00\", \"y_test\": 126.5, \"y_pred\": 128.09458858432785, \"label\": \"Actual\", \"predicted_label\": \"Predicted\"}, {\"date\": \"2021-09-27T00:00:00\", \"y_test\": 150.6999969482422, \"y_pred\": 130.11092089795613, \"label\": \"Actual\", \"predicted_label\": \"Predicted\"}, {\"date\": \"2021-09-28T00:00:00\", \"y_test\": 144.9499969482422, \"y_pred\": 149.43545179009388, \"label\": \"Actual\", \"predicted_label\": \"Predicted\"}, {\"date\": \"2021-09-29T00:00:00\", \"y_test\": 134.8000030517578, \"y_pred\": 135.67002351014565, \"label\": \"Actual\", \"predicted_label\": \"Predicted\"}, {\"date\": \"2021-09-30T00:00:00\", \"y_test\": 131.89999389648438, \"y_pred\": 136.88209501425246, \"label\": \"Actual\", \"predicted_label\": \"Predicted\"}, {\"date\": \"2021-10-01T00:00:00\", \"y_test\": 131.39999389648438, \"y_pred\": 134.97432309314183, \"label\": \"Actual\", \"predicted_label\": \"Predicted\"}, {\"date\": \"2021-10-04T00:00:00\", \"y_test\": 134.60000610351562, \"y_pred\": 134.09644804494502, \"label\": \"Actual\", \"predicted_label\": \"Predicted\"}, {\"date\": \"2021-10-05T00:00:00\", \"y_test\": 132.35000610351562, \"y_pred\": 136.858415670882, \"label\": \"Actual\", \"predicted_label\": \"Predicted\"}, {\"date\": \"2021-10-06T00:00:00\", \"y_test\": 137.5500030517578, \"y_pred\": 139.8807523766567, \"label\": \"Actual\", \"predicted_label\": \"Predicted\"}, {\"date\": \"2021-10-07T00:00:00\", \"y_test\": 137.25, \"y_pred\": 140.68962535001938, \"label\": \"Actual\", \"predicted_label\": \"Predicted\"}, {\"date\": \"2021-10-08T00:00:00\", \"y_test\": 147.35000610351562, \"y_pred\": 144.82674208106422, \"label\": \"Actual\", \"predicted_label\": \"Predicted\"}, {\"date\": \"2021-10-11T00:00:00\", \"y_test\": 147.75, \"y_pred\": 146.0840110281248, \"label\": \"Actual\", \"predicted_label\": \"Predicted\"}, {\"date\": \"2021-10-12T00:00:00\", \"y_test\": 146.05000305175778, \"y_pred\": 149.940162715557, \"label\": \"Actual\", \"predicted_label\": \"Predicted\"}, {\"date\": \"2021-10-13T00:00:00\", \"y_test\": 143.74999999999997, \"y_pred\": 149.89348915506167, \"label\": \"Actual\", \"predicted_label\": \"Predicted\"}, {\"date\": \"2021-10-14T00:00:00\", \"y_test\": 143.35000610351562, \"y_pred\": 148.69753726140698, \"label\": \"Actual\", \"predicted_label\": \"Predicted\"}, {\"date\": \"2021-10-18T00:00:00\", \"y_test\": 145.5, \"y_pred\": 148.82736922528622, \"label\": \"Actual\", \"predicted_label\": \"Predicted\"}, {\"date\": \"2021-10-19T00:00:00\", \"y_test\": 148.9499969482422, \"y_pred\": 150.81701850732028, \"label\": \"Actual\", \"predicted_label\": \"Predicted\"}, {\"date\": \"2021-10-20T00:00:00\", \"y_test\": 143.60000610351562, \"y_pred\": 145.79149486643928, \"label\": \"Actual\", \"predicted_label\": \"Predicted\"}, {\"date\": \"2021-10-21T00:00:00\", \"y_test\": 144.8000030517578, \"y_pred\": 148.34622248785865, \"label\": \"Actual\", \"predicted_label\": \"Predicted\"}, {\"date\": \"2021-10-22T00:00:00\", \"y_test\": 143.1999969482422, \"y_pred\": 144.24118024130158, \"label\": \"Actual\", \"predicted_label\": \"Predicted\"}, {\"date\": \"2021-10-25T00:00:00\", \"y_test\": 140.8000030517578, \"y_pred\": 143.26310474580703, \"label\": \"Actual\", \"predicted_label\": \"Predicted\"}, {\"date\": \"2021-10-26T00:00:00\", \"y_test\": 144.4499969482422, \"y_pred\": 145.6564190664317, \"label\": \"Actual\", \"predicted_label\": \"Predicted\"}, {\"date\": \"2021-10-27T00:00:00\", \"y_test\": 143.5, \"y_pred\": 144.63355167967816, \"label\": \"Actual\", \"predicted_label\": \"Predicted\"}, {\"date\": \"2021-10-28T00:00:00\", \"y_test\": 143.4499969482422, \"y_pred\": 147.11920306660642, \"label\": \"Actual\", \"predicted_label\": \"Predicted\"}, {\"date\": \"2021-10-29T00:00:00\", \"y_test\": 140.89999389648438, \"y_pred\": 143.06595097966115, \"label\": \"Actual\", \"predicted_label\": \"Predicted\"}, {\"date\": \"2021-11-01T00:00:00\", \"y_test\": 141.4499969482422, \"y_pred\": 143.97953311689656, \"label\": \"Actual\", \"predicted_label\": \"Predicted\"}, {\"date\": \"2021-11-02T00:00:00\", \"y_test\": 143.85000610351562, \"y_pred\": 145.81857569728103, \"label\": \"Actual\", \"predicted_label\": \"Predicted\"}, {\"date\": \"2021-11-03T00:00:00\", \"y_test\": 142.4499969482422, \"y_pred\": 145.97929970527647, \"label\": \"Actual\", \"predicted_label\": \"Predicted\"}, {\"date\": \"2021-11-04T00:00:00\", \"y_test\": 142.64999389648438, \"y_pred\": 145.06888433165767, \"label\": \"Actual\", \"predicted_label\": \"Predicted\"}, {\"date\": \"2021-11-08T00:00:00\", \"y_test\": 152.8000030517578, \"y_pred\": 145.880654692203, \"label\": \"Actual\", \"predicted_label\": \"Predicted\"}, {\"date\": \"2021-11-09T00:00:00\", \"y_test\": 155.0, \"y_pred\": 157.0491449219663, \"label\": \"Actual\", \"predicted_label\": \"Predicted\"}, {\"date\": \"2021-11-10T00:00:00\", \"y_test\": 154.9499969482422, \"y_pred\": 156.47742569592387, \"label\": \"Actual\", \"predicted_label\": \"Predicted\"}, {\"date\": \"2021-11-11T00:00:00\", \"y_test\": 152.39999389648438, \"y_pred\": 156.9271240252681, \"label\": \"Actual\", \"predicted_label\": \"Predicted\"}, {\"date\": \"2021-11-12T00:00:00\", \"y_test\": 148.85000610351562, \"y_pred\": 151.74785538843324, \"label\": \"Actual\", \"predicted_label\": \"Predicted\"}, {\"date\": \"2021-11-15T00:00:00\", \"y_test\": 146.85000610351562, \"y_pred\": 147.287966582903, \"label\": \"Actual\", \"predicted_label\": \"Predicted\"}, {\"date\": \"2021-11-16T00:00:00\", \"y_test\": 147.64999389648438, \"y_pred\": 150.20621783573554, \"label\": \"Actual\", \"predicted_label\": \"Predicted\"}, {\"date\": \"2021-11-17T00:00:00\", \"y_test\": 145.8000030517578, \"y_pred\": 148.19959793259216, \"label\": \"Actual\", \"predicted_label\": \"Predicted\"}, {\"date\": \"2021-11-18T00:00:00\", \"y_test\": 145.4499969482422, \"y_pred\": 149.11679679706995, \"label\": \"Actual\", \"predicted_label\": \"Predicted\"}, {\"date\": \"2021-11-22T00:00:00\", \"y_test\": 141.75, \"y_pred\": 147.00353412863615, \"label\": \"Actual\", \"predicted_label\": \"Predicted\"}, {\"date\": \"2021-11-23T00:00:00\", \"y_test\": 138.60000610351562, \"y_pred\": 141.8020393097872, \"label\": \"Actual\", \"predicted_label\": \"Predicted\"}, {\"date\": \"2021-11-24T00:00:00\", \"y_test\": 139.60000610351562, \"y_pred\": 141.51061589887226, \"label\": \"Actual\", \"predicted_label\": \"Predicted\"}, {\"date\": \"2021-11-25T00:00:00\", \"y_test\": 138.6999969482422, \"y_pred\": 142.25113055891507, \"label\": \"Actual\", \"predicted_label\": \"Predicted\"}, {\"date\": \"2021-11-26T00:00:00\", \"y_test\": 135.6999969482422, \"y_pred\": 142.56823146601639, \"label\": \"Actual\", \"predicted_label\": \"Predicted\"}, {\"date\": \"2021-11-29T00:00:00\", \"y_test\": 128.3000030517578, \"y_pred\": 132.35984619373792, \"label\": \"Actual\", \"predicted_label\": \"Predicted\"}, {\"date\": \"2021-11-30T00:00:00\", \"y_test\": 130.0, \"y_pred\": 131.43277872532738, \"label\": \"Actual\", \"predicted_label\": \"Predicted\"}, {\"date\": \"2021-12-01T00:00:00\", \"y_test\": 126.59999847412108, \"y_pred\": 124.7260201547837, \"label\": \"Actual\", \"predicted_label\": \"Predicted\"}, {\"date\": \"2021-12-02T00:00:00\", \"y_test\": 124.6500015258789, \"y_pred\": 125.39934788518062, \"label\": \"Actual\", \"predicted_label\": \"Predicted\"}, {\"date\": \"2021-12-03T00:00:00\", \"y_test\": 127.4000015258789, \"y_pred\": 128.4842739647362, \"label\": \"Actual\", \"predicted_label\": \"Predicted\"}, {\"date\": \"2021-12-06T00:00:00\", \"y_test\": 125.50000000000001, \"y_pred\": 130.1870909584353, \"label\": \"Actual\", \"predicted_label\": \"Predicted\"}, {\"date\": \"2021-12-07T00:00:00\", \"y_test\": 129.8000030517578, \"y_pred\": 125.99130500151473, \"label\": \"Actual\", \"predicted_label\": \"Predicted\"}, {\"date\": \"2021-12-08T00:00:00\", \"y_test\": 132.35000610351562, \"y_pred\": 133.46334271982641, \"label\": \"Actual\", \"predicted_label\": \"Predicted\"}, {\"date\": \"2021-12-09T00:00:00\", \"y_test\": 130.0, \"y_pred\": 133.6905969574795, \"label\": \"Actual\", \"predicted_label\": \"Predicted\"}, {\"date\": \"2021-12-10T00:00:00\", \"y_test\": 130.9499969482422, \"y_pred\": 133.04754642163888, \"label\": \"Actual\", \"predicted_label\": \"Predicted\"}, {\"date\": \"2021-12-13T00:00:00\", \"y_test\": 134.10000610351562, \"y_pred\": 135.6996353182324, \"label\": \"Actual\", \"predicted_label\": \"Predicted\"}, {\"date\": \"2021-12-14T00:00:00\", \"y_test\": 135.10000610351562, \"y_pred\": 138.68063464466047, \"label\": \"Actual\", \"predicted_label\": \"Predicted\"}, {\"date\": \"2021-12-15T00:00:00\", \"y_test\": 144.3000030517578, \"y_pred\": 138.1087949668237, \"label\": \"Actual\", \"predicted_label\": \"Predicted\"}, {\"date\": \"2021-12-16T00:00:00\", \"y_test\": 138.39999389648438, \"y_pred\": 143.60053842938834, \"label\": \"Actual\", \"predicted_label\": \"Predicted\"}, {\"date\": \"2021-12-17T00:00:00\", \"y_test\": 137.39999389648438, \"y_pred\": 141.9371442905883, \"label\": \"Actual\", \"predicted_label\": \"Predicted\"}, {\"date\": \"2021-12-20T00:00:00\", \"y_test\": 131.5500030517578, \"y_pred\": 138.16590665310292, \"label\": \"Actual\", \"predicted_label\": \"Predicted\"}, {\"date\": \"2021-12-21T00:00:00\", \"y_test\": 129.5500030517578, \"y_pred\": 130.6053773085383, \"label\": \"Actual\", \"predicted_label\": \"Predicted\"}, {\"date\": \"2021-12-22T00:00:00\", \"y_test\": 125.19999694824222, \"y_pred\": 127.84491521117775, \"label\": \"Actual\", \"predicted_label\": \"Predicted\"}, {\"date\": \"2021-12-23T00:00:00\", \"y_test\": 125.75, \"y_pred\": 125.49647387558493, \"label\": \"Actual\", \"predicted_label\": \"Predicted\"}, {\"date\": \"2021-12-24T00:00:00\", \"y_test\": 125.75, \"y_pred\": 130.07106698290073, \"label\": \"Actual\", \"predicted_label\": \"Predicted\"}, {\"date\": \"2021-12-27T00:00:00\", \"y_test\": 121.44999694824222, \"y_pred\": 125.68907524686573, \"label\": \"Actual\", \"predicted_label\": \"Predicted\"}, {\"date\": \"2021-12-28T00:00:00\", \"y_test\": 124.84999847412108, \"y_pred\": 125.57163081569112, \"label\": \"Actual\", \"predicted_label\": \"Predicted\"}, {\"date\": \"2021-12-29T00:00:00\", \"y_test\": 125.30000305175778, \"y_pred\": 127.95073325829499, \"label\": \"Actual\", \"predicted_label\": \"Predicted\"}, {\"date\": \"2021-12-30T00:00:00\", \"y_test\": 125.0, \"y_pred\": 129.0955517722606, \"label\": \"Actual\", \"predicted_label\": \"Predicted\"}, {\"date\": \"2021-12-31T00:00:00\", \"y_test\": 125.34999847412111, \"y_pred\": 128.90004285276225, \"label\": \"Actual\", \"predicted_label\": \"Predicted\"}, {\"date\": \"2022-01-03T00:00:00\", \"y_test\": 126.00000000000001, \"y_pred\": 128.9328913932507, \"label\": \"Actual\", \"predicted_label\": \"Predicted\"}, {\"date\": \"2022-01-04T00:00:00\", \"y_test\": 128.1999969482422, \"y_pred\": 129.205808201542, \"label\": \"Actual\", \"predicted_label\": \"Predicted\"}, {\"date\": \"2022-01-05T00:00:00\", \"y_test\": 127.5, \"y_pred\": 130.34635295146467, \"label\": \"Actual\", \"predicted_label\": \"Predicted\"}, {\"date\": \"2022-01-06T00:00:00\", \"y_test\": 128.35000610351562, \"y_pred\": 130.62504403358773, \"label\": \"Actual\", \"predicted_label\": \"Predicted\"}, {\"date\": \"2022-01-07T00:00:00\", \"y_test\": 128.35000610351562, \"y_pred\": 130.77037967382236, \"label\": \"Actual\", \"predicted_label\": \"Predicted\"}, {\"date\": \"2022-01-10T00:00:00\", \"y_test\": 133.5, \"y_pred\": 131.8525476260268, \"label\": \"Actual\", \"predicted_label\": \"Predicted\"}, {\"date\": \"2022-01-11T00:00:00\", \"y_test\": 134.5, \"y_pred\": 136.66054429398815, \"label\": \"Actual\", \"predicted_label\": \"Predicted\"}, {\"date\": \"2022-01-12T00:00:00\", \"y_test\": 137.4499969482422, \"y_pred\": 135.33792679741197, \"label\": \"Actual\", \"predicted_label\": \"Predicted\"}, {\"date\": \"2022-01-13T00:00:00\", \"y_test\": 138.8000030517578, \"y_pred\": 140.25255664170942, \"label\": \"Actual\", \"predicted_label\": \"Predicted\"}, {\"date\": \"2022-01-14T00:00:00\", \"y_test\": 138.60000610351562, \"y_pred\": 139.63182225401695, \"label\": \"Actual\", \"predicted_label\": \"Predicted\"}, {\"date\": \"2022-01-17T00:00:00\", \"y_test\": 145.5, \"y_pred\": 139.51511420352793, \"label\": \"Actual\", \"predicted_label\": \"Predicted\"}, {\"date\": \"2022-01-18T00:00:00\", \"y_test\": 154.89999389648438, \"y_pred\": 149.4542150677838, \"label\": \"Actual\", \"predicted_label\": \"Predicted\"}, {\"date\": \"2022-01-19T00:00:00\", \"y_test\": 140.75, \"y_pred\": 145.6443691275115, \"label\": \"Actual\", \"predicted_label\": \"Predicted\"}, {\"date\": \"2022-01-20T00:00:00\", \"y_test\": 141.35000610351562, \"y_pred\": 144.8061206878916, \"label\": \"Actual\", \"predicted_label\": \"Predicted\"}, {\"date\": \"2022-01-21T00:00:00\", \"y_test\": 141.0, \"y_pred\": 143.882919749915, \"label\": \"Actual\", \"predicted_label\": \"Predicted\"}, {\"date\": \"2022-01-24T00:00:00\", \"y_test\": 140.10000610351562, \"y_pred\": 145.3372229944968, \"label\": \"Actual\", \"predicted_label\": \"Predicted\"}, {\"date\": \"2022-01-25T00:00:00\", \"y_test\": 134.35000610351562, \"y_pred\": 135.68871555034264, \"label\": \"Actual\", \"predicted_label\": \"Predicted\"}, {\"date\": \"2022-01-27T00:00:00\", \"y_test\": 136.8000030517578, \"y_pred\": 138.66747080391738, \"label\": \"Actual\", \"predicted_label\": \"Predicted\"}, {\"date\": \"2022-01-28T00:00:00\", \"y_test\": 140.0, \"y_pred\": 140.6924854874438, \"label\": \"Actual\", \"predicted_label\": \"Predicted\"}, {\"date\": \"2022-01-31T00:00:00\", \"y_test\": 147.39999389648438, \"y_pred\": 141.4403686449369, \"label\": \"Actual\", \"predicted_label\": \"Predicted\"}, {\"date\": \"2022-02-01T00:00:00\", \"y_test\": 143.4499969482422, \"y_pred\": 146.11251100284431, \"label\": \"Actual\", \"predicted_label\": \"Predicted\"}, {\"date\": \"2022-02-02T00:00:00\", \"y_test\": 143.89999389648438, \"y_pred\": 145.3823462236679, \"label\": \"Actual\", \"predicted_label\": \"Predicted\"}, {\"date\": \"2022-02-03T00:00:00\", \"y_test\": 148.0, \"y_pred\": 147.76272941029146, \"label\": \"Actual\", \"predicted_label\": \"Predicted\"}, {\"date\": \"2022-02-04T00:00:00\", \"y_test\": 148.39999389648438, \"y_pred\": 153.0643217119858, \"label\": \"Actual\", \"predicted_label\": \"Predicted\"}, {\"date\": \"2022-02-07T00:00:00\", \"y_test\": 145.60000610351562, \"y_pred\": 146.48837074449133, \"label\": \"Actual\", \"predicted_label\": \"Predicted\"}, {\"date\": \"2022-02-08T00:00:00\", \"y_test\": 142.8000030517578, \"y_pred\": 147.68271967176818, \"label\": \"Actual\", \"predicted_label\": \"Predicted\"}, {\"date\": \"2022-02-09T00:00:00\", \"y_test\": 140.60000610351562, \"y_pred\": 144.2065014992932, \"label\": \"Actual\", \"predicted_label\": \"Predicted\"}, {\"date\": \"2022-02-10T00:00:00\", \"y_test\": 145.44999694824216, \"y_pred\": 142.6728715050096, \"label\": \"Actual\", \"predicted_label\": \"Predicted\"}, {\"date\": \"2022-02-11T00:00:00\", \"y_test\": 137.0, \"y_pred\": 139.62506887143823, \"label\": \"Actual\", \"predicted_label\": \"Predicted\"}, {\"date\": \"2022-02-15T00:00:00\", \"y_test\": 140.39999389648438, \"y_pred\": 139.0995854884549, \"label\": \"Actual\", \"predicted_label\": \"Predicted\"}, {\"date\": \"2022-02-16T00:00:00\", \"y_test\": 140.6999969482422, \"y_pred\": 141.45864496891562, \"label\": \"Actual\", \"predicted_label\": \"Predicted\"}, {\"date\": \"2022-02-17T00:00:00\", \"y_test\": 140.5, \"y_pred\": 142.08985655881133, \"label\": \"Actual\", \"predicted_label\": \"Predicted\"}, {\"date\": \"2022-02-18T00:00:00\", \"y_test\": 143.5, \"y_pred\": 144.51723305445637, \"label\": \"Actual\", \"predicted_label\": \"Predicted\"}, {\"date\": \"2022-02-21T00:00:00\", \"y_test\": 142.14999389648438, \"y_pred\": 144.39077305433133, \"label\": \"Actual\", \"predicted_label\": \"Predicted\"}, {\"date\": \"2022-02-22T00:00:00\", \"y_test\": 139.0, \"y_pred\": 142.11936587359645, \"label\": \"Actual\", \"predicted_label\": \"Predicted\"}, {\"date\": \"2022-02-23T00:00:00\", \"y_test\": 134.8000030517578, \"y_pred\": 135.71070925537947, \"label\": \"Actual\", \"predicted_label\": \"Predicted\"}, {\"date\": \"2022-02-24T00:00:00\", \"y_test\": 129.5500030517578, \"y_pred\": 135.46800546191898, \"label\": \"Actual\", \"predicted_label\": \"Predicted\"}, {\"date\": \"2022-02-25T00:00:00\", \"y_test\": 130.60000610351562, \"y_pred\": 130.22249416286155, \"label\": \"Actual\", \"predicted_label\": \"Predicted\"}, {\"date\": \"2022-02-28T00:00:00\", \"y_test\": 129.9499969482422, \"y_pred\": 134.89406038488656, \"label\": \"Actual\", \"predicted_label\": \"Predicted\"}, {\"date\": \"2022-03-02T00:00:00\", \"y_test\": 130.89999389648438, \"y_pred\": 134.75881524996697, \"label\": \"Actual\", \"predicted_label\": \"Predicted\"}, {\"date\": \"2022-03-03T00:00:00\", \"y_test\": 134.0, \"y_pred\": 134.03257021328272, \"label\": \"Actual\", \"predicted_label\": \"Predicted\"}, {\"date\": \"2022-03-04T00:00:00\", \"y_test\": 131.60000610351562, \"y_pred\": 138.33059917593883, \"label\": \"Actual\", \"predicted_label\": \"Predicted\"}, {\"date\": \"2022-03-07T00:00:00\", \"y_test\": 126.6999969482422, \"y_pred\": 132.49805494460793, \"label\": \"Actual\", \"predicted_label\": \"Predicted\"}, {\"date\": \"2022-03-08T00:00:00\", \"y_test\": 127.84999847412108, \"y_pred\": 129.85940897433846, \"label\": \"Actual\", \"predicted_label\": \"Predicted\"}, {\"date\": \"2022-03-09T00:00:00\", \"y_test\": 130.85000610351562, \"y_pred\": 129.72966342429834, \"label\": \"Actual\", \"predicted_label\": \"Predicted\"}, {\"date\": \"2022-03-10T00:00:00\", \"y_test\": 129.85000610351562, \"y_pred\": 130.1208441583287, \"label\": \"Actual\", \"predicted_label\": \"Predicted\"}, {\"date\": \"2022-03-11T00:00:00\", \"y_test\": 129.60000610351562, \"y_pred\": 128.91418637996586, \"label\": \"Actual\", \"predicted_label\": \"Predicted\"}, {\"date\": \"2022-03-14T00:00:00\", \"y_test\": 126.09999847412111, \"y_pred\": 127.34004094086309, \"label\": \"Actual\", \"predicted_label\": \"Predicted\"}, {\"date\": \"2022-03-15T00:00:00\", \"y_test\": 125.25, \"y_pred\": 128.97845147081455, \"label\": \"Actual\", \"predicted_label\": \"Predicted\"}, {\"date\": \"2022-03-16T00:00:00\", \"y_test\": 129.10000610351562, \"y_pred\": 128.02575961080387, \"label\": \"Actual\", \"predicted_label\": \"Predicted\"}, {\"date\": \"2022-03-17T00:00:00\", \"y_test\": 142.0, \"y_pred\": 133.70709448352514, \"label\": \"Actual\", \"predicted_label\": \"Predicted\"}, {\"date\": \"2022-03-21T00:00:00\", \"y_test\": 140.0500030517578, \"y_pred\": 144.41636073771295, \"label\": \"Actual\", \"predicted_label\": \"Predicted\"}, {\"date\": \"2022-03-22T00:00:00\", \"y_test\": 140.35000610351562, \"y_pred\": 143.91451242664553, \"label\": \"Actual\", \"predicted_label\": \"Predicted\"}, {\"date\": \"2022-03-23T00:00:00\", \"y_test\": 143.60000610351562, \"y_pred\": 142.33131712755687, \"label\": \"Actual\", \"predicted_label\": \"Predicted\"}, {\"date\": \"2022-03-24T00:00:00\", \"y_test\": 140.39999389648438, \"y_pred\": 143.55337951695637, \"label\": \"Actual\", \"predicted_label\": \"Predicted\"}, {\"date\": \"2022-03-25T00:00:00\", \"y_test\": 149.8000030517578, \"y_pred\": 143.8366508118618, \"label\": \"Actual\", \"predicted_label\": \"Predicted\"}, {\"date\": \"2022-03-28T00:00:00\", \"y_test\": 161.8000030517578, \"y_pred\": 154.76182388149695, \"label\": \"Actual\", \"predicted_label\": \"Predicted\"}, {\"date\": \"2022-03-29T00:00:00\", \"y_test\": 160.8000030517578, \"y_pred\": 165.95542462611763, \"label\": \"Actual\", \"predicted_label\": \"Predicted\"}, {\"date\": \"2022-03-30T00:00:00\", \"y_test\": 162.64999389648435, \"y_pred\": 165.1897723783619, \"label\": \"Actual\", \"predicted_label\": \"Predicted\"}, {\"date\": \"2022-03-31T00:00:00\", \"y_test\": 157.0, \"y_pred\": 160.78940009394714, \"label\": \"Actual\", \"predicted_label\": \"Predicted\"}, {\"date\": \"2022-04-01T00:00:00\", \"y_test\": 160.85000610351562, \"y_pred\": 162.03510509394752, \"label\": \"Actual\", \"predicted_label\": \"Predicted\"}, {\"date\": \"2022-04-04T00:00:00\", \"y_test\": 162.0, \"y_pred\": 166.648857215878, \"label\": \"Actual\", \"predicted_label\": \"Predicted\"}, {\"date\": \"2022-04-05T00:00:00\", \"y_test\": 163.8000030517578, \"y_pred\": 165.47377374399215, \"label\": \"Actual\", \"predicted_label\": \"Predicted\"}, {\"date\": \"2022-04-06T00:00:00\", \"y_test\": 171.60000610351562, \"y_pred\": 168.91564271819547, \"label\": \"Actual\", \"predicted_label\": \"Predicted\"}, {\"date\": \"2022-04-07T00:00:00\", \"y_test\": 167.6999969482422, \"y_pred\": 177.7796995073897, \"label\": \"Actual\", \"predicted_label\": \"Predicted\"}, {\"date\": \"2022-04-08T00:00:00\", \"y_test\": 168.5, \"y_pred\": 172.44255929537235, \"label\": \"Actual\", \"predicted_label\": \"Predicted\"}, {\"date\": \"2022-04-11T00:00:00\", \"y_test\": 169.9499969482422, \"y_pred\": 177.23855441349855, \"label\": \"Actual\", \"predicted_label\": \"Predicted\"}, {\"date\": \"2022-04-12T00:00:00\", \"y_test\": 167.0, \"y_pred\": 174.0675460333257, \"label\": \"Actual\", \"predicted_label\": \"Predicted\"}, {\"date\": \"2022-04-13T00:00:00\", \"y_test\": 167.3000030517578, \"y_pred\": 168.58916245244632, \"label\": \"Actual\", \"predicted_label\": \"Predicted\"}, {\"date\": \"2022-04-18T00:00:00\", \"y_test\": 164.0500030517578, \"y_pred\": 173.38752330257387, \"label\": \"Actual\", \"predicted_label\": \"Predicted\"}, {\"date\": \"2022-04-19T00:00:00\", \"y_test\": 165.0, \"y_pred\": 168.50849217421182, \"label\": \"Actual\", \"predicted_label\": \"Predicted\"}, {\"date\": \"2022-04-20T00:00:00\", \"y_test\": 161.89999389648438, \"y_pred\": 166.14665853434408, \"label\": \"Actual\", \"predicted_label\": \"Predicted\"}, {\"date\": \"2022-04-21T00:00:00\", \"y_test\": 164.0, \"y_pred\": 166.77948361700246, \"label\": \"Actual\", \"predicted_label\": \"Predicted\"}, {\"date\": \"2022-04-22T00:00:00\", \"y_test\": 162.80000305175778, \"y_pred\": 167.24014960124825, \"label\": \"Actual\", \"predicted_label\": \"Predicted\"}, {\"date\": \"2022-04-25T00:00:00\", \"y_test\": 157.4499969482422, \"y_pred\": 162.9093227140012, \"label\": \"Actual\", \"predicted_label\": \"Predicted\"}, {\"date\": \"2022-04-26T00:00:00\", \"y_test\": 161.39999389648438, \"y_pred\": 155.88541167369794, \"label\": \"Actual\", \"predicted_label\": \"Predicted\"}, {\"date\": \"2022-04-27T00:00:00\", \"y_test\": 158.5, \"y_pred\": 164.00858086260948, \"label\": \"Actual\", \"predicted_label\": \"Predicted\"}, {\"date\": \"2022-04-28T00:00:00\", \"y_test\": 163.60000610351562, \"y_pred\": 162.22374866184728, \"label\": \"Actual\", \"predicted_label\": \"Predicted\"}, {\"date\": \"2022-04-29T00:00:00\", \"y_test\": 165.1999969482422, \"y_pred\": 167.4774542582201, \"label\": \"Actual\", \"predicted_label\": \"Predicted\"}, {\"date\": \"2022-05-04T00:00:00\", \"y_test\": 169.3999938964844, \"y_pred\": 166.32646235747592, \"label\": \"Actual\", \"predicted_label\": \"Predicted\"}, {\"date\": \"2022-05-05T00:00:00\", \"y_test\": 164.0, \"y_pred\": 165.2083537679328, \"label\": \"Actual\", \"predicted_label\": \"Predicted\"}, {\"date\": \"2022-05-06T00:00:00\", \"y_test\": 150.8000030517578, \"y_pred\": 155.68337595206984, \"label\": \"Actual\", \"predicted_label\": \"Predicted\"}, {\"date\": \"2022-05-09T00:00:00\", \"y_test\": 147.0, \"y_pred\": 151.4045389721551, \"label\": \"Actual\", \"predicted_label\": \"Predicted\"}, {\"date\": \"2022-05-10T00:00:00\", \"y_test\": 145.5, \"y_pred\": 148.77357064132283, \"label\": \"Actual\", \"predicted_label\": \"Predicted\"}, {\"date\": \"2022-05-11T00:00:00\", \"y_test\": 139.85000610351562, \"y_pred\": 143.34378175586224, \"label\": \"Actual\", \"predicted_label\": \"Predicted\"}, {\"date\": \"2022-05-12T00:00:00\", \"y_test\": 134.35000610351562, \"y_pred\": 139.151844186868, \"label\": \"Actual\", \"predicted_label\": \"Predicted\"}, {\"date\": \"2022-05-13T00:00:00\", \"y_test\": 137.3000030517578, \"y_pred\": 139.19791258740523, \"label\": \"Actual\", \"predicted_label\": \"Predicted\"}, {\"date\": \"2022-05-16T00:00:00\", \"y_test\": 138.14999389648438, \"y_pred\": 139.6051062932107, \"label\": \"Actual\", \"predicted_label\": \"Predicted\"}, {\"date\": \"2022-05-17T00:00:00\", \"y_test\": 139.55000305175778, \"y_pred\": 143.07938597199632, \"label\": \"Actual\", \"predicted_label\": \"Predicted\"}, {\"date\": \"2022-05-18T00:00:00\", \"y_test\": 140.85000610351562, \"y_pred\": 143.74374562679182, \"label\": \"Actual\", \"predicted_label\": \"Predicted\"}, {\"date\": \"2022-05-19T00:00:00\", \"y_test\": 141.0500030517578, \"y_pred\": 144.0833097948877, \"label\": \"Actual\", \"predicted_label\": \"Predicted\"}, {\"date\": \"2022-05-20T00:00:00\", \"y_test\": 139.89999389648438, \"y_pred\": 144.24873193743088, \"label\": \"Actual\", \"predicted_label\": \"Predicted\"}, {\"date\": \"2022-05-23T00:00:00\", \"y_test\": 140.5, \"y_pred\": 144.55939672222232, \"label\": \"Actual\", \"predicted_label\": \"Predicted\"}, {\"date\": \"2022-05-24T00:00:00\", \"y_test\": 140.35000610351562, \"y_pred\": 145.43644274327693, \"label\": \"Actual\", \"predicted_label\": \"Predicted\"}, {\"date\": \"2022-05-25T00:00:00\", \"y_test\": 135.9499969482422, \"y_pred\": 141.45822870098854, \"label\": \"Actual\", \"predicted_label\": \"Predicted\"}, {\"date\": \"2022-05-26T00:00:00\", \"y_test\": 132.0, \"y_pred\": 132.76187967872025, \"label\": \"Actual\", \"predicted_label\": \"Predicted\"}, {\"date\": \"2022-05-27T00:00:00\", \"y_test\": 133.4499969482422, \"y_pred\": 136.29245574827974, \"label\": \"Actual\", \"predicted_label\": \"Predicted\"}, {\"date\": \"2022-05-30T00:00:00\", \"y_test\": 135.85000610351562, \"y_pred\": 133.6464063007521, \"label\": \"Actual\", \"predicted_label\": \"Predicted\"}, {\"date\": \"2022-05-31T00:00:00\", \"y_test\": 137.0, \"y_pred\": 141.7585973860898, \"label\": \"Actual\", \"predicted_label\": \"Predicted\"}, {\"date\": \"2022-06-01T00:00:00\", \"y_test\": 138.8000030517578, \"y_pred\": 140.95841014683933, \"label\": \"Actual\", \"predicted_label\": \"Predicted\"}, {\"date\": \"2022-06-02T00:00:00\", \"y_test\": 139.5, \"y_pred\": 142.9831440372636, \"label\": \"Actual\", \"predicted_label\": \"Predicted\"}, {\"date\": \"2022-06-03T00:00:00\", \"y_test\": 144.9499969482422, \"y_pred\": 143.88687446033313, \"label\": \"Actual\", \"predicted_label\": \"Predicted\"}, {\"date\": \"2022-06-06T00:00:00\", \"y_test\": 140.25, \"y_pred\": 146.92275326348533, \"label\": \"Actual\", \"predicted_label\": \"Predicted\"}, {\"date\": \"2022-06-07T00:00:00\", \"y_test\": 135.5500030517578, \"y_pred\": 140.02084888217053, \"label\": \"Actual\", \"predicted_label\": \"Predicted\"}, {\"date\": \"2022-06-08T00:00:00\", \"y_test\": 136.85000610351562, \"y_pred\": 139.32077614474832, \"label\": \"Actual\", \"predicted_label\": \"Predicted\"}, {\"date\": \"2022-06-09T00:00:00\", \"y_test\": 136.0, \"y_pred\": 139.96094278948937, \"label\": \"Actual\", \"predicted_label\": \"Predicted\"}, {\"date\": \"2022-06-10T00:00:00\", \"y_test\": 136.10000610351562, \"y_pred\": 139.02801463235863, \"label\": \"Actual\", \"predicted_label\": \"Predicted\"}, {\"date\": \"2022-06-13T00:00:00\", \"y_test\": 132.64999389648438, \"y_pred\": 139.26731762124712, \"label\": \"Actual\", \"predicted_label\": \"Predicted\"}, {\"date\": \"2022-06-14T00:00:00\", \"y_test\": 132.75, \"y_pred\": 135.67946354184554, \"label\": \"Actual\", \"predicted_label\": \"Predicted\"}, {\"date\": \"2022-06-15T00:00:00\", \"y_test\": 132.5, \"y_pred\": 134.52278915812624, \"label\": \"Actual\", \"predicted_label\": \"Predicted\"}, {\"date\": \"2022-06-16T00:00:00\", \"y_test\": 133.25, \"y_pred\": 136.13613720403325, \"label\": \"Actual\", \"predicted_label\": \"Predicted\"}, {\"date\": \"2022-06-17T00:00:00\", \"y_test\": 128.3000030517578, \"y_pred\": 134.18508159838817, \"label\": \"Actual\", \"predicted_label\": \"Predicted\"}, {\"date\": \"2022-06-20T00:00:00\", \"y_test\": 126.0500030517578, \"y_pred\": 130.0163199155683, \"label\": \"Actual\", \"predicted_label\": \"Predicted\"}, {\"date\": \"2022-06-21T00:00:00\", \"y_test\": 127.34999847412108, \"y_pred\": 126.28546902209875, \"label\": \"Actual\", \"predicted_label\": \"Predicted\"}, {\"date\": \"2022-06-22T00:00:00\", \"y_test\": 128.10000610351562, \"y_pred\": 131.00835692373414, \"label\": \"Actual\", \"predicted_label\": \"Predicted\"}, {\"date\": \"2022-06-23T00:00:00\", \"y_test\": 127.75, \"y_pred\": 129.4383733594379, \"label\": \"Actual\", \"predicted_label\": \"Predicted\"}, {\"date\": \"2022-06-24T00:00:00\", \"y_test\": 129.89999389648438, \"y_pred\": 130.11253050979295, \"label\": \"Actual\", \"predicted_label\": \"Predicted\"}, {\"date\": \"2022-06-27T00:00:00\", \"y_test\": 128.8000030517578, \"y_pred\": 129.82540392841065, \"label\": \"Actual\", \"predicted_label\": \"Predicted\"}, {\"date\": \"2022-06-28T00:00:00\", \"y_test\": 126.80000305175781, \"y_pred\": 129.2044756654425, \"label\": \"Actual\", \"predicted_label\": \"Predicted\"}, {\"date\": \"2022-06-29T00:00:00\", \"y_test\": 128.5, \"y_pred\": 129.26885983669848, \"label\": \"Actual\", \"predicted_label\": \"Predicted\"}, {\"date\": \"2022-06-30T00:00:00\", \"y_test\": 126.40000152587889, \"y_pred\": 130.53307398542879, \"label\": \"Actual\", \"predicted_label\": \"Predicted\"}, {\"date\": \"2022-07-01T00:00:00\", \"y_test\": 127.9499969482422, \"y_pred\": 128.57799363208136, \"label\": \"Actual\", \"predicted_label\": \"Predicted\"}, {\"date\": \"2022-07-04T00:00:00\", \"y_test\": 129.25, \"y_pred\": 130.56893643928797, \"label\": \"Actual\", \"predicted_label\": \"Predicted\"}, {\"date\": \"2022-07-05T00:00:00\", \"y_test\": 129.60000610351562, \"y_pred\": 130.8948781203443, \"label\": \"Actual\", \"predicted_label\": \"Predicted\"}, {\"date\": \"2022-07-06T00:00:00\", \"y_test\": 129.0, \"y_pred\": 131.78918924245755, \"label\": \"Actual\", \"predicted_label\": \"Predicted\"}, {\"date\": \"2022-07-07T00:00:00\", \"y_test\": 132.14999389648438, \"y_pred\": 131.87623819919844, \"label\": \"Actual\", \"predicted_label\": \"Predicted\"}, {\"date\": \"2022-07-08T00:00:00\", \"y_test\": 135.60000610351562, \"y_pred\": 134.51162344272726, \"label\": \"Actual\", \"predicted_label\": \"Predicted\"}, {\"date\": \"2022-07-11T00:00:00\", \"y_test\": 136.5500030517578, \"y_pred\": 138.48910435756795, \"label\": \"Actual\", \"predicted_label\": \"Predicted\"}, {\"date\": \"2022-07-12T00:00:00\", \"y_test\": 135.5, \"y_pred\": 139.2212849200491, \"label\": \"Actual\", \"predicted_label\": \"Predicted\"}, {\"date\": \"2022-07-13T00:00:00\", \"y_test\": 135.8000030517578, \"y_pred\": 138.292391068236, \"label\": \"Actual\", \"predicted_label\": \"Predicted\"}, {\"date\": \"2022-07-14T00:00:00\", \"y_test\": 131.60000610351562, \"y_pred\": 135.64082634092384, \"label\": \"Actual\", \"predicted_label\": \"Predicted\"}, {\"date\": \"2022-07-15T00:00:00\", \"y_test\": 132.5, \"y_pred\": 135.6125319335161, \"label\": \"Actual\", \"predicted_label\": \"Predicted\"}, {\"date\": \"2022-07-18T00:00:00\", \"y_test\": 135.0, \"y_pred\": 135.4799198148261, \"label\": \"Actual\", \"predicted_label\": \"Predicted\"}, {\"date\": \"2022-07-19T00:00:00\", \"y_test\": 133.9499969482422, \"y_pred\": 136.87314554129287, \"label\": \"Actual\", \"predicted_label\": \"Predicted\"}, {\"date\": \"2022-07-20T00:00:00\", \"y_test\": 135.25, \"y_pred\": 134.93269683804638, \"label\": \"Actual\", \"predicted_label\": \"Predicted\"}, {\"date\": \"2022-07-21T00:00:00\", \"y_test\": 138.60000610351562, \"y_pred\": 136.51310650058375, \"label\": \"Actual\", \"predicted_label\": \"Predicted\"}, {\"date\": \"2022-07-22T00:00:00\", \"y_test\": 140.75, \"y_pred\": 143.25395830510587, \"label\": \"Actual\", \"predicted_label\": \"Predicted\"}, {\"date\": \"2022-07-25T00:00:00\", \"y_test\": 144.5, \"y_pred\": 145.399281057487, \"label\": \"Actual\", \"predicted_label\": \"Predicted\"}, {\"date\": \"2022-07-26T00:00:00\", \"y_test\": 158.89999389648438, \"y_pred\": 149.59824885543225, \"label\": \"Actual\", \"predicted_label\": \"Predicted\"}, {\"date\": \"2022-07-27T00:00:00\", \"y_test\": 154.8000030517578, \"y_pred\": 160.52839537091953, \"label\": \"Actual\", \"predicted_label\": \"Predicted\"}, {\"date\": \"2022-07-28T00:00:00\", \"y_test\": 156.4499969482422, \"y_pred\": 154.66352308645926, \"label\": \"Actual\", \"predicted_label\": \"Predicted\"}, {\"date\": \"2022-07-29T00:00:00\", \"y_test\": 156.4499969482422, \"y_pred\": 158.239263524581, \"label\": \"Actual\", \"predicted_label\": \"Predicted\"}, {\"date\": \"2022-08-01T00:00:00\", \"y_test\": 153.0, \"y_pred\": 156.62100512242696, \"label\": \"Actual\", \"predicted_label\": \"Predicted\"}, {\"date\": \"2022-08-02T00:00:00\", \"y_test\": 154.39999389648438, \"y_pred\": 154.94352202454547, \"label\": \"Actual\", \"predicted_label\": \"Predicted\"}, {\"date\": \"2022-08-03T00:00:00\", \"y_test\": 154.1999969482422, \"y_pred\": 160.15216179473094, \"label\": \"Actual\", \"predicted_label\": \"Predicted\"}, {\"date\": \"2022-08-04T00:00:00\", \"y_test\": 155.0500030517578, \"y_pred\": 159.36708332963124, \"label\": \"Actual\", \"predicted_label\": \"Predicted\"}, {\"date\": \"2022-08-05T00:00:00\", \"y_test\": 158.9499969482422, \"y_pred\": 159.95939963581714, \"label\": \"Actual\", \"predicted_label\": \"Predicted\"}, {\"date\": \"2022-08-08T00:00:00\", \"y_test\": 158.5, \"y_pred\": 162.56714037132028, \"label\": \"Actual\", \"predicted_label\": \"Predicted\"}, {\"date\": \"2022-08-10T00:00:00\", \"y_test\": 156.69999694824216, \"y_pred\": 158.04294583980902, \"label\": \"Actual\", \"predicted_label\": \"Predicted\"}, {\"date\": \"2022-08-11T00:00:00\", \"y_test\": 158.80000305175778, \"y_pred\": 161.09822713019432, \"label\": \"Actual\", \"predicted_label\": \"Predicted\"}, {\"date\": \"2022-08-12T00:00:00\", \"y_test\": 154.4499969482422, \"y_pred\": 158.96177717888042, \"label\": \"Actual\", \"predicted_label\": \"Predicted\"}, {\"date\": \"2022-08-16T00:00:00\", \"y_test\": 158.25, \"y_pred\": 156.71449172857962, \"label\": \"Actual\", \"predicted_label\": \"Predicted\"}, {\"date\": \"2022-08-17T00:00:00\", \"y_test\": 158.5, \"y_pred\": 161.031126683889, \"label\": \"Actual\", \"predicted_label\": \"Predicted\"}, {\"date\": \"2022-08-18T00:00:00\", \"y_test\": 163.0500030517578, \"y_pred\": 161.73331788795545, \"label\": \"Actual\", \"predicted_label\": \"Predicted\"}, {\"date\": \"2022-08-19T00:00:00\", \"y_test\": 157.10000610351562, \"y_pred\": 161.76716680966152, \"label\": \"Actual\", \"predicted_label\": \"Predicted\"}, {\"date\": \"2022-08-22T00:00:00\", \"y_test\": 155.19999694824216, \"y_pred\": 159.54994444541364, \"label\": \"Actual\", \"predicted_label\": \"Predicted\"}, {\"date\": \"2022-08-23T00:00:00\", \"y_test\": 155.5500030517578, \"y_pred\": 159.69236292257762, \"label\": \"Actual\", \"predicted_label\": \"Predicted\"}, {\"date\": \"2022-08-24T00:00:00\", \"y_test\": 160.6999969482422, \"y_pred\": 159.8086521142379, \"label\": \"Actual\", \"predicted_label\": \"Predicted\"}, {\"date\": \"2022-08-25T00:00:00\", \"y_test\": 161.44999694824222, \"y_pred\": 164.58198551377797, \"label\": \"Actual\", \"predicted_label\": \"Predicted\"}, {\"date\": \"2022-08-26T00:00:00\", \"y_test\": 161.8000030517578, \"y_pred\": 165.1911582302356, \"label\": \"Actual\", \"predicted_label\": \"Predicted\"}, {\"date\": \"2022-08-29T00:00:00\", \"y_test\": 163.3000030517578, \"y_pred\": 166.3545486473609, \"label\": \"Actual\", \"predicted_label\": \"Predicted\"}, {\"date\": \"2022-08-30T00:00:00\", \"y_test\": 161.39999389648438, \"y_pred\": 162.13277424050503, \"label\": \"Actual\", \"predicted_label\": \"Predicted\"}, {\"date\": \"2022-09-01T00:00:00\", \"y_test\": 162.5, \"y_pred\": 165.6419622088433, \"label\": \"Actual\", \"predicted_label\": \"Predicted\"}, {\"date\": \"2022-09-02T00:00:00\", \"y_test\": 191.50000000000003, \"y_pred\": 164.93697868867272, \"label\": \"Actual\", \"predicted_label\": \"Predicted\"}, {\"date\": \"2022-09-05T00:00:00\", \"y_test\": 192.0, \"y_pred\": 197.36211086562238, \"label\": \"Actual\", \"predicted_label\": \"Predicted\"}, {\"date\": \"2022-09-06T00:00:00\", \"y_test\": 186.94999694824222, \"y_pred\": 191.76770752828915, \"label\": \"Actual\", \"predicted_label\": \"Predicted\"}, {\"date\": \"2022-09-07T00:00:00\", \"y_test\": 205.4499969482422, \"y_pred\": 188.06135468691926, \"label\": \"Actual\", \"predicted_label\": \"Predicted\"}, {\"date\": \"2022-09-08T00:00:00\", \"y_test\": 198.8500061035156, \"y_pred\": 212.04138524043162, \"label\": \"Actual\", \"predicted_label\": \"Predicted\"}, {\"date\": \"2022-09-09T00:00:00\", \"y_test\": 197.0500030517578, \"y_pred\": 206.13577471090025, \"label\": \"Actual\", \"predicted_label\": \"Predicted\"}, {\"date\": \"2022-09-12T00:00:00\", \"y_test\": 193.6499938964844, \"y_pred\": 199.32612605834464, \"label\": \"Actual\", \"predicted_label\": \"Predicted\"}, {\"date\": \"2022-09-13T00:00:00\", \"y_test\": 190.0, \"y_pred\": 197.9161777398255, \"label\": \"Actual\", \"predicted_label\": \"Predicted\"}, {\"date\": \"2022-09-14T00:00:00\", \"y_test\": 187.75, \"y_pred\": 195.05222422263788, \"label\": \"Actual\", \"predicted_label\": \"Predicted\"}, {\"date\": \"2022-09-15T00:00:00\", \"y_test\": 185.94999694824216, \"y_pred\": 194.15687580705227, \"label\": \"Actual\", \"predicted_label\": \"Predicted\"}, {\"date\": \"2022-09-16T00:00:00\", \"y_test\": 196.14999389648438, \"y_pred\": 191.3623122242053, \"label\": \"Actual\", \"predicted_label\": \"Predicted\"}, {\"date\": \"2022-09-19T00:00:00\", \"y_test\": 188.6000061035156, \"y_pred\": 194.16868632335877, \"label\": \"Actual\", \"predicted_label\": \"Predicted\"}, {\"date\": \"2022-09-20T00:00:00\", \"y_test\": 195.0, \"y_pred\": 194.46369800435193, \"label\": \"Actual\", \"predicted_label\": \"Predicted\"}, {\"date\": \"2022-09-21T00:00:00\", \"y_test\": 198.8999938964844, \"y_pred\": 198.84987447011724, \"label\": \"Actual\", \"predicted_label\": \"Predicted\"}, {\"date\": \"2022-09-22T00:00:00\", \"y_test\": 199.39999389648438, \"y_pred\": 205.64001676912326, \"label\": \"Actual\", \"predicted_label\": \"Predicted\"}, {\"date\": \"2022-09-23T00:00:00\", \"y_test\": 200.6999969482422, \"y_pred\": 206.9122599418951, \"label\": \"Actual\", \"predicted_label\": \"Predicted\"}, {\"date\": \"2022-09-26T00:00:00\", \"y_test\": 199.99999999999997, \"y_pred\": 208.94179705347608, \"label\": \"Actual\", \"predicted_label\": \"Predicted\"}, {\"date\": \"2022-09-27T00:00:00\", \"y_test\": 196.5, \"y_pred\": 203.4857375820702, \"label\": \"Actual\", \"predicted_label\": \"Predicted\"}, {\"date\": \"2022-09-28T00:00:00\", \"y_test\": 193.0, \"y_pred\": 197.01469144894722, \"label\": \"Actual\", \"predicted_label\": \"Predicted\"}, {\"date\": \"2022-09-29T00:00:00\", \"y_test\": 192.85000610351562, \"y_pred\": 196.64384508969292, \"label\": \"Actual\", \"predicted_label\": \"Predicted\"}, {\"date\": \"2022-09-30T00:00:00\", \"y_test\": 190.0500030517578, \"y_pred\": 192.6821423552485, \"label\": \"Actual\", \"predicted_label\": \"Predicted\"}, {\"date\": \"2022-10-03T00:00:00\", \"y_test\": 197.10000610351557, \"y_pred\": 193.0246196111426, \"label\": \"Actual\", \"predicted_label\": \"Predicted\"}, {\"date\": \"2022-10-04T00:00:00\", \"y_test\": 201.19999694824222, \"y_pred\": 203.23517279472833, \"label\": \"Actual\", \"predicted_label\": \"Predicted\"}, {\"date\": \"2022-10-06T00:00:00\", \"y_test\": 198.8999938964844, \"y_pred\": 201.17481403599163, \"label\": \"Actual\", \"predicted_label\": \"Predicted\"}, {\"date\": \"2022-10-07T00:00:00\", \"y_test\": 193.10000610351562, \"y_pred\": 196.7144991114585, \"label\": \"Actual\", \"predicted_label\": \"Predicted\"}, {\"date\": \"2022-10-10T00:00:00\", \"y_test\": 196.6999969482422, \"y_pred\": 198.03256501857166, \"label\": \"Actual\", \"predicted_label\": \"Predicted\"}, {\"date\": \"2022-10-11T00:00:00\", \"y_test\": 190.6000061035156, \"y_pred\": 194.60551122978254, \"label\": \"Actual\", \"predicted_label\": \"Predicted\"}, {\"date\": \"2022-10-12T00:00:00\", \"y_test\": 186.4499969482422, \"y_pred\": 192.45991044896752, \"label\": \"Actual\", \"predicted_label\": \"Predicted\"}, {\"date\": \"2022-10-13T00:00:00\", \"y_test\": 186.8000030517578, \"y_pred\": 188.9966351839158, \"label\": \"Actual\", \"predicted_label\": \"Predicted\"}, {\"date\": \"2022-10-14T00:00:00\", \"y_test\": 187.6000061035156, \"y_pred\": 191.1037591678189, \"label\": \"Actual\", \"predicted_label\": \"Predicted\"}, {\"date\": \"2022-10-17T00:00:00\", \"y_test\": 185.19999694824216, \"y_pred\": 188.50329521448506, \"label\": \"Actual\", \"predicted_label\": \"Predicted\"}, {\"date\": \"2022-10-18T00:00:00\", \"y_test\": 188.8000030517578, \"y_pred\": 190.71281074016164, \"label\": \"Actual\", \"predicted_label\": \"Predicted\"}, {\"date\": \"2022-10-19T00:00:00\", \"y_test\": 192.0, \"y_pred\": 193.51654139088652, \"label\": \"Actual\", \"predicted_label\": \"Predicted\"}, {\"date\": \"2022-10-20T00:00:00\", \"y_test\": 187.6499938964844, \"y_pred\": 191.54201051184717, \"label\": \"Actual\", \"predicted_label\": \"Predicted\"}, {\"date\": \"2022-10-21T00:00:00\", \"y_test\": 191.0500030517578, \"y_pred\": 189.0825503793033, \"label\": \"Actual\", \"predicted_label\": \"Predicted\"}, {\"date\": \"2022-10-24T00:00:00\", \"y_test\": 194.89999389648443, \"y_pred\": 195.8535876574435, \"label\": \"Actual\", \"predicted_label\": \"Predicted\"}, {\"date\": \"2022-10-25T00:00:00\", \"y_test\": 195.64999389648443, \"y_pred\": 198.6671455252531, \"label\": \"Actual\", \"predicted_label\": \"Predicted\"}, {\"date\": \"2022-10-27T00:00:00\", \"y_test\": 191.5, \"y_pred\": 195.86984083068654, \"label\": \"Actual\", \"predicted_label\": \"Predicted\"}, {\"date\": \"2022-10-28T00:00:00\", \"y_test\": 190.1999969482422, \"y_pred\": 195.03401979371898, \"label\": \"Actual\", \"predicted_label\": \"Predicted\"}, {\"date\": \"2022-10-31T00:00:00\", \"y_test\": 197.1999969482422, \"y_pred\": 194.10999068407003, \"label\": \"Actual\", \"predicted_label\": \"Predicted\"}, {\"date\": \"2022-11-01T00:00:00\", \"y_test\": 196.0500030517578, \"y_pred\": 201.20409584273733, \"label\": \"Actual\", \"predicted_label\": \"Predicted\"}, {\"date\": \"2022-11-02T00:00:00\", \"y_test\": 196.8999938964844, \"y_pred\": 198.45095427052067, \"label\": \"Actual\", \"predicted_label\": \"Predicted\"}, {\"date\": \"2022-11-03T00:00:00\", \"y_test\": 194.5, \"y_pred\": 199.16469707179755, \"label\": \"Actual\", \"predicted_label\": \"Predicted\"}, {\"date\": \"2022-11-04T00:00:00\", \"y_test\": 191.25, \"y_pred\": 195.01585924939238, \"label\": \"Actual\", \"predicted_label\": \"Predicted\"}, {\"date\": \"2022-11-07T00:00:00\", \"y_test\": 188.50000000000003, \"y_pred\": 193.28155980568584, \"label\": \"Actual\", \"predicted_label\": \"Predicted\"}, {\"date\": \"2022-11-09T00:00:00\", \"y_test\": 189.1999969482422, \"y_pred\": 191.87168884115945, \"label\": \"Actual\", \"predicted_label\": \"Predicted\"}, {\"date\": \"2022-11-10T00:00:00\", \"y_test\": 186.25, \"y_pred\": 192.31077520560413, \"label\": \"Actual\", \"predicted_label\": \"Predicted\"}, {\"date\": \"2022-11-11T00:00:00\", \"y_test\": 186.0, \"y_pred\": 188.25557611809595, \"label\": \"Actual\", \"predicted_label\": \"Predicted\"}, {\"date\": \"2022-11-14T00:00:00\", \"y_test\": 184.9499969482422, \"y_pred\": 191.0549651934577, \"label\": \"Actual\", \"predicted_label\": \"Predicted\"}, {\"date\": \"2022-11-15T00:00:00\", \"y_test\": 178.6999969482422, \"y_pred\": 184.35869203205988, \"label\": \"Actual\", \"predicted_label\": \"Predicted\"}, {\"date\": \"2022-11-16T00:00:00\", \"y_test\": 178.5500030517578, \"y_pred\": 180.3052095752442, \"label\": \"Actual\", \"predicted_label\": \"Predicted\"}, {\"date\": \"2022-11-17T00:00:00\", \"y_test\": 174.24999999999997, \"y_pred\": 180.07740142949015, \"label\": \"Actual\", \"predicted_label\": \"Predicted\"}, {\"date\": \"2022-11-18T00:00:00\", \"y_test\": 170.8000030517578, \"y_pred\": 175.13581706556474, \"label\": \"Actual\", \"predicted_label\": \"Predicted\"}, {\"date\": \"2022-11-21T00:00:00\", \"y_test\": 176.75, \"y_pred\": 171.3813768728966, \"label\": \"Actual\", \"predicted_label\": \"Predicted\"}, {\"date\": \"2022-11-22T00:00:00\", \"y_test\": 173.0, \"y_pred\": 178.94419128337012, \"label\": \"Actual\", \"predicted_label\": \"Predicted\"}, {\"date\": \"2022-11-23T00:00:00\", \"y_test\": 172.75, \"y_pred\": 177.08895280066827, \"label\": \"Actual\", \"predicted_label\": \"Predicted\"}, {\"date\": \"2022-11-24T00:00:00\", \"y_test\": 173.0, \"y_pred\": 177.25778926691834, \"label\": \"Actual\", \"predicted_label\": \"Predicted\"}, {\"date\": \"2022-11-25T00:00:00\", \"y_test\": 177.75, \"y_pred\": 176.47018466188734, \"label\": \"Actual\", \"predicted_label\": \"Predicted\"}, {\"date\": \"2022-11-28T00:00:00\", \"y_test\": 177.5500030517578, \"y_pred\": 183.13789232647622, \"label\": \"Actual\", \"predicted_label\": \"Predicted\"}, {\"date\": \"2022-11-29T00:00:00\", \"y_test\": 175.64999389648438, \"y_pred\": 180.60111451636766, \"label\": \"Actual\", \"predicted_label\": \"Predicted\"}, {\"date\": \"2022-11-30T00:00:00\", \"y_test\": 180.5500030517578, \"y_pred\": 179.09673923820242, \"label\": \"Actual\", \"predicted_label\": \"Predicted\"}, {\"date\": \"2022-12-01T00:00:00\", \"y_test\": 182.0, \"y_pred\": 184.18142529080342, \"label\": \"Actual\", \"predicted_label\": \"Predicted\"}, {\"date\": \"2022-12-02T00:00:00\", \"y_test\": 176.8000030517578, \"y_pred\": 181.44244928506666, \"label\": \"Actual\", \"predicted_label\": \"Predicted\"}, {\"date\": \"2022-12-05T00:00:00\", \"y_test\": 177.75, \"y_pred\": 181.53552776355917, \"label\": \"Actual\", \"predicted_label\": \"Predicted\"}, {\"date\": \"2022-12-06T00:00:00\", \"y_test\": 180.6000061035156, \"y_pred\": 182.09356159753776, \"label\": \"Actual\", \"predicted_label\": \"Predicted\"}, {\"date\": \"2022-12-07T00:00:00\", \"y_test\": 182.94999694824216, \"y_pred\": 185.1817082388503, \"label\": \"Actual\", \"predicted_label\": \"Predicted\"}, {\"date\": \"2022-12-08T00:00:00\", \"y_test\": 185.64999389648443, \"y_pred\": 188.1877762438166, \"label\": \"Actual\", \"predicted_label\": \"Predicted\"}, {\"date\": \"2022-12-09T00:00:00\", \"y_test\": 186.8000030517578, \"y_pred\": 191.3854843846892, \"label\": \"Actual\", \"predicted_label\": \"Predicted\"}, {\"date\": \"2022-12-12T00:00:00\", \"y_test\": 184.0, \"y_pred\": 189.8509179087539, \"label\": \"Actual\", \"predicted_label\": \"Predicted\"}, {\"date\": \"2022-12-13T00:00:00\", \"y_test\": 187.3999938964844, \"y_pred\": 190.40154550903156, \"label\": \"Actual\", \"predicted_label\": \"Predicted\"}, {\"date\": \"2022-12-14T00:00:00\", \"y_test\": 184.6000061035156, \"y_pred\": 189.6012800750388, \"label\": \"Actual\", \"predicted_label\": \"Predicted\"}, {\"date\": \"2022-12-15T00:00:00\", \"y_test\": 183.8000030517578, \"y_pred\": 187.86811498718006, \"label\": \"Actual\", \"predicted_label\": \"Predicted\"}, {\"date\": \"2022-12-16T00:00:00\", \"y_test\": 183.1999969482422, \"y_pred\": 187.6513466256827, \"label\": \"Actual\", \"predicted_label\": \"Predicted\"}, {\"date\": \"2022-12-19T00:00:00\", \"y_test\": 182.9499969482422, \"y_pred\": 185.63107307835384, \"label\": \"Actual\", \"predicted_label\": \"Predicted\"}, {\"date\": \"2022-12-20T00:00:00\", \"y_test\": 179.69999694824216, \"y_pred\": 182.17827676502264, \"label\": \"Actual\", \"predicted_label\": \"Predicted\"}, {\"date\": \"2022-12-21T00:00:00\", \"y_test\": 179.3000030517578, \"y_pred\": 185.62978569219962, \"label\": \"Actual\", \"predicted_label\": \"Predicted\"}, {\"date\": \"2022-12-22T00:00:00\", \"y_test\": 171.5500030517578, \"y_pred\": 176.64360359514095, \"label\": \"Actual\", \"predicted_label\": \"Predicted\"}, {\"date\": \"2022-12-23T00:00:00\", \"y_test\": 163.8000030517578, \"y_pred\": 171.55959933504272, \"label\": \"Actual\", \"predicted_label\": \"Predicted\"}, {\"date\": \"2022-12-26T00:00:00\", \"y_test\": 164.5, \"y_pred\": 164.4258689821538, \"label\": \"Actual\", \"predicted_label\": \"Predicted\"}, {\"date\": \"2022-12-27T00:00:00\", \"y_test\": 169.0, \"y_pred\": 169.59998830131062, \"label\": \"Actual\", \"predicted_label\": \"Predicted\"}, {\"date\": \"2022-12-28T00:00:00\", \"y_test\": 176.0, \"y_pred\": 168.11057948690893, \"label\": \"Actual\", \"predicted_label\": \"Predicted\"}, {\"date\": \"2022-12-29T00:00:00\", \"y_test\": 171.75, \"y_pred\": 179.22917261170878, \"label\": \"Actual\", \"predicted_label\": \"Predicted\"}, {\"date\": \"2022-12-30T00:00:00\", \"y_test\": 179.5500030517578, \"y_pred\": 175.56119565047553, \"label\": \"Actual\", \"predicted_label\": \"Predicted\"}, {\"date\": \"2023-01-02T00:00:00\", \"y_test\": 177.8999938964844, \"y_pred\": 184.3919860795118, \"label\": \"Actual\", \"predicted_label\": \"Predicted\"}, {\"date\": \"2023-01-03T00:00:00\", \"y_test\": 180.74999999999997, \"y_pred\": 183.9221214514376, \"label\": \"Actual\", \"predicted_label\": \"Predicted\"}, {\"date\": \"2023-01-04T00:00:00\", \"y_test\": 181.3999938964844, \"y_pred\": 186.57937423785253, \"label\": \"Actual\", \"predicted_label\": \"Predicted\"}, {\"date\": \"2023-01-05T00:00:00\", \"y_test\": 178.0, \"y_pred\": 183.2352670376192, \"label\": \"Actual\", \"predicted_label\": \"Predicted\"}, {\"date\": \"2023-01-06T00:00:00\", \"y_test\": 177.75, \"y_pred\": 183.24874784213196, \"label\": \"Actual\", \"predicted_label\": \"Predicted\"}, {\"date\": \"2023-01-09T00:00:00\", \"y_test\": 181.75, \"y_pred\": 183.85915029648302, \"label\": \"Actual\", \"predicted_label\": \"Predicted\"}, {\"date\": \"2023-01-10T00:00:00\", \"y_test\": 183.5, \"y_pred\": 184.9789542876282, \"label\": \"Actual\", \"predicted_label\": \"Predicted\"}, {\"date\": \"2023-01-11T00:00:00\", \"y_test\": 178.1999969482422, \"y_pred\": 184.4715965718805, \"label\": \"Actual\", \"predicted_label\": \"Predicted\"}, {\"date\": \"2023-01-12T00:00:00\", \"y_test\": 176.5, \"y_pred\": 180.56630683377634, \"label\": \"Actual\", \"predicted_label\": \"Predicted\"}, {\"date\": \"2023-01-13T00:00:00\", \"y_test\": 176.0500030517578, \"y_pred\": 179.38541995611382, \"label\": \"Actual\", \"predicted_label\": \"Predicted\"}, {\"date\": \"2023-01-16T00:00:00\", \"y_test\": 176.39999389648438, \"y_pred\": 179.9084769552964, \"label\": \"Actual\", \"predicted_label\": \"Predicted\"}, {\"date\": \"2023-01-17T00:00:00\", \"y_test\": 176.35000610351562, \"y_pred\": 181.08941820034102, \"label\": \"Actual\", \"predicted_label\": \"Predicted\"}, {\"date\": \"2023-01-18T00:00:00\", \"y_test\": 172.75, \"y_pred\": 178.06703674357078, \"label\": \"Actual\", \"predicted_label\": \"Predicted\"}, {\"date\": \"2023-01-19T00:00:00\", \"y_test\": 170.0, \"y_pred\": 176.3715619049559, \"label\": \"Actual\", \"predicted_label\": \"Predicted\"}, {\"date\": \"2023-01-20T00:00:00\", \"y_test\": 170.44999694824216, \"y_pred\": 174.3410968518893, \"label\": \"Actual\", \"predicted_label\": \"Predicted\"}, {\"date\": \"2023-01-23T00:00:00\", \"y_test\": 168.9499969482422, \"y_pred\": 174.92795952140239, \"label\": \"Actual\", \"predicted_label\": \"Predicted\"}, {\"date\": \"2023-01-24T00:00:00\", \"y_test\": 166.64999389648438, \"y_pred\": 172.1420650354077, \"label\": \"Actual\", \"predicted_label\": \"Predicted\"}, {\"date\": \"2023-01-25T00:00:00\", \"y_test\": 165.60000610351562, \"y_pred\": 168.78201193238328, \"label\": \"Actual\", \"predicted_label\": \"Predicted\"}, {\"date\": \"2023-01-27T00:00:00\", \"y_test\": 165.49999999999997, \"y_pred\": 170.01946690754534, \"label\": \"Actual\", \"predicted_label\": \"Predicted\"}, {\"date\": \"2023-01-30T00:00:00\", \"y_test\": 164.1999969482422, \"y_pred\": 166.06827342467912, \"label\": \"Actual\", \"predicted_label\": \"Predicted\"}, {\"date\": \"2023-01-31T00:00:00\", \"y_test\": 163.6999969482422, \"y_pred\": 163.44283681407876, \"label\": \"Actual\", \"predicted_label\": \"Predicted\"}, {\"date\": \"2023-02-01T00:00:00\", \"y_test\": 178.0, \"y_pred\": 169.79640853252909, \"label\": \"Actual\", \"predicted_label\": \"Predicted\"}, {\"date\": \"2023-02-02T00:00:00\", \"y_test\": 176.3000030517578, \"y_pred\": 182.76593764737342, \"label\": \"Actual\", \"predicted_label\": \"Predicted\"}, {\"date\": \"2023-02-03T00:00:00\", \"y_test\": 171.14999389648438, \"y_pred\": 176.23619066192998, \"label\": \"Actual\", \"predicted_label\": \"Predicted\"}, {\"date\": \"2023-02-06T00:00:00\", \"y_test\": 174.0, \"y_pred\": 172.65788581979302, \"label\": \"Actual\", \"predicted_label\": \"Predicted\"}, {\"date\": \"2023-02-07T00:00:00\", \"y_test\": 171.00000000000003, \"y_pred\": 173.3951870559901, \"label\": \"Actual\", \"predicted_label\": \"Predicted\"}, {\"date\": \"2023-02-08T00:00:00\", \"y_test\": 170.3500061035156, \"y_pred\": 172.79179385755359, \"label\": \"Actual\", \"predicted_label\": \"Predicted\"}, {\"date\": \"2023-02-09T00:00:00\", \"y_test\": 173.25, \"y_pred\": 172.66427652651205, \"label\": \"Actual\", \"predicted_label\": \"Predicted\"}, {\"date\": \"2023-02-10T00:00:00\", \"y_test\": 174.44999694824222, \"y_pred\": 175.83939903419304, \"label\": \"Actual\", \"predicted_label\": \"Predicted\"}, {\"date\": \"2023-02-13T00:00:00\", \"y_test\": 174.0, \"y_pred\": 179.00531126704394, \"label\": \"Actual\", \"predicted_label\": \"Predicted\"}, {\"date\": \"2023-02-14T00:00:00\", \"y_test\": 169.0, \"y_pred\": 174.29018160581285, \"label\": \"Actual\", \"predicted_label\": \"Predicted\"}, {\"date\": \"2023-02-15T00:00:00\", \"y_test\": 165.5500030517578, \"y_pred\": 169.65352263166852, \"label\": \"Actual\", \"predicted_label\": \"Predicted\"}, {\"date\": \"2023-02-16T00:00:00\", \"y_test\": 168.8000030517578, \"y_pred\": 169.49529651209014, \"label\": \"Actual\", \"predicted_label\": \"Predicted\"}, {\"date\": \"2023-02-17T00:00:00\", \"y_test\": 168.64999389648438, \"y_pred\": 171.9908052175963, \"label\": \"Actual\", \"predicted_label\": \"Predicted\"}, {\"date\": \"2023-02-20T00:00:00\", \"y_test\": 164.4499969482422, \"y_pred\": 168.65958864479603, \"label\": \"Actual\", \"predicted_label\": \"Predicted\"}, {\"date\": \"2023-02-21T00:00:00\", \"y_test\": 163.8000030517578, \"y_pred\": 167.28210737753085, \"label\": \"Actual\", \"predicted_label\": \"Predicted\"}, {\"date\": \"2023-02-22T00:00:00\", \"y_test\": 162.25, \"y_pred\": 167.4123351121416, \"label\": \"Actual\", \"predicted_label\": \"Predicted\"}, {\"date\": \"2023-02-23T00:00:00\", \"y_test\": 165.5500030517578, \"y_pred\": 162.1319539154596, \"label\": \"Actual\", \"predicted_label\": \"Predicted\"}, {\"date\": \"2023-02-24T00:00:00\", \"y_test\": 166.9499969482422, \"y_pred\": 170.29296474076224, \"label\": \"Actual\", \"predicted_label\": \"Predicted\"}, {\"date\": \"2023-02-27T00:00:00\", \"y_test\": 161.9499969482422, \"y_pred\": 167.14993159549243, \"label\": \"Actual\", \"predicted_label\": \"Predicted\"}, {\"date\": \"2023-02-28T00:00:00\", \"y_test\": 161.64999389648438, \"y_pred\": 164.0510228685143, \"label\": \"Actual\", \"predicted_label\": \"Predicted\"}, {\"date\": \"2023-03-01T00:00:00\", \"y_test\": 164.64999389648438, \"y_pred\": 162.14044354944696, \"label\": \"Actual\", \"predicted_label\": \"Predicted\"}, {\"date\": \"2023-03-02T00:00:00\", \"y_test\": 163.75, \"y_pred\": 164.860110198484, \"label\": \"Actual\", \"predicted_label\": \"Predicted\"}, {\"date\": \"2023-03-03T00:00:00\", \"y_test\": 162.10000610351562, \"y_pred\": 163.24362689139298, \"label\": \"Actual\", \"predicted_label\": \"Predicted\"}, {\"date\": \"2023-03-06T00:00:00\", \"y_test\": 163.9499969482422, \"y_pred\": 166.48254424293324, \"label\": \"Actual\", \"predicted_label\": \"Predicted\"}, {\"date\": \"2023-03-08T00:00:00\", \"y_test\": 174.5500030517578, \"y_pred\": 166.5038803371045, \"label\": \"Actual\", \"predicted_label\": \"Predicted\"}, {\"date\": \"2023-03-09T00:00:00\", \"y_test\": 172.9499969482422, \"y_pred\": 177.1358249905487, \"label\": \"Actual\", \"predicted_label\": \"Predicted\"}, {\"date\": \"2023-03-10T00:00:00\", \"y_test\": 167.0, \"y_pred\": 173.33231482710104, \"label\": \"Actual\", \"predicted_label\": \"Predicted\"}, {\"date\": \"2023-03-13T00:00:00\", \"y_test\": 166.89999389648435, \"y_pred\": 171.85348112621804, \"label\": \"Actual\", \"predicted_label\": \"Predicted\"}, {\"date\": \"2023-03-14T00:00:00\", \"y_test\": 169.75, \"y_pred\": 167.59227359949497, \"label\": \"Actual\", \"predicted_label\": \"Predicted\"}, {\"date\": \"2023-03-15T00:00:00\", \"y_test\": 169.80000305175778, \"y_pred\": 174.31049600992247, \"label\": \"Actual\", \"predicted_label\": \"Predicted\"}, {\"date\": \"2023-03-16T00:00:00\", \"y_test\": 165.5, \"y_pred\": 172.16290167424958, \"label\": \"Actual\", \"predicted_label\": \"Predicted\"}, {\"date\": \"2023-03-17T00:00:00\", \"y_test\": 166.0500030517578, \"y_pred\": 169.50064730055027, \"label\": \"Actual\", \"predicted_label\": \"Predicted\"}, {\"date\": \"2023-03-20T00:00:00\", \"y_test\": 165.6999969482422, \"y_pred\": 168.2124127853469, \"label\": \"Actual\", \"predicted_label\": \"Predicted\"}, {\"date\": \"2023-03-21T00:00:00\", \"y_test\": 163.0, \"y_pred\": 167.06833011861707, \"label\": \"Actual\", \"predicted_label\": \"Predicted\"}, {\"date\": \"2023-03-22T00:00:00\", \"y_test\": 162.64999389648438, \"y_pred\": 166.15567499731085, \"label\": \"Actual\", \"predicted_label\": \"Predicted\"}, {\"date\": \"2023-03-23T00:00:00\", \"y_test\": 161.0500030517578, \"y_pred\": 164.6024542661528, \"label\": \"Actual\", \"predicted_label\": \"Predicted\"}, {\"date\": \"2023-03-24T00:00:00\", \"y_test\": 159.14999389648438, \"y_pred\": 163.50530985463598, \"label\": \"Actual\", \"predicted_label\": \"Predicted\"}, {\"date\": \"2023-03-27T00:00:00\", \"y_test\": 156.3000030517578, \"y_pred\": 161.2912803619171, \"label\": \"Actual\", \"predicted_label\": \"Predicted\"}, {\"date\": \"2023-03-28T00:00:00\", \"y_test\": 158.75, \"y_pred\": 157.4356702961979, \"label\": \"Actual\", \"predicted_label\": \"Predicted\"}, {\"date\": \"2023-03-29T00:00:00\", \"y_test\": 166.4499969482422, \"y_pred\": 162.39426212385064, \"label\": \"Actual\", \"predicted_label\": \"Predicted\"}, {\"date\": \"2023-03-31T00:00:00\", \"y_test\": 167.1000061035156, \"y_pred\": 170.49507271048026, \"label\": \"Actual\", \"predicted_label\": \"Predicted\"}, {\"date\": \"2023-04-03T00:00:00\", \"y_test\": 168.10000610351565, \"y_pred\": 171.64272379883843, \"label\": \"Actual\", \"predicted_label\": \"Predicted\"}, {\"date\": \"2023-04-05T00:00:00\", \"y_test\": 168.00000000000003, \"y_pred\": 169.75563139510766, \"label\": \"Actual\", \"predicted_label\": \"Predicted\"}, {\"date\": \"2023-04-06T00:00:00\", \"y_test\": 168.10000610351562, \"y_pred\": 172.87933704162447, \"label\": \"Actual\", \"predicted_label\": \"Predicted\"}, {\"date\": \"2023-04-10T00:00:00\", \"y_test\": 174.9499969482422, \"y_pred\": 169.04193766309075, \"label\": \"Actual\", \"predicted_label\": \"Predicted\"}, {\"date\": \"2023-04-11T00:00:00\", \"y_test\": 168.0, \"y_pred\": 171.75463571903362, \"label\": \"Actual\", \"predicted_label\": \"Predicted\"}, {\"date\": \"2023-04-12T00:00:00\", \"y_test\": 174.8000030517578, \"y_pred\": 173.2496531497048, \"label\": \"Actual\", \"predicted_label\": \"Predicted\"}, {\"date\": \"2023-04-13T00:00:00\", \"y_test\": 173.8000030517578, \"y_pred\": 177.03268265052014, \"label\": \"Actual\", \"predicted_label\": \"Predicted\"}, {\"date\": \"2023-04-17T00:00:00\", \"y_test\": 174.60000610351562, \"y_pred\": 177.1504242777183, \"label\": \"Actual\", \"predicted_label\": \"Predicted\"}, {\"date\": \"2023-04-18T00:00:00\", \"y_test\": 177.0, \"y_pred\": 179.4610931504857, \"label\": \"Actual\", \"predicted_label\": \"Predicted\"}, {\"date\": \"2023-04-19T00:00:00\", \"y_test\": 177.3999938964844, \"y_pred\": 177.9304535508005, \"label\": \"Actual\", \"predicted_label\": \"Predicted\"}, {\"date\": \"2023-04-20T00:00:00\", \"y_test\": 172.9499969482422, \"y_pred\": 175.15602606730585, \"label\": \"Actual\", \"predicted_label\": \"Predicted\"}, {\"date\": \"2023-04-21T00:00:00\", \"y_test\": 177.89999389648438, \"y_pred\": 176.7137124557798, \"label\": \"Actual\", \"predicted_label\": \"Predicted\"}, {\"date\": \"2023-04-24T00:00:00\", \"y_test\": 173.35000610351562, \"y_pred\": 176.21017558900274, \"label\": \"Actual\", \"predicted_label\": \"Predicted\"}, {\"date\": \"2023-04-25T00:00:00\", \"y_test\": 172.60000610351562, \"y_pred\": 176.02948007003187, \"label\": \"Actual\", \"predicted_label\": \"Predicted\"}, {\"date\": \"2023-04-26T00:00:00\", \"y_test\": 175.14999389648438, \"y_pred\": 175.4227027101392, \"label\": \"Actual\", \"predicted_label\": \"Predicted\"}, {\"date\": \"2023-04-27T00:00:00\", \"y_test\": 173.35000610351562, \"y_pred\": 177.760265292049, \"label\": \"Actual\", \"predicted_label\": \"Predicted\"}, {\"date\": \"2023-04-28T00:00:00\", \"y_test\": 192.75000000000003, \"y_pred\": 177.2528225654975, \"label\": \"Actual\", \"predicted_label\": \"Predicted\"}, {\"date\": \"2023-05-02T00:00:00\", \"y_test\": 191.64999389648438, \"y_pred\": 196.0243745952921, \"label\": \"Actual\", \"predicted_label\": \"Predicted\"}, {\"date\": \"2023-05-03T00:00:00\", \"y_test\": 195.6999969482422, \"y_pred\": 195.23351788573896, \"label\": \"Actual\", \"predicted_label\": \"Predicted\"}, {\"date\": \"2023-05-04T00:00:00\", \"y_test\": 193.3000030517578, \"y_pred\": 197.95661820535227, \"label\": \"Actual\", \"predicted_label\": \"Predicted\"}, {\"date\": \"2023-05-05T00:00:00\", \"y_test\": 191.8999938964844, \"y_pred\": 194.27781846898762, \"label\": \"Actual\", \"predicted_label\": \"Predicted\"}, {\"date\": \"2023-05-08T00:00:00\", \"y_test\": 191.5500030517578, \"y_pred\": 192.24876832573642, \"label\": \"Actual\", \"predicted_label\": \"Predicted\"}, {\"date\": \"2023-05-09T00:00:00\", \"y_test\": 192.0, \"y_pred\": 196.57145771620688, \"label\": \"Actual\", \"predicted_label\": \"Predicted\"}, {\"date\": \"2023-05-10T00:00:00\", \"y_test\": 190.6000061035156, \"y_pred\": 196.77720692938286, \"label\": \"Actual\", \"predicted_label\": \"Predicted\"}, {\"date\": \"2023-05-11T00:00:00\", \"y_test\": 194.3500061035156, \"y_pred\": 195.50868160809978, \"label\": \"Actual\", \"predicted_label\": \"Predicted\"}, {\"date\": \"2023-05-12T00:00:00\", \"y_test\": 191.6499938964844, \"y_pred\": 198.10278125160164, \"label\": \"Actual\", \"predicted_label\": \"Predicted\"}, {\"date\": \"2023-05-15T00:00:00\", \"y_test\": 192.8000030517578, \"y_pred\": 195.7381161486889, \"label\": \"Actual\", \"predicted_label\": \"Predicted\"}, {\"date\": \"2023-05-16T00:00:00\", \"y_test\": 197.1499938964844, \"y_pred\": 197.8878501868403, \"label\": \"Actual\", \"predicted_label\": \"Predicted\"}, {\"date\": \"2023-05-17T00:00:00\", \"y_test\": 198.00000000000003, \"y_pred\": 201.0112353347566, \"label\": \"Actual\", \"predicted_label\": \"Predicted\"}, {\"date\": \"2023-05-19T00:00:00\", \"y_test\": 210.1499938964844, \"y_pred\": 199.15881529239553, \"label\": \"Actual\", \"predicted_label\": \"Predicted\"}, {\"date\": \"2023-05-22T00:00:00\", \"y_test\": 207.0, \"y_pred\": 211.3580400700326, \"label\": \"Actual\", \"predicted_label\": \"Predicted\"}, {\"date\": \"2023-05-23T00:00:00\", \"y_test\": 209.5, \"y_pred\": 206.84160662907718, \"label\": \"Actual\", \"predicted_label\": \"Predicted\"}, {\"date\": \"2023-05-24T00:00:00\", \"y_test\": 205.6000061035156, \"y_pred\": 205.74046971132955, \"label\": \"Actual\", \"predicted_label\": \"Predicted\"}, {\"date\": \"2023-05-25T00:00:00\", \"y_test\": 215.85000610351562, \"y_pred\": 205.71568616189234, \"label\": \"Actual\", \"predicted_label\": \"Predicted\"}, {\"date\": \"2023-05-26T00:00:00\", \"y_test\": 207.69999694824222, \"y_pred\": 212.30165557446176, \"label\": \"Actual\", \"predicted_label\": \"Predicted\"}, {\"date\": \"2023-05-30T00:00:00\", \"y_test\": 207.85000610351557, \"y_pred\": 211.6430683835038, \"label\": \"Actual\", \"predicted_label\": \"Predicted\"}, {\"date\": \"2023-05-31T00:00:00\", \"y_test\": 210.75000000000003, \"y_pred\": 213.1734574598464, \"label\": \"Actual\", \"predicted_label\": \"Predicted\"}]}}, {\"mode\": \"vega-lite\"});\n",
       "</script>"
      ],
      "text/plain": [
       "alt.LayerChart(...)"
      ]
     },
     "execution_count": 186,
     "metadata": {},
     "output_type": "execute_result"
    }
   ],
   "source": [
    "import altair as alt\n",
    "\n",
    "alt.themes.enable('fivethirtyeight')\n",
    "\n",
    "predictions_df_copy = predictions_df.copy(deep=True)\n",
    "\n",
    "\n",
    "predictions_df_copy['date'] = pd.to_datetime(predictions_df_copy['date'])\n",
    "\n",
    "predictions_df_copy['label'] = 'Actual'\n",
    "predictions_df_copy['predicted_label'] = 'Predicted'\n",
    "\n",
    "# Actual high price line\n",
    "line1 = alt.Chart(predictions_df_copy).mark_line(strokeWidth=2).encode(\n",
    "    x='date:T',\n",
    "    y=alt.Y('y_test:Q', title='Price', scale=alt.Scale(zero=False)),\n",
    "    color=alt.Color('label:N', legend=alt.Legend(title=\"Line Type\")),\n",
    "    tooltip=['date', 'y_test', 'y_pred']\n",
    ")\n",
    "\n",
    "# Predicted high price line\n",
    "line2 = alt.Chart(predictions_df_copy).mark_line(strokeWidth=1, strokeDash=[3, 3]).encode(\n",
    "    x='date:T',\n",
    "    y=alt.Y('y_pred:Q', title='', scale=alt.Scale(zero=False)),\n",
    "    color=alt.Color('predicted_label:N', legend=alt.Legend(title=\"Line Type\")),\n",
    "    tooltip=['date', 'y_test', 'y_pred']\n",
    ")\n",
    "\n",
    "# Combine the two lines\n",
    "chart = alt.layer(line1, line2).properties(\n",
    "    title='Actual vs Predicted High Prices',\n",
    "    width=650,\n",
    "    height=400\n",
    ").interactive()\n",
    "\n",
    "chart"
   ]
  },
  {
   "cell_type": "code",
   "execution_count": 164,
   "id": "218fd095",
   "metadata": {},
   "outputs": [
    {
     "name": "stdout",
     "output_type": "stream",
     "text": [
      "trend_sma_fast: 0.06605542408678328\n",
      "trend_macd_diff: 0.06593938503708437\n",
      "volatility_atr: 0.0628020349786367\n",
      "trend_ema_slow: 0.0597868128242998\n",
      "trend_sma_slow: 0.05457298863186489\n",
      "volume_sma_em: 0.05328792665774465\n",
      "volatility_kcp: 0.05322792890204576\n",
      "volatility_kcli: 0.04883111058403793\n",
      "volatility_ui: 0.04804630766020769\n",
      "volatility_bbw: 0.04779665703816499\n",
      "date: 0.0476082757515509\n",
      "volume: 0.04721108541032013\n",
      "trend_macd: 0.04697887920173681\n",
      "open: 0.042932457616645305\n",
      "close: 0.030801087174088318\n",
      "trend_mass_index: 0.008616283286095748\n",
      "trend_ema_fast: 0.008455453196692985\n",
      "volatility_dcm: 0.00821750269450625\n",
      "volume_cmf: 0.008001898851365367\n",
      "trend_vortex_ind_diff: 0.007862252221430537\n",
      "trend_vortex_ind_neg: 0.007709093795392803\n",
      "volatility_bbp: 0.007641835414847084\n",
      "volatility_kcl: 0.007518032948080934\n",
      "trend_vortex_ind_pos: 0.007479313216164898\n",
      "volatility_bbli: 0.007117536941963803\n",
      "volatility_kchi: 0.007108193432147724\n",
      "trend_macd_signal: 0.007084910190143151\n",
      "volume_obv: 0.006948408025492222\n",
      "high: 0.006820644712981949\n",
      "volatility_bbl: 0.006627579075928718\n",
      "trend_trix: 0.006620381121959885\n",
      "volatility_kcc: 0.006578555147682651\n",
      "volatility_dcp: 0.006562047810646316\n",
      "volume_fi: 0.006539831099434467\n",
      "volatility_kch: 0.0065377817518752525\n",
      "volatility_dch: 0.006446249103870771\n",
      "low: 0.006320823592612284\n",
      "adj close: 0.006055986216270087\n",
      "volatility_dcl: 0.005882658747828683\n",
      "volume_adi: 0.005865257711408469\n",
      "volatility_bbhi: 0.005767532827492669\n",
      "volatility_bbm: 0.005238522185581729\n",
      "volatility_dcw: 0.005222695384896833\n",
      "volume_em: 0.005179324576823594\n",
      "volatility_kcw: 0.004823482302873365\n",
      "volatility_bbh: 0.0046686676074380274\n",
      "volume_mfi: 0.004479040032482627\n",
      "volume_nvi: 0.004323390305779683\n",
      "volume_vpt: 0.004149991754548368\n",
      "volume_vwap: 0.0036504811600485145\n"
     ]
    }
   ],
   "source": [
    "feature_names = df.columns.tolist()\n",
    "\n",
    "# Get feature importances\n",
    "importances = model_50.feature_importances_\n",
    "\n",
    "# Map importances to corresponding feature names\n",
    "feature_importance_mapping = dict(zip(feature_names, importances))\n",
    "\n",
    "# Sort by importance\n",
    "sorted_features = sorted(feature_importance_mapping.items(), key=lambda x: x[1], reverse=True)\n",
    "\n",
    "# Display top 10\n",
    "for feature, importance in sorted_features[:50]:\n",
    "    print(f\"{feature}: {importance}\")\n"
   ]
  },
  {
   "cell_type": "markdown",
   "id": "087d122c",
   "metadata": {},
   "source": [
    "Repeat the process for the top 100 features of EIHOTEL.BO"
   ]
  },
  {
   "cell_type": "code",
   "execution_count": 340,
   "id": "b68754e6",
   "metadata": {},
   "outputs": [],
   "source": [
    "selector = SelectKBest(score_func=f_regression, k=100)"
   ]
  },
  {
   "cell_type": "code",
   "execution_count": 341,
   "id": "7b04f54c",
   "metadata": {},
   "outputs": [
    {
     "data": {
      "text/html": [
       "<style>#sk-container-id-45 {color: black;background-color: white;}#sk-container-id-45 pre{padding: 0;}#sk-container-id-45 div.sk-toggleable {background-color: white;}#sk-container-id-45 label.sk-toggleable__label {cursor: pointer;display: block;width: 100%;margin-bottom: 0;padding: 0.3em;box-sizing: border-box;text-align: center;}#sk-container-id-45 label.sk-toggleable__label-arrow:before {content: \"▸\";float: left;margin-right: 0.25em;color: #696969;}#sk-container-id-45 label.sk-toggleable__label-arrow:hover:before {color: black;}#sk-container-id-45 div.sk-estimator:hover label.sk-toggleable__label-arrow:before {color: black;}#sk-container-id-45 div.sk-toggleable__content {max-height: 0;max-width: 0;overflow: hidden;text-align: left;background-color: #f0f8ff;}#sk-container-id-45 div.sk-toggleable__content pre {margin: 0.2em;color: black;border-radius: 0.25em;background-color: #f0f8ff;}#sk-container-id-45 input.sk-toggleable__control:checked~div.sk-toggleable__content {max-height: 200px;max-width: 100%;overflow: auto;}#sk-container-id-45 input.sk-toggleable__control:checked~label.sk-toggleable__label-arrow:before {content: \"▾\";}#sk-container-id-45 div.sk-estimator input.sk-toggleable__control:checked~label.sk-toggleable__label {background-color: #d4ebff;}#sk-container-id-45 div.sk-label input.sk-toggleable__control:checked~label.sk-toggleable__label {background-color: #d4ebff;}#sk-container-id-45 input.sk-hidden--visually {border: 0;clip: rect(1px 1px 1px 1px);clip: rect(1px, 1px, 1px, 1px);height: 1px;margin: -1px;overflow: hidden;padding: 0;position: absolute;width: 1px;}#sk-container-id-45 div.sk-estimator {font-family: monospace;background-color: #f0f8ff;border: 1px dotted black;border-radius: 0.25em;box-sizing: border-box;margin-bottom: 0.5em;}#sk-container-id-45 div.sk-estimator:hover {background-color: #d4ebff;}#sk-container-id-45 div.sk-parallel-item::after {content: \"\";width: 100%;border-bottom: 1px solid gray;flex-grow: 1;}#sk-container-id-45 div.sk-label:hover label.sk-toggleable__label {background-color: #d4ebff;}#sk-container-id-45 div.sk-serial::before {content: \"\";position: absolute;border-left: 1px solid gray;box-sizing: border-box;top: 0;bottom: 0;left: 50%;z-index: 0;}#sk-container-id-45 div.sk-serial {display: flex;flex-direction: column;align-items: center;background-color: white;padding-right: 0.2em;padding-left: 0.2em;position: relative;}#sk-container-id-45 div.sk-item {position: relative;z-index: 1;}#sk-container-id-45 div.sk-parallel {display: flex;align-items: stretch;justify-content: center;background-color: white;position: relative;}#sk-container-id-45 div.sk-item::before, #sk-container-id-45 div.sk-parallel-item::before {content: \"\";position: absolute;border-left: 1px solid gray;box-sizing: border-box;top: 0;bottom: 0;left: 50%;z-index: -1;}#sk-container-id-45 div.sk-parallel-item {display: flex;flex-direction: column;z-index: 1;position: relative;background-color: white;}#sk-container-id-45 div.sk-parallel-item:first-child::after {align-self: flex-end;width: 50%;}#sk-container-id-45 div.sk-parallel-item:last-child::after {align-self: flex-start;width: 50%;}#sk-container-id-45 div.sk-parallel-item:only-child::after {width: 0;}#sk-container-id-45 div.sk-dashed-wrapped {border: 1px dashed gray;margin: 0 0.4em 0.5em 0.4em;box-sizing: border-box;padding-bottom: 0.4em;background-color: white;}#sk-container-id-45 div.sk-label label {font-family: monospace;font-weight: bold;display: inline-block;line-height: 1.2em;}#sk-container-id-45 div.sk-label-container {text-align: center;}#sk-container-id-45 div.sk-container {/* jupyter's `normalize.less` sets `[hidden] { display: none; }` but bootstrap.min.css set `[hidden] { display: none !important; }` so we also need the `!important` here to be able to override the default hidden behavior on the sphinx rendered scikit-learn.org. See: https://github.com/scikit-learn/scikit-learn/issues/21755 */display: inline-block !important;position: relative;}#sk-container-id-45 div.sk-text-repr-fallback {display: none;}</style><div id=\"sk-container-id-45\" class=\"sk-top-container\"><div class=\"sk-text-repr-fallback\"><pre>SelectKBest(k=100, score_func=&lt;function f_regression at 0x000001F9DD37FD00&gt;)</pre><b>In a Jupyter environment, please rerun this cell to show the HTML representation or trust the notebook. <br />On GitHub, the HTML representation is unable to render, please try loading this page with nbviewer.org.</b></div><div class=\"sk-container\" hidden><div class=\"sk-item\"><div class=\"sk-estimator sk-toggleable\"><input class=\"sk-toggleable__control sk-hidden--visually\" id=\"sk-estimator-id-45\" type=\"checkbox\" checked><label for=\"sk-estimator-id-45\" class=\"sk-toggleable__label sk-toggleable__label-arrow\">SelectKBest</label><div class=\"sk-toggleable__content\"><pre>SelectKBest(k=100, score_func=&lt;function f_regression at 0x000001F9DD37FD00&gt;)</pre></div></div></div></div></div>"
      ],
      "text/plain": [
       "SelectKBest(k=100, score_func=<function f_regression at 0x000001F9DD37FD00>)"
      ]
     },
     "execution_count": 341,
     "metadata": {},
     "output_type": "execute_result"
    }
   ],
   "source": [
    "selector.fit(X_train, y_train)"
   ]
  },
  {
   "cell_type": "code",
   "execution_count": 342,
   "id": "801353e9",
   "metadata": {},
   "outputs": [],
   "source": [
    "X_train_100 = selector.transform(X_train)\n",
    "X_test_100 = selector.transform(X_test)"
   ]
  },
  {
   "cell_type": "code",
   "execution_count": 343,
   "id": "d539ee90",
   "metadata": {},
   "outputs": [
    {
     "data": {
      "text/html": [
       "<style>#sk-container-id-46 {color: black;background-color: white;}#sk-container-id-46 pre{padding: 0;}#sk-container-id-46 div.sk-toggleable {background-color: white;}#sk-container-id-46 label.sk-toggleable__label {cursor: pointer;display: block;width: 100%;margin-bottom: 0;padding: 0.3em;box-sizing: border-box;text-align: center;}#sk-container-id-46 label.sk-toggleable__label-arrow:before {content: \"▸\";float: left;margin-right: 0.25em;color: #696969;}#sk-container-id-46 label.sk-toggleable__label-arrow:hover:before {color: black;}#sk-container-id-46 div.sk-estimator:hover label.sk-toggleable__label-arrow:before {color: black;}#sk-container-id-46 div.sk-toggleable__content {max-height: 0;max-width: 0;overflow: hidden;text-align: left;background-color: #f0f8ff;}#sk-container-id-46 div.sk-toggleable__content pre {margin: 0.2em;color: black;border-radius: 0.25em;background-color: #f0f8ff;}#sk-container-id-46 input.sk-toggleable__control:checked~div.sk-toggleable__content {max-height: 200px;max-width: 100%;overflow: auto;}#sk-container-id-46 input.sk-toggleable__control:checked~label.sk-toggleable__label-arrow:before {content: \"▾\";}#sk-container-id-46 div.sk-estimator input.sk-toggleable__control:checked~label.sk-toggleable__label {background-color: #d4ebff;}#sk-container-id-46 div.sk-label input.sk-toggleable__control:checked~label.sk-toggleable__label {background-color: #d4ebff;}#sk-container-id-46 input.sk-hidden--visually {border: 0;clip: rect(1px 1px 1px 1px);clip: rect(1px, 1px, 1px, 1px);height: 1px;margin: -1px;overflow: hidden;padding: 0;position: absolute;width: 1px;}#sk-container-id-46 div.sk-estimator {font-family: monospace;background-color: #f0f8ff;border: 1px dotted black;border-radius: 0.25em;box-sizing: border-box;margin-bottom: 0.5em;}#sk-container-id-46 div.sk-estimator:hover {background-color: #d4ebff;}#sk-container-id-46 div.sk-parallel-item::after {content: \"\";width: 100%;border-bottom: 1px solid gray;flex-grow: 1;}#sk-container-id-46 div.sk-label:hover label.sk-toggleable__label {background-color: #d4ebff;}#sk-container-id-46 div.sk-serial::before {content: \"\";position: absolute;border-left: 1px solid gray;box-sizing: border-box;top: 0;bottom: 0;left: 50%;z-index: 0;}#sk-container-id-46 div.sk-serial {display: flex;flex-direction: column;align-items: center;background-color: white;padding-right: 0.2em;padding-left: 0.2em;position: relative;}#sk-container-id-46 div.sk-item {position: relative;z-index: 1;}#sk-container-id-46 div.sk-parallel {display: flex;align-items: stretch;justify-content: center;background-color: white;position: relative;}#sk-container-id-46 div.sk-item::before, #sk-container-id-46 div.sk-parallel-item::before {content: \"\";position: absolute;border-left: 1px solid gray;box-sizing: border-box;top: 0;bottom: 0;left: 50%;z-index: -1;}#sk-container-id-46 div.sk-parallel-item {display: flex;flex-direction: column;z-index: 1;position: relative;background-color: white;}#sk-container-id-46 div.sk-parallel-item:first-child::after {align-self: flex-end;width: 50%;}#sk-container-id-46 div.sk-parallel-item:last-child::after {align-self: flex-start;width: 50%;}#sk-container-id-46 div.sk-parallel-item:only-child::after {width: 0;}#sk-container-id-46 div.sk-dashed-wrapped {border: 1px dashed gray;margin: 0 0.4em 0.5em 0.4em;box-sizing: border-box;padding-bottom: 0.4em;background-color: white;}#sk-container-id-46 div.sk-label label {font-family: monospace;font-weight: bold;display: inline-block;line-height: 1.2em;}#sk-container-id-46 div.sk-label-container {text-align: center;}#sk-container-id-46 div.sk-container {/* jupyter's `normalize.less` sets `[hidden] { display: none; }` but bootstrap.min.css set `[hidden] { display: none !important; }` so we also need the `!important` here to be able to override the default hidden behavior on the sphinx rendered scikit-learn.org. See: https://github.com/scikit-learn/scikit-learn/issues/21755 */display: inline-block !important;position: relative;}#sk-container-id-46 div.sk-text-repr-fallback {display: none;}</style><div id=\"sk-container-id-46\" class=\"sk-top-container\"><div class=\"sk-text-repr-fallback\"><pre>RandomForestRegressor()</pre><b>In a Jupyter environment, please rerun this cell to show the HTML representation or trust the notebook. <br />On GitHub, the HTML representation is unable to render, please try loading this page with nbviewer.org.</b></div><div class=\"sk-container\" hidden><div class=\"sk-item\"><div class=\"sk-estimator sk-toggleable\"><input class=\"sk-toggleable__control sk-hidden--visually\" id=\"sk-estimator-id-46\" type=\"checkbox\" checked><label for=\"sk-estimator-id-46\" class=\"sk-toggleable__label sk-toggleable__label-arrow\">RandomForestRegressor</label><div class=\"sk-toggleable__content\"><pre>RandomForestRegressor()</pre></div></div></div></div></div>"
      ],
      "text/plain": [
       "RandomForestRegressor()"
      ]
     },
     "execution_count": 343,
     "metadata": {},
     "output_type": "execute_result"
    }
   ],
   "source": [
    "model_100 = RandomForestRegressor()\n",
    "model_100.fit(X_train_100, y_train)"
   ]
  },
  {
   "cell_type": "code",
   "execution_count": 344,
   "id": "bbed1fa0",
   "metadata": {},
   "outputs": [
    {
     "data": {
      "text/plain": [
       "(1.8266978434701696e-05,\n",
       " 0.9683592111555606,\n",
       " 0.00011795422453992068,\n",
       " 0.7710554665649287)"
      ]
     },
     "execution_count": 344,
     "metadata": {},
     "output_type": "execute_result"
    }
   ],
   "source": [
    "# Predict on the training data\n",
    "y_train_pred_100 = model_100.predict(X_train_100)\n",
    "\n",
    "# Predict on the testing data\n",
    "y_test_pred_100 = model_100.predict(X_test_100)\n",
    "\n",
    "# Calculate MSE and R^2 for the training data\n",
    "mse_train_100 = mean_squared_error(y_train, y_train_pred_100)\n",
    "r2_train_100 = r2_score(y_train, y_train_pred_100)\n",
    "\n",
    "# Calculate MSE and R^2 for the testing data\n",
    "mse_test_100 = mean_squared_error(y_test, y_test_pred_100)\n",
    "r2_test_100 = r2_score(y_test, y_test_pred_100)\n",
    "\n",
    "mse_train_100, r2_train_100, mse_test_100, r2_test_100"
   ]
  },
  {
   "cell_type": "code",
   "execution_count": 345,
   "id": "2046ccf5",
   "metadata": {},
   "outputs": [
    {
     "data": {
      "text/plain": [
       "(0.00427398858616886, 0.010860673300487437)"
      ]
     },
     "execution_count": 345,
     "metadata": {},
     "output_type": "execute_result"
    }
   ],
   "source": [
    "# Calculate RMSE for the training data\n",
    "rmse_train_100 = np.sqrt(mse_train_100)\n",
    "\n",
    "# Calculate RMSE for the testing data\n",
    "rmse_test_100 = np.sqrt(mse_test_100)\n",
    "\n",
    "rmse_train_100, rmse_test_100"
   ]
  },
  {
   "cell_type": "code",
   "execution_count": 346,
   "id": "5ea70fc3",
   "metadata": {},
   "outputs": [
    {
     "name": "stdout",
     "output_type": "stream",
     "text": [
      "MAPE for model with top 100 features: 79.83%\n"
     ]
    }
   ],
   "source": [
    "mape_value_100 = mape(y_test, y_test_pred_100)\n",
    "print(f\"MAPE for model with top 100 features: {mape_value_100:.2f}%\")\n"
   ]
  },
  {
   "cell_type": "markdown",
   "id": "e07e0dbd",
   "metadata": {},
   "source": [
    "Repeat the process for the top 150 features of EIHOTEL.BO"
   ]
  },
  {
   "cell_type": "code",
   "execution_count": 347,
   "id": "baf92286",
   "metadata": {},
   "outputs": [],
   "source": [
    "selector = SelectKBest(score_func=f_regression, k=150)"
   ]
  },
  {
   "cell_type": "code",
   "execution_count": 348,
   "id": "1db6e575",
   "metadata": {},
   "outputs": [
    {
     "data": {
      "text/html": [
       "<style>#sk-container-id-47 {color: black;background-color: white;}#sk-container-id-47 pre{padding: 0;}#sk-container-id-47 div.sk-toggleable {background-color: white;}#sk-container-id-47 label.sk-toggleable__label {cursor: pointer;display: block;width: 100%;margin-bottom: 0;padding: 0.3em;box-sizing: border-box;text-align: center;}#sk-container-id-47 label.sk-toggleable__label-arrow:before {content: \"▸\";float: left;margin-right: 0.25em;color: #696969;}#sk-container-id-47 label.sk-toggleable__label-arrow:hover:before {color: black;}#sk-container-id-47 div.sk-estimator:hover label.sk-toggleable__label-arrow:before {color: black;}#sk-container-id-47 div.sk-toggleable__content {max-height: 0;max-width: 0;overflow: hidden;text-align: left;background-color: #f0f8ff;}#sk-container-id-47 div.sk-toggleable__content pre {margin: 0.2em;color: black;border-radius: 0.25em;background-color: #f0f8ff;}#sk-container-id-47 input.sk-toggleable__control:checked~div.sk-toggleable__content {max-height: 200px;max-width: 100%;overflow: auto;}#sk-container-id-47 input.sk-toggleable__control:checked~label.sk-toggleable__label-arrow:before {content: \"▾\";}#sk-container-id-47 div.sk-estimator input.sk-toggleable__control:checked~label.sk-toggleable__label {background-color: #d4ebff;}#sk-container-id-47 div.sk-label input.sk-toggleable__control:checked~label.sk-toggleable__label {background-color: #d4ebff;}#sk-container-id-47 input.sk-hidden--visually {border: 0;clip: rect(1px 1px 1px 1px);clip: rect(1px, 1px, 1px, 1px);height: 1px;margin: -1px;overflow: hidden;padding: 0;position: absolute;width: 1px;}#sk-container-id-47 div.sk-estimator {font-family: monospace;background-color: #f0f8ff;border: 1px dotted black;border-radius: 0.25em;box-sizing: border-box;margin-bottom: 0.5em;}#sk-container-id-47 div.sk-estimator:hover {background-color: #d4ebff;}#sk-container-id-47 div.sk-parallel-item::after {content: \"\";width: 100%;border-bottom: 1px solid gray;flex-grow: 1;}#sk-container-id-47 div.sk-label:hover label.sk-toggleable__label {background-color: #d4ebff;}#sk-container-id-47 div.sk-serial::before {content: \"\";position: absolute;border-left: 1px solid gray;box-sizing: border-box;top: 0;bottom: 0;left: 50%;z-index: 0;}#sk-container-id-47 div.sk-serial {display: flex;flex-direction: column;align-items: center;background-color: white;padding-right: 0.2em;padding-left: 0.2em;position: relative;}#sk-container-id-47 div.sk-item {position: relative;z-index: 1;}#sk-container-id-47 div.sk-parallel {display: flex;align-items: stretch;justify-content: center;background-color: white;position: relative;}#sk-container-id-47 div.sk-item::before, #sk-container-id-47 div.sk-parallel-item::before {content: \"\";position: absolute;border-left: 1px solid gray;box-sizing: border-box;top: 0;bottom: 0;left: 50%;z-index: -1;}#sk-container-id-47 div.sk-parallel-item {display: flex;flex-direction: column;z-index: 1;position: relative;background-color: white;}#sk-container-id-47 div.sk-parallel-item:first-child::after {align-self: flex-end;width: 50%;}#sk-container-id-47 div.sk-parallel-item:last-child::after {align-self: flex-start;width: 50%;}#sk-container-id-47 div.sk-parallel-item:only-child::after {width: 0;}#sk-container-id-47 div.sk-dashed-wrapped {border: 1px dashed gray;margin: 0 0.4em 0.5em 0.4em;box-sizing: border-box;padding-bottom: 0.4em;background-color: white;}#sk-container-id-47 div.sk-label label {font-family: monospace;font-weight: bold;display: inline-block;line-height: 1.2em;}#sk-container-id-47 div.sk-label-container {text-align: center;}#sk-container-id-47 div.sk-container {/* jupyter's `normalize.less` sets `[hidden] { display: none; }` but bootstrap.min.css set `[hidden] { display: none !important; }` so we also need the `!important` here to be able to override the default hidden behavior on the sphinx rendered scikit-learn.org. See: https://github.com/scikit-learn/scikit-learn/issues/21755 */display: inline-block !important;position: relative;}#sk-container-id-47 div.sk-text-repr-fallback {display: none;}</style><div id=\"sk-container-id-47\" class=\"sk-top-container\"><div class=\"sk-text-repr-fallback\"><pre>SelectKBest(k=150, score_func=&lt;function f_regression at 0x000001F9DD37FD00&gt;)</pre><b>In a Jupyter environment, please rerun this cell to show the HTML representation or trust the notebook. <br />On GitHub, the HTML representation is unable to render, please try loading this page with nbviewer.org.</b></div><div class=\"sk-container\" hidden><div class=\"sk-item\"><div class=\"sk-estimator sk-toggleable\"><input class=\"sk-toggleable__control sk-hidden--visually\" id=\"sk-estimator-id-47\" type=\"checkbox\" checked><label for=\"sk-estimator-id-47\" class=\"sk-toggleable__label sk-toggleable__label-arrow\">SelectKBest</label><div class=\"sk-toggleable__content\"><pre>SelectKBest(k=150, score_func=&lt;function f_regression at 0x000001F9DD37FD00&gt;)</pre></div></div></div></div></div>"
      ],
      "text/plain": [
       "SelectKBest(k=150, score_func=<function f_regression at 0x000001F9DD37FD00>)"
      ]
     },
     "execution_count": 348,
     "metadata": {},
     "output_type": "execute_result"
    }
   ],
   "source": [
    "selector.fit(X_train, y_train)"
   ]
  },
  {
   "cell_type": "code",
   "execution_count": 349,
   "id": "2de741be",
   "metadata": {},
   "outputs": [],
   "source": [
    "X_train_150 = selector.transform(X_train)\n",
    "X_test_150 = selector.transform(X_test)"
   ]
  },
  {
   "cell_type": "code",
   "execution_count": 350,
   "id": "5680e41f",
   "metadata": {},
   "outputs": [
    {
     "data": {
      "text/html": [
       "<style>#sk-container-id-48 {color: black;background-color: white;}#sk-container-id-48 pre{padding: 0;}#sk-container-id-48 div.sk-toggleable {background-color: white;}#sk-container-id-48 label.sk-toggleable__label {cursor: pointer;display: block;width: 100%;margin-bottom: 0;padding: 0.3em;box-sizing: border-box;text-align: center;}#sk-container-id-48 label.sk-toggleable__label-arrow:before {content: \"▸\";float: left;margin-right: 0.25em;color: #696969;}#sk-container-id-48 label.sk-toggleable__label-arrow:hover:before {color: black;}#sk-container-id-48 div.sk-estimator:hover label.sk-toggleable__label-arrow:before {color: black;}#sk-container-id-48 div.sk-toggleable__content {max-height: 0;max-width: 0;overflow: hidden;text-align: left;background-color: #f0f8ff;}#sk-container-id-48 div.sk-toggleable__content pre {margin: 0.2em;color: black;border-radius: 0.25em;background-color: #f0f8ff;}#sk-container-id-48 input.sk-toggleable__control:checked~div.sk-toggleable__content {max-height: 200px;max-width: 100%;overflow: auto;}#sk-container-id-48 input.sk-toggleable__control:checked~label.sk-toggleable__label-arrow:before {content: \"▾\";}#sk-container-id-48 div.sk-estimator input.sk-toggleable__control:checked~label.sk-toggleable__label {background-color: #d4ebff;}#sk-container-id-48 div.sk-label input.sk-toggleable__control:checked~label.sk-toggleable__label {background-color: #d4ebff;}#sk-container-id-48 input.sk-hidden--visually {border: 0;clip: rect(1px 1px 1px 1px);clip: rect(1px, 1px, 1px, 1px);height: 1px;margin: -1px;overflow: hidden;padding: 0;position: absolute;width: 1px;}#sk-container-id-48 div.sk-estimator {font-family: monospace;background-color: #f0f8ff;border: 1px dotted black;border-radius: 0.25em;box-sizing: border-box;margin-bottom: 0.5em;}#sk-container-id-48 div.sk-estimator:hover {background-color: #d4ebff;}#sk-container-id-48 div.sk-parallel-item::after {content: \"\";width: 100%;border-bottom: 1px solid gray;flex-grow: 1;}#sk-container-id-48 div.sk-label:hover label.sk-toggleable__label {background-color: #d4ebff;}#sk-container-id-48 div.sk-serial::before {content: \"\";position: absolute;border-left: 1px solid gray;box-sizing: border-box;top: 0;bottom: 0;left: 50%;z-index: 0;}#sk-container-id-48 div.sk-serial {display: flex;flex-direction: column;align-items: center;background-color: white;padding-right: 0.2em;padding-left: 0.2em;position: relative;}#sk-container-id-48 div.sk-item {position: relative;z-index: 1;}#sk-container-id-48 div.sk-parallel {display: flex;align-items: stretch;justify-content: center;background-color: white;position: relative;}#sk-container-id-48 div.sk-item::before, #sk-container-id-48 div.sk-parallel-item::before {content: \"\";position: absolute;border-left: 1px solid gray;box-sizing: border-box;top: 0;bottom: 0;left: 50%;z-index: -1;}#sk-container-id-48 div.sk-parallel-item {display: flex;flex-direction: column;z-index: 1;position: relative;background-color: white;}#sk-container-id-48 div.sk-parallel-item:first-child::after {align-self: flex-end;width: 50%;}#sk-container-id-48 div.sk-parallel-item:last-child::after {align-self: flex-start;width: 50%;}#sk-container-id-48 div.sk-parallel-item:only-child::after {width: 0;}#sk-container-id-48 div.sk-dashed-wrapped {border: 1px dashed gray;margin: 0 0.4em 0.5em 0.4em;box-sizing: border-box;padding-bottom: 0.4em;background-color: white;}#sk-container-id-48 div.sk-label label {font-family: monospace;font-weight: bold;display: inline-block;line-height: 1.2em;}#sk-container-id-48 div.sk-label-container {text-align: center;}#sk-container-id-48 div.sk-container {/* jupyter's `normalize.less` sets `[hidden] { display: none; }` but bootstrap.min.css set `[hidden] { display: none !important; }` so we also need the `!important` here to be able to override the default hidden behavior on the sphinx rendered scikit-learn.org. See: https://github.com/scikit-learn/scikit-learn/issues/21755 */display: inline-block !important;position: relative;}#sk-container-id-48 div.sk-text-repr-fallback {display: none;}</style><div id=\"sk-container-id-48\" class=\"sk-top-container\"><div class=\"sk-text-repr-fallback\"><pre>RandomForestRegressor()</pre><b>In a Jupyter environment, please rerun this cell to show the HTML representation or trust the notebook. <br />On GitHub, the HTML representation is unable to render, please try loading this page with nbviewer.org.</b></div><div class=\"sk-container\" hidden><div class=\"sk-item\"><div class=\"sk-estimator sk-toggleable\"><input class=\"sk-toggleable__control sk-hidden--visually\" id=\"sk-estimator-id-48\" type=\"checkbox\" checked><label for=\"sk-estimator-id-48\" class=\"sk-toggleable__label sk-toggleable__label-arrow\">RandomForestRegressor</label><div class=\"sk-toggleable__content\"><pre>RandomForestRegressor()</pre></div></div></div></div></div>"
      ],
      "text/plain": [
       "RandomForestRegressor()"
      ]
     },
     "execution_count": 350,
     "metadata": {},
     "output_type": "execute_result"
    }
   ],
   "source": [
    "model_150 = RandomForestRegressor()\n",
    "model_150.fit(X_train_150, y_train)"
   ]
  },
  {
   "cell_type": "code",
   "execution_count": 351,
   "id": "3770bb0f",
   "metadata": {},
   "outputs": [
    {
     "data": {
      "text/plain": [
       "(1.7031339575836034e-05,\n",
       " 0.9704994987987036,\n",
       " 0.00011319978225331366,\n",
       " 0.7802836529677211)"
      ]
     },
     "execution_count": 351,
     "metadata": {},
     "output_type": "execute_result"
    }
   ],
   "source": [
    "# Predict on the training data\n",
    "y_train_pred_150 = model_150.predict(X_train_150)\n",
    "\n",
    "# Predict on the testing data\n",
    "y_test_pred_150 = model_150.predict(X_test_150)\n",
    "\n",
    "# Calculate MSE and R^2 for the training data\n",
    "mse_train_150 = mean_squared_error(y_train, y_train_pred_150)\n",
    "r2_train_150 = r2_score(y_train, y_train_pred_150)\n",
    "\n",
    "# Calculate MSE and R^2 for the testing data\n",
    "mse_test_150 = mean_squared_error(y_test, y_test_pred_150)\n",
    "r2_test_150 = r2_score(y_test, y_test_pred_150)\n",
    "\n",
    "mse_train_150, r2_train_150, mse_test_150, r2_test_150"
   ]
  },
  {
   "cell_type": "code",
   "execution_count": 352,
   "id": "38c88661",
   "metadata": {},
   "outputs": [
    {
     "data": {
      "text/plain": [
       "(0.00427398858616886, 0.010860673300487437)"
      ]
     },
     "execution_count": 352,
     "metadata": {},
     "output_type": "execute_result"
    }
   ],
   "source": [
    "# Calculate RMSE for the training data\n",
    "rmse_train_100 = np.sqrt(mse_train_100)\n",
    "\n",
    "# Calculate RMSE for the testing data\n",
    "rmse_test_100 = np.sqrt(mse_test_100)\n",
    "\n",
    "rmse_train_100, rmse_test_100"
   ]
  },
  {
   "cell_type": "code",
   "execution_count": 353,
   "id": "52b1155b",
   "metadata": {},
   "outputs": [
    {
     "name": "stdout",
     "output_type": "stream",
     "text": [
      "MAPE for model with top 150 features: 85.86%\n"
     ]
    }
   ],
   "source": [
    "mape_value_150 = mape(y_test, y_test_pred_150)\n",
    "print(f\"MAPE for model with top 150 features: {mape_value_150:.2f}%\")"
   ]
  },
  {
   "cell_type": "markdown",
   "id": "e88b2315",
   "metadata": {},
   "source": [
    "### 50/100/150 Feature Selection Analysis wihtout Sentiment for EIHOTEL.BO"
   ]
  },
  {
   "cell_type": "code",
   "execution_count": 160,
   "id": "1dd267c6",
   "metadata": {},
   "outputs": [],
   "source": [
    "df = pd.read_csv('../../datasets/processed_data/combined_features/EIHOTEL.BO.csv')"
   ]
  },
  {
   "cell_type": "code",
   "execution_count": 128,
   "id": "090cfcf2",
   "metadata": {},
   "outputs": [],
   "source": [
    "df_without_sentiment = df.drop(columns=['agg_polarity', 'agg_compound', 'topic_polarity', 'topic_compound', 'ticker_polarity', 'ticker_compound'])"
   ]
  },
  {
   "cell_type": "code",
   "execution_count": 129,
   "id": "dc73d153",
   "metadata": {},
   "outputs": [],
   "source": [
    "df_without_sentiment = create_custom_target(df_without_sentiment)"
   ]
  },
  {
   "cell_type": "code",
   "execution_count": 130,
   "id": "eb2f731c",
   "metadata": {},
   "outputs": [],
   "source": [
    "# Drop cols with NaN values\n",
    "df_without_sentiment = df_without_sentiment.dropna(axis=1, how='all')\n",
    "df_without_sentiment.fillna(method='ffill', inplace=True)"
   ]
  },
  {
   "cell_type": "code",
   "execution_count": 131,
   "id": "2d9f8994",
   "metadata": {},
   "outputs": [],
   "source": [
    "combined_date_df = df_without_sentiment['date']\n",
    "train_date, test_date = train_test_split(combined_date_df, train_size=0.8, shuffle=False)\n",
    "dev_date, test_date = train_test_split(test_date, train_size=0.5, shuffle=False)"
   ]
  },
  {
   "cell_type": "code",
   "execution_count": 132,
   "id": "b3ee2ec8",
   "metadata": {},
   "outputs": [],
   "source": [
    "df_without_date = df_without_sentiment.drop(columns=[\"date\"])"
   ]
  },
  {
   "cell_type": "code",
   "execution_count": 133,
   "id": "97f929ea",
   "metadata": {},
   "outputs": [],
   "source": [
    "df_without_date.dropna(inplace=True)"
   ]
  },
  {
   "cell_type": "code",
   "execution_count": 134,
   "id": "726bb75d",
   "metadata": {},
   "outputs": [],
   "source": [
    "# do train/test split the data with shuffle = False\n",
    "train_data, test_data = train_test_split(df_without_date, train_size=0.8, shuffle=False)\n",
    "\n",
    "# convert timeseries to be used in supervise learning model\n",
    "X_train, y_train, indx_train = timeseries_to_supervise(train_data, window_size, 'ln_target')  \n",
    "\n",
    "# convert timeseries to be used in supervise learning model    \n",
    "X_test, y_test, indx_test = timeseries_to_supervise(test_data, window_size, 'ln_target')  "
   ]
  },
  {
   "cell_type": "code",
   "execution_count": 135,
   "id": "76624e15",
   "metadata": {},
   "outputs": [],
   "source": [
    "selector = SelectKBest(score_func=f_regression, k=50)\n",
    "X_train_50 = selector.fit_transform(X_train, y_train)\n",
    "X_test_50 = selector.transform(X_test)"
   ]
  },
  {
   "cell_type": "code",
   "execution_count": 136,
   "id": "2f346f9e",
   "metadata": {},
   "outputs": [
    {
     "data": {
      "text/html": [
       "<style>#sk-container-id-11 {color: black;background-color: white;}#sk-container-id-11 pre{padding: 0;}#sk-container-id-11 div.sk-toggleable {background-color: white;}#sk-container-id-11 label.sk-toggleable__label {cursor: pointer;display: block;width: 100%;margin-bottom: 0;padding: 0.3em;box-sizing: border-box;text-align: center;}#sk-container-id-11 label.sk-toggleable__label-arrow:before {content: \"▸\";float: left;margin-right: 0.25em;color: #696969;}#sk-container-id-11 label.sk-toggleable__label-arrow:hover:before {color: black;}#sk-container-id-11 div.sk-estimator:hover label.sk-toggleable__label-arrow:before {color: black;}#sk-container-id-11 div.sk-toggleable__content {max-height: 0;max-width: 0;overflow: hidden;text-align: left;background-color: #f0f8ff;}#sk-container-id-11 div.sk-toggleable__content pre {margin: 0.2em;color: black;border-radius: 0.25em;background-color: #f0f8ff;}#sk-container-id-11 input.sk-toggleable__control:checked~div.sk-toggleable__content {max-height: 200px;max-width: 100%;overflow: auto;}#sk-container-id-11 input.sk-toggleable__control:checked~label.sk-toggleable__label-arrow:before {content: \"▾\";}#sk-container-id-11 div.sk-estimator input.sk-toggleable__control:checked~label.sk-toggleable__label {background-color: #d4ebff;}#sk-container-id-11 div.sk-label input.sk-toggleable__control:checked~label.sk-toggleable__label {background-color: #d4ebff;}#sk-container-id-11 input.sk-hidden--visually {border: 0;clip: rect(1px 1px 1px 1px);clip: rect(1px, 1px, 1px, 1px);height: 1px;margin: -1px;overflow: hidden;padding: 0;position: absolute;width: 1px;}#sk-container-id-11 div.sk-estimator {font-family: monospace;background-color: #f0f8ff;border: 1px dotted black;border-radius: 0.25em;box-sizing: border-box;margin-bottom: 0.5em;}#sk-container-id-11 div.sk-estimator:hover {background-color: #d4ebff;}#sk-container-id-11 div.sk-parallel-item::after {content: \"\";width: 100%;border-bottom: 1px solid gray;flex-grow: 1;}#sk-container-id-11 div.sk-label:hover label.sk-toggleable__label {background-color: #d4ebff;}#sk-container-id-11 div.sk-serial::before {content: \"\";position: absolute;border-left: 1px solid gray;box-sizing: border-box;top: 0;bottom: 0;left: 50%;z-index: 0;}#sk-container-id-11 div.sk-serial {display: flex;flex-direction: column;align-items: center;background-color: white;padding-right: 0.2em;padding-left: 0.2em;position: relative;}#sk-container-id-11 div.sk-item {position: relative;z-index: 1;}#sk-container-id-11 div.sk-parallel {display: flex;align-items: stretch;justify-content: center;background-color: white;position: relative;}#sk-container-id-11 div.sk-item::before, #sk-container-id-11 div.sk-parallel-item::before {content: \"\";position: absolute;border-left: 1px solid gray;box-sizing: border-box;top: 0;bottom: 0;left: 50%;z-index: -1;}#sk-container-id-11 div.sk-parallel-item {display: flex;flex-direction: column;z-index: 1;position: relative;background-color: white;}#sk-container-id-11 div.sk-parallel-item:first-child::after {align-self: flex-end;width: 50%;}#sk-container-id-11 div.sk-parallel-item:last-child::after {align-self: flex-start;width: 50%;}#sk-container-id-11 div.sk-parallel-item:only-child::after {width: 0;}#sk-container-id-11 div.sk-dashed-wrapped {border: 1px dashed gray;margin: 0 0.4em 0.5em 0.4em;box-sizing: border-box;padding-bottom: 0.4em;background-color: white;}#sk-container-id-11 div.sk-label label {font-family: monospace;font-weight: bold;display: inline-block;line-height: 1.2em;}#sk-container-id-11 div.sk-label-container {text-align: center;}#sk-container-id-11 div.sk-container {/* jupyter's `normalize.less` sets `[hidden] { display: none; }` but bootstrap.min.css set `[hidden] { display: none !important; }` so we also need the `!important` here to be able to override the default hidden behavior on the sphinx rendered scikit-learn.org. See: https://github.com/scikit-learn/scikit-learn/issues/21755 */display: inline-block !important;position: relative;}#sk-container-id-11 div.sk-text-repr-fallback {display: none;}</style><div id=\"sk-container-id-11\" class=\"sk-top-container\"><div class=\"sk-text-repr-fallback\"><pre>RandomForestRegressor(min_samples_leaf=2, n_estimators=200)</pre><b>In a Jupyter environment, please rerun this cell to show the HTML representation or trust the notebook. <br />On GitHub, the HTML representation is unable to render, please try loading this page with nbviewer.org.</b></div><div class=\"sk-container\" hidden><div class=\"sk-item\"><div class=\"sk-estimator sk-toggleable\"><input class=\"sk-toggleable__control sk-hidden--visually\" id=\"sk-estimator-id-11\" type=\"checkbox\" checked><label for=\"sk-estimator-id-11\" class=\"sk-toggleable__label sk-toggleable__label-arrow\">RandomForestRegressor</label><div class=\"sk-toggleable__content\"><pre>RandomForestRegressor(min_samples_leaf=2, n_estimators=200)</pre></div></div></div></div></div>"
      ],
      "text/plain": [
       "RandomForestRegressor(min_samples_leaf=2, n_estimators=200)"
      ]
     },
     "execution_count": 136,
     "metadata": {},
     "output_type": "execute_result"
    }
   ],
   "source": [
    "# Train the model on the top 50 features\n",
    "model_50 = RandomForestRegressor(\n",
    "    n_estimators=200,\n",
    "    min_samples_split=2,\n",
    "    min_samples_leaf=2,\n",
    "    bootstrap=True\n",
    ")\n",
    "model_50.fit(X_train_50, y_train)"
   ]
  },
  {
   "cell_type": "code",
   "execution_count": 137,
   "id": "c693d76f",
   "metadata": {},
   "outputs": [],
   "source": [
    "predictions_df, mape, rmse = evaluate_model(model_50, window_size, test_data, test_date, X_test_50, y_test)"
   ]
  },
  {
   "cell_type": "code",
   "execution_count": 103,
   "id": "e36d50ff",
   "metadata": {},
   "outputs": [
    {
     "data": {
      "text/plain": [
       "(           date      y_test      y_pred\n",
       " 0    2020-06-23   74.900002   73.954376\n",
       " 1    2020-06-24   74.949997   77.638945\n",
       " 2    2020-06-25   68.900002   72.331000\n",
       " 3    2020-06-26   69.000000   69.921408\n",
       " 4    2020-06-29   68.750000   68.836272\n",
       " ..          ...         ...         ...\n",
       " 353  2021-11-23  138.600006  141.517175\n",
       " 354  2021-11-24  139.600006  141.363915\n",
       " 355  2021-11-25  138.699997  142.206651\n",
       " 356  2021-11-26  135.699997  141.986574\n",
       " 357  2021-11-29  128.300003  131.792770\n",
       " \n",
       " [358 rows x 3 columns],\n",
       " 0.020174440426755404,\n",
       " 2.712012490832198)"
      ]
     },
     "execution_count": 103,
     "metadata": {},
     "output_type": "execute_result"
    }
   ],
   "source": [
    "predictions_df, mape, rmse"
   ]
  },
  {
   "cell_type": "code",
   "execution_count": null,
   "id": "058e474d",
   "metadata": {},
   "outputs": [],
   "source": [
    "predictions_df.to_csv(\"rf_EIHOTEL_without_senitment.csv\", index=False)"
   ]
  },
  {
   "cell_type": "code",
   "execution_count": 104,
   "id": "5b4e40a9",
   "metadata": {},
   "outputs": [
    {
     "name": "stdout",
     "output_type": "stream",
     "text": [
      "MAPE for model with top 50 features without sentiment features: 2.02%\n"
     ]
    }
   ],
   "source": [
    "print(f\"MAPE for model with top 50 features without sentiment features: {mape*100:.2f}%\")"
   ]
  },
  {
   "cell_type": "code",
   "execution_count": 105,
   "id": "c84d983e",
   "metadata": {},
   "outputs": [
    {
     "data": {
      "text/html": [
       "\n",
       "<style>\n",
       "  #altair-viz-90126c61f4ab40458c5fb64affc12b0e.vega-embed {\n",
       "    width: 100%;\n",
       "    display: flex;\n",
       "  }\n",
       "\n",
       "  #altair-viz-90126c61f4ab40458c5fb64affc12b0e.vega-embed details,\n",
       "  #altair-viz-90126c61f4ab40458c5fb64affc12b0e.vega-embed details summary {\n",
       "    position: relative;\n",
       "  }\n",
       "</style>\n",
       "<div id=\"altair-viz-90126c61f4ab40458c5fb64affc12b0e\"></div>\n",
       "<script type=\"text/javascript\">\n",
       "  var VEGA_DEBUG = (typeof VEGA_DEBUG == \"undefined\") ? {} : VEGA_DEBUG;\n",
       "  (function(spec, embedOpt){\n",
       "    let outputDiv = document.currentScript.previousElementSibling;\n",
       "    if (outputDiv.id !== \"altair-viz-90126c61f4ab40458c5fb64affc12b0e\") {\n",
       "      outputDiv = document.getElementById(\"altair-viz-90126c61f4ab40458c5fb64affc12b0e\");\n",
       "    }\n",
       "    const paths = {\n",
       "      \"vega\": \"https://cdn.jsdelivr.net/npm/vega@5?noext\",\n",
       "      \"vega-lib\": \"https://cdn.jsdelivr.net/npm/vega-lib?noext\",\n",
       "      \"vega-lite\": \"https://cdn.jsdelivr.net/npm/vega-lite@5.8.0?noext\",\n",
       "      \"vega-embed\": \"https://cdn.jsdelivr.net/npm/vega-embed@6?noext\",\n",
       "    };\n",
       "\n",
       "    function maybeLoadScript(lib, version) {\n",
       "      var key = `${lib.replace(\"-\", \"\")}_version`;\n",
       "      return (VEGA_DEBUG[key] == version) ?\n",
       "        Promise.resolve(paths[lib]) :\n",
       "        new Promise(function(resolve, reject) {\n",
       "          var s = document.createElement('script');\n",
       "          document.getElementsByTagName(\"head\")[0].appendChild(s);\n",
       "          s.async = true;\n",
       "          s.onload = () => {\n",
       "            VEGA_DEBUG[key] = version;\n",
       "            return resolve(paths[lib]);\n",
       "          };\n",
       "          s.onerror = () => reject(`Error loading script: ${paths[lib]}`);\n",
       "          s.src = paths[lib];\n",
       "        });\n",
       "    }\n",
       "\n",
       "    function showError(err) {\n",
       "      outputDiv.innerHTML = `<div class=\"error\" style=\"color:red;\">${err}</div>`;\n",
       "      throw err;\n",
       "    }\n",
       "\n",
       "    function displayChart(vegaEmbed) {\n",
       "      vegaEmbed(outputDiv, spec, embedOpt)\n",
       "        .catch(err => showError(`Javascript Error: ${err.message}<br>This usually means there's a typo in your chart specification. See the javascript console for the full traceback.`));\n",
       "    }\n",
       "\n",
       "    if(typeof define === \"function\" && define.amd) {\n",
       "      requirejs.config({paths});\n",
       "      require([\"vega-embed\"], displayChart, err => showError(`Error loading script: ${err.message}`));\n",
       "    } else {\n",
       "      maybeLoadScript(\"vega\", \"5\")\n",
       "        .then(() => maybeLoadScript(\"vega-lite\", \"5.8.0\"))\n",
       "        .then(() => maybeLoadScript(\"vega-embed\", \"6\"))\n",
       "        .catch(showError)\n",
       "        .then(() => displayChart(vegaEmbed));\n",
       "    }\n",
       "  })({\"usermeta\": {\"embedOptions\": {\"theme\": \"fivethirtyeight\"}}, \"config\": {\"view\": {\"continuousWidth\": 300, \"continuousHeight\": 300}}, \"layer\": [{\"mark\": {\"type\": \"line\", \"strokeWidth\": 2}, \"encoding\": {\"color\": {\"field\": \"label\", \"legend\": {\"title\": \"Line Type\"}, \"type\": \"nominal\"}, \"tooltip\": [{\"field\": \"date\", \"type\": \"temporal\"}, {\"field\": \"y_test\", \"type\": \"quantitative\"}, {\"field\": \"y_pred\", \"type\": \"quantitative\"}], \"x\": {\"field\": \"date\", \"type\": \"temporal\"}, \"y\": {\"field\": \"y_test\", \"scale\": {\"zero\": false}, \"title\": \"Price\", \"type\": \"quantitative\"}}, \"name\": \"view_5\"}, {\"mark\": {\"type\": \"line\", \"strokeDash\": [3, 3], \"strokeWidth\": 1}, \"encoding\": {\"color\": {\"field\": \"predicted_label\", \"legend\": {\"title\": \"Line Type\"}, \"type\": \"nominal\"}, \"tooltip\": [{\"field\": \"date\", \"type\": \"temporal\"}, {\"field\": \"y_test\", \"type\": \"quantitative\"}, {\"field\": \"y_pred\", \"type\": \"quantitative\"}], \"x\": {\"field\": \"date\", \"type\": \"temporal\"}, \"y\": {\"field\": \"y_pred\", \"scale\": {\"zero\": false}, \"title\": \"\", \"type\": \"quantitative\"}}}], \"data\": {\"name\": \"data-df75c23c570ab6a879685b0c5201bb7b\"}, \"height\": 400, \"params\": [{\"name\": \"param_5\", \"select\": {\"type\": \"interval\", \"encodings\": [\"x\", \"y\"]}, \"bind\": \"scales\", \"views\": [\"view_5\"]}], \"title\": \"Actual vs Predicted High Prices\", \"width\": 650, \"$schema\": \"https://vega.github.io/schema/vega-lite/v5.8.0.json\", \"datasets\": {\"data-df75c23c570ab6a879685b0c5201bb7b\": [{\"date\": \"2020-06-23T00:00:00\", \"y_test\": 74.9000015258789, \"y_pred\": 73.95437580040658, \"label\": \"Actual\", \"predicted_label\": \"Predicted\"}, {\"date\": \"2020-06-24T00:00:00\", \"y_test\": 74.94999694824219, \"y_pred\": 77.63894505621968, \"label\": \"Actual\", \"predicted_label\": \"Predicted\"}, {\"date\": \"2020-06-25T00:00:00\", \"y_test\": 68.9000015258789, \"y_pred\": 72.33100013292024, \"label\": \"Actual\", \"predicted_label\": \"Predicted\"}, {\"date\": \"2020-06-26T00:00:00\", \"y_test\": 69.0, \"y_pred\": 69.92140846981167, \"label\": \"Actual\", \"predicted_label\": \"Predicted\"}, {\"date\": \"2020-06-29T00:00:00\", \"y_test\": 68.75, \"y_pred\": 68.83627212239807, \"label\": \"Actual\", \"predicted_label\": \"Predicted\"}, {\"date\": \"2020-06-30T00:00:00\", \"y_test\": 65.44999694824219, \"y_pred\": 67.35247363523044, \"label\": \"Actual\", \"predicted_label\": \"Predicted\"}, {\"date\": \"2020-07-01T00:00:00\", \"y_test\": 64.75, \"y_pred\": 66.29735478263895, \"label\": \"Actual\", \"predicted_label\": \"Predicted\"}, {\"date\": \"2020-07-02T00:00:00\", \"y_test\": 67.4000015258789, \"y_pred\": 67.12481927472155, \"label\": \"Actual\", \"predicted_label\": \"Predicted\"}, {\"date\": \"2020-07-06T00:00:00\", \"y_test\": 67.1500015258789, \"y_pred\": 68.62308815464719, \"label\": \"Actual\", \"predicted_label\": \"Predicted\"}, {\"date\": \"2020-07-07T00:00:00\", \"y_test\": 68.69999694824219, \"y_pred\": 68.79188578121278, \"label\": \"Actual\", \"predicted_label\": \"Predicted\"}, {\"date\": \"2020-07-08T00:00:00\", \"y_test\": 70.3499984741211, \"y_pred\": 70.70359423794824, \"label\": \"Actual\", \"predicted_label\": \"Predicted\"}, {\"date\": \"2020-07-09T00:00:00\", \"y_test\": 67.6500015258789, \"y_pred\": 69.73581744569321, \"label\": \"Actual\", \"predicted_label\": \"Predicted\"}, {\"date\": \"2020-07-10T00:00:00\", \"y_test\": 66.55000305175781, \"y_pred\": 68.5711617185127, \"label\": \"Actual\", \"predicted_label\": \"Predicted\"}, {\"date\": \"2020-07-13T00:00:00\", \"y_test\": 66.80000305175781, \"y_pred\": 68.7180710961557, \"label\": \"Actual\", \"predicted_label\": \"Predicted\"}, {\"date\": \"2020-07-14T00:00:00\", \"y_test\": 66.8499984741211, \"y_pred\": 67.64137559629121, \"label\": \"Actual\", \"predicted_label\": \"Predicted\"}, {\"date\": \"2020-07-15T00:00:00\", \"y_test\": 65.0, \"y_pred\": 65.38279919869163, \"label\": \"Actual\", \"predicted_label\": \"Predicted\"}, {\"date\": \"2020-07-16T00:00:00\", \"y_test\": 63.70000076293945, \"y_pred\": 64.61019970772496, \"label\": \"Actual\", \"predicted_label\": \"Predicted\"}, {\"date\": \"2020-07-17T00:00:00\", \"y_test\": 62.700000762939446, \"y_pred\": 64.38079339189498, \"label\": \"Actual\", \"predicted_label\": \"Predicted\"}, {\"date\": \"2020-07-20T00:00:00\", \"y_test\": 62.900001525878906, \"y_pred\": 63.39395738363247, \"label\": \"Actual\", \"predicted_label\": \"Predicted\"}, {\"date\": \"2020-07-21T00:00:00\", \"y_test\": 62.5, \"y_pred\": 62.05909590208884, \"label\": \"Actual\", \"predicted_label\": \"Predicted\"}, {\"date\": \"2020-07-22T00:00:00\", \"y_test\": 63.25, \"y_pred\": 63.31810291707854, \"label\": \"Actual\", \"predicted_label\": \"Predicted\"}, {\"date\": \"2020-07-23T00:00:00\", \"y_test\": 63.20000076293946, \"y_pred\": 64.5225388955643, \"label\": \"Actual\", \"predicted_label\": \"Predicted\"}, {\"date\": \"2020-07-24T00:00:00\", \"y_test\": 62.5, \"y_pred\": 64.41621694265073, \"label\": \"Actual\", \"predicted_label\": \"Predicted\"}, {\"date\": \"2020-07-27T00:00:00\", \"y_test\": 62.0, \"y_pred\": 62.911554028133104, \"label\": \"Actual\", \"predicted_label\": \"Predicted\"}, {\"date\": \"2020-07-28T00:00:00\", \"y_test\": 60.59999847412109, \"y_pred\": 62.264147154831356, \"label\": \"Actual\", \"predicted_label\": \"Predicted\"}, {\"date\": \"2020-07-29T00:00:00\", \"y_test\": 61.09999847412108, \"y_pred\": 61.970523999926556, \"label\": \"Actual\", \"predicted_label\": \"Predicted\"}, {\"date\": \"2020-07-30T00:00:00\", \"y_test\": 65.6500015258789, \"y_pred\": 61.53702572380729, \"label\": \"Actual\", \"predicted_label\": \"Predicted\"}, {\"date\": \"2020-07-31T00:00:00\", \"y_test\": 67.25, \"y_pred\": 67.69499401582802, \"label\": \"Actual\", \"predicted_label\": \"Predicted\"}, {\"date\": \"2020-08-03T00:00:00\", \"y_test\": 68.6500015258789, \"y_pred\": 67.03336893604718, \"label\": \"Actual\", \"predicted_label\": \"Predicted\"}, {\"date\": \"2020-08-04T00:00:00\", \"y_test\": 66.80000305175781, \"y_pred\": 68.08726077627526, \"label\": \"Actual\", \"predicted_label\": \"Predicted\"}, {\"date\": \"2020-08-05T00:00:00\", \"y_test\": 65.80000305175781, \"y_pred\": 67.40031003116299, \"label\": \"Actual\", \"predicted_label\": \"Predicted\"}, {\"date\": \"2020-08-06T00:00:00\", \"y_test\": 68.5, \"y_pred\": 67.15351809877015, \"label\": \"Actual\", \"predicted_label\": \"Predicted\"}, {\"date\": \"2020-08-07T00:00:00\", \"y_test\": 69.9000015258789, \"y_pred\": 69.73342122805933, \"label\": \"Actual\", \"predicted_label\": \"Predicted\"}, {\"date\": \"2020-08-10T00:00:00\", \"y_test\": 70.5999984741211, \"y_pred\": 71.34835267984452, \"label\": \"Actual\", \"predicted_label\": \"Predicted\"}, {\"date\": \"2020-08-11T00:00:00\", \"y_test\": 69.5, \"y_pred\": 70.86837778258035, \"label\": \"Actual\", \"predicted_label\": \"Predicted\"}, {\"date\": \"2020-08-12T00:00:00\", \"y_test\": 69.30000305175781, \"y_pred\": 69.464805142356, \"label\": \"Actual\", \"predicted_label\": \"Predicted\"}, {\"date\": \"2020-08-13T00:00:00\", \"y_test\": 77.25, \"y_pred\": 70.75019723415414, \"label\": \"Actual\", \"predicted_label\": \"Predicted\"}, {\"date\": \"2020-08-14T00:00:00\", \"y_test\": 80.30000305175781, \"y_pred\": 79.6100665197872, \"label\": \"Actual\", \"predicted_label\": \"Predicted\"}, {\"date\": \"2020-08-17T00:00:00\", \"y_test\": 81.0, \"y_pred\": 77.91591705034698, \"label\": \"Actual\", \"predicted_label\": \"Predicted\"}, {\"date\": \"2020-08-18T00:00:00\", \"y_test\": 84.4000015258789, \"y_pred\": 82.16714656684296, \"label\": \"Actual\", \"predicted_label\": \"Predicted\"}, {\"date\": \"2020-08-19T00:00:00\", \"y_test\": 82.4499969482422, \"y_pred\": 85.36457513512967, \"label\": \"Actual\", \"predicted_label\": \"Predicted\"}, {\"date\": \"2020-08-20T00:00:00\", \"y_test\": 89.80000305175781, \"y_pred\": 85.93126735910259, \"label\": \"Actual\", \"predicted_label\": \"Predicted\"}, {\"date\": \"2020-08-21T00:00:00\", \"y_test\": 96.40000152587889, \"y_pred\": 94.4310374416495, \"label\": \"Actual\", \"predicted_label\": \"Predicted\"}, {\"date\": \"2020-08-24T00:00:00\", \"y_test\": 94.4000015258789, \"y_pred\": 98.28339960841262, \"label\": \"Actual\", \"predicted_label\": \"Predicted\"}, {\"date\": \"2020-08-25T00:00:00\", \"y_test\": 93.34999847412111, \"y_pred\": 98.25081704751648, \"label\": \"Actual\", \"predicted_label\": \"Predicted\"}, {\"date\": \"2020-08-26T00:00:00\", \"y_test\": 90.5500030517578, \"y_pred\": 96.14891755989389, \"label\": \"Actual\", \"predicted_label\": \"Predicted\"}, {\"date\": \"2020-08-27T00:00:00\", \"y_test\": 93.9000015258789, \"y_pred\": 95.93246066608373, \"label\": \"Actual\", \"predicted_label\": \"Predicted\"}, {\"date\": \"2020-08-28T00:00:00\", \"y_test\": 94.9000015258789, \"y_pred\": 98.60473228054957, \"label\": \"Actual\", \"predicted_label\": \"Predicted\"}, {\"date\": \"2020-08-31T00:00:00\", \"y_test\": 95.80000305175778, \"y_pred\": 100.38494733728751, \"label\": \"Actual\", \"predicted_label\": \"Predicted\"}, {\"date\": \"2020-09-01T00:00:00\", \"y_test\": 92.0, \"y_pred\": 94.30056565158239, \"label\": \"Actual\", \"predicted_label\": \"Predicted\"}, {\"date\": \"2020-09-02T00:00:00\", \"y_test\": 89.8499984741211, \"y_pred\": 95.36632462566712, \"label\": \"Actual\", \"predicted_label\": \"Predicted\"}, {\"date\": \"2020-09-03T00:00:00\", \"y_test\": 88.1500015258789, \"y_pred\": 93.46035670608532, \"label\": \"Actual\", \"predicted_label\": \"Predicted\"}, {\"date\": \"2020-09-04T00:00:00\", \"y_test\": 88.5, \"y_pred\": 92.3322783222847, \"label\": \"Actual\", \"predicted_label\": \"Predicted\"}, {\"date\": \"2020-09-07T00:00:00\", \"y_test\": 88.0, \"y_pred\": 93.50845679689813, \"label\": \"Actual\", \"predicted_label\": \"Predicted\"}, {\"date\": \"2020-09-08T00:00:00\", \"y_test\": 86.69999694824219, \"y_pred\": 89.26358557429113, \"label\": \"Actual\", \"predicted_label\": \"Predicted\"}, {\"date\": \"2020-09-09T00:00:00\", \"y_test\": 83.1500015258789, \"y_pred\": 88.5559467477441, \"label\": \"Actual\", \"predicted_label\": \"Predicted\"}, {\"date\": \"2020-09-10T00:00:00\", \"y_test\": 85.19999694824217, \"y_pred\": 84.9699234155945, \"label\": \"Actual\", \"predicted_label\": \"Predicted\"}, {\"date\": \"2020-09-11T00:00:00\", \"y_test\": 86.59999847412111, \"y_pred\": 87.1555170905464, \"label\": \"Actual\", \"predicted_label\": \"Predicted\"}, {\"date\": \"2020-09-14T00:00:00\", \"y_test\": 90.1999969482422, \"y_pred\": 88.36465466186176, \"label\": \"Actual\", \"predicted_label\": \"Predicted\"}, {\"date\": \"2020-09-15T00:00:00\", \"y_test\": 91.5999984741211, \"y_pred\": 92.45783949533954, \"label\": \"Actual\", \"predicted_label\": \"Predicted\"}, {\"date\": \"2020-09-16T00:00:00\", \"y_test\": 89.5, \"y_pred\": 90.50881025595756, \"label\": \"Actual\", \"predicted_label\": \"Predicted\"}, {\"date\": \"2020-09-17T00:00:00\", \"y_test\": 88.44999694824219, \"y_pred\": 91.6061052665511, \"label\": \"Actual\", \"predicted_label\": \"Predicted\"}, {\"date\": \"2020-09-18T00:00:00\", \"y_test\": 89.75, \"y_pred\": 89.70145092212056, \"label\": \"Actual\", \"predicted_label\": \"Predicted\"}, {\"date\": \"2020-09-21T00:00:00\", \"y_test\": 87.0, \"y_pred\": 89.69680514646804, \"label\": \"Actual\", \"predicted_label\": \"Predicted\"}, {\"date\": \"2020-09-22T00:00:00\", \"y_test\": 82.0999984741211, \"y_pred\": 86.96748780752475, \"label\": \"Actual\", \"predicted_label\": \"Predicted\"}, {\"date\": \"2020-09-23T00:00:00\", \"y_test\": 80.5999984741211, \"y_pred\": 81.62591078097071, \"label\": \"Actual\", \"predicted_label\": \"Predicted\"}, {\"date\": \"2020-09-24T00:00:00\", \"y_test\": 77.6500015258789, \"y_pred\": 82.14994209829037, \"label\": \"Actual\", \"predicted_label\": \"Predicted\"}, {\"date\": \"2020-09-25T00:00:00\", \"y_test\": 79.0, \"y_pred\": 77.7981384440539, \"label\": \"Actual\", \"predicted_label\": \"Predicted\"}, {\"date\": \"2020-09-28T00:00:00\", \"y_test\": 83.75, \"y_pred\": 81.16362755367209, \"label\": \"Actual\", \"predicted_label\": \"Predicted\"}, {\"date\": \"2020-09-29T00:00:00\", \"y_test\": 84.59999847412111, \"y_pred\": 85.75790427400734, \"label\": \"Actual\", \"predicted_label\": \"Predicted\"}, {\"date\": \"2020-09-30T00:00:00\", \"y_test\": 83.05000305175781, \"y_pred\": 84.83232719583883, \"label\": \"Actual\", \"predicted_label\": \"Predicted\"}, {\"date\": \"2020-10-01T00:00:00\", \"y_test\": 84.4000015258789, \"y_pred\": 83.9283701465799, \"label\": \"Actual\", \"predicted_label\": \"Predicted\"}, {\"date\": \"2020-10-05T00:00:00\", \"y_test\": 84.90000152587892, \"y_pred\": 86.8293624380866, \"label\": \"Actual\", \"predicted_label\": \"Predicted\"}, {\"date\": \"2020-10-06T00:00:00\", \"y_test\": 82.1500015258789, \"y_pred\": 84.9362290051871, \"label\": \"Actual\", \"predicted_label\": \"Predicted\"}, {\"date\": \"2020-10-07T00:00:00\", \"y_test\": 80.0, \"y_pred\": 82.92962734116162, \"label\": \"Actual\", \"predicted_label\": \"Predicted\"}, {\"date\": \"2020-10-08T00:00:00\", \"y_test\": 80.00000000000001, \"y_pred\": 81.75829838818929, \"label\": \"Actual\", \"predicted_label\": \"Predicted\"}, {\"date\": \"2020-10-09T00:00:00\", \"y_test\": 79.55000305175781, \"y_pred\": 80.70903178017402, \"label\": \"Actual\", \"predicted_label\": \"Predicted\"}, {\"date\": \"2020-10-12T00:00:00\", \"y_test\": 80.0, \"y_pred\": 81.04107760981842, \"label\": \"Actual\", \"predicted_label\": \"Predicted\"}, {\"date\": \"2020-10-13T00:00:00\", \"y_test\": 76.44999694824219, \"y_pred\": 78.5550317375025, \"label\": \"Actual\", \"predicted_label\": \"Predicted\"}, {\"date\": \"2020-10-14T00:00:00\", \"y_test\": 78.5, \"y_pred\": 78.96348109276742, \"label\": \"Actual\", \"predicted_label\": \"Predicted\"}, {\"date\": \"2020-10-15T00:00:00\", \"y_test\": 78.4000015258789, \"y_pred\": 80.17924378082097, \"label\": \"Actual\", \"predicted_label\": \"Predicted\"}, {\"date\": \"2020-10-16T00:00:00\", \"y_test\": 77.0, \"y_pred\": 77.92441419942912, \"label\": \"Actual\", \"predicted_label\": \"Predicted\"}, {\"date\": \"2020-10-19T00:00:00\", \"y_test\": 76.94999694824219, \"y_pred\": 79.38859707749656, \"label\": \"Actual\", \"predicted_label\": \"Predicted\"}, {\"date\": \"2020-10-20T00:00:00\", \"y_test\": 76.9000015258789, \"y_pred\": 79.21158852259826, \"label\": \"Actual\", \"predicted_label\": \"Predicted\"}, {\"date\": \"2020-10-21T00:00:00\", \"y_test\": 77.0, \"y_pred\": 77.79600885251084, \"label\": \"Actual\", \"predicted_label\": \"Predicted\"}, {\"date\": \"2020-10-22T00:00:00\", \"y_test\": 77.9000015258789, \"y_pred\": 78.63809511935995, \"label\": \"Actual\", \"predicted_label\": \"Predicted\"}, {\"date\": \"2020-10-23T00:00:00\", \"y_test\": 80.4000015258789, \"y_pred\": 79.59393704228553, \"label\": \"Actual\", \"predicted_label\": \"Predicted\"}, {\"date\": \"2020-10-26T00:00:00\", \"y_test\": 79.8499984741211, \"y_pred\": 81.28879711750831, \"label\": \"Actual\", \"predicted_label\": \"Predicted\"}, {\"date\": \"2020-10-27T00:00:00\", \"y_test\": 77.5, \"y_pred\": 79.6365490415545, \"label\": \"Actual\", \"predicted_label\": \"Predicted\"}, {\"date\": \"2020-10-28T00:00:00\", \"y_test\": 77.0999984741211, \"y_pred\": 79.4605396306024, \"label\": \"Actual\", \"predicted_label\": \"Predicted\"}, {\"date\": \"2020-10-29T00:00:00\", \"y_test\": 75.5999984741211, \"y_pred\": 78.51438184255389, \"label\": \"Actual\", \"predicted_label\": \"Predicted\"}, {\"date\": \"2020-10-30T00:00:00\", \"y_test\": 75.75, \"y_pred\": 77.32816436691076, \"label\": \"Actual\", \"predicted_label\": \"Predicted\"}, {\"date\": \"2020-11-02T00:00:00\", \"y_test\": 75.5, \"y_pred\": 77.22322040055867, \"label\": \"Actual\", \"predicted_label\": \"Predicted\"}, {\"date\": \"2020-11-03T00:00:00\", \"y_test\": 74.9000015258789, \"y_pred\": 76.09649403582003, \"label\": \"Actual\", \"predicted_label\": \"Predicted\"}, {\"date\": \"2020-11-04T00:00:00\", \"y_test\": 75.1500015258789, \"y_pred\": 77.08539832989271, \"label\": \"Actual\", \"predicted_label\": \"Predicted\"}, {\"date\": \"2020-11-05T00:00:00\", \"y_test\": 75.0, \"y_pred\": 76.77794138154323, \"label\": \"Actual\", \"predicted_label\": \"Predicted\"}, {\"date\": \"2020-11-06T00:00:00\", \"y_test\": 79.5999984741211, \"y_pred\": 76.58363442069401, \"label\": \"Actual\", \"predicted_label\": \"Predicted\"}, {\"date\": \"2020-11-09T00:00:00\", \"y_test\": 77.75, \"y_pred\": 78.98899364672019, \"label\": \"Actual\", \"predicted_label\": \"Predicted\"}, {\"date\": \"2020-11-10T00:00:00\", \"y_test\": 83.75, \"y_pred\": 79.7892627392784, \"label\": \"Actual\", \"predicted_label\": \"Predicted\"}, {\"date\": \"2020-11-11T00:00:00\", \"y_test\": 83.59999847412111, \"y_pred\": 86.07416490052053, \"label\": \"Actual\", \"predicted_label\": \"Predicted\"}, {\"date\": \"2020-11-12T00:00:00\", \"y_test\": 82.9000015258789, \"y_pred\": 84.26707509816833, \"label\": \"Actual\", \"predicted_label\": \"Predicted\"}, {\"date\": \"2020-11-13T00:00:00\", \"y_test\": 82.55000305175781, \"y_pred\": 84.66757790950383, \"label\": \"Actual\", \"predicted_label\": \"Predicted\"}, {\"date\": \"2020-11-14T00:00:00\", \"y_test\": 83.4000015258789, \"y_pred\": 84.36004014338651, \"label\": \"Actual\", \"predicted_label\": \"Predicted\"}, {\"date\": \"2020-11-17T00:00:00\", \"y_test\": 89.6999969482422, \"y_pred\": 85.26705935564675, \"label\": \"Actual\", \"predicted_label\": \"Predicted\"}, {\"date\": \"2020-11-18T00:00:00\", \"y_test\": 89.69999694824219, \"y_pred\": 91.74293311544744, \"label\": \"Actual\", \"predicted_label\": \"Predicted\"}, {\"date\": \"2020-11-19T00:00:00\", \"y_test\": 89.69999694824219, \"y_pred\": 90.41975093302773, \"label\": \"Actual\", \"predicted_label\": \"Predicted\"}, {\"date\": \"2020-11-20T00:00:00\", \"y_test\": 90.25, \"y_pred\": 91.64878632734667, \"label\": \"Actual\", \"predicted_label\": \"Predicted\"}, {\"date\": \"2020-11-23T00:00:00\", \"y_test\": 89.0999984741211, \"y_pred\": 92.2615169631881, \"label\": \"Actual\", \"predicted_label\": \"Predicted\"}, {\"date\": \"2020-11-24T00:00:00\", \"y_test\": 88.1500015258789, \"y_pred\": 89.58273535835332, \"label\": \"Actual\", \"predicted_label\": \"Predicted\"}, {\"date\": \"2020-11-25T00:00:00\", \"y_test\": 89.0, \"y_pred\": 89.75740763223111, \"label\": \"Actual\", \"predicted_label\": \"Predicted\"}, {\"date\": \"2020-11-26T00:00:00\", \"y_test\": 91.25, \"y_pred\": 89.1570324306133, \"label\": \"Actual\", \"predicted_label\": \"Predicted\"}, {\"date\": \"2020-11-27T00:00:00\", \"y_test\": 91.0, \"y_pred\": 92.78613920085076, \"label\": \"Actual\", \"predicted_label\": \"Predicted\"}, {\"date\": \"2020-12-01T00:00:00\", \"y_test\": 94.59999847412111, \"y_pred\": 92.98083217011086, \"label\": \"Actual\", \"predicted_label\": \"Predicted\"}, {\"date\": \"2020-12-02T00:00:00\", \"y_test\": 96.00000000000001, \"y_pred\": 95.30208272773437, \"label\": \"Actual\", \"predicted_label\": \"Predicted\"}, {\"date\": \"2020-12-03T00:00:00\", \"y_test\": 99.69999694824222, \"y_pred\": 97.41345179583064, \"label\": \"Actual\", \"predicted_label\": \"Predicted\"}, {\"date\": \"2020-12-04T00:00:00\", \"y_test\": 100.6999969482422, \"y_pred\": 102.62385442919779, \"label\": \"Actual\", \"predicted_label\": \"Predicted\"}, {\"date\": \"2020-12-07T00:00:00\", \"y_test\": 103.65000152587892, \"y_pred\": 101.52685954213888, \"label\": \"Actual\", \"predicted_label\": \"Predicted\"}, {\"date\": \"2020-12-08T00:00:00\", \"y_test\": 104.84999847412111, \"y_pred\": 105.16038026272291, \"label\": \"Actual\", \"predicted_label\": \"Predicted\"}, {\"date\": \"2020-12-09T00:00:00\", \"y_test\": 104.5999984741211, \"y_pred\": 105.24745934142253, \"label\": \"Actual\", \"predicted_label\": \"Predicted\"}, {\"date\": \"2020-12-10T00:00:00\", \"y_test\": 102.8000030517578, \"y_pred\": 106.55620667217909, \"label\": \"Actual\", \"predicted_label\": \"Predicted\"}, {\"date\": \"2020-12-11T00:00:00\", \"y_test\": 104.0, \"y_pred\": 103.8813510934483, \"label\": \"Actual\", \"predicted_label\": \"Predicted\"}, {\"date\": \"2020-12-14T00:00:00\", \"y_test\": 102.5, \"y_pred\": 104.08041345446821, \"label\": \"Actual\", \"predicted_label\": \"Predicted\"}, {\"date\": \"2020-12-15T00:00:00\", \"y_test\": 102.5999984741211, \"y_pred\": 105.17410755943781, \"label\": \"Actual\", \"predicted_label\": \"Predicted\"}, {\"date\": \"2020-12-16T00:00:00\", \"y_test\": 102.40000152587892, \"y_pred\": 104.78421239510162, \"label\": \"Actual\", \"predicted_label\": \"Predicted\"}, {\"date\": \"2020-12-17T00:00:00\", \"y_test\": 100.6500015258789, \"y_pred\": 104.16887585847107, \"label\": \"Actual\", \"predicted_label\": \"Predicted\"}, {\"date\": \"2020-12-18T00:00:00\", \"y_test\": 100.00000000000001, \"y_pred\": 103.06903636712075, \"label\": \"Actual\", \"predicted_label\": \"Predicted\"}, {\"date\": \"2020-12-21T00:00:00\", \"y_test\": 98.90000152587889, \"y_pred\": 99.79072763264799, \"label\": \"Actual\", \"predicted_label\": \"Predicted\"}, {\"date\": \"2020-12-22T00:00:00\", \"y_test\": 90.1999969482422, \"y_pred\": 93.4001933563764, \"label\": \"Actual\", \"predicted_label\": \"Predicted\"}, {\"date\": \"2020-12-23T00:00:00\", \"y_test\": 92.9000015258789, \"y_pred\": 93.05299043925176, \"label\": \"Actual\", \"predicted_label\": \"Predicted\"}, {\"date\": \"2020-12-24T00:00:00\", \"y_test\": 94.94999694824219, \"y_pred\": 95.94753140601195, \"label\": \"Actual\", \"predicted_label\": \"Predicted\"}, {\"date\": \"2020-12-28T00:00:00\", \"y_test\": 92.75, \"y_pred\": 94.56270476958667, \"label\": \"Actual\", \"predicted_label\": \"Predicted\"}, {\"date\": \"2020-12-29T00:00:00\", \"y_test\": 91.4499969482422, \"y_pred\": 93.13337570697576, \"label\": \"Actual\", \"predicted_label\": \"Predicted\"}, {\"date\": \"2020-12-30T00:00:00\", \"y_test\": 90.9000015258789, \"y_pred\": 92.27452141397582, \"label\": \"Actual\", \"predicted_label\": \"Predicted\"}, {\"date\": \"2020-12-31T00:00:00\", \"y_test\": 91.50000000000001, \"y_pred\": 94.10830060222041, \"label\": \"Actual\", \"predicted_label\": \"Predicted\"}, {\"date\": \"2021-01-01T00:00:00\", \"y_test\": 93.9000015258789, \"y_pred\": 93.87682888552406, \"label\": \"Actual\", \"predicted_label\": \"Predicted\"}, {\"date\": \"2021-01-04T00:00:00\", \"y_test\": 97.0, \"y_pred\": 97.0964728392308, \"label\": \"Actual\", \"predicted_label\": \"Predicted\"}, {\"date\": \"2021-01-05T00:00:00\", \"y_test\": 95.5, \"y_pred\": 100.10897937708475, \"label\": \"Actual\", \"predicted_label\": \"Predicted\"}, {\"date\": \"2021-01-06T00:00:00\", \"y_test\": 98.15000152587892, \"y_pred\": 98.62607474875671, \"label\": \"Actual\", \"predicted_label\": \"Predicted\"}, {\"date\": \"2021-01-07T00:00:00\", \"y_test\": 98.5, \"y_pred\": 99.45803285641956, \"label\": \"Actual\", \"predicted_label\": \"Predicted\"}, {\"date\": \"2021-01-08T00:00:00\", \"y_test\": 99.34999847412111, \"y_pred\": 100.47093377766406, \"label\": \"Actual\", \"predicted_label\": \"Predicted\"}, {\"date\": \"2021-01-11T00:00:00\", \"y_test\": 99.4000015258789, \"y_pred\": 101.16526002425904, \"label\": \"Actual\", \"predicted_label\": \"Predicted\"}, {\"date\": \"2021-01-12T00:00:00\", \"y_test\": 97.4000015258789, \"y_pred\": 99.83646645068998, \"label\": \"Actual\", \"predicted_label\": \"Predicted\"}, {\"date\": \"2021-01-13T00:00:00\", \"y_test\": 100.6500015258789, \"y_pred\": 100.13771188783252, \"label\": \"Actual\", \"predicted_label\": \"Predicted\"}, {\"date\": \"2021-01-14T00:00:00\", \"y_test\": 99.8000030517578, \"y_pred\": 99.60047330182576, \"label\": \"Actual\", \"predicted_label\": \"Predicted\"}, {\"date\": \"2021-01-15T00:00:00\", \"y_test\": 98.0, \"y_pred\": 100.22497218769915, \"label\": \"Actual\", \"predicted_label\": \"Predicted\"}, {\"date\": \"2021-01-18T00:00:00\", \"y_test\": 97.0, \"y_pred\": 99.84799200308161, \"label\": \"Actual\", \"predicted_label\": \"Predicted\"}, {\"date\": \"2021-01-19T00:00:00\", \"y_test\": 95.49999999999999, \"y_pred\": 96.2262105723486, \"label\": \"Actual\", \"predicted_label\": \"Predicted\"}, {\"date\": \"2021-01-20T00:00:00\", \"y_test\": 96.3000030517578, \"y_pred\": 97.6146875981008, \"label\": \"Actual\", \"predicted_label\": \"Predicted\"}, {\"date\": \"2021-01-21T00:00:00\", \"y_test\": 96.4499969482422, \"y_pred\": 98.11262938573954, \"label\": \"Actual\", \"predicted_label\": \"Predicted\"}, {\"date\": \"2021-01-22T00:00:00\", \"y_test\": 95.3000030517578, \"y_pred\": 98.0639639527219, \"label\": \"Actual\", \"predicted_label\": \"Predicted\"}, {\"date\": \"2021-01-25T00:00:00\", \"y_test\": 93.40000152587892, \"y_pred\": 96.17223854765638, \"label\": \"Actual\", \"predicted_label\": \"Predicted\"}, {\"date\": \"2021-01-27T00:00:00\", \"y_test\": 93.6999969482422, \"y_pred\": 95.45062410613006, \"label\": \"Actual\", \"predicted_label\": \"Predicted\"}, {\"date\": \"2021-01-28T00:00:00\", \"y_test\": 94.49999999999999, \"y_pred\": 95.79964868975493, \"label\": \"Actual\", \"predicted_label\": \"Predicted\"}, {\"date\": \"2021-01-29T00:00:00\", \"y_test\": 94.75000000000001, \"y_pred\": 97.00644675794526, \"label\": \"Actual\", \"predicted_label\": \"Predicted\"}, {\"date\": \"2021-02-01T00:00:00\", \"y_test\": 93.24999999999999, \"y_pred\": 95.83364172312567, \"label\": \"Actual\", \"predicted_label\": \"Predicted\"}, {\"date\": \"2021-02-02T00:00:00\", \"y_test\": 94.0, \"y_pred\": 94.12272447448981, \"label\": \"Actual\", \"predicted_label\": \"Predicted\"}, {\"date\": \"2021-02-03T00:00:00\", \"y_test\": 95.3000030517578, \"y_pred\": 95.28583869010663, \"label\": \"Actual\", \"predicted_label\": \"Predicted\"}, {\"date\": \"2021-02-04T00:00:00\", \"y_test\": 95.8000030517578, \"y_pred\": 97.58297268514781, \"label\": \"Actual\", \"predicted_label\": \"Predicted\"}, {\"date\": \"2021-02-05T00:00:00\", \"y_test\": 96.8499984741211, \"y_pred\": 96.53637554864419, \"label\": \"Actual\", \"predicted_label\": \"Predicted\"}, {\"date\": \"2021-02-08T00:00:00\", \"y_test\": 99.6500015258789, \"y_pred\": 99.86206892388536, \"label\": \"Actual\", \"predicted_label\": \"Predicted\"}, {\"date\": \"2021-02-09T00:00:00\", \"y_test\": 101.0500030517578, \"y_pred\": 102.6395030310549, \"label\": \"Actual\", \"predicted_label\": \"Predicted\"}, {\"date\": \"2021-02-10T00:00:00\", \"y_test\": 97.9499969482422, \"y_pred\": 98.86287358540106, \"label\": \"Actual\", \"predicted_label\": \"Predicted\"}, {\"date\": \"2021-02-11T00:00:00\", \"y_test\": 99.49999999999999, \"y_pred\": 100.63784729782066, \"label\": \"Actual\", \"predicted_label\": \"Predicted\"}, {\"date\": \"2021-02-12T00:00:00\", \"y_test\": 99.5, \"y_pred\": 100.92452412167594, \"label\": \"Actual\", \"predicted_label\": \"Predicted\"}, {\"date\": \"2021-02-15T00:00:00\", \"y_test\": 99.75000000000001, \"y_pred\": 101.52583665747106, \"label\": \"Actual\", \"predicted_label\": \"Predicted\"}, {\"date\": \"2021-02-16T00:00:00\", \"y_test\": 101.25, \"y_pred\": 102.35345361050408, \"label\": \"Actual\", \"predicted_label\": \"Predicted\"}, {\"date\": \"2021-02-17T00:00:00\", \"y_test\": 99.1999969482422, \"y_pred\": 102.32881515398606, \"label\": \"Actual\", \"predicted_label\": \"Predicted\"}, {\"date\": \"2021-02-18T00:00:00\", \"y_test\": 98.94999694824219, \"y_pred\": 100.25075824785259, \"label\": \"Actual\", \"predicted_label\": \"Predicted\"}, {\"date\": \"2021-02-19T00:00:00\", \"y_test\": 99.40000152587892, \"y_pred\": 101.02240906343135, \"label\": \"Actual\", \"predicted_label\": \"Predicted\"}, {\"date\": \"2021-02-22T00:00:00\", \"y_test\": 97.30000305175778, \"y_pred\": 100.34537517851844, \"label\": \"Actual\", \"predicted_label\": \"Predicted\"}, {\"date\": \"2021-02-23T00:00:00\", \"y_test\": 97.9499969482422, \"y_pred\": 99.94737383976167, \"label\": \"Actual\", \"predicted_label\": \"Predicted\"}, {\"date\": \"2021-02-24T00:00:00\", \"y_test\": 97.9499969482422, \"y_pred\": 100.23538176501718, \"label\": \"Actual\", \"predicted_label\": \"Predicted\"}, {\"date\": \"2021-02-25T00:00:00\", \"y_test\": 98.9000015258789, \"y_pred\": 100.85296302859861, \"label\": \"Actual\", \"predicted_label\": \"Predicted\"}, {\"date\": \"2021-02-26T00:00:00\", \"y_test\": 98.25000000000001, \"y_pred\": 100.2258357480936, \"label\": \"Actual\", \"predicted_label\": \"Predicted\"}, {\"date\": \"2021-03-01T00:00:00\", \"y_test\": 99.5, \"y_pred\": 99.71525829383837, \"label\": \"Actual\", \"predicted_label\": \"Predicted\"}, {\"date\": \"2021-03-02T00:00:00\", \"y_test\": 98.5999984741211, \"y_pred\": 99.94620411841362, \"label\": \"Actual\", \"predicted_label\": \"Predicted\"}, {\"date\": \"2021-03-03T00:00:00\", \"y_test\": 104.6999969482422, \"y_pred\": 100.53924859163753, \"label\": \"Actual\", \"predicted_label\": \"Predicted\"}, {\"date\": \"2021-03-04T00:00:00\", \"y_test\": 110.84999847412111, \"y_pred\": 107.62286330306566, \"label\": \"Actual\", \"predicted_label\": \"Predicted\"}, {\"date\": \"2021-03-05T00:00:00\", \"y_test\": 111.0, \"y_pred\": 113.91978480041317, \"label\": \"Actual\", \"predicted_label\": \"Predicted\"}, {\"date\": \"2021-03-08T00:00:00\", \"y_test\": 112.5, \"y_pred\": 113.78786194432068, \"label\": \"Actual\", \"predicted_label\": \"Predicted\"}, {\"date\": \"2021-03-09T00:00:00\", \"y_test\": 110.0, \"y_pred\": 112.0505936954592, \"label\": \"Actual\", \"predicted_label\": \"Predicted\"}, {\"date\": \"2021-03-10T00:00:00\", \"y_test\": 109.3499984741211, \"y_pred\": 111.72852977924808, \"label\": \"Actual\", \"predicted_label\": \"Predicted\"}, {\"date\": \"2021-03-12T00:00:00\", \"y_test\": 109.0, \"y_pred\": 111.71581713763689, \"label\": \"Actual\", \"predicted_label\": \"Predicted\"}, {\"date\": \"2021-03-15T00:00:00\", \"y_test\": 107.9499969482422, \"y_pred\": 110.24274158856245, \"label\": \"Actual\", \"predicted_label\": \"Predicted\"}, {\"date\": \"2021-03-16T00:00:00\", \"y_test\": 104.49999999999999, \"y_pred\": 106.24400694508107, \"label\": \"Actual\", \"predicted_label\": \"Predicted\"}, {\"date\": \"2021-03-17T00:00:00\", \"y_test\": 108.0, \"y_pred\": 106.51753509335805, \"label\": \"Actual\", \"predicted_label\": \"Predicted\"}, {\"date\": \"2021-03-18T00:00:00\", \"y_test\": 103.05000305175778, \"y_pred\": 104.00456760302555, \"label\": \"Actual\", \"predicted_label\": \"Predicted\"}, {\"date\": \"2021-03-19T00:00:00\", \"y_test\": 99.8499984741211, \"y_pred\": 102.81354596113107, \"label\": \"Actual\", \"predicted_label\": \"Predicted\"}, {\"date\": \"2021-03-22T00:00:00\", \"y_test\": 98.75, \"y_pred\": 101.86149119559575, \"label\": \"Actual\", \"predicted_label\": \"Predicted\"}, {\"date\": \"2021-03-23T00:00:00\", \"y_test\": 100.0500030517578, \"y_pred\": 101.79982255633472, \"label\": \"Actual\", \"predicted_label\": \"Predicted\"}, {\"date\": \"2021-03-24T00:00:00\", \"y_test\": 99.9499969482422, \"y_pred\": 104.11423092560837, \"label\": \"Actual\", \"predicted_label\": \"Predicted\"}, {\"date\": \"2021-03-25T00:00:00\", \"y_test\": 98.0500030517578, \"y_pred\": 102.7138668597141, \"label\": \"Actual\", \"predicted_label\": \"Predicted\"}, {\"date\": \"2021-03-26T00:00:00\", \"y_test\": 97.90000152587892, \"y_pred\": 99.5146138431971, \"label\": \"Actual\", \"predicted_label\": \"Predicted\"}, {\"date\": \"2021-03-30T00:00:00\", \"y_test\": 95.5999984741211, \"y_pred\": 99.05435386000833, \"label\": \"Actual\", \"predicted_label\": \"Predicted\"}, {\"date\": \"2021-03-31T00:00:00\", \"y_test\": 96.1500015258789, \"y_pred\": 96.36659004553631, \"label\": \"Actual\", \"predicted_label\": \"Predicted\"}, {\"date\": \"2021-04-01T00:00:00\", \"y_test\": 97.3499984741211, \"y_pred\": 95.75695630602905, \"label\": \"Actual\", \"predicted_label\": \"Predicted\"}, {\"date\": \"2021-04-05T00:00:00\", \"y_test\": 93.5999984741211, \"y_pred\": 98.49011034571987, \"label\": \"Actual\", \"predicted_label\": \"Predicted\"}, {\"date\": \"2021-04-06T00:00:00\", \"y_test\": 93.05000305175781, \"y_pred\": 95.19491219323625, \"label\": \"Actual\", \"predicted_label\": \"Predicted\"}, {\"date\": \"2021-04-07T00:00:00\", \"y_test\": 94.1999969482422, \"y_pred\": 94.04978551255076, \"label\": \"Actual\", \"predicted_label\": \"Predicted\"}, {\"date\": \"2021-04-08T00:00:00\", \"y_test\": 94.3000030517578, \"y_pred\": 96.28381491818715, \"label\": \"Actual\", \"predicted_label\": \"Predicted\"}, {\"date\": \"2021-04-09T00:00:00\", \"y_test\": 94.9000015258789, \"y_pred\": 95.40855249657109, \"label\": \"Actual\", \"predicted_label\": \"Predicted\"}, {\"date\": \"2021-04-12T00:00:00\", \"y_test\": 92.00000000000001, \"y_pred\": 94.68458032089292, \"label\": \"Actual\", \"predicted_label\": \"Predicted\"}, {\"date\": \"2021-04-13T00:00:00\", \"y_test\": 89.4000015258789, \"y_pred\": 89.81160380680956, \"label\": \"Actual\", \"predicted_label\": \"Predicted\"}, {\"date\": \"2021-04-15T00:00:00\", \"y_test\": 88.30000305175781, \"y_pred\": 91.95047978858351, \"label\": \"Actual\", \"predicted_label\": \"Predicted\"}, {\"date\": \"2021-04-16T00:00:00\", \"y_test\": 88.84999847412111, \"y_pred\": 90.67386814219033, \"label\": \"Actual\", \"predicted_label\": \"Predicted\"}, {\"date\": \"2021-04-19T00:00:00\", \"y_test\": 85.0, \"y_pred\": 89.52561532112341, \"label\": \"Actual\", \"predicted_label\": \"Predicted\"}, {\"date\": \"2021-04-20T00:00:00\", \"y_test\": 86.1999969482422, \"y_pred\": 85.5773678107851, \"label\": \"Actual\", \"predicted_label\": \"Predicted\"}, {\"date\": \"2021-04-22T00:00:00\", \"y_test\": 85.80000305175781, \"y_pred\": 85.97900132135705, \"label\": \"Actual\", \"predicted_label\": \"Predicted\"}, {\"date\": \"2021-04-23T00:00:00\", \"y_test\": 86.55000305175781, \"y_pred\": 85.92130773668886, \"label\": \"Actual\", \"predicted_label\": \"Predicted\"}, {\"date\": \"2021-04-26T00:00:00\", \"y_test\": 88.94999694824219, \"y_pred\": 88.00608522702629, \"label\": \"Actual\", \"predicted_label\": \"Predicted\"}, {\"date\": \"2021-04-27T00:00:00\", \"y_test\": 90.0, \"y_pred\": 90.56752913796149, \"label\": \"Actual\", \"predicted_label\": \"Predicted\"}, {\"date\": \"2021-04-28T00:00:00\", \"y_test\": 91.5999984741211, \"y_pred\": 90.80467800694252, \"label\": \"Actual\", \"predicted_label\": \"Predicted\"}, {\"date\": \"2021-04-29T00:00:00\", \"y_test\": 88.9000015258789, \"y_pred\": 89.60299240023069, \"label\": \"Actual\", \"predicted_label\": \"Predicted\"}, {\"date\": \"2021-04-30T00:00:00\", \"y_test\": 89.5, \"y_pred\": 89.19680800661773, \"label\": \"Actual\", \"predicted_label\": \"Predicted\"}, {\"date\": \"2021-05-03T00:00:00\", \"y_test\": 87.30000305175781, \"y_pred\": 88.46371798917842, \"label\": \"Actual\", \"predicted_label\": \"Predicted\"}, {\"date\": \"2021-05-04T00:00:00\", \"y_test\": 90.5, \"y_pred\": 88.14204833152085, \"label\": \"Actual\", \"predicted_label\": \"Predicted\"}, {\"date\": \"2021-05-05T00:00:00\", \"y_test\": 88.80000305175781, \"y_pred\": 88.47377284936782, \"label\": \"Actual\", \"predicted_label\": \"Predicted\"}, {\"date\": \"2021-05-06T00:00:00\", \"y_test\": 90.1999969482422, \"y_pred\": 89.66007289482366, \"label\": \"Actual\", \"predicted_label\": \"Predicted\"}, {\"date\": \"2021-05-07T00:00:00\", \"y_test\": 91.30000305175778, \"y_pred\": 91.33960632512981, \"label\": \"Actual\", \"predicted_label\": \"Predicted\"}, {\"date\": \"2021-05-10T00:00:00\", \"y_test\": 91.0, \"y_pred\": 91.43208059092247, \"label\": \"Actual\", \"predicted_label\": \"Predicted\"}, {\"date\": \"2021-05-11T00:00:00\", \"y_test\": 93.0, \"y_pred\": 90.50759021829874, \"label\": \"Actual\", \"predicted_label\": \"Predicted\"}, {\"date\": \"2021-05-12T00:00:00\", \"y_test\": 93.90000152587892, \"y_pred\": 92.75177480029396, \"label\": \"Actual\", \"predicted_label\": \"Predicted\"}, {\"date\": \"2021-05-14T00:00:00\", \"y_test\": 93.9499969482422, \"y_pred\": 94.30503164073794, \"label\": \"Actual\", \"predicted_label\": \"Predicted\"}, {\"date\": \"2021-05-17T00:00:00\", \"y_test\": 93.75000000000001, \"y_pred\": 94.0703730780304, \"label\": \"Actual\", \"predicted_label\": \"Predicted\"}, {\"date\": \"2021-05-18T00:00:00\", \"y_test\": 99.44999694824219, \"y_pred\": 94.40664708018576, \"label\": \"Actual\", \"predicted_label\": \"Predicted\"}, {\"date\": \"2021-05-19T00:00:00\", \"y_test\": 100.1500015258789, \"y_pred\": 99.13886405421577, \"label\": \"Actual\", \"predicted_label\": \"Predicted\"}, {\"date\": \"2021-05-20T00:00:00\", \"y_test\": 99.84999847412111, \"y_pred\": 100.96929348242621, \"label\": \"Actual\", \"predicted_label\": \"Predicted\"}, {\"date\": \"2021-05-21T00:00:00\", \"y_test\": 101.69999694824222, \"y_pred\": 98.75740144026027, \"label\": \"Actual\", \"predicted_label\": \"Predicted\"}, {\"date\": \"2021-05-24T00:00:00\", \"y_test\": 106.44999694824219, \"y_pred\": 101.23831283132476, \"label\": \"Actual\", \"predicted_label\": \"Predicted\"}, {\"date\": \"2021-05-25T00:00:00\", \"y_test\": 112.99999999999999, \"y_pred\": 107.76101134550083, \"label\": \"Actual\", \"predicted_label\": \"Predicted\"}, {\"date\": \"2021-05-26T00:00:00\", \"y_test\": 110.9000015258789, \"y_pred\": 111.06456159730203, \"label\": \"Actual\", \"predicted_label\": \"Predicted\"}, {\"date\": \"2021-05-27T00:00:00\", \"y_test\": 114.40000152587892, \"y_pred\": 108.50638884617317, \"label\": \"Actual\", \"predicted_label\": \"Predicted\"}, {\"date\": \"2021-05-28T00:00:00\", \"y_test\": 114.4499969482422, \"y_pred\": 114.63083492911112, \"label\": \"Actual\", \"predicted_label\": \"Predicted\"}, {\"date\": \"2021-05-31T00:00:00\", \"y_test\": 112.59999847412111, \"y_pred\": 111.30666407881166, \"label\": \"Actual\", \"predicted_label\": \"Predicted\"}, {\"date\": \"2021-06-01T00:00:00\", \"y_test\": 111.6500015258789, \"y_pred\": 111.11196082138207, \"label\": \"Actual\", \"predicted_label\": \"Predicted\"}, {\"date\": \"2021-06-02T00:00:00\", \"y_test\": 111.4000015258789, \"y_pred\": 110.93963386992658, \"label\": \"Actual\", \"predicted_label\": \"Predicted\"}, {\"date\": \"2021-06-03T00:00:00\", \"y_test\": 111.15000152587892, \"y_pred\": 109.795873360668, \"label\": \"Actual\", \"predicted_label\": \"Predicted\"}, {\"date\": \"2021-06-04T00:00:00\", \"y_test\": 121.15000152587892, \"y_pred\": 112.80684901681842, \"label\": \"Actual\", \"predicted_label\": \"Predicted\"}, {\"date\": \"2021-06-07T00:00:00\", \"y_test\": 120.6999969482422, \"y_pred\": 118.71829881974975, \"label\": \"Actual\", \"predicted_label\": \"Predicted\"}, {\"date\": \"2021-06-08T00:00:00\", \"y_test\": 119.0, \"y_pred\": 120.37284791005881, \"label\": \"Actual\", \"predicted_label\": \"Predicted\"}, {\"date\": \"2021-06-09T00:00:00\", \"y_test\": 118.1999969482422, \"y_pred\": 117.57901559751183, \"label\": \"Actual\", \"predicted_label\": \"Predicted\"}, {\"date\": \"2021-06-10T00:00:00\", \"y_test\": 118.15000152587892, \"y_pred\": 115.41403829100935, \"label\": \"Actual\", \"predicted_label\": \"Predicted\"}, {\"date\": \"2021-06-11T00:00:00\", \"y_test\": 118.15000152587892, \"y_pred\": 118.59286937167734, \"label\": \"Actual\", \"predicted_label\": \"Predicted\"}, {\"date\": \"2021-06-14T00:00:00\", \"y_test\": 119.84999847412111, \"y_pred\": 116.95226240481935, \"label\": \"Actual\", \"predicted_label\": \"Predicted\"}, {\"date\": \"2021-06-15T00:00:00\", \"y_test\": 119.25, \"y_pred\": 118.79134554424162, \"label\": \"Actual\", \"predicted_label\": \"Predicted\"}, {\"date\": \"2021-06-16T00:00:00\", \"y_test\": 119.00000000000001, \"y_pred\": 119.62761754516328, \"label\": \"Actual\", \"predicted_label\": \"Predicted\"}, {\"date\": \"2021-06-17T00:00:00\", \"y_test\": 116.75, \"y_pred\": 118.05864723990133, \"label\": \"Actual\", \"predicted_label\": \"Predicted\"}, {\"date\": \"2021-06-18T00:00:00\", \"y_test\": 114.8499984741211, \"y_pred\": 115.52619672190657, \"label\": \"Actual\", \"predicted_label\": \"Predicted\"}, {\"date\": \"2021-06-21T00:00:00\", \"y_test\": 111.1999969482422, \"y_pred\": 112.51696007691316, \"label\": \"Actual\", \"predicted_label\": \"Predicted\"}, {\"date\": \"2021-06-22T00:00:00\", \"y_test\": 116.9499969482422, \"y_pred\": 112.59515794409846, \"label\": \"Actual\", \"predicted_label\": \"Predicted\"}, {\"date\": \"2021-06-23T00:00:00\", \"y_test\": 115.9000015258789, \"y_pred\": 115.65194830771028, \"label\": \"Actual\", \"predicted_label\": \"Predicted\"}, {\"date\": \"2021-06-24T00:00:00\", \"y_test\": 114.99999999999999, \"y_pred\": 116.19864270301568, \"label\": \"Actual\", \"predicted_label\": \"Predicted\"}, {\"date\": \"2021-06-25T00:00:00\", \"y_test\": 115.4499969482422, \"y_pred\": 113.52988608389832, \"label\": \"Actual\", \"predicted_label\": \"Predicted\"}, {\"date\": \"2021-06-28T00:00:00\", \"y_test\": 114.8499984741211, \"y_pred\": 115.25311929934175, \"label\": \"Actual\", \"predicted_label\": \"Predicted\"}, {\"date\": \"2021-06-29T00:00:00\", \"y_test\": 115.59999847412111, \"y_pred\": 115.04091500283559, \"label\": \"Actual\", \"predicted_label\": \"Predicted\"}, {\"date\": \"2021-06-30T00:00:00\", \"y_test\": 113.0, \"y_pred\": 113.43547751130004, \"label\": \"Actual\", \"predicted_label\": \"Predicted\"}, {\"date\": \"2021-07-01T00:00:00\", \"y_test\": 113.84999847412111, \"y_pred\": 113.3055787520751, \"label\": \"Actual\", \"predicted_label\": \"Predicted\"}, {\"date\": \"2021-07-02T00:00:00\", \"y_test\": 112.6999969482422, \"y_pred\": 112.84406567133075, \"label\": \"Actual\", \"predicted_label\": \"Predicted\"}, {\"date\": \"2021-07-05T00:00:00\", \"y_test\": 114.0, \"y_pred\": 113.73101569788672, \"label\": \"Actual\", \"predicted_label\": \"Predicted\"}, {\"date\": \"2021-07-06T00:00:00\", \"y_test\": 119.6999969482422, \"y_pred\": 114.92644158829009, \"label\": \"Actual\", \"predicted_label\": \"Predicted\"}, {\"date\": \"2021-07-07T00:00:00\", \"y_test\": 122.59999847412111, \"y_pred\": 119.76536616993054, \"label\": \"Actual\", \"predicted_label\": \"Predicted\"}, {\"date\": \"2021-07-08T00:00:00\", \"y_test\": 119.5, \"y_pred\": 119.12541736348139, \"label\": \"Actual\", \"predicted_label\": \"Predicted\"}, {\"date\": \"2021-07-09T00:00:00\", \"y_test\": 118.5, \"y_pred\": 119.94345273498493, \"label\": \"Actual\", \"predicted_label\": \"Predicted\"}, {\"date\": \"2021-07-12T00:00:00\", \"y_test\": 119.8499984741211, \"y_pred\": 119.2933956416742, \"label\": \"Actual\", \"predicted_label\": \"Predicted\"}, {\"date\": \"2021-07-13T00:00:00\", \"y_test\": 119.0, \"y_pred\": 118.52578077668677, \"label\": \"Actual\", \"predicted_label\": \"Predicted\"}, {\"date\": \"2021-07-14T00:00:00\", \"y_test\": 118.19999694824219, \"y_pred\": 118.86521117411071, \"label\": \"Actual\", \"predicted_label\": \"Predicted\"}, {\"date\": \"2021-07-15T00:00:00\", \"y_test\": 120.80000305175778, \"y_pred\": 118.31597242585823, \"label\": \"Actual\", \"predicted_label\": \"Predicted\"}, {\"date\": \"2021-07-16T00:00:00\", \"y_test\": 118.0500030517578, \"y_pred\": 118.73608080926842, \"label\": \"Actual\", \"predicted_label\": \"Predicted\"}, {\"date\": \"2021-07-19T00:00:00\", \"y_test\": 116.5500030517578, \"y_pred\": 117.52984577163686, \"label\": \"Actual\", \"predicted_label\": \"Predicted\"}, {\"date\": \"2021-07-20T00:00:00\", \"y_test\": 113.0, \"y_pred\": 115.73096626143032, \"label\": \"Actual\", \"predicted_label\": \"Predicted\"}, {\"date\": \"2021-07-22T00:00:00\", \"y_test\": 113.24999999999999, \"y_pred\": 111.8604462477153, \"label\": \"Actual\", \"predicted_label\": \"Predicted\"}, {\"date\": \"2021-07-23T00:00:00\", \"y_test\": 114.0, \"y_pred\": 113.78252642239318, \"label\": \"Actual\", \"predicted_label\": \"Predicted\"}, {\"date\": \"2021-07-26T00:00:00\", \"y_test\": 115.25000000000001, \"y_pred\": 116.36321774609912, \"label\": \"Actual\", \"predicted_label\": \"Predicted\"}, {\"date\": \"2021-07-27T00:00:00\", \"y_test\": 114.9000015258789, \"y_pred\": 114.98892778264688, \"label\": \"Actual\", \"predicted_label\": \"Predicted\"}, {\"date\": \"2021-07-28T00:00:00\", \"y_test\": 113.15000152587889, \"y_pred\": 114.18860895366645, \"label\": \"Actual\", \"predicted_label\": \"Predicted\"}, {\"date\": \"2021-07-29T00:00:00\", \"y_test\": 114.25000000000001, \"y_pred\": 113.49247699646286, \"label\": \"Actual\", \"predicted_label\": \"Predicted\"}, {\"date\": \"2021-07-30T00:00:00\", \"y_test\": 113.8000030517578, \"y_pred\": 114.63779315617002, \"label\": \"Actual\", \"predicted_label\": \"Predicted\"}, {\"date\": \"2021-08-02T00:00:00\", \"y_test\": 113.5, \"y_pred\": 114.33092266368882, \"label\": \"Actual\", \"predicted_label\": \"Predicted\"}, {\"date\": \"2021-08-03T00:00:00\", \"y_test\": 112.0, \"y_pred\": 114.05921244301291, \"label\": \"Actual\", \"predicted_label\": \"Predicted\"}, {\"date\": \"2021-08-04T00:00:00\", \"y_test\": 111.8499984741211, \"y_pred\": 112.49259483939457, \"label\": \"Actual\", \"predicted_label\": \"Predicted\"}, {\"date\": \"2021-08-05T00:00:00\", \"y_test\": 109.5, \"y_pred\": 110.80434552725013, \"label\": \"Actual\", \"predicted_label\": \"Predicted\"}, {\"date\": \"2021-08-06T00:00:00\", \"y_test\": 109.69999694824222, \"y_pred\": 111.56655263105439, \"label\": \"Actual\", \"predicted_label\": \"Predicted\"}, {\"date\": \"2021-08-09T00:00:00\", \"y_test\": 109.49999999999999, \"y_pred\": 111.49268500241644, \"label\": \"Actual\", \"predicted_label\": \"Predicted\"}, {\"date\": \"2021-08-10T00:00:00\", \"y_test\": 108.69999694824219, \"y_pred\": 109.94942312638433, \"label\": \"Actual\", \"predicted_label\": \"Predicted\"}, {\"date\": \"2021-08-11T00:00:00\", \"y_test\": 104.5, \"y_pred\": 107.45959223979821, \"label\": \"Actual\", \"predicted_label\": \"Predicted\"}, {\"date\": \"2021-08-12T00:00:00\", \"y_test\": 105.9000015258789, \"y_pred\": 106.14648726597959, \"label\": \"Actual\", \"predicted_label\": \"Predicted\"}, {\"date\": \"2021-08-13T00:00:00\", \"y_test\": 106.99999999999999, \"y_pred\": 108.84019565576219, \"label\": \"Actual\", \"predicted_label\": \"Predicted\"}, {\"date\": \"2021-08-16T00:00:00\", \"y_test\": 105.65000152587889, \"y_pred\": 108.30356348340914, \"label\": \"Actual\", \"predicted_label\": \"Predicted\"}, {\"date\": \"2021-08-17T00:00:00\", \"y_test\": 103.65000152587892, \"y_pred\": 106.57604115235121, \"label\": \"Actual\", \"predicted_label\": \"Predicted\"}, {\"date\": \"2021-08-18T00:00:00\", \"y_test\": 104.19999694824219, \"y_pred\": 106.65357275509518, \"label\": \"Actual\", \"predicted_label\": \"Predicted\"}, {\"date\": \"2021-08-20T00:00:00\", \"y_test\": 103.4499969482422, \"y_pred\": 107.02263768153665, \"label\": \"Actual\", \"predicted_label\": \"Predicted\"}, {\"date\": \"2021-08-23T00:00:00\", \"y_test\": 104.0999984741211, \"y_pred\": 105.78791431422356, \"label\": \"Actual\", \"predicted_label\": \"Predicted\"}, {\"date\": \"2021-08-24T00:00:00\", \"y_test\": 110.0, \"y_pred\": 104.13852507364936, \"label\": \"Actual\", \"predicted_label\": \"Predicted\"}, {\"date\": \"2021-08-25T00:00:00\", \"y_test\": 106.75000000000001, \"y_pred\": 109.03840998974856, \"label\": \"Actual\", \"predicted_label\": \"Predicted\"}, {\"date\": \"2021-08-26T00:00:00\", \"y_test\": 105.5500030517578, \"y_pred\": 110.17088132245046, \"label\": \"Actual\", \"predicted_label\": \"Predicted\"}, {\"date\": \"2021-08-27T00:00:00\", \"y_test\": 105.8000030517578, \"y_pred\": 108.19863215677464, \"label\": \"Actual\", \"predicted_label\": \"Predicted\"}, {\"date\": \"2021-08-30T00:00:00\", \"y_test\": 106.5999984741211, \"y_pred\": 108.57655820397409, \"label\": \"Actual\", \"predicted_label\": \"Predicted\"}, {\"date\": \"2021-08-31T00:00:00\", \"y_test\": 105.69999694824219, \"y_pred\": 106.81496465609476, \"label\": \"Actual\", \"predicted_label\": \"Predicted\"}, {\"date\": \"2021-09-01T00:00:00\", \"y_test\": 104.15000152587892, \"y_pred\": 106.33589734658374, \"label\": \"Actual\", \"predicted_label\": \"Predicted\"}, {\"date\": \"2021-09-02T00:00:00\", \"y_test\": 109.59999847412108, \"y_pred\": 106.55559569313453, \"label\": \"Actual\", \"predicted_label\": \"Predicted\"}, {\"date\": \"2021-09-03T00:00:00\", \"y_test\": 109.25, \"y_pred\": 110.53567029768483, \"label\": \"Actual\", \"predicted_label\": \"Predicted\"}, {\"date\": \"2021-09-06T00:00:00\", \"y_test\": 108.5999984741211, \"y_pred\": 110.18026657119941, \"label\": \"Actual\", \"predicted_label\": \"Predicted\"}, {\"date\": \"2021-09-07T00:00:00\", \"y_test\": 107.8000030517578, \"y_pred\": 109.96087758516542, \"label\": \"Actual\", \"predicted_label\": \"Predicted\"}, {\"date\": \"2021-09-08T00:00:00\", \"y_test\": 108.0999984741211, \"y_pred\": 109.68313137866811, \"label\": \"Actual\", \"predicted_label\": \"Predicted\"}, {\"date\": \"2021-09-09T00:00:00\", \"y_test\": 108.3000030517578, \"y_pred\": 109.57540592321352, \"label\": \"Actual\", \"predicted_label\": \"Predicted\"}, {\"date\": \"2021-09-13T00:00:00\", \"y_test\": 110.6999969482422, \"y_pred\": 110.4111875237127, \"label\": \"Actual\", \"predicted_label\": \"Predicted\"}, {\"date\": \"2021-09-14T00:00:00\", \"y_test\": 111.5, \"y_pred\": 113.24689915083908, \"label\": \"Actual\", \"predicted_label\": \"Predicted\"}, {\"date\": \"2021-09-15T00:00:00\", \"y_test\": 111.8499984741211, \"y_pred\": 113.22975477896655, \"label\": \"Actual\", \"predicted_label\": \"Predicted\"}, {\"date\": \"2021-09-16T00:00:00\", \"y_test\": 112.40000152587892, \"y_pred\": 113.97332828311548, \"label\": \"Actual\", \"predicted_label\": \"Predicted\"}, {\"date\": \"2021-09-17T00:00:00\", \"y_test\": 112.5, \"y_pred\": 113.46429301998722, \"label\": \"Actual\", \"predicted_label\": \"Predicted\"}, {\"date\": \"2021-09-20T00:00:00\", \"y_test\": 121.0, \"y_pred\": 110.72503848802253, \"label\": \"Actual\", \"predicted_label\": \"Predicted\"}, {\"date\": \"2021-09-21T00:00:00\", \"y_test\": 112.6999969482422, \"y_pred\": 114.91694146994497, \"label\": \"Actual\", \"predicted_label\": \"Predicted\"}, {\"date\": \"2021-09-22T00:00:00\", \"y_test\": 117.4000015258789, \"y_pred\": 116.42420859672082, \"label\": \"Actual\", \"predicted_label\": \"Predicted\"}, {\"date\": \"2021-09-23T00:00:00\", \"y_test\": 124.15000152587889, \"y_pred\": 119.2640016065104, \"label\": \"Actual\", \"predicted_label\": \"Predicted\"}, {\"date\": \"2021-09-24T00:00:00\", \"y_test\": 126.5, \"y_pred\": 128.04681583813095, \"label\": \"Actual\", \"predicted_label\": \"Predicted\"}, {\"date\": \"2021-09-27T00:00:00\", \"y_test\": 150.6999969482422, \"y_pred\": 130.20470789167481, \"label\": \"Actual\", \"predicted_label\": \"Predicted\"}, {\"date\": \"2021-09-28T00:00:00\", \"y_test\": 144.9499969482422, \"y_pred\": 148.7421849486574, \"label\": \"Actual\", \"predicted_label\": \"Predicted\"}, {\"date\": \"2021-09-29T00:00:00\", \"y_test\": 134.8000030517578, \"y_pred\": 135.03632735682493, \"label\": \"Actual\", \"predicted_label\": \"Predicted\"}, {\"date\": \"2021-09-30T00:00:00\", \"y_test\": 131.89999389648438, \"y_pred\": 136.862878073032, \"label\": \"Actual\", \"predicted_label\": \"Predicted\"}, {\"date\": \"2021-10-01T00:00:00\", \"y_test\": 131.39999389648438, \"y_pred\": 135.27478604283587, \"label\": \"Actual\", \"predicted_label\": \"Predicted\"}, {\"date\": \"2021-10-04T00:00:00\", \"y_test\": 134.60000610351562, \"y_pred\": 134.26214508595942, \"label\": \"Actual\", \"predicted_label\": \"Predicted\"}, {\"date\": \"2021-10-05T00:00:00\", \"y_test\": 132.35000610351562, \"y_pred\": 136.17555063112155, \"label\": \"Actual\", \"predicted_label\": \"Predicted\"}, {\"date\": \"2021-10-06T00:00:00\", \"y_test\": 137.5500030517578, \"y_pred\": 139.02889504747782, \"label\": \"Actual\", \"predicted_label\": \"Predicted\"}, {\"date\": \"2021-10-07T00:00:00\", \"y_test\": 137.25, \"y_pred\": 140.47716529347647, \"label\": \"Actual\", \"predicted_label\": \"Predicted\"}, {\"date\": \"2021-10-08T00:00:00\", \"y_test\": 147.35000610351562, \"y_pred\": 144.96826267544003, \"label\": \"Actual\", \"predicted_label\": \"Predicted\"}, {\"date\": \"2021-10-11T00:00:00\", \"y_test\": 147.75, \"y_pred\": 146.62728342560865, \"label\": \"Actual\", \"predicted_label\": \"Predicted\"}, {\"date\": \"2021-10-12T00:00:00\", \"y_test\": 146.05000305175778, \"y_pred\": 150.25162337528135, \"label\": \"Actual\", \"predicted_label\": \"Predicted\"}, {\"date\": \"2021-10-13T00:00:00\", \"y_test\": 143.74999999999997, \"y_pred\": 150.0258790785144, \"label\": \"Actual\", \"predicted_label\": \"Predicted\"}, {\"date\": \"2021-10-14T00:00:00\", \"y_test\": 143.35000610351562, \"y_pred\": 148.3066907941476, \"label\": \"Actual\", \"predicted_label\": \"Predicted\"}, {\"date\": \"2021-10-18T00:00:00\", \"y_test\": 145.5, \"y_pred\": 148.77270898309888, \"label\": \"Actual\", \"predicted_label\": \"Predicted\"}, {\"date\": \"2021-10-19T00:00:00\", \"y_test\": 148.9499969482422, \"y_pred\": 150.4218176859525, \"label\": \"Actual\", \"predicted_label\": \"Predicted\"}, {\"date\": \"2021-10-20T00:00:00\", \"y_test\": 143.60000610351562, \"y_pred\": 145.67224067714875, \"label\": \"Actual\", \"predicted_label\": \"Predicted\"}, {\"date\": \"2021-10-21T00:00:00\", \"y_test\": 144.8000030517578, \"y_pred\": 148.33168301848374, \"label\": \"Actual\", \"predicted_label\": \"Predicted\"}, {\"date\": \"2021-10-22T00:00:00\", \"y_test\": 143.1999969482422, \"y_pred\": 143.85612994536052, \"label\": \"Actual\", \"predicted_label\": \"Predicted\"}, {\"date\": \"2021-10-25T00:00:00\", \"y_test\": 140.8000030517578, \"y_pred\": 142.7885147773767, \"label\": \"Actual\", \"predicted_label\": \"Predicted\"}, {\"date\": \"2021-10-26T00:00:00\", \"y_test\": 144.4499969482422, \"y_pred\": 145.48722258902762, \"label\": \"Actual\", \"predicted_label\": \"Predicted\"}, {\"date\": \"2021-10-27T00:00:00\", \"y_test\": 143.5, \"y_pred\": 144.64674556982564, \"label\": \"Actual\", \"predicted_label\": \"Predicted\"}, {\"date\": \"2021-10-28T00:00:00\", \"y_test\": 143.4499969482422, \"y_pred\": 146.95103309680965, \"label\": \"Actual\", \"predicted_label\": \"Predicted\"}, {\"date\": \"2021-10-29T00:00:00\", \"y_test\": 140.89999389648438, \"y_pred\": 142.828724588411, \"label\": \"Actual\", \"predicted_label\": \"Predicted\"}, {\"date\": \"2021-11-01T00:00:00\", \"y_test\": 141.4499969482422, \"y_pred\": 143.80987837441208, \"label\": \"Actual\", \"predicted_label\": \"Predicted\"}, {\"date\": \"2021-11-02T00:00:00\", \"y_test\": 143.85000610351562, \"y_pred\": 145.57549708513523, \"label\": \"Actual\", \"predicted_label\": \"Predicted\"}, {\"date\": \"2021-11-03T00:00:00\", \"y_test\": 142.4499969482422, \"y_pred\": 145.85530817367865, \"label\": \"Actual\", \"predicted_label\": \"Predicted\"}, {\"date\": \"2021-11-04T00:00:00\", \"y_test\": 142.64999389648438, \"y_pred\": 144.96942053195113, \"label\": \"Actual\", \"predicted_label\": \"Predicted\"}, {\"date\": \"2021-11-08T00:00:00\", \"y_test\": 152.8000030517578, \"y_pred\": 146.10604234664066, \"label\": \"Actual\", \"predicted_label\": \"Predicted\"}, {\"date\": \"2021-11-09T00:00:00\", \"y_test\": 155.0, \"y_pred\": 156.9464325112174, \"label\": \"Actual\", \"predicted_label\": \"Predicted\"}, {\"date\": \"2021-11-10T00:00:00\", \"y_test\": 154.9499969482422, \"y_pred\": 156.53923867164127, \"label\": \"Actual\", \"predicted_label\": \"Predicted\"}, {\"date\": \"2021-11-11T00:00:00\", \"y_test\": 152.39999389648438, \"y_pred\": 156.8635717462034, \"label\": \"Actual\", \"predicted_label\": \"Predicted\"}, {\"date\": \"2021-11-12T00:00:00\", \"y_test\": 148.85000610351562, \"y_pred\": 151.43367043371933, \"label\": \"Actual\", \"predicted_label\": \"Predicted\"}, {\"date\": \"2021-11-15T00:00:00\", \"y_test\": 146.85000610351562, \"y_pred\": 147.17681456549337, \"label\": \"Actual\", \"predicted_label\": \"Predicted\"}, {\"date\": \"2021-11-16T00:00:00\", \"y_test\": 147.64999389648438, \"y_pred\": 149.83069748854845, \"label\": \"Actual\", \"predicted_label\": \"Predicted\"}, {\"date\": \"2021-11-17T00:00:00\", \"y_test\": 145.8000030517578, \"y_pred\": 148.20611951483536, \"label\": \"Actual\", \"predicted_label\": \"Predicted\"}, {\"date\": \"2021-11-18T00:00:00\", \"y_test\": 145.4499969482422, \"y_pred\": 148.84953658188533, \"label\": \"Actual\", \"predicted_label\": \"Predicted\"}, {\"date\": \"2021-11-22T00:00:00\", \"y_test\": 141.75, \"y_pred\": 146.9815954823211, \"label\": \"Actual\", \"predicted_label\": \"Predicted\"}, {\"date\": \"2021-11-23T00:00:00\", \"y_test\": 138.60000610351562, \"y_pred\": 141.51717470135594, \"label\": \"Actual\", \"predicted_label\": \"Predicted\"}, {\"date\": \"2021-11-24T00:00:00\", \"y_test\": 139.60000610351562, \"y_pred\": 141.36391511123296, \"label\": \"Actual\", \"predicted_label\": \"Predicted\"}, {\"date\": \"2021-11-25T00:00:00\", \"y_test\": 138.6999969482422, \"y_pred\": 142.20665075092452, \"label\": \"Actual\", \"predicted_label\": \"Predicted\"}, {\"date\": \"2021-11-26T00:00:00\", \"y_test\": 135.6999969482422, \"y_pred\": 141.98657418508424, \"label\": \"Actual\", \"predicted_label\": \"Predicted\"}, {\"date\": \"2021-11-29T00:00:00\", \"y_test\": 128.3000030517578, \"y_pred\": 131.79276955983056, \"label\": \"Actual\", \"predicted_label\": \"Predicted\"}]}}, {\"mode\": \"vega-lite\"});\n",
       "</script>"
      ],
      "text/plain": [
       "alt.LayerChart(...)"
      ]
     },
     "execution_count": 105,
     "metadata": {},
     "output_type": "execute_result"
    }
   ],
   "source": [
    "import altair as alt\n",
    "\n",
    "alt.themes.enable('fivethirtyeight')\n",
    "\n",
    "predictions_df['date'] = pd.to_datetime(predictions_df['date'])\n",
    "\n",
    "predictions_df['label'] = 'Actual'\n",
    "predictions_df['predicted_label'] = 'Predicted'\n",
    "\n",
    "# Actual high price line\n",
    "line1 = alt.Chart(predictions_df).mark_line(strokeWidth=2).encode(\n",
    "    x='date:T',\n",
    "    y=alt.Y('y_test:Q', title='Price', scale=alt.Scale(zero=False)),\n",
    "    color=alt.Color('label:N', legend=alt.Legend(title=\"Line Type\")),\n",
    "    tooltip=['date', 'y_test', 'y_pred']\n",
    ")\n",
    "\n",
    "# Predicted high price line\n",
    "line2 = alt.Chart(predictions_df).mark_line(strokeWidth=1, strokeDash=[3, 3]).encode(\n",
    "    x='date:T',\n",
    "    y=alt.Y('y_pred:Q', title='', scale=alt.Scale(zero=False)),\n",
    "    color=alt.Color('predicted_label:N', legend=alt.Legend(title=\"Line Type\")),\n",
    "    tooltip=['date', 'y_test', 'y_pred']\n",
    ")\n",
    "\n",
    "# Combine the two lines\n",
    "chart = alt.layer(line1, line2).properties(\n",
    "    title='Actual vs Predicted High Prices',\n",
    "    width=650,\n",
    "    height=400\n",
    ").interactive()\n",
    "\n",
    "chart"
   ]
  },
  {
   "cell_type": "code",
   "execution_count": null,
   "id": "a4aea072",
   "metadata": {},
   "outputs": [],
   "source": [
    "feature_names = df.columns.tolist()\n",
    "\n",
    "# Get feature importances\n",
    "importances = model_50.feature_importances_\n",
    "\n",
    "# Map importances to corresponding feature names\n",
    "feature_importance_mapping = dict(zip(feature_names, importances))\n",
    "\n",
    "# Sort by importance\n",
    "sorted_features = sorted(feature_importance_mapping.items(), key=lambda x: x[1], reverse=True)\n",
    "\n",
    "# Display top 10\n",
    "for feature, importance in sorted_features[:10]:\n",
    "    print(f\"{feature}: {importance}\")"
   ]
  },
  {
   "cell_type": "markdown",
   "id": "35969c2f",
   "metadata": {},
   "source": [
    "Repeat the process for the top 100 features without sentiment of EIHOTEL.BO"
   ]
  },
  {
   "cell_type": "code",
   "execution_count": 365,
   "id": "45b0343e",
   "metadata": {},
   "outputs": [],
   "source": [
    "selector = SelectKBest(score_func=f_regression, k=100)"
   ]
  },
  {
   "cell_type": "code",
   "execution_count": 366,
   "id": "fb410352",
   "metadata": {},
   "outputs": [
    {
     "data": {
      "text/html": [
       "<style>#sk-container-id-51 {color: black;background-color: white;}#sk-container-id-51 pre{padding: 0;}#sk-container-id-51 div.sk-toggleable {background-color: white;}#sk-container-id-51 label.sk-toggleable__label {cursor: pointer;display: block;width: 100%;margin-bottom: 0;padding: 0.3em;box-sizing: border-box;text-align: center;}#sk-container-id-51 label.sk-toggleable__label-arrow:before {content: \"▸\";float: left;margin-right: 0.25em;color: #696969;}#sk-container-id-51 label.sk-toggleable__label-arrow:hover:before {color: black;}#sk-container-id-51 div.sk-estimator:hover label.sk-toggleable__label-arrow:before {color: black;}#sk-container-id-51 div.sk-toggleable__content {max-height: 0;max-width: 0;overflow: hidden;text-align: left;background-color: #f0f8ff;}#sk-container-id-51 div.sk-toggleable__content pre {margin: 0.2em;color: black;border-radius: 0.25em;background-color: #f0f8ff;}#sk-container-id-51 input.sk-toggleable__control:checked~div.sk-toggleable__content {max-height: 200px;max-width: 100%;overflow: auto;}#sk-container-id-51 input.sk-toggleable__control:checked~label.sk-toggleable__label-arrow:before {content: \"▾\";}#sk-container-id-51 div.sk-estimator input.sk-toggleable__control:checked~label.sk-toggleable__label {background-color: #d4ebff;}#sk-container-id-51 div.sk-label input.sk-toggleable__control:checked~label.sk-toggleable__label {background-color: #d4ebff;}#sk-container-id-51 input.sk-hidden--visually {border: 0;clip: rect(1px 1px 1px 1px);clip: rect(1px, 1px, 1px, 1px);height: 1px;margin: -1px;overflow: hidden;padding: 0;position: absolute;width: 1px;}#sk-container-id-51 div.sk-estimator {font-family: monospace;background-color: #f0f8ff;border: 1px dotted black;border-radius: 0.25em;box-sizing: border-box;margin-bottom: 0.5em;}#sk-container-id-51 div.sk-estimator:hover {background-color: #d4ebff;}#sk-container-id-51 div.sk-parallel-item::after {content: \"\";width: 100%;border-bottom: 1px solid gray;flex-grow: 1;}#sk-container-id-51 div.sk-label:hover label.sk-toggleable__label {background-color: #d4ebff;}#sk-container-id-51 div.sk-serial::before {content: \"\";position: absolute;border-left: 1px solid gray;box-sizing: border-box;top: 0;bottom: 0;left: 50%;z-index: 0;}#sk-container-id-51 div.sk-serial {display: flex;flex-direction: column;align-items: center;background-color: white;padding-right: 0.2em;padding-left: 0.2em;position: relative;}#sk-container-id-51 div.sk-item {position: relative;z-index: 1;}#sk-container-id-51 div.sk-parallel {display: flex;align-items: stretch;justify-content: center;background-color: white;position: relative;}#sk-container-id-51 div.sk-item::before, #sk-container-id-51 div.sk-parallel-item::before {content: \"\";position: absolute;border-left: 1px solid gray;box-sizing: border-box;top: 0;bottom: 0;left: 50%;z-index: -1;}#sk-container-id-51 div.sk-parallel-item {display: flex;flex-direction: column;z-index: 1;position: relative;background-color: white;}#sk-container-id-51 div.sk-parallel-item:first-child::after {align-self: flex-end;width: 50%;}#sk-container-id-51 div.sk-parallel-item:last-child::after {align-self: flex-start;width: 50%;}#sk-container-id-51 div.sk-parallel-item:only-child::after {width: 0;}#sk-container-id-51 div.sk-dashed-wrapped {border: 1px dashed gray;margin: 0 0.4em 0.5em 0.4em;box-sizing: border-box;padding-bottom: 0.4em;background-color: white;}#sk-container-id-51 div.sk-label label {font-family: monospace;font-weight: bold;display: inline-block;line-height: 1.2em;}#sk-container-id-51 div.sk-label-container {text-align: center;}#sk-container-id-51 div.sk-container {/* jupyter's `normalize.less` sets `[hidden] { display: none; }` but bootstrap.min.css set `[hidden] { display: none !important; }` so we also need the `!important` here to be able to override the default hidden behavior on the sphinx rendered scikit-learn.org. See: https://github.com/scikit-learn/scikit-learn/issues/21755 */display: inline-block !important;position: relative;}#sk-container-id-51 div.sk-text-repr-fallback {display: none;}</style><div id=\"sk-container-id-51\" class=\"sk-top-container\"><div class=\"sk-text-repr-fallback\"><pre>SelectKBest(k=100, score_func=&lt;function f_regression at 0x000001F9DD37FD00&gt;)</pre><b>In a Jupyter environment, please rerun this cell to show the HTML representation or trust the notebook. <br />On GitHub, the HTML representation is unable to render, please try loading this page with nbviewer.org.</b></div><div class=\"sk-container\" hidden><div class=\"sk-item\"><div class=\"sk-estimator sk-toggleable\"><input class=\"sk-toggleable__control sk-hidden--visually\" id=\"sk-estimator-id-51\" type=\"checkbox\" checked><label for=\"sk-estimator-id-51\" class=\"sk-toggleable__label sk-toggleable__label-arrow\">SelectKBest</label><div class=\"sk-toggleable__content\"><pre>SelectKBest(k=100, score_func=&lt;function f_regression at 0x000001F9DD37FD00&gt;)</pre></div></div></div></div></div>"
      ],
      "text/plain": [
       "SelectKBest(k=100, score_func=<function f_regression at 0x000001F9DD37FD00>)"
      ]
     },
     "execution_count": 366,
     "metadata": {},
     "output_type": "execute_result"
    }
   ],
   "source": [
    "selector.fit(X_train, y_train)"
   ]
  },
  {
   "cell_type": "code",
   "execution_count": 367,
   "id": "b042d13c",
   "metadata": {},
   "outputs": [],
   "source": [
    "# Select the top 100 features without sentiment\n",
    "X_train_100_without_sentiment = selector.transform(X_train)\n",
    "X_test_100_without_sentiment = selector.transform(X_test)"
   ]
  },
  {
   "cell_type": "code",
   "execution_count": 368,
   "id": "a47b2ad2",
   "metadata": {},
   "outputs": [
    {
     "data": {
      "text/html": [
       "<style>#sk-container-id-52 {color: black;background-color: white;}#sk-container-id-52 pre{padding: 0;}#sk-container-id-52 div.sk-toggleable {background-color: white;}#sk-container-id-52 label.sk-toggleable__label {cursor: pointer;display: block;width: 100%;margin-bottom: 0;padding: 0.3em;box-sizing: border-box;text-align: center;}#sk-container-id-52 label.sk-toggleable__label-arrow:before {content: \"▸\";float: left;margin-right: 0.25em;color: #696969;}#sk-container-id-52 label.sk-toggleable__label-arrow:hover:before {color: black;}#sk-container-id-52 div.sk-estimator:hover label.sk-toggleable__label-arrow:before {color: black;}#sk-container-id-52 div.sk-toggleable__content {max-height: 0;max-width: 0;overflow: hidden;text-align: left;background-color: #f0f8ff;}#sk-container-id-52 div.sk-toggleable__content pre {margin: 0.2em;color: black;border-radius: 0.25em;background-color: #f0f8ff;}#sk-container-id-52 input.sk-toggleable__control:checked~div.sk-toggleable__content {max-height: 200px;max-width: 100%;overflow: auto;}#sk-container-id-52 input.sk-toggleable__control:checked~label.sk-toggleable__label-arrow:before {content: \"▾\";}#sk-container-id-52 div.sk-estimator input.sk-toggleable__control:checked~label.sk-toggleable__label {background-color: #d4ebff;}#sk-container-id-52 div.sk-label input.sk-toggleable__control:checked~label.sk-toggleable__label {background-color: #d4ebff;}#sk-container-id-52 input.sk-hidden--visually {border: 0;clip: rect(1px 1px 1px 1px);clip: rect(1px, 1px, 1px, 1px);height: 1px;margin: -1px;overflow: hidden;padding: 0;position: absolute;width: 1px;}#sk-container-id-52 div.sk-estimator {font-family: monospace;background-color: #f0f8ff;border: 1px dotted black;border-radius: 0.25em;box-sizing: border-box;margin-bottom: 0.5em;}#sk-container-id-52 div.sk-estimator:hover {background-color: #d4ebff;}#sk-container-id-52 div.sk-parallel-item::after {content: \"\";width: 100%;border-bottom: 1px solid gray;flex-grow: 1;}#sk-container-id-52 div.sk-label:hover label.sk-toggleable__label {background-color: #d4ebff;}#sk-container-id-52 div.sk-serial::before {content: \"\";position: absolute;border-left: 1px solid gray;box-sizing: border-box;top: 0;bottom: 0;left: 50%;z-index: 0;}#sk-container-id-52 div.sk-serial {display: flex;flex-direction: column;align-items: center;background-color: white;padding-right: 0.2em;padding-left: 0.2em;position: relative;}#sk-container-id-52 div.sk-item {position: relative;z-index: 1;}#sk-container-id-52 div.sk-parallel {display: flex;align-items: stretch;justify-content: center;background-color: white;position: relative;}#sk-container-id-52 div.sk-item::before, #sk-container-id-52 div.sk-parallel-item::before {content: \"\";position: absolute;border-left: 1px solid gray;box-sizing: border-box;top: 0;bottom: 0;left: 50%;z-index: -1;}#sk-container-id-52 div.sk-parallel-item {display: flex;flex-direction: column;z-index: 1;position: relative;background-color: white;}#sk-container-id-52 div.sk-parallel-item:first-child::after {align-self: flex-end;width: 50%;}#sk-container-id-52 div.sk-parallel-item:last-child::after {align-self: flex-start;width: 50%;}#sk-container-id-52 div.sk-parallel-item:only-child::after {width: 0;}#sk-container-id-52 div.sk-dashed-wrapped {border: 1px dashed gray;margin: 0 0.4em 0.5em 0.4em;box-sizing: border-box;padding-bottom: 0.4em;background-color: white;}#sk-container-id-52 div.sk-label label {font-family: monospace;font-weight: bold;display: inline-block;line-height: 1.2em;}#sk-container-id-52 div.sk-label-container {text-align: center;}#sk-container-id-52 div.sk-container {/* jupyter's `normalize.less` sets `[hidden] { display: none; }` but bootstrap.min.css set `[hidden] { display: none !important; }` so we also need the `!important` here to be able to override the default hidden behavior on the sphinx rendered scikit-learn.org. See: https://github.com/scikit-learn/scikit-learn/issues/21755 */display: inline-block !important;position: relative;}#sk-container-id-52 div.sk-text-repr-fallback {display: none;}</style><div id=\"sk-container-id-52\" class=\"sk-top-container\"><div class=\"sk-text-repr-fallback\"><pre>RandomForestRegressor()</pre><b>In a Jupyter environment, please rerun this cell to show the HTML representation or trust the notebook. <br />On GitHub, the HTML representation is unable to render, please try loading this page with nbviewer.org.</b></div><div class=\"sk-container\" hidden><div class=\"sk-item\"><div class=\"sk-estimator sk-toggleable\"><input class=\"sk-toggleable__control sk-hidden--visually\" id=\"sk-estimator-id-52\" type=\"checkbox\" checked><label for=\"sk-estimator-id-52\" class=\"sk-toggleable__label sk-toggleable__label-arrow\">RandomForestRegressor</label><div class=\"sk-toggleable__content\"><pre>RandomForestRegressor()</pre></div></div></div></div></div>"
      ],
      "text/plain": [
       "RandomForestRegressor()"
      ]
     },
     "execution_count": 368,
     "metadata": {},
     "output_type": "execute_result"
    }
   ],
   "source": [
    "# Train the model on the top 100 features without sentiment\n",
    "model_100_without_sentiment = RandomForestRegressor()\n",
    "model_100_without_sentiment.fit(X_train_100_without_sentiment, y_train)"
   ]
  },
  {
   "cell_type": "code",
   "execution_count": 369,
   "id": "22bce0ea",
   "metadata": {},
   "outputs": [
    {
     "data": {
      "text/plain": [
       "(1.8066885372463017e-05,\n",
       " 0.9687057984334819,\n",
       " 0.00011609741181401809,\n",
       " 0.7746594673954729)"
      ]
     },
     "execution_count": 369,
     "metadata": {},
     "output_type": "execute_result"
    }
   ],
   "source": [
    "# Predict on the training data\n",
    "y_train_pred_100_without_sentiment = model_100_without_sentiment.predict(X_train_100_without_sentiment)\n",
    "\n",
    "# Predict on the testing data\n",
    "y_test_pred_100_without_sentiment = model_100_without_sentiment.predict(X_test_100_without_sentiment)\n",
    "\n",
    "# Calculate MSE and R^2 for the training data\n",
    "mse_train_100_without_sentiment = mean_squared_error(y_train, y_train_pred_100_without_sentiment)\n",
    "r2_train_100_without_sentiment = r2_score(y_train, y_train_pred_100_without_sentiment)\n",
    "\n",
    "# Calculate MSE and R^2 for the testing data\n",
    "mse_test_100_without_sentiment = mean_squared_error(y_test, y_test_pred_100_without_sentiment)\n",
    "r2_test_100_without_sentiment = r2_score(y_test, y_test_pred_100_without_sentiment)\n",
    "\n",
    "mse_train_100_without_sentiment, r2_train_100_without_sentiment, mse_test_100_without_sentiment, r2_test_100_without_sentiment"
   ]
  },
  {
   "cell_type": "code",
   "execution_count": 370,
   "id": "d0033ede",
   "metadata": {},
   "outputs": [
    {
     "data": {
      "text/plain": [
       "(0.004250515894860648, 0.010774850895210481)"
      ]
     },
     "execution_count": 370,
     "metadata": {},
     "output_type": "execute_result"
    }
   ],
   "source": [
    "# Calculate RMSE for the training data\n",
    "rmse_train_100_without_sentiment = np.sqrt(mse_train_100_without_sentiment)\n",
    "\n",
    "# Calculate RMSE for the testing data\n",
    "rmse_test_100_without_sentiment = np.sqrt(mse_test_100_without_sentiment)\n",
    "\n",
    "rmse_train_100_without_sentiment, rmse_test_100_without_sentiment"
   ]
  },
  {
   "cell_type": "code",
   "execution_count": 379,
   "id": "ce0326b4",
   "metadata": {},
   "outputs": [
    {
     "name": "stdout",
     "output_type": "stream",
     "text": [
      "MAPE for model with top 100 features without sentiment: 78.64%\n",
      "78.63537079382344\n"
     ]
    }
   ],
   "source": [
    "mape_value_100_without_sentiment = mape(y_test, y_test_pred_100_without_sentiment)\n",
    "\n",
    "print(f\"MAPE for model with top 100 features without sentiment: {mape_value_100_without_sentiment:.2f}%\")"
   ]
  },
  {
   "cell_type": "markdown",
   "id": "59396977",
   "metadata": {},
   "source": [
    "Repeat the process for the top 150 features without sentiment of EIHOTEL.BO"
   ]
  },
  {
   "cell_type": "code",
   "execution_count": 372,
   "id": "1fd48b44",
   "metadata": {},
   "outputs": [],
   "source": [
    "selector = SelectKBest(score_func=f_regression, k=150)"
   ]
  },
  {
   "cell_type": "code",
   "execution_count": 373,
   "id": "5936108b",
   "metadata": {},
   "outputs": [
    {
     "data": {
      "text/html": [
       "<style>#sk-container-id-53 {color: black;background-color: white;}#sk-container-id-53 pre{padding: 0;}#sk-container-id-53 div.sk-toggleable {background-color: white;}#sk-container-id-53 label.sk-toggleable__label {cursor: pointer;display: block;width: 100%;margin-bottom: 0;padding: 0.3em;box-sizing: border-box;text-align: center;}#sk-container-id-53 label.sk-toggleable__label-arrow:before {content: \"▸\";float: left;margin-right: 0.25em;color: #696969;}#sk-container-id-53 label.sk-toggleable__label-arrow:hover:before {color: black;}#sk-container-id-53 div.sk-estimator:hover label.sk-toggleable__label-arrow:before {color: black;}#sk-container-id-53 div.sk-toggleable__content {max-height: 0;max-width: 0;overflow: hidden;text-align: left;background-color: #f0f8ff;}#sk-container-id-53 div.sk-toggleable__content pre {margin: 0.2em;color: black;border-radius: 0.25em;background-color: #f0f8ff;}#sk-container-id-53 input.sk-toggleable__control:checked~div.sk-toggleable__content {max-height: 200px;max-width: 100%;overflow: auto;}#sk-container-id-53 input.sk-toggleable__control:checked~label.sk-toggleable__label-arrow:before {content: \"▾\";}#sk-container-id-53 div.sk-estimator input.sk-toggleable__control:checked~label.sk-toggleable__label {background-color: #d4ebff;}#sk-container-id-53 div.sk-label input.sk-toggleable__control:checked~label.sk-toggleable__label {background-color: #d4ebff;}#sk-container-id-53 input.sk-hidden--visually {border: 0;clip: rect(1px 1px 1px 1px);clip: rect(1px, 1px, 1px, 1px);height: 1px;margin: -1px;overflow: hidden;padding: 0;position: absolute;width: 1px;}#sk-container-id-53 div.sk-estimator {font-family: monospace;background-color: #f0f8ff;border: 1px dotted black;border-radius: 0.25em;box-sizing: border-box;margin-bottom: 0.5em;}#sk-container-id-53 div.sk-estimator:hover {background-color: #d4ebff;}#sk-container-id-53 div.sk-parallel-item::after {content: \"\";width: 100%;border-bottom: 1px solid gray;flex-grow: 1;}#sk-container-id-53 div.sk-label:hover label.sk-toggleable__label {background-color: #d4ebff;}#sk-container-id-53 div.sk-serial::before {content: \"\";position: absolute;border-left: 1px solid gray;box-sizing: border-box;top: 0;bottom: 0;left: 50%;z-index: 0;}#sk-container-id-53 div.sk-serial {display: flex;flex-direction: column;align-items: center;background-color: white;padding-right: 0.2em;padding-left: 0.2em;position: relative;}#sk-container-id-53 div.sk-item {position: relative;z-index: 1;}#sk-container-id-53 div.sk-parallel {display: flex;align-items: stretch;justify-content: center;background-color: white;position: relative;}#sk-container-id-53 div.sk-item::before, #sk-container-id-53 div.sk-parallel-item::before {content: \"\";position: absolute;border-left: 1px solid gray;box-sizing: border-box;top: 0;bottom: 0;left: 50%;z-index: -1;}#sk-container-id-53 div.sk-parallel-item {display: flex;flex-direction: column;z-index: 1;position: relative;background-color: white;}#sk-container-id-53 div.sk-parallel-item:first-child::after {align-self: flex-end;width: 50%;}#sk-container-id-53 div.sk-parallel-item:last-child::after {align-self: flex-start;width: 50%;}#sk-container-id-53 div.sk-parallel-item:only-child::after {width: 0;}#sk-container-id-53 div.sk-dashed-wrapped {border: 1px dashed gray;margin: 0 0.4em 0.5em 0.4em;box-sizing: border-box;padding-bottom: 0.4em;background-color: white;}#sk-container-id-53 div.sk-label label {font-family: monospace;font-weight: bold;display: inline-block;line-height: 1.2em;}#sk-container-id-53 div.sk-label-container {text-align: center;}#sk-container-id-53 div.sk-container {/* jupyter's `normalize.less` sets `[hidden] { display: none; }` but bootstrap.min.css set `[hidden] { display: none !important; }` so we also need the `!important` here to be able to override the default hidden behavior on the sphinx rendered scikit-learn.org. See: https://github.com/scikit-learn/scikit-learn/issues/21755 */display: inline-block !important;position: relative;}#sk-container-id-53 div.sk-text-repr-fallback {display: none;}</style><div id=\"sk-container-id-53\" class=\"sk-top-container\"><div class=\"sk-text-repr-fallback\"><pre>SelectKBest(k=150, score_func=&lt;function f_regression at 0x000001F9DD37FD00&gt;)</pre><b>In a Jupyter environment, please rerun this cell to show the HTML representation or trust the notebook. <br />On GitHub, the HTML representation is unable to render, please try loading this page with nbviewer.org.</b></div><div class=\"sk-container\" hidden><div class=\"sk-item\"><div class=\"sk-estimator sk-toggleable\"><input class=\"sk-toggleable__control sk-hidden--visually\" id=\"sk-estimator-id-53\" type=\"checkbox\" checked><label for=\"sk-estimator-id-53\" class=\"sk-toggleable__label sk-toggleable__label-arrow\">SelectKBest</label><div class=\"sk-toggleable__content\"><pre>SelectKBest(k=150, score_func=&lt;function f_regression at 0x000001F9DD37FD00&gt;)</pre></div></div></div></div></div>"
      ],
      "text/plain": [
       "SelectKBest(k=150, score_func=<function f_regression at 0x000001F9DD37FD00>)"
      ]
     },
     "execution_count": 373,
     "metadata": {},
     "output_type": "execute_result"
    }
   ],
   "source": [
    "selector.fit(X_train, y_train)"
   ]
  },
  {
   "cell_type": "code",
   "execution_count": 374,
   "id": "63ab8047",
   "metadata": {},
   "outputs": [],
   "source": [
    "# Select the top 150 features without sentiment\n",
    "X_train_150_without_sentiment = selector.transform(X_train)\n",
    "X_test_150_without_sentiment = selector.transform(X_test)"
   ]
  },
  {
   "cell_type": "code",
   "execution_count": 375,
   "id": "31e01a6a",
   "metadata": {},
   "outputs": [
    {
     "data": {
      "text/html": [
       "<style>#sk-container-id-54 {color: black;background-color: white;}#sk-container-id-54 pre{padding: 0;}#sk-container-id-54 div.sk-toggleable {background-color: white;}#sk-container-id-54 label.sk-toggleable__label {cursor: pointer;display: block;width: 100%;margin-bottom: 0;padding: 0.3em;box-sizing: border-box;text-align: center;}#sk-container-id-54 label.sk-toggleable__label-arrow:before {content: \"▸\";float: left;margin-right: 0.25em;color: #696969;}#sk-container-id-54 label.sk-toggleable__label-arrow:hover:before {color: black;}#sk-container-id-54 div.sk-estimator:hover label.sk-toggleable__label-arrow:before {color: black;}#sk-container-id-54 div.sk-toggleable__content {max-height: 0;max-width: 0;overflow: hidden;text-align: left;background-color: #f0f8ff;}#sk-container-id-54 div.sk-toggleable__content pre {margin: 0.2em;color: black;border-radius: 0.25em;background-color: #f0f8ff;}#sk-container-id-54 input.sk-toggleable__control:checked~div.sk-toggleable__content {max-height: 200px;max-width: 100%;overflow: auto;}#sk-container-id-54 input.sk-toggleable__control:checked~label.sk-toggleable__label-arrow:before {content: \"▾\";}#sk-container-id-54 div.sk-estimator input.sk-toggleable__control:checked~label.sk-toggleable__label {background-color: #d4ebff;}#sk-container-id-54 div.sk-label input.sk-toggleable__control:checked~label.sk-toggleable__label {background-color: #d4ebff;}#sk-container-id-54 input.sk-hidden--visually {border: 0;clip: rect(1px 1px 1px 1px);clip: rect(1px, 1px, 1px, 1px);height: 1px;margin: -1px;overflow: hidden;padding: 0;position: absolute;width: 1px;}#sk-container-id-54 div.sk-estimator {font-family: monospace;background-color: #f0f8ff;border: 1px dotted black;border-radius: 0.25em;box-sizing: border-box;margin-bottom: 0.5em;}#sk-container-id-54 div.sk-estimator:hover {background-color: #d4ebff;}#sk-container-id-54 div.sk-parallel-item::after {content: \"\";width: 100%;border-bottom: 1px solid gray;flex-grow: 1;}#sk-container-id-54 div.sk-label:hover label.sk-toggleable__label {background-color: #d4ebff;}#sk-container-id-54 div.sk-serial::before {content: \"\";position: absolute;border-left: 1px solid gray;box-sizing: border-box;top: 0;bottom: 0;left: 50%;z-index: 0;}#sk-container-id-54 div.sk-serial {display: flex;flex-direction: column;align-items: center;background-color: white;padding-right: 0.2em;padding-left: 0.2em;position: relative;}#sk-container-id-54 div.sk-item {position: relative;z-index: 1;}#sk-container-id-54 div.sk-parallel {display: flex;align-items: stretch;justify-content: center;background-color: white;position: relative;}#sk-container-id-54 div.sk-item::before, #sk-container-id-54 div.sk-parallel-item::before {content: \"\";position: absolute;border-left: 1px solid gray;box-sizing: border-box;top: 0;bottom: 0;left: 50%;z-index: -1;}#sk-container-id-54 div.sk-parallel-item {display: flex;flex-direction: column;z-index: 1;position: relative;background-color: white;}#sk-container-id-54 div.sk-parallel-item:first-child::after {align-self: flex-end;width: 50%;}#sk-container-id-54 div.sk-parallel-item:last-child::after {align-self: flex-start;width: 50%;}#sk-container-id-54 div.sk-parallel-item:only-child::after {width: 0;}#sk-container-id-54 div.sk-dashed-wrapped {border: 1px dashed gray;margin: 0 0.4em 0.5em 0.4em;box-sizing: border-box;padding-bottom: 0.4em;background-color: white;}#sk-container-id-54 div.sk-label label {font-family: monospace;font-weight: bold;display: inline-block;line-height: 1.2em;}#sk-container-id-54 div.sk-label-container {text-align: center;}#sk-container-id-54 div.sk-container {/* jupyter's `normalize.less` sets `[hidden] { display: none; }` but bootstrap.min.css set `[hidden] { display: none !important; }` so we also need the `!important` here to be able to override the default hidden behavior on the sphinx rendered scikit-learn.org. See: https://github.com/scikit-learn/scikit-learn/issues/21755 */display: inline-block !important;position: relative;}#sk-container-id-54 div.sk-text-repr-fallback {display: none;}</style><div id=\"sk-container-id-54\" class=\"sk-top-container\"><div class=\"sk-text-repr-fallback\"><pre>RandomForestRegressor()</pre><b>In a Jupyter environment, please rerun this cell to show the HTML representation or trust the notebook. <br />On GitHub, the HTML representation is unable to render, please try loading this page with nbviewer.org.</b></div><div class=\"sk-container\" hidden><div class=\"sk-item\"><div class=\"sk-estimator sk-toggleable\"><input class=\"sk-toggleable__control sk-hidden--visually\" id=\"sk-estimator-id-54\" type=\"checkbox\" checked><label for=\"sk-estimator-id-54\" class=\"sk-toggleable__label sk-toggleable__label-arrow\">RandomForestRegressor</label><div class=\"sk-toggleable__content\"><pre>RandomForestRegressor()</pre></div></div></div></div></div>"
      ],
      "text/plain": [
       "RandomForestRegressor()"
      ]
     },
     "execution_count": 375,
     "metadata": {},
     "output_type": "execute_result"
    }
   ],
   "source": [
    "# Train the model on the top 150 features without sentiment\n",
    "model_150_without_sentiment = RandomForestRegressor()\n",
    "model_150_without_sentiment.fit(X_train_150_without_sentiment, y_train)"
   ]
  },
  {
   "cell_type": "code",
   "execution_count": 376,
   "id": "09910622",
   "metadata": {},
   "outputs": [
    {
     "data": {
      "text/plain": [
       "(1.7643287217080387e-05,\n",
       " 0.969439525680014,\n",
       " 0.00011351735887073847,\n",
       " 0.779667249182356)"
      ]
     },
     "execution_count": 376,
     "metadata": {},
     "output_type": "execute_result"
    }
   ],
   "source": [
    "# Predict on the training data\n",
    "y_train_pred_150_without_sentiment = model_150_without_sentiment.predict(X_train_150_without_sentiment)\n",
    "\n",
    "# Predict on the testing data\n",
    "y_test_pred_150_without_sentiment = model_150_without_sentiment.predict(X_test_150_without_sentiment)\n",
    "\n",
    "# Calculate MSE and R^2 for the training data\n",
    "mse_train_150_without_sentiment = mean_squared_error(y_train, y_train_pred_150_without_sentiment)\n",
    "r2_train_150_without_sentiment = r2_score(y_train, y_train_pred_150_without_sentiment)\n",
    "\n",
    "# Calculate MSE and R^2 for the testing data\n",
    "mse_test_150_without_sentiment = mean_squared_error(y_test, y_test_pred_150_without_sentiment)\n",
    "r2_test_150_without_sentiment = r2_score(y_test, y_test_pred_150_without_sentiment)\n",
    "\n",
    "mse_train_150_without_sentiment, r2_train_150_without_sentiment, mse_test_150_without_sentiment, r2_test_150_without_sentiment"
   ]
  },
  {
   "cell_type": "code",
   "execution_count": 377,
   "id": "96bc745b",
   "metadata": {},
   "outputs": [
    {
     "data": {
      "text/plain": [
       "(0.0042003913171370574, 0.01065445253735444)"
      ]
     },
     "execution_count": 377,
     "metadata": {},
     "output_type": "execute_result"
    }
   ],
   "source": [
    "# Calculate RMSE for the training data\n",
    "rmse_train_150_without_sentiment = np.sqrt(mse_train_150_without_sentiment)\n",
    "\n",
    "# Calculate RMSE for the testing data\n",
    "rmse_test_150_without_sentiment = np.sqrt(mse_test_150_without_sentiment)\n",
    "\n",
    "rmse_train_150_without_sentiment, rmse_test_150_without_sentiment"
   ]
  },
  {
   "cell_type": "code",
   "execution_count": 378,
   "id": "143dbf50",
   "metadata": {},
   "outputs": [
    {
     "name": "stdout",
     "output_type": "stream",
     "text": [
      "MAPE for model with top 150 features without sentiment: 86.23%\n"
     ]
    }
   ],
   "source": [
    "mape_value_150_without_sentiment = mape(y_test, y_test_pred_150_without_sentiment)\n",
    "\n",
    "print(f\"MAPE for model with top 150 features without sentiment: {mape_value_150_without_sentiment:.2f}%\")"
   ]
  },
  {
   "cell_type": "markdown",
   "id": "01ef2bbb",
   "metadata": {},
   "source": [
    "### An explaination of key features:\n",
    "volume_vwap: Volume Weighted Average Price (VWAP) - an average price based on both volume and price. Commonly used as a benchmark.\n",
    "\n",
    "volume_vpt: Volume Price Trend - it indicates the amount of volume, which can be attributed to the trend's direction.\n",
    "\n",
    "date: Represents the specific date for each data entry.\n",
    "\n",
    "adj close: Adjusted closing price accounts for events such as dividends, stock splits, and new stock offerings.\n",
    "\n",
    "volume_adi: Accumulation/Distribution Index - relates volume to price change.\n",
    "\n",
    "high: The highest price of the stock during a particular period.\n",
    "\n",
    "volatility_bbh: Bollinger Bands High - a volatility indicator, representing the upper band.\n",
    "\n",
    "volume_sma_em: Volume Simple Moving Average Exponential - the exponential moving average of volume.\n",
    "\n",
    "volatility_dcw: Donchian Channel Width - shows the size of the Donchian Channel, indicating volatility.\n",
    "\n",
    "volume_obv: On-Balance Volume - uses volume flow to predict price changes.\n",
    "\n",
    "volume_em: Volume Exponential Moving - the exponential moving average of volume.\n",
    "\n",
    "volume: The number of shares or contracts traded in a stock or an entire market during a given period.\n",
    "\n",
    "volume_fi: Force Index - measures the pressure of either buying or selling.\n",
    "\n",
    "open: The price at which a stock started trading during a particular period.\n",
    "\n",
    "trend_mass_index: Mass Index - identifies reversals when the range widens or narrows.\n",
    "\n",
    "volatility_bbm: Bollinger Bands Middle - the middle band of the Bollinger Bands.\n",
    "\n",
    "volatility_ui: Ulcer Index - measures downside risk.\n",
    "\n",
    "volume_cmf: Chaikin Money Flow - measures the amount of Money Flow Volume over a certain period.\n",
    "\n",
    "volatility_kcw: Keltner Channel Width - shows the width between Keltner Channels, indicating volatility.\n",
    "\n",
    "volatility_kcc: Keltner Channel Central - the middle line of the Keltner Channel.\n",
    "\n",
    "volume_nvi: Negative Volume Index - focuses on periods where volume has decreased from the previous period.\n",
    "\n",
    "volatility_bbli: Bollinger Bands Low Indicator - a volatility indicator, representing the lower band.\n",
    "\n",
    "trend_vortex_ind_diff: Vortex Indicator Difference - shows the difference between VI+ and VI-.\n",
    "\n",
    "volatility_bbw: Bollinger Bandwidth - shows the width between the Bollinger Bands.\n",
    "\n",
    "trend_trix: TRIX - shows the percent rate of change of a triple exponentially smoothed moving average.\n",
    "\n",
    "trend_ema_slow: Exponential Moving Average Slow - places a greater weight and significance on the most recent data points.\n",
    "\n",
    "trend_vortex_ind_pos: Vortex Indicator Positive - an indicator used for spotting trend reversals.\n",
    "\n",
    "volatility_kcl: Keltner Channel Low - the lower band of the Keltner Channel.\n",
    "\n",
    "volatility_atr: Average True Range - measures stock volatility.\n",
    "\n",
    "volatility_bbp: Bollinger Bands Percentage - relates the current price to the Bollinger Bands levels.\n",
    "\n",
    "volatility_kch: Keltner Channel High - the upper band of the Keltner Channel.\n",
    "\n",
    "volatility_kcli: Keltner Channel Low Indicator - the lower channel line of the Keltner Channel.\n",
    "\n",
    "volatility_dcl: Donchian Channel Low - the lowest price of the last 'n' days.\n",
    "\n",
    "volatility_kchi: Keltner Channel High Indicator - the upper channel line of the Keltner Channel.\n",
    "\n",
    "volatility_bbhi: Bollinger Bands High Indicator - indicates if the price is above the upper Bollinger band.\n",
    "\n",
    "trend_macd: Moving Average Convergence Divergence - shows the relationship between two moving averages of a stock’s price.\n",
    "\n",
    "trend_sma_fast: Simple Moving Average Fast - the average stock price over a specific period, giving equal weight to every daily price.\n",
    "\n",
    "trend_sma_slow: Simple Moving Average Slow - similar to SMA fast but considers a longer period.\n",
    "\n",
    "trend_ema_fast: Exponential Moving Average Fast - like SMA but gives more weight to recent prices.\n",
    "\n",
    "volatility_dcm: Donchian Channel Middle - the average of the Donchian high and low.\n",
    "\n",
    "volatility_dch: Donchian Channel High - the highest price of the last 'n' days.\n",
    "\n",
    "trend_macd_diff: The difference between MACD and its signal line.\n",
    "\n",
    "trend_macd_signal: The signal line of the MACD, which is an EMA of the MACD.\n",
    "\n",
    "low: The lowest price of the stock during a particular period.\n",
    "\n",
    "close: The final price at which the stock is traded during a particular period."
   ]
  }
 ],
 "metadata": {
  "kernelspec": {
   "display_name": "Python 3 (ipykernel)",
   "language": "python",
   "name": "python3"
  },
  "language_info": {
   "codemirror_mode": {
    "name": "ipython",
    "version": 3
   },
   "file_extension": ".py",
   "mimetype": "text/x-python",
   "name": "python",
   "nbconvert_exporter": "python",
   "pygments_lexer": "ipython3",
   "version": "3.10.9"
  }
 },
 "nbformat": 4,
 "nbformat_minor": 5
}
