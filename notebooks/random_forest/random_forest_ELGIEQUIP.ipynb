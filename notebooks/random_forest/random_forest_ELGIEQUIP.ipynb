{
 "cells": [
  {
   "cell_type": "code",
   "execution_count": 38,
   "id": "8bac9e82",
   "metadata": {},
   "outputs": [],
   "source": [
    "import pandas as pd\n",
    "import seaborn as sns\n",
    "import matplotlib.pyplot as plt\n",
    "import numpy as np\n",
    "\n",
    "from sklearn.model_selection import train_test_split\n",
    "from sklearn.ensemble import RandomForestRegressor\n",
    "from sklearn.feature_selection import SelectFromModel\n",
    "from sklearn.preprocessing import StandardScaler\n",
    "from sklearn.metrics import mean_squared_error, r2_score, mean_absolute_percentage_error\n",
    "from sklearn.feature_selection import SelectKBest, f_regression"
   ]
  },
  {
   "cell_type": "code",
   "execution_count": 15,
   "id": "bc46f51b",
   "metadata": {},
   "outputs": [],
   "source": [
    "df = pd.read_csv('../../datasets/processed_data/combined_features/ELGIEQUIP.BO.csv')"
   ]
  },
  {
   "cell_type": "code",
   "execution_count": 16,
   "id": "7aa43669",
   "metadata": {},
   "outputs": [
    {
     "data": {
      "text/plain": [
       "Index(['date', 'open', 'close', 'adj close', 'volume', 'low', 'high',\n",
       "       'volume_adi', 'volume_obv', 'volume_cmf',\n",
       "       ...\n",
       "       'inr=x_percent_change', 'cl=f_percent_change',\n",
       "       'treasury_yeild_10_years_percent_change', 'usdx-index_percent_change',\n",
       "       '^nsei_percent_change', '^bsesn_percent_change', '^gspc_percent_change',\n",
       "       'hsi_percent_change', 'sha_percent_change', '^sti_percent_change'],\n",
       "      dtype='object', length=635)"
      ]
     },
     "execution_count": 16,
     "metadata": {},
     "output_type": "execute_result"
    }
   ],
   "source": [
    "df.columns"
   ]
  },
  {
   "cell_type": "code",
   "execution_count": 17,
   "id": "386d6ea0",
   "metadata": {},
   "outputs": [],
   "source": [
    "def create_custom_target(df: pd.DataFrame) -> pd.DataFrame:\n",
    "    \"\"\"\n",
    "    This function creates the custom target price, which is computed as ln(high/yesterday_close)\n",
    "    \"\"\"    \n",
    "    # make a copy of the dataframe so as not to change the original dataframe\n",
    "    data_df = df.copy()\n",
    "    \n",
    "    # create yesterday_close feature as\n",
    "    data_df['yesterday_close'] = data_df['close'].shift(1)\n",
    "    \n",
    "    # create custom target price to predict, computing  ln(high/yesterday_close)\n",
    "    data_df['ln_target'] = np.log(data_df['high'] / data_df['yesterday_close'])\n",
    "    \n",
    "    # as yesterday close would not be available for first day, \n",
    "    # we would not have custom target price for that day, which needs to be excluded \n",
    "    return(data_df.iloc[1:, ])"
   ]
  },
  {
   "cell_type": "code",
   "execution_count": 18,
   "id": "168dc871",
   "metadata": {},
   "outputs": [],
   "source": [
    "df = create_custom_target(df)"
   ]
  },
  {
   "cell_type": "code",
   "execution_count": 19,
   "id": "77aff531",
   "metadata": {},
   "outputs": [
    {
     "data": {
      "text/plain": [
       "1        13.562500\n",
       "2        13.225000\n",
       "3        13.175000\n",
       "4        12.812500\n",
       "5        12.787500\n",
       "           ...    \n",
       "3745    571.549988\n",
       "3746    571.549988\n",
       "3747    556.349976\n",
       "3748    543.400024\n",
       "3749    534.200012\n",
       "Name: yesterday_close, Length: 3749, dtype: float64"
      ]
     },
     "execution_count": 19,
     "metadata": {},
     "output_type": "execute_result"
    }
   ],
   "source": [
    "df['yesterday_close']"
   ]
  },
  {
   "cell_type": "code",
   "execution_count": 20,
   "id": "cd3037ab",
   "metadata": {},
   "outputs": [
    {
     "data": {
      "text/plain": [
       "1       0.021879\n",
       "2       0.016870\n",
       "3       0.022515\n",
       "4       0.014528\n",
       "5      -0.004900\n",
       "          ...   \n",
       "3745    0.019835\n",
       "3746    0.020350\n",
       "3747    0.011971\n",
       "3748    0.012073\n",
       "3749    0.027328\n",
       "Name: ln_target, Length: 3749, dtype: float64"
      ]
     },
     "execution_count": 20,
     "metadata": {},
     "output_type": "execute_result"
    }
   ],
   "source": [
    "df['ln_target'] "
   ]
  },
  {
   "cell_type": "code",
   "execution_count": 21,
   "id": "0f0c8853",
   "metadata": {},
   "outputs": [],
   "source": [
    "# Drop cols with NaN values\n",
    "df = df.dropna(axis=1, how='all')\n",
    "df.fillna(method='ffill', inplace=True)"
   ]
  },
  {
   "cell_type": "code",
   "execution_count": 22,
   "id": "98208747",
   "metadata": {},
   "outputs": [],
   "source": [
    "combined_date_df = df['date']\n",
    "train_date, test_date = train_test_split(combined_date_df, train_size=0.8, shuffle=False)\n",
    "dev_date, test_date = train_test_split(test_date, train_size=0.5, shuffle=False)"
   ]
  },
  {
   "cell_type": "code",
   "execution_count": 23,
   "id": "6fbc2ddf",
   "metadata": {},
   "outputs": [],
   "source": [
    "df_without_date = df.drop(columns=[\"date\"])"
   ]
  },
  {
   "cell_type": "code",
   "execution_count": 24,
   "id": "f76227c5",
   "metadata": {},
   "outputs": [],
   "source": [
    "df_without_date.dropna(inplace=True)"
   ]
  },
  {
   "cell_type": "code",
   "execution_count": 25,
   "id": "6df2c676",
   "metadata": {},
   "outputs": [],
   "source": [
    "def timeseries_to_supervise(df, window_size, target):    \n",
    "    X = []\n",
    "    y = []\n",
    "    indx = []\n",
    "    no_records = len(df)\n",
    "    #     \n",
    "    for i in range(window_size, no_records):\n",
    "        X.append(df.iloc[i-window_size:i].drop(target, axis=1).values.flatten())  # Collect past records as a sequence\n",
    "        y.append(df.iloc[i][target])  # Next record as target variable\n",
    "        indx.append(np.arange(i-window_size, i))\n",
    "\n",
    "    X = pd.DataFrame(X)\n",
    "    y = pd.Series(y)\n",
    "    return(X, y, indx)"
   ]
  },
  {
   "cell_type": "code",
   "execution_count": 26,
   "id": "01de558a",
   "metadata": {},
   "outputs": [],
   "source": [
    "window_size = 10"
   ]
  },
  {
   "cell_type": "code",
   "execution_count": 27,
   "id": "dfded69f",
   "metadata": {},
   "outputs": [],
   "source": [
    "# do train/test split the data with shuffle = False\n",
    "train_data, test_data = train_test_split(df_without_date, train_size=0.8, shuffle=False)\n",
    "\n",
    "# convert timeseries to be used in supervise learning model\n",
    "X_train, y_train, indx_train = timeseries_to_supervise(train_data, window_size, 'ln_target')  \n",
    "\n",
    "# further split test set to have an hold out set to be used for backtesting\n",
    "dev_data, test_data = train_test_split(test_data, train_size=0.5, shuffle=False)\n",
    "\n",
    "# convert timeseries to be used in supervise learning model    \n",
    "X_test, y_test, indx_test = timeseries_to_supervise(dev_data, window_size, 'ln_target')  "
   ]
  },
  {
   "cell_type": "code",
   "execution_count": 28,
   "id": "4c0635db",
   "metadata": {},
   "outputs": [],
   "source": [
    "selector = SelectKBest(score_func=f_regression, k=50)\n",
    "X_train_50 = selector.fit_transform(X_train, y_train)\n",
    "X_test_50 = selector.transform(X_test)"
   ]
  },
  {
   "cell_type": "code",
   "execution_count": 29,
   "id": "badfd6e5",
   "metadata": {},
   "outputs": [
    {
     "data": {
      "text/html": [
       "<style>#sk-container-id-1 {color: black;background-color: white;}#sk-container-id-1 pre{padding: 0;}#sk-container-id-1 div.sk-toggleable {background-color: white;}#sk-container-id-1 label.sk-toggleable__label {cursor: pointer;display: block;width: 100%;margin-bottom: 0;padding: 0.3em;box-sizing: border-box;text-align: center;}#sk-container-id-1 label.sk-toggleable__label-arrow:before {content: \"▸\";float: left;margin-right: 0.25em;color: #696969;}#sk-container-id-1 label.sk-toggleable__label-arrow:hover:before {color: black;}#sk-container-id-1 div.sk-estimator:hover label.sk-toggleable__label-arrow:before {color: black;}#sk-container-id-1 div.sk-toggleable__content {max-height: 0;max-width: 0;overflow: hidden;text-align: left;background-color: #f0f8ff;}#sk-container-id-1 div.sk-toggleable__content pre {margin: 0.2em;color: black;border-radius: 0.25em;background-color: #f0f8ff;}#sk-container-id-1 input.sk-toggleable__control:checked~div.sk-toggleable__content {max-height: 200px;max-width: 100%;overflow: auto;}#sk-container-id-1 input.sk-toggleable__control:checked~label.sk-toggleable__label-arrow:before {content: \"▾\";}#sk-container-id-1 div.sk-estimator input.sk-toggleable__control:checked~label.sk-toggleable__label {background-color: #d4ebff;}#sk-container-id-1 div.sk-label input.sk-toggleable__control:checked~label.sk-toggleable__label {background-color: #d4ebff;}#sk-container-id-1 input.sk-hidden--visually {border: 0;clip: rect(1px 1px 1px 1px);clip: rect(1px, 1px, 1px, 1px);height: 1px;margin: -1px;overflow: hidden;padding: 0;position: absolute;width: 1px;}#sk-container-id-1 div.sk-estimator {font-family: monospace;background-color: #f0f8ff;border: 1px dotted black;border-radius: 0.25em;box-sizing: border-box;margin-bottom: 0.5em;}#sk-container-id-1 div.sk-estimator:hover {background-color: #d4ebff;}#sk-container-id-1 div.sk-parallel-item::after {content: \"\";width: 100%;border-bottom: 1px solid gray;flex-grow: 1;}#sk-container-id-1 div.sk-label:hover label.sk-toggleable__label {background-color: #d4ebff;}#sk-container-id-1 div.sk-serial::before {content: \"\";position: absolute;border-left: 1px solid gray;box-sizing: border-box;top: 0;bottom: 0;left: 50%;z-index: 0;}#sk-container-id-1 div.sk-serial {display: flex;flex-direction: column;align-items: center;background-color: white;padding-right: 0.2em;padding-left: 0.2em;position: relative;}#sk-container-id-1 div.sk-item {position: relative;z-index: 1;}#sk-container-id-1 div.sk-parallel {display: flex;align-items: stretch;justify-content: center;background-color: white;position: relative;}#sk-container-id-1 div.sk-item::before, #sk-container-id-1 div.sk-parallel-item::before {content: \"\";position: absolute;border-left: 1px solid gray;box-sizing: border-box;top: 0;bottom: 0;left: 50%;z-index: -1;}#sk-container-id-1 div.sk-parallel-item {display: flex;flex-direction: column;z-index: 1;position: relative;background-color: white;}#sk-container-id-1 div.sk-parallel-item:first-child::after {align-self: flex-end;width: 50%;}#sk-container-id-1 div.sk-parallel-item:last-child::after {align-self: flex-start;width: 50%;}#sk-container-id-1 div.sk-parallel-item:only-child::after {width: 0;}#sk-container-id-1 div.sk-dashed-wrapped {border: 1px dashed gray;margin: 0 0.4em 0.5em 0.4em;box-sizing: border-box;padding-bottom: 0.4em;background-color: white;}#sk-container-id-1 div.sk-label label {font-family: monospace;font-weight: bold;display: inline-block;line-height: 1.2em;}#sk-container-id-1 div.sk-label-container {text-align: center;}#sk-container-id-1 div.sk-container {/* jupyter's `normalize.less` sets `[hidden] { display: none; }` but bootstrap.min.css set `[hidden] { display: none !important; }` so we also need the `!important` here to be able to override the default hidden behavior on the sphinx rendered scikit-learn.org. See: https://github.com/scikit-learn/scikit-learn/issues/21755 */display: inline-block !important;position: relative;}#sk-container-id-1 div.sk-text-repr-fallback {display: none;}</style><div id=\"sk-container-id-1\" class=\"sk-top-container\"><div class=\"sk-text-repr-fallback\"><pre>RandomForestRegressor(min_samples_leaf=2, n_estimators=200)</pre><b>In a Jupyter environment, please rerun this cell to show the HTML representation or trust the notebook. <br />On GitHub, the HTML representation is unable to render, please try loading this page with nbviewer.org.</b></div><div class=\"sk-container\" hidden><div class=\"sk-item\"><div class=\"sk-estimator sk-toggleable\"><input class=\"sk-toggleable__control sk-hidden--visually\" id=\"sk-estimator-id-1\" type=\"checkbox\" checked><label for=\"sk-estimator-id-1\" class=\"sk-toggleable__label sk-toggleable__label-arrow\">RandomForestRegressor</label><div class=\"sk-toggleable__content\"><pre>RandomForestRegressor(min_samples_leaf=2, n_estimators=200)</pre></div></div></div></div></div>"
      ],
      "text/plain": [
       "RandomForestRegressor(min_samples_leaf=2, n_estimators=200)"
      ]
     },
     "execution_count": 29,
     "metadata": {},
     "output_type": "execute_result"
    }
   ],
   "source": [
    "# Train the model on the top 50 features\n",
    "model_50 = RandomForestRegressor(\n",
    "    n_estimators=200,\n",
    "    min_samples_split=2,\n",
    "    min_samples_leaf=2,\n",
    "    bootstrap=True\n",
    ")\n",
    "model_50.fit(X_train_50, y_train)"
   ]
  },
  {
   "cell_type": "code",
   "execution_count": 30,
   "id": "84e76734",
   "metadata": {},
   "outputs": [],
   "source": [
    "def convert_custom_target_to_actual_for_supervise(df: pd.DataFrame, window: int, y: \"pd.Series[int]\") -> \"pd.Series[int]\":\n",
    "    \"\"\"\n",
    "    this module converts custom target - ln(high/yesterday_close) to actual high price again for timeseries converted data using rolling         window of size 10\n",
    "    \"\"\"\n",
    "    data_df = df.copy()\n",
    "    \n",
    "    # exclude first 10 rows of train/test data, as while us\n",
    "    \n",
    "    y = np.exp(y) * data_df.loc[data_df.index[window:], 'yesterday_close'].reset_index(drop=True)\n",
    "    return(y)    "
   ]
  },
  {
   "cell_type": "code",
   "execution_count": 35,
   "id": "d9e0ac92",
   "metadata": {},
   "outputs": [],
   "source": [
    "def evaluate_model(model, window, dev_data, dev_date, X_test, y_test):\n",
    "    \n",
    "    # do target prediction using the provide model\n",
    "    y_pred = model.predict(X_test)\n",
    "\n",
    "    # convert back to original value, before computing mape            \n",
    "    y_test = convert_custom_target_to_actual_for_supervise(dev_data, window, y_test)\n",
    "    y_pred = convert_custom_target_to_actual_for_supervise(dev_data, window, y_pred)\n",
    "\n",
    "    dev_dates = dev_date[window:].reset_index(drop=True)\n",
    "    predictions_df = pd.DataFrame({'date': dev_dates, 'y_test': y_test, 'y_pred': y_pred})\n",
    "\n",
    "    # compute regression metric - mape \n",
    "    mape = mean_absolute_percentage_error(y_test, y_pred)\n",
    "\n",
    "    # compute rmse metric\n",
    "    rmse = mean_squared_error(y_test, y_pred, squared=False)        \n",
    "    return(predictions_df, mape, rmse)"
   ]
  },
  {
   "cell_type": "code",
   "execution_count": 61,
   "id": "9ee983f2",
   "metadata": {},
   "outputs": [],
   "source": [
    "predictions_df, mape, rmse = evaluate_model(model_50, window_size, dev_data, dev_date, X_test_50, y_test)"
   ]
  },
  {
   "cell_type": "code",
   "execution_count": 62,
   "id": "529d3b04",
   "metadata": {},
   "outputs": [
    {
     "data": {
      "text/plain": [
       "(           date      y_test      y_pred\n",
       " 0    2020-08-25  114.199997  118.901756\n",
       " 1    2020-08-26  113.900002  116.738515\n",
       " 2    2020-08-27  115.000000  117.821525\n",
       " 3    2020-08-28  115.675003  118.694978\n",
       " 4    2020-08-31  115.000000  118.403301\n",
       " ..          ...         ...         ...\n",
       " 360  2021-12-30  304.000000  310.457884\n",
       " 361  2021-12-31  302.600006  311.885857\n",
       " 362  2022-01-03  314.350006  313.631705\n",
       " 363  2022-01-04  314.950012  318.536497\n",
       " 364  2022-01-05  319.700012  322.676155\n",
       " \n",
       " [365 rows x 3 columns],\n",
       " 0.025224353827443452,\n",
       " 6.250358269350869)"
      ]
     },
     "execution_count": 62,
     "metadata": {},
     "output_type": "execute_result"
    }
   ],
   "source": [
    "predictions_df, mape, rmse"
   ]
  },
  {
   "cell_type": "code",
   "execution_count": 41,
   "id": "c1afa403",
   "metadata": {},
   "outputs": [
    {
     "name": "stdout",
     "output_type": "stream",
     "text": [
      "MAPE for model with top 50 features: 2.61%\n"
     ]
    }
   ],
   "source": [
    "print(f\"MAPE for model with top 50 features: {mape*100:.2f}%\")"
   ]
  },
  {
   "cell_type": "code",
   "execution_count": 42,
   "id": "cb0acd36",
   "metadata": {},
   "outputs": [
    {
     "name": "stdout",
     "output_type": "stream",
     "text": [
      "trend_vortex_ind_diff: 0.04353187199639656\n",
      "volatility_kcc: 0.04049639880235634\n",
      "trend_sma_fast: 0.03839040422926578\n",
      "trend_trix: 0.03703340360960847\n",
      "trend_sma_slow: 0.03412387755592831\n",
      "volume_em: 0.03407882098984366\n",
      "volatility_kch: 0.03349736644603003\n",
      "volume_vwap: 0.03320023705196796\n",
      "trend_vortex_ind_neg: 0.0329914684554026\n",
      "volatility_kchi: 0.03146572706858395\n"
     ]
    }
   ],
   "source": [
    "feature_names = df.columns.tolist()\n",
    "\n",
    "# Get feature importances\n",
    "importances = model_50.feature_importances_\n",
    "\n",
    "# Map importances to corresponding feature names\n",
    "feature_importance_mapping = dict(zip(feature_names, importances))\n",
    "\n",
    "# Sort by importance\n",
    "sorted_features = sorted(feature_importance_mapping.items(), key=lambda x: x[1], reverse=True)\n",
    "\n",
    "# Display top 10\n",
    "for feature, importance in sorted_features[:10]:\n",
    "    print(f\"{feature}: {importance}\")\n"
   ]
  },
  {
   "cell_type": "code",
   "execution_count": 47,
   "id": "2903a891",
   "metadata": {},
   "outputs": [
    {
     "data": {
      "text/html": [
       "\n",
       "<style>\n",
       "  #altair-viz-2b0ab2199c8045f5b336d1782af22752.vega-embed {\n",
       "    width: 100%;\n",
       "    display: flex;\n",
       "  }\n",
       "\n",
       "  #altair-viz-2b0ab2199c8045f5b336d1782af22752.vega-embed details,\n",
       "  #altair-viz-2b0ab2199c8045f5b336d1782af22752.vega-embed details summary {\n",
       "    position: relative;\n",
       "  }\n",
       "</style>\n",
       "<div id=\"altair-viz-2b0ab2199c8045f5b336d1782af22752\"></div>\n",
       "<script type=\"text/javascript\">\n",
       "  var VEGA_DEBUG = (typeof VEGA_DEBUG == \"undefined\") ? {} : VEGA_DEBUG;\n",
       "  (function(spec, embedOpt){\n",
       "    let outputDiv = document.currentScript.previousElementSibling;\n",
       "    if (outputDiv.id !== \"altair-viz-2b0ab2199c8045f5b336d1782af22752\") {\n",
       "      outputDiv = document.getElementById(\"altair-viz-2b0ab2199c8045f5b336d1782af22752\");\n",
       "    }\n",
       "    const paths = {\n",
       "      \"vega\": \"https://cdn.jsdelivr.net/npm/vega@5?noext\",\n",
       "      \"vega-lib\": \"https://cdn.jsdelivr.net/npm/vega-lib?noext\",\n",
       "      \"vega-lite\": \"https://cdn.jsdelivr.net/npm/vega-lite@5.8.0?noext\",\n",
       "      \"vega-embed\": \"https://cdn.jsdelivr.net/npm/vega-embed@6?noext\",\n",
       "    };\n",
       "\n",
       "    function maybeLoadScript(lib, version) {\n",
       "      var key = `${lib.replace(\"-\", \"\")}_version`;\n",
       "      return (VEGA_DEBUG[key] == version) ?\n",
       "        Promise.resolve(paths[lib]) :\n",
       "        new Promise(function(resolve, reject) {\n",
       "          var s = document.createElement('script');\n",
       "          document.getElementsByTagName(\"head\")[0].appendChild(s);\n",
       "          s.async = true;\n",
       "          s.onload = () => {\n",
       "            VEGA_DEBUG[key] = version;\n",
       "            return resolve(paths[lib]);\n",
       "          };\n",
       "          s.onerror = () => reject(`Error loading script: ${paths[lib]}`);\n",
       "          s.src = paths[lib];\n",
       "        });\n",
       "    }\n",
       "\n",
       "    function showError(err) {\n",
       "      outputDiv.innerHTML = `<div class=\"error\" style=\"color:red;\">${err}</div>`;\n",
       "      throw err;\n",
       "    }\n",
       "\n",
       "    function displayChart(vegaEmbed) {\n",
       "      vegaEmbed(outputDiv, spec, embedOpt)\n",
       "        .catch(err => showError(`Javascript Error: ${err.message}<br>This usually means there's a typo in your chart specification. See the javascript console for the full traceback.`));\n",
       "    }\n",
       "\n",
       "    if(typeof define === \"function\" && define.amd) {\n",
       "      requirejs.config({paths});\n",
       "      require([\"vega-embed\"], displayChart, err => showError(`Error loading script: ${err.message}`));\n",
       "    } else {\n",
       "      maybeLoadScript(\"vega\", \"5\")\n",
       "        .then(() => maybeLoadScript(\"vega-lite\", \"5.8.0\"))\n",
       "        .then(() => maybeLoadScript(\"vega-embed\", \"6\"))\n",
       "        .catch(showError)\n",
       "        .then(() => displayChart(vegaEmbed));\n",
       "    }\n",
       "  })({\"usermeta\": {\"embedOptions\": {\"theme\": \"fivethirtyeight\"}}, \"config\": {\"view\": {\"continuousWidth\": 300, \"continuousHeight\": 300}}, \"layer\": [{\"mark\": {\"type\": \"line\", \"strokeWidth\": 2}, \"encoding\": {\"color\": {\"field\": \"label\", \"legend\": {\"title\": \"Line Type\"}, \"type\": \"nominal\"}, \"tooltip\": [{\"field\": \"date\", \"type\": \"temporal\"}, {\"field\": \"y_test\", \"type\": \"quantitative\"}, {\"field\": \"y_pred\", \"type\": \"quantitative\"}], \"x\": {\"field\": \"date\", \"type\": \"temporal\"}, \"y\": {\"field\": \"y_test\", \"scale\": {\"zero\": false}, \"title\": \"Price\", \"type\": \"quantitative\"}}, \"name\": \"view_3\"}, {\"mark\": {\"type\": \"line\", \"strokeDash\": [3, 3], \"strokeWidth\": 1}, \"encoding\": {\"color\": {\"field\": \"predicted_label\", \"legend\": {\"title\": \"Line Type\"}, \"type\": \"nominal\"}, \"tooltip\": [{\"field\": \"date\", \"type\": \"temporal\"}, {\"field\": \"y_test\", \"type\": \"quantitative\"}, {\"field\": \"y_pred\", \"type\": \"quantitative\"}], \"x\": {\"field\": \"date\", \"type\": \"temporal\"}, \"y\": {\"field\": \"y_pred\", \"scale\": {\"zero\": false}, \"title\": \"\", \"type\": \"quantitative\"}}}], \"data\": {\"name\": \"data-03cafb53e52e7300514ebf4d732c382a\"}, \"height\": 400, \"params\": [{\"name\": \"param_3\", \"select\": {\"type\": \"interval\", \"encodings\": [\"x\", \"y\"]}, \"bind\": \"scales\", \"views\": [\"view_3\"]}], \"title\": \"Actual vs Predicted High Prices\", \"width\": 650, \"$schema\": \"https://vega.github.io/schema/vega-lite/v5.8.0.json\", \"datasets\": {\"data-03cafb53e52e7300514ebf4d732c382a\": [{\"date\": \"2020-08-25T00:00:00\", \"y_test\": 114.1999969482422, \"y_pred\": 118.63209385547486, \"label\": \"Actual\", \"predicted_label\": \"Predicted\"}, {\"date\": \"2020-08-26T00:00:00\", \"y_test\": 113.90000152587892, \"y_pred\": 116.81391476175743, \"label\": \"Actual\", \"predicted_label\": \"Predicted\"}, {\"date\": \"2020-08-27T00:00:00\", \"y_test\": 114.99999999999999, \"y_pred\": 117.74587569345952, \"label\": \"Actual\", \"predicted_label\": \"Predicted\"}, {\"date\": \"2020-08-28T00:00:00\", \"y_test\": 115.6750030517578, \"y_pred\": 118.49251776638934, \"label\": \"Actual\", \"predicted_label\": \"Predicted\"}, {\"date\": \"2020-08-31T00:00:00\", \"y_test\": 115.0, \"y_pred\": 118.42395009680226, \"label\": \"Actual\", \"predicted_label\": \"Predicted\"}, {\"date\": \"2020-09-01T00:00:00\", \"y_test\": 111.92500305175778, \"y_pred\": 115.0441039778367, \"label\": \"Actual\", \"predicted_label\": \"Predicted\"}, {\"date\": \"2020-09-02T00:00:00\", \"y_test\": 112.4499969482422, \"y_pred\": 115.2900865449578, \"label\": \"Actual\", \"predicted_label\": \"Predicted\"}, {\"date\": \"2020-09-03T00:00:00\", \"y_test\": 114.0, \"y_pred\": 115.52003392780563, \"label\": \"Actual\", \"predicted_label\": \"Predicted\"}, {\"date\": \"2020-09-04T00:00:00\", \"y_test\": 111.4749984741211, \"y_pred\": 117.16592098954646, \"label\": \"Actual\", \"predicted_label\": \"Predicted\"}, {\"date\": \"2020-09-07T00:00:00\", \"y_test\": 109.5500030517578, \"y_pred\": 114.20864151377646, \"label\": \"Actual\", \"predicted_label\": \"Predicted\"}, {\"date\": \"2020-09-08T00:00:00\", \"y_test\": 110.9000015258789, \"y_pred\": 112.88860869066772, \"label\": \"Actual\", \"predicted_label\": \"Predicted\"}, {\"date\": \"2020-09-09T00:00:00\", \"y_test\": 108.3249969482422, \"y_pred\": 113.00768124754178, \"label\": \"Actual\", \"predicted_label\": \"Predicted\"}, {\"date\": \"2020-09-10T00:00:00\", \"y_test\": 110.875, \"y_pred\": 111.58785888592438, \"label\": \"Actual\", \"predicted_label\": \"Predicted\"}, {\"date\": \"2020-09-11T00:00:00\", \"y_test\": 115.50000000000001, \"y_pred\": 114.00561487881107, \"label\": \"Actual\", \"predicted_label\": \"Predicted\"}, {\"date\": \"2020-09-14T00:00:00\", \"y_test\": 118.67500305175778, \"y_pred\": 116.45330271358547, \"label\": \"Actual\", \"predicted_label\": \"Predicted\"}, {\"date\": \"2020-09-15T00:00:00\", \"y_test\": 118.8000030517578, \"y_pred\": 120.3480314225001, \"label\": \"Actual\", \"predicted_label\": \"Predicted\"}, {\"date\": \"2020-09-16T00:00:00\", \"y_test\": 120.82499694824219, \"y_pred\": 121.08698885457443, \"label\": \"Actual\", \"predicted_label\": \"Predicted\"}, {\"date\": \"2020-09-17T00:00:00\", \"y_test\": 120.0, \"y_pred\": 122.20810520378846, \"label\": \"Actual\", \"predicted_label\": \"Predicted\"}, {\"date\": \"2020-09-18T00:00:00\", \"y_test\": 120.27500152587889, \"y_pred\": 122.72009253240881, \"label\": \"Actual\", \"predicted_label\": \"Predicted\"}, {\"date\": \"2020-09-21T00:00:00\", \"y_test\": 128.72500610351562, \"y_pred\": 123.67986495068733, \"label\": \"Actual\", \"predicted_label\": \"Predicted\"}, {\"date\": \"2020-09-22T00:00:00\", \"y_test\": 129.0749969482422, \"y_pred\": 129.86396516194074, \"label\": \"Actual\", \"predicted_label\": \"Predicted\"}, {\"date\": \"2020-09-23T00:00:00\", \"y_test\": 127.4749984741211, \"y_pred\": 127.1158309392422, \"label\": \"Actual\", \"predicted_label\": \"Predicted\"}, {\"date\": \"2020-09-24T00:00:00\", \"y_test\": 134.0500030517578, \"y_pred\": 126.38925521129548, \"label\": \"Actual\", \"predicted_label\": \"Predicted\"}, {\"date\": \"2020-09-25T00:00:00\", \"y_test\": 128.9499969482422, \"y_pred\": 129.09160452954353, \"label\": \"Actual\", \"predicted_label\": \"Predicted\"}, {\"date\": \"2020-09-28T00:00:00\", \"y_test\": 125.3000030517578, \"y_pred\": 128.450864278389, \"label\": \"Actual\", \"predicted_label\": \"Predicted\"}, {\"date\": \"2020-09-29T00:00:00\", \"y_test\": 127.0, \"y_pred\": 126.00582935576581, \"label\": \"Actual\", \"predicted_label\": \"Predicted\"}, {\"date\": \"2020-09-30T00:00:00\", \"y_test\": 121.9000015258789, \"y_pred\": 123.12662924513019, \"label\": \"Actual\", \"predicted_label\": \"Predicted\"}, {\"date\": \"2020-10-01T00:00:00\", \"y_test\": 121.9000015258789, \"y_pred\": 125.54183322585688, \"label\": \"Actual\", \"predicted_label\": \"Predicted\"}, {\"date\": \"2020-10-05T00:00:00\", \"y_test\": 122.99999999999999, \"y_pred\": 123.86085626323003, \"label\": \"Actual\", \"predicted_label\": \"Predicted\"}, {\"date\": \"2020-10-06T00:00:00\", \"y_test\": 123.84999847412111, \"y_pred\": 125.15946699691818, \"label\": \"Actual\", \"predicted_label\": \"Predicted\"}, {\"date\": \"2020-10-07T00:00:00\", \"y_test\": 121.4000015258789, \"y_pred\": 122.55097510784498, \"label\": \"Actual\", \"predicted_label\": \"Predicted\"}, {\"date\": \"2020-10-08T00:00:00\", \"y_test\": 120.5, \"y_pred\": 125.60907814327597, \"label\": \"Actual\", \"predicted_label\": \"Predicted\"}, {\"date\": \"2020-10-09T00:00:00\", \"y_test\": 117.9000015258789, \"y_pred\": 123.47909430304988, \"label\": \"Actual\", \"predicted_label\": \"Predicted\"}, {\"date\": \"2020-10-12T00:00:00\", \"y_test\": 116.0, \"y_pred\": 118.04680228971613, \"label\": \"Actual\", \"predicted_label\": \"Predicted\"}, {\"date\": \"2020-10-13T00:00:00\", \"y_test\": 113.25, \"y_pred\": 112.10119119655518, \"label\": \"Actual\", \"predicted_label\": \"Predicted\"}, {\"date\": \"2020-10-14T00:00:00\", \"y_test\": 119.9000015258789, \"y_pred\": 116.43212979709968, \"label\": \"Actual\", \"predicted_label\": \"Predicted\"}, {\"date\": \"2020-10-15T00:00:00\", \"y_test\": 111.5, \"y_pred\": 116.1950121486342, \"label\": \"Actual\", \"predicted_label\": \"Predicted\"}, {\"date\": \"2020-10-16T00:00:00\", \"y_test\": 111.5, \"y_pred\": 111.54377537477687, \"label\": \"Actual\", \"predicted_label\": \"Predicted\"}, {\"date\": \"2020-10-19T00:00:00\", \"y_test\": 113.5, \"y_pred\": 114.2913193557717, \"label\": \"Actual\", \"predicted_label\": \"Predicted\"}, {\"date\": \"2020-10-20T00:00:00\", \"y_test\": 112.05000305175778, \"y_pred\": 115.49832995612073, \"label\": \"Actual\", \"predicted_label\": \"Predicted\"}, {\"date\": \"2020-10-21T00:00:00\", \"y_test\": 111.8499984741211, \"y_pred\": 113.6972892556354, \"label\": \"Actual\", \"predicted_label\": \"Predicted\"}, {\"date\": \"2020-10-22T00:00:00\", \"y_test\": 111.80000305175778, \"y_pred\": 116.54595035438592, \"label\": \"Actual\", \"predicted_label\": \"Predicted\"}, {\"date\": \"2020-10-23T00:00:00\", \"y_test\": 111.5500030517578, \"y_pred\": 113.79143674504539, \"label\": \"Actual\", \"predicted_label\": \"Predicted\"}, {\"date\": \"2020-10-26T00:00:00\", \"y_test\": 111.5500030517578, \"y_pred\": 114.45299017536016, \"label\": \"Actual\", \"predicted_label\": \"Predicted\"}, {\"date\": \"2020-10-27T00:00:00\", \"y_test\": 108.0, \"y_pred\": 113.2283417716606, \"label\": \"Actual\", \"predicted_label\": \"Predicted\"}, {\"date\": \"2020-10-28T00:00:00\", \"y_test\": 108.3000030517578, \"y_pred\": 108.77514152884554, \"label\": \"Actual\", \"predicted_label\": \"Predicted\"}, {\"date\": \"2020-10-29T00:00:00\", \"y_test\": 106.5999984741211, \"y_pred\": 108.81847628225518, \"label\": \"Actual\", \"predicted_label\": \"Predicted\"}, {\"date\": \"2020-10-30T00:00:00\", \"y_test\": 106.50000000000001, \"y_pred\": 107.50032096914316, \"label\": \"Actual\", \"predicted_label\": \"Predicted\"}, {\"date\": \"2020-11-02T00:00:00\", \"y_test\": 108.09999847412108, \"y_pred\": 107.15870600700721, \"label\": \"Actual\", \"predicted_label\": \"Predicted\"}, {\"date\": \"2020-11-03T00:00:00\", \"y_test\": 109.3000030517578, \"y_pred\": 110.01939389251979, \"label\": \"Actual\", \"predicted_label\": \"Predicted\"}, {\"date\": \"2020-11-04T00:00:00\", \"y_test\": 109.99999999999999, \"y_pred\": 111.26263237552338, \"label\": \"Actual\", \"predicted_label\": \"Predicted\"}, {\"date\": \"2020-11-05T00:00:00\", \"y_test\": 108.8499984741211, \"y_pred\": 110.67598819946996, \"label\": \"Actual\", \"predicted_label\": \"Predicted\"}, {\"date\": \"2020-11-06T00:00:00\", \"y_test\": 108.65000152587892, \"y_pred\": 111.1641463012902, \"label\": \"Actual\", \"predicted_label\": \"Predicted\"}, {\"date\": \"2020-11-09T00:00:00\", \"y_test\": 124.59999847412108, \"y_pred\": 110.58315248152267, \"label\": \"Actual\", \"predicted_label\": \"Predicted\"}, {\"date\": \"2020-11-10T00:00:00\", \"y_test\": 123.25, \"y_pred\": 123.63638003287632, \"label\": \"Actual\", \"predicted_label\": \"Predicted\"}, {\"date\": \"2020-11-11T00:00:00\", \"y_test\": 125.00000000000001, \"y_pred\": 126.68088062055824, \"label\": \"Actual\", \"predicted_label\": \"Predicted\"}, {\"date\": \"2020-11-12T00:00:00\", \"y_test\": 122.1999969482422, \"y_pred\": 126.53080528126006, \"label\": \"Actual\", \"predicted_label\": \"Predicted\"}, {\"date\": \"2020-11-13T00:00:00\", \"y_test\": 124.80000305175778, \"y_pred\": 121.62120643281234, \"label\": \"Actual\", \"predicted_label\": \"Predicted\"}, {\"date\": \"2020-11-14T00:00:00\", \"y_test\": 124.6999969482422, \"y_pred\": 121.316208176643, \"label\": \"Actual\", \"predicted_label\": \"Predicted\"}, {\"date\": \"2020-11-17T00:00:00\", \"y_test\": 122.0, \"y_pred\": 124.45121641255355, \"label\": \"Actual\", \"predicted_label\": \"Predicted\"}, {\"date\": \"2020-11-18T00:00:00\", \"y_test\": 120.9000015258789, \"y_pred\": 121.37520241162439, \"label\": \"Actual\", \"predicted_label\": \"Predicted\"}, {\"date\": \"2020-11-19T00:00:00\", \"y_test\": 130.60000610351562, \"y_pred\": 123.8485063657235, \"label\": \"Actual\", \"predicted_label\": \"Predicted\"}, {\"date\": \"2020-11-20T00:00:00\", \"y_test\": 128.89999389648438, \"y_pred\": 130.68386807460428, \"label\": \"Actual\", \"predicted_label\": \"Predicted\"}, {\"date\": \"2020-11-23T00:00:00\", \"y_test\": 128.5, \"y_pred\": 131.6927665396098, \"label\": \"Actual\", \"predicted_label\": \"Predicted\"}, {\"date\": \"2020-11-24T00:00:00\", \"y_test\": 137.5, \"y_pred\": 132.56054389903971, \"label\": \"Actual\", \"predicted_label\": \"Predicted\"}, {\"date\": \"2020-11-25T00:00:00\", \"y_test\": 137.9499969482422, \"y_pred\": 138.64164711065249, \"label\": \"Actual\", \"predicted_label\": \"Predicted\"}, {\"date\": \"2020-11-26T00:00:00\", \"y_test\": 134.8000030517578, \"y_pred\": 136.2623459455472, \"label\": \"Actual\", \"predicted_label\": \"Predicted\"}, {\"date\": \"2020-11-27T00:00:00\", \"y_test\": 135.0, \"y_pred\": 137.75969874165494, \"label\": \"Actual\", \"predicted_label\": \"Predicted\"}, {\"date\": \"2020-12-01T00:00:00\", \"y_test\": 135.60000610351562, \"y_pred\": 140.03650214319353, \"label\": \"Actual\", \"predicted_label\": \"Predicted\"}, {\"date\": \"2020-12-02T00:00:00\", \"y_test\": 135.64999389648438, \"y_pred\": 141.68119088641578, \"label\": \"Actual\", \"predicted_label\": \"Predicted\"}, {\"date\": \"2020-12-03T00:00:00\", \"y_test\": 136.0, \"y_pred\": 140.81224182263543, \"label\": \"Actual\", \"predicted_label\": \"Predicted\"}, {\"date\": \"2020-12-04T00:00:00\", \"y_test\": 135.5, \"y_pred\": 139.72681974713063, \"label\": \"Actual\", \"predicted_label\": \"Predicted\"}, {\"date\": \"2020-12-07T00:00:00\", \"y_test\": 137.0, \"y_pred\": 140.8910131938297, \"label\": \"Actual\", \"predicted_label\": \"Predicted\"}, {\"date\": \"2020-12-08T00:00:00\", \"y_test\": 137.0, \"y_pred\": 141.27698256706125, \"label\": \"Actual\", \"predicted_label\": \"Predicted\"}, {\"date\": \"2020-12-09T00:00:00\", \"y_test\": 155.25, \"y_pred\": 140.30970689101093, \"label\": \"Actual\", \"predicted_label\": \"Predicted\"}, {\"date\": \"2020-12-10T00:00:00\", \"y_test\": 151.5500030517578, \"y_pred\": 153.6815358711239, \"label\": \"Actual\", \"predicted_label\": \"Predicted\"}, {\"date\": \"2020-12-11T00:00:00\", \"y_test\": 158.14999389648438, \"y_pred\": 152.04821131364918, \"label\": \"Actual\", \"predicted_label\": \"Predicted\"}, {\"date\": \"2020-12-14T00:00:00\", \"y_test\": 169.0, \"y_pred\": 161.5378448444842, \"label\": \"Actual\", \"predicted_label\": \"Predicted\"}, {\"date\": \"2020-12-15T00:00:00\", \"y_test\": 162.4499969482422, \"y_pred\": 168.52472686108445, \"label\": \"Actual\", \"predicted_label\": \"Predicted\"}, {\"date\": \"2020-12-16T00:00:00\", \"y_test\": 161.85000610351562, \"y_pred\": 165.37553242050762, \"label\": \"Actual\", \"predicted_label\": \"Predicted\"}, {\"date\": \"2020-12-17T00:00:00\", \"y_test\": 160.89999389648438, \"y_pred\": 166.24474355801152, \"label\": \"Actual\", \"predicted_label\": \"Predicted\"}, {\"date\": \"2020-12-18T00:00:00\", \"y_test\": 160.25, \"y_pred\": 165.00515798604317, \"label\": \"Actual\", \"predicted_label\": \"Predicted\"}, {\"date\": \"2020-12-21T00:00:00\", \"y_test\": 160.00000000000003, \"y_pred\": 162.25260459929927, \"label\": \"Actual\", \"predicted_label\": \"Predicted\"}, {\"date\": \"2020-12-22T00:00:00\", \"y_test\": 153.89999389648438, \"y_pred\": 160.93612910781283, \"label\": \"Actual\", \"predicted_label\": \"Predicted\"}, {\"date\": \"2020-12-23T00:00:00\", \"y_test\": 158.0, \"y_pred\": 159.84205801685124, \"label\": \"Actual\", \"predicted_label\": \"Predicted\"}, {\"date\": \"2020-12-24T00:00:00\", \"y_test\": 159.99999999999997, \"y_pred\": 164.26485144733218, \"label\": \"Actual\", \"predicted_label\": \"Predicted\"}, {\"date\": \"2020-12-28T00:00:00\", \"y_test\": 160.35000610351562, \"y_pred\": 165.40019804792593, \"label\": \"Actual\", \"predicted_label\": \"Predicted\"}, {\"date\": \"2020-12-29T00:00:00\", \"y_test\": 160.64999389648438, \"y_pred\": 166.93304129624877, \"label\": \"Actual\", \"predicted_label\": \"Predicted\"}, {\"date\": \"2020-12-30T00:00:00\", \"y_test\": 157.39999389648438, \"y_pred\": 163.8208350817476, \"label\": \"Actual\", \"predicted_label\": \"Predicted\"}, {\"date\": \"2020-12-31T00:00:00\", \"y_test\": 156.10000610351562, \"y_pred\": 161.30927018686316, \"label\": \"Actual\", \"predicted_label\": \"Predicted\"}, {\"date\": \"2021-01-01T00:00:00\", \"y_test\": 164.0, \"y_pred\": 159.54695254812725, \"label\": \"Actual\", \"predicted_label\": \"Predicted\"}, {\"date\": \"2021-01-04T00:00:00\", \"y_test\": 160.0, \"y_pred\": 166.48948573672715, \"label\": \"Actual\", \"predicted_label\": \"Predicted\"}, {\"date\": \"2021-01-05T00:00:00\", \"y_test\": 160.14999389648438, \"y_pred\": 165.85752864236926, \"label\": \"Actual\", \"predicted_label\": \"Predicted\"}, {\"date\": \"2021-01-06T00:00:00\", \"y_test\": 160.0500030517578, \"y_pred\": 164.0295918103826, \"label\": \"Actual\", \"predicted_label\": \"Predicted\"}, {\"date\": \"2021-01-07T00:00:00\", \"y_test\": 160.85000610351562, \"y_pred\": 164.6184597904149, \"label\": \"Actual\", \"predicted_label\": \"Predicted\"}, {\"date\": \"2021-01-08T00:00:00\", \"y_test\": 183.25000000000003, \"y_pred\": 164.94307223811018, \"label\": \"Actual\", \"predicted_label\": \"Predicted\"}, {\"date\": \"2021-01-11T00:00:00\", \"y_test\": 193.80000305175784, \"y_pred\": 186.99899024830088, \"label\": \"Actual\", \"predicted_label\": \"Predicted\"}, {\"date\": \"2021-01-12T00:00:00\", \"y_test\": 181.1000061035156, \"y_pred\": 185.4249838196936, \"label\": \"Actual\", \"predicted_label\": \"Predicted\"}, {\"date\": \"2021-01-13T00:00:00\", \"y_test\": 179.5, \"y_pred\": 182.0883568856443, \"label\": \"Actual\", \"predicted_label\": \"Predicted\"}, {\"date\": \"2021-01-14T00:00:00\", \"y_test\": 175.14999389648438, \"y_pred\": 181.46493095026233, \"label\": \"Actual\", \"predicted_label\": \"Predicted\"}, {\"date\": \"2021-01-15T00:00:00\", \"y_test\": 170.60000610351562, \"y_pred\": 175.17517548037412, \"label\": \"Actual\", \"predicted_label\": \"Predicted\"}, {\"date\": \"2021-01-18T00:00:00\", \"y_test\": 169.8500061035156, \"y_pred\": 171.7932018210268, \"label\": \"Actual\", \"predicted_label\": \"Predicted\"}, {\"date\": \"2021-01-19T00:00:00\", \"y_test\": 166.25, \"y_pred\": 168.99513054771745, \"label\": \"Actual\", \"predicted_label\": \"Predicted\"}, {\"date\": \"2021-01-20T00:00:00\", \"y_test\": 166.0, \"y_pred\": 171.51179263456132, \"label\": \"Actual\", \"predicted_label\": \"Predicted\"}, {\"date\": \"2021-01-21T00:00:00\", \"y_test\": 165.0, \"y_pred\": 169.13496772427484, \"label\": \"Actual\", \"predicted_label\": \"Predicted\"}, {\"date\": \"2021-01-22T00:00:00\", \"y_test\": 166.1999969482422, \"y_pred\": 170.19694125841713, \"label\": \"Actual\", \"predicted_label\": \"Predicted\"}, {\"date\": \"2021-01-25T00:00:00\", \"y_test\": 162.60000610351562, \"y_pred\": 167.7916873847056, \"label\": \"Actual\", \"predicted_label\": \"Predicted\"}, {\"date\": \"2021-01-27T00:00:00\", \"y_test\": 156.0, \"y_pred\": 163.63434584195363, \"label\": \"Actual\", \"predicted_label\": \"Predicted\"}, {\"date\": \"2021-01-28T00:00:00\", \"y_test\": 164.0, \"y_pred\": 159.74273691923358, \"label\": \"Actual\", \"predicted_label\": \"Predicted\"}, {\"date\": \"2021-01-29T00:00:00\", \"y_test\": 160.94999694824216, \"y_pred\": 164.34642843795788, \"label\": \"Actual\", \"predicted_label\": \"Predicted\"}, {\"date\": \"2021-02-01T00:00:00\", \"y_test\": 161.60000610351562, \"y_pred\": 164.95966405393247, \"label\": \"Actual\", \"predicted_label\": \"Predicted\"}, {\"date\": \"2021-02-02T00:00:00\", \"y_test\": 165.39999389648438, \"y_pred\": 169.9742349085774, \"label\": \"Actual\", \"predicted_label\": \"Predicted\"}, {\"date\": \"2021-02-03T00:00:00\", \"y_test\": 166.4499969482422, \"y_pred\": 171.59773375704913, \"label\": \"Actual\", \"predicted_label\": \"Predicted\"}, {\"date\": \"2021-02-04T00:00:00\", \"y_test\": 166.50000000000003, \"y_pred\": 172.07699324911258, \"label\": \"Actual\", \"predicted_label\": \"Predicted\"}, {\"date\": \"2021-02-05T00:00:00\", \"y_test\": 166.4499969482422, \"y_pred\": 174.62632319550147, \"label\": \"Actual\", \"predicted_label\": \"Predicted\"}, {\"date\": \"2021-02-08T00:00:00\", \"y_test\": 176.64999389648438, \"y_pred\": 173.3532667607387, \"label\": \"Actual\", \"predicted_label\": \"Predicted\"}, {\"date\": \"2021-02-09T00:00:00\", \"y_test\": 181.3999938964844, \"y_pred\": 178.89439706674182, \"label\": \"Actual\", \"predicted_label\": \"Predicted\"}, {\"date\": \"2021-02-10T00:00:00\", \"y_test\": 178.0, \"y_pred\": 183.51962088834486, \"label\": \"Actual\", \"predicted_label\": \"Predicted\"}, {\"date\": \"2021-02-11T00:00:00\", \"y_test\": 173.9499969482422, \"y_pred\": 177.88542254506785, \"label\": \"Actual\", \"predicted_label\": \"Predicted\"}, {\"date\": \"2021-02-12T00:00:00\", \"y_test\": 170.14999389648438, \"y_pred\": 174.39216886484246, \"label\": \"Actual\", \"predicted_label\": \"Predicted\"}, {\"date\": \"2021-02-15T00:00:00\", \"y_test\": 173.24999999999997, \"y_pred\": 175.5147875448533, \"label\": \"Actual\", \"predicted_label\": \"Predicted\"}, {\"date\": \"2021-02-16T00:00:00\", \"y_test\": 170.6999969482422, \"y_pred\": 171.32882996021584, \"label\": \"Actual\", \"predicted_label\": \"Predicted\"}, {\"date\": \"2021-02-17T00:00:00\", \"y_test\": 175.4499969482422, \"y_pred\": 173.30528047194542, \"label\": \"Actual\", \"predicted_label\": \"Predicted\"}, {\"date\": \"2021-02-18T00:00:00\", \"y_test\": 172.9499969482422, \"y_pred\": 177.417647979187, \"label\": \"Actual\", \"predicted_label\": \"Predicted\"}, {\"date\": \"2021-02-19T00:00:00\", \"y_test\": 168.4499969482422, \"y_pred\": 174.64077346347443, \"label\": \"Actual\", \"predicted_label\": \"Predicted\"}, {\"date\": \"2021-02-22T00:00:00\", \"y_test\": 163.9499969482422, \"y_pred\": 170.35589511467808, \"label\": \"Actual\", \"predicted_label\": \"Predicted\"}, {\"date\": \"2021-02-23T00:00:00\", \"y_test\": 163.60000610351565, \"y_pred\": 168.45813981249523, \"label\": \"Actual\", \"predicted_label\": \"Predicted\"}, {\"date\": \"2021-02-24T00:00:00\", \"y_test\": 168.99999999999997, \"y_pred\": 168.83226995038913, \"label\": \"Actual\", \"predicted_label\": \"Predicted\"}, {\"date\": \"2021-02-25T00:00:00\", \"y_test\": 183.00000000000003, \"y_pred\": 173.90048481685943, \"label\": \"Actual\", \"predicted_label\": \"Predicted\"}, {\"date\": \"2021-02-26T00:00:00\", \"y_test\": 192.3000030517578, \"y_pred\": 187.1604539420177, \"label\": \"Actual\", \"predicted_label\": \"Predicted\"}, {\"date\": \"2021-03-01T00:00:00\", \"y_test\": 187.60000610351557, \"y_pred\": 190.48614691183894, \"label\": \"Actual\", \"predicted_label\": \"Predicted\"}, {\"date\": \"2021-03-02T00:00:00\", \"y_test\": 185.8500061035156, \"y_pred\": 192.56494969271156, \"label\": \"Actual\", \"predicted_label\": \"Predicted\"}, {\"date\": \"2021-03-03T00:00:00\", \"y_test\": 185.0, \"y_pred\": 189.09595797003044, \"label\": \"Actual\", \"predicted_label\": \"Predicted\"}, {\"date\": \"2021-03-04T00:00:00\", \"y_test\": 186.69999694824222, \"y_pred\": 187.41023695628587, \"label\": \"Actual\", \"predicted_label\": \"Predicted\"}, {\"date\": \"2021-03-05T00:00:00\", \"y_test\": 187.75, \"y_pred\": 188.81908495863038, \"label\": \"Actual\", \"predicted_label\": \"Predicted\"}, {\"date\": \"2021-03-08T00:00:00\", \"y_test\": 201.75000000000003, \"y_pred\": 193.35849027040123, \"label\": \"Actual\", \"predicted_label\": \"Predicted\"}, {\"date\": \"2021-03-08T00:00:00\", \"y_test\": 201.75, \"y_pred\": 208.00072488640748, \"label\": \"Actual\", \"predicted_label\": \"Predicted\"}, {\"date\": \"2021-03-08T00:00:00\", \"y_test\": 201.75, \"y_pred\": 208.16486386719743, \"label\": \"Actual\", \"predicted_label\": \"Predicted\"}, {\"date\": \"2021-03-08T00:00:00\", \"y_test\": 201.75, \"y_pred\": 208.27278510957882, \"label\": \"Actual\", \"predicted_label\": \"Predicted\"}, {\"date\": \"2021-03-08T00:00:00\", \"y_test\": 201.75, \"y_pred\": 208.28914054853598, \"label\": \"Actual\", \"predicted_label\": \"Predicted\"}, {\"date\": \"2021-03-08T00:00:00\", \"y_test\": 201.75, \"y_pred\": 208.23426109317998, \"label\": \"Actual\", \"predicted_label\": \"Predicted\"}, {\"date\": \"2021-03-08T00:00:00\", \"y_test\": 201.75, \"y_pred\": 207.98062458382068, \"label\": \"Actual\", \"predicted_label\": \"Predicted\"}, {\"date\": \"2021-03-09T00:00:00\", \"y_test\": 211.5, \"y_pred\": 207.99084773633427, \"label\": \"Actual\", \"predicted_label\": \"Predicted\"}, {\"date\": \"2021-03-10T00:00:00\", \"y_test\": 206.05000305175778, \"y_pred\": 214.64121261934642, \"label\": \"Actual\", \"predicted_label\": \"Predicted\"}, {\"date\": \"2021-03-12T00:00:00\", \"y_test\": 208.44999694824216, \"y_pred\": 213.19848363067018, \"label\": \"Actual\", \"predicted_label\": \"Predicted\"}, {\"date\": \"2021-03-15T00:00:00\", \"y_test\": 209.00000000000003, \"y_pred\": 212.23728022014973, \"label\": \"Actual\", \"predicted_label\": \"Predicted\"}, {\"date\": \"2021-03-16T00:00:00\", \"y_test\": 198.55000305175778, \"y_pred\": 205.98587131890298, \"label\": \"Actual\", \"predicted_label\": \"Predicted\"}, {\"date\": \"2021-03-17T00:00:00\", \"y_test\": 203.75, \"y_pred\": 205.00886011334867, \"label\": \"Actual\", \"predicted_label\": \"Predicted\"}, {\"date\": \"2021-03-18T00:00:00\", \"y_test\": 218.6999969482422, \"y_pred\": 209.60765426172406, \"label\": \"Actual\", \"predicted_label\": \"Predicted\"}, {\"date\": \"2021-03-18T00:00:00\", \"y_test\": 218.6999969482422, \"y_pred\": 202.49712484970516, \"label\": \"Actual\", \"predicted_label\": \"Predicted\"}, {\"date\": \"2021-03-18T00:00:00\", \"y_test\": 218.6999969482422, \"y_pred\": 202.23379235311174, \"label\": \"Actual\", \"predicted_label\": \"Predicted\"}, {\"date\": \"2021-03-18T00:00:00\", \"y_test\": 218.6999969482422, \"y_pred\": 202.00163185070346, \"label\": \"Actual\", \"predicted_label\": \"Predicted\"}, {\"date\": \"2021-03-19T00:00:00\", \"y_test\": 191.99999999999997, \"y_pred\": 202.06604696246663, \"label\": \"Actual\", \"predicted_label\": \"Predicted\"}, {\"date\": \"2021-03-22T00:00:00\", \"y_test\": 195.0, \"y_pred\": 200.78409818717955, \"label\": \"Actual\", \"predicted_label\": \"Predicted\"}, {\"date\": \"2021-03-23T00:00:00\", \"y_test\": 192.99999999999997, \"y_pred\": 203.6053570732401, \"label\": \"Actual\", \"predicted_label\": \"Predicted\"}, {\"date\": \"2021-03-24T00:00:00\", \"y_test\": 190.0, \"y_pred\": 200.6636866372975, \"label\": \"Actual\", \"predicted_label\": \"Predicted\"}, {\"date\": \"2021-03-25T00:00:00\", \"y_test\": 185.6999969482422, \"y_pred\": 195.95178220587073, \"label\": \"Actual\", \"predicted_label\": \"Predicted\"}, {\"date\": \"2021-03-26T00:00:00\", \"y_test\": 182.6499938964844, \"y_pred\": 189.90579115568093, \"label\": \"Actual\", \"predicted_label\": \"Predicted\"}, {\"date\": \"2021-03-30T00:00:00\", \"y_test\": 185.9499969482422, \"y_pred\": 189.58589817349878, \"label\": \"Actual\", \"predicted_label\": \"Predicted\"}, {\"date\": \"2021-03-31T00:00:00\", \"y_test\": 191.19999694824216, \"y_pred\": 191.84734729984825, \"label\": \"Actual\", \"predicted_label\": \"Predicted\"}, {\"date\": \"2021-04-01T00:00:00\", \"y_test\": 198.89999389648443, \"y_pred\": 200.7728347370873, \"label\": \"Actual\", \"predicted_label\": \"Predicted\"}, {\"date\": \"2021-04-05T00:00:00\", \"y_test\": 203.8999938964844, \"y_pred\": 207.43477974249683, \"label\": \"Actual\", \"predicted_label\": \"Predicted\"}, {\"date\": \"2021-04-06T00:00:00\", \"y_test\": 201.0, \"y_pred\": 205.0958042836332, \"label\": \"Actual\", \"predicted_label\": \"Predicted\"}, {\"date\": \"2021-04-06T00:00:00\", \"y_test\": 200.99999999999997, \"y_pred\": 208.2549537618802, \"label\": \"Actual\", \"predicted_label\": \"Predicted\"}, {\"date\": \"2021-04-07T00:00:00\", \"y_test\": 202.0, \"y_pred\": 208.3938047975952, \"label\": \"Actual\", \"predicted_label\": \"Predicted\"}, {\"date\": \"2021-04-08T00:00:00\", \"y_test\": 205.6999969482422, \"y_pred\": 207.47422126014197, \"label\": \"Actual\", \"predicted_label\": \"Predicted\"}, {\"date\": \"2021-04-09T00:00:00\", \"y_test\": 209.99999999999997, \"y_pred\": 214.22974115216746, \"label\": \"Actual\", \"predicted_label\": \"Predicted\"}, {\"date\": \"2021-04-12T00:00:00\", \"y_test\": 196.9499969482422, \"y_pred\": 211.33722914593022, \"label\": \"Actual\", \"predicted_label\": \"Predicted\"}, {\"date\": \"2021-04-13T00:00:00\", \"y_test\": 197.0, \"y_pred\": 200.50260547432993, \"label\": \"Actual\", \"predicted_label\": \"Predicted\"}, {\"date\": \"2021-04-15T00:00:00\", \"y_test\": 206.5500030517578, \"y_pred\": 203.28014490389478, \"label\": \"Actual\", \"predicted_label\": \"Predicted\"}, {\"date\": \"2021-04-16T00:00:00\", \"y_test\": 202.1000061035156, \"y_pred\": 211.32307241120174, \"label\": \"Actual\", \"predicted_label\": \"Predicted\"}, {\"date\": \"2021-04-19T00:00:00\", \"y_test\": 231.5, \"y_pred\": 204.40183686842167, \"label\": \"Actual\", \"predicted_label\": \"Predicted\"}, {\"date\": \"2021-04-19T00:00:00\", \"y_test\": 231.5, \"y_pred\": 236.3248771369324, \"label\": \"Actual\", \"predicted_label\": \"Predicted\"}, {\"date\": \"2021-04-20T00:00:00\", \"y_test\": 244.0, \"y_pred\": 236.59245889348924, \"label\": \"Actual\", \"predicted_label\": \"Predicted\"}, {\"date\": \"2021-04-22T00:00:00\", \"y_test\": 237.0, \"y_pred\": 230.74775679769377, \"label\": \"Actual\", \"predicted_label\": \"Predicted\"}, {\"date\": \"2021-04-23T00:00:00\", \"y_test\": 233.6999969482422, \"y_pred\": 237.60932285337503, \"label\": \"Actual\", \"predicted_label\": \"Predicted\"}, {\"date\": \"2021-04-26T00:00:00\", \"y_test\": 232.0, \"y_pred\": 232.20546303367067, \"label\": \"Actual\", \"predicted_label\": \"Predicted\"}, {\"date\": \"2021-04-27T00:00:00\", \"y_test\": 224.64999389648438, \"y_pred\": 234.46479960654014, \"label\": \"Actual\", \"predicted_label\": \"Predicted\"}, {\"date\": \"2021-04-28T00:00:00\", \"y_test\": 228.0, \"y_pred\": 228.65771444444087, \"label\": \"Actual\", \"predicted_label\": \"Predicted\"}, {\"date\": \"2021-04-29T00:00:00\", \"y_test\": 224.8999938964844, \"y_pred\": 232.38810013289876, \"label\": \"Actual\", \"predicted_label\": \"Predicted\"}, {\"date\": \"2021-04-30T00:00:00\", \"y_test\": 218.5500030517578, \"y_pred\": 229.3544045677199, \"label\": \"Actual\", \"predicted_label\": \"Predicted\"}, {\"date\": \"2021-05-03T00:00:00\", \"y_test\": 219.25000000000003, \"y_pred\": 225.66813315194074, \"label\": \"Actual\", \"predicted_label\": \"Predicted\"}, {\"date\": \"2021-05-04T00:00:00\", \"y_test\": 226.5, \"y_pred\": 226.98402022599166, \"label\": \"Actual\", \"predicted_label\": \"Predicted\"}, {\"date\": \"2021-05-05T00:00:00\", \"y_test\": 223.00000000000003, \"y_pred\": 230.54995358994677, \"label\": \"Actual\", \"predicted_label\": \"Predicted\"}, {\"date\": \"2021-05-06T00:00:00\", \"y_test\": 222.1999969482422, \"y_pred\": 229.57297187752494, \"label\": \"Actual\", \"predicted_label\": \"Predicted\"}, {\"date\": \"2021-05-07T00:00:00\", \"y_test\": 221.0, \"y_pred\": 228.032821302187, \"label\": \"Actual\", \"predicted_label\": \"Predicted\"}, {\"date\": \"2021-05-10T00:00:00\", \"y_test\": 220.0, \"y_pred\": 229.0709983004752, \"label\": \"Actual\", \"predicted_label\": \"Predicted\"}, {\"date\": \"2021-05-11T00:00:00\", \"y_test\": 221.99999999999997, \"y_pred\": 227.4173540640811, \"label\": \"Actual\", \"predicted_label\": \"Predicted\"}, {\"date\": \"2021-05-12T00:00:00\", \"y_test\": 216.0500030517578, \"y_pred\": 225.99815058133547, \"label\": \"Actual\", \"predicted_label\": \"Predicted\"}, {\"date\": \"2021-05-14T00:00:00\", \"y_test\": 215.39999389648443, \"y_pred\": 225.3082095539985, \"label\": \"Actual\", \"predicted_label\": \"Predicted\"}, {\"date\": \"2021-05-17T00:00:00\", \"y_test\": 213.0, \"y_pred\": 216.56521301594427, \"label\": \"Actual\", \"predicted_label\": \"Predicted\"}, {\"date\": \"2021-05-18T00:00:00\", \"y_test\": 218.0, \"y_pred\": 223.90217699591898, \"label\": \"Actual\", \"predicted_label\": \"Predicted\"}, {\"date\": \"2021-05-19T00:00:00\", \"y_test\": 217.94999694824216, \"y_pred\": 227.0846196455848, \"label\": \"Actual\", \"predicted_label\": \"Predicted\"}, {\"date\": \"2021-05-20T00:00:00\", \"y_test\": 217.5, \"y_pred\": 223.68144085414295, \"label\": \"Actual\", \"predicted_label\": \"Predicted\"}, {\"date\": \"2021-05-21T00:00:00\", \"y_test\": 219.3500061035156, \"y_pred\": 223.8562675936636, \"label\": \"Actual\", \"predicted_label\": \"Predicted\"}, {\"date\": \"2021-05-24T00:00:00\", \"y_test\": 226.1499938964844, \"y_pred\": 223.82362771354522, \"label\": \"Actual\", \"predicted_label\": \"Predicted\"}, {\"date\": \"2021-05-25T00:00:00\", \"y_test\": 222.8000030517578, \"y_pred\": 226.32367582855994, \"label\": \"Actual\", \"predicted_label\": \"Predicted\"}, {\"date\": \"2021-05-26T00:00:00\", \"y_test\": 218.00000000000003, \"y_pred\": 225.62236225825956, \"label\": \"Actual\", \"predicted_label\": \"Predicted\"}, {\"date\": \"2021-05-27T00:00:00\", \"y_test\": 214.75, \"y_pred\": 223.76513590214265, \"label\": \"Actual\", \"predicted_label\": \"Predicted\"}, {\"date\": \"2021-05-28T00:00:00\", \"y_test\": 215.00000000000003, \"y_pred\": 221.65312765548072, \"label\": \"Actual\", \"predicted_label\": \"Predicted\"}, {\"date\": \"2021-05-31T00:00:00\", \"y_test\": 212.6000061035156, \"y_pred\": 219.15766779114549, \"label\": \"Actual\", \"predicted_label\": \"Predicted\"}, {\"date\": \"2021-06-01T00:00:00\", \"y_test\": 210.3000030517578, \"y_pred\": 217.08522548092296, \"label\": \"Actual\", \"predicted_label\": \"Predicted\"}, {\"date\": \"2021-06-02T00:00:00\", \"y_test\": 207.89999389648438, \"y_pred\": 213.65152021401033, \"label\": \"Actual\", \"predicted_label\": \"Predicted\"}, {\"date\": \"2021-06-03T00:00:00\", \"y_test\": 213.5, \"y_pred\": 212.54570458909814, \"label\": \"Actual\", \"predicted_label\": \"Predicted\"}, {\"date\": \"2021-06-04T00:00:00\", \"y_test\": 215.25, \"y_pred\": 219.64205929309972, \"label\": \"Actual\", \"predicted_label\": \"Predicted\"}, {\"date\": \"2021-06-07T00:00:00\", \"y_test\": 217.00000000000003, \"y_pred\": 221.46941597293588, \"label\": \"Actual\", \"predicted_label\": \"Predicted\"}, {\"date\": \"2021-06-08T00:00:00\", \"y_test\": 216.3000030517578, \"y_pred\": 222.6551146559283, \"label\": \"Actual\", \"predicted_label\": \"Predicted\"}, {\"date\": \"2021-06-09T00:00:00\", \"y_test\": 220.0, \"y_pred\": 222.47700532630628, \"label\": \"Actual\", \"predicted_label\": \"Predicted\"}, {\"date\": \"2021-06-10T00:00:00\", \"y_test\": 216.5500030517578, \"y_pred\": 222.60948351536092, \"label\": \"Actual\", \"predicted_label\": \"Predicted\"}, {\"date\": \"2021-06-11T00:00:00\", \"y_test\": 217.99999999999997, \"y_pred\": 223.2761336617446, \"label\": \"Actual\", \"predicted_label\": \"Predicted\"}, {\"date\": \"2021-06-14T00:00:00\", \"y_test\": 215.64999389648443, \"y_pred\": 222.480187540952, \"label\": \"Actual\", \"predicted_label\": \"Predicted\"}, {\"date\": \"2021-06-15T00:00:00\", \"y_test\": 217.30000305175778, \"y_pred\": 218.8630833719084, \"label\": \"Actual\", \"predicted_label\": \"Predicted\"}, {\"date\": \"2021-06-16T00:00:00\", \"y_test\": 219.3000030517578, \"y_pred\": 222.28679874877722, \"label\": \"Actual\", \"predicted_label\": \"Predicted\"}, {\"date\": \"2021-06-17T00:00:00\", \"y_test\": 214.25, \"y_pred\": 217.96481890191757, \"label\": \"Actual\", \"predicted_label\": \"Predicted\"}, {\"date\": \"2021-06-18T00:00:00\", \"y_test\": 216.75, \"y_pred\": 218.24047384461943, \"label\": \"Actual\", \"predicted_label\": \"Predicted\"}, {\"date\": \"2021-06-21T00:00:00\", \"y_test\": 210.0, \"y_pred\": 217.48489256834716, \"label\": \"Actual\", \"predicted_label\": \"Predicted\"}, {\"date\": \"2021-06-22T00:00:00\", \"y_test\": 215.35000610351562, \"y_pred\": 216.8350842159914, \"label\": \"Actual\", \"predicted_label\": \"Predicted\"}, {\"date\": \"2021-06-23T00:00:00\", \"y_test\": 221.1499938964844, \"y_pred\": 221.8086934423456, \"label\": \"Actual\", \"predicted_label\": \"Predicted\"}, {\"date\": \"2021-06-24T00:00:00\", \"y_test\": 220.00000000000003, \"y_pred\": 225.34709320141687, \"label\": \"Actual\", \"predicted_label\": \"Predicted\"}, {\"date\": \"2021-06-25T00:00:00\", \"y_test\": 215.75000000000003, \"y_pred\": 221.73910795575213, \"label\": \"Actual\", \"predicted_label\": \"Predicted\"}, {\"date\": \"2021-06-28T00:00:00\", \"y_test\": 216.9499969482422, \"y_pred\": 221.50512509035838, \"label\": \"Actual\", \"predicted_label\": \"Predicted\"}, {\"date\": \"2021-06-29T00:00:00\", \"y_test\": 212.55000305175778, \"y_pred\": 219.60100670019423, \"label\": \"Actual\", \"predicted_label\": \"Predicted\"}, {\"date\": \"2021-06-30T00:00:00\", \"y_test\": 212.3500061035156, \"y_pred\": 220.59884879844643, \"label\": \"Actual\", \"predicted_label\": \"Predicted\"}, {\"date\": \"2021-07-01T00:00:00\", \"y_test\": 209.00000000000003, \"y_pred\": 217.07939690445355, \"label\": \"Actual\", \"predicted_label\": \"Predicted\"}, {\"date\": \"2021-07-02T00:00:00\", \"y_test\": 214.0, \"y_pred\": 216.84324645745326, \"label\": \"Actual\", \"predicted_label\": \"Predicted\"}, {\"date\": \"2021-07-05T00:00:00\", \"y_test\": 217.0, \"y_pred\": 219.58857976935403, \"label\": \"Actual\", \"predicted_label\": \"Predicted\"}, {\"date\": \"2021-07-06T00:00:00\", \"y_test\": 220.99999999999997, \"y_pred\": 224.2902181929525, \"label\": \"Actual\", \"predicted_label\": \"Predicted\"}, {\"date\": \"2021-07-07T00:00:00\", \"y_test\": 217.6999969482422, \"y_pred\": 220.52569731410097, \"label\": \"Actual\", \"predicted_label\": \"Predicted\"}, {\"date\": \"2021-07-08T00:00:00\", \"y_test\": 219.8000030517578, \"y_pred\": 223.8106617622726, \"label\": \"Actual\", \"predicted_label\": \"Predicted\"}, {\"date\": \"2021-07-09T00:00:00\", \"y_test\": 218.1000061035156, \"y_pred\": 220.7555648695278, \"label\": \"Actual\", \"predicted_label\": \"Predicted\"}, {\"date\": \"2021-07-12T00:00:00\", \"y_test\": 225.0, \"y_pred\": 222.11019369148366, \"label\": \"Actual\", \"predicted_label\": \"Predicted\"}, {\"date\": \"2021-07-13T00:00:00\", \"y_test\": 224.5500030517578, \"y_pred\": 229.3536140118741, \"label\": \"Actual\", \"predicted_label\": \"Predicted\"}, {\"date\": \"2021-07-14T00:00:00\", \"y_test\": 222.3000030517578, \"y_pred\": 226.5321224225976, \"label\": \"Actual\", \"predicted_label\": \"Predicted\"}, {\"date\": \"2021-07-15T00:00:00\", \"y_test\": 219.8000030517578, \"y_pred\": 226.68108660322454, \"label\": \"Actual\", \"predicted_label\": \"Predicted\"}, {\"date\": \"2021-07-16T00:00:00\", \"y_test\": 214.5500030517578, \"y_pred\": 219.86441803588755, \"label\": \"Actual\", \"predicted_label\": \"Predicted\"}, {\"date\": \"2021-07-19T00:00:00\", \"y_test\": 213.5, \"y_pred\": 218.45014859296887, \"label\": \"Actual\", \"predicted_label\": \"Predicted\"}, {\"date\": \"2021-07-20T00:00:00\", \"y_test\": 210.0, \"y_pred\": 218.29753094787532, \"label\": \"Actual\", \"predicted_label\": \"Predicted\"}, {\"date\": \"2021-07-22T00:00:00\", \"y_test\": 210.55000305175778, \"y_pred\": 215.19478178861476, \"label\": \"Actual\", \"predicted_label\": \"Predicted\"}, {\"date\": \"2021-07-23T00:00:00\", \"y_test\": 209.5, \"y_pred\": 214.9569675237126, \"label\": \"Actual\", \"predicted_label\": \"Predicted\"}, {\"date\": \"2021-07-26T00:00:00\", \"y_test\": 213.9499969482422, \"y_pred\": 213.08757130238897, \"label\": \"Actual\", \"predicted_label\": \"Predicted\"}, {\"date\": \"2021-07-27T00:00:00\", \"y_test\": 215.89999389648438, \"y_pred\": 219.71737077121523, \"label\": \"Actual\", \"predicted_label\": \"Predicted\"}, {\"date\": \"2021-07-28T00:00:00\", \"y_test\": 220.50000000000003, \"y_pred\": 218.07982873936774, \"label\": \"Actual\", \"predicted_label\": \"Predicted\"}, {\"date\": \"2021-07-29T00:00:00\", \"y_test\": 220.6499938964844, \"y_pred\": 223.40165074123925, \"label\": \"Actual\", \"predicted_label\": \"Predicted\"}, {\"date\": \"2021-07-30T00:00:00\", \"y_test\": 228.1999969482422, \"y_pred\": 225.42722289359014, \"label\": \"Actual\", \"predicted_label\": \"Predicted\"}, {\"date\": \"2021-08-02T00:00:00\", \"y_test\": 226.3000030517578, \"y_pred\": 226.94151977485785, \"label\": \"Actual\", \"predicted_label\": \"Predicted\"}, {\"date\": \"2021-08-03T00:00:00\", \"y_test\": 228.35000610351557, \"y_pred\": 232.35731529965446, \"label\": \"Actual\", \"predicted_label\": \"Predicted\"}, {\"date\": \"2021-08-04T00:00:00\", \"y_test\": 214.4499969482422, \"y_pred\": 221.2873828167175, \"label\": \"Actual\", \"predicted_label\": \"Predicted\"}, {\"date\": \"2021-08-05T00:00:00\", \"y_test\": 216.5, \"y_pred\": 209.13756088720964, \"label\": \"Actual\", \"predicted_label\": \"Predicted\"}, {\"date\": \"2021-08-06T00:00:00\", \"y_test\": 214.0, \"y_pred\": 217.7811945098189, \"label\": \"Actual\", \"predicted_label\": \"Predicted\"}, {\"date\": \"2021-08-09T00:00:00\", \"y_test\": 210.0, \"y_pred\": 212.74459356843408, \"label\": \"Actual\", \"predicted_label\": \"Predicted\"}, {\"date\": \"2021-08-10T00:00:00\", \"y_test\": 207.1999969482422, \"y_pred\": 213.63219755188572, \"label\": \"Actual\", \"predicted_label\": \"Predicted\"}, {\"date\": \"2021-08-11T00:00:00\", \"y_test\": 209.0, \"y_pred\": 207.57750312073512, \"label\": \"Actual\", \"predicted_label\": \"Predicted\"}, {\"date\": \"2021-08-12T00:00:00\", \"y_test\": 212.39999389648443, \"y_pred\": 212.31467028680842, \"label\": \"Actual\", \"predicted_label\": \"Predicted\"}, {\"date\": \"2021-08-13T00:00:00\", \"y_test\": 211.1499938964844, \"y_pred\": 216.6182785933825, \"label\": \"Actual\", \"predicted_label\": \"Predicted\"}, {\"date\": \"2021-08-16T00:00:00\", \"y_test\": 206.4499969482422, \"y_pred\": 213.2713615092078, \"label\": \"Actual\", \"predicted_label\": \"Predicted\"}, {\"date\": \"2021-08-17T00:00:00\", \"y_test\": 207.75, \"y_pred\": 208.85010150326437, \"label\": \"Actual\", \"predicted_label\": \"Predicted\"}, {\"date\": \"2021-08-18T00:00:00\", \"y_test\": 206.00000000000003, \"y_pred\": 212.61947768059886, \"label\": \"Actual\", \"predicted_label\": \"Predicted\"}, {\"date\": \"2021-08-20T00:00:00\", \"y_test\": 204.8500061035156, \"y_pred\": 212.39081012951945, \"label\": \"Actual\", \"predicted_label\": \"Predicted\"}, {\"date\": \"2021-08-23T00:00:00\", \"y_test\": 204.4499969482422, \"y_pred\": 208.37425655576374, \"label\": \"Actual\", \"predicted_label\": \"Predicted\"}, {\"date\": \"2021-08-24T00:00:00\", \"y_test\": 199.44999694824216, \"y_pred\": 202.56913224201733, \"label\": \"Actual\", \"predicted_label\": \"Predicted\"}, {\"date\": \"2021-08-25T00:00:00\", \"y_test\": 200.00000000000003, \"y_pred\": 202.75021559584317, \"label\": \"Actual\", \"predicted_label\": \"Predicted\"}, {\"date\": \"2021-08-26T00:00:00\", \"y_test\": 199.8999938964844, \"y_pred\": 202.58091054436434, \"label\": \"Actual\", \"predicted_label\": \"Predicted\"}, {\"date\": \"2021-08-27T00:00:00\", \"y_test\": 195.80000305175784, \"y_pred\": 198.8747415076217, \"label\": \"Actual\", \"predicted_label\": \"Predicted\"}, {\"date\": \"2021-08-30T00:00:00\", \"y_test\": 196.99999999999997, \"y_pred\": 198.98069740234862, \"label\": \"Actual\", \"predicted_label\": \"Predicted\"}, {\"date\": \"2021-08-31T00:00:00\", \"y_test\": 202.3500061035156, \"y_pred\": 200.4462870625068, \"label\": \"Actual\", \"predicted_label\": \"Predicted\"}, {\"date\": \"2021-09-01T00:00:00\", \"y_test\": 200.1999969482422, \"y_pred\": 202.37495624640985, \"label\": \"Actual\", \"predicted_label\": \"Predicted\"}, {\"date\": \"2021-09-02T00:00:00\", \"y_test\": 202.60000610351562, \"y_pred\": 203.4067169065103, \"label\": \"Actual\", \"predicted_label\": \"Predicted\"}, {\"date\": \"2021-09-03T00:00:00\", \"y_test\": 201.5, \"y_pred\": 202.8884908337086, \"label\": \"Actual\", \"predicted_label\": \"Predicted\"}, {\"date\": \"2021-09-06T00:00:00\", \"y_test\": 200.9499969482422, \"y_pred\": 205.06005002840146, \"label\": \"Actual\", \"predicted_label\": \"Predicted\"}, {\"date\": \"2021-09-07T00:00:00\", \"y_test\": 201.89999389648443, \"y_pred\": 203.94460378946377, \"label\": \"Actual\", \"predicted_label\": \"Predicted\"}, {\"date\": \"2021-09-08T00:00:00\", \"y_test\": 209.8999938964844, \"y_pred\": 203.98640988330007, \"label\": \"Actual\", \"predicted_label\": \"Predicted\"}, {\"date\": \"2021-09-09T00:00:00\", \"y_test\": 205.0, \"y_pred\": 209.30033600090243, \"label\": \"Actual\", \"predicted_label\": \"Predicted\"}, {\"date\": \"2021-09-13T00:00:00\", \"y_test\": 202.25, \"y_pred\": 207.77298488641935, \"label\": \"Actual\", \"predicted_label\": \"Predicted\"}, {\"date\": \"2021-09-14T00:00:00\", \"y_test\": 201.9499969482422, \"y_pred\": 205.90576330240154, \"label\": \"Actual\", \"predicted_label\": \"Predicted\"}, {\"date\": \"2021-09-15T00:00:00\", \"y_test\": 216.0, \"y_pred\": 205.01526266390067, \"label\": \"Actual\", \"predicted_label\": \"Predicted\"}, {\"date\": \"2021-09-16T00:00:00\", \"y_test\": 217.55000305175784, \"y_pred\": 223.15846011503191, \"label\": \"Actual\", \"predicted_label\": \"Predicted\"}, {\"date\": \"2021-09-17T00:00:00\", \"y_test\": 214.49999999999997, \"y_pred\": 220.25952021671162, \"label\": \"Actual\", \"predicted_label\": \"Predicted\"}, {\"date\": \"2021-09-20T00:00:00\", \"y_test\": 210.6000061035156, \"y_pred\": 219.81255731462824, \"label\": \"Actual\", \"predicted_label\": \"Predicted\"}, {\"date\": \"2021-09-21T00:00:00\", \"y_test\": 208.8999938964844, \"y_pred\": 208.90937204278634, \"label\": \"Actual\", \"predicted_label\": \"Predicted\"}, {\"date\": \"2021-09-22T00:00:00\", \"y_test\": 211.75, \"y_pred\": 209.93829256569842, \"label\": \"Actual\", \"predicted_label\": \"Predicted\"}, {\"date\": \"2021-09-23T00:00:00\", \"y_test\": 219.9499969482422, \"y_pred\": 214.87531071512896, \"label\": \"Actual\", \"predicted_label\": \"Predicted\"}, {\"date\": \"2021-09-24T00:00:00\", \"y_test\": 218.1499938964844, \"y_pred\": 221.99243461450305, \"label\": \"Actual\", \"predicted_label\": \"Predicted\"}, {\"date\": \"2021-09-27T00:00:00\", \"y_test\": 211.0, \"y_pred\": 212.8878237923413, \"label\": \"Actual\", \"predicted_label\": \"Predicted\"}, {\"date\": \"2021-09-28T00:00:00\", \"y_test\": 208.25000000000003, \"y_pred\": 214.8901689286469, \"label\": \"Actual\", \"predicted_label\": \"Predicted\"}, {\"date\": \"2021-09-29T00:00:00\", \"y_test\": 207.5500030517578, \"y_pred\": 209.781904766585, \"label\": \"Actual\", \"predicted_label\": \"Predicted\"}, {\"date\": \"2021-09-30T00:00:00\", \"y_test\": 206.3500061035156, \"y_pred\": 211.37130978930134, \"label\": \"Actual\", \"predicted_label\": \"Predicted\"}, {\"date\": \"2021-10-01T00:00:00\", \"y_test\": 204.8500061035156, \"y_pred\": 213.6590378153547, \"label\": \"Actual\", \"predicted_label\": \"Predicted\"}, {\"date\": \"2021-10-04T00:00:00\", \"y_test\": 206.25, \"y_pred\": 211.2940316259431, \"label\": \"Actual\", \"predicted_label\": \"Predicted\"}, {\"date\": \"2021-10-05T00:00:00\", \"y_test\": 208.3500061035156, \"y_pred\": 214.04390151782067, \"label\": \"Actual\", \"predicted_label\": \"Predicted\"}, {\"date\": \"2021-10-06T00:00:00\", \"y_test\": 207.0, \"y_pred\": 211.81986145271657, \"label\": \"Actual\", \"predicted_label\": \"Predicted\"}, {\"date\": \"2021-10-07T00:00:00\", \"y_test\": 205.0, \"y_pred\": 208.80946843554082, \"label\": \"Actual\", \"predicted_label\": \"Predicted\"}, {\"date\": \"2021-10-08T00:00:00\", \"y_test\": 203.39999389648438, \"y_pred\": 208.33933483922243, \"label\": \"Actual\", \"predicted_label\": \"Predicted\"}, {\"date\": \"2021-10-11T00:00:00\", \"y_test\": 205.94999694824222, \"y_pred\": 208.40415137670226, \"label\": \"Actual\", \"predicted_label\": \"Predicted\"}, {\"date\": \"2021-10-12T00:00:00\", \"y_test\": 204.1000061035156, \"y_pred\": 210.70190519294258, \"label\": \"Actual\", \"predicted_label\": \"Predicted\"}, {\"date\": \"2021-10-13T00:00:00\", \"y_test\": 205.80000305175784, \"y_pred\": 208.78963908772184, \"label\": \"Actual\", \"predicted_label\": \"Predicted\"}, {\"date\": \"2021-10-14T00:00:00\", \"y_test\": 207.35000610351557, \"y_pred\": 211.5666330238934, \"label\": \"Actual\", \"predicted_label\": \"Predicted\"}, {\"date\": \"2021-10-18T00:00:00\", \"y_test\": 207.19999694824222, \"y_pred\": 211.81705187604905, \"label\": \"Actual\", \"predicted_label\": \"Predicted\"}, {\"date\": \"2021-10-19T00:00:00\", \"y_test\": 204.1000061035156, \"y_pred\": 209.71533518904326, \"label\": \"Actual\", \"predicted_label\": \"Predicted\"}, {\"date\": \"2021-10-20T00:00:00\", \"y_test\": 202.8999938964844, \"y_pred\": 210.5074693590852, \"label\": \"Actual\", \"predicted_label\": \"Predicted\"}, {\"date\": \"2021-10-21T00:00:00\", \"y_test\": 202.24999999999997, \"y_pred\": 208.8398261784132, \"label\": \"Actual\", \"predicted_label\": \"Predicted\"}, {\"date\": \"2021-10-22T00:00:00\", \"y_test\": 203.9499969482422, \"y_pred\": 207.83021237764748, \"label\": \"Actual\", \"predicted_label\": \"Predicted\"}, {\"date\": \"2021-10-25T00:00:00\", \"y_test\": 204.8500061035156, \"y_pred\": 207.54156453969756, \"label\": \"Actual\", \"predicted_label\": \"Predicted\"}, {\"date\": \"2021-10-26T00:00:00\", \"y_test\": 199.1499938964844, \"y_pred\": 202.87967650068614, \"label\": \"Actual\", \"predicted_label\": \"Predicted\"}, {\"date\": \"2021-10-27T00:00:00\", \"y_test\": 201.6999969482422, \"y_pred\": 203.89448462201537, \"label\": \"Actual\", \"predicted_label\": \"Predicted\"}, {\"date\": \"2021-10-28T00:00:00\", \"y_test\": 200.8500061035156, \"y_pred\": 208.4123319160915, \"label\": \"Actual\", \"predicted_label\": \"Predicted\"}, {\"date\": \"2021-10-29T00:00:00\", \"y_test\": 200.55000305175784, \"y_pred\": 207.4463370465741, \"label\": \"Actual\", \"predicted_label\": \"Predicted\"}, {\"date\": \"2021-11-01T00:00:00\", \"y_test\": 201.50000000000003, \"y_pred\": 207.08030842831744, \"label\": \"Actual\", \"predicted_label\": \"Predicted\"}, {\"date\": \"2021-11-02T00:00:00\", \"y_test\": 201.64999389648443, \"y_pred\": 208.8199796068049, \"label\": \"Actual\", \"predicted_label\": \"Predicted\"}, {\"date\": \"2021-11-03T00:00:00\", \"y_test\": 203.25000000000003, \"y_pred\": 209.3697429993471, \"label\": \"Actual\", \"predicted_label\": \"Predicted\"}, {\"date\": \"2021-11-04T00:00:00\", \"y_test\": 204.94999694824216, \"y_pred\": 208.2215889919858, \"label\": \"Actual\", \"predicted_label\": \"Predicted\"}, {\"date\": \"2021-11-08T00:00:00\", \"y_test\": 205.6000061035156, \"y_pred\": 208.51438307559823, \"label\": \"Actual\", \"predicted_label\": \"Predicted\"}, {\"date\": \"2021-11-08T00:00:00\", \"y_test\": 205.60000610351562, \"y_pred\": 212.6581426614603, \"label\": \"Actual\", \"predicted_label\": \"Predicted\"}, {\"date\": \"2021-11-08T00:00:00\", \"y_test\": 205.60000610351562, \"y_pred\": 213.17747662276057, \"label\": \"Actual\", \"predicted_label\": \"Predicted\"}, {\"date\": \"2021-11-09T00:00:00\", \"y_test\": 228.0, \"y_pred\": 212.5899483219236, \"label\": \"Actual\", \"predicted_label\": \"Predicted\"}, {\"date\": \"2021-11-09T00:00:00\", \"y_test\": 228.00000000000003, \"y_pred\": 228.99705623830934, \"label\": \"Actual\", \"predicted_label\": \"Predicted\"}, {\"date\": \"2021-11-09T00:00:00\", \"y_test\": 228.00000000000003, \"y_pred\": 228.27911679459052, \"label\": \"Actual\", \"predicted_label\": \"Predicted\"}, {\"date\": \"2021-11-10T00:00:00\", \"y_test\": 223.00000000000003, \"y_pred\": 227.27525668446663, \"label\": \"Actual\", \"predicted_label\": \"Predicted\"}, {\"date\": \"2021-11-11T00:00:00\", \"y_test\": 222.3500061035156, \"y_pred\": 226.22177190107396, \"label\": \"Actual\", \"predicted_label\": \"Predicted\"}, {\"date\": \"2021-11-12T00:00:00\", \"y_test\": 216.0500030517578, \"y_pred\": 220.37330837083042, \"label\": \"Actual\", \"predicted_label\": \"Predicted\"}, {\"date\": \"2021-11-15T00:00:00\", \"y_test\": 226.0, \"y_pred\": 219.22209842582313, \"label\": \"Actual\", \"predicted_label\": \"Predicted\"}, {\"date\": \"2021-11-16T00:00:00\", \"y_test\": 224.50000000000003, \"y_pred\": 226.8285360391897, \"label\": \"Actual\", \"predicted_label\": \"Predicted\"}, {\"date\": \"2021-11-17T00:00:00\", \"y_test\": 215.3500061035156, \"y_pred\": 222.41930314682526, \"label\": \"Actual\", \"predicted_label\": \"Predicted\"}, {\"date\": \"2021-11-18T00:00:00\", \"y_test\": 215.1499938964844, \"y_pred\": 219.55316131366283, \"label\": \"Actual\", \"predicted_label\": \"Predicted\"}, {\"date\": \"2021-11-22T00:00:00\", \"y_test\": 217.9499969482422, \"y_pred\": 221.2494972436694, \"label\": \"Actual\", \"predicted_label\": \"Predicted\"}, {\"date\": \"2021-11-23T00:00:00\", \"y_test\": 233.6999969482422, \"y_pred\": 220.64054972319232, \"label\": \"Actual\", \"predicted_label\": \"Predicted\"}, {\"date\": \"2021-11-24T00:00:00\", \"y_test\": 273.70001220703125, \"y_pred\": 239.940110101679, \"label\": \"Actual\", \"predicted_label\": \"Predicted\"}, {\"date\": \"2021-11-24T00:00:00\", \"y_test\": 273.70001220703125, \"y_pred\": 280.28473621408517, \"label\": \"Actual\", \"predicted_label\": \"Predicted\"}, {\"date\": \"2021-11-24T00:00:00\", \"y_test\": 273.70001220703125, \"y_pred\": 279.99152573154635, \"label\": \"Actual\", \"predicted_label\": \"Predicted\"}, {\"date\": \"2021-11-24T00:00:00\", \"y_test\": 273.70001220703125, \"y_pred\": 279.56689010799386, \"label\": \"Actual\", \"predicted_label\": \"Predicted\"}, {\"date\": \"2021-11-24T00:00:00\", \"y_test\": 273.70001220703125, \"y_pred\": 280.2244377239558, \"label\": \"Actual\", \"predicted_label\": \"Predicted\"}, {\"date\": \"2021-11-24T00:00:00\", \"y_test\": 273.70001220703125, \"y_pred\": 280.29000206077893, \"label\": \"Actual\", \"predicted_label\": \"Predicted\"}, {\"date\": \"2021-11-24T00:00:00\", \"y_test\": 273.70001220703125, \"y_pred\": 282.02443581874996, \"label\": \"Actual\", \"predicted_label\": \"Predicted\"}, {\"date\": \"2021-11-24T00:00:00\", \"y_test\": 273.70001220703125, \"y_pred\": 282.32186188929865, \"label\": \"Actual\", \"predicted_label\": \"Predicted\"}, {\"date\": \"2021-11-24T00:00:00\", \"y_test\": 273.70001220703125, \"y_pred\": 282.2697254402977, \"label\": \"Actual\", \"predicted_label\": \"Predicted\"}, {\"date\": \"2021-11-24T00:00:00\", \"y_test\": 273.70001220703125, \"y_pred\": 282.2762927118035, \"label\": \"Actual\", \"predicted_label\": \"Predicted\"}, {\"date\": \"2021-11-25T00:00:00\", \"y_test\": 280.1000061035156, \"y_pred\": 282.24777573327043, \"label\": \"Actual\", \"predicted_label\": \"Predicted\"}, {\"date\": \"2021-11-26T00:00:00\", \"y_test\": 266.6000061035156, \"y_pred\": 279.54702826649634, \"label\": \"Actual\", \"predicted_label\": \"Predicted\"}, {\"date\": \"2021-11-29T00:00:00\", \"y_test\": 279.5, \"y_pred\": 272.4480976022764, \"label\": \"Actual\", \"predicted_label\": \"Predicted\"}, {\"date\": \"2021-11-30T00:00:00\", \"y_test\": 292.45001220703125, \"y_pred\": 284.5277342613517, \"label\": \"Actual\", \"predicted_label\": \"Predicted\"}, {\"date\": \"2021-12-01T00:00:00\", \"y_test\": 282.20001220703125, \"y_pred\": 288.9270972724778, \"label\": \"Actual\", \"predicted_label\": \"Predicted\"}, {\"date\": \"2021-12-02T00:00:00\", \"y_test\": 282.5, \"y_pred\": 289.55299623024695, \"label\": \"Actual\", \"predicted_label\": \"Predicted\"}, {\"date\": \"2021-12-03T00:00:00\", \"y_test\": 299.7000122070313, \"y_pred\": 284.96128954704056, \"label\": \"Actual\", \"predicted_label\": \"Predicted\"}, {\"date\": \"2021-12-06T00:00:00\", \"y_test\": 321.0, \"y_pred\": 309.936979031864, \"label\": \"Actual\", \"predicted_label\": \"Predicted\"}, {\"date\": \"2021-12-07T00:00:00\", \"y_test\": 315.0, \"y_pred\": 317.21713580445316, \"label\": \"Actual\", \"predicted_label\": \"Predicted\"}, {\"date\": \"2021-12-08T00:00:00\", \"y_test\": 311.0, \"y_pred\": 323.8780612025809, \"label\": \"Actual\", \"predicted_label\": \"Predicted\"}, {\"date\": \"2021-12-09T00:00:00\", \"y_test\": 311.1000061035156, \"y_pred\": 320.5796218581881, \"label\": \"Actual\", \"predicted_label\": \"Predicted\"}, {\"date\": \"2021-12-10T00:00:00\", \"y_test\": 315.3500061035156, \"y_pred\": 322.4237653277417, \"label\": \"Actual\", \"predicted_label\": \"Predicted\"}, {\"date\": \"2021-12-13T00:00:00\", \"y_test\": 315.3500061035157, \"y_pred\": 323.08450783845916, \"label\": \"Actual\", \"predicted_label\": \"Predicted\"}, {\"date\": \"2021-12-14T00:00:00\", \"y_test\": 315.0, \"y_pred\": 324.57604261469874, \"label\": \"Actual\", \"predicted_label\": \"Predicted\"}, {\"date\": \"2021-12-15T00:00:00\", \"y_test\": 326.1000061035156, \"y_pred\": 324.9845820913082, \"label\": \"Actual\", \"predicted_label\": \"Predicted\"}, {\"date\": \"2021-12-16T00:00:00\", \"y_test\": 346.99999999999994, \"y_pred\": 337.4739841983968, \"label\": \"Actual\", \"predicted_label\": \"Predicted\"}, {\"date\": \"2021-12-17T00:00:00\", \"y_test\": 309.6000061035156, \"y_pred\": 314.11862820805953, \"label\": \"Actual\", \"predicted_label\": \"Predicted\"}, {\"date\": \"2021-12-20T00:00:00\", \"y_test\": 283.29998779296875, \"y_pred\": 304.54568191213554, \"label\": \"Actual\", \"predicted_label\": \"Predicted\"}, {\"date\": \"2021-12-21T00:00:00\", \"y_test\": 289.0, \"y_pred\": 286.90664987104714, \"label\": \"Actual\", \"predicted_label\": \"Predicted\"}, {\"date\": \"2021-12-22T00:00:00\", \"y_test\": 287.5, \"y_pred\": 293.30390101790164, \"label\": \"Actual\", \"predicted_label\": \"Predicted\"}, {\"date\": \"2021-12-23T00:00:00\", \"y_test\": 307.95001220703125, \"y_pred\": 300.3861816246782, \"label\": \"Actual\", \"predicted_label\": \"Predicted\"}, {\"date\": \"2021-12-24T00:00:00\", \"y_test\": 301.20001220703125, \"y_pred\": 313.873177945584, \"label\": \"Actual\", \"predicted_label\": \"Predicted\"}, {\"date\": \"2021-12-27T00:00:00\", \"y_test\": 289.25, \"y_pred\": 302.61051844708675, \"label\": \"Actual\", \"predicted_label\": \"Predicted\"}, {\"date\": \"2021-12-28T00:00:00\", \"y_test\": 287.8500061035156, \"y_pred\": 297.68909189516546, \"label\": \"Actual\", \"predicted_label\": \"Predicted\"}, {\"date\": \"2021-12-29T00:00:00\", \"y_test\": 303.29998779296875, \"y_pred\": 299.2613946173907, \"label\": \"Actual\", \"predicted_label\": \"Predicted\"}, {\"date\": \"2021-12-30T00:00:00\", \"y_test\": 304.0, \"y_pred\": 312.8727325517505, \"label\": \"Actual\", \"predicted_label\": \"Predicted\"}, {\"date\": \"2021-12-31T00:00:00\", \"y_test\": 302.6000061035157, \"y_pred\": 314.0302659632376, \"label\": \"Actual\", \"predicted_label\": \"Predicted\"}, {\"date\": \"2022-01-03T00:00:00\", \"y_test\": 314.3500061035156, \"y_pred\": 316.148385321667, \"label\": \"Actual\", \"predicted_label\": \"Predicted\"}, {\"date\": \"2022-01-04T00:00:00\", \"y_test\": 314.95001220703125, \"y_pred\": 320.3989243277899, \"label\": \"Actual\", \"predicted_label\": \"Predicted\"}, {\"date\": \"2022-01-05T00:00:00\", \"y_test\": 319.70001220703125, \"y_pred\": 325.0897687411805, \"label\": \"Actual\", \"predicted_label\": \"Predicted\"}]}}, {\"mode\": \"vega-lite\"});\n",
       "</script>"
      ],
      "text/plain": [
       "alt.LayerChart(...)"
      ]
     },
     "execution_count": 47,
     "metadata": {},
     "output_type": "execute_result"
    }
   ],
   "source": [
    "import altair as alt\n",
    "\n",
    "alt.themes.enable('fivethirtyeight')\n",
    "\n",
    "predictions_df['date'] = pd.to_datetime(predictions_df['date'])\n",
    "\n",
    "predictions_df['label'] = 'Actual'\n",
    "predictions_df['predicted_label'] = 'Predicted'\n",
    "\n",
    "# Actual high price line\n",
    "line1 = alt.Chart(predictions_df).mark_line(strokeWidth=2).encode(\n",
    "    x='date:T',\n",
    "    y=alt.Y('y_test:Q', title='Price', scale=alt.Scale(zero=False)),\n",
    "    color=alt.Color('label:N', legend=alt.Legend(title=\"Line Type\")),\n",
    "    tooltip=['date', 'y_test', 'y_pred']\n",
    ")\n",
    "\n",
    "# Predicted high price line\n",
    "line2 = alt.Chart(predictions_df).mark_line(strokeWidth=1, strokeDash=[3, 3]).encode(\n",
    "    x='date:T',\n",
    "    y=alt.Y('y_pred:Q', title='', scale=alt.Scale(zero=False)),\n",
    "    color=alt.Color('predicted_label:N', legend=alt.Legend(title=\"Line Type\")),\n",
    "    tooltip=['date', 'y_test', 'y_pred']\n",
    ")\n",
    "\n",
    "# Combine the two lines\n",
    "chart = alt.layer(line1, line2).properties(\n",
    "    title='Actual vs Predicted High Prices',\n",
    "    width=650,\n",
    "    height=400\n",
    ").interactive()\n",
    "\n",
    "chart"
   ]
  },
  {
   "cell_type": "markdown",
   "id": "d2c47f8d",
   "metadata": {},
   "source": [
    "Repeat the process for the top 50 features without sentiment of ELGIEQUIP.BO"
   ]
  },
  {
   "cell_type": "code",
   "execution_count": 65,
   "id": "a0ea6323",
   "metadata": {},
   "outputs": [],
   "source": [
    "df_without_sentiment = df.drop(columns=['agg_polarity', 'agg_compound', 'topic_polarity', 'topic_compound', 'ticker_polarity', 'ticker_compound'])"
   ]
  },
  {
   "cell_type": "code",
   "execution_count": 66,
   "id": "89ef90cb",
   "metadata": {},
   "outputs": [],
   "source": [
    "df_without_sentiment = create_custom_target(df_without_sentiment)"
   ]
  },
  {
   "cell_type": "code",
   "execution_count": 67,
   "id": "036103bb",
   "metadata": {},
   "outputs": [],
   "source": [
    "# Drop cols with NaN values\n",
    "df_without_sentiment = df_without_sentiment.dropna(axis=1, how='all')\n",
    "df_without_sentiment.fillna(method='ffill', inplace=True)"
   ]
  },
  {
   "cell_type": "code",
   "execution_count": 68,
   "id": "813972a8",
   "metadata": {},
   "outputs": [],
   "source": [
    "combined_date_df = df_without_sentiment['date']\n",
    "train_date, test_date = train_test_split(combined_date_df, train_size=0.8, shuffle=False)\n",
    "dev_date, test_date = train_test_split(test_date, train_size=0.5, shuffle=False)"
   ]
  },
  {
   "cell_type": "code",
   "execution_count": 69,
   "id": "a6f7512d",
   "metadata": {},
   "outputs": [],
   "source": [
    "df_without_date = df_without_sentiment.drop(columns=[\"date\"])"
   ]
  },
  {
   "cell_type": "code",
   "execution_count": 70,
   "id": "a3e45327",
   "metadata": {},
   "outputs": [],
   "source": [
    "df_without_date.dropna(inplace=True)"
   ]
  },
  {
   "cell_type": "code",
   "execution_count": 71,
   "id": "b1ec0f23",
   "metadata": {},
   "outputs": [],
   "source": [
    "# do train/test split the data with shuffle = False\n",
    "train_data, test_data = train_test_split(df_without_date, train_size=0.8, shuffle=False)\n",
    "\n",
    "# convert timeseries to be used in supervise learning model\n",
    "X_train, y_train, indx_train = timeseries_to_supervise(train_data, window_size, 'ln_target')  \n",
    "\n",
    "# further split test set to have an hold out set to be used for backtesting\n",
    "dev_data, test_data = train_test_split(test_data, train_size=0.5, shuffle=False)\n",
    "\n",
    "# convert timeseries to be used in supervise learning model    \n",
    "X_test, y_test, indx_test = timeseries_to_supervise(dev_data, window_size, 'ln_target')  "
   ]
  },
  {
   "cell_type": "code",
   "execution_count": 72,
   "id": "ecaeea79",
   "metadata": {},
   "outputs": [],
   "source": [
    "selector = SelectKBest(score_func=f_regression, k=50)\n",
    "X_train_50 = selector.fit_transform(X_train, y_train)\n",
    "X_test_50 = selector.transform(X_test)"
   ]
  },
  {
   "cell_type": "code",
   "execution_count": 73,
   "id": "6905b440",
   "metadata": {},
   "outputs": [
    {
     "data": {
      "text/html": [
       "<style>#sk-container-id-3 {color: black;background-color: white;}#sk-container-id-3 pre{padding: 0;}#sk-container-id-3 div.sk-toggleable {background-color: white;}#sk-container-id-3 label.sk-toggleable__label {cursor: pointer;display: block;width: 100%;margin-bottom: 0;padding: 0.3em;box-sizing: border-box;text-align: center;}#sk-container-id-3 label.sk-toggleable__label-arrow:before {content: \"▸\";float: left;margin-right: 0.25em;color: #696969;}#sk-container-id-3 label.sk-toggleable__label-arrow:hover:before {color: black;}#sk-container-id-3 div.sk-estimator:hover label.sk-toggleable__label-arrow:before {color: black;}#sk-container-id-3 div.sk-toggleable__content {max-height: 0;max-width: 0;overflow: hidden;text-align: left;background-color: #f0f8ff;}#sk-container-id-3 div.sk-toggleable__content pre {margin: 0.2em;color: black;border-radius: 0.25em;background-color: #f0f8ff;}#sk-container-id-3 input.sk-toggleable__control:checked~div.sk-toggleable__content {max-height: 200px;max-width: 100%;overflow: auto;}#sk-container-id-3 input.sk-toggleable__control:checked~label.sk-toggleable__label-arrow:before {content: \"▾\";}#sk-container-id-3 div.sk-estimator input.sk-toggleable__control:checked~label.sk-toggleable__label {background-color: #d4ebff;}#sk-container-id-3 div.sk-label input.sk-toggleable__control:checked~label.sk-toggleable__label {background-color: #d4ebff;}#sk-container-id-3 input.sk-hidden--visually {border: 0;clip: rect(1px 1px 1px 1px);clip: rect(1px, 1px, 1px, 1px);height: 1px;margin: -1px;overflow: hidden;padding: 0;position: absolute;width: 1px;}#sk-container-id-3 div.sk-estimator {font-family: monospace;background-color: #f0f8ff;border: 1px dotted black;border-radius: 0.25em;box-sizing: border-box;margin-bottom: 0.5em;}#sk-container-id-3 div.sk-estimator:hover {background-color: #d4ebff;}#sk-container-id-3 div.sk-parallel-item::after {content: \"\";width: 100%;border-bottom: 1px solid gray;flex-grow: 1;}#sk-container-id-3 div.sk-label:hover label.sk-toggleable__label {background-color: #d4ebff;}#sk-container-id-3 div.sk-serial::before {content: \"\";position: absolute;border-left: 1px solid gray;box-sizing: border-box;top: 0;bottom: 0;left: 50%;z-index: 0;}#sk-container-id-3 div.sk-serial {display: flex;flex-direction: column;align-items: center;background-color: white;padding-right: 0.2em;padding-left: 0.2em;position: relative;}#sk-container-id-3 div.sk-item {position: relative;z-index: 1;}#sk-container-id-3 div.sk-parallel {display: flex;align-items: stretch;justify-content: center;background-color: white;position: relative;}#sk-container-id-3 div.sk-item::before, #sk-container-id-3 div.sk-parallel-item::before {content: \"\";position: absolute;border-left: 1px solid gray;box-sizing: border-box;top: 0;bottom: 0;left: 50%;z-index: -1;}#sk-container-id-3 div.sk-parallel-item {display: flex;flex-direction: column;z-index: 1;position: relative;background-color: white;}#sk-container-id-3 div.sk-parallel-item:first-child::after {align-self: flex-end;width: 50%;}#sk-container-id-3 div.sk-parallel-item:last-child::after {align-self: flex-start;width: 50%;}#sk-container-id-3 div.sk-parallel-item:only-child::after {width: 0;}#sk-container-id-3 div.sk-dashed-wrapped {border: 1px dashed gray;margin: 0 0.4em 0.5em 0.4em;box-sizing: border-box;padding-bottom: 0.4em;background-color: white;}#sk-container-id-3 div.sk-label label {font-family: monospace;font-weight: bold;display: inline-block;line-height: 1.2em;}#sk-container-id-3 div.sk-label-container {text-align: center;}#sk-container-id-3 div.sk-container {/* jupyter's `normalize.less` sets `[hidden] { display: none; }` but bootstrap.min.css set `[hidden] { display: none !important; }` so we also need the `!important` here to be able to override the default hidden behavior on the sphinx rendered scikit-learn.org. See: https://github.com/scikit-learn/scikit-learn/issues/21755 */display: inline-block !important;position: relative;}#sk-container-id-3 div.sk-text-repr-fallback {display: none;}</style><div id=\"sk-container-id-3\" class=\"sk-top-container\"><div class=\"sk-text-repr-fallback\"><pre>RandomForestRegressor(min_samples_leaf=2, n_estimators=200)</pre><b>In a Jupyter environment, please rerun this cell to show the HTML representation or trust the notebook. <br />On GitHub, the HTML representation is unable to render, please try loading this page with nbviewer.org.</b></div><div class=\"sk-container\" hidden><div class=\"sk-item\"><div class=\"sk-estimator sk-toggleable\"><input class=\"sk-toggleable__control sk-hidden--visually\" id=\"sk-estimator-id-3\" type=\"checkbox\" checked><label for=\"sk-estimator-id-3\" class=\"sk-toggleable__label sk-toggleable__label-arrow\">RandomForestRegressor</label><div class=\"sk-toggleable__content\"><pre>RandomForestRegressor(min_samples_leaf=2, n_estimators=200)</pre></div></div></div></div></div>"
      ],
      "text/plain": [
       "RandomForestRegressor(min_samples_leaf=2, n_estimators=200)"
      ]
     },
     "execution_count": 73,
     "metadata": {},
     "output_type": "execute_result"
    }
   ],
   "source": [
    "# Train the model on the top 50 features\n",
    "model_50 = RandomForestRegressor(\n",
    "    n_estimators=200,\n",
    "    min_samples_split=2,\n",
    "    min_samples_leaf=2,\n",
    "    bootstrap=True\n",
    ")\n",
    "model_50.fit(X_train_50, y_train)"
   ]
  },
  {
   "cell_type": "code",
   "execution_count": 74,
   "id": "e6a04322",
   "metadata": {},
   "outputs": [],
   "source": [
    "predictions_df, mape, rmse = evaluate_model(model_50, window_size, dev_data, dev_date, X_test_50, y_test)"
   ]
  },
  {
   "cell_type": "code",
   "execution_count": 75,
   "id": "c31e93b5",
   "metadata": {},
   "outputs": [
    {
     "data": {
      "text/plain": [
       "(           date      y_test      y_pred\n",
       " 0    2020-08-25  114.199997  118.635986\n",
       " 1    2020-08-26  113.900002  116.619891\n",
       " 2    2020-08-27  115.000000  117.524057\n",
       " 3    2020-08-28  115.675003  118.260606\n",
       " 4    2020-08-31  115.000000  118.167544\n",
       " ..          ...         ...         ...\n",
       " 360  2021-12-30  304.000000  311.141312\n",
       " 361  2021-12-31  302.600006  313.651776\n",
       " 362  2022-01-03  314.350006  314.137878\n",
       " 363  2022-01-04  314.950012  319.145061\n",
       " 364  2022-01-05  319.700012  324.344138\n",
       " \n",
       " [365 rows x 3 columns],\n",
       " 0.02428908505027105,\n",
       " 6.185062658208494)"
      ]
     },
     "execution_count": 75,
     "metadata": {},
     "output_type": "execute_result"
    }
   ],
   "source": [
    "predictions_df, mape, rmse"
   ]
  },
  {
   "cell_type": "code",
   "execution_count": 59,
   "id": "f6688fb1",
   "metadata": {},
   "outputs": [
    {
     "name": "stdout",
     "output_type": "stream",
     "text": [
      "MAPE for model with top 50 features without sentiment features: 2.52%\n"
     ]
    }
   ],
   "source": [
    "print(f\"MAPE for model with top 50 features without sentiment features: {mape*100:.2f}%\")"
   ]
  },
  {
   "cell_type": "code",
   "execution_count": 60,
   "id": "e95c4f9f",
   "metadata": {},
   "outputs": [
    {
     "data": {
      "text/html": [
       "\n",
       "<style>\n",
       "  #altair-viz-93e27777163d4a179c69b2fbfb7ea066.vega-embed {\n",
       "    width: 100%;\n",
       "    display: flex;\n",
       "  }\n",
       "\n",
       "  #altair-viz-93e27777163d4a179c69b2fbfb7ea066.vega-embed details,\n",
       "  #altair-viz-93e27777163d4a179c69b2fbfb7ea066.vega-embed details summary {\n",
       "    position: relative;\n",
       "  }\n",
       "</style>\n",
       "<div id=\"altair-viz-93e27777163d4a179c69b2fbfb7ea066\"></div>\n",
       "<script type=\"text/javascript\">\n",
       "  var VEGA_DEBUG = (typeof VEGA_DEBUG == \"undefined\") ? {} : VEGA_DEBUG;\n",
       "  (function(spec, embedOpt){\n",
       "    let outputDiv = document.currentScript.previousElementSibling;\n",
       "    if (outputDiv.id !== \"altair-viz-93e27777163d4a179c69b2fbfb7ea066\") {\n",
       "      outputDiv = document.getElementById(\"altair-viz-93e27777163d4a179c69b2fbfb7ea066\");\n",
       "    }\n",
       "    const paths = {\n",
       "      \"vega\": \"https://cdn.jsdelivr.net/npm/vega@5?noext\",\n",
       "      \"vega-lib\": \"https://cdn.jsdelivr.net/npm/vega-lib?noext\",\n",
       "      \"vega-lite\": \"https://cdn.jsdelivr.net/npm/vega-lite@5.8.0?noext\",\n",
       "      \"vega-embed\": \"https://cdn.jsdelivr.net/npm/vega-embed@6?noext\",\n",
       "    };\n",
       "\n",
       "    function maybeLoadScript(lib, version) {\n",
       "      var key = `${lib.replace(\"-\", \"\")}_version`;\n",
       "      return (VEGA_DEBUG[key] == version) ?\n",
       "        Promise.resolve(paths[lib]) :\n",
       "        new Promise(function(resolve, reject) {\n",
       "          var s = document.createElement('script');\n",
       "          document.getElementsByTagName(\"head\")[0].appendChild(s);\n",
       "          s.async = true;\n",
       "          s.onload = () => {\n",
       "            VEGA_DEBUG[key] = version;\n",
       "            return resolve(paths[lib]);\n",
       "          };\n",
       "          s.onerror = () => reject(`Error loading script: ${paths[lib]}`);\n",
       "          s.src = paths[lib];\n",
       "        });\n",
       "    }\n",
       "\n",
       "    function showError(err) {\n",
       "      outputDiv.innerHTML = `<div class=\"error\" style=\"color:red;\">${err}</div>`;\n",
       "      throw err;\n",
       "    }\n",
       "\n",
       "    function displayChart(vegaEmbed) {\n",
       "      vegaEmbed(outputDiv, spec, embedOpt)\n",
       "        .catch(err => showError(`Javascript Error: ${err.message}<br>This usually means there's a typo in your chart specification. See the javascript console for the full traceback.`));\n",
       "    }\n",
       "\n",
       "    if(typeof define === \"function\" && define.amd) {\n",
       "      requirejs.config({paths});\n",
       "      require([\"vega-embed\"], displayChart, err => showError(`Error loading script: ${err.message}`));\n",
       "    } else {\n",
       "      maybeLoadScript(\"vega\", \"5\")\n",
       "        .then(() => maybeLoadScript(\"vega-lite\", \"5.8.0\"))\n",
       "        .then(() => maybeLoadScript(\"vega-embed\", \"6\"))\n",
       "        .catch(showError)\n",
       "        .then(() => displayChart(vegaEmbed));\n",
       "    }\n",
       "  })({\"usermeta\": {\"embedOptions\": {\"theme\": \"fivethirtyeight\"}}, \"config\": {\"view\": {\"continuousWidth\": 300, \"continuousHeight\": 300}}, \"layer\": [{\"mark\": {\"type\": \"line\", \"strokeWidth\": 2}, \"encoding\": {\"color\": {\"field\": \"label\", \"legend\": {\"title\": \"Line Type\"}, \"type\": \"nominal\"}, \"tooltip\": [{\"field\": \"date\", \"type\": \"temporal\"}, {\"field\": \"y_test\", \"type\": \"quantitative\"}, {\"field\": \"y_pred\", \"type\": \"quantitative\"}], \"x\": {\"field\": \"date\", \"type\": \"temporal\"}, \"y\": {\"field\": \"y_test\", \"scale\": {\"zero\": false}, \"title\": \"Price\", \"type\": \"quantitative\"}}, \"name\": \"view_4\"}, {\"mark\": {\"type\": \"line\", \"strokeDash\": [3, 3], \"strokeWidth\": 1}, \"encoding\": {\"color\": {\"field\": \"predicted_label\", \"legend\": {\"title\": \"Line Type\"}, \"type\": \"nominal\"}, \"tooltip\": [{\"field\": \"date\", \"type\": \"temporal\"}, {\"field\": \"y_test\", \"type\": \"quantitative\"}, {\"field\": \"y_pred\", \"type\": \"quantitative\"}], \"x\": {\"field\": \"date\", \"type\": \"temporal\"}, \"y\": {\"field\": \"y_pred\", \"scale\": {\"zero\": false}, \"title\": \"\", \"type\": \"quantitative\"}}}], \"data\": {\"name\": \"data-009263089ac029341125e895ef03e234\"}, \"height\": 400, \"params\": [{\"name\": \"param_4\", \"select\": {\"type\": \"interval\", \"encodings\": [\"x\", \"y\"]}, \"bind\": \"scales\", \"views\": [\"view_4\"]}], \"title\": \"Actual vs Predicted High Prices\", \"width\": 650, \"$schema\": \"https://vega.github.io/schema/vega-lite/v5.8.0.json\", \"datasets\": {\"data-009263089ac029341125e895ef03e234\": [{\"date\": \"2020-08-25T00:00:00\", \"y_test\": 114.1999969482422, \"y_pred\": 118.90175588508423, \"label\": \"Actual\", \"predicted_label\": \"Predicted\"}, {\"date\": \"2020-08-26T00:00:00\", \"y_test\": 113.90000152587892, \"y_pred\": 116.73851530708991, \"label\": \"Actual\", \"predicted_label\": \"Predicted\"}, {\"date\": \"2020-08-27T00:00:00\", \"y_test\": 114.99999999999999, \"y_pred\": 117.82152543423557, \"label\": \"Actual\", \"predicted_label\": \"Predicted\"}, {\"date\": \"2020-08-28T00:00:00\", \"y_test\": 115.6750030517578, \"y_pred\": 118.69497838455622, \"label\": \"Actual\", \"predicted_label\": \"Predicted\"}, {\"date\": \"2020-08-31T00:00:00\", \"y_test\": 115.0, \"y_pred\": 118.40330081428992, \"label\": \"Actual\", \"predicted_label\": \"Predicted\"}, {\"date\": \"2020-09-01T00:00:00\", \"y_test\": 111.92500305175778, \"y_pred\": 114.65329310535199, \"label\": \"Actual\", \"predicted_label\": \"Predicted\"}, {\"date\": \"2020-09-02T00:00:00\", \"y_test\": 112.4499969482422, \"y_pred\": 114.64216294105823, \"label\": \"Actual\", \"predicted_label\": \"Predicted\"}, {\"date\": \"2020-09-03T00:00:00\", \"y_test\": 114.0, \"y_pred\": 114.4093974843306, \"label\": \"Actual\", \"predicted_label\": \"Predicted\"}, {\"date\": \"2020-09-04T00:00:00\", \"y_test\": 111.4749984741211, \"y_pred\": 116.13744047709842, \"label\": \"Actual\", \"predicted_label\": \"Predicted\"}, {\"date\": \"2020-09-07T00:00:00\", \"y_test\": 109.5500030517578, \"y_pred\": 112.87030291775356, \"label\": \"Actual\", \"predicted_label\": \"Predicted\"}, {\"date\": \"2020-09-08T00:00:00\", \"y_test\": 110.9000015258789, \"y_pred\": 112.13054660277028, \"label\": \"Actual\", \"predicted_label\": \"Predicted\"}, {\"date\": \"2020-09-09T00:00:00\", \"y_test\": 108.3249969482422, \"y_pred\": 112.39419421022582, \"label\": \"Actual\", \"predicted_label\": \"Predicted\"}, {\"date\": \"2020-09-10T00:00:00\", \"y_test\": 110.875, \"y_pred\": 110.615155059643, \"label\": \"Actual\", \"predicted_label\": \"Predicted\"}, {\"date\": \"2020-09-11T00:00:00\", \"y_test\": 115.50000000000001, \"y_pred\": 113.3596706819741, \"label\": \"Actual\", \"predicted_label\": \"Predicted\"}, {\"date\": \"2020-09-14T00:00:00\", \"y_test\": 118.67500305175778, \"y_pred\": 116.08686959917891, \"label\": \"Actual\", \"predicted_label\": \"Predicted\"}, {\"date\": \"2020-09-15T00:00:00\", \"y_test\": 118.8000030517578, \"y_pred\": 120.33455225555173, \"label\": \"Actual\", \"predicted_label\": \"Predicted\"}, {\"date\": \"2020-09-16T00:00:00\", \"y_test\": 120.82499694824219, \"y_pred\": 120.9326438265072, \"label\": \"Actual\", \"predicted_label\": \"Predicted\"}, {\"date\": \"2020-09-17T00:00:00\", \"y_test\": 120.0, \"y_pred\": 122.46072149803625, \"label\": \"Actual\", \"predicted_label\": \"Predicted\"}, {\"date\": \"2020-09-18T00:00:00\", \"y_test\": 120.27500152587889, \"y_pred\": 123.16848134523309, \"label\": \"Actual\", \"predicted_label\": \"Predicted\"}, {\"date\": \"2020-09-21T00:00:00\", \"y_test\": 128.72500610351562, \"y_pred\": 123.53931764258195, \"label\": \"Actual\", \"predicted_label\": \"Predicted\"}, {\"date\": \"2020-09-22T00:00:00\", \"y_test\": 129.0749969482422, \"y_pred\": 129.40167480687225, \"label\": \"Actual\", \"predicted_label\": \"Predicted\"}, {\"date\": \"2020-09-23T00:00:00\", \"y_test\": 127.4749984741211, \"y_pred\": 126.67221395102447, \"label\": \"Actual\", \"predicted_label\": \"Predicted\"}, {\"date\": \"2020-09-24T00:00:00\", \"y_test\": 134.0500030517578, \"y_pred\": 126.3067609926221, \"label\": \"Actual\", \"predicted_label\": \"Predicted\"}, {\"date\": \"2020-09-25T00:00:00\", \"y_test\": 128.9499969482422, \"y_pred\": 128.62809572014947, \"label\": \"Actual\", \"predicted_label\": \"Predicted\"}, {\"date\": \"2020-09-28T00:00:00\", \"y_test\": 125.3000030517578, \"y_pred\": 127.98522574842242, \"label\": \"Actual\", \"predicted_label\": \"Predicted\"}, {\"date\": \"2020-09-29T00:00:00\", \"y_test\": 127.0, \"y_pred\": 125.56512824474203, \"label\": \"Actual\", \"predicted_label\": \"Predicted\"}, {\"date\": \"2020-09-30T00:00:00\", \"y_test\": 121.9000015258789, \"y_pred\": 122.7077998022194, \"label\": \"Actual\", \"predicted_label\": \"Predicted\"}, {\"date\": \"2020-10-01T00:00:00\", \"y_test\": 121.9000015258789, \"y_pred\": 125.43009891123376, \"label\": \"Actual\", \"predicted_label\": \"Predicted\"}, {\"date\": \"2020-10-05T00:00:00\", \"y_test\": 122.99999999999999, \"y_pred\": 123.63681716683277, \"label\": \"Actual\", \"predicted_label\": \"Predicted\"}, {\"date\": \"2020-10-06T00:00:00\", \"y_test\": 123.84999847412111, \"y_pred\": 124.69032335285341, \"label\": \"Actual\", \"predicted_label\": \"Predicted\"}, {\"date\": \"2020-10-07T00:00:00\", \"y_test\": 121.4000015258789, \"y_pred\": 122.09227961060445, \"label\": \"Actual\", \"predicted_label\": \"Predicted\"}, {\"date\": \"2020-10-08T00:00:00\", \"y_test\": 120.5, \"y_pred\": 125.30953283569548, \"label\": \"Actual\", \"predicted_label\": \"Predicted\"}, {\"date\": \"2020-10-09T00:00:00\", \"y_test\": 117.9000015258789, \"y_pred\": 122.85267648226899, \"label\": \"Actual\", \"predicted_label\": \"Predicted\"}, {\"date\": \"2020-10-12T00:00:00\", \"y_test\": 116.0, \"y_pred\": 117.73420547373257, \"label\": \"Actual\", \"predicted_label\": \"Predicted\"}, {\"date\": \"2020-10-13T00:00:00\", \"y_test\": 113.25, \"y_pred\": 111.69366699087419, \"label\": \"Actual\", \"predicted_label\": \"Predicted\"}, {\"date\": \"2020-10-14T00:00:00\", \"y_test\": 119.9000015258789, \"y_pred\": 116.62330402232853, \"label\": \"Actual\", \"predicted_label\": \"Predicted\"}, {\"date\": \"2020-10-15T00:00:00\", \"y_test\": 111.5, \"y_pred\": 116.2641937079052, \"label\": \"Actual\", \"predicted_label\": \"Predicted\"}, {\"date\": \"2020-10-16T00:00:00\", \"y_test\": 111.5, \"y_pred\": 111.42967459202734, \"label\": \"Actual\", \"predicted_label\": \"Predicted\"}, {\"date\": \"2020-10-19T00:00:00\", \"y_test\": 113.5, \"y_pred\": 114.10500343385719, \"label\": \"Actual\", \"predicted_label\": \"Predicted\"}, {\"date\": \"2020-10-20T00:00:00\", \"y_test\": 112.05000305175778, \"y_pred\": 115.66361729035711, \"label\": \"Actual\", \"predicted_label\": \"Predicted\"}, {\"date\": \"2020-10-21T00:00:00\", \"y_test\": 111.8499984741211, \"y_pred\": 113.36393679611882, \"label\": \"Actual\", \"predicted_label\": \"Predicted\"}, {\"date\": \"2020-10-22T00:00:00\", \"y_test\": 111.80000305175778, \"y_pred\": 115.69858513916044, \"label\": \"Actual\", \"predicted_label\": \"Predicted\"}, {\"date\": \"2020-10-23T00:00:00\", \"y_test\": 111.5500030517578, \"y_pred\": 113.37405905154331, \"label\": \"Actual\", \"predicted_label\": \"Predicted\"}, {\"date\": \"2020-10-26T00:00:00\", \"y_test\": 111.5500030517578, \"y_pred\": 114.30446624676044, \"label\": \"Actual\", \"predicted_label\": \"Predicted\"}, {\"date\": \"2020-10-27T00:00:00\", \"y_test\": 108.0, \"y_pred\": 112.67774611251214, \"label\": \"Actual\", \"predicted_label\": \"Predicted\"}, {\"date\": \"2020-10-28T00:00:00\", \"y_test\": 108.3000030517578, \"y_pred\": 108.62738684863798, \"label\": \"Actual\", \"predicted_label\": \"Predicted\"}, {\"date\": \"2020-10-29T00:00:00\", \"y_test\": 106.5999984741211, \"y_pred\": 108.51466727879348, \"label\": \"Actual\", \"predicted_label\": \"Predicted\"}, {\"date\": \"2020-10-30T00:00:00\", \"y_test\": 106.50000000000001, \"y_pred\": 107.41245007217442, \"label\": \"Actual\", \"predicted_label\": \"Predicted\"}, {\"date\": \"2020-11-02T00:00:00\", \"y_test\": 108.09999847412108, \"y_pred\": 107.034435618695, \"label\": \"Actual\", \"predicted_label\": \"Predicted\"}, {\"date\": \"2020-11-03T00:00:00\", \"y_test\": 109.3000030517578, \"y_pred\": 109.82299695706962, \"label\": \"Actual\", \"predicted_label\": \"Predicted\"}, {\"date\": \"2020-11-04T00:00:00\", \"y_test\": 109.99999999999999, \"y_pred\": 111.26303083349055, \"label\": \"Actual\", \"predicted_label\": \"Predicted\"}, {\"date\": \"2020-11-05T00:00:00\", \"y_test\": 108.8499984741211, \"y_pred\": 110.52988656593048, \"label\": \"Actual\", \"predicted_label\": \"Predicted\"}, {\"date\": \"2020-11-06T00:00:00\", \"y_test\": 108.65000152587892, \"y_pred\": 110.98767151031063, \"label\": \"Actual\", \"predicted_label\": \"Predicted\"}, {\"date\": \"2020-11-09T00:00:00\", \"y_test\": 124.59999847412108, \"y_pred\": 110.70471719503308, \"label\": \"Actual\", \"predicted_label\": \"Predicted\"}, {\"date\": \"2020-11-10T00:00:00\", \"y_test\": 123.25, \"y_pred\": 123.70456255137857, \"label\": \"Actual\", \"predicted_label\": \"Predicted\"}, {\"date\": \"2020-11-11T00:00:00\", \"y_test\": 125.00000000000001, \"y_pred\": 126.42802435483412, \"label\": \"Actual\", \"predicted_label\": \"Predicted\"}, {\"date\": \"2020-11-12T00:00:00\", \"y_test\": 122.1999969482422, \"y_pred\": 126.6546588891141, \"label\": \"Actual\", \"predicted_label\": \"Predicted\"}, {\"date\": \"2020-11-13T00:00:00\", \"y_test\": 124.80000305175778, \"y_pred\": 121.6469897481346, \"label\": \"Actual\", \"predicted_label\": \"Predicted\"}, {\"date\": \"2020-11-14T00:00:00\", \"y_test\": 124.6999969482422, \"y_pred\": 121.56676680432835, \"label\": \"Actual\", \"predicted_label\": \"Predicted\"}, {\"date\": \"2020-11-17T00:00:00\", \"y_test\": 122.0, \"y_pred\": 124.83221376012266, \"label\": \"Actual\", \"predicted_label\": \"Predicted\"}, {\"date\": \"2020-11-18T00:00:00\", \"y_test\": 120.9000015258789, \"y_pred\": 121.49211626390509, \"label\": \"Actual\", \"predicted_label\": \"Predicted\"}, {\"date\": \"2020-11-19T00:00:00\", \"y_test\": 130.60000610351562, \"y_pred\": 123.85401299102375, \"label\": \"Actual\", \"predicted_label\": \"Predicted\"}, {\"date\": \"2020-11-20T00:00:00\", \"y_test\": 128.89999389648438, \"y_pred\": 130.37627292015546, \"label\": \"Actual\", \"predicted_label\": \"Predicted\"}, {\"date\": \"2020-11-23T00:00:00\", \"y_test\": 128.5, \"y_pred\": 131.48058476904353, \"label\": \"Actual\", \"predicted_label\": \"Predicted\"}, {\"date\": \"2020-11-24T00:00:00\", \"y_test\": 137.5, \"y_pred\": 132.23654759212155, \"label\": \"Actual\", \"predicted_label\": \"Predicted\"}, {\"date\": \"2020-11-25T00:00:00\", \"y_test\": 137.9499969482422, \"y_pred\": 139.0846693123163, \"label\": \"Actual\", \"predicted_label\": \"Predicted\"}, {\"date\": \"2020-11-26T00:00:00\", \"y_test\": 134.8000030517578, \"y_pred\": 136.45447881303727, \"label\": \"Actual\", \"predicted_label\": \"Predicted\"}, {\"date\": \"2020-11-27T00:00:00\", \"y_test\": 135.0, \"y_pred\": 137.67199954684398, \"label\": \"Actual\", \"predicted_label\": \"Predicted\"}, {\"date\": \"2020-12-01T00:00:00\", \"y_test\": 135.60000610351562, \"y_pred\": 139.95575535101688, \"label\": \"Actual\", \"predicted_label\": \"Predicted\"}, {\"date\": \"2020-12-02T00:00:00\", \"y_test\": 135.64999389648438, \"y_pred\": 141.14831988007856, \"label\": \"Actual\", \"predicted_label\": \"Predicted\"}, {\"date\": \"2020-12-03T00:00:00\", \"y_test\": 136.0, \"y_pred\": 141.08546072736758, \"label\": \"Actual\", \"predicted_label\": \"Predicted\"}, {\"date\": \"2020-12-04T00:00:00\", \"y_test\": 135.5, \"y_pred\": 139.48861658793385, \"label\": \"Actual\", \"predicted_label\": \"Predicted\"}, {\"date\": \"2020-12-07T00:00:00\", \"y_test\": 137.0, \"y_pred\": 141.05887272237882, \"label\": \"Actual\", \"predicted_label\": \"Predicted\"}, {\"date\": \"2020-12-08T00:00:00\", \"y_test\": 137.0, \"y_pred\": 141.39505759017032, \"label\": \"Actual\", \"predicted_label\": \"Predicted\"}, {\"date\": \"2020-12-09T00:00:00\", \"y_test\": 155.25, \"y_pred\": 139.98319980183385, \"label\": \"Actual\", \"predicted_label\": \"Predicted\"}, {\"date\": \"2020-12-10T00:00:00\", \"y_test\": 151.5500030517578, \"y_pred\": 154.2214427101827, \"label\": \"Actual\", \"predicted_label\": \"Predicted\"}, {\"date\": \"2020-12-11T00:00:00\", \"y_test\": 158.14999389648438, \"y_pred\": 152.24669685551254, \"label\": \"Actual\", \"predicted_label\": \"Predicted\"}, {\"date\": \"2020-12-14T00:00:00\", \"y_test\": 169.0, \"y_pred\": 162.22376262859854, \"label\": \"Actual\", \"predicted_label\": \"Predicted\"}, {\"date\": \"2020-12-15T00:00:00\", \"y_test\": 162.4499969482422, \"y_pred\": 169.2966257214385, \"label\": \"Actual\", \"predicted_label\": \"Predicted\"}, {\"date\": \"2020-12-16T00:00:00\", \"y_test\": 161.85000610351562, \"y_pred\": 164.60221238663058, \"label\": \"Actual\", \"predicted_label\": \"Predicted\"}, {\"date\": \"2020-12-17T00:00:00\", \"y_test\": 160.89999389648438, \"y_pred\": 165.99546344775155, \"label\": \"Actual\", \"predicted_label\": \"Predicted\"}, {\"date\": \"2020-12-18T00:00:00\", \"y_test\": 160.25, \"y_pred\": 165.01192560440066, \"label\": \"Actual\", \"predicted_label\": \"Predicted\"}, {\"date\": \"2020-12-21T00:00:00\", \"y_test\": 160.00000000000003, \"y_pred\": 161.78523074708386, \"label\": \"Actual\", \"predicted_label\": \"Predicted\"}, {\"date\": \"2020-12-22T00:00:00\", \"y_test\": 153.89999389648438, \"y_pred\": 160.38911814791805, \"label\": \"Actual\", \"predicted_label\": \"Predicted\"}, {\"date\": \"2020-12-23T00:00:00\", \"y_test\": 158.0, \"y_pred\": 159.42334853730077, \"label\": \"Actual\", \"predicted_label\": \"Predicted\"}, {\"date\": \"2020-12-24T00:00:00\", \"y_test\": 159.99999999999997, \"y_pred\": 164.0111968943076, \"label\": \"Actual\", \"predicted_label\": \"Predicted\"}, {\"date\": \"2020-12-28T00:00:00\", \"y_test\": 160.35000610351562, \"y_pred\": 165.24249969477296, \"label\": \"Actual\", \"predicted_label\": \"Predicted\"}, {\"date\": \"2020-12-29T00:00:00\", \"y_test\": 160.64999389648438, \"y_pred\": 166.34314455718422, \"label\": \"Actual\", \"predicted_label\": \"Predicted\"}, {\"date\": \"2020-12-30T00:00:00\", \"y_test\": 157.39999389648438, \"y_pred\": 163.01216339311756, \"label\": \"Actual\", \"predicted_label\": \"Predicted\"}, {\"date\": \"2020-12-31T00:00:00\", \"y_test\": 156.10000610351562, \"y_pred\": 161.03999337131924, \"label\": \"Actual\", \"predicted_label\": \"Predicted\"}, {\"date\": \"2021-01-01T00:00:00\", \"y_test\": 164.0, \"y_pred\": 159.41027900535906, \"label\": \"Actual\", \"predicted_label\": \"Predicted\"}, {\"date\": \"2021-01-04T00:00:00\", \"y_test\": 160.0, \"y_pred\": 166.12478238461006, \"label\": \"Actual\", \"predicted_label\": \"Predicted\"}, {\"date\": \"2021-01-05T00:00:00\", \"y_test\": 160.14999389648438, \"y_pred\": 165.48555646563034, \"label\": \"Actual\", \"predicted_label\": \"Predicted\"}, {\"date\": \"2021-01-06T00:00:00\", \"y_test\": 160.0500030517578, \"y_pred\": 163.99259765936858, \"label\": \"Actual\", \"predicted_label\": \"Predicted\"}, {\"date\": \"2021-01-07T00:00:00\", \"y_test\": 160.85000610351562, \"y_pred\": 164.31157215347073, \"label\": \"Actual\", \"predicted_label\": \"Predicted\"}, {\"date\": \"2021-01-08T00:00:00\", \"y_test\": 183.25000000000003, \"y_pred\": 164.95405831322978, \"label\": \"Actual\", \"predicted_label\": \"Predicted\"}, {\"date\": \"2021-01-11T00:00:00\", \"y_test\": 193.80000305175784, \"y_pred\": 186.73187229325353, \"label\": \"Actual\", \"predicted_label\": \"Predicted\"}, {\"date\": \"2021-01-12T00:00:00\", \"y_test\": 181.1000061035156, \"y_pred\": 186.00336506427465, \"label\": \"Actual\", \"predicted_label\": \"Predicted\"}, {\"date\": \"2021-01-13T00:00:00\", \"y_test\": 179.5, \"y_pred\": 181.96197230493652, \"label\": \"Actual\", \"predicted_label\": \"Predicted\"}, {\"date\": \"2021-01-14T00:00:00\", \"y_test\": 175.14999389648438, \"y_pred\": 181.3343205856749, \"label\": \"Actual\", \"predicted_label\": \"Predicted\"}, {\"date\": \"2021-01-15T00:00:00\", \"y_test\": 170.60000610351562, \"y_pred\": 175.11578923755854, \"label\": \"Actual\", \"predicted_label\": \"Predicted\"}, {\"date\": \"2021-01-18T00:00:00\", \"y_test\": 169.8500061035156, \"y_pred\": 171.50589876370987, \"label\": \"Actual\", \"predicted_label\": \"Predicted\"}, {\"date\": \"2021-01-19T00:00:00\", \"y_test\": 166.25, \"y_pred\": 168.75074386675138, \"label\": \"Actual\", \"predicted_label\": \"Predicted\"}, {\"date\": \"2021-01-20T00:00:00\", \"y_test\": 166.0, \"y_pred\": 171.16046272794043, \"label\": \"Actual\", \"predicted_label\": \"Predicted\"}, {\"date\": \"2021-01-21T00:00:00\", \"y_test\": 165.0, \"y_pred\": 167.62366087289163, \"label\": \"Actual\", \"predicted_label\": \"Predicted\"}, {\"date\": \"2021-01-22T00:00:00\", \"y_test\": 166.1999969482422, \"y_pred\": 169.31410209661058, \"label\": \"Actual\", \"predicted_label\": \"Predicted\"}, {\"date\": \"2021-01-25T00:00:00\", \"y_test\": 162.60000610351562, \"y_pred\": 166.62291476074157, \"label\": \"Actual\", \"predicted_label\": \"Predicted\"}, {\"date\": \"2021-01-27T00:00:00\", \"y_test\": 156.0, \"y_pred\": 162.4561950989474, \"label\": \"Actual\", \"predicted_label\": \"Predicted\"}, {\"date\": \"2021-01-28T00:00:00\", \"y_test\": 164.0, \"y_pred\": 158.40982127649764, \"label\": \"Actual\", \"predicted_label\": \"Predicted\"}, {\"date\": \"2021-01-29T00:00:00\", \"y_test\": 160.94999694824216, \"y_pred\": 163.3337935696942, \"label\": \"Actual\", \"predicted_label\": \"Predicted\"}, {\"date\": \"2021-02-01T00:00:00\", \"y_test\": 161.60000610351562, \"y_pred\": 164.78028398880454, \"label\": \"Actual\", \"predicted_label\": \"Predicted\"}, {\"date\": \"2021-02-02T00:00:00\", \"y_test\": 165.39999389648438, \"y_pred\": 168.79646649684193, \"label\": \"Actual\", \"predicted_label\": \"Predicted\"}, {\"date\": \"2021-02-03T00:00:00\", \"y_test\": 166.4499969482422, \"y_pred\": 170.7840665158469, \"label\": \"Actual\", \"predicted_label\": \"Predicted\"}, {\"date\": \"2021-02-04T00:00:00\", \"y_test\": 166.50000000000003, \"y_pred\": 170.6682524259686, \"label\": \"Actual\", \"predicted_label\": \"Predicted\"}, {\"date\": \"2021-02-05T00:00:00\", \"y_test\": 166.4499969482422, \"y_pred\": 173.8795744144668, \"label\": \"Actual\", \"predicted_label\": \"Predicted\"}, {\"date\": \"2021-02-08T00:00:00\", \"y_test\": 176.64999389648438, \"y_pred\": 172.31365028325214, \"label\": \"Actual\", \"predicted_label\": \"Predicted\"}, {\"date\": \"2021-02-09T00:00:00\", \"y_test\": 181.3999938964844, \"y_pred\": 177.68514110500317, \"label\": \"Actual\", \"predicted_label\": \"Predicted\"}, {\"date\": \"2021-02-10T00:00:00\", \"y_test\": 178.0, \"y_pred\": 182.36629195667396, \"label\": \"Actual\", \"predicted_label\": \"Predicted\"}, {\"date\": \"2021-02-11T00:00:00\", \"y_test\": 173.9499969482422, \"y_pred\": 177.2448362410423, \"label\": \"Actual\", \"predicted_label\": \"Predicted\"}, {\"date\": \"2021-02-12T00:00:00\", \"y_test\": 170.14999389648438, \"y_pred\": 173.8338403298893, \"label\": \"Actual\", \"predicted_label\": \"Predicted\"}, {\"date\": \"2021-02-15T00:00:00\", \"y_test\": 173.24999999999997, \"y_pred\": 174.7707670773671, \"label\": \"Actual\", \"predicted_label\": \"Predicted\"}, {\"date\": \"2021-02-16T00:00:00\", \"y_test\": 170.6999969482422, \"y_pred\": 170.56204336401348, \"label\": \"Actual\", \"predicted_label\": \"Predicted\"}, {\"date\": \"2021-02-17T00:00:00\", \"y_test\": 175.4499969482422, \"y_pred\": 172.63567130417155, \"label\": \"Actual\", \"predicted_label\": \"Predicted\"}, {\"date\": \"2021-02-18T00:00:00\", \"y_test\": 172.9499969482422, \"y_pred\": 176.90608081773664, \"label\": \"Actual\", \"predicted_label\": \"Predicted\"}, {\"date\": \"2021-02-19T00:00:00\", \"y_test\": 168.4499969482422, \"y_pred\": 174.25913114816007, \"label\": \"Actual\", \"predicted_label\": \"Predicted\"}, {\"date\": \"2021-02-22T00:00:00\", \"y_test\": 163.9499969482422, \"y_pred\": 170.29108818155925, \"label\": \"Actual\", \"predicted_label\": \"Predicted\"}, {\"date\": \"2021-02-23T00:00:00\", \"y_test\": 163.60000610351565, \"y_pred\": 167.72848336985732, \"label\": \"Actual\", \"predicted_label\": \"Predicted\"}, {\"date\": \"2021-02-24T00:00:00\", \"y_test\": 168.99999999999997, \"y_pred\": 168.11362352662158, \"label\": \"Actual\", \"predicted_label\": \"Predicted\"}, {\"date\": \"2021-02-25T00:00:00\", \"y_test\": 183.00000000000003, \"y_pred\": 172.9536536360492, \"label\": \"Actual\", \"predicted_label\": \"Predicted\"}, {\"date\": \"2021-02-26T00:00:00\", \"y_test\": 192.3000030517578, \"y_pred\": 186.26368156901245, \"label\": \"Actual\", \"predicted_label\": \"Predicted\"}, {\"date\": \"2021-03-01T00:00:00\", \"y_test\": 187.60000610351557, \"y_pred\": 189.7675671355855, \"label\": \"Actual\", \"predicted_label\": \"Predicted\"}, {\"date\": \"2021-03-02T00:00:00\", \"y_test\": 185.8500061035156, \"y_pred\": 192.67731948108872, \"label\": \"Actual\", \"predicted_label\": \"Predicted\"}, {\"date\": \"2021-03-03T00:00:00\", \"y_test\": 185.0, \"y_pred\": 188.65668983843048, \"label\": \"Actual\", \"predicted_label\": \"Predicted\"}, {\"date\": \"2021-03-04T00:00:00\", \"y_test\": 186.69999694824222, \"y_pred\": 187.03174874050237, \"label\": \"Actual\", \"predicted_label\": \"Predicted\"}, {\"date\": \"2021-03-05T00:00:00\", \"y_test\": 187.75, \"y_pred\": 188.1580133743806, \"label\": \"Actual\", \"predicted_label\": \"Predicted\"}, {\"date\": \"2021-03-08T00:00:00\", \"y_test\": 201.75000000000003, \"y_pred\": 192.7418988846078, \"label\": \"Actual\", \"predicted_label\": \"Predicted\"}, {\"date\": \"2021-03-08T00:00:00\", \"y_test\": 201.75, \"y_pred\": 206.64646240030888, \"label\": \"Actual\", \"predicted_label\": \"Predicted\"}, {\"date\": \"2021-03-08T00:00:00\", \"y_test\": 201.75, \"y_pred\": 207.0011927549225, \"label\": \"Actual\", \"predicted_label\": \"Predicted\"}, {\"date\": \"2021-03-08T00:00:00\", \"y_test\": 201.75, \"y_pred\": 207.34450083077937, \"label\": \"Actual\", \"predicted_label\": \"Predicted\"}, {\"date\": \"2021-03-08T00:00:00\", \"y_test\": 201.75, \"y_pred\": 207.20239629188924, \"label\": \"Actual\", \"predicted_label\": \"Predicted\"}, {\"date\": \"2021-03-08T00:00:00\", \"y_test\": 201.75, \"y_pred\": 206.7533767322316, \"label\": \"Actual\", \"predicted_label\": \"Predicted\"}, {\"date\": \"2021-03-08T00:00:00\", \"y_test\": 201.75, \"y_pred\": 206.57675240388573, \"label\": \"Actual\", \"predicted_label\": \"Predicted\"}, {\"date\": \"2021-03-09T00:00:00\", \"y_test\": 211.5, \"y_pred\": 206.81259237022098, \"label\": \"Actual\", \"predicted_label\": \"Predicted\"}, {\"date\": \"2021-03-10T00:00:00\", \"y_test\": 206.05000305175778, \"y_pred\": 213.16367004313994, \"label\": \"Actual\", \"predicted_label\": \"Predicted\"}, {\"date\": \"2021-03-12T00:00:00\", \"y_test\": 208.44999694824216, \"y_pred\": 212.1102052641457, \"label\": \"Actual\", \"predicted_label\": \"Predicted\"}, {\"date\": \"2021-03-15T00:00:00\", \"y_test\": 209.00000000000003, \"y_pred\": 211.17625773413374, \"label\": \"Actual\", \"predicted_label\": \"Predicted\"}, {\"date\": \"2021-03-16T00:00:00\", \"y_test\": 198.55000305175778, \"y_pred\": 205.02095635688102, \"label\": \"Actual\", \"predicted_label\": \"Predicted\"}, {\"date\": \"2021-03-17T00:00:00\", \"y_test\": 203.75, \"y_pred\": 204.514050559244, \"label\": \"Actual\", \"predicted_label\": \"Predicted\"}, {\"date\": \"2021-03-18T00:00:00\", \"y_test\": 218.6999969482422, \"y_pred\": 209.13301129833863, \"label\": \"Actual\", \"predicted_label\": \"Predicted\"}, {\"date\": \"2021-03-18T00:00:00\", \"y_test\": 218.6999969482422, \"y_pred\": 201.94350486610037, \"label\": \"Actual\", \"predicted_label\": \"Predicted\"}, {\"date\": \"2021-03-18T00:00:00\", \"y_test\": 218.6999969482422, \"y_pred\": 201.63804865480117, \"label\": \"Actual\", \"predicted_label\": \"Predicted\"}, {\"date\": \"2021-03-18T00:00:00\", \"y_test\": 218.6999969482422, \"y_pred\": 201.39013743604585, \"label\": \"Actual\", \"predicted_label\": \"Predicted\"}, {\"date\": \"2021-03-19T00:00:00\", \"y_test\": 191.99999999999997, \"y_pred\": 201.42742993114103, \"label\": \"Actual\", \"predicted_label\": \"Predicted\"}, {\"date\": \"2021-03-22T00:00:00\", \"y_test\": 195.0, \"y_pred\": 200.04951148607944, \"label\": \"Actual\", \"predicted_label\": \"Predicted\"}, {\"date\": \"2021-03-23T00:00:00\", \"y_test\": 192.99999999999997, \"y_pred\": 202.80726215446776, \"label\": \"Actual\", \"predicted_label\": \"Predicted\"}, {\"date\": \"2021-03-24T00:00:00\", \"y_test\": 190.0, \"y_pred\": 199.67937934301753, \"label\": \"Actual\", \"predicted_label\": \"Predicted\"}, {\"date\": \"2021-03-25T00:00:00\", \"y_test\": 185.6999969482422, \"y_pred\": 195.25028134171117, \"label\": \"Actual\", \"predicted_label\": \"Predicted\"}, {\"date\": \"2021-03-26T00:00:00\", \"y_test\": 182.6499938964844, \"y_pred\": 189.1618168807411, \"label\": \"Actual\", \"predicted_label\": \"Predicted\"}, {\"date\": \"2021-03-30T00:00:00\", \"y_test\": 185.9499969482422, \"y_pred\": 188.98407776122409, \"label\": \"Actual\", \"predicted_label\": \"Predicted\"}, {\"date\": \"2021-03-31T00:00:00\", \"y_test\": 191.19999694824216, \"y_pred\": 190.6253122673753, \"label\": \"Actual\", \"predicted_label\": \"Predicted\"}, {\"date\": \"2021-04-01T00:00:00\", \"y_test\": 198.89999389648443, \"y_pred\": 199.58353859339334, \"label\": \"Actual\", \"predicted_label\": \"Predicted\"}, {\"date\": \"2021-04-05T00:00:00\", \"y_test\": 203.8999938964844, \"y_pred\": 206.21533132575487, \"label\": \"Actual\", \"predicted_label\": \"Predicted\"}, {\"date\": \"2021-04-06T00:00:00\", \"y_test\": 201.0, \"y_pred\": 204.27777462510028, \"label\": \"Actual\", \"predicted_label\": \"Predicted\"}, {\"date\": \"2021-04-06T00:00:00\", \"y_test\": 200.99999999999997, \"y_pred\": 207.1110457697278, \"label\": \"Actual\", \"predicted_label\": \"Predicted\"}, {\"date\": \"2021-04-07T00:00:00\", \"y_test\": 202.0, \"y_pred\": 207.6994595185217, \"label\": \"Actual\", \"predicted_label\": \"Predicted\"}, {\"date\": \"2021-04-08T00:00:00\", \"y_test\": 205.6999969482422, \"y_pred\": 206.57125420995308, \"label\": \"Actual\", \"predicted_label\": \"Predicted\"}, {\"date\": \"2021-04-09T00:00:00\", \"y_test\": 209.99999999999997, \"y_pred\": 212.84284223607477, \"label\": \"Actual\", \"predicted_label\": \"Predicted\"}, {\"date\": \"2021-04-12T00:00:00\", \"y_test\": 196.9499969482422, \"y_pred\": 210.3950844052761, \"label\": \"Actual\", \"predicted_label\": \"Predicted\"}, {\"date\": \"2021-04-13T00:00:00\", \"y_test\": 197.0, \"y_pred\": 199.0072944580217, \"label\": \"Actual\", \"predicted_label\": \"Predicted\"}, {\"date\": \"2021-04-15T00:00:00\", \"y_test\": 206.5500030517578, \"y_pred\": 202.17180069764407, \"label\": \"Actual\", \"predicted_label\": \"Predicted\"}, {\"date\": \"2021-04-16T00:00:00\", \"y_test\": 202.1000061035156, \"y_pred\": 210.4760888975977, \"label\": \"Actual\", \"predicted_label\": \"Predicted\"}, {\"date\": \"2021-04-19T00:00:00\", \"y_test\": 231.5, \"y_pred\": 203.57014590661348, \"label\": \"Actual\", \"predicted_label\": \"Predicted\"}, {\"date\": \"2021-04-19T00:00:00\", \"y_test\": 231.5, \"y_pred\": 235.66687815327649, \"label\": \"Actual\", \"predicted_label\": \"Predicted\"}, {\"date\": \"2021-04-20T00:00:00\", \"y_test\": 244.0, \"y_pred\": 235.4598235625718, \"label\": \"Actual\", \"predicted_label\": \"Predicted\"}, {\"date\": \"2021-04-22T00:00:00\", \"y_test\": 237.0, \"y_pred\": 230.13013088166778, \"label\": \"Actual\", \"predicted_label\": \"Predicted\"}, {\"date\": \"2021-04-23T00:00:00\", \"y_test\": 233.6999969482422, \"y_pred\": 237.49036162940405, \"label\": \"Actual\", \"predicted_label\": \"Predicted\"}, {\"date\": \"2021-04-26T00:00:00\", \"y_test\": 232.0, \"y_pred\": 231.60367866997834, \"label\": \"Actual\", \"predicted_label\": \"Predicted\"}, {\"date\": \"2021-04-27T00:00:00\", \"y_test\": 224.64999389648438, \"y_pred\": 233.5869178367816, \"label\": \"Actual\", \"predicted_label\": \"Predicted\"}, {\"date\": \"2021-04-28T00:00:00\", \"y_test\": 228.0, \"y_pred\": 227.4541037786857, \"label\": \"Actual\", \"predicted_label\": \"Predicted\"}, {\"date\": \"2021-04-29T00:00:00\", \"y_test\": 224.8999938964844, \"y_pred\": 230.82283631752287, \"label\": \"Actual\", \"predicted_label\": \"Predicted\"}, {\"date\": \"2021-04-30T00:00:00\", \"y_test\": 218.5500030517578, \"y_pred\": 227.87706575846812, \"label\": \"Actual\", \"predicted_label\": \"Predicted\"}, {\"date\": \"2021-05-03T00:00:00\", \"y_test\": 219.25000000000003, \"y_pred\": 224.37344965370218, \"label\": \"Actual\", \"predicted_label\": \"Predicted\"}, {\"date\": \"2021-05-04T00:00:00\", \"y_test\": 226.5, \"y_pred\": 226.0818048304397, \"label\": \"Actual\", \"predicted_label\": \"Predicted\"}, {\"date\": \"2021-05-05T00:00:00\", \"y_test\": 223.00000000000003, \"y_pred\": 229.47298097546903, \"label\": \"Actual\", \"predicted_label\": \"Predicted\"}, {\"date\": \"2021-05-06T00:00:00\", \"y_test\": 222.1999969482422, \"y_pred\": 228.56901986417813, \"label\": \"Actual\", \"predicted_label\": \"Predicted\"}, {\"date\": \"2021-05-07T00:00:00\", \"y_test\": 221.0, \"y_pred\": 227.4387667076296, \"label\": \"Actual\", \"predicted_label\": \"Predicted\"}, {\"date\": \"2021-05-10T00:00:00\", \"y_test\": 220.0, \"y_pred\": 227.93216301185578, \"label\": \"Actual\", \"predicted_label\": \"Predicted\"}, {\"date\": \"2021-05-11T00:00:00\", \"y_test\": 221.99999999999997, \"y_pred\": 225.8034470670585, \"label\": \"Actual\", \"predicted_label\": \"Predicted\"}, {\"date\": \"2021-05-12T00:00:00\", \"y_test\": 216.0500030517578, \"y_pred\": 224.67858518532643, \"label\": \"Actual\", \"predicted_label\": \"Predicted\"}, {\"date\": \"2021-05-14T00:00:00\", \"y_test\": 215.39999389648443, \"y_pred\": 223.70086323524612, \"label\": \"Actual\", \"predicted_label\": \"Predicted\"}, {\"date\": \"2021-05-17T00:00:00\", \"y_test\": 213.0, \"y_pred\": 214.92107562593955, \"label\": \"Actual\", \"predicted_label\": \"Predicted\"}, {\"date\": \"2021-05-18T00:00:00\", \"y_test\": 218.0, \"y_pred\": 222.3115818310817, \"label\": \"Actual\", \"predicted_label\": \"Predicted\"}, {\"date\": \"2021-05-19T00:00:00\", \"y_test\": 217.94999694824216, \"y_pred\": 225.54788577977686, \"label\": \"Actual\", \"predicted_label\": \"Predicted\"}, {\"date\": \"2021-05-20T00:00:00\", \"y_test\": 217.5, \"y_pred\": 223.4444457782693, \"label\": \"Actual\", \"predicted_label\": \"Predicted\"}, {\"date\": \"2021-05-21T00:00:00\", \"y_test\": 219.3500061035156, \"y_pred\": 223.5969653175454, \"label\": \"Actual\", \"predicted_label\": \"Predicted\"}, {\"date\": \"2021-05-24T00:00:00\", \"y_test\": 226.1499938964844, \"y_pred\": 223.59334944919763, \"label\": \"Actual\", \"predicted_label\": \"Predicted\"}, {\"date\": \"2021-05-25T00:00:00\", \"y_test\": 222.8000030517578, \"y_pred\": 226.15478946368893, \"label\": \"Actual\", \"predicted_label\": \"Predicted\"}, {\"date\": \"2021-05-26T00:00:00\", \"y_test\": 218.00000000000003, \"y_pred\": 225.5568928788788, \"label\": \"Actual\", \"predicted_label\": \"Predicted\"}, {\"date\": \"2021-05-27T00:00:00\", \"y_test\": 214.75, \"y_pred\": 223.17810354739154, \"label\": \"Actual\", \"predicted_label\": \"Predicted\"}, {\"date\": \"2021-05-28T00:00:00\", \"y_test\": 215.00000000000003, \"y_pred\": 219.95536599486317, \"label\": \"Actual\", \"predicted_label\": \"Predicted\"}, {\"date\": \"2021-05-31T00:00:00\", \"y_test\": 212.6000061035156, \"y_pred\": 218.54539210725713, \"label\": \"Actual\", \"predicted_label\": \"Predicted\"}, {\"date\": \"2021-06-01T00:00:00\", \"y_test\": 210.3000030517578, \"y_pred\": 216.32077921348275, \"label\": \"Actual\", \"predicted_label\": \"Predicted\"}, {\"date\": \"2021-06-02T00:00:00\", \"y_test\": 207.89999389648438, \"y_pred\": 214.13834629947445, \"label\": \"Actual\", \"predicted_label\": \"Predicted\"}, {\"date\": \"2021-06-03T00:00:00\", \"y_test\": 213.5, \"y_pred\": 212.57687597958628, \"label\": \"Actual\", \"predicted_label\": \"Predicted\"}, {\"date\": \"2021-06-04T00:00:00\", \"y_test\": 215.25, \"y_pred\": 219.32414601095707, \"label\": \"Actual\", \"predicted_label\": \"Predicted\"}, {\"date\": \"2021-06-07T00:00:00\", \"y_test\": 217.00000000000003, \"y_pred\": 222.0661543132487, \"label\": \"Actual\", \"predicted_label\": \"Predicted\"}, {\"date\": \"2021-06-08T00:00:00\", \"y_test\": 216.3000030517578, \"y_pred\": 222.77978804750714, \"label\": \"Actual\", \"predicted_label\": \"Predicted\"}, {\"date\": \"2021-06-09T00:00:00\", \"y_test\": 220.0, \"y_pred\": 222.7080002260229, \"label\": \"Actual\", \"predicted_label\": \"Predicted\"}, {\"date\": \"2021-06-10T00:00:00\", \"y_test\": 216.5500030517578, \"y_pred\": 223.45653188707104, \"label\": \"Actual\", \"predicted_label\": \"Predicted\"}, {\"date\": \"2021-06-11T00:00:00\", \"y_test\": 217.99999999999997, \"y_pred\": 223.17772111058113, \"label\": \"Actual\", \"predicted_label\": \"Predicted\"}, {\"date\": \"2021-06-14T00:00:00\", \"y_test\": 215.64999389648443, \"y_pred\": 222.58506025400163, \"label\": \"Actual\", \"predicted_label\": \"Predicted\"}, {\"date\": \"2021-06-15T00:00:00\", \"y_test\": 217.30000305175778, \"y_pred\": 218.90861551206328, \"label\": \"Actual\", \"predicted_label\": \"Predicted\"}, {\"date\": \"2021-06-16T00:00:00\", \"y_test\": 219.3000030517578, \"y_pred\": 221.6749405674098, \"label\": \"Actual\", \"predicted_label\": \"Predicted\"}, {\"date\": \"2021-06-17T00:00:00\", \"y_test\": 214.25, \"y_pred\": 218.54916065583424, \"label\": \"Actual\", \"predicted_label\": \"Predicted\"}, {\"date\": \"2021-06-18T00:00:00\", \"y_test\": 216.75, \"y_pred\": 219.01536961944905, \"label\": \"Actual\", \"predicted_label\": \"Predicted\"}, {\"date\": \"2021-06-21T00:00:00\", \"y_test\": 210.0, \"y_pred\": 218.204413334195, \"label\": \"Actual\", \"predicted_label\": \"Predicted\"}, {\"date\": \"2021-06-22T00:00:00\", \"y_test\": 215.35000610351562, \"y_pred\": 217.63402990903796, \"label\": \"Actual\", \"predicted_label\": \"Predicted\"}, {\"date\": \"2021-06-23T00:00:00\", \"y_test\": 221.1499938964844, \"y_pred\": 222.56518564987144, \"label\": \"Actual\", \"predicted_label\": \"Predicted\"}, {\"date\": \"2021-06-24T00:00:00\", \"y_test\": 220.00000000000003, \"y_pred\": 225.81914645965406, \"label\": \"Actual\", \"predicted_label\": \"Predicted\"}, {\"date\": \"2021-06-25T00:00:00\", \"y_test\": 215.75000000000003, \"y_pred\": 222.38800145501662, \"label\": \"Actual\", \"predicted_label\": \"Predicted\"}, {\"date\": \"2021-06-28T00:00:00\", \"y_test\": 216.9499969482422, \"y_pred\": 222.08221592999627, \"label\": \"Actual\", \"predicted_label\": \"Predicted\"}, {\"date\": \"2021-06-29T00:00:00\", \"y_test\": 212.55000305175778, \"y_pred\": 220.1659157109924, \"label\": \"Actual\", \"predicted_label\": \"Predicted\"}, {\"date\": \"2021-06-30T00:00:00\", \"y_test\": 212.3500061035156, \"y_pred\": 220.06760683669657, \"label\": \"Actual\", \"predicted_label\": \"Predicted\"}, {\"date\": \"2021-07-01T00:00:00\", \"y_test\": 209.00000000000003, \"y_pred\": 216.61506904191515, \"label\": \"Actual\", \"predicted_label\": \"Predicted\"}, {\"date\": \"2021-07-02T00:00:00\", \"y_test\": 214.0, \"y_pred\": 216.8524181680463, \"label\": \"Actual\", \"predicted_label\": \"Predicted\"}, {\"date\": \"2021-07-05T00:00:00\", \"y_test\": 217.0, \"y_pred\": 219.07663308245225, \"label\": \"Actual\", \"predicted_label\": \"Predicted\"}, {\"date\": \"2021-07-06T00:00:00\", \"y_test\": 220.99999999999997, \"y_pred\": 223.84188369949925, \"label\": \"Actual\", \"predicted_label\": \"Predicted\"}, {\"date\": \"2021-07-07T00:00:00\", \"y_test\": 217.6999969482422, \"y_pred\": 220.96338042375228, \"label\": \"Actual\", \"predicted_label\": \"Predicted\"}, {\"date\": \"2021-07-08T00:00:00\", \"y_test\": 219.8000030517578, \"y_pred\": 223.89070533238586, \"label\": \"Actual\", \"predicted_label\": \"Predicted\"}, {\"date\": \"2021-07-09T00:00:00\", \"y_test\": 218.1000061035156, \"y_pred\": 221.24638631831786, \"label\": \"Actual\", \"predicted_label\": \"Predicted\"}, {\"date\": \"2021-07-12T00:00:00\", \"y_test\": 225.0, \"y_pred\": 222.0300533888678, \"label\": \"Actual\", \"predicted_label\": \"Predicted\"}, {\"date\": \"2021-07-13T00:00:00\", \"y_test\": 224.5500030517578, \"y_pred\": 229.83477645176313, \"label\": \"Actual\", \"predicted_label\": \"Predicted\"}, {\"date\": \"2021-07-14T00:00:00\", \"y_test\": 222.3000030517578, \"y_pred\": 226.79983351925023, \"label\": \"Actual\", \"predicted_label\": \"Predicted\"}, {\"date\": \"2021-07-15T00:00:00\", \"y_test\": 219.8000030517578, \"y_pred\": 226.67449428618988, \"label\": \"Actual\", \"predicted_label\": \"Predicted\"}, {\"date\": \"2021-07-16T00:00:00\", \"y_test\": 214.5500030517578, \"y_pred\": 220.49879376953413, \"label\": \"Actual\", \"predicted_label\": \"Predicted\"}, {\"date\": \"2021-07-19T00:00:00\", \"y_test\": 213.5, \"y_pred\": 218.46966786143219, \"label\": \"Actual\", \"predicted_label\": \"Predicted\"}, {\"date\": \"2021-07-20T00:00:00\", \"y_test\": 210.0, \"y_pred\": 218.5924230002112, \"label\": \"Actual\", \"predicted_label\": \"Predicted\"}, {\"date\": \"2021-07-22T00:00:00\", \"y_test\": 210.55000305175778, \"y_pred\": 215.47720634332597, \"label\": \"Actual\", \"predicted_label\": \"Predicted\"}, {\"date\": \"2021-07-23T00:00:00\", \"y_test\": 209.5, \"y_pred\": 215.3205103690376, \"label\": \"Actual\", \"predicted_label\": \"Predicted\"}, {\"date\": \"2021-07-26T00:00:00\", \"y_test\": 213.9499969482422, \"y_pred\": 214.56406268877015, \"label\": \"Actual\", \"predicted_label\": \"Predicted\"}, {\"date\": \"2021-07-27T00:00:00\", \"y_test\": 215.89999389648438, \"y_pred\": 220.35707364577195, \"label\": \"Actual\", \"predicted_label\": \"Predicted\"}, {\"date\": \"2021-07-28T00:00:00\", \"y_test\": 220.50000000000003, \"y_pred\": 219.26693665645502, \"label\": \"Actual\", \"predicted_label\": \"Predicted\"}, {\"date\": \"2021-07-29T00:00:00\", \"y_test\": 220.6499938964844, \"y_pred\": 223.81948130640666, \"label\": \"Actual\", \"predicted_label\": \"Predicted\"}, {\"date\": \"2021-07-30T00:00:00\", \"y_test\": 228.1999969482422, \"y_pred\": 226.22271129549844, \"label\": \"Actual\", \"predicted_label\": \"Predicted\"}, {\"date\": \"2021-08-02T00:00:00\", \"y_test\": 226.3000030517578, \"y_pred\": 227.99767620494603, \"label\": \"Actual\", \"predicted_label\": \"Predicted\"}, {\"date\": \"2021-08-03T00:00:00\", \"y_test\": 228.35000610351557, \"y_pred\": 233.15038337980502, \"label\": \"Actual\", \"predicted_label\": \"Predicted\"}, {\"date\": \"2021-08-04T00:00:00\", \"y_test\": 214.4499969482422, \"y_pred\": 221.11050308047467, \"label\": \"Actual\", \"predicted_label\": \"Predicted\"}, {\"date\": \"2021-08-05T00:00:00\", \"y_test\": 216.5, \"y_pred\": 209.4531949104523, \"label\": \"Actual\", \"predicted_label\": \"Predicted\"}, {\"date\": \"2021-08-06T00:00:00\", \"y_test\": 214.0, \"y_pred\": 218.113018956328, \"label\": \"Actual\", \"predicted_label\": \"Predicted\"}, {\"date\": \"2021-08-09T00:00:00\", \"y_test\": 210.0, \"y_pred\": 213.34431306663402, \"label\": \"Actual\", \"predicted_label\": \"Predicted\"}, {\"date\": \"2021-08-10T00:00:00\", \"y_test\": 207.1999969482422, \"y_pred\": 214.08318811066954, \"label\": \"Actual\", \"predicted_label\": \"Predicted\"}, {\"date\": \"2021-08-11T00:00:00\", \"y_test\": 209.0, \"y_pred\": 208.14433023982923, \"label\": \"Actual\", \"predicted_label\": \"Predicted\"}, {\"date\": \"2021-08-12T00:00:00\", \"y_test\": 212.39999389648443, \"y_pred\": 212.88906079472036, \"label\": \"Actual\", \"predicted_label\": \"Predicted\"}, {\"date\": \"2021-08-13T00:00:00\", \"y_test\": 211.1499938964844, \"y_pred\": 217.19242614097593, \"label\": \"Actual\", \"predicted_label\": \"Predicted\"}, {\"date\": \"2021-08-16T00:00:00\", \"y_test\": 206.4499969482422, \"y_pred\": 213.4033888255559, \"label\": \"Actual\", \"predicted_label\": \"Predicted\"}, {\"date\": \"2021-08-17T00:00:00\", \"y_test\": 207.75, \"y_pred\": 208.86359893922966, \"label\": \"Actual\", \"predicted_label\": \"Predicted\"}, {\"date\": \"2021-08-18T00:00:00\", \"y_test\": 206.00000000000003, \"y_pred\": 212.99196390722216, \"label\": \"Actual\", \"predicted_label\": \"Predicted\"}, {\"date\": \"2021-08-20T00:00:00\", \"y_test\": 204.8500061035156, \"y_pred\": 212.39555358333743, \"label\": \"Actual\", \"predicted_label\": \"Predicted\"}, {\"date\": \"2021-08-23T00:00:00\", \"y_test\": 204.4499969482422, \"y_pred\": 208.57207753194595, \"label\": \"Actual\", \"predicted_label\": \"Predicted\"}, {\"date\": \"2021-08-24T00:00:00\", \"y_test\": 199.44999694824216, \"y_pred\": 202.69970347106573, \"label\": \"Actual\", \"predicted_label\": \"Predicted\"}, {\"date\": \"2021-08-25T00:00:00\", \"y_test\": 200.00000000000003, \"y_pred\": 202.28633887637847, \"label\": \"Actual\", \"predicted_label\": \"Predicted\"}, {\"date\": \"2021-08-26T00:00:00\", \"y_test\": 199.8999938964844, \"y_pred\": 202.428326565182, \"label\": \"Actual\", \"predicted_label\": \"Predicted\"}, {\"date\": \"2021-08-27T00:00:00\", \"y_test\": 195.80000305175784, \"y_pred\": 199.05352902593629, \"label\": \"Actual\", \"predicted_label\": \"Predicted\"}, {\"date\": \"2021-08-30T00:00:00\", \"y_test\": 196.99999999999997, \"y_pred\": 198.86821864448635, \"label\": \"Actual\", \"predicted_label\": \"Predicted\"}, {\"date\": \"2021-08-31T00:00:00\", \"y_test\": 202.3500061035156, \"y_pred\": 200.14666862859775, \"label\": \"Actual\", \"predicted_label\": \"Predicted\"}, {\"date\": \"2021-09-01T00:00:00\", \"y_test\": 200.1999969482422, \"y_pred\": 202.44145367868947, \"label\": \"Actual\", \"predicted_label\": \"Predicted\"}, {\"date\": \"2021-09-02T00:00:00\", \"y_test\": 202.60000610351562, \"y_pred\": 203.3794006877905, \"label\": \"Actual\", \"predicted_label\": \"Predicted\"}, {\"date\": \"2021-09-03T00:00:00\", \"y_test\": 201.5, \"y_pred\": 202.94524947862058, \"label\": \"Actual\", \"predicted_label\": \"Predicted\"}, {\"date\": \"2021-09-06T00:00:00\", \"y_test\": 200.9499969482422, \"y_pred\": 205.29760256124956, \"label\": \"Actual\", \"predicted_label\": \"Predicted\"}, {\"date\": \"2021-09-07T00:00:00\", \"y_test\": 201.89999389648443, \"y_pred\": 204.2215805105812, \"label\": \"Actual\", \"predicted_label\": \"Predicted\"}, {\"date\": \"2021-09-08T00:00:00\", \"y_test\": 209.8999938964844, \"y_pred\": 204.8740907125434, \"label\": \"Actual\", \"predicted_label\": \"Predicted\"}, {\"date\": \"2021-09-09T00:00:00\", \"y_test\": 205.0, \"y_pred\": 210.3972338908746, \"label\": \"Actual\", \"predicted_label\": \"Predicted\"}, {\"date\": \"2021-09-13T00:00:00\", \"y_test\": 202.25, \"y_pred\": 208.8305619820924, \"label\": \"Actual\", \"predicted_label\": \"Predicted\"}, {\"date\": \"2021-09-14T00:00:00\", \"y_test\": 201.9499969482422, \"y_pred\": 206.44814187177244, \"label\": \"Actual\", \"predicted_label\": \"Predicted\"}, {\"date\": \"2021-09-15T00:00:00\", \"y_test\": 216.0, \"y_pred\": 205.68404132308348, \"label\": \"Actual\", \"predicted_label\": \"Predicted\"}, {\"date\": \"2021-09-16T00:00:00\", \"y_test\": 217.55000305175784, \"y_pred\": 223.5658057012778, \"label\": \"Actual\", \"predicted_label\": \"Predicted\"}, {\"date\": \"2021-09-17T00:00:00\", \"y_test\": 214.49999999999997, \"y_pred\": 220.12785113621146, \"label\": \"Actual\", \"predicted_label\": \"Predicted\"}, {\"date\": \"2021-09-20T00:00:00\", \"y_test\": 210.6000061035156, \"y_pred\": 220.17843588404017, \"label\": \"Actual\", \"predicted_label\": \"Predicted\"}, {\"date\": \"2021-09-21T00:00:00\", \"y_test\": 208.8999938964844, \"y_pred\": 209.3913197464135, \"label\": \"Actual\", \"predicted_label\": \"Predicted\"}, {\"date\": \"2021-09-22T00:00:00\", \"y_test\": 211.75, \"y_pred\": 210.0673161439255, \"label\": \"Actual\", \"predicted_label\": \"Predicted\"}, {\"date\": \"2021-09-23T00:00:00\", \"y_test\": 219.9499969482422, \"y_pred\": 214.68169321540915, \"label\": \"Actual\", \"predicted_label\": \"Predicted\"}, {\"date\": \"2021-09-24T00:00:00\", \"y_test\": 218.1499938964844, \"y_pred\": 221.491998591937, \"label\": \"Actual\", \"predicted_label\": \"Predicted\"}, {\"date\": \"2021-09-27T00:00:00\", \"y_test\": 211.0, \"y_pred\": 213.4716467086277, \"label\": \"Actual\", \"predicted_label\": \"Predicted\"}, {\"date\": \"2021-09-28T00:00:00\", \"y_test\": 208.25000000000003, \"y_pred\": 215.2660837105198, \"label\": \"Actual\", \"predicted_label\": \"Predicted\"}, {\"date\": \"2021-09-29T00:00:00\", \"y_test\": 207.5500030517578, \"y_pred\": 209.90305008370822, \"label\": \"Actual\", \"predicted_label\": \"Predicted\"}, {\"date\": \"2021-09-30T00:00:00\", \"y_test\": 206.3500061035156, \"y_pred\": 210.8066648608651, \"label\": \"Actual\", \"predicted_label\": \"Predicted\"}, {\"date\": \"2021-10-01T00:00:00\", \"y_test\": 204.8500061035156, \"y_pred\": 213.38613700974932, \"label\": \"Actual\", \"predicted_label\": \"Predicted\"}, {\"date\": \"2021-10-04T00:00:00\", \"y_test\": 206.25, \"y_pred\": 211.0229176406479, \"label\": \"Actual\", \"predicted_label\": \"Predicted\"}, {\"date\": \"2021-10-05T00:00:00\", \"y_test\": 208.3500061035156, \"y_pred\": 214.12456558860703, \"label\": \"Actual\", \"predicted_label\": \"Predicted\"}, {\"date\": \"2021-10-06T00:00:00\", \"y_test\": 207.0, \"y_pred\": 212.30903212079423, \"label\": \"Actual\", \"predicted_label\": \"Predicted\"}, {\"date\": \"2021-10-07T00:00:00\", \"y_test\": 205.0, \"y_pred\": 209.35551646909104, \"label\": \"Actual\", \"predicted_label\": \"Predicted\"}, {\"date\": \"2021-10-08T00:00:00\", \"y_test\": 203.39999389648438, \"y_pred\": 208.64855447771325, \"label\": \"Actual\", \"predicted_label\": \"Predicted\"}, {\"date\": \"2021-10-11T00:00:00\", \"y_test\": 205.94999694824222, \"y_pred\": 208.60734421412238, \"label\": \"Actual\", \"predicted_label\": \"Predicted\"}, {\"date\": \"2021-10-12T00:00:00\", \"y_test\": 204.1000061035156, \"y_pred\": 210.8497827060947, \"label\": \"Actual\", \"predicted_label\": \"Predicted\"}, {\"date\": \"2021-10-13T00:00:00\", \"y_test\": 205.80000305175784, \"y_pred\": 208.9671849794448, \"label\": \"Actual\", \"predicted_label\": \"Predicted\"}, {\"date\": \"2021-10-14T00:00:00\", \"y_test\": 207.35000610351557, \"y_pred\": 212.17744640021795, \"label\": \"Actual\", \"predicted_label\": \"Predicted\"}, {\"date\": \"2021-10-18T00:00:00\", \"y_test\": 207.19999694824222, \"y_pred\": 212.53241916086074, \"label\": \"Actual\", \"predicted_label\": \"Predicted\"}, {\"date\": \"2021-10-19T00:00:00\", \"y_test\": 204.1000061035156, \"y_pred\": 210.43799373800536, \"label\": \"Actual\", \"predicted_label\": \"Predicted\"}, {\"date\": \"2021-10-20T00:00:00\", \"y_test\": 202.8999938964844, \"y_pred\": 211.04485088954763, \"label\": \"Actual\", \"predicted_label\": \"Predicted\"}, {\"date\": \"2021-10-21T00:00:00\", \"y_test\": 202.24999999999997, \"y_pred\": 209.21301171202813, \"label\": \"Actual\", \"predicted_label\": \"Predicted\"}, {\"date\": \"2021-10-22T00:00:00\", \"y_test\": 203.9499969482422, \"y_pred\": 208.40687621611232, \"label\": \"Actual\", \"predicted_label\": \"Predicted\"}, {\"date\": \"2021-10-25T00:00:00\", \"y_test\": 204.8500061035156, \"y_pred\": 207.93155942865758, \"label\": \"Actual\", \"predicted_label\": \"Predicted\"}, {\"date\": \"2021-10-26T00:00:00\", \"y_test\": 199.1499938964844, \"y_pred\": 203.66417798835363, \"label\": \"Actual\", \"predicted_label\": \"Predicted\"}, {\"date\": \"2021-10-27T00:00:00\", \"y_test\": 201.6999969482422, \"y_pred\": 204.45759260872578, \"label\": \"Actual\", \"predicted_label\": \"Predicted\"}, {\"date\": \"2021-10-28T00:00:00\", \"y_test\": 200.8500061035156, \"y_pred\": 208.9187453789058, \"label\": \"Actual\", \"predicted_label\": \"Predicted\"}, {\"date\": \"2021-10-29T00:00:00\", \"y_test\": 200.55000305175784, \"y_pred\": 208.2639781426934, \"label\": \"Actual\", \"predicted_label\": \"Predicted\"}, {\"date\": \"2021-11-01T00:00:00\", \"y_test\": 201.50000000000003, \"y_pred\": 207.63789685188505, \"label\": \"Actual\", \"predicted_label\": \"Predicted\"}, {\"date\": \"2021-11-02T00:00:00\", \"y_test\": 201.64999389648443, \"y_pred\": 209.24364598562897, \"label\": \"Actual\", \"predicted_label\": \"Predicted\"}, {\"date\": \"2021-11-03T00:00:00\", \"y_test\": 203.25000000000003, \"y_pred\": 210.0735984493106, \"label\": \"Actual\", \"predicted_label\": \"Predicted\"}, {\"date\": \"2021-11-04T00:00:00\", \"y_test\": 204.94999694824216, \"y_pred\": 208.83662722842448, \"label\": \"Actual\", \"predicted_label\": \"Predicted\"}, {\"date\": \"2021-11-08T00:00:00\", \"y_test\": 205.6000061035156, \"y_pred\": 209.3282194382708, \"label\": \"Actual\", \"predicted_label\": \"Predicted\"}, {\"date\": \"2021-11-08T00:00:00\", \"y_test\": 205.60000610351562, \"y_pred\": 213.15898420388882, \"label\": \"Actual\", \"predicted_label\": \"Predicted\"}, {\"date\": \"2021-11-08T00:00:00\", \"y_test\": 205.60000610351562, \"y_pred\": 213.57727324309502, \"label\": \"Actual\", \"predicted_label\": \"Predicted\"}, {\"date\": \"2021-11-09T00:00:00\", \"y_test\": 228.0, \"y_pred\": 213.46489386828006, \"label\": \"Actual\", \"predicted_label\": \"Predicted\"}, {\"date\": \"2021-11-09T00:00:00\", \"y_test\": 228.00000000000003, \"y_pred\": 229.78475041774288, \"label\": \"Actual\", \"predicted_label\": \"Predicted\"}, {\"date\": \"2021-11-09T00:00:00\", \"y_test\": 228.00000000000003, \"y_pred\": 228.96498388993558, \"label\": \"Actual\", \"predicted_label\": \"Predicted\"}, {\"date\": \"2021-11-10T00:00:00\", \"y_test\": 223.00000000000003, \"y_pred\": 227.87671394231367, \"label\": \"Actual\", \"predicted_label\": \"Predicted\"}, {\"date\": \"2021-11-11T00:00:00\", \"y_test\": 222.3500061035156, \"y_pred\": 227.1722164285916, \"label\": \"Actual\", \"predicted_label\": \"Predicted\"}, {\"date\": \"2021-11-12T00:00:00\", \"y_test\": 216.0500030517578, \"y_pred\": 220.9636176077078, \"label\": \"Actual\", \"predicted_label\": \"Predicted\"}, {\"date\": \"2021-11-15T00:00:00\", \"y_test\": 226.0, \"y_pred\": 219.63690019438025, \"label\": \"Actual\", \"predicted_label\": \"Predicted\"}, {\"date\": \"2021-11-16T00:00:00\", \"y_test\": 224.50000000000003, \"y_pred\": 226.17026467808424, \"label\": \"Actual\", \"predicted_label\": \"Predicted\"}, {\"date\": \"2021-11-17T00:00:00\", \"y_test\": 215.3500061035156, \"y_pred\": 222.12051720454633, \"label\": \"Actual\", \"predicted_label\": \"Predicted\"}, {\"date\": \"2021-11-18T00:00:00\", \"y_test\": 215.1499938964844, \"y_pred\": 219.02784212967376, \"label\": \"Actual\", \"predicted_label\": \"Predicted\"}, {\"date\": \"2021-11-22T00:00:00\", \"y_test\": 217.9499969482422, \"y_pred\": 220.50766024976699, \"label\": \"Actual\", \"predicted_label\": \"Predicted\"}, {\"date\": \"2021-11-23T00:00:00\", \"y_test\": 233.6999969482422, \"y_pred\": 219.8387667290188, \"label\": \"Actual\", \"predicted_label\": \"Predicted\"}, {\"date\": \"2021-11-24T00:00:00\", \"y_test\": 273.70001220703125, \"y_pred\": 239.5866290660278, \"label\": \"Actual\", \"predicted_label\": \"Predicted\"}, {\"date\": \"2021-11-24T00:00:00\", \"y_test\": 273.70001220703125, \"y_pred\": 280.43165739246786, \"label\": \"Actual\", \"predicted_label\": \"Predicted\"}, {\"date\": \"2021-11-24T00:00:00\", \"y_test\": 273.70001220703125, \"y_pred\": 280.4500486021765, \"label\": \"Actual\", \"predicted_label\": \"Predicted\"}, {\"date\": \"2021-11-24T00:00:00\", \"y_test\": 273.70001220703125, \"y_pred\": 278.72514658805255, \"label\": \"Actual\", \"predicted_label\": \"Predicted\"}, {\"date\": \"2021-11-24T00:00:00\", \"y_test\": 273.70001220703125, \"y_pred\": 279.4074569936801, \"label\": \"Actual\", \"predicted_label\": \"Predicted\"}, {\"date\": \"2021-11-24T00:00:00\", \"y_test\": 273.70001220703125, \"y_pred\": 279.4002283322093, \"label\": \"Actual\", \"predicted_label\": \"Predicted\"}, {\"date\": \"2021-11-24T00:00:00\", \"y_test\": 273.70001220703125, \"y_pred\": 281.12479132877303, \"label\": \"Actual\", \"predicted_label\": \"Predicted\"}, {\"date\": \"2021-11-24T00:00:00\", \"y_test\": 273.70001220703125, \"y_pred\": 280.9156904482658, \"label\": \"Actual\", \"predicted_label\": \"Predicted\"}, {\"date\": \"2021-11-24T00:00:00\", \"y_test\": 273.70001220703125, \"y_pred\": 280.40292010173147, \"label\": \"Actual\", \"predicted_label\": \"Predicted\"}, {\"date\": \"2021-11-24T00:00:00\", \"y_test\": 273.70001220703125, \"y_pred\": 280.45540679640743, \"label\": \"Actual\", \"predicted_label\": \"Predicted\"}, {\"date\": \"2021-11-25T00:00:00\", \"y_test\": 280.1000061035156, \"y_pred\": 280.5175501530407, \"label\": \"Actual\", \"predicted_label\": \"Predicted\"}, {\"date\": \"2021-11-26T00:00:00\", \"y_test\": 266.6000061035156, \"y_pred\": 278.33911151410507, \"label\": \"Actual\", \"predicted_label\": \"Predicted\"}, {\"date\": \"2021-11-29T00:00:00\", \"y_test\": 279.5, \"y_pred\": 271.78644963926735, \"label\": \"Actual\", \"predicted_label\": \"Predicted\"}, {\"date\": \"2021-11-30T00:00:00\", \"y_test\": 292.45001220703125, \"y_pred\": 284.10161001702636, \"label\": \"Actual\", \"predicted_label\": \"Predicted\"}, {\"date\": \"2021-12-01T00:00:00\", \"y_test\": 282.20001220703125, \"y_pred\": 288.82232737498714, \"label\": \"Actual\", \"predicted_label\": \"Predicted\"}, {\"date\": \"2021-12-02T00:00:00\", \"y_test\": 282.5, \"y_pred\": 289.36809328496514, \"label\": \"Actual\", \"predicted_label\": \"Predicted\"}, {\"date\": \"2021-12-03T00:00:00\", \"y_test\": 299.7000122070313, \"y_pred\": 284.7046593712692, \"label\": \"Actual\", \"predicted_label\": \"Predicted\"}, {\"date\": \"2021-12-06T00:00:00\", \"y_test\": 321.0, \"y_pred\": 309.8670052929977, \"label\": \"Actual\", \"predicted_label\": \"Predicted\"}, {\"date\": \"2021-12-07T00:00:00\", \"y_test\": 315.0, \"y_pred\": 317.89019331296214, \"label\": \"Actual\", \"predicted_label\": \"Predicted\"}, {\"date\": \"2021-12-08T00:00:00\", \"y_test\": 311.0, \"y_pred\": 323.91834696566275, \"label\": \"Actual\", \"predicted_label\": \"Predicted\"}, {\"date\": \"2021-12-09T00:00:00\", \"y_test\": 311.1000061035156, \"y_pred\": 320.72270521771384, \"label\": \"Actual\", \"predicted_label\": \"Predicted\"}, {\"date\": \"2021-12-10T00:00:00\", \"y_test\": 315.3500061035156, \"y_pred\": 322.8580321336249, \"label\": \"Actual\", \"predicted_label\": \"Predicted\"}, {\"date\": \"2021-12-13T00:00:00\", \"y_test\": 315.3500061035157, \"y_pred\": 323.6018894339887, \"label\": \"Actual\", \"predicted_label\": \"Predicted\"}, {\"date\": \"2021-12-14T00:00:00\", \"y_test\": 315.0, \"y_pred\": 324.0916064101376, \"label\": \"Actual\", \"predicted_label\": \"Predicted\"}, {\"date\": \"2021-12-15T00:00:00\", \"y_test\": 326.1000061035156, \"y_pred\": 323.74023969385877, \"label\": \"Actual\", \"predicted_label\": \"Predicted\"}, {\"date\": \"2021-12-16T00:00:00\", \"y_test\": 346.99999999999994, \"y_pred\": 336.0303511114789, \"label\": \"Actual\", \"predicted_label\": \"Predicted\"}, {\"date\": \"2021-12-17T00:00:00\", \"y_test\": 309.6000061035156, \"y_pred\": 313.1681139939273, \"label\": \"Actual\", \"predicted_label\": \"Predicted\"}, {\"date\": \"2021-12-20T00:00:00\", \"y_test\": 283.29998779296875, \"y_pred\": 303.5932872947692, \"label\": \"Actual\", \"predicted_label\": \"Predicted\"}, {\"date\": \"2021-12-21T00:00:00\", \"y_test\": 289.0, \"y_pred\": 285.5808518056305, \"label\": \"Actual\", \"predicted_label\": \"Predicted\"}, {\"date\": \"2021-12-22T00:00:00\", \"y_test\": 287.5, \"y_pred\": 292.48017772987447, \"label\": \"Actual\", \"predicted_label\": \"Predicted\"}, {\"date\": \"2021-12-23T00:00:00\", \"y_test\": 307.95001220703125, \"y_pred\": 298.40550157455806, \"label\": \"Actual\", \"predicted_label\": \"Predicted\"}, {\"date\": \"2021-12-24T00:00:00\", \"y_test\": 301.20001220703125, \"y_pred\": 312.14170476378706, \"label\": \"Actual\", \"predicted_label\": \"Predicted\"}, {\"date\": \"2021-12-27T00:00:00\", \"y_test\": 289.25, \"y_pred\": 301.94630200505486, \"label\": \"Actual\", \"predicted_label\": \"Predicted\"}, {\"date\": \"2021-12-28T00:00:00\", \"y_test\": 287.8500061035156, \"y_pred\": 296.1672349280607, \"label\": \"Actual\", \"predicted_label\": \"Predicted\"}, {\"date\": \"2021-12-29T00:00:00\", \"y_test\": 303.29998779296875, \"y_pred\": 297.6476711240062, \"label\": \"Actual\", \"predicted_label\": \"Predicted\"}, {\"date\": \"2021-12-30T00:00:00\", \"y_test\": 304.0, \"y_pred\": 310.4578842838612, \"label\": \"Actual\", \"predicted_label\": \"Predicted\"}, {\"date\": \"2021-12-31T00:00:00\", \"y_test\": 302.6000061035157, \"y_pred\": 311.8858568820518, \"label\": \"Actual\", \"predicted_label\": \"Predicted\"}, {\"date\": \"2022-01-03T00:00:00\", \"y_test\": 314.3500061035156, \"y_pred\": 313.6317047846609, \"label\": \"Actual\", \"predicted_label\": \"Predicted\"}, {\"date\": \"2022-01-04T00:00:00\", \"y_test\": 314.95001220703125, \"y_pred\": 318.5364973796285, \"label\": \"Actual\", \"predicted_label\": \"Predicted\"}, {\"date\": \"2022-01-05T00:00:00\", \"y_test\": 319.70001220703125, \"y_pred\": 322.67615534913267, \"label\": \"Actual\", \"predicted_label\": \"Predicted\"}]}}, {\"mode\": \"vega-lite\"});\n",
       "</script>"
      ],
      "text/plain": [
       "alt.LayerChart(...)"
      ]
     },
     "execution_count": 60,
     "metadata": {},
     "output_type": "execute_result"
    }
   ],
   "source": [
    "import altair as alt\n",
    "\n",
    "alt.themes.enable('fivethirtyeight')\n",
    "\n",
    "predictions_df['date'] = pd.to_datetime(predictions_df['date'])\n",
    "\n",
    "predictions_df['label'] = 'Actual'\n",
    "predictions_df['predicted_label'] = 'Predicted'\n",
    "\n",
    "# Actual high price line\n",
    "line1 = alt.Chart(predictions_df).mark_line(strokeWidth=2).encode(\n",
    "    x='date:T',\n",
    "    y=alt.Y('y_test:Q', title='Price', scale=alt.Scale(zero=False)),\n",
    "    color=alt.Color('label:N', legend=alt.Legend(title=\"Line Type\")),\n",
    "    tooltip=['date', 'y_test', 'y_pred']\n",
    ")\n",
    "\n",
    "# Predicted high price line\n",
    "line2 = alt.Chart(predictions_df).mark_line(strokeWidth=1, strokeDash=[3, 3]).encode(\n",
    "    x='date:T',\n",
    "    y=alt.Y('y_pred:Q', title='', scale=alt.Scale(zero=False)),\n",
    "    color=alt.Color('predicted_label:N', legend=alt.Legend(title=\"Line Type\")),\n",
    "    tooltip=['date', 'y_test', 'y_pred']\n",
    ")\n",
    "\n",
    "# Combine the two lines\n",
    "chart = alt.layer(line1, line2).properties(\n",
    "    title='Actual vs Predicted High Prices',\n",
    "    width=650,\n",
    "    height=400\n",
    ").interactive()\n",
    "\n",
    "chart"
   ]
  }
 ],
 "metadata": {
  "kernelspec": {
   "display_name": "Python 3 (ipykernel)",
   "language": "python",
   "name": "python3"
  },
  "language_info": {
   "codemirror_mode": {
    "name": "ipython",
    "version": 3
   },
   "file_extension": ".py",
   "mimetype": "text/x-python",
   "name": "python",
   "nbconvert_exporter": "python",
   "pygments_lexer": "ipython3",
   "version": "3.10.9"
  }
 },
 "nbformat": 4,
 "nbformat_minor": 5
}
