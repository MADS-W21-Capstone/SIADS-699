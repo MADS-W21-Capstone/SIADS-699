{
 "cells": [
  {
   "cell_type": "code",
   "execution_count": 48,
   "id": "0309dac3",
   "metadata": {},
   "outputs": [],
   "source": [
    "import pandas as pd\n",
    "import seaborn as sns\n",
    "import matplotlib.pyplot as plt\n",
    "import numpy as np\n",
    "\n",
    "from sklearn.model_selection import train_test_split\n",
    "from sklearn.ensemble import RandomForestRegressor\n",
    "from sklearn.feature_selection import SelectFromModel\n",
    "from sklearn.preprocessing import StandardScaler\n",
    "from sklearn.metrics import mean_squared_error, r2_score, mean_absolute_percentage_error\n",
    "from sklearn.feature_selection import SelectKBest, f_regression"
   ]
  },
  {
   "cell_type": "code",
   "execution_count": 49,
   "id": "499ab13c",
   "metadata": {},
   "outputs": [],
   "source": [
    "df = pd.read_csv('../../datasets/processed_data/combined_features/PGHL.BO.csv')"
   ]
  },
  {
   "cell_type": "code",
   "execution_count": 50,
   "id": "7a9d7183",
   "metadata": {},
   "outputs": [
    {
     "data": {
      "text/plain": [
       "Index(['date', 'open', 'close', 'adj close', 'volume', 'low', 'high',\n",
       "       'volume_adi', 'volume_obv', 'volume_cmf',\n",
       "       ...\n",
       "       'inr=x_percent_change', 'cl=f_percent_change',\n",
       "       'treasury_yeild_10_years_percent_change', 'usdx-index_percent_change',\n",
       "       '^nsei_percent_change', '^bsesn_percent_change', '^gspc_percent_change',\n",
       "       'hsi_percent_change', 'sha_percent_change', '^sti_percent_change'],\n",
       "      dtype='object', length=635)"
      ]
     },
     "execution_count": 50,
     "metadata": {},
     "output_type": "execute_result"
    }
   ],
   "source": [
    "df.columns"
   ]
  },
  {
   "cell_type": "code",
   "execution_count": 51,
   "id": "972fda66",
   "metadata": {},
   "outputs": [],
   "source": [
    "def create_custom_target(df: pd.DataFrame) -> pd.DataFrame:\n",
    "    \"\"\"\n",
    "    This function creates the custom target price, which is computed as ln(high/yesterday_close)\n",
    "    \"\"\"    \n",
    "    # make a copy of the dataframe so as not to change the original dataframe\n",
    "    data_df = df.copy()\n",
    "    \n",
    "    # create yesterday_close feature as\n",
    "    data_df['yesterday_close'] = data_df['close'].shift(1)\n",
    "    \n",
    "    # create custom target price to predict, computing  ln(high/yesterday_close)\n",
    "    data_df['ln_target'] = np.log(data_df['high'] / data_df['yesterday_close'])\n",
    "    \n",
    "    # as yesterday close would not be available for first day, \n",
    "    # we would not have custom target price for that day, which needs to be excluded \n",
    "    return(data_df.iloc[1:, ])"
   ]
  },
  {
   "cell_type": "code",
   "execution_count": 52,
   "id": "383eed7f",
   "metadata": {},
   "outputs": [],
   "source": [
    "df = create_custom_target(df)"
   ]
  },
  {
   "cell_type": "code",
   "execution_count": 53,
   "id": "9eb72e03",
   "metadata": {},
   "outputs": [
    {
     "data": {
      "text/plain": [
       "1        340.850006\n",
       "2        339.700012\n",
       "3        333.799988\n",
       "4        323.950012\n",
       "5        323.750000\n",
       "           ...     \n",
       "3679    5031.149902\n",
       "3680    5076.149902\n",
       "3681    5130.899902\n",
       "3682    5181.850098\n",
       "3683    5227.000000\n",
       "Name: yesterday_close, Length: 3683, dtype: float64"
      ]
     },
     "execution_count": 53,
     "metadata": {},
     "output_type": "execute_result"
    }
   ],
   "source": [
    "df['yesterday_close']"
   ]
  },
  {
   "cell_type": "code",
   "execution_count": 54,
   "id": "2a2c850c",
   "metadata": {},
   "outputs": [
    {
     "data": {
      "text/plain": [
       "1      -0.000293\n",
       "2       0.020974\n",
       "3       0.009244\n",
       "4       0.012577\n",
       "5      -0.002319\n",
       "          ...   \n",
       "3679    0.015747\n",
       "3680    0.012529\n",
       "3681    0.012213\n",
       "3682    0.010205\n",
       "3683    0.010127\n",
       "Name: ln_target, Length: 3683, dtype: float64"
      ]
     },
     "execution_count": 54,
     "metadata": {},
     "output_type": "execute_result"
    }
   ],
   "source": [
    "df['ln_target'] "
   ]
  },
  {
   "cell_type": "code",
   "execution_count": 55,
   "id": "20b47106",
   "metadata": {},
   "outputs": [],
   "source": [
    "# Drop cols with NaN values\n",
    "df = df.dropna(axis=1, how='all')\n",
    "df.fillna(method='ffill', inplace=True)"
   ]
  },
  {
   "cell_type": "code",
   "execution_count": 56,
   "id": "c10fc1f5",
   "metadata": {},
   "outputs": [],
   "source": [
    "combined_date_df = df['date']\n",
    "train_date, test_date = train_test_split(combined_date_df, train_size=0.8, shuffle=False)\n",
    "dev_date, test_date = train_test_split(test_date, train_size=0.5, shuffle=False)"
   ]
  },
  {
   "cell_type": "code",
   "execution_count": 57,
   "id": "4aab5f72",
   "metadata": {},
   "outputs": [],
   "source": [
    "df_without_date = df.drop(columns=[\"date\"])"
   ]
  },
  {
   "cell_type": "code",
   "execution_count": 58,
   "id": "447c5766",
   "metadata": {},
   "outputs": [],
   "source": [
    "df_without_date.dropna(inplace=True)"
   ]
  },
  {
   "cell_type": "code",
   "execution_count": 59,
   "id": "40dca0df",
   "metadata": {},
   "outputs": [],
   "source": [
    "def timeseries_to_supervise(df, window_size, target):    \n",
    "    X = []\n",
    "    y = []\n",
    "    indx = []\n",
    "    no_records = len(df)\n",
    "    #     \n",
    "    for i in range(window_size, no_records):\n",
    "        X.append(df.iloc[i-window_size:i].drop(target, axis=1).values.flatten())  # Collect past records as a sequence\n",
    "        y.append(df.iloc[i][target])  # Next record as target variable\n",
    "        indx.append(np.arange(i-window_size, i))\n",
    "\n",
    "    X = pd.DataFrame(X)\n",
    "    y = pd.Series(y)\n",
    "    return(X, y, indx)"
   ]
  },
  {
   "cell_type": "code",
   "execution_count": 60,
   "id": "b084fd49",
   "metadata": {},
   "outputs": [],
   "source": [
    "window_size = 10"
   ]
  },
  {
   "cell_type": "code",
   "execution_count": 61,
   "id": "92a9dbc2",
   "metadata": {},
   "outputs": [],
   "source": [
    "# do train/test split the data with shuffle = False\n",
    "train_data, test_data = train_test_split(df_without_date, train_size=0.8, shuffle=False)\n",
    "\n",
    "# convert timeseries to be used in supervise learning model\n",
    "X_train, y_train, indx_train = timeseries_to_supervise(train_data, window_size, 'ln_target')  \n",
    "\n",
    "# further split test set to have an hold out set to be used for backtesting\n",
    "dev_data, test_data = train_test_split(test_data, train_size=0.5, shuffle=False)\n",
    "\n",
    "# convert timeseries to be used in supervise learning model    \n",
    "X_test, y_test, indx_test = timeseries_to_supervise(dev_data, window_size, 'ln_target')  "
   ]
  },
  {
   "cell_type": "code",
   "execution_count": 62,
   "id": "6649dc26",
   "metadata": {},
   "outputs": [],
   "source": [
    "selector = SelectKBest(score_func=f_regression, k=50)\n",
    "X_train_50 = selector.fit_transform(X_train, y_train)\n",
    "X_test_50 = selector.transform(X_test)"
   ]
  },
  {
   "cell_type": "code",
   "execution_count": 63,
   "id": "669e5c4f",
   "metadata": {},
   "outputs": [
    {
     "data": {
      "text/html": [
       "<style>#sk-container-id-3 {color: black;background-color: white;}#sk-container-id-3 pre{padding: 0;}#sk-container-id-3 div.sk-toggleable {background-color: white;}#sk-container-id-3 label.sk-toggleable__label {cursor: pointer;display: block;width: 100%;margin-bottom: 0;padding: 0.3em;box-sizing: border-box;text-align: center;}#sk-container-id-3 label.sk-toggleable__label-arrow:before {content: \"▸\";float: left;margin-right: 0.25em;color: #696969;}#sk-container-id-3 label.sk-toggleable__label-arrow:hover:before {color: black;}#sk-container-id-3 div.sk-estimator:hover label.sk-toggleable__label-arrow:before {color: black;}#sk-container-id-3 div.sk-toggleable__content {max-height: 0;max-width: 0;overflow: hidden;text-align: left;background-color: #f0f8ff;}#sk-container-id-3 div.sk-toggleable__content pre {margin: 0.2em;color: black;border-radius: 0.25em;background-color: #f0f8ff;}#sk-container-id-3 input.sk-toggleable__control:checked~div.sk-toggleable__content {max-height: 200px;max-width: 100%;overflow: auto;}#sk-container-id-3 input.sk-toggleable__control:checked~label.sk-toggleable__label-arrow:before {content: \"▾\";}#sk-container-id-3 div.sk-estimator input.sk-toggleable__control:checked~label.sk-toggleable__label {background-color: #d4ebff;}#sk-container-id-3 div.sk-label input.sk-toggleable__control:checked~label.sk-toggleable__label {background-color: #d4ebff;}#sk-container-id-3 input.sk-hidden--visually {border: 0;clip: rect(1px 1px 1px 1px);clip: rect(1px, 1px, 1px, 1px);height: 1px;margin: -1px;overflow: hidden;padding: 0;position: absolute;width: 1px;}#sk-container-id-3 div.sk-estimator {font-family: monospace;background-color: #f0f8ff;border: 1px dotted black;border-radius: 0.25em;box-sizing: border-box;margin-bottom: 0.5em;}#sk-container-id-3 div.sk-estimator:hover {background-color: #d4ebff;}#sk-container-id-3 div.sk-parallel-item::after {content: \"\";width: 100%;border-bottom: 1px solid gray;flex-grow: 1;}#sk-container-id-3 div.sk-label:hover label.sk-toggleable__label {background-color: #d4ebff;}#sk-container-id-3 div.sk-serial::before {content: \"\";position: absolute;border-left: 1px solid gray;box-sizing: border-box;top: 0;bottom: 0;left: 50%;z-index: 0;}#sk-container-id-3 div.sk-serial {display: flex;flex-direction: column;align-items: center;background-color: white;padding-right: 0.2em;padding-left: 0.2em;position: relative;}#sk-container-id-3 div.sk-item {position: relative;z-index: 1;}#sk-container-id-3 div.sk-parallel {display: flex;align-items: stretch;justify-content: center;background-color: white;position: relative;}#sk-container-id-3 div.sk-item::before, #sk-container-id-3 div.sk-parallel-item::before {content: \"\";position: absolute;border-left: 1px solid gray;box-sizing: border-box;top: 0;bottom: 0;left: 50%;z-index: -1;}#sk-container-id-3 div.sk-parallel-item {display: flex;flex-direction: column;z-index: 1;position: relative;background-color: white;}#sk-container-id-3 div.sk-parallel-item:first-child::after {align-self: flex-end;width: 50%;}#sk-container-id-3 div.sk-parallel-item:last-child::after {align-self: flex-start;width: 50%;}#sk-container-id-3 div.sk-parallel-item:only-child::after {width: 0;}#sk-container-id-3 div.sk-dashed-wrapped {border: 1px dashed gray;margin: 0 0.4em 0.5em 0.4em;box-sizing: border-box;padding-bottom: 0.4em;background-color: white;}#sk-container-id-3 div.sk-label label {font-family: monospace;font-weight: bold;display: inline-block;line-height: 1.2em;}#sk-container-id-3 div.sk-label-container {text-align: center;}#sk-container-id-3 div.sk-container {/* jupyter's `normalize.less` sets `[hidden] { display: none; }` but bootstrap.min.css set `[hidden] { display: none !important; }` so we also need the `!important` here to be able to override the default hidden behavior on the sphinx rendered scikit-learn.org. See: https://github.com/scikit-learn/scikit-learn/issues/21755 */display: inline-block !important;position: relative;}#sk-container-id-3 div.sk-text-repr-fallback {display: none;}</style><div id=\"sk-container-id-3\" class=\"sk-top-container\"><div class=\"sk-text-repr-fallback\"><pre>RandomForestRegressor(min_samples_leaf=2, n_estimators=200)</pre><b>In a Jupyter environment, please rerun this cell to show the HTML representation or trust the notebook. <br />On GitHub, the HTML representation is unable to render, please try loading this page with nbviewer.org.</b></div><div class=\"sk-container\" hidden><div class=\"sk-item\"><div class=\"sk-estimator sk-toggleable\"><input class=\"sk-toggleable__control sk-hidden--visually\" id=\"sk-estimator-id-3\" type=\"checkbox\" checked><label for=\"sk-estimator-id-3\" class=\"sk-toggleable__label sk-toggleable__label-arrow\">RandomForestRegressor</label><div class=\"sk-toggleable__content\"><pre>RandomForestRegressor(min_samples_leaf=2, n_estimators=200)</pre></div></div></div></div></div>"
      ],
      "text/plain": [
       "RandomForestRegressor(min_samples_leaf=2, n_estimators=200)"
      ]
     },
     "execution_count": 63,
     "metadata": {},
     "output_type": "execute_result"
    }
   ],
   "source": [
    "# Train the model on the top 50 features\n",
    "model_50 = RandomForestRegressor(\n",
    "    n_estimators=200,\n",
    "    min_samples_split=2,\n",
    "    min_samples_leaf=2,\n",
    "    bootstrap=True\n",
    ")\n",
    "model_50.fit(X_train_50, y_train)"
   ]
  },
  {
   "cell_type": "code",
   "execution_count": 64,
   "id": "36d4828e",
   "metadata": {},
   "outputs": [],
   "source": [
    "def convert_custom_target_to_actual_for_supervise(df: pd.DataFrame, window: int, y: \"pd.Series[int]\") -> \"pd.Series[int]\":\n",
    "    \"\"\"\n",
    "    this module converts custom target - ln(high/yesterday_close) to actual high price again for timeseries converted data using rolling         window of size 10\n",
    "    \"\"\"\n",
    "    data_df = df.copy()\n",
    "    \n",
    "    # exclude first 10 rows of train/test data, as while us\n",
    "    \n",
    "    y = np.exp(y) * data_df.loc[data_df.index[window:], 'yesterday_close'].reset_index(drop=True)\n",
    "    return(y)    "
   ]
  },
  {
   "cell_type": "code",
   "execution_count": 65,
   "id": "e6bfabb6",
   "metadata": {},
   "outputs": [],
   "source": [
    "def evaluate_model(model, window, dev_data, dev_date, X_test, y_test):\n",
    "    \n",
    "    # do target prediction using the provide model\n",
    "    y_pred = model.predict(X_test)\n",
    "\n",
    "    # convert back to original value, before computing mape            \n",
    "    y_test = convert_custom_target_to_actual_for_supervise(dev_data, window, y_test)\n",
    "    y_pred = convert_custom_target_to_actual_for_supervise(dev_data, window, y_pred)\n",
    "\n",
    "    dev_dates = dev_date[window:].reset_index(drop=True)\n",
    "    predictions_df = pd.DataFrame({'date': dev_dates, 'y_test': y_test, 'y_pred': y_pred})\n",
    "\n",
    "    # compute regression metric - mape \n",
    "    mape = mean_absolute_percentage_error(y_test, y_pred)\n",
    "\n",
    "    # compute rmse metric\n",
    "    rmse = mean_squared_error(y_test, y_pred, squared=False)        \n",
    "    return(predictions_df, mape, rmse)"
   ]
  },
  {
   "cell_type": "code",
   "execution_count": 66,
   "id": "2089e4a8",
   "metadata": {},
   "outputs": [],
   "source": [
    "predictions_df, mape, rmse = evaluate_model(model_50, window_size, dev_data, dev_date, X_test_50, y_test)"
   ]
  },
  {
   "cell_type": "code",
   "execution_count": 67,
   "id": "0405936f",
   "metadata": {},
   "outputs": [
    {
     "data": {
      "text/plain": [
       "(           date       y_test       y_pred\n",
       " 0    2020-06-23  4228.899902  4299.220148\n",
       " 1    2020-06-24  4123.000000  4198.744493\n",
       " 2    2020-06-25  4230.100098  4176.072747\n",
       " 3    2020-06-26  4230.850098  4284.392018\n",
       " 4    2020-06-29  4150.000000  4219.323696\n",
       " ..          ...          ...          ...\n",
       " 353  2021-11-23  5036.799805  5181.374864\n",
       " 354  2021-11-24  5088.000000  5197.584786\n",
       " 355  2021-11-25  5060.000000  5159.886141\n",
       " 356  2021-11-26  5080.000000  5192.392391\n",
       " 357  2021-11-29  4993.350098  5170.625948\n",
       " \n",
       " [358 rows x 3 columns],\n",
       " 0.018587815977171265,\n",
       " 126.71472687820801)"
      ]
     },
     "execution_count": 67,
     "metadata": {},
     "output_type": "execute_result"
    }
   ],
   "source": [
    "predictions_df, mape, rmse"
   ]
  },
  {
   "cell_type": "code",
   "execution_count": 31,
   "id": "3512afe7",
   "metadata": {},
   "outputs": [
    {
     "name": "stdout",
     "output_type": "stream",
     "text": [
      "MAPE for model with top 50 features: 1.75%\n"
     ]
    }
   ],
   "source": [
    "print(f\"MAPE for model with top 50 features: {mape*100:.2f}%\")"
   ]
  },
  {
   "cell_type": "code",
   "execution_count": 32,
   "id": "1475e67c",
   "metadata": {},
   "outputs": [
    {
     "data": {
      "text/html": [
       "\n",
       "<style>\n",
       "  #altair-viz-180d642480194e8bafaf7ca68e316a7a.vega-embed {\n",
       "    width: 100%;\n",
       "    display: flex;\n",
       "  }\n",
       "\n",
       "  #altair-viz-180d642480194e8bafaf7ca68e316a7a.vega-embed details,\n",
       "  #altair-viz-180d642480194e8bafaf7ca68e316a7a.vega-embed details summary {\n",
       "    position: relative;\n",
       "  }\n",
       "</style>\n",
       "<div id=\"altair-viz-180d642480194e8bafaf7ca68e316a7a\"></div>\n",
       "<script type=\"text/javascript\">\n",
       "  var VEGA_DEBUG = (typeof VEGA_DEBUG == \"undefined\") ? {} : VEGA_DEBUG;\n",
       "  (function(spec, embedOpt){\n",
       "    let outputDiv = document.currentScript.previousElementSibling;\n",
       "    if (outputDiv.id !== \"altair-viz-180d642480194e8bafaf7ca68e316a7a\") {\n",
       "      outputDiv = document.getElementById(\"altair-viz-180d642480194e8bafaf7ca68e316a7a\");\n",
       "    }\n",
       "    const paths = {\n",
       "      \"vega\": \"https://cdn.jsdelivr.net/npm/vega@5?noext\",\n",
       "      \"vega-lib\": \"https://cdn.jsdelivr.net/npm/vega-lib?noext\",\n",
       "      \"vega-lite\": \"https://cdn.jsdelivr.net/npm/vega-lite@5.8.0?noext\",\n",
       "      \"vega-embed\": \"https://cdn.jsdelivr.net/npm/vega-embed@6?noext\",\n",
       "    };\n",
       "\n",
       "    function maybeLoadScript(lib, version) {\n",
       "      var key = `${lib.replace(\"-\", \"\")}_version`;\n",
       "      return (VEGA_DEBUG[key] == version) ?\n",
       "        Promise.resolve(paths[lib]) :\n",
       "        new Promise(function(resolve, reject) {\n",
       "          var s = document.createElement('script');\n",
       "          document.getElementsByTagName(\"head\")[0].appendChild(s);\n",
       "          s.async = true;\n",
       "          s.onload = () => {\n",
       "            VEGA_DEBUG[key] = version;\n",
       "            return resolve(paths[lib]);\n",
       "          };\n",
       "          s.onerror = () => reject(`Error loading script: ${paths[lib]}`);\n",
       "          s.src = paths[lib];\n",
       "        });\n",
       "    }\n",
       "\n",
       "    function showError(err) {\n",
       "      outputDiv.innerHTML = `<div class=\"error\" style=\"color:red;\">${err}</div>`;\n",
       "      throw err;\n",
       "    }\n",
       "\n",
       "    function displayChart(vegaEmbed) {\n",
       "      vegaEmbed(outputDiv, spec, embedOpt)\n",
       "        .catch(err => showError(`Javascript Error: ${err.message}<br>This usually means there's a typo in your chart specification. See the javascript console for the full traceback.`));\n",
       "    }\n",
       "\n",
       "    if(typeof define === \"function\" && define.amd) {\n",
       "      requirejs.config({paths});\n",
       "      require([\"vega-embed\"], displayChart, err => showError(`Error loading script: ${err.message}`));\n",
       "    } else {\n",
       "      maybeLoadScript(\"vega\", \"5\")\n",
       "        .then(() => maybeLoadScript(\"vega-lite\", \"5.8.0\"))\n",
       "        .then(() => maybeLoadScript(\"vega-embed\", \"6\"))\n",
       "        .catch(showError)\n",
       "        .then(() => displayChart(vegaEmbed));\n",
       "    }\n",
       "  })({\"usermeta\": {\"embedOptions\": {\"theme\": \"fivethirtyeight\"}}, \"config\": {\"view\": {\"continuousWidth\": 300, \"continuousHeight\": 300}}, \"layer\": [{\"mark\": {\"type\": \"line\", \"strokeWidth\": 2}, \"encoding\": {\"color\": {\"field\": \"label\", \"legend\": {\"title\": \"Line Type\"}, \"type\": \"nominal\"}, \"tooltip\": [{\"field\": \"date\", \"type\": \"temporal\"}, {\"field\": \"y_test\", \"type\": \"quantitative\"}, {\"field\": \"y_pred\", \"type\": \"quantitative\"}], \"x\": {\"field\": \"date\", \"type\": \"temporal\"}, \"y\": {\"field\": \"y_test\", \"scale\": {\"zero\": false}, \"title\": \"Price\", \"type\": \"quantitative\"}}, \"name\": \"view_2\"}, {\"mark\": {\"type\": \"line\", \"strokeDash\": [3, 3], \"strokeWidth\": 1}, \"encoding\": {\"color\": {\"field\": \"predicted_label\", \"legend\": {\"title\": \"Line Type\"}, \"type\": \"nominal\"}, \"tooltip\": [{\"field\": \"date\", \"type\": \"temporal\"}, {\"field\": \"y_test\", \"type\": \"quantitative\"}, {\"field\": \"y_pred\", \"type\": \"quantitative\"}], \"x\": {\"field\": \"date\", \"type\": \"temporal\"}, \"y\": {\"field\": \"y_pred\", \"scale\": {\"zero\": false}, \"title\": \"\", \"type\": \"quantitative\"}}}], \"data\": {\"name\": \"data-4b9b550085f6923cb3ff33d8e9200956\"}, \"height\": 400, \"params\": [{\"name\": \"param_2\", \"select\": {\"type\": \"interval\", \"encodings\": [\"x\", \"y\"]}, \"bind\": \"scales\", \"views\": [\"view_2\"]}], \"title\": \"Actual vs Predicted High Prices\", \"width\": 650, \"$schema\": \"https://vega.github.io/schema/vega-lite/v5.8.0.json\", \"datasets\": {\"data-4b9b550085f6923cb3ff33d8e9200956\": [{\"date\": \"2020-06-23T00:00:00\", \"y_test\": 4228.89990234375, \"y_pred\": 4311.274573900084, \"label\": \"Actual\", \"predicted_label\": \"Predicted\"}, {\"date\": \"2020-06-24T00:00:00\", \"y_test\": 4123.0, \"y_pred\": 4203.453241899067, \"label\": \"Actual\", \"predicted_label\": \"Predicted\"}, {\"date\": \"2020-06-25T00:00:00\", \"y_test\": 4230.10009765625, \"y_pred\": 4173.086181915301, \"label\": \"Actual\", \"predicted_label\": \"Predicted\"}, {\"date\": \"2020-06-26T00:00:00\", \"y_test\": 4230.85009765625, \"y_pred\": 4292.264118913068, \"label\": \"Actual\", \"predicted_label\": \"Predicted\"}, {\"date\": \"2020-06-29T00:00:00\", \"y_test\": 4150.0, \"y_pred\": 4210.8795522777755, \"label\": \"Actual\", \"predicted_label\": \"Predicted\"}, {\"date\": \"2020-06-30T00:00:00\", \"y_test\": 4126.0498046875, \"y_pred\": 4110.917595071278, \"label\": \"Actual\", \"predicted_label\": \"Predicted\"}, {\"date\": \"2020-07-01T00:00:00\", \"y_test\": 4095.0, \"y_pred\": 4134.0217803861715, \"label\": \"Actual\", \"predicted_label\": \"Predicted\"}, {\"date\": \"2020-07-02T00:00:00\", \"y_test\": 4095.0, \"y_pred\": 4159.048662260928, \"label\": \"Actual\", \"predicted_label\": \"Predicted\"}, {\"date\": \"2020-07-06T00:00:00\", \"y_test\": 4311.0498046875, \"y_pred\": 4129.497333249624, \"label\": \"Actual\", \"predicted_label\": \"Predicted\"}, {\"date\": \"2020-07-07T00:00:00\", \"y_test\": 4300.0, \"y_pred\": 4357.1947891531345, \"label\": \"Actual\", \"predicted_label\": \"Predicted\"}, {\"date\": \"2020-07-08T00:00:00\", \"y_test\": 4285.7998046875, \"y_pred\": 4318.6564844040095, \"label\": \"Actual\", \"predicted_label\": \"Predicted\"}, {\"date\": \"2020-07-09T00:00:00\", \"y_test\": 4230.0, \"y_pred\": 4263.924199003595, \"label\": \"Actual\", \"predicted_label\": \"Predicted\"}, {\"date\": \"2020-07-10T00:00:00\", \"y_test\": 4199.0, \"y_pred\": 4240.61790358073, \"label\": \"Actual\", \"predicted_label\": \"Predicted\"}, {\"date\": \"2020-07-13T00:00:00\", \"y_test\": 4158.0, \"y_pred\": 4217.909639532156, \"label\": \"Actual\", \"predicted_label\": \"Predicted\"}, {\"date\": \"2020-07-14T00:00:00\", \"y_test\": 4125.0, \"y_pred\": 4176.70070185726, \"label\": \"Actual\", \"predicted_label\": \"Predicted\"}, {\"date\": \"2020-07-15T00:00:00\", \"y_test\": 4086.0000000000005, \"y_pred\": 4120.323457220522, \"label\": \"Actual\", \"predicted_label\": \"Predicted\"}, {\"date\": \"2020-07-16T00:00:00\", \"y_test\": 4152.0, \"y_pred\": 4132.361278181292, \"label\": \"Actual\", \"predicted_label\": \"Predicted\"}, {\"date\": \"2020-07-17T00:00:00\", \"y_test\": 4147.0, \"y_pred\": 4172.158726197824, \"label\": \"Actual\", \"predicted_label\": \"Predicted\"}, {\"date\": \"2020-07-20T00:00:00\", \"y_test\": 4181.9501953125, \"y_pred\": 4194.812572527704, \"label\": \"Actual\", \"predicted_label\": \"Predicted\"}, {\"date\": \"2020-07-21T00:00:00\", \"y_test\": 4174.35009765625, \"y_pred\": 4205.656486165639, \"label\": \"Actual\", \"predicted_label\": \"Predicted\"}, {\"date\": \"2020-07-22T00:00:00\", \"y_test\": 4110.75, \"y_pred\": 4153.449720090495, \"label\": \"Actual\", \"predicted_label\": \"Predicted\"}, {\"date\": \"2020-07-23T00:00:00\", \"y_test\": 4110.0, \"y_pred\": 4111.224953351661, \"label\": \"Actual\", \"predicted_label\": \"Predicted\"}, {\"date\": \"2020-07-24T00:00:00\", \"y_test\": 4070.0000000000005, \"y_pred\": 4106.632297736675, \"label\": \"Actual\", \"predicted_label\": \"Predicted\"}, {\"date\": \"2020-07-27T00:00:00\", \"y_test\": 4069.8000488281255, \"y_pred\": 4077.4749582652294, \"label\": \"Actual\", \"predicted_label\": \"Predicted\"}, {\"date\": \"2020-07-28T00:00:00\", \"y_test\": 4198.9501953125, \"y_pred\": 4102.272970091187, \"label\": \"Actual\", \"predicted_label\": \"Predicted\"}, {\"date\": \"2020-07-29T00:00:00\", \"y_test\": 4244.5498046875, \"y_pred\": 4331.199204108668, \"label\": \"Actual\", \"predicted_label\": \"Predicted\"}, {\"date\": \"2020-07-30T00:00:00\", \"y_test\": 4239.0, \"y_pred\": 4239.717946691384, \"label\": \"Actual\", \"predicted_label\": \"Predicted\"}, {\"date\": \"2020-07-31T00:00:00\", \"y_test\": 4300.0, \"y_pred\": 4207.043660180307, \"label\": \"Actual\", \"predicted_label\": \"Predicted\"}, {\"date\": \"2020-08-03T00:00:00\", \"y_test\": 4514.5, \"y_pred\": 4225.088895244504, \"label\": \"Actual\", \"predicted_label\": \"Predicted\"}, {\"date\": \"2020-08-04T00:00:00\", \"y_test\": 4450.899902343749, \"y_pred\": 4562.679011158193, \"label\": \"Actual\", \"predicted_label\": \"Predicted\"}, {\"date\": \"2020-08-05T00:00:00\", \"y_test\": 4428.2001953125, \"y_pred\": 4531.140053438252, \"label\": \"Actual\", \"predicted_label\": \"Predicted\"}, {\"date\": \"2020-08-06T00:00:00\", \"y_test\": 4435.89990234375, \"y_pred\": 4542.010300822601, \"label\": \"Actual\", \"predicted_label\": \"Predicted\"}, {\"date\": \"2020-08-07T00:00:00\", \"y_test\": 4727.2001953125, \"y_pred\": 4527.284189525806, \"label\": \"Actual\", \"predicted_label\": \"Predicted\"}, {\"date\": \"2020-08-10T00:00:00\", \"y_test\": 4855.0, \"y_pred\": 4826.703956078455, \"label\": \"Actual\", \"predicted_label\": \"Predicted\"}, {\"date\": \"2020-08-11T00:00:00\", \"y_test\": 4620.0, \"y_pred\": 4631.527653318973, \"label\": \"Actual\", \"predicted_label\": \"Predicted\"}, {\"date\": \"2020-08-12T00:00:00\", \"y_test\": 4780.0, \"y_pred\": 4582.478062391097, \"label\": \"Actual\", \"predicted_label\": \"Predicted\"}, {\"date\": \"2020-08-13T00:00:00\", \"y_test\": 4850.0, \"y_pred\": 4786.825914891522, \"label\": \"Actual\", \"predicted_label\": \"Predicted\"}, {\"date\": \"2020-08-14T00:00:00\", \"y_test\": 4791.549804687499, \"y_pred\": 4764.121236806234, \"label\": \"Actual\", \"predicted_label\": \"Predicted\"}, {\"date\": \"2020-08-17T00:00:00\", \"y_test\": 4755.549804687499, \"y_pred\": 4776.115355876328, \"label\": \"Actual\", \"predicted_label\": \"Predicted\"}, {\"date\": \"2020-08-18T00:00:00\", \"y_test\": 4750.0, \"y_pred\": 4770.614538114251, \"label\": \"Actual\", \"predicted_label\": \"Predicted\"}, {\"date\": \"2020-08-19T00:00:00\", \"y_test\": 4850.0, \"y_pred\": 4826.6484861592035, \"label\": \"Actual\", \"predicted_label\": \"Predicted\"}, {\"date\": \"2020-08-20T00:00:00\", \"y_test\": 4920.0, \"y_pred\": 4889.07822605379, \"label\": \"Actual\", \"predicted_label\": \"Predicted\"}, {\"date\": \"2020-08-21T00:00:00\", \"y_test\": 4795.14990234375, \"y_pred\": 4837.812220010086, \"label\": \"Actual\", \"predicted_label\": \"Predicted\"}, {\"date\": \"2020-08-24T00:00:00\", \"y_test\": 4830.0, \"y_pred\": 4808.564523212747, \"label\": \"Actual\", \"predicted_label\": \"Predicted\"}, {\"date\": \"2020-08-25T00:00:00\", \"y_test\": 4899.000000000001, \"y_pred\": 4795.9312806456655, \"label\": \"Actual\", \"predicted_label\": \"Predicted\"}, {\"date\": \"2020-08-26T00:00:00\", \"y_test\": 5095.0, \"y_pred\": 5022.923921984325, \"label\": \"Actual\", \"predicted_label\": \"Predicted\"}, {\"date\": \"2020-08-27T00:00:00\", \"y_test\": 5148.9501953125, \"y_pred\": 5170.728686370413, \"label\": \"Actual\", \"predicted_label\": \"Predicted\"}, {\"date\": \"2020-08-28T00:00:00\", \"y_test\": 5099.999999999999, \"y_pred\": 5157.541613712186, \"label\": \"Actual\", \"predicted_label\": \"Predicted\"}, {\"date\": \"2020-08-31T00:00:00\", \"y_test\": 4999.85009765625, \"y_pred\": 5082.193116025236, \"label\": \"Actual\", \"predicted_label\": \"Predicted\"}, {\"date\": \"2020-09-01T00:00:00\", \"y_test\": 4982.0, \"y_pred\": 4881.732519038433, \"label\": \"Actual\", \"predicted_label\": \"Predicted\"}, {\"date\": \"2020-09-02T00:00:00\", \"y_test\": 5050.0, \"y_pred\": 5085.636546595269, \"label\": \"Actual\", \"predicted_label\": \"Predicted\"}, {\"date\": \"2020-09-03T00:00:00\", \"y_test\": 5003.0, \"y_pred\": 5051.119594371349, \"label\": \"Actual\", \"predicted_label\": \"Predicted\"}, {\"date\": \"2020-09-04T00:00:00\", \"y_test\": 4960.60009765625, \"y_pred\": 5069.6407602816025, \"label\": \"Actual\", \"predicted_label\": \"Predicted\"}, {\"date\": \"2020-09-07T00:00:00\", \"y_test\": 4840.14990234375, \"y_pred\": 4932.042687982571, \"label\": \"Actual\", \"predicted_label\": \"Predicted\"}, {\"date\": \"2020-09-08T00:00:00\", \"y_test\": 4873.7998046875, \"y_pred\": 4831.136980560097, \"label\": \"Actual\", \"predicted_label\": \"Predicted\"}, {\"date\": \"2020-09-09T00:00:00\", \"y_test\": 4839.60009765625, \"y_pred\": 4908.296462350446, \"label\": \"Actual\", \"predicted_label\": \"Predicted\"}, {\"date\": \"2020-09-10T00:00:00\", \"y_test\": 4935.0, \"y_pred\": 4945.453031217013, \"label\": \"Actual\", \"predicted_label\": \"Predicted\"}, {\"date\": \"2020-09-11T00:00:00\", \"y_test\": 4987.9501953125, \"y_pred\": 5017.47282467594, \"label\": \"Actual\", \"predicted_label\": \"Predicted\"}, {\"date\": \"2020-09-14T00:00:00\", \"y_test\": 5464.75, \"y_pred\": 5064.458875426739, \"label\": \"Actual\", \"predicted_label\": \"Predicted\"}, {\"date\": \"2020-09-15T00:00:00\", \"y_test\": 5683.0, \"y_pred\": 5450.0527050785595, \"label\": \"Actual\", \"predicted_label\": \"Predicted\"}, {\"date\": \"2020-09-16T00:00:00\", \"y_test\": 5650.0, \"y_pred\": 5813.882417846393, \"label\": \"Actual\", \"predicted_label\": \"Predicted\"}, {\"date\": \"2020-09-17T00:00:00\", \"y_test\": 5532.0, \"y_pred\": 5557.937395732951, \"label\": \"Actual\", \"predicted_label\": \"Predicted\"}, {\"date\": \"2020-09-18T00:00:00\", \"y_test\": 5467.200195312501, \"y_pred\": 5507.648327712955, \"label\": \"Actual\", \"predicted_label\": \"Predicted\"}, {\"date\": \"2020-09-21T00:00:00\", \"y_test\": 5344.89990234375, \"y_pred\": 5403.448001852539, \"label\": \"Actual\", \"predicted_label\": \"Predicted\"}, {\"date\": \"2020-09-22T00:00:00\", \"y_test\": 5164.5498046875, \"y_pred\": 5264.118044687493, \"label\": \"Actual\", \"predicted_label\": \"Predicted\"}, {\"date\": \"2020-09-23T00:00:00\", \"y_test\": 5099.0, \"y_pred\": 5136.3735059106375, \"label\": \"Actual\", \"predicted_label\": \"Predicted\"}, {\"date\": \"2020-09-24T00:00:00\", \"y_test\": 4916.60009765625, \"y_pred\": 5075.323469001435, \"label\": \"Actual\", \"predicted_label\": \"Predicted\"}, {\"date\": \"2020-09-25T00:00:00\", \"y_test\": 4949.10009765625, \"y_pred\": 4950.936860037272, \"label\": \"Actual\", \"predicted_label\": \"Predicted\"}, {\"date\": \"2020-09-28T00:00:00\", \"y_test\": 5078.4501953125, \"y_pred\": 4999.295099900113, \"label\": \"Actual\", \"predicted_label\": \"Predicted\"}, {\"date\": \"2020-09-29T00:00:00\", \"y_test\": 5220.0, \"y_pred\": 5166.110944986693, \"label\": \"Actual\", \"predicted_label\": \"Predicted\"}, {\"date\": \"2020-09-30T00:00:00\", \"y_test\": 5078.89990234375, \"y_pred\": 5127.518206369017, \"label\": \"Actual\", \"predicted_label\": \"Predicted\"}, {\"date\": \"2020-10-01T00:00:00\", \"y_test\": 5359.39990234375, \"y_pred\": 5110.821721119752, \"label\": \"Actual\", \"predicted_label\": \"Predicted\"}, {\"date\": \"2020-10-05T00:00:00\", \"y_test\": 5444.0, \"y_pred\": 5399.386270164053, \"label\": \"Actual\", \"predicted_label\": \"Predicted\"}, {\"date\": \"2020-10-06T00:00:00\", \"y_test\": 5388.35009765625, \"y_pred\": 5428.002771729051, \"label\": \"Actual\", \"predicted_label\": \"Predicted\"}, {\"date\": \"2020-10-07T00:00:00\", \"y_test\": 5374.999999999999, \"y_pred\": 5481.796876865223, \"label\": \"Actual\", \"predicted_label\": \"Predicted\"}, {\"date\": \"2020-10-08T00:00:00\", \"y_test\": 5476.700195312499, \"y_pred\": 5471.393436724293, \"label\": \"Actual\", \"predicted_label\": \"Predicted\"}, {\"date\": \"2020-10-09T00:00:00\", \"y_test\": 5410.0, \"y_pred\": 5507.710909753018, \"label\": \"Actual\", \"predicted_label\": \"Predicted\"}, {\"date\": \"2020-10-12T00:00:00\", \"y_test\": 5408.0, \"y_pred\": 5476.971391602841, \"label\": \"Actual\", \"predicted_label\": \"Predicted\"}, {\"date\": \"2020-10-13T00:00:00\", \"y_test\": 5316.0, \"y_pred\": 5393.1239535408595, \"label\": \"Actual\", \"predicted_label\": \"Predicted\"}, {\"date\": \"2020-10-14T00:00:00\", \"y_test\": 5170.0, \"y_pred\": 5261.148704553283, \"label\": \"Actual\", \"predicted_label\": \"Predicted\"}, {\"date\": \"2020-10-15T00:00:00\", \"y_test\": 5208.0, \"y_pred\": 5239.945501397322, \"label\": \"Actual\", \"predicted_label\": \"Predicted\"}, {\"date\": \"2020-10-16T00:00:00\", \"y_test\": 5130.14990234375, \"y_pred\": 5201.734637719471, \"label\": \"Actual\", \"predicted_label\": \"Predicted\"}, {\"date\": \"2020-10-19T00:00:00\", \"y_test\": 5170.0, \"y_pred\": 5216.625176214164, \"label\": \"Actual\", \"predicted_label\": \"Predicted\"}, {\"date\": \"2020-10-20T00:00:00\", \"y_test\": 5121.2998046875, \"y_pred\": 5190.592786135349, \"label\": \"Actual\", \"predicted_label\": \"Predicted\"}, {\"date\": \"2020-10-21T00:00:00\", \"y_test\": 5154.85009765625, \"y_pred\": 5211.663697266955, \"label\": \"Actual\", \"predicted_label\": \"Predicted\"}, {\"date\": \"2020-10-22T00:00:00\", \"y_test\": 5125.0, \"y_pred\": 5197.388398092215, \"label\": \"Actual\", \"predicted_label\": \"Predicted\"}, {\"date\": \"2020-10-23T00:00:00\", \"y_test\": 5214.000000000001, \"y_pred\": 5203.959205229005, \"label\": \"Actual\", \"predicted_label\": \"Predicted\"}, {\"date\": \"2020-10-26T00:00:00\", \"y_test\": 5099.64990234375, \"y_pred\": 5153.169342692414, \"label\": \"Actual\", \"predicted_label\": \"Predicted\"}, {\"date\": \"2020-10-27T00:00:00\", \"y_test\": 5237.39990234375, \"y_pred\": 5156.650077973323, \"label\": \"Actual\", \"predicted_label\": \"Predicted\"}, {\"date\": \"2020-10-28T00:00:00\", \"y_test\": 5350.0, \"y_pred\": 5235.807696194446, \"label\": \"Actual\", \"predicted_label\": \"Predicted\"}, {\"date\": \"2020-10-29T00:00:00\", \"y_test\": 5235.0, \"y_pred\": 5254.30335221538, \"label\": \"Actual\", \"predicted_label\": \"Predicted\"}, {\"date\": \"2020-10-30T00:00:00\", \"y_test\": 5270.9501953125, \"y_pred\": 5304.092700371328, \"label\": \"Actual\", \"predicted_label\": \"Predicted\"}, {\"date\": \"2020-11-02T00:00:00\", \"y_test\": 5255.0, \"y_pred\": 5267.76125483064, \"label\": \"Actual\", \"predicted_label\": \"Predicted\"}, {\"date\": \"2020-11-03T00:00:00\", \"y_test\": 5275.000000000001, \"y_pred\": 5332.435352181159, \"label\": \"Actual\", \"predicted_label\": \"Predicted\"}, {\"date\": \"2020-11-04T00:00:00\", \"y_test\": 5249.999999999999, \"y_pred\": 5368.4825336404365, \"label\": \"Actual\", \"predicted_label\": \"Predicted\"}, {\"date\": \"2020-11-05T00:00:00\", \"y_test\": 5299.999999999999, \"y_pred\": 5346.769704016825, \"label\": \"Actual\", \"predicted_label\": \"Predicted\"}, {\"date\": \"2020-11-06T00:00:00\", \"y_test\": 5335.9501953125, \"y_pred\": 5427.690346533484, \"label\": \"Actual\", \"predicted_label\": \"Predicted\"}, {\"date\": \"2020-11-09T00:00:00\", \"y_test\": 5358.0, \"y_pred\": 5444.2052486322, \"label\": \"Actual\", \"predicted_label\": \"Predicted\"}, {\"date\": \"2020-11-10T00:00:00\", \"y_test\": 5350.0, \"y_pred\": 5407.625146305217, \"label\": \"Actual\", \"predicted_label\": \"Predicted\"}, {\"date\": \"2020-11-11T00:00:00\", \"y_test\": 5412.0, \"y_pred\": 5449.190749036972, \"label\": \"Actual\", \"predicted_label\": \"Predicted\"}, {\"date\": \"2020-11-12T00:00:00\", \"y_test\": 5735.39990234375, \"y_pred\": 5527.595125830131, \"label\": \"Actual\", \"predicted_label\": \"Predicted\"}, {\"date\": \"2020-11-13T00:00:00\", \"y_test\": 6039.0, \"y_pred\": 5977.176445025046, \"label\": \"Actual\", \"predicted_label\": \"Predicted\"}, {\"date\": \"2020-11-14T00:00:00\", \"y_test\": 6163.950195312499, \"y_pred\": 6239.037812957313, \"label\": \"Actual\", \"predicted_label\": \"Predicted\"}, {\"date\": \"2020-11-17T00:00:00\", \"y_test\": 6189.999999999999, \"y_pred\": 6259.958011651209, \"label\": \"Actual\", \"predicted_label\": \"Predicted\"}, {\"date\": \"2020-11-18T00:00:00\", \"y_test\": 5950.0, \"y_pred\": 6068.5399430931975, \"label\": \"Actual\", \"predicted_label\": \"Predicted\"}, {\"date\": \"2020-11-19T00:00:00\", \"y_test\": 5909.999999999999, \"y_pred\": 5980.913353923164, \"label\": \"Actual\", \"predicted_label\": \"Predicted\"}, {\"date\": \"2020-11-20T00:00:00\", \"y_test\": 6124.9501953125, \"y_pred\": 5943.562527154485, \"label\": \"Actual\", \"predicted_label\": \"Predicted\"}, {\"date\": \"2020-11-23T00:00:00\", \"y_test\": 6446.39990234375, \"y_pred\": 6165.396787247692, \"label\": \"Actual\", \"predicted_label\": \"Predicted\"}, {\"date\": \"2020-11-24T00:00:00\", \"y_test\": 6480.000000000001, \"y_pred\": 6368.939267751085, \"label\": \"Actual\", \"predicted_label\": \"Predicted\"}, {\"date\": \"2020-11-25T00:00:00\", \"y_test\": 6440.5, \"y_pred\": 6444.819099891314, \"label\": \"Actual\", \"predicted_label\": \"Predicted\"}, {\"date\": \"2020-11-26T00:00:00\", \"y_test\": 6470.000000000001, \"y_pred\": 6522.801794978475, \"label\": \"Actual\", \"predicted_label\": \"Predicted\"}, {\"date\": \"2020-11-27T00:00:00\", \"y_test\": 6975.0, \"y_pred\": 6480.339676532195, \"label\": \"Actual\", \"predicted_label\": \"Predicted\"}, {\"date\": \"2020-12-01T00:00:00\", \"y_test\": 7040.000000000001, \"y_pred\": 7048.094156057388, \"label\": \"Actual\", \"predicted_label\": \"Predicted\"}, {\"date\": \"2020-12-02T00:00:00\", \"y_test\": 6850.0, \"y_pred\": 6787.77289339842, \"label\": \"Actual\", \"predicted_label\": \"Predicted\"}, {\"date\": \"2020-12-03T00:00:00\", \"y_test\": 6841.14990234375, \"y_pred\": 6948.961163902657, \"label\": \"Actual\", \"predicted_label\": \"Predicted\"}, {\"date\": \"2020-12-04T00:00:00\", \"y_test\": 6925.14990234375, \"y_pred\": 6882.967653275422, \"label\": \"Actual\", \"predicted_label\": \"Predicted\"}, {\"date\": \"2020-12-07T00:00:00\", \"y_test\": 6857.899902343749, \"y_pred\": 6981.188169486678, \"label\": \"Actual\", \"predicted_label\": \"Predicted\"}, {\"date\": \"2020-12-08T00:00:00\", \"y_test\": 6800.0, \"y_pred\": 6934.540074268501, \"label\": \"Actual\", \"predicted_label\": \"Predicted\"}, {\"date\": \"2020-12-09T00:00:00\", \"y_test\": 6789.000000000001, \"y_pred\": 6859.139570163769, \"label\": \"Actual\", \"predicted_label\": \"Predicted\"}, {\"date\": \"2020-12-10T00:00:00\", \"y_test\": 6756.299804687501, \"y_pred\": 6880.240829438752, \"label\": \"Actual\", \"predicted_label\": \"Predicted\"}, {\"date\": \"2020-12-11T00:00:00\", \"y_test\": 6751.000000000001, \"y_pred\": 6809.354420641112, \"label\": \"Actual\", \"predicted_label\": \"Predicted\"}, {\"date\": \"2020-12-14T00:00:00\", \"y_test\": 6753.7998046875, \"y_pred\": 6813.552734099447, \"label\": \"Actual\", \"predicted_label\": \"Predicted\"}, {\"date\": \"2020-12-15T00:00:00\", \"y_test\": 6710.0, \"y_pred\": 6840.923559562013, \"label\": \"Actual\", \"predicted_label\": \"Predicted\"}, {\"date\": \"2020-12-16T00:00:00\", \"y_test\": 6845.0, \"y_pred\": 6804.089040244069, \"label\": \"Actual\", \"predicted_label\": \"Predicted\"}, {\"date\": \"2020-12-17T00:00:00\", \"y_test\": 6888.0, \"y_pred\": 7087.431714098592, \"label\": \"Actual\", \"predicted_label\": \"Predicted\"}, {\"date\": \"2020-12-18T00:00:00\", \"y_test\": 7029.999999999999, \"y_pred\": 7059.751137103284, \"label\": \"Actual\", \"predicted_label\": \"Predicted\"}, {\"date\": \"2020-12-21T00:00:00\", \"y_test\": 6898.0, \"y_pred\": 7023.15565859044, \"label\": \"Actual\", \"predicted_label\": \"Predicted\"}, {\"date\": \"2020-12-22T00:00:00\", \"y_test\": 6776.14990234375, \"y_pred\": 6757.477004669849, \"label\": \"Actual\", \"predicted_label\": \"Predicted\"}, {\"date\": \"2020-12-23T00:00:00\", \"y_test\": 7221.999999999999, \"y_pred\": 6899.347855005457, \"label\": \"Actual\", \"predicted_label\": \"Predicted\"}, {\"date\": \"2020-12-24T00:00:00\", \"y_test\": 7356.35009765625, \"y_pred\": 7283.11311667935, \"label\": \"Actual\", \"predicted_label\": \"Predicted\"}, {\"date\": \"2020-12-28T00:00:00\", \"y_test\": 7244.85009765625, \"y_pred\": 7285.715650345191, \"label\": \"Actual\", \"predicted_label\": \"Predicted\"}, {\"date\": \"2020-12-29T00:00:00\", \"y_test\": 7025.750000000001, \"y_pred\": 7090.698028008151, \"label\": \"Actual\", \"predicted_label\": \"Predicted\"}, {\"date\": \"2020-12-30T00:00:00\", \"y_test\": 7000.0, \"y_pred\": 7045.8253932028165, \"label\": \"Actual\", \"predicted_label\": \"Predicted\"}, {\"date\": \"2020-12-31T00:00:00\", \"y_test\": 6921.0, \"y_pred\": 7007.275083315785, \"label\": \"Actual\", \"predicted_label\": \"Predicted\"}, {\"date\": \"2021-01-01T00:00:00\", \"y_test\": 7000.0, \"y_pred\": 6964.986823385593, \"label\": \"Actual\", \"predicted_label\": \"Predicted\"}, {\"date\": \"2021-01-04T00:00:00\", \"y_test\": 7050.000000000001, \"y_pred\": 7177.468024869909, \"label\": \"Actual\", \"predicted_label\": \"Predicted\"}, {\"date\": \"2021-01-05T00:00:00\", \"y_test\": 7010.60009765625, \"y_pred\": 7170.075457472725, \"label\": \"Actual\", \"predicted_label\": \"Predicted\"}, {\"date\": \"2021-01-06T00:00:00\", \"y_test\": 7141.499999999999, \"y_pred\": 7160.883388485978, \"label\": \"Actual\", \"predicted_label\": \"Predicted\"}, {\"date\": \"2021-01-07T00:00:00\", \"y_test\": 6985.0, \"y_pred\": 7127.1195394845545, \"label\": \"Actual\", \"predicted_label\": \"Predicted\"}, {\"date\": \"2021-01-08T00:00:00\", \"y_test\": 7190.0, \"y_pred\": 7071.383537378606, \"label\": \"Actual\", \"predicted_label\": \"Predicted\"}, {\"date\": \"2021-01-11T00:00:00\", \"y_test\": 7036.89990234375, \"y_pred\": 7148.4080595834, \"label\": \"Actual\", \"predicted_label\": \"Predicted\"}, {\"date\": \"2021-01-12T00:00:00\", \"y_test\": 6964.0, \"y_pred\": 7148.54476103901, \"label\": \"Actual\", \"predicted_label\": \"Predicted\"}, {\"date\": \"2021-01-13T00:00:00\", \"y_test\": 6880.0, \"y_pred\": 7007.394444115208, \"label\": \"Actual\", \"predicted_label\": \"Predicted\"}, {\"date\": \"2021-01-14T00:00:00\", \"y_test\": 6856.60009765625, \"y_pred\": 6978.590155435037, \"label\": \"Actual\", \"predicted_label\": \"Predicted\"}, {\"date\": \"2021-01-15T00:00:00\", \"y_test\": 6833.950195312499, \"y_pred\": 6959.303645778662, \"label\": \"Actual\", \"predicted_label\": \"Predicted\"}, {\"date\": \"2021-01-18T00:00:00\", \"y_test\": 6999.0, \"y_pred\": 7014.55744307439, \"label\": \"Actual\", \"predicted_label\": \"Predicted\"}, {\"date\": \"2021-01-19T00:00:00\", \"y_test\": 6850.000000000001, \"y_pred\": 6913.284300213243, \"label\": \"Actual\", \"predicted_label\": \"Predicted\"}, {\"date\": \"2021-01-20T00:00:00\", \"y_test\": 6994.60009765625, \"y_pred\": 7007.556676780572, \"label\": \"Actual\", \"predicted_label\": \"Predicted\"}, {\"date\": \"2021-01-21T00:00:00\", \"y_test\": 7221.999999999999, \"y_pred\": 7133.62022081834, \"label\": \"Actual\", \"predicted_label\": \"Predicted\"}, {\"date\": \"2021-01-22T00:00:00\", \"y_test\": 7190.39990234375, \"y_pred\": 7370.7658064486695, \"label\": \"Actual\", \"predicted_label\": \"Predicted\"}, {\"date\": \"2021-01-25T00:00:00\", \"y_test\": 7189.999999999999, \"y_pred\": 7263.752698670496, \"label\": \"Actual\", \"predicted_label\": \"Predicted\"}, {\"date\": \"2021-01-27T00:00:00\", \"y_test\": 7473.2001953125, \"y_pred\": 7284.210705142367, \"label\": \"Actual\", \"predicted_label\": \"Predicted\"}, {\"date\": \"2021-01-28T00:00:00\", \"y_test\": 7299.999999999999, \"y_pred\": 7398.299520362326, \"label\": \"Actual\", \"predicted_label\": \"Predicted\"}, {\"date\": \"2021-01-29T00:00:00\", \"y_test\": 7146.999999999999, \"y_pred\": 7238.624314679701, \"label\": \"Actual\", \"predicted_label\": \"Predicted\"}, {\"date\": \"2021-02-01T00:00:00\", \"y_test\": 7175.0, \"y_pred\": 7296.46819599581, \"label\": \"Actual\", \"predicted_label\": \"Predicted\"}, {\"date\": \"2021-02-02T00:00:00\", \"y_test\": 7209.7001953125, \"y_pred\": 7359.4199892692495, \"label\": \"Actual\", \"predicted_label\": \"Predicted\"}, {\"date\": \"2021-02-03T00:00:00\", \"y_test\": 7203.5498046875, \"y_pred\": 7303.099546080513, \"label\": \"Actual\", \"predicted_label\": \"Predicted\"}, {\"date\": \"2021-02-04T00:00:00\", \"y_test\": 7350.0, \"y_pred\": 7283.981394434002, \"label\": \"Actual\", \"predicted_label\": \"Predicted\"}, {\"date\": \"2021-02-05T00:00:00\", \"y_test\": 7194.7001953125, \"y_pred\": 7297.71453675338, \"label\": \"Actual\", \"predicted_label\": \"Predicted\"}, {\"date\": \"2021-02-08T00:00:00\", \"y_test\": 7265.000000000001, \"y_pred\": 7365.709381918335, \"label\": \"Actual\", \"predicted_label\": \"Predicted\"}, {\"date\": \"2021-02-09T00:00:00\", \"y_test\": 7430.0, \"y_pred\": 7368.931116107779, \"label\": \"Actual\", \"predicted_label\": \"Predicted\"}, {\"date\": \"2021-02-10T00:00:00\", \"y_test\": 7449.999999999999, \"y_pred\": 7518.133312678811, \"label\": \"Actual\", \"predicted_label\": \"Predicted\"}, {\"date\": \"2021-02-11T00:00:00\", \"y_test\": 7499.9501953125, \"y_pred\": 7521.794952850529, \"label\": \"Actual\", \"predicted_label\": \"Predicted\"}, {\"date\": \"2021-02-12T00:00:00\", \"y_test\": 7459.999999999999, \"y_pred\": 7626.914599722353, \"label\": \"Actual\", \"predicted_label\": \"Predicted\"}, {\"date\": \"2021-02-15T00:00:00\", \"y_test\": 7494.0, \"y_pred\": 7568.627386922787, \"label\": \"Actual\", \"predicted_label\": \"Predicted\"}, {\"date\": \"2021-02-16T00:00:00\", \"y_test\": 7455.0, \"y_pred\": 7661.502128698743, \"label\": \"Actual\", \"predicted_label\": \"Predicted\"}, {\"date\": \"2021-02-17T00:00:00\", \"y_test\": 7495.0, \"y_pred\": 7576.343778377694, \"label\": \"Actual\", \"predicted_label\": \"Predicted\"}, {\"date\": \"2021-02-18T00:00:00\", \"y_test\": 7298.999999999999, \"y_pred\": 7435.26352011041, \"label\": \"Actual\", \"predicted_label\": \"Predicted\"}, {\"date\": \"2021-02-19T00:00:00\", \"y_test\": 7168.14990234375, \"y_pred\": 7282.232378313915, \"label\": \"Actual\", \"predicted_label\": \"Predicted\"}, {\"date\": \"2021-02-22T00:00:00\", \"y_test\": 7197.350097656249, \"y_pred\": 7357.471229406324, \"label\": \"Actual\", \"predicted_label\": \"Predicted\"}, {\"date\": \"2021-02-23T00:00:00\", \"y_test\": 7077.14990234375, \"y_pred\": 7203.017780229838, \"label\": \"Actual\", \"predicted_label\": \"Predicted\"}, {\"date\": \"2021-02-24T00:00:00\", \"y_test\": 7148.999999999999, \"y_pred\": 7157.925497431, \"label\": \"Actual\", \"predicted_label\": \"Predicted\"}, {\"date\": \"2021-02-25T00:00:00\", \"y_test\": 7001.89990234375, \"y_pred\": 7121.914859450137, \"label\": \"Actual\", \"predicted_label\": \"Predicted\"}, {\"date\": \"2021-02-26T00:00:00\", \"y_test\": 6792.4501953125, \"y_pred\": 6948.6937281258515, \"label\": \"Actual\", \"predicted_label\": \"Predicted\"}, {\"date\": \"2021-03-01T00:00:00\", \"y_test\": 6829.999999999999, \"y_pred\": 6896.7936584369745, \"label\": \"Actual\", \"predicted_label\": \"Predicted\"}, {\"date\": \"2021-03-02T00:00:00\", \"y_test\": 6801.149902343749, \"y_pred\": 6797.184504810139, \"label\": \"Actual\", \"predicted_label\": \"Predicted\"}, {\"date\": \"2021-03-03T00:00:00\", \"y_test\": 6840.000000000001, \"y_pred\": 6991.796404024553, \"label\": \"Actual\", \"predicted_label\": \"Predicted\"}, {\"date\": \"2021-03-04T00:00:00\", \"y_test\": 6805.14990234375, \"y_pred\": 6998.851059329837, \"label\": \"Actual\", \"predicted_label\": \"Predicted\"}, {\"date\": \"2021-03-05T00:00:00\", \"y_test\": 6763.399902343751, \"y_pred\": 6894.071323703826, \"label\": \"Actual\", \"predicted_label\": \"Predicted\"}, {\"date\": \"2021-03-08T00:00:00\", \"y_test\": 6777.39990234375, \"y_pred\": 6943.791802147118, \"label\": \"Actual\", \"predicted_label\": \"Predicted\"}, {\"date\": \"2021-03-09T00:00:00\", \"y_test\": 6779.999999999999, \"y_pred\": 6900.774761672701, \"label\": \"Actual\", \"predicted_label\": \"Predicted\"}, {\"date\": \"2021-03-10T00:00:00\", \"y_test\": 6713.89990234375, \"y_pred\": 6924.99938717813, \"label\": \"Actual\", \"predicted_label\": \"Predicted\"}, {\"date\": \"2021-03-12T00:00:00\", \"y_test\": 6650.950195312501, \"y_pred\": 6795.634616743557, \"label\": \"Actual\", \"predicted_label\": \"Predicted\"}, {\"date\": \"2021-03-15T00:00:00\", \"y_test\": 6799.950195312501, \"y_pred\": 6742.489175052592, \"label\": \"Actual\", \"predicted_label\": \"Predicted\"}, {\"date\": \"2021-03-16T00:00:00\", \"y_test\": 6551.25, \"y_pred\": 6699.829722996667, \"label\": \"Actual\", \"predicted_label\": \"Predicted\"}, {\"date\": \"2021-03-17T00:00:00\", \"y_test\": 6555.0, \"y_pred\": 6646.680142356017, \"label\": \"Actual\", \"predicted_label\": \"Predicted\"}, {\"date\": \"2021-03-18T00:00:00\", \"y_test\": 6599.000000000001, \"y_pred\": 6673.984296577494, \"label\": \"Actual\", \"predicted_label\": \"Predicted\"}, {\"date\": \"2021-03-19T00:00:00\", \"y_test\": 6507.950195312501, \"y_pred\": 6621.949329971265, \"label\": \"Actual\", \"predicted_label\": \"Predicted\"}, {\"date\": \"2021-03-22T00:00:00\", \"y_test\": 6500.0, \"y_pred\": 6679.28654779008, \"label\": \"Actual\", \"predicted_label\": \"Predicted\"}, {\"date\": \"2021-03-23T00:00:00\", \"y_test\": 6413.649902343751, \"y_pred\": 6600.060894262893, \"label\": \"Actual\", \"predicted_label\": \"Predicted\"}, {\"date\": \"2021-03-24T00:00:00\", \"y_test\": 6300.0, \"y_pred\": 6539.90189267643, \"label\": \"Actual\", \"predicted_label\": \"Predicted\"}, {\"date\": \"2021-03-25T00:00:00\", \"y_test\": 6146.9501953125, \"y_pred\": 6361.882976109998, \"label\": \"Actual\", \"predicted_label\": \"Predicted\"}, {\"date\": \"2021-03-26T00:00:00\", \"y_test\": 6244.450195312501, \"y_pred\": 6324.05315976803, \"label\": \"Actual\", \"predicted_label\": \"Predicted\"}, {\"date\": \"2021-03-30T00:00:00\", \"y_test\": 6350.0, \"y_pred\": 6386.34724481647, \"label\": \"Actual\", \"predicted_label\": \"Predicted\"}, {\"date\": \"2021-03-31T00:00:00\", \"y_test\": 6381.2998046875, \"y_pred\": 6478.693374523508, \"label\": \"Actual\", \"predicted_label\": \"Predicted\"}, {\"date\": \"2021-04-01T00:00:00\", \"y_test\": 6206.64990234375, \"y_pred\": 6383.392107863091, \"label\": \"Actual\", \"predicted_label\": \"Predicted\"}, {\"date\": \"2021-04-05T00:00:00\", \"y_test\": 6210.299804687501, \"y_pred\": 6373.913775169332, \"label\": \"Actual\", \"predicted_label\": \"Predicted\"}, {\"date\": \"2021-04-06T00:00:00\", \"y_test\": 6248.0, \"y_pred\": 6383.896075983765, \"label\": \"Actual\", \"predicted_label\": \"Predicted\"}, {\"date\": \"2021-04-07T00:00:00\", \"y_test\": 6240.89990234375, \"y_pred\": 6429.297092238292, \"label\": \"Actual\", \"predicted_label\": \"Predicted\"}, {\"date\": \"2021-04-08T00:00:00\", \"y_test\": 6330.0, \"y_pred\": 6394.640458082223, \"label\": \"Actual\", \"predicted_label\": \"Predicted\"}, {\"date\": \"2021-04-09T00:00:00\", \"y_test\": 6474.2001953125, \"y_pred\": 6499.860295875454, \"label\": \"Actual\", \"predicted_label\": \"Predicted\"}, {\"date\": \"2021-04-12T00:00:00\", \"y_test\": 6391.999999999999, \"y_pred\": 6578.624255076067, \"label\": \"Actual\", \"predicted_label\": \"Predicted\"}, {\"date\": \"2021-04-13T00:00:00\", \"y_test\": 6300.0, \"y_pred\": 6388.42330458419, \"label\": \"Actual\", \"predicted_label\": \"Predicted\"}, {\"date\": \"2021-04-15T00:00:00\", \"y_test\": 6505.0, \"y_pred\": 6399.845047522531, \"label\": \"Actual\", \"predicted_label\": \"Predicted\"}, {\"date\": \"2021-04-16T00:00:00\", \"y_test\": 6467.950195312501, \"y_pred\": 6575.175567985002, \"label\": \"Actual\", \"predicted_label\": \"Predicted\"}, {\"date\": \"2021-04-19T00:00:00\", \"y_test\": 6450.7001953125, \"y_pred\": 6510.385318085485, \"label\": \"Actual\", \"predicted_label\": \"Predicted\"}, {\"date\": \"2021-04-20T00:00:00\", \"y_test\": 6380.0, \"y_pred\": 6520.25057305463, \"label\": \"Actual\", \"predicted_label\": \"Predicted\"}, {\"date\": \"2021-04-22T00:00:00\", \"y_test\": 6425.0, \"y_pred\": 6444.632882637935, \"label\": \"Actual\", \"predicted_label\": \"Predicted\"}, {\"date\": \"2021-04-23T00:00:00\", \"y_test\": 6380.200195312501, \"y_pred\": 6489.71695998452, \"label\": \"Actual\", \"predicted_label\": \"Predicted\"}, {\"date\": \"2021-04-26T00:00:00\", \"y_test\": 6476.999999999999, \"y_pred\": 6510.753003913758, \"label\": \"Actual\", \"predicted_label\": \"Predicted\"}, {\"date\": \"2021-04-27T00:00:00\", \"y_test\": 6499.0, \"y_pred\": 6373.530551681117, \"label\": \"Actual\", \"predicted_label\": \"Predicted\"}, {\"date\": \"2021-04-28T00:00:00\", \"y_test\": 6500.7001953125, \"y_pred\": 6725.3387138380085, \"label\": \"Actual\", \"predicted_label\": \"Predicted\"}, {\"date\": \"2021-04-29T00:00:00\", \"y_test\": 6530.0, \"y_pred\": 6640.165879223417, \"label\": \"Actual\", \"predicted_label\": \"Predicted\"}, {\"date\": \"2021-04-30T00:00:00\", \"y_test\": 6434.14990234375, \"y_pred\": 6555.986611303946, \"label\": \"Actual\", \"predicted_label\": \"Predicted\"}, {\"date\": \"2021-05-03T00:00:00\", \"y_test\": 6420.0, \"y_pred\": 6515.7597218815845, \"label\": \"Actual\", \"predicted_label\": \"Predicted\"}, {\"date\": \"2021-05-04T00:00:00\", \"y_test\": 6379.9501953125, \"y_pred\": 6470.013639304916, \"label\": \"Actual\", \"predicted_label\": \"Predicted\"}, {\"date\": \"2021-05-05T00:00:00\", \"y_test\": 6374.999999999999, \"y_pred\": 6464.853269194437, \"label\": \"Actual\", \"predicted_label\": \"Predicted\"}, {\"date\": \"2021-05-06T00:00:00\", \"y_test\": 6398.000000000001, \"y_pred\": 6500.459172940586, \"label\": \"Actual\", \"predicted_label\": \"Predicted\"}, {\"date\": \"2021-05-07T00:00:00\", \"y_test\": 6040.0, \"y_pred\": 6471.4046856957775, \"label\": \"Actual\", \"predicted_label\": \"Predicted\"}, {\"date\": \"2021-05-10T00:00:00\", \"y_test\": 5904.9501953125, \"y_pred\": 6094.035132285379, \"label\": \"Actual\", \"predicted_label\": \"Predicted\"}, {\"date\": \"2021-05-11T00:00:00\", \"y_test\": 5864.39990234375, \"y_pred\": 6063.1598700774575, \"label\": \"Actual\", \"predicted_label\": \"Predicted\"}, {\"date\": \"2021-05-12T00:00:00\", \"y_test\": 5849.899902343749, \"y_pred\": 6020.868331001966, \"label\": \"Actual\", \"predicted_label\": \"Predicted\"}, {\"date\": \"2021-05-14T00:00:00\", \"y_test\": 5825.0, \"y_pred\": 6005.348374576347, \"label\": \"Actual\", \"predicted_label\": \"Predicted\"}, {\"date\": \"2021-05-17T00:00:00\", \"y_test\": 5873.649902343751, \"y_pred\": 5988.325387366713, \"label\": \"Actual\", \"predicted_label\": \"Predicted\"}, {\"date\": \"2021-05-18T00:00:00\", \"y_test\": 5899.0, \"y_pred\": 6052.543154330655, \"label\": \"Actual\", \"predicted_label\": \"Predicted\"}, {\"date\": \"2021-05-19T00:00:00\", \"y_test\": 5880.0, \"y_pred\": 6069.68518778074, \"label\": \"Actual\", \"predicted_label\": \"Predicted\"}, {\"date\": \"2021-05-20T00:00:00\", \"y_test\": 5875.14990234375, \"y_pred\": 6052.203541994236, \"label\": \"Actual\", \"predicted_label\": \"Predicted\"}, {\"date\": \"2021-05-21T00:00:00\", \"y_test\": 5898.0, \"y_pred\": 6039.132171673439, \"label\": \"Actual\", \"predicted_label\": \"Predicted\"}, {\"date\": \"2021-05-24T00:00:00\", \"y_test\": 6072.10009765625, \"y_pred\": 6099.238026504636, \"label\": \"Actual\", \"predicted_label\": \"Predicted\"}, {\"date\": \"2021-05-25T00:00:00\", \"y_test\": 6095.85009765625, \"y_pred\": 6312.2842050312365, \"label\": \"Actual\", \"predicted_label\": \"Predicted\"}, {\"date\": \"2021-05-26T00:00:00\", \"y_test\": 6060.549804687499, \"y_pred\": 6250.920796036831, \"label\": \"Actual\", \"predicted_label\": \"Predicted\"}, {\"date\": \"2021-05-27T00:00:00\", \"y_test\": 6099.0, \"y_pred\": 6145.001953045272, \"label\": \"Actual\", \"predicted_label\": \"Predicted\"}, {\"date\": \"2021-05-28T00:00:00\", \"y_test\": 6065.999999999999, \"y_pred\": 6198.938720927542, \"label\": \"Actual\", \"predicted_label\": \"Predicted\"}, {\"date\": \"2021-05-31T00:00:00\", \"y_test\": 6049.89990234375, \"y_pred\": 6103.439583136537, \"label\": \"Actual\", \"predicted_label\": \"Predicted\"}, {\"date\": \"2021-06-01T00:00:00\", \"y_test\": 5953.299804687499, \"y_pred\": 6051.345945162317, \"label\": \"Actual\", \"predicted_label\": \"Predicted\"}, {\"date\": \"2021-06-02T00:00:00\", \"y_test\": 5890.0, \"y_pred\": 5996.504487102697, \"label\": \"Actual\", \"predicted_label\": \"Predicted\"}, {\"date\": \"2021-06-03T00:00:00\", \"y_test\": 5930.0, \"y_pred\": 6010.433284500891, \"label\": \"Actual\", \"predicted_label\": \"Predicted\"}, {\"date\": \"2021-06-04T00:00:00\", \"y_test\": 5858.0, \"y_pred\": 5984.839567132172, \"label\": \"Actual\", \"predicted_label\": \"Predicted\"}, {\"date\": \"2021-06-07T00:00:00\", \"y_test\": 5880.0, \"y_pred\": 5954.581141146429, \"label\": \"Actual\", \"predicted_label\": \"Predicted\"}, {\"date\": \"2021-06-08T00:00:00\", \"y_test\": 5837.89990234375, \"y_pred\": 5972.220814262004, \"label\": \"Actual\", \"predicted_label\": \"Predicted\"}, {\"date\": \"2021-06-09T00:00:00\", \"y_test\": 5873.0, \"y_pred\": 5990.256741104531, \"label\": \"Actual\", \"predicted_label\": \"Predicted\"}, {\"date\": \"2021-06-10T00:00:00\", \"y_test\": 5858.9501953125, \"y_pred\": 5970.0982698119005, \"label\": \"Actual\", \"predicted_label\": \"Predicted\"}, {\"date\": \"2021-06-11T00:00:00\", \"y_test\": 5853.0, \"y_pred\": 5986.5696909932385, \"label\": \"Actual\", \"predicted_label\": \"Predicted\"}, {\"date\": \"2021-06-14T00:00:00\", \"y_test\": 5844.0, \"y_pred\": 5956.735764898084, \"label\": \"Actual\", \"predicted_label\": \"Predicted\"}, {\"date\": \"2021-06-15T00:00:00\", \"y_test\": 5848.149902343751, \"y_pred\": 5944.1210880366525, \"label\": \"Actual\", \"predicted_label\": \"Predicted\"}, {\"date\": \"2021-06-16T00:00:00\", \"y_test\": 5835.749999999999, \"y_pred\": 5976.857838298196, \"label\": \"Actual\", \"predicted_label\": \"Predicted\"}, {\"date\": \"2021-06-17T00:00:00\", \"y_test\": 5844.89990234375, \"y_pred\": 5987.889661257732, \"label\": \"Actual\", \"predicted_label\": \"Predicted\"}, {\"date\": \"2021-06-18T00:00:00\", \"y_test\": 5900.0, \"y_pred\": 6080.994315487362, \"label\": \"Actual\", \"predicted_label\": \"Predicted\"}, {\"date\": \"2021-06-21T00:00:00\", \"y_test\": 5888.0, \"y_pred\": 6183.408325424305, \"label\": \"Actual\", \"predicted_label\": \"Predicted\"}, {\"date\": \"2021-06-22T00:00:00\", \"y_test\": 5920.000000000001, \"y_pred\": 6099.9188348162015, \"label\": \"Actual\", \"predicted_label\": \"Predicted\"}, {\"date\": \"2021-06-23T00:00:00\", \"y_test\": 5854.749999999999, \"y_pred\": 6033.739518940987, \"label\": \"Actual\", \"predicted_label\": \"Predicted\"}, {\"date\": \"2021-06-24T00:00:00\", \"y_test\": 5812.75, \"y_pred\": 6031.790689290037, \"label\": \"Actual\", \"predicted_label\": \"Predicted\"}, {\"date\": \"2021-06-25T00:00:00\", \"y_test\": 5869.0, \"y_pred\": 6054.788639294518, \"label\": \"Actual\", \"predicted_label\": \"Predicted\"}, {\"date\": \"2021-06-28T00:00:00\", \"y_test\": 5875.0, \"y_pred\": 6133.701845900967, \"label\": \"Actual\", \"predicted_label\": \"Predicted\"}, {\"date\": \"2021-06-29T00:00:00\", \"y_test\": 5824.0498046875, \"y_pred\": 6103.583056905111, \"label\": \"Actual\", \"predicted_label\": \"Predicted\"}, {\"date\": \"2021-06-30T00:00:00\", \"y_test\": 5815.0, \"y_pred\": 6077.438158953466, \"label\": \"Actual\", \"predicted_label\": \"Predicted\"}, {\"date\": \"2021-07-01T00:00:00\", \"y_test\": 5675.0, \"y_pred\": 5828.191321618412, \"label\": \"Actual\", \"predicted_label\": \"Predicted\"}, {\"date\": \"2021-07-02T00:00:00\", \"y_test\": 5810.000000000001, \"y_pred\": 5848.005676948651, \"label\": \"Actual\", \"predicted_label\": \"Predicted\"}, {\"date\": \"2021-07-05T00:00:00\", \"y_test\": 5732.39990234375, \"y_pred\": 5895.53042056375, \"label\": \"Actual\", \"predicted_label\": \"Predicted\"}, {\"date\": \"2021-07-06T00:00:00\", \"y_test\": 5703.799804687499, \"y_pred\": 5838.908104177884, \"label\": \"Actual\", \"predicted_label\": \"Predicted\"}, {\"date\": \"2021-07-07T00:00:00\", \"y_test\": 5659.450195312501, \"y_pred\": 5836.183301344876, \"label\": \"Actual\", \"predicted_label\": \"Predicted\"}, {\"date\": \"2021-07-08T00:00:00\", \"y_test\": 5707.7998046875, \"y_pred\": 5829.209036028442, \"label\": \"Actual\", \"predicted_label\": \"Predicted\"}, {\"date\": \"2021-07-09T00:00:00\", \"y_test\": 5690.0, \"y_pred\": 5838.94963602314, \"label\": \"Actual\", \"predicted_label\": \"Predicted\"}, {\"date\": \"2021-07-12T00:00:00\", \"y_test\": 5749.999999999999, \"y_pred\": 5765.007712747364, \"label\": \"Actual\", \"predicted_label\": \"Predicted\"}, {\"date\": \"2021-07-13T00:00:00\", \"y_test\": 5750.000000000001, \"y_pred\": 5843.648583182511, \"label\": \"Actual\", \"predicted_label\": \"Predicted\"}, {\"date\": \"2021-07-14T00:00:00\", \"y_test\": 5756.350097656251, \"y_pred\": 5851.786620542283, \"label\": \"Actual\", \"predicted_label\": \"Predicted\"}, {\"date\": \"2021-07-15T00:00:00\", \"y_test\": 5728.500000000001, \"y_pred\": 5838.826772258842, \"label\": \"Actual\", \"predicted_label\": \"Predicted\"}, {\"date\": \"2021-07-16T00:00:00\", \"y_test\": 5720.000000000001, \"y_pred\": 5797.81090182272, \"label\": \"Actual\", \"predicted_label\": \"Predicted\"}, {\"date\": \"2021-07-19T00:00:00\", \"y_test\": 5699.000000000001, \"y_pred\": 5760.239694154805, \"label\": \"Actual\", \"predicted_label\": \"Predicted\"}, {\"date\": \"2021-07-20T00:00:00\", \"y_test\": 5591.9501953125, \"y_pred\": 5701.553792246567, \"label\": \"Actual\", \"predicted_label\": \"Predicted\"}, {\"date\": \"2021-07-22T00:00:00\", \"y_test\": 5565.7001953125, \"y_pred\": 5668.219750223632, \"label\": \"Actual\", \"predicted_label\": \"Predicted\"}, {\"date\": \"2021-07-23T00:00:00\", \"y_test\": 5535.0, \"y_pred\": 5667.930450199902, \"label\": \"Actual\", \"predicted_label\": \"Predicted\"}, {\"date\": \"2021-07-26T00:00:00\", \"y_test\": 5549.5498046875, \"y_pred\": 5645.489212858553, \"label\": \"Actual\", \"predicted_label\": \"Predicted\"}, {\"date\": \"2021-07-27T00:00:00\", \"y_test\": 5540.39990234375, \"y_pred\": 5615.848638893518, \"label\": \"Actual\", \"predicted_label\": \"Predicted\"}, {\"date\": \"2021-07-28T00:00:00\", \"y_test\": 5492.5, \"y_pred\": 5588.08227513033, \"label\": \"Actual\", \"predicted_label\": \"Predicted\"}, {\"date\": \"2021-07-29T00:00:00\", \"y_test\": 5445.9501953125, \"y_pred\": 5559.186160611695, \"label\": \"Actual\", \"predicted_label\": \"Predicted\"}, {\"date\": \"2021-07-30T00:00:00\", \"y_test\": 5418.4501953125, \"y_pred\": 5541.201390678391, \"label\": \"Actual\", \"predicted_label\": \"Predicted\"}, {\"date\": \"2021-08-02T00:00:00\", \"y_test\": 5460.000000000001, \"y_pred\": 5504.495795425388, \"label\": \"Actual\", \"predicted_label\": \"Predicted\"}, {\"date\": \"2021-08-03T00:00:00\", \"y_test\": 5503.0, \"y_pred\": 5591.948802480666, \"label\": \"Actual\", \"predicted_label\": \"Predicted\"}, {\"date\": \"2021-08-04T00:00:00\", \"y_test\": 5599.0, \"y_pred\": 5652.891524950607, \"label\": \"Actual\", \"predicted_label\": \"Predicted\"}, {\"date\": \"2021-08-05T00:00:00\", \"y_test\": 5549.950195312499, \"y_pred\": 5634.507066618098, \"label\": \"Actual\", \"predicted_label\": \"Predicted\"}, {\"date\": \"2021-08-06T00:00:00\", \"y_test\": 5548.39990234375, \"y_pred\": 5649.881606938634, \"label\": \"Actual\", \"predicted_label\": \"Predicted\"}, {\"date\": \"2021-08-09T00:00:00\", \"y_test\": 5530.000000000001, \"y_pred\": 5601.6578853635565, \"label\": \"Actual\", \"predicted_label\": \"Predicted\"}, {\"date\": \"2021-08-10T00:00:00\", \"y_test\": 5460.0, \"y_pred\": 5572.725409030058, \"label\": \"Actual\", \"predicted_label\": \"Predicted\"}, {\"date\": \"2021-08-11T00:00:00\", \"y_test\": 5491.0, \"y_pred\": 5539.5031984294465, \"label\": \"Actual\", \"predicted_label\": \"Predicted\"}, {\"date\": \"2021-08-12T00:00:00\", \"y_test\": 5445.0, \"y_pred\": 5472.073119580318, \"label\": \"Actual\", \"predicted_label\": \"Predicted\"}, {\"date\": \"2021-08-13T00:00:00\", \"y_test\": 5490.0, \"y_pred\": 5558.131732012684, \"label\": \"Actual\", \"predicted_label\": \"Predicted\"}, {\"date\": \"2021-08-16T00:00:00\", \"y_test\": 5575.0, \"y_pred\": 5615.260780218075, \"label\": \"Actual\", \"predicted_label\": \"Predicted\"}, {\"date\": \"2021-08-17T00:00:00\", \"y_test\": 5481.7998046875, \"y_pred\": 5607.848698344289, \"label\": \"Actual\", \"predicted_label\": \"Predicted\"}, {\"date\": \"2021-08-18T00:00:00\", \"y_test\": 5473.4501953125, \"y_pred\": 5560.966792730547, \"label\": \"Actual\", \"predicted_label\": \"Predicted\"}, {\"date\": \"2021-08-20T00:00:00\", \"y_test\": 5449.85009765625, \"y_pred\": 5582.524002785511, \"label\": \"Actual\", \"predicted_label\": \"Predicted\"}, {\"date\": \"2021-08-23T00:00:00\", \"y_test\": 5454.89990234375, \"y_pred\": 5556.736757259991, \"label\": \"Actual\", \"predicted_label\": \"Predicted\"}, {\"date\": \"2021-08-24T00:00:00\", \"y_test\": 5466.35009765625, \"y_pred\": 5601.0867023977535, \"label\": \"Actual\", \"predicted_label\": \"Predicted\"}, {\"date\": \"2021-08-25T00:00:00\", \"y_test\": 5454.35009765625, \"y_pred\": 5585.073394398533, \"label\": \"Actual\", \"predicted_label\": \"Predicted\"}, {\"date\": \"2021-08-26T00:00:00\", \"y_test\": 5629.85009765625, \"y_pred\": 5545.803245086388, \"label\": \"Actual\", \"predicted_label\": \"Predicted\"}, {\"date\": \"2021-08-27T00:00:00\", \"y_test\": 5579.899902343749, \"y_pred\": 5665.761760324058, \"label\": \"Actual\", \"predicted_label\": \"Predicted\"}, {\"date\": \"2021-08-30T00:00:00\", \"y_test\": 5571.499999999999, \"y_pred\": 5706.830684034073, \"label\": \"Actual\", \"predicted_label\": \"Predicted\"}, {\"date\": \"2021-08-31T00:00:00\", \"y_test\": 5527.2998046875, \"y_pred\": 5643.027378700669, \"label\": \"Actual\", \"predicted_label\": \"Predicted\"}, {\"date\": \"2021-09-01T00:00:00\", \"y_test\": 5453.85009765625, \"y_pred\": 5590.236716653475, \"label\": \"Actual\", \"predicted_label\": \"Predicted\"}, {\"date\": \"2021-09-02T00:00:00\", \"y_test\": 5368.499999999999, \"y_pred\": 5532.028937110379, \"label\": \"Actual\", \"predicted_label\": \"Predicted\"}, {\"date\": \"2021-09-03T00:00:00\", \"y_test\": 5420.0, \"y_pred\": 5481.398924959528, \"label\": \"Actual\", \"predicted_label\": \"Predicted\"}, {\"date\": \"2021-09-06T00:00:00\", \"y_test\": 5380.14990234375, \"y_pred\": 5503.930875989179, \"label\": \"Actual\", \"predicted_label\": \"Predicted\"}, {\"date\": \"2021-09-07T00:00:00\", \"y_test\": 5368.60009765625, \"y_pred\": 5477.068618780068, \"label\": \"Actual\", \"predicted_label\": \"Predicted\"}, {\"date\": \"2021-09-08T00:00:00\", \"y_test\": 5396.0, \"y_pred\": 5478.567716351959, \"label\": \"Actual\", \"predicted_label\": \"Predicted\"}, {\"date\": \"2021-09-09T00:00:00\", \"y_test\": 5380.0, \"y_pred\": 5472.035524048169, \"label\": \"Actual\", \"predicted_label\": \"Predicted\"}, {\"date\": \"2021-09-13T00:00:00\", \"y_test\": 5560.60009765625, \"y_pred\": 5466.019732225358, \"label\": \"Actual\", \"predicted_label\": \"Predicted\"}, {\"date\": \"2021-09-14T00:00:00\", \"y_test\": 5579.899902343749, \"y_pred\": 5711.270422528233, \"label\": \"Actual\", \"predicted_label\": \"Predicted\"}, {\"date\": \"2021-09-15T00:00:00\", \"y_test\": 5549.0, \"y_pred\": 5628.7754312717725, \"label\": \"Actual\", \"predicted_label\": \"Predicted\"}, {\"date\": \"2021-09-16T00:00:00\", \"y_test\": 5545.0, \"y_pred\": 5666.120313047042, \"label\": \"Actual\", \"predicted_label\": \"Predicted\"}, {\"date\": \"2021-09-17T00:00:00\", \"y_test\": 5519.0, \"y_pred\": 5631.172361981571, \"label\": \"Actual\", \"predicted_label\": \"Predicted\"}, {\"date\": \"2021-09-20T00:00:00\", \"y_test\": 5416.0, \"y_pred\": 5504.729749672548, \"label\": \"Actual\", \"predicted_label\": \"Predicted\"}, {\"date\": \"2021-09-21T00:00:00\", \"y_test\": 5404.0498046875, \"y_pred\": 5482.28716973359, \"label\": \"Actual\", \"predicted_label\": \"Predicted\"}, {\"date\": \"2021-09-22T00:00:00\", \"y_test\": 5399.0, \"y_pred\": 5445.336305274279, \"label\": \"Actual\", \"predicted_label\": \"Predicted\"}, {\"date\": \"2021-09-23T00:00:00\", \"y_test\": 5438.0, \"y_pred\": 5490.028615118021, \"label\": \"Actual\", \"predicted_label\": \"Predicted\"}, {\"date\": \"2021-09-24T00:00:00\", \"y_test\": 5434.000000000001, \"y_pred\": 5502.915026271362, \"label\": \"Actual\", \"predicted_label\": \"Predicted\"}, {\"date\": \"2021-09-27T00:00:00\", \"y_test\": 5460.0, \"y_pred\": 5509.378473493005, \"label\": \"Actual\", \"predicted_label\": \"Predicted\"}, {\"date\": \"2021-09-28T00:00:00\", \"y_test\": 5459.999999999999, \"y_pred\": 5510.09304777019, \"label\": \"Actual\", \"predicted_label\": \"Predicted\"}, {\"date\": \"2021-09-29T00:00:00\", \"y_test\": 5473.899902343751, \"y_pred\": 5525.733654146637, \"label\": \"Actual\", \"predicted_label\": \"Predicted\"}, {\"date\": \"2021-09-30T00:00:00\", \"y_test\": 5500.0, \"y_pred\": 5604.23171536771, \"label\": \"Actual\", \"predicted_label\": \"Predicted\"}, {\"date\": \"2021-10-01T00:00:00\", \"y_test\": 5532.600097656251, \"y_pred\": 5569.468883659353, \"label\": \"Actual\", \"predicted_label\": \"Predicted\"}, {\"date\": \"2021-10-04T00:00:00\", \"y_test\": 5785.100097656251, \"y_pred\": 5705.082928403899, \"label\": \"Actual\", \"predicted_label\": \"Predicted\"}, {\"date\": \"2021-10-05T00:00:00\", \"y_test\": 5850.0, \"y_pred\": 6024.736602882218, \"label\": \"Actual\", \"predicted_label\": \"Predicted\"}, {\"date\": \"2021-10-06T00:00:00\", \"y_test\": 5804.799804687499, \"y_pred\": 5928.4639277815295, \"label\": \"Actual\", \"predicted_label\": \"Predicted\"}, {\"date\": \"2021-10-07T00:00:00\", \"y_test\": 5800.0, \"y_pred\": 5926.158337554055, \"label\": \"Actual\", \"predicted_label\": \"Predicted\"}, {\"date\": \"2021-10-08T00:00:00\", \"y_test\": 5829.100097656251, \"y_pred\": 5965.252945178022, \"label\": \"Actual\", \"predicted_label\": \"Predicted\"}, {\"date\": \"2021-10-11T00:00:00\", \"y_test\": 5799.0, \"y_pred\": 5983.607456784823, \"label\": \"Actual\", \"predicted_label\": \"Predicted\"}, {\"date\": \"2021-10-12T00:00:00\", \"y_test\": 5735.85009765625, \"y_pred\": 5933.124933245971, \"label\": \"Actual\", \"predicted_label\": \"Predicted\"}, {\"date\": \"2021-10-13T00:00:00\", \"y_test\": 5796.0, \"y_pred\": 5849.05478728341, \"label\": \"Actual\", \"predicted_label\": \"Predicted\"}, {\"date\": \"2021-10-14T00:00:00\", \"y_test\": 5659.9501953125, \"y_pred\": 5770.411385690874, \"label\": \"Actual\", \"predicted_label\": \"Predicted\"}, {\"date\": \"2021-10-18T00:00:00\", \"y_test\": 5719.999999999999, \"y_pred\": 5775.39751125799, \"label\": \"Actual\", \"predicted_label\": \"Predicted\"}, {\"date\": \"2021-10-19T00:00:00\", \"y_test\": 5608.899902343751, \"y_pred\": 5705.29725496591, \"label\": \"Actual\", \"predicted_label\": \"Predicted\"}, {\"date\": \"2021-10-20T00:00:00\", \"y_test\": 5548.25, \"y_pred\": 5673.550633210745, \"label\": \"Actual\", \"predicted_label\": \"Predicted\"}, {\"date\": \"2021-10-21T00:00:00\", \"y_test\": 5549.0, \"y_pred\": 5626.147964093868, \"label\": \"Actual\", \"predicted_label\": \"Predicted\"}, {\"date\": \"2021-10-22T00:00:00\", \"y_test\": 5520.60009765625, \"y_pred\": 5646.418532689714, \"label\": \"Actual\", \"predicted_label\": \"Predicted\"}, {\"date\": \"2021-10-25T00:00:00\", \"y_test\": 5445.0, \"y_pred\": 5581.882397286399, \"label\": \"Actual\", \"predicted_label\": \"Predicted\"}, {\"date\": \"2021-10-26T00:00:00\", \"y_test\": 5607.0, \"y_pred\": 5543.515014955039, \"label\": \"Actual\", \"predicted_label\": \"Predicted\"}, {\"date\": \"2021-10-27T00:00:00\", \"y_test\": 5635.950195312501, \"y_pred\": 5810.847453067537, \"label\": \"Actual\", \"predicted_label\": \"Predicted\"}, {\"date\": \"2021-10-28T00:00:00\", \"y_test\": 5541.0, \"y_pred\": 5632.696312867079, \"label\": \"Actual\", \"predicted_label\": \"Predicted\"}, {\"date\": \"2021-10-29T00:00:00\", \"y_test\": 5458.7998046875, \"y_pred\": 5575.825974596627, \"label\": \"Actual\", \"predicted_label\": \"Predicted\"}, {\"date\": \"2021-11-01T00:00:00\", \"y_test\": 5529.500000000001, \"y_pred\": 5549.1448881405095, \"label\": \"Actual\", \"predicted_label\": \"Predicted\"}, {\"date\": \"2021-11-02T00:00:00\", \"y_test\": 5481.7001953125, \"y_pred\": 5628.817376555072, \"label\": \"Actual\", \"predicted_label\": \"Predicted\"}, {\"date\": \"2021-11-03T00:00:00\", \"y_test\": 5451.950195312499, \"y_pred\": 5504.8877245842095, \"label\": \"Actual\", \"predicted_label\": \"Predicted\"}, {\"date\": \"2021-11-04T00:00:00\", \"y_test\": 5490.000000000001, \"y_pred\": 5547.358071455187, \"label\": \"Actual\", \"predicted_label\": \"Predicted\"}, {\"date\": \"2021-11-08T00:00:00\", \"y_test\": 5420.0, \"y_pred\": 5556.716325703923, \"label\": \"Actual\", \"predicted_label\": \"Predicted\"}, {\"date\": \"2021-11-09T00:00:00\", \"y_test\": 5450.0, \"y_pred\": 5512.363903438169, \"label\": \"Actual\", \"predicted_label\": \"Predicted\"}, {\"date\": \"2021-11-10T00:00:00\", \"y_test\": 5393.64990234375, \"y_pred\": 5517.392854331947, \"label\": \"Actual\", \"predicted_label\": \"Predicted\"}, {\"date\": \"2021-11-11T00:00:00\", \"y_test\": 5370.39990234375, \"y_pred\": 5470.158061843082, \"label\": \"Actual\", \"predicted_label\": \"Predicted\"}, {\"date\": \"2021-11-12T00:00:00\", \"y_test\": 5211.5, \"y_pred\": 5310.002810780076, \"label\": \"Actual\", \"predicted_label\": \"Predicted\"}, {\"date\": \"2021-11-15T00:00:00\", \"y_test\": 5189.0498046875, \"y_pred\": 5295.818932666948, \"label\": \"Actual\", \"predicted_label\": \"Predicted\"}, {\"date\": \"2021-11-16T00:00:00\", \"y_test\": 5188.39990234375, \"y_pred\": 5276.419557031977, \"label\": \"Actual\", \"predicted_label\": \"Predicted\"}, {\"date\": \"2021-11-17T00:00:00\", \"y_test\": 5135.64990234375, \"y_pred\": 5253.007030704092, \"label\": \"Actual\", \"predicted_label\": \"Predicted\"}, {\"date\": \"2021-11-18T00:00:00\", \"y_test\": 5091.4501953125, \"y_pred\": 5247.482835292937, \"label\": \"Actual\", \"predicted_label\": \"Predicted\"}, {\"date\": \"2021-11-22T00:00:00\", \"y_test\": 5050.0, \"y_pred\": 5158.943383436844, \"label\": \"Actual\", \"predicted_label\": \"Predicted\"}, {\"date\": \"2021-11-23T00:00:00\", \"y_test\": 5036.7998046875, \"y_pred\": 5157.818997053779, \"label\": \"Actual\", \"predicted_label\": \"Predicted\"}, {\"date\": \"2021-11-24T00:00:00\", \"y_test\": 5088.0, \"y_pred\": 5187.002953178767, \"label\": \"Actual\", \"predicted_label\": \"Predicted\"}, {\"date\": \"2021-11-25T00:00:00\", \"y_test\": 5060.0, \"y_pred\": 5146.81665184316, \"label\": \"Actual\", \"predicted_label\": \"Predicted\"}, {\"date\": \"2021-11-26T00:00:00\", \"y_test\": 5080.0, \"y_pred\": 5184.847456803228, \"label\": \"Actual\", \"predicted_label\": \"Predicted\"}, {\"date\": \"2021-11-29T00:00:00\", \"y_test\": 4993.35009765625, \"y_pred\": 5144.717724877647, \"label\": \"Actual\", \"predicted_label\": \"Predicted\"}]}}, {\"mode\": \"vega-lite\"});\n",
       "</script>"
      ],
      "text/plain": [
       "alt.LayerChart(...)"
      ]
     },
     "execution_count": 32,
     "metadata": {},
     "output_type": "execute_result"
    }
   ],
   "source": [
    "import altair as alt\n",
    "\n",
    "alt.themes.enable('fivethirtyeight')\n",
    "\n",
    "predictions_df['date'] = pd.to_datetime(predictions_df['date'])\n",
    "\n",
    "predictions_df['label'] = 'Actual'\n",
    "predictions_df['predicted_label'] = 'Predicted'\n",
    "\n",
    "# Actual high price line\n",
    "line1 = alt.Chart(predictions_df).mark_line(strokeWidth=2).encode(\n",
    "    x='date:T',\n",
    "    y=alt.Y('y_test:Q', title='Price', scale=alt.Scale(zero=False)),\n",
    "    color=alt.Color('label:N', legend=alt.Legend(title=\"Line Type\")),\n",
    "    tooltip=['date', 'y_test', 'y_pred']\n",
    ")\n",
    "\n",
    "# Predicted high price line\n",
    "line2 = alt.Chart(predictions_df).mark_line(strokeWidth=1, strokeDash=[3, 3]).encode(\n",
    "    x='date:T',\n",
    "    y=alt.Y('y_pred:Q', title='', scale=alt.Scale(zero=False)),\n",
    "    color=alt.Color('predicted_label:N', legend=alt.Legend(title=\"Line Type\")),\n",
    "    tooltip=['date', 'y_test', 'y_pred']\n",
    ")\n",
    "\n",
    "# Combine the two lines\n",
    "chart = alt.layer(line1, line2).properties(\n",
    "    title='Actual vs Predicted High Prices',\n",
    "    width=650,\n",
    "    height=400\n",
    ").interactive()\n",
    "\n",
    "chart"
   ]
  },
  {
   "cell_type": "markdown",
   "id": "42abb1ae",
   "metadata": {},
   "source": [
    "Repeat the process for the top 50 features without sentiment of PGHL.BO"
   ]
  },
  {
   "cell_type": "code",
   "execution_count": 69,
   "id": "92bab765",
   "metadata": {},
   "outputs": [],
   "source": [
    "df = pd.read_csv('../../datasets/processed_data/combined_features/PGHL.BO.csv')"
   ]
  },
  {
   "cell_type": "code",
   "execution_count": 70,
   "id": "aed37184",
   "metadata": {},
   "outputs": [],
   "source": [
    "df_without_sentiment = df.drop(columns=['agg_polarity', 'agg_compound', 'topic_polarity', 'topic_compound', 'ticker_polarity', 'ticker_compound'])"
   ]
  },
  {
   "cell_type": "code",
   "execution_count": 71,
   "id": "04775322",
   "metadata": {},
   "outputs": [],
   "source": [
    "df_without_sentiment = create_custom_target(df_without_sentiment)"
   ]
  },
  {
   "cell_type": "code",
   "execution_count": 72,
   "id": "a82ceec7",
   "metadata": {},
   "outputs": [],
   "source": [
    "# Drop cols with NaN values\n",
    "df_without_sentiment = df_without_sentiment.dropna(axis=1, how='all')\n",
    "df_without_sentiment.fillna(method='ffill', inplace=True)"
   ]
  },
  {
   "cell_type": "code",
   "execution_count": 73,
   "id": "375c857f",
   "metadata": {},
   "outputs": [],
   "source": [
    "combined_date_df = df_without_sentiment['date']\n",
    "train_date, test_date = train_test_split(combined_date_df, train_size=0.8, shuffle=False)\n",
    "dev_date, test_date = train_test_split(test_date, train_size=0.5, shuffle=False)"
   ]
  },
  {
   "cell_type": "code",
   "execution_count": 74,
   "id": "3ff4cf15",
   "metadata": {},
   "outputs": [],
   "source": [
    "df_without_date = df_without_sentiment.drop(columns=[\"date\"])"
   ]
  },
  {
   "cell_type": "code",
   "execution_count": 75,
   "id": "686f2b93",
   "metadata": {},
   "outputs": [],
   "source": [
    "df_without_date.dropna(inplace=True)"
   ]
  },
  {
   "cell_type": "code",
   "execution_count": 76,
   "id": "e9552f0c",
   "metadata": {},
   "outputs": [],
   "source": [
    "# do train/test split the data with shuffle = False\n",
    "train_data, test_data = train_test_split(df_without_date, train_size=0.8, shuffle=False)\n",
    "\n",
    "# convert timeseries to be used in supervise learning model\n",
    "X_train, y_train, indx_train = timeseries_to_supervise(train_data, window_size, 'ln_target')  \n",
    "\n",
    "# further split test set to have an hold out set to be used for backtesting\n",
    "dev_data, test_data = train_test_split(test_data, train_size=0.5, shuffle=False)\n",
    "\n",
    "# convert timeseries to be used in supervise learning model    \n",
    "X_test, y_test, indx_test = timeseries_to_supervise(dev_data, window_size, 'ln_target')  "
   ]
  },
  {
   "cell_type": "code",
   "execution_count": 77,
   "id": "2ba2347d",
   "metadata": {},
   "outputs": [],
   "source": [
    "selector = SelectKBest(score_func=f_regression, k=50)\n",
    "X_train_50 = selector.fit_transform(X_train, y_train)\n",
    "X_test_50 = selector.transform(X_test)"
   ]
  },
  {
   "cell_type": "code",
   "execution_count": 78,
   "id": "41bfb9da",
   "metadata": {},
   "outputs": [
    {
     "data": {
      "text/html": [
       "<style>#sk-container-id-4 {color: black;background-color: white;}#sk-container-id-4 pre{padding: 0;}#sk-container-id-4 div.sk-toggleable {background-color: white;}#sk-container-id-4 label.sk-toggleable__label {cursor: pointer;display: block;width: 100%;margin-bottom: 0;padding: 0.3em;box-sizing: border-box;text-align: center;}#sk-container-id-4 label.sk-toggleable__label-arrow:before {content: \"▸\";float: left;margin-right: 0.25em;color: #696969;}#sk-container-id-4 label.sk-toggleable__label-arrow:hover:before {color: black;}#sk-container-id-4 div.sk-estimator:hover label.sk-toggleable__label-arrow:before {color: black;}#sk-container-id-4 div.sk-toggleable__content {max-height: 0;max-width: 0;overflow: hidden;text-align: left;background-color: #f0f8ff;}#sk-container-id-4 div.sk-toggleable__content pre {margin: 0.2em;color: black;border-radius: 0.25em;background-color: #f0f8ff;}#sk-container-id-4 input.sk-toggleable__control:checked~div.sk-toggleable__content {max-height: 200px;max-width: 100%;overflow: auto;}#sk-container-id-4 input.sk-toggleable__control:checked~label.sk-toggleable__label-arrow:before {content: \"▾\";}#sk-container-id-4 div.sk-estimator input.sk-toggleable__control:checked~label.sk-toggleable__label {background-color: #d4ebff;}#sk-container-id-4 div.sk-label input.sk-toggleable__control:checked~label.sk-toggleable__label {background-color: #d4ebff;}#sk-container-id-4 input.sk-hidden--visually {border: 0;clip: rect(1px 1px 1px 1px);clip: rect(1px, 1px, 1px, 1px);height: 1px;margin: -1px;overflow: hidden;padding: 0;position: absolute;width: 1px;}#sk-container-id-4 div.sk-estimator {font-family: monospace;background-color: #f0f8ff;border: 1px dotted black;border-radius: 0.25em;box-sizing: border-box;margin-bottom: 0.5em;}#sk-container-id-4 div.sk-estimator:hover {background-color: #d4ebff;}#sk-container-id-4 div.sk-parallel-item::after {content: \"\";width: 100%;border-bottom: 1px solid gray;flex-grow: 1;}#sk-container-id-4 div.sk-label:hover label.sk-toggleable__label {background-color: #d4ebff;}#sk-container-id-4 div.sk-serial::before {content: \"\";position: absolute;border-left: 1px solid gray;box-sizing: border-box;top: 0;bottom: 0;left: 50%;z-index: 0;}#sk-container-id-4 div.sk-serial {display: flex;flex-direction: column;align-items: center;background-color: white;padding-right: 0.2em;padding-left: 0.2em;position: relative;}#sk-container-id-4 div.sk-item {position: relative;z-index: 1;}#sk-container-id-4 div.sk-parallel {display: flex;align-items: stretch;justify-content: center;background-color: white;position: relative;}#sk-container-id-4 div.sk-item::before, #sk-container-id-4 div.sk-parallel-item::before {content: \"\";position: absolute;border-left: 1px solid gray;box-sizing: border-box;top: 0;bottom: 0;left: 50%;z-index: -1;}#sk-container-id-4 div.sk-parallel-item {display: flex;flex-direction: column;z-index: 1;position: relative;background-color: white;}#sk-container-id-4 div.sk-parallel-item:first-child::after {align-self: flex-end;width: 50%;}#sk-container-id-4 div.sk-parallel-item:last-child::after {align-self: flex-start;width: 50%;}#sk-container-id-4 div.sk-parallel-item:only-child::after {width: 0;}#sk-container-id-4 div.sk-dashed-wrapped {border: 1px dashed gray;margin: 0 0.4em 0.5em 0.4em;box-sizing: border-box;padding-bottom: 0.4em;background-color: white;}#sk-container-id-4 div.sk-label label {font-family: monospace;font-weight: bold;display: inline-block;line-height: 1.2em;}#sk-container-id-4 div.sk-label-container {text-align: center;}#sk-container-id-4 div.sk-container {/* jupyter's `normalize.less` sets `[hidden] { display: none; }` but bootstrap.min.css set `[hidden] { display: none !important; }` so we also need the `!important` here to be able to override the default hidden behavior on the sphinx rendered scikit-learn.org. See: https://github.com/scikit-learn/scikit-learn/issues/21755 */display: inline-block !important;position: relative;}#sk-container-id-4 div.sk-text-repr-fallback {display: none;}</style><div id=\"sk-container-id-4\" class=\"sk-top-container\"><div class=\"sk-text-repr-fallback\"><pre>RandomForestRegressor(min_samples_leaf=2, n_estimators=200)</pre><b>In a Jupyter environment, please rerun this cell to show the HTML representation or trust the notebook. <br />On GitHub, the HTML representation is unable to render, please try loading this page with nbviewer.org.</b></div><div class=\"sk-container\" hidden><div class=\"sk-item\"><div class=\"sk-estimator sk-toggleable\"><input class=\"sk-toggleable__control sk-hidden--visually\" id=\"sk-estimator-id-4\" type=\"checkbox\" checked><label for=\"sk-estimator-id-4\" class=\"sk-toggleable__label sk-toggleable__label-arrow\">RandomForestRegressor</label><div class=\"sk-toggleable__content\"><pre>RandomForestRegressor(min_samples_leaf=2, n_estimators=200)</pre></div></div></div></div></div>"
      ],
      "text/plain": [
       "RandomForestRegressor(min_samples_leaf=2, n_estimators=200)"
      ]
     },
     "execution_count": 78,
     "metadata": {},
     "output_type": "execute_result"
    }
   ],
   "source": [
    "# Train the model on the top 50 features\n",
    "model_50 = RandomForestRegressor(\n",
    "    n_estimators=200,\n",
    "    min_samples_split=2,\n",
    "    min_samples_leaf=2,\n",
    "    bootstrap=True\n",
    ")\n",
    "model_50.fit(X_train_50, y_train)"
   ]
  },
  {
   "cell_type": "code",
   "execution_count": 79,
   "id": "2815aae0",
   "metadata": {},
   "outputs": [],
   "source": [
    "predictions_df, mape, rmse = evaluate_model(model_50, window_size, dev_data, dev_date, X_test_50, y_test)"
   ]
  },
  {
   "cell_type": "code",
   "execution_count": 80,
   "id": "a2aaa5b8",
   "metadata": {},
   "outputs": [
    {
     "data": {
      "text/plain": [
       "(           date       y_test       y_pred\n",
       " 0    2020-06-23  4228.899902  4309.011199\n",
       " 1    2020-06-24  4123.000000  4203.002106\n",
       " 2    2020-06-25  4230.100098  4165.671817\n",
       " 3    2020-06-26  4230.850098  4287.133010\n",
       " 4    2020-06-29  4150.000000  4209.492186\n",
       " ..          ...          ...          ...\n",
       " 353  2021-11-23  5036.799805  5164.021692\n",
       " 354  2021-11-24  5088.000000  5169.429504\n",
       " 355  2021-11-25  5060.000000  5155.119402\n",
       " 356  2021-11-26  5080.000000  5184.415824\n",
       " 357  2021-11-29  4993.350098  5149.438785\n",
       " \n",
       " [358 rows x 3 columns],\n",
       " 0.017117619920311,\n",
       " 119.5116348949486)"
      ]
     },
     "execution_count": 80,
     "metadata": {},
     "output_type": "execute_result"
    }
   ],
   "source": [
    "predictions_df, mape, rmse"
   ]
  },
  {
   "cell_type": "code",
   "execution_count": 46,
   "id": "6abae768",
   "metadata": {},
   "outputs": [
    {
     "name": "stdout",
     "output_type": "stream",
     "text": [
      "MAPE for model with top 50 features without sentiment features: 1.93%\n"
     ]
    }
   ],
   "source": [
    "print(f\"MAPE for model with top 50 features without sentiment features: {mape*100:.2f}%\")"
   ]
  },
  {
   "cell_type": "code",
   "execution_count": 47,
   "id": "a6d2df5c",
   "metadata": {},
   "outputs": [
    {
     "data": {
      "text/html": [
       "\n",
       "<style>\n",
       "  #altair-viz-ef48b130f6424d438e3095cfc023f52a.vega-embed {\n",
       "    width: 100%;\n",
       "    display: flex;\n",
       "  }\n",
       "\n",
       "  #altair-viz-ef48b130f6424d438e3095cfc023f52a.vega-embed details,\n",
       "  #altair-viz-ef48b130f6424d438e3095cfc023f52a.vega-embed details summary {\n",
       "    position: relative;\n",
       "  }\n",
       "</style>\n",
       "<div id=\"altair-viz-ef48b130f6424d438e3095cfc023f52a\"></div>\n",
       "<script type=\"text/javascript\">\n",
       "  var VEGA_DEBUG = (typeof VEGA_DEBUG == \"undefined\") ? {} : VEGA_DEBUG;\n",
       "  (function(spec, embedOpt){\n",
       "    let outputDiv = document.currentScript.previousElementSibling;\n",
       "    if (outputDiv.id !== \"altair-viz-ef48b130f6424d438e3095cfc023f52a\") {\n",
       "      outputDiv = document.getElementById(\"altair-viz-ef48b130f6424d438e3095cfc023f52a\");\n",
       "    }\n",
       "    const paths = {\n",
       "      \"vega\": \"https://cdn.jsdelivr.net/npm/vega@5?noext\",\n",
       "      \"vega-lib\": \"https://cdn.jsdelivr.net/npm/vega-lib?noext\",\n",
       "      \"vega-lite\": \"https://cdn.jsdelivr.net/npm/vega-lite@5.8.0?noext\",\n",
       "      \"vega-embed\": \"https://cdn.jsdelivr.net/npm/vega-embed@6?noext\",\n",
       "    };\n",
       "\n",
       "    function maybeLoadScript(lib, version) {\n",
       "      var key = `${lib.replace(\"-\", \"\")}_version`;\n",
       "      return (VEGA_DEBUG[key] == version) ?\n",
       "        Promise.resolve(paths[lib]) :\n",
       "        new Promise(function(resolve, reject) {\n",
       "          var s = document.createElement('script');\n",
       "          document.getElementsByTagName(\"head\")[0].appendChild(s);\n",
       "          s.async = true;\n",
       "          s.onload = () => {\n",
       "            VEGA_DEBUG[key] = version;\n",
       "            return resolve(paths[lib]);\n",
       "          };\n",
       "          s.onerror = () => reject(`Error loading script: ${paths[lib]}`);\n",
       "          s.src = paths[lib];\n",
       "        });\n",
       "    }\n",
       "\n",
       "    function showError(err) {\n",
       "      outputDiv.innerHTML = `<div class=\"error\" style=\"color:red;\">${err}</div>`;\n",
       "      throw err;\n",
       "    }\n",
       "\n",
       "    function displayChart(vegaEmbed) {\n",
       "      vegaEmbed(outputDiv, spec, embedOpt)\n",
       "        .catch(err => showError(`Javascript Error: ${err.message}<br>This usually means there's a typo in your chart specification. See the javascript console for the full traceback.`));\n",
       "    }\n",
       "\n",
       "    if(typeof define === \"function\" && define.amd) {\n",
       "      requirejs.config({paths});\n",
       "      require([\"vega-embed\"], displayChart, err => showError(`Error loading script: ${err.message}`));\n",
       "    } else {\n",
       "      maybeLoadScript(\"vega\", \"5\")\n",
       "        .then(() => maybeLoadScript(\"vega-lite\", \"5.8.0\"))\n",
       "        .then(() => maybeLoadScript(\"vega-embed\", \"6\"))\n",
       "        .catch(showError)\n",
       "        .then(() => displayChart(vegaEmbed));\n",
       "    }\n",
       "  })({\"usermeta\": {\"embedOptions\": {\"theme\": \"fivethirtyeight\"}}, \"config\": {\"view\": {\"continuousWidth\": 300, \"continuousHeight\": 300}}, \"layer\": [{\"mark\": {\"type\": \"line\", \"strokeWidth\": 2}, \"encoding\": {\"color\": {\"field\": \"label\", \"legend\": {\"title\": \"Line Type\"}, \"type\": \"nominal\"}, \"tooltip\": [{\"field\": \"date\", \"type\": \"temporal\"}, {\"field\": \"y_test\", \"type\": \"quantitative\"}, {\"field\": \"y_pred\", \"type\": \"quantitative\"}], \"x\": {\"field\": \"date\", \"type\": \"temporal\"}, \"y\": {\"field\": \"y_test\", \"scale\": {\"zero\": false}, \"title\": \"Price\", \"type\": \"quantitative\"}}, \"name\": \"view_3\"}, {\"mark\": {\"type\": \"line\", \"strokeDash\": [3, 3], \"strokeWidth\": 1}, \"encoding\": {\"color\": {\"field\": \"predicted_label\", \"legend\": {\"title\": \"Line Type\"}, \"type\": \"nominal\"}, \"tooltip\": [{\"field\": \"date\", \"type\": \"temporal\"}, {\"field\": \"y_test\", \"type\": \"quantitative\"}, {\"field\": \"y_pred\", \"type\": \"quantitative\"}], \"x\": {\"field\": \"date\", \"type\": \"temporal\"}, \"y\": {\"field\": \"y_pred\", \"scale\": {\"zero\": false}, \"title\": \"\", \"type\": \"quantitative\"}}}], \"data\": {\"name\": \"data-aecc22a15f60bc0301593ac8a8b86b20\"}, \"height\": 400, \"params\": [{\"name\": \"param_3\", \"select\": {\"type\": \"interval\", \"encodings\": [\"x\", \"y\"]}, \"bind\": \"scales\", \"views\": [\"view_3\"]}], \"title\": \"Actual vs Predicted High Prices\", \"width\": 650, \"$schema\": \"https://vega.github.io/schema/vega-lite/v5.8.0.json\", \"datasets\": {\"data-aecc22a15f60bc0301593ac8a8b86b20\": [{\"date\": \"2020-06-23T00:00:00\", \"y_test\": 4228.89990234375, \"y_pred\": 4300.190348441412, \"label\": \"Actual\", \"predicted_label\": \"Predicted\"}, {\"date\": \"2020-06-24T00:00:00\", \"y_test\": 4123.0, \"y_pred\": 4199.101426772706, \"label\": \"Actual\", \"predicted_label\": \"Predicted\"}, {\"date\": \"2020-06-25T00:00:00\", \"y_test\": 4230.10009765625, \"y_pred\": 4181.899880491614, \"label\": \"Actual\", \"predicted_label\": \"Predicted\"}, {\"date\": \"2020-06-26T00:00:00\", \"y_test\": 4230.85009765625, \"y_pred\": 4292.476926832555, \"label\": \"Actual\", \"predicted_label\": \"Predicted\"}, {\"date\": \"2020-06-29T00:00:00\", \"y_test\": 4150.0, \"y_pred\": 4202.429855310939, \"label\": \"Actual\", \"predicted_label\": \"Predicted\"}, {\"date\": \"2020-06-30T00:00:00\", \"y_test\": 4126.0498046875, \"y_pred\": 4108.54955339346, \"label\": \"Actual\", \"predicted_label\": \"Predicted\"}, {\"date\": \"2020-07-01T00:00:00\", \"y_test\": 4095.0, \"y_pred\": 4122.26474184853, \"label\": \"Actual\", \"predicted_label\": \"Predicted\"}, {\"date\": \"2020-07-02T00:00:00\", \"y_test\": 4095.0, \"y_pred\": 4149.954689366563, \"label\": \"Actual\", \"predicted_label\": \"Predicted\"}, {\"date\": \"2020-07-06T00:00:00\", \"y_test\": 4311.0498046875, \"y_pred\": 4129.15936105654, \"label\": \"Actual\", \"predicted_label\": \"Predicted\"}, {\"date\": \"2020-07-07T00:00:00\", \"y_test\": 4300.0, \"y_pred\": 4374.2365218656, \"label\": \"Actual\", \"predicted_label\": \"Predicted\"}, {\"date\": \"2020-07-08T00:00:00\", \"y_test\": 4285.7998046875, \"y_pred\": 4313.486612960771, \"label\": \"Actual\", \"predicted_label\": \"Predicted\"}, {\"date\": \"2020-07-09T00:00:00\", \"y_test\": 4230.0, \"y_pred\": 4265.394094062645, \"label\": \"Actual\", \"predicted_label\": \"Predicted\"}, {\"date\": \"2020-07-10T00:00:00\", \"y_test\": 4199.0, \"y_pred\": 4240.670287925377, \"label\": \"Actual\", \"predicted_label\": \"Predicted\"}, {\"date\": \"2020-07-13T00:00:00\", \"y_test\": 4158.0, \"y_pred\": 4221.771387001795, \"label\": \"Actual\", \"predicted_label\": \"Predicted\"}, {\"date\": \"2020-07-14T00:00:00\", \"y_test\": 4125.0, \"y_pred\": 4173.372498951933, \"label\": \"Actual\", \"predicted_label\": \"Predicted\"}, {\"date\": \"2020-07-15T00:00:00\", \"y_test\": 4086.0000000000005, \"y_pred\": 4121.910096130492, \"label\": \"Actual\", \"predicted_label\": \"Predicted\"}, {\"date\": \"2020-07-16T00:00:00\", \"y_test\": 4152.0, \"y_pred\": 4136.199021575464, \"label\": \"Actual\", \"predicted_label\": \"Predicted\"}, {\"date\": \"2020-07-17T00:00:00\", \"y_test\": 4147.0, \"y_pred\": 4182.0418673314025, \"label\": \"Actual\", \"predicted_label\": \"Predicted\"}, {\"date\": \"2020-07-20T00:00:00\", \"y_test\": 4181.9501953125, \"y_pred\": 4201.204615310464, \"label\": \"Actual\", \"predicted_label\": \"Predicted\"}, {\"date\": \"2020-07-21T00:00:00\", \"y_test\": 4174.35009765625, \"y_pred\": 4200.695311289668, \"label\": \"Actual\", \"predicted_label\": \"Predicted\"}, {\"date\": \"2020-07-22T00:00:00\", \"y_test\": 4110.75, \"y_pred\": 4137.874067572432, \"label\": \"Actual\", \"predicted_label\": \"Predicted\"}, {\"date\": \"2020-07-23T00:00:00\", \"y_test\": 4110.0, \"y_pred\": 4098.99861958557, \"label\": \"Actual\", \"predicted_label\": \"Predicted\"}, {\"date\": \"2020-07-24T00:00:00\", \"y_test\": 4070.0000000000005, \"y_pred\": 4099.76908918795, \"label\": \"Actual\", \"predicted_label\": \"Predicted\"}, {\"date\": \"2020-07-27T00:00:00\", \"y_test\": 4069.8000488281255, \"y_pred\": 4071.1083465816573, \"label\": \"Actual\", \"predicted_label\": \"Predicted\"}, {\"date\": \"2020-07-28T00:00:00\", \"y_test\": 4198.9501953125, \"y_pred\": 4103.791577586317, \"label\": \"Actual\", \"predicted_label\": \"Predicted\"}, {\"date\": \"2020-07-29T00:00:00\", \"y_test\": 4244.5498046875, \"y_pred\": 4351.893469196011, \"label\": \"Actual\", \"predicted_label\": \"Predicted\"}, {\"date\": \"2020-07-30T00:00:00\", \"y_test\": 4239.0, \"y_pred\": 4238.759055432307, \"label\": \"Actual\", \"predicted_label\": \"Predicted\"}, {\"date\": \"2020-07-31T00:00:00\", \"y_test\": 4300.0, \"y_pred\": 4210.814221591908, \"label\": \"Actual\", \"predicted_label\": \"Predicted\"}, {\"date\": \"2020-08-03T00:00:00\", \"y_test\": 4514.5, \"y_pred\": 4225.993180101676, \"label\": \"Actual\", \"predicted_label\": \"Predicted\"}, {\"date\": \"2020-08-04T00:00:00\", \"y_test\": 4450.899902343749, \"y_pred\": 4570.97922605974, \"label\": \"Actual\", \"predicted_label\": \"Predicted\"}, {\"date\": \"2020-08-05T00:00:00\", \"y_test\": 4428.2001953125, \"y_pred\": 4554.06903238766, \"label\": \"Actual\", \"predicted_label\": \"Predicted\"}, {\"date\": \"2020-08-06T00:00:00\", \"y_test\": 4435.89990234375, \"y_pred\": 4550.694683481196, \"label\": \"Actual\", \"predicted_label\": \"Predicted\"}, {\"date\": \"2020-08-07T00:00:00\", \"y_test\": 4727.2001953125, \"y_pred\": 4535.425814815215, \"label\": \"Actual\", \"predicted_label\": \"Predicted\"}, {\"date\": \"2020-08-10T00:00:00\", \"y_test\": 4855.0, \"y_pred\": 4821.443415915862, \"label\": \"Actual\", \"predicted_label\": \"Predicted\"}, {\"date\": \"2020-08-11T00:00:00\", \"y_test\": 4620.0, \"y_pred\": 4618.525177583788, \"label\": \"Actual\", \"predicted_label\": \"Predicted\"}, {\"date\": \"2020-08-12T00:00:00\", \"y_test\": 4780.0, \"y_pred\": 4596.028198861435, \"label\": \"Actual\", \"predicted_label\": \"Predicted\"}, {\"date\": \"2020-08-13T00:00:00\", \"y_test\": 4850.0, \"y_pred\": 4808.383999397218, \"label\": \"Actual\", \"predicted_label\": \"Predicted\"}, {\"date\": \"2020-08-14T00:00:00\", \"y_test\": 4791.549804687499, \"y_pred\": 4770.908810124765, \"label\": \"Actual\", \"predicted_label\": \"Predicted\"}, {\"date\": \"2020-08-17T00:00:00\", \"y_test\": 4755.549804687499, \"y_pred\": 4782.909950528635, \"label\": \"Actual\", \"predicted_label\": \"Predicted\"}, {\"date\": \"2020-08-18T00:00:00\", \"y_test\": 4750.0, \"y_pred\": 4774.825544180066, \"label\": \"Actual\", \"predicted_label\": \"Predicted\"}, {\"date\": \"2020-08-19T00:00:00\", \"y_test\": 4850.0, \"y_pred\": 4824.086230343921, \"label\": \"Actual\", \"predicted_label\": \"Predicted\"}, {\"date\": \"2020-08-20T00:00:00\", \"y_test\": 4920.0, \"y_pred\": 4889.600483108012, \"label\": \"Actual\", \"predicted_label\": \"Predicted\"}, {\"date\": \"2020-08-21T00:00:00\", \"y_test\": 4795.14990234375, \"y_pred\": 4869.022904258872, \"label\": \"Actual\", \"predicted_label\": \"Predicted\"}, {\"date\": \"2020-08-24T00:00:00\", \"y_test\": 4830.0, \"y_pred\": 4816.550934446878, \"label\": \"Actual\", \"predicted_label\": \"Predicted\"}, {\"date\": \"2020-08-25T00:00:00\", \"y_test\": 4899.000000000001, \"y_pred\": 4809.3246884584205, \"label\": \"Actual\", \"predicted_label\": \"Predicted\"}, {\"date\": \"2020-08-26T00:00:00\", \"y_test\": 5095.0, \"y_pred\": 5007.413531505893, \"label\": \"Actual\", \"predicted_label\": \"Predicted\"}, {\"date\": \"2020-08-27T00:00:00\", \"y_test\": 5148.9501953125, \"y_pred\": 5175.098431416808, \"label\": \"Actual\", \"predicted_label\": \"Predicted\"}, {\"date\": \"2020-08-28T00:00:00\", \"y_test\": 5099.999999999999, \"y_pred\": 5163.445372178276, \"label\": \"Actual\", \"predicted_label\": \"Predicted\"}, {\"date\": \"2020-08-31T00:00:00\", \"y_test\": 4999.85009765625, \"y_pred\": 5081.749089253148, \"label\": \"Actual\", \"predicted_label\": \"Predicted\"}, {\"date\": \"2020-09-01T00:00:00\", \"y_test\": 4982.0, \"y_pred\": 4880.918328973785, \"label\": \"Actual\", \"predicted_label\": \"Predicted\"}, {\"date\": \"2020-09-02T00:00:00\", \"y_test\": 5050.0, \"y_pred\": 5109.463442617788, \"label\": \"Actual\", \"predicted_label\": \"Predicted\"}, {\"date\": \"2020-09-03T00:00:00\", \"y_test\": 5003.0, \"y_pred\": 5052.714570354636, \"label\": \"Actual\", \"predicted_label\": \"Predicted\"}, {\"date\": \"2020-09-04T00:00:00\", \"y_test\": 4960.60009765625, \"y_pred\": 5079.365685534766, \"label\": \"Actual\", \"predicted_label\": \"Predicted\"}, {\"date\": \"2020-09-07T00:00:00\", \"y_test\": 4840.14990234375, \"y_pred\": 4941.030503061934, \"label\": \"Actual\", \"predicted_label\": \"Predicted\"}, {\"date\": \"2020-09-08T00:00:00\", \"y_test\": 4873.7998046875, \"y_pred\": 4838.4434544785445, \"label\": \"Actual\", \"predicted_label\": \"Predicted\"}, {\"date\": \"2020-09-09T00:00:00\", \"y_test\": 4839.60009765625, \"y_pred\": 4917.731718763556, \"label\": \"Actual\", \"predicted_label\": \"Predicted\"}, {\"date\": \"2020-09-10T00:00:00\", \"y_test\": 4935.0, \"y_pred\": 4951.894150047732, \"label\": \"Actual\", \"predicted_label\": \"Predicted\"}, {\"date\": \"2020-09-11T00:00:00\", \"y_test\": 4987.9501953125, \"y_pred\": 5026.074684989172, \"label\": \"Actual\", \"predicted_label\": \"Predicted\"}, {\"date\": \"2020-09-14T00:00:00\", \"y_test\": 5464.75, \"y_pred\": 5059.947213017708, \"label\": \"Actual\", \"predicted_label\": \"Predicted\"}, {\"date\": \"2020-09-15T00:00:00\", \"y_test\": 5683.0, \"y_pred\": 5452.366987757773, \"label\": \"Actual\", \"predicted_label\": \"Predicted\"}, {\"date\": \"2020-09-16T00:00:00\", \"y_test\": 5650.0, \"y_pred\": 5823.46213574214, \"label\": \"Actual\", \"predicted_label\": \"Predicted\"}, {\"date\": \"2020-09-17T00:00:00\", \"y_test\": 5532.0, \"y_pred\": 5524.7468818191255, \"label\": \"Actual\", \"predicted_label\": \"Predicted\"}, {\"date\": \"2020-09-18T00:00:00\", \"y_test\": 5467.200195312501, \"y_pred\": 5466.776275559261, \"label\": \"Actual\", \"predicted_label\": \"Predicted\"}, {\"date\": \"2020-09-21T00:00:00\", \"y_test\": 5344.89990234375, \"y_pred\": 5402.27753574398, \"label\": \"Actual\", \"predicted_label\": \"Predicted\"}, {\"date\": \"2020-09-22T00:00:00\", \"y_test\": 5164.5498046875, \"y_pred\": 5273.470613237159, \"label\": \"Actual\", \"predicted_label\": \"Predicted\"}, {\"date\": \"2020-09-23T00:00:00\", \"y_test\": 5099.0, \"y_pred\": 5139.558110042657, \"label\": \"Actual\", \"predicted_label\": \"Predicted\"}, {\"date\": \"2020-09-24T00:00:00\", \"y_test\": 4916.60009765625, \"y_pred\": 5095.326471164143, \"label\": \"Actual\", \"predicted_label\": \"Predicted\"}, {\"date\": \"2020-09-25T00:00:00\", \"y_test\": 4949.10009765625, \"y_pred\": 4975.17062776163, \"label\": \"Actual\", \"predicted_label\": \"Predicted\"}, {\"date\": \"2020-09-28T00:00:00\", \"y_test\": 5078.4501953125, \"y_pred\": 5026.405700118209, \"label\": \"Actual\", \"predicted_label\": \"Predicted\"}, {\"date\": \"2020-09-29T00:00:00\", \"y_test\": 5220.0, \"y_pred\": 5172.9107029418265, \"label\": \"Actual\", \"predicted_label\": \"Predicted\"}, {\"date\": \"2020-09-30T00:00:00\", \"y_test\": 5078.89990234375, \"y_pred\": 5144.094392683227, \"label\": \"Actual\", \"predicted_label\": \"Predicted\"}, {\"date\": \"2020-10-01T00:00:00\", \"y_test\": 5359.39990234375, \"y_pred\": 5118.521412217098, \"label\": \"Actual\", \"predicted_label\": \"Predicted\"}, {\"date\": \"2020-10-05T00:00:00\", \"y_test\": 5444.0, \"y_pred\": 5406.201707800072, \"label\": \"Actual\", \"predicted_label\": \"Predicted\"}, {\"date\": \"2020-10-06T00:00:00\", \"y_test\": 5388.35009765625, \"y_pred\": 5445.015902934755, \"label\": \"Actual\", \"predicted_label\": \"Predicted\"}, {\"date\": \"2020-10-07T00:00:00\", \"y_test\": 5374.999999999999, \"y_pred\": 5493.083195966794, \"label\": \"Actual\", \"predicted_label\": \"Predicted\"}, {\"date\": \"2020-10-08T00:00:00\", \"y_test\": 5476.700195312499, \"y_pred\": 5486.588675387413, \"label\": \"Actual\", \"predicted_label\": \"Predicted\"}, {\"date\": \"2020-10-09T00:00:00\", \"y_test\": 5410.0, \"y_pred\": 5527.694758800632, \"label\": \"Actual\", \"predicted_label\": \"Predicted\"}, {\"date\": \"2020-10-12T00:00:00\", \"y_test\": 5408.0, \"y_pred\": 5486.098642706869, \"label\": \"Actual\", \"predicted_label\": \"Predicted\"}, {\"date\": \"2020-10-13T00:00:00\", \"y_test\": 5316.0, \"y_pred\": 5417.982730750175, \"label\": \"Actual\", \"predicted_label\": \"Predicted\"}, {\"date\": \"2020-10-14T00:00:00\", \"y_test\": 5170.0, \"y_pred\": 5268.429472745034, \"label\": \"Actual\", \"predicted_label\": \"Predicted\"}, {\"date\": \"2020-10-15T00:00:00\", \"y_test\": 5208.0, \"y_pred\": 5251.234332590946, \"label\": \"Actual\", \"predicted_label\": \"Predicted\"}, {\"date\": \"2020-10-16T00:00:00\", \"y_test\": 5130.14990234375, \"y_pred\": 5210.5242282403, \"label\": \"Actual\", \"predicted_label\": \"Predicted\"}, {\"date\": \"2020-10-19T00:00:00\", \"y_test\": 5170.0, \"y_pred\": 5232.006921867766, \"label\": \"Actual\", \"predicted_label\": \"Predicted\"}, {\"date\": \"2020-10-20T00:00:00\", \"y_test\": 5121.2998046875, \"y_pred\": 5202.8744772739565, \"label\": \"Actual\", \"predicted_label\": \"Predicted\"}, {\"date\": \"2020-10-21T00:00:00\", \"y_test\": 5154.85009765625, \"y_pred\": 5228.960183070213, \"label\": \"Actual\", \"predicted_label\": \"Predicted\"}, {\"date\": \"2020-10-22T00:00:00\", \"y_test\": 5125.0, \"y_pred\": 5208.812688168892, \"label\": \"Actual\", \"predicted_label\": \"Predicted\"}, {\"date\": \"2020-10-23T00:00:00\", \"y_test\": 5214.000000000001, \"y_pred\": 5226.1198086094355, \"label\": \"Actual\", \"predicted_label\": \"Predicted\"}, {\"date\": \"2020-10-26T00:00:00\", \"y_test\": 5099.64990234375, \"y_pred\": 5165.96772874257, \"label\": \"Actual\", \"predicted_label\": \"Predicted\"}, {\"date\": \"2020-10-27T00:00:00\", \"y_test\": 5237.39990234375, \"y_pred\": 5179.550913555329, \"label\": \"Actual\", \"predicted_label\": \"Predicted\"}, {\"date\": \"2020-10-28T00:00:00\", \"y_test\": 5350.0, \"y_pred\": 5233.914124176774, \"label\": \"Actual\", \"predicted_label\": \"Predicted\"}, {\"date\": \"2020-10-29T00:00:00\", \"y_test\": 5235.0, \"y_pred\": 5254.269280948401, \"label\": \"Actual\", \"predicted_label\": \"Predicted\"}, {\"date\": \"2020-10-30T00:00:00\", \"y_test\": 5270.9501953125, \"y_pred\": 5324.760071084707, \"label\": \"Actual\", \"predicted_label\": \"Predicted\"}, {\"date\": \"2020-11-02T00:00:00\", \"y_test\": 5255.0, \"y_pred\": 5275.27769997613, \"label\": \"Actual\", \"predicted_label\": \"Predicted\"}, {\"date\": \"2020-11-03T00:00:00\", \"y_test\": 5275.000000000001, \"y_pred\": 5365.944368904947, \"label\": \"Actual\", \"predicted_label\": \"Predicted\"}, {\"date\": \"2020-11-04T00:00:00\", \"y_test\": 5249.999999999999, \"y_pred\": 5381.867123524014, \"label\": \"Actual\", \"predicted_label\": \"Predicted\"}, {\"date\": \"2020-11-05T00:00:00\", \"y_test\": 5299.999999999999, \"y_pred\": 5368.182748340248, \"label\": \"Actual\", \"predicted_label\": \"Predicted\"}, {\"date\": \"2020-11-06T00:00:00\", \"y_test\": 5335.9501953125, \"y_pred\": 5443.181378260069, \"label\": \"Actual\", \"predicted_label\": \"Predicted\"}, {\"date\": \"2020-11-09T00:00:00\", \"y_test\": 5358.0, \"y_pred\": 5467.875246344189, \"label\": \"Actual\", \"predicted_label\": \"Predicted\"}, {\"date\": \"2020-11-10T00:00:00\", \"y_test\": 5350.0, \"y_pred\": 5413.976721751473, \"label\": \"Actual\", \"predicted_label\": \"Predicted\"}, {\"date\": \"2020-11-11T00:00:00\", \"y_test\": 5412.0, \"y_pred\": 5459.674193401264, \"label\": \"Actual\", \"predicted_label\": \"Predicted\"}, {\"date\": \"2020-11-12T00:00:00\", \"y_test\": 5735.39990234375, \"y_pred\": 5547.930043715931, \"label\": \"Actual\", \"predicted_label\": \"Predicted\"}, {\"date\": \"2020-11-13T00:00:00\", \"y_test\": 6039.0, \"y_pred\": 5963.781676348663, \"label\": \"Actual\", \"predicted_label\": \"Predicted\"}, {\"date\": \"2020-11-14T00:00:00\", \"y_test\": 6163.950195312499, \"y_pred\": 6256.579303376823, \"label\": \"Actual\", \"predicted_label\": \"Predicted\"}, {\"date\": \"2020-11-17T00:00:00\", \"y_test\": 6189.999999999999, \"y_pred\": 6208.639939364679, \"label\": \"Actual\", \"predicted_label\": \"Predicted\"}, {\"date\": \"2020-11-18T00:00:00\", \"y_test\": 5950.0, \"y_pred\": 6077.094379226897, \"label\": \"Actual\", \"predicted_label\": \"Predicted\"}, {\"date\": \"2020-11-19T00:00:00\", \"y_test\": 5909.999999999999, \"y_pred\": 5975.522785924182, \"label\": \"Actual\", \"predicted_label\": \"Predicted\"}, {\"date\": \"2020-11-20T00:00:00\", \"y_test\": 6124.9501953125, \"y_pred\": 5936.188397995204, \"label\": \"Actual\", \"predicted_label\": \"Predicted\"}, {\"date\": \"2020-11-23T00:00:00\", \"y_test\": 6446.39990234375, \"y_pred\": 6170.01778313836, \"label\": \"Actual\", \"predicted_label\": \"Predicted\"}, {\"date\": \"2020-11-24T00:00:00\", \"y_test\": 6480.000000000001, \"y_pred\": 6372.725741509803, \"label\": \"Actual\", \"predicted_label\": \"Predicted\"}, {\"date\": \"2020-11-25T00:00:00\", \"y_test\": 6440.5, \"y_pred\": 6434.526657299324, \"label\": \"Actual\", \"predicted_label\": \"Predicted\"}, {\"date\": \"2020-11-26T00:00:00\", \"y_test\": 6470.000000000001, \"y_pred\": 6535.155648617652, \"label\": \"Actual\", \"predicted_label\": \"Predicted\"}, {\"date\": \"2020-11-27T00:00:00\", \"y_test\": 6975.0, \"y_pred\": 6480.712665051627, \"label\": \"Actual\", \"predicted_label\": \"Predicted\"}, {\"date\": \"2020-12-01T00:00:00\", \"y_test\": 7040.000000000001, \"y_pred\": 7101.639011562146, \"label\": \"Actual\", \"predicted_label\": \"Predicted\"}, {\"date\": \"2020-12-02T00:00:00\", \"y_test\": 6850.0, \"y_pred\": 6775.460605410051, \"label\": \"Actual\", \"predicted_label\": \"Predicted\"}, {\"date\": \"2020-12-03T00:00:00\", \"y_test\": 6841.14990234375, \"y_pred\": 6940.984290960028, \"label\": \"Actual\", \"predicted_label\": \"Predicted\"}, {\"date\": \"2020-12-04T00:00:00\", \"y_test\": 6925.14990234375, \"y_pred\": 6875.532478547831, \"label\": \"Actual\", \"predicted_label\": \"Predicted\"}, {\"date\": \"2020-12-07T00:00:00\", \"y_test\": 6857.899902343749, \"y_pred\": 6985.203919280581, \"label\": \"Actual\", \"predicted_label\": \"Predicted\"}, {\"date\": \"2020-12-08T00:00:00\", \"y_test\": 6800.0, \"y_pred\": 6940.62420113534, \"label\": \"Actual\", \"predicted_label\": \"Predicted\"}, {\"date\": \"2020-12-09T00:00:00\", \"y_test\": 6789.000000000001, \"y_pred\": 6874.412288654282, \"label\": \"Actual\", \"predicted_label\": \"Predicted\"}, {\"date\": \"2020-12-10T00:00:00\", \"y_test\": 6756.299804687501, \"y_pred\": 6910.979212771523, \"label\": \"Actual\", \"predicted_label\": \"Predicted\"}, {\"date\": \"2020-12-11T00:00:00\", \"y_test\": 6751.000000000001, \"y_pred\": 6852.923010690338, \"label\": \"Actual\", \"predicted_label\": \"Predicted\"}, {\"date\": \"2020-12-14T00:00:00\", \"y_test\": 6753.7998046875, \"y_pred\": 6840.907766421975, \"label\": \"Actual\", \"predicted_label\": \"Predicted\"}, {\"date\": \"2020-12-15T00:00:00\", \"y_test\": 6710.0, \"y_pred\": 6868.376716936381, \"label\": \"Actual\", \"predicted_label\": \"Predicted\"}, {\"date\": \"2020-12-16T00:00:00\", \"y_test\": 6845.0, \"y_pred\": 6837.938451655025, \"label\": \"Actual\", \"predicted_label\": \"Predicted\"}, {\"date\": \"2020-12-17T00:00:00\", \"y_test\": 6888.0, \"y_pred\": 7115.602858198384, \"label\": \"Actual\", \"predicted_label\": \"Predicted\"}, {\"date\": \"2020-12-18T00:00:00\", \"y_test\": 7029.999999999999, \"y_pred\": 7087.755394732687, \"label\": \"Actual\", \"predicted_label\": \"Predicted\"}, {\"date\": \"2020-12-21T00:00:00\", \"y_test\": 6898.0, \"y_pred\": 7040.760958159857, \"label\": \"Actual\", \"predicted_label\": \"Predicted\"}, {\"date\": \"2020-12-22T00:00:00\", \"y_test\": 6776.14990234375, \"y_pred\": 6772.797972464807, \"label\": \"Actual\", \"predicted_label\": \"Predicted\"}, {\"date\": \"2020-12-23T00:00:00\", \"y_test\": 7221.999999999999, \"y_pred\": 6929.209026872731, \"label\": \"Actual\", \"predicted_label\": \"Predicted\"}, {\"date\": \"2020-12-24T00:00:00\", \"y_test\": 7356.35009765625, \"y_pred\": 7298.194140711773, \"label\": \"Actual\", \"predicted_label\": \"Predicted\"}, {\"date\": \"2020-12-28T00:00:00\", \"y_test\": 7244.85009765625, \"y_pred\": 7323.40312082739, \"label\": \"Actual\", \"predicted_label\": \"Predicted\"}, {\"date\": \"2020-12-29T00:00:00\", \"y_test\": 7025.750000000001, \"y_pred\": 7122.329714323611, \"label\": \"Actual\", \"predicted_label\": \"Predicted\"}, {\"date\": \"2020-12-30T00:00:00\", \"y_test\": 7000.0, \"y_pred\": 7078.5345912476405, \"label\": \"Actual\", \"predicted_label\": \"Predicted\"}, {\"date\": \"2020-12-31T00:00:00\", \"y_test\": 6921.0, \"y_pred\": 7050.223892549851, \"label\": \"Actual\", \"predicted_label\": \"Predicted\"}, {\"date\": \"2021-01-01T00:00:00\", \"y_test\": 7000.0, \"y_pred\": 7017.828244181456, \"label\": \"Actual\", \"predicted_label\": \"Predicted\"}, {\"date\": \"2021-01-04T00:00:00\", \"y_test\": 7050.000000000001, \"y_pred\": 7204.626742664499, \"label\": \"Actual\", \"predicted_label\": \"Predicted\"}, {\"date\": \"2021-01-05T00:00:00\", \"y_test\": 7010.60009765625, \"y_pred\": 7198.648098338713, \"label\": \"Actual\", \"predicted_label\": \"Predicted\"}, {\"date\": \"2021-01-06T00:00:00\", \"y_test\": 7141.499999999999, \"y_pred\": 7204.610805020646, \"label\": \"Actual\", \"predicted_label\": \"Predicted\"}, {\"date\": \"2021-01-07T00:00:00\", \"y_test\": 6985.0, \"y_pred\": 7147.565746567975, \"label\": \"Actual\", \"predicted_label\": \"Predicted\"}, {\"date\": \"2021-01-08T00:00:00\", \"y_test\": 7190.0, \"y_pred\": 7124.600842261321, \"label\": \"Actual\", \"predicted_label\": \"Predicted\"}, {\"date\": \"2021-01-11T00:00:00\", \"y_test\": 7036.89990234375, \"y_pred\": 7186.609585812812, \"label\": \"Actual\", \"predicted_label\": \"Predicted\"}, {\"date\": \"2021-01-12T00:00:00\", \"y_test\": 6964.0, \"y_pred\": 7196.716646796128, \"label\": \"Actual\", \"predicted_label\": \"Predicted\"}, {\"date\": \"2021-01-13T00:00:00\", \"y_test\": 6880.0, \"y_pred\": 7034.872036430362, \"label\": \"Actual\", \"predicted_label\": \"Predicted\"}, {\"date\": \"2021-01-14T00:00:00\", \"y_test\": 6856.60009765625, \"y_pred\": 7009.861323608176, \"label\": \"Actual\", \"predicted_label\": \"Predicted\"}, {\"date\": \"2021-01-15T00:00:00\", \"y_test\": 6833.950195312499, \"y_pred\": 6989.433513848458, \"label\": \"Actual\", \"predicted_label\": \"Predicted\"}, {\"date\": \"2021-01-18T00:00:00\", \"y_test\": 6999.0, \"y_pred\": 7052.6805570228025, \"label\": \"Actual\", \"predicted_label\": \"Predicted\"}, {\"date\": \"2021-01-19T00:00:00\", \"y_test\": 6850.000000000001, \"y_pred\": 6927.223632045864, \"label\": \"Actual\", \"predicted_label\": \"Predicted\"}, {\"date\": \"2021-01-20T00:00:00\", \"y_test\": 6994.60009765625, \"y_pred\": 7034.258409298972, \"label\": \"Actual\", \"predicted_label\": \"Predicted\"}, {\"date\": \"2021-01-21T00:00:00\", \"y_test\": 7221.999999999999, \"y_pred\": 7153.076670909227, \"label\": \"Actual\", \"predicted_label\": \"Predicted\"}, {\"date\": \"2021-01-22T00:00:00\", \"y_test\": 7190.39990234375, \"y_pred\": 7405.24339486316, \"label\": \"Actual\", \"predicted_label\": \"Predicted\"}, {\"date\": \"2021-01-25T00:00:00\", \"y_test\": 7189.999999999999, \"y_pred\": 7279.128767435976, \"label\": \"Actual\", \"predicted_label\": \"Predicted\"}, {\"date\": \"2021-01-27T00:00:00\", \"y_test\": 7473.2001953125, \"y_pred\": 7312.433333986737, \"label\": \"Actual\", \"predicted_label\": \"Predicted\"}, {\"date\": \"2021-01-28T00:00:00\", \"y_test\": 7299.999999999999, \"y_pred\": 7416.852244728952, \"label\": \"Actual\", \"predicted_label\": \"Predicted\"}, {\"date\": \"2021-01-29T00:00:00\", \"y_test\": 7146.999999999999, \"y_pred\": 7284.31031938442, \"label\": \"Actual\", \"predicted_label\": \"Predicted\"}, {\"date\": \"2021-02-01T00:00:00\", \"y_test\": 7175.0, \"y_pred\": 7339.974519876808, \"label\": \"Actual\", \"predicted_label\": \"Predicted\"}, {\"date\": \"2021-02-02T00:00:00\", \"y_test\": 7209.7001953125, \"y_pred\": 7394.198766853335, \"label\": \"Actual\", \"predicted_label\": \"Predicted\"}, {\"date\": \"2021-02-03T00:00:00\", \"y_test\": 7203.5498046875, \"y_pred\": 7342.69088093939, \"label\": \"Actual\", \"predicted_label\": \"Predicted\"}, {\"date\": \"2021-02-04T00:00:00\", \"y_test\": 7350.0, \"y_pred\": 7319.864991896752, \"label\": \"Actual\", \"predicted_label\": \"Predicted\"}, {\"date\": \"2021-02-05T00:00:00\", \"y_test\": 7194.7001953125, \"y_pred\": 7317.431901068147, \"label\": \"Actual\", \"predicted_label\": \"Predicted\"}, {\"date\": \"2021-02-08T00:00:00\", \"y_test\": 7265.000000000001, \"y_pred\": 7404.822307842649, \"label\": \"Actual\", \"predicted_label\": \"Predicted\"}, {\"date\": \"2021-02-09T00:00:00\", \"y_test\": 7430.0, \"y_pred\": 7404.378608981469, \"label\": \"Actual\", \"predicted_label\": \"Predicted\"}, {\"date\": \"2021-02-10T00:00:00\", \"y_test\": 7449.999999999999, \"y_pred\": 7562.848457733481, \"label\": \"Actual\", \"predicted_label\": \"Predicted\"}, {\"date\": \"2021-02-11T00:00:00\", \"y_test\": 7499.9501953125, \"y_pred\": 7557.659975459881, \"label\": \"Actual\", \"predicted_label\": \"Predicted\"}, {\"date\": \"2021-02-12T00:00:00\", \"y_test\": 7459.999999999999, \"y_pred\": 7670.734014859681, \"label\": \"Actual\", \"predicted_label\": \"Predicted\"}, {\"date\": \"2021-02-15T00:00:00\", \"y_test\": 7494.0, \"y_pred\": 7606.646092845204, \"label\": \"Actual\", \"predicted_label\": \"Predicted\"}, {\"date\": \"2021-02-16T00:00:00\", \"y_test\": 7455.0, \"y_pred\": 7701.297466566303, \"label\": \"Actual\", \"predicted_label\": \"Predicted\"}, {\"date\": \"2021-02-17T00:00:00\", \"y_test\": 7495.0, \"y_pred\": 7624.857424280346, \"label\": \"Actual\", \"predicted_label\": \"Predicted\"}, {\"date\": \"2021-02-18T00:00:00\", \"y_test\": 7298.999999999999, \"y_pred\": 7482.334956768068, \"label\": \"Actual\", \"predicted_label\": \"Predicted\"}, {\"date\": \"2021-02-19T00:00:00\", \"y_test\": 7168.14990234375, \"y_pred\": 7315.148292379973, \"label\": \"Actual\", \"predicted_label\": \"Predicted\"}, {\"date\": \"2021-02-22T00:00:00\", \"y_test\": 7197.350097656249, \"y_pred\": 7385.485513442493, \"label\": \"Actual\", \"predicted_label\": \"Predicted\"}, {\"date\": \"2021-02-23T00:00:00\", \"y_test\": 7077.14990234375, \"y_pred\": 7263.282455630961, \"label\": \"Actual\", \"predicted_label\": \"Predicted\"}, {\"date\": \"2021-02-24T00:00:00\", \"y_test\": 7148.999999999999, \"y_pred\": 7217.2045034073235, \"label\": \"Actual\", \"predicted_label\": \"Predicted\"}, {\"date\": \"2021-02-25T00:00:00\", \"y_test\": 7001.89990234375, \"y_pred\": 7158.552634585254, \"label\": \"Actual\", \"predicted_label\": \"Predicted\"}, {\"date\": \"2021-02-26T00:00:00\", \"y_test\": 6792.4501953125, \"y_pred\": 6962.88175110583, \"label\": \"Actual\", \"predicted_label\": \"Predicted\"}, {\"date\": \"2021-03-01T00:00:00\", \"y_test\": 6829.999999999999, \"y_pred\": 6925.937752599485, \"label\": \"Actual\", \"predicted_label\": \"Predicted\"}, {\"date\": \"2021-03-02T00:00:00\", \"y_test\": 6801.149902343749, \"y_pred\": 6829.1923739118365, \"label\": \"Actual\", \"predicted_label\": \"Predicted\"}, {\"date\": \"2021-03-03T00:00:00\", \"y_test\": 6840.000000000001, \"y_pred\": 7012.028354188326, \"label\": \"Actual\", \"predicted_label\": \"Predicted\"}, {\"date\": \"2021-03-04T00:00:00\", \"y_test\": 6805.14990234375, \"y_pred\": 7031.902282493894, \"label\": \"Actual\", \"predicted_label\": \"Predicted\"}, {\"date\": \"2021-03-05T00:00:00\", \"y_test\": 6763.399902343751, \"y_pred\": 6908.885784927144, \"label\": \"Actual\", \"predicted_label\": \"Predicted\"}, {\"date\": \"2021-03-08T00:00:00\", \"y_test\": 6777.39990234375, \"y_pred\": 6949.527087253895, \"label\": \"Actual\", \"predicted_label\": \"Predicted\"}, {\"date\": \"2021-03-09T00:00:00\", \"y_test\": 6779.999999999999, \"y_pred\": 6920.03930585826, \"label\": \"Actual\", \"predicted_label\": \"Predicted\"}, {\"date\": \"2021-03-10T00:00:00\", \"y_test\": 6713.89990234375, \"y_pred\": 6983.39679993151, \"label\": \"Actual\", \"predicted_label\": \"Predicted\"}, {\"date\": \"2021-03-12T00:00:00\", \"y_test\": 6650.950195312501, \"y_pred\": 6839.009345094171, \"label\": \"Actual\", \"predicted_label\": \"Predicted\"}, {\"date\": \"2021-03-15T00:00:00\", \"y_test\": 6799.950195312501, \"y_pred\": 6791.626622880364, \"label\": \"Actual\", \"predicted_label\": \"Predicted\"}, {\"date\": \"2021-03-16T00:00:00\", \"y_test\": 6551.25, \"y_pred\": 6737.293296905662, \"label\": \"Actual\", \"predicted_label\": \"Predicted\"}, {\"date\": \"2021-03-17T00:00:00\", \"y_test\": 6555.0, \"y_pred\": 6678.285207007132, \"label\": \"Actual\", \"predicted_label\": \"Predicted\"}, {\"date\": \"2021-03-18T00:00:00\", \"y_test\": 6599.000000000001, \"y_pred\": 6696.641304715964, \"label\": \"Actual\", \"predicted_label\": \"Predicted\"}, {\"date\": \"2021-03-19T00:00:00\", \"y_test\": 6507.950195312501, \"y_pred\": 6654.501939242073, \"label\": \"Actual\", \"predicted_label\": \"Predicted\"}, {\"date\": \"2021-03-22T00:00:00\", \"y_test\": 6500.0, \"y_pred\": 6716.3477009314975, \"label\": \"Actual\", \"predicted_label\": \"Predicted\"}, {\"date\": \"2021-03-23T00:00:00\", \"y_test\": 6413.649902343751, \"y_pred\": 6634.020162246958, \"label\": \"Actual\", \"predicted_label\": \"Predicted\"}, {\"date\": \"2021-03-24T00:00:00\", \"y_test\": 6300.0, \"y_pred\": 6554.747971334551, \"label\": \"Actual\", \"predicted_label\": \"Predicted\"}, {\"date\": \"2021-03-25T00:00:00\", \"y_test\": 6146.9501953125, \"y_pred\": 6390.827846203345, \"label\": \"Actual\", \"predicted_label\": \"Predicted\"}, {\"date\": \"2021-03-26T00:00:00\", \"y_test\": 6244.450195312501, \"y_pred\": 6342.46893064716, \"label\": \"Actual\", \"predicted_label\": \"Predicted\"}, {\"date\": \"2021-03-30T00:00:00\", \"y_test\": 6350.0, \"y_pred\": 6402.433725884141, \"label\": \"Actual\", \"predicted_label\": \"Predicted\"}, {\"date\": \"2021-03-31T00:00:00\", \"y_test\": 6381.2998046875, \"y_pred\": 6488.243080374678, \"label\": \"Actual\", \"predicted_label\": \"Predicted\"}, {\"date\": \"2021-04-01T00:00:00\", \"y_test\": 6206.64990234375, \"y_pred\": 6409.182877728513, \"label\": \"Actual\", \"predicted_label\": \"Predicted\"}, {\"date\": \"2021-04-05T00:00:00\", \"y_test\": 6210.299804687501, \"y_pred\": 6401.2007287556935, \"label\": \"Actual\", \"predicted_label\": \"Predicted\"}, {\"date\": \"2021-04-06T00:00:00\", \"y_test\": 6248.0, \"y_pred\": 6409.784624632563, \"label\": \"Actual\", \"predicted_label\": \"Predicted\"}, {\"date\": \"2021-04-07T00:00:00\", \"y_test\": 6240.89990234375, \"y_pred\": 6475.993238104501, \"label\": \"Actual\", \"predicted_label\": \"Predicted\"}, {\"date\": \"2021-04-08T00:00:00\", \"y_test\": 6330.0, \"y_pred\": 6423.96705012962, \"label\": \"Actual\", \"predicted_label\": \"Predicted\"}, {\"date\": \"2021-04-09T00:00:00\", \"y_test\": 6474.2001953125, \"y_pred\": 6535.858967426823, \"label\": \"Actual\", \"predicted_label\": \"Predicted\"}, {\"date\": \"2021-04-12T00:00:00\", \"y_test\": 6391.999999999999, \"y_pred\": 6604.164472893688, \"label\": \"Actual\", \"predicted_label\": \"Predicted\"}, {\"date\": \"2021-04-13T00:00:00\", \"y_test\": 6300.0, \"y_pred\": 6419.132500423401, \"label\": \"Actual\", \"predicted_label\": \"Predicted\"}, {\"date\": \"2021-04-15T00:00:00\", \"y_test\": 6505.0, \"y_pred\": 6436.5960180587, \"label\": \"Actual\", \"predicted_label\": \"Predicted\"}, {\"date\": \"2021-04-16T00:00:00\", \"y_test\": 6467.950195312501, \"y_pred\": 6602.3254961745815, \"label\": \"Actual\", \"predicted_label\": \"Predicted\"}, {\"date\": \"2021-04-19T00:00:00\", \"y_test\": 6450.7001953125, \"y_pred\": 6546.221717833774, \"label\": \"Actual\", \"predicted_label\": \"Predicted\"}, {\"date\": \"2021-04-20T00:00:00\", \"y_test\": 6380.0, \"y_pred\": 6555.335744867598, \"label\": \"Actual\", \"predicted_label\": \"Predicted\"}, {\"date\": \"2021-04-22T00:00:00\", \"y_test\": 6425.0, \"y_pred\": 6481.7719976205735, \"label\": \"Actual\", \"predicted_label\": \"Predicted\"}, {\"date\": \"2021-04-23T00:00:00\", \"y_test\": 6380.200195312501, \"y_pred\": 6516.370129145394, \"label\": \"Actual\", \"predicted_label\": \"Predicted\"}, {\"date\": \"2021-04-26T00:00:00\", \"y_test\": 6476.999999999999, \"y_pred\": 6530.960437876312, \"label\": \"Actual\", \"predicted_label\": \"Predicted\"}, {\"date\": \"2021-04-27T00:00:00\", \"y_test\": 6499.0, \"y_pred\": 6401.548226844284, \"label\": \"Actual\", \"predicted_label\": \"Predicted\"}, {\"date\": \"2021-04-28T00:00:00\", \"y_test\": 6500.7001953125, \"y_pred\": 6742.647022023329, \"label\": \"Actual\", \"predicted_label\": \"Predicted\"}, {\"date\": \"2021-04-29T00:00:00\", \"y_test\": 6530.0, \"y_pred\": 6678.399442106332, \"label\": \"Actual\", \"predicted_label\": \"Predicted\"}, {\"date\": \"2021-04-30T00:00:00\", \"y_test\": 6434.14990234375, \"y_pred\": 6581.540420789001, \"label\": \"Actual\", \"predicted_label\": \"Predicted\"}, {\"date\": \"2021-05-03T00:00:00\", \"y_test\": 6420.0, \"y_pred\": 6553.56453040159, \"label\": \"Actual\", \"predicted_label\": \"Predicted\"}, {\"date\": \"2021-05-04T00:00:00\", \"y_test\": 6379.9501953125, \"y_pred\": 6490.182303147622, \"label\": \"Actual\", \"predicted_label\": \"Predicted\"}, {\"date\": \"2021-05-05T00:00:00\", \"y_test\": 6374.999999999999, \"y_pred\": 6486.973078241862, \"label\": \"Actual\", \"predicted_label\": \"Predicted\"}, {\"date\": \"2021-05-06T00:00:00\", \"y_test\": 6398.000000000001, \"y_pred\": 6520.387607167757, \"label\": \"Actual\", \"predicted_label\": \"Predicted\"}, {\"date\": \"2021-05-07T00:00:00\", \"y_test\": 6040.0, \"y_pred\": 6486.800219663221, \"label\": \"Actual\", \"predicted_label\": \"Predicted\"}, {\"date\": \"2021-05-10T00:00:00\", \"y_test\": 5904.9501953125, \"y_pred\": 6114.456659391719, \"label\": \"Actual\", \"predicted_label\": \"Predicted\"}, {\"date\": \"2021-05-11T00:00:00\", \"y_test\": 5864.39990234375, \"y_pred\": 6083.8040184888605, \"label\": \"Actual\", \"predicted_label\": \"Predicted\"}, {\"date\": \"2021-05-12T00:00:00\", \"y_test\": 5849.899902343749, \"y_pred\": 6045.537154454028, \"label\": \"Actual\", \"predicted_label\": \"Predicted\"}, {\"date\": \"2021-05-14T00:00:00\", \"y_test\": 5825.0, \"y_pred\": 6011.244118381585, \"label\": \"Actual\", \"predicted_label\": \"Predicted\"}, {\"date\": \"2021-05-17T00:00:00\", \"y_test\": 5873.649902343751, \"y_pred\": 6013.9439712950925, \"label\": \"Actual\", \"predicted_label\": \"Predicted\"}, {\"date\": \"2021-05-18T00:00:00\", \"y_test\": 5899.0, \"y_pred\": 6051.585841468295, \"label\": \"Actual\", \"predicted_label\": \"Predicted\"}, {\"date\": \"2021-05-19T00:00:00\", \"y_test\": 5880.0, \"y_pred\": 6044.71300822645, \"label\": \"Actual\", \"predicted_label\": \"Predicted\"}, {\"date\": \"2021-05-20T00:00:00\", \"y_test\": 5875.14990234375, \"y_pred\": 6052.401360522101, \"label\": \"Actual\", \"predicted_label\": \"Predicted\"}, {\"date\": \"2021-05-21T00:00:00\", \"y_test\": 5898.0, \"y_pred\": 6032.041419230078, \"label\": \"Actual\", \"predicted_label\": \"Predicted\"}, {\"date\": \"2021-05-24T00:00:00\", \"y_test\": 6072.10009765625, \"y_pred\": 6088.690163653265, \"label\": \"Actual\", \"predicted_label\": \"Predicted\"}, {\"date\": \"2021-05-25T00:00:00\", \"y_test\": 6095.85009765625, \"y_pred\": 6304.253270491334, \"label\": \"Actual\", \"predicted_label\": \"Predicted\"}, {\"date\": \"2021-05-26T00:00:00\", \"y_test\": 6060.549804687499, \"y_pred\": 6273.303327184668, \"label\": \"Actual\", \"predicted_label\": \"Predicted\"}, {\"date\": \"2021-05-27T00:00:00\", \"y_test\": 6099.0, \"y_pred\": 6166.11315255254, \"label\": \"Actual\", \"predicted_label\": \"Predicted\"}, {\"date\": \"2021-05-28T00:00:00\", \"y_test\": 6065.999999999999, \"y_pred\": 6239.530134886135, \"label\": \"Actual\", \"predicted_label\": \"Predicted\"}, {\"date\": \"2021-05-31T00:00:00\", \"y_test\": 6049.89990234375, \"y_pred\": 6121.805721818367, \"label\": \"Actual\", \"predicted_label\": \"Predicted\"}, {\"date\": \"2021-06-01T00:00:00\", \"y_test\": 5953.299804687499, \"y_pred\": 6084.374228272512, \"label\": \"Actual\", \"predicted_label\": \"Predicted\"}, {\"date\": \"2021-06-02T00:00:00\", \"y_test\": 5890.0, \"y_pred\": 6032.018022052709, \"label\": \"Actual\", \"predicted_label\": \"Predicted\"}, {\"date\": \"2021-06-03T00:00:00\", \"y_test\": 5930.0, \"y_pred\": 6031.519119903645, \"label\": \"Actual\", \"predicted_label\": \"Predicted\"}, {\"date\": \"2021-06-04T00:00:00\", \"y_test\": 5858.0, \"y_pred\": 6004.126837031095, \"label\": \"Actual\", \"predicted_label\": \"Predicted\"}, {\"date\": \"2021-06-07T00:00:00\", \"y_test\": 5880.0, \"y_pred\": 5967.439190765826, \"label\": \"Actual\", \"predicted_label\": \"Predicted\"}, {\"date\": \"2021-06-08T00:00:00\", \"y_test\": 5837.89990234375, \"y_pred\": 5985.0577353604085, \"label\": \"Actual\", \"predicted_label\": \"Predicted\"}, {\"date\": \"2021-06-09T00:00:00\", \"y_test\": 5873.0, \"y_pred\": 5984.082585245754, \"label\": \"Actual\", \"predicted_label\": \"Predicted\"}, {\"date\": \"2021-06-10T00:00:00\", \"y_test\": 5858.9501953125, \"y_pred\": 5981.063034126261, \"label\": \"Actual\", \"predicted_label\": \"Predicted\"}, {\"date\": \"2021-06-11T00:00:00\", \"y_test\": 5853.0, \"y_pred\": 6005.1820343019, \"label\": \"Actual\", \"predicted_label\": \"Predicted\"}, {\"date\": \"2021-06-14T00:00:00\", \"y_test\": 5844.0, \"y_pred\": 5964.221489217139, \"label\": \"Actual\", \"predicted_label\": \"Predicted\"}, {\"date\": \"2021-06-15T00:00:00\", \"y_test\": 5848.149902343751, \"y_pred\": 5953.848213488037, \"label\": \"Actual\", \"predicted_label\": \"Predicted\"}, {\"date\": \"2021-06-16T00:00:00\", \"y_test\": 5835.749999999999, \"y_pred\": 5977.06656205891, \"label\": \"Actual\", \"predicted_label\": \"Predicted\"}, {\"date\": \"2021-06-17T00:00:00\", \"y_test\": 5844.89990234375, \"y_pred\": 5985.287369289762, \"label\": \"Actual\", \"predicted_label\": \"Predicted\"}, {\"date\": \"2021-06-18T00:00:00\", \"y_test\": 5900.0, \"y_pred\": 6099.799707452477, \"label\": \"Actual\", \"predicted_label\": \"Predicted\"}, {\"date\": \"2021-06-21T00:00:00\", \"y_test\": 5888.0, \"y_pred\": 6190.290332240991, \"label\": \"Actual\", \"predicted_label\": \"Predicted\"}, {\"date\": \"2021-06-22T00:00:00\", \"y_test\": 5920.000000000001, \"y_pred\": 6086.6412676020045, \"label\": \"Actual\", \"predicted_label\": \"Predicted\"}, {\"date\": \"2021-06-23T00:00:00\", \"y_test\": 5854.749999999999, \"y_pred\": 6036.4724097655135, \"label\": \"Actual\", \"predicted_label\": \"Predicted\"}, {\"date\": \"2021-06-24T00:00:00\", \"y_test\": 5812.75, \"y_pred\": 6022.901413444023, \"label\": \"Actual\", \"predicted_label\": \"Predicted\"}, {\"date\": \"2021-06-25T00:00:00\", \"y_test\": 5869.0, \"y_pred\": 6032.852258361689, \"label\": \"Actual\", \"predicted_label\": \"Predicted\"}, {\"date\": \"2021-06-28T00:00:00\", \"y_test\": 5875.0, \"y_pred\": 6098.270809859198, \"label\": \"Actual\", \"predicted_label\": \"Predicted\"}, {\"date\": \"2021-06-29T00:00:00\", \"y_test\": 5824.0498046875, \"y_pred\": 6060.21584728345, \"label\": \"Actual\", \"predicted_label\": \"Predicted\"}, {\"date\": \"2021-06-30T00:00:00\", \"y_test\": 5815.0, \"y_pred\": 6028.9303172779455, \"label\": \"Actual\", \"predicted_label\": \"Predicted\"}, {\"date\": \"2021-07-01T00:00:00\", \"y_test\": 5675.0, \"y_pred\": 5817.878387199424, \"label\": \"Actual\", \"predicted_label\": \"Predicted\"}, {\"date\": \"2021-07-02T00:00:00\", \"y_test\": 5810.000000000001, \"y_pred\": 5849.28141240279, \"label\": \"Actual\", \"predicted_label\": \"Predicted\"}, {\"date\": \"2021-07-05T00:00:00\", \"y_test\": 5732.39990234375, \"y_pred\": 5901.769238510792, \"label\": \"Actual\", \"predicted_label\": \"Predicted\"}, {\"date\": \"2021-07-06T00:00:00\", \"y_test\": 5703.799804687499, \"y_pred\": 5855.492790869219, \"label\": \"Actual\", \"predicted_label\": \"Predicted\"}, {\"date\": \"2021-07-07T00:00:00\", \"y_test\": 5659.450195312501, \"y_pred\": 5839.857120894906, \"label\": \"Actual\", \"predicted_label\": \"Predicted\"}, {\"date\": \"2021-07-08T00:00:00\", \"y_test\": 5707.7998046875, \"y_pred\": 5824.707817191304, \"label\": \"Actual\", \"predicted_label\": \"Predicted\"}, {\"date\": \"2021-07-09T00:00:00\", \"y_test\": 5690.0, \"y_pred\": 5844.239227560001, \"label\": \"Actual\", \"predicted_label\": \"Predicted\"}, {\"date\": \"2021-07-12T00:00:00\", \"y_test\": 5749.999999999999, \"y_pred\": 5762.642983522647, \"label\": \"Actual\", \"predicted_label\": \"Predicted\"}, {\"date\": \"2021-07-13T00:00:00\", \"y_test\": 5750.000000000001, \"y_pred\": 5840.862606589588, \"label\": \"Actual\", \"predicted_label\": \"Predicted\"}, {\"date\": \"2021-07-14T00:00:00\", \"y_test\": 5756.350097656251, \"y_pred\": 5866.014661243219, \"label\": \"Actual\", \"predicted_label\": \"Predicted\"}, {\"date\": \"2021-07-15T00:00:00\", \"y_test\": 5728.500000000001, \"y_pred\": 5866.7248073127075, \"label\": \"Actual\", \"predicted_label\": \"Predicted\"}, {\"date\": \"2021-07-16T00:00:00\", \"y_test\": 5720.000000000001, \"y_pred\": 5817.774610658673, \"label\": \"Actual\", \"predicted_label\": \"Predicted\"}, {\"date\": \"2021-07-19T00:00:00\", \"y_test\": 5699.000000000001, \"y_pred\": 5778.240134704793, \"label\": \"Actual\", \"predicted_label\": \"Predicted\"}, {\"date\": \"2021-07-20T00:00:00\", \"y_test\": 5591.9501953125, \"y_pred\": 5722.153722635476, \"label\": \"Actual\", \"predicted_label\": \"Predicted\"}, {\"date\": \"2021-07-22T00:00:00\", \"y_test\": 5565.7001953125, \"y_pred\": 5698.001397542857, \"label\": \"Actual\", \"predicted_label\": \"Predicted\"}, {\"date\": \"2021-07-23T00:00:00\", \"y_test\": 5535.0, \"y_pred\": 5683.000531809801, \"label\": \"Actual\", \"predicted_label\": \"Predicted\"}, {\"date\": \"2021-07-26T00:00:00\", \"y_test\": 5549.5498046875, \"y_pred\": 5652.157069418259, \"label\": \"Actual\", \"predicted_label\": \"Predicted\"}, {\"date\": \"2021-07-27T00:00:00\", \"y_test\": 5540.39990234375, \"y_pred\": 5610.262624941027, \"label\": \"Actual\", \"predicted_label\": \"Predicted\"}, {\"date\": \"2021-07-28T00:00:00\", \"y_test\": 5492.5, \"y_pred\": 5583.203833317244, \"label\": \"Actual\", \"predicted_label\": \"Predicted\"}, {\"date\": \"2021-07-29T00:00:00\", \"y_test\": 5445.9501953125, \"y_pred\": 5558.8654703615475, \"label\": \"Actual\", \"predicted_label\": \"Predicted\"}, {\"date\": \"2021-07-30T00:00:00\", \"y_test\": 5418.4501953125, \"y_pred\": 5555.189885309151, \"label\": \"Actual\", \"predicted_label\": \"Predicted\"}, {\"date\": \"2021-08-02T00:00:00\", \"y_test\": 5460.000000000001, \"y_pred\": 5525.862478159793, \"label\": \"Actual\", \"predicted_label\": \"Predicted\"}, {\"date\": \"2021-08-03T00:00:00\", \"y_test\": 5503.0, \"y_pred\": 5601.167297473764, \"label\": \"Actual\", \"predicted_label\": \"Predicted\"}, {\"date\": \"2021-08-04T00:00:00\", \"y_test\": 5599.0, \"y_pred\": 5673.218063703089, \"label\": \"Actual\", \"predicted_label\": \"Predicted\"}, {\"date\": \"2021-08-05T00:00:00\", \"y_test\": 5549.950195312499, \"y_pred\": 5643.085299822446, \"label\": \"Actual\", \"predicted_label\": \"Predicted\"}, {\"date\": \"2021-08-06T00:00:00\", \"y_test\": 5548.39990234375, \"y_pred\": 5639.698261390424, \"label\": \"Actual\", \"predicted_label\": \"Predicted\"}, {\"date\": \"2021-08-09T00:00:00\", \"y_test\": 5530.000000000001, \"y_pred\": 5606.899910715156, \"label\": \"Actual\", \"predicted_label\": \"Predicted\"}, {\"date\": \"2021-08-10T00:00:00\", \"y_test\": 5460.0, \"y_pred\": 5584.798961346628, \"label\": \"Actual\", \"predicted_label\": \"Predicted\"}, {\"date\": \"2021-08-11T00:00:00\", \"y_test\": 5491.0, \"y_pred\": 5555.033175497048, \"label\": \"Actual\", \"predicted_label\": \"Predicted\"}, {\"date\": \"2021-08-12T00:00:00\", \"y_test\": 5445.0, \"y_pred\": 5483.339795595111, \"label\": \"Actual\", \"predicted_label\": \"Predicted\"}, {\"date\": \"2021-08-13T00:00:00\", \"y_test\": 5490.0, \"y_pred\": 5574.094968683295, \"label\": \"Actual\", \"predicted_label\": \"Predicted\"}, {\"date\": \"2021-08-16T00:00:00\", \"y_test\": 5575.0, \"y_pred\": 5625.104141193298, \"label\": \"Actual\", \"predicted_label\": \"Predicted\"}, {\"date\": \"2021-08-17T00:00:00\", \"y_test\": 5481.7998046875, \"y_pred\": 5625.516055993446, \"label\": \"Actual\", \"predicted_label\": \"Predicted\"}, {\"date\": \"2021-08-18T00:00:00\", \"y_test\": 5473.4501953125, \"y_pred\": 5573.69777943903, \"label\": \"Actual\", \"predicted_label\": \"Predicted\"}, {\"date\": \"2021-08-20T00:00:00\", \"y_test\": 5449.85009765625, \"y_pred\": 5580.940743791103, \"label\": \"Actual\", \"predicted_label\": \"Predicted\"}, {\"date\": \"2021-08-23T00:00:00\", \"y_test\": 5454.89990234375, \"y_pred\": 5540.380807544674, \"label\": \"Actual\", \"predicted_label\": \"Predicted\"}, {\"date\": \"2021-08-24T00:00:00\", \"y_test\": 5466.35009765625, \"y_pred\": 5593.393361517623, \"label\": \"Actual\", \"predicted_label\": \"Predicted\"}, {\"date\": \"2021-08-25T00:00:00\", \"y_test\": 5454.35009765625, \"y_pred\": 5573.791362184746, \"label\": \"Actual\", \"predicted_label\": \"Predicted\"}, {\"date\": \"2021-08-26T00:00:00\", \"y_test\": 5629.85009765625, \"y_pred\": 5551.941000320733, \"label\": \"Actual\", \"predicted_label\": \"Predicted\"}, {\"date\": \"2021-08-27T00:00:00\", \"y_test\": 5579.899902343749, \"y_pred\": 5657.2632822017395, \"label\": \"Actual\", \"predicted_label\": \"Predicted\"}, {\"date\": \"2021-08-30T00:00:00\", \"y_test\": 5571.499999999999, \"y_pred\": 5710.6387716889385, \"label\": \"Actual\", \"predicted_label\": \"Predicted\"}, {\"date\": \"2021-08-31T00:00:00\", \"y_test\": 5527.2998046875, \"y_pred\": 5664.245658678569, \"label\": \"Actual\", \"predicted_label\": \"Predicted\"}, {\"date\": \"2021-09-01T00:00:00\", \"y_test\": 5453.85009765625, \"y_pred\": 5622.587338434202, \"label\": \"Actual\", \"predicted_label\": \"Predicted\"}, {\"date\": \"2021-09-02T00:00:00\", \"y_test\": 5368.499999999999, \"y_pred\": 5545.799153616905, \"label\": \"Actual\", \"predicted_label\": \"Predicted\"}, {\"date\": \"2021-09-03T00:00:00\", \"y_test\": 5420.0, \"y_pred\": 5525.745595437407, \"label\": \"Actual\", \"predicted_label\": \"Predicted\"}, {\"date\": \"2021-09-06T00:00:00\", \"y_test\": 5380.14990234375, \"y_pred\": 5551.48113589398, \"label\": \"Actual\", \"predicted_label\": \"Predicted\"}, {\"date\": \"2021-09-07T00:00:00\", \"y_test\": 5368.60009765625, \"y_pred\": 5486.7550979436255, \"label\": \"Actual\", \"predicted_label\": \"Predicted\"}, {\"date\": \"2021-09-08T00:00:00\", \"y_test\": 5396.0, \"y_pred\": 5496.798508928829, \"label\": \"Actual\", \"predicted_label\": \"Predicted\"}, {\"date\": \"2021-09-09T00:00:00\", \"y_test\": 5380.0, \"y_pred\": 5487.910572447896, \"label\": \"Actual\", \"predicted_label\": \"Predicted\"}, {\"date\": \"2021-09-13T00:00:00\", \"y_test\": 5560.60009765625, \"y_pred\": 5490.128322455034, \"label\": \"Actual\", \"predicted_label\": \"Predicted\"}, {\"date\": \"2021-09-14T00:00:00\", \"y_test\": 5579.899902343749, \"y_pred\": 5728.78948759483, \"label\": \"Actual\", \"predicted_label\": \"Predicted\"}, {\"date\": \"2021-09-15T00:00:00\", \"y_test\": 5549.0, \"y_pred\": 5630.682919891763, \"label\": \"Actual\", \"predicted_label\": \"Predicted\"}, {\"date\": \"2021-09-16T00:00:00\", \"y_test\": 5545.0, \"y_pred\": 5678.201105600425, \"label\": \"Actual\", \"predicted_label\": \"Predicted\"}, {\"date\": \"2021-09-17T00:00:00\", \"y_test\": 5519.0, \"y_pred\": 5626.3485400602, \"label\": \"Actual\", \"predicted_label\": \"Predicted\"}, {\"date\": \"2021-09-20T00:00:00\", \"y_test\": 5416.0, \"y_pred\": 5506.786546999524, \"label\": \"Actual\", \"predicted_label\": \"Predicted\"}, {\"date\": \"2021-09-21T00:00:00\", \"y_test\": 5404.0498046875, \"y_pred\": 5491.293549294272, \"label\": \"Actual\", \"predicted_label\": \"Predicted\"}, {\"date\": \"2021-09-22T00:00:00\", \"y_test\": 5399.0, \"y_pred\": 5464.8541534951555, \"label\": \"Actual\", \"predicted_label\": \"Predicted\"}, {\"date\": \"2021-09-23T00:00:00\", \"y_test\": 5438.0, \"y_pred\": 5489.117614716881, \"label\": \"Actual\", \"predicted_label\": \"Predicted\"}, {\"date\": \"2021-09-24T00:00:00\", \"y_test\": 5434.000000000001, \"y_pred\": 5511.006352714118, \"label\": \"Actual\", \"predicted_label\": \"Predicted\"}, {\"date\": \"2021-09-27T00:00:00\", \"y_test\": 5460.0, \"y_pred\": 5517.4328142697705, \"label\": \"Actual\", \"predicted_label\": \"Predicted\"}, {\"date\": \"2021-09-28T00:00:00\", \"y_test\": 5459.999999999999, \"y_pred\": 5517.151051595767, \"label\": \"Actual\", \"predicted_label\": \"Predicted\"}, {\"date\": \"2021-09-29T00:00:00\", \"y_test\": 5473.899902343751, \"y_pred\": 5531.622725479556, \"label\": \"Actual\", \"predicted_label\": \"Predicted\"}, {\"date\": \"2021-09-30T00:00:00\", \"y_test\": 5500.0, \"y_pred\": 5601.6934087303325, \"label\": \"Actual\", \"predicted_label\": \"Predicted\"}, {\"date\": \"2021-10-01T00:00:00\", \"y_test\": 5532.600097656251, \"y_pred\": 5561.739534313558, \"label\": \"Actual\", \"predicted_label\": \"Predicted\"}, {\"date\": \"2021-10-04T00:00:00\", \"y_test\": 5785.100097656251, \"y_pred\": 5689.696610759481, \"label\": \"Actual\", \"predicted_label\": \"Predicted\"}, {\"date\": \"2021-10-05T00:00:00\", \"y_test\": 5850.0, \"y_pred\": 6038.425794251227, \"label\": \"Actual\", \"predicted_label\": \"Predicted\"}, {\"date\": \"2021-10-06T00:00:00\", \"y_test\": 5804.799804687499, \"y_pred\": 5947.67297963054, \"label\": \"Actual\", \"predicted_label\": \"Predicted\"}, {\"date\": \"2021-10-07T00:00:00\", \"y_test\": 5800.0, \"y_pred\": 5954.07039405189, \"label\": \"Actual\", \"predicted_label\": \"Predicted\"}, {\"date\": \"2021-10-08T00:00:00\", \"y_test\": 5829.100097656251, \"y_pred\": 5983.021395815931, \"label\": \"Actual\", \"predicted_label\": \"Predicted\"}, {\"date\": \"2021-10-11T00:00:00\", \"y_test\": 5799.0, \"y_pred\": 5971.67511201288, \"label\": \"Actual\", \"predicted_label\": \"Predicted\"}, {\"date\": \"2021-10-12T00:00:00\", \"y_test\": 5735.85009765625, \"y_pred\": 5933.920125871997, \"label\": \"Actual\", \"predicted_label\": \"Predicted\"}, {\"date\": \"2021-10-13T00:00:00\", \"y_test\": 5796.0, \"y_pred\": 5855.036501156893, \"label\": \"Actual\", \"predicted_label\": \"Predicted\"}, {\"date\": \"2021-10-14T00:00:00\", \"y_test\": 5659.9501953125, \"y_pred\": 5783.843449633649, \"label\": \"Actual\", \"predicted_label\": \"Predicted\"}, {\"date\": \"2021-10-18T00:00:00\", \"y_test\": 5719.999999999999, \"y_pred\": 5795.471077407832, \"label\": \"Actual\", \"predicted_label\": \"Predicted\"}, {\"date\": \"2021-10-19T00:00:00\", \"y_test\": 5608.899902343751, \"y_pred\": 5709.695272141133, \"label\": \"Actual\", \"predicted_label\": \"Predicted\"}, {\"date\": \"2021-10-20T00:00:00\", \"y_test\": 5548.25, \"y_pred\": 5678.7902628666225, \"label\": \"Actual\", \"predicted_label\": \"Predicted\"}, {\"date\": \"2021-10-21T00:00:00\", \"y_test\": 5549.0, \"y_pred\": 5637.293204215788, \"label\": \"Actual\", \"predicted_label\": \"Predicted\"}, {\"date\": \"2021-10-22T00:00:00\", \"y_test\": 5520.60009765625, \"y_pred\": 5659.51783094988, \"label\": \"Actual\", \"predicted_label\": \"Predicted\"}, {\"date\": \"2021-10-25T00:00:00\", \"y_test\": 5445.0, \"y_pred\": 5590.779126382524, \"label\": \"Actual\", \"predicted_label\": \"Predicted\"}, {\"date\": \"2021-10-26T00:00:00\", \"y_test\": 5607.0, \"y_pred\": 5547.71586958541, \"label\": \"Actual\", \"predicted_label\": \"Predicted\"}, {\"date\": \"2021-10-27T00:00:00\", \"y_test\": 5635.950195312501, \"y_pred\": 5808.511667258008, \"label\": \"Actual\", \"predicted_label\": \"Predicted\"}, {\"date\": \"2021-10-28T00:00:00\", \"y_test\": 5541.0, \"y_pred\": 5640.350114161268, \"label\": \"Actual\", \"predicted_label\": \"Predicted\"}, {\"date\": \"2021-10-29T00:00:00\", \"y_test\": 5458.7998046875, \"y_pred\": 5583.543387651128, \"label\": \"Actual\", \"predicted_label\": \"Predicted\"}, {\"date\": \"2021-11-01T00:00:00\", \"y_test\": 5529.500000000001, \"y_pred\": 5570.338790305373, \"label\": \"Actual\", \"predicted_label\": \"Predicted\"}, {\"date\": \"2021-11-02T00:00:00\", \"y_test\": 5481.7001953125, \"y_pred\": 5651.209019963525, \"label\": \"Actual\", \"predicted_label\": \"Predicted\"}, {\"date\": \"2021-11-03T00:00:00\", \"y_test\": 5451.950195312499, \"y_pred\": 5524.366180082113, \"label\": \"Actual\", \"predicted_label\": \"Predicted\"}, {\"date\": \"2021-11-04T00:00:00\", \"y_test\": 5490.000000000001, \"y_pred\": 5562.6590900313, \"label\": \"Actual\", \"predicted_label\": \"Predicted\"}, {\"date\": \"2021-11-08T00:00:00\", \"y_test\": 5420.0, \"y_pred\": 5575.522413192862, \"label\": \"Actual\", \"predicted_label\": \"Predicted\"}, {\"date\": \"2021-11-09T00:00:00\", \"y_test\": 5450.0, \"y_pred\": 5527.502390918531, \"label\": \"Actual\", \"predicted_label\": \"Predicted\"}, {\"date\": \"2021-11-10T00:00:00\", \"y_test\": 5393.64990234375, \"y_pred\": 5527.748616490374, \"label\": \"Actual\", \"predicted_label\": \"Predicted\"}, {\"date\": \"2021-11-11T00:00:00\", \"y_test\": 5370.39990234375, \"y_pred\": 5472.86519106629, \"label\": \"Actual\", \"predicted_label\": \"Predicted\"}, {\"date\": \"2021-11-12T00:00:00\", \"y_test\": 5211.5, \"y_pred\": 5323.466246593738, \"label\": \"Actual\", \"predicted_label\": \"Predicted\"}, {\"date\": \"2021-11-15T00:00:00\", \"y_test\": 5189.0498046875, \"y_pred\": 5294.970917775252, \"label\": \"Actual\", \"predicted_label\": \"Predicted\"}, {\"date\": \"2021-11-16T00:00:00\", \"y_test\": 5188.39990234375, \"y_pred\": 5274.058727220228, \"label\": \"Actual\", \"predicted_label\": \"Predicted\"}, {\"date\": \"2021-11-17T00:00:00\", \"y_test\": 5135.64990234375, \"y_pred\": 5267.699816347391, \"label\": \"Actual\", \"predicted_label\": \"Predicted\"}, {\"date\": \"2021-11-18T00:00:00\", \"y_test\": 5091.4501953125, \"y_pred\": 5257.473718002235, \"label\": \"Actual\", \"predicted_label\": \"Predicted\"}, {\"date\": \"2021-11-22T00:00:00\", \"y_test\": 5050.0, \"y_pred\": 5181.213736139749, \"label\": \"Actual\", \"predicted_label\": \"Predicted\"}, {\"date\": \"2021-11-23T00:00:00\", \"y_test\": 5036.7998046875, \"y_pred\": 5194.312508242158, \"label\": \"Actual\", \"predicted_label\": \"Predicted\"}, {\"date\": \"2021-11-24T00:00:00\", \"y_test\": 5088.0, \"y_pred\": 5212.496287514433, \"label\": \"Actual\", \"predicted_label\": \"Predicted\"}, {\"date\": \"2021-11-25T00:00:00\", \"y_test\": 5060.0, \"y_pred\": 5173.474016370555, \"label\": \"Actual\", \"predicted_label\": \"Predicted\"}, {\"date\": \"2021-11-26T00:00:00\", \"y_test\": 5080.0, \"y_pred\": 5202.061574307143, \"label\": \"Actual\", \"predicted_label\": \"Predicted\"}, {\"date\": \"2021-11-29T00:00:00\", \"y_test\": 4993.35009765625, \"y_pred\": 5171.95154332414, \"label\": \"Actual\", \"predicted_label\": \"Predicted\"}]}}, {\"mode\": \"vega-lite\"});\n",
       "</script>"
      ],
      "text/plain": [
       "alt.LayerChart(...)"
      ]
     },
     "execution_count": 47,
     "metadata": {},
     "output_type": "execute_result"
    }
   ],
   "source": [
    "import altair as alt\n",
    "\n",
    "alt.themes.enable('fivethirtyeight')\n",
    "\n",
    "predictions_df['date'] = pd.to_datetime(predictions_df['date'])\n",
    "\n",
    "predictions_df['label'] = 'Actual'\n",
    "predictions_df['predicted_label'] = 'Predicted'\n",
    "\n",
    "# Actual high price line\n",
    "line1 = alt.Chart(predictions_df).mark_line(strokeWidth=2).encode(\n",
    "    x='date:T',\n",
    "    y=alt.Y('y_test:Q', title='Price', scale=alt.Scale(zero=False)),\n",
    "    color=alt.Color('label:N', legend=alt.Legend(title=\"Line Type\")),\n",
    "    tooltip=['date', 'y_test', 'y_pred']\n",
    ")\n",
    "\n",
    "# Predicted high price line\n",
    "line2 = alt.Chart(predictions_df).mark_line(strokeWidth=1, strokeDash=[3, 3]).encode(\n",
    "    x='date:T',\n",
    "    y=alt.Y('y_pred:Q', title='', scale=alt.Scale(zero=False)),\n",
    "    color=alt.Color('predicted_label:N', legend=alt.Legend(title=\"Line Type\")),\n",
    "    tooltip=['date', 'y_test', 'y_pred']\n",
    ")\n",
    "\n",
    "# Combine the two lines\n",
    "chart = alt.layer(line1, line2).properties(\n",
    "    title='Actual vs Predicted High Prices',\n",
    "    width=650,\n",
    "    height=400\n",
    ").interactive()\n",
    "\n",
    "chart"
   ]
  }
 ],
 "metadata": {
  "kernelspec": {
   "display_name": "Python 3 (ipykernel)",
   "language": "python",
   "name": "python3"
  },
  "language_info": {
   "codemirror_mode": {
    "name": "ipython",
    "version": 3
   },
   "file_extension": ".py",
   "mimetype": "text/x-python",
   "name": "python",
   "nbconvert_exporter": "python",
   "pygments_lexer": "ipython3",
   "version": "3.10.9"
  }
 },
 "nbformat": 4,
 "nbformat_minor": 5
}
