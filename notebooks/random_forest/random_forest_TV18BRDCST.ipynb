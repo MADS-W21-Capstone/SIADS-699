{
 "cells": [
  {
   "cell_type": "code",
   "execution_count": 64,
   "id": "8afc5231",
   "metadata": {},
   "outputs": [],
   "source": [
    "import pandas as pd\n",
    "import seaborn as sns\n",
    "import matplotlib.pyplot as plt\n",
    "import numpy as np\n",
    "\n",
    "from sklearn.model_selection import train_test_split\n",
    "from sklearn.ensemble import RandomForestRegressor\n",
    "from sklearn.feature_selection import SelectFromModel\n",
    "from sklearn.preprocessing import StandardScaler\n",
    "from sklearn.metrics import mean_squared_error, r2_score, mean_absolute_percentage_error\n",
    "from sklearn.feature_selection import SelectKBest, f_regression"
   ]
  },
  {
   "cell_type": "code",
   "execution_count": 65,
   "id": "0441e2f4",
   "metadata": {},
   "outputs": [],
   "source": [
    "df = pd.read_csv('../../datasets/processed_data/combined_features/TV18BRDCST.BO.csv')"
   ]
  },
  {
   "cell_type": "code",
   "execution_count": 66,
   "id": "7cd6615f",
   "metadata": {},
   "outputs": [
    {
     "data": {
      "text/plain": [
       "Index(['date', 'open', 'close', 'adj close', 'volume', 'low', 'high',\n",
       "       'volume_adi', 'volume_obv', 'volume_cmf',\n",
       "       ...\n",
       "       'inr=x_percent_change', 'cl=f_percent_change',\n",
       "       'treasury_yeild_10_years_percent_change', 'usdx-index_percent_change',\n",
       "       '^nsei_percent_change', '^bsesn_percent_change', '^gspc_percent_change',\n",
       "       'hsi_percent_change', 'sha_percent_change', '^sti_percent_change'],\n",
       "      dtype='object', length=635)"
      ]
     },
     "execution_count": 66,
     "metadata": {},
     "output_type": "execute_result"
    }
   ],
   "source": [
    "df.columns"
   ]
  },
  {
   "cell_type": "code",
   "execution_count": 67,
   "id": "8d95330e",
   "metadata": {},
   "outputs": [],
   "source": [
    "def create_custom_target(df: pd.DataFrame) -> pd.DataFrame:\n",
    "    \"\"\"\n",
    "    This function creates the custom target price, which is computed as ln(high/yesterday_close)\n",
    "    \"\"\"    \n",
    "    # make a copy of the dataframe so as not to change the original dataframe\n",
    "    data_df = df.copy()\n",
    "    \n",
    "    # create yesterday_close feature as\n",
    "    data_df['yesterday_close'] = data_df['close'].shift(1)\n",
    "    \n",
    "    # create custom target price to predict, computing  ln(high/yesterday_close)\n",
    "    data_df['ln_target'] = np.log(data_df['high'] / data_df['yesterday_close'])\n",
    "    \n",
    "    # as yesterday close would not be available for first day, \n",
    "    # we would not have custom target price for that day, which needs to be excluded \n",
    "    return(data_df.iloc[1:, ])"
   ]
  },
  {
   "cell_type": "code",
   "execution_count": 68,
   "id": "c531119f",
   "metadata": {},
   "outputs": [],
   "source": [
    "df = create_custom_target(df)"
   ]
  },
  {
   "cell_type": "code",
   "execution_count": 69,
   "id": "813fe5cf",
   "metadata": {},
   "outputs": [
    {
     "data": {
      "text/plain": [
       "1       110.349998\n",
       "2       107.349998\n",
       "3       101.000000\n",
       "4       100.800003\n",
       "5        98.599998\n",
       "           ...    \n",
       "4016     34.220001\n",
       "4017     34.220001\n",
       "4018     34.360001\n",
       "4019     34.220001\n",
       "4020     35.270000\n",
       "Name: yesterday_close, Length: 4020, dtype: float64"
      ]
     },
     "execution_count": 69,
     "metadata": {},
     "output_type": "execute_result"
    }
   ],
   "source": [
    "df['yesterday_close']"
   ]
  },
  {
   "cell_type": "code",
   "execution_count": 70,
   "id": "cadfb265",
   "metadata": {},
   "outputs": [
    {
     "data": {
      "text/plain": [
       "1       0.001358\n",
       "2       0.013417\n",
       "3       0.013278\n",
       "4       0.037961\n",
       "5      -0.037194\n",
       "          ...   \n",
       "4016    0.044579\n",
       "4017    0.022538\n",
       "4018    0.026707\n",
       "4019    0.038130\n",
       "4020    0.007907\n",
       "Name: ln_target, Length: 4020, dtype: float64"
      ]
     },
     "execution_count": 70,
     "metadata": {},
     "output_type": "execute_result"
    }
   ],
   "source": [
    "df['ln_target'] "
   ]
  },
  {
   "cell_type": "code",
   "execution_count": 71,
   "id": "153f8860",
   "metadata": {},
   "outputs": [],
   "source": [
    "# Drop cols with NaN values\n",
    "df = df.dropna(axis=1, how='all')\n",
    "df.fillna(method='ffill', inplace=True)"
   ]
  },
  {
   "cell_type": "code",
   "execution_count": 72,
   "id": "2e2e8182",
   "metadata": {},
   "outputs": [],
   "source": [
    "combined_date_df = df['date']\n",
    "train_date, test_date = train_test_split(combined_date_df, train_size=0.8, shuffle=False)\n",
    "dev_date, test_date = train_test_split(test_date, train_size=0.5, shuffle=False)"
   ]
  },
  {
   "cell_type": "code",
   "execution_count": 73,
   "id": "65cfd022",
   "metadata": {},
   "outputs": [],
   "source": [
    "df_without_date = df.drop(columns=[\"date\"])"
   ]
  },
  {
   "cell_type": "code",
   "execution_count": 74,
   "id": "2fbd9cf5",
   "metadata": {},
   "outputs": [],
   "source": [
    "df_without_date.dropna(inplace=True)"
   ]
  },
  {
   "cell_type": "code",
   "execution_count": 75,
   "id": "d94c6d7d",
   "metadata": {},
   "outputs": [],
   "source": [
    "def timeseries_to_supervise(df, window_size, target):    \n",
    "    X = []\n",
    "    y = []\n",
    "    indx = []\n",
    "    no_records = len(df)\n",
    "    #     \n",
    "    for i in range(window_size, no_records):\n",
    "        X.append(df.iloc[i-window_size:i].drop(target, axis=1).values.flatten())  # Collect past records as a sequence\n",
    "        y.append(df.iloc[i][target])  # Next record as target variable\n",
    "        indx.append(np.arange(i-window_size, i))\n",
    "\n",
    "    X = pd.DataFrame(X)\n",
    "    y = pd.Series(y)\n",
    "    return(X, y, indx)"
   ]
  },
  {
   "cell_type": "code",
   "execution_count": 76,
   "id": "526d0ec6",
   "metadata": {},
   "outputs": [],
   "source": [
    "window_size = 10"
   ]
  },
  {
   "cell_type": "code",
   "execution_count": 77,
   "id": "97d361f9",
   "metadata": {},
   "outputs": [],
   "source": [
    "# do train/test split the data with shuffle = False\n",
    "train_data, test_data = train_test_split(df_without_date, train_size=0.8, shuffle=False)\n",
    "\n",
    "# convert timeseries to be used in supervise learning model\n",
    "X_train, y_train, indx_train = timeseries_to_supervise(train_data, window_size, 'ln_target')  \n",
    "\n",
    "# further split test set to have an hold out set to be used for backtesting\n",
    "dev_data, test_data = train_test_split(test_data, train_size=0.5, shuffle=False)\n",
    "\n",
    "# convert timeseries to be used in supervise learning model    \n",
    "X_test, y_test, indx_test = timeseries_to_supervise(dev_data, window_size, 'ln_target')  "
   ]
  },
  {
   "cell_type": "code",
   "execution_count": 78,
   "id": "d0588e7c",
   "metadata": {},
   "outputs": [],
   "source": [
    "selector = SelectKBest(score_func=f_regression, k=50)\n",
    "X_train_50 = selector.fit_transform(X_train, y_train)\n",
    "X_test_50 = selector.transform(X_test)"
   ]
  },
  {
   "cell_type": "code",
   "execution_count": 79,
   "id": "6da80680",
   "metadata": {},
   "outputs": [
    {
     "data": {
      "text/html": [
       "<style>#sk-container-id-4 {color: black;background-color: white;}#sk-container-id-4 pre{padding: 0;}#sk-container-id-4 div.sk-toggleable {background-color: white;}#sk-container-id-4 label.sk-toggleable__label {cursor: pointer;display: block;width: 100%;margin-bottom: 0;padding: 0.3em;box-sizing: border-box;text-align: center;}#sk-container-id-4 label.sk-toggleable__label-arrow:before {content: \"▸\";float: left;margin-right: 0.25em;color: #696969;}#sk-container-id-4 label.sk-toggleable__label-arrow:hover:before {color: black;}#sk-container-id-4 div.sk-estimator:hover label.sk-toggleable__label-arrow:before {color: black;}#sk-container-id-4 div.sk-toggleable__content {max-height: 0;max-width: 0;overflow: hidden;text-align: left;background-color: #f0f8ff;}#sk-container-id-4 div.sk-toggleable__content pre {margin: 0.2em;color: black;border-radius: 0.25em;background-color: #f0f8ff;}#sk-container-id-4 input.sk-toggleable__control:checked~div.sk-toggleable__content {max-height: 200px;max-width: 100%;overflow: auto;}#sk-container-id-4 input.sk-toggleable__control:checked~label.sk-toggleable__label-arrow:before {content: \"▾\";}#sk-container-id-4 div.sk-estimator input.sk-toggleable__control:checked~label.sk-toggleable__label {background-color: #d4ebff;}#sk-container-id-4 div.sk-label input.sk-toggleable__control:checked~label.sk-toggleable__label {background-color: #d4ebff;}#sk-container-id-4 input.sk-hidden--visually {border: 0;clip: rect(1px 1px 1px 1px);clip: rect(1px, 1px, 1px, 1px);height: 1px;margin: -1px;overflow: hidden;padding: 0;position: absolute;width: 1px;}#sk-container-id-4 div.sk-estimator {font-family: monospace;background-color: #f0f8ff;border: 1px dotted black;border-radius: 0.25em;box-sizing: border-box;margin-bottom: 0.5em;}#sk-container-id-4 div.sk-estimator:hover {background-color: #d4ebff;}#sk-container-id-4 div.sk-parallel-item::after {content: \"\";width: 100%;border-bottom: 1px solid gray;flex-grow: 1;}#sk-container-id-4 div.sk-label:hover label.sk-toggleable__label {background-color: #d4ebff;}#sk-container-id-4 div.sk-serial::before {content: \"\";position: absolute;border-left: 1px solid gray;box-sizing: border-box;top: 0;bottom: 0;left: 50%;z-index: 0;}#sk-container-id-4 div.sk-serial {display: flex;flex-direction: column;align-items: center;background-color: white;padding-right: 0.2em;padding-left: 0.2em;position: relative;}#sk-container-id-4 div.sk-item {position: relative;z-index: 1;}#sk-container-id-4 div.sk-parallel {display: flex;align-items: stretch;justify-content: center;background-color: white;position: relative;}#sk-container-id-4 div.sk-item::before, #sk-container-id-4 div.sk-parallel-item::before {content: \"\";position: absolute;border-left: 1px solid gray;box-sizing: border-box;top: 0;bottom: 0;left: 50%;z-index: -1;}#sk-container-id-4 div.sk-parallel-item {display: flex;flex-direction: column;z-index: 1;position: relative;background-color: white;}#sk-container-id-4 div.sk-parallel-item:first-child::after {align-self: flex-end;width: 50%;}#sk-container-id-4 div.sk-parallel-item:last-child::after {align-self: flex-start;width: 50%;}#sk-container-id-4 div.sk-parallel-item:only-child::after {width: 0;}#sk-container-id-4 div.sk-dashed-wrapped {border: 1px dashed gray;margin: 0 0.4em 0.5em 0.4em;box-sizing: border-box;padding-bottom: 0.4em;background-color: white;}#sk-container-id-4 div.sk-label label {font-family: monospace;font-weight: bold;display: inline-block;line-height: 1.2em;}#sk-container-id-4 div.sk-label-container {text-align: center;}#sk-container-id-4 div.sk-container {/* jupyter's `normalize.less` sets `[hidden] { display: none; }` but bootstrap.min.css set `[hidden] { display: none !important; }` so we also need the `!important` here to be able to override the default hidden behavior on the sphinx rendered scikit-learn.org. See: https://github.com/scikit-learn/scikit-learn/issues/21755 */display: inline-block !important;position: relative;}#sk-container-id-4 div.sk-text-repr-fallback {display: none;}</style><div id=\"sk-container-id-4\" class=\"sk-top-container\"><div class=\"sk-text-repr-fallback\"><pre>RandomForestRegressor(min_samples_leaf=2, n_estimators=200)</pre><b>In a Jupyter environment, please rerun this cell to show the HTML representation or trust the notebook. <br />On GitHub, the HTML representation is unable to render, please try loading this page with nbviewer.org.</b></div><div class=\"sk-container\" hidden><div class=\"sk-item\"><div class=\"sk-estimator sk-toggleable\"><input class=\"sk-toggleable__control sk-hidden--visually\" id=\"sk-estimator-id-4\" type=\"checkbox\" checked><label for=\"sk-estimator-id-4\" class=\"sk-toggleable__label sk-toggleable__label-arrow\">RandomForestRegressor</label><div class=\"sk-toggleable__content\"><pre>RandomForestRegressor(min_samples_leaf=2, n_estimators=200)</pre></div></div></div></div></div>"
      ],
      "text/plain": [
       "RandomForestRegressor(min_samples_leaf=2, n_estimators=200)"
      ]
     },
     "execution_count": 79,
     "metadata": {},
     "output_type": "execute_result"
    }
   ],
   "source": [
    "# Train the model on the top 50 features\n",
    "model_50 = RandomForestRegressor(\n",
    "    n_estimators=200,\n",
    "    min_samples_split=2,\n",
    "    min_samples_leaf=2,\n",
    "    bootstrap=True\n",
    ")\n",
    "model_50.fit(X_train_50, y_train)"
   ]
  },
  {
   "cell_type": "code",
   "execution_count": 80,
   "id": "bcc0a169",
   "metadata": {},
   "outputs": [],
   "source": [
    "def convert_custom_target_to_actual_for_supervise(df: pd.DataFrame, window: int, y: \"pd.Series[int]\") -> \"pd.Series[int]\":\n",
    "    \"\"\"\n",
    "    this module converts custom target - ln(high/yesterday_close) to actual high price again for timeseries converted data using rolling         window of size 10\n",
    "    \"\"\"\n",
    "    data_df = df.copy()\n",
    "    \n",
    "    # exclude first 10 rows of train/test data, as while us\n",
    "    \n",
    "    y = np.exp(y) * data_df.loc[data_df.index[window:], 'yesterday_close'].reset_index(drop=True)\n",
    "    return(y)    "
   ]
  },
  {
   "cell_type": "code",
   "execution_count": 81,
   "id": "9b6bbe36",
   "metadata": {},
   "outputs": [],
   "source": [
    "def evaluate_model(model, window, dev_data, dev_date, X_test, y_test):\n",
    "    \n",
    "    # do target prediction using the provide model\n",
    "    y_pred = model.predict(X_test)\n",
    "\n",
    "    # convert back to original value, before computing mape            \n",
    "    y_test = convert_custom_target_to_actual_for_supervise(dev_data, window, y_test)\n",
    "    y_pred = convert_custom_target_to_actual_for_supervise(dev_data, window, y_pred)\n",
    "\n",
    "    dev_dates = dev_date[window:].reset_index(drop=True)\n",
    "    predictions_df = pd.DataFrame({'date': dev_dates, 'y_test': y_test, 'y_pred': y_pred})\n",
    "\n",
    "    # compute regression metric - mape \n",
    "    mape = mean_absolute_percentage_error(y_test, y_pred)\n",
    "\n",
    "    # compute rmse metric\n",
    "    rmse = mean_squared_error(y_test, y_pred, squared=False)        \n",
    "    return(predictions_df, mape, rmse)"
   ]
  },
  {
   "cell_type": "code",
   "execution_count": 82,
   "id": "54eb339d",
   "metadata": {},
   "outputs": [],
   "source": [
    "predictions_df, mape, rmse = evaluate_model(model_50, window_size, dev_data, dev_date, X_test_50, y_test)"
   ]
  },
  {
   "cell_type": "code",
   "execution_count": 83,
   "id": "18f47e9f",
   "metadata": {},
   "outputs": [
    {
     "data": {
      "text/plain": [
       "(           date     y_test     y_pred\n",
       " 0    2020-10-29  29.500000  30.699795\n",
       " 1    2020-10-30  29.500000  29.783818\n",
       " 2    2020-11-02  29.900000  29.296930\n",
       " 3    2020-11-03  28.400000  28.546602\n",
       " 4    2020-11-04  28.299999  28.660985\n",
       " ..          ...        ...        ...\n",
       " 387  2022-02-04  67.849998  67.722493\n",
       " 388  2022-02-07  65.699997  67.733879\n",
       " 389  2022-02-08  64.250000  66.134236\n",
       " 390  2022-02-09  70.000000  64.979680\n",
       " 391  2022-02-09  70.000000  72.315044\n",
       " \n",
       " [392 rows x 3 columns],\n",
       " 0.018668742134835378,\n",
       " 1.335702484369603)"
      ]
     },
     "execution_count": 83,
     "metadata": {},
     "output_type": "execute_result"
    }
   ],
   "source": [
    "predictions_df, mape, rmse"
   ]
  },
  {
   "cell_type": "code",
   "execution_count": 85,
   "id": "b9ba15e3",
   "metadata": {},
   "outputs": [
    {
     "name": "stdout",
     "output_type": "stream",
     "text": [
      "MAPE for model with top 50 features: 1.87%\n"
     ]
    }
   ],
   "source": [
    "print(f\"MAPE for model with top 50 features: {mape*100:.2f}%\")"
   ]
  },
  {
   "cell_type": "code",
   "execution_count": 86,
   "id": "456e1fc6",
   "metadata": {},
   "outputs": [
    {
     "data": {
      "text/html": [
       "\n",
       "<style>\n",
       "  #altair-viz-56f9a8264c7b4597965dbb5763833102.vega-embed {\n",
       "    width: 100%;\n",
       "    display: flex;\n",
       "  }\n",
       "\n",
       "  #altair-viz-56f9a8264c7b4597965dbb5763833102.vega-embed details,\n",
       "  #altair-viz-56f9a8264c7b4597965dbb5763833102.vega-embed details summary {\n",
       "    position: relative;\n",
       "  }\n",
       "</style>\n",
       "<div id=\"altair-viz-56f9a8264c7b4597965dbb5763833102\"></div>\n",
       "<script type=\"text/javascript\">\n",
       "  var VEGA_DEBUG = (typeof VEGA_DEBUG == \"undefined\") ? {} : VEGA_DEBUG;\n",
       "  (function(spec, embedOpt){\n",
       "    let outputDiv = document.currentScript.previousElementSibling;\n",
       "    if (outputDiv.id !== \"altair-viz-56f9a8264c7b4597965dbb5763833102\") {\n",
       "      outputDiv = document.getElementById(\"altair-viz-56f9a8264c7b4597965dbb5763833102\");\n",
       "    }\n",
       "    const paths = {\n",
       "      \"vega\": \"https://cdn.jsdelivr.net/npm/vega@5?noext\",\n",
       "      \"vega-lib\": \"https://cdn.jsdelivr.net/npm/vega-lib?noext\",\n",
       "      \"vega-lite\": \"https://cdn.jsdelivr.net/npm/vega-lite@5.8.0?noext\",\n",
       "      \"vega-embed\": \"https://cdn.jsdelivr.net/npm/vega-embed@6?noext\",\n",
       "    };\n",
       "\n",
       "    function maybeLoadScript(lib, version) {\n",
       "      var key = `${lib.replace(\"-\", \"\")}_version`;\n",
       "      return (VEGA_DEBUG[key] == version) ?\n",
       "        Promise.resolve(paths[lib]) :\n",
       "        new Promise(function(resolve, reject) {\n",
       "          var s = document.createElement('script');\n",
       "          document.getElementsByTagName(\"head\")[0].appendChild(s);\n",
       "          s.async = true;\n",
       "          s.onload = () => {\n",
       "            VEGA_DEBUG[key] = version;\n",
       "            return resolve(paths[lib]);\n",
       "          };\n",
       "          s.onerror = () => reject(`Error loading script: ${paths[lib]}`);\n",
       "          s.src = paths[lib];\n",
       "        });\n",
       "    }\n",
       "\n",
       "    function showError(err) {\n",
       "      outputDiv.innerHTML = `<div class=\"error\" style=\"color:red;\">${err}</div>`;\n",
       "      throw err;\n",
       "    }\n",
       "\n",
       "    function displayChart(vegaEmbed) {\n",
       "      vegaEmbed(outputDiv, spec, embedOpt)\n",
       "        .catch(err => showError(`Javascript Error: ${err.message}<br>This usually means there's a typo in your chart specification. See the javascript console for the full traceback.`));\n",
       "    }\n",
       "\n",
       "    if(typeof define === \"function\" && define.amd) {\n",
       "      requirejs.config({paths});\n",
       "      require([\"vega-embed\"], displayChart, err => showError(`Error loading script: ${err.message}`));\n",
       "    } else {\n",
       "      maybeLoadScript(\"vega\", \"5\")\n",
       "        .then(() => maybeLoadScript(\"vega-lite\", \"5.8.0\"))\n",
       "        .then(() => maybeLoadScript(\"vega-embed\", \"6\"))\n",
       "        .catch(showError)\n",
       "        .then(() => displayChart(vegaEmbed));\n",
       "    }\n",
       "  })({\"usermeta\": {\"embedOptions\": {\"theme\": \"fivethirtyeight\"}}, \"config\": {\"view\": {\"continuousWidth\": 300, \"continuousHeight\": 300}}, \"layer\": [{\"mark\": {\"type\": \"line\", \"strokeWidth\": 2}, \"encoding\": {\"color\": {\"field\": \"label\", \"legend\": {\"title\": \"Line Type\"}, \"type\": \"nominal\"}, \"tooltip\": [{\"field\": \"date\", \"type\": \"temporal\"}, {\"field\": \"y_test\", \"type\": \"quantitative\"}, {\"field\": \"y_pred\", \"type\": \"quantitative\"}], \"x\": {\"field\": \"date\", \"type\": \"temporal\"}, \"y\": {\"field\": \"y_test\", \"scale\": {\"zero\": false}, \"title\": \"Price\", \"type\": \"quantitative\"}}, \"name\": \"view_3\"}, {\"mark\": {\"type\": \"line\", \"strokeDash\": [3, 3], \"strokeWidth\": 1}, \"encoding\": {\"color\": {\"field\": \"predicted_label\", \"legend\": {\"title\": \"Line Type\"}, \"type\": \"nominal\"}, \"tooltip\": [{\"field\": \"date\", \"type\": \"temporal\"}, {\"field\": \"y_test\", \"type\": \"quantitative\"}, {\"field\": \"y_pred\", \"type\": \"quantitative\"}], \"x\": {\"field\": \"date\", \"type\": \"temporal\"}, \"y\": {\"field\": \"y_pred\", \"scale\": {\"zero\": false}, \"title\": \"\", \"type\": \"quantitative\"}}}], \"data\": {\"name\": \"data-4604aaaa5aa9df8ae27bdd005697f654\"}, \"height\": 400, \"params\": [{\"name\": \"param_3\", \"select\": {\"type\": \"interval\", \"encodings\": [\"x\", \"y\"]}, \"bind\": \"scales\", \"views\": [\"view_3\"]}], \"title\": \"Actual vs Predicted High Prices\", \"width\": 650, \"$schema\": \"https://vega.github.io/schema/vega-lite/v5.8.0.json\", \"datasets\": {\"data-4604aaaa5aa9df8ae27bdd005697f654\": [{\"date\": \"2020-10-29T00:00:00\", \"y_test\": 29.5, \"y_pred\": 30.6997952922571, \"label\": \"Actual\", \"predicted_label\": \"Predicted\"}, {\"date\": \"2020-10-30T00:00:00\", \"y_test\": 29.5, \"y_pred\": 29.783817627120474, \"label\": \"Actual\", \"predicted_label\": \"Predicted\"}, {\"date\": \"2020-11-02T00:00:00\", \"y_test\": 29.89999961853028, \"y_pred\": 29.29693002237062, \"label\": \"Actual\", \"predicted_label\": \"Predicted\"}, {\"date\": \"2020-11-03T00:00:00\", \"y_test\": 28.39999961853028, \"y_pred\": 28.546602350328477, \"label\": \"Actual\", \"predicted_label\": \"Predicted\"}, {\"date\": \"2020-11-04T00:00:00\", \"y_test\": 28.299999237060547, \"y_pred\": 28.66098451649402, \"label\": \"Actual\", \"predicted_label\": \"Predicted\"}, {\"date\": \"2020-11-05T00:00:00\", \"y_test\": 28.399999618530284, \"y_pred\": 28.652033085375678, \"label\": \"Actual\", \"predicted_label\": \"Predicted\"}, {\"date\": \"2020-11-06T00:00:00\", \"y_test\": 28.600000381469727, \"y_pred\": 28.53772672463821, \"label\": \"Actual\", \"predicted_label\": \"Predicted\"}, {\"date\": \"2020-11-09T00:00:00\", \"y_test\": 28.35000038146973, \"y_pred\": 28.40874924335999, \"label\": \"Actual\", \"predicted_label\": \"Predicted\"}, {\"date\": \"2020-11-10T00:00:00\", \"y_test\": 28.25, \"y_pred\": 28.092129946994618, \"label\": \"Actual\", \"predicted_label\": \"Predicted\"}, {\"date\": \"2020-11-11T00:00:00\", \"y_test\": 28.100000381469723, \"y_pred\": 28.21648825171032, \"label\": \"Actual\", \"predicted_label\": \"Predicted\"}, {\"date\": \"2020-11-12T00:00:00\", \"y_test\": 28.70000076293945, \"y_pred\": 28.35502021797171, \"label\": \"Actual\", \"predicted_label\": \"Predicted\"}, {\"date\": \"2020-11-13T00:00:00\", \"y_test\": 29.200000762939453, \"y_pred\": 28.91976004086964, \"label\": \"Actual\", \"predicted_label\": \"Predicted\"}, {\"date\": \"2020-11-13T00:00:00\", \"y_test\": 29.200000762939453, \"y_pred\": 29.69354759266936, \"label\": \"Actual\", \"predicted_label\": \"Predicted\"}, {\"date\": \"2020-11-14T00:00:00\", \"y_test\": 29.299999237060543, \"y_pred\": 29.60135258614223, \"label\": \"Actual\", \"predicted_label\": \"Predicted\"}, {\"date\": \"2020-11-17T00:00:00\", \"y_test\": 29.25, \"y_pred\": 29.50205946831828, \"label\": \"Actual\", \"predicted_label\": \"Predicted\"}, {\"date\": \"2020-11-18T00:00:00\", \"y_test\": 29.799999237060547, \"y_pred\": 28.974331641254352, \"label\": \"Actual\", \"predicted_label\": \"Predicted\"}, {\"date\": \"2020-11-19T00:00:00\", \"y_test\": 31.549999237060547, \"y_pred\": 29.727101945449945, \"label\": \"Actual\", \"predicted_label\": \"Predicted\"}, {\"date\": \"2020-11-20T00:00:00\", \"y_test\": 31.70000076293945, \"y_pred\": 31.729839044657087, \"label\": \"Actual\", \"predicted_label\": \"Predicted\"}, {\"date\": \"2020-11-23T00:00:00\", \"y_test\": 30.79999923706055, \"y_pred\": 30.882226149386767, \"label\": \"Actual\", \"predicted_label\": \"Predicted\"}, {\"date\": \"2020-11-24T00:00:00\", \"y_test\": 30.85000038146973, \"y_pred\": 31.057659705434798, \"label\": \"Actual\", \"predicted_label\": \"Predicted\"}, {\"date\": \"2020-11-25T00:00:00\", \"y_test\": 30.39999961853028, \"y_pred\": 30.51342011947087, \"label\": \"Actual\", \"predicted_label\": \"Predicted\"}, {\"date\": \"2020-11-26T00:00:00\", \"y_test\": 29.999999999999996, \"y_pred\": 29.91463688274751, \"label\": \"Actual\", \"predicted_label\": \"Predicted\"}, {\"date\": \"2020-11-27T00:00:00\", \"y_test\": 30.399999618530284, \"y_pred\": 30.047213859699266, \"label\": \"Actual\", \"predicted_label\": \"Predicted\"}, {\"date\": \"2020-12-01T00:00:00\", \"y_test\": 32.099998474121094, \"y_pred\": 30.35056160094371, \"label\": \"Actual\", \"predicted_label\": \"Predicted\"}, {\"date\": \"2020-12-02T00:00:00\", \"y_test\": 32.599998474121094, \"y_pred\": 32.14911656962112, \"label\": \"Actual\", \"predicted_label\": \"Predicted\"}, {\"date\": \"2020-12-03T00:00:00\", \"y_test\": 33.900001525878906, \"y_pred\": 32.93990017434037, \"label\": \"Actual\", \"predicted_label\": \"Predicted\"}, {\"date\": \"2020-12-04T00:00:00\", \"y_test\": 34.099998474121094, \"y_pred\": 34.62500619566256, \"label\": \"Actual\", \"predicted_label\": \"Predicted\"}, {\"date\": \"2020-12-07T00:00:00\", \"y_test\": 33.349998474121094, \"y_pred\": 33.71419365045327, \"label\": \"Actual\", \"predicted_label\": \"Predicted\"}, {\"date\": \"2020-12-08T00:00:00\", \"y_test\": 33.45000076293945, \"y_pred\": 33.94764127406857, \"label\": \"Actual\", \"predicted_label\": \"Predicted\"}, {\"date\": \"2020-12-09T00:00:00\", \"y_test\": 32.400001525878906, \"y_pred\": 32.6900309995555, \"label\": \"Actual\", \"predicted_label\": \"Predicted\"}, {\"date\": \"2020-12-10T00:00:00\", \"y_test\": 32.0, \"y_pred\": 32.455369230624925, \"label\": \"Actual\", \"predicted_label\": \"Predicted\"}, {\"date\": \"2020-12-11T00:00:00\", \"y_test\": 32.099998474121094, \"y_pred\": 31.566681461368127, \"label\": \"Actual\", \"predicted_label\": \"Predicted\"}, {\"date\": \"2020-12-14T00:00:00\", \"y_test\": 32.0, \"y_pred\": 32.01085925524666, \"label\": \"Actual\", \"predicted_label\": \"Predicted\"}, {\"date\": \"2020-12-15T00:00:00\", \"y_test\": 31.950000762939453, \"y_pred\": 32.27073278170495, \"label\": \"Actual\", \"predicted_label\": \"Predicted\"}, {\"date\": \"2020-12-16T00:00:00\", \"y_test\": 33.25, \"y_pred\": 31.90393094702203, \"label\": \"Actual\", \"predicted_label\": \"Predicted\"}, {\"date\": \"2020-12-16T00:00:00\", \"y_test\": 33.25, \"y_pred\": 33.826513435869366, \"label\": \"Actual\", \"predicted_label\": \"Predicted\"}, {\"date\": \"2020-12-17T00:00:00\", \"y_test\": 34.099998474121094, \"y_pred\": 33.81442377981181, \"label\": \"Actual\", \"predicted_label\": \"Predicted\"}, {\"date\": \"2020-12-18T00:00:00\", \"y_test\": 32.599998474121094, \"y_pred\": 32.88252119667122, \"label\": \"Actual\", \"predicted_label\": \"Predicted\"}, {\"date\": \"2020-12-21T00:00:00\", \"y_test\": 32.5, \"y_pred\": 32.958748671991074, \"label\": \"Actual\", \"predicted_label\": \"Predicted\"}, {\"date\": \"2020-12-22T00:00:00\", \"y_test\": 30.600000381469727, \"y_pred\": 30.67116027355379, \"label\": \"Actual\", \"predicted_label\": \"Predicted\"}, {\"date\": \"2020-12-23T00:00:00\", \"y_test\": 31.100000381469723, \"y_pred\": 31.41999396097443, \"label\": \"Actual\", \"predicted_label\": \"Predicted\"}, {\"date\": \"2020-12-24T00:00:00\", \"y_test\": 32.150001525878906, \"y_pred\": 31.77217774305791, \"label\": \"Actual\", \"predicted_label\": \"Predicted\"}, {\"date\": \"2020-12-28T00:00:00\", \"y_test\": 31.899999618530277, \"y_pred\": 32.0669995172322, \"label\": \"Actual\", \"predicted_label\": \"Predicted\"}, {\"date\": \"2020-12-29T00:00:00\", \"y_test\": 31.799999237060547, \"y_pred\": 32.42342174015394, \"label\": \"Actual\", \"predicted_label\": \"Predicted\"}, {\"date\": \"2020-12-30T00:00:00\", \"y_test\": 31.39999961853028, \"y_pred\": 31.798511509881152, \"label\": \"Actual\", \"predicted_label\": \"Predicted\"}, {\"date\": \"2020-12-31T00:00:00\", \"y_test\": 31.350000381469727, \"y_pred\": 31.774615102603647, \"label\": \"Actual\", \"predicted_label\": \"Predicted\"}, {\"date\": \"2021-01-01T00:00:00\", \"y_test\": 31.70000076293945, \"y_pred\": 31.59048623522854, \"label\": \"Actual\", \"predicted_label\": \"Predicted\"}, {\"date\": \"2021-01-04T00:00:00\", \"y_test\": 31.75, \"y_pred\": 31.80545770815981, \"label\": \"Actual\", \"predicted_label\": \"Predicted\"}, {\"date\": \"2021-01-05T00:00:00\", \"y_test\": 31.14999961853028, \"y_pred\": 32.03824967308326, \"label\": \"Actual\", \"predicted_label\": \"Predicted\"}, {\"date\": \"2021-01-06T00:00:00\", \"y_test\": 31.350000381469723, \"y_pred\": 31.643128504824205, \"label\": \"Actual\", \"predicted_label\": \"Predicted\"}, {\"date\": \"2021-01-07T00:00:00\", \"y_test\": 31.200000762939453, \"y_pred\": 31.127107645891027, \"label\": \"Actual\", \"predicted_label\": \"Predicted\"}, {\"date\": \"2021-01-08T00:00:00\", \"y_test\": 31.999999999999996, \"y_pred\": 31.13657074172921, \"label\": \"Actual\", \"predicted_label\": \"Predicted\"}, {\"date\": \"2021-01-11T00:00:00\", \"y_test\": 32.5, \"y_pred\": 32.20776708902332, \"label\": \"Actual\", \"predicted_label\": \"Predicted\"}, {\"date\": \"2021-01-12T00:00:00\", \"y_test\": 33.20000076293945, \"y_pred\": 31.989834573049254, \"label\": \"Actual\", \"predicted_label\": \"Predicted\"}, {\"date\": \"2021-01-12T00:00:00\", \"y_test\": 33.20000076293945, \"y_pred\": 33.84980279702539, \"label\": \"Actual\", \"predicted_label\": \"Predicted\"}, {\"date\": \"2021-01-13T00:00:00\", \"y_test\": 33.5, \"y_pred\": 33.69809959365982, \"label\": \"Actual\", \"predicted_label\": \"Predicted\"}, {\"date\": \"2021-01-14T00:00:00\", \"y_test\": 32.70000076293945, \"y_pred\": 32.8220416217167, \"label\": \"Actual\", \"predicted_label\": \"Predicted\"}, {\"date\": \"2021-01-15T00:00:00\", \"y_test\": 32.29999923706055, \"y_pred\": 32.70775767319604, \"label\": \"Actual\", \"predicted_label\": \"Predicted\"}, {\"date\": \"2021-01-18T00:00:00\", \"y_test\": 31.450000762939453, \"y_pred\": 31.94500447215424, \"label\": \"Actual\", \"predicted_label\": \"Predicted\"}, {\"date\": \"2021-01-19T00:00:00\", \"y_test\": 32.20000076293945, \"y_pred\": 31.478704180168013, \"label\": \"Actual\", \"predicted_label\": \"Predicted\"}, {\"date\": \"2021-01-20T00:00:00\", \"y_test\": 32.95000076293945, \"y_pred\": 32.49050615174065, \"label\": \"Actual\", \"predicted_label\": \"Predicted\"}, {\"date\": \"2021-01-21T00:00:00\", \"y_test\": 32.0, \"y_pred\": 32.554666980924395, \"label\": \"Actual\", \"predicted_label\": \"Predicted\"}, {\"date\": \"2021-01-22T00:00:00\", \"y_test\": 30.600000381469723, \"y_pred\": 31.76598928523682, \"label\": \"Actual\", \"predicted_label\": \"Predicted\"}, {\"date\": \"2021-01-25T00:00:00\", \"y_test\": 30.0, \"y_pred\": 30.47963684899563, \"label\": \"Actual\", \"predicted_label\": \"Predicted\"}, {\"date\": \"2021-01-27T00:00:00\", \"y_test\": 29.450000762939453, \"y_pred\": 29.983563679859536, \"label\": \"Actual\", \"predicted_label\": \"Predicted\"}, {\"date\": \"2021-01-28T00:00:00\", \"y_test\": 29.450000762939453, \"y_pred\": 29.952878372575466, \"label\": \"Actual\", \"predicted_label\": \"Predicted\"}, {\"date\": \"2021-01-29T00:00:00\", \"y_test\": 28.999999999999996, \"y_pred\": 29.27230249784818, \"label\": \"Actual\", \"predicted_label\": \"Predicted\"}, {\"date\": \"2021-02-01T00:00:00\", \"y_test\": 28.5, \"y_pred\": 28.816289539017713, \"label\": \"Actual\", \"predicted_label\": \"Predicted\"}, {\"date\": \"2021-02-02T00:00:00\", \"y_test\": 28.64999961853028, \"y_pred\": 28.791749679678517, \"label\": \"Actual\", \"predicted_label\": \"Predicted\"}, {\"date\": \"2021-02-03T00:00:00\", \"y_test\": 29.149999618530284, \"y_pred\": 29.112504277867984, \"label\": \"Actual\", \"predicted_label\": \"Predicted\"}, {\"date\": \"2021-02-04T00:00:00\", \"y_test\": 31.5, \"y_pred\": 29.372995853155928, \"label\": \"Actual\", \"predicted_label\": \"Predicted\"}, {\"date\": \"2021-02-05T00:00:00\", \"y_test\": 31.299999237060547, \"y_pred\": 31.25533155810209, \"label\": \"Actual\", \"predicted_label\": \"Predicted\"}, {\"date\": \"2021-02-08T00:00:00\", \"y_test\": 31.29999923706055, \"y_pred\": 30.696976326963842, \"label\": \"Actual\", \"predicted_label\": \"Predicted\"}, {\"date\": \"2021-02-09T00:00:00\", \"y_test\": 30.799999237060547, \"y_pred\": 31.172230545858735, \"label\": \"Actual\", \"predicted_label\": \"Predicted\"}, {\"date\": \"2021-02-10T00:00:00\", \"y_test\": 30.450000762939453, \"y_pred\": 30.428436013586634, \"label\": \"Actual\", \"predicted_label\": \"Predicted\"}, {\"date\": \"2021-02-11T00:00:00\", \"y_test\": 30.70000076293945, \"y_pred\": 30.253281542765126, \"label\": \"Actual\", \"predicted_label\": \"Predicted\"}, {\"date\": \"2021-02-12T00:00:00\", \"y_test\": 30.39999961853028, \"y_pred\": 30.547492180194723, \"label\": \"Actual\", \"predicted_label\": \"Predicted\"}, {\"date\": \"2021-02-15T00:00:00\", \"y_test\": 30.649999618530277, \"y_pred\": 30.40844014763225, \"label\": \"Actual\", \"predicted_label\": \"Predicted\"}, {\"date\": \"2021-02-16T00:00:00\", \"y_test\": 30.350000381469723, \"y_pred\": 30.47722236340631, \"label\": \"Actual\", \"predicted_label\": \"Predicted\"}, {\"date\": \"2021-02-17T00:00:00\", \"y_test\": 30.149999618530277, \"y_pred\": 30.325432928381062, \"label\": \"Actual\", \"predicted_label\": \"Predicted\"}, {\"date\": \"2021-02-18T00:00:00\", \"y_test\": 30.39999961853028, \"y_pred\": 30.35583370217822, \"label\": \"Actual\", \"predicted_label\": \"Predicted\"}, {\"date\": \"2021-02-19T00:00:00\", \"y_test\": 31.25, \"y_pred\": 30.310312831446424, \"label\": \"Actual\", \"predicted_label\": \"Predicted\"}, {\"date\": \"2021-02-22T00:00:00\", \"y_test\": 30.350000381469723, \"y_pred\": 30.78962685738343, \"label\": \"Actual\", \"predicted_label\": \"Predicted\"}, {\"date\": \"2021-02-23T00:00:00\", \"y_test\": 29.600000381469727, \"y_pred\": 29.689829200969193, \"label\": \"Actual\", \"predicted_label\": \"Predicted\"}, {\"date\": \"2021-02-24T00:00:00\", \"y_test\": 29.700000762939453, \"y_pred\": 29.765102813322148, \"label\": \"Actual\", \"predicted_label\": \"Predicted\"}, {\"date\": \"2021-02-25T00:00:00\", \"y_test\": 30.399999618530277, \"y_pred\": 30.16635786383455, \"label\": \"Actual\", \"predicted_label\": \"Predicted\"}, {\"date\": \"2021-02-25T00:00:00\", \"y_test\": 30.399999618530277, \"y_pred\": 30.563325344456704, \"label\": \"Actual\", \"predicted_label\": \"Predicted\"}, {\"date\": \"2021-02-26T00:00:00\", \"y_test\": 29.64999961853028, \"y_pred\": 30.49232634181085, \"label\": \"Actual\", \"predicted_label\": \"Predicted\"}, {\"date\": \"2021-03-01T00:00:00\", \"y_test\": 32.95000076293945, \"y_pred\": 29.680457273038122, \"label\": \"Actual\", \"predicted_label\": \"Predicted\"}, {\"date\": \"2021-03-02T00:00:00\", \"y_test\": 33.400001525878906, \"y_pred\": 33.76407789728861, \"label\": \"Actual\", \"predicted_label\": \"Predicted\"}, {\"date\": \"2021-03-03T00:00:00\", \"y_test\": 33.25, \"y_pred\": 33.49176143551461, \"label\": \"Actual\", \"predicted_label\": \"Predicted\"}, {\"date\": \"2021-03-04T00:00:00\", \"y_test\": 32.650001525878906, \"y_pred\": 33.70985962613987, \"label\": \"Actual\", \"predicted_label\": \"Predicted\"}, {\"date\": \"2021-03-05T00:00:00\", \"y_test\": 35.20000076293945, \"y_pred\": 32.70419417755361, \"label\": \"Actual\", \"predicted_label\": \"Predicted\"}, {\"date\": \"2021-03-08T00:00:00\", \"y_test\": 36.400001525878906, \"y_pred\": 35.27650088307564, \"label\": \"Actual\", \"predicted_label\": \"Predicted\"}, {\"date\": \"2021-03-09T00:00:00\", \"y_test\": 36.400001525878906, \"y_pred\": 36.4317943325654, \"label\": \"Actual\", \"predicted_label\": \"Predicted\"}, {\"date\": \"2021-03-10T00:00:00\", \"y_test\": 35.900001525878906, \"y_pred\": 36.373535100231926, \"label\": \"Actual\", \"predicted_label\": \"Predicted\"}, {\"date\": \"2021-03-12T00:00:00\", \"y_test\": 36.25, \"y_pred\": 35.87608173352584, \"label\": \"Actual\", \"predicted_label\": \"Predicted\"}, {\"date\": \"2021-03-15T00:00:00\", \"y_test\": 35.45000076293945, \"y_pred\": 36.35506986400243, \"label\": \"Actual\", \"predicted_label\": \"Predicted\"}, {\"date\": \"2021-03-16T00:00:00\", \"y_test\": 34.70000076293945, \"y_pred\": 35.25306821966094, \"label\": \"Actual\", \"predicted_label\": \"Predicted\"}, {\"date\": \"2021-03-17T00:00:00\", \"y_test\": 34.25, \"y_pred\": 34.655070737045634, \"label\": \"Actual\", \"predicted_label\": \"Predicted\"}, {\"date\": \"2021-03-18T00:00:00\", \"y_test\": 32.54999923706055, \"y_pred\": 32.29791336018559, \"label\": \"Actual\", \"predicted_label\": \"Predicted\"}, {\"date\": \"2021-03-19T00:00:00\", \"y_test\": 31.450000762939453, \"y_pred\": 31.391288198676747, \"label\": \"Actual\", \"predicted_label\": \"Predicted\"}, {\"date\": \"2021-03-22T00:00:00\", \"y_test\": 31.75, \"y_pred\": 32.14197232817911, \"label\": \"Actual\", \"predicted_label\": \"Predicted\"}, {\"date\": \"2021-03-23T00:00:00\", \"y_test\": 31.850000381469723, \"y_pred\": 31.987370209340583, \"label\": \"Actual\", \"predicted_label\": \"Predicted\"}, {\"date\": \"2021-03-24T00:00:00\", \"y_test\": 31.64999961853028, \"y_pred\": 32.23105215968899, \"label\": \"Actual\", \"predicted_label\": \"Predicted\"}, {\"date\": \"2021-03-25T00:00:00\", \"y_test\": 30.5, \"y_pred\": 30.820504924482698, \"label\": \"Actual\", \"predicted_label\": \"Predicted\"}, {\"date\": \"2021-03-26T00:00:00\", \"y_test\": 30.450000762939457, \"y_pred\": 30.582215880063554, \"label\": \"Actual\", \"predicted_label\": \"Predicted\"}, {\"date\": \"2021-03-30T00:00:00\", \"y_test\": 30.0, \"y_pred\": 30.219465294429607, \"label\": \"Actual\", \"predicted_label\": \"Predicted\"}, {\"date\": \"2021-03-31T00:00:00\", \"y_test\": 30.149999618530277, \"y_pred\": 29.839056833594583, \"label\": \"Actual\", \"predicted_label\": \"Predicted\"}, {\"date\": \"2021-04-01T00:00:00\", \"y_test\": 29.350000381469723, \"y_pred\": 29.485291712015083, \"label\": \"Actual\", \"predicted_label\": \"Predicted\"}, {\"date\": \"2021-04-05T00:00:00\", \"y_test\": 29.700000762939453, \"y_pred\": 29.944162926466138, \"label\": \"Actual\", \"predicted_label\": \"Predicted\"}, {\"date\": \"2021-04-06T00:00:00\", \"y_test\": 28.95000076293945, \"y_pred\": 29.080820677447843, \"label\": \"Actual\", \"predicted_label\": \"Predicted\"}, {\"date\": \"2021-04-07T00:00:00\", \"y_test\": 29.25, \"y_pred\": 28.925912930732277, \"label\": \"Actual\", \"predicted_label\": \"Predicted\"}, {\"date\": \"2021-04-08T00:00:00\", \"y_test\": 29.549999237060547, \"y_pred\": 29.483541218117345, \"label\": \"Actual\", \"predicted_label\": \"Predicted\"}, {\"date\": \"2021-04-09T00:00:00\", \"y_test\": 29.350000381469727, \"y_pred\": 29.59818333762787, \"label\": \"Actual\", \"predicted_label\": \"Predicted\"}, {\"date\": \"2021-04-12T00:00:00\", \"y_test\": 28.39999961853028, \"y_pred\": 29.451241342778474, \"label\": \"Actual\", \"predicted_label\": \"Predicted\"}, {\"date\": \"2021-04-13T00:00:00\", \"y_test\": 27.250000000000004, \"y_pred\": 27.095439970980703, \"label\": \"Actual\", \"predicted_label\": \"Predicted\"}, {\"date\": \"2021-04-15T00:00:00\", \"y_test\": 27.850000381469727, \"y_pred\": 27.88058592582877, \"label\": \"Actual\", \"predicted_label\": \"Predicted\"}, {\"date\": \"2021-04-16T00:00:00\", \"y_test\": 28.350000381469727, \"y_pred\": 27.7278501455294, \"label\": \"Actual\", \"predicted_label\": \"Predicted\"}, {\"date\": \"2021-04-19T00:00:00\", \"y_test\": 28.0, \"y_pred\": 28.812108579567983, \"label\": \"Actual\", \"predicted_label\": \"Predicted\"}, {\"date\": \"2021-04-20T00:00:00\", \"y_test\": 28.350000381469723, \"y_pred\": 28.03438127332986, \"label\": \"Actual\", \"predicted_label\": \"Predicted\"}, {\"date\": \"2021-04-20T00:00:00\", \"y_test\": 28.350000381469727, \"y_pred\": 28.14445200294887, \"label\": \"Actual\", \"predicted_label\": \"Predicted\"}, {\"date\": \"2021-04-20T00:00:00\", \"y_test\": 28.350000381469727, \"y_pred\": 28.11664486890141, \"label\": \"Actual\", \"predicted_label\": \"Predicted\"}, {\"date\": \"2021-04-22T00:00:00\", \"y_test\": 33.04999923706055, \"y_pred\": 28.131714988747696, \"label\": \"Actual\", \"predicted_label\": \"Predicted\"}, {\"date\": \"2021-04-22T00:00:00\", \"y_test\": 33.04999923706055, \"y_pred\": 34.40787634573652, \"label\": \"Actual\", \"predicted_label\": \"Predicted\"}, {\"date\": \"2021-04-22T00:00:00\", \"y_test\": 33.04999923706055, \"y_pred\": 34.26622598423264, \"label\": \"Actual\", \"predicted_label\": \"Predicted\"}, {\"date\": \"2021-04-22T00:00:00\", \"y_test\": 33.04999923706055, \"y_pred\": 34.22939099699768, \"label\": \"Actual\", \"predicted_label\": \"Predicted\"}, {\"date\": \"2021-04-23T00:00:00\", \"y_test\": 35.849998474121094, \"y_pred\": 34.10158195828041, \"label\": \"Actual\", \"predicted_label\": \"Predicted\"}, {\"date\": \"2021-04-26T00:00:00\", \"y_test\": 34.75, \"y_pred\": 35.62182261743318, \"label\": \"Actual\", \"predicted_label\": \"Predicted\"}, {\"date\": \"2021-04-27T00:00:00\", \"y_test\": 34.650001525878906, \"y_pred\": 35.02912417835778, \"label\": \"Actual\", \"predicted_label\": \"Predicted\"}, {\"date\": \"2021-04-28T00:00:00\", \"y_test\": 34.45000076293945, \"y_pred\": 34.77557977178587, \"label\": \"Actual\", \"predicted_label\": \"Predicted\"}, {\"date\": \"2021-04-29T00:00:00\", \"y_test\": 34.25, \"y_pred\": 34.46302983891052, \"label\": \"Actual\", \"predicted_label\": \"Predicted\"}, {\"date\": \"2021-04-30T00:00:00\", \"y_test\": 34.45000076293945, \"y_pred\": 34.83127546747966, \"label\": \"Actual\", \"predicted_label\": \"Predicted\"}, {\"date\": \"2021-05-03T00:00:00\", \"y_test\": 34.49999999999999, \"y_pred\": 34.82744361852282, \"label\": \"Actual\", \"predicted_label\": \"Predicted\"}, {\"date\": \"2021-05-04T00:00:00\", \"y_test\": 34.150001525878906, \"y_pred\": 34.34966928458624, \"label\": \"Actual\", \"predicted_label\": \"Predicted\"}, {\"date\": \"2021-05-05T00:00:00\", \"y_test\": 33.900001525878906, \"y_pred\": 34.21559105510963, \"label\": \"Actual\", \"predicted_label\": \"Predicted\"}, {\"date\": \"2021-05-06T00:00:00\", \"y_test\": 36.54999923706055, \"y_pred\": 34.088288086495886, \"label\": \"Actual\", \"predicted_label\": \"Predicted\"}, {\"date\": \"2021-05-06T00:00:00\", \"y_test\": 36.54999923706055, \"y_pred\": 37.3949711079384, \"label\": \"Actual\", \"predicted_label\": \"Predicted\"}, {\"date\": \"2021-05-07T00:00:00\", \"y_test\": 38.25, \"y_pred\": 37.48065264997669, \"label\": \"Actual\", \"predicted_label\": \"Predicted\"}, {\"date\": \"2021-05-10T00:00:00\", \"y_test\": 39.200000762939446, \"y_pred\": 37.24065433958826, \"label\": \"Actual\", \"predicted_label\": \"Predicted\"}, {\"date\": \"2021-05-11T00:00:00\", \"y_test\": 39.84999847412109, \"y_pred\": 40.01077919088502, \"label\": \"Actual\", \"predicted_label\": \"Predicted\"}, {\"date\": \"2021-05-12T00:00:00\", \"y_test\": 40.29999923706055, \"y_pred\": 40.85240731661399, \"label\": \"Actual\", \"predicted_label\": \"Predicted\"}, {\"date\": \"2021-05-14T00:00:00\", \"y_test\": 38.29999923706055, \"y_pred\": 39.02766036632363, \"label\": \"Actual\", \"predicted_label\": \"Predicted\"}, {\"date\": \"2021-05-17T00:00:00\", \"y_test\": 36.84999847412109, \"y_pred\": 37.47858173674785, \"label\": \"Actual\", \"predicted_label\": \"Predicted\"}, {\"date\": \"2021-05-18T00:00:00\", \"y_test\": 37.40000152587891, \"y_pred\": 37.134386905571645, \"label\": \"Actual\", \"predicted_label\": \"Predicted\"}, {\"date\": \"2021-05-19T00:00:00\", \"y_test\": 40.84999847412109, \"y_pred\": 37.675916959127406, \"label\": \"Actual\", \"predicted_label\": \"Predicted\"}, {\"date\": \"2021-05-20T00:00:00\", \"y_test\": 44.400001525878906, \"y_pred\": 41.517892439337004, \"label\": \"Actual\", \"predicted_label\": \"Predicted\"}, {\"date\": \"2021-05-20T00:00:00\", \"y_test\": 44.400001525878906, \"y_pred\": 41.79786552690352, \"label\": \"Actual\", \"predicted_label\": \"Predicted\"}, {\"date\": \"2021-05-21T00:00:00\", \"y_test\": 41.70000076293945, \"y_pred\": 41.648818061101124, \"label\": \"Actual\", \"predicted_label\": \"Predicted\"}, {\"date\": \"2021-05-24T00:00:00\", \"y_test\": 42.299999237060554, \"y_pred\": 41.99963613541446, \"label\": \"Actual\", \"predicted_label\": \"Predicted\"}, {\"date\": \"2021-05-25T00:00:00\", \"y_test\": 41.79999923706055, \"y_pred\": 41.328001133120665, \"label\": \"Actual\", \"predicted_label\": \"Predicted\"}, {\"date\": \"2021-05-26T00:00:00\", \"y_test\": 41.900001525878906, \"y_pred\": 42.240684169871045, \"label\": \"Actual\", \"predicted_label\": \"Predicted\"}, {\"date\": \"2021-05-27T00:00:00\", \"y_test\": 44.5, \"y_pred\": 42.09171335965551, \"label\": \"Actual\", \"predicted_label\": \"Predicted\"}, {\"date\": \"2021-05-28T00:00:00\", \"y_test\": 44.84999847412109, \"y_pred\": 44.833341468511215, \"label\": \"Actual\", \"predicted_label\": \"Predicted\"}, {\"date\": \"2021-05-31T00:00:00\", \"y_test\": 42.79999923706055, \"y_pred\": 43.4284988000482, \"label\": \"Actual\", \"predicted_label\": \"Predicted\"}, {\"date\": \"2021-06-01T00:00:00\", \"y_test\": 43.349998474121094, \"y_pred\": 42.82338699795433, \"label\": \"Actual\", \"predicted_label\": \"Predicted\"}, {\"date\": \"2021-06-02T00:00:00\", \"y_test\": 43.0, \"y_pred\": 42.24831848507553, \"label\": \"Actual\", \"predicted_label\": \"Predicted\"}, {\"date\": \"2021-06-03T00:00:00\", \"y_test\": 42.45000076293945, \"y_pred\": 42.94132591636033, \"label\": \"Actual\", \"predicted_label\": \"Predicted\"}, {\"date\": \"2021-06-04T00:00:00\", \"y_test\": 42.95000076293945, \"y_pred\": 42.84617298678919, \"label\": \"Actual\", \"predicted_label\": \"Predicted\"}, {\"date\": \"2021-06-07T00:00:00\", \"y_test\": 43.59999847412108, \"y_pred\": 43.374662803098644, \"label\": \"Actual\", \"predicted_label\": \"Predicted\"}, {\"date\": \"2021-06-08T00:00:00\", \"y_test\": 43.5, \"y_pred\": 44.017685909697306, \"label\": \"Actual\", \"predicted_label\": \"Predicted\"}, {\"date\": \"2021-06-09T00:00:00\", \"y_test\": 43.400001525878906, \"y_pred\": 43.61333504670478, \"label\": \"Actual\", \"predicted_label\": \"Predicted\"}, {\"date\": \"2021-06-10T00:00:00\", \"y_test\": 48.95000076293945, \"y_pred\": 42.677096604998255, \"label\": \"Actual\", \"predicted_label\": \"Predicted\"}, {\"date\": \"2021-06-10T00:00:00\", \"y_test\": 48.95000076293945, \"y_pred\": 49.38056999999201, \"label\": \"Actual\", \"predicted_label\": \"Predicted\"}, {\"date\": \"2021-06-11T00:00:00\", \"y_test\": 48.70000076293945, \"y_pred\": 49.17303734240234, \"label\": \"Actual\", \"predicted_label\": \"Predicted\"}, {\"date\": \"2021-06-14T00:00:00\", \"y_test\": 46.400001525878906, \"y_pred\": 47.7585989738931, \"label\": \"Actual\", \"predicted_label\": \"Predicted\"}, {\"date\": \"2021-06-15T00:00:00\", \"y_test\": 46.9000015258789, \"y_pred\": 47.205161824749204, \"label\": \"Actual\", \"predicted_label\": \"Predicted\"}, {\"date\": \"2021-06-16T00:00:00\", \"y_test\": 46.450000762939446, \"y_pred\": 47.06047683614147, \"label\": \"Actual\", \"predicted_label\": \"Predicted\"}, {\"date\": \"2021-06-17T00:00:00\", \"y_test\": 45.400001525878906, \"y_pred\": 45.516273964681496, \"label\": \"Actual\", \"predicted_label\": \"Predicted\"}, {\"date\": \"2021-06-18T00:00:00\", \"y_test\": 44.84999847412108, \"y_pred\": 45.35943103374364, \"label\": \"Actual\", \"predicted_label\": \"Predicted\"}, {\"date\": \"2021-06-21T00:00:00\", \"y_test\": 46.900001525878906, \"y_pred\": 44.06787755507939, \"label\": \"Actual\", \"predicted_label\": \"Predicted\"}, {\"date\": \"2021-06-22T00:00:00\", \"y_test\": 47.299999237060554, \"y_pred\": 46.80762814347315, \"label\": \"Actual\", \"predicted_label\": \"Predicted\"}, {\"date\": \"2021-06-23T00:00:00\", \"y_test\": 46.25, \"y_pred\": 46.36430437647182, \"label\": \"Actual\", \"predicted_label\": \"Predicted\"}, {\"date\": \"2021-06-24T00:00:00\", \"y_test\": 46.24999999999999, \"y_pred\": 46.48501974181366, \"label\": \"Actual\", \"predicted_label\": \"Predicted\"}, {\"date\": \"2021-06-25T00:00:00\", \"y_test\": 45.5, \"y_pred\": 46.225644097768686, \"label\": \"Actual\", \"predicted_label\": \"Predicted\"}, {\"date\": \"2021-06-28T00:00:00\", \"y_test\": 44.70000076293945, \"y_pred\": 44.680776291554785, \"label\": \"Actual\", \"predicted_label\": \"Predicted\"}, {\"date\": \"2021-06-29T00:00:00\", \"y_test\": 44.650001525878906, \"y_pred\": 43.82989890646137, \"label\": \"Actual\", \"predicted_label\": \"Predicted\"}, {\"date\": \"2021-06-30T00:00:00\", \"y_test\": 44.25000000000001, \"y_pred\": 44.6233120667355, \"label\": \"Actual\", \"predicted_label\": \"Predicted\"}, {\"date\": \"2021-07-01T00:00:00\", \"y_test\": 43.84999847412108, \"y_pred\": 43.90105847934311, \"label\": \"Actual\", \"predicted_label\": \"Predicted\"}, {\"date\": \"2021-07-02T00:00:00\", \"y_test\": 43.79999923706055, \"y_pred\": 43.62172430705051, \"label\": \"Actual\", \"predicted_label\": \"Predicted\"}, {\"date\": \"2021-07-05T00:00:00\", \"y_test\": 43.54999923706055, \"y_pred\": 43.38711344118269, \"label\": \"Actual\", \"predicted_label\": \"Predicted\"}, {\"date\": \"2021-07-06T00:00:00\", \"y_test\": 42.95000076293946, \"y_pred\": 43.42250920871643, \"label\": \"Actual\", \"predicted_label\": \"Predicted\"}, {\"date\": \"2021-07-07T00:00:00\", \"y_test\": 43.09999847412109, \"y_pred\": 42.59936030978028, \"label\": \"Actual\", \"predicted_label\": \"Predicted\"}, {\"date\": \"2021-07-08T00:00:00\", \"y_test\": 43.04999923706055, \"y_pred\": 43.43775812080667, \"label\": \"Actual\", \"predicted_label\": \"Predicted\"}, {\"date\": \"2021-07-09T00:00:00\", \"y_test\": 42.29999923706055, \"y_pred\": 42.925000854826024, \"label\": \"Actual\", \"predicted_label\": \"Predicted\"}, {\"date\": \"2021-07-12T00:00:00\", \"y_test\": 42.65000152587891, \"y_pred\": 42.609730074684975, \"label\": \"Actual\", \"predicted_label\": \"Predicted\"}, {\"date\": \"2021-07-13T00:00:00\", \"y_test\": 42.29999923706055, \"y_pred\": 42.30026371268067, \"label\": \"Actual\", \"predicted_label\": \"Predicted\"}, {\"date\": \"2021-07-14T00:00:00\", \"y_test\": 41.50000000000001, \"y_pred\": 41.48870925674134, \"label\": \"Actual\", \"predicted_label\": \"Predicted\"}, {\"date\": \"2021-07-15T00:00:00\", \"y_test\": 42.84999847412109, \"y_pred\": 41.667604426141914, \"label\": \"Actual\", \"predicted_label\": \"Predicted\"}, {\"date\": \"2021-07-16T00:00:00\", \"y_test\": 42.900001525878906, \"y_pred\": 43.26149098852326, \"label\": \"Actual\", \"predicted_label\": \"Predicted\"}, {\"date\": \"2021-07-19T00:00:00\", \"y_test\": 41.95000076293945, \"y_pred\": 42.76459095259426, \"label\": \"Actual\", \"predicted_label\": \"Predicted\"}, {\"date\": \"2021-07-20T00:00:00\", \"y_test\": 41.95000076293945, \"y_pred\": 42.04544461260234, \"label\": \"Actual\", \"predicted_label\": \"Predicted\"}, {\"date\": \"2021-07-22T00:00:00\", \"y_test\": 43.45000076293946, \"y_pred\": 41.5343343799387, \"label\": \"Actual\", \"predicted_label\": \"Predicted\"}, {\"date\": \"2021-07-22T00:00:00\", \"y_test\": 43.45000076293946, \"y_pred\": 42.46370532835562, \"label\": \"Actual\", \"predicted_label\": \"Predicted\"}, {\"date\": \"2021-07-22T00:00:00\", \"y_test\": 43.45000076293946, \"y_pred\": 42.37984097574815, \"label\": \"Actual\", \"predicted_label\": \"Predicted\"}, {\"date\": \"2021-07-23T00:00:00\", \"y_test\": 41.95000076293945, \"y_pred\": 42.384347207878434, \"label\": \"Actual\", \"predicted_label\": \"Predicted\"}, {\"date\": \"2021-07-26T00:00:00\", \"y_test\": 41.0, \"y_pred\": 40.93698544322634, \"label\": \"Actual\", \"predicted_label\": \"Predicted\"}, {\"date\": \"2021-07-27T00:00:00\", \"y_test\": 39.04999923706055, \"y_pred\": 39.20454834030939, \"label\": \"Actual\", \"predicted_label\": \"Predicted\"}, {\"date\": \"2021-07-28T00:00:00\", \"y_test\": 38.400001525878906, \"y_pred\": 37.96437821406729, \"label\": \"Actual\", \"predicted_label\": \"Predicted\"}, {\"date\": \"2021-07-29T00:00:00\", \"y_test\": 39.09999847412109, \"y_pred\": 38.89434060112405, \"label\": \"Actual\", \"predicted_label\": \"Predicted\"}, {\"date\": \"2021-07-30T00:00:00\", \"y_test\": 39.599998474121094, \"y_pred\": 39.53620100640705, \"label\": \"Actual\", \"predicted_label\": \"Predicted\"}, {\"date\": \"2021-08-02T00:00:00\", \"y_test\": 39.650001525878906, \"y_pred\": 39.750902586068115, \"label\": \"Actual\", \"predicted_label\": \"Predicted\"}, {\"date\": \"2021-08-03T00:00:00\", \"y_test\": 39.29999923706055, \"y_pred\": 39.71060719585713, \"label\": \"Actual\", \"predicted_label\": \"Predicted\"}, {\"date\": \"2021-08-04T00:00:00\", \"y_test\": 38.900001525878906, \"y_pred\": 39.13531624503373, \"label\": \"Actual\", \"predicted_label\": \"Predicted\"}, {\"date\": \"2021-08-05T00:00:00\", \"y_test\": 37.650001525878906, \"y_pred\": 38.354303717106816, \"label\": \"Actual\", \"predicted_label\": \"Predicted\"}, {\"date\": \"2021-08-06T00:00:00\", \"y_test\": 37.5, \"y_pred\": 37.62910957810313, \"label\": \"Actual\", \"predicted_label\": \"Predicted\"}, {\"date\": \"2021-08-09T00:00:00\", \"y_test\": 40.20000076293945, \"y_pred\": 37.40974123076865, \"label\": \"Actual\", \"predicted_label\": \"Predicted\"}, {\"date\": \"2021-08-09T00:00:00\", \"y_test\": 40.20000076293945, \"y_pred\": 40.2029195311851, \"label\": \"Actual\", \"predicted_label\": \"Predicted\"}, {\"date\": \"2021-08-10T00:00:00\", \"y_test\": 39.99999999999999, \"y_pred\": 40.14878425436485, \"label\": \"Actual\", \"predicted_label\": \"Predicted\"}, {\"date\": \"2021-08-11T00:00:00\", \"y_test\": 38.400001525878906, \"y_pred\": 38.30482220905049, \"label\": \"Actual\", \"predicted_label\": \"Predicted\"}, {\"date\": \"2021-08-12T00:00:00\", \"y_test\": 39.09999847412109, \"y_pred\": 39.10894111227533, \"label\": \"Actual\", \"predicted_label\": \"Predicted\"}, {\"date\": \"2021-08-13T00:00:00\", \"y_test\": 38.79999923706055, \"y_pred\": 39.28063388752362, \"label\": \"Actual\", \"predicted_label\": \"Predicted\"}, {\"date\": \"2021-08-16T00:00:00\", \"y_test\": 38.0, \"y_pred\": 38.17666962422127, \"label\": \"Actual\", \"predicted_label\": \"Predicted\"}, {\"date\": \"2021-08-17T00:00:00\", \"y_test\": 37.200000762939446, \"y_pred\": 37.71034028882637, \"label\": \"Actual\", \"predicted_label\": \"Predicted\"}, {\"date\": \"2021-08-18T00:00:00\", \"y_test\": 37.400001525878906, \"y_pred\": 37.70325970679697, \"label\": \"Actual\", \"predicted_label\": \"Predicted\"}, {\"date\": \"2021-08-20T00:00:00\", \"y_test\": 36.54999923706055, \"y_pred\": 37.62503797482213, \"label\": \"Actual\", \"predicted_label\": \"Predicted\"}, {\"date\": \"2021-08-23T00:00:00\", \"y_test\": 35.400001525878906, \"y_pred\": 35.66286071502059, \"label\": \"Actual\", \"predicted_label\": \"Predicted\"}, {\"date\": \"2021-08-24T00:00:00\", \"y_test\": 34.79999923706055, \"y_pred\": 34.30745264759689, \"label\": \"Actual\", \"predicted_label\": \"Predicted\"}, {\"date\": \"2021-08-25T00:00:00\", \"y_test\": 35.70000076293945, \"y_pred\": 35.41268367060929, \"label\": \"Actual\", \"predicted_label\": \"Predicted\"}, {\"date\": \"2021-08-26T00:00:00\", \"y_test\": 35.79999923706055, \"y_pred\": 35.80764145937836, \"label\": \"Actual\", \"predicted_label\": \"Predicted\"}, {\"date\": \"2021-08-27T00:00:00\", \"y_test\": 34.900001525878906, \"y_pred\": 35.53217410030504, \"label\": \"Actual\", \"predicted_label\": \"Predicted\"}, {\"date\": \"2021-08-30T00:00:00\", \"y_test\": 34.95000076293945, \"y_pred\": 35.05667591869028, \"label\": \"Actual\", \"predicted_label\": \"Predicted\"}, {\"date\": \"2021-08-31T00:00:00\", \"y_test\": 35.349998474121094, \"y_pred\": 35.16583579566528, \"label\": \"Actual\", \"predicted_label\": \"Predicted\"}, {\"date\": \"2021-09-01T00:00:00\", \"y_test\": 35.45000076293945, \"y_pred\": 35.750107412966884, \"label\": \"Actual\", \"predicted_label\": \"Predicted\"}, {\"date\": \"2021-09-02T00:00:00\", \"y_test\": 36.09999847412109, \"y_pred\": 35.34694449661182, \"label\": \"Actual\", \"predicted_label\": \"Predicted\"}, {\"date\": \"2021-09-03T00:00:00\", \"y_test\": 37.04999923706055, \"y_pred\": 35.95284729049776, \"label\": \"Actual\", \"predicted_label\": \"Predicted\"}, {\"date\": \"2021-09-06T00:00:00\", \"y_test\": 37.5, \"y_pred\": 37.257842145699335, \"label\": \"Actual\", \"predicted_label\": \"Predicted\"}, {\"date\": \"2021-09-07T00:00:00\", \"y_test\": 36.54999923706055, \"y_pred\": 37.3339518586788, \"label\": \"Actual\", \"predicted_label\": \"Predicted\"}, {\"date\": \"2021-09-08T00:00:00\", \"y_test\": 36.29999923706055, \"y_pred\": 36.67753631619964, \"label\": \"Actual\", \"predicted_label\": \"Predicted\"}, {\"date\": \"2021-09-09T00:00:00\", \"y_test\": 36.0, \"y_pred\": 36.44163063118951, \"label\": \"Actual\", \"predicted_label\": \"Predicted\"}, {\"date\": \"2021-09-13T00:00:00\", \"y_test\": 36.70000076293945, \"y_pred\": 36.40163923030209, \"label\": \"Actual\", \"predicted_label\": \"Predicted\"}, {\"date\": \"2021-09-14T00:00:00\", \"y_test\": 40.400001525878906, \"y_pred\": 36.82441499878229, \"label\": \"Actual\", \"predicted_label\": \"Predicted\"}, {\"date\": \"2021-09-14T00:00:00\", \"y_test\": 40.400001525878906, \"y_pred\": 40.93761214071064, \"label\": \"Actual\", \"predicted_label\": \"Predicted\"}, {\"date\": \"2021-09-15T00:00:00\", \"y_test\": 41.24999999999999, \"y_pred\": 40.907811094155115, \"label\": \"Actual\", \"predicted_label\": \"Predicted\"}, {\"date\": \"2021-09-16T00:00:00\", \"y_test\": 39.150001525878906, \"y_pred\": 40.033316846713156, \"label\": \"Actual\", \"predicted_label\": \"Predicted\"}, {\"date\": \"2021-09-17T00:00:00\", \"y_test\": 38.5, \"y_pred\": 39.09552953036717, \"label\": \"Actual\", \"predicted_label\": \"Predicted\"}, {\"date\": \"2021-09-20T00:00:00\", \"y_test\": 38.54999923706055, \"y_pred\": 37.92962348468414, \"label\": \"Actual\", \"predicted_label\": \"Predicted\"}, {\"date\": \"2021-09-21T00:00:00\", \"y_test\": 37.150001525878906, \"y_pred\": 37.56517743700347, \"label\": \"Actual\", \"predicted_label\": \"Predicted\"}, {\"date\": \"2021-09-22T00:00:00\", \"y_test\": 40.400001525878906, \"y_pred\": 37.49448658323682, \"label\": \"Actual\", \"predicted_label\": \"Predicted\"}, {\"date\": \"2021-09-22T00:00:00\", \"y_test\": 40.400001525878906, \"y_pred\": 40.140689406151296, \"label\": \"Actual\", \"predicted_label\": \"Predicted\"}, {\"date\": \"2021-09-22T00:00:00\", \"y_test\": 40.400001525878906, \"y_pred\": 40.089097059438146, \"label\": \"Actual\", \"predicted_label\": \"Predicted\"}, {\"date\": \"2021-09-23T00:00:00\", \"y_test\": 40.150001525878906, \"y_pred\": 40.05076405044227, \"label\": \"Actual\", \"predicted_label\": \"Predicted\"}, {\"date\": \"2021-09-24T00:00:00\", \"y_test\": 39.29999923706055, \"y_pred\": 39.800073156576836, \"label\": \"Actual\", \"predicted_label\": \"Predicted\"}, {\"date\": \"2021-09-27T00:00:00\", \"y_test\": 38.24999999999999, \"y_pred\": 38.99295924754783, \"label\": \"Actual\", \"predicted_label\": \"Predicted\"}, {\"date\": \"2021-09-28T00:00:00\", \"y_test\": 39.29999923706055, \"y_pred\": 38.700793131899324, \"label\": \"Actual\", \"predicted_label\": \"Predicted\"}, {\"date\": \"2021-09-29T00:00:00\", \"y_test\": 39.400001525878906, \"y_pred\": 39.05138382755789, \"label\": \"Actual\", \"predicted_label\": \"Predicted\"}, {\"date\": \"2021-09-30T00:00:00\", \"y_test\": 39.20000076293945, \"y_pred\": 39.582221229308274, \"label\": \"Actual\", \"predicted_label\": \"Predicted\"}, {\"date\": \"2021-10-01T00:00:00\", \"y_test\": 41.84999847412109, \"y_pred\": 38.88890605381278, \"label\": \"Actual\", \"predicted_label\": \"Predicted\"}, {\"date\": \"2021-10-04T00:00:00\", \"y_test\": 44.5, \"y_pred\": 42.69357701936504, \"label\": \"Actual\", \"predicted_label\": \"Predicted\"}, {\"date\": \"2021-10-05T00:00:00\", \"y_test\": 45.20000076293945, \"y_pred\": 44.8340834002248, \"label\": \"Actual\", \"predicted_label\": \"Predicted\"}, {\"date\": \"2021-10-06T00:00:00\", \"y_test\": 44.70000076293945, \"y_pred\": 45.87795602684918, \"label\": \"Actual\", \"predicted_label\": \"Predicted\"}, {\"date\": \"2021-10-07T00:00:00\", \"y_test\": 44.00000000000001, \"y_pred\": 44.19793422255214, \"label\": \"Actual\", \"predicted_label\": \"Predicted\"}, {\"date\": \"2021-10-08T00:00:00\", \"y_test\": 43.9000015258789, \"y_pred\": 44.9708526302163, \"label\": \"Actual\", \"predicted_label\": \"Predicted\"}, {\"date\": \"2021-10-11T00:00:00\", \"y_test\": 43.59999847412109, \"y_pred\": 44.35283378441011, \"label\": \"Actual\", \"predicted_label\": \"Predicted\"}, {\"date\": \"2021-10-12T00:00:00\", \"y_test\": 47.400001525878906, \"y_pred\": 44.14864061378423, \"label\": \"Actual\", \"predicted_label\": \"Predicted\"}, {\"date\": \"2021-10-13T00:00:00\", \"y_test\": 46.99999999999999, \"y_pred\": 47.82823102880301, \"label\": \"Actual\", \"predicted_label\": \"Predicted\"}, {\"date\": \"2021-10-14T00:00:00\", \"y_test\": 46.34999847412109, \"y_pred\": 45.08546445843892, \"label\": \"Actual\", \"predicted_label\": \"Predicted\"}, {\"date\": \"2021-10-18T00:00:00\", \"y_test\": 48.75, \"y_pred\": 47.144457269260734, \"label\": \"Actual\", \"predicted_label\": \"Predicted\"}, {\"date\": \"2021-10-19T00:00:00\", \"y_test\": 52.5, \"y_pred\": 48.30329663803627, \"label\": \"Actual\", \"predicted_label\": \"Predicted\"}, {\"date\": \"2021-10-19T00:00:00\", \"y_test\": 52.5, \"y_pred\": 48.04659293011186, \"label\": \"Actual\", \"predicted_label\": \"Predicted\"}, {\"date\": \"2021-10-20T00:00:00\", \"y_test\": 48.29999923706055, \"y_pred\": 47.78788743178082, \"label\": \"Actual\", \"predicted_label\": \"Predicted\"}, {\"date\": \"2021-10-21T00:00:00\", \"y_test\": 46.95000076293945, \"y_pred\": 47.4907125103608, \"label\": \"Actual\", \"predicted_label\": \"Predicted\"}, {\"date\": \"2021-10-22T00:00:00\", \"y_test\": 46.29999923706055, \"y_pred\": 46.4587949322076, \"label\": \"Actual\", \"predicted_label\": \"Predicted\"}, {\"date\": \"2021-10-25T00:00:00\", \"y_test\": 43.34999847412109, \"y_pred\": 44.148139647783516, \"label\": \"Actual\", \"predicted_label\": \"Predicted\"}, {\"date\": \"2021-10-26T00:00:00\", \"y_test\": 43.34999847412109, \"y_pred\": 41.91993359999168, \"label\": \"Actual\", \"predicted_label\": \"Predicted\"}, {\"date\": \"2021-10-27T00:00:00\", \"y_test\": 43.150001525878906, \"y_pred\": 43.92374879211817, \"label\": \"Actual\", \"predicted_label\": \"Predicted\"}, {\"date\": \"2021-10-28T00:00:00\", \"y_test\": 41.900001525878906, \"y_pred\": 42.8497015990358, \"label\": \"Actual\", \"predicted_label\": \"Predicted\"}, {\"date\": \"2021-10-29T00:00:00\", \"y_test\": 41.900001525878906, \"y_pred\": 42.10139640425085, \"label\": \"Actual\", \"predicted_label\": \"Predicted\"}, {\"date\": \"2021-11-01T00:00:00\", \"y_test\": 42.45000076293945, \"y_pred\": 42.58519517980439, \"label\": \"Actual\", \"predicted_label\": \"Predicted\"}, {\"date\": \"2021-11-02T00:00:00\", \"y_test\": 43.75000000000001, \"y_pred\": 43.1563019454418, \"label\": \"Actual\", \"predicted_label\": \"Predicted\"}, {\"date\": \"2021-11-03T00:00:00\", \"y_test\": 43.5, \"y_pred\": 44.04905999288484, \"label\": \"Actual\", \"predicted_label\": \"Predicted\"}, {\"date\": \"2021-11-04T00:00:00\", \"y_test\": 43.34999847412109, \"y_pred\": 43.42234875016478, \"label\": \"Actual\", \"predicted_label\": \"Predicted\"}, {\"date\": \"2021-11-08T00:00:00\", \"y_test\": 46.0, \"y_pred\": 44.291518199193575, \"label\": \"Actual\", \"predicted_label\": \"Predicted\"}, {\"date\": \"2021-11-09T00:00:00\", \"y_test\": 46.79999923706055, \"y_pred\": 47.02951797634447, \"label\": \"Actual\", \"predicted_label\": \"Predicted\"}, {\"date\": \"2021-11-10T00:00:00\", \"y_test\": 48.400001525878906, \"y_pred\": 47.30310862810105, \"label\": \"Actual\", \"predicted_label\": \"Predicted\"}, {\"date\": \"2021-11-11T00:00:00\", \"y_test\": 48.45000076293945, \"y_pred\": 48.7995661800934, \"label\": \"Actual\", \"predicted_label\": \"Predicted\"}, {\"date\": \"2021-11-12T00:00:00\", \"y_test\": 47.299999237060554, \"y_pred\": 47.880219154832446, \"label\": \"Actual\", \"predicted_label\": \"Predicted\"}, {\"date\": \"2021-11-15T00:00:00\", \"y_test\": 47.5, \"y_pred\": 48.02973324558185, \"label\": \"Actual\", \"predicted_label\": \"Predicted\"}, {\"date\": \"2021-11-16T00:00:00\", \"y_test\": 46.0, \"y_pred\": 46.17333184182884, \"label\": \"Actual\", \"predicted_label\": \"Predicted\"}, {\"date\": \"2021-11-17T00:00:00\", \"y_test\": 45.650001525878906, \"y_pred\": 46.0524867996452, \"label\": \"Actual\", \"predicted_label\": \"Predicted\"}, {\"date\": \"2021-11-18T00:00:00\", \"y_test\": 45.04999923706055, \"y_pred\": 46.20930955758427, \"label\": \"Actual\", \"predicted_label\": \"Predicted\"}, {\"date\": \"2021-11-22T00:00:00\", \"y_test\": 43.45000076293945, \"y_pred\": 44.48609147462284, \"label\": \"Actual\", \"predicted_label\": \"Predicted\"}, {\"date\": \"2021-11-23T00:00:00\", \"y_test\": 42.70000076293945, \"y_pred\": 42.0441594031086, \"label\": \"Actual\", \"predicted_label\": \"Predicted\"}, {\"date\": \"2021-11-24T00:00:00\", \"y_test\": 42.65000152587891, \"y_pred\": 43.4401614684056, \"label\": \"Actual\", \"predicted_label\": \"Predicted\"}, {\"date\": \"2021-11-25T00:00:00\", \"y_test\": 42.59999847412109, \"y_pred\": 42.844943542644074, \"label\": \"Actual\", \"predicted_label\": \"Predicted\"}, {\"date\": \"2021-11-26T00:00:00\", \"y_test\": 42.79999923706054, \"y_pred\": 43.13605201507802, \"label\": \"Actual\", \"predicted_label\": \"Predicted\"}, {\"date\": \"2021-11-29T00:00:00\", \"y_test\": 42.099998474121094, \"y_pred\": 42.39200395245395, \"label\": \"Actual\", \"predicted_label\": \"Predicted\"}, {\"date\": \"2021-11-30T00:00:00\", \"y_test\": 42.25, \"y_pred\": 42.095920198453456, \"label\": \"Actual\", \"predicted_label\": \"Predicted\"}, {\"date\": \"2021-12-01T00:00:00\", \"y_test\": 42.09999847412108, \"y_pred\": 42.503012374934, \"label\": \"Actual\", \"predicted_label\": \"Predicted\"}, {\"date\": \"2021-12-02T00:00:00\", \"y_test\": 41.9000015258789, \"y_pred\": 42.057279582972896, \"label\": \"Actual\", \"predicted_label\": \"Predicted\"}, {\"date\": \"2021-12-03T00:00:00\", \"y_test\": 42.0, \"y_pred\": 41.7397214725103, \"label\": \"Actual\", \"predicted_label\": \"Predicted\"}, {\"date\": \"2021-12-06T00:00:00\", \"y_test\": 42.099998474121094, \"y_pred\": 42.20800790819821, \"label\": \"Actual\", \"predicted_label\": \"Predicted\"}, {\"date\": \"2021-12-07T00:00:00\", \"y_test\": 41.95000076293945, \"y_pred\": 41.67024136645301, \"label\": \"Actual\", \"predicted_label\": \"Predicted\"}, {\"date\": \"2021-12-08T00:00:00\", \"y_test\": 42.45000076293945, \"y_pred\": 41.89279482423987, \"label\": \"Actual\", \"predicted_label\": \"Predicted\"}, {\"date\": \"2021-12-09T00:00:00\", \"y_test\": 45.1500015258789, \"y_pred\": 42.524697676774885, \"label\": \"Actual\", \"predicted_label\": \"Predicted\"}, {\"date\": \"2021-12-09T00:00:00\", \"y_test\": 45.150001525878906, \"y_pred\": 45.48683146768631, \"label\": \"Actual\", \"predicted_label\": \"Predicted\"}, {\"date\": \"2021-12-10T00:00:00\", \"y_test\": 50.70000076293945, \"y_pred\": 45.494403832705046, \"label\": \"Actual\", \"predicted_label\": \"Predicted\"}, {\"date\": \"2021-12-10T00:00:00\", \"y_test\": 50.70000076293946, \"y_pred\": 51.95290421087656, \"label\": \"Actual\", \"predicted_label\": \"Predicted\"}, {\"date\": \"2021-12-10T00:00:00\", \"y_test\": 50.70000076293946, \"y_pred\": 51.75719203137463, \"label\": \"Actual\", \"predicted_label\": \"Predicted\"}, {\"date\": \"2021-12-10T00:00:00\", \"y_test\": 50.70000076293946, \"y_pred\": 51.778164828153635, \"label\": \"Actual\", \"predicted_label\": \"Predicted\"}, {\"date\": \"2021-12-10T00:00:00\", \"y_test\": 50.70000076293946, \"y_pred\": 51.738588961493996, \"label\": \"Actual\", \"predicted_label\": \"Predicted\"}, {\"date\": \"2021-12-10T00:00:00\", \"y_test\": 50.70000076293946, \"y_pred\": 51.74988625411555, \"label\": \"Actual\", \"predicted_label\": \"Predicted\"}, {\"date\": \"2021-12-13T00:00:00\", \"y_test\": 53.900001525878906, \"y_pred\": 51.70439000154477, \"label\": \"Actual\", \"predicted_label\": \"Predicted\"}, {\"date\": \"2021-12-13T00:00:00\", \"y_test\": 53.9000015258789, \"y_pred\": 53.96874783451234, \"label\": \"Actual\", \"predicted_label\": \"Predicted\"}, {\"date\": \"2021-12-13T00:00:00\", \"y_test\": 53.9000015258789, \"y_pred\": 53.71180392633759, \"label\": \"Actual\", \"predicted_label\": \"Predicted\"}, {\"date\": \"2021-12-13T00:00:00\", \"y_test\": 53.9000015258789, \"y_pred\": 53.719509609845986, \"label\": \"Actual\", \"predicted_label\": \"Predicted\"}, {\"date\": \"2021-12-13T00:00:00\", \"y_test\": 53.9000015258789, \"y_pred\": 53.834343618303265, \"label\": \"Actual\", \"predicted_label\": \"Predicted\"}, {\"date\": \"2021-12-13T00:00:00\", \"y_test\": 53.9000015258789, \"y_pred\": 53.8907738253469, \"label\": \"Actual\", \"predicted_label\": \"Predicted\"}, {\"date\": \"2021-12-14T00:00:00\", \"y_test\": 55.79999923706054, \"y_pred\": 53.81167444056812, \"label\": \"Actual\", \"predicted_label\": \"Predicted\"}, {\"date\": \"2021-12-14T00:00:00\", \"y_test\": 55.799999237060554, \"y_pred\": 56.22558782760039, \"label\": \"Actual\", \"predicted_label\": \"Predicted\"}, {\"date\": \"2021-12-14T00:00:00\", \"y_test\": 55.799999237060554, \"y_pred\": 56.21069356727928, \"label\": \"Actual\", \"predicted_label\": \"Predicted\"}, {\"date\": \"2021-12-14T00:00:00\", \"y_test\": 55.799999237060554, \"y_pred\": 56.004183376870785, \"label\": \"Actual\", \"predicted_label\": \"Predicted\"}, {\"date\": \"2021-12-14T00:00:00\", \"y_test\": 55.799999237060554, \"y_pred\": 55.616524511121156, \"label\": \"Actual\", \"predicted_label\": \"Predicted\"}, {\"date\": \"2021-12-14T00:00:00\", \"y_test\": 55.799999237060554, \"y_pred\": 55.711514460870006, \"label\": \"Actual\", \"predicted_label\": \"Predicted\"}, {\"date\": \"2021-12-14T00:00:00\", \"y_test\": 55.799999237060554, \"y_pred\": 55.707985955118886, \"label\": \"Actual\", \"predicted_label\": \"Predicted\"}, {\"date\": \"2021-12-15T00:00:00\", \"y_test\": 54.400001525878906, \"y_pred\": 55.652279861678466, \"label\": \"Actual\", \"predicted_label\": \"Predicted\"}, {\"date\": \"2021-12-16T00:00:00\", \"y_test\": 53.04999923706055, \"y_pred\": 54.10446680897378, \"label\": \"Actual\", \"predicted_label\": \"Predicted\"}, {\"date\": \"2021-12-17T00:00:00\", \"y_test\": 49.70000076293946, \"y_pred\": 51.631386451660205, \"label\": \"Actual\", \"predicted_label\": \"Predicted\"}, {\"date\": \"2021-12-20T00:00:00\", \"y_test\": 45.0, \"y_pred\": 47.00427652581212, \"label\": \"Actual\", \"predicted_label\": \"Predicted\"}, {\"date\": \"2021-12-21T00:00:00\", \"y_test\": 45.400001525878906, \"y_pred\": 45.21781793683514, \"label\": \"Actual\", \"predicted_label\": \"Predicted\"}, {\"date\": \"2021-12-22T00:00:00\", \"y_test\": 46.20000076293945, \"y_pred\": 45.51714867256466, \"label\": \"Actual\", \"predicted_label\": \"Predicted\"}, {\"date\": \"2021-12-23T00:00:00\", \"y_test\": 45.900001525878906, \"y_pred\": 46.747621960032774, \"label\": \"Actual\", \"predicted_label\": \"Predicted\"}, {\"date\": \"2021-12-24T00:00:00\", \"y_test\": 46.25, \"y_pred\": 45.92109232803316, \"label\": \"Actual\", \"predicted_label\": \"Predicted\"}, {\"date\": \"2021-12-27T00:00:00\", \"y_test\": 45.79999923706055, \"y_pred\": 46.759933615820536, \"label\": \"Actual\", \"predicted_label\": \"Predicted\"}, {\"date\": \"2021-12-28T00:00:00\", \"y_test\": 45.549999237060554, \"y_pred\": 45.25222361896923, \"label\": \"Actual\", \"predicted_label\": \"Predicted\"}, {\"date\": \"2021-12-29T00:00:00\", \"y_test\": 45.29999923706055, \"y_pred\": 45.875372972316434, \"label\": \"Actual\", \"predicted_label\": \"Predicted\"}, {\"date\": \"2021-12-30T00:00:00\", \"y_test\": 44.95000076293945, \"y_pred\": 45.41317918139151, \"label\": \"Actual\", \"predicted_label\": \"Predicted\"}, {\"date\": \"2021-12-31T00:00:00\", \"y_test\": 46.00000000000001, \"y_pred\": 44.8580648653495, \"label\": \"Actual\", \"predicted_label\": \"Predicted\"}, {\"date\": \"2022-01-03T00:00:00\", \"y_test\": 46.9000015258789, \"y_pred\": 45.901074003828136, \"label\": \"Actual\", \"predicted_label\": \"Predicted\"}, {\"date\": \"2022-01-04T00:00:00\", \"y_test\": 47.650001525878906, \"y_pred\": 47.56016188850892, \"label\": \"Actual\", \"predicted_label\": \"Predicted\"}, {\"date\": \"2022-01-05T00:00:00\", \"y_test\": 46.70000076293945, \"y_pred\": 47.77961849820477, \"label\": \"Actual\", \"predicted_label\": \"Predicted\"}, {\"date\": \"2022-01-06T00:00:00\", \"y_test\": 46.70000076293945, \"y_pred\": 46.72494476485804, \"label\": \"Actual\", \"predicted_label\": \"Predicted\"}, {\"date\": \"2022-01-07T00:00:00\", \"y_test\": 47.650001525878906, \"y_pred\": 47.46088703214701, \"label\": \"Actual\", \"predicted_label\": \"Predicted\"}, {\"date\": \"2022-01-10T00:00:00\", \"y_test\": 47.04999923706055, \"y_pred\": 47.464544967736764, \"label\": \"Actual\", \"predicted_label\": \"Predicted\"}, {\"date\": \"2022-01-11T00:00:00\", \"y_test\": 47.09999847412109, \"y_pred\": 47.912133970835086, \"label\": \"Actual\", \"predicted_label\": \"Predicted\"}, {\"date\": \"2022-01-12T00:00:00\", \"y_test\": 46.650001525878906, \"y_pred\": 47.10322395335994, \"label\": \"Actual\", \"predicted_label\": \"Predicted\"}, {\"date\": \"2022-01-13T00:00:00\", \"y_test\": 48.650001525878906, \"y_pred\": 46.971562992294174, \"label\": \"Actual\", \"predicted_label\": \"Predicted\"}, {\"date\": \"2022-01-14T00:00:00\", \"y_test\": 48.5, \"y_pred\": 48.5936783001019, \"label\": \"Actual\", \"predicted_label\": \"Predicted\"}, {\"date\": \"2022-01-17T00:00:00\", \"y_test\": 49.34999847412109, \"y_pred\": 49.27724843102549, \"label\": \"Actual\", \"predicted_label\": \"Predicted\"}, {\"date\": \"2022-01-18T00:00:00\", \"y_test\": 50.79999923706054, \"y_pred\": 49.750867666629645, \"label\": \"Actual\", \"predicted_label\": \"Predicted\"}, {\"date\": \"2022-01-18T00:00:00\", \"y_test\": 50.799999237060554, \"y_pred\": 50.65959691868559, \"label\": \"Actual\", \"predicted_label\": \"Predicted\"}, {\"date\": \"2022-01-18T00:00:00\", \"y_test\": 50.799999237060554, \"y_pred\": 50.78868827801738, \"label\": \"Actual\", \"predicted_label\": \"Predicted\"}, {\"date\": \"2022-01-19T00:00:00\", \"y_test\": 55.1500015258789, \"y_pred\": 50.96533414453757, \"label\": \"Actual\", \"predicted_label\": \"Predicted\"}, {\"date\": \"2022-01-19T00:00:00\", \"y_test\": 55.150001525878906, \"y_pred\": 54.602954213015764, \"label\": \"Actual\", \"predicted_label\": \"Predicted\"}, {\"date\": \"2022-01-19T00:00:00\", \"y_test\": 55.150001525878906, \"y_pred\": 54.42668029368646, \"label\": \"Actual\", \"predicted_label\": \"Predicted\"}, {\"date\": \"2022-01-19T00:00:00\", \"y_test\": 55.150001525878906, \"y_pred\": 54.16410264927368, \"label\": \"Actual\", \"predicted_label\": \"Predicted\"}, {\"date\": \"2022-01-19T00:00:00\", \"y_test\": 55.150001525878906, \"y_pred\": 54.128830084676565, \"label\": \"Actual\", \"predicted_label\": \"Predicted\"}, {\"date\": \"2022-01-20T00:00:00\", \"y_test\": 55.599998474121094, \"y_pred\": 53.97358944760388, \"label\": \"Actual\", \"predicted_label\": \"Predicted\"}, {\"date\": \"2022-01-20T00:00:00\", \"y_test\": 55.59999847412108, \"y_pred\": 57.01065524198755, \"label\": \"Actual\", \"predicted_label\": \"Predicted\"}, {\"date\": \"2022-01-21T00:00:00\", \"y_test\": 56.5, \"y_pred\": 56.81550408060279, \"label\": \"Actual\", \"predicted_label\": \"Predicted\"}, {\"date\": \"2022-01-24T00:00:00\", \"y_test\": 54.1500015258789, \"y_pred\": 54.528646367367166, \"label\": \"Actual\", \"predicted_label\": \"Predicted\"}, {\"date\": \"2022-01-25T00:00:00\", \"y_test\": 51.15000152587891, \"y_pred\": 51.73376428305873, \"label\": \"Actual\", \"predicted_label\": \"Predicted\"}, {\"date\": \"2022-01-27T00:00:00\", \"y_test\": 58.400001525878906, \"y_pred\": 50.10055273312788, \"label\": \"Actual\", \"predicted_label\": \"Predicted\"}, {\"date\": \"2022-01-27T00:00:00\", \"y_test\": 58.400001525878906, \"y_pred\": 60.46453575786306, \"label\": \"Actual\", \"predicted_label\": \"Predicted\"}, {\"date\": \"2022-01-27T00:00:00\", \"y_test\": 58.400001525878906, \"y_pred\": 60.357984337890976, \"label\": \"Actual\", \"predicted_label\": \"Predicted\"}, {\"date\": \"2022-01-27T00:00:00\", \"y_test\": 58.400001525878906, \"y_pred\": 59.94413182416996, \"label\": \"Actual\", \"predicted_label\": \"Predicted\"}, {\"date\": \"2022-01-27T00:00:00\", \"y_test\": 58.400001525878906, \"y_pred\": 59.99300050461575, \"label\": \"Actual\", \"predicted_label\": \"Predicted\"}, {\"date\": \"2022-01-27T00:00:00\", \"y_test\": 58.400001525878906, \"y_pred\": 60.176360669620124, \"label\": \"Actual\", \"predicted_label\": \"Predicted\"}, {\"date\": \"2022-01-27T00:00:00\", \"y_test\": 58.400001525878906, \"y_pred\": 60.34428293340893, \"label\": \"Actual\", \"predicted_label\": \"Predicted\"}, {\"date\": \"2022-01-27T00:00:00\", \"y_test\": 58.400001525878906, \"y_pred\": 60.13558296130969, \"label\": \"Actual\", \"predicted_label\": \"Predicted\"}, {\"date\": \"2022-01-27T00:00:00\", \"y_test\": 58.400001525878906, \"y_pred\": 60.03945227538155, \"label\": \"Actual\", \"predicted_label\": \"Predicted\"}, {\"date\": \"2022-01-27T00:00:00\", \"y_test\": 58.400001525878906, \"y_pred\": 60.04813380999889, \"label\": \"Actual\", \"predicted_label\": \"Predicted\"}, {\"date\": \"2022-01-27T00:00:00\", \"y_test\": 58.400001525878906, \"y_pred\": 60.03115127072258, \"label\": \"Actual\", \"predicted_label\": \"Predicted\"}, {\"date\": \"2022-01-27T00:00:00\", \"y_test\": 58.400001525878906, \"y_pred\": 60.03115127072258, \"label\": \"Actual\", \"predicted_label\": \"Predicted\"}, {\"date\": \"2022-01-27T00:00:00\", \"y_test\": 58.400001525878906, \"y_pred\": 60.03115127072258, \"label\": \"Actual\", \"predicted_label\": \"Predicted\"}, {\"date\": \"2022-01-27T00:00:00\", \"y_test\": 58.400001525878906, \"y_pred\": 60.03115127072258, \"label\": \"Actual\", \"predicted_label\": \"Predicted\"}, {\"date\": \"2022-01-27T00:00:00\", \"y_test\": 58.400001525878906, \"y_pred\": 60.03115127072258, \"label\": \"Actual\", \"predicted_label\": \"Predicted\"}, {\"date\": \"2022-01-27T00:00:00\", \"y_test\": 58.400001525878906, \"y_pred\": 60.03115127072258, \"label\": \"Actual\", \"predicted_label\": \"Predicted\"}, {\"date\": \"2022-01-27T00:00:00\", \"y_test\": 58.400001525878906, \"y_pred\": 60.03115127072258, \"label\": \"Actual\", \"predicted_label\": \"Predicted\"}, {\"date\": \"2022-01-27T00:00:00\", \"y_test\": 58.400001525878906, \"y_pred\": 60.03115127072258, \"label\": \"Actual\", \"predicted_label\": \"Predicted\"}, {\"date\": \"2022-01-27T00:00:00\", \"y_test\": 58.400001525878906, \"y_pred\": 60.03115127072258, \"label\": \"Actual\", \"predicted_label\": \"Predicted\"}, {\"date\": \"2022-01-27T00:00:00\", \"y_test\": 58.400001525878906, \"y_pred\": 60.03115127072258, \"label\": \"Actual\", \"predicted_label\": \"Predicted\"}, {\"date\": \"2022-01-27T00:00:00\", \"y_test\": 58.400001525878906, \"y_pred\": 60.03115127072258, \"label\": \"Actual\", \"predicted_label\": \"Predicted\"}, {\"date\": \"2022-01-27T00:00:00\", \"y_test\": 58.400001525878906, \"y_pred\": 60.03115127072258, \"label\": \"Actual\", \"predicted_label\": \"Predicted\"}, {\"date\": \"2022-01-27T00:00:00\", \"y_test\": 58.400001525878906, \"y_pred\": 60.03115127072258, \"label\": \"Actual\", \"predicted_label\": \"Predicted\"}, {\"date\": \"2022-01-28T00:00:00\", \"y_test\": 65.0, \"y_pred\": 60.03115127072258, \"label\": \"Actual\", \"predicted_label\": \"Predicted\"}, {\"date\": \"2022-01-28T00:00:00\", \"y_test\": 65.0, \"y_pred\": 60.82007555610535, \"label\": \"Actual\", \"predicted_label\": \"Predicted\"}, {\"date\": \"2022-01-28T00:00:00\", \"y_test\": 65.0, \"y_pred\": 60.96747637620567, \"label\": \"Actual\", \"predicted_label\": \"Predicted\"}, {\"date\": \"2022-01-28T00:00:00\", \"y_test\": 65.0, \"y_pred\": 60.99670358750195, \"label\": \"Actual\", \"predicted_label\": \"Predicted\"}, {\"date\": \"2022-01-31T00:00:00\", \"y_test\": 60.099998474121094, \"y_pred\": 60.895342930689885, \"label\": \"Actual\", \"predicted_label\": \"Predicted\"}, {\"date\": \"2022-02-01T00:00:00\", \"y_test\": 59.599998474121094, \"y_pred\": 61.29408322156973, \"label\": \"Actual\", \"predicted_label\": \"Predicted\"}, {\"date\": \"2022-02-02T00:00:00\", \"y_test\": 63.349998474121094, \"y_pred\": 58.96812666342474, \"label\": \"Actual\", \"predicted_label\": \"Predicted\"}, {\"date\": \"2022-02-03T00:00:00\", \"y_test\": 67.4000015258789, \"y_pred\": 63.27528268568939, \"label\": \"Actual\", \"predicted_label\": \"Predicted\"}, {\"date\": \"2022-02-03T00:00:00\", \"y_test\": 67.4000015258789, \"y_pred\": 67.53324348128601, \"label\": \"Actual\", \"predicted_label\": \"Predicted\"}, {\"date\": \"2022-02-03T00:00:00\", \"y_test\": 67.4000015258789, \"y_pred\": 67.42466858632817, \"label\": \"Actual\", \"predicted_label\": \"Predicted\"}, {\"date\": \"2022-02-03T00:00:00\", \"y_test\": 67.4000015258789, \"y_pred\": 67.51546901930966, \"label\": \"Actual\", \"predicted_label\": \"Predicted\"}, {\"date\": \"2022-02-03T00:00:00\", \"y_test\": 67.4000015258789, \"y_pred\": 67.53110989287784, \"label\": \"Actual\", \"predicted_label\": \"Predicted\"}, {\"date\": \"2022-02-04T00:00:00\", \"y_test\": 67.8499984741211, \"y_pred\": 67.72249328317494, \"label\": \"Actual\", \"predicted_label\": \"Predicted\"}, {\"date\": \"2022-02-07T00:00:00\", \"y_test\": 65.69999694824219, \"y_pred\": 67.73387869306931, \"label\": \"Actual\", \"predicted_label\": \"Predicted\"}, {\"date\": \"2022-02-08T00:00:00\", \"y_test\": 64.25, \"y_pred\": 66.13423648902224, \"label\": \"Actual\", \"predicted_label\": \"Predicted\"}, {\"date\": \"2022-02-09T00:00:00\", \"y_test\": 70.0, \"y_pred\": 64.97967967332156, \"label\": \"Actual\", \"predicted_label\": \"Predicted\"}, {\"date\": \"2022-02-09T00:00:00\", \"y_test\": 70.0, \"y_pred\": 72.31504370097149, \"label\": \"Actual\", \"predicted_label\": \"Predicted\"}]}}, {\"mode\": \"vega-lite\"});\n",
       "</script>"
      ],
      "text/plain": [
       "alt.LayerChart(...)"
      ]
     },
     "execution_count": 86,
     "metadata": {},
     "output_type": "execute_result"
    }
   ],
   "source": [
    "import altair as alt\n",
    "\n",
    "alt.themes.enable('fivethirtyeight')\n",
    "\n",
    "predictions_df['date'] = pd.to_datetime(predictions_df['date'])\n",
    "\n",
    "predictions_df['label'] = 'Actual'\n",
    "predictions_df['predicted_label'] = 'Predicted'\n",
    "\n",
    "# Actual high price line\n",
    "line1 = alt.Chart(predictions_df).mark_line(strokeWidth=2).encode(\n",
    "    x='date:T',\n",
    "    y=alt.Y('y_test:Q', title='Price', scale=alt.Scale(zero=False)),\n",
    "    color=alt.Color('label:N', legend=alt.Legend(title=\"Line Type\")),\n",
    "    tooltip=['date', 'y_test', 'y_pred']\n",
    ")\n",
    "\n",
    "# Predicted high price line\n",
    "line2 = alt.Chart(predictions_df).mark_line(strokeWidth=1, strokeDash=[3, 3]).encode(\n",
    "    x='date:T',\n",
    "    y=alt.Y('y_pred:Q', title='', scale=alt.Scale(zero=False)),\n",
    "    color=alt.Color('predicted_label:N', legend=alt.Legend(title=\"Line Type\")),\n",
    "    tooltip=['date', 'y_test', 'y_pred']\n",
    ")\n",
    "\n",
    "# Combine the two lines\n",
    "chart = alt.layer(line1, line2).properties(\n",
    "    title='Actual vs Predicted High Prices',\n",
    "    width=650,\n",
    "    height=400\n",
    ").interactive()\n",
    "\n",
    "chart"
   ]
  },
  {
   "cell_type": "markdown",
   "id": "d453cdc1",
   "metadata": {},
   "source": [
    "Repeat the process for the top 50 features without sentiment of TV18BRDCST.BO"
   ]
  },
  {
   "cell_type": "code",
   "execution_count": 50,
   "id": "f58c8330",
   "metadata": {},
   "outputs": [],
   "source": [
    "df_without_sentiment = df.drop(columns=['agg_polarity', 'agg_compound', 'topic_polarity', 'topic_compound', 'ticker_polarity', 'ticker_compound'])"
   ]
  },
  {
   "cell_type": "code",
   "execution_count": 51,
   "id": "f685ca3d",
   "metadata": {},
   "outputs": [],
   "source": [
    "df_without_sentiment = create_custom_target(df_without_sentiment)"
   ]
  },
  {
   "cell_type": "code",
   "execution_count": 52,
   "id": "b5eab8ac",
   "metadata": {},
   "outputs": [],
   "source": [
    "# Drop cols with NaN values\n",
    "df_without_sentiment = df_without_sentiment.dropna(axis=1, how='all')\n",
    "df_without_sentiment.fillna(method='ffill', inplace=True)"
   ]
  },
  {
   "cell_type": "code",
   "execution_count": 53,
   "id": "601bfb89",
   "metadata": {},
   "outputs": [],
   "source": [
    "combined_date_df = df_without_sentiment['date']\n",
    "train_date, test_date = train_test_split(combined_date_df, train_size=0.8, shuffle=False)\n",
    "dev_date, test_date = train_test_split(test_date, train_size=0.5, shuffle=False)"
   ]
  },
  {
   "cell_type": "code",
   "execution_count": 54,
   "id": "0344f669",
   "metadata": {},
   "outputs": [],
   "source": [
    "df_without_date = df_without_sentiment.drop(columns=[\"date\"])"
   ]
  },
  {
   "cell_type": "code",
   "execution_count": 55,
   "id": "078527e2",
   "metadata": {},
   "outputs": [],
   "source": [
    "df_without_date.dropna(inplace=True)"
   ]
  },
  {
   "cell_type": "code",
   "execution_count": 56,
   "id": "35263d3b",
   "metadata": {},
   "outputs": [],
   "source": [
    "# do train/test split the data with shuffle = False\n",
    "train_data, test_data = train_test_split(df_without_date, train_size=0.8, shuffle=False)\n",
    "\n",
    "# convert timeseries to be used in supervise learning model\n",
    "X_train, y_train, indx_train = timeseries_to_supervise(train_data, window_size, 'ln_target')  \n",
    "\n",
    "# further split test set to have an hold out set to be used for backtesting\n",
    "dev_data, test_data = train_test_split(test_data, train_size=0.5, shuffle=False)\n",
    "\n",
    "# convert timeseries to be used in supervise learning model    \n",
    "X_test, y_test, indx_test = timeseries_to_supervise(dev_data, window_size, 'ln_target')  "
   ]
  },
  {
   "cell_type": "code",
   "execution_count": 57,
   "id": "9989d906",
   "metadata": {},
   "outputs": [],
   "source": [
    "selector = SelectKBest(score_func=f_regression, k=50)\n",
    "X_train_50 = selector.fit_transform(X_train, y_train)\n",
    "X_test_50 = selector.transform(X_test)"
   ]
  },
  {
   "cell_type": "code",
   "execution_count": 58,
   "id": "553c63a5",
   "metadata": {},
   "outputs": [
    {
     "data": {
      "text/html": [
       "<style>#sk-container-id-3 {color: black;background-color: white;}#sk-container-id-3 pre{padding: 0;}#sk-container-id-3 div.sk-toggleable {background-color: white;}#sk-container-id-3 label.sk-toggleable__label {cursor: pointer;display: block;width: 100%;margin-bottom: 0;padding: 0.3em;box-sizing: border-box;text-align: center;}#sk-container-id-3 label.sk-toggleable__label-arrow:before {content: \"▸\";float: left;margin-right: 0.25em;color: #696969;}#sk-container-id-3 label.sk-toggleable__label-arrow:hover:before {color: black;}#sk-container-id-3 div.sk-estimator:hover label.sk-toggleable__label-arrow:before {color: black;}#sk-container-id-3 div.sk-toggleable__content {max-height: 0;max-width: 0;overflow: hidden;text-align: left;background-color: #f0f8ff;}#sk-container-id-3 div.sk-toggleable__content pre {margin: 0.2em;color: black;border-radius: 0.25em;background-color: #f0f8ff;}#sk-container-id-3 input.sk-toggleable__control:checked~div.sk-toggleable__content {max-height: 200px;max-width: 100%;overflow: auto;}#sk-container-id-3 input.sk-toggleable__control:checked~label.sk-toggleable__label-arrow:before {content: \"▾\";}#sk-container-id-3 div.sk-estimator input.sk-toggleable__control:checked~label.sk-toggleable__label {background-color: #d4ebff;}#sk-container-id-3 div.sk-label input.sk-toggleable__control:checked~label.sk-toggleable__label {background-color: #d4ebff;}#sk-container-id-3 input.sk-hidden--visually {border: 0;clip: rect(1px 1px 1px 1px);clip: rect(1px, 1px, 1px, 1px);height: 1px;margin: -1px;overflow: hidden;padding: 0;position: absolute;width: 1px;}#sk-container-id-3 div.sk-estimator {font-family: monospace;background-color: #f0f8ff;border: 1px dotted black;border-radius: 0.25em;box-sizing: border-box;margin-bottom: 0.5em;}#sk-container-id-3 div.sk-estimator:hover {background-color: #d4ebff;}#sk-container-id-3 div.sk-parallel-item::after {content: \"\";width: 100%;border-bottom: 1px solid gray;flex-grow: 1;}#sk-container-id-3 div.sk-label:hover label.sk-toggleable__label {background-color: #d4ebff;}#sk-container-id-3 div.sk-serial::before {content: \"\";position: absolute;border-left: 1px solid gray;box-sizing: border-box;top: 0;bottom: 0;left: 50%;z-index: 0;}#sk-container-id-3 div.sk-serial {display: flex;flex-direction: column;align-items: center;background-color: white;padding-right: 0.2em;padding-left: 0.2em;position: relative;}#sk-container-id-3 div.sk-item {position: relative;z-index: 1;}#sk-container-id-3 div.sk-parallel {display: flex;align-items: stretch;justify-content: center;background-color: white;position: relative;}#sk-container-id-3 div.sk-item::before, #sk-container-id-3 div.sk-parallel-item::before {content: \"\";position: absolute;border-left: 1px solid gray;box-sizing: border-box;top: 0;bottom: 0;left: 50%;z-index: -1;}#sk-container-id-3 div.sk-parallel-item {display: flex;flex-direction: column;z-index: 1;position: relative;background-color: white;}#sk-container-id-3 div.sk-parallel-item:first-child::after {align-self: flex-end;width: 50%;}#sk-container-id-3 div.sk-parallel-item:last-child::after {align-self: flex-start;width: 50%;}#sk-container-id-3 div.sk-parallel-item:only-child::after {width: 0;}#sk-container-id-3 div.sk-dashed-wrapped {border: 1px dashed gray;margin: 0 0.4em 0.5em 0.4em;box-sizing: border-box;padding-bottom: 0.4em;background-color: white;}#sk-container-id-3 div.sk-label label {font-family: monospace;font-weight: bold;display: inline-block;line-height: 1.2em;}#sk-container-id-3 div.sk-label-container {text-align: center;}#sk-container-id-3 div.sk-container {/* jupyter's `normalize.less` sets `[hidden] { display: none; }` but bootstrap.min.css set `[hidden] { display: none !important; }` so we also need the `!important` here to be able to override the default hidden behavior on the sphinx rendered scikit-learn.org. See: https://github.com/scikit-learn/scikit-learn/issues/21755 */display: inline-block !important;position: relative;}#sk-container-id-3 div.sk-text-repr-fallback {display: none;}</style><div id=\"sk-container-id-3\" class=\"sk-top-container\"><div class=\"sk-text-repr-fallback\"><pre>RandomForestRegressor(min_samples_leaf=2, n_estimators=200)</pre><b>In a Jupyter environment, please rerun this cell to show the HTML representation or trust the notebook. <br />On GitHub, the HTML representation is unable to render, please try loading this page with nbviewer.org.</b></div><div class=\"sk-container\" hidden><div class=\"sk-item\"><div class=\"sk-estimator sk-toggleable\"><input class=\"sk-toggleable__control sk-hidden--visually\" id=\"sk-estimator-id-3\" type=\"checkbox\" checked><label for=\"sk-estimator-id-3\" class=\"sk-toggleable__label sk-toggleable__label-arrow\">RandomForestRegressor</label><div class=\"sk-toggleable__content\"><pre>RandomForestRegressor(min_samples_leaf=2, n_estimators=200)</pre></div></div></div></div></div>"
      ],
      "text/plain": [
       "RandomForestRegressor(min_samples_leaf=2, n_estimators=200)"
      ]
     },
     "execution_count": 58,
     "metadata": {},
     "output_type": "execute_result"
    }
   ],
   "source": [
    "# Train the model on the top 50 features\n",
    "model_50 = RandomForestRegressor(\n",
    "    n_estimators=200,\n",
    "    min_samples_split=2,\n",
    "    min_samples_leaf=2,\n",
    "    bootstrap=True\n",
    ")\n",
    "model_50.fit(X_train_50, y_train)"
   ]
  },
  {
   "cell_type": "code",
   "execution_count": 59,
   "id": "78efdffd",
   "metadata": {},
   "outputs": [],
   "source": [
    "predictions_df, mape, rmse = evaluate_model(model_50, window_size, dev_data, dev_date, X_test_50, y_test)"
   ]
  },
  {
   "cell_type": "code",
   "execution_count": 60,
   "id": "8dbe3c49",
   "metadata": {},
   "outputs": [
    {
     "data": {
      "text/plain": [
       "(           date     y_test     y_pred\n",
       " 0    2020-10-29  29.500000  30.680769\n",
       " 1    2020-10-30  29.500000  29.751698\n",
       " 2    2020-11-02  29.900000  29.341476\n",
       " 3    2020-11-03  28.400000  28.555268\n",
       " 4    2020-11-04  28.299999  28.630272\n",
       " ..          ...        ...        ...\n",
       " 387  2022-02-04  67.849998  67.887173\n",
       " 388  2022-02-07  65.699997  67.831643\n",
       " 389  2022-02-08  64.250000  66.213474\n",
       " 390  2022-02-09  70.000000  64.944593\n",
       " 391  2022-02-09  70.000000  72.371382\n",
       " \n",
       " [392 rows x 3 columns],\n",
       " 0.018728576892992125,\n",
       " 1.3375543803740733)"
      ]
     },
     "execution_count": 60,
     "metadata": {},
     "output_type": "execute_result"
    }
   ],
   "source": [
    "predictions_df, mape, rmse"
   ]
  },
  {
   "cell_type": "code",
   "execution_count": 42,
   "id": "db23d32c",
   "metadata": {},
   "outputs": [
    {
     "name": "stdout",
     "output_type": "stream",
     "text": [
      "MAPE for model with top 50 features without sentiment features: 1.87%\n"
     ]
    }
   ],
   "source": [
    "print(f\"MAPE for model with top 50 features without sentiment features: {mape*100:.2f}%\")"
   ]
  },
  {
   "cell_type": "code",
   "execution_count": 43,
   "id": "700e5b8f",
   "metadata": {},
   "outputs": [
    {
     "data": {
      "text/html": [
       "\n",
       "<style>\n",
       "  #altair-viz-016eb085c0934c17877392c4ad1fb006.vega-embed {\n",
       "    width: 100%;\n",
       "    display: flex;\n",
       "  }\n",
       "\n",
       "  #altair-viz-016eb085c0934c17877392c4ad1fb006.vega-embed details,\n",
       "  #altair-viz-016eb085c0934c17877392c4ad1fb006.vega-embed details summary {\n",
       "    position: relative;\n",
       "  }\n",
       "</style>\n",
       "<div id=\"altair-viz-016eb085c0934c17877392c4ad1fb006\"></div>\n",
       "<script type=\"text/javascript\">\n",
       "  var VEGA_DEBUG = (typeof VEGA_DEBUG == \"undefined\") ? {} : VEGA_DEBUG;\n",
       "  (function(spec, embedOpt){\n",
       "    let outputDiv = document.currentScript.previousElementSibling;\n",
       "    if (outputDiv.id !== \"altair-viz-016eb085c0934c17877392c4ad1fb006\") {\n",
       "      outputDiv = document.getElementById(\"altair-viz-016eb085c0934c17877392c4ad1fb006\");\n",
       "    }\n",
       "    const paths = {\n",
       "      \"vega\": \"https://cdn.jsdelivr.net/npm/vega@5?noext\",\n",
       "      \"vega-lib\": \"https://cdn.jsdelivr.net/npm/vega-lib?noext\",\n",
       "      \"vega-lite\": \"https://cdn.jsdelivr.net/npm/vega-lite@5.8.0?noext\",\n",
       "      \"vega-embed\": \"https://cdn.jsdelivr.net/npm/vega-embed@6?noext\",\n",
       "    };\n",
       "\n",
       "    function maybeLoadScript(lib, version) {\n",
       "      var key = `${lib.replace(\"-\", \"\")}_version`;\n",
       "      return (VEGA_DEBUG[key] == version) ?\n",
       "        Promise.resolve(paths[lib]) :\n",
       "        new Promise(function(resolve, reject) {\n",
       "          var s = document.createElement('script');\n",
       "          document.getElementsByTagName(\"head\")[0].appendChild(s);\n",
       "          s.async = true;\n",
       "          s.onload = () => {\n",
       "            VEGA_DEBUG[key] = version;\n",
       "            return resolve(paths[lib]);\n",
       "          };\n",
       "          s.onerror = () => reject(`Error loading script: ${paths[lib]}`);\n",
       "          s.src = paths[lib];\n",
       "        });\n",
       "    }\n",
       "\n",
       "    function showError(err) {\n",
       "      outputDiv.innerHTML = `<div class=\"error\" style=\"color:red;\">${err}</div>`;\n",
       "      throw err;\n",
       "    }\n",
       "\n",
       "    function displayChart(vegaEmbed) {\n",
       "      vegaEmbed(outputDiv, spec, embedOpt)\n",
       "        .catch(err => showError(`Javascript Error: ${err.message}<br>This usually means there's a typo in your chart specification. See the javascript console for the full traceback.`));\n",
       "    }\n",
       "\n",
       "    if(typeof define === \"function\" && define.amd) {\n",
       "      requirejs.config({paths});\n",
       "      require([\"vega-embed\"], displayChart, err => showError(`Error loading script: ${err.message}`));\n",
       "    } else {\n",
       "      maybeLoadScript(\"vega\", \"5\")\n",
       "        .then(() => maybeLoadScript(\"vega-lite\", \"5.8.0\"))\n",
       "        .then(() => maybeLoadScript(\"vega-embed\", \"6\"))\n",
       "        .catch(showError)\n",
       "        .then(() => displayChart(vegaEmbed));\n",
       "    }\n",
       "  })({\"usermeta\": {\"embedOptions\": {\"theme\": \"fivethirtyeight\"}}, \"config\": {\"view\": {\"continuousWidth\": 300, \"continuousHeight\": 300}}, \"layer\": [{\"mark\": {\"type\": \"line\", \"strokeWidth\": 2}, \"encoding\": {\"color\": {\"field\": \"label\", \"legend\": {\"title\": \"Line Type\"}, \"type\": \"nominal\"}, \"tooltip\": [{\"field\": \"date\", \"type\": \"temporal\"}, {\"field\": \"y_test\", \"type\": \"quantitative\"}, {\"field\": \"y_pred\", \"type\": \"quantitative\"}], \"x\": {\"field\": \"date\", \"type\": \"temporal\"}, \"y\": {\"field\": \"y_test\", \"scale\": {\"zero\": false}, \"title\": \"Price\", \"type\": \"quantitative\"}}, \"name\": \"view_2\"}, {\"mark\": {\"type\": \"line\", \"strokeDash\": [3, 3], \"strokeWidth\": 1}, \"encoding\": {\"color\": {\"field\": \"predicted_label\", \"legend\": {\"title\": \"Line Type\"}, \"type\": \"nominal\"}, \"tooltip\": [{\"field\": \"date\", \"type\": \"temporal\"}, {\"field\": \"y_test\", \"type\": \"quantitative\"}, {\"field\": \"y_pred\", \"type\": \"quantitative\"}], \"x\": {\"field\": \"date\", \"type\": \"temporal\"}, \"y\": {\"field\": \"y_pred\", \"scale\": {\"zero\": false}, \"title\": \"\", \"type\": \"quantitative\"}}}], \"data\": {\"name\": \"data-3b4ca316aa4ed55f586a47e227be9287\"}, \"height\": 400, \"params\": [{\"name\": \"param_2\", \"select\": {\"type\": \"interval\", \"encodings\": [\"x\", \"y\"]}, \"bind\": \"scales\", \"views\": [\"view_2\"]}], \"title\": \"Actual vs Predicted High Prices\", \"width\": 650, \"$schema\": \"https://vega.github.io/schema/vega-lite/v5.8.0.json\", \"datasets\": {\"data-3b4ca316aa4ed55f586a47e227be9287\": [{\"date\": \"2020-10-29T00:00:00\", \"y_test\": 29.5, \"y_pred\": 30.733900998163676, \"label\": \"Actual\", \"predicted_label\": \"Predicted\"}, {\"date\": \"2020-10-30T00:00:00\", \"y_test\": 29.5, \"y_pred\": 29.75634004005801, \"label\": \"Actual\", \"predicted_label\": \"Predicted\"}, {\"date\": \"2020-11-02T00:00:00\", \"y_test\": 29.89999961853028, \"y_pred\": 29.300034646434472, \"label\": \"Actual\", \"predicted_label\": \"Predicted\"}, {\"date\": \"2020-11-03T00:00:00\", \"y_test\": 28.39999961853028, \"y_pred\": 28.61806397361445, \"label\": \"Actual\", \"predicted_label\": \"Predicted\"}, {\"date\": \"2020-11-04T00:00:00\", \"y_test\": 28.299999237060547, \"y_pred\": 28.690864223081153, \"label\": \"Actual\", \"predicted_label\": \"Predicted\"}, {\"date\": \"2020-11-05T00:00:00\", \"y_test\": 28.399999618530284, \"y_pred\": 28.6338203042725, \"label\": \"Actual\", \"predicted_label\": \"Predicted\"}, {\"date\": \"2020-11-06T00:00:00\", \"y_test\": 28.600000381469727, \"y_pred\": 28.513577204022518, \"label\": \"Actual\", \"predicted_label\": \"Predicted\"}, {\"date\": \"2020-11-09T00:00:00\", \"y_test\": 28.35000038146973, \"y_pred\": 28.39324746228361, \"label\": \"Actual\", \"predicted_label\": \"Predicted\"}, {\"date\": \"2020-11-10T00:00:00\", \"y_test\": 28.25, \"y_pred\": 28.07082570585374, \"label\": \"Actual\", \"predicted_label\": \"Predicted\"}, {\"date\": \"2020-11-11T00:00:00\", \"y_test\": 28.100000381469723, \"y_pred\": 28.130545278451795, \"label\": \"Actual\", \"predicted_label\": \"Predicted\"}, {\"date\": \"2020-11-12T00:00:00\", \"y_test\": 28.70000076293945, \"y_pred\": 28.39864612607991, \"label\": \"Actual\", \"predicted_label\": \"Predicted\"}, {\"date\": \"2020-11-13T00:00:00\", \"y_test\": 29.200000762939453, \"y_pred\": 28.90595170331747, \"label\": \"Actual\", \"predicted_label\": \"Predicted\"}, {\"date\": \"2020-11-13T00:00:00\", \"y_test\": 29.200000762939453, \"y_pred\": 29.53300913994619, \"label\": \"Actual\", \"predicted_label\": \"Predicted\"}, {\"date\": \"2020-11-14T00:00:00\", \"y_test\": 29.299999237060543, \"y_pred\": 29.509236121023225, \"label\": \"Actual\", \"predicted_label\": \"Predicted\"}, {\"date\": \"2020-11-17T00:00:00\", \"y_test\": 29.25, \"y_pred\": 29.50754239447809, \"label\": \"Actual\", \"predicted_label\": \"Predicted\"}, {\"date\": \"2020-11-18T00:00:00\", \"y_test\": 29.799999237060547, \"y_pred\": 29.05778726012913, \"label\": \"Actual\", \"predicted_label\": \"Predicted\"}, {\"date\": \"2020-11-19T00:00:00\", \"y_test\": 31.549999237060547, \"y_pred\": 29.74772428628263, \"label\": \"Actual\", \"predicted_label\": \"Predicted\"}, {\"date\": \"2020-11-20T00:00:00\", \"y_test\": 31.70000076293945, \"y_pred\": 31.692573439990543, \"label\": \"Actual\", \"predicted_label\": \"Predicted\"}, {\"date\": \"2020-11-23T00:00:00\", \"y_test\": 30.79999923706055, \"y_pred\": 30.82934993822686, \"label\": \"Actual\", \"predicted_label\": \"Predicted\"}, {\"date\": \"2020-11-24T00:00:00\", \"y_test\": 30.85000038146973, \"y_pred\": 31.041244921997666, \"label\": \"Actual\", \"predicted_label\": \"Predicted\"}, {\"date\": \"2020-11-25T00:00:00\", \"y_test\": 30.39999961853028, \"y_pred\": 30.44357694121474, \"label\": \"Actual\", \"predicted_label\": \"Predicted\"}, {\"date\": \"2020-11-26T00:00:00\", \"y_test\": 29.999999999999996, \"y_pred\": 29.85382018944163, \"label\": \"Actual\", \"predicted_label\": \"Predicted\"}, {\"date\": \"2020-11-27T00:00:00\", \"y_test\": 30.399999618530284, \"y_pred\": 29.95951270313436, \"label\": \"Actual\", \"predicted_label\": \"Predicted\"}, {\"date\": \"2020-12-01T00:00:00\", \"y_test\": 32.099998474121094, \"y_pred\": 30.36310241539813, \"label\": \"Actual\", \"predicted_label\": \"Predicted\"}, {\"date\": \"2020-12-02T00:00:00\", \"y_test\": 32.599998474121094, \"y_pred\": 32.12194191486705, \"label\": \"Actual\", \"predicted_label\": \"Predicted\"}, {\"date\": \"2020-12-03T00:00:00\", \"y_test\": 33.900001525878906, \"y_pred\": 33.01228142131898, \"label\": \"Actual\", \"predicted_label\": \"Predicted\"}, {\"date\": \"2020-12-04T00:00:00\", \"y_test\": 34.099998474121094, \"y_pred\": 34.61419307547129, \"label\": \"Actual\", \"predicted_label\": \"Predicted\"}, {\"date\": \"2020-12-07T00:00:00\", \"y_test\": 33.349998474121094, \"y_pred\": 33.79139399035984, \"label\": \"Actual\", \"predicted_label\": \"Predicted\"}, {\"date\": \"2020-12-08T00:00:00\", \"y_test\": 33.45000076293945, \"y_pred\": 33.95811123529406, \"label\": \"Actual\", \"predicted_label\": \"Predicted\"}, {\"date\": \"2020-12-09T00:00:00\", \"y_test\": 32.400001525878906, \"y_pred\": 32.61939995091573, \"label\": \"Actual\", \"predicted_label\": \"Predicted\"}, {\"date\": \"2020-12-10T00:00:00\", \"y_test\": 32.0, \"y_pred\": 32.4312184100289, \"label\": \"Actual\", \"predicted_label\": \"Predicted\"}, {\"date\": \"2020-12-11T00:00:00\", \"y_test\": 32.099998474121094, \"y_pred\": 31.55948353420529, \"label\": \"Actual\", \"predicted_label\": \"Predicted\"}, {\"date\": \"2020-12-14T00:00:00\", \"y_test\": 32.0, \"y_pred\": 31.90500992412746, \"label\": \"Actual\", \"predicted_label\": \"Predicted\"}, {\"date\": \"2020-12-15T00:00:00\", \"y_test\": 31.950000762939453, \"y_pred\": 32.26995080584337, \"label\": \"Actual\", \"predicted_label\": \"Predicted\"}, {\"date\": \"2020-12-16T00:00:00\", \"y_test\": 33.25, \"y_pred\": 31.907118877867546, \"label\": \"Actual\", \"predicted_label\": \"Predicted\"}, {\"date\": \"2020-12-16T00:00:00\", \"y_test\": 33.25, \"y_pred\": 33.80363399394145, \"label\": \"Actual\", \"predicted_label\": \"Predicted\"}, {\"date\": \"2020-12-17T00:00:00\", \"y_test\": 34.099998474121094, \"y_pred\": 33.870282750566815, \"label\": \"Actual\", \"predicted_label\": \"Predicted\"}, {\"date\": \"2020-12-18T00:00:00\", \"y_test\": 32.599998474121094, \"y_pred\": 32.92951239631395, \"label\": \"Actual\", \"predicted_label\": \"Predicted\"}, {\"date\": \"2020-12-21T00:00:00\", \"y_test\": 32.5, \"y_pred\": 32.92617634443725, \"label\": \"Actual\", \"predicted_label\": \"Predicted\"}, {\"date\": \"2020-12-22T00:00:00\", \"y_test\": 30.600000381469727, \"y_pred\": 30.65229928981325, \"label\": \"Actual\", \"predicted_label\": \"Predicted\"}, {\"date\": \"2020-12-23T00:00:00\", \"y_test\": 31.100000381469723, \"y_pred\": 31.41595467938591, \"label\": \"Actual\", \"predicted_label\": \"Predicted\"}, {\"date\": \"2020-12-24T00:00:00\", \"y_test\": 32.150001525878906, \"y_pred\": 31.804247731406832, \"label\": \"Actual\", \"predicted_label\": \"Predicted\"}, {\"date\": \"2020-12-28T00:00:00\", \"y_test\": 31.899999618530277, \"y_pred\": 32.06751083451127, \"label\": \"Actual\", \"predicted_label\": \"Predicted\"}, {\"date\": \"2020-12-29T00:00:00\", \"y_test\": 31.799999237060547, \"y_pred\": 32.446525586704745, \"label\": \"Actual\", \"predicted_label\": \"Predicted\"}, {\"date\": \"2020-12-30T00:00:00\", \"y_test\": 31.39999961853028, \"y_pred\": 31.876575944148435, \"label\": \"Actual\", \"predicted_label\": \"Predicted\"}, {\"date\": \"2020-12-31T00:00:00\", \"y_test\": 31.350000381469727, \"y_pred\": 31.77088755733603, \"label\": \"Actual\", \"predicted_label\": \"Predicted\"}, {\"date\": \"2021-01-01T00:00:00\", \"y_test\": 31.70000076293945, \"y_pred\": 31.66821287744334, \"label\": \"Actual\", \"predicted_label\": \"Predicted\"}, {\"date\": \"2021-01-04T00:00:00\", \"y_test\": 31.75, \"y_pred\": 31.86107828385651, \"label\": \"Actual\", \"predicted_label\": \"Predicted\"}, {\"date\": \"2021-01-05T00:00:00\", \"y_test\": 31.14999961853028, \"y_pred\": 32.065670642066664, \"label\": \"Actual\", \"predicted_label\": \"Predicted\"}, {\"date\": \"2021-01-06T00:00:00\", \"y_test\": 31.350000381469723, \"y_pred\": 31.651857925705013, \"label\": \"Actual\", \"predicted_label\": \"Predicted\"}, {\"date\": \"2021-01-07T00:00:00\", \"y_test\": 31.200000762939453, \"y_pred\": 31.163222925084018, \"label\": \"Actual\", \"predicted_label\": \"Predicted\"}, {\"date\": \"2021-01-08T00:00:00\", \"y_test\": 31.999999999999996, \"y_pred\": 31.109987128069, \"label\": \"Actual\", \"predicted_label\": \"Predicted\"}, {\"date\": \"2021-01-11T00:00:00\", \"y_test\": 32.5, \"y_pred\": 32.14825176978986, \"label\": \"Actual\", \"predicted_label\": \"Predicted\"}, {\"date\": \"2021-01-12T00:00:00\", \"y_test\": 33.20000076293945, \"y_pred\": 32.00374181085826, \"label\": \"Actual\", \"predicted_label\": \"Predicted\"}, {\"date\": \"2021-01-12T00:00:00\", \"y_test\": 33.20000076293945, \"y_pred\": 33.77241898674699, \"label\": \"Actual\", \"predicted_label\": \"Predicted\"}, {\"date\": \"2021-01-13T00:00:00\", \"y_test\": 33.5, \"y_pred\": 33.65706948227062, \"label\": \"Actual\", \"predicted_label\": \"Predicted\"}, {\"date\": \"2021-01-14T00:00:00\", \"y_test\": 32.70000076293945, \"y_pred\": 32.9109443467893, \"label\": \"Actual\", \"predicted_label\": \"Predicted\"}, {\"date\": \"2021-01-15T00:00:00\", \"y_test\": 32.29999923706055, \"y_pred\": 32.71404294055472, \"label\": \"Actual\", \"predicted_label\": \"Predicted\"}, {\"date\": \"2021-01-18T00:00:00\", \"y_test\": 31.450000762939453, \"y_pred\": 31.88006600564257, \"label\": \"Actual\", \"predicted_label\": \"Predicted\"}, {\"date\": \"2021-01-19T00:00:00\", \"y_test\": 32.20000076293945, \"y_pred\": 31.254821094933604, \"label\": \"Actual\", \"predicted_label\": \"Predicted\"}, {\"date\": \"2021-01-20T00:00:00\", \"y_test\": 32.95000076293945, \"y_pred\": 32.31980968219926, \"label\": \"Actual\", \"predicted_label\": \"Predicted\"}, {\"date\": \"2021-01-21T00:00:00\", \"y_test\": 32.0, \"y_pred\": 32.377173431254576, \"label\": \"Actual\", \"predicted_label\": \"Predicted\"}, {\"date\": \"2021-01-22T00:00:00\", \"y_test\": 30.600000381469723, \"y_pred\": 31.994567403242122, \"label\": \"Actual\", \"predicted_label\": \"Predicted\"}, {\"date\": \"2021-01-25T00:00:00\", \"y_test\": 30.0, \"y_pred\": 30.341699598193923, \"label\": \"Actual\", \"predicted_label\": \"Predicted\"}, {\"date\": \"2021-01-27T00:00:00\", \"y_test\": 29.450000762939453, \"y_pred\": 29.994141950637992, \"label\": \"Actual\", \"predicted_label\": \"Predicted\"}, {\"date\": \"2021-01-28T00:00:00\", \"y_test\": 29.450000762939453, \"y_pred\": 29.81142416479263, \"label\": \"Actual\", \"predicted_label\": \"Predicted\"}, {\"date\": \"2021-01-29T00:00:00\", \"y_test\": 28.999999999999996, \"y_pred\": 29.227297255414534, \"label\": \"Actual\", \"predicted_label\": \"Predicted\"}, {\"date\": \"2021-02-01T00:00:00\", \"y_test\": 28.5, \"y_pred\": 28.77452677440027, \"label\": \"Actual\", \"predicted_label\": \"Predicted\"}, {\"date\": \"2021-02-02T00:00:00\", \"y_test\": 28.64999961853028, \"y_pred\": 28.613930414301787, \"label\": \"Actual\", \"predicted_label\": \"Predicted\"}, {\"date\": \"2021-02-03T00:00:00\", \"y_test\": 29.149999618530284, \"y_pred\": 29.09300918608711, \"label\": \"Actual\", \"predicted_label\": \"Predicted\"}, {\"date\": \"2021-02-04T00:00:00\", \"y_test\": 31.5, \"y_pred\": 29.395248900011342, \"label\": \"Actual\", \"predicted_label\": \"Predicted\"}, {\"date\": \"2021-02-05T00:00:00\", \"y_test\": 31.299999237060547, \"y_pred\": 31.331248982695474, \"label\": \"Actual\", \"predicted_label\": \"Predicted\"}, {\"date\": \"2021-02-08T00:00:00\", \"y_test\": 31.29999923706055, \"y_pred\": 30.766294549753898, \"label\": \"Actual\", \"predicted_label\": \"Predicted\"}, {\"date\": \"2021-02-09T00:00:00\", \"y_test\": 30.799999237060547, \"y_pred\": 31.29515982287, \"label\": \"Actual\", \"predicted_label\": \"Predicted\"}, {\"date\": \"2021-02-10T00:00:00\", \"y_test\": 30.450000762939453, \"y_pred\": 30.459419119509334, \"label\": \"Actual\", \"predicted_label\": \"Predicted\"}, {\"date\": \"2021-02-11T00:00:00\", \"y_test\": 30.70000076293945, \"y_pred\": 30.183677253899525, \"label\": \"Actual\", \"predicted_label\": \"Predicted\"}, {\"date\": \"2021-02-12T00:00:00\", \"y_test\": 30.39999961853028, \"y_pred\": 30.517258855788093, \"label\": \"Actual\", \"predicted_label\": \"Predicted\"}, {\"date\": \"2021-02-15T00:00:00\", \"y_test\": 30.649999618530277, \"y_pred\": 30.412737905076437, \"label\": \"Actual\", \"predicted_label\": \"Predicted\"}, {\"date\": \"2021-02-16T00:00:00\", \"y_test\": 30.350000381469723, \"y_pred\": 30.496167239547315, \"label\": \"Actual\", \"predicted_label\": \"Predicted\"}, {\"date\": \"2021-02-17T00:00:00\", \"y_test\": 30.149999618530277, \"y_pred\": 30.3472248536911, \"label\": \"Actual\", \"predicted_label\": \"Predicted\"}, {\"date\": \"2021-02-18T00:00:00\", \"y_test\": 30.39999961853028, \"y_pred\": 30.259056932870944, \"label\": \"Actual\", \"predicted_label\": \"Predicted\"}, {\"date\": \"2021-02-19T00:00:00\", \"y_test\": 31.25, \"y_pred\": 30.291452018339427, \"label\": \"Actual\", \"predicted_label\": \"Predicted\"}, {\"date\": \"2021-02-22T00:00:00\", \"y_test\": 30.350000381469723, \"y_pred\": 30.715913619802713, \"label\": \"Actual\", \"predicted_label\": \"Predicted\"}, {\"date\": \"2021-02-23T00:00:00\", \"y_test\": 29.600000381469727, \"y_pred\": 29.61450075930982, \"label\": \"Actual\", \"predicted_label\": \"Predicted\"}, {\"date\": \"2021-02-24T00:00:00\", \"y_test\": 29.700000762939453, \"y_pred\": 29.744661534565214, \"label\": \"Actual\", \"predicted_label\": \"Predicted\"}, {\"date\": \"2021-02-25T00:00:00\", \"y_test\": 30.399999618530277, \"y_pred\": 30.122656371175143, \"label\": \"Actual\", \"predicted_label\": \"Predicted\"}, {\"date\": \"2021-02-25T00:00:00\", \"y_test\": 30.399999618530277, \"y_pred\": 30.478459184584633, \"label\": \"Actual\", \"predicted_label\": \"Predicted\"}, {\"date\": \"2021-02-26T00:00:00\", \"y_test\": 29.64999961853028, \"y_pred\": 30.427004068180114, \"label\": \"Actual\", \"predicted_label\": \"Predicted\"}, {\"date\": \"2021-03-01T00:00:00\", \"y_test\": 32.95000076293945, \"y_pred\": 29.707518439690887, \"label\": \"Actual\", \"predicted_label\": \"Predicted\"}, {\"date\": \"2021-03-02T00:00:00\", \"y_test\": 33.400001525878906, \"y_pred\": 33.590329181012685, \"label\": \"Actual\", \"predicted_label\": \"Predicted\"}, {\"date\": \"2021-03-03T00:00:00\", \"y_test\": 33.25, \"y_pred\": 33.317441153923504, \"label\": \"Actual\", \"predicted_label\": \"Predicted\"}, {\"date\": \"2021-03-04T00:00:00\", \"y_test\": 32.650001525878906, \"y_pred\": 33.41947205922107, \"label\": \"Actual\", \"predicted_label\": \"Predicted\"}, {\"date\": \"2021-03-05T00:00:00\", \"y_test\": 35.20000076293945, \"y_pred\": 32.53470723370808, \"label\": \"Actual\", \"predicted_label\": \"Predicted\"}, {\"date\": \"2021-03-08T00:00:00\", \"y_test\": 36.400001525878906, \"y_pred\": 35.295014064729, \"label\": \"Actual\", \"predicted_label\": \"Predicted\"}, {\"date\": \"2021-03-09T00:00:00\", \"y_test\": 36.400001525878906, \"y_pred\": 36.45699033543716, \"label\": \"Actual\", \"predicted_label\": \"Predicted\"}, {\"date\": \"2021-03-10T00:00:00\", \"y_test\": 35.900001525878906, \"y_pred\": 36.26440381674535, \"label\": \"Actual\", \"predicted_label\": \"Predicted\"}, {\"date\": \"2021-03-12T00:00:00\", \"y_test\": 36.25, \"y_pred\": 35.91906741402684, \"label\": \"Actual\", \"predicted_label\": \"Predicted\"}, {\"date\": \"2021-03-15T00:00:00\", \"y_test\": 35.45000076293945, \"y_pred\": 36.1814004846178, \"label\": \"Actual\", \"predicted_label\": \"Predicted\"}, {\"date\": \"2021-03-16T00:00:00\", \"y_test\": 34.70000076293945, \"y_pred\": 35.14953372007741, \"label\": \"Actual\", \"predicted_label\": \"Predicted\"}, {\"date\": \"2021-03-17T00:00:00\", \"y_test\": 34.25, \"y_pred\": 34.586353689719765, \"label\": \"Actual\", \"predicted_label\": \"Predicted\"}, {\"date\": \"2021-03-18T00:00:00\", \"y_test\": 32.54999923706055, \"y_pred\": 32.313717783852226, \"label\": \"Actual\", \"predicted_label\": \"Predicted\"}, {\"date\": \"2021-03-19T00:00:00\", \"y_test\": 31.450000762939453, \"y_pred\": 31.44784624491058, \"label\": \"Actual\", \"predicted_label\": \"Predicted\"}, {\"date\": \"2021-03-22T00:00:00\", \"y_test\": 31.75, \"y_pred\": 32.06974052109019, \"label\": \"Actual\", \"predicted_label\": \"Predicted\"}, {\"date\": \"2021-03-23T00:00:00\", \"y_test\": 31.850000381469723, \"y_pred\": 31.80766981448461, \"label\": \"Actual\", \"predicted_label\": \"Predicted\"}, {\"date\": \"2021-03-24T00:00:00\", \"y_test\": 31.64999961853028, \"y_pred\": 32.192454691529, \"label\": \"Actual\", \"predicted_label\": \"Predicted\"}, {\"date\": \"2021-03-25T00:00:00\", \"y_test\": 30.5, \"y_pred\": 30.752402330763484, \"label\": \"Actual\", \"predicted_label\": \"Predicted\"}, {\"date\": \"2021-03-26T00:00:00\", \"y_test\": 30.450000762939457, \"y_pred\": 30.664389922902625, \"label\": \"Actual\", \"predicted_label\": \"Predicted\"}, {\"date\": \"2021-03-30T00:00:00\", \"y_test\": 30.0, \"y_pred\": 30.22725916956343, \"label\": \"Actual\", \"predicted_label\": \"Predicted\"}, {\"date\": \"2021-03-31T00:00:00\", \"y_test\": 30.149999618530277, \"y_pred\": 29.841349519087657, \"label\": \"Actual\", \"predicted_label\": \"Predicted\"}, {\"date\": \"2021-04-01T00:00:00\", \"y_test\": 29.350000381469723, \"y_pred\": 29.51001027509803, \"label\": \"Actual\", \"predicted_label\": \"Predicted\"}, {\"date\": \"2021-04-05T00:00:00\", \"y_test\": 29.700000762939453, \"y_pred\": 29.976036479795944, \"label\": \"Actual\", \"predicted_label\": \"Predicted\"}, {\"date\": \"2021-04-06T00:00:00\", \"y_test\": 28.95000076293945, \"y_pred\": 29.068641557624098, \"label\": \"Actual\", \"predicted_label\": \"Predicted\"}, {\"date\": \"2021-04-07T00:00:00\", \"y_test\": 29.25, \"y_pred\": 28.83116732611385, \"label\": \"Actual\", \"predicted_label\": \"Predicted\"}, {\"date\": \"2021-04-08T00:00:00\", \"y_test\": 29.549999237060547, \"y_pred\": 29.40001420192593, \"label\": \"Actual\", \"predicted_label\": \"Predicted\"}, {\"date\": \"2021-04-09T00:00:00\", \"y_test\": 29.350000381469727, \"y_pred\": 29.638866768289592, \"label\": \"Actual\", \"predicted_label\": \"Predicted\"}, {\"date\": \"2021-04-12T00:00:00\", \"y_test\": 28.39999961853028, \"y_pred\": 29.47311102267977, \"label\": \"Actual\", \"predicted_label\": \"Predicted\"}, {\"date\": \"2021-04-13T00:00:00\", \"y_test\": 27.250000000000004, \"y_pred\": 27.11939519759957, \"label\": \"Actual\", \"predicted_label\": \"Predicted\"}, {\"date\": \"2021-04-15T00:00:00\", \"y_test\": 27.850000381469727, \"y_pred\": 27.88015603763116, \"label\": \"Actual\", \"predicted_label\": \"Predicted\"}, {\"date\": \"2021-04-16T00:00:00\", \"y_test\": 28.350000381469727, \"y_pred\": 27.795626642159537, \"label\": \"Actual\", \"predicted_label\": \"Predicted\"}, {\"date\": \"2021-04-19T00:00:00\", \"y_test\": 28.0, \"y_pred\": 28.865137470590057, \"label\": \"Actual\", \"predicted_label\": \"Predicted\"}, {\"date\": \"2021-04-20T00:00:00\", \"y_test\": 28.350000381469723, \"y_pred\": 28.106664571401826, \"label\": \"Actual\", \"predicted_label\": \"Predicted\"}, {\"date\": \"2021-04-20T00:00:00\", \"y_test\": 28.350000381469727, \"y_pred\": 28.11040653127766, \"label\": \"Actual\", \"predicted_label\": \"Predicted\"}, {\"date\": \"2021-04-20T00:00:00\", \"y_test\": 28.350000381469727, \"y_pred\": 28.091193472719635, \"label\": \"Actual\", \"predicted_label\": \"Predicted\"}, {\"date\": \"2021-04-22T00:00:00\", \"y_test\": 33.04999923706055, \"y_pred\": 28.119081678993386, \"label\": \"Actual\", \"predicted_label\": \"Predicted\"}, {\"date\": \"2021-04-22T00:00:00\", \"y_test\": 33.04999923706055, \"y_pred\": 34.37196210268268, \"label\": \"Actual\", \"predicted_label\": \"Predicted\"}, {\"date\": \"2021-04-22T00:00:00\", \"y_test\": 33.04999923706055, \"y_pred\": 34.32640394772565, \"label\": \"Actual\", \"predicted_label\": \"Predicted\"}, {\"date\": \"2021-04-22T00:00:00\", \"y_test\": 33.04999923706055, \"y_pred\": 34.28691736091092, \"label\": \"Actual\", \"predicted_label\": \"Predicted\"}, {\"date\": \"2021-04-23T00:00:00\", \"y_test\": 35.849998474121094, \"y_pred\": 34.16445021191856, \"label\": \"Actual\", \"predicted_label\": \"Predicted\"}, {\"date\": \"2021-04-26T00:00:00\", \"y_test\": 34.75, \"y_pred\": 35.53643572376132, \"label\": \"Actual\", \"predicted_label\": \"Predicted\"}, {\"date\": \"2021-04-27T00:00:00\", \"y_test\": 34.650001525878906, \"y_pred\": 35.11642905705321, \"label\": \"Actual\", \"predicted_label\": \"Predicted\"}, {\"date\": \"2021-04-28T00:00:00\", \"y_test\": 34.45000076293945, \"y_pred\": 34.807150393162146, \"label\": \"Actual\", \"predicted_label\": \"Predicted\"}, {\"date\": \"2021-04-29T00:00:00\", \"y_test\": 34.25, \"y_pred\": 34.418043751602106, \"label\": \"Actual\", \"predicted_label\": \"Predicted\"}, {\"date\": \"2021-04-30T00:00:00\", \"y_test\": 34.45000076293945, \"y_pred\": 34.78809638376857, \"label\": \"Actual\", \"predicted_label\": \"Predicted\"}, {\"date\": \"2021-05-03T00:00:00\", \"y_test\": 34.49999999999999, \"y_pred\": 34.72965205964286, \"label\": \"Actual\", \"predicted_label\": \"Predicted\"}, {\"date\": \"2021-05-04T00:00:00\", \"y_test\": 34.150001525878906, \"y_pred\": 34.333254656767686, \"label\": \"Actual\", \"predicted_label\": \"Predicted\"}, {\"date\": \"2021-05-05T00:00:00\", \"y_test\": 33.900001525878906, \"y_pred\": 34.11103615089542, \"label\": \"Actual\", \"predicted_label\": \"Predicted\"}, {\"date\": \"2021-05-06T00:00:00\", \"y_test\": 36.54999923706055, \"y_pred\": 34.07421011065827, \"label\": \"Actual\", \"predicted_label\": \"Predicted\"}, {\"date\": \"2021-05-06T00:00:00\", \"y_test\": 36.54999923706055, \"y_pred\": 37.41261217089679, \"label\": \"Actual\", \"predicted_label\": \"Predicted\"}, {\"date\": \"2021-05-07T00:00:00\", \"y_test\": 38.25, \"y_pred\": 37.560243604484995, \"label\": \"Actual\", \"predicted_label\": \"Predicted\"}, {\"date\": \"2021-05-10T00:00:00\", \"y_test\": 39.200000762939446, \"y_pred\": 37.32251259776966, \"label\": \"Actual\", \"predicted_label\": \"Predicted\"}, {\"date\": \"2021-05-11T00:00:00\", \"y_test\": 39.84999847412109, \"y_pred\": 39.92388146976177, \"label\": \"Actual\", \"predicted_label\": \"Predicted\"}, {\"date\": \"2021-05-12T00:00:00\", \"y_test\": 40.29999923706055, \"y_pred\": 40.899346325351004, \"label\": \"Actual\", \"predicted_label\": \"Predicted\"}, {\"date\": \"2021-05-14T00:00:00\", \"y_test\": 38.29999923706055, \"y_pred\": 39.008436412058806, \"label\": \"Actual\", \"predicted_label\": \"Predicted\"}, {\"date\": \"2021-05-17T00:00:00\", \"y_test\": 36.84999847412109, \"y_pred\": 37.385801007772756, \"label\": \"Actual\", \"predicted_label\": \"Predicted\"}, {\"date\": \"2021-05-18T00:00:00\", \"y_test\": 37.40000152587891, \"y_pred\": 37.3241895913589, \"label\": \"Actual\", \"predicted_label\": \"Predicted\"}, {\"date\": \"2021-05-19T00:00:00\", \"y_test\": 40.84999847412109, \"y_pred\": 37.78920521618558, \"label\": \"Actual\", \"predicted_label\": \"Predicted\"}, {\"date\": \"2021-05-20T00:00:00\", \"y_test\": 44.400001525878906, \"y_pred\": 41.67602389206334, \"label\": \"Actual\", \"predicted_label\": \"Predicted\"}, {\"date\": \"2021-05-20T00:00:00\", \"y_test\": 44.400001525878906, \"y_pred\": 41.71729248205802, \"label\": \"Actual\", \"predicted_label\": \"Predicted\"}, {\"date\": \"2021-05-21T00:00:00\", \"y_test\": 41.70000076293945, \"y_pred\": 41.66748819227365, \"label\": \"Actual\", \"predicted_label\": \"Predicted\"}, {\"date\": \"2021-05-24T00:00:00\", \"y_test\": 42.299999237060554, \"y_pred\": 42.010422605415584, \"label\": \"Actual\", \"predicted_label\": \"Predicted\"}, {\"date\": \"2021-05-25T00:00:00\", \"y_test\": 41.79999923706055, \"y_pred\": 41.10531012866509, \"label\": \"Actual\", \"predicted_label\": \"Predicted\"}, {\"date\": \"2021-05-26T00:00:00\", \"y_test\": 41.900001525878906, \"y_pred\": 42.26558557768953, \"label\": \"Actual\", \"predicted_label\": \"Predicted\"}, {\"date\": \"2021-05-27T00:00:00\", \"y_test\": 44.5, \"y_pred\": 41.98216847844443, \"label\": \"Actual\", \"predicted_label\": \"Predicted\"}, {\"date\": \"2021-05-28T00:00:00\", \"y_test\": 44.84999847412109, \"y_pred\": 44.84705399918329, \"label\": \"Actual\", \"predicted_label\": \"Predicted\"}, {\"date\": \"2021-05-31T00:00:00\", \"y_test\": 42.79999923706055, \"y_pred\": 43.392083735122, \"label\": \"Actual\", \"predicted_label\": \"Predicted\"}, {\"date\": \"2021-06-01T00:00:00\", \"y_test\": 43.349998474121094, \"y_pred\": 42.685626610062336, \"label\": \"Actual\", \"predicted_label\": \"Predicted\"}, {\"date\": \"2021-06-02T00:00:00\", \"y_test\": 43.0, \"y_pred\": 42.28004077933605, \"label\": \"Actual\", \"predicted_label\": \"Predicted\"}, {\"date\": \"2021-06-03T00:00:00\", \"y_test\": 42.45000076293945, \"y_pred\": 42.8684209171506, \"label\": \"Actual\", \"predicted_label\": \"Predicted\"}, {\"date\": \"2021-06-04T00:00:00\", \"y_test\": 42.95000076293945, \"y_pred\": 42.76559548604895, \"label\": \"Actual\", \"predicted_label\": \"Predicted\"}, {\"date\": \"2021-06-07T00:00:00\", \"y_test\": 43.59999847412108, \"y_pred\": 43.2292807398221, \"label\": \"Actual\", \"predicted_label\": \"Predicted\"}, {\"date\": \"2021-06-08T00:00:00\", \"y_test\": 43.5, \"y_pred\": 44.08607662636125, \"label\": \"Actual\", \"predicted_label\": \"Predicted\"}, {\"date\": \"2021-06-09T00:00:00\", \"y_test\": 43.400001525878906, \"y_pred\": 43.68717134024455, \"label\": \"Actual\", \"predicted_label\": \"Predicted\"}, {\"date\": \"2021-06-10T00:00:00\", \"y_test\": 48.95000076293945, \"y_pred\": 42.71217320680242, \"label\": \"Actual\", \"predicted_label\": \"Predicted\"}, {\"date\": \"2021-06-10T00:00:00\", \"y_test\": 48.95000076293945, \"y_pred\": 49.4370877313549, \"label\": \"Actual\", \"predicted_label\": \"Predicted\"}, {\"date\": \"2021-06-11T00:00:00\", \"y_test\": 48.70000076293945, \"y_pred\": 49.267750870902184, \"label\": \"Actual\", \"predicted_label\": \"Predicted\"}, {\"date\": \"2021-06-14T00:00:00\", \"y_test\": 46.400001525878906, \"y_pred\": 47.83848630488606, \"label\": \"Actual\", \"predicted_label\": \"Predicted\"}, {\"date\": \"2021-06-15T00:00:00\", \"y_test\": 46.9000015258789, \"y_pred\": 47.20324211069102, \"label\": \"Actual\", \"predicted_label\": \"Predicted\"}, {\"date\": \"2021-06-16T00:00:00\", \"y_test\": 46.450000762939446, \"y_pred\": 47.102482560351724, \"label\": \"Actual\", \"predicted_label\": \"Predicted\"}, {\"date\": \"2021-06-17T00:00:00\", \"y_test\": 45.400001525878906, \"y_pred\": 45.472091170512506, \"label\": \"Actual\", \"predicted_label\": \"Predicted\"}, {\"date\": \"2021-06-18T00:00:00\", \"y_test\": 44.84999847412108, \"y_pred\": 45.259914933831666, \"label\": \"Actual\", \"predicted_label\": \"Predicted\"}, {\"date\": \"2021-06-21T00:00:00\", \"y_test\": 46.900001525878906, \"y_pred\": 44.2091071112981, \"label\": \"Actual\", \"predicted_label\": \"Predicted\"}, {\"date\": \"2021-06-22T00:00:00\", \"y_test\": 47.299999237060554, \"y_pred\": 46.760925191033124, \"label\": \"Actual\", \"predicted_label\": \"Predicted\"}, {\"date\": \"2021-06-23T00:00:00\", \"y_test\": 46.25, \"y_pred\": 46.526857313982, \"label\": \"Actual\", \"predicted_label\": \"Predicted\"}, {\"date\": \"2021-06-24T00:00:00\", \"y_test\": 46.24999999999999, \"y_pred\": 46.38192898617655, \"label\": \"Actual\", \"predicted_label\": \"Predicted\"}, {\"date\": \"2021-06-25T00:00:00\", \"y_test\": 45.5, \"y_pred\": 46.2631930655417, \"label\": \"Actual\", \"predicted_label\": \"Predicted\"}, {\"date\": \"2021-06-28T00:00:00\", \"y_test\": 44.70000076293945, \"y_pred\": 44.7103637965451, \"label\": \"Actual\", \"predicted_label\": \"Predicted\"}, {\"date\": \"2021-06-29T00:00:00\", \"y_test\": 44.650001525878906, \"y_pred\": 43.776941412615685, \"label\": \"Actual\", \"predicted_label\": \"Predicted\"}, {\"date\": \"2021-06-30T00:00:00\", \"y_test\": 44.25000000000001, \"y_pred\": 44.577440635931254, \"label\": \"Actual\", \"predicted_label\": \"Predicted\"}, {\"date\": \"2021-07-01T00:00:00\", \"y_test\": 43.84999847412108, \"y_pred\": 43.879102677447044, \"label\": \"Actual\", \"predicted_label\": \"Predicted\"}, {\"date\": \"2021-07-02T00:00:00\", \"y_test\": 43.79999923706055, \"y_pred\": 43.576508375090626, \"label\": \"Actual\", \"predicted_label\": \"Predicted\"}, {\"date\": \"2021-07-05T00:00:00\", \"y_test\": 43.54999923706055, \"y_pred\": 43.447561112152556, \"label\": \"Actual\", \"predicted_label\": \"Predicted\"}, {\"date\": \"2021-07-06T00:00:00\", \"y_test\": 42.95000076293946, \"y_pred\": 43.45518591687216, \"label\": \"Actual\", \"predicted_label\": \"Predicted\"}, {\"date\": \"2021-07-07T00:00:00\", \"y_test\": 43.09999847412109, \"y_pred\": 42.53194865548666, \"label\": \"Actual\", \"predicted_label\": \"Predicted\"}, {\"date\": \"2021-07-08T00:00:00\", \"y_test\": 43.04999923706055, \"y_pred\": 43.36183762172032, \"label\": \"Actual\", \"predicted_label\": \"Predicted\"}, {\"date\": \"2021-07-09T00:00:00\", \"y_test\": 42.29999923706055, \"y_pred\": 43.00016367514538, \"label\": \"Actual\", \"predicted_label\": \"Predicted\"}, {\"date\": \"2021-07-12T00:00:00\", \"y_test\": 42.65000152587891, \"y_pred\": 42.45397811290477, \"label\": \"Actual\", \"predicted_label\": \"Predicted\"}, {\"date\": \"2021-07-13T00:00:00\", \"y_test\": 42.29999923706055, \"y_pred\": 42.27419345119083, \"label\": \"Actual\", \"predicted_label\": \"Predicted\"}, {\"date\": \"2021-07-14T00:00:00\", \"y_test\": 41.50000000000001, \"y_pred\": 41.516688643268566, \"label\": \"Actual\", \"predicted_label\": \"Predicted\"}, {\"date\": \"2021-07-15T00:00:00\", \"y_test\": 42.84999847412109, \"y_pred\": 41.67839642465973, \"label\": \"Actual\", \"predicted_label\": \"Predicted\"}, {\"date\": \"2021-07-16T00:00:00\", \"y_test\": 42.900001525878906, \"y_pred\": 43.24674030031216, \"label\": \"Actual\", \"predicted_label\": \"Predicted\"}, {\"date\": \"2021-07-19T00:00:00\", \"y_test\": 41.95000076293945, \"y_pred\": 42.73601272727827, \"label\": \"Actual\", \"predicted_label\": \"Predicted\"}, {\"date\": \"2021-07-20T00:00:00\", \"y_test\": 41.95000076293945, \"y_pred\": 42.025203260030246, \"label\": \"Actual\", \"predicted_label\": \"Predicted\"}, {\"date\": \"2021-07-22T00:00:00\", \"y_test\": 43.45000076293946, \"y_pred\": 41.54171324827014, \"label\": \"Actual\", \"predicted_label\": \"Predicted\"}, {\"date\": \"2021-07-22T00:00:00\", \"y_test\": 43.45000076293946, \"y_pred\": 42.50511151822082, \"label\": \"Actual\", \"predicted_label\": \"Predicted\"}, {\"date\": \"2021-07-22T00:00:00\", \"y_test\": 43.45000076293946, \"y_pred\": 42.4734038971006, \"label\": \"Actual\", \"predicted_label\": \"Predicted\"}, {\"date\": \"2021-07-23T00:00:00\", \"y_test\": 41.95000076293945, \"y_pred\": 42.47920686256044, \"label\": \"Actual\", \"predicted_label\": \"Predicted\"}, {\"date\": \"2021-07-26T00:00:00\", \"y_test\": 41.0, \"y_pred\": 41.098494182351075, \"label\": \"Actual\", \"predicted_label\": \"Predicted\"}, {\"date\": \"2021-07-27T00:00:00\", \"y_test\": 39.04999923706055, \"y_pred\": 39.08916544728279, \"label\": \"Actual\", \"predicted_label\": \"Predicted\"}, {\"date\": \"2021-07-28T00:00:00\", \"y_test\": 38.400001525878906, \"y_pred\": 37.991910694772706, \"label\": \"Actual\", \"predicted_label\": \"Predicted\"}, {\"date\": \"2021-07-29T00:00:00\", \"y_test\": 39.09999847412109, \"y_pred\": 38.88480013253605, \"label\": \"Actual\", \"predicted_label\": \"Predicted\"}, {\"date\": \"2021-07-30T00:00:00\", \"y_test\": 39.599998474121094, \"y_pred\": 39.527312535014744, \"label\": \"Actual\", \"predicted_label\": \"Predicted\"}, {\"date\": \"2021-08-02T00:00:00\", \"y_test\": 39.650001525878906, \"y_pred\": 39.73417218944472, \"label\": \"Actual\", \"predicted_label\": \"Predicted\"}, {\"date\": \"2021-08-03T00:00:00\", \"y_test\": 39.29999923706055, \"y_pred\": 39.79406752147009, \"label\": \"Actual\", \"predicted_label\": \"Predicted\"}, {\"date\": \"2021-08-04T00:00:00\", \"y_test\": 38.900001525878906, \"y_pred\": 39.22452105389176, \"label\": \"Actual\", \"predicted_label\": \"Predicted\"}, {\"date\": \"2021-08-05T00:00:00\", \"y_test\": 37.650001525878906, \"y_pred\": 38.423443749114355, \"label\": \"Actual\", \"predicted_label\": \"Predicted\"}, {\"date\": \"2021-08-06T00:00:00\", \"y_test\": 37.5, \"y_pred\": 37.6899891265638, \"label\": \"Actual\", \"predicted_label\": \"Predicted\"}, {\"date\": \"2021-08-09T00:00:00\", \"y_test\": 40.20000076293945, \"y_pred\": 37.50798367862724, \"label\": \"Actual\", \"predicted_label\": \"Predicted\"}, {\"date\": \"2021-08-09T00:00:00\", \"y_test\": 40.20000076293945, \"y_pred\": 40.2976851288974, \"label\": \"Actual\", \"predicted_label\": \"Predicted\"}, {\"date\": \"2021-08-10T00:00:00\", \"y_test\": 39.99999999999999, \"y_pred\": 40.26563888612648, \"label\": \"Actual\", \"predicted_label\": \"Predicted\"}, {\"date\": \"2021-08-11T00:00:00\", \"y_test\": 38.400001525878906, \"y_pred\": 38.37226744892846, \"label\": \"Actual\", \"predicted_label\": \"Predicted\"}, {\"date\": \"2021-08-12T00:00:00\", \"y_test\": 39.09999847412109, \"y_pred\": 39.196011764670054, \"label\": \"Actual\", \"predicted_label\": \"Predicted\"}, {\"date\": \"2021-08-13T00:00:00\", \"y_test\": 38.79999923706055, \"y_pred\": 39.19430281797194, \"label\": \"Actual\", \"predicted_label\": \"Predicted\"}, {\"date\": \"2021-08-16T00:00:00\", \"y_test\": 38.0, \"y_pred\": 38.14370994337113, \"label\": \"Actual\", \"predicted_label\": \"Predicted\"}, {\"date\": \"2021-08-17T00:00:00\", \"y_test\": 37.200000762939446, \"y_pred\": 37.68536714746145, \"label\": \"Actual\", \"predicted_label\": \"Predicted\"}, {\"date\": \"2021-08-18T00:00:00\", \"y_test\": 37.400001525878906, \"y_pred\": 37.5401571133476, \"label\": \"Actual\", \"predicted_label\": \"Predicted\"}, {\"date\": \"2021-08-20T00:00:00\", \"y_test\": 36.54999923706055, \"y_pred\": 37.48199283718746, \"label\": \"Actual\", \"predicted_label\": \"Predicted\"}, {\"date\": \"2021-08-23T00:00:00\", \"y_test\": 35.400001525878906, \"y_pred\": 35.5787717504877, \"label\": \"Actual\", \"predicted_label\": \"Predicted\"}, {\"date\": \"2021-08-24T00:00:00\", \"y_test\": 34.79999923706055, \"y_pred\": 34.23906723379786, \"label\": \"Actual\", \"predicted_label\": \"Predicted\"}, {\"date\": \"2021-08-25T00:00:00\", \"y_test\": 35.70000076293945, \"y_pred\": 35.27855685229462, \"label\": \"Actual\", \"predicted_label\": \"Predicted\"}, {\"date\": \"2021-08-26T00:00:00\", \"y_test\": 35.79999923706055, \"y_pred\": 35.81653058299403, \"label\": \"Actual\", \"predicted_label\": \"Predicted\"}, {\"date\": \"2021-08-27T00:00:00\", \"y_test\": 34.900001525878906, \"y_pred\": 35.51333343981259, \"label\": \"Actual\", \"predicted_label\": \"Predicted\"}, {\"date\": \"2021-08-30T00:00:00\", \"y_test\": 34.95000076293945, \"y_pred\": 35.02988709043204, \"label\": \"Actual\", \"predicted_label\": \"Predicted\"}, {\"date\": \"2021-08-31T00:00:00\", \"y_test\": 35.349998474121094, \"y_pred\": 35.13853866888782, \"label\": \"Actual\", \"predicted_label\": \"Predicted\"}, {\"date\": \"2021-09-01T00:00:00\", \"y_test\": 35.45000076293945, \"y_pred\": 35.73352349356591, \"label\": \"Actual\", \"predicted_label\": \"Predicted\"}, {\"date\": \"2021-09-02T00:00:00\", \"y_test\": 36.09999847412109, \"y_pred\": 35.26446589130764, \"label\": \"Actual\", \"predicted_label\": \"Predicted\"}, {\"date\": \"2021-09-03T00:00:00\", \"y_test\": 37.04999923706055, \"y_pred\": 36.05859068047403, \"label\": \"Actual\", \"predicted_label\": \"Predicted\"}, {\"date\": \"2021-09-06T00:00:00\", \"y_test\": 37.5, \"y_pred\": 37.19672474396944, \"label\": \"Actual\", \"predicted_label\": \"Predicted\"}, {\"date\": \"2021-09-07T00:00:00\", \"y_test\": 36.54999923706055, \"y_pred\": 37.28904449606284, \"label\": \"Actual\", \"predicted_label\": \"Predicted\"}, {\"date\": \"2021-09-08T00:00:00\", \"y_test\": 36.29999923706055, \"y_pred\": 36.737385798577876, \"label\": \"Actual\", \"predicted_label\": \"Predicted\"}, {\"date\": \"2021-09-09T00:00:00\", \"y_test\": 36.0, \"y_pred\": 36.490755717710165, \"label\": \"Actual\", \"predicted_label\": \"Predicted\"}, {\"date\": \"2021-09-13T00:00:00\", \"y_test\": 36.70000076293945, \"y_pred\": 36.47615945829337, \"label\": \"Actual\", \"predicted_label\": \"Predicted\"}, {\"date\": \"2021-09-14T00:00:00\", \"y_test\": 40.400001525878906, \"y_pred\": 36.92549294991937, \"label\": \"Actual\", \"predicted_label\": \"Predicted\"}, {\"date\": \"2021-09-14T00:00:00\", \"y_test\": 40.400001525878906, \"y_pred\": 40.88276444513344, \"label\": \"Actual\", \"predicted_label\": \"Predicted\"}, {\"date\": \"2021-09-15T00:00:00\", \"y_test\": 41.24999999999999, \"y_pred\": 40.940431383702546, \"label\": \"Actual\", \"predicted_label\": \"Predicted\"}, {\"date\": \"2021-09-16T00:00:00\", \"y_test\": 39.150001525878906, \"y_pred\": 40.00538843673211, \"label\": \"Actual\", \"predicted_label\": \"Predicted\"}, {\"date\": \"2021-09-17T00:00:00\", \"y_test\": 38.5, \"y_pred\": 39.10706383179722, \"label\": \"Actual\", \"predicted_label\": \"Predicted\"}, {\"date\": \"2021-09-20T00:00:00\", \"y_test\": 38.54999923706055, \"y_pred\": 37.91426602147799, \"label\": \"Actual\", \"predicted_label\": \"Predicted\"}, {\"date\": \"2021-09-21T00:00:00\", \"y_test\": 37.150001525878906, \"y_pred\": 37.506805188014525, \"label\": \"Actual\", \"predicted_label\": \"Predicted\"}, {\"date\": \"2021-09-22T00:00:00\", \"y_test\": 40.400001525878906, \"y_pred\": 37.45076632431673, \"label\": \"Actual\", \"predicted_label\": \"Predicted\"}, {\"date\": \"2021-09-22T00:00:00\", \"y_test\": 40.400001525878906, \"y_pred\": 40.131507151312086, \"label\": \"Actual\", \"predicted_label\": \"Predicted\"}, {\"date\": \"2021-09-22T00:00:00\", \"y_test\": 40.400001525878906, \"y_pred\": 40.225402127010895, \"label\": \"Actual\", \"predicted_label\": \"Predicted\"}, {\"date\": \"2021-09-23T00:00:00\", \"y_test\": 40.150001525878906, \"y_pred\": 40.112720553230055, \"label\": \"Actual\", \"predicted_label\": \"Predicted\"}, {\"date\": \"2021-09-24T00:00:00\", \"y_test\": 39.29999923706055, \"y_pred\": 39.79045602612889, \"label\": \"Actual\", \"predicted_label\": \"Predicted\"}, {\"date\": \"2021-09-27T00:00:00\", \"y_test\": 38.24999999999999, \"y_pred\": 39.092195625858054, \"label\": \"Actual\", \"predicted_label\": \"Predicted\"}, {\"date\": \"2021-09-28T00:00:00\", \"y_test\": 39.29999923706055, \"y_pred\": 38.73388063293096, \"label\": \"Actual\", \"predicted_label\": \"Predicted\"}, {\"date\": \"2021-09-29T00:00:00\", \"y_test\": 39.400001525878906, \"y_pred\": 39.03812969070401, \"label\": \"Actual\", \"predicted_label\": \"Predicted\"}, {\"date\": \"2021-09-30T00:00:00\", \"y_test\": 39.20000076293945, \"y_pred\": 39.65626187727894, \"label\": \"Actual\", \"predicted_label\": \"Predicted\"}, {\"date\": \"2021-10-01T00:00:00\", \"y_test\": 41.84999847412109, \"y_pred\": 38.99160740313274, \"label\": \"Actual\", \"predicted_label\": \"Predicted\"}, {\"date\": \"2021-10-04T00:00:00\", \"y_test\": 44.5, \"y_pred\": 42.760499112540685, \"label\": \"Actual\", \"predicted_label\": \"Predicted\"}, {\"date\": \"2021-10-05T00:00:00\", \"y_test\": 45.20000076293945, \"y_pred\": 44.942790051750734, \"label\": \"Actual\", \"predicted_label\": \"Predicted\"}, {\"date\": \"2021-10-06T00:00:00\", \"y_test\": 44.70000076293945, \"y_pred\": 46.10704684618359, \"label\": \"Actual\", \"predicted_label\": \"Predicted\"}, {\"date\": \"2021-10-07T00:00:00\", \"y_test\": 44.00000000000001, \"y_pred\": 44.09841841335473, \"label\": \"Actual\", \"predicted_label\": \"Predicted\"}, {\"date\": \"2021-10-08T00:00:00\", \"y_test\": 43.9000015258789, \"y_pred\": 45.03755565409638, \"label\": \"Actual\", \"predicted_label\": \"Predicted\"}, {\"date\": \"2021-10-11T00:00:00\", \"y_test\": 43.59999847412109, \"y_pred\": 44.240355551429694, \"label\": \"Actual\", \"predicted_label\": \"Predicted\"}, {\"date\": \"2021-10-12T00:00:00\", \"y_test\": 47.400001525878906, \"y_pred\": 44.157108831365875, \"label\": \"Actual\", \"predicted_label\": \"Predicted\"}, {\"date\": \"2021-10-13T00:00:00\", \"y_test\": 46.99999999999999, \"y_pred\": 48.0210673429057, \"label\": \"Actual\", \"predicted_label\": \"Predicted\"}, {\"date\": \"2021-10-14T00:00:00\", \"y_test\": 46.34999847412109, \"y_pred\": 45.09415083833759, \"label\": \"Actual\", \"predicted_label\": \"Predicted\"}, {\"date\": \"2021-10-18T00:00:00\", \"y_test\": 48.75, \"y_pred\": 47.1739779941255, \"label\": \"Actual\", \"predicted_label\": \"Predicted\"}, {\"date\": \"2021-10-19T00:00:00\", \"y_test\": 52.5, \"y_pred\": 48.188023059188204, \"label\": \"Actual\", \"predicted_label\": \"Predicted\"}, {\"date\": \"2021-10-19T00:00:00\", \"y_test\": 52.5, \"y_pred\": 47.83609717783803, \"label\": \"Actual\", \"predicted_label\": \"Predicted\"}, {\"date\": \"2021-10-20T00:00:00\", \"y_test\": 48.29999923706055, \"y_pred\": 47.554888126755074, \"label\": \"Actual\", \"predicted_label\": \"Predicted\"}, {\"date\": \"2021-10-21T00:00:00\", \"y_test\": 46.95000076293945, \"y_pred\": 47.4450085662412, \"label\": \"Actual\", \"predicted_label\": \"Predicted\"}, {\"date\": \"2021-10-22T00:00:00\", \"y_test\": 46.29999923706055, \"y_pred\": 46.57860462699182, \"label\": \"Actual\", \"predicted_label\": \"Predicted\"}, {\"date\": \"2021-10-25T00:00:00\", \"y_test\": 43.34999847412109, \"y_pred\": 44.25203491584364, \"label\": \"Actual\", \"predicted_label\": \"Predicted\"}, {\"date\": \"2021-10-26T00:00:00\", \"y_test\": 43.34999847412109, \"y_pred\": 41.76726552581557, \"label\": \"Actual\", \"predicted_label\": \"Predicted\"}, {\"date\": \"2021-10-27T00:00:00\", \"y_test\": 43.150001525878906, \"y_pred\": 44.05121886752888, \"label\": \"Actual\", \"predicted_label\": \"Predicted\"}, {\"date\": \"2021-10-28T00:00:00\", \"y_test\": 41.900001525878906, \"y_pred\": 42.98227809506794, \"label\": \"Actual\", \"predicted_label\": \"Predicted\"}, {\"date\": \"2021-10-29T00:00:00\", \"y_test\": 41.900001525878906, \"y_pred\": 42.11410488191848, \"label\": \"Actual\", \"predicted_label\": \"Predicted\"}, {\"date\": \"2021-11-01T00:00:00\", \"y_test\": 42.45000076293945, \"y_pred\": 42.48379069026177, \"label\": \"Actual\", \"predicted_label\": \"Predicted\"}, {\"date\": \"2021-11-02T00:00:00\", \"y_test\": 43.75000000000001, \"y_pred\": 43.05289749145286, \"label\": \"Actual\", \"predicted_label\": \"Predicted\"}, {\"date\": \"2021-11-03T00:00:00\", \"y_test\": 43.5, \"y_pred\": 44.09442201740663, \"label\": \"Actual\", \"predicted_label\": \"Predicted\"}, {\"date\": \"2021-11-04T00:00:00\", \"y_test\": 43.34999847412109, \"y_pred\": 43.67613731441102, \"label\": \"Actual\", \"predicted_label\": \"Predicted\"}, {\"date\": \"2021-11-08T00:00:00\", \"y_test\": 46.0, \"y_pred\": 44.31943295696728, \"label\": \"Actual\", \"predicted_label\": \"Predicted\"}, {\"date\": \"2021-11-09T00:00:00\", \"y_test\": 46.79999923706055, \"y_pred\": 47.0162371687019, \"label\": \"Actual\", \"predicted_label\": \"Predicted\"}, {\"date\": \"2021-11-10T00:00:00\", \"y_test\": 48.400001525878906, \"y_pred\": 47.49499154813295, \"label\": \"Actual\", \"predicted_label\": \"Predicted\"}, {\"date\": \"2021-11-11T00:00:00\", \"y_test\": 48.45000076293945, \"y_pred\": 48.98759572593381, \"label\": \"Actual\", \"predicted_label\": \"Predicted\"}, {\"date\": \"2021-11-12T00:00:00\", \"y_test\": 47.299999237060554, \"y_pred\": 47.9426664647246, \"label\": \"Actual\", \"predicted_label\": \"Predicted\"}, {\"date\": \"2021-11-15T00:00:00\", \"y_test\": 47.5, \"y_pred\": 48.12443531940873, \"label\": \"Actual\", \"predicted_label\": \"Predicted\"}, {\"date\": \"2021-11-16T00:00:00\", \"y_test\": 46.0, \"y_pred\": 46.20547684526218, \"label\": \"Actual\", \"predicted_label\": \"Predicted\"}, {\"date\": \"2021-11-17T00:00:00\", \"y_test\": 45.650001525878906, \"y_pred\": 46.13808006909437, \"label\": \"Actual\", \"predicted_label\": \"Predicted\"}, {\"date\": \"2021-11-18T00:00:00\", \"y_test\": 45.04999923706055, \"y_pred\": 46.15199846690344, \"label\": \"Actual\", \"predicted_label\": \"Predicted\"}, {\"date\": \"2021-11-22T00:00:00\", \"y_test\": 43.45000076293945, \"y_pred\": 44.357740770266396, \"label\": \"Actual\", \"predicted_label\": \"Predicted\"}, {\"date\": \"2021-11-23T00:00:00\", \"y_test\": 42.70000076293945, \"y_pred\": 42.07917463133847, \"label\": \"Actual\", \"predicted_label\": \"Predicted\"}, {\"date\": \"2021-11-24T00:00:00\", \"y_test\": 42.65000152587891, \"y_pred\": 43.46911149816597, \"label\": \"Actual\", \"predicted_label\": \"Predicted\"}, {\"date\": \"2021-11-25T00:00:00\", \"y_test\": 42.59999847412109, \"y_pred\": 42.82435551808663, \"label\": \"Actual\", \"predicted_label\": \"Predicted\"}, {\"date\": \"2021-11-26T00:00:00\", \"y_test\": 42.79999923706054, \"y_pred\": 43.0885218414385, \"label\": \"Actual\", \"predicted_label\": \"Predicted\"}, {\"date\": \"2021-11-29T00:00:00\", \"y_test\": 42.099998474121094, \"y_pred\": 42.45804278996722, \"label\": \"Actual\", \"predicted_label\": \"Predicted\"}, {\"date\": \"2021-11-30T00:00:00\", \"y_test\": 42.25, \"y_pred\": 42.00783974000164, \"label\": \"Actual\", \"predicted_label\": \"Predicted\"}, {\"date\": \"2021-12-01T00:00:00\", \"y_test\": 42.09999847412108, \"y_pred\": 42.38052190631358, \"label\": \"Actual\", \"predicted_label\": \"Predicted\"}, {\"date\": \"2021-12-02T00:00:00\", \"y_test\": 41.9000015258789, \"y_pred\": 41.95300469577891, \"label\": \"Actual\", \"predicted_label\": \"Predicted\"}, {\"date\": \"2021-12-03T00:00:00\", \"y_test\": 42.0, \"y_pred\": 41.78304889118903, \"label\": \"Actual\", \"predicted_label\": \"Predicted\"}, {\"date\": \"2021-12-06T00:00:00\", \"y_test\": 42.099998474121094, \"y_pred\": 42.25320936158228, \"label\": \"Actual\", \"predicted_label\": \"Predicted\"}, {\"date\": \"2021-12-07T00:00:00\", \"y_test\": 41.95000076293945, \"y_pred\": 41.620816218888315, \"label\": \"Actual\", \"predicted_label\": \"Predicted\"}, {\"date\": \"2021-12-08T00:00:00\", \"y_test\": 42.45000076293945, \"y_pred\": 41.83695304683746, \"label\": \"Actual\", \"predicted_label\": \"Predicted\"}, {\"date\": \"2021-12-09T00:00:00\", \"y_test\": 45.1500015258789, \"y_pred\": 42.55296267132399, \"label\": \"Actual\", \"predicted_label\": \"Predicted\"}, {\"date\": \"2021-12-09T00:00:00\", \"y_test\": 45.150001525878906, \"y_pred\": 45.54712666672648, \"label\": \"Actual\", \"predicted_label\": \"Predicted\"}, {\"date\": \"2021-12-10T00:00:00\", \"y_test\": 50.70000076293945, \"y_pred\": 45.57885448295798, \"label\": \"Actual\", \"predicted_label\": \"Predicted\"}, {\"date\": \"2021-12-10T00:00:00\", \"y_test\": 50.70000076293946, \"y_pred\": 51.77709780029872, \"label\": \"Actual\", \"predicted_label\": \"Predicted\"}, {\"date\": \"2021-12-10T00:00:00\", \"y_test\": 50.70000076293946, \"y_pred\": 51.75837872728306, \"label\": \"Actual\", \"predicted_label\": \"Predicted\"}, {\"date\": \"2021-12-10T00:00:00\", \"y_test\": 50.70000076293946, \"y_pred\": 51.61847147802252, \"label\": \"Actual\", \"predicted_label\": \"Predicted\"}, {\"date\": \"2021-12-10T00:00:00\", \"y_test\": 50.70000076293946, \"y_pred\": 51.695830797366675, \"label\": \"Actual\", \"predicted_label\": \"Predicted\"}, {\"date\": \"2021-12-10T00:00:00\", \"y_test\": 50.70000076293946, \"y_pred\": 51.706964125971375, \"label\": \"Actual\", \"predicted_label\": \"Predicted\"}, {\"date\": \"2021-12-13T00:00:00\", \"y_test\": 53.900001525878906, \"y_pred\": 51.668016096064385, \"label\": \"Actual\", \"predicted_label\": \"Predicted\"}, {\"date\": \"2021-12-13T00:00:00\", \"y_test\": 53.9000015258789, \"y_pred\": 54.061634204458116, \"label\": \"Actual\", \"predicted_label\": \"Predicted\"}, {\"date\": \"2021-12-13T00:00:00\", \"y_test\": 53.9000015258789, \"y_pred\": 53.81749709705005, \"label\": \"Actual\", \"predicted_label\": \"Predicted\"}, {\"date\": \"2021-12-13T00:00:00\", \"y_test\": 53.9000015258789, \"y_pred\": 53.60369160654591, \"label\": \"Actual\", \"predicted_label\": \"Predicted\"}, {\"date\": \"2021-12-13T00:00:00\", \"y_test\": 53.9000015258789, \"y_pred\": 53.64617168647946, \"label\": \"Actual\", \"predicted_label\": \"Predicted\"}, {\"date\": \"2021-12-13T00:00:00\", \"y_test\": 53.9000015258789, \"y_pred\": 53.5660137240344, \"label\": \"Actual\", \"predicted_label\": \"Predicted\"}, {\"date\": \"2021-12-14T00:00:00\", \"y_test\": 55.79999923706054, \"y_pred\": 53.570725645674884, \"label\": \"Actual\", \"predicted_label\": \"Predicted\"}, {\"date\": \"2021-12-14T00:00:00\", \"y_test\": 55.799999237060554, \"y_pred\": 55.94005197749236, \"label\": \"Actual\", \"predicted_label\": \"Predicted\"}, {\"date\": \"2021-12-14T00:00:00\", \"y_test\": 55.799999237060554, \"y_pred\": 56.087670309786866, \"label\": \"Actual\", \"predicted_label\": \"Predicted\"}, {\"date\": \"2021-12-14T00:00:00\", \"y_test\": 55.799999237060554, \"y_pred\": 55.98094872494758, \"label\": \"Actual\", \"predicted_label\": \"Predicted\"}, {\"date\": \"2021-12-14T00:00:00\", \"y_test\": 55.799999237060554, \"y_pred\": 55.664438886205666, \"label\": \"Actual\", \"predicted_label\": \"Predicted\"}, {\"date\": \"2021-12-14T00:00:00\", \"y_test\": 55.799999237060554, \"y_pred\": 55.69085719180587, \"label\": \"Actual\", \"predicted_label\": \"Predicted\"}, {\"date\": \"2021-12-14T00:00:00\", \"y_test\": 55.799999237060554, \"y_pred\": 55.585979500468454, \"label\": \"Actual\", \"predicted_label\": \"Predicted\"}, {\"date\": \"2021-12-15T00:00:00\", \"y_test\": 54.400001525878906, \"y_pred\": 55.513752034280174, \"label\": \"Actual\", \"predicted_label\": \"Predicted\"}, {\"date\": \"2021-12-16T00:00:00\", \"y_test\": 53.04999923706055, \"y_pred\": 53.76316800467587, \"label\": \"Actual\", \"predicted_label\": \"Predicted\"}, {\"date\": \"2021-12-17T00:00:00\", \"y_test\": 49.70000076293946, \"y_pred\": 51.45009198872678, \"label\": \"Actual\", \"predicted_label\": \"Predicted\"}, {\"date\": \"2021-12-20T00:00:00\", \"y_test\": 45.0, \"y_pred\": 47.03678429624195, \"label\": \"Actual\", \"predicted_label\": \"Predicted\"}, {\"date\": \"2021-12-21T00:00:00\", \"y_test\": 45.400001525878906, \"y_pred\": 45.231894037869544, \"label\": \"Actual\", \"predicted_label\": \"Predicted\"}, {\"date\": \"2021-12-22T00:00:00\", \"y_test\": 46.20000076293945, \"y_pred\": 45.561861015356065, \"label\": \"Actual\", \"predicted_label\": \"Predicted\"}, {\"date\": \"2021-12-23T00:00:00\", \"y_test\": 45.900001525878906, \"y_pred\": 46.87753162165973, \"label\": \"Actual\", \"predicted_label\": \"Predicted\"}, {\"date\": \"2021-12-24T00:00:00\", \"y_test\": 46.25, \"y_pred\": 46.130440450180785, \"label\": \"Actual\", \"predicted_label\": \"Predicted\"}, {\"date\": \"2021-12-27T00:00:00\", \"y_test\": 45.79999923706055, \"y_pred\": 46.73289552690471, \"label\": \"Actual\", \"predicted_label\": \"Predicted\"}, {\"date\": \"2021-12-28T00:00:00\", \"y_test\": 45.549999237060554, \"y_pred\": 45.387672027787836, \"label\": \"Actual\", \"predicted_label\": \"Predicted\"}, {\"date\": \"2021-12-29T00:00:00\", \"y_test\": 45.29999923706055, \"y_pred\": 45.90475634394893, \"label\": \"Actual\", \"predicted_label\": \"Predicted\"}, {\"date\": \"2021-12-30T00:00:00\", \"y_test\": 44.95000076293945, \"y_pred\": 45.614753545922795, \"label\": \"Actual\", \"predicted_label\": \"Predicted\"}, {\"date\": \"2021-12-31T00:00:00\", \"y_test\": 46.00000000000001, \"y_pred\": 44.80405831350436, \"label\": \"Actual\", \"predicted_label\": \"Predicted\"}, {\"date\": \"2022-01-03T00:00:00\", \"y_test\": 46.9000015258789, \"y_pred\": 45.817831978584536, \"label\": \"Actual\", \"predicted_label\": \"Predicted\"}, {\"date\": \"2022-01-04T00:00:00\", \"y_test\": 47.650001525878906, \"y_pred\": 47.45661153850247, \"label\": \"Actual\", \"predicted_label\": \"Predicted\"}, {\"date\": \"2022-01-05T00:00:00\", \"y_test\": 46.70000076293945, \"y_pred\": 47.68911331385791, \"label\": \"Actual\", \"predicted_label\": \"Predicted\"}, {\"date\": \"2022-01-06T00:00:00\", \"y_test\": 46.70000076293945, \"y_pred\": 46.72460411657177, \"label\": \"Actual\", \"predicted_label\": \"Predicted\"}, {\"date\": \"2022-01-07T00:00:00\", \"y_test\": 47.650001525878906, \"y_pred\": 47.51684858110617, \"label\": \"Actual\", \"predicted_label\": \"Predicted\"}, {\"date\": \"2022-01-10T00:00:00\", \"y_test\": 47.04999923706055, \"y_pred\": 47.44553537815339, \"label\": \"Actual\", \"predicted_label\": \"Predicted\"}, {\"date\": \"2022-01-11T00:00:00\", \"y_test\": 47.09999847412109, \"y_pred\": 47.93280536305373, \"label\": \"Actual\", \"predicted_label\": \"Predicted\"}, {\"date\": \"2022-01-12T00:00:00\", \"y_test\": 46.650001525878906, \"y_pred\": 47.13810687591187, \"label\": \"Actual\", \"predicted_label\": \"Predicted\"}, {\"date\": \"2022-01-13T00:00:00\", \"y_test\": 48.650001525878906, \"y_pred\": 46.89786144381499, \"label\": \"Actual\", \"predicted_label\": \"Predicted\"}, {\"date\": \"2022-01-14T00:00:00\", \"y_test\": 48.5, \"y_pred\": 48.46403575214855, \"label\": \"Actual\", \"predicted_label\": \"Predicted\"}, {\"date\": \"2022-01-17T00:00:00\", \"y_test\": 49.34999847412109, \"y_pred\": 49.21621671243495, \"label\": \"Actual\", \"predicted_label\": \"Predicted\"}, {\"date\": \"2022-01-18T00:00:00\", \"y_test\": 50.79999923706054, \"y_pred\": 49.68185771612091, \"label\": \"Actual\", \"predicted_label\": \"Predicted\"}, {\"date\": \"2022-01-18T00:00:00\", \"y_test\": 50.799999237060554, \"y_pred\": 50.49450911891136, \"label\": \"Actual\", \"predicted_label\": \"Predicted\"}, {\"date\": \"2022-01-18T00:00:00\", \"y_test\": 50.799999237060554, \"y_pred\": 50.62160725997451, \"label\": \"Actual\", \"predicted_label\": \"Predicted\"}, {\"date\": \"2022-01-19T00:00:00\", \"y_test\": 55.1500015258789, \"y_pred\": 50.705184522409226, \"label\": \"Actual\", \"predicted_label\": \"Predicted\"}, {\"date\": \"2022-01-19T00:00:00\", \"y_test\": 55.150001525878906, \"y_pred\": 54.486185200634736, \"label\": \"Actual\", \"predicted_label\": \"Predicted\"}, {\"date\": \"2022-01-19T00:00:00\", \"y_test\": 55.150001525878906, \"y_pred\": 54.37543441856391, \"label\": \"Actual\", \"predicted_label\": \"Predicted\"}, {\"date\": \"2022-01-19T00:00:00\", \"y_test\": 55.150001525878906, \"y_pred\": 54.12026329894307, \"label\": \"Actual\", \"predicted_label\": \"Predicted\"}, {\"date\": \"2022-01-19T00:00:00\", \"y_test\": 55.150001525878906, \"y_pred\": 53.956048384525545, \"label\": \"Actual\", \"predicted_label\": \"Predicted\"}, {\"date\": \"2022-01-20T00:00:00\", \"y_test\": 55.599998474121094, \"y_pred\": 53.9693180768252, \"label\": \"Actual\", \"predicted_label\": \"Predicted\"}, {\"date\": \"2022-01-20T00:00:00\", \"y_test\": 55.59999847412108, \"y_pred\": 56.8948801978309, \"label\": \"Actual\", \"predicted_label\": \"Predicted\"}, {\"date\": \"2022-01-21T00:00:00\", \"y_test\": 56.5, \"y_pred\": 56.98058579338178, \"label\": \"Actual\", \"predicted_label\": \"Predicted\"}, {\"date\": \"2022-01-24T00:00:00\", \"y_test\": 54.1500015258789, \"y_pred\": 54.62356035687777, \"label\": \"Actual\", \"predicted_label\": \"Predicted\"}, {\"date\": \"2022-01-25T00:00:00\", \"y_test\": 51.15000152587891, \"y_pred\": 51.761165414089824, \"label\": \"Actual\", \"predicted_label\": \"Predicted\"}, {\"date\": \"2022-01-27T00:00:00\", \"y_test\": 58.400001525878906, \"y_pred\": 50.08527418086309, \"label\": \"Actual\", \"predicted_label\": \"Predicted\"}, {\"date\": \"2022-01-27T00:00:00\", \"y_test\": 58.400001525878906, \"y_pred\": 60.119505945384134, \"label\": \"Actual\", \"predicted_label\": \"Predicted\"}, {\"date\": \"2022-01-27T00:00:00\", \"y_test\": 58.400001525878906, \"y_pred\": 60.19190747408461, \"label\": \"Actual\", \"predicted_label\": \"Predicted\"}, {\"date\": \"2022-01-27T00:00:00\", \"y_test\": 58.400001525878906, \"y_pred\": 60.051850886448946, \"label\": \"Actual\", \"predicted_label\": \"Predicted\"}, {\"date\": \"2022-01-27T00:00:00\", \"y_test\": 58.400001525878906, \"y_pred\": 60.05893907214926, \"label\": \"Actual\", \"predicted_label\": \"Predicted\"}, {\"date\": \"2022-01-27T00:00:00\", \"y_test\": 58.400001525878906, \"y_pred\": 60.21166282565122, \"label\": \"Actual\", \"predicted_label\": \"Predicted\"}, {\"date\": \"2022-01-27T00:00:00\", \"y_test\": 58.400001525878906, \"y_pred\": 60.221356690567525, \"label\": \"Actual\", \"predicted_label\": \"Predicted\"}, {\"date\": \"2022-01-27T00:00:00\", \"y_test\": 58.400001525878906, \"y_pred\": 60.02130500959045, \"label\": \"Actual\", \"predicted_label\": \"Predicted\"}, {\"date\": \"2022-01-27T00:00:00\", \"y_test\": 58.400001525878906, \"y_pred\": 60.02939247720851, \"label\": \"Actual\", \"predicted_label\": \"Predicted\"}, {\"date\": \"2022-01-27T00:00:00\", \"y_test\": 58.400001525878906, \"y_pred\": 59.99377711699471, \"label\": \"Actual\", \"predicted_label\": \"Predicted\"}, {\"date\": \"2022-01-27T00:00:00\", \"y_test\": 58.400001525878906, \"y_pred\": 60.02927762312483, \"label\": \"Actual\", \"predicted_label\": \"Predicted\"}, {\"date\": \"2022-01-27T00:00:00\", \"y_test\": 58.400001525878906, \"y_pred\": 60.02927762312483, \"label\": \"Actual\", \"predicted_label\": \"Predicted\"}, {\"date\": \"2022-01-27T00:00:00\", \"y_test\": 58.400001525878906, \"y_pred\": 60.02927762312483, \"label\": \"Actual\", \"predicted_label\": \"Predicted\"}, {\"date\": \"2022-01-27T00:00:00\", \"y_test\": 58.400001525878906, \"y_pred\": 60.02927762312483, \"label\": \"Actual\", \"predicted_label\": \"Predicted\"}, {\"date\": \"2022-01-27T00:00:00\", \"y_test\": 58.400001525878906, \"y_pred\": 60.02927762312483, \"label\": \"Actual\", \"predicted_label\": \"Predicted\"}, {\"date\": \"2022-01-27T00:00:00\", \"y_test\": 58.400001525878906, \"y_pred\": 60.02927762312483, \"label\": \"Actual\", \"predicted_label\": \"Predicted\"}, {\"date\": \"2022-01-27T00:00:00\", \"y_test\": 58.400001525878906, \"y_pred\": 60.02927762312483, \"label\": \"Actual\", \"predicted_label\": \"Predicted\"}, {\"date\": \"2022-01-27T00:00:00\", \"y_test\": 58.400001525878906, \"y_pred\": 60.02927762312483, \"label\": \"Actual\", \"predicted_label\": \"Predicted\"}, {\"date\": \"2022-01-27T00:00:00\", \"y_test\": 58.400001525878906, \"y_pred\": 60.02927762312483, \"label\": \"Actual\", \"predicted_label\": \"Predicted\"}, {\"date\": \"2022-01-27T00:00:00\", \"y_test\": 58.400001525878906, \"y_pred\": 60.02927762312483, \"label\": \"Actual\", \"predicted_label\": \"Predicted\"}, {\"date\": \"2022-01-27T00:00:00\", \"y_test\": 58.400001525878906, \"y_pred\": 60.02927762312483, \"label\": \"Actual\", \"predicted_label\": \"Predicted\"}, {\"date\": \"2022-01-27T00:00:00\", \"y_test\": 58.400001525878906, \"y_pred\": 60.02927762312483, \"label\": \"Actual\", \"predicted_label\": \"Predicted\"}, {\"date\": \"2022-01-27T00:00:00\", \"y_test\": 58.400001525878906, \"y_pred\": 60.02927762312483, \"label\": \"Actual\", \"predicted_label\": \"Predicted\"}, {\"date\": \"2022-01-28T00:00:00\", \"y_test\": 65.0, \"y_pred\": 60.02927762312483, \"label\": \"Actual\", \"predicted_label\": \"Predicted\"}, {\"date\": \"2022-01-28T00:00:00\", \"y_test\": 65.0, \"y_pred\": 60.90288759628581, \"label\": \"Actual\", \"predicted_label\": \"Predicted\"}, {\"date\": \"2022-01-28T00:00:00\", \"y_test\": 65.0, \"y_pred\": 61.04703691462669, \"label\": \"Actual\", \"predicted_label\": \"Predicted\"}, {\"date\": \"2022-01-28T00:00:00\", \"y_test\": 65.0, \"y_pred\": 61.05889635098412, \"label\": \"Actual\", \"predicted_label\": \"Predicted\"}, {\"date\": \"2022-01-31T00:00:00\", \"y_test\": 60.099998474121094, \"y_pred\": 61.022558886000915, \"label\": \"Actual\", \"predicted_label\": \"Predicted\"}, {\"date\": \"2022-02-01T00:00:00\", \"y_test\": 59.599998474121094, \"y_pred\": 61.415812550301055, \"label\": \"Actual\", \"predicted_label\": \"Predicted\"}, {\"date\": \"2022-02-02T00:00:00\", \"y_test\": 63.349998474121094, \"y_pred\": 59.04050729738333, \"label\": \"Actual\", \"predicted_label\": \"Predicted\"}, {\"date\": \"2022-02-03T00:00:00\", \"y_test\": 67.4000015258789, \"y_pred\": 63.292192183860514, \"label\": \"Actual\", \"predicted_label\": \"Predicted\"}, {\"date\": \"2022-02-03T00:00:00\", \"y_test\": 67.4000015258789, \"y_pred\": 67.6657972868868, \"label\": \"Actual\", \"predicted_label\": \"Predicted\"}, {\"date\": \"2022-02-03T00:00:00\", \"y_test\": 67.4000015258789, \"y_pred\": 67.49402831814422, \"label\": \"Actual\", \"predicted_label\": \"Predicted\"}, {\"date\": \"2022-02-03T00:00:00\", \"y_test\": 67.4000015258789, \"y_pred\": 67.93537264042111, \"label\": \"Actual\", \"predicted_label\": \"Predicted\"}, {\"date\": \"2022-02-03T00:00:00\", \"y_test\": 67.4000015258789, \"y_pred\": 68.06829419249465, \"label\": \"Actual\", \"predicted_label\": \"Predicted\"}, {\"date\": \"2022-02-04T00:00:00\", \"y_test\": 67.8499984741211, \"y_pred\": 68.11430007629178, \"label\": \"Actual\", \"predicted_label\": \"Predicted\"}, {\"date\": \"2022-02-07T00:00:00\", \"y_test\": 65.69999694824219, \"y_pred\": 68.10821284979357, \"label\": \"Actual\", \"predicted_label\": \"Predicted\"}, {\"date\": \"2022-02-08T00:00:00\", \"y_test\": 64.25, \"y_pred\": 66.33019687887041, \"label\": \"Actual\", \"predicted_label\": \"Predicted\"}, {\"date\": \"2022-02-09T00:00:00\", \"y_test\": 70.0, \"y_pred\": 65.28966778336526, \"label\": \"Actual\", \"predicted_label\": \"Predicted\"}, {\"date\": \"2022-02-09T00:00:00\", \"y_test\": 70.0, \"y_pred\": 72.62892125416269, \"label\": \"Actual\", \"predicted_label\": \"Predicted\"}]}}, {\"mode\": \"vega-lite\"});\n",
       "</script>"
      ],
      "text/plain": [
       "alt.LayerChart(...)"
      ]
     },
     "execution_count": 43,
     "metadata": {},
     "output_type": "execute_result"
    }
   ],
   "source": [
    "import altair as alt\n",
    "\n",
    "alt.themes.enable('fivethirtyeight')\n",
    "\n",
    "predictions_df['date'] = pd.to_datetime(predictions_df['date'])\n",
    "\n",
    "predictions_df['label'] = 'Actual'\n",
    "predictions_df['predicted_label'] = 'Predicted'\n",
    "\n",
    "# Actual high price line\n",
    "line1 = alt.Chart(predictions_df).mark_line(strokeWidth=2).encode(\n",
    "    x='date:T',\n",
    "    y=alt.Y('y_test:Q', title='Price', scale=alt.Scale(zero=False)),\n",
    "    color=alt.Color('label:N', legend=alt.Legend(title=\"Line Type\")),\n",
    "    tooltip=['date', 'y_test', 'y_pred']\n",
    ")\n",
    "\n",
    "# Predicted high price line\n",
    "line2 = alt.Chart(predictions_df).mark_line(strokeWidth=1, strokeDash=[3, 3]).encode(\n",
    "    x='date:T',\n",
    "    y=alt.Y('y_pred:Q', title='', scale=alt.Scale(zero=False)),\n",
    "    color=alt.Color('predicted_label:N', legend=alt.Legend(title=\"Line Type\")),\n",
    "    tooltip=['date', 'y_test', 'y_pred']\n",
    ")\n",
    "\n",
    "# Combine the two lines\n",
    "chart = alt.layer(line1, line2).properties(\n",
    "    title='Actual vs Predicted High Prices',\n",
    "    width=650,\n",
    "    height=400\n",
    ").interactive()\n",
    "\n",
    "chart"
   ]
  }
 ],
 "metadata": {
  "kernelspec": {
   "display_name": "Python 3 (ipykernel)",
   "language": "python",
   "name": "python3"
  },
  "language_info": {
   "codemirror_mode": {
    "name": "ipython",
    "version": 3
   },
   "file_extension": ".py",
   "mimetype": "text/x-python",
   "name": "python",
   "nbconvert_exporter": "python",
   "pygments_lexer": "ipython3",
   "version": "3.10.9"
  }
 },
 "nbformat": 4,
 "nbformat_minor": 5
}
