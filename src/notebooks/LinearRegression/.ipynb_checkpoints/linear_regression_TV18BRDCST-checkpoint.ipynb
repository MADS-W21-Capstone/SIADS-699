{
 "cells": [
  {
   "cell_type": "code",
   "execution_count": 2,
   "id": "8afc5231",
   "metadata": {},
   "outputs": [],
   "source": [
    "import pandas as pd\n",
    "import seaborn as sns\n",
    "import matplotlib.pyplot as plt\n",
    "import numpy as np\n",
    "\n",
    "from sklearn.model_selection import train_test_split\n",
    "from sklearn.feature_selection import SelectFromModel\n",
    "from sklearn.preprocessing import StandardScaler\n",
    "from sklearn.metrics import mean_squared_error, r2_score, mean_absolute_percentage_error\n",
    "from sklearn.feature_selection import SelectKBest, f_regression\n",
    "from sklearn.linear_model import LinearRegression\n",
    "from sklearn.model_selection import GridSearchCV"
   ]
  },
  {
   "cell_type": "code",
   "execution_count": 3,
   "id": "0441e2f4",
   "metadata": {},
   "outputs": [],
   "source": [
    "df = pd.read_csv('../../../datasets/processed_data/combined_features/TV18BRDCST.BO.csv')"
   ]
  },
  {
   "cell_type": "code",
   "execution_count": 4,
   "id": "7cd6615f",
   "metadata": {},
   "outputs": [
    {
     "data": {
      "text/plain": [
       "Index(['date', 'open', 'close', 'adj close', 'volume', 'high', 'low',\n",
       "       'volume_adi', 'volume_obv', 'volume_cmf',\n",
       "       ...\n",
       "       'treasury_yeild_10_years_percent_change', 'usdx-index_percent_change',\n",
       "       '^nsei_percent_change', '^bsesn_percent_change', '^gspc_percent_change',\n",
       "       'hsi_percent_change', 'sha_percent_change', '^sti_percent_change',\n",
       "       'yesterday_close', 'ln_target'],\n",
       "      dtype='object', length=635)"
      ]
     },
     "execution_count": 4,
     "metadata": {},
     "output_type": "execute_result"
    }
   ],
   "source": [
    "df.columns"
   ]
  },
  {
   "cell_type": "code",
   "execution_count": 5,
   "id": "8d95330e",
   "metadata": {},
   "outputs": [],
   "source": [
    "def create_custom_target(df: pd.DataFrame) -> pd.DataFrame:\n",
    "    \"\"\"\n",
    "    This function creates the custom target price, which is computed as ln(high/yesterday_close)\n",
    "    \"\"\"    \n",
    "    # make a copy of the dataframe so as not to change the original dataframe\n",
    "    data_df = df.copy()\n",
    "    \n",
    "    # create yesterday_close feature as\n",
    "    data_df['yesterday_close'] = data_df['close'].shift(1)\n",
    "    \n",
    "    # create custom target price to predict, computing  ln(high/yesterday_close)\n",
    "    data_df['ln_target'] = np.log(data_df['high'] / data_df['yesterday_close'])\n",
    "    \n",
    "    # as yesterday close would not be available for first day, \n",
    "    # we would not have custom target price for that day, which needs to be excluded \n",
    "    return(data_df.iloc[1:, ])"
   ]
  },
  {
   "cell_type": "code",
   "execution_count": 6,
   "id": "c531119f",
   "metadata": {},
   "outputs": [],
   "source": [
    "df = create_custom_target(df)"
   ]
  },
  {
   "cell_type": "code",
   "execution_count": 7,
   "id": "813fe5cf",
   "metadata": {},
   "outputs": [
    {
     "data": {
      "text/plain": [
       "1       107.349998\n",
       "2       101.000000\n",
       "3       100.800003\n",
       "4        98.599998\n",
       "5        91.050003\n",
       "           ...    \n",
       "3679     32.930000\n",
       "3680     34.220001\n",
       "3681     34.360001\n",
       "3682     34.220001\n",
       "3683     35.270000\n",
       "Name: yesterday_close, Length: 3683, dtype: float64"
      ]
     },
     "execution_count": 7,
     "metadata": {},
     "output_type": "execute_result"
    }
   ],
   "source": [
    "df['yesterday_close']"
   ]
  },
  {
   "cell_type": "code",
   "execution_count": 8,
   "id": "cadfb265",
   "metadata": {},
   "outputs": [
    {
     "data": {
      "text/plain": [
       "1       0.013417\n",
       "2       0.013278\n",
       "3       0.037961\n",
       "4      -0.037194\n",
       "5       0.016880\n",
       "          ...   \n",
       "3679    0.083005\n",
       "3680    0.022538\n",
       "3681    0.026707\n",
       "3682    0.038130\n",
       "3683    0.007907\n",
       "Name: ln_target, Length: 3683, dtype: float64"
      ]
     },
     "execution_count": 8,
     "metadata": {},
     "output_type": "execute_result"
    }
   ],
   "source": [
    "df['ln_target'] "
   ]
  },
  {
   "cell_type": "code",
   "execution_count": 9,
   "id": "153f8860",
   "metadata": {},
   "outputs": [],
   "source": [
    "# Drop cols with NaN values\n",
    "df = df.dropna(axis=1, how='all')\n",
    "df.fillna(method='ffill', inplace=True)"
   ]
  },
  {
   "cell_type": "code",
   "execution_count": 10,
   "id": "2e2e8182",
   "metadata": {},
   "outputs": [],
   "source": [
    "combined_date_df = df['date']\n",
    "train_date, test_date = train_test_split(combined_date_df, train_size=0.8, shuffle=False)"
   ]
  },
  {
   "cell_type": "code",
   "execution_count": 11,
   "id": "65cfd022",
   "metadata": {},
   "outputs": [],
   "source": [
    "df_without_date = df.drop(columns=[\"date\"])"
   ]
  },
  {
   "cell_type": "code",
   "execution_count": 12,
   "id": "2fbd9cf5",
   "metadata": {},
   "outputs": [],
   "source": [
    "df_without_date.dropna(inplace=True)"
   ]
  },
  {
   "cell_type": "code",
   "execution_count": 13,
   "id": "d94c6d7d",
   "metadata": {},
   "outputs": [],
   "source": [
    "def timeseries_to_supervise(df, window_size, target):    \n",
    "    X = []\n",
    "    y = []\n",
    "    indx = []\n",
    "    no_records = len(df)\n",
    "    #     \n",
    "    for i in range(window_size, no_records):\n",
    "        X.append(df.iloc[i-window_size:i].drop(target, axis=1).values.flatten())  # Collect past records as a sequence\n",
    "        y.append(df.iloc[i][target])  # Next record as target variable\n",
    "        indx.append(np.arange(i-window_size, i))\n",
    "\n",
    "    X = pd.DataFrame(X)\n",
    "    y = pd.Series(y)\n",
    "    return(X, y, indx)"
   ]
  },
  {
   "cell_type": "code",
   "execution_count": 14,
   "id": "526d0ec6",
   "metadata": {},
   "outputs": [],
   "source": [
    "window_size = 10"
   ]
  },
  {
   "cell_type": "code",
   "execution_count": 15,
   "id": "4994f22b",
   "metadata": {},
   "outputs": [
    {
     "data": {
      "text/plain": [
       "[616, 617, 618, 619, 620, 621]"
      ]
     },
     "execution_count": 15,
     "metadata": {},
     "output_type": "execute_result"
    }
   ],
   "source": [
    "# do train/test split the data with shuffle = False\n",
    "train_data, test_data = train_test_split(df_without_date, train_size=0.8, shuffle=False)\n",
    "\n",
    "# Identify the indices of the specified sentiment columns in the original dataset\n",
    "sentiment_columns = ['agg_polarity', 'agg_compound', 'topic_polarity', 'topic_compound', 'ticker_polarity', 'ticker_compound']\n",
    "column_indices = [train_data.columns.get_loc(col) for col in sentiment_columns if col in train_data.columns]\n",
    "\n",
    "column_indices"
   ]
  },
  {
   "cell_type": "code",
   "execution_count": 16,
   "id": "97d361f9",
   "metadata": {},
   "outputs": [],
   "source": [
    "# convert timeseries to be used in supervise learning model\n",
    "X_train, y_train, indx_train = timeseries_to_supervise(train_data, window_size, 'ln_target')  \n",
    "\n",
    "# convert timeseries to be used in supervise learning model    \n",
    "X_test, y_test, indx_test = timeseries_to_supervise(test_data, window_size, 'ln_target')  "
   ]
  },
  {
   "cell_type": "code",
   "execution_count": 17,
   "id": "2b44ab84",
   "metadata": {},
   "outputs": [],
   "source": [
    "# Use SelectKBest to select the top 44 features\n",
    "selector = SelectKBest(score_func=f_regression, k=44)\n",
    "X_train_44 = selector.fit_transform(X_train, y_train)\n",
    "X_test_44 = selector.transform(X_test)\n",
    "\n",
    "# Determine if the specified columns are among the top 44 features\n",
    "selected_indices = selector.get_support(indices=True)\n",
    "missing_indices = [idx for idx in column_indices if idx not in selected_indices]\n",
    "\n",
    "# Add the specified columns if they are not among the top 44 features\n",
    "for idx in missing_indices:\n",
    "    extracted_column_train = X_train.iloc[:, idx].values.reshape(-1, 1)\n",
    "    extracted_column_test = X_test.iloc[:, idx].values.reshape(-1, 1)\n",
    "    X_train_44 = np.hstack([X_train_44, extracted_column_train])\n",
    "    X_test_44 = np.hstack([X_test_44, extracted_column_test])\n",
    "\n",
    "# If some of the specified columns were already in the top 44, \n",
    "# select additional top features to make the total count 50\n",
    "remaining_indices = [i for i in range(X_train.shape[1]) if i not in selected_indices and i not in missing_indices]\n",
    "num_additional_features_needed = 50 - X_train_44.shape[1]\n",
    "\n",
    "if num_additional_features_needed > 0:\n",
    "    additional_selector = SelectKBest(score_func=f_regression, k=num_additional_features_needed)\n",
    "    additional_selector.fit(X_train.iloc[:, remaining_indices], y_train)\n",
    "    X_train_additional = additional_selector.transform(X_train.iloc[:, remaining_indices])\n",
    "    X_test_additional = additional_selector.transform(X_test.iloc[:, remaining_indices])\n",
    "\n",
    "    X_train_44 = np.hstack([X_train_44, X_train_additional])\n",
    "    X_test_44 = np.hstack([X_test_44, X_test_additional])\n",
    "\n",
    "X_train_50 = X_train_44\n",
    "X_test_50 = X_test_44"
   ]
  },
  {
   "cell_type": "code",
   "execution_count": 18,
   "id": "6da80680",
   "metadata": {},
   "outputs": [
    {
     "name": "stdout",
     "output_type": "stream",
     "text": [
      "Best parameters:  {'fit_intercept': True}\n",
      "Best cross-validation score:  94.85142447120691\n"
     ]
    },
    {
     "data": {
      "text/html": [
       "<style>#sk-container-id-1 {color: black;}#sk-container-id-1 pre{padding: 0;}#sk-container-id-1 div.sk-toggleable {background-color: white;}#sk-container-id-1 label.sk-toggleable__label {cursor: pointer;display: block;width: 100%;margin-bottom: 0;padding: 0.3em;box-sizing: border-box;text-align: center;}#sk-container-id-1 label.sk-toggleable__label-arrow:before {content: \"▸\";float: left;margin-right: 0.25em;color: #696969;}#sk-container-id-1 label.sk-toggleable__label-arrow:hover:before {color: black;}#sk-container-id-1 div.sk-estimator:hover label.sk-toggleable__label-arrow:before {color: black;}#sk-container-id-1 div.sk-toggleable__content {max-height: 0;max-width: 0;overflow: hidden;text-align: left;background-color: #f0f8ff;}#sk-container-id-1 div.sk-toggleable__content pre {margin: 0.2em;color: black;border-radius: 0.25em;background-color: #f0f8ff;}#sk-container-id-1 input.sk-toggleable__control:checked~div.sk-toggleable__content {max-height: 200px;max-width: 100%;overflow: auto;}#sk-container-id-1 input.sk-toggleable__control:checked~label.sk-toggleable__label-arrow:before {content: \"▾\";}#sk-container-id-1 div.sk-estimator input.sk-toggleable__control:checked~label.sk-toggleable__label {background-color: #d4ebff;}#sk-container-id-1 div.sk-label input.sk-toggleable__control:checked~label.sk-toggleable__label {background-color: #d4ebff;}#sk-container-id-1 input.sk-hidden--visually {border: 0;clip: rect(1px 1px 1px 1px);clip: rect(1px, 1px, 1px, 1px);height: 1px;margin: -1px;overflow: hidden;padding: 0;position: absolute;width: 1px;}#sk-container-id-1 div.sk-estimator {font-family: monospace;background-color: #f0f8ff;border: 1px dotted black;border-radius: 0.25em;box-sizing: border-box;margin-bottom: 0.5em;}#sk-container-id-1 div.sk-estimator:hover {background-color: #d4ebff;}#sk-container-id-1 div.sk-parallel-item::after {content: \"\";width: 100%;border-bottom: 1px solid gray;flex-grow: 1;}#sk-container-id-1 div.sk-label:hover label.sk-toggleable__label {background-color: #d4ebff;}#sk-container-id-1 div.sk-serial::before {content: \"\";position: absolute;border-left: 1px solid gray;box-sizing: border-box;top: 0;bottom: 0;left: 50%;z-index: 0;}#sk-container-id-1 div.sk-serial {display: flex;flex-direction: column;align-items: center;background-color: white;padding-right: 0.2em;padding-left: 0.2em;position: relative;}#sk-container-id-1 div.sk-item {position: relative;z-index: 1;}#sk-container-id-1 div.sk-parallel {display: flex;align-items: stretch;justify-content: center;background-color: white;position: relative;}#sk-container-id-1 div.sk-item::before, #sk-container-id-1 div.sk-parallel-item::before {content: \"\";position: absolute;border-left: 1px solid gray;box-sizing: border-box;top: 0;bottom: 0;left: 50%;z-index: -1;}#sk-container-id-1 div.sk-parallel-item {display: flex;flex-direction: column;z-index: 1;position: relative;background-color: white;}#sk-container-id-1 div.sk-parallel-item:first-child::after {align-self: flex-end;width: 50%;}#sk-container-id-1 div.sk-parallel-item:last-child::after {align-self: flex-start;width: 50%;}#sk-container-id-1 div.sk-parallel-item:only-child::after {width: 0;}#sk-container-id-1 div.sk-dashed-wrapped {border: 1px dashed gray;margin: 0 0.4em 0.5em 0.4em;box-sizing: border-box;padding-bottom: 0.4em;background-color: white;}#sk-container-id-1 div.sk-label label {font-family: monospace;font-weight: bold;display: inline-block;line-height: 1.2em;}#sk-container-id-1 div.sk-label-container {text-align: center;}#sk-container-id-1 div.sk-container {/* jupyter's `normalize.less` sets `[hidden] { display: none; }` but bootstrap.min.css set `[hidden] { display: none !important; }` so we also need the `!important` here to be able to override the default hidden behavior on the sphinx rendered scikit-learn.org. See: https://github.com/scikit-learn/scikit-learn/issues/21755 */display: inline-block !important;position: relative;}#sk-container-id-1 div.sk-text-repr-fallback {display: none;}</style><div id=\"sk-container-id-1\" class=\"sk-top-container\"><div class=\"sk-text-repr-fallback\"><pre>LinearRegression()</pre><b>In a Jupyter environment, please rerun this cell to show the HTML representation or trust the notebook. <br />On GitHub, the HTML representation is unable to render, please try loading this page with nbviewer.org.</b></div><div class=\"sk-container\" hidden><div class=\"sk-item\"><div class=\"sk-estimator sk-toggleable\"><input class=\"sk-toggleable__control sk-hidden--visually\" id=\"sk-estimator-id-1\" type=\"checkbox\" checked><label for=\"sk-estimator-id-1\" class=\"sk-toggleable__label sk-toggleable__label-arrow\">LinearRegression</label><div class=\"sk-toggleable__content\"><pre>LinearRegression()</pre></div></div></div></div></div>"
      ],
      "text/plain": [
       "LinearRegression()"
      ]
     },
     "execution_count": 18,
     "metadata": {},
     "output_type": "execute_result"
    }
   ],
   "source": [
    "linear_reg = LinearRegression()\n",
    "\n",
    "param_grid = {\n",
    "    'fit_intercept': [True, False],         \n",
    "}\n",
    "\n",
    "grid_search = GridSearchCV(linear_reg, param_grid, cv=5, scoring='neg_mean_squared_error', n_jobs=-1)\n",
    "grid_search.fit(X_train_50, y_train)\n",
    "\n",
    "print(\"Best parameters: \", grid_search.best_params_)\n",
    "print(\"Best cross-validation score: \", -grid_search.best_score_)\n",
    "\n",
    "model_50 = grid_search.best_estimator_\n",
    "model_50.fit(X_train_50, y_train)"
   ]
  },
  {
   "cell_type": "code",
   "execution_count": 19,
   "id": "bcc0a169",
   "metadata": {},
   "outputs": [],
   "source": [
    "def convert_custom_target_to_actual_for_supervise(df: pd.DataFrame, window: int, y: \"pd.Series[int]\") -> \"pd.Series[int]\":\n",
    "    \"\"\"\n",
    "    this module converts custom target - ln(high/yesterday_close) to actual high price again for timeseries converted data using rolling         window of size 10\n",
    "    \"\"\"\n",
    "    data_df = df.copy()\n",
    "    \n",
    "    # exclude first 10 rows of train/test data, as while us\n",
    "    \n",
    "    y = np.exp(y) * data_df.loc[data_df.index[window:], 'yesterday_close'].reset_index(drop=True)\n",
    "    return(y)    "
   ]
  },
  {
   "cell_type": "code",
   "execution_count": 20,
   "id": "9b6bbe36",
   "metadata": {},
   "outputs": [],
   "source": [
    "def evaluate_model(model, window, test_data, test_date, X_test, y_test):\n",
    "    \n",
    "    # do target prediction using the provide model\n",
    "    y_pred = model.predict(X_test)\n",
    "\n",
    "    # convert back to original value, before computing mape            \n",
    "    y_test = convert_custom_target_to_actual_for_supervise(test_data, window, y_test)\n",
    "    y_pred = convert_custom_target_to_actual_for_supervise(test_data, window, y_pred)\n",
    "\n",
    "    test_dates = test_date[window:].reset_index(drop=True)\n",
    "    predictions_df = pd.DataFrame({'date': test_dates, 'y_test': y_test, 'y_pred': y_pred})\n",
    "\n",
    "    # compute regression metric - mape \n",
    "    mape = mean_absolute_percentage_error(y_test, y_pred)\n",
    "\n",
    "    # compute rmse metric\n",
    "    rmse = mean_squared_error(y_test, y_pred, squared=False)        \n",
    "    return(predictions_df, mape, rmse)"
   ]
  },
  {
   "cell_type": "code",
   "execution_count": 21,
   "id": "54eb339d",
   "metadata": {},
   "outputs": [],
   "source": [
    "predictions_df, mape, rmse = evaluate_model(model_50, window_size, test_data, test_date, X_test_50, y_test)"
   ]
  },
  {
   "cell_type": "code",
   "execution_count": 22,
   "id": "18f47e9f",
   "metadata": {},
   "outputs": [
    {
     "data": {
      "text/plain": [
       "(           date     y_test     y_pred\n",
       " 0    2020-06-23  40.299999  39.760082\n",
       " 1    2020-06-24  41.000000  41.014731\n",
       " 2    2020-06-25  36.750000  37.666187\n",
       " 3    2020-06-26  36.950001  37.014881\n",
       " 4    2020-06-29  36.000000  36.474786\n",
       " ..          ...        ...        ...\n",
       " 722  2023-05-24  35.779999  33.635263\n",
       " 723  2023-05-25  35.000000  35.209054\n",
       " 724  2023-05-26  35.290001  35.388440\n",
       " 725  2023-05-30  35.549999  34.937330\n",
       " 726  2023-05-31  35.549999  35.997484\n",
       " \n",
       " [727 rows x 3 columns],\n",
       " 0.01773461719467552,\n",
       " 1.2273659015916012)"
      ]
     },
     "execution_count": 22,
     "metadata": {},
     "output_type": "execute_result"
    }
   ],
   "source": [
    "predictions_df, mape, rmse"
   ]
  },
  {
   "cell_type": "code",
   "execution_count": 23,
   "id": "b9ba15e3",
   "metadata": {},
   "outputs": [
    {
     "name": "stdout",
     "output_type": "stream",
     "text": [
      "MAPE for model with top 50 features: 1.77%\n"
     ]
    }
   ],
   "source": [
    "print(f\"MAPE for model with top 50 features: {mape*100:.2f}%\")"
   ]
  },
  {
   "cell_type": "code",
   "execution_count": 24,
   "id": "ab352ea4",
   "metadata": {},
   "outputs": [],
   "source": [
    "predictions_df.to_csv(\"lr_TV18BRDCST.csv\", index=False)"
   ]
  },
  {
   "cell_type": "code",
   "execution_count": 25,
   "id": "456e1fc6",
   "metadata": {},
   "outputs": [
    {
     "data": {
      "text/html": [
       "\n",
       "<style>\n",
       "  #altair-viz-cd506a8e6f4a49d3b5962cd912641018.vega-embed {\n",
       "    width: 100%;\n",
       "    display: flex;\n",
       "  }\n",
       "\n",
       "  #altair-viz-cd506a8e6f4a49d3b5962cd912641018.vega-embed details,\n",
       "  #altair-viz-cd506a8e6f4a49d3b5962cd912641018.vega-embed details summary {\n",
       "    position: relative;\n",
       "  }\n",
       "</style>\n",
       "<div id=\"altair-viz-cd506a8e6f4a49d3b5962cd912641018\"></div>\n",
       "<script type=\"text/javascript\">\n",
       "  var VEGA_DEBUG = (typeof VEGA_DEBUG == \"undefined\") ? {} : VEGA_DEBUG;\n",
       "  (function(spec, embedOpt){\n",
       "    let outputDiv = document.currentScript.previousElementSibling;\n",
       "    if (outputDiv.id !== \"altair-viz-cd506a8e6f4a49d3b5962cd912641018\") {\n",
       "      outputDiv = document.getElementById(\"altair-viz-cd506a8e6f4a49d3b5962cd912641018\");\n",
       "    }\n",
       "    const paths = {\n",
       "      \"vega\": \"https://cdn.jsdelivr.net/npm/vega@5?noext\",\n",
       "      \"vega-lib\": \"https://cdn.jsdelivr.net/npm/vega-lib?noext\",\n",
       "      \"vega-lite\": \"https://cdn.jsdelivr.net/npm/vega-lite@5.8.0?noext\",\n",
       "      \"vega-embed\": \"https://cdn.jsdelivr.net/npm/vega-embed@6?noext\",\n",
       "    };\n",
       "\n",
       "    function maybeLoadScript(lib, version) {\n",
       "      var key = `${lib.replace(\"-\", \"\")}_version`;\n",
       "      return (VEGA_DEBUG[key] == version) ?\n",
       "        Promise.resolve(paths[lib]) :\n",
       "        new Promise(function(resolve, reject) {\n",
       "          var s = document.createElement('script');\n",
       "          document.getElementsByTagName(\"head\")[0].appendChild(s);\n",
       "          s.async = true;\n",
       "          s.onload = () => {\n",
       "            VEGA_DEBUG[key] = version;\n",
       "            return resolve(paths[lib]);\n",
       "          };\n",
       "          s.onerror = () => reject(`Error loading script: ${paths[lib]}`);\n",
       "          s.src = paths[lib];\n",
       "        });\n",
       "    }\n",
       "\n",
       "    function showError(err) {\n",
       "      outputDiv.innerHTML = `<div class=\"error\" style=\"color:red;\">${err}</div>`;\n",
       "      throw err;\n",
       "    }\n",
       "\n",
       "    function displayChart(vegaEmbed) {\n",
       "      vegaEmbed(outputDiv, spec, embedOpt)\n",
       "        .catch(err => showError(`Javascript Error: ${err.message}<br>This usually means there's a typo in your chart specification. See the javascript console for the full traceback.`));\n",
       "    }\n",
       "\n",
       "    if(typeof define === \"function\" && define.amd) {\n",
       "      requirejs.config({paths});\n",
       "      require([\"vega-embed\"], displayChart, err => showError(`Error loading script: ${err.message}`));\n",
       "    } else {\n",
       "      maybeLoadScript(\"vega\", \"5\")\n",
       "        .then(() => maybeLoadScript(\"vega-lite\", \"5.8.0\"))\n",
       "        .then(() => maybeLoadScript(\"vega-embed\", \"6\"))\n",
       "        .catch(showError)\n",
       "        .then(() => displayChart(vegaEmbed));\n",
       "    }\n",
       "  })({\"usermeta\": {\"embedOptions\": {\"theme\": \"fivethirtyeight\"}}, \"config\": {\"view\": {\"continuousWidth\": 300, \"continuousHeight\": 300}}, \"layer\": [{\"mark\": {\"type\": \"line\", \"strokeWidth\": 2}, \"encoding\": {\"color\": {\"field\": \"label\", \"legend\": {\"title\": \"Line Type\"}, \"type\": \"nominal\"}, \"tooltip\": [{\"field\": \"date\", \"type\": \"temporal\"}, {\"field\": \"y_test\", \"type\": \"quantitative\"}, {\"field\": \"y_pred\", \"type\": \"quantitative\"}], \"x\": {\"field\": \"date\", \"type\": \"temporal\"}, \"y\": {\"field\": \"y_test\", \"scale\": {\"zero\": false}, \"title\": \"Price\", \"type\": \"quantitative\"}}, \"name\": \"view_1\"}, {\"mark\": {\"type\": \"line\", \"strokeDash\": [3, 3], \"strokeWidth\": 1}, \"encoding\": {\"color\": {\"field\": \"predicted_label\", \"legend\": {\"title\": \"Line Type\"}, \"type\": \"nominal\"}, \"tooltip\": [{\"field\": \"date\", \"type\": \"temporal\"}, {\"field\": \"y_test\", \"type\": \"quantitative\"}, {\"field\": \"y_pred\", \"type\": \"quantitative\"}], \"x\": {\"field\": \"date\", \"type\": \"temporal\"}, \"y\": {\"field\": \"y_pred\", \"scale\": {\"zero\": false}, \"title\": \"\", \"type\": \"quantitative\"}}}], \"data\": {\"name\": \"data-b46703bfb1457d10b49a2d80dce9c3bc\"}, \"height\": 400, \"params\": [{\"name\": \"param_1\", \"select\": {\"type\": \"interval\", \"encodings\": [\"x\", \"y\"]}, \"bind\": \"scales\", \"views\": [\"view_1\"]}], \"title\": \"Actual vs Predicted High Prices\", \"width\": 650, \"$schema\": \"https://vega.github.io/schema/vega-lite/v5.8.0.json\", \"datasets\": {\"data-b46703bfb1457d10b49a2d80dce9c3bc\": [{\"date\": \"2020-06-23T00:00:00\", \"y_test\": 40.29999923706054, \"y_pred\": 39.760081990143085, \"label\": \"Actual\", \"predicted_label\": \"Predicted\"}, {\"date\": \"2020-06-24T00:00:00\", \"y_test\": 41.0, \"y_pred\": 41.014731250757066, \"label\": \"Actual\", \"predicted_label\": \"Predicted\"}, {\"date\": \"2020-06-25T00:00:00\", \"y_test\": 36.75, \"y_pred\": 37.666187342835, \"label\": \"Actual\", \"predicted_label\": \"Predicted\"}, {\"date\": \"2020-06-26T00:00:00\", \"y_test\": 36.95000076293945, \"y_pred\": 37.01488096590859, \"label\": \"Actual\", \"predicted_label\": \"Predicted\"}, {\"date\": \"2020-06-29T00:00:00\", \"y_test\": 36.0, \"y_pred\": 36.4747856832382, \"label\": \"Actual\", \"predicted_label\": \"Predicted\"}, {\"date\": \"2020-06-30T00:00:00\", \"y_test\": 36.25, \"y_pred\": 36.43552934332504, \"label\": \"Actual\", \"predicted_label\": \"Predicted\"}, {\"date\": \"2020-07-01T00:00:00\", \"y_test\": 36.09999847412109, \"y_pred\": 35.33173169643535, \"label\": \"Actual\", \"predicted_label\": \"Predicted\"}, {\"date\": \"2020-07-02T00:00:00\", \"y_test\": 36.400001525878906, \"y_pred\": 36.75725982665691, \"label\": \"Actual\", \"predicted_label\": \"Predicted\"}, {\"date\": \"2020-07-06T00:00:00\", \"y_test\": 35.650001525878906, \"y_pred\": 36.56640306375677, \"label\": \"Actual\", \"predicted_label\": \"Predicted\"}, {\"date\": \"2020-07-07T00:00:00\", \"y_test\": 35.5, \"y_pred\": 36.0360667601785, \"label\": \"Actual\", \"predicted_label\": \"Predicted\"}, {\"date\": \"2020-07-08T00:00:00\", \"y_test\": 35.54999923706054, \"y_pred\": 35.76449173127371, \"label\": \"Actual\", \"predicted_label\": \"Predicted\"}, {\"date\": \"2020-07-09T00:00:00\", \"y_test\": 34.79999923706055, \"y_pred\": 35.82714975796822, \"label\": \"Actual\", \"predicted_label\": \"Predicted\"}, {\"date\": \"2020-07-10T00:00:00\", \"y_test\": 35.25, \"y_pred\": 35.22882890987735, \"label\": \"Actual\", \"predicted_label\": \"Predicted\"}, {\"date\": \"2020-07-13T00:00:00\", \"y_test\": 35.849998474121094, \"y_pred\": 36.38352040262166, \"label\": \"Actual\", \"predicted_label\": \"Predicted\"}, {\"date\": \"2020-07-14T00:00:00\", \"y_test\": 38.20000076293946, \"y_pred\": 36.420945826410815, \"label\": \"Actual\", \"predicted_label\": \"Predicted\"}, {\"date\": \"2020-07-15T00:00:00\", \"y_test\": 38.34999847412109, \"y_pred\": 38.62658524839332, \"label\": \"Actual\", \"predicted_label\": \"Predicted\"}, {\"date\": \"2020-07-16T00:00:00\", \"y_test\": 35.75, \"y_pred\": 36.53494751047296, \"label\": \"Actual\", \"predicted_label\": \"Predicted\"}, {\"date\": \"2020-07-17T00:00:00\", \"y_test\": 36.0, \"y_pred\": 35.27401448545214, \"label\": \"Actual\", \"predicted_label\": \"Predicted\"}, {\"date\": \"2020-07-20T00:00:00\", \"y_test\": 37.50000000000001, \"y_pred\": 37.47605722960773, \"label\": \"Actual\", \"predicted_label\": \"Predicted\"}, {\"date\": \"2020-07-21T00:00:00\", \"y_test\": 40.650001525878906, \"y_pred\": 38.616565039701285, \"label\": \"Actual\", \"predicted_label\": \"Predicted\"}, {\"date\": \"2020-07-22T00:00:00\", \"y_test\": 41.70000076293945, \"y_pred\": 40.64723173054845, \"label\": \"Actual\", \"predicted_label\": \"Predicted\"}, {\"date\": \"2020-07-23T00:00:00\", \"y_test\": 37.09999847412109, \"y_pred\": 37.152680942463526, \"label\": \"Actual\", \"predicted_label\": \"Predicted\"}, {\"date\": \"2020-07-24T00:00:00\", \"y_test\": 36.70000076293945, \"y_pred\": 37.5111294685982, \"label\": \"Actual\", \"predicted_label\": \"Predicted\"}, {\"date\": \"2020-07-27T00:00:00\", \"y_test\": 36.79999923706055, \"y_pred\": 37.94106769716721, \"label\": \"Actual\", \"predicted_label\": \"Predicted\"}, {\"date\": \"2020-07-28T00:00:00\", \"y_test\": 35.29999923706055, \"y_pred\": 36.006937808053486, \"label\": \"Actual\", \"predicted_label\": \"Predicted\"}, {\"date\": \"2020-07-29T00:00:00\", \"y_test\": 34.900001525878906, \"y_pred\": 35.476958354590366, \"label\": \"Actual\", \"predicted_label\": \"Predicted\"}, {\"date\": \"2020-07-30T00:00:00\", \"y_test\": 34.900001525878906, \"y_pred\": 35.00929425016504, \"label\": \"Actual\", \"predicted_label\": \"Predicted\"}, {\"date\": \"2020-07-31T00:00:00\", \"y_test\": 34.349998474121094, \"y_pred\": 34.66449072163651, \"label\": \"Actual\", \"predicted_label\": \"Predicted\"}, {\"date\": \"2020-08-03T00:00:00\", \"y_test\": 33.29999923706055, \"y_pred\": 34.26669292102401, \"label\": \"Actual\", \"predicted_label\": \"Predicted\"}, {\"date\": \"2020-08-04T00:00:00\", \"y_test\": 36.09999847412109, \"y_pred\": 33.79636674220902, \"label\": \"Actual\", \"predicted_label\": \"Predicted\"}, {\"date\": \"2020-08-05T00:00:00\", \"y_test\": 36.54999923706055, \"y_pred\": 36.88774408198342, \"label\": \"Actual\", \"predicted_label\": \"Predicted\"}, {\"date\": \"2020-08-06T00:00:00\", \"y_test\": 34.599998474121094, \"y_pred\": 35.17578145788858, \"label\": \"Actual\", \"predicted_label\": \"Predicted\"}, {\"date\": \"2020-08-07T00:00:00\", \"y_test\": 34.75, \"y_pred\": 34.25167453567612, \"label\": \"Actual\", \"predicted_label\": \"Predicted\"}, {\"date\": \"2020-08-10T00:00:00\", \"y_test\": 34.25, \"y_pred\": 34.79482890144751, \"label\": \"Actual\", \"predicted_label\": \"Predicted\"}, {\"date\": \"2020-08-11T00:00:00\", \"y_test\": 34.79999923706055, \"y_pred\": 34.50045280111697, \"label\": \"Actual\", \"predicted_label\": \"Predicted\"}, {\"date\": \"2020-08-12T00:00:00\", \"y_test\": 34.29999923706055, \"y_pred\": 34.82686112259942, \"label\": \"Actual\", \"predicted_label\": \"Predicted\"}, {\"date\": \"2020-08-13T00:00:00\", \"y_test\": 34.150001525878906, \"y_pred\": 34.48369721018248, \"label\": \"Actual\", \"predicted_label\": \"Predicted\"}, {\"date\": \"2020-08-14T00:00:00\", \"y_test\": 34.099998474121094, \"y_pred\": 34.62492818726499, \"label\": \"Actual\", \"predicted_label\": \"Predicted\"}, {\"date\": \"2020-08-17T00:00:00\", \"y_test\": 33.400001525878906, \"y_pred\": 33.80961555352439, \"label\": \"Actual\", \"predicted_label\": \"Predicted\"}, {\"date\": \"2020-08-18T00:00:00\", \"y_test\": 34.650001525878906, \"y_pred\": 33.732792940846686, \"label\": \"Actual\", \"predicted_label\": \"Predicted\"}, {\"date\": \"2020-08-19T00:00:00\", \"y_test\": 34.29999923706055, \"y_pred\": 34.814066467001275, \"label\": \"Actual\", \"predicted_label\": \"Predicted\"}, {\"date\": \"2020-08-20T00:00:00\", \"y_test\": 35.599998474121094, \"y_pred\": 33.77763193494908, \"label\": \"Actual\", \"predicted_label\": \"Predicted\"}, {\"date\": \"2020-08-21T00:00:00\", \"y_test\": 35.650001525878906, \"y_pred\": 35.49198746039829, \"label\": \"Actual\", \"predicted_label\": \"Predicted\"}, {\"date\": \"2020-08-24T00:00:00\", \"y_test\": 35.599998474121094, \"y_pred\": 35.81644561278322, \"label\": \"Actual\", \"predicted_label\": \"Predicted\"}, {\"date\": \"2020-08-25T00:00:00\", \"y_test\": 34.150001525878906, \"y_pred\": 34.8681497027516, \"label\": \"Actual\", \"predicted_label\": \"Predicted\"}, {\"date\": \"2020-08-26T00:00:00\", \"y_test\": 35.20000076293945, \"y_pred\": 34.487635505752195, \"label\": \"Actual\", \"predicted_label\": \"Predicted\"}, {\"date\": \"2020-08-27T00:00:00\", \"y_test\": 34.75, \"y_pred\": 35.034467435614644, \"label\": \"Actual\", \"predicted_label\": \"Predicted\"}, {\"date\": \"2020-08-28T00:00:00\", \"y_test\": 34.5, \"y_pred\": 35.09206660614226, \"label\": \"Actual\", \"predicted_label\": \"Predicted\"}, {\"date\": \"2020-08-31T00:00:00\", \"y_test\": 34.150001525878906, \"y_pred\": 34.56753421490615, \"label\": \"Actual\", \"predicted_label\": \"Predicted\"}, {\"date\": \"2020-09-01T00:00:00\", \"y_test\": 31.950000762939453, \"y_pred\": 32.99295796517026, \"label\": \"Actual\", \"predicted_label\": \"Predicted\"}, {\"date\": \"2020-09-02T00:00:00\", \"y_test\": 32.79999923706055, \"y_pred\": 32.282382314542325, \"label\": \"Actual\", \"predicted_label\": \"Predicted\"}, {\"date\": \"2020-09-03T00:00:00\", \"y_test\": 33.20000076293945, \"y_pred\": 33.09790765767725, \"label\": \"Actual\", \"predicted_label\": \"Predicted\"}, {\"date\": \"2020-09-04T00:00:00\", \"y_test\": 32.25, \"y_pred\": 31.499865588773, \"label\": \"Actual\", \"predicted_label\": \"Predicted\"}, {\"date\": \"2020-09-07T00:00:00\", \"y_test\": 30.700000762939453, \"y_pred\": 31.144871227238163, \"label\": \"Actual\", \"predicted_label\": \"Predicted\"}, {\"date\": \"2020-09-08T00:00:00\", \"y_test\": 31.100000381469723, \"y_pred\": 30.961988240694577, \"label\": \"Actual\", \"predicted_label\": \"Predicted\"}, {\"date\": \"2020-09-09T00:00:00\", \"y_test\": 30.200000762939453, \"y_pred\": 30.472079324419663, \"label\": \"Actual\", \"predicted_label\": \"Predicted\"}, {\"date\": \"2020-09-10T00:00:00\", \"y_test\": 31.450000762939453, \"y_pred\": 30.45446373631641, \"label\": \"Actual\", \"predicted_label\": \"Predicted\"}, {\"date\": \"2020-09-11T00:00:00\", \"y_test\": 31.200000762939453, \"y_pred\": 31.482542622084843, \"label\": \"Actual\", \"predicted_label\": \"Predicted\"}, {\"date\": \"2020-09-14T00:00:00\", \"y_test\": 31.799999237060547, \"y_pred\": 31.33750124367573, \"label\": \"Actual\", \"predicted_label\": \"Predicted\"}, {\"date\": \"2020-09-15T00:00:00\", \"y_test\": 31.799999237060547, \"y_pred\": 31.979307708764185, \"label\": \"Actual\", \"predicted_label\": \"Predicted\"}, {\"date\": \"2020-09-16T00:00:00\", \"y_test\": 31.75, \"y_pred\": 32.1979353566873, \"label\": \"Actual\", \"predicted_label\": \"Predicted\"}, {\"date\": \"2020-09-17T00:00:00\", \"y_test\": 32.5, \"y_pred\": 31.343781315763877, \"label\": \"Actual\", \"predicted_label\": \"Predicted\"}, {\"date\": \"2020-09-18T00:00:00\", \"y_test\": 33.20000076293945, \"y_pred\": 32.82580916197046, \"label\": \"Actual\", \"predicted_label\": \"Predicted\"}, {\"date\": \"2020-09-21T00:00:00\", \"y_test\": 32.5, \"y_pred\": 32.71818172737929, \"label\": \"Actual\", \"predicted_label\": \"Predicted\"}, {\"date\": \"2020-09-22T00:00:00\", \"y_test\": 30.049999237060547, \"y_pred\": 30.795658507140406, \"label\": \"Actual\", \"predicted_label\": \"Predicted\"}, {\"date\": \"2020-09-23T00:00:00\", \"y_test\": 30.350000381469727, \"y_pred\": 30.38155745510122, \"label\": \"Actual\", \"predicted_label\": \"Predicted\"}, {\"date\": \"2020-09-24T00:00:00\", \"y_test\": 29.049999237060547, \"y_pred\": 30.036386863255604, \"label\": \"Actual\", \"predicted_label\": \"Predicted\"}, {\"date\": \"2020-09-25T00:00:00\", \"y_test\": 29.25, \"y_pred\": 29.106057501127193, \"label\": \"Actual\", \"predicted_label\": \"Predicted\"}, {\"date\": \"2020-09-28T00:00:00\", \"y_test\": 29.499999999999996, \"y_pred\": 29.569353152640854, \"label\": \"Actual\", \"predicted_label\": \"Predicted\"}, {\"date\": \"2020-09-29T00:00:00\", \"y_test\": 29.200000762939453, \"y_pred\": 29.645316208718214, \"label\": \"Actual\", \"predicted_label\": \"Predicted\"}, {\"date\": \"2020-09-30T00:00:00\", \"y_test\": 28.799999237060547, \"y_pred\": 29.289226069168677, \"label\": \"Actual\", \"predicted_label\": \"Predicted\"}, {\"date\": \"2020-10-01T00:00:00\", \"y_test\": 29.200000762939453, \"y_pred\": 29.304756792370206, \"label\": \"Actual\", \"predicted_label\": \"Predicted\"}, {\"date\": \"2020-10-05T00:00:00\", \"y_test\": 31.600000381469727, \"y_pred\": 29.3143589365867, \"label\": \"Actual\", \"predicted_label\": \"Predicted\"}, {\"date\": \"2020-10-06T00:00:00\", \"y_test\": 32.650001525878906, \"y_pred\": 32.208352936878285, \"label\": \"Actual\", \"predicted_label\": \"Predicted\"}, {\"date\": \"2020-10-07T00:00:00\", \"y_test\": 32.400001525878906, \"y_pred\": 33.14072170676946, \"label\": \"Actual\", \"predicted_label\": \"Predicted\"}, {\"date\": \"2020-10-08T00:00:00\", \"y_test\": 31.700000762939453, \"y_pred\": 31.45853242191485, \"label\": \"Actual\", \"predicted_label\": \"Predicted\"}, {\"date\": \"2020-10-09T00:00:00\", \"y_test\": 30.5, \"y_pred\": 31.031283466932393, \"label\": \"Actual\", \"predicted_label\": \"Predicted\"}, {\"date\": \"2020-10-12T00:00:00\", \"y_test\": 31.29999923706055, \"y_pred\": 30.909220532029675, \"label\": \"Actual\", \"predicted_label\": \"Predicted\"}, {\"date\": \"2020-10-13T00:00:00\", \"y_test\": 30.549999237060547, \"y_pred\": 30.66029781357844, \"label\": \"Actual\", \"predicted_label\": \"Predicted\"}, {\"date\": \"2020-10-14T00:00:00\", \"y_test\": 29.950000762939453, \"y_pred\": 30.565642096653825, \"label\": \"Actual\", \"predicted_label\": \"Predicted\"}, {\"date\": \"2020-10-15T00:00:00\", \"y_test\": 29.85000038146973, \"y_pred\": 30.398314740629182, \"label\": \"Actual\", \"predicted_label\": \"Predicted\"}, {\"date\": \"2020-10-16T00:00:00\", \"y_test\": 29.35000038146973, \"y_pred\": 29.524441260549793, \"label\": \"Actual\", \"predicted_label\": \"Predicted\"}, {\"date\": \"2020-10-19T00:00:00\", \"y_test\": 29.0, \"y_pred\": 29.381050157867076, \"label\": \"Actual\", \"predicted_label\": \"Predicted\"}, {\"date\": \"2020-10-20T00:00:00\", \"y_test\": 28.549999237060547, \"y_pred\": 28.48639814421034, \"label\": \"Actual\", \"predicted_label\": \"Predicted\"}, {\"date\": \"2020-10-21T00:00:00\", \"y_test\": 28.549999237060547, \"y_pred\": 28.44229725928265, \"label\": \"Actual\", \"predicted_label\": \"Predicted\"}, {\"date\": \"2020-10-22T00:00:00\", \"y_test\": 29.649999618530277, \"y_pred\": 28.54497795357145, \"label\": \"Actual\", \"predicted_label\": \"Predicted\"}, {\"date\": \"2020-10-23T00:00:00\", \"y_test\": 30.64999961853028, \"y_pred\": 29.84920815686438, \"label\": \"Actual\", \"predicted_label\": \"Predicted\"}, {\"date\": \"2020-10-26T00:00:00\", \"y_test\": 30.549999237060543, \"y_pred\": 30.70157487816839, \"label\": \"Actual\", \"predicted_label\": \"Predicted\"}, {\"date\": \"2020-10-27T00:00:00\", \"y_test\": 30.200000762939453, \"y_pred\": 30.387532195879515, \"label\": \"Actual\", \"predicted_label\": \"Predicted\"}, {\"date\": \"2020-10-28T00:00:00\", \"y_test\": 31.149999618530277, \"y_pred\": 30.274450238263732, \"label\": \"Actual\", \"predicted_label\": \"Predicted\"}, {\"date\": \"2020-10-29T00:00:00\", \"y_test\": 29.5, \"y_pred\": 30.67802824986861, \"label\": \"Actual\", \"predicted_label\": \"Predicted\"}, {\"date\": \"2020-10-30T00:00:00\", \"y_test\": 29.5, \"y_pred\": 29.85292113167001, \"label\": \"Actual\", \"predicted_label\": \"Predicted\"}, {\"date\": \"2020-11-02T00:00:00\", \"y_test\": 29.89999961853028, \"y_pred\": 29.331500524827064, \"label\": \"Actual\", \"predicted_label\": \"Predicted\"}, {\"date\": \"2020-11-03T00:00:00\", \"y_test\": 28.39999961853028, \"y_pred\": 28.614761166728023, \"label\": \"Actual\", \"predicted_label\": \"Predicted\"}, {\"date\": \"2020-11-04T00:00:00\", \"y_test\": 28.299999237060547, \"y_pred\": 28.624135841038967, \"label\": \"Actual\", \"predicted_label\": \"Predicted\"}, {\"date\": \"2020-11-05T00:00:00\", \"y_test\": 28.399999618530284, \"y_pred\": 28.595633580003863, \"label\": \"Actual\", \"predicted_label\": \"Predicted\"}, {\"date\": \"2020-11-06T00:00:00\", \"y_test\": 28.600000381469727, \"y_pred\": 28.566327239306464, \"label\": \"Actual\", \"predicted_label\": \"Predicted\"}, {\"date\": \"2020-11-09T00:00:00\", \"y_test\": 28.35000038146973, \"y_pred\": 28.3972699193407, \"label\": \"Actual\", \"predicted_label\": \"Predicted\"}, {\"date\": \"2020-11-10T00:00:00\", \"y_test\": 28.25, \"y_pred\": 28.118583650878172, \"label\": \"Actual\", \"predicted_label\": \"Predicted\"}, {\"date\": \"2020-11-11T00:00:00\", \"y_test\": 28.100000381469723, \"y_pred\": 28.156963273942946, \"label\": \"Actual\", \"predicted_label\": \"Predicted\"}, {\"date\": \"2020-11-12T00:00:00\", \"y_test\": 28.70000076293945, \"y_pred\": 28.331644305627893, \"label\": \"Actual\", \"predicted_label\": \"Predicted\"}, {\"date\": \"2020-11-13T00:00:00\", \"y_test\": 29.200000762939453, \"y_pred\": 28.73826879073016, \"label\": \"Actual\", \"predicted_label\": \"Predicted\"}, {\"date\": \"2020-11-14T00:00:00\", \"y_test\": 29.299999237060543, \"y_pred\": 29.466500928832538, \"label\": \"Actual\", \"predicted_label\": \"Predicted\"}, {\"date\": \"2020-11-17T00:00:00\", \"y_test\": 29.25, \"y_pred\": 29.52696596821026, \"label\": \"Actual\", \"predicted_label\": \"Predicted\"}, {\"date\": \"2020-11-18T00:00:00\", \"y_test\": 29.799999237060547, \"y_pred\": 29.035653264715524, \"label\": \"Actual\", \"predicted_label\": \"Predicted\"}, {\"date\": \"2020-11-19T00:00:00\", \"y_test\": 31.549999237060547, \"y_pred\": 29.732400314405083, \"label\": \"Actual\", \"predicted_label\": \"Predicted\"}, {\"date\": \"2020-11-20T00:00:00\", \"y_test\": 31.70000076293945, \"y_pred\": 31.970410409244852, \"label\": \"Actual\", \"predicted_label\": \"Predicted\"}, {\"date\": \"2020-11-23T00:00:00\", \"y_test\": 30.79999923706055, \"y_pred\": 30.782515494866143, \"label\": \"Actual\", \"predicted_label\": \"Predicted\"}, {\"date\": \"2020-11-24T00:00:00\", \"y_test\": 30.85000038146973, \"y_pred\": 31.149918954325003, \"label\": \"Actual\", \"predicted_label\": \"Predicted\"}, {\"date\": \"2020-11-25T00:00:00\", \"y_test\": 30.39999961853028, \"y_pred\": 30.58301887007779, \"label\": \"Actual\", \"predicted_label\": \"Predicted\"}, {\"date\": \"2020-11-26T00:00:00\", \"y_test\": 29.999999999999996, \"y_pred\": 30.00948008775889, \"label\": \"Actual\", \"predicted_label\": \"Predicted\"}, {\"date\": \"2020-11-27T00:00:00\", \"y_test\": 30.399999618530284, \"y_pred\": 30.1093298999039, \"label\": \"Actual\", \"predicted_label\": \"Predicted\"}, {\"date\": \"2020-12-01T00:00:00\", \"y_test\": 32.099998474121094, \"y_pred\": 30.227075612503207, \"label\": \"Actual\", \"predicted_label\": \"Predicted\"}, {\"date\": \"2020-12-02T00:00:00\", \"y_test\": 32.599998474121094, \"y_pred\": 32.21017212770195, \"label\": \"Actual\", \"predicted_label\": \"Predicted\"}, {\"date\": \"2020-12-03T00:00:00\", \"y_test\": 33.900001525878906, \"y_pred\": 32.97660043129549, \"label\": \"Actual\", \"predicted_label\": \"Predicted\"}, {\"date\": \"2020-12-04T00:00:00\", \"y_test\": 34.099998474121094, \"y_pred\": 34.58315886349171, \"label\": \"Actual\", \"predicted_label\": \"Predicted\"}, {\"date\": \"2020-12-07T00:00:00\", \"y_test\": 33.349998474121094, \"y_pred\": 33.54178181641849, \"label\": \"Actual\", \"predicted_label\": \"Predicted\"}, {\"date\": \"2020-12-08T00:00:00\", \"y_test\": 33.45000076293945, \"y_pred\": 33.8009006615308, \"label\": \"Actual\", \"predicted_label\": \"Predicted\"}, {\"date\": \"2020-12-09T00:00:00\", \"y_test\": 32.400001525878906, \"y_pred\": 32.4663753426918, \"label\": \"Actual\", \"predicted_label\": \"Predicted\"}, {\"date\": \"2020-12-10T00:00:00\", \"y_test\": 32.0, \"y_pred\": 32.350213084630994, \"label\": \"Actual\", \"predicted_label\": \"Predicted\"}, {\"date\": \"2020-12-11T00:00:00\", \"y_test\": 32.099998474121094, \"y_pred\": 31.558945614275643, \"label\": \"Actual\", \"predicted_label\": \"Predicted\"}, {\"date\": \"2020-12-14T00:00:00\", \"y_test\": 32.0, \"y_pred\": 31.90390148476327, \"label\": \"Actual\", \"predicted_label\": \"Predicted\"}, {\"date\": \"2020-12-15T00:00:00\", \"y_test\": 31.950000762939453, \"y_pred\": 32.36328944340459, \"label\": \"Actual\", \"predicted_label\": \"Predicted\"}, {\"date\": \"2020-12-16T00:00:00\", \"y_test\": 33.25, \"y_pred\": 31.809727270742073, \"label\": \"Actual\", \"predicted_label\": \"Predicted\"}, {\"date\": \"2020-12-17T00:00:00\", \"y_test\": 34.099998474121094, \"y_pred\": 33.86636329225353, \"label\": \"Actual\", \"predicted_label\": \"Predicted\"}, {\"date\": \"2020-12-18T00:00:00\", \"y_test\": 32.599998474121094, \"y_pred\": 32.96893728688275, \"label\": \"Actual\", \"predicted_label\": \"Predicted\"}, {\"date\": \"2020-12-21T00:00:00\", \"y_test\": 32.5, \"y_pred\": 32.925277537144524, \"label\": \"Actual\", \"predicted_label\": \"Predicted\"}, {\"date\": \"2020-12-22T00:00:00\", \"y_test\": 30.600000381469727, \"y_pred\": 30.716206422355032, \"label\": \"Actual\", \"predicted_label\": \"Predicted\"}, {\"date\": \"2020-12-23T00:00:00\", \"y_test\": 31.100000381469723, \"y_pred\": 31.537478896857724, \"label\": \"Actual\", \"predicted_label\": \"Predicted\"}, {\"date\": \"2020-12-24T00:00:00\", \"y_test\": 32.150001525878906, \"y_pred\": 31.864212887071595, \"label\": \"Actual\", \"predicted_label\": \"Predicted\"}, {\"date\": \"2020-12-28T00:00:00\", \"y_test\": 31.899999618530277, \"y_pred\": 32.07814784551113, \"label\": \"Actual\", \"predicted_label\": \"Predicted\"}, {\"date\": \"2020-12-29T00:00:00\", \"y_test\": 31.799999237060547, \"y_pred\": 32.34866843812596, \"label\": \"Actual\", \"predicted_label\": \"Predicted\"}, {\"date\": \"2020-12-30T00:00:00\", \"y_test\": 31.39999961853028, \"y_pred\": 31.910282865163275, \"label\": \"Actual\", \"predicted_label\": \"Predicted\"}, {\"date\": \"2020-12-31T00:00:00\", \"y_test\": 31.350000381469727, \"y_pred\": 31.74044743660095, \"label\": \"Actual\", \"predicted_label\": \"Predicted\"}, {\"date\": \"2021-01-01T00:00:00\", \"y_test\": 31.70000076293945, \"y_pred\": 31.55714936442022, \"label\": \"Actual\", \"predicted_label\": \"Predicted\"}, {\"date\": \"2021-01-04T00:00:00\", \"y_test\": 31.75, \"y_pred\": 31.651330335369423, \"label\": \"Actual\", \"predicted_label\": \"Predicted\"}, {\"date\": \"2021-01-05T00:00:00\", \"y_test\": 31.14999961853028, \"y_pred\": 31.680585212043823, \"label\": \"Actual\", \"predicted_label\": \"Predicted\"}, {\"date\": \"2021-01-06T00:00:00\", \"y_test\": 31.350000381469723, \"y_pred\": 31.454402020352337, \"label\": \"Actual\", \"predicted_label\": \"Predicted\"}, {\"date\": \"2021-01-07T00:00:00\", \"y_test\": 31.200000762939453, \"y_pred\": 30.97309849352754, \"label\": \"Actual\", \"predicted_label\": \"Predicted\"}, {\"date\": \"2021-01-08T00:00:00\", \"y_test\": 31.999999999999996, \"y_pred\": 30.96093542986048, \"label\": \"Actual\", \"predicted_label\": \"Predicted\"}, {\"date\": \"2021-01-11T00:00:00\", \"y_test\": 32.5, \"y_pred\": 32.154514901487524, \"label\": \"Actual\", \"predicted_label\": \"Predicted\"}, {\"date\": \"2021-01-12T00:00:00\", \"y_test\": 33.20000076293945, \"y_pred\": 31.904753521861945, \"label\": \"Actual\", \"predicted_label\": \"Predicted\"}, {\"date\": \"2021-01-13T00:00:00\", \"y_test\": 33.5, \"y_pred\": 33.85829316547591, \"label\": \"Actual\", \"predicted_label\": \"Predicted\"}, {\"date\": \"2021-01-14T00:00:00\", \"y_test\": 32.70000076293945, \"y_pred\": 32.96183031769599, \"label\": \"Actual\", \"predicted_label\": \"Predicted\"}, {\"date\": \"2021-01-15T00:00:00\", \"y_test\": 32.29999923706055, \"y_pred\": 32.84273978457471, \"label\": \"Actual\", \"predicted_label\": \"Predicted\"}, {\"date\": \"2021-01-18T00:00:00\", \"y_test\": 31.450000762939453, \"y_pred\": 32.04681698891021, \"label\": \"Actual\", \"predicted_label\": \"Predicted\"}, {\"date\": \"2021-01-19T00:00:00\", \"y_test\": 32.20000076293945, \"y_pred\": 31.478719611453915, \"label\": \"Actual\", \"predicted_label\": \"Predicted\"}, {\"date\": \"2021-01-20T00:00:00\", \"y_test\": 32.95000076293945, \"y_pred\": 32.48795814843323, \"label\": \"Actual\", \"predicted_label\": \"Predicted\"}, {\"date\": \"2021-01-21T00:00:00\", \"y_test\": 32.0, \"y_pred\": 31.843352136638053, \"label\": \"Actual\", \"predicted_label\": \"Predicted\"}, {\"date\": \"2021-01-22T00:00:00\", \"y_test\": 30.600000381469723, \"y_pred\": 31.033349732562666, \"label\": \"Actual\", \"predicted_label\": \"Predicted\"}, {\"date\": \"2021-01-25T00:00:00\", \"y_test\": 30.0, \"y_pred\": 30.191223133447746, \"label\": \"Actual\", \"predicted_label\": \"Predicted\"}, {\"date\": \"2021-01-27T00:00:00\", \"y_test\": 29.450000762939453, \"y_pred\": 30.012263239963495, \"label\": \"Actual\", \"predicted_label\": \"Predicted\"}, {\"date\": \"2021-01-28T00:00:00\", \"y_test\": 29.450000762939453, \"y_pred\": 29.72442385426643, \"label\": \"Actual\", \"predicted_label\": \"Predicted\"}, {\"date\": \"2021-01-29T00:00:00\", \"y_test\": 28.999999999999996, \"y_pred\": 29.144831008074302, \"label\": \"Actual\", \"predicted_label\": \"Predicted\"}, {\"date\": \"2021-02-01T00:00:00\", \"y_test\": 28.5, \"y_pred\": 28.73382676391674, \"label\": \"Actual\", \"predicted_label\": \"Predicted\"}, {\"date\": \"2021-02-02T00:00:00\", \"y_test\": 28.64999961853028, \"y_pred\": 28.63322042809671, \"label\": \"Actual\", \"predicted_label\": \"Predicted\"}, {\"date\": \"2021-02-03T00:00:00\", \"y_test\": 29.149999618530284, \"y_pred\": 29.198532761669952, \"label\": \"Actual\", \"predicted_label\": \"Predicted\"}, {\"date\": \"2021-02-04T00:00:00\", \"y_test\": 31.5, \"y_pred\": 29.431785633959255, \"label\": \"Actual\", \"predicted_label\": \"Predicted\"}, {\"date\": \"2021-02-05T00:00:00\", \"y_test\": 31.299999237060547, \"y_pred\": 31.256577341337334, \"label\": \"Actual\", \"predicted_label\": \"Predicted\"}, {\"date\": \"2021-02-08T00:00:00\", \"y_test\": 31.29999923706055, \"y_pred\": 30.65364460376703, \"label\": \"Actual\", \"predicted_label\": \"Predicted\"}, {\"date\": \"2021-02-09T00:00:00\", \"y_test\": 30.799999237060547, \"y_pred\": 31.261958326942874, \"label\": \"Actual\", \"predicted_label\": \"Predicted\"}, {\"date\": \"2021-02-10T00:00:00\", \"y_test\": 30.450000762939453, \"y_pred\": 30.40073428968664, \"label\": \"Actual\", \"predicted_label\": \"Predicted\"}, {\"date\": \"2021-02-11T00:00:00\", \"y_test\": 30.70000076293945, \"y_pred\": 30.29926395017296, \"label\": \"Actual\", \"predicted_label\": \"Predicted\"}, {\"date\": \"2021-02-12T00:00:00\", \"y_test\": 30.39999961853028, \"y_pred\": 30.55462783971568, \"label\": \"Actual\", \"predicted_label\": \"Predicted\"}, {\"date\": \"2021-02-15T00:00:00\", \"y_test\": 30.649999618530277, \"y_pred\": 30.485179375925163, \"label\": \"Actual\", \"predicted_label\": \"Predicted\"}, {\"date\": \"2021-02-16T00:00:00\", \"y_test\": 30.350000381469723, \"y_pred\": 30.626162975360145, \"label\": \"Actual\", \"predicted_label\": \"Predicted\"}, {\"date\": \"2021-02-17T00:00:00\", \"y_test\": 30.149999618530277, \"y_pred\": 30.414318847093583, \"label\": \"Actual\", \"predicted_label\": \"Predicted\"}, {\"date\": \"2021-02-18T00:00:00\", \"y_test\": 30.39999961853028, \"y_pred\": 30.333283117199034, \"label\": \"Actual\", \"predicted_label\": \"Predicted\"}, {\"date\": \"2021-02-19T00:00:00\", \"y_test\": 31.25, \"y_pred\": 30.186436148590868, \"label\": \"Actual\", \"predicted_label\": \"Predicted\"}, {\"date\": \"2021-02-22T00:00:00\", \"y_test\": 30.350000381469723, \"y_pred\": 30.414179748689186, \"label\": \"Actual\", \"predicted_label\": \"Predicted\"}, {\"date\": \"2021-02-23T00:00:00\", \"y_test\": 29.600000381469727, \"y_pred\": 29.457385490159425, \"label\": \"Actual\", \"predicted_label\": \"Predicted\"}, {\"date\": \"2021-02-24T00:00:00\", \"y_test\": 29.700000762939453, \"y_pred\": 29.72999452398607, \"label\": \"Actual\", \"predicted_label\": \"Predicted\"}, {\"date\": \"2021-02-25T00:00:00\", \"y_test\": 30.399999618530277, \"y_pred\": 29.94559708605073, \"label\": \"Actual\", \"predicted_label\": \"Predicted\"}, {\"date\": \"2021-02-26T00:00:00\", \"y_test\": 29.64999961853028, \"y_pred\": 30.32274643299371, \"label\": \"Actual\", \"predicted_label\": \"Predicted\"}, {\"date\": \"2021-03-01T00:00:00\", \"y_test\": 32.95000076293945, \"y_pred\": 29.731545215461985, \"label\": \"Actual\", \"predicted_label\": \"Predicted\"}, {\"date\": \"2021-03-02T00:00:00\", \"y_test\": 33.400001525878906, \"y_pred\": 33.58558694849745, \"label\": \"Actual\", \"predicted_label\": \"Predicted\"}, {\"date\": \"2021-03-03T00:00:00\", \"y_test\": 33.25, \"y_pred\": 33.20588104730413, \"label\": \"Actual\", \"predicted_label\": \"Predicted\"}, {\"date\": \"2021-03-04T00:00:00\", \"y_test\": 32.650001525878906, \"y_pred\": 33.61812061342606, \"label\": \"Actual\", \"predicted_label\": \"Predicted\"}, {\"date\": \"2021-03-05T00:00:00\", \"y_test\": 35.20000076293945, \"y_pred\": 32.41991513046524, \"label\": \"Actual\", \"predicted_label\": \"Predicted\"}, {\"date\": \"2021-03-08T00:00:00\", \"y_test\": 36.400001525878906, \"y_pred\": 35.263441269282524, \"label\": \"Actual\", \"predicted_label\": \"Predicted\"}, {\"date\": \"2021-03-09T00:00:00\", \"y_test\": 36.400001525878906, \"y_pred\": 36.337372216715046, \"label\": \"Actual\", \"predicted_label\": \"Predicted\"}, {\"date\": \"2021-03-10T00:00:00\", \"y_test\": 35.900001525878906, \"y_pred\": 36.05429168355598, \"label\": \"Actual\", \"predicted_label\": \"Predicted\"}, {\"date\": \"2021-03-12T00:00:00\", \"y_test\": 36.25, \"y_pred\": 35.62909365283045, \"label\": \"Actual\", \"predicted_label\": \"Predicted\"}, {\"date\": \"2021-03-15T00:00:00\", \"y_test\": 35.45000076293945, \"y_pred\": 35.99345525668967, \"label\": \"Actual\", \"predicted_label\": \"Predicted\"}, {\"date\": \"2021-03-16T00:00:00\", \"y_test\": 34.70000076293945, \"y_pred\": 35.16351150174882, \"label\": \"Actual\", \"predicted_label\": \"Predicted\"}, {\"date\": \"2021-03-17T00:00:00\", \"y_test\": 34.25, \"y_pred\": 34.599291099417556, \"label\": \"Actual\", \"predicted_label\": \"Predicted\"}, {\"date\": \"2021-03-18T00:00:00\", \"y_test\": 32.54999923706055, \"y_pred\": 32.42992521582787, \"label\": \"Actual\", \"predicted_label\": \"Predicted\"}, {\"date\": \"2021-03-19T00:00:00\", \"y_test\": 31.450000762939453, \"y_pred\": 31.471430591144134, \"label\": \"Actual\", \"predicted_label\": \"Predicted\"}, {\"date\": \"2021-03-22T00:00:00\", \"y_test\": 31.75, \"y_pred\": 32.152352137408734, \"label\": \"Actual\", \"predicted_label\": \"Predicted\"}, {\"date\": \"2021-03-23T00:00:00\", \"y_test\": 31.850000381469723, \"y_pred\": 31.99975276881339, \"label\": \"Actual\", \"predicted_label\": \"Predicted\"}, {\"date\": \"2021-03-24T00:00:00\", \"y_test\": 31.64999961853028, \"y_pred\": 32.29546595997849, \"label\": \"Actual\", \"predicted_label\": \"Predicted\"}, {\"date\": \"2021-03-25T00:00:00\", \"y_test\": 30.5, \"y_pred\": 31.023086988526615, \"label\": \"Actual\", \"predicted_label\": \"Predicted\"}, {\"date\": \"2021-03-26T00:00:00\", \"y_test\": 30.450000762939457, \"y_pred\": 30.73877188011131, \"label\": \"Actual\", \"predicted_label\": \"Predicted\"}, {\"date\": \"2021-03-30T00:00:00\", \"y_test\": 30.0, \"y_pred\": 30.201818758000297, \"label\": \"Actual\", \"predicted_label\": \"Predicted\"}, {\"date\": \"2021-03-31T00:00:00\", \"y_test\": 30.149999618530277, \"y_pred\": 29.921998993815503, \"label\": \"Actual\", \"predicted_label\": \"Predicted\"}, {\"date\": \"2021-04-01T00:00:00\", \"y_test\": 29.350000381469723, \"y_pred\": 29.64714998767992, \"label\": \"Actual\", \"predicted_label\": \"Predicted\"}, {\"date\": \"2021-04-05T00:00:00\", \"y_test\": 29.700000762939453, \"y_pred\": 29.963312650548122, \"label\": \"Actual\", \"predicted_label\": \"Predicted\"}, {\"date\": \"2021-04-06T00:00:00\", \"y_test\": 28.95000076293945, \"y_pred\": 29.059646469912778, \"label\": \"Actual\", \"predicted_label\": \"Predicted\"}, {\"date\": \"2021-04-07T00:00:00\", \"y_test\": 29.25, \"y_pred\": 28.950498723912048, \"label\": \"Actual\", \"predicted_label\": \"Predicted\"}, {\"date\": \"2021-04-08T00:00:00\", \"y_test\": 29.549999237060547, \"y_pred\": 29.512190434787197, \"label\": \"Actual\", \"predicted_label\": \"Predicted\"}, {\"date\": \"2021-04-09T00:00:00\", \"y_test\": 29.350000381469727, \"y_pred\": 29.627759373108496, \"label\": \"Actual\", \"predicted_label\": \"Predicted\"}, {\"date\": \"2021-04-12T00:00:00\", \"y_test\": 28.39999961853028, \"y_pred\": 29.50900255196955, \"label\": \"Actual\", \"predicted_label\": \"Predicted\"}, {\"date\": \"2021-04-13T00:00:00\", \"y_test\": 27.250000000000004, \"y_pred\": 27.211288880746732, \"label\": \"Actual\", \"predicted_label\": \"Predicted\"}, {\"date\": \"2021-04-15T00:00:00\", \"y_test\": 27.850000381469727, \"y_pred\": 27.851477321371735, \"label\": \"Actual\", \"predicted_label\": \"Predicted\"}, {\"date\": \"2021-04-16T00:00:00\", \"y_test\": 28.350000381469727, \"y_pred\": 27.655282104513716, \"label\": \"Actual\", \"predicted_label\": \"Predicted\"}, {\"date\": \"2021-04-19T00:00:00\", \"y_test\": 28.0, \"y_pred\": 28.62474561081543, \"label\": \"Actual\", \"predicted_label\": \"Predicted\"}, {\"date\": \"2021-04-20T00:00:00\", \"y_test\": 28.350000381469723, \"y_pred\": 27.99310597632595, \"label\": \"Actual\", \"predicted_label\": \"Predicted\"}, {\"date\": \"2021-04-22T00:00:00\", \"y_test\": 33.04999923706055, \"y_pred\": 28.094019181632888, \"label\": \"Actual\", \"predicted_label\": \"Predicted\"}, {\"date\": \"2021-04-23T00:00:00\", \"y_test\": 35.849998474121094, \"y_pred\": 34.03689540771454, \"label\": \"Actual\", \"predicted_label\": \"Predicted\"}, {\"date\": \"2021-04-26T00:00:00\", \"y_test\": 34.75, \"y_pred\": 35.616656314418556, \"label\": \"Actual\", \"predicted_label\": \"Predicted\"}, {\"date\": \"2021-04-27T00:00:00\", \"y_test\": 34.650001525878906, \"y_pred\": 35.10086351381329, \"label\": \"Actual\", \"predicted_label\": \"Predicted\"}, {\"date\": \"2021-04-28T00:00:00\", \"y_test\": 34.45000076293945, \"y_pred\": 34.512402999479804, \"label\": \"Actual\", \"predicted_label\": \"Predicted\"}, {\"date\": \"2021-04-29T00:00:00\", \"y_test\": 34.25, \"y_pred\": 34.53135548771318, \"label\": \"Actual\", \"predicted_label\": \"Predicted\"}, {\"date\": \"2021-04-30T00:00:00\", \"y_test\": 34.45000076293945, \"y_pred\": 35.008020415794, \"label\": \"Actual\", \"predicted_label\": \"Predicted\"}, {\"date\": \"2021-05-03T00:00:00\", \"y_test\": 34.49999999999999, \"y_pred\": 34.84129201233639, \"label\": \"Actual\", \"predicted_label\": \"Predicted\"}, {\"date\": \"2021-05-04T00:00:00\", \"y_test\": 34.150001525878906, \"y_pred\": 34.434106250743554, \"label\": \"Actual\", \"predicted_label\": \"Predicted\"}, {\"date\": \"2021-05-05T00:00:00\", \"y_test\": 33.900001525878906, \"y_pred\": 34.03071522697833, \"label\": \"Actual\", \"predicted_label\": \"Predicted\"}, {\"date\": \"2021-05-06T00:00:00\", \"y_test\": 36.54999923706055, \"y_pred\": 33.8989150801068, \"label\": \"Actual\", \"predicted_label\": \"Predicted\"}, {\"date\": \"2021-05-07T00:00:00\", \"y_test\": 38.25, \"y_pred\": 37.43929973879225, \"label\": \"Actual\", \"predicted_label\": \"Predicted\"}, {\"date\": \"2021-05-10T00:00:00\", \"y_test\": 39.200000762939446, \"y_pred\": 37.0867174404783, \"label\": \"Actual\", \"predicted_label\": \"Predicted\"}, {\"date\": \"2021-05-11T00:00:00\", \"y_test\": 39.84999847412109, \"y_pred\": 39.6787041032241, \"label\": \"Actual\", \"predicted_label\": \"Predicted\"}, {\"date\": \"2021-05-12T00:00:00\", \"y_test\": 40.29999923706055, \"y_pred\": 40.715938101621795, \"label\": \"Actual\", \"predicted_label\": \"Predicted\"}, {\"date\": \"2021-05-14T00:00:00\", \"y_test\": 38.29999923706055, \"y_pred\": 38.87552472203854, \"label\": \"Actual\", \"predicted_label\": \"Predicted\"}, {\"date\": \"2021-05-17T00:00:00\", \"y_test\": 36.84999847412109, \"y_pred\": 37.359350045135486, \"label\": \"Actual\", \"predicted_label\": \"Predicted\"}, {\"date\": \"2021-05-18T00:00:00\", \"y_test\": 37.40000152587891, \"y_pred\": 37.28603007794619, \"label\": \"Actual\", \"predicted_label\": \"Predicted\"}, {\"date\": \"2021-05-19T00:00:00\", \"y_test\": 40.84999847412109, \"y_pred\": 37.697656283984195, \"label\": \"Actual\", \"predicted_label\": \"Predicted\"}, {\"date\": \"2021-05-20T00:00:00\", \"y_test\": 44.400001525878906, \"y_pred\": 41.70803087775656, \"label\": \"Actual\", \"predicted_label\": \"Predicted\"}, {\"date\": \"2021-05-21T00:00:00\", \"y_test\": 41.70000076293945, \"y_pred\": 41.12979924507703, \"label\": \"Actual\", \"predicted_label\": \"Predicted\"}, {\"date\": \"2021-05-24T00:00:00\", \"y_test\": 42.299999237060554, \"y_pred\": 42.06583305480798, \"label\": \"Actual\", \"predicted_label\": \"Predicted\"}, {\"date\": \"2021-05-25T00:00:00\", \"y_test\": 41.79999923706055, \"y_pred\": 41.00629259964695, \"label\": \"Actual\", \"predicted_label\": \"Predicted\"}, {\"date\": \"2021-05-26T00:00:00\", \"y_test\": 41.900001525878906, \"y_pred\": 42.265680900876575, \"label\": \"Actual\", \"predicted_label\": \"Predicted\"}, {\"date\": \"2021-05-27T00:00:00\", \"y_test\": 44.5, \"y_pred\": 42.514662857584625, \"label\": \"Actual\", \"predicted_label\": \"Predicted\"}, {\"date\": \"2021-05-28T00:00:00\", \"y_test\": 44.84999847412109, \"y_pred\": 45.2764147362929, \"label\": \"Actual\", \"predicted_label\": \"Predicted\"}, {\"date\": \"2021-05-31T00:00:00\", \"y_test\": 42.79999923706055, \"y_pred\": 43.84233833395612, \"label\": \"Actual\", \"predicted_label\": \"Predicted\"}, {\"date\": \"2021-06-01T00:00:00\", \"y_test\": 43.349998474121094, \"y_pred\": 43.36902390553744, \"label\": \"Actual\", \"predicted_label\": \"Predicted\"}, {\"date\": \"2021-06-02T00:00:00\", \"y_test\": 43.0, \"y_pred\": 42.39786007081794, \"label\": \"Actual\", \"predicted_label\": \"Predicted\"}, {\"date\": \"2021-06-03T00:00:00\", \"y_test\": 42.45000076293945, \"y_pred\": 43.60314156059645, \"label\": \"Actual\", \"predicted_label\": \"Predicted\"}, {\"date\": \"2021-06-04T00:00:00\", \"y_test\": 42.95000076293945, \"y_pred\": 42.74825761254513, \"label\": \"Actual\", \"predicted_label\": \"Predicted\"}, {\"date\": \"2021-06-07T00:00:00\", \"y_test\": 43.59999847412108, \"y_pred\": 43.13062065670163, \"label\": \"Actual\", \"predicted_label\": \"Predicted\"}, {\"date\": \"2021-06-08T00:00:00\", \"y_test\": 43.5, \"y_pred\": 44.033903006573475, \"label\": \"Actual\", \"predicted_label\": \"Predicted\"}, {\"date\": \"2021-06-09T00:00:00\", \"y_test\": 43.400001525878906, \"y_pred\": 43.63800106552214, \"label\": \"Actual\", \"predicted_label\": \"Predicted\"}, {\"date\": \"2021-06-10T00:00:00\", \"y_test\": 48.95000076293945, \"y_pred\": 42.60438268916523, \"label\": \"Actual\", \"predicted_label\": \"Predicted\"}, {\"date\": \"2021-06-11T00:00:00\", \"y_test\": 48.70000076293945, \"y_pred\": 49.70890209693431, \"label\": \"Actual\", \"predicted_label\": \"Predicted\"}, {\"date\": \"2021-06-14T00:00:00\", \"y_test\": 46.400001525878906, \"y_pred\": 47.81951971511652, \"label\": \"Actual\", \"predicted_label\": \"Predicted\"}, {\"date\": \"2021-06-15T00:00:00\", \"y_test\": 46.9000015258789, \"y_pred\": 47.397677346642915, \"label\": \"Actual\", \"predicted_label\": \"Predicted\"}, {\"date\": \"2021-06-16T00:00:00\", \"y_test\": 46.450000762939446, \"y_pred\": 47.154144209965, \"label\": \"Actual\", \"predicted_label\": \"Predicted\"}, {\"date\": \"2021-06-17T00:00:00\", \"y_test\": 45.400001525878906, \"y_pred\": 45.641189395408716, \"label\": \"Actual\", \"predicted_label\": \"Predicted\"}, {\"date\": \"2021-06-18T00:00:00\", \"y_test\": 44.84999847412108, \"y_pred\": 44.98340775317818, \"label\": \"Actual\", \"predicted_label\": \"Predicted\"}, {\"date\": \"2021-06-21T00:00:00\", \"y_test\": 46.900001525878906, \"y_pred\": 43.88632209941322, \"label\": \"Actual\", \"predicted_label\": \"Predicted\"}, {\"date\": \"2021-06-22T00:00:00\", \"y_test\": 47.299999237060554, \"y_pred\": 47.116504449168964, \"label\": \"Actual\", \"predicted_label\": \"Predicted\"}, {\"date\": \"2021-06-23T00:00:00\", \"y_test\": 46.25, \"y_pred\": 46.21094131248669, \"label\": \"Actual\", \"predicted_label\": \"Predicted\"}, {\"date\": \"2021-06-24T00:00:00\", \"y_test\": 46.24999999999999, \"y_pred\": 46.822058041355575, \"label\": \"Actual\", \"predicted_label\": \"Predicted\"}, {\"date\": \"2021-06-25T00:00:00\", \"y_test\": 45.5, \"y_pred\": 46.255842309136675, \"label\": \"Actual\", \"predicted_label\": \"Predicted\"}, {\"date\": \"2021-06-28T00:00:00\", \"y_test\": 44.70000076293945, \"y_pred\": 44.607806916997184, \"label\": \"Actual\", \"predicted_label\": \"Predicted\"}, {\"date\": \"2021-06-29T00:00:00\", \"y_test\": 44.650001525878906, \"y_pred\": 44.102409272418335, \"label\": \"Actual\", \"predicted_label\": \"Predicted\"}, {\"date\": \"2021-06-30T00:00:00\", \"y_test\": 44.25000000000001, \"y_pred\": 44.5664894096277, \"label\": \"Actual\", \"predicted_label\": \"Predicted\"}, {\"date\": \"2021-07-01T00:00:00\", \"y_test\": 43.84999847412108, \"y_pred\": 43.982263559738584, \"label\": \"Actual\", \"predicted_label\": \"Predicted\"}, {\"date\": \"2021-07-02T00:00:00\", \"y_test\": 43.79999923706055, \"y_pred\": 43.79883798617638, \"label\": \"Actual\", \"predicted_label\": \"Predicted\"}, {\"date\": \"2021-07-05T00:00:00\", \"y_test\": 43.54999923706055, \"y_pred\": 43.650751586515554, \"label\": \"Actual\", \"predicted_label\": \"Predicted\"}, {\"date\": \"2021-07-06T00:00:00\", \"y_test\": 42.95000076293946, \"y_pred\": 43.27726666575954, \"label\": \"Actual\", \"predicted_label\": \"Predicted\"}, {\"date\": \"2021-07-07T00:00:00\", \"y_test\": 43.09999847412109, \"y_pred\": 42.52616900725083, \"label\": \"Actual\", \"predicted_label\": \"Predicted\"}, {\"date\": \"2021-07-08T00:00:00\", \"y_test\": 43.04999923706055, \"y_pred\": 43.11221001549143, \"label\": \"Actual\", \"predicted_label\": \"Predicted\"}, {\"date\": \"2021-07-09T00:00:00\", \"y_test\": 42.29999923706055, \"y_pred\": 42.82075318919184, \"label\": \"Actual\", \"predicted_label\": \"Predicted\"}, {\"date\": \"2021-07-12T00:00:00\", \"y_test\": 42.65000152587891, \"y_pred\": 42.55406321646897, \"label\": \"Actual\", \"predicted_label\": \"Predicted\"}, {\"date\": \"2021-07-13T00:00:00\", \"y_test\": 42.29999923706055, \"y_pred\": 42.376147674224626, \"label\": \"Actual\", \"predicted_label\": \"Predicted\"}, {\"date\": \"2021-07-14T00:00:00\", \"y_test\": 41.50000000000001, \"y_pred\": 41.689651105887464, \"label\": \"Actual\", \"predicted_label\": \"Predicted\"}, {\"date\": \"2021-07-15T00:00:00\", \"y_test\": 42.84999847412109, \"y_pred\": 41.86077819209996, \"label\": \"Actual\", \"predicted_label\": \"Predicted\"}, {\"date\": \"2021-07-16T00:00:00\", \"y_test\": 42.900001525878906, \"y_pred\": 43.338671223774796, \"label\": \"Actual\", \"predicted_label\": \"Predicted\"}, {\"date\": \"2021-07-19T00:00:00\", \"y_test\": 41.95000076293945, \"y_pred\": 42.81483996552244, \"label\": \"Actual\", \"predicted_label\": \"Predicted\"}, {\"date\": \"2021-07-20T00:00:00\", \"y_test\": 41.95000076293945, \"y_pred\": 42.253532251287844, \"label\": \"Actual\", \"predicted_label\": \"Predicted\"}, {\"date\": \"2021-07-22T00:00:00\", \"y_test\": 43.45000076293946, \"y_pred\": 41.60361159393966, \"label\": \"Actual\", \"predicted_label\": \"Predicted\"}, {\"date\": \"2021-07-23T00:00:00\", \"y_test\": 41.95000076293945, \"y_pred\": 42.43999916881946, \"label\": \"Actual\", \"predicted_label\": \"Predicted\"}, {\"date\": \"2021-07-26T00:00:00\", \"y_test\": 41.0, \"y_pred\": 40.97963900318892, \"label\": \"Actual\", \"predicted_label\": \"Predicted\"}, {\"date\": \"2021-07-27T00:00:00\", \"y_test\": 39.04999923706055, \"y_pred\": 39.28096583877975, \"label\": \"Actual\", \"predicted_label\": \"Predicted\"}, {\"date\": \"2021-07-28T00:00:00\", \"y_test\": 38.400001525878906, \"y_pred\": 38.172626199110994, \"label\": \"Actual\", \"predicted_label\": \"Predicted\"}, {\"date\": \"2021-07-29T00:00:00\", \"y_test\": 39.09999847412109, \"y_pred\": 39.12897703148277, \"label\": \"Actual\", \"predicted_label\": \"Predicted\"}, {\"date\": \"2021-07-30T00:00:00\", \"y_test\": 39.599998474121094, \"y_pred\": 39.67255266652451, \"label\": \"Actual\", \"predicted_label\": \"Predicted\"}, {\"date\": \"2021-08-02T00:00:00\", \"y_test\": 39.650001525878906, \"y_pred\": 39.99514969107916, \"label\": \"Actual\", \"predicted_label\": \"Predicted\"}, {\"date\": \"2021-08-03T00:00:00\", \"y_test\": 39.29999923706055, \"y_pred\": 39.99770596117647, \"label\": \"Actual\", \"predicted_label\": \"Predicted\"}, {\"date\": \"2021-08-04T00:00:00\", \"y_test\": 38.900001525878906, \"y_pred\": 39.255769598686435, \"label\": \"Actual\", \"predicted_label\": \"Predicted\"}, {\"date\": \"2021-08-05T00:00:00\", \"y_test\": 37.650001525878906, \"y_pred\": 38.61807005099326, \"label\": \"Actual\", \"predicted_label\": \"Predicted\"}, {\"date\": \"2021-08-06T00:00:00\", \"y_test\": 37.5, \"y_pred\": 37.47001258219157, \"label\": \"Actual\", \"predicted_label\": \"Predicted\"}, {\"date\": \"2021-08-09T00:00:00\", \"y_test\": 40.20000076293945, \"y_pred\": 37.32023526578715, \"label\": \"Actual\", \"predicted_label\": \"Predicted\"}, {\"date\": \"2021-08-10T00:00:00\", \"y_test\": 39.99999999999999, \"y_pred\": 40.18931928247541, \"label\": \"Actual\", \"predicted_label\": \"Predicted\"}, {\"date\": \"2021-08-11T00:00:00\", \"y_test\": 38.400001525878906, \"y_pred\": 38.30586580061383, \"label\": \"Actual\", \"predicted_label\": \"Predicted\"}, {\"date\": \"2021-08-12T00:00:00\", \"y_test\": 39.09999847412109, \"y_pred\": 39.223030711912315, \"label\": \"Actual\", \"predicted_label\": \"Predicted\"}, {\"date\": \"2021-08-13T00:00:00\", \"y_test\": 38.79999923706055, \"y_pred\": 39.24318879536282, \"label\": \"Actual\", \"predicted_label\": \"Predicted\"}, {\"date\": \"2021-08-16T00:00:00\", \"y_test\": 38.0, \"y_pred\": 38.24067317021474, \"label\": \"Actual\", \"predicted_label\": \"Predicted\"}, {\"date\": \"2021-08-17T00:00:00\", \"y_test\": 37.200000762939446, \"y_pred\": 37.74794627992538, \"label\": \"Actual\", \"predicted_label\": \"Predicted\"}, {\"date\": \"2021-08-18T00:00:00\", \"y_test\": 37.400001525878906, \"y_pred\": 37.53417773689401, \"label\": \"Actual\", \"predicted_label\": \"Predicted\"}, {\"date\": \"2021-08-20T00:00:00\", \"y_test\": 36.54999923706055, \"y_pred\": 37.498883511264516, \"label\": \"Actual\", \"predicted_label\": \"Predicted\"}, {\"date\": \"2021-08-23T00:00:00\", \"y_test\": 35.400001525878906, \"y_pred\": 35.59828735669088, \"label\": \"Actual\", \"predicted_label\": \"Predicted\"}, {\"date\": \"2021-08-24T00:00:00\", \"y_test\": 34.79999923706055, \"y_pred\": 34.35403571844144, \"label\": \"Actual\", \"predicted_label\": \"Predicted\"}, {\"date\": \"2021-08-25T00:00:00\", \"y_test\": 35.70000076293945, \"y_pred\": 35.47207077492961, \"label\": \"Actual\", \"predicted_label\": \"Predicted\"}, {\"date\": \"2021-08-26T00:00:00\", \"y_test\": 35.79999923706055, \"y_pred\": 35.6395324276281, \"label\": \"Actual\", \"predicted_label\": \"Predicted\"}, {\"date\": \"2021-08-27T00:00:00\", \"y_test\": 34.900001525878906, \"y_pred\": 35.315898429983314, \"label\": \"Actual\", \"predicted_label\": \"Predicted\"}, {\"date\": \"2021-08-30T00:00:00\", \"y_test\": 34.95000076293945, \"y_pred\": 35.10762401904644, \"label\": \"Actual\", \"predicted_label\": \"Predicted\"}, {\"date\": \"2021-08-31T00:00:00\", \"y_test\": 35.349998474121094, \"y_pred\": 35.168475184554595, \"label\": \"Actual\", \"predicted_label\": \"Predicted\"}, {\"date\": \"2021-09-01T00:00:00\", \"y_test\": 35.45000076293945, \"y_pred\": 35.746998262228026, \"label\": \"Actual\", \"predicted_label\": \"Predicted\"}, {\"date\": \"2021-09-02T00:00:00\", \"y_test\": 36.09999847412109, \"y_pred\": 35.34775812570142, \"label\": \"Actual\", \"predicted_label\": \"Predicted\"}, {\"date\": \"2021-09-03T00:00:00\", \"y_test\": 37.04999923706055, \"y_pred\": 35.95811490650099, \"label\": \"Actual\", \"predicted_label\": \"Predicted\"}, {\"date\": \"2021-09-06T00:00:00\", \"y_test\": 37.5, \"y_pred\": 37.17622793063332, \"label\": \"Actual\", \"predicted_label\": \"Predicted\"}, {\"date\": \"2021-09-07T00:00:00\", \"y_test\": 36.54999923706055, \"y_pred\": 37.28177196163039, \"label\": \"Actual\", \"predicted_label\": \"Predicted\"}, {\"date\": \"2021-09-08T00:00:00\", \"y_test\": 36.29999923706055, \"y_pred\": 36.560286378239475, \"label\": \"Actual\", \"predicted_label\": \"Predicted\"}, {\"date\": \"2021-09-09T00:00:00\", \"y_test\": 36.0, \"y_pred\": 36.36227909167291, \"label\": \"Actual\", \"predicted_label\": \"Predicted\"}, {\"date\": \"2021-09-13T00:00:00\", \"y_test\": 36.70000076293945, \"y_pred\": 36.20553114974203, \"label\": \"Actual\", \"predicted_label\": \"Predicted\"}, {\"date\": \"2021-09-14T00:00:00\", \"y_test\": 40.400001525878906, \"y_pred\": 36.7372949183857, \"label\": \"Actual\", \"predicted_label\": \"Predicted\"}, {\"date\": \"2021-09-15T00:00:00\", \"y_test\": 41.24999999999999, \"y_pred\": 41.02858502561424, \"label\": \"Actual\", \"predicted_label\": \"Predicted\"}, {\"date\": \"2021-09-16T00:00:00\", \"y_test\": 39.150001525878906, \"y_pred\": 39.83449753880761, \"label\": \"Actual\", \"predicted_label\": \"Predicted\"}, {\"date\": \"2021-09-17T00:00:00\", \"y_test\": 38.5, \"y_pred\": 39.38225304145958, \"label\": \"Actual\", \"predicted_label\": \"Predicted\"}, {\"date\": \"2021-09-20T00:00:00\", \"y_test\": 38.54999923706055, \"y_pred\": 38.032531969559, \"label\": \"Actual\", \"predicted_label\": \"Predicted\"}, {\"date\": \"2021-09-21T00:00:00\", \"y_test\": 37.150001525878906, \"y_pred\": 37.81811087241513, \"label\": \"Actual\", \"predicted_label\": \"Predicted\"}, {\"date\": \"2021-09-22T00:00:00\", \"y_test\": 40.400001525878906, \"y_pred\": 37.60391722824044, \"label\": \"Actual\", \"predicted_label\": \"Predicted\"}, {\"date\": \"2021-09-23T00:00:00\", \"y_test\": 40.150001525878906, \"y_pred\": 39.93941906996257, \"label\": \"Actual\", \"predicted_label\": \"Predicted\"}, {\"date\": \"2021-09-24T00:00:00\", \"y_test\": 39.29999923706055, \"y_pred\": 39.90002114497641, \"label\": \"Actual\", \"predicted_label\": \"Predicted\"}, {\"date\": \"2021-09-27T00:00:00\", \"y_test\": 38.24999999999999, \"y_pred\": 39.06292412546357, \"label\": \"Actual\", \"predicted_label\": \"Predicted\"}, {\"date\": \"2021-09-28T00:00:00\", \"y_test\": 39.29999923706055, \"y_pred\": 38.71687652006217, \"label\": \"Actual\", \"predicted_label\": \"Predicted\"}, {\"date\": \"2021-09-29T00:00:00\", \"y_test\": 39.400001525878906, \"y_pred\": 38.96442690385071, \"label\": \"Actual\", \"predicted_label\": \"Predicted\"}, {\"date\": \"2021-09-30T00:00:00\", \"y_test\": 39.20000076293945, \"y_pred\": 39.433689223953756, \"label\": \"Actual\", \"predicted_label\": \"Predicted\"}, {\"date\": \"2021-10-01T00:00:00\", \"y_test\": 41.84999847412109, \"y_pred\": 38.81300958577405, \"label\": \"Actual\", \"predicted_label\": \"Predicted\"}, {\"date\": \"2021-10-04T00:00:00\", \"y_test\": 44.5, \"y_pred\": 42.84160403955193, \"label\": \"Actual\", \"predicted_label\": \"Predicted\"}, {\"date\": \"2021-10-05T00:00:00\", \"y_test\": 45.20000076293945, \"y_pred\": 45.26210774931412, \"label\": \"Actual\", \"predicted_label\": \"Predicted\"}, {\"date\": \"2021-10-06T00:00:00\", \"y_test\": 44.70000076293945, \"y_pred\": 45.96804571685413, \"label\": \"Actual\", \"predicted_label\": \"Predicted\"}, {\"date\": \"2021-10-07T00:00:00\", \"y_test\": 44.00000000000001, \"y_pred\": 43.8770609514128, \"label\": \"Actual\", \"predicted_label\": \"Predicted\"}, {\"date\": \"2021-10-08T00:00:00\", \"y_test\": 43.9000015258789, \"y_pred\": 44.437405233516245, \"label\": \"Actual\", \"predicted_label\": \"Predicted\"}, {\"date\": \"2021-10-11T00:00:00\", \"y_test\": 43.59999847412109, \"y_pred\": 44.015513375082506, \"label\": \"Actual\", \"predicted_label\": \"Predicted\"}, {\"date\": \"2021-10-12T00:00:00\", \"y_test\": 47.400001525878906, \"y_pred\": 43.82412024207174, \"label\": \"Actual\", \"predicted_label\": \"Predicted\"}, {\"date\": \"2021-10-13T00:00:00\", \"y_test\": 46.99999999999999, \"y_pred\": 47.94383487775868, \"label\": \"Actual\", \"predicted_label\": \"Predicted\"}, {\"date\": \"2021-10-14T00:00:00\", \"y_test\": 46.34999847412109, \"y_pred\": 45.08977819476053, \"label\": \"Actual\", \"predicted_label\": \"Predicted\"}, {\"date\": \"2021-10-18T00:00:00\", \"y_test\": 48.75, \"y_pred\": 46.89819175989212, \"label\": \"Actual\", \"predicted_label\": \"Predicted\"}, {\"date\": \"2021-10-19T00:00:00\", \"y_test\": 52.5, \"y_pred\": 48.01275638742613, \"label\": \"Actual\", \"predicted_label\": \"Predicted\"}, {\"date\": \"2021-10-20T00:00:00\", \"y_test\": 48.29999923706055, \"y_pred\": 48.10147345254498, \"label\": \"Actual\", \"predicted_label\": \"Predicted\"}, {\"date\": \"2021-10-21T00:00:00\", \"y_test\": 46.95000076293945, \"y_pred\": 47.808566166007516, \"label\": \"Actual\", \"predicted_label\": \"Predicted\"}, {\"date\": \"2021-10-22T00:00:00\", \"y_test\": 46.29999923706055, \"y_pred\": 46.39618086618693, \"label\": \"Actual\", \"predicted_label\": \"Predicted\"}, {\"date\": \"2021-10-25T00:00:00\", \"y_test\": 43.34999847412109, \"y_pred\": 44.162106809277866, \"label\": \"Actual\", \"predicted_label\": \"Predicted\"}, {\"date\": \"2021-10-26T00:00:00\", \"y_test\": 43.34999847412109, \"y_pred\": 41.923519333024934, \"label\": \"Actual\", \"predicted_label\": \"Predicted\"}, {\"date\": \"2021-10-27T00:00:00\", \"y_test\": 43.150001525878906, \"y_pred\": 44.42649077503253, \"label\": \"Actual\", \"predicted_label\": \"Predicted\"}, {\"date\": \"2021-10-28T00:00:00\", \"y_test\": 41.900001525878906, \"y_pred\": 43.15263592514056, \"label\": \"Actual\", \"predicted_label\": \"Predicted\"}, {\"date\": \"2021-10-29T00:00:00\", \"y_test\": 41.900001525878906, \"y_pred\": 42.37322230746166, \"label\": \"Actual\", \"predicted_label\": \"Predicted\"}, {\"date\": \"2021-11-01T00:00:00\", \"y_test\": 42.45000076293945, \"y_pred\": 42.522939880914244, \"label\": \"Actual\", \"predicted_label\": \"Predicted\"}, {\"date\": \"2021-11-02T00:00:00\", \"y_test\": 43.75000000000001, \"y_pred\": 43.494651702055485, \"label\": \"Actual\", \"predicted_label\": \"Predicted\"}, {\"date\": \"2021-11-03T00:00:00\", \"y_test\": 43.5, \"y_pred\": 44.02968800516294, \"label\": \"Actual\", \"predicted_label\": \"Predicted\"}, {\"date\": \"2021-11-04T00:00:00\", \"y_test\": 43.34999847412109, \"y_pred\": 43.47874002271343, \"label\": \"Actual\", \"predicted_label\": \"Predicted\"}, {\"date\": \"2021-11-08T00:00:00\", \"y_test\": 46.0, \"y_pred\": 44.47789292678873, \"label\": \"Actual\", \"predicted_label\": \"Predicted\"}, {\"date\": \"2021-11-09T00:00:00\", \"y_test\": 46.79999923706055, \"y_pred\": 46.91359899897842, \"label\": \"Actual\", \"predicted_label\": \"Predicted\"}, {\"date\": \"2021-11-10T00:00:00\", \"y_test\": 48.400001525878906, \"y_pred\": 47.03050970821728, \"label\": \"Actual\", \"predicted_label\": \"Predicted\"}, {\"date\": \"2021-11-11T00:00:00\", \"y_test\": 48.45000076293945, \"y_pred\": 49.139517172319536, \"label\": \"Actual\", \"predicted_label\": \"Predicted\"}, {\"date\": \"2021-11-12T00:00:00\", \"y_test\": 47.299999237060554, \"y_pred\": 48.04643717808006, \"label\": \"Actual\", \"predicted_label\": \"Predicted\"}, {\"date\": \"2021-11-15T00:00:00\", \"y_test\": 47.5, \"y_pred\": 48.399465621471116, \"label\": \"Actual\", \"predicted_label\": \"Predicted\"}, {\"date\": \"2021-11-16T00:00:00\", \"y_test\": 46.0, \"y_pred\": 46.12503623211115, \"label\": \"Actual\", \"predicted_label\": \"Predicted\"}, {\"date\": \"2021-11-17T00:00:00\", \"y_test\": 45.650001525878906, \"y_pred\": 46.055830541824115, \"label\": \"Actual\", \"predicted_label\": \"Predicted\"}, {\"date\": \"2021-11-18T00:00:00\", \"y_test\": 45.04999923706055, \"y_pred\": 45.86036617966747, \"label\": \"Actual\", \"predicted_label\": \"Predicted\"}, {\"date\": \"2021-11-22T00:00:00\", \"y_test\": 43.45000076293945, \"y_pred\": 44.09563333245128, \"label\": \"Actual\", \"predicted_label\": \"Predicted\"}, {\"date\": \"2021-11-23T00:00:00\", \"y_test\": 42.70000076293945, \"y_pred\": 42.02023232014506, \"label\": \"Actual\", \"predicted_label\": \"Predicted\"}, {\"date\": \"2021-11-24T00:00:00\", \"y_test\": 42.65000152587891, \"y_pred\": 43.6291053448406, \"label\": \"Actual\", \"predicted_label\": \"Predicted\"}, {\"date\": \"2021-11-25T00:00:00\", \"y_test\": 42.59999847412109, \"y_pred\": 42.81805492227957, \"label\": \"Actual\", \"predicted_label\": \"Predicted\"}, {\"date\": \"2021-11-26T00:00:00\", \"y_test\": 42.79999923706054, \"y_pred\": 43.264197883357866, \"label\": \"Actual\", \"predicted_label\": \"Predicted\"}, {\"date\": \"2021-11-29T00:00:00\", \"y_test\": 42.099998474121094, \"y_pred\": 42.4712037370264, \"label\": \"Actual\", \"predicted_label\": \"Predicted\"}, {\"date\": \"2021-11-30T00:00:00\", \"y_test\": 42.25, \"y_pred\": 42.09184580800637, \"label\": \"Actual\", \"predicted_label\": \"Predicted\"}, {\"date\": \"2021-12-01T00:00:00\", \"y_test\": 42.09999847412108, \"y_pred\": 42.51617753234359, \"label\": \"Actual\", \"predicted_label\": \"Predicted\"}, {\"date\": \"2021-12-02T00:00:00\", \"y_test\": 41.9000015258789, \"y_pred\": 42.197380500962, \"label\": \"Actual\", \"predicted_label\": \"Predicted\"}, {\"date\": \"2021-12-03T00:00:00\", \"y_test\": 42.0, \"y_pred\": 41.86600136961447, \"label\": \"Actual\", \"predicted_label\": \"Predicted\"}, {\"date\": \"2021-12-06T00:00:00\", \"y_test\": 42.099998474121094, \"y_pred\": 42.30270603916407, \"label\": \"Actual\", \"predicted_label\": \"Predicted\"}, {\"date\": \"2021-12-07T00:00:00\", \"y_test\": 41.95000076293945, \"y_pred\": 41.66088142533869, \"label\": \"Actual\", \"predicted_label\": \"Predicted\"}, {\"date\": \"2021-12-08T00:00:00\", \"y_test\": 42.45000076293945, \"y_pred\": 41.78567604823899, \"label\": \"Actual\", \"predicted_label\": \"Predicted\"}, {\"date\": \"2021-12-09T00:00:00\", \"y_test\": 45.1500015258789, \"y_pred\": 42.486138838233806, \"label\": \"Actual\", \"predicted_label\": \"Predicted\"}, {\"date\": \"2021-12-10T00:00:00\", \"y_test\": 50.70000076293945, \"y_pred\": 45.56404834380235, \"label\": \"Actual\", \"predicted_label\": \"Predicted\"}, {\"date\": \"2021-12-13T00:00:00\", \"y_test\": 53.900001525878906, \"y_pred\": 51.38353181864499, \"label\": \"Actual\", \"predicted_label\": \"Predicted\"}, {\"date\": \"2021-12-14T00:00:00\", \"y_test\": 55.79999923706054, \"y_pred\": 53.86258432403861, \"label\": \"Actual\", \"predicted_label\": \"Predicted\"}, {\"date\": \"2021-12-15T00:00:00\", \"y_test\": 54.400001525878906, \"y_pred\": 56.13005729931994, \"label\": \"Actual\", \"predicted_label\": \"Predicted\"}, {\"date\": \"2021-12-16T00:00:00\", \"y_test\": 53.04999923706055, \"y_pred\": 53.91000943159726, \"label\": \"Actual\", \"predicted_label\": \"Predicted\"}, {\"date\": \"2021-12-17T00:00:00\", \"y_test\": 49.70000076293946, \"y_pred\": 50.83508842044622, \"label\": \"Actual\", \"predicted_label\": \"Predicted\"}, {\"date\": \"2021-12-20T00:00:00\", \"y_test\": 45.0, \"y_pred\": 46.90904659368291, \"label\": \"Actual\", \"predicted_label\": \"Predicted\"}, {\"date\": \"2021-12-21T00:00:00\", \"y_test\": 45.400001525878906, \"y_pred\": 45.068425357729865, \"label\": \"Actual\", \"predicted_label\": \"Predicted\"}, {\"date\": \"2021-12-22T00:00:00\", \"y_test\": 46.20000076293945, \"y_pred\": 45.40218429799363, \"label\": \"Actual\", \"predicted_label\": \"Predicted\"}, {\"date\": \"2021-12-23T00:00:00\", \"y_test\": 45.900001525878906, \"y_pred\": 46.44486273181027, \"label\": \"Actual\", \"predicted_label\": \"Predicted\"}, {\"date\": \"2021-12-24T00:00:00\", \"y_test\": 46.25, \"y_pred\": 45.88034397473995, \"label\": \"Actual\", \"predicted_label\": \"Predicted\"}, {\"date\": \"2021-12-27T00:00:00\", \"y_test\": 45.79999923706055, \"y_pred\": 46.5518408075281, \"label\": \"Actual\", \"predicted_label\": \"Predicted\"}, {\"date\": \"2021-12-28T00:00:00\", \"y_test\": 45.549999237060554, \"y_pred\": 45.3910110538205, \"label\": \"Actual\", \"predicted_label\": \"Predicted\"}, {\"date\": \"2021-12-29T00:00:00\", \"y_test\": 45.29999923706055, \"y_pred\": 45.96987628827993, \"label\": \"Actual\", \"predicted_label\": \"Predicted\"}, {\"date\": \"2021-12-30T00:00:00\", \"y_test\": 44.95000076293945, \"y_pred\": 45.42649447821543, \"label\": \"Actual\", \"predicted_label\": \"Predicted\"}, {\"date\": \"2021-12-31T00:00:00\", \"y_test\": 46.00000000000001, \"y_pred\": 44.94453843712118, \"label\": \"Actual\", \"predicted_label\": \"Predicted\"}, {\"date\": \"2022-01-03T00:00:00\", \"y_test\": 46.9000015258789, \"y_pred\": 45.89462426136339, \"label\": \"Actual\", \"predicted_label\": \"Predicted\"}, {\"date\": \"2022-01-04T00:00:00\", \"y_test\": 47.650001525878906, \"y_pred\": 47.388310696073816, \"label\": \"Actual\", \"predicted_label\": \"Predicted\"}, {\"date\": \"2022-01-05T00:00:00\", \"y_test\": 46.70000076293945, \"y_pred\": 47.68444064948617, \"label\": \"Actual\", \"predicted_label\": \"Predicted\"}, {\"date\": \"2022-01-06T00:00:00\", \"y_test\": 46.70000076293945, \"y_pred\": 46.68787707183698, \"label\": \"Actual\", \"predicted_label\": \"Predicted\"}, {\"date\": \"2022-01-07T00:00:00\", \"y_test\": 47.650001525878906, \"y_pred\": 47.34437825412287, \"label\": \"Actual\", \"predicted_label\": \"Predicted\"}, {\"date\": \"2022-01-10T00:00:00\", \"y_test\": 47.04999923706055, \"y_pred\": 47.323998254874134, \"label\": \"Actual\", \"predicted_label\": \"Predicted\"}, {\"date\": \"2022-01-11T00:00:00\", \"y_test\": 47.09999847412109, \"y_pred\": 47.65329117785814, \"label\": \"Actual\", \"predicted_label\": \"Predicted\"}, {\"date\": \"2022-01-12T00:00:00\", \"y_test\": 46.650001525878906, \"y_pred\": 46.75737026642165, \"label\": \"Actual\", \"predicted_label\": \"Predicted\"}, {\"date\": \"2022-01-13T00:00:00\", \"y_test\": 48.650001525878906, \"y_pred\": 46.69768397757782, \"label\": \"Actual\", \"predicted_label\": \"Predicted\"}, {\"date\": \"2022-01-14T00:00:00\", \"y_test\": 48.5, \"y_pred\": 48.283985085704686, \"label\": \"Actual\", \"predicted_label\": \"Predicted\"}, {\"date\": \"2022-01-17T00:00:00\", \"y_test\": 49.34999847412109, \"y_pred\": 49.250790960738044, \"label\": \"Actual\", \"predicted_label\": \"Predicted\"}, {\"date\": \"2022-01-18T00:00:00\", \"y_test\": 50.79999923706054, \"y_pred\": 49.89819126259051, \"label\": \"Actual\", \"predicted_label\": \"Predicted\"}, {\"date\": \"2022-01-19T00:00:00\", \"y_test\": 55.1500015258789, \"y_pred\": 50.68643442302973, \"label\": \"Actual\", \"predicted_label\": \"Predicted\"}, {\"date\": \"2022-01-20T00:00:00\", \"y_test\": 55.599998474121094, \"y_pred\": 53.89268895167719, \"label\": \"Actual\", \"predicted_label\": \"Predicted\"}, {\"date\": \"2022-01-21T00:00:00\", \"y_test\": 56.5, \"y_pred\": 57.157173121994106, \"label\": \"Actual\", \"predicted_label\": \"Predicted\"}, {\"date\": \"2022-01-24T00:00:00\", \"y_test\": 54.1500015258789, \"y_pred\": 54.55376378824684, \"label\": \"Actual\", \"predicted_label\": \"Predicted\"}, {\"date\": \"2022-01-25T00:00:00\", \"y_test\": 51.15000152587891, \"y_pred\": 51.90537052090904, \"label\": \"Actual\", \"predicted_label\": \"Predicted\"}, {\"date\": \"2022-01-27T00:00:00\", \"y_test\": 58.400001525878906, \"y_pred\": 50.55403540465955, \"label\": \"Actual\", \"predicted_label\": \"Predicted\"}, {\"date\": \"2022-01-28T00:00:00\", \"y_test\": 65.0, \"y_pred\": 60.87534044418426, \"label\": \"Actual\", \"predicted_label\": \"Predicted\"}, {\"date\": \"2022-01-31T00:00:00\", \"y_test\": 60.099998474121094, \"y_pred\": 61.79958904045596, \"label\": \"Actual\", \"predicted_label\": \"Predicted\"}, {\"date\": \"2022-02-01T00:00:00\", \"y_test\": 59.599998474121094, \"y_pred\": 61.65932305489774, \"label\": \"Actual\", \"predicted_label\": \"Predicted\"}, {\"date\": \"2022-02-02T00:00:00\", \"y_test\": 63.349998474121094, \"y_pred\": 58.220621160474366, \"label\": \"Actual\", \"predicted_label\": \"Predicted\"}, {\"date\": \"2022-02-03T00:00:00\", \"y_test\": 67.4000015258789, \"y_pred\": 63.18371739161362, \"label\": \"Actual\", \"predicted_label\": \"Predicted\"}, {\"date\": \"2022-02-04T00:00:00\", \"y_test\": 67.8499984741211, \"y_pred\": 67.80103209600388, \"label\": \"Actual\", \"predicted_label\": \"Predicted\"}, {\"date\": \"2022-02-07T00:00:00\", \"y_test\": 65.69999694824219, \"y_pred\": 67.19541240992619, \"label\": \"Actual\", \"predicted_label\": \"Predicted\"}, {\"date\": \"2022-02-08T00:00:00\", \"y_test\": 64.25, \"y_pred\": 65.50613610941743, \"label\": \"Actual\", \"predicted_label\": \"Predicted\"}, {\"date\": \"2022-02-09T00:00:00\", \"y_test\": 70.0, \"y_pred\": 64.03592189073883, \"label\": \"Actual\", \"predicted_label\": \"Predicted\"}, {\"date\": \"2022-02-10T00:00:00\", \"y_test\": 77.0, \"y_pred\": 71.6560009224404, \"label\": \"Actual\", \"predicted_label\": \"Predicted\"}, {\"date\": \"2022-02-11T00:00:00\", \"y_test\": 76.30000305175781, \"y_pred\": 77.97554982022298, \"label\": \"Actual\", \"predicted_label\": \"Predicted\"}, {\"date\": \"2022-02-15T00:00:00\", \"y_test\": 70.5, \"y_pred\": 74.12344967089626, \"label\": \"Actual\", \"predicted_label\": \"Predicted\"}, {\"date\": \"2022-02-16T00:00:00\", \"y_test\": 72.0999984741211, \"y_pred\": 72.06561559428927, \"label\": \"Actual\", \"predicted_label\": \"Predicted\"}, {\"date\": \"2022-02-17T00:00:00\", \"y_test\": 68.19999694824219, \"y_pred\": 68.75650336000308, \"label\": \"Actual\", \"predicted_label\": \"Predicted\"}, {\"date\": \"2022-02-18T00:00:00\", \"y_test\": 67.75, \"y_pred\": 68.28059144879582, \"label\": \"Actual\", \"predicted_label\": \"Predicted\"}, {\"date\": \"2022-02-21T00:00:00\", \"y_test\": 65.69999694824219, \"y_pred\": 67.77082552384468, \"label\": \"Actual\", \"predicted_label\": \"Predicted\"}, {\"date\": \"2022-02-22T00:00:00\", \"y_test\": 61.650001525878906, \"y_pred\": 63.97963471182612, \"label\": \"Actual\", \"predicted_label\": \"Predicted\"}, {\"date\": \"2022-02-23T00:00:00\", \"y_test\": 61.90000152587891, \"y_pred\": 61.008914310336195, \"label\": \"Actual\", \"predicted_label\": \"Predicted\"}, {\"date\": \"2022-02-24T00:00:00\", \"y_test\": 59.0, \"y_pred\": 62.928499470909266, \"label\": \"Actual\", \"predicted_label\": \"Predicted\"}, {\"date\": \"2022-02-25T00:00:00\", \"y_test\": 60.20000076293945, \"y_pred\": 56.698524536016954, \"label\": \"Actual\", \"predicted_label\": \"Predicted\"}, {\"date\": \"2022-02-28T00:00:00\", \"y_test\": 62.950000762939446, \"y_pred\": 61.71428880053727, \"label\": \"Actual\", \"predicted_label\": \"Predicted\"}, {\"date\": \"2022-03-02T00:00:00\", \"y_test\": 62.650001525878906, \"y_pred\": 63.82085827190491, \"label\": \"Actual\", \"predicted_label\": \"Predicted\"}, {\"date\": \"2022-03-03T00:00:00\", \"y_test\": 63.700000762939446, \"y_pred\": 64.27740572849531, \"label\": \"Actual\", \"predicted_label\": \"Predicted\"}, {\"date\": \"2022-03-04T00:00:00\", \"y_test\": 62.65000152587891, \"y_pred\": 64.053163250245, \"label\": \"Actual\", \"predicted_label\": \"Predicted\"}, {\"date\": \"2022-03-07T00:00:00\", \"y_test\": 59.75, \"y_pred\": 62.73421618923162, \"label\": \"Actual\", \"predicted_label\": \"Predicted\"}, {\"date\": \"2022-03-08T00:00:00\", \"y_test\": 61.25, \"y_pred\": 60.091784623981006, \"label\": \"Actual\", \"predicted_label\": \"Predicted\"}, {\"date\": \"2022-03-09T00:00:00\", \"y_test\": 68.0, \"y_pred\": 62.93707630815846, \"label\": \"Actual\", \"predicted_label\": \"Predicted\"}, {\"date\": \"2022-03-10T00:00:00\", \"y_test\": 68.5, \"y_pred\": 68.56822792881084, \"label\": \"Actual\", \"predicted_label\": \"Predicted\"}, {\"date\": \"2022-03-11T00:00:00\", \"y_test\": 68.25, \"y_pred\": 68.03619869250524, \"label\": \"Actual\", \"predicted_label\": \"Predicted\"}, {\"date\": \"2022-03-14T00:00:00\", \"y_test\": 66.44999694824219, \"y_pred\": 67.71372834954111, \"label\": \"Actual\", \"predicted_label\": \"Predicted\"}, {\"date\": \"2022-03-15T00:00:00\", \"y_test\": 69.19999694824219, \"y_pred\": 67.61856097433188, \"label\": \"Actual\", \"predicted_label\": \"Predicted\"}, {\"date\": \"2022-03-16T00:00:00\", \"y_test\": 68.0, \"y_pred\": 67.31281279395375, \"label\": \"Actual\", \"predicted_label\": \"Predicted\"}, {\"date\": \"2022-03-17T00:00:00\", \"y_test\": 69.6500015258789, \"y_pred\": 67.92917792533733, \"label\": \"Actual\", \"predicted_label\": \"Predicted\"}, {\"date\": \"2022-03-21T00:00:00\", \"y_test\": 71.30000305175781, \"y_pred\": 69.57214418263592, \"label\": \"Actual\", \"predicted_label\": \"Predicted\"}, {\"date\": \"2022-03-22T00:00:00\", \"y_test\": 74.0, \"y_pred\": 70.79088770057466, \"label\": \"Actual\", \"predicted_label\": \"Predicted\"}, {\"date\": \"2022-03-23T00:00:00\", \"y_test\": 74.94999694824219, \"y_pred\": 75.6717278209291, \"label\": \"Actual\", \"predicted_label\": \"Predicted\"}, {\"date\": \"2022-03-24T00:00:00\", \"y_test\": 77.3499984741211, \"y_pred\": 73.22656549363728, \"label\": \"Actual\", \"predicted_label\": \"Predicted\"}, {\"date\": \"2022-03-25T00:00:00\", \"y_test\": 75.4000015258789, \"y_pred\": 76.90462083471992, \"label\": \"Actual\", \"predicted_label\": \"Predicted\"}, {\"date\": \"2022-03-28T00:00:00\", \"y_test\": 74.9000015258789, \"y_pred\": 74.87763890081797, \"label\": \"Actual\", \"predicted_label\": \"Predicted\"}, {\"date\": \"2022-03-29T00:00:00\", \"y_test\": 73.75, \"y_pred\": 74.77353188808985, \"label\": \"Actual\", \"predicted_label\": \"Predicted\"}, {\"date\": \"2022-03-30T00:00:00\", \"y_test\": 78.25, \"y_pred\": 73.22281876539425, \"label\": \"Actual\", \"predicted_label\": \"Predicted\"}, {\"date\": \"2022-03-31T00:00:00\", \"y_test\": 74.80000305175781, \"y_pred\": 75.90979866919821, \"label\": \"Actual\", \"predicted_label\": \"Predicted\"}, {\"date\": \"2022-04-01T00:00:00\", \"y_test\": 76.30000305175781, \"y_pred\": 76.12904192304389, \"label\": \"Actual\", \"predicted_label\": \"Predicted\"}, {\"date\": \"2022-04-04T00:00:00\", \"y_test\": 81.25, \"y_pred\": 77.12929693908687, \"label\": \"Actual\", \"predicted_label\": \"Predicted\"}, {\"date\": \"2022-04-05T00:00:00\", \"y_test\": 82.55000305175781, \"y_pred\": 82.67447498353987, \"label\": \"Actual\", \"predicted_label\": \"Predicted\"}, {\"date\": \"2022-04-06T00:00:00\", \"y_test\": 82.0, \"y_pred\": 81.76712648457661, \"label\": \"Actual\", \"predicted_label\": \"Predicted\"}, {\"date\": \"2022-04-07T00:00:00\", \"y_test\": 82.0999984741211, \"y_pred\": 82.19526324088613, \"label\": \"Actual\", \"predicted_label\": \"Predicted\"}, {\"date\": \"2022-04-08T00:00:00\", \"y_test\": 78.0, \"y_pred\": 79.02264085409502, \"label\": \"Actual\", \"predicted_label\": \"Predicted\"}, {\"date\": \"2022-04-11T00:00:00\", \"y_test\": 79.0, \"y_pred\": 77.49126726916288, \"label\": \"Actual\", \"predicted_label\": \"Predicted\"}, {\"date\": \"2022-04-12T00:00:00\", \"y_test\": 78.55000305175783, \"y_pred\": 80.30430870454636, \"label\": \"Actual\", \"predicted_label\": \"Predicted\"}, {\"date\": \"2022-04-13T00:00:00\", \"y_test\": 77.3499984741211, \"y_pred\": 77.73908132940336, \"label\": \"Actual\", \"predicted_label\": \"Predicted\"}, {\"date\": \"2022-04-18T00:00:00\", \"y_test\": 76.25, \"y_pred\": 76.55786378642438, \"label\": \"Actual\", \"predicted_label\": \"Predicted\"}, {\"date\": \"2022-04-19T00:00:00\", \"y_test\": 78.5, \"y_pred\": 76.50003473435079, \"label\": \"Actual\", \"predicted_label\": \"Predicted\"}, {\"date\": \"2022-04-20T00:00:00\", \"y_test\": 75.0, \"y_pred\": 75.85072625431712, \"label\": \"Actual\", \"predicted_label\": \"Predicted\"}, {\"date\": \"2022-04-21T00:00:00\", \"y_test\": 74.8499984741211, \"y_pred\": 75.21760420924996, \"label\": \"Actual\", \"predicted_label\": \"Predicted\"}, {\"date\": \"2022-04-22T00:00:00\", \"y_test\": 73.19999694824219, \"y_pred\": 75.20166296644271, \"label\": \"Actual\", \"predicted_label\": \"Predicted\"}, {\"date\": \"2022-04-25T00:00:00\", \"y_test\": 70.55000305175781, \"y_pred\": 73.32913212589125, \"label\": \"Actual\", \"predicted_label\": \"Predicted\"}, {\"date\": \"2022-04-26T00:00:00\", \"y_test\": 73.55000305175781, \"y_pred\": 69.68353092737908, \"label\": \"Actual\", \"predicted_label\": \"Predicted\"}, {\"date\": \"2022-04-27T00:00:00\", \"y_test\": 76.3499984741211, \"y_pred\": 74.63918601794025, \"label\": \"Actual\", \"predicted_label\": \"Predicted\"}, {\"date\": \"2022-04-28T00:00:00\", \"y_test\": 81.0, \"y_pred\": 77.2074854134063, \"label\": \"Actual\", \"predicted_label\": \"Predicted\"}, {\"date\": \"2022-04-29T00:00:00\", \"y_test\": 61.90000152587891, \"y_pred\": 64.95518221536999, \"label\": \"Actual\", \"predicted_label\": \"Predicted\"}, {\"date\": \"2022-05-04T00:00:00\", \"y_test\": 54.099998474121094, \"y_pred\": 57.15131086775067, \"label\": \"Actual\", \"predicted_label\": \"Predicted\"}, {\"date\": \"2022-05-05T00:00:00\", \"y_test\": 50.29999923706055, \"y_pred\": 51.23140644624049, \"label\": \"Actual\", \"predicted_label\": \"Predicted\"}, {\"date\": \"2022-05-06T00:00:00\", \"y_test\": 47.79999923706055, \"y_pred\": 49.66214115140365, \"label\": \"Actual\", \"predicted_label\": \"Predicted\"}, {\"date\": \"2022-05-09T00:00:00\", \"y_test\": 45.900001525878906, \"y_pred\": 47.20777764874532, \"label\": \"Actual\", \"predicted_label\": \"Predicted\"}, {\"date\": \"2022-05-10T00:00:00\", \"y_test\": 43.5, \"y_pred\": 45.01167990869819, \"label\": \"Actual\", \"predicted_label\": \"Predicted\"}, {\"date\": \"2022-05-11T00:00:00\", \"y_test\": 41.04999923706055, \"y_pred\": 42.35332065764541, \"label\": \"Actual\", \"predicted_label\": \"Predicted\"}, {\"date\": \"2022-05-12T00:00:00\", \"y_test\": 42.400001525878906, \"y_pred\": 42.1345549562739, \"label\": \"Actual\", \"predicted_label\": \"Predicted\"}, {\"date\": \"2022-05-13T00:00:00\", \"y_test\": 43.24999999999999, \"y_pred\": 43.72864462975908, \"label\": \"Actual\", \"predicted_label\": \"Predicted\"}, {\"date\": \"2022-05-16T00:00:00\", \"y_test\": 41.0, \"y_pred\": 42.3605085819385, \"label\": \"Actual\", \"predicted_label\": \"Predicted\"}, {\"date\": \"2022-05-17T00:00:00\", \"y_test\": 42.25, \"y_pred\": 40.623405870771144, \"label\": \"Actual\", \"predicted_label\": \"Predicted\"}, {\"date\": \"2022-05-18T00:00:00\", \"y_test\": 43.200000762939446, \"y_pred\": 43.14062797929489, \"label\": \"Actual\", \"predicted_label\": \"Predicted\"}, {\"date\": \"2022-05-19T00:00:00\", \"y_test\": 41.400001525878906, \"y_pred\": 43.356387457371355, \"label\": \"Actual\", \"predicted_label\": \"Predicted\"}, {\"date\": \"2022-05-20T00:00:00\", \"y_test\": 41.900001525878906, \"y_pred\": 41.04745944480719, \"label\": \"Actual\", \"predicted_label\": \"Predicted\"}, {\"date\": \"2022-05-23T00:00:00\", \"y_test\": 41.70000076293945, \"y_pred\": 42.75535164723054, \"label\": \"Actual\", \"predicted_label\": \"Predicted\"}, {\"date\": \"2022-05-24T00:00:00\", \"y_test\": 41.00000000000001, \"y_pred\": 41.85392201122975, \"label\": \"Actual\", \"predicted_label\": \"Predicted\"}, {\"date\": \"2022-05-25T00:00:00\", \"y_test\": 40.400001525878906, \"y_pred\": 41.33417058528773, \"label\": \"Actual\", \"predicted_label\": \"Predicted\"}, {\"date\": \"2022-05-26T00:00:00\", \"y_test\": 39.0, \"y_pred\": 39.422709884161975, \"label\": \"Actual\", \"predicted_label\": \"Predicted\"}, {\"date\": \"2022-05-27T00:00:00\", \"y_test\": 39.79999923706054, \"y_pred\": 40.33984550329703, \"label\": \"Actual\", \"predicted_label\": \"Predicted\"}, {\"date\": \"2022-05-30T00:00:00\", \"y_test\": 40.900001525878906, \"y_pred\": 40.67605486109821, \"label\": \"Actual\", \"predicted_label\": \"Predicted\"}, {\"date\": \"2022-05-31T00:00:00\", \"y_test\": 41.20000076293945, \"y_pred\": 40.83510565086185, \"label\": \"Actual\", \"predicted_label\": \"Predicted\"}, {\"date\": \"2022-06-01T00:00:00\", \"y_test\": 41.79999923706055, \"y_pred\": 40.54613155064975, \"label\": \"Actual\", \"predicted_label\": \"Predicted\"}, {\"date\": \"2022-06-02T00:00:00\", \"y_test\": 42.54999923706055, \"y_pred\": 42.39377857354116, \"label\": \"Actual\", \"predicted_label\": \"Predicted\"}, {\"date\": \"2022-06-03T00:00:00\", \"y_test\": 43.20000076293945, \"y_pred\": 43.8234366489656, \"label\": \"Actual\", \"predicted_label\": \"Predicted\"}, {\"date\": \"2022-06-06T00:00:00\", \"y_test\": 40.45000076293945, \"y_pred\": 41.94855383050571, \"label\": \"Actual\", \"predicted_label\": \"Predicted\"}, {\"date\": \"2022-06-07T00:00:00\", \"y_test\": 41.20000076293945, \"y_pred\": 41.604706479081145, \"label\": \"Actual\", \"predicted_label\": \"Predicted\"}, {\"date\": \"2022-06-08T00:00:00\", \"y_test\": 45.400001525878906, \"y_pred\": 42.200235261492516, \"label\": \"Actual\", \"predicted_label\": \"Predicted\"}, {\"date\": \"2022-06-09T00:00:00\", \"y_test\": 47.25, \"y_pred\": 47.349624009651585, \"label\": \"Actual\", \"predicted_label\": \"Predicted\"}, {\"date\": \"2022-06-10T00:00:00\", \"y_test\": 46.34999847412109, \"y_pred\": 50.80823451584778, \"label\": \"Actual\", \"predicted_label\": \"Predicted\"}, {\"date\": \"2022-06-13T00:00:00\", \"y_test\": 43.45000076293945, \"y_pred\": 47.1984860709327, \"label\": \"Actual\", \"predicted_label\": \"Predicted\"}, {\"date\": \"2022-06-14T00:00:00\", \"y_test\": 41.70000076293945, \"y_pred\": 43.03298541185616, \"label\": \"Actual\", \"predicted_label\": \"Predicted\"}, {\"date\": \"2022-06-15T00:00:00\", \"y_test\": 42.29999923706055, \"y_pred\": 42.04088916777237, \"label\": \"Actual\", \"predicted_label\": \"Predicted\"}, {\"date\": \"2022-06-16T00:00:00\", \"y_test\": 41.59999847412109, \"y_pred\": 42.111697540618216, \"label\": \"Actual\", \"predicted_label\": \"Predicted\"}, {\"date\": \"2022-06-17T00:00:00\", \"y_test\": 38.29999923706055, \"y_pred\": 39.53965256725449, \"label\": \"Actual\", \"predicted_label\": \"Predicted\"}, {\"date\": \"2022-06-20T00:00:00\", \"y_test\": 37.84999847412109, \"y_pred\": 38.976603452761815, \"label\": \"Actual\", \"predicted_label\": \"Predicted\"}, {\"date\": \"2022-06-21T00:00:00\", \"y_test\": 38.400001525878906, \"y_pred\": 36.65819450300426, \"label\": \"Actual\", \"predicted_label\": \"Predicted\"}, {\"date\": \"2022-06-22T00:00:00\", \"y_test\": 37.29999923706055, \"y_pred\": 38.65564078778294, \"label\": \"Actual\", \"predicted_label\": \"Predicted\"}, {\"date\": \"2022-06-23T00:00:00\", \"y_test\": 37.650001525878906, \"y_pred\": 37.68944488165223, \"label\": \"Actual\", \"predicted_label\": \"Predicted\"}, {\"date\": \"2022-06-24T00:00:00\", \"y_test\": 37.900001525878906, \"y_pred\": 38.00698697851752, \"label\": \"Actual\", \"predicted_label\": \"Predicted\"}, {\"date\": \"2022-06-27T00:00:00\", \"y_test\": 38.400001525878906, \"y_pred\": 38.47105377815447, \"label\": \"Actual\", \"predicted_label\": \"Predicted\"}, {\"date\": \"2022-06-28T00:00:00\", \"y_test\": 40.84999847412109, \"y_pred\": 38.88828483176252, \"label\": \"Actual\", \"predicted_label\": \"Predicted\"}, {\"date\": \"2022-06-29T00:00:00\", \"y_test\": 40.79999923706055, \"y_pred\": 40.690917128922344, \"label\": \"Actual\", \"predicted_label\": \"Predicted\"}, {\"date\": \"2022-06-30T00:00:00\", \"y_test\": 40.400001525878906, \"y_pred\": 41.04977528016255, \"label\": \"Actual\", \"predicted_label\": \"Predicted\"}, {\"date\": \"2022-07-01T00:00:00\", \"y_test\": 39.400001525878906, \"y_pred\": 40.018563683783256, \"label\": \"Actual\", \"predicted_label\": \"Predicted\"}, {\"date\": \"2022-07-04T00:00:00\", \"y_test\": 39.54999923706055, \"y_pred\": 40.15447076371533, \"label\": \"Actual\", \"predicted_label\": \"Predicted\"}, {\"date\": \"2022-07-05T00:00:00\", \"y_test\": 39.20000076293945, \"y_pred\": 39.81379238432879, \"label\": \"Actual\", \"predicted_label\": \"Predicted\"}, {\"date\": \"2022-07-06T00:00:00\", \"y_test\": 38.54999923706055, \"y_pred\": 39.08710521756386, \"label\": \"Actual\", \"predicted_label\": \"Predicted\"}, {\"date\": \"2022-07-07T00:00:00\", \"y_test\": 38.95000076293945, \"y_pred\": 38.49603705111753, \"label\": \"Actual\", \"predicted_label\": \"Predicted\"}, {\"date\": \"2022-07-08T00:00:00\", \"y_test\": 40.34999847412109, \"y_pred\": 39.35521066646494, \"label\": \"Actual\", \"predicted_label\": \"Predicted\"}, {\"date\": \"2022-07-11T00:00:00\", \"y_test\": 39.59999847412109, \"y_pred\": 39.89771931021723, \"label\": \"Actual\", \"predicted_label\": \"Predicted\"}, {\"date\": \"2022-07-12T00:00:00\", \"y_test\": 40.29999923706055, \"y_pred\": 40.15577637974498, \"label\": \"Actual\", \"predicted_label\": \"Predicted\"}, {\"date\": \"2022-07-13T00:00:00\", \"y_test\": 40.54999923706055, \"y_pred\": 40.50178520692077, \"label\": \"Actual\", \"predicted_label\": \"Predicted\"}, {\"date\": \"2022-07-14T00:00:00\", \"y_test\": 39.400001525878906, \"y_pred\": 39.98389387493181, \"label\": \"Actual\", \"predicted_label\": \"Predicted\"}, {\"date\": \"2022-07-15T00:00:00\", \"y_test\": 38.54999923706055, \"y_pred\": 38.96143419317345, \"label\": \"Actual\", \"predicted_label\": \"Predicted\"}, {\"date\": \"2022-07-18T00:00:00\", \"y_test\": 39.84999847412109, \"y_pred\": 39.106399126248526, \"label\": \"Actual\", \"predicted_label\": \"Predicted\"}, {\"date\": \"2022-07-19T00:00:00\", \"y_test\": 39.95000076293945, \"y_pred\": 40.269348429485355, \"label\": \"Actual\", \"predicted_label\": \"Predicted\"}, {\"date\": \"2022-07-20T00:00:00\", \"y_test\": 38.900001525878906, \"y_pred\": 39.36607347417815, \"label\": \"Actual\", \"predicted_label\": \"Predicted\"}, {\"date\": \"2022-07-21T00:00:00\", \"y_test\": 38.45000076293945, \"y_pred\": 38.84970684764016, \"label\": \"Actual\", \"predicted_label\": \"Predicted\"}, {\"date\": \"2022-07-22T00:00:00\", \"y_test\": 38.29999923706055, \"y_pred\": 38.80722051039508, \"label\": \"Actual\", \"predicted_label\": \"Predicted\"}, {\"date\": \"2022-07-25T00:00:00\", \"y_test\": 37.95000076293945, \"y_pred\": 38.41763623576134, \"label\": \"Actual\", \"predicted_label\": \"Predicted\"}, {\"date\": \"2022-07-26T00:00:00\", \"y_test\": 37.349998474121094, \"y_pred\": 37.9431997238188, \"label\": \"Actual\", \"predicted_label\": \"Predicted\"}, {\"date\": \"2022-07-27T00:00:00\", \"y_test\": 37.79999923706055, \"y_pred\": 37.75327454932611, \"label\": \"Actual\", \"predicted_label\": \"Predicted\"}, {\"date\": \"2022-07-28T00:00:00\", \"y_test\": 38.09999847412109, \"y_pred\": 38.32009244938556, \"label\": \"Actual\", \"predicted_label\": \"Predicted\"}, {\"date\": \"2022-07-29T00:00:00\", \"y_test\": 37.79999923706055, \"y_pred\": 38.06299004740319, \"label\": \"Actual\", \"predicted_label\": \"Predicted\"}, {\"date\": \"2022-08-01T00:00:00\", \"y_test\": 38.900001525878906, \"y_pred\": 37.75665010430433, \"label\": \"Actual\", \"predicted_label\": \"Predicted\"}, {\"date\": \"2022-08-02T00:00:00\", \"y_test\": 39.45000076293945, \"y_pred\": 38.968117120292625, \"label\": \"Actual\", \"predicted_label\": \"Predicted\"}, {\"date\": \"2022-08-03T00:00:00\", \"y_test\": 39.049999237060554, \"y_pred\": 39.25806270674243, \"label\": \"Actual\", \"predicted_label\": \"Predicted\"}, {\"date\": \"2022-08-04T00:00:00\", \"y_test\": 39.400001525878906, \"y_pred\": 39.1191604962238, \"label\": \"Actual\", \"predicted_label\": \"Predicted\"}, {\"date\": \"2022-08-05T00:00:00\", \"y_test\": 39.0, \"y_pred\": 38.99374269461767, \"label\": \"Actual\", \"predicted_label\": \"Predicted\"}, {\"date\": \"2022-08-08T00:00:00\", \"y_test\": 38.5, \"y_pred\": 38.74158483465711, \"label\": \"Actual\", \"predicted_label\": \"Predicted\"}, {\"date\": \"2022-08-10T00:00:00\", \"y_test\": 37.900001525878906, \"y_pred\": 38.15009029747278, \"label\": \"Actual\", \"predicted_label\": \"Predicted\"}, {\"date\": \"2022-08-11T00:00:00\", \"y_test\": 37.45000076293945, \"y_pred\": 37.79891704500641, \"label\": \"Actual\", \"predicted_label\": \"Predicted\"}, {\"date\": \"2022-08-12T00:00:00\", \"y_test\": 37.900001525878906, \"y_pred\": 37.640840524752576, \"label\": \"Actual\", \"predicted_label\": \"Predicted\"}, {\"date\": \"2022-08-16T00:00:00\", \"y_test\": 39.29999923706055, \"y_pred\": 37.92384550269162, \"label\": \"Actual\", \"predicted_label\": \"Predicted\"}, {\"date\": \"2022-08-17T00:00:00\", \"y_test\": 39.900001525878906, \"y_pred\": 39.812198725189745, \"label\": \"Actual\", \"predicted_label\": \"Predicted\"}, {\"date\": \"2022-08-18T00:00:00\", \"y_test\": 39.5, \"y_pred\": 39.604189570594045, \"label\": \"Actual\", \"predicted_label\": \"Predicted\"}, {\"date\": \"2022-08-19T00:00:00\", \"y_test\": 42.75000000000001, \"y_pred\": 39.7214692693538, \"label\": \"Actual\", \"predicted_label\": \"Predicted\"}, {\"date\": \"2022-08-22T00:00:00\", \"y_test\": 41.70000076293945, \"y_pred\": 41.78093239754864, \"label\": \"Actual\", \"predicted_label\": \"Predicted\"}, {\"date\": \"2022-08-23T00:00:00\", \"y_test\": 42.45000076293945, \"y_pred\": 41.96774875255291, \"label\": \"Actual\", \"predicted_label\": \"Predicted\"}, {\"date\": \"2022-08-24T00:00:00\", \"y_test\": 43.5, \"y_pred\": 43.27661723353901, \"label\": \"Actual\", \"predicted_label\": \"Predicted\"}, {\"date\": \"2022-08-25T00:00:00\", \"y_test\": 43.09999847412108, \"y_pred\": 42.45143494567321, \"label\": \"Actual\", \"predicted_label\": \"Predicted\"}, {\"date\": \"2022-08-26T00:00:00\", \"y_test\": 43.049999237060554, \"y_pred\": 43.29617731438145, \"label\": \"Actual\", \"predicted_label\": \"Predicted\"}, {\"date\": \"2022-08-29T00:00:00\", \"y_test\": 41.54999923706055, \"y_pred\": 43.03379405242775, \"label\": \"Actual\", \"predicted_label\": \"Predicted\"}, {\"date\": \"2022-08-30T00:00:00\", \"y_test\": 41.29999923706054, \"y_pred\": 41.49918123602494, \"label\": \"Actual\", \"predicted_label\": \"Predicted\"}, {\"date\": \"2022-09-01T00:00:00\", \"y_test\": 43.20000076293945, \"y_pred\": 41.73032469352578, \"label\": \"Actual\", \"predicted_label\": \"Predicted\"}, {\"date\": \"2022-09-02T00:00:00\", \"y_test\": 43.34999847412109, \"y_pred\": 43.49274433078889, \"label\": \"Actual\", \"predicted_label\": \"Predicted\"}, {\"date\": \"2022-09-05T00:00:00\", \"y_test\": 45.20000076293945, \"y_pred\": 42.29953689836553, \"label\": \"Actual\", \"predicted_label\": \"Predicted\"}, {\"date\": \"2022-09-06T00:00:00\", \"y_test\": 45.00000000000001, \"y_pred\": 45.98635979313273, \"label\": \"Actual\", \"predicted_label\": \"Predicted\"}, {\"date\": \"2022-09-07T00:00:00\", \"y_test\": 44.54999923706055, \"y_pred\": 44.8573390296606, \"label\": \"Actual\", \"predicted_label\": \"Predicted\"}, {\"date\": \"2022-09-08T00:00:00\", \"y_test\": 44.70000076293945, \"y_pred\": 45.35674951709144, \"label\": \"Actual\", \"predicted_label\": \"Predicted\"}, {\"date\": \"2022-09-09T00:00:00\", \"y_test\": 44.1500015258789, \"y_pred\": 44.484634557330004, \"label\": \"Actual\", \"predicted_label\": \"Predicted\"}, {\"date\": \"2022-09-12T00:00:00\", \"y_test\": 43.0, \"y_pred\": 43.29913932436544, \"label\": \"Actual\", \"predicted_label\": \"Predicted\"}, {\"date\": \"2022-09-13T00:00:00\", \"y_test\": 42.84999847412108, \"y_pred\": 43.190536373801166, \"label\": \"Actual\", \"predicted_label\": \"Predicted\"}, {\"date\": \"2022-09-14T00:00:00\", \"y_test\": 42.25, \"y_pred\": 43.2350678958229, \"label\": \"Actual\", \"predicted_label\": \"Predicted\"}, {\"date\": \"2022-09-15T00:00:00\", \"y_test\": 41.900001525878906, \"y_pred\": 42.28351960253681, \"label\": \"Actual\", \"predicted_label\": \"Predicted\"}, {\"date\": \"2022-09-16T00:00:00\", \"y_test\": 41.0, \"y_pred\": 41.42677347315682, \"label\": \"Actual\", \"predicted_label\": \"Predicted\"}, {\"date\": \"2022-09-19T00:00:00\", \"y_test\": 39.84999847412109, \"y_pred\": 40.31846779590061, \"label\": \"Actual\", \"predicted_label\": \"Predicted\"}, {\"date\": \"2022-09-20T00:00:00\", \"y_test\": 40.99999999999999, \"y_pred\": 39.67548881840011, \"label\": \"Actual\", \"predicted_label\": \"Predicted\"}, {\"date\": \"2022-09-21T00:00:00\", \"y_test\": 41.20000076293945, \"y_pred\": 41.33829722321507, \"label\": \"Actual\", \"predicted_label\": \"Predicted\"}, {\"date\": \"2022-09-22T00:00:00\", \"y_test\": 41.150001525878906, \"y_pred\": 41.18588798862355, \"label\": \"Actual\", \"predicted_label\": \"Predicted\"}, {\"date\": \"2022-09-23T00:00:00\", \"y_test\": 40.49999999999999, \"y_pred\": 41.04618047986668, \"label\": \"Actual\", \"predicted_label\": \"Predicted\"}, {\"date\": \"2022-09-26T00:00:00\", \"y_test\": 38.70000076293945, \"y_pred\": 39.90388518798073, \"label\": \"Actual\", \"predicted_label\": \"Predicted\"}, {\"date\": \"2022-09-27T00:00:00\", \"y_test\": 37.84999847412109, \"y_pred\": 37.98885219856611, \"label\": \"Actual\", \"predicted_label\": \"Predicted\"}, {\"date\": \"2022-09-28T00:00:00\", \"y_test\": 38.04999923706055, \"y_pred\": 38.62724278051893, \"label\": \"Actual\", \"predicted_label\": \"Predicted\"}, {\"date\": \"2022-09-29T00:00:00\", \"y_test\": 38.45000076293945, \"y_pred\": 38.63904820044641, \"label\": \"Actual\", \"predicted_label\": \"Predicted\"}, {\"date\": \"2022-09-30T00:00:00\", \"y_test\": 38.400001525878906, \"y_pred\": 38.49245566986325, \"label\": \"Actual\", \"predicted_label\": \"Predicted\"}, {\"date\": \"2022-10-03T00:00:00\", \"y_test\": 38.09999847412109, \"y_pred\": 38.65114362866661, \"label\": \"Actual\", \"predicted_label\": \"Predicted\"}, {\"date\": \"2022-10-04T00:00:00\", \"y_test\": 38.50000000000001, \"y_pred\": 38.26601855447574, \"label\": \"Actual\", \"predicted_label\": \"Predicted\"}, {\"date\": \"2022-10-06T00:00:00\", \"y_test\": 39.45000076293945, \"y_pred\": 38.862133975323246, \"label\": \"Actual\", \"predicted_label\": \"Predicted\"}, {\"date\": \"2022-10-07T00:00:00\", \"y_test\": 39.34999847412109, \"y_pred\": 39.73564965921523, \"label\": \"Actual\", \"predicted_label\": \"Predicted\"}, {\"date\": \"2022-10-10T00:00:00\", \"y_test\": 38.79999923706055, \"y_pred\": 39.53073434431898, \"label\": \"Actual\", \"predicted_label\": \"Predicted\"}, {\"date\": \"2022-10-11T00:00:00\", \"y_test\": 39.59999847412109, \"y_pred\": 39.03367247523989, \"label\": \"Actual\", \"predicted_label\": \"Predicted\"}, {\"date\": \"2022-10-12T00:00:00\", \"y_test\": 38.150001525878906, \"y_pred\": 38.3881429758835, \"label\": \"Actual\", \"predicted_label\": \"Predicted\"}, {\"date\": \"2022-10-13T00:00:00\", \"y_test\": 37.70000076293945, \"y_pred\": 38.17349480216206, \"label\": \"Actual\", \"predicted_label\": \"Predicted\"}, {\"date\": \"2022-10-14T00:00:00\", \"y_test\": 37.59999847412109, \"y_pred\": 37.69828348568898, \"label\": \"Actual\", \"predicted_label\": \"Predicted\"}, {\"date\": \"2022-10-17T00:00:00\", \"y_test\": 37.150001525878906, \"y_pred\": 37.47508853869011, \"label\": \"Actual\", \"predicted_label\": \"Predicted\"}, {\"date\": \"2022-10-18T00:00:00\", \"y_test\": 37.75, \"y_pred\": 36.880755044924165, \"label\": \"Actual\", \"predicted_label\": \"Predicted\"}, {\"date\": \"2022-10-19T00:00:00\", \"y_test\": 36.400001525878906, \"y_pred\": 38.41372300760095, \"label\": \"Actual\", \"predicted_label\": \"Predicted\"}, {\"date\": \"2022-10-20T00:00:00\", \"y_test\": 35.70000076293945, \"y_pred\": 36.044577781619495, \"label\": \"Actual\", \"predicted_label\": \"Predicted\"}, {\"date\": \"2022-10-21T00:00:00\", \"y_test\": 35.900001525878906, \"y_pred\": 36.40438694094588, \"label\": \"Actual\", \"predicted_label\": \"Predicted\"}, {\"date\": \"2022-10-24T00:00:00\", \"y_test\": 35.599998474121094, \"y_pred\": 35.818276550993005, \"label\": \"Actual\", \"predicted_label\": \"Predicted\"}, {\"date\": \"2022-10-25T00:00:00\", \"y_test\": 35.5, \"y_pred\": 36.150328700263, \"label\": \"Actual\", \"predicted_label\": \"Predicted\"}, {\"date\": \"2022-10-27T00:00:00\", \"y_test\": 35.5, \"y_pred\": 35.73529188619656, \"label\": \"Actual\", \"predicted_label\": \"Predicted\"}, {\"date\": \"2022-10-28T00:00:00\", \"y_test\": 35.25, \"y_pred\": 35.742312878544254, \"label\": \"Actual\", \"predicted_label\": \"Predicted\"}, {\"date\": \"2022-10-31T00:00:00\", \"y_test\": 35.400001525878906, \"y_pred\": 35.300902672462925, \"label\": \"Actual\", \"predicted_label\": \"Predicted\"}, {\"date\": \"2022-11-01T00:00:00\", \"y_test\": 35.099998474121094, \"y_pred\": 35.5436087980322, \"label\": \"Actual\", \"predicted_label\": \"Predicted\"}, {\"date\": \"2022-11-02T00:00:00\", \"y_test\": 35.0, \"y_pred\": 35.200270156468925, \"label\": \"Actual\", \"predicted_label\": \"Predicted\"}, {\"date\": \"2022-11-03T00:00:00\", \"y_test\": 34.849998474121094, \"y_pred\": 35.246723839229546, \"label\": \"Actual\", \"predicted_label\": \"Predicted\"}, {\"date\": \"2022-11-04T00:00:00\", \"y_test\": 36.650001525878906, \"y_pred\": 35.09545774871066, \"label\": \"Actual\", \"predicted_label\": \"Predicted\"}, {\"date\": \"2022-11-07T00:00:00\", \"y_test\": 37.45000076293945, \"y_pred\": 36.90266218931693, \"label\": \"Actual\", \"predicted_label\": \"Predicted\"}, {\"date\": \"2022-11-09T00:00:00\", \"y_test\": 37.54999923706055, \"y_pred\": 37.72648452674911, \"label\": \"Actual\", \"predicted_label\": \"Predicted\"}, {\"date\": \"2022-11-10T00:00:00\", \"y_test\": 36.400001525878906, \"y_pred\": 37.09171259860021, \"label\": \"Actual\", \"predicted_label\": \"Predicted\"}, {\"date\": \"2022-11-11T00:00:00\", \"y_test\": 36.34999847412109, \"y_pred\": 36.058776114816126, \"label\": \"Actual\", \"predicted_label\": \"Predicted\"}, {\"date\": \"2022-11-14T00:00:00\", \"y_test\": 36.29999923706055, \"y_pred\": 36.2656658803718, \"label\": \"Actual\", \"predicted_label\": \"Predicted\"}, {\"date\": \"2022-11-15T00:00:00\", \"y_test\": 36.04999923706055, \"y_pred\": 36.402183101023944, \"label\": \"Actual\", \"predicted_label\": \"Predicted\"}, {\"date\": \"2022-11-16T00:00:00\", \"y_test\": 36.45000076293945, \"y_pred\": 36.17063269146633, \"label\": \"Actual\", \"predicted_label\": \"Predicted\"}, {\"date\": \"2022-11-17T00:00:00\", \"y_test\": 35.849998474121094, \"y_pred\": 36.415785312489284, \"label\": \"Actual\", \"predicted_label\": \"Predicted\"}, {\"date\": \"2022-11-18T00:00:00\", \"y_test\": 35.70000076293945, \"y_pred\": 35.94295769861061, \"label\": \"Actual\", \"predicted_label\": \"Predicted\"}, {\"date\": \"2022-11-21T00:00:00\", \"y_test\": 35.29999923706055, \"y_pred\": 35.77265080423199, \"label\": \"Actual\", \"predicted_label\": \"Predicted\"}, {\"date\": \"2022-11-22T00:00:00\", \"y_test\": 35.29999923706055, \"y_pred\": 35.360550321282396, \"label\": \"Actual\", \"predicted_label\": \"Predicted\"}, {\"date\": \"2022-11-23T00:00:00\", \"y_test\": 35.70000076293945, \"y_pred\": 35.58300412817602, \"label\": \"Actual\", \"predicted_label\": \"Predicted\"}, {\"date\": \"2022-11-24T00:00:00\", \"y_test\": 36.0, \"y_pred\": 35.572810707933215, \"label\": \"Actual\", \"predicted_label\": \"Predicted\"}, {\"date\": \"2022-11-25T00:00:00\", \"y_test\": 37.34999847412109, \"y_pred\": 35.8417677274951, \"label\": \"Actual\", \"predicted_label\": \"Predicted\"}, {\"date\": \"2022-11-28T00:00:00\", \"y_test\": 37.400001525878906, \"y_pred\": 37.47062235948094, \"label\": \"Actual\", \"predicted_label\": \"Predicted\"}, {\"date\": \"2022-11-29T00:00:00\", \"y_test\": 37.09999847412109, \"y_pred\": 37.49198901971161, \"label\": \"Actual\", \"predicted_label\": \"Predicted\"}, {\"date\": \"2022-11-30T00:00:00\", \"y_test\": 37.29999923706055, \"y_pred\": 36.75002754717729, \"label\": \"Actual\", \"predicted_label\": \"Predicted\"}, {\"date\": \"2022-12-01T00:00:00\", \"y_test\": 41.29999923706055, \"y_pred\": 37.81778892809017, \"label\": \"Actual\", \"predicted_label\": \"Predicted\"}, {\"date\": \"2022-12-02T00:00:00\", \"y_test\": 42.20000076293945, \"y_pred\": 41.06068781341719, \"label\": \"Actual\", \"predicted_label\": \"Predicted\"}, {\"date\": \"2022-12-05T00:00:00\", \"y_test\": 42.59999847412109, \"y_pred\": 42.57374754426913, \"label\": \"Actual\", \"predicted_label\": \"Predicted\"}, {\"date\": \"2022-12-06T00:00:00\", \"y_test\": 41.34999847412109, \"y_pred\": 42.64472226124011, \"label\": \"Actual\", \"predicted_label\": \"Predicted\"}, {\"date\": \"2022-12-07T00:00:00\", \"y_test\": 40.650001525878906, \"y_pred\": 41.09234342801357, \"label\": \"Actual\", \"predicted_label\": \"Predicted\"}, {\"date\": \"2022-12-08T00:00:00\", \"y_test\": 41.79999923706055, \"y_pred\": 40.611259317270544, \"label\": \"Actual\", \"predicted_label\": \"Predicted\"}, {\"date\": \"2022-12-09T00:00:00\", \"y_test\": 41.150001525878906, \"y_pred\": 41.54890458917564, \"label\": \"Actual\", \"predicted_label\": \"Predicted\"}, {\"date\": \"2022-12-12T00:00:00\", \"y_test\": 39.90000152587891, \"y_pred\": 40.21000387876221, \"label\": \"Actual\", \"predicted_label\": \"Predicted\"}, {\"date\": \"2022-12-13T00:00:00\", \"y_test\": 40.20000076293945, \"y_pred\": 40.00574013475293, \"label\": \"Actual\", \"predicted_label\": \"Predicted\"}, {\"date\": \"2022-12-14T00:00:00\", \"y_test\": 43.0, \"y_pred\": 39.92463352220995, \"label\": \"Actual\", \"predicted_label\": \"Predicted\"}, {\"date\": \"2022-12-15T00:00:00\", \"y_test\": 42.45000076293946, \"y_pred\": 42.9661696869671, \"label\": \"Actual\", \"predicted_label\": \"Predicted\"}, {\"date\": \"2022-12-16T00:00:00\", \"y_test\": 41.84999847412108, \"y_pred\": 41.97242460534381, \"label\": \"Actual\", \"predicted_label\": \"Predicted\"}, {\"date\": \"2022-12-19T00:00:00\", \"y_test\": 40.45000076293945, \"y_pred\": 41.10555057623234, \"label\": \"Actual\", \"predicted_label\": \"Predicted\"}, {\"date\": \"2022-12-20T00:00:00\", \"y_test\": 39.75, \"y_pred\": 40.1877349973564, \"label\": \"Actual\", \"predicted_label\": \"Predicted\"}, {\"date\": \"2022-12-21T00:00:00\", \"y_test\": 39.200000762939446, \"y_pred\": 39.382113204546044, \"label\": \"Actual\", \"predicted_label\": \"Predicted\"}, {\"date\": \"2022-12-22T00:00:00\", \"y_test\": 37.900001525878906, \"y_pred\": 38.19129734542409, \"label\": \"Actual\", \"predicted_label\": \"Predicted\"}, {\"date\": \"2022-12-23T00:00:00\", \"y_test\": 36.54999923706055, \"y_pred\": 37.639212484918424, \"label\": \"Actual\", \"predicted_label\": \"Predicted\"}, {\"date\": \"2022-12-26T00:00:00\", \"y_test\": 36.29999923706054, \"y_pred\": 35.69881721398148, \"label\": \"Actual\", \"predicted_label\": \"Predicted\"}, {\"date\": \"2022-12-27T00:00:00\", \"y_test\": 37.25, \"y_pred\": 37.21690267142429, \"label\": \"Actual\", \"predicted_label\": \"Predicted\"}, {\"date\": \"2022-12-28T00:00:00\", \"y_test\": 38.150001525878906, \"y_pred\": 37.96757856564568, \"label\": \"Actual\", \"predicted_label\": \"Predicted\"}, {\"date\": \"2022-12-29T00:00:00\", \"y_test\": 37.59999847412109, \"y_pred\": 38.84380800128647, \"label\": \"Actual\", \"predicted_label\": \"Predicted\"}, {\"date\": \"2022-12-30T00:00:00\", \"y_test\": 37.849998474121094, \"y_pred\": 38.068810580899545, \"label\": \"Actual\", \"predicted_label\": \"Predicted\"}, {\"date\": \"2023-01-02T00:00:00\", \"y_test\": 37.84999847412109, \"y_pred\": 37.930242803520066, \"label\": \"Actual\", \"predicted_label\": \"Predicted\"}, {\"date\": \"2023-01-03T00:00:00\", \"y_test\": 38.04999923706055, \"y_pred\": 38.457675304296544, \"label\": \"Actual\", \"predicted_label\": \"Predicted\"}, {\"date\": \"2023-01-04T00:00:00\", \"y_test\": 37.75, \"y_pred\": 38.470093638539595, \"label\": \"Actual\", \"predicted_label\": \"Predicted\"}, {\"date\": \"2023-01-05T00:00:00\", \"y_test\": 37.50000000000001, \"y_pred\": 37.72064017768816, \"label\": \"Actual\", \"predicted_label\": \"Predicted\"}, {\"date\": \"2023-01-06T00:00:00\", \"y_test\": 37.54999923706055, \"y_pred\": 37.794571427121866, \"label\": \"Actual\", \"predicted_label\": \"Predicted\"}, {\"date\": \"2023-01-09T00:00:00\", \"y_test\": 37.34999847412109, \"y_pred\": 37.53865791422709, \"label\": \"Actual\", \"predicted_label\": \"Predicted\"}, {\"date\": \"2023-01-10T00:00:00\", \"y_test\": 37.0, \"y_pred\": 37.556040327254436, \"label\": \"Actual\", \"predicted_label\": \"Predicted\"}, {\"date\": \"2023-01-11T00:00:00\", \"y_test\": 37.09999847412109, \"y_pred\": 37.03594098793066, \"label\": \"Actual\", \"predicted_label\": \"Predicted\"}, {\"date\": \"2023-01-12T00:00:00\", \"y_test\": 37.0, \"y_pred\": 37.369614532334595, \"label\": \"Actual\", \"predicted_label\": \"Predicted\"}, {\"date\": \"2023-01-13T00:00:00\", \"y_test\": 36.75, \"y_pred\": 37.00657738706663, \"label\": \"Actual\", \"predicted_label\": \"Predicted\"}, {\"date\": \"2023-01-16T00:00:00\", \"y_test\": 37.59999847412109, \"y_pred\": 37.037735168171366, \"label\": \"Actual\", \"predicted_label\": \"Predicted\"}, {\"date\": \"2023-01-17T00:00:00\", \"y_test\": 37.29999923706055, \"y_pred\": 37.6303570980021, \"label\": \"Actual\", \"predicted_label\": \"Predicted\"}, {\"date\": \"2023-01-18T00:00:00\", \"y_test\": 36.5, \"y_pred\": 37.134239313658576, \"label\": \"Actual\", \"predicted_label\": \"Predicted\"}, {\"date\": \"2023-01-19T00:00:00\", \"y_test\": 35.95000076293945, \"y_pred\": 36.550496515187675, \"label\": \"Actual\", \"predicted_label\": \"Predicted\"}, {\"date\": \"2023-01-20T00:00:00\", \"y_test\": 35.549999237060554, \"y_pred\": 35.81816980738224, \"label\": \"Actual\", \"predicted_label\": \"Predicted\"}, {\"date\": \"2023-01-23T00:00:00\", \"y_test\": 35.45000076293945, \"y_pred\": 35.907303600385994, \"label\": \"Actual\", \"predicted_label\": \"Predicted\"}, {\"date\": \"2023-01-24T00:00:00\", \"y_test\": 35.099998474121094, \"y_pred\": 35.42685010690561, \"label\": \"Actual\", \"predicted_label\": \"Predicted\"}, {\"date\": \"2023-01-25T00:00:00\", \"y_test\": 34.849998474121094, \"y_pred\": 35.32494104958493, \"label\": \"Actual\", \"predicted_label\": \"Predicted\"}, {\"date\": \"2023-01-27T00:00:00\", \"y_test\": 34.04999923706055, \"y_pred\": 34.5878803152196, \"label\": \"Actual\", \"predicted_label\": \"Predicted\"}, {\"date\": \"2023-01-30T00:00:00\", \"y_test\": 33.400001525878906, \"y_pred\": 33.38369232672868, \"label\": \"Actual\", \"predicted_label\": \"Predicted\"}, {\"date\": \"2023-01-31T00:00:00\", \"y_test\": 34.150001525878906, \"y_pred\": 33.60550097235825, \"label\": \"Actual\", \"predicted_label\": \"Predicted\"}, {\"date\": \"2023-02-01T00:00:00\", \"y_test\": 34.400001525878906, \"y_pred\": 34.90421058309195, \"label\": \"Actual\", \"predicted_label\": \"Predicted\"}, {\"date\": \"2023-02-02T00:00:00\", \"y_test\": 33.04999923706055, \"y_pred\": 32.774020828220976, \"label\": \"Actual\", \"predicted_label\": \"Predicted\"}, {\"date\": \"2023-02-03T00:00:00\", \"y_test\": 32.599998474121094, \"y_pred\": 32.93378302303004, \"label\": \"Actual\", \"predicted_label\": \"Predicted\"}, {\"date\": \"2023-02-06T00:00:00\", \"y_test\": 32.54999923706055, \"y_pred\": 33.00485450868899, \"label\": \"Actual\", \"predicted_label\": \"Predicted\"}, {\"date\": \"2023-02-07T00:00:00\", \"y_test\": 32.45000076293945, \"y_pred\": 32.8209838557226, \"label\": \"Actual\", \"predicted_label\": \"Predicted\"}, {\"date\": \"2023-02-08T00:00:00\", \"y_test\": 32.29999923706055, \"y_pred\": 32.48923605929005, \"label\": \"Actual\", \"predicted_label\": \"Predicted\"}, {\"date\": \"2023-02-09T00:00:00\", \"y_test\": 34.29999923706055, \"y_pred\": 32.70633659044551, \"label\": \"Actual\", \"predicted_label\": \"Predicted\"}, {\"date\": \"2023-02-10T00:00:00\", \"y_test\": 34.79999923706055, \"y_pred\": 34.738860640526184, \"label\": \"Actual\", \"predicted_label\": \"Predicted\"}, {\"date\": \"2023-02-13T00:00:00\", \"y_test\": 34.0, \"y_pred\": 34.82202148818125, \"label\": \"Actual\", \"predicted_label\": \"Predicted\"}, {\"date\": \"2023-02-14T00:00:00\", \"y_test\": 33.599998474121094, \"y_pred\": 33.90767783240273, \"label\": \"Actual\", \"predicted_label\": \"Predicted\"}, {\"date\": \"2023-02-15T00:00:00\", \"y_test\": 33.400001525878906, \"y_pred\": 33.12308173944289, \"label\": \"Actual\", \"predicted_label\": \"Predicted\"}, {\"date\": \"2023-02-16T00:00:00\", \"y_test\": 33.400001525878906, \"y_pred\": 33.61472821795062, \"label\": \"Actual\", \"predicted_label\": \"Predicted\"}, {\"date\": \"2023-02-17T00:00:00\", \"y_test\": 34.099998474121094, \"y_pred\": 33.57289589705099, \"label\": \"Actual\", \"predicted_label\": \"Predicted\"}, {\"date\": \"2023-02-20T00:00:00\", \"y_test\": 33.75, \"y_pred\": 33.91918770534796, \"label\": \"Actual\", \"predicted_label\": \"Predicted\"}, {\"date\": \"2023-02-21T00:00:00\", \"y_test\": 32.75, \"y_pred\": 33.15159495131945, \"label\": \"Actual\", \"predicted_label\": \"Predicted\"}, {\"date\": \"2023-02-22T00:00:00\", \"y_test\": 32.5, \"y_pred\": 32.92538513160988, \"label\": \"Actual\", \"predicted_label\": \"Predicted\"}, {\"date\": \"2023-02-23T00:00:00\", \"y_test\": 32.20000076293945, \"y_pred\": 32.55795665134061, \"label\": \"Actual\", \"predicted_label\": \"Predicted\"}, {\"date\": \"2023-02-24T00:00:00\", \"y_test\": 31.85000038146973, \"y_pred\": 31.96311250520328, \"label\": \"Actual\", \"predicted_label\": \"Predicted\"}, {\"date\": \"2023-02-27T00:00:00\", \"y_test\": 31.299999237060547, \"y_pred\": 31.856961019303398, \"label\": \"Actual\", \"predicted_label\": \"Predicted\"}, {\"date\": \"2023-02-28T00:00:00\", \"y_test\": 32.5, \"y_pred\": 31.131971987380208, \"label\": \"Actual\", \"predicted_label\": \"Predicted\"}, {\"date\": \"2023-03-01T00:00:00\", \"y_test\": 32.400001525878906, \"y_pred\": 32.52052247747708, \"label\": \"Actual\", \"predicted_label\": \"Predicted\"}, {\"date\": \"2023-03-02T00:00:00\", \"y_test\": 32.29999923706055, \"y_pred\": 32.67168786454241, \"label\": \"Actual\", \"predicted_label\": \"Predicted\"}, {\"date\": \"2023-03-03T00:00:00\", \"y_test\": 32.619998931884766, \"y_pred\": 32.473477843160055, \"label\": \"Actual\", \"predicted_label\": \"Predicted\"}, {\"date\": \"2023-03-06T00:00:00\", \"y_test\": 33.22999954223633, \"y_pred\": 32.63471775441708, \"label\": \"Actual\", \"predicted_label\": \"Predicted\"}, {\"date\": \"2023-03-08T00:00:00\", \"y_test\": 32.70000076293945, \"y_pred\": 33.0698575762679, \"label\": \"Actual\", \"predicted_label\": \"Predicted\"}, {\"date\": \"2023-03-09T00:00:00\", \"y_test\": 33.22999954223633, \"y_pred\": 33.13896140455182, \"label\": \"Actual\", \"predicted_label\": \"Predicted\"}, {\"date\": \"2023-03-10T00:00:00\", \"y_test\": 32.33000183105469, \"y_pred\": 33.18772218005984, \"label\": \"Actual\", \"predicted_label\": \"Predicted\"}, {\"date\": \"2023-03-13T00:00:00\", \"y_test\": 31.729999542236328, \"y_pred\": 32.04061890742307, \"label\": \"Actual\", \"predicted_label\": \"Predicted\"}, {\"date\": \"2023-03-14T00:00:00\", \"y_test\": 30.850000381469727, \"y_pred\": 31.143312773639803, \"label\": \"Actual\", \"predicted_label\": \"Predicted\"}, {\"date\": \"2023-03-15T00:00:00\", \"y_test\": 30.709999084472656, \"y_pred\": 30.779204386898456, \"label\": \"Actual\", \"predicted_label\": \"Predicted\"}, {\"date\": \"2023-03-16T00:00:00\", \"y_test\": 30.989999771118168, \"y_pred\": 29.384209103455657, \"label\": \"Actual\", \"predicted_label\": \"Predicted\"}, {\"date\": \"2023-03-17T00:00:00\", \"y_test\": 30.840000152587887, \"y_pred\": 31.09728358580935, \"label\": \"Actual\", \"predicted_label\": \"Predicted\"}, {\"date\": \"2023-03-20T00:00:00\", \"y_test\": 31.71999931335449, \"y_pred\": 30.55089058177891, \"label\": \"Actual\", \"predicted_label\": \"Predicted\"}, {\"date\": \"2023-03-21T00:00:00\", \"y_test\": 31.19000053405762, \"y_pred\": 31.34769202713891, \"label\": \"Actual\", \"predicted_label\": \"Predicted\"}, {\"date\": \"2023-03-22T00:00:00\", \"y_test\": 30.79999923706055, \"y_pred\": 31.21688837553886, \"label\": \"Actual\", \"predicted_label\": \"Predicted\"}, {\"date\": \"2023-03-23T00:00:00\", \"y_test\": 30.450000762939453, \"y_pred\": 30.8659138310521, \"label\": \"Actual\", \"predicted_label\": \"Predicted\"}, {\"date\": \"2023-03-24T00:00:00\", \"y_test\": 30.32999992370605, \"y_pred\": 30.850691177304036, \"label\": \"Actual\", \"predicted_label\": \"Predicted\"}, {\"date\": \"2023-03-27T00:00:00\", \"y_test\": 29.479999542236328, \"y_pred\": 29.82329182797831, \"label\": \"Actual\", \"predicted_label\": \"Predicted\"}, {\"date\": \"2023-03-28T00:00:00\", \"y_test\": 28.89999961853028, \"y_pred\": 28.97065988786684, \"label\": \"Actual\", \"predicted_label\": \"Predicted\"}, {\"date\": \"2023-03-29T00:00:00\", \"y_test\": 28.59000015258789, \"y_pred\": 28.431634601412803, \"label\": \"Actual\", \"predicted_label\": \"Predicted\"}, {\"date\": \"2023-03-31T00:00:00\", \"y_test\": 30.249999999999996, \"y_pred\": 28.96537475587227, \"label\": \"Actual\", \"predicted_label\": \"Predicted\"}, {\"date\": \"2023-04-03T00:00:00\", \"y_test\": 30.14999961853028, \"y_pred\": 29.46437029585939, \"label\": \"Actual\", \"predicted_label\": \"Predicted\"}, {\"date\": \"2023-04-05T00:00:00\", \"y_test\": 30.60000038146973, \"y_pred\": 30.48670292907944, \"label\": \"Actual\", \"predicted_label\": \"Predicted\"}, {\"date\": \"2023-04-06T00:00:00\", \"y_test\": 30.479999542236328, \"y_pred\": 30.802761511949523, \"label\": \"Actual\", \"predicted_label\": \"Predicted\"}, {\"date\": \"2023-04-10T00:00:00\", \"y_test\": 31.0, \"y_pred\": 30.822675572592374, \"label\": \"Actual\", \"predicted_label\": \"Predicted\"}, {\"date\": \"2023-04-11T00:00:00\", \"y_test\": 30.610000610351562, \"y_pred\": 30.69665392678453, \"label\": \"Actual\", \"predicted_label\": \"Predicted\"}, {\"date\": \"2023-04-12T00:00:00\", \"y_test\": 30.56999969482422, \"y_pred\": 30.907224969916303, \"label\": \"Actual\", \"predicted_label\": \"Predicted\"}, {\"date\": \"2023-04-13T00:00:00\", \"y_test\": 30.31999969482422, \"y_pred\": 30.411490706843548, \"label\": \"Actual\", \"predicted_label\": \"Predicted\"}, {\"date\": \"2023-04-17T00:00:00\", \"y_test\": 31.73999977111816, \"y_pred\": 30.734301701736904, \"label\": \"Actual\", \"predicted_label\": \"Predicted\"}, {\"date\": \"2023-04-18T00:00:00\", \"y_test\": 30.09000015258789, \"y_pred\": 31.33684621444793, \"label\": \"Actual\", \"predicted_label\": \"Predicted\"}, {\"date\": \"2023-04-19T00:00:00\", \"y_test\": 29.809999465942383, \"y_pred\": 30.15143739308185, \"label\": \"Actual\", \"predicted_label\": \"Predicted\"}, {\"date\": \"2023-04-20T00:00:00\", \"y_test\": 29.80999946594238, \"y_pred\": 30.1014245378252, \"label\": \"Actual\", \"predicted_label\": \"Predicted\"}, {\"date\": \"2023-04-21T00:00:00\", \"y_test\": 29.590000152587894, \"y_pred\": 29.868020371455472, \"label\": \"Actual\", \"predicted_label\": \"Predicted\"}, {\"date\": \"2023-04-24T00:00:00\", \"y_test\": 29.020000457763675, \"y_pred\": 29.28263030783262, \"label\": \"Actual\", \"predicted_label\": \"Predicted\"}, {\"date\": \"2023-04-25T00:00:00\", \"y_test\": 29.299999237060547, \"y_pred\": 29.254397552538098, \"label\": \"Actual\", \"predicted_label\": \"Predicted\"}, {\"date\": \"2023-04-26T00:00:00\", \"y_test\": 29.389999389648438, \"y_pred\": 29.490283950084436, \"label\": \"Actual\", \"predicted_label\": \"Predicted\"}, {\"date\": \"2023-04-27T00:00:00\", \"y_test\": 30.95000076293945, \"y_pred\": 29.676351011137648, \"label\": \"Actual\", \"predicted_label\": \"Predicted\"}, {\"date\": \"2023-04-28T00:00:00\", \"y_test\": 30.600000381469727, \"y_pred\": 30.9922156541756, \"label\": \"Actual\", \"predicted_label\": \"Predicted\"}, {\"date\": \"2023-05-02T00:00:00\", \"y_test\": 30.819999694824222, \"y_pred\": 30.88532315831305, \"label\": \"Actual\", \"predicted_label\": \"Predicted\"}, {\"date\": \"2023-05-03T00:00:00\", \"y_test\": 31.389999389648438, \"y_pred\": 30.655791964362614, \"label\": \"Actual\", \"predicted_label\": \"Predicted\"}, {\"date\": \"2023-05-04T00:00:00\", \"y_test\": 31.840000152587894, \"y_pred\": 31.41526615445363, \"label\": \"Actual\", \"predicted_label\": \"Predicted\"}, {\"date\": \"2023-05-05T00:00:00\", \"y_test\": 31.530000686645508, \"y_pred\": 32.00305546826839, \"label\": \"Actual\", \"predicted_label\": \"Predicted\"}, {\"date\": \"2023-05-08T00:00:00\", \"y_test\": 31.059999465942383, \"y_pred\": 31.340566066892976, \"label\": \"Actual\", \"predicted_label\": \"Predicted\"}, {\"date\": \"2023-05-09T00:00:00\", \"y_test\": 30.930000305175778, \"y_pred\": 31.356120338596494, \"label\": \"Actual\", \"predicted_label\": \"Predicted\"}, {\"date\": \"2023-05-10T00:00:00\", \"y_test\": 33.22999954223633, \"y_pred\": 30.61549776498988, \"label\": \"Actual\", \"predicted_label\": \"Predicted\"}, {\"date\": \"2023-05-11T00:00:00\", \"y_test\": 33.33000183105469, \"y_pred\": 33.75400003477587, \"label\": \"Actual\", \"predicted_label\": \"Predicted\"}, {\"date\": \"2023-05-12T00:00:00\", \"y_test\": 32.93000030517578, \"y_pred\": 33.080514807140375, \"label\": \"Actual\", \"predicted_label\": \"Predicted\"}, {\"date\": \"2023-05-15T00:00:00\", \"y_test\": 33.150001525878906, \"y_pred\": 33.195656682653436, \"label\": \"Actual\", \"predicted_label\": \"Predicted\"}, {\"date\": \"2023-05-16T00:00:00\", \"y_test\": 33.189998626708984, \"y_pred\": 33.38641463888508, \"label\": \"Actual\", \"predicted_label\": \"Predicted\"}, {\"date\": \"2023-05-17T00:00:00\", \"y_test\": 32.65999984741211, \"y_pred\": 33.088003816592085, \"label\": \"Actual\", \"predicted_label\": \"Predicted\"}, {\"date\": \"2023-05-19T00:00:00\", \"y_test\": 31.39999961853028, \"y_pred\": 32.293047118896695, \"label\": \"Actual\", \"predicted_label\": \"Predicted\"}, {\"date\": \"2023-05-22T00:00:00\", \"y_test\": 30.979999542236328, \"y_pred\": 31.268990539745232, \"label\": \"Actual\", \"predicted_label\": \"Predicted\"}, {\"date\": \"2023-05-23T00:00:00\", \"y_test\": 33.22999954223633, \"y_pred\": 31.220762132153553, \"label\": \"Actual\", \"predicted_label\": \"Predicted\"}, {\"date\": \"2023-05-24T00:00:00\", \"y_test\": 35.779998779296875, \"y_pred\": 33.635263284778205, \"label\": \"Actual\", \"predicted_label\": \"Predicted\"}, {\"date\": \"2023-05-25T00:00:00\", \"y_test\": 35.0, \"y_pred\": 35.20905393434301, \"label\": \"Actual\", \"predicted_label\": \"Predicted\"}, {\"date\": \"2023-05-26T00:00:00\", \"y_test\": 35.290000915527344, \"y_pred\": 35.38844006485338, \"label\": \"Actual\", \"predicted_label\": \"Predicted\"}, {\"date\": \"2023-05-30T00:00:00\", \"y_test\": 35.54999923706055, \"y_pred\": 34.93732981745421, \"label\": \"Actual\", \"predicted_label\": \"Predicted\"}, {\"date\": \"2023-05-31T00:00:00\", \"y_test\": 35.54999923706055, \"y_pred\": 35.99748425375679, \"label\": \"Actual\", \"predicted_label\": \"Predicted\"}]}}, {\"mode\": \"vega-lite\"});\n",
       "</script>"
      ],
      "text/plain": [
       "alt.LayerChart(...)"
      ]
     },
     "execution_count": 25,
     "metadata": {},
     "output_type": "execute_result"
    }
   ],
   "source": [
    "import altair as alt\n",
    "\n",
    "alt.themes.enable('fivethirtyeight')\n",
    "\n",
    "predictions_df['date'] = pd.to_datetime(predictions_df['date'])\n",
    "\n",
    "predictions_df['label'] = 'Actual'\n",
    "predictions_df['predicted_label'] = 'Predicted'\n",
    "\n",
    "# Actual high price line\n",
    "line1 = alt.Chart(predictions_df).mark_line(strokeWidth=2).encode(\n",
    "    x='date:T',\n",
    "    y=alt.Y('y_test:Q', title='Price', scale=alt.Scale(zero=False)),\n",
    "    color=alt.Color('label:N', legend=alt.Legend(title=\"Line Type\")),\n",
    "    tooltip=['date', 'y_test', 'y_pred']\n",
    ")\n",
    "\n",
    "# Predicted high price line\n",
    "line2 = alt.Chart(predictions_df).mark_line(strokeWidth=1, strokeDash=[3, 3]).encode(\n",
    "    x='date:T',\n",
    "    y=alt.Y('y_pred:Q', title='', scale=alt.Scale(zero=False)),\n",
    "    color=alt.Color('predicted_label:N', legend=alt.Legend(title=\"Line Type\")),\n",
    "    tooltip=['date', 'y_test', 'y_pred']\n",
    ")\n",
    "\n",
    "# Combine the two lines\n",
    "chart = alt.layer(line1, line2).properties(\n",
    "    title='Actual vs Predicted High Prices',\n",
    "    width=650,\n",
    "    height=400\n",
    ").interactive()\n",
    "\n",
    "chart"
   ]
  },
  {
   "cell_type": "code",
   "execution_count": 26,
   "id": "b0941535",
   "metadata": {},
   "outputs": [
    {
     "name": "stdout",
     "output_type": "stream",
     "text": [
      "trend_ema_slow: -0.042384121563673674\n",
      "trend_macd: -0.024361812091876704\n",
      "volatility_dcw: 0.020595180095693933\n",
      "trend_vortex_ind_neg: -0.018562415149462896\n",
      "trend_sma_slow: 0.01492941512290998\n",
      "volatility_dcl: -0.012847240793315158\n",
      "trend_trix: -0.01006154470898059\n",
      "volatility_ui: 0.004831773028144796\n",
      "volatility_dcm: -0.0045444532433988796\n",
      "volatility_bbhi: -0.003717984939178211\n"
     ]
    }
   ],
   "source": [
    "feature_names = df.columns.tolist()\n",
    "\n",
    "# Get coefficients from the model\n",
    "coefficients = model_50.coef_\n",
    "\n",
    "# Map coefficients to corresponding feature names\n",
    "feature_coefficient_mapping = dict(zip(feature_names, coefficients))\n",
    "\n",
    "# Sort by absolute coefficient values (magnitude)\n",
    "sorted_features = sorted(feature_coefficient_mapping.items(), key=lambda x: abs(x[1]), reverse=True)\n",
    "\n",
    "# Display top 10\n",
    "for feature, coef in sorted_features[:10]:\n",
    "    print(f\"{feature}: {coef}\")"
   ]
  },
  {
   "cell_type": "markdown",
   "id": "d453cdc1",
   "metadata": {},
   "source": [
    "Repeat the process for the top 50 features without sentiment of TV18BRDCST.BO"
   ]
  },
  {
   "cell_type": "code",
   "execution_count": 27,
   "id": "bedc54d2",
   "metadata": {},
   "outputs": [],
   "source": [
    "df = pd.read_csv('../../../datasets/processed_data/combined_features/TV18BRDCST.BO.csv')"
   ]
  },
  {
   "cell_type": "code",
   "execution_count": 28,
   "id": "f58c8330",
   "metadata": {},
   "outputs": [],
   "source": [
    "df_without_sentiment = df.drop(columns=['agg_polarity', 'agg_compound', 'topic_polarity', 'topic_compound', 'ticker_polarity', 'ticker_compound'])"
   ]
  },
  {
   "cell_type": "code",
   "execution_count": 29,
   "id": "f685ca3d",
   "metadata": {},
   "outputs": [],
   "source": [
    "df_without_sentiment = create_custom_target(df_without_sentiment)"
   ]
  },
  {
   "cell_type": "code",
   "execution_count": 30,
   "id": "b5eab8ac",
   "metadata": {},
   "outputs": [],
   "source": [
    "# Drop cols with NaN values\n",
    "df_without_sentiment = df_without_sentiment.dropna(axis=1, how='all')\n",
    "df_without_sentiment.fillna(method='ffill', inplace=True)"
   ]
  },
  {
   "cell_type": "code",
   "execution_count": 31,
   "id": "601bfb89",
   "metadata": {},
   "outputs": [],
   "source": [
    "combined_date_df = df_without_sentiment['date']\n",
    "train_date, test_date = train_test_split(combined_date_df, train_size=0.8, shuffle=False)"
   ]
  },
  {
   "cell_type": "code",
   "execution_count": 32,
   "id": "0344f669",
   "metadata": {},
   "outputs": [],
   "source": [
    "df_without_date = df_without_sentiment.drop(columns=[\"date\"])"
   ]
  },
  {
   "cell_type": "code",
   "execution_count": 33,
   "id": "078527e2",
   "metadata": {},
   "outputs": [],
   "source": [
    "df_without_date.dropna(inplace=True)"
   ]
  },
  {
   "cell_type": "code",
   "execution_count": null,
   "id": "35263d3b",
   "metadata": {},
   "outputs": [],
   "source": [
    "# do train/test split the data with shuffle = False\n",
    "train_data, test_data = train_test_split(df_without_date, train_size=0.8, shuffle=False)\n",
    "\n",
    "# convert timeseries to be used in supervise learning model\n",
    "X_train, y_train, indx_train = timeseries_to_supervise(train_data, window_size, 'ln_target')  \n",
    "\n",
    "# convert timeseries to be used in supervise learning model    \n",
    "X_test, y_test, indx_test = timeseries_to_supervise(test_data, window_size, 'ln_target')  "
   ]
  },
  {
   "cell_type": "code",
   "execution_count": null,
   "id": "9989d906",
   "metadata": {},
   "outputs": [],
   "source": [
    "selector = SelectKBest(score_func=f_regression, k=50)\n",
    "X_train_50 = selector.fit_transform(X_train, y_train)\n",
    "X_test_50 = selector.transform(X_test)"
   ]
  },
  {
   "cell_type": "code",
   "execution_count": null,
   "id": "553c63a5",
   "metadata": {},
   "outputs": [],
   "source": [
    "linear_reg = LinearRegression()\n",
    "\n",
    "param_grid = {\n",
    "    'fit_intercept': [True, False],         \n",
    "}\n",
    "\n",
    "grid_search = GridSearchCV(linear_reg, param_grid, cv=5, scoring='neg_mean_squared_error', n_jobs=-1)\n",
    "grid_search.fit(X_train_50, y_train)\n",
    "\n",
    "print(\"Best parameters: \", grid_search.best_params_)\n",
    "print(\"Best cross-validation score: \", -grid_search.best_score_)\n",
    "\n",
    "model_50 = grid_search.best_estimator_\n",
    "model_50.fit(X_train_50, y_train)"
   ]
  },
  {
   "cell_type": "code",
   "execution_count": null,
   "id": "78efdffd",
   "metadata": {},
   "outputs": [],
   "source": [
    "predictions_df, mape, rmse = evaluate_model(model_50, window_size, test_data, test_date, X_test_50, y_test)"
   ]
  },
  {
   "cell_type": "code",
   "execution_count": null,
   "id": "8dbe3c49",
   "metadata": {},
   "outputs": [],
   "source": [
    "predictions_df, mape, rmse"
   ]
  },
  {
   "cell_type": "code",
   "execution_count": null,
   "id": "db23d32c",
   "metadata": {},
   "outputs": [],
   "source": [
    "print(f\"MAPE for model with top 50 features without sentiment features: {mape*100:.2f}%\")"
   ]
  },
  {
   "cell_type": "code",
   "execution_count": null,
   "id": "700e5b8f",
   "metadata": {
    "scrolled": true
   },
   "outputs": [],
   "source": [
    "import altair as alt\n",
    "\n",
    "alt.themes.enable('fivethirtyeight')\n",
    "\n",
    "predictions_df['date'] = pd.to_datetime(predictions_df['date'])\n",
    "\n",
    "predictions_df['label'] = 'Actual'\n",
    "predictions_df['predicted_label'] = 'Predicted'\n",
    "\n",
    "# Actual high price line\n",
    "line1 = alt.Chart(predictions_df).mark_line(strokeWidth=2).encode(\n",
    "    x='date:T',\n",
    "    y=alt.Y('y_test:Q', title='Price', scale=alt.Scale(zero=False)),\n",
    "    color=alt.Color('label:N', legend=alt.Legend(title=\"Line Type\")),\n",
    "    tooltip=['date', 'y_test', 'y_pred']\n",
    ")\n",
    "\n",
    "# Predicted high price line\n",
    "line2 = alt.Chart(predictions_df).mark_line(strokeWidth=1, strokeDash=[3, 3]).encode(\n",
    "    x='date:T',\n",
    "    y=alt.Y('y_pred:Q', title='', scale=alt.Scale(zero=False)),\n",
    "    color=alt.Color('predicted_label:N', legend=alt.Legend(title=\"Line Type\")),\n",
    "    tooltip=['date', 'y_test', 'y_pred']\n",
    ")\n",
    "\n",
    "# Combine the two lines\n",
    "chart = alt.layer(line1, line2).properties(\n",
    "    title='Actual vs Predicted High Prices(MAPE: 1.77%)',\n",
    "    width=650,\n",
    "    height=400\n",
    ").interactive()\n",
    "\n",
    "chart"
   ]
  },
  {
   "cell_type": "code",
   "execution_count": 42,
   "id": "101d1f5a",
   "metadata": {},
   "outputs": [],
   "source": [
    "predictions_df.to_csv(\"lr_TV18BRDCST_without_sentiment.csv\", index=False)"
   ]
  },
  {
   "cell_type": "code",
   "execution_count": 43,
   "id": "364aee0a",
   "metadata": {},
   "outputs": [
    {
     "name": "stdout",
     "output_type": "stream",
     "text": [
      "trend_ema_slow: -0.02432081930828331\n",
      "trend_macd_diff: 0.020634906982578853\n",
      "trend_trix: 0.014832624278231234\n",
      "volatility_ui: -0.012838216716245512\n",
      "trend_ema_fast: 0.004850250065176541\n",
      "trend_macd_signal: -0.0045606196249826925\n",
      "volatility_kcp: -0.0038193253933221836\n",
      "volatility_bbhi: 0.0036382278561773295\n",
      "trend_vortex_ind_diff: -0.0024387921063929265\n",
      "volatility_atr: 0.0022409886778070533\n"
     ]
    }
   ],
   "source": [
    "feature_names = df.columns.tolist()\n",
    "\n",
    "# Get coefficients from the model\n",
    "coefficients = model_50.coef_\n",
    "\n",
    "# Map coefficients to corresponding feature names\n",
    "feature_coefficient_mapping = dict(zip(feature_names, coefficients))\n",
    "\n",
    "# Sort by absolute coefficient values (magnitude)\n",
    "sorted_features = sorted(feature_coefficient_mapping.items(), key=lambda x: abs(x[1]), reverse=True)\n",
    "\n",
    "# Display top 10\n",
    "for feature, coef in sorted_features[:10]:\n",
    "    print(f\"{feature}: {coef}\")"
   ]
  }
 ],
 "metadata": {
  "kernelspec": {
   "display_name": "Python 3 (ipykernel)",
   "language": "python",
   "name": "python3"
  },
  "language_info": {
   "codemirror_mode": {
    "name": "ipython",
    "version": 3
   },
   "file_extension": ".py",
   "mimetype": "text/x-python",
   "name": "python",
   "nbconvert_exporter": "python",
   "pygments_lexer": "ipython3",
   "version": "3.10.12"
  }
 },
 "nbformat": 4,
 "nbformat_minor": 5
}
