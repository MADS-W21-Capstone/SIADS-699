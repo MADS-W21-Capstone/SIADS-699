{
 "cells": [
  {
   "cell_type": "code",
   "execution_count": 4,
   "id": "8bac9e82",
   "metadata": {},
   "outputs": [],
   "source": [
    "import pandas as pd\n",
    "import seaborn as sns\n",
    "import matplotlib.pyplot as plt\n",
    "import numpy as np\n",
    "\n",
    "from sklearn.model_selection import train_test_split\n",
    "from sklearn.feature_selection import SelectFromModel\n",
    "from sklearn.preprocessing import StandardScaler\n",
    "from sklearn.metrics import mean_squared_error, r2_score, mean_absolute_percentage_error\n",
    "from sklearn.feature_selection import SelectKBest, f_regression\n",
    "from sklearn.linear_model import LinearRegression\n",
    "from sklearn.model_selection import GridSearchCV"
   ]
  },
  {
   "cell_type": "code",
   "execution_count": 5,
   "id": "bc46f51b",
   "metadata": {},
   "outputs": [],
   "source": [
    "df = pd.read_csv('../../../datasets/processed_data/combined_features/ELGIEQUIP.BO.csv')"
   ]
  },
  {
   "cell_type": "code",
   "execution_count": 6,
   "id": "7aa43669",
   "metadata": {},
   "outputs": [
    {
     "data": {
      "text/plain": [
       "Index(['date', 'open', 'close', 'adj close', 'volume', 'high', 'low',\n",
       "       'volume_adi', 'volume_obv', 'volume_cmf',\n",
       "       ...\n",
       "       'treasury_yeild_10_years_percent_change', 'usdx-index_percent_change',\n",
       "       '^nsei_percent_change', '^bsesn_percent_change', '^gspc_percent_change',\n",
       "       'hsi_percent_change', 'sha_percent_change', '^sti_percent_change',\n",
       "       'yesterday_close', 'ln_target'],\n",
       "      dtype='object', length=635)"
      ]
     },
     "execution_count": 6,
     "metadata": {},
     "output_type": "execute_result"
    }
   ],
   "source": [
    "df.columns"
   ]
  },
  {
   "cell_type": "code",
   "execution_count": 7,
   "id": "386d6ea0",
   "metadata": {},
   "outputs": [],
   "source": [
    "def create_custom_target(df: pd.DataFrame) -> pd.DataFrame:\n",
    "    \"\"\"\n",
    "    This function creates the custom target price, which is computed as ln(high/yesterday_close)\n",
    "    \"\"\"    \n",
    "    # make a copy of the dataframe so as not to change the original dataframe\n",
    "    data_df = df.copy()\n",
    "    \n",
    "    # create yesterday_close feature as\n",
    "    data_df['yesterday_close'] = data_df['close'].shift(1)\n",
    "    \n",
    "    # create custom target price to predict, computing  ln(high/yesterday_close)\n",
    "    data_df['ln_target'] = np.log(data_df['high'] / data_df['yesterday_close'])\n",
    "    \n",
    "    # as yesterday close would not be available for first day, \n",
    "    # we would not have custom target price for that day, which needs to be excluded \n",
    "    return(data_df.iloc[1:, ])"
   ]
  },
  {
   "cell_type": "code",
   "execution_count": 8,
   "id": "168dc871",
   "metadata": {},
   "outputs": [],
   "source": [
    "df = create_custom_target(df)"
   ]
  },
  {
   "cell_type": "code",
   "execution_count": 9,
   "id": "77aff531",
   "metadata": {},
   "outputs": [
    {
     "data": {
      "text/plain": [
       "1        13.225000\n",
       "2        13.175000\n",
       "3        12.812500\n",
       "4        12.787500\n",
       "5        12.650000\n",
       "           ...    \n",
       "3676    538.549988\n",
       "3677    571.549988\n",
       "3678    556.349976\n",
       "3679    543.400024\n",
       "3680    534.200012\n",
       "Name: yesterday_close, Length: 3680, dtype: float64"
      ]
     },
     "execution_count": 9,
     "metadata": {},
     "output_type": "execute_result"
    }
   ],
   "source": [
    "df['yesterday_close']"
   ]
  },
  {
   "cell_type": "code",
   "execution_count": 10,
   "id": "cd3037ab",
   "metadata": {},
   "outputs": [
    {
     "data": {
      "text/plain": [
       "1       0.016870\n",
       "2       0.022515\n",
       "3       0.014528\n",
       "4      -0.004900\n",
       "5       0.113823\n",
       "          ...   \n",
       "3676    0.079307\n",
       "3677    0.020350\n",
       "3678    0.011971\n",
       "3679    0.012073\n",
       "3680    0.027328\n",
       "Name: ln_target, Length: 3680, dtype: float64"
      ]
     },
     "execution_count": 10,
     "metadata": {},
     "output_type": "execute_result"
    }
   ],
   "source": [
    "df['ln_target'] "
   ]
  },
  {
   "cell_type": "code",
   "execution_count": 11,
   "id": "0f0c8853",
   "metadata": {},
   "outputs": [],
   "source": [
    "# Drop cols with NaN values\n",
    "df = df.dropna(axis=1, how='all')\n",
    "df.fillna(method='ffill', inplace=True)"
   ]
  },
  {
   "cell_type": "code",
   "execution_count": 12,
   "id": "98208747",
   "metadata": {},
   "outputs": [],
   "source": [
    "combined_date_df = df['date']\n",
    "train_date, test_date = train_test_split(combined_date_df, train_size=0.8, shuffle=False)"
   ]
  },
  {
   "cell_type": "code",
   "execution_count": 13,
   "id": "6fbc2ddf",
   "metadata": {},
   "outputs": [],
   "source": [
    "df_without_date = df.drop(columns=[\"date\"])"
   ]
  },
  {
   "cell_type": "code",
   "execution_count": 14,
   "id": "f76227c5",
   "metadata": {},
   "outputs": [],
   "source": [
    "df_without_date.dropna(inplace=True)"
   ]
  },
  {
   "cell_type": "code",
   "execution_count": 15,
   "id": "161232e2",
   "metadata": {},
   "outputs": [
    {
     "data": {
      "text/html": [
       "<div>\n",
       "<style scoped>\n",
       "    .dataframe tbody tr th:only-of-type {\n",
       "        vertical-align: middle;\n",
       "    }\n",
       "\n",
       "    .dataframe tbody tr th {\n",
       "        vertical-align: top;\n",
       "    }\n",
       "\n",
       "    .dataframe thead th {\n",
       "        text-align: right;\n",
       "    }\n",
       "</style>\n",
       "<table border=\"1\" class=\"dataframe\">\n",
       "  <thead>\n",
       "    <tr style=\"text-align: right;\">\n",
       "      <th></th>\n",
       "      <th>open</th>\n",
       "      <th>close</th>\n",
       "      <th>adj close</th>\n",
       "      <th>volume</th>\n",
       "      <th>high</th>\n",
       "      <th>low</th>\n",
       "      <th>volume_adi</th>\n",
       "      <th>volume_obv</th>\n",
       "      <th>volume_cmf</th>\n",
       "      <th>volume_fi</th>\n",
       "      <th>...</th>\n",
       "      <th>treasury_yeild_10_years_percent_change</th>\n",
       "      <th>usdx-index_percent_change</th>\n",
       "      <th>^nsei_percent_change</th>\n",
       "      <th>^bsesn_percent_change</th>\n",
       "      <th>^gspc_percent_change</th>\n",
       "      <th>hsi_percent_change</th>\n",
       "      <th>sha_percent_change</th>\n",
       "      <th>^sti_percent_change</th>\n",
       "      <th>yesterday_close</th>\n",
       "      <th>ln_target</th>\n",
       "    </tr>\n",
       "  </thead>\n",
       "  <tbody>\n",
       "    <tr>\n",
       "      <th>1</th>\n",
       "      <td>13.325000</td>\n",
       "      <td>13.175000</td>\n",
       "      <td>9.008792</td>\n",
       "      <td>8928</td>\n",
       "      <td>13.450000</td>\n",
       "      <td>13.125000</td>\n",
       "      <td>-3.672473e+04</td>\n",
       "      <td>-43588</td>\n",
       "      <td>-0.292259</td>\n",
       "      <td>-4.452554e+03</td>\n",
       "      <td>...</td>\n",
       "      <td>-0.018383</td>\n",
       "      <td>0.004251</td>\n",
       "      <td>-0.005000</td>\n",
       "      <td>-0.006264</td>\n",
       "      <td>-0.005788</td>\n",
       "      <td>0.015385</td>\n",
       "      <td>-0.011495</td>\n",
       "      <td>0.000000</td>\n",
       "      <td>13.225000</td>\n",
       "      <td>0.016870</td>\n",
       "    </tr>\n",
       "    <tr>\n",
       "      <th>2</th>\n",
       "      <td>13.000000</td>\n",
       "      <td>12.812500</td>\n",
       "      <td>8.760922</td>\n",
       "      <td>61976</td>\n",
       "      <td>13.475000</td>\n",
       "      <td>12.500000</td>\n",
       "      <td>-5.897254e+04</td>\n",
       "      <td>-105564</td>\n",
       "      <td>-0.292259</td>\n",
       "      <td>-4.452554e+03</td>\n",
       "      <td>...</td>\n",
       "      <td>0.010775</td>\n",
       "      <td>0.002458</td>\n",
       "      <td>-0.027630</td>\n",
       "      <td>-0.028051</td>\n",
       "      <td>-0.000327</td>\n",
       "      <td>0.015385</td>\n",
       "      <td>-0.011495</td>\n",
       "      <td>0.000000</td>\n",
       "      <td>13.175000</td>\n",
       "      <td>0.022515</td>\n",
       "    </tr>\n",
       "    <tr>\n",
       "      <th>3</th>\n",
       "      <td>12.887500</td>\n",
       "      <td>12.787500</td>\n",
       "      <td>8.743828</td>\n",
       "      <td>24064</td>\n",
       "      <td>13.000000</td>\n",
       "      <td>12.750000</td>\n",
       "      <td>-7.581727e+04</td>\n",
       "      <td>-129628</td>\n",
       "      <td>-0.292259</td>\n",
       "      <td>-4.452554e+03</td>\n",
       "      <td>...</td>\n",
       "      <td>0.021574</td>\n",
       "      <td>-0.005176</td>\n",
       "      <td>0.019921</td>\n",
       "      <td>0.016431</td>\n",
       "      <td>0.019496</td>\n",
       "      <td>0.015385</td>\n",
       "      <td>-0.011495</td>\n",
       "      <td>0.000000</td>\n",
       "      <td>12.812500</td>\n",
       "      <td>0.014528</td>\n",
       "    </tr>\n",
       "    <tr>\n",
       "      <th>4</th>\n",
       "      <td>12.500000</td>\n",
       "      <td>12.650000</td>\n",
       "      <td>8.649808</td>\n",
       "      <td>36556</td>\n",
       "      <td>12.725000</td>\n",
       "      <td>12.187500</td>\n",
       "      <td>-4.946304e+04</td>\n",
       "      <td>-166184</td>\n",
       "      <td>-0.292259</td>\n",
       "      <td>-4.452554e+03</td>\n",
       "      <td>...</td>\n",
       "      <td>0.021574</td>\n",
       "      <td>-0.005176</td>\n",
       "      <td>-0.010509</td>\n",
       "      <td>-0.012527</td>\n",
       "      <td>-0.030889</td>\n",
       "      <td>0.015385</td>\n",
       "      <td>-0.011495</td>\n",
       "      <td>0.000000</td>\n",
       "      <td>12.787500</td>\n",
       "      <td>-0.004900</td>\n",
       "    </tr>\n",
       "    <tr>\n",
       "      <th>5</th>\n",
       "      <td>14.175000</td>\n",
       "      <td>12.212500</td>\n",
       "      <td>8.350654</td>\n",
       "      <td>77780</td>\n",
       "      <td>14.175000</td>\n",
       "      <td>11.937500</td>\n",
       "      <td>-1.081240e+05</td>\n",
       "      <td>-243964</td>\n",
       "      <td>-0.292259</td>\n",
       "      <td>-4.452554e+03</td>\n",
       "      <td>...</td>\n",
       "      <td>0.021574</td>\n",
       "      <td>-0.005176</td>\n",
       "      <td>-0.027410</td>\n",
       "      <td>-0.032499</td>\n",
       "      <td>0.000794</td>\n",
       "      <td>-0.015228</td>\n",
       "      <td>-0.011495</td>\n",
       "      <td>0.000000</td>\n",
       "      <td>12.650000</td>\n",
       "      <td>0.113823</td>\n",
       "    </tr>\n",
       "    <tr>\n",
       "      <th>...</th>\n",
       "      <td>...</td>\n",
       "      <td>...</td>\n",
       "      <td>...</td>\n",
       "      <td>...</td>\n",
       "      <td>...</td>\n",
       "      <td>...</td>\n",
       "      <td>...</td>\n",
       "      <td>...</td>\n",
       "      <td>...</td>\n",
       "      <td>...</td>\n",
       "      <td>...</td>\n",
       "      <td>...</td>\n",
       "      <td>...</td>\n",
       "      <td>...</td>\n",
       "      <td>...</td>\n",
       "      <td>...</td>\n",
       "      <td>...</td>\n",
       "      <td>...</td>\n",
       "      <td>...</td>\n",
       "      <td>...</td>\n",
       "      <td>...</td>\n",
       "    </tr>\n",
       "    <tr>\n",
       "      <th>3676</th>\n",
       "      <td>535.000000</td>\n",
       "      <td>571.549988</td>\n",
       "      <td>571.549988</td>\n",
       "      <td>136540</td>\n",
       "      <td>583.000000</td>\n",
       "      <td>531.400024</td>\n",
       "      <td>1.677814e+06</td>\n",
       "      <td>75230258</td>\n",
       "      <td>0.297408</td>\n",
       "      <td>3.101130e+06</td>\n",
       "      <td>...</td>\n",
       "      <td>-0.005647</td>\n",
       "      <td>0.002810</td>\n",
       "      <td>0.001835</td>\n",
       "      <td>0.000292</td>\n",
       "      <td>-0.011222</td>\n",
       "      <td>0.181818</td>\n",
       "      <td>0.000000</td>\n",
       "      <td>-0.002427</td>\n",
       "      <td>538.549988</td>\n",
       "      <td>0.079307</td>\n",
       "    </tr>\n",
       "    <tr>\n",
       "      <th>3677</th>\n",
       "      <td>567.950012</td>\n",
       "      <td>556.349976</td>\n",
       "      <td>556.349976</td>\n",
       "      <td>70707</td>\n",
       "      <td>583.299988</td>\n",
       "      <td>552.049988</td>\n",
       "      <td>1.626566e+06</td>\n",
       "      <td>75159551</td>\n",
       "      <td>0.255305</td>\n",
       "      <td>2.504576e+06</td>\n",
       "      <td>...</td>\n",
       "      <td>0.005679</td>\n",
       "      <td>0.003865</td>\n",
       "      <td>-0.003412</td>\n",
       "      <td>-0.003356</td>\n",
       "      <td>-0.007319</td>\n",
       "      <td>0.181818</td>\n",
       "      <td>0.000000</td>\n",
       "      <td>-0.003102</td>\n",
       "      <td>571.549988</td>\n",
       "      <td>0.020350</td>\n",
       "    </tr>\n",
       "    <tr>\n",
       "      <th>3678</th>\n",
       "      <td>558.849976</td>\n",
       "      <td>543.400024</td>\n",
       "      <td>543.400024</td>\n",
       "      <td>22764</td>\n",
       "      <td>563.049988</td>\n",
       "      <td>540.349976</td>\n",
       "      <td>1.609919e+06</td>\n",
       "      <td>75136787</td>\n",
       "      <td>0.240868</td>\n",
       "      <td>2.104666e+06</td>\n",
       "      <td>...</td>\n",
       "      <td>0.025545</td>\n",
       "      <td>0.003080</td>\n",
       "      <td>0.001955</td>\n",
       "      <td>0.001600</td>\n",
       "      <td>0.008758</td>\n",
       "      <td>0.181818</td>\n",
       "      <td>0.000000</td>\n",
       "      <td>-0.000415</td>\n",
       "      <td>556.349976</td>\n",
       "      <td>0.011971</td>\n",
       "    </tr>\n",
       "    <tr>\n",
       "      <th>3679</th>\n",
       "      <td>550.000000</td>\n",
       "      <td>534.200012</td>\n",
       "      <td>534.200012</td>\n",
       "      <td>100755</td>\n",
       "      <td>550.000000</td>\n",
       "      <td>531.000000</td>\n",
       "      <td>1.543103e+06</td>\n",
       "      <td>75036032</td>\n",
       "      <td>0.156200</td>\n",
       "      <td>1.671578e+06</td>\n",
       "      <td>...</td>\n",
       "      <td>0.025545</td>\n",
       "      <td>0.003080</td>\n",
       "      <td>0.005368</td>\n",
       "      <td>0.005515</td>\n",
       "      <td>0.013049</td>\n",
       "      <td>0.181818</td>\n",
       "      <td>0.000000</td>\n",
       "      <td>-0.000279</td>\n",
       "      <td>543.400024</td>\n",
       "      <td>0.012073</td>\n",
       "    </tr>\n",
       "    <tr>\n",
       "      <th>3680</th>\n",
       "      <td>539.950012</td>\n",
       "      <td>532.250000</td>\n",
       "      <td>532.250000</td>\n",
       "      <td>62371</td>\n",
       "      <td>549.000000</td>\n",
       "      <td>515.299988</td>\n",
       "      <td>1.543473e+06</td>\n",
       "      <td>74973661</td>\n",
       "      <td>0.158117</td>\n",
       "      <td>1.415407e+06</td>\n",
       "      <td>...</td>\n",
       "      <td>0.025545</td>\n",
       "      <td>0.003080</td>\n",
       "      <td>0.001893</td>\n",
       "      <td>0.001953</td>\n",
       "      <td>0.000017</td>\n",
       "      <td>0.181818</td>\n",
       "      <td>0.000000</td>\n",
       "      <td>-0.003260</td>\n",
       "      <td>534.200012</td>\n",
       "      <td>0.027328</td>\n",
       "    </tr>\n",
       "  </tbody>\n",
       "</table>\n",
       "<p>3680 rows × 634 columns</p>\n",
       "</div>"
      ],
      "text/plain": [
       "            open       close   adj close  volume        high         low  \\\n",
       "1      13.325000   13.175000    9.008792    8928   13.450000   13.125000   \n",
       "2      13.000000   12.812500    8.760922   61976   13.475000   12.500000   \n",
       "3      12.887500   12.787500    8.743828   24064   13.000000   12.750000   \n",
       "4      12.500000   12.650000    8.649808   36556   12.725000   12.187500   \n",
       "5      14.175000   12.212500    8.350654   77780   14.175000   11.937500   \n",
       "...          ...         ...         ...     ...         ...         ...   \n",
       "3676  535.000000  571.549988  571.549988  136540  583.000000  531.400024   \n",
       "3677  567.950012  556.349976  556.349976   70707  583.299988  552.049988   \n",
       "3678  558.849976  543.400024  543.400024   22764  563.049988  540.349976   \n",
       "3679  550.000000  534.200012  534.200012  100755  550.000000  531.000000   \n",
       "3680  539.950012  532.250000  532.250000   62371  549.000000  515.299988   \n",
       "\n",
       "        volume_adi  volume_obv  volume_cmf     volume_fi  ...  \\\n",
       "1    -3.672473e+04      -43588   -0.292259 -4.452554e+03  ...   \n",
       "2    -5.897254e+04     -105564   -0.292259 -4.452554e+03  ...   \n",
       "3    -7.581727e+04     -129628   -0.292259 -4.452554e+03  ...   \n",
       "4    -4.946304e+04     -166184   -0.292259 -4.452554e+03  ...   \n",
       "5    -1.081240e+05     -243964   -0.292259 -4.452554e+03  ...   \n",
       "...            ...         ...         ...           ...  ...   \n",
       "3676  1.677814e+06    75230258    0.297408  3.101130e+06  ...   \n",
       "3677  1.626566e+06    75159551    0.255305  2.504576e+06  ...   \n",
       "3678  1.609919e+06    75136787    0.240868  2.104666e+06  ...   \n",
       "3679  1.543103e+06    75036032    0.156200  1.671578e+06  ...   \n",
       "3680  1.543473e+06    74973661    0.158117  1.415407e+06  ...   \n",
       "\n",
       "      treasury_yeild_10_years_percent_change  usdx-index_percent_change  \\\n",
       "1                                  -0.018383                   0.004251   \n",
       "2                                   0.010775                   0.002458   \n",
       "3                                   0.021574                  -0.005176   \n",
       "4                                   0.021574                  -0.005176   \n",
       "5                                   0.021574                  -0.005176   \n",
       "...                                      ...                        ...   \n",
       "3676                               -0.005647                   0.002810   \n",
       "3677                                0.005679                   0.003865   \n",
       "3678                                0.025545                   0.003080   \n",
       "3679                                0.025545                   0.003080   \n",
       "3680                                0.025545                   0.003080   \n",
       "\n",
       "      ^nsei_percent_change  ^bsesn_percent_change  ^gspc_percent_change  \\\n",
       "1                -0.005000              -0.006264             -0.005788   \n",
       "2                -0.027630              -0.028051             -0.000327   \n",
       "3                 0.019921               0.016431              0.019496   \n",
       "4                -0.010509              -0.012527             -0.030889   \n",
       "5                -0.027410              -0.032499              0.000794   \n",
       "...                    ...                    ...                   ...   \n",
       "3676              0.001835               0.000292             -0.011222   \n",
       "3677             -0.003412              -0.003356             -0.007319   \n",
       "3678              0.001955               0.001600              0.008758   \n",
       "3679              0.005368               0.005515              0.013049   \n",
       "3680              0.001893               0.001953              0.000017   \n",
       "\n",
       "      hsi_percent_change  sha_percent_change  ^sti_percent_change  \\\n",
       "1               0.015385           -0.011495             0.000000   \n",
       "2               0.015385           -0.011495             0.000000   \n",
       "3               0.015385           -0.011495             0.000000   \n",
       "4               0.015385           -0.011495             0.000000   \n",
       "5              -0.015228           -0.011495             0.000000   \n",
       "...                  ...                 ...                  ...   \n",
       "3676            0.181818            0.000000            -0.002427   \n",
       "3677            0.181818            0.000000            -0.003102   \n",
       "3678            0.181818            0.000000            -0.000415   \n",
       "3679            0.181818            0.000000            -0.000279   \n",
       "3680            0.181818            0.000000            -0.003260   \n",
       "\n",
       "      yesterday_close  ln_target  \n",
       "1           13.225000   0.016870  \n",
       "2           13.175000   0.022515  \n",
       "3           12.812500   0.014528  \n",
       "4           12.787500  -0.004900  \n",
       "5           12.650000   0.113823  \n",
       "...               ...        ...  \n",
       "3676       538.549988   0.079307  \n",
       "3677       571.549988   0.020350  \n",
       "3678       556.349976   0.011971  \n",
       "3679       543.400024   0.012073  \n",
       "3680       534.200012   0.027328  \n",
       "\n",
       "[3680 rows x 634 columns]"
      ]
     },
     "execution_count": 15,
     "metadata": {},
     "output_type": "execute_result"
    }
   ],
   "source": [
    "df_without_date"
   ]
  },
  {
   "cell_type": "code",
   "execution_count": 16,
   "id": "6df2c676",
   "metadata": {},
   "outputs": [],
   "source": [
    "def timeseries_to_supervise(df, window_size, target):    \n",
    "    X = []\n",
    "    y = []\n",
    "    indx = []\n",
    "    no_records = len(df)\n",
    "    \n",
    "    for i in range(window_size, no_records):\n",
    "        X.append(df.iloc[i-window_size:i].drop(target, axis=1).values.flatten())  # Collect past records as a sequence\n",
    "        y.append(df.iloc[i][target])  # Next record as target variable\n",
    "        indx.append(np.arange(i-window_size, i))\n",
    "\n",
    "    X = pd.DataFrame(X)\n",
    "    y = pd.Series(y)\n",
    "    return(X, y, indx)"
   ]
  },
  {
   "cell_type": "code",
   "execution_count": 17,
   "id": "01de558a",
   "metadata": {},
   "outputs": [],
   "source": [
    "window_size = 10"
   ]
  },
  {
   "cell_type": "code",
   "execution_count": 18,
   "id": "3aa99b02",
   "metadata": {},
   "outputs": [
    {
     "data": {
      "text/plain": [
       "[616, 617, 618, 619, 620, 621]"
      ]
     },
     "execution_count": 18,
     "metadata": {},
     "output_type": "execute_result"
    }
   ],
   "source": [
    "# do train/test split the data with shuffle = False\n",
    "train_data, test_data = train_test_split(df_without_date, train_size=0.8, shuffle=False)\n",
    "\n",
    "# Identify the indices of the specified sentiment columns in the original dataset\n",
    "sentiment_columns = ['agg_polarity', 'agg_compound', 'topic_polarity', 'topic_compound', 'ticker_polarity', 'ticker_compound']\n",
    "column_indices = [train_data.columns.get_loc(col) for col in sentiment_columns if col in train_data.columns]\n",
    "\n",
    "column_indices"
   ]
  },
  {
   "cell_type": "code",
   "execution_count": 19,
   "id": "f641f814",
   "metadata": {},
   "outputs": [],
   "source": [
    "# convert timeseries to be used in supervise learning model\n",
    "X_train, y_train, indx_train = timeseries_to_supervise(train_data, window_size, 'ln_target')  \n",
    "\n",
    "# convert timeseries to be used in supervise learning model    \n",
    "X_test, y_test, indx_test = timeseries_to_supervise(test_data, window_size, 'ln_target')  "
   ]
  },
  {
   "cell_type": "code",
   "execution_count": 20,
   "id": "168b9857",
   "metadata": {},
   "outputs": [],
   "source": [
    "# Use SelectKBest to select the top 44 features\n",
    "selector = SelectKBest(score_func=f_regression, k=44)\n",
    "X_train_44 = selector.fit_transform(X_train, y_train)\n",
    "X_test_44 = selector.transform(X_test)\n",
    "\n",
    "# Determine if the specified columns are among the top 44 features\n",
    "selected_indices = selector.get_support(indices=True)\n",
    "missing_indices = [idx for idx in column_indices if idx not in selected_indices]\n",
    "\n",
    "# Add the specified columns if they are not among the top 44 features\n",
    "for idx in missing_indices:\n",
    "    extracted_column_train = X_train.iloc[:, idx].values.reshape(-1, 1)\n",
    "    extracted_column_test = X_test.iloc[:, idx].values.reshape(-1, 1)\n",
    "    X_train_44 = np.hstack([X_train_44, extracted_column_train])\n",
    "    X_test_44 = np.hstack([X_test_44, extracted_column_test])\n",
    "\n",
    "# If some of the specified columns were already in the top 44, \n",
    "# select additional top features to make the total count 50\n",
    "remaining_indices = [i for i in range(X_train.shape[1]) if i not in selected_indices and i not in missing_indices]\n",
    "num_additional_features_needed = 50 - X_train_44.shape[1]\n",
    "\n",
    "if num_additional_features_needed > 0:\n",
    "    additional_selector = SelectKBest(score_func=f_regression, k=num_additional_features_needed)\n",
    "    additional_selector.fit(X_train.iloc[:, remaining_indices], y_train)\n",
    "    X_train_additional = additional_selector.transform(X_train.iloc[:, remaining_indices])\n",
    "    X_test_additional = additional_selector.transform(X_test.iloc[:, remaining_indices])\n",
    "\n",
    "    X_train_44 = np.hstack([X_train_44, X_train_additional])\n",
    "    X_test_44 = np.hstack([X_test_44, X_test_additional])\n",
    "\n",
    "X_train_50 = X_train_44\n",
    "X_test_50 = X_test_44"
   ]
  },
  {
   "cell_type": "code",
   "execution_count": 21,
   "id": "0fcafca1",
   "metadata": {},
   "outputs": [
    {
     "name": "stdout",
     "output_type": "stream",
     "text": [
      "Best parameters:  {'fit_intercept': True}\n",
      "Best cross-validation score:  2.9302373088048848\n"
     ]
    },
    {
     "data": {
      "text/html": [
       "<style>#sk-container-id-1 {color: black;}#sk-container-id-1 pre{padding: 0;}#sk-container-id-1 div.sk-toggleable {background-color: white;}#sk-container-id-1 label.sk-toggleable__label {cursor: pointer;display: block;width: 100%;margin-bottom: 0;padding: 0.3em;box-sizing: border-box;text-align: center;}#sk-container-id-1 label.sk-toggleable__label-arrow:before {content: \"▸\";float: left;margin-right: 0.25em;color: #696969;}#sk-container-id-1 label.sk-toggleable__label-arrow:hover:before {color: black;}#sk-container-id-1 div.sk-estimator:hover label.sk-toggleable__label-arrow:before {color: black;}#sk-container-id-1 div.sk-toggleable__content {max-height: 0;max-width: 0;overflow: hidden;text-align: left;background-color: #f0f8ff;}#sk-container-id-1 div.sk-toggleable__content pre {margin: 0.2em;color: black;border-radius: 0.25em;background-color: #f0f8ff;}#sk-container-id-1 input.sk-toggleable__control:checked~div.sk-toggleable__content {max-height: 200px;max-width: 100%;overflow: auto;}#sk-container-id-1 input.sk-toggleable__control:checked~label.sk-toggleable__label-arrow:before {content: \"▾\";}#sk-container-id-1 div.sk-estimator input.sk-toggleable__control:checked~label.sk-toggleable__label {background-color: #d4ebff;}#sk-container-id-1 div.sk-label input.sk-toggleable__control:checked~label.sk-toggleable__label {background-color: #d4ebff;}#sk-container-id-1 input.sk-hidden--visually {border: 0;clip: rect(1px 1px 1px 1px);clip: rect(1px, 1px, 1px, 1px);height: 1px;margin: -1px;overflow: hidden;padding: 0;position: absolute;width: 1px;}#sk-container-id-1 div.sk-estimator {font-family: monospace;background-color: #f0f8ff;border: 1px dotted black;border-radius: 0.25em;box-sizing: border-box;margin-bottom: 0.5em;}#sk-container-id-1 div.sk-estimator:hover {background-color: #d4ebff;}#sk-container-id-1 div.sk-parallel-item::after {content: \"\";width: 100%;border-bottom: 1px solid gray;flex-grow: 1;}#sk-container-id-1 div.sk-label:hover label.sk-toggleable__label {background-color: #d4ebff;}#sk-container-id-1 div.sk-serial::before {content: \"\";position: absolute;border-left: 1px solid gray;box-sizing: border-box;top: 0;bottom: 0;left: 50%;z-index: 0;}#sk-container-id-1 div.sk-serial {display: flex;flex-direction: column;align-items: center;background-color: white;padding-right: 0.2em;padding-left: 0.2em;position: relative;}#sk-container-id-1 div.sk-item {position: relative;z-index: 1;}#sk-container-id-1 div.sk-parallel {display: flex;align-items: stretch;justify-content: center;background-color: white;position: relative;}#sk-container-id-1 div.sk-item::before, #sk-container-id-1 div.sk-parallel-item::before {content: \"\";position: absolute;border-left: 1px solid gray;box-sizing: border-box;top: 0;bottom: 0;left: 50%;z-index: -1;}#sk-container-id-1 div.sk-parallel-item {display: flex;flex-direction: column;z-index: 1;position: relative;background-color: white;}#sk-container-id-1 div.sk-parallel-item:first-child::after {align-self: flex-end;width: 50%;}#sk-container-id-1 div.sk-parallel-item:last-child::after {align-self: flex-start;width: 50%;}#sk-container-id-1 div.sk-parallel-item:only-child::after {width: 0;}#sk-container-id-1 div.sk-dashed-wrapped {border: 1px dashed gray;margin: 0 0.4em 0.5em 0.4em;box-sizing: border-box;padding-bottom: 0.4em;background-color: white;}#sk-container-id-1 div.sk-label label {font-family: monospace;font-weight: bold;display: inline-block;line-height: 1.2em;}#sk-container-id-1 div.sk-label-container {text-align: center;}#sk-container-id-1 div.sk-container {/* jupyter's `normalize.less` sets `[hidden] { display: none; }` but bootstrap.min.css set `[hidden] { display: none !important; }` so we also need the `!important` here to be able to override the default hidden behavior on the sphinx rendered scikit-learn.org. See: https://github.com/scikit-learn/scikit-learn/issues/21755 */display: inline-block !important;position: relative;}#sk-container-id-1 div.sk-text-repr-fallback {display: none;}</style><div id=\"sk-container-id-1\" class=\"sk-top-container\"><div class=\"sk-text-repr-fallback\"><pre>LinearRegression()</pre><b>In a Jupyter environment, please rerun this cell to show the HTML representation or trust the notebook. <br />On GitHub, the HTML representation is unable to render, please try loading this page with nbviewer.org.</b></div><div class=\"sk-container\" hidden><div class=\"sk-item\"><div class=\"sk-estimator sk-toggleable\"><input class=\"sk-toggleable__control sk-hidden--visually\" id=\"sk-estimator-id-1\" type=\"checkbox\" checked><label for=\"sk-estimator-id-1\" class=\"sk-toggleable__label sk-toggleable__label-arrow\">LinearRegression</label><div class=\"sk-toggleable__content\"><pre>LinearRegression()</pre></div></div></div></div></div>"
      ],
      "text/plain": [
       "LinearRegression()"
      ]
     },
     "execution_count": 21,
     "metadata": {},
     "output_type": "execute_result"
    }
   ],
   "source": [
    "linear_reg = LinearRegression()\n",
    "\n",
    "param_grid = {\n",
    "    'fit_intercept': [True, False],         \n",
    "}\n",
    "\n",
    "grid_search = GridSearchCV(linear_reg, param_grid, cv=5, scoring='neg_mean_squared_error', n_jobs=-1)\n",
    "grid_search.fit(X_train_50, y_train)\n",
    "\n",
    "print(\"Best parameters: \", grid_search.best_params_)\n",
    "print(\"Best cross-validation score: \", -grid_search.best_score_)\n",
    "\n",
    "model_50 = grid_search.best_estimator_\n",
    "model_50.fit(X_train_50, y_train)"
   ]
  },
  {
   "cell_type": "code",
   "execution_count": 22,
   "id": "84e76734",
   "metadata": {},
   "outputs": [],
   "source": [
    "def convert_custom_target_to_actual_for_supervise(df: pd.DataFrame, window: int, y: \"pd.Series[int]\") -> \"pd.Series[int]\":\n",
    "    \"\"\"\n",
    "    this module converts custom target - ln(high/yesterday_close) to actual high price again for timeseries converted data using rolling         window of size 10\n",
    "    \"\"\"\n",
    "    data_df = df.copy()\n",
    "    \n",
    "    # exclude first 10 rows of train/test data, as while us\n",
    "    \n",
    "    y = np.exp(y) * data_df.loc[data_df.index[window:], 'yesterday_close'].reset_index(drop=True)\n",
    "    return(y)    "
   ]
  },
  {
   "cell_type": "code",
   "execution_count": 23,
   "id": "d9e0ac92",
   "metadata": {},
   "outputs": [],
   "source": [
    "def evaluate_model(model, window, test_data, test_date, X_test, y_test):\n",
    "    \n",
    "    # do target prediction using the provide model\n",
    "    y_pred = model.predict(X_test)\n",
    "\n",
    "    # convert back to original value, before computing mape            \n",
    "    y_test = convert_custom_target_to_actual_for_supervise(test_data, window, y_test)\n",
    "    y_pred = convert_custom_target_to_actual_for_supervise(test_data, window, y_pred)\n",
    "\n",
    "    test_dates = test_date[window:].reset_index(drop=True)\n",
    "    predictions_df = pd.DataFrame({'date': test_dates, 'y_test': y_test, 'y_pred': y_pred})\n",
    "\n",
    "    # compute regression metric - mape \n",
    "    mape = mean_absolute_percentage_error(y_test, y_pred)\n",
    "\n",
    "    # compute rmse metric\n",
    "    rmse = mean_squared_error(y_test, y_pred, squared=False)        \n",
    "    return(predictions_df, mape, rmse)"
   ]
  },
  {
   "cell_type": "code",
   "execution_count": 24,
   "id": "9ee983f2",
   "metadata": {},
   "outputs": [],
   "source": [
    "predictions_df, mape, rmse = evaluate_model(model_50, window_size, test_data, test_date, X_test_50, y_test)"
   ]
  },
  {
   "cell_type": "code",
   "execution_count": 25,
   "id": "529d3b04",
   "metadata": {},
   "outputs": [
    {
     "data": {
      "text/plain": [
       "(           date      y_test      y_pred\n",
       " 0    2020-06-25   81.500000   80.253660\n",
       " 1    2020-06-26   79.849998   78.938061\n",
       " 2    2020-06-29   77.250000   78.223969\n",
       " 3    2020-06-30   76.000000   76.345084\n",
       " 4    2020-07-01   73.474998   74.434153\n",
       " ..          ...         ...         ...\n",
       " 721  2023-05-24  583.000000  550.782419\n",
       " 722  2023-05-25  583.299988  585.850179\n",
       " 723  2023-05-26  563.049988  567.668572\n",
       " 724  2023-05-30  550.000000  553.577184\n",
       " 725  2023-05-31  549.000000  544.191793\n",
       " \n",
       " [726 rows x 3 columns],\n",
       " 0.01836215539917274,\n",
       " 9.274621064732711)"
      ]
     },
     "execution_count": 25,
     "metadata": {},
     "output_type": "execute_result"
    }
   ],
   "source": [
    "predictions_df, mape, rmse"
   ]
  },
  {
   "cell_type": "code",
   "execution_count": 26,
   "id": "c1afa403",
   "metadata": {},
   "outputs": [
    {
     "name": "stdout",
     "output_type": "stream",
     "text": [
      "MAPE for model with top 50 features: 1.84%\n"
     ]
    }
   ],
   "source": [
    "print(f\"MAPE for model with top 50 features: {mape*100:.2f}%\")"
   ]
  },
  {
   "cell_type": "code",
   "execution_count": 27,
   "id": "a8114d8e",
   "metadata": {},
   "outputs": [],
   "source": [
    "predictions_df.to_csv(\"lr_ELGIEQUIP.csv\", index=False)"
   ]
  },
  {
   "cell_type": "code",
   "execution_count": 28,
   "id": "cb0acd36",
   "metadata": {},
   "outputs": [
    {
     "name": "stdout",
     "output_type": "stream",
     "text": [
      "trend_ema_slow: 0.06829527700935019\n",
      "trend_trix: 0.021230043781099075\n",
      "trend_vortex_ind_neg: -0.01585786028417631\n",
      "trend_mass_index: -0.009135088953108094\n",
      "trend_vortex_ind_diff: 0.007227099687705847\n",
      "trend_vortex_ind_pos: -0.003980449319310682\n",
      "volatility_dcp: -0.003155493413745072\n",
      "trend_sma_fast: 0.0027577050204571343\n",
      "volatility_atr: -0.002190453149854502\n",
      "trend_ema_fast: -0.002069523287927931\n"
     ]
    }
   ],
   "source": [
    "feature_names = df.columns.tolist()\n",
    "\n",
    "# Get coefficients from the model\n",
    "coefficients = model_50.coef_\n",
    "\n",
    "# Map coefficients to corresponding feature names\n",
    "feature_coefficient_mapping = dict(zip(feature_names, coefficients))\n",
    "\n",
    "# Sort by absolute coefficient values (magnitude)\n",
    "sorted_features = sorted(feature_coefficient_mapping.items(), key=lambda x: abs(x[1]), reverse=True)\n",
    "\n",
    "# Display top 10\n",
    "for feature, coef in sorted_features[:10]:\n",
    "    print(f\"{feature}: {coef}\")\n",
    "\n"
   ]
  },
  {
   "cell_type": "code",
   "execution_count": 29,
   "id": "2903a891",
   "metadata": {},
   "outputs": [
    {
     "data": {
      "text/html": [
       "\n",
       "<style>\n",
       "  #altair-viz-64f7ef9ec8814f148ecb2e0d25a8e8d7.vega-embed {\n",
       "    width: 100%;\n",
       "    display: flex;\n",
       "  }\n",
       "\n",
       "  #altair-viz-64f7ef9ec8814f148ecb2e0d25a8e8d7.vega-embed details,\n",
       "  #altair-viz-64f7ef9ec8814f148ecb2e0d25a8e8d7.vega-embed details summary {\n",
       "    position: relative;\n",
       "  }\n",
       "</style>\n",
       "<div id=\"altair-viz-64f7ef9ec8814f148ecb2e0d25a8e8d7\"></div>\n",
       "<script type=\"text/javascript\">\n",
       "  var VEGA_DEBUG = (typeof VEGA_DEBUG == \"undefined\") ? {} : VEGA_DEBUG;\n",
       "  (function(spec, embedOpt){\n",
       "    let outputDiv = document.currentScript.previousElementSibling;\n",
       "    if (outputDiv.id !== \"altair-viz-64f7ef9ec8814f148ecb2e0d25a8e8d7\") {\n",
       "      outputDiv = document.getElementById(\"altair-viz-64f7ef9ec8814f148ecb2e0d25a8e8d7\");\n",
       "    }\n",
       "    const paths = {\n",
       "      \"vega\": \"https://cdn.jsdelivr.net/npm/vega@5?noext\",\n",
       "      \"vega-lib\": \"https://cdn.jsdelivr.net/npm/vega-lib?noext\",\n",
       "      \"vega-lite\": \"https://cdn.jsdelivr.net/npm/vega-lite@5.8.0?noext\",\n",
       "      \"vega-embed\": \"https://cdn.jsdelivr.net/npm/vega-embed@6?noext\",\n",
       "    };\n",
       "\n",
       "    function maybeLoadScript(lib, version) {\n",
       "      var key = `${lib.replace(\"-\", \"\")}_version`;\n",
       "      return (VEGA_DEBUG[key] == version) ?\n",
       "        Promise.resolve(paths[lib]) :\n",
       "        new Promise(function(resolve, reject) {\n",
       "          var s = document.createElement('script');\n",
       "          document.getElementsByTagName(\"head\")[0].appendChild(s);\n",
       "          s.async = true;\n",
       "          s.onload = () => {\n",
       "            VEGA_DEBUG[key] = version;\n",
       "            return resolve(paths[lib]);\n",
       "          };\n",
       "          s.onerror = () => reject(`Error loading script: ${paths[lib]}`);\n",
       "          s.src = paths[lib];\n",
       "        });\n",
       "    }\n",
       "\n",
       "    function showError(err) {\n",
       "      outputDiv.innerHTML = `<div class=\"error\" style=\"color:red;\">${err}</div>`;\n",
       "      throw err;\n",
       "    }\n",
       "\n",
       "    function displayChart(vegaEmbed) {\n",
       "      vegaEmbed(outputDiv, spec, embedOpt)\n",
       "        .catch(err => showError(`Javascript Error: ${err.message}<br>This usually means there's a typo in your chart specification. See the javascript console for the full traceback.`));\n",
       "    }\n",
       "\n",
       "    if(typeof define === \"function\" && define.amd) {\n",
       "      requirejs.config({paths});\n",
       "      require([\"vega-embed\"], displayChart, err => showError(`Error loading script: ${err.message}`));\n",
       "    } else {\n",
       "      maybeLoadScript(\"vega\", \"5\")\n",
       "        .then(() => maybeLoadScript(\"vega-lite\", \"5.8.0\"))\n",
       "        .then(() => maybeLoadScript(\"vega-embed\", \"6\"))\n",
       "        .catch(showError)\n",
       "        .then(() => displayChart(vegaEmbed));\n",
       "    }\n",
       "  })({\"usermeta\": {\"embedOptions\": {\"theme\": \"fivethirtyeight\"}}, \"config\": {\"view\": {\"continuousWidth\": 300, \"continuousHeight\": 300}}, \"layer\": [{\"mark\": {\"type\": \"line\", \"strokeWidth\": 2}, \"encoding\": {\"color\": {\"field\": \"label\", \"legend\": {\"title\": \"Line Type\"}, \"type\": \"nominal\"}, \"tooltip\": [{\"field\": \"date\", \"type\": \"temporal\"}, {\"field\": \"y_test\", \"type\": \"quantitative\"}, {\"field\": \"y_pred\", \"type\": \"quantitative\"}], \"x\": {\"field\": \"date\", \"type\": \"temporal\"}, \"y\": {\"field\": \"y_test\", \"scale\": {\"zero\": false}, \"title\": \"Price\", \"type\": \"quantitative\"}}, \"name\": \"view_1\"}, {\"mark\": {\"type\": \"line\", \"strokeDash\": [3, 3], \"strokeWidth\": 1}, \"encoding\": {\"color\": {\"field\": \"predicted_label\", \"legend\": {\"title\": \"Line Type\"}, \"type\": \"nominal\"}, \"tooltip\": [{\"field\": \"date\", \"type\": \"temporal\"}, {\"field\": \"y_test\", \"type\": \"quantitative\"}, {\"field\": \"y_pred\", \"type\": \"quantitative\"}], \"x\": {\"field\": \"date\", \"type\": \"temporal\"}, \"y\": {\"field\": \"y_pred\", \"scale\": {\"zero\": false}, \"title\": \"\", \"type\": \"quantitative\"}}}], \"data\": {\"name\": \"data-f07db13111327e93d377f24c794cd5a6\"}, \"height\": 400, \"params\": [{\"name\": \"param_1\", \"select\": {\"type\": \"interval\", \"encodings\": [\"x\", \"y\"]}, \"bind\": \"scales\", \"views\": [\"view_1\"]}], \"title\": \"Actual vs Predicted High Prices\", \"width\": 650, \"$schema\": \"https://vega.github.io/schema/vega-lite/v5.8.0.json\", \"datasets\": {\"data-f07db13111327e93d377f24c794cd5a6\": [{\"date\": \"2020-06-25T00:00:00\", \"y_test\": 81.5, \"y_pred\": 80.25365997874572, \"label\": \"Actual\", \"predicted_label\": \"Predicted\"}, {\"date\": \"2020-06-26T00:00:00\", \"y_test\": 79.84999847412108, \"y_pred\": 78.93806051460642, \"label\": \"Actual\", \"predicted_label\": \"Predicted\"}, {\"date\": \"2020-06-29T00:00:00\", \"y_test\": 77.25, \"y_pred\": 78.22396939648348, \"label\": \"Actual\", \"predicted_label\": \"Predicted\"}, {\"date\": \"2020-06-30T00:00:00\", \"y_test\": 76.0, \"y_pred\": 76.34508423266493, \"label\": \"Actual\", \"predicted_label\": \"Predicted\"}, {\"date\": \"2020-07-01T00:00:00\", \"y_test\": 73.4749984741211, \"y_pred\": 74.43415321506299, \"label\": \"Actual\", \"predicted_label\": \"Predicted\"}, {\"date\": \"2020-07-02T00:00:00\", \"y_test\": 72.9000015258789, \"y_pred\": 73.33135657187066, \"label\": \"Actual\", \"predicted_label\": \"Predicted\"}, {\"date\": \"2020-07-03T00:00:00\", \"y_test\": 76.75, \"y_pred\": 73.44294097178181, \"label\": \"Actual\", \"predicted_label\": \"Predicted\"}, {\"date\": \"2020-07-06T00:00:00\", \"y_test\": 78.94999694824219, \"y_pred\": 75.95331313707398, \"label\": \"Actual\", \"predicted_label\": \"Predicted\"}, {\"date\": \"2020-07-07T00:00:00\", \"y_test\": 79.4000015258789, \"y_pred\": 79.52287787389275, \"label\": \"Actual\", \"predicted_label\": \"Predicted\"}, {\"date\": \"2020-07-08T00:00:00\", \"y_test\": 78.5, \"y_pred\": 80.13636070140952, \"label\": \"Actual\", \"predicted_label\": \"Predicted\"}, {\"date\": \"2020-07-09T00:00:00\", \"y_test\": 77.30000305175781, \"y_pred\": 77.99271062945031, \"label\": \"Actual\", \"predicted_label\": \"Predicted\"}, {\"date\": \"2020-07-10T00:00:00\", \"y_test\": 84.69999694824219, \"y_pred\": 77.7844599202465, \"label\": \"Actual\", \"predicted_label\": \"Predicted\"}, {\"date\": \"2020-07-13T00:00:00\", \"y_test\": 83.5, \"y_pred\": 82.47526820389402, \"label\": \"Actual\", \"predicted_label\": \"Predicted\"}, {\"date\": \"2020-07-14T00:00:00\", \"y_test\": 80.2249984741211, \"y_pred\": 80.07990091157457, \"label\": \"Actual\", \"predicted_label\": \"Predicted\"}, {\"date\": \"2020-07-15T00:00:00\", \"y_test\": 80.5999984741211, \"y_pred\": 78.51514130466332, \"label\": \"Actual\", \"predicted_label\": \"Predicted\"}, {\"date\": \"2020-07-16T00:00:00\", \"y_test\": 79.2750015258789, \"y_pred\": 81.02946324538834, \"label\": \"Actual\", \"predicted_label\": \"Predicted\"}, {\"date\": \"2020-07-17T00:00:00\", \"y_test\": 79.17500305175781, \"y_pred\": 79.8644012831944, \"label\": \"Actual\", \"predicted_label\": \"Predicted\"}, {\"date\": \"2020-07-20T00:00:00\", \"y_test\": 81.5, \"y_pred\": 80.57919063456123, \"label\": \"Actual\", \"predicted_label\": \"Predicted\"}, {\"date\": \"2020-07-21T00:00:00\", \"y_test\": 86.94999694824217, \"y_pred\": 82.30100878677769, \"label\": \"Actual\", \"predicted_label\": \"Predicted\"}, {\"date\": \"2020-07-22T00:00:00\", \"y_test\": 86.32499694824217, \"y_pred\": 87.3420818688299, \"label\": \"Actual\", \"predicted_label\": \"Predicted\"}, {\"date\": \"2020-07-23T00:00:00\", \"y_test\": 85.99999999999999, \"y_pred\": 87.25869306187248, \"label\": \"Actual\", \"predicted_label\": \"Predicted\"}, {\"date\": \"2020-07-24T00:00:00\", \"y_test\": 85.0, \"y_pred\": 85.76934980216751, \"label\": \"Actual\", \"predicted_label\": \"Predicted\"}, {\"date\": \"2020-07-27T00:00:00\", \"y_test\": 83.0999984741211, \"y_pred\": 85.35049198587127, \"label\": \"Actual\", \"predicted_label\": \"Predicted\"}, {\"date\": \"2020-07-28T00:00:00\", \"y_test\": 83.4000015258789, \"y_pred\": 83.58349855455393, \"label\": \"Actual\", \"predicted_label\": \"Predicted\"}, {\"date\": \"2020-07-29T00:00:00\", \"y_test\": 83.17500305175783, \"y_pred\": 83.9430284232972, \"label\": \"Actual\", \"predicted_label\": \"Predicted\"}, {\"date\": \"2020-07-30T00:00:00\", \"y_test\": 82.5999984741211, \"y_pred\": 83.95933466037228, \"label\": \"Actual\", \"predicted_label\": \"Predicted\"}, {\"date\": \"2020-07-31T00:00:00\", \"y_test\": 80.17500305175781, \"y_pred\": 82.05141961850586, \"label\": \"Actual\", \"predicted_label\": \"Predicted\"}, {\"date\": \"2020-08-03T00:00:00\", \"y_test\": 82.57499694824219, \"y_pred\": 81.6615956894175, \"label\": \"Actual\", \"predicted_label\": \"Predicted\"}, {\"date\": \"2020-08-04T00:00:00\", \"y_test\": 83.7249984741211, \"y_pred\": 83.76528612751679, \"label\": \"Actual\", \"predicted_label\": \"Predicted\"}, {\"date\": \"2020-08-05T00:00:00\", \"y_test\": 86.25000000000001, \"y_pred\": 84.82966483516806, \"label\": \"Actual\", \"predicted_label\": \"Predicted\"}, {\"date\": \"2020-08-06T00:00:00\", \"y_test\": 85.57499694824219, \"y_pred\": 86.46691139422451, \"label\": \"Actual\", \"predicted_label\": \"Predicted\"}, {\"date\": \"2020-08-07T00:00:00\", \"y_test\": 85.4000015258789, \"y_pred\": 86.84620266025306, \"label\": \"Actual\", \"predicted_label\": \"Predicted\"}, {\"date\": \"2020-08-10T00:00:00\", \"y_test\": 87.5, \"y_pred\": 86.29256533139542, \"label\": \"Actual\", \"predicted_label\": \"Predicted\"}, {\"date\": \"2020-08-11T00:00:00\", \"y_test\": 90.0, \"y_pred\": 88.93576691334455, \"label\": \"Actual\", \"predicted_label\": \"Predicted\"}, {\"date\": \"2020-08-12T00:00:00\", \"y_test\": 96.9250030517578, \"y_pred\": 89.62491418206807, \"label\": \"Actual\", \"predicted_label\": \"Predicted\"}, {\"date\": \"2020-08-13T00:00:00\", \"y_test\": 109.5, \"y_pred\": 98.1974200062718, \"label\": \"Actual\", \"predicted_label\": \"Predicted\"}, {\"date\": \"2020-08-14T00:00:00\", \"y_test\": 128.4499969482422, \"y_pred\": 112.35022147993142, \"label\": \"Actual\", \"predicted_label\": \"Predicted\"}, {\"date\": \"2020-08-17T00:00:00\", \"y_test\": 122.9499969482422, \"y_pred\": 131.71684625244364, \"label\": \"Actual\", \"predicted_label\": \"Predicted\"}, {\"date\": \"2020-08-18T00:00:00\", \"y_test\": 122.92500305175781, \"y_pred\": 124.13854028581777, \"label\": \"Actual\", \"predicted_label\": \"Predicted\"}, {\"date\": \"2020-08-19T00:00:00\", \"y_test\": 120.9499969482422, \"y_pred\": 123.86175244458626, \"label\": \"Actual\", \"predicted_label\": \"Predicted\"}, {\"date\": \"2020-08-20T00:00:00\", \"y_test\": 116.49999999999999, \"y_pred\": 118.46784933977389, \"label\": \"Actual\", \"predicted_label\": \"Predicted\"}, {\"date\": \"2020-08-21T00:00:00\", \"y_test\": 115.9000015258789, \"y_pred\": 115.76246148114423, \"label\": \"Actual\", \"predicted_label\": \"Predicted\"}, {\"date\": \"2020-08-24T00:00:00\", \"y_test\": 115.25, \"y_pred\": 117.3783987808149, \"label\": \"Actual\", \"predicted_label\": \"Predicted\"}, {\"date\": \"2020-08-25T00:00:00\", \"y_test\": 114.1999969482422, \"y_pred\": 118.46507184070516, \"label\": \"Actual\", \"predicted_label\": \"Predicted\"}, {\"date\": \"2020-08-26T00:00:00\", \"y_test\": 113.90000152587892, \"y_pred\": 116.32955217425946, \"label\": \"Actual\", \"predicted_label\": \"Predicted\"}, {\"date\": \"2020-08-27T00:00:00\", \"y_test\": 114.99999999999999, \"y_pred\": 117.19388147429348, \"label\": \"Actual\", \"predicted_label\": \"Predicted\"}, {\"date\": \"2020-08-28T00:00:00\", \"y_test\": 115.6750030517578, \"y_pred\": 117.46409675242211, \"label\": \"Actual\", \"predicted_label\": \"Predicted\"}, {\"date\": \"2020-08-31T00:00:00\", \"y_test\": 115.0, \"y_pred\": 116.5825034576824, \"label\": \"Actual\", \"predicted_label\": \"Predicted\"}, {\"date\": \"2020-09-01T00:00:00\", \"y_test\": 111.92500305175778, \"y_pred\": 113.81813974732108, \"label\": \"Actual\", \"predicted_label\": \"Predicted\"}, {\"date\": \"2020-09-02T00:00:00\", \"y_test\": 112.4499969482422, \"y_pred\": 114.51364480932327, \"label\": \"Actual\", \"predicted_label\": \"Predicted\"}, {\"date\": \"2020-09-03T00:00:00\", \"y_test\": 114.0, \"y_pred\": 113.95483731706504, \"label\": \"Actual\", \"predicted_label\": \"Predicted\"}, {\"date\": \"2020-09-04T00:00:00\", \"y_test\": 111.4749984741211, \"y_pred\": 115.7641798478385, \"label\": \"Actual\", \"predicted_label\": \"Predicted\"}, {\"date\": \"2020-09-07T00:00:00\", \"y_test\": 109.5500030517578, \"y_pred\": 112.64506138132384, \"label\": \"Actual\", \"predicted_label\": \"Predicted\"}, {\"date\": \"2020-09-08T00:00:00\", \"y_test\": 110.9000015258789, \"y_pred\": 112.05113087305753, \"label\": \"Actual\", \"predicted_label\": \"Predicted\"}, {\"date\": \"2020-09-09T00:00:00\", \"y_test\": 108.3249969482422, \"y_pred\": 111.69451251553559, \"label\": \"Actual\", \"predicted_label\": \"Predicted\"}, {\"date\": \"2020-09-10T00:00:00\", \"y_test\": 110.875, \"y_pred\": 110.11319796328235, \"label\": \"Actual\", \"predicted_label\": \"Predicted\"}, {\"date\": \"2020-09-11T00:00:00\", \"y_test\": 115.50000000000001, \"y_pred\": 112.59090436284241, \"label\": \"Actual\", \"predicted_label\": \"Predicted\"}, {\"date\": \"2020-09-14T00:00:00\", \"y_test\": 118.67500305175778, \"y_pred\": 114.35615243236087, \"label\": \"Actual\", \"predicted_label\": \"Predicted\"}, {\"date\": \"2020-09-15T00:00:00\", \"y_test\": 118.8000030517578, \"y_pred\": 119.30214551459885, \"label\": \"Actual\", \"predicted_label\": \"Predicted\"}, {\"date\": \"2020-09-16T00:00:00\", \"y_test\": 120.82499694824219, \"y_pred\": 119.80101574742015, \"label\": \"Actual\", \"predicted_label\": \"Predicted\"}, {\"date\": \"2020-09-17T00:00:00\", \"y_test\": 120.0, \"y_pred\": 121.28846348184284, \"label\": \"Actual\", \"predicted_label\": \"Predicted\"}, {\"date\": \"2020-09-18T00:00:00\", \"y_test\": 120.27500152587889, \"y_pred\": 121.36735289802495, \"label\": \"Actual\", \"predicted_label\": \"Predicted\"}, {\"date\": \"2020-09-21T00:00:00\", \"y_test\": 128.72500610351562, \"y_pred\": 121.55980618596159, \"label\": \"Actual\", \"predicted_label\": \"Predicted\"}, {\"date\": \"2020-09-22T00:00:00\", \"y_test\": 129.0749969482422, \"y_pred\": 128.87146374234274, \"label\": \"Actual\", \"predicted_label\": \"Predicted\"}, {\"date\": \"2020-09-23T00:00:00\", \"y_test\": 127.4749984741211, \"y_pred\": 125.6734692804349, \"label\": \"Actual\", \"predicted_label\": \"Predicted\"}, {\"date\": \"2020-09-24T00:00:00\", \"y_test\": 134.0500030517578, \"y_pred\": 125.20476170580814, \"label\": \"Actual\", \"predicted_label\": \"Predicted\"}, {\"date\": \"2020-09-25T00:00:00\", \"y_test\": 128.9499969482422, \"y_pred\": 127.71212539610713, \"label\": \"Actual\", \"predicted_label\": \"Predicted\"}, {\"date\": \"2020-09-28T00:00:00\", \"y_test\": 125.3000030517578, \"y_pred\": 126.56969173115093, \"label\": \"Actual\", \"predicted_label\": \"Predicted\"}, {\"date\": \"2020-09-29T00:00:00\", \"y_test\": 127.0, \"y_pred\": 123.80187760890657, \"label\": \"Actual\", \"predicted_label\": \"Predicted\"}, {\"date\": \"2020-09-30T00:00:00\", \"y_test\": 121.9000015258789, \"y_pred\": 121.55050745442854, \"label\": \"Actual\", \"predicted_label\": \"Predicted\"}, {\"date\": \"2020-10-01T00:00:00\", \"y_test\": 121.9000015258789, \"y_pred\": 123.65095503182661, \"label\": \"Actual\", \"predicted_label\": \"Predicted\"}, {\"date\": \"2020-10-05T00:00:00\", \"y_test\": 122.99999999999999, \"y_pred\": 122.06639045523791, \"label\": \"Actual\", \"predicted_label\": \"Predicted\"}, {\"date\": \"2020-10-06T00:00:00\", \"y_test\": 123.84999847412111, \"y_pred\": 123.34712431060498, \"label\": \"Actual\", \"predicted_label\": \"Predicted\"}, {\"date\": \"2020-10-07T00:00:00\", \"y_test\": 121.4000015258789, \"y_pred\": 120.20091415616135, \"label\": \"Actual\", \"predicted_label\": \"Predicted\"}, {\"date\": \"2020-10-08T00:00:00\", \"y_test\": 120.5, \"y_pred\": 122.73659912632502, \"label\": \"Actual\", \"predicted_label\": \"Predicted\"}, {\"date\": \"2020-10-09T00:00:00\", \"y_test\": 117.9000015258789, \"y_pred\": 120.36027435112744, \"label\": \"Actual\", \"predicted_label\": \"Predicted\"}, {\"date\": \"2020-10-12T00:00:00\", \"y_test\": 116.0, \"y_pred\": 114.59319892217225, \"label\": \"Actual\", \"predicted_label\": \"Predicted\"}, {\"date\": \"2020-10-13T00:00:00\", \"y_test\": 113.25, \"y_pred\": 110.73939743940586, \"label\": \"Actual\", \"predicted_label\": \"Predicted\"}, {\"date\": \"2020-10-14T00:00:00\", \"y_test\": 119.9000015258789, \"y_pred\": 114.26569099216631, \"label\": \"Actual\", \"predicted_label\": \"Predicted\"}, {\"date\": \"2020-10-15T00:00:00\", \"y_test\": 111.5, \"y_pred\": 114.37936155715775, \"label\": \"Actual\", \"predicted_label\": \"Predicted\"}, {\"date\": \"2020-10-16T00:00:00\", \"y_test\": 111.5, \"y_pred\": 110.13697799536745, \"label\": \"Actual\", \"predicted_label\": \"Predicted\"}, {\"date\": \"2020-10-19T00:00:00\", \"y_test\": 113.5, \"y_pred\": 112.74698281641778, \"label\": \"Actual\", \"predicted_label\": \"Predicted\"}, {\"date\": \"2020-10-20T00:00:00\", \"y_test\": 112.05000305175778, \"y_pred\": 114.22949646626185, \"label\": \"Actual\", \"predicted_label\": \"Predicted\"}, {\"date\": \"2020-10-21T00:00:00\", \"y_test\": 111.8499984741211, \"y_pred\": 112.1639660043908, \"label\": \"Actual\", \"predicted_label\": \"Predicted\"}, {\"date\": \"2020-10-22T00:00:00\", \"y_test\": 111.80000305175778, \"y_pred\": 113.68144510980143, \"label\": \"Actual\", \"predicted_label\": \"Predicted\"}, {\"date\": \"2020-10-23T00:00:00\", \"y_test\": 111.5500030517578, \"y_pred\": 112.41468355338536, \"label\": \"Actual\", \"predicted_label\": \"Predicted\"}, {\"date\": \"2020-10-26T00:00:00\", \"y_test\": 111.5500030517578, \"y_pred\": 112.83251067153563, \"label\": \"Actual\", \"predicted_label\": \"Predicted\"}, {\"date\": \"2020-10-27T00:00:00\", \"y_test\": 108.0, \"y_pred\": 110.79208009108191, \"label\": \"Actual\", \"predicted_label\": \"Predicted\"}, {\"date\": \"2020-10-28T00:00:00\", \"y_test\": 108.3000030517578, \"y_pred\": 107.69608840170599, \"label\": \"Actual\", \"predicted_label\": \"Predicted\"}, {\"date\": \"2020-10-29T00:00:00\", \"y_test\": 106.5999984741211, \"y_pred\": 107.49072831419784, \"label\": \"Actual\", \"predicted_label\": \"Predicted\"}, {\"date\": \"2020-10-30T00:00:00\", \"y_test\": 106.50000000000001, \"y_pred\": 106.410479620368, \"label\": \"Actual\", \"predicted_label\": \"Predicted\"}, {\"date\": \"2020-11-02T00:00:00\", \"y_test\": 108.09999847412108, \"y_pred\": 106.10669166330328, \"label\": \"Actual\", \"predicted_label\": \"Predicted\"}, {\"date\": \"2020-11-03T00:00:00\", \"y_test\": 109.3000030517578, \"y_pred\": 108.34281757087226, \"label\": \"Actual\", \"predicted_label\": \"Predicted\"}, {\"date\": \"2020-11-04T00:00:00\", \"y_test\": 109.99999999999999, \"y_pred\": 110.27911327436739, \"label\": \"Actual\", \"predicted_label\": \"Predicted\"}, {\"date\": \"2020-11-05T00:00:00\", \"y_test\": 108.8499984741211, \"y_pred\": 109.20715580162233, \"label\": \"Actual\", \"predicted_label\": \"Predicted\"}, {\"date\": \"2020-11-06T00:00:00\", \"y_test\": 108.65000152587892, \"y_pred\": 110.0407652822551, \"label\": \"Actual\", \"predicted_label\": \"Predicted\"}, {\"date\": \"2020-11-09T00:00:00\", \"y_test\": 124.59999847412108, \"y_pred\": 109.86422996844188, \"label\": \"Actual\", \"predicted_label\": \"Predicted\"}, {\"date\": \"2020-11-10T00:00:00\", \"y_test\": 123.25, \"y_pred\": 123.45566796833363, \"label\": \"Actual\", \"predicted_label\": \"Predicted\"}, {\"date\": \"2020-11-11T00:00:00\", \"y_test\": 125.00000000000001, \"y_pred\": 125.30500329448654, \"label\": \"Actual\", \"predicted_label\": \"Predicted\"}, {\"date\": \"2020-11-12T00:00:00\", \"y_test\": 122.1999969482422, \"y_pred\": 124.87349150917365, \"label\": \"Actual\", \"predicted_label\": \"Predicted\"}, {\"date\": \"2020-11-13T00:00:00\", \"y_test\": 124.80000305175778, \"y_pred\": 120.390801682921, \"label\": \"Actual\", \"predicted_label\": \"Predicted\"}, {\"date\": \"2020-11-14T00:00:00\", \"y_test\": 124.6999969482422, \"y_pred\": 120.82079661684323, \"label\": \"Actual\", \"predicted_label\": \"Predicted\"}, {\"date\": \"2020-11-17T00:00:00\", \"y_test\": 122.0, \"y_pred\": 123.9003908639683, \"label\": \"Actual\", \"predicted_label\": \"Predicted\"}, {\"date\": \"2020-11-18T00:00:00\", \"y_test\": 120.9000015258789, \"y_pred\": 120.09340925865517, \"label\": \"Actual\", \"predicted_label\": \"Predicted\"}, {\"date\": \"2020-11-19T00:00:00\", \"y_test\": 130.60000610351562, \"y_pred\": 123.02295797398692, \"label\": \"Actual\", \"predicted_label\": \"Predicted\"}, {\"date\": \"2020-11-20T00:00:00\", \"y_test\": 128.89999389648438, \"y_pred\": 130.43391313071356, \"label\": \"Actual\", \"predicted_label\": \"Predicted\"}, {\"date\": \"2020-11-23T00:00:00\", \"y_test\": 128.5, \"y_pred\": 130.2138315708067, \"label\": \"Actual\", \"predicted_label\": \"Predicted\"}, {\"date\": \"2020-11-24T00:00:00\", \"y_test\": 137.5, \"y_pred\": 130.14176743473567, \"label\": \"Actual\", \"predicted_label\": \"Predicted\"}, {\"date\": \"2020-11-25T00:00:00\", \"y_test\": 137.9499969482422, \"y_pred\": 137.09205267581967, \"label\": \"Actual\", \"predicted_label\": \"Predicted\"}, {\"date\": \"2020-11-26T00:00:00\", \"y_test\": 134.8000030517578, \"y_pred\": 134.41031369193925, \"label\": \"Actual\", \"predicted_label\": \"Predicted\"}, {\"date\": \"2020-11-27T00:00:00\", \"y_test\": 135.0, \"y_pred\": 135.59479444201753, \"label\": \"Actual\", \"predicted_label\": \"Predicted\"}, {\"date\": \"2020-12-01T00:00:00\", \"y_test\": 135.60000610351562, \"y_pred\": 137.36337177995915, \"label\": \"Actual\", \"predicted_label\": \"Predicted\"}, {\"date\": \"2020-12-02T00:00:00\", \"y_test\": 135.64999389648438, \"y_pred\": 138.5925826823191, \"label\": \"Actual\", \"predicted_label\": \"Predicted\"}, {\"date\": \"2020-12-03T00:00:00\", \"y_test\": 136.0, \"y_pred\": 138.04542809521325, \"label\": \"Actual\", \"predicted_label\": \"Predicted\"}, {\"date\": \"2020-12-04T00:00:00\", \"y_test\": 135.5, \"y_pred\": 136.25978449868137, \"label\": \"Actual\", \"predicted_label\": \"Predicted\"}, {\"date\": \"2020-12-07T00:00:00\", \"y_test\": 137.0, \"y_pred\": 137.43758727756702, \"label\": \"Actual\", \"predicted_label\": \"Predicted\"}, {\"date\": \"2020-12-08T00:00:00\", \"y_test\": 137.0, \"y_pred\": 138.70311910505876, \"label\": \"Actual\", \"predicted_label\": \"Predicted\"}, {\"date\": \"2020-12-09T00:00:00\", \"y_test\": 155.25, \"y_pred\": 138.76152019017397, \"label\": \"Actual\", \"predicted_label\": \"Predicted\"}, {\"date\": \"2020-12-10T00:00:00\", \"y_test\": 151.5500030517578, \"y_pred\": 153.0001918578126, \"label\": \"Actual\", \"predicted_label\": \"Predicted\"}, {\"date\": \"2020-12-11T00:00:00\", \"y_test\": 158.14999389648438, \"y_pred\": 149.88383724161045, \"label\": \"Actual\", \"predicted_label\": \"Predicted\"}, {\"date\": \"2020-12-14T00:00:00\", \"y_test\": 169.0, \"y_pred\": 159.89090413945092, \"label\": \"Actual\", \"predicted_label\": \"Predicted\"}, {\"date\": \"2020-12-15T00:00:00\", \"y_test\": 162.4499969482422, \"y_pred\": 168.9195563506133, \"label\": \"Actual\", \"predicted_label\": \"Predicted\"}, {\"date\": \"2020-12-16T00:00:00\", \"y_test\": 161.85000610351562, \"y_pred\": 163.42385266389238, \"label\": \"Actual\", \"predicted_label\": \"Predicted\"}, {\"date\": \"2020-12-17T00:00:00\", \"y_test\": 160.89999389648438, \"y_pred\": 164.2785394009802, \"label\": \"Actual\", \"predicted_label\": \"Predicted\"}, {\"date\": \"2020-12-18T00:00:00\", \"y_test\": 160.25, \"y_pred\": 163.66141828187992, \"label\": \"Actual\", \"predicted_label\": \"Predicted\"}, {\"date\": \"2020-12-21T00:00:00\", \"y_test\": 160.00000000000003, \"y_pred\": 159.7810777810375, \"label\": \"Actual\", \"predicted_label\": \"Predicted\"}, {\"date\": \"2020-12-22T00:00:00\", \"y_test\": 153.89999389648438, \"y_pred\": 158.3385538331719, \"label\": \"Actual\", \"predicted_label\": \"Predicted\"}, {\"date\": \"2020-12-23T00:00:00\", \"y_test\": 158.0, \"y_pred\": 157.5741636288105, \"label\": \"Actual\", \"predicted_label\": \"Predicted\"}, {\"date\": \"2020-12-24T00:00:00\", \"y_test\": 159.99999999999997, \"y_pred\": 160.77561256286944, \"label\": \"Actual\", \"predicted_label\": \"Predicted\"}, {\"date\": \"2020-12-28T00:00:00\", \"y_test\": 160.35000610351562, \"y_pred\": 161.6867761965071, \"label\": \"Actual\", \"predicted_label\": \"Predicted\"}, {\"date\": \"2020-12-29T00:00:00\", \"y_test\": 160.64999389648438, \"y_pred\": 161.930140405758, \"label\": \"Actual\", \"predicted_label\": \"Predicted\"}, {\"date\": \"2020-12-30T00:00:00\", \"y_test\": 157.39999389648438, \"y_pred\": 159.3571071599867, \"label\": \"Actual\", \"predicted_label\": \"Predicted\"}, {\"date\": \"2020-12-31T00:00:00\", \"y_test\": 156.10000610351562, \"y_pred\": 158.64454496796893, \"label\": \"Actual\", \"predicted_label\": \"Predicted\"}, {\"date\": \"2021-01-01T00:00:00\", \"y_test\": 164.0, \"y_pred\": 156.86105276395293, \"label\": \"Actual\", \"predicted_label\": \"Predicted\"}, {\"date\": \"2021-01-04T00:00:00\", \"y_test\": 160.0, \"y_pred\": 163.49487754502425, \"label\": \"Actual\", \"predicted_label\": \"Predicted\"}, {\"date\": \"2021-01-05T00:00:00\", \"y_test\": 160.14999389648438, \"y_pred\": 162.5444956098412, \"label\": \"Actual\", \"predicted_label\": \"Predicted\"}, {\"date\": \"2021-01-06T00:00:00\", \"y_test\": 160.0500030517578, \"y_pred\": 161.4064808615777, \"label\": \"Actual\", \"predicted_label\": \"Predicted\"}, {\"date\": \"2021-01-07T00:00:00\", \"y_test\": 160.85000610351562, \"y_pred\": 160.34147551577686, \"label\": \"Actual\", \"predicted_label\": \"Predicted\"}, {\"date\": \"2021-01-08T00:00:00\", \"y_test\": 183.25000000000003, \"y_pred\": 163.36431140551733, \"label\": \"Actual\", \"predicted_label\": \"Predicted\"}, {\"date\": \"2021-01-11T00:00:00\", \"y_test\": 193.80000305175784, \"y_pred\": 185.4002704559505, \"label\": \"Actual\", \"predicted_label\": \"Predicted\"}, {\"date\": \"2021-01-12T00:00:00\", \"y_test\": 181.1000061035156, \"y_pred\": 183.07366107166348, \"label\": \"Actual\", \"predicted_label\": \"Predicted\"}, {\"date\": \"2021-01-13T00:00:00\", \"y_test\": 179.5, \"y_pred\": 179.12331611530635, \"label\": \"Actual\", \"predicted_label\": \"Predicted\"}, {\"date\": \"2021-01-14T00:00:00\", \"y_test\": 175.14999389648438, \"y_pred\": 179.50515754947997, \"label\": \"Actual\", \"predicted_label\": \"Predicted\"}, {\"date\": \"2021-01-15T00:00:00\", \"y_test\": 170.60000610351562, \"y_pred\": 173.01315622826294, \"label\": \"Actual\", \"predicted_label\": \"Predicted\"}, {\"date\": \"2021-01-18T00:00:00\", \"y_test\": 169.8500061035156, \"y_pred\": 169.20199840596305, \"label\": \"Actual\", \"predicted_label\": \"Predicted\"}, {\"date\": \"2021-01-19T00:00:00\", \"y_test\": 166.25, \"y_pred\": 166.72119975572954, \"label\": \"Actual\", \"predicted_label\": \"Predicted\"}, {\"date\": \"2021-01-20T00:00:00\", \"y_test\": 166.0, \"y_pred\": 168.51121701617834, \"label\": \"Actual\", \"predicted_label\": \"Predicted\"}, {\"date\": \"2021-01-21T00:00:00\", \"y_test\": 165.0, \"y_pred\": 165.13275454200414, \"label\": \"Actual\", \"predicted_label\": \"Predicted\"}, {\"date\": \"2021-01-22T00:00:00\", \"y_test\": 166.1999969482422, \"y_pred\": 165.5447082282422, \"label\": \"Actual\", \"predicted_label\": \"Predicted\"}, {\"date\": \"2021-01-25T00:00:00\", \"y_test\": 162.60000610351562, \"y_pred\": 162.60821113513498, \"label\": \"Actual\", \"predicted_label\": \"Predicted\"}, {\"date\": \"2021-01-27T00:00:00\", \"y_test\": 156.0, \"y_pred\": 158.94580133212045, \"label\": \"Actual\", \"predicted_label\": \"Predicted\"}, {\"date\": \"2021-01-28T00:00:00\", \"y_test\": 164.0, \"y_pred\": 155.31466616383423, \"label\": \"Actual\", \"predicted_label\": \"Predicted\"}, {\"date\": \"2021-01-29T00:00:00\", \"y_test\": 160.94999694824216, \"y_pred\": 159.5656787601873, \"label\": \"Actual\", \"predicted_label\": \"Predicted\"}, {\"date\": \"2021-02-01T00:00:00\", \"y_test\": 161.60000610351562, \"y_pred\": 160.63485221998445, \"label\": \"Actual\", \"predicted_label\": \"Predicted\"}, {\"date\": \"2021-02-02T00:00:00\", \"y_test\": 165.39999389648438, \"y_pred\": 164.90183053155212, \"label\": \"Actual\", \"predicted_label\": \"Predicted\"}, {\"date\": \"2021-02-03T00:00:00\", \"y_test\": 166.4499969482422, \"y_pred\": 166.81349058531015, \"label\": \"Actual\", \"predicted_label\": \"Predicted\"}, {\"date\": \"2021-02-04T00:00:00\", \"y_test\": 166.50000000000003, \"y_pred\": 167.43255570014358, \"label\": \"Actual\", \"predicted_label\": \"Predicted\"}, {\"date\": \"2021-02-05T00:00:00\", \"y_test\": 166.4499969482422, \"y_pred\": 169.40876485434242, \"label\": \"Actual\", \"predicted_label\": \"Predicted\"}, {\"date\": \"2021-02-08T00:00:00\", \"y_test\": 176.64999389648438, \"y_pred\": 167.9157683983255, \"label\": \"Actual\", \"predicted_label\": \"Predicted\"}, {\"date\": \"2021-02-09T00:00:00\", \"y_test\": 181.3999938964844, \"y_pred\": 173.10394645880277, \"label\": \"Actual\", \"predicted_label\": \"Predicted\"}, {\"date\": \"2021-02-10T00:00:00\", \"y_test\": 178.0, \"y_pred\": 178.62429239613087, \"label\": \"Actual\", \"predicted_label\": \"Predicted\"}, {\"date\": \"2021-02-11T00:00:00\", \"y_test\": 173.9499969482422, \"y_pred\": 172.69213106442095, \"label\": \"Actual\", \"predicted_label\": \"Predicted\"}, {\"date\": \"2021-02-12T00:00:00\", \"y_test\": 170.14999389648438, \"y_pred\": 169.24158465482154, \"label\": \"Actual\", \"predicted_label\": \"Predicted\"}, {\"date\": \"2021-02-15T00:00:00\", \"y_test\": 173.24999999999997, \"y_pred\": 171.4950350925246, \"label\": \"Actual\", \"predicted_label\": \"Predicted\"}, {\"date\": \"2021-02-16T00:00:00\", \"y_test\": 170.6999969482422, \"y_pred\": 168.43590542010512, \"label\": \"Actual\", \"predicted_label\": \"Predicted\"}, {\"date\": \"2021-02-17T00:00:00\", \"y_test\": 175.4499969482422, \"y_pred\": 169.9651894165395, \"label\": \"Actual\", \"predicted_label\": \"Predicted\"}, {\"date\": \"2021-02-18T00:00:00\", \"y_test\": 172.9499969482422, \"y_pred\": 174.78110643295744, \"label\": \"Actual\", \"predicted_label\": \"Predicted\"}, {\"date\": \"2021-02-19T00:00:00\", \"y_test\": 168.4499969482422, \"y_pred\": 171.12822781552697, \"label\": \"Actual\", \"predicted_label\": \"Predicted\"}, {\"date\": \"2021-02-22T00:00:00\", \"y_test\": 163.9499969482422, \"y_pred\": 166.7885581850908, \"label\": \"Actual\", \"predicted_label\": \"Predicted\"}, {\"date\": \"2021-02-23T00:00:00\", \"y_test\": 163.60000610351565, \"y_pred\": 163.09753258348084, \"label\": \"Actual\", \"predicted_label\": \"Predicted\"}, {\"date\": \"2021-02-24T00:00:00\", \"y_test\": 168.99999999999997, \"y_pred\": 164.9958647634073, \"label\": \"Actual\", \"predicted_label\": \"Predicted\"}, {\"date\": \"2021-02-25T00:00:00\", \"y_test\": 183.00000000000003, \"y_pred\": 169.97250004171966, \"label\": \"Actual\", \"predicted_label\": \"Predicted\"}, {\"date\": \"2021-02-26T00:00:00\", \"y_test\": 192.3000030517578, \"y_pred\": 184.92132788798818, \"label\": \"Actual\", \"predicted_label\": \"Predicted\"}, {\"date\": \"2021-03-01T00:00:00\", \"y_test\": 187.60000610351557, \"y_pred\": 185.22717507550283, \"label\": \"Actual\", \"predicted_label\": \"Predicted\"}, {\"date\": \"2021-03-02T00:00:00\", \"y_test\": 185.8500061035156, \"y_pred\": 188.63160747342843, \"label\": \"Actual\", \"predicted_label\": \"Predicted\"}, {\"date\": \"2021-03-03T00:00:00\", \"y_test\": 185.0, \"y_pred\": 183.03563362684008, \"label\": \"Actual\", \"predicted_label\": \"Predicted\"}, {\"date\": \"2021-03-04T00:00:00\", \"y_test\": 186.69999694824222, \"y_pred\": 181.91325667722936, \"label\": \"Actual\", \"predicted_label\": \"Predicted\"}, {\"date\": \"2021-03-05T00:00:00\", \"y_test\": 187.75, \"y_pred\": 184.53851190277598, \"label\": \"Actual\", \"predicted_label\": \"Predicted\"}, {\"date\": \"2021-03-08T00:00:00\", \"y_test\": 201.75000000000003, \"y_pred\": 189.606778454958, \"label\": \"Actual\", \"predicted_label\": \"Predicted\"}, {\"date\": \"2021-03-09T00:00:00\", \"y_test\": 211.5, \"y_pred\": 204.89229034914308, \"label\": \"Actual\", \"predicted_label\": \"Predicted\"}, {\"date\": \"2021-03-10T00:00:00\", \"y_test\": 206.05000305175778, \"y_pred\": 210.04525652367687, \"label\": \"Actual\", \"predicted_label\": \"Predicted\"}, {\"date\": \"2021-03-12T00:00:00\", \"y_test\": 208.44999694824216, \"y_pred\": 206.6093969950918, \"label\": \"Actual\", \"predicted_label\": \"Predicted\"}, {\"date\": \"2021-03-15T00:00:00\", \"y_test\": 209.00000000000003, \"y_pred\": 205.23181946767912, \"label\": \"Actual\", \"predicted_label\": \"Predicted\"}, {\"date\": \"2021-03-16T00:00:00\", \"y_test\": 198.55000305175778, \"y_pred\": 197.90791809280324, \"label\": \"Actual\", \"predicted_label\": \"Predicted\"}, {\"date\": \"2021-03-17T00:00:00\", \"y_test\": 203.75, \"y_pred\": 198.61933248469714, \"label\": \"Actual\", \"predicted_label\": \"Predicted\"}, {\"date\": \"2021-03-18T00:00:00\", \"y_test\": 218.6999969482422, \"y_pred\": 203.91567546548373, \"label\": \"Actual\", \"predicted_label\": \"Predicted\"}, {\"date\": \"2021-03-19T00:00:00\", \"y_test\": 191.99999999999997, \"y_pred\": 197.55374713756353, \"label\": \"Actual\", \"predicted_label\": \"Predicted\"}, {\"date\": \"2021-03-22T00:00:00\", \"y_test\": 195.0, \"y_pred\": 195.59529468704568, \"label\": \"Actual\", \"predicted_label\": \"Predicted\"}, {\"date\": \"2021-03-23T00:00:00\", \"y_test\": 192.99999999999997, \"y_pred\": 197.74633515927152, \"label\": \"Actual\", \"predicted_label\": \"Predicted\"}, {\"date\": \"2021-03-24T00:00:00\", \"y_test\": 190.0, \"y_pred\": 193.08513257595993, \"label\": \"Actual\", \"predicted_label\": \"Predicted\"}, {\"date\": \"2021-03-25T00:00:00\", \"y_test\": 185.6999969482422, \"y_pred\": 189.13881460430412, \"label\": \"Actual\", \"predicted_label\": \"Predicted\"}, {\"date\": \"2021-03-26T00:00:00\", \"y_test\": 182.6499938964844, \"y_pred\": 184.581990059295, \"label\": \"Actual\", \"predicted_label\": \"Predicted\"}, {\"date\": \"2021-03-30T00:00:00\", \"y_test\": 185.9499969482422, \"y_pred\": 185.83016748666864, \"label\": \"Actual\", \"predicted_label\": \"Predicted\"}, {\"date\": \"2021-03-31T00:00:00\", \"y_test\": 191.19999694824216, \"y_pred\": 186.24430171659083, \"label\": \"Actual\", \"predicted_label\": \"Predicted\"}, {\"date\": \"2021-04-01T00:00:00\", \"y_test\": 198.89999389648443, \"y_pred\": 194.8089752199027, \"label\": \"Actual\", \"predicted_label\": \"Predicted\"}, {\"date\": \"2021-04-05T00:00:00\", \"y_test\": 203.8999938964844, \"y_pred\": 199.2400176020147, \"label\": \"Actual\", \"predicted_label\": \"Predicted\"}, {\"date\": \"2021-04-06T00:00:00\", \"y_test\": 201.0, \"y_pred\": 197.76378575339118, \"label\": \"Actual\", \"predicted_label\": \"Predicted\"}, {\"date\": \"2021-04-07T00:00:00\", \"y_test\": 202.0, \"y_pred\": 201.94567991654424, \"label\": \"Actual\", \"predicted_label\": \"Predicted\"}, {\"date\": \"2021-04-08T00:00:00\", \"y_test\": 205.6999969482422, \"y_pred\": 201.41144861818805, \"label\": \"Actual\", \"predicted_label\": \"Predicted\"}, {\"date\": \"2021-04-09T00:00:00\", \"y_test\": 209.99999999999997, \"y_pred\": 208.082174473299, \"label\": \"Actual\", \"predicted_label\": \"Predicted\"}, {\"date\": \"2021-04-12T00:00:00\", \"y_test\": 196.9499969482422, \"y_pred\": 204.94906709992975, \"label\": \"Actual\", \"predicted_label\": \"Predicted\"}, {\"date\": \"2021-04-13T00:00:00\", \"y_test\": 197.0, \"y_pred\": 194.67580251167828, \"label\": \"Actual\", \"predicted_label\": \"Predicted\"}, {\"date\": \"2021-04-15T00:00:00\", \"y_test\": 206.5500030517578, \"y_pred\": 198.0241551023813, \"label\": \"Actual\", \"predicted_label\": \"Predicted\"}, {\"date\": \"2021-04-16T00:00:00\", \"y_test\": 202.1000061035156, \"y_pred\": 206.65129105316257, \"label\": \"Actual\", \"predicted_label\": \"Predicted\"}, {\"date\": \"2021-04-19T00:00:00\", \"y_test\": 231.5, \"y_pred\": 198.7078584066177, \"label\": \"Actual\", \"predicted_label\": \"Predicted\"}, {\"date\": \"2021-04-20T00:00:00\", \"y_test\": 244.0, \"y_pred\": 233.30265609676658, \"label\": \"Actual\", \"predicted_label\": \"Predicted\"}, {\"date\": \"2021-04-22T00:00:00\", \"y_test\": 237.0, \"y_pred\": 225.24398655466644, \"label\": \"Actual\", \"predicted_label\": \"Predicted\"}, {\"date\": \"2021-04-23T00:00:00\", \"y_test\": 233.6999969482422, \"y_pred\": 233.27120352923762, \"label\": \"Actual\", \"predicted_label\": \"Predicted\"}, {\"date\": \"2021-04-26T00:00:00\", \"y_test\": 232.0, \"y_pred\": 225.74579908753205, \"label\": \"Actual\", \"predicted_label\": \"Predicted\"}, {\"date\": \"2021-04-27T00:00:00\", \"y_test\": 224.64999389648438, \"y_pred\": 228.07210845242304, \"label\": \"Actual\", \"predicted_label\": \"Predicted\"}, {\"date\": \"2021-04-28T00:00:00\", \"y_test\": 228.0, \"y_pred\": 220.9411871259952, \"label\": \"Actual\", \"predicted_label\": \"Predicted\"}, {\"date\": \"2021-04-29T00:00:00\", \"y_test\": 224.8999938964844, \"y_pred\": 225.6065523930536, \"label\": \"Actual\", \"predicted_label\": \"Predicted\"}, {\"date\": \"2021-04-30T00:00:00\", \"y_test\": 218.5500030517578, \"y_pred\": 222.46218110750908, \"label\": \"Actual\", \"predicted_label\": \"Predicted\"}, {\"date\": \"2021-05-03T00:00:00\", \"y_test\": 219.25000000000003, \"y_pred\": 217.59460202306298, \"label\": \"Actual\", \"predicted_label\": \"Predicted\"}, {\"date\": \"2021-05-04T00:00:00\", \"y_test\": 226.5, \"y_pred\": 218.82727664740503, \"label\": \"Actual\", \"predicted_label\": \"Predicted\"}, {\"date\": \"2021-05-05T00:00:00\", \"y_test\": 223.00000000000003, \"y_pred\": 221.63188988495278, \"label\": \"Actual\", \"predicted_label\": \"Predicted\"}, {\"date\": \"2021-05-06T00:00:00\", \"y_test\": 222.1999969482422, \"y_pred\": 220.41273890966488, \"label\": \"Actual\", \"predicted_label\": \"Predicted\"}, {\"date\": \"2021-05-07T00:00:00\", \"y_test\": 221.0, \"y_pred\": 220.3572640837965, \"label\": \"Actual\", \"predicted_label\": \"Predicted\"}, {\"date\": \"2021-05-10T00:00:00\", \"y_test\": 220.0, \"y_pred\": 221.2337056581769, \"label\": \"Actual\", \"predicted_label\": \"Predicted\"}, {\"date\": \"2021-05-11T00:00:00\", \"y_test\": 221.99999999999997, \"y_pred\": 219.46017445884826, \"label\": \"Actual\", \"predicted_label\": \"Predicted\"}, {\"date\": \"2021-05-12T00:00:00\", \"y_test\": 216.0500030517578, \"y_pred\": 217.53527721086397, \"label\": \"Actual\", \"predicted_label\": \"Predicted\"}, {\"date\": \"2021-05-14T00:00:00\", \"y_test\": 215.39999389648443, \"y_pred\": 216.70150067238148, \"label\": \"Actual\", \"predicted_label\": \"Predicted\"}, {\"date\": \"2021-05-17T00:00:00\", \"y_test\": 213.0, \"y_pred\": 209.84103712068168, \"label\": \"Actual\", \"predicted_label\": \"Predicted\"}, {\"date\": \"2021-05-18T00:00:00\", \"y_test\": 218.0, \"y_pred\": 215.19466621360323, \"label\": \"Actual\", \"predicted_label\": \"Predicted\"}, {\"date\": \"2021-05-19T00:00:00\", \"y_test\": 217.94999694824216, \"y_pred\": 217.72446270007683, \"label\": \"Actual\", \"predicted_label\": \"Predicted\"}, {\"date\": \"2021-05-20T00:00:00\", \"y_test\": 217.5, \"y_pred\": 218.410680210467, \"label\": \"Actual\", \"predicted_label\": \"Predicted\"}, {\"date\": \"2021-05-21T00:00:00\", \"y_test\": 219.3500061035156, \"y_pred\": 218.3140133087559, \"label\": \"Actual\", \"predicted_label\": \"Predicted\"}, {\"date\": \"2021-05-24T00:00:00\", \"y_test\": 226.1499938964844, \"y_pred\": 217.81876601484964, \"label\": \"Actual\", \"predicted_label\": \"Predicted\"}, {\"date\": \"2021-05-25T00:00:00\", \"y_test\": 222.8000030517578, \"y_pred\": 220.4557461968153, \"label\": \"Actual\", \"predicted_label\": \"Predicted\"}, {\"date\": \"2021-05-26T00:00:00\", \"y_test\": 218.00000000000003, \"y_pred\": 219.54987824471138, \"label\": \"Actual\", \"predicted_label\": \"Predicted\"}, {\"date\": \"2021-05-27T00:00:00\", \"y_test\": 214.75, \"y_pred\": 218.22044146325103, \"label\": \"Actual\", \"predicted_label\": \"Predicted\"}, {\"date\": \"2021-05-28T00:00:00\", \"y_test\": 215.00000000000003, \"y_pred\": 213.10880614525757, \"label\": \"Actual\", \"predicted_label\": \"Predicted\"}, {\"date\": \"2021-05-31T00:00:00\", \"y_test\": 212.6000061035156, \"y_pred\": 212.42886697338278, \"label\": \"Actual\", \"predicted_label\": \"Predicted\"}, {\"date\": \"2021-06-01T00:00:00\", \"y_test\": 210.3000030517578, \"y_pred\": 211.6780682918339, \"label\": \"Actual\", \"predicted_label\": \"Predicted\"}, {\"date\": \"2021-06-02T00:00:00\", \"y_test\": 207.89999389648438, \"y_pred\": 208.83036921001798, \"label\": \"Actual\", \"predicted_label\": \"Predicted\"}, {\"date\": \"2021-06-03T00:00:00\", \"y_test\": 213.5, \"y_pred\": 207.37925554069537, \"label\": \"Actual\", \"predicted_label\": \"Predicted\"}, {\"date\": \"2021-06-04T00:00:00\", \"y_test\": 215.25, \"y_pred\": 214.11914858310593, \"label\": \"Actual\", \"predicted_label\": \"Predicted\"}, {\"date\": \"2021-06-07T00:00:00\", \"y_test\": 217.00000000000003, \"y_pred\": 214.12215503856484, \"label\": \"Actual\", \"predicted_label\": \"Predicted\"}, {\"date\": \"2021-06-08T00:00:00\", \"y_test\": 216.3000030517578, \"y_pred\": 217.18389408019317, \"label\": \"Actual\", \"predicted_label\": \"Predicted\"}, {\"date\": \"2021-06-09T00:00:00\", \"y_test\": 220.0, \"y_pred\": 217.34526295904803, \"label\": \"Actual\", \"predicted_label\": \"Predicted\"}, {\"date\": \"2021-06-10T00:00:00\", \"y_test\": 216.5500030517578, \"y_pred\": 217.47596063714843, \"label\": \"Actual\", \"predicted_label\": \"Predicted\"}, {\"date\": \"2021-06-11T00:00:00\", \"y_test\": 217.99999999999997, \"y_pred\": 217.56400130032034, \"label\": \"Actual\", \"predicted_label\": \"Predicted\"}, {\"date\": \"2021-06-14T00:00:00\", \"y_test\": 215.64999389648443, \"y_pred\": 216.87741418336364, \"label\": \"Actual\", \"predicted_label\": \"Predicted\"}, {\"date\": \"2021-06-15T00:00:00\", \"y_test\": 217.30000305175778, \"y_pred\": 213.9825109685096, \"label\": \"Actual\", \"predicted_label\": \"Predicted\"}, {\"date\": \"2021-06-16T00:00:00\", \"y_test\": 219.3000030517578, \"y_pred\": 217.16977102369984, \"label\": \"Actual\", \"predicted_label\": \"Predicted\"}, {\"date\": \"2021-06-17T00:00:00\", \"y_test\": 214.25, \"y_pred\": 213.14469421312947, \"label\": \"Actual\", \"predicted_label\": \"Predicted\"}, {\"date\": \"2021-06-18T00:00:00\", \"y_test\": 216.75, \"y_pred\": 213.4875829307322, \"label\": \"Actual\", \"predicted_label\": \"Predicted\"}, {\"date\": \"2021-06-21T00:00:00\", \"y_test\": 210.0, \"y_pred\": 212.92666837155556, \"label\": \"Actual\", \"predicted_label\": \"Predicted\"}, {\"date\": \"2021-06-22T00:00:00\", \"y_test\": 215.35000610351562, \"y_pred\": 212.2254873471402, \"label\": \"Actual\", \"predicted_label\": \"Predicted\"}, {\"date\": \"2021-06-23T00:00:00\", \"y_test\": 221.1499938964844, \"y_pred\": 216.15770631511535, \"label\": \"Actual\", \"predicted_label\": \"Predicted\"}, {\"date\": \"2021-06-24T00:00:00\", \"y_test\": 220.00000000000003, \"y_pred\": 217.60330521530858, \"label\": \"Actual\", \"predicted_label\": \"Predicted\"}, {\"date\": \"2021-06-25T00:00:00\", \"y_test\": 215.75000000000003, \"y_pred\": 214.91384619296522, \"label\": \"Actual\", \"predicted_label\": \"Predicted\"}, {\"date\": \"2021-06-28T00:00:00\", \"y_test\": 216.9499969482422, \"y_pred\": 214.8904721328983, \"label\": \"Actual\", \"predicted_label\": \"Predicted\"}, {\"date\": \"2021-06-29T00:00:00\", \"y_test\": 212.55000305175778, \"y_pred\": 213.70715387413327, \"label\": \"Actual\", \"predicted_label\": \"Predicted\"}, {\"date\": \"2021-06-30T00:00:00\", \"y_test\": 212.3500061035156, \"y_pred\": 213.0013429433038, \"label\": \"Actual\", \"predicted_label\": \"Predicted\"}, {\"date\": \"2021-07-01T00:00:00\", \"y_test\": 209.00000000000003, \"y_pred\": 210.0367509989233, \"label\": \"Actual\", \"predicted_label\": \"Predicted\"}, {\"date\": \"2021-07-02T00:00:00\", \"y_test\": 214.0, \"y_pred\": 211.05337310706338, \"label\": \"Actual\", \"predicted_label\": \"Predicted\"}, {\"date\": \"2021-07-05T00:00:00\", \"y_test\": 217.0, \"y_pred\": 213.23479465247132, \"label\": \"Actual\", \"predicted_label\": \"Predicted\"}, {\"date\": \"2021-07-06T00:00:00\", \"y_test\": 220.99999999999997, \"y_pred\": 217.86355209890934, \"label\": \"Actual\", \"predicted_label\": \"Predicted\"}, {\"date\": \"2021-07-07T00:00:00\", \"y_test\": 217.6999969482422, \"y_pred\": 215.1490464364436, \"label\": \"Actual\", \"predicted_label\": \"Predicted\"}, {\"date\": \"2021-07-08T00:00:00\", \"y_test\": 219.8000030517578, \"y_pred\": 218.2457986131066, \"label\": \"Actual\", \"predicted_label\": \"Predicted\"}, {\"date\": \"2021-07-09T00:00:00\", \"y_test\": 218.1000061035156, \"y_pred\": 215.0664388321358, \"label\": \"Actual\", \"predicted_label\": \"Predicted\"}, {\"date\": \"2021-07-12T00:00:00\", \"y_test\": 225.0, \"y_pred\": 216.57164032838435, \"label\": \"Actual\", \"predicted_label\": \"Predicted\"}, {\"date\": \"2021-07-13T00:00:00\", \"y_test\": 224.5500030517578, \"y_pred\": 224.24981623774565, \"label\": \"Actual\", \"predicted_label\": \"Predicted\"}, {\"date\": \"2021-07-14T00:00:00\", \"y_test\": 222.3000030517578, \"y_pred\": 221.16911015801546, \"label\": \"Actual\", \"predicted_label\": \"Predicted\"}, {\"date\": \"2021-07-15T00:00:00\", \"y_test\": 219.8000030517578, \"y_pred\": 221.37060577862627, \"label\": \"Actual\", \"predicted_label\": \"Predicted\"}, {\"date\": \"2021-07-16T00:00:00\", \"y_test\": 214.5500030517578, \"y_pred\": 215.3169787546083, \"label\": \"Actual\", \"predicted_label\": \"Predicted\"}, {\"date\": \"2021-07-19T00:00:00\", \"y_test\": 213.5, \"y_pred\": 213.23407413954718, \"label\": \"Actual\", \"predicted_label\": \"Predicted\"}, {\"date\": \"2021-07-20T00:00:00\", \"y_test\": 210.0, \"y_pred\": 212.68794661352118, \"label\": \"Actual\", \"predicted_label\": \"Predicted\"}, {\"date\": \"2021-07-22T00:00:00\", \"y_test\": 210.55000305175778, \"y_pred\": 209.96490476981356, \"label\": \"Actual\", \"predicted_label\": \"Predicted\"}, {\"date\": \"2021-07-23T00:00:00\", \"y_test\": 209.5, \"y_pred\": 210.08669505677193, \"label\": \"Actual\", \"predicted_label\": \"Predicted\"}, {\"date\": \"2021-07-26T00:00:00\", \"y_test\": 213.9499969482422, \"y_pred\": 208.7371304988667, \"label\": \"Actual\", \"predicted_label\": \"Predicted\"}, {\"date\": \"2021-07-27T00:00:00\", \"y_test\": 215.89999389648438, \"y_pred\": 215.04172076822337, \"label\": \"Actual\", \"predicted_label\": \"Predicted\"}, {\"date\": \"2021-07-28T00:00:00\", \"y_test\": 220.50000000000003, \"y_pred\": 213.05556740744203, \"label\": \"Actual\", \"predicted_label\": \"Predicted\"}, {\"date\": \"2021-07-29T00:00:00\", \"y_test\": 220.6499938964844, \"y_pred\": 218.45761289662033, \"label\": \"Actual\", \"predicted_label\": \"Predicted\"}, {\"date\": \"2021-07-30T00:00:00\", \"y_test\": 228.1999969482422, \"y_pred\": 220.88816934621553, \"label\": \"Actual\", \"predicted_label\": \"Predicted\"}, {\"date\": \"2021-08-02T00:00:00\", \"y_test\": 226.3000030517578, \"y_pred\": 222.4612060521486, \"label\": \"Actual\", \"predicted_label\": \"Predicted\"}, {\"date\": \"2021-08-03T00:00:00\", \"y_test\": 228.35000610351557, \"y_pred\": 228.87668236647758, \"label\": \"Actual\", \"predicted_label\": \"Predicted\"}, {\"date\": \"2021-08-04T00:00:00\", \"y_test\": 214.4499969482422, \"y_pred\": 216.2617952644797, \"label\": \"Actual\", \"predicted_label\": \"Predicted\"}, {\"date\": \"2021-08-05T00:00:00\", \"y_test\": 216.5, \"y_pred\": 206.01072700542596, \"label\": \"Actual\", \"predicted_label\": \"Predicted\"}, {\"date\": \"2021-08-06T00:00:00\", \"y_test\": 214.0, \"y_pred\": 213.18445816516186, \"label\": \"Actual\", \"predicted_label\": \"Predicted\"}, {\"date\": \"2021-08-09T00:00:00\", \"y_test\": 210.0, \"y_pred\": 209.13987380199995, \"label\": \"Actual\", \"predicted_label\": \"Predicted\"}, {\"date\": \"2021-08-10T00:00:00\", \"y_test\": 207.1999969482422, \"y_pred\": 209.1534876210508, \"label\": \"Actual\", \"predicted_label\": \"Predicted\"}, {\"date\": \"2021-08-11T00:00:00\", \"y_test\": 209.0, \"y_pred\": 203.86127213896748, \"label\": \"Actual\", \"predicted_label\": \"Predicted\"}, {\"date\": \"2021-08-12T00:00:00\", \"y_test\": 212.39999389648443, \"y_pred\": 208.3561268097864, \"label\": \"Actual\", \"predicted_label\": \"Predicted\"}, {\"date\": \"2021-08-13T00:00:00\", \"y_test\": 211.1499938964844, \"y_pred\": 212.6293452806537, \"label\": \"Actual\", \"predicted_label\": \"Predicted\"}, {\"date\": \"2021-08-16T00:00:00\", \"y_test\": 206.4499969482422, \"y_pred\": 209.45333659371835, \"label\": \"Actual\", \"predicted_label\": \"Predicted\"}, {\"date\": \"2021-08-17T00:00:00\", \"y_test\": 207.75, \"y_pred\": 205.2125220184866, \"label\": \"Actual\", \"predicted_label\": \"Predicted\"}, {\"date\": \"2021-08-18T00:00:00\", \"y_test\": 206.00000000000003, \"y_pred\": 208.24567401897852, \"label\": \"Actual\", \"predicted_label\": \"Predicted\"}, {\"date\": \"2021-08-20T00:00:00\", \"y_test\": 204.8500061035156, \"y_pred\": 207.92038613496254, \"label\": \"Actual\", \"predicted_label\": \"Predicted\"}, {\"date\": \"2021-08-23T00:00:00\", \"y_test\": 204.4499969482422, \"y_pred\": 205.11681690505915, \"label\": \"Actual\", \"predicted_label\": \"Predicted\"}, {\"date\": \"2021-08-24T00:00:00\", \"y_test\": 199.44999694824216, \"y_pred\": 200.01857049030664, \"label\": \"Actual\", \"predicted_label\": \"Predicted\"}, {\"date\": \"2021-08-25T00:00:00\", \"y_test\": 200.00000000000003, \"y_pred\": 200.78633489755347, \"label\": \"Actual\", \"predicted_label\": \"Predicted\"}, {\"date\": \"2021-08-26T00:00:00\", \"y_test\": 199.8999938964844, \"y_pred\": 199.6230218193258, \"label\": \"Actual\", \"predicted_label\": \"Predicted\"}, {\"date\": \"2021-08-27T00:00:00\", \"y_test\": 195.80000305175784, \"y_pred\": 196.59267294147895, \"label\": \"Actual\", \"predicted_label\": \"Predicted\"}, {\"date\": \"2021-08-30T00:00:00\", \"y_test\": 196.99999999999997, \"y_pred\": 197.29030926709885, \"label\": \"Actual\", \"predicted_label\": \"Predicted\"}, {\"date\": \"2021-08-31T00:00:00\", \"y_test\": 202.3500061035156, \"y_pred\": 198.8755601122213, \"label\": \"Actual\", \"predicted_label\": \"Predicted\"}, {\"date\": \"2021-09-01T00:00:00\", \"y_test\": 200.1999969482422, \"y_pred\": 200.64480910887198, \"label\": \"Actual\", \"predicted_label\": \"Predicted\"}, {\"date\": \"2021-09-02T00:00:00\", \"y_test\": 202.60000610351562, \"y_pred\": 202.65233436736915, \"label\": \"Actual\", \"predicted_label\": \"Predicted\"}, {\"date\": \"2021-09-03T00:00:00\", \"y_test\": 201.5, \"y_pred\": 200.82459077118634, \"label\": \"Actual\", \"predicted_label\": \"Predicted\"}, {\"date\": \"2021-09-06T00:00:00\", \"y_test\": 200.9499969482422, \"y_pred\": 201.97877273586258, \"label\": \"Actual\", \"predicted_label\": \"Predicted\"}, {\"date\": \"2021-09-07T00:00:00\", \"y_test\": 201.89999389648443, \"y_pred\": 200.63016343764858, \"label\": \"Actual\", \"predicted_label\": \"Predicted\"}, {\"date\": \"2021-09-08T00:00:00\", \"y_test\": 209.8999938964844, \"y_pred\": 200.86845528466048, \"label\": \"Actual\", \"predicted_label\": \"Predicted\"}, {\"date\": \"2021-09-09T00:00:00\", \"y_test\": 205.0, \"y_pred\": 206.16935590798695, \"label\": \"Actual\", \"predicted_label\": \"Predicted\"}, {\"date\": \"2021-09-13T00:00:00\", \"y_test\": 202.25, \"y_pred\": 204.49839644247606, \"label\": \"Actual\", \"predicted_label\": \"Predicted\"}, {\"date\": \"2021-09-14T00:00:00\", \"y_test\": 201.9499969482422, \"y_pred\": 201.86078947129096, \"label\": \"Actual\", \"predicted_label\": \"Predicted\"}, {\"date\": \"2021-09-15T00:00:00\", \"y_test\": 216.0, \"y_pred\": 201.43187385283193, \"label\": \"Actual\", \"predicted_label\": \"Predicted\"}, {\"date\": \"2021-09-16T00:00:00\", \"y_test\": 217.55000305175784, \"y_pred\": 219.48907288546656, \"label\": \"Actual\", \"predicted_label\": \"Predicted\"}, {\"date\": \"2021-09-17T00:00:00\", \"y_test\": 214.49999999999997, \"y_pred\": 215.5063680106945, \"label\": \"Actual\", \"predicted_label\": \"Predicted\"}, {\"date\": \"2021-09-20T00:00:00\", \"y_test\": 210.6000061035156, \"y_pred\": 215.8959944820472, \"label\": \"Actual\", \"predicted_label\": \"Predicted\"}, {\"date\": \"2021-09-21T00:00:00\", \"y_test\": 208.8999938964844, \"y_pred\": 205.71055461208553, \"label\": \"Actual\", \"predicted_label\": \"Predicted\"}, {\"date\": \"2021-09-22T00:00:00\", \"y_test\": 211.75, \"y_pred\": 206.9073208681489, \"label\": \"Actual\", \"predicted_label\": \"Predicted\"}, {\"date\": \"2021-09-23T00:00:00\", \"y_test\": 219.9499969482422, \"y_pred\": 211.54512674512316, \"label\": \"Actual\", \"predicted_label\": \"Predicted\"}, {\"date\": \"2021-09-24T00:00:00\", \"y_test\": 218.1499938964844, \"y_pred\": 217.51826402570242, \"label\": \"Actual\", \"predicted_label\": \"Predicted\"}, {\"date\": \"2021-09-27T00:00:00\", \"y_test\": 211.0, \"y_pred\": 209.2558703746726, \"label\": \"Actual\", \"predicted_label\": \"Predicted\"}, {\"date\": \"2021-09-28T00:00:00\", \"y_test\": 208.25000000000003, \"y_pred\": 210.68981736511293, \"label\": \"Actual\", \"predicted_label\": \"Predicted\"}, {\"date\": \"2021-09-29T00:00:00\", \"y_test\": 207.5500030517578, \"y_pred\": 205.464305233905, \"label\": \"Actual\", \"predicted_label\": \"Predicted\"}, {\"date\": \"2021-09-30T00:00:00\", \"y_test\": 206.3500061035156, \"y_pred\": 205.90890671165124, \"label\": \"Actual\", \"predicted_label\": \"Predicted\"}, {\"date\": \"2021-10-01T00:00:00\", \"y_test\": 204.8500061035156, \"y_pred\": 208.09943178787174, \"label\": \"Actual\", \"predicted_label\": \"Predicted\"}, {\"date\": \"2021-10-04T00:00:00\", \"y_test\": 206.25, \"y_pred\": 205.54962516073337, \"label\": \"Actual\", \"predicted_label\": \"Predicted\"}, {\"date\": \"2021-10-05T00:00:00\", \"y_test\": 208.3500061035156, \"y_pred\": 208.66732753491783, \"label\": \"Actual\", \"predicted_label\": \"Predicted\"}, {\"date\": \"2021-10-06T00:00:00\", \"y_test\": 207.0, \"y_pred\": 207.86369750369627, \"label\": \"Actual\", \"predicted_label\": \"Predicted\"}, {\"date\": \"2021-10-07T00:00:00\", \"y_test\": 205.0, \"y_pred\": 206.00094973769276, \"label\": \"Actual\", \"predicted_label\": \"Predicted\"}, {\"date\": \"2021-10-08T00:00:00\", \"y_test\": 203.39999389648438, \"y_pred\": 204.93073219671132, \"label\": \"Actual\", \"predicted_label\": \"Predicted\"}, {\"date\": \"2021-10-11T00:00:00\", \"y_test\": 205.94999694824222, \"y_pred\": 205.28402738880288, \"label\": \"Actual\", \"predicted_label\": \"Predicted\"}, {\"date\": \"2021-10-12T00:00:00\", \"y_test\": 204.1000061035156, \"y_pred\": 205.94789848746385, \"label\": \"Actual\", \"predicted_label\": \"Predicted\"}, {\"date\": \"2021-10-13T00:00:00\", \"y_test\": 205.80000305175784, \"y_pred\": 204.6385971360537, \"label\": \"Actual\", \"predicted_label\": \"Predicted\"}, {\"date\": \"2021-10-14T00:00:00\", \"y_test\": 207.35000610351557, \"y_pred\": 207.49068896967532, \"label\": \"Actual\", \"predicted_label\": \"Predicted\"}, {\"date\": \"2021-10-18T00:00:00\", \"y_test\": 207.19999694824222, \"y_pred\": 207.69301467175015, \"label\": \"Actual\", \"predicted_label\": \"Predicted\"}, {\"date\": \"2021-10-19T00:00:00\", \"y_test\": 204.1000061035156, \"y_pred\": 205.5767261989272, \"label\": \"Actual\", \"predicted_label\": \"Predicted\"}, {\"date\": \"2021-10-20T00:00:00\", \"y_test\": 202.8999938964844, \"y_pred\": 206.30441041563162, \"label\": \"Actual\", \"predicted_label\": \"Predicted\"}, {\"date\": \"2021-10-21T00:00:00\", \"y_test\": 202.24999999999997, \"y_pred\": 203.95141387125454, \"label\": \"Actual\", \"predicted_label\": \"Predicted\"}, {\"date\": \"2021-10-22T00:00:00\", \"y_test\": 203.9499969482422, \"y_pred\": 203.3056836207045, \"label\": \"Actual\", \"predicted_label\": \"Predicted\"}, {\"date\": \"2021-10-25T00:00:00\", \"y_test\": 204.8500061035156, \"y_pred\": 202.87841763519376, \"label\": \"Actual\", \"predicted_label\": \"Predicted\"}, {\"date\": \"2021-10-26T00:00:00\", \"y_test\": 199.1499938964844, \"y_pred\": 200.03276666137063, \"label\": \"Actual\", \"predicted_label\": \"Predicted\"}, {\"date\": \"2021-10-27T00:00:00\", \"y_test\": 201.6999969482422, \"y_pred\": 198.65779326102304, \"label\": \"Actual\", \"predicted_label\": \"Predicted\"}, {\"date\": \"2021-10-28T00:00:00\", \"y_test\": 200.8500061035156, \"y_pred\": 203.0874583236819, \"label\": \"Actual\", \"predicted_label\": \"Predicted\"}, {\"date\": \"2021-10-29T00:00:00\", \"y_test\": 200.55000305175784, \"y_pred\": 202.024526206896, \"label\": \"Actual\", \"predicted_label\": \"Predicted\"}, {\"date\": \"2021-11-01T00:00:00\", \"y_test\": 201.50000000000003, \"y_pred\": 201.44100256916147, \"label\": \"Actual\", \"predicted_label\": \"Predicted\"}, {\"date\": \"2021-11-02T00:00:00\", \"y_test\": 201.64999389648443, \"y_pred\": 202.76133919591598, \"label\": \"Actual\", \"predicted_label\": \"Predicted\"}, {\"date\": \"2021-11-03T00:00:00\", \"y_test\": 203.25000000000003, \"y_pred\": 203.41961998996257, \"label\": \"Actual\", \"predicted_label\": \"Predicted\"}, {\"date\": \"2021-11-04T00:00:00\", \"y_test\": 204.94999694824216, \"y_pred\": 202.53956193990902, \"label\": \"Actual\", \"predicted_label\": \"Predicted\"}, {\"date\": \"2021-11-08T00:00:00\", \"y_test\": 205.6000061035156, \"y_pred\": 202.84472287834404, \"label\": \"Actual\", \"predicted_label\": \"Predicted\"}, {\"date\": \"2021-11-09T00:00:00\", \"y_test\": 228.0, \"y_pred\": 206.7743291770163, \"label\": \"Actual\", \"predicted_label\": \"Predicted\"}, {\"date\": \"2021-11-10T00:00:00\", \"y_test\": 223.00000000000003, \"y_pred\": 224.6592648681549, \"label\": \"Actual\", \"predicted_label\": \"Predicted\"}, {\"date\": \"2021-11-11T00:00:00\", \"y_test\": 222.3500061035156, \"y_pred\": 223.6660507918167, \"label\": \"Actual\", \"predicted_label\": \"Predicted\"}, {\"date\": \"2021-11-12T00:00:00\", \"y_test\": 216.0500030517578, \"y_pred\": 218.15723989709488, \"label\": \"Actual\", \"predicted_label\": \"Predicted\"}, {\"date\": \"2021-11-15T00:00:00\", \"y_test\": 226.0, \"y_pred\": 217.4620157933808, \"label\": \"Actual\", \"predicted_label\": \"Predicted\"}, {\"date\": \"2021-11-16T00:00:00\", \"y_test\": 224.50000000000003, \"y_pred\": 224.23241283503597, \"label\": \"Actual\", \"predicted_label\": \"Predicted\"}, {\"date\": \"2021-11-17T00:00:00\", \"y_test\": 215.3500061035156, \"y_pred\": 218.7177815604284, \"label\": \"Actual\", \"predicted_label\": \"Predicted\"}, {\"date\": \"2021-11-18T00:00:00\", \"y_test\": 215.1499938964844, \"y_pred\": 215.50075513387864, \"label\": \"Actual\", \"predicted_label\": \"Predicted\"}, {\"date\": \"2021-11-22T00:00:00\", \"y_test\": 217.9499969482422, \"y_pred\": 217.35779772115347, \"label\": \"Actual\", \"predicted_label\": \"Predicted\"}, {\"date\": \"2021-11-23T00:00:00\", \"y_test\": 233.6999969482422, \"y_pred\": 214.79286838307084, \"label\": \"Actual\", \"predicted_label\": \"Predicted\"}, {\"date\": \"2021-11-24T00:00:00\", \"y_test\": 273.70001220703125, \"y_pred\": 235.7442884066331, \"label\": \"Actual\", \"predicted_label\": \"Predicted\"}, {\"date\": \"2021-11-25T00:00:00\", \"y_test\": 280.1000061035156, \"y_pred\": 279.0899671093246, \"label\": \"Actual\", \"predicted_label\": \"Predicted\"}, {\"date\": \"2021-11-26T00:00:00\", \"y_test\": 266.6000061035156, \"y_pred\": 272.3622313958293, \"label\": \"Actual\", \"predicted_label\": \"Predicted\"}, {\"date\": \"2021-11-29T00:00:00\", \"y_test\": 279.5, \"y_pred\": 265.92763243520835, \"label\": \"Actual\", \"predicted_label\": \"Predicted\"}, {\"date\": \"2021-11-30T00:00:00\", \"y_test\": 292.45001220703125, \"y_pred\": 278.44364570834756, \"label\": \"Actual\", \"predicted_label\": \"Predicted\"}, {\"date\": \"2021-12-01T00:00:00\", \"y_test\": 282.20001220703125, \"y_pred\": 282.3132356064957, \"label\": \"Actual\", \"predicted_label\": \"Predicted\"}, {\"date\": \"2021-12-02T00:00:00\", \"y_test\": 282.5, \"y_pred\": 287.24443930023625, \"label\": \"Actual\", \"predicted_label\": \"Predicted\"}, {\"date\": \"2021-12-03T00:00:00\", \"y_test\": 299.7000122070313, \"y_pred\": 282.5386359780773, \"label\": \"Actual\", \"predicted_label\": \"Predicted\"}, {\"date\": \"2021-12-06T00:00:00\", \"y_test\": 321.0, \"y_pred\": 306.41208079914213, \"label\": \"Actual\", \"predicted_label\": \"Predicted\"}, {\"date\": \"2021-12-07T00:00:00\", \"y_test\": 315.0, \"y_pred\": 313.30664158715007, \"label\": \"Actual\", \"predicted_label\": \"Predicted\"}, {\"date\": \"2021-12-08T00:00:00\", \"y_test\": 311.0, \"y_pred\": 316.35771656202866, \"label\": \"Actual\", \"predicted_label\": \"Predicted\"}, {\"date\": \"2021-12-09T00:00:00\", \"y_test\": 311.1000061035156, \"y_pred\": 312.4702168370809, \"label\": \"Actual\", \"predicted_label\": \"Predicted\"}, {\"date\": \"2021-12-10T00:00:00\", \"y_test\": 315.3500061035156, \"y_pred\": 315.1223859299395, \"label\": \"Actual\", \"predicted_label\": \"Predicted\"}, {\"date\": \"2021-12-13T00:00:00\", \"y_test\": 315.3500061035157, \"y_pred\": 315.80494504370444, \"label\": \"Actual\", \"predicted_label\": \"Predicted\"}, {\"date\": \"2021-12-14T00:00:00\", \"y_test\": 315.0, \"y_pred\": 315.6038638249476, \"label\": \"Actual\", \"predicted_label\": \"Predicted\"}, {\"date\": \"2021-12-15T00:00:00\", \"y_test\": 326.1000061035156, \"y_pred\": 317.29422475172805, \"label\": \"Actual\", \"predicted_label\": \"Predicted\"}, {\"date\": \"2021-12-16T00:00:00\", \"y_test\": 346.99999999999994, \"y_pred\": 329.9494971258307, \"label\": \"Actual\", \"predicted_label\": \"Predicted\"}, {\"date\": \"2021-12-17T00:00:00\", \"y_test\": 309.6000061035156, \"y_pred\": 308.66464208876744, \"label\": \"Actual\", \"predicted_label\": \"Predicted\"}, {\"date\": \"2021-12-20T00:00:00\", \"y_test\": 283.29998779296875, \"y_pred\": 297.60866325486757, \"label\": \"Actual\", \"predicted_label\": \"Predicted\"}, {\"date\": \"2021-12-21T00:00:00\", \"y_test\": 289.0, \"y_pred\": 280.14043690867487, \"label\": \"Actual\", \"predicted_label\": \"Predicted\"}, {\"date\": \"2021-12-22T00:00:00\", \"y_test\": 287.5, \"y_pred\": 287.4082714847789, \"label\": \"Actual\", \"predicted_label\": \"Predicted\"}, {\"date\": \"2021-12-23T00:00:00\", \"y_test\": 307.95001220703125, \"y_pred\": 290.5160701151943, \"label\": \"Actual\", \"predicted_label\": \"Predicted\"}, {\"date\": \"2021-12-24T00:00:00\", \"y_test\": 301.20001220703125, \"y_pred\": 302.29915062628265, \"label\": \"Actual\", \"predicted_label\": \"Predicted\"}, {\"date\": \"2021-12-27T00:00:00\", \"y_test\": 289.25, \"y_pred\": 293.68579699125513, \"label\": \"Actual\", \"predicted_label\": \"Predicted\"}, {\"date\": \"2021-12-28T00:00:00\", \"y_test\": 287.8500061035156, \"y_pred\": 290.7820043377301, \"label\": \"Actual\", \"predicted_label\": \"Predicted\"}, {\"date\": \"2021-12-29T00:00:00\", \"y_test\": 303.29998779296875, \"y_pred\": 290.40783627759686, \"label\": \"Actual\", \"predicted_label\": \"Predicted\"}, {\"date\": \"2021-12-30T00:00:00\", \"y_test\": 304.0, \"y_pred\": 303.755128576677, \"label\": \"Actual\", \"predicted_label\": \"Predicted\"}, {\"date\": \"2021-12-31T00:00:00\", \"y_test\": 302.6000061035157, \"y_pred\": 300.7479138454796, \"label\": \"Actual\", \"predicted_label\": \"Predicted\"}, {\"date\": \"2022-01-03T00:00:00\", \"y_test\": 314.3500061035156, \"y_pred\": 304.1497608784006, \"label\": \"Actual\", \"predicted_label\": \"Predicted\"}, {\"date\": \"2022-01-04T00:00:00\", \"y_test\": 314.95001220703125, \"y_pred\": 310.7357190639613, \"label\": \"Actual\", \"predicted_label\": \"Predicted\"}, {\"date\": \"2022-01-05T00:00:00\", \"y_test\": 319.70001220703125, \"y_pred\": 314.4103951913557, \"label\": \"Actual\", \"predicted_label\": \"Predicted\"}, {\"date\": \"2022-01-06T00:00:00\", \"y_test\": 340.29998779296875, \"y_pred\": 323.90051086492645, \"label\": \"Actual\", \"predicted_label\": \"Predicted\"}, {\"date\": \"2022-01-07T00:00:00\", \"y_test\": 340.1499938964844, \"y_pred\": 346.19661490909425, \"label\": \"Actual\", \"predicted_label\": \"Predicted\"}, {\"date\": \"2022-01-10T00:00:00\", \"y_test\": 372.3500061035156, \"y_pred\": 332.09505345898583, \"label\": \"Actual\", \"predicted_label\": \"Predicted\"}, {\"date\": \"2022-01-11T00:00:00\", \"y_test\": 363.6499938964844, \"y_pred\": 376.2932925972165, \"label\": \"Actual\", \"predicted_label\": \"Predicted\"}, {\"date\": \"2022-01-12T00:00:00\", \"y_test\": 362.3500061035156, \"y_pred\": 362.0595335875592, \"label\": \"Actual\", \"predicted_label\": \"Predicted\"}, {\"date\": \"2022-01-13T00:00:00\", \"y_test\": 362.7999877929688, \"y_pred\": 365.9109483775634, \"label\": \"Actual\", \"predicted_label\": \"Predicted\"}, {\"date\": \"2022-01-14T00:00:00\", \"y_test\": 361.0, \"y_pred\": 366.4690713351733, \"label\": \"Actual\", \"predicted_label\": \"Predicted\"}, {\"date\": \"2022-01-17T00:00:00\", \"y_test\": 361.00000000000006, \"y_pred\": 365.8429744056619, \"label\": \"Actual\", \"predicted_label\": \"Predicted\"}, {\"date\": \"2022-01-18T00:00:00\", \"y_test\": 360.5, \"y_pred\": 365.42118223458266, \"label\": \"Actual\", \"predicted_label\": \"Predicted\"}, {\"date\": \"2022-01-19T00:00:00\", \"y_test\": 382.4500122070313, \"y_pred\": 358.50813679644267, \"label\": \"Actual\", \"predicted_label\": \"Predicted\"}, {\"date\": \"2022-01-20T00:00:00\", \"y_test\": 379.8999938964844, \"y_pred\": 380.8881126484194, \"label\": \"Actual\", \"predicted_label\": \"Predicted\"}, {\"date\": \"2022-01-21T00:00:00\", \"y_test\": 374.00000000000006, \"y_pred\": 379.87787988773727, \"label\": \"Actual\", \"predicted_label\": \"Predicted\"}, {\"date\": \"2022-01-24T00:00:00\", \"y_test\": 372.9500122070313, \"y_pred\": 372.3246438025639, \"label\": \"Actual\", \"predicted_label\": \"Predicted\"}, {\"date\": \"2022-01-25T00:00:00\", \"y_test\": 328.54998779296875, \"y_pred\": 340.69286737243226, \"label\": \"Actual\", \"predicted_label\": \"Predicted\"}, {\"date\": \"2022-01-27T00:00:00\", \"y_test\": 336.04998779296875, \"y_pred\": 327.0224690668638, \"label\": \"Actual\", \"predicted_label\": \"Predicted\"}, {\"date\": \"2022-01-28T00:00:00\", \"y_test\": 331.79998779296875, \"y_pred\": 327.14801831503496, \"label\": \"Actual\", \"predicted_label\": \"Predicted\"}, {\"date\": \"2022-01-31T00:00:00\", \"y_test\": 338.8999938964844, \"y_pred\": 318.99031347280834, \"label\": \"Actual\", \"predicted_label\": \"Predicted\"}, {\"date\": \"2022-02-01T00:00:00\", \"y_test\": 341.99999999999994, \"y_pred\": 338.29975638044317, \"label\": \"Actual\", \"predicted_label\": \"Predicted\"}, {\"date\": \"2022-02-02T00:00:00\", \"y_test\": 388.8999938964843, \"y_pred\": 348.17040713489064, \"label\": \"Actual\", \"predicted_label\": \"Predicted\"}, {\"date\": \"2022-02-03T00:00:00\", \"y_test\": 419.35000610351557, \"y_pred\": 390.4999934359806, \"label\": \"Actual\", \"predicted_label\": \"Predicted\"}, {\"date\": \"2022-02-04T00:00:00\", \"y_test\": 417.70001220703125, \"y_pred\": 414.4642599029859, \"label\": \"Actual\", \"predicted_label\": \"Predicted\"}, {\"date\": \"2022-02-07T00:00:00\", \"y_test\": 421.20001220703125, \"y_pred\": 426.10735155673274, \"label\": \"Actual\", \"predicted_label\": \"Predicted\"}, {\"date\": \"2022-02-08T00:00:00\", \"y_test\": 422.70001220703125, \"y_pred\": 426.2144674476176, \"label\": \"Actual\", \"predicted_label\": \"Predicted\"}, {\"date\": \"2022-02-09T00:00:00\", \"y_test\": 415.89999389648443, \"y_pred\": 412.74384016655927, \"label\": \"Actual\", \"predicted_label\": \"Predicted\"}, {\"date\": \"2022-02-10T00:00:00\", \"y_test\": 400.0, \"y_pred\": 407.96891644800024, \"label\": \"Actual\", \"predicted_label\": \"Predicted\"}, {\"date\": \"2022-02-11T00:00:00\", \"y_test\": 405.0, \"y_pred\": 397.7381080497641, \"label\": \"Actual\", \"predicted_label\": \"Predicted\"}, {\"date\": \"2022-02-15T00:00:00\", \"y_test\": 398.79998779296886, \"y_pred\": 402.8095794187871, \"label\": \"Actual\", \"predicted_label\": \"Predicted\"}, {\"date\": \"2022-02-16T00:00:00\", \"y_test\": 384.2999877929688, \"y_pred\": 379.0098727912365, \"label\": \"Actual\", \"predicted_label\": \"Predicted\"}, {\"date\": \"2022-02-17T00:00:00\", \"y_test\": 378.9500122070313, \"y_pred\": 375.8629260435066, \"label\": \"Actual\", \"predicted_label\": \"Predicted\"}, {\"date\": \"2022-02-18T00:00:00\", \"y_test\": 403.7999877929688, \"y_pred\": 380.5491907923849, \"label\": \"Actual\", \"predicted_label\": \"Predicted\"}, {\"date\": \"2022-02-21T00:00:00\", \"y_test\": 399.0, \"y_pred\": 401.47189396894373, \"label\": \"Actual\", \"predicted_label\": \"Predicted\"}, {\"date\": \"2022-02-22T00:00:00\", \"y_test\": 336.54998779296875, \"y_pred\": 349.18455177912205, \"label\": \"Actual\", \"predicted_label\": \"Predicted\"}, {\"date\": \"2022-02-23T00:00:00\", \"y_test\": 364.5499877929688, \"y_pred\": 331.30267265196466, \"label\": \"Actual\", \"predicted_label\": \"Predicted\"}, {\"date\": \"2022-02-24T00:00:00\", \"y_test\": 368.7000122070313, \"y_pred\": 359.981217650718, \"label\": \"Actual\", \"predicted_label\": \"Predicted\"}, {\"date\": \"2022-02-25T00:00:00\", \"y_test\": 354.0, \"y_pred\": 335.6120564472828, \"label\": \"Actual\", \"predicted_label\": \"Predicted\"}, {\"date\": \"2022-02-28T00:00:00\", \"y_test\": 336.6499938964844, \"y_pred\": 336.60364019649916, \"label\": \"Actual\", \"predicted_label\": \"Predicted\"}, {\"date\": \"2022-03-02T00:00:00\", \"y_test\": 355.8999938964844, \"y_pred\": 338.7970369548633, \"label\": \"Actual\", \"predicted_label\": \"Predicted\"}, {\"date\": \"2022-03-03T00:00:00\", \"y_test\": 363.9500122070313, \"y_pred\": 359.9626836005369, \"label\": \"Actual\", \"predicted_label\": \"Predicted\"}, {\"date\": \"2022-03-04T00:00:00\", \"y_test\": 354.0, \"y_pred\": 351.9560985672989, \"label\": \"Actual\", \"predicted_label\": \"Predicted\"}, {\"date\": \"2022-03-07T00:00:00\", \"y_test\": 343.04998779296875, \"y_pred\": 358.83910239836416, \"label\": \"Actual\", \"predicted_label\": \"Predicted\"}, {\"date\": \"2022-03-08T00:00:00\", \"y_test\": 333.1000061035156, \"y_pred\": 334.71258003925226, \"label\": \"Actual\", \"predicted_label\": \"Predicted\"}, {\"date\": \"2022-03-09T00:00:00\", \"y_test\": 328.0, \"y_pred\": 325.7992263838863, \"label\": \"Actual\", \"predicted_label\": \"Predicted\"}, {\"date\": \"2022-03-10T00:00:00\", \"y_test\": 332.2999877929688, \"y_pred\": 330.2567877465334, \"label\": \"Actual\", \"predicted_label\": \"Predicted\"}, {\"date\": \"2022-03-11T00:00:00\", \"y_test\": 312.3999938964844, \"y_pred\": 321.890807998738, \"label\": \"Actual\", \"predicted_label\": \"Predicted\"}, {\"date\": \"2022-03-14T00:00:00\", \"y_test\": 312.79998779296875, \"y_pred\": 313.14941626139745, \"label\": \"Actual\", \"predicted_label\": \"Predicted\"}, {\"date\": \"2022-03-15T00:00:00\", \"y_test\": 316.3999938964844, \"y_pred\": 307.1717478232653, \"label\": \"Actual\", \"predicted_label\": \"Predicted\"}, {\"date\": \"2022-03-16T00:00:00\", \"y_test\": 310.54998779296875, \"y_pred\": 313.22020721490054, \"label\": \"Actual\", \"predicted_label\": \"Predicted\"}, {\"date\": \"2022-03-17T00:00:00\", \"y_test\": 305.8999938964844, \"y_pred\": 310.4970391345533, \"label\": \"Actual\", \"predicted_label\": \"Predicted\"}, {\"date\": \"2022-03-21T00:00:00\", \"y_test\": 305.2000122070313, \"y_pred\": 307.28414327381336, \"label\": \"Actual\", \"predicted_label\": \"Predicted\"}, {\"date\": \"2022-03-22T00:00:00\", \"y_test\": 295.3500061035157, \"y_pred\": 298.9285570699747, \"label\": \"Actual\", \"predicted_label\": \"Predicted\"}, {\"date\": \"2022-03-23T00:00:00\", \"y_test\": 300.5, \"y_pred\": 296.22981881039976, \"label\": \"Actual\", \"predicted_label\": \"Predicted\"}, {\"date\": \"2022-03-24T00:00:00\", \"y_test\": 289.5, \"y_pred\": 298.50231685389707, \"label\": \"Actual\", \"predicted_label\": \"Predicted\"}, {\"date\": \"2022-03-25T00:00:00\", \"y_test\": 287.29998779296875, \"y_pred\": 291.58916998988803, \"label\": \"Actual\", \"predicted_label\": \"Predicted\"}, {\"date\": \"2022-03-28T00:00:00\", \"y_test\": 278.6499938964843, \"y_pred\": 282.2616224959805, \"label\": \"Actual\", \"predicted_label\": \"Predicted\"}, {\"date\": \"2022-03-29T00:00:00\", \"y_test\": 287.0, \"y_pred\": 280.27118516420916, \"label\": \"Actual\", \"predicted_label\": \"Predicted\"}, {\"date\": \"2022-03-30T00:00:00\", \"y_test\": 290.79998779296875, \"y_pred\": 292.5987820828706, \"label\": \"Actual\", \"predicted_label\": \"Predicted\"}, {\"date\": \"2022-03-31T00:00:00\", \"y_test\": 285.1499938964843, \"y_pred\": 284.6439001320617, \"label\": \"Actual\", \"predicted_label\": \"Predicted\"}, {\"date\": \"2022-04-01T00:00:00\", \"y_test\": 297.54998779296875, \"y_pred\": 285.1966040757037, \"label\": \"Actual\", \"predicted_label\": \"Predicted\"}, {\"date\": \"2022-04-04T00:00:00\", \"y_test\": 314.0, \"y_pred\": 301.54380821243814, \"label\": \"Actual\", \"predicted_label\": \"Predicted\"}, {\"date\": \"2022-04-05T00:00:00\", \"y_test\": 326.75, \"y_pred\": 316.72160367431286, \"label\": \"Actual\", \"predicted_label\": \"Predicted\"}, {\"date\": \"2022-04-06T00:00:00\", \"y_test\": 322.3999938964844, \"y_pred\": 328.28142605524226, \"label\": \"Actual\", \"predicted_label\": \"Predicted\"}, {\"date\": \"2022-04-07T00:00:00\", \"y_test\": 316.0, \"y_pred\": 315.0587350601909, \"label\": \"Actual\", \"predicted_label\": \"Predicted\"}, {\"date\": \"2022-04-08T00:00:00\", \"y_test\": 309.79998779296875, \"y_pred\": 310.1198170397654, \"label\": \"Actual\", \"predicted_label\": \"Predicted\"}, {\"date\": \"2022-04-11T00:00:00\", \"y_test\": 311.75, \"y_pred\": 309.9323283018374, \"label\": \"Actual\", \"predicted_label\": \"Predicted\"}, {\"date\": \"2022-04-12T00:00:00\", \"y_test\": 314.95001220703125, \"y_pred\": 312.987007318273, \"label\": \"Actual\", \"predicted_label\": \"Predicted\"}, {\"date\": \"2022-04-13T00:00:00\", \"y_test\": 319.3999938964844, \"y_pred\": 316.30678582164023, \"label\": \"Actual\", \"predicted_label\": \"Predicted\"}, {\"date\": \"2022-04-18T00:00:00\", \"y_test\": 324.45001220703125, \"y_pred\": 318.43948356902877, \"label\": \"Actual\", \"predicted_label\": \"Predicted\"}, {\"date\": \"2022-04-19T00:00:00\", \"y_test\": 324.1000061035156, \"y_pred\": 327.1023117810156, \"label\": \"Actual\", \"predicted_label\": \"Predicted\"}, {\"date\": \"2022-04-20T00:00:00\", \"y_test\": 319.6499938964844, \"y_pred\": 311.23100529765856, \"label\": \"Actual\", \"predicted_label\": \"Predicted\"}, {\"date\": \"2022-04-21T00:00:00\", \"y_test\": 314.3500061035157, \"y_pred\": 314.7051865835136, \"label\": \"Actual\", \"predicted_label\": \"Predicted\"}, {\"date\": \"2022-04-22T00:00:00\", \"y_test\": 343.64999389648443, \"y_pred\": 316.38250954256876, \"label\": \"Actual\", \"predicted_label\": \"Predicted\"}, {\"date\": \"2022-04-25T00:00:00\", \"y_test\": 355.04998779296875, \"y_pred\": 344.2947417977285, \"label\": \"Actual\", \"predicted_label\": \"Predicted\"}, {\"date\": \"2022-04-26T00:00:00\", \"y_test\": 349.8999938964844, \"y_pred\": 352.82596365420045, \"label\": \"Actual\", \"predicted_label\": \"Predicted\"}, {\"date\": \"2022-04-27T00:00:00\", \"y_test\": 351.99999999999994, \"y_pred\": 345.43820683257735, \"label\": \"Actual\", \"predicted_label\": \"Predicted\"}, {\"date\": \"2022-04-28T00:00:00\", \"y_test\": 359.3500061035156, \"y_pred\": 353.6109245200992, \"label\": \"Actual\", \"predicted_label\": \"Predicted\"}, {\"date\": \"2022-04-29T00:00:00\", \"y_test\": 355.89999389648443, \"y_pred\": 361.29887029422406, \"label\": \"Actual\", \"predicted_label\": \"Predicted\"}, {\"date\": \"2022-05-04T00:00:00\", \"y_test\": 359.70001220703125, \"y_pred\": 352.72805351895244, \"label\": \"Actual\", \"predicted_label\": \"Predicted\"}, {\"date\": \"2022-05-05T00:00:00\", \"y_test\": 356.8999938964844, \"y_pred\": 348.1686351600499, \"label\": \"Actual\", \"predicted_label\": \"Predicted\"}, {\"date\": \"2022-05-06T00:00:00\", \"y_test\": 332.0, \"y_pred\": 345.5961625817492, \"label\": \"Actual\", \"predicted_label\": \"Predicted\"}, {\"date\": \"2022-05-09T00:00:00\", \"y_test\": 319.8999938964844, \"y_pred\": 323.4566261692246, \"label\": \"Actual\", \"predicted_label\": \"Predicted\"}, {\"date\": \"2022-05-10T00:00:00\", \"y_test\": 316.1499938964844, \"y_pred\": 312.7659013715715, \"label\": \"Actual\", \"predicted_label\": \"Predicted\"}, {\"date\": \"2022-05-11T00:00:00\", \"y_test\": 308.0, \"y_pred\": 307.40037503244054, \"label\": \"Actual\", \"predicted_label\": \"Predicted\"}, {\"date\": \"2022-05-12T00:00:00\", \"y_test\": 270.1499938964844, \"y_pred\": 284.77906395407314, \"label\": \"Actual\", \"predicted_label\": \"Predicted\"}, {\"date\": \"2022-05-13T00:00:00\", \"y_test\": 267.8999938964844, \"y_pred\": 267.95344607017535, \"label\": \"Actual\", \"predicted_label\": \"Predicted\"}, {\"date\": \"2022-05-16T00:00:00\", \"y_test\": 308.3999938964844, \"y_pred\": 264.8329532136003, \"label\": \"Actual\", \"predicted_label\": \"Predicted\"}, {\"date\": \"2022-05-17T00:00:00\", \"y_test\": 328.8500061035156, \"y_pred\": 308.69434936606916, \"label\": \"Actual\", \"predicted_label\": \"Predicted\"}, {\"date\": \"2022-05-18T00:00:00\", \"y_test\": 336.75, \"y_pred\": 332.8132713695521, \"label\": \"Actual\", \"predicted_label\": \"Predicted\"}, {\"date\": \"2022-05-19T00:00:00\", \"y_test\": 335.25, \"y_pred\": 336.96475877947614, \"label\": \"Actual\", \"predicted_label\": \"Predicted\"}, {\"date\": \"2022-05-20T00:00:00\", \"y_test\": 343.29998779296875, \"y_pred\": 339.82109408510536, \"label\": \"Actual\", \"predicted_label\": \"Predicted\"}, {\"date\": \"2022-05-23T00:00:00\", \"y_test\": 342.70001220703125, \"y_pred\": 346.6824450911836, \"label\": \"Actual\", \"predicted_label\": \"Predicted\"}, {\"date\": \"2022-05-24T00:00:00\", \"y_test\": 333.14999389648443, \"y_pred\": 338.5297651389115, \"label\": \"Actual\", \"predicted_label\": \"Predicted\"}, {\"date\": \"2022-05-25T00:00:00\", \"y_test\": 333.29998779296875, \"y_pred\": 337.354035753858, \"label\": \"Actual\", \"predicted_label\": \"Predicted\"}, {\"date\": \"2022-05-26T00:00:00\", \"y_test\": 348.3999938964844, \"y_pred\": 329.25504633637263, \"label\": \"Actual\", \"predicted_label\": \"Predicted\"}, {\"date\": \"2022-05-27T00:00:00\", \"y_test\": 342.54998779296875, \"y_pred\": 351.652464155846, \"label\": \"Actual\", \"predicted_label\": \"Predicted\"}, {\"date\": \"2022-05-30T00:00:00\", \"y_test\": 348.0, \"y_pred\": 341.9041074865281, \"label\": \"Actual\", \"predicted_label\": \"Predicted\"}, {\"date\": \"2022-05-31T00:00:00\", \"y_test\": 347.00000000000006, \"y_pred\": 340.63545999567975, \"label\": \"Actual\", \"predicted_label\": \"Predicted\"}, {\"date\": \"2022-06-01T00:00:00\", \"y_test\": 379.85000610351557, \"y_pred\": 349.7500406598768, \"label\": \"Actual\", \"predicted_label\": \"Predicted\"}, {\"date\": \"2022-06-02T00:00:00\", \"y_test\": 386.25000000000006, \"y_pred\": 390.1794939433491, \"label\": \"Actual\", \"predicted_label\": \"Predicted\"}, {\"date\": \"2022-06-03T00:00:00\", \"y_test\": 379.49999999999994, \"y_pred\": 382.7992349411866, \"label\": \"Actual\", \"predicted_label\": \"Predicted\"}, {\"date\": \"2022-06-06T00:00:00\", \"y_test\": 384.70001220703125, \"y_pred\": 380.142834882967, \"label\": \"Actual\", \"predicted_label\": \"Predicted\"}, {\"date\": \"2022-06-07T00:00:00\", \"y_test\": 381.99999999999994, \"y_pred\": 384.65739338819384, \"label\": \"Actual\", \"predicted_label\": \"Predicted\"}, {\"date\": \"2022-06-08T00:00:00\", \"y_test\": 412.9500122070313, \"y_pred\": 390.8334054879448, \"label\": \"Actual\", \"predicted_label\": \"Predicted\"}, {\"date\": \"2022-06-09T00:00:00\", \"y_test\": 416.0, \"y_pred\": 410.7370540092866, \"label\": \"Actual\", \"predicted_label\": \"Predicted\"}, {\"date\": \"2022-06-10T00:00:00\", \"y_test\": 419.99999999999994, \"y_pred\": 419.22414880063434, \"label\": \"Actual\", \"predicted_label\": \"Predicted\"}, {\"date\": \"2022-06-13T00:00:00\", \"y_test\": 404.99999999999994, \"y_pred\": 411.7159502001471, \"label\": \"Actual\", \"predicted_label\": \"Predicted\"}, {\"date\": \"2022-06-14T00:00:00\", \"y_test\": 417.00000000000006, \"y_pred\": 413.9820327462222, \"label\": \"Actual\", \"predicted_label\": \"Predicted\"}, {\"date\": \"2022-06-15T00:00:00\", \"y_test\": 414.75000000000006, \"y_pred\": 414.6151515984206, \"label\": \"Actual\", \"predicted_label\": \"Predicted\"}, {\"date\": \"2022-06-16T00:00:00\", \"y_test\": 410.5499877929688, \"y_pred\": 400.71384133474527, \"label\": \"Actual\", \"predicted_label\": \"Predicted\"}, {\"date\": \"2022-06-17T00:00:00\", \"y_test\": 396.95001220703125, \"y_pred\": 386.2692501035168, \"label\": \"Actual\", \"predicted_label\": \"Predicted\"}, {\"date\": \"2022-06-20T00:00:00\", \"y_test\": 395.1000061035156, \"y_pred\": 399.4757853071843, \"label\": \"Actual\", \"predicted_label\": \"Predicted\"}, {\"date\": \"2022-06-21T00:00:00\", \"y_test\": 393.99999999999994, \"y_pred\": 371.0860982594981, \"label\": \"Actual\", \"predicted_label\": \"Predicted\"}, {\"date\": \"2022-06-22T00:00:00\", \"y_test\": 389.6499938964844, \"y_pred\": 395.6196077063036, \"label\": \"Actual\", \"predicted_label\": \"Predicted\"}, {\"date\": \"2022-06-23T00:00:00\", \"y_test\": 388.45001220703125, \"y_pred\": 383.2260316001684, \"label\": \"Actual\", \"predicted_label\": \"Predicted\"}, {\"date\": \"2022-06-24T00:00:00\", \"y_test\": 402.2000122070313, \"y_pred\": 393.5412112127866, \"label\": \"Actual\", \"predicted_label\": \"Predicted\"}, {\"date\": \"2022-06-27T00:00:00\", \"y_test\": 399.2000122070313, \"y_pred\": 397.2958361117877, \"label\": \"Actual\", \"predicted_label\": \"Predicted\"}, {\"date\": \"2022-06-28T00:00:00\", \"y_test\": 389.49999999999994, \"y_pred\": 396.73352228254953, \"label\": \"Actual\", \"predicted_label\": \"Predicted\"}, {\"date\": \"2022-06-29T00:00:00\", \"y_test\": 392.6499938964844, \"y_pred\": 391.5472629224148, \"label\": \"Actual\", \"predicted_label\": \"Predicted\"}, {\"date\": \"2022-06-30T00:00:00\", \"y_test\": 370.8500061035156, \"y_pred\": 379.18745580158213, \"label\": \"Actual\", \"predicted_label\": \"Predicted\"}, {\"date\": \"2022-07-01T00:00:00\", \"y_test\": 362.6000061035156, \"y_pred\": 365.43778131343316, \"label\": \"Actual\", \"predicted_label\": \"Predicted\"}, {\"date\": \"2022-07-04T00:00:00\", \"y_test\": 353.20001220703125, \"y_pred\": 351.4176589169938, \"label\": \"Actual\", \"predicted_label\": \"Predicted\"}, {\"date\": \"2022-07-05T00:00:00\", \"y_test\": 385.7000122070313, \"y_pred\": 350.12841168995425, \"label\": \"Actual\", \"predicted_label\": \"Predicted\"}, {\"date\": \"2022-07-06T00:00:00\", \"y_test\": 378.3999938964844, \"y_pred\": 380.6252752589398, \"label\": \"Actual\", \"predicted_label\": \"Predicted\"}, {\"date\": \"2022-07-07T00:00:00\", \"y_test\": 377.7000122070313, \"y_pred\": 381.4968983641818, \"label\": \"Actual\", \"predicted_label\": \"Predicted\"}, {\"date\": \"2022-07-08T00:00:00\", \"y_test\": 371.6499938964843, \"y_pred\": 371.87644685318133, \"label\": \"Actual\", \"predicted_label\": \"Predicted\"}, {\"date\": \"2022-07-11T00:00:00\", \"y_test\": 375.79998779296875, \"y_pred\": 365.7798753580411, \"label\": \"Actual\", \"predicted_label\": \"Predicted\"}, {\"date\": \"2022-07-12T00:00:00\", \"y_test\": 376.0, \"y_pred\": 380.6696583996243, \"label\": \"Actual\", \"predicted_label\": \"Predicted\"}, {\"date\": \"2022-07-13T00:00:00\", \"y_test\": 380.0, \"y_pred\": 379.65631201723886, \"label\": \"Actual\", \"predicted_label\": \"Predicted\"}, {\"date\": \"2022-07-14T00:00:00\", \"y_test\": 376.9500122070313, \"y_pred\": 374.1715575246206, \"label\": \"Actual\", \"predicted_label\": \"Predicted\"}, {\"date\": \"2022-07-15T00:00:00\", \"y_test\": 382.89999389648443, \"y_pred\": 380.132290694185, \"label\": \"Actual\", \"predicted_label\": \"Predicted\"}, {\"date\": \"2022-07-18T00:00:00\", \"y_test\": 385.0, \"y_pred\": 379.96908416511053, \"label\": \"Actual\", \"predicted_label\": \"Predicted\"}, {\"date\": \"2022-07-19T00:00:00\", \"y_test\": 373.7000122070313, \"y_pred\": 377.06230055528994, \"label\": \"Actual\", \"predicted_label\": \"Predicted\"}, {\"date\": \"2022-07-20T00:00:00\", \"y_test\": 377.2000122070313, \"y_pred\": 372.66676063914883, \"label\": \"Actual\", \"predicted_label\": \"Predicted\"}, {\"date\": \"2022-07-21T00:00:00\", \"y_test\": 379.8999938964843, \"y_pred\": 378.35186505581095, \"label\": \"Actual\", \"predicted_label\": \"Predicted\"}, {\"date\": \"2022-07-22T00:00:00\", \"y_test\": 373.5, \"y_pred\": 377.8080220953387, \"label\": \"Actual\", \"predicted_label\": \"Predicted\"}, {\"date\": \"2022-07-25T00:00:00\", \"y_test\": 377.0, \"y_pred\": 373.5456440996137, \"label\": \"Actual\", \"predicted_label\": \"Predicted\"}, {\"date\": \"2022-07-26T00:00:00\", \"y_test\": 373.8999938964843, \"y_pred\": 374.63089197021304, \"label\": \"Actual\", \"predicted_label\": \"Predicted\"}, {\"date\": \"2022-07-27T00:00:00\", \"y_test\": 369.1000061035156, \"y_pred\": 365.14175255145227, \"label\": \"Actual\", \"predicted_label\": \"Predicted\"}, {\"date\": \"2022-07-28T00:00:00\", \"y_test\": 374.99999999999994, \"y_pred\": 371.0136403908367, \"label\": \"Actual\", \"predicted_label\": \"Predicted\"}, {\"date\": \"2022-07-29T00:00:00\", \"y_test\": 378.7000122070313, \"y_pred\": 374.59718526589455, \"label\": \"Actual\", \"predicted_label\": \"Predicted\"}, {\"date\": \"2022-08-01T00:00:00\", \"y_test\": 402.2999877929688, \"y_pred\": 375.4021019646295, \"label\": \"Actual\", \"predicted_label\": \"Predicted\"}, {\"date\": \"2022-08-02T00:00:00\", \"y_test\": 425.9500122070313, \"y_pred\": 404.6412687476981, \"label\": \"Actual\", \"predicted_label\": \"Predicted\"}, {\"date\": \"2022-08-03T00:00:00\", \"y_test\": 440.0, \"y_pred\": 420.63166593156024, \"label\": \"Actual\", \"predicted_label\": \"Predicted\"}, {\"date\": \"2022-08-04T00:00:00\", \"y_test\": 445.6000061035156, \"y_pred\": 444.03604293096265, \"label\": \"Actual\", \"predicted_label\": \"Predicted\"}, {\"date\": \"2022-08-05T00:00:00\", \"y_test\": 430.7999877929688, \"y_pred\": 428.40666328249597, \"label\": \"Actual\", \"predicted_label\": \"Predicted\"}, {\"date\": \"2022-08-08T00:00:00\", \"y_test\": 437.95001220703125, \"y_pred\": 436.77230707430783, \"label\": \"Actual\", \"predicted_label\": \"Predicted\"}, {\"date\": \"2022-08-10T00:00:00\", \"y_test\": 464.5, \"y_pred\": 439.895973027226, \"label\": \"Actual\", \"predicted_label\": \"Predicted\"}, {\"date\": \"2022-08-11T00:00:00\", \"y_test\": 453.8500061035156, \"y_pred\": 457.22406569298624, \"label\": \"Actual\", \"predicted_label\": \"Predicted\"}, {\"date\": \"2022-08-12T00:00:00\", \"y_test\": 454.0, \"y_pred\": 454.11081167206424, \"label\": \"Actual\", \"predicted_label\": \"Predicted\"}, {\"date\": \"2022-08-16T00:00:00\", \"y_test\": 463.04998779296886, \"y_pred\": 462.0561829456192, \"label\": \"Actual\", \"predicted_label\": \"Predicted\"}, {\"date\": \"2022-08-17T00:00:00\", \"y_test\": 435.99999999999994, \"y_pred\": 433.2050397788879, \"label\": \"Actual\", \"predicted_label\": \"Predicted\"}, {\"date\": \"2022-08-18T00:00:00\", \"y_test\": 433.7000122070313, \"y_pred\": 434.47348070723257, \"label\": \"Actual\", \"predicted_label\": \"Predicted\"}, {\"date\": \"2022-08-19T00:00:00\", \"y_test\": 434.20001220703136, \"y_pred\": 430.9696203444438, \"label\": \"Actual\", \"predicted_label\": \"Predicted\"}, {\"date\": \"2022-08-22T00:00:00\", \"y_test\": 469.75000000000006, \"y_pred\": 426.3816817475432, \"label\": \"Actual\", \"predicted_label\": \"Predicted\"}, {\"date\": \"2022-08-23T00:00:00\", \"y_test\": 467.1499938964844, \"y_pred\": 477.2413733161228, \"label\": \"Actual\", \"predicted_label\": \"Predicted\"}, {\"date\": \"2022-08-24T00:00:00\", \"y_test\": 481.2000122070313, \"y_pred\": 470.48272389832715, \"label\": \"Actual\", \"predicted_label\": \"Predicted\"}, {\"date\": \"2022-08-25T00:00:00\", \"y_test\": 491.10000610351557, \"y_pred\": 480.4612489529993, \"label\": \"Actual\", \"predicted_label\": \"Predicted\"}, {\"date\": \"2022-08-26T00:00:00\", \"y_test\": 502.0, \"y_pred\": 474.3167204355154, \"label\": \"Actual\", \"predicted_label\": \"Predicted\"}, {\"date\": \"2022-08-29T00:00:00\", \"y_test\": 504.70001220703125, \"y_pred\": 501.8361907154027, \"label\": \"Actual\", \"predicted_label\": \"Predicted\"}, {\"date\": \"2022-08-30T00:00:00\", \"y_test\": 506.45001220703125, \"y_pred\": 501.41489399774844, \"label\": \"Actual\", \"predicted_label\": \"Predicted\"}, {\"date\": \"2022-09-01T00:00:00\", \"y_test\": 505.6499938964844, \"y_pred\": 506.2891005330463, \"label\": \"Actual\", \"predicted_label\": \"Predicted\"}, {\"date\": \"2022-09-02T00:00:00\", \"y_test\": 537.75, \"y_pred\": 500.21188245393097, \"label\": \"Actual\", \"predicted_label\": \"Predicted\"}, {\"date\": \"2022-09-05T00:00:00\", \"y_test\": 544.4500122070312, \"y_pred\": 546.473535853062, \"label\": \"Actual\", \"predicted_label\": \"Predicted\"}, {\"date\": \"2022-09-06T00:00:00\", \"y_test\": 565.0, \"y_pred\": 546.5819970358834, \"label\": \"Actual\", \"predicted_label\": \"Predicted\"}, {\"date\": \"2022-09-07T00:00:00\", \"y_test\": 566.5, \"y_pred\": 557.819697567995, \"label\": \"Actual\", \"predicted_label\": \"Predicted\"}, {\"date\": \"2022-09-08T00:00:00\", \"y_test\": 563.8499755859375, \"y_pred\": 569.2641468967875, \"label\": \"Actual\", \"predicted_label\": \"Predicted\"}, {\"date\": \"2022-09-09T00:00:00\", \"y_test\": 565.0, \"y_pred\": 564.687737001084, \"label\": \"Actual\", \"predicted_label\": \"Predicted\"}, {\"date\": \"2022-09-12T00:00:00\", \"y_test\": 560.75, \"y_pred\": 570.137183138404, \"label\": \"Actual\", \"predicted_label\": \"Predicted\"}, {\"date\": \"2022-09-13T00:00:00\", \"y_test\": 563.9500122070312, \"y_pred\": 568.6113160440527, \"label\": \"Actual\", \"predicted_label\": \"Predicted\"}, {\"date\": \"2022-09-14T00:00:00\", \"y_test\": 557.4000244140625, \"y_pred\": 544.660778881333, \"label\": \"Actual\", \"predicted_label\": \"Predicted\"}, {\"date\": \"2022-09-15T00:00:00\", \"y_test\": 555.0, \"y_pred\": 562.5774120964536, \"label\": \"Actual\", \"predicted_label\": \"Predicted\"}, {\"date\": \"2022-09-16T00:00:00\", \"y_test\": 529.25, \"y_pred\": 535.7519987122695, \"label\": \"Actual\", \"predicted_label\": \"Predicted\"}, {\"date\": \"2022-09-19T00:00:00\", \"y_test\": 498.14999389648443, \"y_pred\": 497.94228553288417, \"label\": \"Actual\", \"predicted_label\": \"Predicted\"}, {\"date\": \"2022-09-20T00:00:00\", \"y_test\": 506.74999999999994, \"y_pred\": 481.75295561711926, \"label\": \"Actual\", \"predicted_label\": \"Predicted\"}, {\"date\": \"2022-09-21T00:00:00\", \"y_test\": 492.45001220703136, \"y_pred\": 491.7183764627349, \"label\": \"Actual\", \"predicted_label\": \"Predicted\"}, {\"date\": \"2022-09-22T00:00:00\", \"y_test\": 473.7999877929688, \"y_pred\": 473.84776409833665, \"label\": \"Actual\", \"predicted_label\": \"Predicted\"}, {\"date\": \"2022-09-23T00:00:00\", \"y_test\": 469.2000122070313, \"y_pred\": 472.22920824553415, \"label\": \"Actual\", \"predicted_label\": \"Predicted\"}, {\"date\": \"2022-09-26T00:00:00\", \"y_test\": 442.9500122070313, \"y_pred\": 460.6866935795558, \"label\": \"Actual\", \"predicted_label\": \"Predicted\"}, {\"date\": \"2022-09-27T00:00:00\", \"y_test\": 435.9500122070313, \"y_pred\": 434.1617162435882, \"label\": \"Actual\", \"predicted_label\": \"Predicted\"}, {\"date\": \"2022-09-28T00:00:00\", \"y_test\": 410.0, \"y_pred\": 421.7953885547361, \"label\": \"Actual\", \"predicted_label\": \"Predicted\"}, {\"date\": \"2022-09-29T00:00:00\", \"y_test\": 428.20001220703136, \"y_pred\": 415.6866188528182, \"label\": \"Actual\", \"predicted_label\": \"Predicted\"}, {\"date\": \"2022-09-30T00:00:00\", \"y_test\": 426.79998779296886, \"y_pred\": 426.9305843361655, \"label\": \"Actual\", \"predicted_label\": \"Predicted\"}, {\"date\": \"2022-10-03T00:00:00\", \"y_test\": 425.6499938964844, \"y_pred\": 431.28763796124593, \"label\": \"Actual\", \"predicted_label\": \"Predicted\"}, {\"date\": \"2022-10-04T00:00:00\", \"y_test\": 435.0, \"y_pred\": 432.6599240012524, \"label\": \"Actual\", \"predicted_label\": \"Predicted\"}, {\"date\": \"2022-10-06T00:00:00\", \"y_test\": 442.0, \"y_pred\": 437.2752144493404, \"label\": \"Actual\", \"predicted_label\": \"Predicted\"}, {\"date\": \"2022-10-07T00:00:00\", \"y_test\": 429.1499938964844, \"y_pred\": 442.57856206001367, \"label\": \"Actual\", \"predicted_label\": \"Predicted\"}, {\"date\": \"2022-10-10T00:00:00\", \"y_test\": 417.6000061035156, \"y_pred\": 438.6825012855667, \"label\": \"Actual\", \"predicted_label\": \"Predicted\"}, {\"date\": \"2022-10-11T00:00:00\", \"y_test\": 423.54998779296886, \"y_pred\": 422.0749522848645, \"label\": \"Actual\", \"predicted_label\": \"Predicted\"}, {\"date\": \"2022-10-12T00:00:00\", \"y_test\": 413.29998779296886, \"y_pred\": 420.6140077394625, \"label\": \"Actual\", \"predicted_label\": \"Predicted\"}, {\"date\": \"2022-10-13T00:00:00\", \"y_test\": 412.9500122070313, \"y_pred\": 417.9450060044845, \"label\": \"Actual\", \"predicted_label\": \"Predicted\"}, {\"date\": \"2022-10-14T00:00:00\", \"y_test\": 427.0, \"y_pred\": 407.55795577165037, \"label\": \"Actual\", \"predicted_label\": \"Predicted\"}, {\"date\": \"2022-10-17T00:00:00\", \"y_test\": 451.1000061035157, \"y_pred\": 433.14193495747855, \"label\": \"Actual\", \"predicted_label\": \"Predicted\"}, {\"date\": \"2022-10-18T00:00:00\", \"y_test\": 439.79998779296886, \"y_pred\": 441.4424743079207, \"label\": \"Actual\", \"predicted_label\": \"Predicted\"}, {\"date\": \"2022-10-19T00:00:00\", \"y_test\": 453.29998779296886, \"y_pred\": 445.60133180607664, \"label\": \"Actual\", \"predicted_label\": \"Predicted\"}, {\"date\": \"2022-10-20T00:00:00\", \"y_test\": 454.75, \"y_pred\": 458.2490397022208, \"label\": \"Actual\", \"predicted_label\": \"Predicted\"}, {\"date\": \"2022-10-21T00:00:00\", \"y_test\": 500.0, \"y_pred\": 460.9232311293477, \"label\": \"Actual\", \"predicted_label\": \"Predicted\"}, {\"date\": \"2022-10-24T00:00:00\", \"y_test\": 509.7000122070313, \"y_pred\": 505.7756395583173, \"label\": \"Actual\", \"predicted_label\": \"Predicted\"}, {\"date\": \"2022-10-25T00:00:00\", \"y_test\": 531.25, \"y_pred\": 517.6270311036235, \"label\": \"Actual\", \"predicted_label\": \"Predicted\"}, {\"date\": \"2022-10-27T00:00:00\", \"y_test\": 534.7999877929688, \"y_pred\": 537.4534266855735, \"label\": \"Actual\", \"predicted_label\": \"Predicted\"}, {\"date\": \"2022-10-28T00:00:00\", \"y_test\": 540.7999877929688, \"y_pred\": 536.1575177699168, \"label\": \"Actual\", \"predicted_label\": \"Predicted\"}, {\"date\": \"2022-10-31T00:00:00\", \"y_test\": 510.3999938964844, \"y_pred\": 518.088461869243, \"label\": \"Actual\", \"predicted_label\": \"Predicted\"}, {\"date\": \"2022-11-01T00:00:00\", \"y_test\": 506.00000000000006, \"y_pred\": 496.4323743778461, \"label\": \"Actual\", \"predicted_label\": \"Predicted\"}, {\"date\": \"2022-11-02T00:00:00\", \"y_test\": 501.70001220703125, \"y_pred\": 495.1664725167305, \"label\": \"Actual\", \"predicted_label\": \"Predicted\"}, {\"date\": \"2022-11-03T00:00:00\", \"y_test\": 488.54998779296886, \"y_pred\": 500.45215490621075, \"label\": \"Actual\", \"predicted_label\": \"Predicted\"}, {\"date\": \"2022-11-04T00:00:00\", \"y_test\": 503.00000000000006, \"y_pred\": 492.20572733025404, \"label\": \"Actual\", \"predicted_label\": \"Predicted\"}, {\"date\": \"2022-11-07T00:00:00\", \"y_test\": 514.5, \"y_pred\": 507.1968405774962, \"label\": \"Actual\", \"predicted_label\": \"Predicted\"}, {\"date\": \"2022-11-09T00:00:00\", \"y_test\": 501.75, \"y_pred\": 510.48016537309474, \"label\": \"Actual\", \"predicted_label\": \"Predicted\"}, {\"date\": \"2022-11-10T00:00:00\", \"y_test\": 510.8500061035156, \"y_pred\": 509.1217031627007, \"label\": \"Actual\", \"predicted_label\": \"Predicted\"}, {\"date\": \"2022-11-11T00:00:00\", \"y_test\": 521.9500122070312, \"y_pred\": 521.342570031701, \"label\": \"Actual\", \"predicted_label\": \"Predicted\"}, {\"date\": \"2022-11-14T00:00:00\", \"y_test\": 507.5, \"y_pred\": 516.6228961682311, \"label\": \"Actual\", \"predicted_label\": \"Predicted\"}, {\"date\": \"2022-11-15T00:00:00\", \"y_test\": 514.75, \"y_pred\": 512.7131972652293, \"label\": \"Actual\", \"predicted_label\": \"Predicted\"}, {\"date\": \"2022-11-16T00:00:00\", \"y_test\": 512.0, \"y_pred\": 520.4971610263548, \"label\": \"Actual\", \"predicted_label\": \"Predicted\"}, {\"date\": \"2022-11-17T00:00:00\", \"y_test\": 500.49999999999994, \"y_pred\": 505.68715776028756, \"label\": \"Actual\", \"predicted_label\": \"Predicted\"}, {\"date\": \"2022-11-18T00:00:00\", \"y_test\": 502.45001220703136, \"y_pred\": 506.9461710211687, \"label\": \"Actual\", \"predicted_label\": \"Predicted\"}, {\"date\": \"2022-11-21T00:00:00\", \"y_test\": 510.8500061035157, \"y_pred\": 497.2789424381487, \"label\": \"Actual\", \"predicted_label\": \"Predicted\"}, {\"date\": \"2022-11-22T00:00:00\", \"y_test\": 509.50000000000006, \"y_pred\": 511.6417770718229, \"label\": \"Actual\", \"predicted_label\": \"Predicted\"}, {\"date\": \"2022-11-23T00:00:00\", \"y_test\": 506.3500061035156, \"y_pred\": 504.1823310145492, \"label\": \"Actual\", \"predicted_label\": \"Predicted\"}, {\"date\": \"2022-11-24T00:00:00\", \"y_test\": 505.8500061035156, \"y_pred\": 504.9937848888187, \"label\": \"Actual\", \"predicted_label\": \"Predicted\"}, {\"date\": \"2022-11-25T00:00:00\", \"y_test\": 512.4500122070312, \"y_pred\": 506.9749818262606, \"label\": \"Actual\", \"predicted_label\": \"Predicted\"}, {\"date\": \"2022-11-28T00:00:00\", \"y_test\": 495.6499938964844, \"y_pred\": 492.2014062726411, \"label\": \"Actual\", \"predicted_label\": \"Predicted\"}, {\"date\": \"2022-11-29T00:00:00\", \"y_test\": 490.8500061035156, \"y_pred\": 500.99339256327147, \"label\": \"Actual\", \"predicted_label\": \"Predicted\"}, {\"date\": \"2022-11-30T00:00:00\", \"y_test\": 483.95001220703136, \"y_pred\": 477.87088416183275, \"label\": \"Actual\", \"predicted_label\": \"Predicted\"}, {\"date\": \"2022-12-01T00:00:00\", \"y_test\": 493.25, \"y_pred\": 481.33802413822025, \"label\": \"Actual\", \"predicted_label\": \"Predicted\"}, {\"date\": \"2022-12-02T00:00:00\", \"y_test\": 490.6000061035156, \"y_pred\": 492.18762213379085, \"label\": \"Actual\", \"predicted_label\": \"Predicted\"}, {\"date\": \"2022-12-05T00:00:00\", \"y_test\": 493.8500061035156, \"y_pred\": 495.20030046444055, \"label\": \"Actual\", \"predicted_label\": \"Predicted\"}, {\"date\": \"2022-12-06T00:00:00\", \"y_test\": 520.0, \"y_pred\": 496.5706508644719, \"label\": \"Actual\", \"predicted_label\": \"Predicted\"}, {\"date\": \"2022-12-07T00:00:00\", \"y_test\": 525.0, \"y_pred\": 524.8175660422038, \"label\": \"Actual\", \"predicted_label\": \"Predicted\"}, {\"date\": \"2022-12-08T00:00:00\", \"y_test\": 531.2000122070312, \"y_pred\": 528.4748878674048, \"label\": \"Actual\", \"predicted_label\": \"Predicted\"}, {\"date\": \"2022-12-09T00:00:00\", \"y_test\": 532.4999999999999, \"y_pred\": 531.4274081468806, \"label\": \"Actual\", \"predicted_label\": \"Predicted\"}, {\"date\": \"2022-12-12T00:00:00\", \"y_test\": 512.7999877929688, \"y_pred\": 518.1060364492898, \"label\": \"Actual\", \"predicted_label\": \"Predicted\"}, {\"date\": \"2022-12-13T00:00:00\", \"y_test\": 526.3499755859375, \"y_pred\": 517.1583649732212, \"label\": \"Actual\", \"predicted_label\": \"Predicted\"}, {\"date\": \"2022-12-14T00:00:00\", \"y_test\": 531.5499877929688, \"y_pred\": 520.515287609102, \"label\": \"Actual\", \"predicted_label\": \"Predicted\"}, {\"date\": \"2022-12-15T00:00:00\", \"y_test\": 517.4500122070312, \"y_pred\": 521.3238495121076, \"label\": \"Actual\", \"predicted_label\": \"Predicted\"}, {\"date\": \"2022-12-16T00:00:00\", \"y_test\": 502.2000122070313, \"y_pred\": 508.9805957760916, \"label\": \"Actual\", \"predicted_label\": \"Predicted\"}, {\"date\": \"2022-12-19T00:00:00\", \"y_test\": 486.6000061035156, \"y_pred\": 497.3290838708436, \"label\": \"Actual\", \"predicted_label\": \"Predicted\"}, {\"date\": \"2022-12-20T00:00:00\", \"y_test\": 489.99999999999994, \"y_pred\": 487.8236565642909, \"label\": \"Actual\", \"predicted_label\": \"Predicted\"}, {\"date\": \"2022-12-21T00:00:00\", \"y_test\": 492.3999938964844, \"y_pred\": 489.13525823338375, \"label\": \"Actual\", \"predicted_label\": \"Predicted\"}, {\"date\": \"2022-12-22T00:00:00\", \"y_test\": 477.79998779296886, \"y_pred\": 476.0486213332889, \"label\": \"Actual\", \"predicted_label\": \"Predicted\"}, {\"date\": \"2022-12-23T00:00:00\", \"y_test\": 446.0, \"y_pred\": 458.1099299035352, \"label\": \"Actual\", \"predicted_label\": \"Predicted\"}, {\"date\": \"2022-12-26T00:00:00\", \"y_test\": 442.2999877929688, \"y_pred\": 428.26888498502024, \"label\": \"Actual\", \"predicted_label\": \"Predicted\"}, {\"date\": \"2022-12-27T00:00:00\", \"y_test\": 449.9500122070313, \"y_pred\": 447.1708421409941, \"label\": \"Actual\", \"predicted_label\": \"Predicted\"}, {\"date\": \"2022-12-28T00:00:00\", \"y_test\": 438.5499877929688, \"y_pred\": 446.37322846420534, \"label\": \"Actual\", \"predicted_label\": \"Predicted\"}, {\"date\": \"2022-12-29T00:00:00\", \"y_test\": 437.5499877929688, \"y_pred\": 438.67300002740285, \"label\": \"Actual\", \"predicted_label\": \"Predicted\"}, {\"date\": \"2022-12-30T00:00:00\", \"y_test\": 438.25, \"y_pred\": 440.34017931800975, \"label\": \"Actual\", \"predicted_label\": \"Predicted\"}, {\"date\": \"2023-01-02T00:00:00\", \"y_test\": 426.29998779296886, \"y_pred\": 430.3084964352683, \"label\": \"Actual\", \"predicted_label\": \"Predicted\"}, {\"date\": \"2023-01-03T00:00:00\", \"y_test\": 420.5, \"y_pred\": 430.93116785357967, \"label\": \"Actual\", \"predicted_label\": \"Predicted\"}, {\"date\": \"2023-01-04T00:00:00\", \"y_test\": 420.0, \"y_pred\": 419.86380517321794, \"label\": \"Actual\", \"predicted_label\": \"Predicted\"}, {\"date\": \"2023-01-05T00:00:00\", \"y_test\": 415.45001220703125, \"y_pred\": 416.48067028781156, \"label\": \"Actual\", \"predicted_label\": \"Predicted\"}, {\"date\": \"2023-01-06T00:00:00\", \"y_test\": 413.50000000000006, \"y_pred\": 421.6928277964943, \"label\": \"Actual\", \"predicted_label\": \"Predicted\"}, {\"date\": \"2023-01-09T00:00:00\", \"y_test\": 415.74999999999994, \"y_pred\": 420.5275255316793, \"label\": \"Actual\", \"predicted_label\": \"Predicted\"}, {\"date\": \"2023-01-10T00:00:00\", \"y_test\": 416.49999999999994, \"y_pred\": 419.06458964477935, \"label\": \"Actual\", \"predicted_label\": \"Predicted\"}, {\"date\": \"2023-01-11T00:00:00\", \"y_test\": 423.45001220703136, \"y_pred\": 423.1131706770103, \"label\": \"Actual\", \"predicted_label\": \"Predicted\"}, {\"date\": \"2023-01-12T00:00:00\", \"y_test\": 421.1499938964844, \"y_pred\": 412.63681867438663, \"label\": \"Actual\", \"predicted_label\": \"Predicted\"}, {\"date\": \"2023-01-13T00:00:00\", \"y_test\": 414.8999938964843, \"y_pred\": 421.9680063791233, \"label\": \"Actual\", \"predicted_label\": \"Predicted\"}, {\"date\": \"2023-01-16T00:00:00\", \"y_test\": 411.7999877929688, \"y_pred\": 415.2429531480985, \"label\": \"Actual\", \"predicted_label\": \"Predicted\"}, {\"date\": \"2023-01-17T00:00:00\", \"y_test\": 416.9500122070313, \"y_pred\": 417.22755330109754, \"label\": \"Actual\", \"predicted_label\": \"Predicted\"}, {\"date\": \"2023-01-18T00:00:00\", \"y_test\": 405.6499938964844, \"y_pred\": 408.8825097865032, \"label\": \"Actual\", \"predicted_label\": \"Predicted\"}, {\"date\": \"2023-01-19T00:00:00\", \"y_test\": 398.0, \"y_pred\": 406.46735091936046, \"label\": \"Actual\", \"predicted_label\": \"Predicted\"}, {\"date\": \"2023-01-20T00:00:00\", \"y_test\": 388.6499938964844, \"y_pred\": 396.1154206168864, \"label\": \"Actual\", \"predicted_label\": \"Predicted\"}, {\"date\": \"2023-01-23T00:00:00\", \"y_test\": 384.8999938964844, \"y_pred\": 390.9525854389197, \"label\": \"Actual\", \"predicted_label\": \"Predicted\"}, {\"date\": \"2023-01-24T00:00:00\", \"y_test\": 379.0, \"y_pred\": 381.5518353625458, \"label\": \"Actual\", \"predicted_label\": \"Predicted\"}, {\"date\": \"2023-01-25T00:00:00\", \"y_test\": 385.24999999999994, \"y_pred\": 381.15616389742075, \"label\": \"Actual\", \"predicted_label\": \"Predicted\"}, {\"date\": \"2023-01-27T00:00:00\", \"y_test\": 375.7999877929688, \"y_pred\": 378.5206830028404, \"label\": \"Actual\", \"predicted_label\": \"Predicted\"}, {\"date\": \"2023-01-30T00:00:00\", \"y_test\": 367.3500061035156, \"y_pred\": 371.8823431077019, \"label\": \"Actual\", \"predicted_label\": \"Predicted\"}, {\"date\": \"2023-01-31T00:00:00\", \"y_test\": 387.64999389648443, \"y_pred\": 369.9899627523821, \"label\": \"Actual\", \"predicted_label\": \"Predicted\"}, {\"date\": \"2023-02-01T00:00:00\", \"y_test\": 390.5, \"y_pred\": 387.1120241806512, \"label\": \"Actual\", \"predicted_label\": \"Predicted\"}, {\"date\": \"2023-02-02T00:00:00\", \"y_test\": 389.00000000000006, \"y_pred\": 384.9739755611942, \"label\": \"Actual\", \"predicted_label\": \"Predicted\"}, {\"date\": \"2023-02-03T00:00:00\", \"y_test\": 394.00000000000006, \"y_pred\": 386.8251554530053, \"label\": \"Actual\", \"predicted_label\": \"Predicted\"}, {\"date\": \"2023-02-06T00:00:00\", \"y_test\": 420.0, \"y_pred\": 390.457448228533, \"label\": \"Actual\", \"predicted_label\": \"Predicted\"}, {\"date\": \"2023-02-07T00:00:00\", \"y_test\": 423.14999389648443, \"y_pred\": 422.0962536290388, \"label\": \"Actual\", \"predicted_label\": \"Predicted\"}, {\"date\": \"2023-02-08T00:00:00\", \"y_test\": 429.45001220703125, \"y_pred\": 409.51925285441206, \"label\": \"Actual\", \"predicted_label\": \"Predicted\"}, {\"date\": \"2023-02-09T00:00:00\", \"y_test\": 443.9500122070313, \"y_pred\": 434.7281863249474, \"label\": \"Actual\", \"predicted_label\": \"Predicted\"}, {\"date\": \"2023-02-10T00:00:00\", \"y_test\": 448.35000610351557, \"y_pred\": 450.2992278010426, \"label\": \"Actual\", \"predicted_label\": \"Predicted\"}, {\"date\": \"2023-02-13T00:00:00\", \"y_test\": 445.04998779296875, \"y_pred\": 449.1192983309805, \"label\": \"Actual\", \"predicted_label\": \"Predicted\"}, {\"date\": \"2023-02-14T00:00:00\", \"y_test\": 462.0, \"y_pred\": 448.8200032641502, \"label\": \"Actual\", \"predicted_label\": \"Predicted\"}, {\"date\": \"2023-02-15T00:00:00\", \"y_test\": 455.3500061035156, \"y_pred\": 464.24563224624274, \"label\": \"Actual\", \"predicted_label\": \"Predicted\"}, {\"date\": \"2023-02-16T00:00:00\", \"y_test\": 454.70001220703125, \"y_pred\": 451.004072669303, \"label\": \"Actual\", \"predicted_label\": \"Predicted\"}, {\"date\": \"2023-02-17T00:00:00\", \"y_test\": 459.5499877929688, \"y_pred\": 457.8603318854203, \"label\": \"Actual\", \"predicted_label\": \"Predicted\"}, {\"date\": \"2023-02-20T00:00:00\", \"y_test\": 468.0, \"y_pred\": 456.61257371815515, \"label\": \"Actual\", \"predicted_label\": \"Predicted\"}, {\"date\": \"2023-02-21T00:00:00\", \"y_test\": 465.8500061035156, \"y_pred\": 462.97972097064223, \"label\": \"Actual\", \"predicted_label\": \"Predicted\"}, {\"date\": \"2023-02-22T00:00:00\", \"y_test\": 466.74999999999994, \"y_pred\": 467.5075455098825, \"label\": \"Actual\", \"predicted_label\": \"Predicted\"}, {\"date\": \"2023-02-23T00:00:00\", \"y_test\": 464.95001220703136, \"y_pred\": 471.7193373380385, \"label\": \"Actual\", \"predicted_label\": \"Predicted\"}, {\"date\": \"2023-02-24T00:00:00\", \"y_test\": 456.35000610351557, \"y_pred\": 458.0980834301216, \"label\": \"Actual\", \"predicted_label\": \"Predicted\"}, {\"date\": \"2023-02-27T00:00:00\", \"y_test\": 444.75000000000006, \"y_pred\": 452.15326015877656, \"label\": \"Actual\", \"predicted_label\": \"Predicted\"}, {\"date\": \"2023-02-28T00:00:00\", \"y_test\": 474.25000000000006, \"y_pred\": 439.3569859205703, \"label\": \"Actual\", \"predicted_label\": \"Predicted\"}, {\"date\": \"2023-03-01T00:00:00\", \"y_test\": 480.0, \"y_pred\": 478.0040107657717, \"label\": \"Actual\", \"predicted_label\": \"Predicted\"}, {\"date\": \"2023-03-02T00:00:00\", \"y_test\": 482.25, \"y_pred\": 485.3766124211545, \"label\": \"Actual\", \"predicted_label\": \"Predicted\"}, {\"date\": \"2023-03-03T00:00:00\", \"y_test\": 484.75000000000006, \"y_pred\": 485.9963302490496, \"label\": \"Actual\", \"predicted_label\": \"Predicted\"}, {\"date\": \"2023-03-06T00:00:00\", \"y_test\": 480.6499938964844, \"y_pred\": 471.5445684867796, \"label\": \"Actual\", \"predicted_label\": \"Predicted\"}, {\"date\": \"2023-03-08T00:00:00\", \"y_test\": 479.45001220703125, \"y_pred\": 486.06200926742105, \"label\": \"Actual\", \"predicted_label\": \"Predicted\"}, {\"date\": \"2023-03-09T00:00:00\", \"y_test\": 472.2999877929688, \"y_pred\": 473.1772684157284, \"label\": \"Actual\", \"predicted_label\": \"Predicted\"}, {\"date\": \"2023-03-10T00:00:00\", \"y_test\": 471.2000122070313, \"y_pred\": 477.55201998284656, \"label\": \"Actual\", \"predicted_label\": \"Predicted\"}, {\"date\": \"2023-03-13T00:00:00\", \"y_test\": 494.0499877929688, \"y_pred\": 476.3044782132862, \"label\": \"Actual\", \"predicted_label\": \"Predicted\"}, {\"date\": \"2023-03-14T00:00:00\", \"y_test\": 479.0, \"y_pred\": 484.47212487661807, \"label\": \"Actual\", \"predicted_label\": \"Predicted\"}, {\"date\": \"2023-03-15T00:00:00\", \"y_test\": 492.79998779296875, \"y_pred\": 482.0638993080879, \"label\": \"Actual\", \"predicted_label\": \"Predicted\"}, {\"date\": \"2023-03-16T00:00:00\", \"y_test\": 483.3999938964844, \"y_pred\": 490.9024337589415, \"label\": \"Actual\", \"predicted_label\": \"Predicted\"}, {\"date\": \"2023-03-17T00:00:00\", \"y_test\": 494.54998779296875, \"y_pred\": 484.47271399220676, \"label\": \"Actual\", \"predicted_label\": \"Predicted\"}, {\"date\": \"2023-03-20T00:00:00\", \"y_test\": 489.75, \"y_pred\": 494.1845725579595, \"label\": \"Actual\", \"predicted_label\": \"Predicted\"}, {\"date\": \"2023-03-21T00:00:00\", \"y_test\": 482.24999999999994, \"y_pred\": 486.09851441217586, \"label\": \"Actual\", \"predicted_label\": \"Predicted\"}, {\"date\": \"2023-03-22T00:00:00\", \"y_test\": 475.4500122070313, \"y_pred\": 478.575101218768, \"label\": \"Actual\", \"predicted_label\": \"Predicted\"}, {\"date\": \"2023-03-23T00:00:00\", \"y_test\": 488.2000122070313, \"y_pred\": 478.5705004314351, \"label\": \"Actual\", \"predicted_label\": \"Predicted\"}, {\"date\": \"2023-03-24T00:00:00\", \"y_test\": 480.0, \"y_pred\": 488.57646842364636, \"label\": \"Actual\", \"predicted_label\": \"Predicted\"}, {\"date\": \"2023-03-27T00:00:00\", \"y_test\": 469.89999389648443, \"y_pred\": 474.5552623853716, \"label\": \"Actual\", \"predicted_label\": \"Predicted\"}, {\"date\": \"2023-03-28T00:00:00\", \"y_test\": 451.6000061035156, \"y_pred\": 451.74697441182013, \"label\": \"Actual\", \"predicted_label\": \"Predicted\"}, {\"date\": \"2023-03-29T00:00:00\", \"y_test\": 440.1000061035156, \"y_pred\": 436.0852316629625, \"label\": \"Actual\", \"predicted_label\": \"Predicted\"}, {\"date\": \"2023-03-31T00:00:00\", \"y_test\": 446.0, \"y_pred\": 440.16067837855564, \"label\": \"Actual\", \"predicted_label\": \"Predicted\"}, {\"date\": \"2023-04-03T00:00:00\", \"y_test\": 451.6000061035156, \"y_pred\": 445.31969926041876, \"label\": \"Actual\", \"predicted_label\": \"Predicted\"}, {\"date\": \"2023-04-05T00:00:00\", \"y_test\": 471.4500122070313, \"y_pred\": 434.4382545413582, \"label\": \"Actual\", \"predicted_label\": \"Predicted\"}, {\"date\": \"2023-04-06T00:00:00\", \"y_test\": 471.49999999999994, \"y_pred\": 472.976034643104, \"label\": \"Actual\", \"predicted_label\": \"Predicted\"}, {\"date\": \"2023-04-10T00:00:00\", \"y_test\": 477.99999999999994, \"y_pred\": 472.14919877476177, \"label\": \"Actual\", \"predicted_label\": \"Predicted\"}, {\"date\": \"2023-04-11T00:00:00\", \"y_test\": 477.9500122070313, \"y_pred\": 473.7837697014064, \"label\": \"Actual\", \"predicted_label\": \"Predicted\"}, {\"date\": \"2023-04-12T00:00:00\", \"y_test\": 472.0, \"y_pred\": 475.34272221587787, \"label\": \"Actual\", \"predicted_label\": \"Predicted\"}, {\"date\": \"2023-04-13T00:00:00\", \"y_test\": 478.95001220703136, \"y_pred\": 474.656704599942, \"label\": \"Actual\", \"predicted_label\": \"Predicted\"}, {\"date\": \"2023-04-17T00:00:00\", \"y_test\": 474.79998779296875, \"y_pred\": 474.2833165080446, \"label\": \"Actual\", \"predicted_label\": \"Predicted\"}, {\"date\": \"2023-04-18T00:00:00\", \"y_test\": 482.3999938964843, \"y_pred\": 478.66162347730426, \"label\": \"Actual\", \"predicted_label\": \"Predicted\"}, {\"date\": \"2023-04-19T00:00:00\", \"y_test\": 514.0, \"y_pred\": 483.28724777699176, \"label\": \"Actual\", \"predicted_label\": \"Predicted\"}, {\"date\": \"2023-04-20T00:00:00\", \"y_test\": 515.0, \"y_pred\": 517.932471860791, \"label\": \"Actual\", \"predicted_label\": \"Predicted\"}, {\"date\": \"2023-04-21T00:00:00\", \"y_test\": 508.9500122070313, \"y_pred\": 516.7840554506101, \"label\": \"Actual\", \"predicted_label\": \"Predicted\"}, {\"date\": \"2023-04-24T00:00:00\", \"y_test\": 502.04998779296886, \"y_pred\": 498.520892009665, \"label\": \"Actual\", \"predicted_label\": \"Predicted\"}, {\"date\": \"2023-04-25T00:00:00\", \"y_test\": 492.8999938964843, \"y_pred\": 491.6931781824952, \"label\": \"Actual\", \"predicted_label\": \"Predicted\"}, {\"date\": \"2023-04-26T00:00:00\", \"y_test\": 483.6000061035157, \"y_pred\": 482.7183924220572, \"label\": \"Actual\", \"predicted_label\": \"Predicted\"}, {\"date\": \"2023-04-27T00:00:00\", \"y_test\": 478.0, \"y_pred\": 478.8624311893312, \"label\": \"Actual\", \"predicted_label\": \"Predicted\"}, {\"date\": \"2023-04-28T00:00:00\", \"y_test\": 474.00000000000006, \"y_pred\": 477.66133401978584, \"label\": \"Actual\", \"predicted_label\": \"Predicted\"}, {\"date\": \"2023-05-02T00:00:00\", \"y_test\": 474.3500061035156, \"y_pred\": 472.4352120549943, \"label\": \"Actual\", \"predicted_label\": \"Predicted\"}, {\"date\": \"2023-05-03T00:00:00\", \"y_test\": 466.45001220703136, \"y_pred\": 467.7985190905019, \"label\": \"Actual\", \"predicted_label\": \"Predicted\"}, {\"date\": \"2023-05-04T00:00:00\", \"y_test\": 456.0, \"y_pred\": 463.2891997309865, \"label\": \"Actual\", \"predicted_label\": \"Predicted\"}, {\"date\": \"2023-05-05T00:00:00\", \"y_test\": 463.95001220703125, \"y_pred\": 453.65897160238103, \"label\": \"Actual\", \"predicted_label\": \"Predicted\"}, {\"date\": \"2023-05-08T00:00:00\", \"y_test\": 455.0, \"y_pred\": 454.04597187594476, \"label\": \"Actual\", \"predicted_label\": \"Predicted\"}, {\"date\": \"2023-05-09T00:00:00\", \"y_test\": 458.3999938964844, \"y_pred\": 459.208165351503, \"label\": \"Actual\", \"predicted_label\": \"Predicted\"}, {\"date\": \"2023-05-10T00:00:00\", \"y_test\": 447.9500122070313, \"y_pred\": 452.0344045188909, \"label\": \"Actual\", \"predicted_label\": \"Predicted\"}, {\"date\": \"2023-05-11T00:00:00\", \"y_test\": 450.29998779296875, \"y_pred\": 452.5798378880355, \"label\": \"Actual\", \"predicted_label\": \"Predicted\"}, {\"date\": \"2023-05-12T00:00:00\", \"y_test\": 454.00000000000006, \"y_pred\": 452.838840940721, \"label\": \"Actual\", \"predicted_label\": \"Predicted\"}, {\"date\": \"2023-05-15T00:00:00\", \"y_test\": 471.0, \"y_pred\": 439.661623719043, \"label\": \"Actual\", \"predicted_label\": \"Predicted\"}, {\"date\": \"2023-05-16T00:00:00\", \"y_test\": 491.99999999999994, \"y_pred\": 475.9397677291753, \"label\": \"Actual\", \"predicted_label\": \"Predicted\"}, {\"date\": \"2023-05-17T00:00:00\", \"y_test\": 484.7000122070313, \"y_pred\": 495.36326246179453, \"label\": \"Actual\", \"predicted_label\": \"Predicted\"}, {\"date\": \"2023-05-19T00:00:00\", \"y_test\": 477.8500061035156, \"y_pred\": 476.9822957926746, \"label\": \"Actual\", \"predicted_label\": \"Predicted\"}, {\"date\": \"2023-05-22T00:00:00\", \"y_test\": 564.0, \"y_pred\": 478.190457728233, \"label\": \"Actual\", \"predicted_label\": \"Predicted\"}, {\"date\": \"2023-05-23T00:00:00\", \"y_test\": 565.1500244140624, \"y_pred\": 578.0861860187894, \"label\": \"Actual\", \"predicted_label\": \"Predicted\"}, {\"date\": \"2023-05-24T00:00:00\", \"y_test\": 582.9999999999999, \"y_pred\": 550.7824186148392, \"label\": \"Actual\", \"predicted_label\": \"Predicted\"}, {\"date\": \"2023-05-25T00:00:00\", \"y_test\": 583.2999877929688, \"y_pred\": 585.8501790731243, \"label\": \"Actual\", \"predicted_label\": \"Predicted\"}, {\"date\": \"2023-05-26T00:00:00\", \"y_test\": 563.0499877929688, \"y_pred\": 567.6685717490712, \"label\": \"Actual\", \"predicted_label\": \"Predicted\"}, {\"date\": \"2023-05-30T00:00:00\", \"y_test\": 550.0, \"y_pred\": 553.5771838871744, \"label\": \"Actual\", \"predicted_label\": \"Predicted\"}, {\"date\": \"2023-05-31T00:00:00\", \"y_test\": 549.0, \"y_pred\": 544.1917928510669, \"label\": \"Actual\", \"predicted_label\": \"Predicted\"}]}}, {\"mode\": \"vega-lite\"});\n",
       "</script>"
      ],
      "text/plain": [
       "alt.LayerChart(...)"
      ]
     },
     "execution_count": 29,
     "metadata": {},
     "output_type": "execute_result"
    }
   ],
   "source": [
    "import altair as alt\n",
    "\n",
    "alt.themes.enable('fivethirtyeight')\n",
    "\n",
    "predictions_df['date'] = pd.to_datetime(predictions_df['date'])\n",
    "\n",
    "predictions_df['label'] = 'Actual'\n",
    "predictions_df['predicted_label'] = 'Predicted'\n",
    "\n",
    "# Actual high price line\n",
    "line1 = alt.Chart(predictions_df).mark_line(strokeWidth=2).encode(\n",
    "    x='date:T',\n",
    "    y=alt.Y('y_test:Q', title='Price', scale=alt.Scale(zero=False)),\n",
    "    color=alt.Color('label:N', legend=alt.Legend(title=\"Line Type\")),\n",
    "    tooltip=['date', 'y_test', 'y_pred']\n",
    ")\n",
    "\n",
    "# Predicted high price line\n",
    "line2 = alt.Chart(predictions_df).mark_line(strokeWidth=1, strokeDash=[3, 3]).encode(\n",
    "    x='date:T',\n",
    "    y=alt.Y('y_pred:Q', title='', scale=alt.Scale(zero=False)),\n",
    "    color=alt.Color('predicted_label:N', legend=alt.Legend(title=\"Line Type\")),\n",
    "    tooltip=['date', 'y_test', 'y_pred']\n",
    ")\n",
    "\n",
    "# Combine the two lines\n",
    "chart = alt.layer(line1, line2).properties(\n",
    "    title='Actual vs Predicted High Prices',\n",
    "    width=650,\n",
    "    height=400\n",
    ").interactive()\n",
    "\n",
    "chart"
   ]
  },
  {
   "cell_type": "markdown",
   "id": "d2c47f8d",
   "metadata": {},
   "source": [
    "Repeat the process for the top 50 features without sentiment of ELGIEQUIP.BO"
   ]
  },
  {
   "cell_type": "code",
   "execution_count": 30,
   "id": "6c999e56",
   "metadata": {},
   "outputs": [],
   "source": [
    "df = pd.read_csv('../../../datasets/processed_data/combined_features/ELGIEQUIP.BO.csv')"
   ]
  },
  {
   "cell_type": "code",
   "execution_count": 31,
   "id": "a0ea6323",
   "metadata": {},
   "outputs": [],
   "source": [
    "df_without_sentiment = df.drop(columns=['agg_polarity', 'agg_compound', 'topic_polarity', 'topic_compound', 'ticker_polarity', 'ticker_compound'])"
   ]
  },
  {
   "cell_type": "code",
   "execution_count": 32,
   "id": "89ef90cb",
   "metadata": {},
   "outputs": [],
   "source": [
    "df_without_sentiment = create_custom_target(df_without_sentiment)"
   ]
  },
  {
   "cell_type": "code",
   "execution_count": 33,
   "id": "036103bb",
   "metadata": {},
   "outputs": [],
   "source": [
    "# Drop cols with NaN values\n",
    "df_without_sentiment = df_without_sentiment.dropna(axis=1, how='all')\n",
    "df_without_sentiment.fillna(method='ffill', inplace=True)"
   ]
  },
  {
   "cell_type": "code",
   "execution_count": 34,
   "id": "813972a8",
   "metadata": {},
   "outputs": [],
   "source": [
    "combined_date_df = df_without_sentiment['date']\n",
    "train_date, test_date = train_test_split(combined_date_df, train_size=0.8, shuffle=False)"
   ]
  },
  {
   "cell_type": "code",
   "execution_count": 35,
   "id": "a6f7512d",
   "metadata": {},
   "outputs": [],
   "source": [
    "df_without_date = df_without_sentiment.drop(columns=[\"date\"])"
   ]
  },
  {
   "cell_type": "code",
   "execution_count": 36,
   "id": "a3e45327",
   "metadata": {},
   "outputs": [],
   "source": [
    "df_without_date.dropna(inplace=True)"
   ]
  },
  {
   "cell_type": "code",
   "execution_count": 37,
   "id": "b1ec0f23",
   "metadata": {},
   "outputs": [],
   "source": [
    "# do train/test split the data with shuffle = False\n",
    "train_data, test_data = train_test_split(df_without_date, train_size=0.8, shuffle=False)\n",
    "\n",
    "# convert timeseries to be used in supervise learning model\n",
    "X_train, y_train, indx_train = timeseries_to_supervise(train_data, window_size, 'ln_target')\n",
    "\n",
    "# convert timeseries to be used in supervise learning model    \n",
    "X_test, y_test, indx_test = timeseries_to_supervise(test_data, window_size, 'ln_target')  "
   ]
  },
  {
   "cell_type": "code",
   "execution_count": 38,
   "id": "ecaeea79",
   "metadata": {},
   "outputs": [],
   "source": [
    "selector = SelectKBest(score_func=f_regression, k=50)\n",
    "X_train_50 = selector.fit_transform(X_train, y_train)\n",
    "X_test_50 = selector.transform(X_test)"
   ]
  },
  {
   "cell_type": "code",
   "execution_count": 39,
   "id": "6905b440",
   "metadata": {},
   "outputs": [
    {
     "name": "stdout",
     "output_type": "stream",
     "text": [
      "Best parameters:  {'fit_intercept': False}\n",
      "Best cross-validation score:  9.79927571670286\n"
     ]
    },
    {
     "data": {
      "text/html": [
       "<style>#sk-container-id-2 {color: black;}#sk-container-id-2 pre{padding: 0;}#sk-container-id-2 div.sk-toggleable {background-color: white;}#sk-container-id-2 label.sk-toggleable__label {cursor: pointer;display: block;width: 100%;margin-bottom: 0;padding: 0.3em;box-sizing: border-box;text-align: center;}#sk-container-id-2 label.sk-toggleable__label-arrow:before {content: \"▸\";float: left;margin-right: 0.25em;color: #696969;}#sk-container-id-2 label.sk-toggleable__label-arrow:hover:before {color: black;}#sk-container-id-2 div.sk-estimator:hover label.sk-toggleable__label-arrow:before {color: black;}#sk-container-id-2 div.sk-toggleable__content {max-height: 0;max-width: 0;overflow: hidden;text-align: left;background-color: #f0f8ff;}#sk-container-id-2 div.sk-toggleable__content pre {margin: 0.2em;color: black;border-radius: 0.25em;background-color: #f0f8ff;}#sk-container-id-2 input.sk-toggleable__control:checked~div.sk-toggleable__content {max-height: 200px;max-width: 100%;overflow: auto;}#sk-container-id-2 input.sk-toggleable__control:checked~label.sk-toggleable__label-arrow:before {content: \"▾\";}#sk-container-id-2 div.sk-estimator input.sk-toggleable__control:checked~label.sk-toggleable__label {background-color: #d4ebff;}#sk-container-id-2 div.sk-label input.sk-toggleable__control:checked~label.sk-toggleable__label {background-color: #d4ebff;}#sk-container-id-2 input.sk-hidden--visually {border: 0;clip: rect(1px 1px 1px 1px);clip: rect(1px, 1px, 1px, 1px);height: 1px;margin: -1px;overflow: hidden;padding: 0;position: absolute;width: 1px;}#sk-container-id-2 div.sk-estimator {font-family: monospace;background-color: #f0f8ff;border: 1px dotted black;border-radius: 0.25em;box-sizing: border-box;margin-bottom: 0.5em;}#sk-container-id-2 div.sk-estimator:hover {background-color: #d4ebff;}#sk-container-id-2 div.sk-parallel-item::after {content: \"\";width: 100%;border-bottom: 1px solid gray;flex-grow: 1;}#sk-container-id-2 div.sk-label:hover label.sk-toggleable__label {background-color: #d4ebff;}#sk-container-id-2 div.sk-serial::before {content: \"\";position: absolute;border-left: 1px solid gray;box-sizing: border-box;top: 0;bottom: 0;left: 50%;z-index: 0;}#sk-container-id-2 div.sk-serial {display: flex;flex-direction: column;align-items: center;background-color: white;padding-right: 0.2em;padding-left: 0.2em;position: relative;}#sk-container-id-2 div.sk-item {position: relative;z-index: 1;}#sk-container-id-2 div.sk-parallel {display: flex;align-items: stretch;justify-content: center;background-color: white;position: relative;}#sk-container-id-2 div.sk-item::before, #sk-container-id-2 div.sk-parallel-item::before {content: \"\";position: absolute;border-left: 1px solid gray;box-sizing: border-box;top: 0;bottom: 0;left: 50%;z-index: -1;}#sk-container-id-2 div.sk-parallel-item {display: flex;flex-direction: column;z-index: 1;position: relative;background-color: white;}#sk-container-id-2 div.sk-parallel-item:first-child::after {align-self: flex-end;width: 50%;}#sk-container-id-2 div.sk-parallel-item:last-child::after {align-self: flex-start;width: 50%;}#sk-container-id-2 div.sk-parallel-item:only-child::after {width: 0;}#sk-container-id-2 div.sk-dashed-wrapped {border: 1px dashed gray;margin: 0 0.4em 0.5em 0.4em;box-sizing: border-box;padding-bottom: 0.4em;background-color: white;}#sk-container-id-2 div.sk-label label {font-family: monospace;font-weight: bold;display: inline-block;line-height: 1.2em;}#sk-container-id-2 div.sk-label-container {text-align: center;}#sk-container-id-2 div.sk-container {/* jupyter's `normalize.less` sets `[hidden] { display: none; }` but bootstrap.min.css set `[hidden] { display: none !important; }` so we also need the `!important` here to be able to override the default hidden behavior on the sphinx rendered scikit-learn.org. See: https://github.com/scikit-learn/scikit-learn/issues/21755 */display: inline-block !important;position: relative;}#sk-container-id-2 div.sk-text-repr-fallback {display: none;}</style><div id=\"sk-container-id-2\" class=\"sk-top-container\"><div class=\"sk-text-repr-fallback\"><pre>LinearRegression(fit_intercept=False)</pre><b>In a Jupyter environment, please rerun this cell to show the HTML representation or trust the notebook. <br />On GitHub, the HTML representation is unable to render, please try loading this page with nbviewer.org.</b></div><div class=\"sk-container\" hidden><div class=\"sk-item\"><div class=\"sk-estimator sk-toggleable\"><input class=\"sk-toggleable__control sk-hidden--visually\" id=\"sk-estimator-id-2\" type=\"checkbox\" checked><label for=\"sk-estimator-id-2\" class=\"sk-toggleable__label sk-toggleable__label-arrow\">LinearRegression</label><div class=\"sk-toggleable__content\"><pre>LinearRegression(fit_intercept=False)</pre></div></div></div></div></div>"
      ],
      "text/plain": [
       "LinearRegression(fit_intercept=False)"
      ]
     },
     "execution_count": 39,
     "metadata": {},
     "output_type": "execute_result"
    }
   ],
   "source": [
    "linear_reg = LinearRegression()\n",
    "\n",
    "param_grid = {\n",
    "    'fit_intercept': [True, False],         \n",
    "}\n",
    "\n",
    "grid_search = GridSearchCV(linear_reg, param_grid, cv=5, scoring='neg_mean_squared_error', n_jobs=-1)\n",
    "grid_search.fit(X_train_50, y_train)\n",
    "\n",
    "print(\"Best parameters: \", grid_search.best_params_)\n",
    "print(\"Best cross-validation score: \", -grid_search.best_score_)\n",
    "\n",
    "model_50 = grid_search.best_estimator_\n",
    "model_50.fit(X_train_50, y_train)"
   ]
  },
  {
   "cell_type": "code",
   "execution_count": 40,
   "id": "e6a04322",
   "metadata": {},
   "outputs": [],
   "source": [
    "predictions_df, mape, rmse = evaluate_model(model_50, window_size, test_data, test_date, X_test_50, y_test)"
   ]
  },
  {
   "cell_type": "code",
   "execution_count": 41,
   "id": "c31e93b5",
   "metadata": {},
   "outputs": [
    {
     "data": {
      "text/plain": [
       "(           date      y_test      y_pred\n",
       " 0    2020-06-25   81.500000   80.343143\n",
       " 1    2020-06-26   79.849998   79.064573\n",
       " 2    2020-06-29   77.250000   78.926754\n",
       " 3    2020-06-30   76.000000   76.543940\n",
       " 4    2020-07-01   73.474998   74.595064\n",
       " ..          ...         ...         ...\n",
       " 721  2023-05-24  583.000000  550.233397\n",
       " 722  2023-05-25  583.299988  586.882303\n",
       " 723  2023-05-26  563.049988  567.433685\n",
       " 724  2023-05-30  550.000000  552.208013\n",
       " 725  2023-05-31  549.000000  542.472356\n",
       " \n",
       " [726 rows x 3 columns],\n",
       " 0.018299660433065808,\n",
       " 9.233079324695357)"
      ]
     },
     "execution_count": 41,
     "metadata": {},
     "output_type": "execute_result"
    }
   ],
   "source": [
    "predictions_df, mape, rmse"
   ]
  },
  {
   "cell_type": "code",
   "execution_count": 42,
   "id": "0096cf6f",
   "metadata": {},
   "outputs": [],
   "source": [
    "predictions_df.to_csv('lr_ELGIEQUIP_without_sentiment.csv', index=False)"
   ]
  },
  {
   "cell_type": "code",
   "execution_count": 43,
   "id": "f6688fb1",
   "metadata": {},
   "outputs": [
    {
     "name": "stdout",
     "output_type": "stream",
     "text": [
      "MAPE for model with top 50 features without sentiment features: 1.83%\n"
     ]
    }
   ],
   "source": [
    "print(f\"MAPE for model with top 50 features without sentiment features: {mape*100:.2f}%\")"
   ]
  },
  {
   "cell_type": "code",
   "execution_count": 44,
   "id": "096712f0",
   "metadata": {},
   "outputs": [
    {
     "name": "stdout",
     "output_type": "stream",
     "text": [
      "trend_sma_fast: -0.0030725188524825344\n",
      "trend_vortex_ind_diff: 0.0027817386452414477\n",
      "trend_sma_slow: -0.0021474032774674158\n",
      "trend_vortex_ind_neg: 0.0015848475304854562\n",
      "volatility_dcp: 0.001221221401578571\n",
      "volatility_atr: -0.000895484594887043\n",
      "volatility_kcp: 0.0007824459186258998\n",
      "trend_ema_slow: -0.0004929721009597717\n",
      "volatility_kcw: 0.00047914781641564117\n",
      "trend_ema_fast: 0.0004728544691182753\n"
     ]
    }
   ],
   "source": [
    "feature_names = df.columns.tolist()\n",
    "\n",
    "# Get coefficients from the model\n",
    "coefficients = model_50.coef_\n",
    "\n",
    "# Map coefficients to corresponding feature names\n",
    "feature_coefficient_mapping = dict(zip(feature_names, coefficients))\n",
    "\n",
    "# Sort by absolute coefficient values (magnitude)\n",
    "sorted_features = sorted(feature_coefficient_mapping.items(), key=lambda x: abs(x[1]), reverse=True)\n",
    "\n",
    "# Display top 10\n",
    "for feature, coef in sorted_features[:10]:\n",
    "    print(f\"{feature}: {coef}\")"
   ]
  },
  {
   "cell_type": "code",
   "execution_count": 56,
   "id": "c42d3f2a",
   "metadata": {},
   "outputs": [
    {
     "data": {
      "text/html": [
       "\n",
       "<style>\n",
       "  #altair-viz-38b4cebd17fb4ea4b5d774ac7c5d7419.vega-embed {\n",
       "    width: 100%;\n",
       "    display: flex;\n",
       "  }\n",
       "\n",
       "  #altair-viz-38b4cebd17fb4ea4b5d774ac7c5d7419.vega-embed details,\n",
       "  #altair-viz-38b4cebd17fb4ea4b5d774ac7c5d7419.vega-embed details summary {\n",
       "    position: relative;\n",
       "  }\n",
       "</style>\n",
       "<div id=\"altair-viz-38b4cebd17fb4ea4b5d774ac7c5d7419\"></div>\n",
       "<script type=\"text/javascript\">\n",
       "  var VEGA_DEBUG = (typeof VEGA_DEBUG == \"undefined\") ? {} : VEGA_DEBUG;\n",
       "  (function(spec, embedOpt){\n",
       "    let outputDiv = document.currentScript.previousElementSibling;\n",
       "    if (outputDiv.id !== \"altair-viz-38b4cebd17fb4ea4b5d774ac7c5d7419\") {\n",
       "      outputDiv = document.getElementById(\"altair-viz-38b4cebd17fb4ea4b5d774ac7c5d7419\");\n",
       "    }\n",
       "    const paths = {\n",
       "      \"vega\": \"https://cdn.jsdelivr.net/npm/vega@5?noext\",\n",
       "      \"vega-lib\": \"https://cdn.jsdelivr.net/npm/vega-lib?noext\",\n",
       "      \"vega-lite\": \"https://cdn.jsdelivr.net/npm/vega-lite@5.8.0?noext\",\n",
       "      \"vega-embed\": \"https://cdn.jsdelivr.net/npm/vega-embed@6?noext\",\n",
       "    };\n",
       "\n",
       "    function maybeLoadScript(lib, version) {\n",
       "      var key = `${lib.replace(\"-\", \"\")}_version`;\n",
       "      return (VEGA_DEBUG[key] == version) ?\n",
       "        Promise.resolve(paths[lib]) :\n",
       "        new Promise(function(resolve, reject) {\n",
       "          var s = document.createElement('script');\n",
       "          document.getElementsByTagName(\"head\")[0].appendChild(s);\n",
       "          s.async = true;\n",
       "          s.onload = () => {\n",
       "            VEGA_DEBUG[key] = version;\n",
       "            return resolve(paths[lib]);\n",
       "          };\n",
       "          s.onerror = () => reject(`Error loading script: ${paths[lib]}`);\n",
       "          s.src = paths[lib];\n",
       "        });\n",
       "    }\n",
       "\n",
       "    function showError(err) {\n",
       "      outputDiv.innerHTML = `<div class=\"error\" style=\"color:red;\">${err}</div>`;\n",
       "      throw err;\n",
       "    }\n",
       "\n",
       "    function displayChart(vegaEmbed) {\n",
       "      vegaEmbed(outputDiv, spec, embedOpt)\n",
       "        .catch(err => showError(`Javascript Error: ${err.message}<br>This usually means there's a typo in your chart specification. See the javascript console for the full traceback.`));\n",
       "    }\n",
       "\n",
       "    if(typeof define === \"function\" && define.amd) {\n",
       "      requirejs.config({paths});\n",
       "      require([\"vega-embed\"], displayChart, err => showError(`Error loading script: ${err.message}`));\n",
       "    } else {\n",
       "      maybeLoadScript(\"vega\", \"5\")\n",
       "        .then(() => maybeLoadScript(\"vega-lite\", \"5.8.0\"))\n",
       "        .then(() => maybeLoadScript(\"vega-embed\", \"6\"))\n",
       "        .catch(showError)\n",
       "        .then(() => displayChart(vegaEmbed));\n",
       "    }\n",
       "  })({\"usermeta\": {\"embedOptions\": {\"theme\": \"fivethirtyeight\"}}, \"config\": {\"view\": {\"continuousWidth\": 300, \"continuousHeight\": 300}}, \"layer\": [{\"mark\": {\"type\": \"line\", \"strokeWidth\": 2}, \"encoding\": {\"color\": {\"field\": \"label\", \"legend\": {\"title\": \"Line Type\"}, \"type\": \"nominal\"}, \"tooltip\": [{\"field\": \"date\", \"type\": \"temporal\"}, {\"field\": \"y_test\", \"type\": \"quantitative\"}, {\"field\": \"y_pred\", \"type\": \"quantitative\"}], \"x\": {\"field\": \"date\", \"type\": \"temporal\"}, \"y\": {\"field\": \"y_test\", \"scale\": {\"zero\": false}, \"title\": \"Price\", \"type\": \"quantitative\"}}, \"name\": \"view_10\"}, {\"mark\": {\"type\": \"line\", \"strokeDash\": [3, 3], \"strokeWidth\": 1}, \"encoding\": {\"color\": {\"field\": \"predicted_label\", \"legend\": {\"title\": \"Line Type\"}, \"type\": \"nominal\"}, \"tooltip\": [{\"field\": \"date\", \"type\": \"temporal\"}, {\"field\": \"y_test\", \"type\": \"quantitative\"}, {\"field\": \"y_pred\", \"type\": \"quantitative\"}], \"x\": {\"field\": \"date\", \"type\": \"temporal\"}, \"y\": {\"field\": \"y_pred\", \"scale\": {\"zero\": false}, \"title\": \"\", \"type\": \"quantitative\"}}}], \"data\": {\"name\": \"data-2f61e72a0754fc37579660a9a3b3af4a\"}, \"height\": 400, \"params\": [{\"name\": \"param_10\", \"select\": {\"type\": \"interval\", \"encodings\": [\"x\", \"y\"]}, \"bind\": \"scales\", \"views\": [\"view_10\"]}], \"title\": \"Actual vs Predicted High Prices(MAPE: 1.83%)\", \"width\": 650, \"$schema\": \"https://vega.github.io/schema/vega-lite/v5.8.0.json\", \"datasets\": {\"data-2f61e72a0754fc37579660a9a3b3af4a\": [{\"date\": \"2020-06-25T00:00:00\", \"y_test\": 81.5, \"y_pred\": 80.3431433514697, \"label\": \"Actual\", \"predicted_label\": \"Predicted\"}, {\"date\": \"2020-06-26T00:00:00\", \"y_test\": 79.84999847412108, \"y_pred\": 79.06457335674644, \"label\": \"Actual\", \"predicted_label\": \"Predicted\"}, {\"date\": \"2020-06-29T00:00:00\", \"y_test\": 77.25, \"y_pred\": 78.92675373862397, \"label\": \"Actual\", \"predicted_label\": \"Predicted\"}, {\"date\": \"2020-06-30T00:00:00\", \"y_test\": 76.0, \"y_pred\": 76.54393988149887, \"label\": \"Actual\", \"predicted_label\": \"Predicted\"}, {\"date\": \"2020-07-01T00:00:00\", \"y_test\": 73.4749984741211, \"y_pred\": 74.59506397202193, \"label\": \"Actual\", \"predicted_label\": \"Predicted\"}, {\"date\": \"2020-07-02T00:00:00\", \"y_test\": 72.9000015258789, \"y_pred\": 73.50708700621075, \"label\": \"Actual\", \"predicted_label\": \"Predicted\"}, {\"date\": \"2020-07-03T00:00:00\", \"y_test\": 76.75, \"y_pred\": 73.56596509783697, \"label\": \"Actual\", \"predicted_label\": \"Predicted\"}, {\"date\": \"2020-07-06T00:00:00\", \"y_test\": 78.94999694824219, \"y_pred\": 76.10303236479953, \"label\": \"Actual\", \"predicted_label\": \"Predicted\"}, {\"date\": \"2020-07-07T00:00:00\", \"y_test\": 79.4000015258789, \"y_pred\": 79.6772814803111, \"label\": \"Actual\", \"predicted_label\": \"Predicted\"}, {\"date\": \"2020-07-08T00:00:00\", \"y_test\": 78.5, \"y_pred\": 80.25482991567527, \"label\": \"Actual\", \"predicted_label\": \"Predicted\"}, {\"date\": \"2020-07-09T00:00:00\", \"y_test\": 77.30000305175781, \"y_pred\": 78.13222638314055, \"label\": \"Actual\", \"predicted_label\": \"Predicted\"}, {\"date\": \"2020-07-10T00:00:00\", \"y_test\": 84.69999694824219, \"y_pred\": 77.87739511885596, \"label\": \"Actual\", \"predicted_label\": \"Predicted\"}, {\"date\": \"2020-07-13T00:00:00\", \"y_test\": 83.5, \"y_pred\": 82.58581863417703, \"label\": \"Actual\", \"predicted_label\": \"Predicted\"}, {\"date\": \"2020-07-14T00:00:00\", \"y_test\": 80.2249984741211, \"y_pred\": 80.14847273605457, \"label\": \"Actual\", \"predicted_label\": \"Predicted\"}, {\"date\": \"2020-07-15T00:00:00\", \"y_test\": 80.5999984741211, \"y_pred\": 78.57009983138232, \"label\": \"Actual\", \"predicted_label\": \"Predicted\"}, {\"date\": \"2020-07-16T00:00:00\", \"y_test\": 79.2750015258789, \"y_pred\": 81.07934672855916, \"label\": \"Actual\", \"predicted_label\": \"Predicted\"}, {\"date\": \"2020-07-17T00:00:00\", \"y_test\": 79.17500305175781, \"y_pred\": 79.9367400919954, \"label\": \"Actual\", \"predicted_label\": \"Predicted\"}, {\"date\": \"2020-07-20T00:00:00\", \"y_test\": 81.5, \"y_pred\": 80.64988150110773, \"label\": \"Actual\", \"predicted_label\": \"Predicted\"}, {\"date\": \"2020-07-21T00:00:00\", \"y_test\": 86.94999694824217, \"y_pred\": 82.40101665351796, \"label\": \"Actual\", \"predicted_label\": \"Predicted\"}, {\"date\": \"2020-07-22T00:00:00\", \"y_test\": 86.32499694824217, \"y_pred\": 87.44317803399935, \"label\": \"Actual\", \"predicted_label\": \"Predicted\"}, {\"date\": \"2020-07-23T00:00:00\", \"y_test\": 85.99999999999999, \"y_pred\": 87.3376481651429, \"label\": \"Actual\", \"predicted_label\": \"Predicted\"}, {\"date\": \"2020-07-24T00:00:00\", \"y_test\": 85.0, \"y_pred\": 85.84536890393507, \"label\": \"Actual\", \"predicted_label\": \"Predicted\"}, {\"date\": \"2020-07-27T00:00:00\", \"y_test\": 83.0999984741211, \"y_pred\": 85.41446747735597, \"label\": \"Actual\", \"predicted_label\": \"Predicted\"}, {\"date\": \"2020-07-28T00:00:00\", \"y_test\": 83.4000015258789, \"y_pred\": 83.69380598296388, \"label\": \"Actual\", \"predicted_label\": \"Predicted\"}, {\"date\": \"2020-07-29T00:00:00\", \"y_test\": 83.17500305175783, \"y_pred\": 84.01045209958109, \"label\": \"Actual\", \"predicted_label\": \"Predicted\"}, {\"date\": \"2020-07-30T00:00:00\", \"y_test\": 82.5999984741211, \"y_pred\": 84.00495670013576, \"label\": \"Actual\", \"predicted_label\": \"Predicted\"}, {\"date\": \"2020-07-31T00:00:00\", \"y_test\": 80.17500305175781, \"y_pred\": 82.14494087303922, \"label\": \"Actual\", \"predicted_label\": \"Predicted\"}, {\"date\": \"2020-08-03T00:00:00\", \"y_test\": 82.57499694824219, \"y_pred\": 81.72516640837257, \"label\": \"Actual\", \"predicted_label\": \"Predicted\"}, {\"date\": \"2020-08-04T00:00:00\", \"y_test\": 83.7249984741211, \"y_pred\": 83.80736228287894, \"label\": \"Actual\", \"predicted_label\": \"Predicted\"}, {\"date\": \"2020-08-05T00:00:00\", \"y_test\": 86.25000000000001, \"y_pred\": 84.83166945826537, \"label\": \"Actual\", \"predicted_label\": \"Predicted\"}, {\"date\": \"2020-08-06T00:00:00\", \"y_test\": 85.57499694824219, \"y_pred\": 86.53726858658715, \"label\": \"Actual\", \"predicted_label\": \"Predicted\"}, {\"date\": \"2020-08-07T00:00:00\", \"y_test\": 85.4000015258789, \"y_pred\": 86.93257317406955, \"label\": \"Actual\", \"predicted_label\": \"Predicted\"}, {\"date\": \"2020-08-10T00:00:00\", \"y_test\": 87.5, \"y_pred\": 86.33094467646059, \"label\": \"Actual\", \"predicted_label\": \"Predicted\"}, {\"date\": \"2020-08-11T00:00:00\", \"y_test\": 90.0, \"y_pred\": 89.01854041241087, \"label\": \"Actual\", \"predicted_label\": \"Predicted\"}, {\"date\": \"2020-08-12T00:00:00\", \"y_test\": 96.9250030517578, \"y_pred\": 89.75834312152696, \"label\": \"Actual\", \"predicted_label\": \"Predicted\"}, {\"date\": \"2020-08-13T00:00:00\", \"y_test\": 109.5, \"y_pred\": 99.10763847673104, \"label\": \"Actual\", \"predicted_label\": \"Predicted\"}, {\"date\": \"2020-08-14T00:00:00\", \"y_test\": 128.4499969482422, \"y_pred\": 112.45203767477386, \"label\": \"Actual\", \"predicted_label\": \"Predicted\"}, {\"date\": \"2020-08-17T00:00:00\", \"y_test\": 122.9499969482422, \"y_pred\": 131.85845652820626, \"label\": \"Actual\", \"predicted_label\": \"Predicted\"}, {\"date\": \"2020-08-18T00:00:00\", \"y_test\": 122.92500305175781, \"y_pred\": 124.14435625944313, \"label\": \"Actual\", \"predicted_label\": \"Predicted\"}, {\"date\": \"2020-08-19T00:00:00\", \"y_test\": 120.9499969482422, \"y_pred\": 123.85051694403386, \"label\": \"Actual\", \"predicted_label\": \"Predicted\"}, {\"date\": \"2020-08-20T00:00:00\", \"y_test\": 116.49999999999999, \"y_pred\": 118.3717119787771, \"label\": \"Actual\", \"predicted_label\": \"Predicted\"}, {\"date\": \"2020-08-21T00:00:00\", \"y_test\": 115.9000015258789, \"y_pred\": 115.73995923649751, \"label\": \"Actual\", \"predicted_label\": \"Predicted\"}, {\"date\": \"2020-08-24T00:00:00\", \"y_test\": 115.25, \"y_pred\": 117.39249358903727, \"label\": \"Actual\", \"predicted_label\": \"Predicted\"}, {\"date\": \"2020-08-25T00:00:00\", \"y_test\": 114.1999969482422, \"y_pred\": 118.4635783738404, \"label\": \"Actual\", \"predicted_label\": \"Predicted\"}, {\"date\": \"2020-08-26T00:00:00\", \"y_test\": 113.90000152587892, \"y_pred\": 116.37351436955313, \"label\": \"Actual\", \"predicted_label\": \"Predicted\"}, {\"date\": \"2020-08-27T00:00:00\", \"y_test\": 114.99999999999999, \"y_pred\": 117.22851272086652, \"label\": \"Actual\", \"predicted_label\": \"Predicted\"}, {\"date\": \"2020-08-28T00:00:00\", \"y_test\": 115.6750030517578, \"y_pred\": 117.45188967387502, \"label\": \"Actual\", \"predicted_label\": \"Predicted\"}, {\"date\": \"2020-08-31T00:00:00\", \"y_test\": 115.0, \"y_pred\": 116.5650596922691, \"label\": \"Actual\", \"predicted_label\": \"Predicted\"}, {\"date\": \"2020-09-01T00:00:00\", \"y_test\": 111.92500305175778, \"y_pred\": 113.84682465487387, \"label\": \"Actual\", \"predicted_label\": \"Predicted\"}, {\"date\": \"2020-09-02T00:00:00\", \"y_test\": 112.4499969482422, \"y_pred\": 114.54587115604812, \"label\": \"Actual\", \"predicted_label\": \"Predicted\"}, {\"date\": \"2020-09-03T00:00:00\", \"y_test\": 114.0, \"y_pred\": 113.82381805071483, \"label\": \"Actual\", \"predicted_label\": \"Predicted\"}, {\"date\": \"2020-09-04T00:00:00\", \"y_test\": 111.4749984741211, \"y_pred\": 115.66548572049152, \"label\": \"Actual\", \"predicted_label\": \"Predicted\"}, {\"date\": \"2020-09-07T00:00:00\", \"y_test\": 109.5500030517578, \"y_pred\": 112.64506338748188, \"label\": \"Actual\", \"predicted_label\": \"Predicted\"}, {\"date\": \"2020-09-08T00:00:00\", \"y_test\": 110.9000015258789, \"y_pred\": 112.01058201029073, \"label\": \"Actual\", \"predicted_label\": \"Predicted\"}, {\"date\": \"2020-09-09T00:00:00\", \"y_test\": 108.3249969482422, \"y_pred\": 111.69291663210922, \"label\": \"Actual\", \"predicted_label\": \"Predicted\"}, {\"date\": \"2020-09-10T00:00:00\", \"y_test\": 110.875, \"y_pred\": 110.05989735702641, \"label\": \"Actual\", \"predicted_label\": \"Predicted\"}, {\"date\": \"2020-09-11T00:00:00\", \"y_test\": 115.50000000000001, \"y_pred\": 112.55136644592348, \"label\": \"Actual\", \"predicted_label\": \"Predicted\"}, {\"date\": \"2020-09-14T00:00:00\", \"y_test\": 118.67500305175778, \"y_pred\": 114.37640032947313, \"label\": \"Actual\", \"predicted_label\": \"Predicted\"}, {\"date\": \"2020-09-15T00:00:00\", \"y_test\": 118.8000030517578, \"y_pred\": 119.38231000787319, \"label\": \"Actual\", \"predicted_label\": \"Predicted\"}, {\"date\": \"2020-09-16T00:00:00\", \"y_test\": 120.82499694824219, \"y_pred\": 119.8989987602181, \"label\": \"Actual\", \"predicted_label\": \"Predicted\"}, {\"date\": \"2020-09-17T00:00:00\", \"y_test\": 120.0, \"y_pred\": 121.42911498762747, \"label\": \"Actual\", \"predicted_label\": \"Predicted\"}, {\"date\": \"2020-09-18T00:00:00\", \"y_test\": 120.27500152587889, \"y_pred\": 121.98223519883938, \"label\": \"Actual\", \"predicted_label\": \"Predicted\"}, {\"date\": \"2020-09-21T00:00:00\", \"y_test\": 128.72500610351562, \"y_pred\": 121.57326377523785, \"label\": \"Actual\", \"predicted_label\": \"Predicted\"}, {\"date\": \"2020-09-22T00:00:00\", \"y_test\": 129.0749969482422, \"y_pred\": 129.0116202049922, \"label\": \"Actual\", \"predicted_label\": \"Predicted\"}, {\"date\": \"2020-09-23T00:00:00\", \"y_test\": 127.4749984741211, \"y_pred\": 125.73365324218675, \"label\": \"Actual\", \"predicted_label\": \"Predicted\"}, {\"date\": \"2020-09-24T00:00:00\", \"y_test\": 134.0500030517578, \"y_pred\": 125.26076184804154, \"label\": \"Actual\", \"predicted_label\": \"Predicted\"}, {\"date\": \"2020-09-25T00:00:00\", \"y_test\": 128.9499969482422, \"y_pred\": 127.79778242305889, \"label\": \"Actual\", \"predicted_label\": \"Predicted\"}, {\"date\": \"2020-09-28T00:00:00\", \"y_test\": 125.3000030517578, \"y_pred\": 126.55371708466434, \"label\": \"Actual\", \"predicted_label\": \"Predicted\"}, {\"date\": \"2020-09-29T00:00:00\", \"y_test\": 127.0, \"y_pred\": 123.87598298123994, \"label\": \"Actual\", \"predicted_label\": \"Predicted\"}, {\"date\": \"2020-09-30T00:00:00\", \"y_test\": 121.9000015258789, \"y_pred\": 121.64819839796358, \"label\": \"Actual\", \"predicted_label\": \"Predicted\"}, {\"date\": \"2020-10-01T00:00:00\", \"y_test\": 121.9000015258789, \"y_pred\": 123.71682204081266, \"label\": \"Actual\", \"predicted_label\": \"Predicted\"}, {\"date\": \"2020-10-05T00:00:00\", \"y_test\": 122.99999999999999, \"y_pred\": 122.15779317256785, \"label\": \"Actual\", \"predicted_label\": \"Predicted\"}, {\"date\": \"2020-10-06T00:00:00\", \"y_test\": 123.84999847412111, \"y_pred\": 123.46601136163906, \"label\": \"Actual\", \"predicted_label\": \"Predicted\"}, {\"date\": \"2020-10-07T00:00:00\", \"y_test\": 121.4000015258789, \"y_pred\": 120.42120179611436, \"label\": \"Actual\", \"predicted_label\": \"Predicted\"}, {\"date\": \"2020-10-08T00:00:00\", \"y_test\": 120.5, \"y_pred\": 122.88884496778614, \"label\": \"Actual\", \"predicted_label\": \"Predicted\"}, {\"date\": \"2020-10-09T00:00:00\", \"y_test\": 117.9000015258789, \"y_pred\": 120.49302862253573, \"label\": \"Actual\", \"predicted_label\": \"Predicted\"}, {\"date\": \"2020-10-12T00:00:00\", \"y_test\": 116.0, \"y_pred\": 115.57636204529717, \"label\": \"Actual\", \"predicted_label\": \"Predicted\"}, {\"date\": \"2020-10-13T00:00:00\", \"y_test\": 113.25, \"y_pred\": 110.84158205135664, \"label\": \"Actual\", \"predicted_label\": \"Predicted\"}, {\"date\": \"2020-10-14T00:00:00\", \"y_test\": 119.9000015258789, \"y_pred\": 114.36858040249146, \"label\": \"Actual\", \"predicted_label\": \"Predicted\"}, {\"date\": \"2020-10-15T00:00:00\", \"y_test\": 111.5, \"y_pred\": 114.5007664341178, \"label\": \"Actual\", \"predicted_label\": \"Predicted\"}, {\"date\": \"2020-10-16T00:00:00\", \"y_test\": 111.5, \"y_pred\": 110.25354791723672, \"label\": \"Actual\", \"predicted_label\": \"Predicted\"}, {\"date\": \"2020-10-19T00:00:00\", \"y_test\": 113.5, \"y_pred\": 112.99672027783122, \"label\": \"Actual\", \"predicted_label\": \"Predicted\"}, {\"date\": \"2020-10-20T00:00:00\", \"y_test\": 112.05000305175778, \"y_pred\": 114.25840641264284, \"label\": \"Actual\", \"predicted_label\": \"Predicted\"}, {\"date\": \"2020-10-21T00:00:00\", \"y_test\": 111.8499984741211, \"y_pred\": 112.26140520204918, \"label\": \"Actual\", \"predicted_label\": \"Predicted\"}, {\"date\": \"2020-10-22T00:00:00\", \"y_test\": 111.80000305175778, \"y_pred\": 113.79868704627482, \"label\": \"Actual\", \"predicted_label\": \"Predicted\"}, {\"date\": \"2020-10-23T00:00:00\", \"y_test\": 111.5500030517578, \"y_pred\": 112.54783494972682, \"label\": \"Actual\", \"predicted_label\": \"Predicted\"}, {\"date\": \"2020-10-26T00:00:00\", \"y_test\": 111.5500030517578, \"y_pred\": 112.90374663986792, \"label\": \"Actual\", \"predicted_label\": \"Predicted\"}, {\"date\": \"2020-10-27T00:00:00\", \"y_test\": 108.0, \"y_pred\": 110.84328985470073, \"label\": \"Actual\", \"predicted_label\": \"Predicted\"}, {\"date\": \"2020-10-28T00:00:00\", \"y_test\": 108.3000030517578, \"y_pred\": 107.74957997739214, \"label\": \"Actual\", \"predicted_label\": \"Predicted\"}, {\"date\": \"2020-10-29T00:00:00\", \"y_test\": 106.5999984741211, \"y_pred\": 107.60666716058024, \"label\": \"Actual\", \"predicted_label\": \"Predicted\"}, {\"date\": \"2020-10-30T00:00:00\", \"y_test\": 106.50000000000001, \"y_pred\": 106.42468087226068, \"label\": \"Actual\", \"predicted_label\": \"Predicted\"}, {\"date\": \"2020-11-02T00:00:00\", \"y_test\": 108.09999847412108, \"y_pred\": 106.07830945999707, \"label\": \"Actual\", \"predicted_label\": \"Predicted\"}, {\"date\": \"2020-11-03T00:00:00\", \"y_test\": 109.3000030517578, \"y_pred\": 108.37382221484147, \"label\": \"Actual\", \"predicted_label\": \"Predicted\"}, {\"date\": \"2020-11-04T00:00:00\", \"y_test\": 109.99999999999999, \"y_pred\": 110.32046399336011, \"label\": \"Actual\", \"predicted_label\": \"Predicted\"}, {\"date\": \"2020-11-05T00:00:00\", \"y_test\": 108.8499984741211, \"y_pred\": 109.30277860158988, \"label\": \"Actual\", \"predicted_label\": \"Predicted\"}, {\"date\": \"2020-11-06T00:00:00\", \"y_test\": 108.65000152587892, \"y_pred\": 110.02832698474494, \"label\": \"Actual\", \"predicted_label\": \"Predicted\"}, {\"date\": \"2020-11-09T00:00:00\", \"y_test\": 124.59999847412108, \"y_pred\": 109.90340796157003, \"label\": \"Actual\", \"predicted_label\": \"Predicted\"}, {\"date\": \"2020-11-10T00:00:00\", \"y_test\": 123.25, \"y_pred\": 123.67589249058214, \"label\": \"Actual\", \"predicted_label\": \"Predicted\"}, {\"date\": \"2020-11-11T00:00:00\", \"y_test\": 125.00000000000001, \"y_pred\": 125.4229051173013, \"label\": \"Actual\", \"predicted_label\": \"Predicted\"}, {\"date\": \"2020-11-12T00:00:00\", \"y_test\": 122.1999969482422, \"y_pred\": 124.91013471153637, \"label\": \"Actual\", \"predicted_label\": \"Predicted\"}, {\"date\": \"2020-11-13T00:00:00\", \"y_test\": 124.80000305175778, \"y_pred\": 120.48093242233077, \"label\": \"Actual\", \"predicted_label\": \"Predicted\"}, {\"date\": \"2020-11-14T00:00:00\", \"y_test\": 124.6999969482422, \"y_pred\": 120.81774576442028, \"label\": \"Actual\", \"predicted_label\": \"Predicted\"}, {\"date\": \"2020-11-17T00:00:00\", \"y_test\": 122.0, \"y_pred\": 123.93328829343805, \"label\": \"Actual\", \"predicted_label\": \"Predicted\"}, {\"date\": \"2020-11-18T00:00:00\", \"y_test\": 120.9000015258789, \"y_pred\": 120.11891675415141, \"label\": \"Actual\", \"predicted_label\": \"Predicted\"}, {\"date\": \"2020-11-19T00:00:00\", \"y_test\": 130.60000610351562, \"y_pred\": 123.05579970083424, \"label\": \"Actual\", \"predicted_label\": \"Predicted\"}, {\"date\": \"2020-11-20T00:00:00\", \"y_test\": 128.89999389648438, \"y_pred\": 130.56603668089258, \"label\": \"Actual\", \"predicted_label\": \"Predicted\"}, {\"date\": \"2020-11-23T00:00:00\", \"y_test\": 128.5, \"y_pred\": 130.27516678233113, \"label\": \"Actual\", \"predicted_label\": \"Predicted\"}, {\"date\": \"2020-11-24T00:00:00\", \"y_test\": 137.5, \"y_pred\": 130.19524450952838, \"label\": \"Actual\", \"predicted_label\": \"Predicted\"}, {\"date\": \"2020-11-25T00:00:00\", \"y_test\": 137.9499969482422, \"y_pred\": 137.12068678181254, \"label\": \"Actual\", \"predicted_label\": \"Predicted\"}, {\"date\": \"2020-11-26T00:00:00\", \"y_test\": 134.8000030517578, \"y_pred\": 134.4837697301473, \"label\": \"Actual\", \"predicted_label\": \"Predicted\"}, {\"date\": \"2020-11-27T00:00:00\", \"y_test\": 135.0, \"y_pred\": 135.66926612751155, \"label\": \"Actual\", \"predicted_label\": \"Predicted\"}, {\"date\": \"2020-12-01T00:00:00\", \"y_test\": 135.60000610351562, \"y_pred\": 137.27218348516075, \"label\": \"Actual\", \"predicted_label\": \"Predicted\"}, {\"date\": \"2020-12-02T00:00:00\", \"y_test\": 135.64999389648438, \"y_pred\": 138.65215143169368, \"label\": \"Actual\", \"predicted_label\": \"Predicted\"}, {\"date\": \"2020-12-03T00:00:00\", \"y_test\": 136.0, \"y_pred\": 138.0855720028131, \"label\": \"Actual\", \"predicted_label\": \"Predicted\"}, {\"date\": \"2020-12-04T00:00:00\", \"y_test\": 135.5, \"y_pred\": 136.24038502711937, \"label\": \"Actual\", \"predicted_label\": \"Predicted\"}, {\"date\": \"2020-12-07T00:00:00\", \"y_test\": 137.0, \"y_pred\": 137.4316645314731, \"label\": \"Actual\", \"predicted_label\": \"Predicted\"}, {\"date\": \"2020-12-08T00:00:00\", \"y_test\": 137.0, \"y_pred\": 138.87193348524488, \"label\": \"Actual\", \"predicted_label\": \"Predicted\"}, {\"date\": \"2020-12-09T00:00:00\", \"y_test\": 155.25, \"y_pred\": 138.79403552966764, \"label\": \"Actual\", \"predicted_label\": \"Predicted\"}, {\"date\": \"2020-12-10T00:00:00\", \"y_test\": 151.5500030517578, \"y_pred\": 153.15253988033962, \"label\": \"Actual\", \"predicted_label\": \"Predicted\"}, {\"date\": \"2020-12-11T00:00:00\", \"y_test\": 158.14999389648438, \"y_pred\": 149.8801972340528, \"label\": \"Actual\", \"predicted_label\": \"Predicted\"}, {\"date\": \"2020-12-14T00:00:00\", \"y_test\": 169.0, \"y_pred\": 160.01588083496335, \"label\": \"Actual\", \"predicted_label\": \"Predicted\"}, {\"date\": \"2020-12-15T00:00:00\", \"y_test\": 162.4499969482422, \"y_pred\": 169.01353677391677, \"label\": \"Actual\", \"predicted_label\": \"Predicted\"}, {\"date\": \"2020-12-16T00:00:00\", \"y_test\": 161.85000610351562, \"y_pred\": 163.337586803836, \"label\": \"Actual\", \"predicted_label\": \"Predicted\"}, {\"date\": \"2020-12-17T00:00:00\", \"y_test\": 160.89999389648438, \"y_pred\": 164.27788519779236, \"label\": \"Actual\", \"predicted_label\": \"Predicted\"}, {\"date\": \"2020-12-18T00:00:00\", \"y_test\": 160.25, \"y_pred\": 163.5738845020669, \"label\": \"Actual\", \"predicted_label\": \"Predicted\"}, {\"date\": \"2020-12-21T00:00:00\", \"y_test\": 160.00000000000003, \"y_pred\": 159.66268021603594, \"label\": \"Actual\", \"predicted_label\": \"Predicted\"}, {\"date\": \"2020-12-22T00:00:00\", \"y_test\": 153.89999389648438, \"y_pred\": 158.38342601434906, \"label\": \"Actual\", \"predicted_label\": \"Predicted\"}, {\"date\": \"2020-12-23T00:00:00\", \"y_test\": 158.0, \"y_pred\": 157.6150134106217, \"label\": \"Actual\", \"predicted_label\": \"Predicted\"}, {\"date\": \"2020-12-24T00:00:00\", \"y_test\": 159.99999999999997, \"y_pred\": 160.8462631433619, \"label\": \"Actual\", \"predicted_label\": \"Predicted\"}, {\"date\": \"2020-12-28T00:00:00\", \"y_test\": 160.35000610351562, \"y_pred\": 161.71390938052573, \"label\": \"Actual\", \"predicted_label\": \"Predicted\"}, {\"date\": \"2020-12-29T00:00:00\", \"y_test\": 160.64999389648438, \"y_pred\": 163.2241796015611, \"label\": \"Actual\", \"predicted_label\": \"Predicted\"}, {\"date\": \"2020-12-30T00:00:00\", \"y_test\": 157.39999389648438, \"y_pred\": 159.39550603257047, \"label\": \"Actual\", \"predicted_label\": \"Predicted\"}, {\"date\": \"2020-12-31T00:00:00\", \"y_test\": 156.10000610351562, \"y_pred\": 158.55647859247773, \"label\": \"Actual\", \"predicted_label\": \"Predicted\"}, {\"date\": \"2021-01-01T00:00:00\", \"y_test\": 164.0, \"y_pred\": 156.73100955263507, \"label\": \"Actual\", \"predicted_label\": \"Predicted\"}, {\"date\": \"2021-01-04T00:00:00\", \"y_test\": 160.0, \"y_pred\": 163.57419182748123, \"label\": \"Actual\", \"predicted_label\": \"Predicted\"}, {\"date\": \"2021-01-05T00:00:00\", \"y_test\": 160.14999389648438, \"y_pred\": 162.4566441331538, \"label\": \"Actual\", \"predicted_label\": \"Predicted\"}, {\"date\": \"2021-01-06T00:00:00\", \"y_test\": 160.0500030517578, \"y_pred\": 161.4051426139995, \"label\": \"Actual\", \"predicted_label\": \"Predicted\"}, {\"date\": \"2021-01-07T00:00:00\", \"y_test\": 160.85000610351562, \"y_pred\": 161.53379202495213, \"label\": \"Actual\", \"predicted_label\": \"Predicted\"}, {\"date\": \"2021-01-08T00:00:00\", \"y_test\": 183.25000000000003, \"y_pred\": 163.32441042326468, \"label\": \"Actual\", \"predicted_label\": \"Predicted\"}, {\"date\": \"2021-01-11T00:00:00\", \"y_test\": 193.80000305175784, \"y_pred\": 185.6655465745258, \"label\": \"Actual\", \"predicted_label\": \"Predicted\"}, {\"date\": \"2021-01-12T00:00:00\", \"y_test\": 181.1000061035156, \"y_pred\": 183.23833298570335, \"label\": \"Actual\", \"predicted_label\": \"Predicted\"}, {\"date\": \"2021-01-13T00:00:00\", \"y_test\": 179.5, \"y_pred\": 179.1463619551115, \"label\": \"Actual\", \"predicted_label\": \"Predicted\"}, {\"date\": \"2021-01-14T00:00:00\", \"y_test\": 175.14999389648438, \"y_pred\": 179.4850749355325, \"label\": \"Actual\", \"predicted_label\": \"Predicted\"}, {\"date\": \"2021-01-15T00:00:00\", \"y_test\": 170.60000610351562, \"y_pred\": 172.90971452760311, \"label\": \"Actual\", \"predicted_label\": \"Predicted\"}, {\"date\": \"2021-01-18T00:00:00\", \"y_test\": 169.8500061035156, \"y_pred\": 169.0162509358253, \"label\": \"Actual\", \"predicted_label\": \"Predicted\"}, {\"date\": \"2021-01-19T00:00:00\", \"y_test\": 166.25, \"y_pred\": 166.78994652076915, \"label\": \"Actual\", \"predicted_label\": \"Predicted\"}, {\"date\": \"2021-01-20T00:00:00\", \"y_test\": 166.0, \"y_pred\": 168.52063446172707, \"label\": \"Actual\", \"predicted_label\": \"Predicted\"}, {\"date\": \"2021-01-21T00:00:00\", \"y_test\": 165.0, \"y_pred\": 165.10718725974732, \"label\": \"Actual\", \"predicted_label\": \"Predicted\"}, {\"date\": \"2021-01-22T00:00:00\", \"y_test\": 166.1999969482422, \"y_pred\": 165.50298924052458, \"label\": \"Actual\", \"predicted_label\": \"Predicted\"}, {\"date\": \"2021-01-25T00:00:00\", \"y_test\": 162.60000610351562, \"y_pred\": 162.6565457759744, \"label\": \"Actual\", \"predicted_label\": \"Predicted\"}, {\"date\": \"2021-01-27T00:00:00\", \"y_test\": 156.0, \"y_pred\": 158.97081659360603, \"label\": \"Actual\", \"predicted_label\": \"Predicted\"}, {\"date\": \"2021-01-28T00:00:00\", \"y_test\": 164.0, \"y_pred\": 155.29449514732204, \"label\": \"Actual\", \"predicted_label\": \"Predicted\"}, {\"date\": \"2021-01-29T00:00:00\", \"y_test\": 160.94999694824216, \"y_pred\": 159.61510892266193, \"label\": \"Actual\", \"predicted_label\": \"Predicted\"}, {\"date\": \"2021-02-01T00:00:00\", \"y_test\": 161.60000610351562, \"y_pred\": 160.60048899200086, \"label\": \"Actual\", \"predicted_label\": \"Predicted\"}, {\"date\": \"2021-02-02T00:00:00\", \"y_test\": 165.39999389648438, \"y_pred\": 164.87382664219686, \"label\": \"Actual\", \"predicted_label\": \"Predicted\"}, {\"date\": \"2021-02-03T00:00:00\", \"y_test\": 166.4499969482422, \"y_pred\": 166.82352039351545, \"label\": \"Actual\", \"predicted_label\": \"Predicted\"}, {\"date\": \"2021-02-04T00:00:00\", \"y_test\": 166.50000000000003, \"y_pred\": 167.28391938812575, \"label\": \"Actual\", \"predicted_label\": \"Predicted\"}, {\"date\": \"2021-02-05T00:00:00\", \"y_test\": 166.4499969482422, \"y_pred\": 169.38861280324167, \"label\": \"Actual\", \"predicted_label\": \"Predicted\"}, {\"date\": \"2021-02-08T00:00:00\", \"y_test\": 176.64999389648438, \"y_pred\": 167.89226695894635, \"label\": \"Actual\", \"predicted_label\": \"Predicted\"}, {\"date\": \"2021-02-09T00:00:00\", \"y_test\": 181.3999938964844, \"y_pred\": 173.25602992145338, \"label\": \"Actual\", \"predicted_label\": \"Predicted\"}, {\"date\": \"2021-02-10T00:00:00\", \"y_test\": 178.0, \"y_pred\": 178.63651963824861, \"label\": \"Actual\", \"predicted_label\": \"Predicted\"}, {\"date\": \"2021-02-11T00:00:00\", \"y_test\": 173.9499969482422, \"y_pred\": 172.87467071883415, \"label\": \"Actual\", \"predicted_label\": \"Predicted\"}, {\"date\": \"2021-02-12T00:00:00\", \"y_test\": 170.14999389648438, \"y_pred\": 169.2233033672171, \"label\": \"Actual\", \"predicted_label\": \"Predicted\"}, {\"date\": \"2021-02-15T00:00:00\", \"y_test\": 173.24999999999997, \"y_pred\": 171.55177569812804, \"label\": \"Actual\", \"predicted_label\": \"Predicted\"}, {\"date\": \"2021-02-16T00:00:00\", \"y_test\": 170.6999969482422, \"y_pred\": 168.58286997418955, \"label\": \"Actual\", \"predicted_label\": \"Predicted\"}, {\"date\": \"2021-02-17T00:00:00\", \"y_test\": 175.4499969482422, \"y_pred\": 169.93987270584523, \"label\": \"Actual\", \"predicted_label\": \"Predicted\"}, {\"date\": \"2021-02-18T00:00:00\", \"y_test\": 172.9499969482422, \"y_pred\": 174.79747834290708, \"label\": \"Actual\", \"predicted_label\": \"Predicted\"}, {\"date\": \"2021-02-19T00:00:00\", \"y_test\": 168.4499969482422, \"y_pred\": 171.10563612847608, \"label\": \"Actual\", \"predicted_label\": \"Predicted\"}, {\"date\": \"2021-02-22T00:00:00\", \"y_test\": 163.9499969482422, \"y_pred\": 166.8395860394366, \"label\": \"Actual\", \"predicted_label\": \"Predicted\"}, {\"date\": \"2021-02-23T00:00:00\", \"y_test\": 163.60000610351565, \"y_pred\": 164.67160939654391, \"label\": \"Actual\", \"predicted_label\": \"Predicted\"}, {\"date\": \"2021-02-24T00:00:00\", \"y_test\": 168.99999999999997, \"y_pred\": 165.11380890789155, \"label\": \"Actual\", \"predicted_label\": \"Predicted\"}, {\"date\": \"2021-02-25T00:00:00\", \"y_test\": 183.00000000000003, \"y_pred\": 170.20752446002123, \"label\": \"Actual\", \"predicted_label\": \"Predicted\"}, {\"date\": \"2021-02-26T00:00:00\", \"y_test\": 192.3000030517578, \"y_pred\": 185.23627387612282, \"label\": \"Actual\", \"predicted_label\": \"Predicted\"}, {\"date\": \"2021-03-01T00:00:00\", \"y_test\": 187.60000610351557, \"y_pred\": 186.70259771928562, \"label\": \"Actual\", \"predicted_label\": \"Predicted\"}, {\"date\": \"2021-03-02T00:00:00\", \"y_test\": 185.8500061035156, \"y_pred\": 188.74352492099754, \"label\": \"Actual\", \"predicted_label\": \"Predicted\"}, {\"date\": \"2021-03-03T00:00:00\", \"y_test\": 185.0, \"y_pred\": 184.43686007357584, \"label\": \"Actual\", \"predicted_label\": \"Predicted\"}, {\"date\": \"2021-03-04T00:00:00\", \"y_test\": 186.69999694824222, \"y_pred\": 183.5405228777338, \"label\": \"Actual\", \"predicted_label\": \"Predicted\"}, {\"date\": \"2021-03-05T00:00:00\", \"y_test\": 187.75, \"y_pred\": 184.61946237231828, \"label\": \"Actual\", \"predicted_label\": \"Predicted\"}, {\"date\": \"2021-03-08T00:00:00\", \"y_test\": 201.75000000000003, \"y_pred\": 189.75676364200467, \"label\": \"Actual\", \"predicted_label\": \"Predicted\"}, {\"date\": \"2021-03-09T00:00:00\", \"y_test\": 211.5, \"y_pred\": 204.985742205353, \"label\": \"Actual\", \"predicted_label\": \"Predicted\"}, {\"date\": \"2021-03-10T00:00:00\", \"y_test\": 206.05000305175778, \"y_pred\": 210.1690742192069, \"label\": \"Actual\", \"predicted_label\": \"Predicted\"}, {\"date\": \"2021-03-12T00:00:00\", \"y_test\": 208.44999694824216, \"y_pred\": 206.51581757866458, \"label\": \"Actual\", \"predicted_label\": \"Predicted\"}, {\"date\": \"2021-03-15T00:00:00\", \"y_test\": 209.00000000000003, \"y_pred\": 205.2272462738502, \"label\": \"Actual\", \"predicted_label\": \"Predicted\"}, {\"date\": \"2021-03-16T00:00:00\", \"y_test\": 198.55000305175778, \"y_pred\": 199.35261111768253, \"label\": \"Actual\", \"predicted_label\": \"Predicted\"}, {\"date\": \"2021-03-17T00:00:00\", \"y_test\": 203.75, \"y_pred\": 198.52439845816352, \"label\": \"Actual\", \"predicted_label\": \"Predicted\"}, {\"date\": \"2021-03-18T00:00:00\", \"y_test\": 218.6999969482422, \"y_pred\": 203.8538130412765, \"label\": \"Actual\", \"predicted_label\": \"Predicted\"}, {\"date\": \"2021-03-19T00:00:00\", \"y_test\": 191.99999999999997, \"y_pred\": 197.6934302029092, \"label\": \"Actual\", \"predicted_label\": \"Predicted\"}, {\"date\": \"2021-03-22T00:00:00\", \"y_test\": 195.0, \"y_pred\": 195.57797511272278, \"label\": \"Actual\", \"predicted_label\": \"Predicted\"}, {\"date\": \"2021-03-23T00:00:00\", \"y_test\": 192.99999999999997, \"y_pred\": 198.29606027984934, \"label\": \"Actual\", \"predicted_label\": \"Predicted\"}, {\"date\": \"2021-03-24T00:00:00\", \"y_test\": 190.0, \"y_pred\": 194.31343493727132, \"label\": \"Actual\", \"predicted_label\": \"Predicted\"}, {\"date\": \"2021-03-25T00:00:00\", \"y_test\": 185.6999969482422, \"y_pred\": 189.1042409904353, \"label\": \"Actual\", \"predicted_label\": \"Predicted\"}, {\"date\": \"2021-03-26T00:00:00\", \"y_test\": 182.6499938964844, \"y_pred\": 184.8177065925352, \"label\": \"Actual\", \"predicted_label\": \"Predicted\"}, {\"date\": \"2021-03-30T00:00:00\", \"y_test\": 185.9499969482422, \"y_pred\": 185.96638842355932, \"label\": \"Actual\", \"predicted_label\": \"Predicted\"}, {\"date\": \"2021-03-31T00:00:00\", \"y_test\": 191.19999694824216, \"y_pred\": 186.35229853557175, \"label\": \"Actual\", \"predicted_label\": \"Predicted\"}, {\"date\": \"2021-04-01T00:00:00\", \"y_test\": 198.89999389648443, \"y_pred\": 194.29602277434225, \"label\": \"Actual\", \"predicted_label\": \"Predicted\"}, {\"date\": \"2021-04-05T00:00:00\", \"y_test\": 203.8999938964844, \"y_pred\": 201.2851343089297, \"label\": \"Actual\", \"predicted_label\": \"Predicted\"}, {\"date\": \"2021-04-06T00:00:00\", \"y_test\": 201.0, \"y_pred\": 198.26282287496912, \"label\": \"Actual\", \"predicted_label\": \"Predicted\"}, {\"date\": \"2021-04-07T00:00:00\", \"y_test\": 202.0, \"y_pred\": 202.38232520780454, \"label\": \"Actual\", \"predicted_label\": \"Predicted\"}, {\"date\": \"2021-04-08T00:00:00\", \"y_test\": 205.6999969482422, \"y_pred\": 201.65778694660875, \"label\": \"Actual\", \"predicted_label\": \"Predicted\"}, {\"date\": \"2021-04-09T00:00:00\", \"y_test\": 209.99999999999997, \"y_pred\": 208.27065143759089, \"label\": \"Actual\", \"predicted_label\": \"Predicted\"}, {\"date\": \"2021-04-12T00:00:00\", \"y_test\": 196.9499969482422, \"y_pred\": 205.18890971795912, \"label\": \"Actual\", \"predicted_label\": \"Predicted\"}, {\"date\": \"2021-04-13T00:00:00\", \"y_test\": 197.0, \"y_pred\": 194.69527001056957, \"label\": \"Actual\", \"predicted_label\": \"Predicted\"}, {\"date\": \"2021-04-15T00:00:00\", \"y_test\": 206.5500030517578, \"y_pred\": 197.96156117116837, \"label\": \"Actual\", \"predicted_label\": \"Predicted\"}, {\"date\": \"2021-04-16T00:00:00\", \"y_test\": 202.1000061035156, \"y_pred\": 206.6410774254201, \"label\": \"Actual\", \"predicted_label\": \"Predicted\"}, {\"date\": \"2021-04-19T00:00:00\", \"y_test\": 231.5, \"y_pred\": 198.76592871703446, \"label\": \"Actual\", \"predicted_label\": \"Predicted\"}, {\"date\": \"2021-04-20T00:00:00\", \"y_test\": 244.0, \"y_pred\": 233.76610931825653, \"label\": \"Actual\", \"predicted_label\": \"Predicted\"}, {\"date\": \"2021-04-22T00:00:00\", \"y_test\": 237.0, \"y_pred\": 226.13074198675685, \"label\": \"Actual\", \"predicted_label\": \"Predicted\"}, {\"date\": \"2021-04-23T00:00:00\", \"y_test\": 233.6999969482422, \"y_pred\": 233.25509553367482, \"label\": \"Actual\", \"predicted_label\": \"Predicted\"}, {\"date\": \"2021-04-26T00:00:00\", \"y_test\": 232.0, \"y_pred\": 226.01558073088512, \"label\": \"Actual\", \"predicted_label\": \"Predicted\"}, {\"date\": \"2021-04-27T00:00:00\", \"y_test\": 224.64999389648438, \"y_pred\": 228.0463918078481, \"label\": \"Actual\", \"predicted_label\": \"Predicted\"}, {\"date\": \"2021-04-28T00:00:00\", \"y_test\": 228.0, \"y_pred\": 220.91567975964603, \"label\": \"Actual\", \"predicted_label\": \"Predicted\"}, {\"date\": \"2021-04-29T00:00:00\", \"y_test\": 224.8999938964844, \"y_pred\": 225.7412095753483, \"label\": \"Actual\", \"predicted_label\": \"Predicted\"}, {\"date\": \"2021-04-30T00:00:00\", \"y_test\": 218.5500030517578, \"y_pred\": 222.71715553472166, \"label\": \"Actual\", \"predicted_label\": \"Predicted\"}, {\"date\": \"2021-05-03T00:00:00\", \"y_test\": 219.25000000000003, \"y_pred\": 217.79381325132914, \"label\": \"Actual\", \"predicted_label\": \"Predicted\"}, {\"date\": \"2021-05-04T00:00:00\", \"y_test\": 226.5, \"y_pred\": 220.31499889408002, \"label\": \"Actual\", \"predicted_label\": \"Predicted\"}, {\"date\": \"2021-05-05T00:00:00\", \"y_test\": 223.00000000000003, \"y_pred\": 221.78111250926747, \"label\": \"Actual\", \"predicted_label\": \"Predicted\"}, {\"date\": \"2021-05-06T00:00:00\", \"y_test\": 222.1999969482422, \"y_pred\": 220.54320022550388, \"label\": \"Actual\", \"predicted_label\": \"Predicted\"}, {\"date\": \"2021-05-07T00:00:00\", \"y_test\": 221.0, \"y_pred\": 220.54494408944038, \"label\": \"Actual\", \"predicted_label\": \"Predicted\"}, {\"date\": \"2021-05-10T00:00:00\", \"y_test\": 220.0, \"y_pred\": 221.36807167029596, \"label\": \"Actual\", \"predicted_label\": \"Predicted\"}, {\"date\": \"2021-05-11T00:00:00\", \"y_test\": 221.99999999999997, \"y_pred\": 219.41324933450684, \"label\": \"Actual\", \"predicted_label\": \"Predicted\"}, {\"date\": \"2021-05-12T00:00:00\", \"y_test\": 216.0500030517578, \"y_pred\": 217.70312596295085, \"label\": \"Actual\", \"predicted_label\": \"Predicted\"}, {\"date\": \"2021-05-14T00:00:00\", \"y_test\": 215.39999389648443, \"y_pred\": 216.78903117681816, \"label\": \"Actual\", \"predicted_label\": \"Predicted\"}, {\"date\": \"2021-05-17T00:00:00\", \"y_test\": 213.0, \"y_pred\": 209.81329055930487, \"label\": \"Actual\", \"predicted_label\": \"Predicted\"}, {\"date\": \"2021-05-18T00:00:00\", \"y_test\": 218.0, \"y_pred\": 216.699554027321, \"label\": \"Actual\", \"predicted_label\": \"Predicted\"}, {\"date\": \"2021-05-19T00:00:00\", \"y_test\": 217.94999694824216, \"y_pred\": 217.77517878682306, \"label\": \"Actual\", \"predicted_label\": \"Predicted\"}, {\"date\": \"2021-05-20T00:00:00\", \"y_test\": 217.5, \"y_pred\": 218.3927254337092, \"label\": \"Actual\", \"predicted_label\": \"Predicted\"}, {\"date\": \"2021-05-21T00:00:00\", \"y_test\": 219.3500061035156, \"y_pred\": 218.52087937819726, \"label\": \"Actual\", \"predicted_label\": \"Predicted\"}, {\"date\": \"2021-05-24T00:00:00\", \"y_test\": 226.1499938964844, \"y_pred\": 217.76039437019696, \"label\": \"Actual\", \"predicted_label\": \"Predicted\"}, {\"date\": \"2021-05-25T00:00:00\", \"y_test\": 222.8000030517578, \"y_pred\": 220.5461770208586, \"label\": \"Actual\", \"predicted_label\": \"Predicted\"}, {\"date\": \"2021-05-26T00:00:00\", \"y_test\": 218.00000000000003, \"y_pred\": 219.74427996067607, \"label\": \"Actual\", \"predicted_label\": \"Predicted\"}, {\"date\": \"2021-05-27T00:00:00\", \"y_test\": 214.75, \"y_pred\": 218.31041759283616, \"label\": \"Actual\", \"predicted_label\": \"Predicted\"}, {\"date\": \"2021-05-28T00:00:00\", \"y_test\": 215.00000000000003, \"y_pred\": 213.32437212632016, \"label\": \"Actual\", \"predicted_label\": \"Predicted\"}, {\"date\": \"2021-05-31T00:00:00\", \"y_test\": 212.6000061035156, \"y_pred\": 212.51201164594428, \"label\": \"Actual\", \"predicted_label\": \"Predicted\"}, {\"date\": \"2021-06-01T00:00:00\", \"y_test\": 210.3000030517578, \"y_pred\": 211.74909890696802, \"label\": \"Actual\", \"predicted_label\": \"Predicted\"}, {\"date\": \"2021-06-02T00:00:00\", \"y_test\": 207.89999389648438, \"y_pred\": 208.90418440132666, \"label\": \"Actual\", \"predicted_label\": \"Predicted\"}, {\"date\": \"2021-06-03T00:00:00\", \"y_test\": 213.5, \"y_pred\": 207.45599829530855, \"label\": \"Actual\", \"predicted_label\": \"Predicted\"}, {\"date\": \"2021-06-04T00:00:00\", \"y_test\": 215.25, \"y_pred\": 214.28447242560628, \"label\": \"Actual\", \"predicted_label\": \"Predicted\"}, {\"date\": \"2021-06-07T00:00:00\", \"y_test\": 217.00000000000003, \"y_pred\": 216.26890002607436, \"label\": \"Actual\", \"predicted_label\": \"Predicted\"}, {\"date\": \"2021-06-08T00:00:00\", \"y_test\": 216.3000030517578, \"y_pred\": 217.42114372759414, \"label\": \"Actual\", \"predicted_label\": \"Predicted\"}, {\"date\": \"2021-06-09T00:00:00\", \"y_test\": 220.0, \"y_pred\": 217.4745264607407, \"label\": \"Actual\", \"predicted_label\": \"Predicted\"}, {\"date\": \"2021-06-10T00:00:00\", \"y_test\": 216.5500030517578, \"y_pred\": 217.6610095337765, \"label\": \"Actual\", \"predicted_label\": \"Predicted\"}, {\"date\": \"2021-06-11T00:00:00\", \"y_test\": 217.99999999999997, \"y_pred\": 217.72569176221725, \"label\": \"Actual\", \"predicted_label\": \"Predicted\"}, {\"date\": \"2021-06-14T00:00:00\", \"y_test\": 215.64999389648443, \"y_pred\": 217.0341822171196, \"label\": \"Actual\", \"predicted_label\": \"Predicted\"}, {\"date\": \"2021-06-15T00:00:00\", \"y_test\": 217.30000305175778, \"y_pred\": 214.10367722448788, \"label\": \"Actual\", \"predicted_label\": \"Predicted\"}, {\"date\": \"2021-06-16T00:00:00\", \"y_test\": 219.3000030517578, \"y_pred\": 217.3689281083061, \"label\": \"Actual\", \"predicted_label\": \"Predicted\"}, {\"date\": \"2021-06-17T00:00:00\", \"y_test\": 214.25, \"y_pred\": 213.18080552812293, \"label\": \"Actual\", \"predicted_label\": \"Predicted\"}, {\"date\": \"2021-06-18T00:00:00\", \"y_test\": 216.75, \"y_pred\": 213.56873061785768, \"label\": \"Actual\", \"predicted_label\": \"Predicted\"}, {\"date\": \"2021-06-21T00:00:00\", \"y_test\": 210.0, \"y_pred\": 213.039517106448, \"label\": \"Actual\", \"predicted_label\": \"Predicted\"}, {\"date\": \"2021-06-22T00:00:00\", \"y_test\": 215.35000610351562, \"y_pred\": 212.31340369612357, \"label\": \"Actual\", \"predicted_label\": \"Predicted\"}, {\"date\": \"2021-06-23T00:00:00\", \"y_test\": 221.1499938964844, \"y_pred\": 216.24388851510648, \"label\": \"Actual\", \"predicted_label\": \"Predicted\"}, {\"date\": \"2021-06-24T00:00:00\", \"y_test\": 220.00000000000003, \"y_pred\": 217.91998146121972, \"label\": \"Actual\", \"predicted_label\": \"Predicted\"}, {\"date\": \"2021-06-25T00:00:00\", \"y_test\": 215.75000000000003, \"y_pred\": 215.097553560672, \"label\": \"Actual\", \"predicted_label\": \"Predicted\"}, {\"date\": \"2021-06-28T00:00:00\", \"y_test\": 216.9499969482422, \"y_pred\": 215.12879795658608, \"label\": \"Actual\", \"predicted_label\": \"Predicted\"}, {\"date\": \"2021-06-29T00:00:00\", \"y_test\": 212.55000305175778, \"y_pred\": 213.8405777895745, \"label\": \"Actual\", \"predicted_label\": \"Predicted\"}, {\"date\": \"2021-06-30T00:00:00\", \"y_test\": 212.3500061035156, \"y_pred\": 213.1357713756624, \"label\": \"Actual\", \"predicted_label\": \"Predicted\"}, {\"date\": \"2021-07-01T00:00:00\", \"y_test\": 209.00000000000003, \"y_pred\": 210.36205787137726, \"label\": \"Actual\", \"predicted_label\": \"Predicted\"}, {\"date\": \"2021-07-02T00:00:00\", \"y_test\": 214.0, \"y_pred\": 211.22302562619026, \"label\": \"Actual\", \"predicted_label\": \"Predicted\"}, {\"date\": \"2021-07-05T00:00:00\", \"y_test\": 217.0, \"y_pred\": 213.34596134530574, \"label\": \"Actual\", \"predicted_label\": \"Predicted\"}, {\"date\": \"2021-07-06T00:00:00\", \"y_test\": 220.99999999999997, \"y_pred\": 218.15389758704808, \"label\": \"Actual\", \"predicted_label\": \"Predicted\"}, {\"date\": \"2021-07-07T00:00:00\", \"y_test\": 217.6999969482422, \"y_pred\": 215.2795668458573, \"label\": \"Actual\", \"predicted_label\": \"Predicted\"}, {\"date\": \"2021-07-08T00:00:00\", \"y_test\": 219.8000030517578, \"y_pred\": 218.29790290390602, \"label\": \"Actual\", \"predicted_label\": \"Predicted\"}, {\"date\": \"2021-07-09T00:00:00\", \"y_test\": 218.1000061035156, \"y_pred\": 215.1349187878713, \"label\": \"Actual\", \"predicted_label\": \"Predicted\"}, {\"date\": \"2021-07-12T00:00:00\", \"y_test\": 225.0, \"y_pred\": 216.5836380846587, \"label\": \"Actual\", \"predicted_label\": \"Predicted\"}, {\"date\": \"2021-07-13T00:00:00\", \"y_test\": 224.5500030517578, \"y_pred\": 224.5049288125141, \"label\": \"Actual\", \"predicted_label\": \"Predicted\"}, {\"date\": \"2021-07-14T00:00:00\", \"y_test\": 222.3000030517578, \"y_pred\": 221.33771713684712, \"label\": \"Actual\", \"predicted_label\": \"Predicted\"}, {\"date\": \"2021-07-15T00:00:00\", \"y_test\": 219.8000030517578, \"y_pred\": 221.44373741222668, \"label\": \"Actual\", \"predicted_label\": \"Predicted\"}, {\"date\": \"2021-07-16T00:00:00\", \"y_test\": 214.5500030517578, \"y_pred\": 215.34925906280023, \"label\": \"Actual\", \"predicted_label\": \"Predicted\"}, {\"date\": \"2021-07-19T00:00:00\", \"y_test\": 213.5, \"y_pred\": 213.17894139506487, \"label\": \"Actual\", \"predicted_label\": \"Predicted\"}, {\"date\": \"2021-07-20T00:00:00\", \"y_test\": 210.0, \"y_pred\": 212.78512362712536, \"label\": \"Actual\", \"predicted_label\": \"Predicted\"}, {\"date\": \"2021-07-22T00:00:00\", \"y_test\": 210.55000305175778, \"y_pred\": 210.05434707973325, \"label\": \"Actual\", \"predicted_label\": \"Predicted\"}, {\"date\": \"2021-07-23T00:00:00\", \"y_test\": 209.5, \"y_pred\": 210.1253833285582, \"label\": \"Actual\", \"predicted_label\": \"Predicted\"}, {\"date\": \"2021-07-26T00:00:00\", \"y_test\": 213.9499969482422, \"y_pred\": 208.82492213175408, \"label\": \"Actual\", \"predicted_label\": \"Predicted\"}, {\"date\": \"2021-07-27T00:00:00\", \"y_test\": 215.89999389648438, \"y_pred\": 215.21647993800772, \"label\": \"Actual\", \"predicted_label\": \"Predicted\"}, {\"date\": \"2021-07-28T00:00:00\", \"y_test\": 220.50000000000003, \"y_pred\": 213.23155497932476, \"label\": \"Actual\", \"predicted_label\": \"Predicted\"}, {\"date\": \"2021-07-29T00:00:00\", \"y_test\": 220.6499938964844, \"y_pred\": 218.53628605955936, \"label\": \"Actual\", \"predicted_label\": \"Predicted\"}, {\"date\": \"2021-07-30T00:00:00\", \"y_test\": 228.1999969482422, \"y_pred\": 220.95827544780437, \"label\": \"Actual\", \"predicted_label\": \"Predicted\"}, {\"date\": \"2021-08-02T00:00:00\", \"y_test\": 226.3000030517578, \"y_pred\": 222.54456669119944, \"label\": \"Actual\", \"predicted_label\": \"Predicted\"}, {\"date\": \"2021-08-03T00:00:00\", \"y_test\": 228.35000610351557, \"y_pred\": 228.96350364026637, \"label\": \"Actual\", \"predicted_label\": \"Predicted\"}, {\"date\": \"2021-08-04T00:00:00\", \"y_test\": 214.4499969482422, \"y_pred\": 216.4029719815714, \"label\": \"Actual\", \"predicted_label\": \"Predicted\"}, {\"date\": \"2021-08-05T00:00:00\", \"y_test\": 216.5, \"y_pred\": 206.0608209090404, \"label\": \"Actual\", \"predicted_label\": \"Predicted\"}, {\"date\": \"2021-08-06T00:00:00\", \"y_test\": 214.0, \"y_pred\": 213.26415325426126, \"label\": \"Actual\", \"predicted_label\": \"Predicted\"}, {\"date\": \"2021-08-09T00:00:00\", \"y_test\": 210.0, \"y_pred\": 209.0546591864872, \"label\": \"Actual\", \"predicted_label\": \"Predicted\"}, {\"date\": \"2021-08-10T00:00:00\", \"y_test\": 207.1999969482422, \"y_pred\": 209.3913297208147, \"label\": \"Actual\", \"predicted_label\": \"Predicted\"}, {\"date\": \"2021-08-11T00:00:00\", \"y_test\": 209.0, \"y_pred\": 203.96711894737555, \"label\": \"Actual\", \"predicted_label\": \"Predicted\"}, {\"date\": \"2021-08-12T00:00:00\", \"y_test\": 212.39999389648443, \"y_pred\": 208.63357570950015, \"label\": \"Actual\", \"predicted_label\": \"Predicted\"}, {\"date\": \"2021-08-13T00:00:00\", \"y_test\": 211.1499938964844, \"y_pred\": 212.79762752374265, \"label\": \"Actual\", \"predicted_label\": \"Predicted\"}, {\"date\": \"2021-08-16T00:00:00\", \"y_test\": 206.4499969482422, \"y_pred\": 209.59144174852136, \"label\": \"Actual\", \"predicted_label\": \"Predicted\"}, {\"date\": \"2021-08-17T00:00:00\", \"y_test\": 207.75, \"y_pred\": 205.43796618924875, \"label\": \"Actual\", \"predicted_label\": \"Predicted\"}, {\"date\": \"2021-08-18T00:00:00\", \"y_test\": 206.00000000000003, \"y_pred\": 208.42251701065197, \"label\": \"Actual\", \"predicted_label\": \"Predicted\"}, {\"date\": \"2021-08-20T00:00:00\", \"y_test\": 204.8500061035156, \"y_pred\": 207.99879519849594, \"label\": \"Actual\", \"predicted_label\": \"Predicted\"}, {\"date\": \"2021-08-23T00:00:00\", \"y_test\": 204.4499969482422, \"y_pred\": 205.37200626817412, \"label\": \"Actual\", \"predicted_label\": \"Predicted\"}, {\"date\": \"2021-08-24T00:00:00\", \"y_test\": 199.44999694824216, \"y_pred\": 200.09955227000185, \"label\": \"Actual\", \"predicted_label\": \"Predicted\"}, {\"date\": \"2021-08-25T00:00:00\", \"y_test\": 200.00000000000003, \"y_pred\": 199.91788677422372, \"label\": \"Actual\", \"predicted_label\": \"Predicted\"}, {\"date\": \"2021-08-26T00:00:00\", \"y_test\": 199.8999938964844, \"y_pred\": 199.56550875707944, \"label\": \"Actual\", \"predicted_label\": \"Predicted\"}, {\"date\": \"2021-08-27T00:00:00\", \"y_test\": 195.80000305175784, \"y_pred\": 196.5949383302087, \"label\": \"Actual\", \"predicted_label\": \"Predicted\"}, {\"date\": \"2021-08-30T00:00:00\", \"y_test\": 196.99999999999997, \"y_pred\": 197.3351271162821, \"label\": \"Actual\", \"predicted_label\": \"Predicted\"}, {\"date\": \"2021-08-31T00:00:00\", \"y_test\": 202.3500061035156, \"y_pred\": 198.91670756586873, \"label\": \"Actual\", \"predicted_label\": \"Predicted\"}, {\"date\": \"2021-09-01T00:00:00\", \"y_test\": 200.1999969482422, \"y_pred\": 200.6657171736234, \"label\": \"Actual\", \"predicted_label\": \"Predicted\"}, {\"date\": \"2021-09-02T00:00:00\", \"y_test\": 202.60000610351562, \"y_pred\": 202.6584474908652, \"label\": \"Actual\", \"predicted_label\": \"Predicted\"}, {\"date\": \"2021-09-03T00:00:00\", \"y_test\": 201.5, \"y_pred\": 200.7953007075339, \"label\": \"Actual\", \"predicted_label\": \"Predicted\"}, {\"date\": \"2021-09-06T00:00:00\", \"y_test\": 200.9499969482422, \"y_pred\": 202.011995532276, \"label\": \"Actual\", \"predicted_label\": \"Predicted\"}, {\"date\": \"2021-09-07T00:00:00\", \"y_test\": 201.89999389648443, \"y_pred\": 200.57004556204794, \"label\": \"Actual\", \"predicted_label\": \"Predicted\"}, {\"date\": \"2021-09-08T00:00:00\", \"y_test\": 209.8999938964844, \"y_pred\": 201.0557065287738, \"label\": \"Actual\", \"predicted_label\": \"Predicted\"}, {\"date\": \"2021-09-09T00:00:00\", \"y_test\": 205.0, \"y_pred\": 206.32117389044626, \"label\": \"Actual\", \"predicted_label\": \"Predicted\"}, {\"date\": \"2021-09-13T00:00:00\", \"y_test\": 202.25, \"y_pred\": 204.17522536014124, \"label\": \"Actual\", \"predicted_label\": \"Predicted\"}, {\"date\": \"2021-09-14T00:00:00\", \"y_test\": 201.9499969482422, \"y_pred\": 201.77449171041994, \"label\": \"Actual\", \"predicted_label\": \"Predicted\"}, {\"date\": \"2021-09-15T00:00:00\", \"y_test\": 216.0, \"y_pred\": 201.40310755222112, \"label\": \"Actual\", \"predicted_label\": \"Predicted\"}, {\"date\": \"2021-09-16T00:00:00\", \"y_test\": 217.55000305175784, \"y_pred\": 219.74325114583874, \"label\": \"Actual\", \"predicted_label\": \"Predicted\"}, {\"date\": \"2021-09-17T00:00:00\", \"y_test\": 214.49999999999997, \"y_pred\": 215.62016148544276, \"label\": \"Actual\", \"predicted_label\": \"Predicted\"}, {\"date\": \"2021-09-20T00:00:00\", \"y_test\": 210.6000061035156, \"y_pred\": 215.9521811890661, \"label\": \"Actual\", \"predicted_label\": \"Predicted\"}, {\"date\": \"2021-09-21T00:00:00\", \"y_test\": 208.8999938964844, \"y_pred\": 205.77916036040764, \"label\": \"Actual\", \"predicted_label\": \"Predicted\"}, {\"date\": \"2021-09-22T00:00:00\", \"y_test\": 211.75, \"y_pred\": 207.00477362376458, \"label\": \"Actual\", \"predicted_label\": \"Predicted\"}, {\"date\": \"2021-09-23T00:00:00\", \"y_test\": 219.9499969482422, \"y_pred\": 211.7277397339358, \"label\": \"Actual\", \"predicted_label\": \"Predicted\"}, {\"date\": \"2021-09-24T00:00:00\", \"y_test\": 218.1499938964844, \"y_pred\": 217.811467306898, \"label\": \"Actual\", \"predicted_label\": \"Predicted\"}, {\"date\": \"2021-09-27T00:00:00\", \"y_test\": 211.0, \"y_pred\": 209.5197616103716, \"label\": \"Actual\", \"predicted_label\": \"Predicted\"}, {\"date\": \"2021-09-28T00:00:00\", \"y_test\": 208.25000000000003, \"y_pred\": 210.86883271917955, \"label\": \"Actual\", \"predicted_label\": \"Predicted\"}, {\"date\": \"2021-09-29T00:00:00\", \"y_test\": 207.5500030517578, \"y_pred\": 205.51791578993354, \"label\": \"Actual\", \"predicted_label\": \"Predicted\"}, {\"date\": \"2021-09-30T00:00:00\", \"y_test\": 206.3500061035156, \"y_pred\": 206.11004318713088, \"label\": \"Actual\", \"predicted_label\": \"Predicted\"}, {\"date\": \"2021-10-01T00:00:00\", \"y_test\": 204.8500061035156, \"y_pred\": 208.1745435511023, \"label\": \"Actual\", \"predicted_label\": \"Predicted\"}, {\"date\": \"2021-10-04T00:00:00\", \"y_test\": 206.25, \"y_pred\": 205.57618323154915, \"label\": \"Actual\", \"predicted_label\": \"Predicted\"}, {\"date\": \"2021-10-05T00:00:00\", \"y_test\": 208.3500061035156, \"y_pred\": 208.80204577784187, \"label\": \"Actual\", \"predicted_label\": \"Predicted\"}, {\"date\": \"2021-10-06T00:00:00\", \"y_test\": 207.0, \"y_pred\": 207.9302705743224, \"label\": \"Actual\", \"predicted_label\": \"Predicted\"}, {\"date\": \"2021-10-07T00:00:00\", \"y_test\": 205.0, \"y_pred\": 205.94784015709186, \"label\": \"Actual\", \"predicted_label\": \"Predicted\"}, {\"date\": \"2021-10-08T00:00:00\", \"y_test\": 203.39999389648438, \"y_pred\": 204.93607016768536, \"label\": \"Actual\", \"predicted_label\": \"Predicted\"}, {\"date\": \"2021-10-11T00:00:00\", \"y_test\": 205.94999694824222, \"y_pred\": 203.9295588811546, \"label\": \"Actual\", \"predicted_label\": \"Predicted\"}, {\"date\": \"2021-10-12T00:00:00\", \"y_test\": 204.1000061035156, \"y_pred\": 205.98535895383483, \"label\": \"Actual\", \"predicted_label\": \"Predicted\"}, {\"date\": \"2021-10-13T00:00:00\", \"y_test\": 205.80000305175784, \"y_pred\": 204.6662287441546, \"label\": \"Actual\", \"predicted_label\": \"Predicted\"}, {\"date\": \"2021-10-14T00:00:00\", \"y_test\": 207.35000610351557, \"y_pred\": 207.42171289541724, \"label\": \"Actual\", \"predicted_label\": \"Predicted\"}, {\"date\": \"2021-10-18T00:00:00\", \"y_test\": 207.19999694824222, \"y_pred\": 207.61655220448395, \"label\": \"Actual\", \"predicted_label\": \"Predicted\"}, {\"date\": \"2021-10-19T00:00:00\", \"y_test\": 204.1000061035156, \"y_pred\": 205.54446953064107, \"label\": \"Actual\", \"predicted_label\": \"Predicted\"}, {\"date\": \"2021-10-20T00:00:00\", \"y_test\": 202.8999938964844, \"y_pred\": 206.31506061434519, \"label\": \"Actual\", \"predicted_label\": \"Predicted\"}, {\"date\": \"2021-10-21T00:00:00\", \"y_test\": 202.24999999999997, \"y_pred\": 203.87810944342695, \"label\": \"Actual\", \"predicted_label\": \"Predicted\"}, {\"date\": \"2021-10-22T00:00:00\", \"y_test\": 203.9499969482422, \"y_pred\": 203.12708284329108, \"label\": \"Actual\", \"predicted_label\": \"Predicted\"}, {\"date\": \"2021-10-25T00:00:00\", \"y_test\": 204.8500061035156, \"y_pred\": 202.6841290288854, \"label\": \"Actual\", \"predicted_label\": \"Predicted\"}, {\"date\": \"2021-10-26T00:00:00\", \"y_test\": 199.1499938964844, \"y_pred\": 199.95171673433364, \"label\": \"Actual\", \"predicted_label\": \"Predicted\"}, {\"date\": \"2021-10-27T00:00:00\", \"y_test\": 201.6999969482422, \"y_pred\": 198.68485919665574, \"label\": \"Actual\", \"predicted_label\": \"Predicted\"}, {\"date\": \"2021-10-28T00:00:00\", \"y_test\": 200.8500061035156, \"y_pred\": 202.99297886507938, \"label\": \"Actual\", \"predicted_label\": \"Predicted\"}, {\"date\": \"2021-10-29T00:00:00\", \"y_test\": 200.55000305175784, \"y_pred\": 201.85451956210844, \"label\": \"Actual\", \"predicted_label\": \"Predicted\"}, {\"date\": \"2021-11-01T00:00:00\", \"y_test\": 201.50000000000003, \"y_pred\": 201.33032312289438, \"label\": \"Actual\", \"predicted_label\": \"Predicted\"}, {\"date\": \"2021-11-02T00:00:00\", \"y_test\": 201.64999389648443, \"y_pred\": 202.8541991783754, \"label\": \"Actual\", \"predicted_label\": \"Predicted\"}, {\"date\": \"2021-11-03T00:00:00\", \"y_test\": 203.25000000000003, \"y_pred\": 203.3867250354089, \"label\": \"Actual\", \"predicted_label\": \"Predicted\"}, {\"date\": \"2021-11-04T00:00:00\", \"y_test\": 204.94999694824216, \"y_pred\": 202.53183098496677, \"label\": \"Actual\", \"predicted_label\": \"Predicted\"}, {\"date\": \"2021-11-08T00:00:00\", \"y_test\": 205.6000061035156, \"y_pred\": 202.97694871796094, \"label\": \"Actual\", \"predicted_label\": \"Predicted\"}, {\"date\": \"2021-11-09T00:00:00\", \"y_test\": 228.0, \"y_pred\": 206.89311832959515, \"label\": \"Actual\", \"predicted_label\": \"Predicted\"}, {\"date\": \"2021-11-10T00:00:00\", \"y_test\": 223.00000000000003, \"y_pred\": 225.03421033709287, \"label\": \"Actual\", \"predicted_label\": \"Predicted\"}, {\"date\": \"2021-11-11T00:00:00\", \"y_test\": 222.3500061035156, \"y_pred\": 223.85470882508488, \"label\": \"Actual\", \"predicted_label\": \"Predicted\"}, {\"date\": \"2021-11-12T00:00:00\", \"y_test\": 216.0500030517578, \"y_pred\": 218.13032513244985, \"label\": \"Actual\", \"predicted_label\": \"Predicted\"}, {\"date\": \"2021-11-15T00:00:00\", \"y_test\": 226.0, \"y_pred\": 217.3671442737688, \"label\": \"Actual\", \"predicted_label\": \"Predicted\"}, {\"date\": \"2021-11-16T00:00:00\", \"y_test\": 224.50000000000003, \"y_pred\": 223.93570872860772, \"label\": \"Actual\", \"predicted_label\": \"Predicted\"}, {\"date\": \"2021-11-17T00:00:00\", \"y_test\": 215.3500061035156, \"y_pred\": 218.60849749856177, \"label\": \"Actual\", \"predicted_label\": \"Predicted\"}, {\"date\": \"2021-11-18T00:00:00\", \"y_test\": 215.1499938964844, \"y_pred\": 215.44486660579474, \"label\": \"Actual\", \"predicted_label\": \"Predicted\"}, {\"date\": \"2021-11-22T00:00:00\", \"y_test\": 217.9499969482422, \"y_pred\": 217.07303779520882, \"label\": \"Actual\", \"predicted_label\": \"Predicted\"}, {\"date\": \"2021-11-23T00:00:00\", \"y_test\": 233.6999969482422, \"y_pred\": 216.56754213426294, \"label\": \"Actual\", \"predicted_label\": \"Predicted\"}, {\"date\": \"2021-11-24T00:00:00\", \"y_test\": 273.70001220703125, \"y_pred\": 236.85417765945118, \"label\": \"Actual\", \"predicted_label\": \"Predicted\"}, {\"date\": \"2021-11-25T00:00:00\", \"y_test\": 280.1000061035156, \"y_pred\": 279.53929544886597, \"label\": \"Actual\", \"predicted_label\": \"Predicted\"}, {\"date\": \"2021-11-26T00:00:00\", \"y_test\": 266.6000061035156, \"y_pred\": 272.53353541399906, \"label\": \"Actual\", \"predicted_label\": \"Predicted\"}, {\"date\": \"2021-11-29T00:00:00\", \"y_test\": 279.5, \"y_pred\": 265.2135235495013, \"label\": \"Actual\", \"predicted_label\": \"Predicted\"}, {\"date\": \"2021-11-30T00:00:00\", \"y_test\": 292.45001220703125, \"y_pred\": 278.28044795945914, \"label\": \"Actual\", \"predicted_label\": \"Predicted\"}, {\"date\": \"2021-12-01T00:00:00\", \"y_test\": 282.20001220703125, \"y_pred\": 282.18720590218635, \"label\": \"Actual\", \"predicted_label\": \"Predicted\"}, {\"date\": \"2021-12-02T00:00:00\", \"y_test\": 282.5, \"y_pred\": 287.0820009896182, \"label\": \"Actual\", \"predicted_label\": \"Predicted\"}, {\"date\": \"2021-12-03T00:00:00\", \"y_test\": 299.7000122070313, \"y_pred\": 282.69771580945206, \"label\": \"Actual\", \"predicted_label\": \"Predicted\"}, {\"date\": \"2021-12-06T00:00:00\", \"y_test\": 321.0, \"y_pred\": 306.6929728347406, \"label\": \"Actual\", \"predicted_label\": \"Predicted\"}, {\"date\": \"2021-12-07T00:00:00\", \"y_test\": 315.0, \"y_pred\": 313.2488705235135, \"label\": \"Actual\", \"predicted_label\": \"Predicted\"}, {\"date\": \"2021-12-08T00:00:00\", \"y_test\": 311.0, \"y_pred\": 317.4769590856453, \"label\": \"Actual\", \"predicted_label\": \"Predicted\"}, {\"date\": \"2021-12-09T00:00:00\", \"y_test\": 311.1000061035156, \"y_pred\": 312.1609068614699, \"label\": \"Actual\", \"predicted_label\": \"Predicted\"}, {\"date\": \"2021-12-10T00:00:00\", \"y_test\": 315.3500061035156, \"y_pred\": 314.5150025196993, \"label\": \"Actual\", \"predicted_label\": \"Predicted\"}, {\"date\": \"2021-12-13T00:00:00\", \"y_test\": 315.3500061035157, \"y_pred\": 315.20148265569014, \"label\": \"Actual\", \"predicted_label\": \"Predicted\"}, {\"date\": \"2021-12-14T00:00:00\", \"y_test\": 315.0, \"y_pred\": 315.9333089304089, \"label\": \"Actual\", \"predicted_label\": \"Predicted\"}, {\"date\": \"2021-12-15T00:00:00\", \"y_test\": 326.1000061035156, \"y_pred\": 316.52206033332044, \"label\": \"Actual\", \"predicted_label\": \"Predicted\"}, {\"date\": \"2021-12-16T00:00:00\", \"y_test\": 346.99999999999994, \"y_pred\": 329.34733591466403, \"label\": \"Actual\", \"predicted_label\": \"Predicted\"}, {\"date\": \"2021-12-17T00:00:00\", \"y_test\": 309.6000061035156, \"y_pred\": 308.3070310161601, \"label\": \"Actual\", \"predicted_label\": \"Predicted\"}, {\"date\": \"2021-12-20T00:00:00\", \"y_test\": 283.29998779296875, \"y_pred\": 298.4522129564943, \"label\": \"Actual\", \"predicted_label\": \"Predicted\"}, {\"date\": \"2021-12-21T00:00:00\", \"y_test\": 289.0, \"y_pred\": 279.6219557061553, \"label\": \"Actual\", \"predicted_label\": \"Predicted\"}, {\"date\": \"2021-12-22T00:00:00\", \"y_test\": 287.5, \"y_pred\": 286.5542136785252, \"label\": \"Actual\", \"predicted_label\": \"Predicted\"}, {\"date\": \"2021-12-23T00:00:00\", \"y_test\": 307.95001220703125, \"y_pred\": 289.79593923544894, \"label\": \"Actual\", \"predicted_label\": \"Predicted\"}, {\"date\": \"2021-12-24T00:00:00\", \"y_test\": 301.20001220703125, \"y_pred\": 302.2627900682238, \"label\": \"Actual\", \"predicted_label\": \"Predicted\"}, {\"date\": \"2021-12-27T00:00:00\", \"y_test\": 289.25, \"y_pred\": 293.1536279083967, \"label\": \"Actual\", \"predicted_label\": \"Predicted\"}, {\"date\": \"2021-12-28T00:00:00\", \"y_test\": 287.8500061035156, \"y_pred\": 290.37142585876563, \"label\": \"Actual\", \"predicted_label\": \"Predicted\"}, {\"date\": \"2021-12-29T00:00:00\", \"y_test\": 303.29998779296875, \"y_pred\": 290.10133934972765, \"label\": \"Actual\", \"predicted_label\": \"Predicted\"}, {\"date\": \"2021-12-30T00:00:00\", \"y_test\": 304.0, \"y_pred\": 303.53363330088257, \"label\": \"Actual\", \"predicted_label\": \"Predicted\"}, {\"date\": \"2021-12-31T00:00:00\", \"y_test\": 302.6000061035157, \"y_pred\": 300.5906419669427, \"label\": \"Actual\", \"predicted_label\": \"Predicted\"}, {\"date\": \"2022-01-03T00:00:00\", \"y_test\": 314.3500061035156, \"y_pred\": 304.2065798222376, \"label\": \"Actual\", \"predicted_label\": \"Predicted\"}, {\"date\": \"2022-01-04T00:00:00\", \"y_test\": 314.95001220703125, \"y_pred\": 310.71248537345997, \"label\": \"Actual\", \"predicted_label\": \"Predicted\"}, {\"date\": \"2022-01-05T00:00:00\", \"y_test\": 319.70001220703125, \"y_pred\": 314.0551343230479, \"label\": \"Actual\", \"predicted_label\": \"Predicted\"}, {\"date\": \"2022-01-06T00:00:00\", \"y_test\": 340.29998779296875, \"y_pred\": 323.6951713726999, \"label\": \"Actual\", \"predicted_label\": \"Predicted\"}, {\"date\": \"2022-01-07T00:00:00\", \"y_test\": 340.1499938964844, \"y_pred\": 346.14065306707516, \"label\": \"Actual\", \"predicted_label\": \"Predicted\"}, {\"date\": \"2022-01-10T00:00:00\", \"y_test\": 372.3500061035156, \"y_pred\": 331.59916176513866, \"label\": \"Actual\", \"predicted_label\": \"Predicted\"}, {\"date\": \"2022-01-11T00:00:00\", \"y_test\": 363.6499938964844, \"y_pred\": 376.4211780332352, \"label\": \"Actual\", \"predicted_label\": \"Predicted\"}, {\"date\": \"2022-01-12T00:00:00\", \"y_test\": 362.3500061035156, \"y_pred\": 361.67417589397803, \"label\": \"Actual\", \"predicted_label\": \"Predicted\"}, {\"date\": \"2022-01-13T00:00:00\", \"y_test\": 362.7999877929688, \"y_pred\": 365.2765346583264, \"label\": \"Actual\", \"predicted_label\": \"Predicted\"}, {\"date\": \"2022-01-14T00:00:00\", \"y_test\": 361.0, \"y_pred\": 365.38709216079627, \"label\": \"Actual\", \"predicted_label\": \"Predicted\"}, {\"date\": \"2022-01-17T00:00:00\", \"y_test\": 361.00000000000006, \"y_pred\": 364.78570725998, \"label\": \"Actual\", \"predicted_label\": \"Predicted\"}, {\"date\": \"2022-01-18T00:00:00\", \"y_test\": 360.5, \"y_pred\": 364.12895941954923, \"label\": \"Actual\", \"predicted_label\": \"Predicted\"}, {\"date\": \"2022-01-19T00:00:00\", \"y_test\": 382.4500122070313, \"y_pred\": 357.5651443029236, \"label\": \"Actual\", \"predicted_label\": \"Predicted\"}, {\"date\": \"2022-01-20T00:00:00\", \"y_test\": 379.8999938964844, \"y_pred\": 383.51349268792706, \"label\": \"Actual\", \"predicted_label\": \"Predicted\"}, {\"date\": \"2022-01-21T00:00:00\", \"y_test\": 374.00000000000006, \"y_pred\": 378.8058050172375, \"label\": \"Actual\", \"predicted_label\": \"Predicted\"}, {\"date\": \"2022-01-24T00:00:00\", \"y_test\": 372.9500122070313, \"y_pred\": 374.0272988429181, \"label\": \"Actual\", \"predicted_label\": \"Predicted\"}, {\"date\": \"2022-01-25T00:00:00\", \"y_test\": 328.54998779296875, \"y_pred\": 340.496543084089, \"label\": \"Actual\", \"predicted_label\": \"Predicted\"}, {\"date\": \"2022-01-27T00:00:00\", \"y_test\": 336.04998779296875, \"y_pred\": 325.9151332218439, \"label\": \"Actual\", \"predicted_label\": \"Predicted\"}, {\"date\": \"2022-01-28T00:00:00\", \"y_test\": 331.79998779296875, \"y_pred\": 326.0509257825707, \"label\": \"Actual\", \"predicted_label\": \"Predicted\"}, {\"date\": \"2022-01-31T00:00:00\", \"y_test\": 338.8999938964844, \"y_pred\": 319.4435530265666, \"label\": \"Actual\", \"predicted_label\": \"Predicted\"}, {\"date\": \"2022-02-01T00:00:00\", \"y_test\": 341.99999999999994, \"y_pred\": 338.05373941282363, \"label\": \"Actual\", \"predicted_label\": \"Predicted\"}, {\"date\": \"2022-02-02T00:00:00\", \"y_test\": 388.8999938964843, \"y_pred\": 347.8322265032338, \"label\": \"Actual\", \"predicted_label\": \"Predicted\"}, {\"date\": \"2022-02-03T00:00:00\", \"y_test\": 419.35000610351557, \"y_pred\": 393.13409420754, \"label\": \"Actual\", \"predicted_label\": \"Predicted\"}, {\"date\": \"2022-02-04T00:00:00\", \"y_test\": 417.70001220703125, \"y_pred\": 414.92671556751674, \"label\": \"Actual\", \"predicted_label\": \"Predicted\"}, {\"date\": \"2022-02-07T00:00:00\", \"y_test\": 421.20001220703125, \"y_pred\": 426.385086326299, \"label\": \"Actual\", \"predicted_label\": \"Predicted\"}, {\"date\": \"2022-02-08T00:00:00\", \"y_test\": 422.70001220703125, \"y_pred\": 427.9803046550892, \"label\": \"Actual\", \"predicted_label\": \"Predicted\"}, {\"date\": \"2022-02-09T00:00:00\", \"y_test\": 415.89999389648443, \"y_pred\": 412.9822319213731, \"label\": \"Actual\", \"predicted_label\": \"Predicted\"}, {\"date\": \"2022-02-10T00:00:00\", \"y_test\": 400.0, \"y_pred\": 407.56224434741335, \"label\": \"Actual\", \"predicted_label\": \"Predicted\"}, {\"date\": \"2022-02-11T00:00:00\", \"y_test\": 405.0, \"y_pred\": 397.09359103637235, \"label\": \"Actual\", \"predicted_label\": \"Predicted\"}, {\"date\": \"2022-02-15T00:00:00\", \"y_test\": 398.79998779296886, \"y_pred\": 402.8391527280187, \"label\": \"Actual\", \"predicted_label\": \"Predicted\"}, {\"date\": \"2022-02-16T00:00:00\", \"y_test\": 384.2999877929688, \"y_pred\": 378.943783318806, \"label\": \"Actual\", \"predicted_label\": \"Predicted\"}, {\"date\": \"2022-02-17T00:00:00\", \"y_test\": 378.9500122070313, \"y_pred\": 377.854312920518, \"label\": \"Actual\", \"predicted_label\": \"Predicted\"}, {\"date\": \"2022-02-18T00:00:00\", \"y_test\": 403.7999877929688, \"y_pred\": 379.9459776089097, \"label\": \"Actual\", \"predicted_label\": \"Predicted\"}, {\"date\": \"2022-02-21T00:00:00\", \"y_test\": 399.0, \"y_pred\": 401.0476854571567, \"label\": \"Actual\", \"predicted_label\": \"Predicted\"}, {\"date\": \"2022-02-22T00:00:00\", \"y_test\": 336.54998779296875, \"y_pred\": 351.99293350317043, \"label\": \"Actual\", \"predicted_label\": \"Predicted\"}, {\"date\": \"2022-02-23T00:00:00\", \"y_test\": 364.5499877929688, \"y_pred\": 333.21029141753365, \"label\": \"Actual\", \"predicted_label\": \"Predicted\"}, {\"date\": \"2022-02-24T00:00:00\", \"y_test\": 368.7000122070313, \"y_pred\": 359.31051541397215, \"label\": \"Actual\", \"predicted_label\": \"Predicted\"}, {\"date\": \"2022-02-25T00:00:00\", \"y_test\": 354.0, \"y_pred\": 335.166394193941, \"label\": \"Actual\", \"predicted_label\": \"Predicted\"}, {\"date\": \"2022-02-28T00:00:00\", \"y_test\": 336.6499938964844, \"y_pred\": 336.49447284692076, \"label\": \"Actual\", \"predicted_label\": \"Predicted\"}, {\"date\": \"2022-03-02T00:00:00\", \"y_test\": 355.8999938964844, \"y_pred\": 338.29329681070493, \"label\": \"Actual\", \"predicted_label\": \"Predicted\"}, {\"date\": \"2022-03-03T00:00:00\", \"y_test\": 363.9500122070313, \"y_pred\": 360.082568759079, \"label\": \"Actual\", \"predicted_label\": \"Predicted\"}, {\"date\": \"2022-03-04T00:00:00\", \"y_test\": 354.0, \"y_pred\": 351.88814030538737, \"label\": \"Actual\", \"predicted_label\": \"Predicted\"}, {\"date\": \"2022-03-07T00:00:00\", \"y_test\": 343.04998779296875, \"y_pred\": 358.9061566825084, \"label\": \"Actual\", \"predicted_label\": \"Predicted\"}, {\"date\": \"2022-03-08T00:00:00\", \"y_test\": 333.1000061035156, \"y_pred\": 336.9505355630456, \"label\": \"Actual\", \"predicted_label\": \"Predicted\"}, {\"date\": \"2022-03-09T00:00:00\", \"y_test\": 328.0, \"y_pred\": 325.55072848649274, \"label\": \"Actual\", \"predicted_label\": \"Predicted\"}, {\"date\": \"2022-03-10T00:00:00\", \"y_test\": 332.2999877929688, \"y_pred\": 329.96844052743427, \"label\": \"Actual\", \"predicted_label\": \"Predicted\"}, {\"date\": \"2022-03-11T00:00:00\", \"y_test\": 312.3999938964844, \"y_pred\": 321.9524198612697, \"label\": \"Actual\", \"predicted_label\": \"Predicted\"}, {\"date\": \"2022-03-14T00:00:00\", \"y_test\": 312.79998779296875, \"y_pred\": 312.8101333343857, \"label\": \"Actual\", \"predicted_label\": \"Predicted\"}, {\"date\": \"2022-03-15T00:00:00\", \"y_test\": 316.3999938964844, \"y_pred\": 306.62602469627495, \"label\": \"Actual\", \"predicted_label\": \"Predicted\"}, {\"date\": \"2022-03-16T00:00:00\", \"y_test\": 310.54998779296875, \"y_pred\": 313.04911211620043, \"label\": \"Actual\", \"predicted_label\": \"Predicted\"}, {\"date\": \"2022-03-17T00:00:00\", \"y_test\": 305.8999938964844, \"y_pred\": 310.17197894209454, \"label\": \"Actual\", \"predicted_label\": \"Predicted\"}, {\"date\": \"2022-03-21T00:00:00\", \"y_test\": 305.2000122070313, \"y_pred\": 306.7838964468856, \"label\": \"Actual\", \"predicted_label\": \"Predicted\"}, {\"date\": \"2022-03-22T00:00:00\", \"y_test\": 295.3500061035157, \"y_pred\": 298.6282014791487, \"label\": \"Actual\", \"predicted_label\": \"Predicted\"}, {\"date\": \"2022-03-23T00:00:00\", \"y_test\": 300.5, \"y_pred\": 296.0765264581529, \"label\": \"Actual\", \"predicted_label\": \"Predicted\"}, {\"date\": \"2022-03-24T00:00:00\", \"y_test\": 289.5, \"y_pred\": 298.310259342, \"label\": \"Actual\", \"predicted_label\": \"Predicted\"}, {\"date\": \"2022-03-25T00:00:00\", \"y_test\": 287.29998779296875, \"y_pred\": 291.39672782068396, \"label\": \"Actual\", \"predicted_label\": \"Predicted\"}, {\"date\": \"2022-03-28T00:00:00\", \"y_test\": 278.6499938964843, \"y_pred\": 281.9580531740793, \"label\": \"Actual\", \"predicted_label\": \"Predicted\"}, {\"date\": \"2022-03-29T00:00:00\", \"y_test\": 287.0, \"y_pred\": 279.73884692623983, \"label\": \"Actual\", \"predicted_label\": \"Predicted\"}, {\"date\": \"2022-03-30T00:00:00\", \"y_test\": 290.79998779296875, \"y_pred\": 292.646282385174, \"label\": \"Actual\", \"predicted_label\": \"Predicted\"}, {\"date\": \"2022-03-31T00:00:00\", \"y_test\": 285.1499938964843, \"y_pred\": 284.3471533576833, \"label\": \"Actual\", \"predicted_label\": \"Predicted\"}, {\"date\": \"2022-04-01T00:00:00\", \"y_test\": 297.54998779296875, \"y_pred\": 285.0122207913755, \"label\": \"Actual\", \"predicted_label\": \"Predicted\"}, {\"date\": \"2022-04-04T00:00:00\", \"y_test\": 314.0, \"y_pred\": 301.7716384866564, \"label\": \"Actual\", \"predicted_label\": \"Predicted\"}, {\"date\": \"2022-04-05T00:00:00\", \"y_test\": 326.75, \"y_pred\": 316.9915010239016, \"label\": \"Actual\", \"predicted_label\": \"Predicted\"}, {\"date\": \"2022-04-06T00:00:00\", \"y_test\": 322.3999938964844, \"y_pred\": 328.3342691795732, \"label\": \"Actual\", \"predicted_label\": \"Predicted\"}, {\"date\": \"2022-04-07T00:00:00\", \"y_test\": 316.0, \"y_pred\": 315.19971377317245, \"label\": \"Actual\", \"predicted_label\": \"Predicted\"}, {\"date\": \"2022-04-08T00:00:00\", \"y_test\": 309.79998779296875, \"y_pred\": 310.30374678727617, \"label\": \"Actual\", \"predicted_label\": \"Predicted\"}, {\"date\": \"2022-04-11T00:00:00\", \"y_test\": 311.75, \"y_pred\": 309.77173055342706, \"label\": \"Actual\", \"predicted_label\": \"Predicted\"}, {\"date\": \"2022-04-12T00:00:00\", \"y_test\": 314.95001220703125, \"y_pred\": 312.9899877084249, \"label\": \"Actual\", \"predicted_label\": \"Predicted\"}, {\"date\": \"2022-04-13T00:00:00\", \"y_test\": 319.3999938964844, \"y_pred\": 316.3736211040265, \"label\": \"Actual\", \"predicted_label\": \"Predicted\"}, {\"date\": \"2022-04-18T00:00:00\", \"y_test\": 324.45001220703125, \"y_pred\": 318.60800692580676, \"label\": \"Actual\", \"predicted_label\": \"Predicted\"}, {\"date\": \"2022-04-19T00:00:00\", \"y_test\": 324.1000061035156, \"y_pred\": 327.2041937435357, \"label\": \"Actual\", \"predicted_label\": \"Predicted\"}, {\"date\": \"2022-04-20T00:00:00\", \"y_test\": 319.6499938964844, \"y_pred\": 311.08674113465804, \"label\": \"Actual\", \"predicted_label\": \"Predicted\"}, {\"date\": \"2022-04-21T00:00:00\", \"y_test\": 314.3500061035157, \"y_pred\": 314.7264167257628, \"label\": \"Actual\", \"predicted_label\": \"Predicted\"}, {\"date\": \"2022-04-22T00:00:00\", \"y_test\": 343.64999389648443, \"y_pred\": 316.0689955243962, \"label\": \"Actual\", \"predicted_label\": \"Predicted\"}, {\"date\": \"2022-04-25T00:00:00\", \"y_test\": 355.04998779296875, \"y_pred\": 346.99199926795484, \"label\": \"Actual\", \"predicted_label\": \"Predicted\"}, {\"date\": \"2022-04-26T00:00:00\", \"y_test\": 349.8999938964844, \"y_pred\": 353.03295090179137, \"label\": \"Actual\", \"predicted_label\": \"Predicted\"}, {\"date\": \"2022-04-27T00:00:00\", \"y_test\": 351.99999999999994, \"y_pred\": 345.4811322420211, \"label\": \"Actual\", \"predicted_label\": \"Predicted\"}, {\"date\": \"2022-04-28T00:00:00\", \"y_test\": 359.3500061035156, \"y_pred\": 353.8129544440066, \"label\": \"Actual\", \"predicted_label\": \"Predicted\"}, {\"date\": \"2022-04-29T00:00:00\", \"y_test\": 355.89999389648443, \"y_pred\": 361.2135072774683, \"label\": \"Actual\", \"predicted_label\": \"Predicted\"}, {\"date\": \"2022-05-04T00:00:00\", \"y_test\": 359.70001220703125, \"y_pred\": 352.2715673306772, \"label\": \"Actual\", \"predicted_label\": \"Predicted\"}, {\"date\": \"2022-05-05T00:00:00\", \"y_test\": 356.8999938964844, \"y_pred\": 348.42683102291227, \"label\": \"Actual\", \"predicted_label\": \"Predicted\"}, {\"date\": \"2022-05-06T00:00:00\", \"y_test\": 332.0, \"y_pred\": 345.56327800479534, \"label\": \"Actual\", \"predicted_label\": \"Predicted\"}, {\"date\": \"2022-05-09T00:00:00\", \"y_test\": 319.8999938964844, \"y_pred\": 323.2245956174119, \"label\": \"Actual\", \"predicted_label\": \"Predicted\"}, {\"date\": \"2022-05-10T00:00:00\", \"y_test\": 316.1499938964844, \"y_pred\": 312.4001764587814, \"label\": \"Actual\", \"predicted_label\": \"Predicted\"}, {\"date\": \"2022-05-11T00:00:00\", \"y_test\": 308.0, \"y_pred\": 309.20557195757385, \"label\": \"Actual\", \"predicted_label\": \"Predicted\"}, {\"date\": \"2022-05-12T00:00:00\", \"y_test\": 270.1499938964844, \"y_pred\": 286.25802762925787, \"label\": \"Actual\", \"predicted_label\": \"Predicted\"}, {\"date\": \"2022-05-13T00:00:00\", \"y_test\": 267.8999938964844, \"y_pred\": 267.6598192213154, \"label\": \"Actual\", \"predicted_label\": \"Predicted\"}, {\"date\": \"2022-05-16T00:00:00\", \"y_test\": 308.3999938964844, \"y_pred\": 264.3773339461359, \"label\": \"Actual\", \"predicted_label\": \"Predicted\"}, {\"date\": \"2022-05-17T00:00:00\", \"y_test\": 328.8500061035156, \"y_pred\": 309.0612610954432, \"label\": \"Actual\", \"predicted_label\": \"Predicted\"}, {\"date\": \"2022-05-18T00:00:00\", \"y_test\": 336.75, \"y_pred\": 333.07802042296765, \"label\": \"Actual\", \"predicted_label\": \"Predicted\"}, {\"date\": \"2022-05-19T00:00:00\", \"y_test\": 335.25, \"y_pred\": 337.21805197054465, \"label\": \"Actual\", \"predicted_label\": \"Predicted\"}, {\"date\": \"2022-05-20T00:00:00\", \"y_test\": 343.29998779296875, \"y_pred\": 340.11138907075895, \"label\": \"Actual\", \"predicted_label\": \"Predicted\"}, {\"date\": \"2022-05-23T00:00:00\", \"y_test\": 342.70001220703125, \"y_pred\": 346.7863704846457, \"label\": \"Actual\", \"predicted_label\": \"Predicted\"}, {\"date\": \"2022-05-24T00:00:00\", \"y_test\": 333.14999389648443, \"y_pred\": 338.4774956937563, \"label\": \"Actual\", \"predicted_label\": \"Predicted\"}, {\"date\": \"2022-05-25T00:00:00\", \"y_test\": 333.29998779296875, \"y_pred\": 337.56025621533047, \"label\": \"Actual\", \"predicted_label\": \"Predicted\"}, {\"date\": \"2022-05-26T00:00:00\", \"y_test\": 348.3999938964844, \"y_pred\": 329.3452431222588, \"label\": \"Actual\", \"predicted_label\": \"Predicted\"}, {\"date\": \"2022-05-27T00:00:00\", \"y_test\": 342.54998779296875, \"y_pred\": 351.70764740546036, \"label\": \"Actual\", \"predicted_label\": \"Predicted\"}, {\"date\": \"2022-05-30T00:00:00\", \"y_test\": 348.0, \"y_pred\": 340.3656363334316, \"label\": \"Actual\", \"predicted_label\": \"Predicted\"}, {\"date\": \"2022-05-31T00:00:00\", \"y_test\": 347.00000000000006, \"y_pred\": 343.6734575942873, \"label\": \"Actual\", \"predicted_label\": \"Predicted\"}, {\"date\": \"2022-06-01T00:00:00\", \"y_test\": 379.85000610351557, \"y_pred\": 352.6820940429187, \"label\": \"Actual\", \"predicted_label\": \"Predicted\"}, {\"date\": \"2022-06-02T00:00:00\", \"y_test\": 386.25000000000006, \"y_pred\": 390.19677261578585, \"label\": \"Actual\", \"predicted_label\": \"Predicted\"}, {\"date\": \"2022-06-03T00:00:00\", \"y_test\": 379.49999999999994, \"y_pred\": 384.8243722844198, \"label\": \"Actual\", \"predicted_label\": \"Predicted\"}, {\"date\": \"2022-06-06T00:00:00\", \"y_test\": 384.70001220703125, \"y_pred\": 379.4222421053604, \"label\": \"Actual\", \"predicted_label\": \"Predicted\"}, {\"date\": \"2022-06-07T00:00:00\", \"y_test\": 381.99999999999994, \"y_pred\": 384.3755866610517, \"label\": \"Actual\", \"predicted_label\": \"Predicted\"}, {\"date\": \"2022-06-08T00:00:00\", \"y_test\": 412.9500122070313, \"y_pred\": 389.93293405723847, \"label\": \"Actual\", \"predicted_label\": \"Predicted\"}, {\"date\": \"2022-06-09T00:00:00\", \"y_test\": 416.0, \"y_pred\": 410.5128630267938, \"label\": \"Actual\", \"predicted_label\": \"Predicted\"}, {\"date\": \"2022-06-10T00:00:00\", \"y_test\": 419.99999999999994, \"y_pred\": 419.08217958839964, \"label\": \"Actual\", \"predicted_label\": \"Predicted\"}, {\"date\": \"2022-06-13T00:00:00\", \"y_test\": 404.99999999999994, \"y_pred\": 415.09850202952526, \"label\": \"Actual\", \"predicted_label\": \"Predicted\"}, {\"date\": \"2022-06-14T00:00:00\", \"y_test\": 417.00000000000006, \"y_pred\": 413.59101875286854, \"label\": \"Actual\", \"predicted_label\": \"Predicted\"}, {\"date\": \"2022-06-15T00:00:00\", \"y_test\": 414.75000000000006, \"y_pred\": 413.68921871474066, \"label\": \"Actual\", \"predicted_label\": \"Predicted\"}, {\"date\": \"2022-06-16T00:00:00\", \"y_test\": 410.5499877929688, \"y_pred\": 403.1234183303138, \"label\": \"Actual\", \"predicted_label\": \"Predicted\"}, {\"date\": \"2022-06-17T00:00:00\", \"y_test\": 396.95001220703125, \"y_pred\": 387.55600169631117, \"label\": \"Actual\", \"predicted_label\": \"Predicted\"}, {\"date\": \"2022-06-20T00:00:00\", \"y_test\": 395.1000061035156, \"y_pred\": 399.0117171382707, \"label\": \"Actual\", \"predicted_label\": \"Predicted\"}, {\"date\": \"2022-06-21T00:00:00\", \"y_test\": 393.99999999999994, \"y_pred\": 370.2119845543132, \"label\": \"Actual\", \"predicted_label\": \"Predicted\"}, {\"date\": \"2022-06-22T00:00:00\", \"y_test\": 389.6499938964844, \"y_pred\": 398.758171385098, \"label\": \"Actual\", \"predicted_label\": \"Predicted\"}, {\"date\": \"2022-06-23T00:00:00\", \"y_test\": 388.45001220703125, \"y_pred\": 382.5894215146031, \"label\": \"Actual\", \"predicted_label\": \"Predicted\"}, {\"date\": \"2022-06-24T00:00:00\", \"y_test\": 402.2000122070313, \"y_pred\": 393.34820842181784, \"label\": \"Actual\", \"predicted_label\": \"Predicted\"}, {\"date\": \"2022-06-27T00:00:00\", \"y_test\": 399.2000122070313, \"y_pred\": 397.3974927984442, \"label\": \"Actual\", \"predicted_label\": \"Predicted\"}, {\"date\": \"2022-06-28T00:00:00\", \"y_test\": 389.49999999999994, \"y_pred\": 396.13946419369717, \"label\": \"Actual\", \"predicted_label\": \"Predicted\"}, {\"date\": \"2022-06-29T00:00:00\", \"y_test\": 392.6499938964844, \"y_pred\": 391.25486406841264, \"label\": \"Actual\", \"predicted_label\": \"Predicted\"}, {\"date\": \"2022-06-30T00:00:00\", \"y_test\": 370.8500061035156, \"y_pred\": 379.04041532658385, \"label\": \"Actual\", \"predicted_label\": \"Predicted\"}, {\"date\": \"2022-07-01T00:00:00\", \"y_test\": 362.6000061035156, \"y_pred\": 364.7358271280753, \"label\": \"Actual\", \"predicted_label\": \"Predicted\"}, {\"date\": \"2022-07-04T00:00:00\", \"y_test\": 353.20001220703125, \"y_pred\": 350.8589317879647, \"label\": \"Actual\", \"predicted_label\": \"Predicted\"}, {\"date\": \"2022-07-05T00:00:00\", \"y_test\": 385.7000122070313, \"y_pred\": 349.85640935284084, \"label\": \"Actual\", \"predicted_label\": \"Predicted\"}, {\"date\": \"2022-07-06T00:00:00\", \"y_test\": 378.3999938964844, \"y_pred\": 381.1085472838116, \"label\": \"Actual\", \"predicted_label\": \"Predicted\"}, {\"date\": \"2022-07-07T00:00:00\", \"y_test\": 377.7000122070313, \"y_pred\": 381.0193194982465, \"label\": \"Actual\", \"predicted_label\": \"Predicted\"}, {\"date\": \"2022-07-08T00:00:00\", \"y_test\": 371.6499938964843, \"y_pred\": 371.3670324234299, \"label\": \"Actual\", \"predicted_label\": \"Predicted\"}, {\"date\": \"2022-07-11T00:00:00\", \"y_test\": 375.79998779296875, \"y_pred\": 365.3759287002331, \"label\": \"Actual\", \"predicted_label\": \"Predicted\"}, {\"date\": \"2022-07-12T00:00:00\", \"y_test\": 376.0, \"y_pred\": 380.5054529473213, \"label\": \"Actual\", \"predicted_label\": \"Predicted\"}, {\"date\": \"2022-07-13T00:00:00\", \"y_test\": 380.0, \"y_pred\": 379.13985886461944, \"label\": \"Actual\", \"predicted_label\": \"Predicted\"}, {\"date\": \"2022-07-14T00:00:00\", \"y_test\": 376.9500122070313, \"y_pred\": 372.394979636904, \"label\": \"Actual\", \"predicted_label\": \"Predicted\"}, {\"date\": \"2022-07-15T00:00:00\", \"y_test\": 382.89999389648443, \"y_pred\": 380.01687383208844, \"label\": \"Actual\", \"predicted_label\": \"Predicted\"}, {\"date\": \"2022-07-18T00:00:00\", \"y_test\": 385.0, \"y_pred\": 379.86017901283105, \"label\": \"Actual\", \"predicted_label\": \"Predicted\"}, {\"date\": \"2022-07-19T00:00:00\", \"y_test\": 373.7000122070313, \"y_pred\": 377.43964292644097, \"label\": \"Actual\", \"predicted_label\": \"Predicted\"}, {\"date\": \"2022-07-20T00:00:00\", \"y_test\": 377.2000122070313, \"y_pred\": 373.75080314307036, \"label\": \"Actual\", \"predicted_label\": \"Predicted\"}, {\"date\": \"2022-07-21T00:00:00\", \"y_test\": 379.8999938964843, \"y_pred\": 378.00101635390433, \"label\": \"Actual\", \"predicted_label\": \"Predicted\"}, {\"date\": \"2022-07-22T00:00:00\", \"y_test\": 373.5, \"y_pred\": 377.1598682481941, \"label\": \"Actual\", \"predicted_label\": \"Predicted\"}, {\"date\": \"2022-07-25T00:00:00\", \"y_test\": 377.0, \"y_pred\": 373.09376341776266, \"label\": \"Actual\", \"predicted_label\": \"Predicted\"}, {\"date\": \"2022-07-26T00:00:00\", \"y_test\": 373.8999938964843, \"y_pred\": 374.37784363601327, \"label\": \"Actual\", \"predicted_label\": \"Predicted\"}, {\"date\": \"2022-07-27T00:00:00\", \"y_test\": 369.1000061035156, \"y_pred\": 364.8478154049569, \"label\": \"Actual\", \"predicted_label\": \"Predicted\"}, {\"date\": \"2022-07-28T00:00:00\", \"y_test\": 374.99999999999994, \"y_pred\": 370.7738416137007, \"label\": \"Actual\", \"predicted_label\": \"Predicted\"}, {\"date\": \"2022-07-29T00:00:00\", \"y_test\": 378.7000122070313, \"y_pred\": 374.09232795072285, \"label\": \"Actual\", \"predicted_label\": \"Predicted\"}, {\"date\": \"2022-08-01T00:00:00\", \"y_test\": 402.2999877929688, \"y_pred\": 375.037160782673, \"label\": \"Actual\", \"predicted_label\": \"Predicted\"}, {\"date\": \"2022-08-02T00:00:00\", \"y_test\": 425.9500122070313, \"y_pred\": 405.0234775492536, \"label\": \"Actual\", \"predicted_label\": \"Predicted\"}, {\"date\": \"2022-08-03T00:00:00\", \"y_test\": 440.0, \"y_pred\": 420.79526916188837, \"label\": \"Actual\", \"predicted_label\": \"Predicted\"}, {\"date\": \"2022-08-04T00:00:00\", \"y_test\": 445.6000061035156, \"y_pred\": 447.360010031643, \"label\": \"Actual\", \"predicted_label\": \"Predicted\"}, {\"date\": \"2022-08-05T00:00:00\", \"y_test\": 430.7999877929688, \"y_pred\": 428.2212518303875, \"label\": \"Actual\", \"predicted_label\": \"Predicted\"}, {\"date\": \"2022-08-08T00:00:00\", \"y_test\": 437.95001220703125, \"y_pred\": 433.7111998730295, \"label\": \"Actual\", \"predicted_label\": \"Predicted\"}, {\"date\": \"2022-08-10T00:00:00\", \"y_test\": 464.5, \"y_pred\": 439.8121367036621, \"label\": \"Actual\", \"predicted_label\": \"Predicted\"}, {\"date\": \"2022-08-11T00:00:00\", \"y_test\": 453.8500061035156, \"y_pred\": 457.38885452107894, \"label\": \"Actual\", \"predicted_label\": \"Predicted\"}, {\"date\": \"2022-08-12T00:00:00\", \"y_test\": 454.0, \"y_pred\": 453.83132120084605, \"label\": \"Actual\", \"predicted_label\": \"Predicted\"}, {\"date\": \"2022-08-16T00:00:00\", \"y_test\": 463.04998779296886, \"y_pred\": 461.6630419406514, \"label\": \"Actual\", \"predicted_label\": \"Predicted\"}, {\"date\": \"2022-08-17T00:00:00\", \"y_test\": 435.99999999999994, \"y_pred\": 436.0735176191444, \"label\": \"Actual\", \"predicted_label\": \"Predicted\"}, {\"date\": \"2022-08-18T00:00:00\", \"y_test\": 433.7000122070313, \"y_pred\": 436.17270932629555, \"label\": \"Actual\", \"predicted_label\": \"Predicted\"}, {\"date\": \"2022-08-19T00:00:00\", \"y_test\": 434.20001220703136, \"y_pred\": 432.87446828912584, \"label\": \"Actual\", \"predicted_label\": \"Predicted\"}, {\"date\": \"2022-08-22T00:00:00\", \"y_test\": 469.75000000000006, \"y_pred\": 428.6529370679567, \"label\": \"Actual\", \"predicted_label\": \"Predicted\"}, {\"date\": \"2022-08-23T00:00:00\", \"y_test\": 467.1499938964844, \"y_pred\": 477.6309258700142, \"label\": \"Actual\", \"predicted_label\": \"Predicted\"}, {\"date\": \"2022-08-24T00:00:00\", \"y_test\": 481.2000122070313, \"y_pred\": 469.6894545000837, \"label\": \"Actual\", \"predicted_label\": \"Predicted\"}, {\"date\": \"2022-08-25T00:00:00\", \"y_test\": 491.10000610351557, \"y_pred\": 483.01240280099574, \"label\": \"Actual\", \"predicted_label\": \"Predicted\"}, {\"date\": \"2022-08-26T00:00:00\", \"y_test\": 502.0, \"y_pred\": 476.7838081669062, \"label\": \"Actual\", \"predicted_label\": \"Predicted\"}, {\"date\": \"2022-08-29T00:00:00\", \"y_test\": 504.70001220703125, \"y_pred\": 505.6080881901241, \"label\": \"Actual\", \"predicted_label\": \"Predicted\"}, {\"date\": \"2022-08-30T00:00:00\", \"y_test\": 506.45001220703125, \"y_pred\": 505.42956693696505, \"label\": \"Actual\", \"predicted_label\": \"Predicted\"}, {\"date\": \"2022-09-01T00:00:00\", \"y_test\": 505.6499938964844, \"y_pred\": 505.39489860963675, \"label\": \"Actual\", \"predicted_label\": \"Predicted\"}, {\"date\": \"2022-09-02T00:00:00\", \"y_test\": 537.75, \"y_pred\": 499.60619564020743, \"label\": \"Actual\", \"predicted_label\": \"Predicted\"}, {\"date\": \"2022-09-05T00:00:00\", \"y_test\": 544.4500122070312, \"y_pred\": 546.4534686980196, \"label\": \"Actual\", \"predicted_label\": \"Predicted\"}, {\"date\": \"2022-09-06T00:00:00\", \"y_test\": 565.0, \"y_pred\": 549.3845409698547, \"label\": \"Actual\", \"predicted_label\": \"Predicted\"}, {\"date\": \"2022-09-07T00:00:00\", \"y_test\": 566.5, \"y_pred\": 557.252638676625, \"label\": \"Actual\", \"predicted_label\": \"Predicted\"}, {\"date\": \"2022-09-08T00:00:00\", \"y_test\": 563.8499755859375, \"y_pred\": 568.6100683118443, \"label\": \"Actual\", \"predicted_label\": \"Predicted\"}, {\"date\": \"2022-09-09T00:00:00\", \"y_test\": 565.0, \"y_pred\": 563.0918676281735, \"label\": \"Actual\", \"predicted_label\": \"Predicted\"}, {\"date\": \"2022-09-12T00:00:00\", \"y_test\": 560.75, \"y_pred\": 568.2272465457721, \"label\": \"Actual\", \"predicted_label\": \"Predicted\"}, {\"date\": \"2022-09-13T00:00:00\", \"y_test\": 563.9500122070312, \"y_pred\": 566.0845958097343, \"label\": \"Actual\", \"predicted_label\": \"Predicted\"}, {\"date\": \"2022-09-14T00:00:00\", \"y_test\": 557.4000244140625, \"y_pred\": 542.8324354407881, \"label\": \"Actual\", \"predicted_label\": \"Predicted\"}, {\"date\": \"2022-09-15T00:00:00\", \"y_test\": 555.0, \"y_pred\": 560.6765894230582, \"label\": \"Actual\", \"predicted_label\": \"Predicted\"}, {\"date\": \"2022-09-16T00:00:00\", \"y_test\": 529.25, \"y_pred\": 533.8524430233774, \"label\": \"Actual\", \"predicted_label\": \"Predicted\"}, {\"date\": \"2022-09-19T00:00:00\", \"y_test\": 498.14999389648443, \"y_pred\": 495.8457338723765, \"label\": \"Actual\", \"predicted_label\": \"Predicted\"}, {\"date\": \"2022-09-20T00:00:00\", \"y_test\": 506.74999999999994, \"y_pred\": 479.53489122905745, \"label\": \"Actual\", \"predicted_label\": \"Predicted\"}, {\"date\": \"2022-09-21T00:00:00\", \"y_test\": 492.45001220703136, \"y_pred\": 489.74895771155906, \"label\": \"Actual\", \"predicted_label\": \"Predicted\"}, {\"date\": \"2022-09-22T00:00:00\", \"y_test\": 473.7999877929688, \"y_pred\": 471.80691680413304, \"label\": \"Actual\", \"predicted_label\": \"Predicted\"}, {\"date\": \"2022-09-23T00:00:00\", \"y_test\": 469.2000122070313, \"y_pred\": 470.3527801523533, \"label\": \"Actual\", \"predicted_label\": \"Predicted\"}, {\"date\": \"2022-09-26T00:00:00\", \"y_test\": 442.9500122070313, \"y_pred\": 459.0675623484945, \"label\": \"Actual\", \"predicted_label\": \"Predicted\"}, {\"date\": \"2022-09-27T00:00:00\", \"y_test\": 435.9500122070313, \"y_pred\": 434.96902633367205, \"label\": \"Actual\", \"predicted_label\": \"Predicted\"}, {\"date\": \"2022-09-28T00:00:00\", \"y_test\": 410.0, \"y_pred\": 420.3461581170083, \"label\": \"Actual\", \"predicted_label\": \"Predicted\"}, {\"date\": \"2022-09-29T00:00:00\", \"y_test\": 428.20001220703136, \"y_pred\": 414.0710574634811, \"label\": \"Actual\", \"predicted_label\": \"Predicted\"}, {\"date\": \"2022-09-30T00:00:00\", \"y_test\": 426.79998779296886, \"y_pred\": 426.0753494608367, \"label\": \"Actual\", \"predicted_label\": \"Predicted\"}, {\"date\": \"2022-10-03T00:00:00\", \"y_test\": 425.6499938964844, \"y_pred\": 430.4957275191117, \"label\": \"Actual\", \"predicted_label\": \"Predicted\"}, {\"date\": \"2022-10-04T00:00:00\", \"y_test\": 435.0, \"y_pred\": 431.8496017673415, \"label\": \"Actual\", \"predicted_label\": \"Predicted\"}, {\"date\": \"2022-10-06T00:00:00\", \"y_test\": 442.0, \"y_pred\": 436.1940295537373, \"label\": \"Actual\", \"predicted_label\": \"Predicted\"}, {\"date\": \"2022-10-07T00:00:00\", \"y_test\": 429.1499938964844, \"y_pred\": 441.66794269224715, \"label\": \"Actual\", \"predicted_label\": \"Predicted\"}, {\"date\": \"2022-10-10T00:00:00\", \"y_test\": 417.6000061035156, \"y_pred\": 437.4130707737304, \"label\": \"Actual\", \"predicted_label\": \"Predicted\"}, {\"date\": \"2022-10-11T00:00:00\", \"y_test\": 423.54998779296886, \"y_pred\": 421.10400666010537, \"label\": \"Actual\", \"predicted_label\": \"Predicted\"}, {\"date\": \"2022-10-12T00:00:00\", \"y_test\": 413.29998779296886, \"y_pred\": 419.4887911074181, \"label\": \"Actual\", \"predicted_label\": \"Predicted\"}, {\"date\": \"2022-10-13T00:00:00\", \"y_test\": 412.9500122070313, \"y_pred\": 417.05999035514157, \"label\": \"Actual\", \"predicted_label\": \"Predicted\"}, {\"date\": \"2022-10-14T00:00:00\", \"y_test\": 427.0, \"y_pred\": 410.416349646398, \"label\": \"Actual\", \"predicted_label\": \"Predicted\"}, {\"date\": \"2022-10-17T00:00:00\", \"y_test\": 451.1000061035157, \"y_pred\": 432.87126316810225, \"label\": \"Actual\", \"predicted_label\": \"Predicted\"}, {\"date\": \"2022-10-18T00:00:00\", \"y_test\": 439.79998779296886, \"y_pred\": 441.22953828448743, \"label\": \"Actual\", \"predicted_label\": \"Predicted\"}, {\"date\": \"2022-10-19T00:00:00\", \"y_test\": 453.29998779296886, \"y_pred\": 444.62574314155137, \"label\": \"Actual\", \"predicted_label\": \"Predicted\"}, {\"date\": \"2022-10-20T00:00:00\", \"y_test\": 454.75, \"y_pred\": 458.006518989143, \"label\": \"Actual\", \"predicted_label\": \"Predicted\"}, {\"date\": \"2022-10-21T00:00:00\", \"y_test\": 500.0, \"y_pred\": 460.5867331083025, \"label\": \"Actual\", \"predicted_label\": \"Predicted\"}, {\"date\": \"2022-10-24T00:00:00\", \"y_test\": 509.7000122070313, \"y_pred\": 506.574997272632, \"label\": \"Actual\", \"predicted_label\": \"Predicted\"}, {\"date\": \"2022-10-25T00:00:00\", \"y_test\": 531.25, \"y_pred\": 517.4888078110358, \"label\": \"Actual\", \"predicted_label\": \"Predicted\"}, {\"date\": \"2022-10-27T00:00:00\", \"y_test\": 534.7999877929688, \"y_pred\": 537.92660346689, \"label\": \"Actual\", \"predicted_label\": \"Predicted\"}, {\"date\": \"2022-10-28T00:00:00\", \"y_test\": 540.7999877929688, \"y_pred\": 541.0626187928293, \"label\": \"Actual\", \"predicted_label\": \"Predicted\"}, {\"date\": \"2022-10-31T00:00:00\", \"y_test\": 510.3999938964844, \"y_pred\": 517.4774978566958, \"label\": \"Actual\", \"predicted_label\": \"Predicted\"}, {\"date\": \"2022-11-01T00:00:00\", \"y_test\": 506.00000000000006, \"y_pred\": 494.7152435668126, \"label\": \"Actual\", \"predicted_label\": \"Predicted\"}, {\"date\": \"2022-11-02T00:00:00\", \"y_test\": 501.70001220703125, \"y_pred\": 497.17277828110775, \"label\": \"Actual\", \"predicted_label\": \"Predicted\"}, {\"date\": \"2022-11-03T00:00:00\", \"y_test\": 488.54998779296886, \"y_pred\": 498.85170956936196, \"label\": \"Actual\", \"predicted_label\": \"Predicted\"}, {\"date\": \"2022-11-04T00:00:00\", \"y_test\": 503.00000000000006, \"y_pred\": 493.80468588239967, \"label\": \"Actual\", \"predicted_label\": \"Predicted\"}, {\"date\": \"2022-11-07T00:00:00\", \"y_test\": 514.5, \"y_pred\": 506.1856162523162, \"label\": \"Actual\", \"predicted_label\": \"Predicted\"}, {\"date\": \"2022-11-09T00:00:00\", \"y_test\": 501.75, \"y_pred\": 508.94298387901495, \"label\": \"Actual\", \"predicted_label\": \"Predicted\"}, {\"date\": \"2022-11-10T00:00:00\", \"y_test\": 510.8500061035156, \"y_pred\": 507.46754583556543, \"label\": \"Actual\", \"predicted_label\": \"Predicted\"}, {\"date\": \"2022-11-11T00:00:00\", \"y_test\": 521.9500122070312, \"y_pred\": 520.1816235597537, \"label\": \"Actual\", \"predicted_label\": \"Predicted\"}, {\"date\": \"2022-11-14T00:00:00\", \"y_test\": 507.5, \"y_pred\": 515.0123229406968, \"label\": \"Actual\", \"predicted_label\": \"Predicted\"}, {\"date\": \"2022-11-15T00:00:00\", \"y_test\": 514.75, \"y_pred\": 511.3485145444362, \"label\": \"Actual\", \"predicted_label\": \"Predicted\"}, {\"date\": \"2022-11-16T00:00:00\", \"y_test\": 512.0, \"y_pred\": 518.9527950673457, \"label\": \"Actual\", \"predicted_label\": \"Predicted\"}, {\"date\": \"2022-11-17T00:00:00\", \"y_test\": 500.49999999999994, \"y_pred\": 504.32846167701047, \"label\": \"Actual\", \"predicted_label\": \"Predicted\"}, {\"date\": \"2022-11-18T00:00:00\", \"y_test\": 502.45001220703136, \"y_pred\": 505.3900928178287, \"label\": \"Actual\", \"predicted_label\": \"Predicted\"}, {\"date\": \"2022-11-21T00:00:00\", \"y_test\": 510.8500061035157, \"y_pred\": 495.80792222649416, \"label\": \"Actual\", \"predicted_label\": \"Predicted\"}, {\"date\": \"2022-11-22T00:00:00\", \"y_test\": 509.50000000000006, \"y_pred\": 515.2611380196397, \"label\": \"Actual\", \"predicted_label\": \"Predicted\"}, {\"date\": \"2022-11-23T00:00:00\", \"y_test\": 506.3500061035156, \"y_pred\": 502.52870568545444, \"label\": \"Actual\", \"predicted_label\": \"Predicted\"}, {\"date\": \"2022-11-24T00:00:00\", \"y_test\": 505.8500061035156, \"y_pred\": 503.6934217872616, \"label\": \"Actual\", \"predicted_label\": \"Predicted\"}, {\"date\": \"2022-11-25T00:00:00\", \"y_test\": 512.4500122070312, \"y_pred\": 505.441178961472, \"label\": \"Actual\", \"predicted_label\": \"Predicted\"}, {\"date\": \"2022-11-28T00:00:00\", \"y_test\": 495.6499938964844, \"y_pred\": 491.21133547046776, \"label\": \"Actual\", \"predicted_label\": \"Predicted\"}, {\"date\": \"2022-11-29T00:00:00\", \"y_test\": 490.8500061035156, \"y_pred\": 500.2620838818324, \"label\": \"Actual\", \"predicted_label\": \"Predicted\"}, {\"date\": \"2022-11-30T00:00:00\", \"y_test\": 483.95001220703136, \"y_pred\": 476.46546519768475, \"label\": \"Actual\", \"predicted_label\": \"Predicted\"}, {\"date\": \"2022-12-01T00:00:00\", \"y_test\": 493.25, \"y_pred\": 480.2179497607934, \"label\": \"Actual\", \"predicted_label\": \"Predicted\"}, {\"date\": \"2022-12-02T00:00:00\", \"y_test\": 490.6000061035156, \"y_pred\": 491.208391135893, \"label\": \"Actual\", \"predicted_label\": \"Predicted\"}, {\"date\": \"2022-12-05T00:00:00\", \"y_test\": 493.8500061035156, \"y_pred\": 494.33871209711623, \"label\": \"Actual\", \"predicted_label\": \"Predicted\"}, {\"date\": \"2022-12-06T00:00:00\", \"y_test\": 520.0, \"y_pred\": 495.62903114083247, \"label\": \"Actual\", \"predicted_label\": \"Predicted\"}, {\"date\": \"2022-12-07T00:00:00\", \"y_test\": 525.0, \"y_pred\": 524.9226322475209, \"label\": \"Actual\", \"predicted_label\": \"Predicted\"}, {\"date\": \"2022-12-08T00:00:00\", \"y_test\": 531.2000122070312, \"y_pred\": 527.7203834965209, \"label\": \"Actual\", \"predicted_label\": \"Predicted\"}, {\"date\": \"2022-12-09T00:00:00\", \"y_test\": 532.4999999999999, \"y_pred\": 535.3585784546977, \"label\": \"Actual\", \"predicted_label\": \"Predicted\"}, {\"date\": \"2022-12-12T00:00:00\", \"y_test\": 512.7999877929688, \"y_pred\": 517.4564078363557, \"label\": \"Actual\", \"predicted_label\": \"Predicted\"}, {\"date\": \"2022-12-13T00:00:00\", \"y_test\": 526.3499755859375, \"y_pred\": 516.3076276954686, \"label\": \"Actual\", \"predicted_label\": \"Predicted\"}, {\"date\": \"2022-12-14T00:00:00\", \"y_test\": 531.5499877929688, \"y_pred\": 524.1551134139462, \"label\": \"Actual\", \"predicted_label\": \"Predicted\"}, {\"date\": \"2022-12-15T00:00:00\", \"y_test\": 517.4500122070312, \"y_pred\": 520.4395064398383, \"label\": \"Actual\", \"predicted_label\": \"Predicted\"}, {\"date\": \"2022-12-16T00:00:00\", \"y_test\": 502.2000122070313, \"y_pred\": 508.1487138351803, \"label\": \"Actual\", \"predicted_label\": \"Predicted\"}, {\"date\": \"2022-12-19T00:00:00\", \"y_test\": 486.6000061035156, \"y_pred\": 496.78021355424625, \"label\": \"Actual\", \"predicted_label\": \"Predicted\"}, {\"date\": \"2022-12-20T00:00:00\", \"y_test\": 489.99999999999994, \"y_pred\": 486.3809136496365, \"label\": \"Actual\", \"predicted_label\": \"Predicted\"}, {\"date\": \"2022-12-21T00:00:00\", \"y_test\": 492.3999938964844, \"y_pred\": 487.7090622117013, \"label\": \"Actual\", \"predicted_label\": \"Predicted\"}, {\"date\": \"2022-12-22T00:00:00\", \"y_test\": 477.79998779296886, \"y_pred\": 474.8901601874558, \"label\": \"Actual\", \"predicted_label\": \"Predicted\"}, {\"date\": \"2022-12-23T00:00:00\", \"y_test\": 446.0, \"y_pred\": 457.27697541785096, \"label\": \"Actual\", \"predicted_label\": \"Predicted\"}, {\"date\": \"2022-12-26T00:00:00\", \"y_test\": 442.2999877929688, \"y_pred\": 427.0340883794556, \"label\": \"Actual\", \"predicted_label\": \"Predicted\"}, {\"date\": \"2022-12-27T00:00:00\", \"y_test\": 449.9500122070313, \"y_pred\": 446.27419757788516, \"label\": \"Actual\", \"predicted_label\": \"Predicted\"}, {\"date\": \"2022-12-28T00:00:00\", \"y_test\": 438.5499877929688, \"y_pred\": 445.03405622736653, \"label\": \"Actual\", \"predicted_label\": \"Predicted\"}, {\"date\": \"2022-12-29T00:00:00\", \"y_test\": 437.5499877929688, \"y_pred\": 437.613083456139, \"label\": \"Actual\", \"predicted_label\": \"Predicted\"}, {\"date\": \"2022-12-30T00:00:00\", \"y_test\": 438.25, \"y_pred\": 440.16287225664104, \"label\": \"Actual\", \"predicted_label\": \"Predicted\"}, {\"date\": \"2023-01-02T00:00:00\", \"y_test\": 426.29998779296886, \"y_pred\": 429.59838376915934, \"label\": \"Actual\", \"predicted_label\": \"Predicted\"}, {\"date\": \"2023-01-03T00:00:00\", \"y_test\": 420.5, \"y_pred\": 429.70917055285577, \"label\": \"Actual\", \"predicted_label\": \"Predicted\"}, {\"date\": \"2023-01-04T00:00:00\", \"y_test\": 420.0, \"y_pred\": 418.8729556947175, \"label\": \"Actual\", \"predicted_label\": \"Predicted\"}, {\"date\": \"2023-01-05T00:00:00\", \"y_test\": 415.45001220703125, \"y_pred\": 415.8197515457414, \"label\": \"Actual\", \"predicted_label\": \"Predicted\"}, {\"date\": \"2023-01-06T00:00:00\", \"y_test\": 413.50000000000006, \"y_pred\": 421.01181506131803, \"label\": \"Actual\", \"predicted_label\": \"Predicted\"}, {\"date\": \"2023-01-09T00:00:00\", \"y_test\": 415.74999999999994, \"y_pred\": 419.945048775398, \"label\": \"Actual\", \"predicted_label\": \"Predicted\"}, {\"date\": \"2023-01-10T00:00:00\", \"y_test\": 416.49999999999994, \"y_pred\": 418.4131744654796, \"label\": \"Actual\", \"predicted_label\": \"Predicted\"}, {\"date\": \"2023-01-11T00:00:00\", \"y_test\": 423.45001220703136, \"y_pred\": 422.439305606946, \"label\": \"Actual\", \"predicted_label\": \"Predicted\"}, {\"date\": \"2023-01-12T00:00:00\", \"y_test\": 421.1499938964844, \"y_pred\": 412.02848474796775, \"label\": \"Actual\", \"predicted_label\": \"Predicted\"}, {\"date\": \"2023-01-13T00:00:00\", \"y_test\": 414.8999938964843, \"y_pred\": 421.3596752197362, \"label\": \"Actual\", \"predicted_label\": \"Predicted\"}, {\"date\": \"2023-01-16T00:00:00\", \"y_test\": 411.7999877929688, \"y_pred\": 414.4671505743477, \"label\": \"Actual\", \"predicted_label\": \"Predicted\"}, {\"date\": \"2023-01-17T00:00:00\", \"y_test\": 416.9500122070313, \"y_pred\": 416.7779093958235, \"label\": \"Actual\", \"predicted_label\": \"Predicted\"}, {\"date\": \"2023-01-18T00:00:00\", \"y_test\": 405.6499938964844, \"y_pred\": 408.6512867388149, \"label\": \"Actual\", \"predicted_label\": \"Predicted\"}, {\"date\": \"2023-01-19T00:00:00\", \"y_test\": 398.0, \"y_pred\": 406.13336541441674, \"label\": \"Actual\", \"predicted_label\": \"Predicted\"}, {\"date\": \"2023-01-20T00:00:00\", \"y_test\": 388.6499938964844, \"y_pred\": 395.8293956173573, \"label\": \"Actual\", \"predicted_label\": \"Predicted\"}, {\"date\": \"2023-01-23T00:00:00\", \"y_test\": 384.8999938964844, \"y_pred\": 390.31074954701063, \"label\": \"Actual\", \"predicted_label\": \"Predicted\"}, {\"date\": \"2023-01-24T00:00:00\", \"y_test\": 379.0, \"y_pred\": 381.08887313246174, \"label\": \"Actual\", \"predicted_label\": \"Predicted\"}, {\"date\": \"2023-01-25T00:00:00\", \"y_test\": 385.24999999999994, \"y_pred\": 380.45778703672676, \"label\": \"Actual\", \"predicted_label\": \"Predicted\"}, {\"date\": \"2023-01-27T00:00:00\", \"y_test\": 375.7999877929688, \"y_pred\": 378.4212400911556, \"label\": \"Actual\", \"predicted_label\": \"Predicted\"}, {\"date\": \"2023-01-30T00:00:00\", \"y_test\": 367.3500061035156, \"y_pred\": 371.51037403068494, \"label\": \"Actual\", \"predicted_label\": \"Predicted\"}, {\"date\": \"2023-01-31T00:00:00\", \"y_test\": 387.64999389648443, \"y_pred\": 369.58043120020193, \"label\": \"Actual\", \"predicted_label\": \"Predicted\"}, {\"date\": \"2023-02-01T00:00:00\", \"y_test\": 390.5, \"y_pred\": 387.4247331634025, \"label\": \"Actual\", \"predicted_label\": \"Predicted\"}, {\"date\": \"2023-02-02T00:00:00\", \"y_test\": 389.00000000000006, \"y_pred\": 384.76847942891476, \"label\": \"Actual\", \"predicted_label\": \"Predicted\"}, {\"date\": \"2023-02-03T00:00:00\", \"y_test\": 394.00000000000006, \"y_pred\": 386.9074935320696, \"label\": \"Actual\", \"predicted_label\": \"Predicted\"}, {\"date\": \"2023-02-06T00:00:00\", \"y_test\": 420.0, \"y_pred\": 390.6820941653539, \"label\": \"Actual\", \"predicted_label\": \"Predicted\"}, {\"date\": \"2023-02-07T00:00:00\", \"y_test\": 423.14999389648443, \"y_pred\": 422.8175608493452, \"label\": \"Actual\", \"predicted_label\": \"Predicted\"}, {\"date\": \"2023-02-08T00:00:00\", \"y_test\": 429.45001220703125, \"y_pred\": 409.57494134750186, \"label\": \"Actual\", \"predicted_label\": \"Predicted\"}, {\"date\": \"2023-02-09T00:00:00\", \"y_test\": 443.9500122070313, \"y_pred\": 435.3881008447056, \"label\": \"Actual\", \"predicted_label\": \"Predicted\"}, {\"date\": \"2023-02-10T00:00:00\", \"y_test\": 448.35000610351557, \"y_pred\": 450.6861338586118, \"label\": \"Actual\", \"predicted_label\": \"Predicted\"}, {\"date\": \"2023-02-13T00:00:00\", \"y_test\": 445.04998779296875, \"y_pred\": 449.1196827400534, \"label\": \"Actual\", \"predicted_label\": \"Predicted\"}, {\"date\": \"2023-02-14T00:00:00\", \"y_test\": 462.0, \"y_pred\": 448.93919703327373, \"label\": \"Actual\", \"predicted_label\": \"Predicted\"}, {\"date\": \"2023-02-15T00:00:00\", \"y_test\": 455.3500061035156, \"y_pred\": 464.647564438715, \"label\": \"Actual\", \"predicted_label\": \"Predicted\"}, {\"date\": \"2023-02-16T00:00:00\", \"y_test\": 454.70001220703125, \"y_pred\": 450.93772819477823, \"label\": \"Actual\", \"predicted_label\": \"Predicted\"}, {\"date\": \"2023-02-17T00:00:00\", \"y_test\": 459.5499877929688, \"y_pred\": 457.5537732977616, \"label\": \"Actual\", \"predicted_label\": \"Predicted\"}, {\"date\": \"2023-02-20T00:00:00\", \"y_test\": 468.0, \"y_pred\": 455.6437856399274, \"label\": \"Actual\", \"predicted_label\": \"Predicted\"}, {\"date\": \"2023-02-21T00:00:00\", \"y_test\": 465.8500061035156, \"y_pred\": 462.5862308599062, \"label\": \"Actual\", \"predicted_label\": \"Predicted\"}, {\"date\": \"2023-02-22T00:00:00\", \"y_test\": 466.74999999999994, \"y_pred\": 466.87071807677404, \"label\": \"Actual\", \"predicted_label\": \"Predicted\"}, {\"date\": \"2023-02-23T00:00:00\", \"y_test\": 464.95001220703136, \"y_pred\": 470.7632806991503, \"label\": \"Actual\", \"predicted_label\": \"Predicted\"}, {\"date\": \"2023-02-24T00:00:00\", \"y_test\": 456.35000610351557, \"y_pred\": 456.9714485556052, \"label\": \"Actual\", \"predicted_label\": \"Predicted\"}, {\"date\": \"2023-02-27T00:00:00\", \"y_test\": 444.75000000000006, \"y_pred\": 451.1695811140603, \"label\": \"Actual\", \"predicted_label\": \"Predicted\"}, {\"date\": \"2023-02-28T00:00:00\", \"y_test\": 474.25000000000006, \"y_pred\": 438.37019206979795, \"label\": \"Actual\", \"predicted_label\": \"Predicted\"}, {\"date\": \"2023-03-01T00:00:00\", \"y_test\": 480.0, \"y_pred\": 477.8230584695643, \"label\": \"Actual\", \"predicted_label\": \"Predicted\"}, {\"date\": \"2023-03-02T00:00:00\", \"y_test\": 482.25, \"y_pred\": 484.48020414907376, \"label\": \"Actual\", \"predicted_label\": \"Predicted\"}, {\"date\": \"2023-03-03T00:00:00\", \"y_test\": 484.75000000000006, \"y_pred\": 485.6522567018503, \"label\": \"Actual\", \"predicted_label\": \"Predicted\"}, {\"date\": \"2023-03-06T00:00:00\", \"y_test\": 480.6499938964844, \"y_pred\": 474.7533506481899, \"label\": \"Actual\", \"predicted_label\": \"Predicted\"}, {\"date\": \"2023-03-08T00:00:00\", \"y_test\": 479.45001220703125, \"y_pred\": 485.5528252006886, \"label\": \"Actual\", \"predicted_label\": \"Predicted\"}, {\"date\": \"2023-03-09T00:00:00\", \"y_test\": 472.2999877929688, \"y_pred\": 472.0221534630671, \"label\": \"Actual\", \"predicted_label\": \"Predicted\"}, {\"date\": \"2023-03-10T00:00:00\", \"y_test\": 471.2000122070313, \"y_pred\": 476.6803504987682, \"label\": \"Actual\", \"predicted_label\": \"Predicted\"}, {\"date\": \"2023-03-13T00:00:00\", \"y_test\": 494.0499877929688, \"y_pred\": 475.1246893789187, \"label\": \"Actual\", \"predicted_label\": \"Predicted\"}, {\"date\": \"2023-03-14T00:00:00\", \"y_test\": 479.0, \"y_pred\": 483.8144644451586, \"label\": \"Actual\", \"predicted_label\": \"Predicted\"}, {\"date\": \"2023-03-15T00:00:00\", \"y_test\": 492.79998779296875, \"y_pred\": 481.6446352114242, \"label\": \"Actual\", \"predicted_label\": \"Predicted\"}, {\"date\": \"2023-03-16T00:00:00\", \"y_test\": 483.3999938964844, \"y_pred\": 490.51262842048413, \"label\": \"Actual\", \"predicted_label\": \"Predicted\"}, {\"date\": \"2023-03-17T00:00:00\", \"y_test\": 494.54998779296875, \"y_pred\": 483.496072537174, \"label\": \"Actual\", \"predicted_label\": \"Predicted\"}, {\"date\": \"2023-03-20T00:00:00\", \"y_test\": 489.75, \"y_pred\": 496.7432707469129, \"label\": \"Actual\", \"predicted_label\": \"Predicted\"}, {\"date\": \"2023-03-21T00:00:00\", \"y_test\": 482.24999999999994, \"y_pred\": 484.4523383225611, \"label\": \"Actual\", \"predicted_label\": \"Predicted\"}, {\"date\": \"2023-03-22T00:00:00\", \"y_test\": 475.4500122070313, \"y_pred\": 477.6600683090321, \"label\": \"Actual\", \"predicted_label\": \"Predicted\"}, {\"date\": \"2023-03-23T00:00:00\", \"y_test\": 488.2000122070313, \"y_pred\": 477.73809118936566, \"label\": \"Actual\", \"predicted_label\": \"Predicted\"}, {\"date\": \"2023-03-24T00:00:00\", \"y_test\": 480.0, \"y_pred\": 487.38409642035225, \"label\": \"Actual\", \"predicted_label\": \"Predicted\"}, {\"date\": \"2023-03-27T00:00:00\", \"y_test\": 469.89999389648443, \"y_pred\": 473.22545317540374, \"label\": \"Actual\", \"predicted_label\": \"Predicted\"}, {\"date\": \"2023-03-28T00:00:00\", \"y_test\": 451.6000061035156, \"y_pred\": 451.1134571209698, \"label\": \"Actual\", \"predicted_label\": \"Predicted\"}, {\"date\": \"2023-03-29T00:00:00\", \"y_test\": 440.1000061035156, \"y_pred\": 432.7247461314284, \"label\": \"Actual\", \"predicted_label\": \"Predicted\"}, {\"date\": \"2023-03-31T00:00:00\", \"y_test\": 446.0, \"y_pred\": 438.7296840132057, \"label\": \"Actual\", \"predicted_label\": \"Predicted\"}, {\"date\": \"2023-04-03T00:00:00\", \"y_test\": 451.6000061035156, \"y_pred\": 444.05062399105395, \"label\": \"Actual\", \"predicted_label\": \"Predicted\"}, {\"date\": \"2023-04-05T00:00:00\", \"y_test\": 471.4500122070313, \"y_pred\": 437.94224931851033, \"label\": \"Actual\", \"predicted_label\": \"Predicted\"}, {\"date\": \"2023-04-06T00:00:00\", \"y_test\": 471.49999999999994, \"y_pred\": 473.54035963179683, \"label\": \"Actual\", \"predicted_label\": \"Predicted\"}, {\"date\": \"2023-04-10T00:00:00\", \"y_test\": 477.99999999999994, \"y_pred\": 471.5710640168338, \"label\": \"Actual\", \"predicted_label\": \"Predicted\"}, {\"date\": \"2023-04-11T00:00:00\", \"y_test\": 477.9500122070313, \"y_pred\": 473.40144149680486, \"label\": \"Actual\", \"predicted_label\": \"Predicted\"}, {\"date\": \"2023-04-12T00:00:00\", \"y_test\": 472.0, \"y_pred\": 475.11338786552744, \"label\": \"Actual\", \"predicted_label\": \"Predicted\"}, {\"date\": \"2023-04-13T00:00:00\", \"y_test\": 478.95001220703136, \"y_pred\": 474.1510448200857, \"label\": \"Actual\", \"predicted_label\": \"Predicted\"}, {\"date\": \"2023-04-17T00:00:00\", \"y_test\": 474.79998779296875, \"y_pred\": 473.71643068905246, \"label\": \"Actual\", \"predicted_label\": \"Predicted\"}, {\"date\": \"2023-04-18T00:00:00\", \"y_test\": 482.3999938964843, \"y_pred\": 478.13267942465035, \"label\": \"Actual\", \"predicted_label\": \"Predicted\"}, {\"date\": \"2023-04-19T00:00:00\", \"y_test\": 514.0, \"y_pred\": 482.7685642848246, \"label\": \"Actual\", \"predicted_label\": \"Predicted\"}, {\"date\": \"2023-04-20T00:00:00\", \"y_test\": 515.0, \"y_pred\": 518.3694947369578, \"label\": \"Actual\", \"predicted_label\": \"Predicted\"}, {\"date\": \"2023-04-21T00:00:00\", \"y_test\": 508.9500122070313, \"y_pred\": 516.3909426719342, \"label\": \"Actual\", \"predicted_label\": \"Predicted\"}, {\"date\": \"2023-04-24T00:00:00\", \"y_test\": 502.04998779296886, \"y_pred\": 497.8663013919726, \"label\": \"Actual\", \"predicted_label\": \"Predicted\"}, {\"date\": \"2023-04-25T00:00:00\", \"y_test\": 492.8999938964843, \"y_pred\": 490.9473914211655, \"label\": \"Actual\", \"predicted_label\": \"Predicted\"}, {\"date\": \"2023-04-26T00:00:00\", \"y_test\": 483.6000061035157, \"y_pred\": 481.6159796084472, \"label\": \"Actual\", \"predicted_label\": \"Predicted\"}, {\"date\": \"2023-04-27T00:00:00\", \"y_test\": 478.0, \"y_pred\": 477.43266307487244, \"label\": \"Actual\", \"predicted_label\": \"Predicted\"}, {\"date\": \"2023-04-28T00:00:00\", \"y_test\": 474.00000000000006, \"y_pred\": 476.4331569877709, \"label\": \"Actual\", \"predicted_label\": \"Predicted\"}, {\"date\": \"2023-05-02T00:00:00\", \"y_test\": 474.3500061035156, \"y_pred\": 471.51140649447706, \"label\": \"Actual\", \"predicted_label\": \"Predicted\"}, {\"date\": \"2023-05-03T00:00:00\", \"y_test\": 466.45001220703136, \"y_pred\": 466.66434476146674, \"label\": \"Actual\", \"predicted_label\": \"Predicted\"}, {\"date\": \"2023-05-04T00:00:00\", \"y_test\": 456.0, \"y_pred\": 462.3811461026979, \"label\": \"Actual\", \"predicted_label\": \"Predicted\"}, {\"date\": \"2023-05-05T00:00:00\", \"y_test\": 463.95001220703125, \"y_pred\": 455.4198153395953, \"label\": \"Actual\", \"predicted_label\": \"Predicted\"}, {\"date\": \"2023-05-08T00:00:00\", \"y_test\": 455.0, \"y_pred\": 453.3887425455981, \"label\": \"Actual\", \"predicted_label\": \"Predicted\"}, {\"date\": \"2023-05-09T00:00:00\", \"y_test\": 458.3999938964844, \"y_pred\": 458.2772153471561, \"label\": \"Actual\", \"predicted_label\": \"Predicted\"}, {\"date\": \"2023-05-10T00:00:00\", \"y_test\": 447.9500122070313, \"y_pred\": 451.20830772476626, \"label\": \"Actual\", \"predicted_label\": \"Predicted\"}, {\"date\": \"2023-05-11T00:00:00\", \"y_test\": 450.29998779296875, \"y_pred\": 451.6667730621069, \"label\": \"Actual\", \"predicted_label\": \"Predicted\"}, {\"date\": \"2023-05-12T00:00:00\", \"y_test\": 454.00000000000006, \"y_pred\": 451.9259686974186, \"label\": \"Actual\", \"predicted_label\": \"Predicted\"}, {\"date\": \"2023-05-15T00:00:00\", \"y_test\": 471.0, \"y_pred\": 438.90702842678337, \"label\": \"Actual\", \"predicted_label\": \"Predicted\"}, {\"date\": \"2023-05-16T00:00:00\", \"y_test\": 491.99999999999994, \"y_pred\": 476.21920729537715, \"label\": \"Actual\", \"predicted_label\": \"Predicted\"}, {\"date\": \"2023-05-17T00:00:00\", \"y_test\": 484.7000122070313, \"y_pred\": 495.22506207850233, \"label\": \"Actual\", \"predicted_label\": \"Predicted\"}, {\"date\": \"2023-05-19T00:00:00\", \"y_test\": 477.8500061035156, \"y_pred\": 476.11843891249237, \"label\": \"Actual\", \"predicted_label\": \"Predicted\"}, {\"date\": \"2023-05-22T00:00:00\", \"y_test\": 564.0, \"y_pred\": 477.54325559763316, \"label\": \"Actual\", \"predicted_label\": \"Predicted\"}, {\"date\": \"2023-05-23T00:00:00\", \"y_test\": 565.1500244140624, \"y_pred\": 580.1556058758125, \"label\": \"Actual\", \"predicted_label\": \"Predicted\"}, {\"date\": \"2023-05-24T00:00:00\", \"y_test\": 582.9999999999999, \"y_pred\": 550.2333966678999, \"label\": \"Actual\", \"predicted_label\": \"Predicted\"}, {\"date\": \"2023-05-25T00:00:00\", \"y_test\": 583.2999877929688, \"y_pred\": 586.8823029594797, \"label\": \"Actual\", \"predicted_label\": \"Predicted\"}, {\"date\": \"2023-05-26T00:00:00\", \"y_test\": 563.0499877929688, \"y_pred\": 567.4336854472035, \"label\": \"Actual\", \"predicted_label\": \"Predicted\"}, {\"date\": \"2023-05-30T00:00:00\", \"y_test\": 550.0, \"y_pred\": 552.2080130373955, \"label\": \"Actual\", \"predicted_label\": \"Predicted\"}, {\"date\": \"2023-05-31T00:00:00\", \"y_test\": 549.0, \"y_pred\": 542.4723556119654, \"label\": \"Actual\", \"predicted_label\": \"Predicted\"}]}}, {\"mode\": \"vega-lite\"});\n",
       "</script>"
      ],
      "text/plain": [
       "alt.LayerChart(...)"
      ]
     },
     "execution_count": 56,
     "metadata": {},
     "output_type": "execute_result"
    }
   ],
   "source": [
    "import altair as alt\n",
    "\n",
    "alt.themes.enable('fivethirtyeight')\n",
    "\n",
    "predictions_df['date'] = pd.to_datetime(predictions_df['date'])\n",
    "\n",
    "predictions_df['label'] = 'Actual'\n",
    "predictions_df['predicted_label'] = 'Predicted'\n",
    "\n",
    "# Actual high price line\n",
    "line1 = alt.Chart(predictions_df).mark_line(strokeWidth=2).encode(\n",
    "    x='date:T',\n",
    "    y=alt.Y('y_test:Q', title='Price', scale=alt.Scale(zero=False)),\n",
    "    color=alt.Color('label:N', legend=alt.Legend(title=\"Line Type\")),\n",
    "    tooltip=['date', 'y_test', 'y_pred']\n",
    ")\n",
    "\n",
    "# Predicted high price line\n",
    "line2 = alt.Chart(predictions_df).mark_line(strokeWidth=1, strokeDash=[3, 3]).encode(\n",
    "    x='date:T',\n",
    "    y=alt.Y('y_pred:Q', title='', scale=alt.Scale(zero=False)),\n",
    "    color=alt.Color('predicted_label:N', legend=alt.Legend(title=\"Line Type\")),\n",
    "    tooltip=['date', 'y_test', 'y_pred']\n",
    ")\n",
    "\n",
    "# Combine the two lines\n",
    "chart = alt.layer(line1, line2).properties(\n",
    "    title=\"Actual vs Predicted High Prices(MAPE: \" + f'{mape*100:.2f}%)' ,\n",
    "    width=650,\n",
    "    height=400\n",
    ").interactive()\n",
    "\n",
    "chart"
   ]
  }
 ],
 "metadata": {
  "kernelspec": {
   "display_name": "Python 3 (ipykernel)",
   "language": "python",
   "name": "python3"
  },
  "language_info": {
   "codemirror_mode": {
    "name": "ipython",
    "version": 3
   },
   "file_extension": ".py",
   "mimetype": "text/x-python",
   "name": "python",
   "nbconvert_exporter": "python",
   "pygments_lexer": "ipython3",
   "version": "3.10.12"
  }
 },
 "nbformat": 4,
 "nbformat_minor": 5
}
