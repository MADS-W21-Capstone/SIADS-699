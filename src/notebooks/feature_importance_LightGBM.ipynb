{
 "cells": [
  {
   "cell_type": "markdown",
   "id": "8e65bc52",
   "metadata": {},
   "source": [
    "### Load Libraries"
   ]
  },
  {
   "cell_type": "code",
   "execution_count": 14,
   "id": "16948469",
   "metadata": {},
   "outputs": [],
   "source": [
    "from prophet import Prophet\n",
    "import pandas as pd\n",
    "from datetime import datetime\n",
    "import plotly.express as px\n",
    "import plotly.graph_objs as go\n",
    "import numpy as np\n",
    "import altair as alt\n",
    "import time\n",
    "import os\n",
    "\n",
    "import pandas as pd\n",
    "from sklearn.metrics import mean_squared_error, mean_absolute_percentage_error\n",
    "from sklearn.model_selection import train_test_split\n",
    "\n",
    "# load user defined libraries\n",
    "import sys\n",
    "sys.path.append('../../src/utils/')\n",
    "from data_wrangler import create_all_features, fetch_topn_features, convert_custom_target_to_actual\n",
    "from prophet_util import prepare_data_for_training, create_model, convert_predicitons_to_actual, combine_actual_and_predictions, prepare_data_for_predictions\n",
    "from visualization import plot_prediction_range"
   ]
  },
  {
   "cell_type": "markdown",
   "id": "de5b8499",
   "metadata": {},
   "source": [
    "### Define Data Paths"
   ]
  },
  {
   "cell_type": "code",
   "execution_count": 2,
   "id": "5d1e2f69",
   "metadata": {},
   "outputs": [],
   "source": [
    "data_paths = {'COMBINED_FEATURES': '../../datasets/processed_data/combined_features/',              \n",
    "                 'TICKERS': ['EIHOTEL.BO', 'ELGIEQUIP.BO', 'IPCALAB.BO', 'PGHL.BO', 'TV18BRDCST.BO'],\n",
    "                 'FEATURE_PATH': '../../datasets/processed_data/feature_importance/LightGBM/',\n",
    "                 'VISUALIZATION_PATH': '../../visualizations/',\n",
    "                 'TOPIC_IDS': [33, 921, 495, 495, 921]\n",
    "                }\n",
    "\n",
    "train_size = 0.8  # 80% for training, 20% for testing\n",
    "window_size = 10  # Number of past records to consider\n",
    "target_price = 'ln_target'\n",
    "ticker = data_paths['TICKERS'][0]\n",
    "topic = data_paths['TOPIC_IDS'][0]\n",
    "seed=42"
   ]
  },
  {
   "cell_type": "markdown",
   "id": "638ad435",
   "metadata": {},
   "source": [
    "### Extract Top Features by Importance"
   ]
  },
  {
   "cell_type": "code",
   "execution_count": 4,
   "id": "e5521d7b",
   "metadata": {},
   "outputs": [
    {
     "name": "stdout",
     "output_type": "stream",
     "text": [
      "../../datasets/processed_data/feature_importance/LightGBM/\n"
     ]
    },
    {
     "data": {
      "text/html": [
       "<div>\n",
       "<style scoped>\n",
       "    .dataframe tbody tr th:only-of-type {\n",
       "        vertical-align: middle;\n",
       "    }\n",
       "\n",
       "    .dataframe tbody tr th {\n",
       "        vertical-align: top;\n",
       "    }\n",
       "\n",
       "    .dataframe thead th {\n",
       "        text-align: right;\n",
       "    }\n",
       "</style>\n",
       "<table border=\"1\" class=\"dataframe\">\n",
       "  <thead>\n",
       "    <tr style=\"text-align: right;\">\n",
       "      <th></th>\n",
       "      <th>shap_value_EIHOTEL.BO</th>\n",
       "      <th>feature</th>\n",
       "      <th>shap_value_ELGIEQUIP.BO</th>\n",
       "      <th>shap_value_IPCALAB.BO</th>\n",
       "      <th>shap_value_PGHL.BO</th>\n",
       "      <th>shap_value_TV18BRDCST.BO</th>\n",
       "      <th>avg_shap_value</th>\n",
       "    </tr>\n",
       "  </thead>\n",
       "  <tbody>\n",
       "    <tr>\n",
       "      <th>0</th>\n",
       "      <td>0.000024</td>\n",
       "      <td>volatility_dch_100</td>\n",
       "      <td>-4.404450e-07</td>\n",
       "      <td>0.000004</td>\n",
       "      <td>0.000001</td>\n",
       "      <td>-6.561536e-06</td>\n",
       "      <td>0.000022</td>\n",
       "    </tr>\n",
       "    <tr>\n",
       "      <th>1</th>\n",
       "      <td>0.000017</td>\n",
       "      <td>trend_psar_up_indicator_20</td>\n",
       "      <td>-9.432521e-07</td>\n",
       "      <td>0.000001</td>\n",
       "      <td>0.000001</td>\n",
       "      <td>2.456542e-07</td>\n",
       "      <td>0.000018</td>\n",
       "    </tr>\n",
       "  </tbody>\n",
       "</table>\n",
       "</div>"
      ],
      "text/plain": [
       "   shap_value_EIHOTEL.BO                     feature  shap_value_ELGIEQUIP.BO  \\\n",
       "0               0.000024          volatility_dch_100            -4.404450e-07   \n",
       "1               0.000017  trend_psar_up_indicator_20            -9.432521e-07   \n",
       "\n",
       "   shap_value_IPCALAB.BO  shap_value_PGHL.BO  shap_value_TV18BRDCST.BO  \\\n",
       "0               0.000004            0.000001             -6.561536e-06   \n",
       "1               0.000001            0.000001              2.456542e-07   \n",
       "\n",
       "   avg_shap_value  \n",
       "0        0.000022  \n",
       "1        0.000018  "
      ]
     },
     "execution_count": 4,
     "metadata": {},
     "output_type": "execute_result"
    }
   ],
   "source": [
    "# fetch topn features as per feature importance\n",
    "topn_features_df = fetch_topn_features(data_paths['FEATURE_PATH'], 50)"
   ]
  },
  {
   "cell_type": "markdown",
   "id": "161488bc",
   "metadata": {},
   "source": [
    "### Plot Feature Importance"
   ]
  },
  {
   "cell_type": "code",
   "execution_count": 81,
   "id": "4545d304",
   "metadata": {},
   "outputs": [
    {
     "data": {
      "text/html": [
       "\n",
       "<style>\n",
       "  #altair-viz-3f1e1bfa89d24ba1bd6fd238542c2991.vega-embed {\n",
       "    width: 100%;\n",
       "    display: flex;\n",
       "  }\n",
       "\n",
       "  #altair-viz-3f1e1bfa89d24ba1bd6fd238542c2991.vega-embed details,\n",
       "  #altair-viz-3f1e1bfa89d24ba1bd6fd238542c2991.vega-embed details summary {\n",
       "    position: relative;\n",
       "  }\n",
       "</style>\n",
       "<div id=\"altair-viz-3f1e1bfa89d24ba1bd6fd238542c2991\"></div>\n",
       "<script type=\"text/javascript\">\n",
       "  var VEGA_DEBUG = (typeof VEGA_DEBUG == \"undefined\") ? {} : VEGA_DEBUG;\n",
       "  (function(spec, embedOpt){\n",
       "    let outputDiv = document.currentScript.previousElementSibling;\n",
       "    if (outputDiv.id !== \"altair-viz-3f1e1bfa89d24ba1bd6fd238542c2991\") {\n",
       "      outputDiv = document.getElementById(\"altair-viz-3f1e1bfa89d24ba1bd6fd238542c2991\");\n",
       "    }\n",
       "    const paths = {\n",
       "      \"vega\": \"https://cdn.jsdelivr.net/npm/vega@5?noext\",\n",
       "      \"vega-lib\": \"https://cdn.jsdelivr.net/npm/vega-lib?noext\",\n",
       "      \"vega-lite\": \"https://cdn.jsdelivr.net/npm/vega-lite@5.8.0?noext\",\n",
       "      \"vega-embed\": \"https://cdn.jsdelivr.net/npm/vega-embed@6?noext\",\n",
       "    };\n",
       "\n",
       "    function maybeLoadScript(lib, version) {\n",
       "      var key = `${lib.replace(\"-\", \"\")}_version`;\n",
       "      return (VEGA_DEBUG[key] == version) ?\n",
       "        Promise.resolve(paths[lib]) :\n",
       "        new Promise(function(resolve, reject) {\n",
       "          var s = document.createElement('script');\n",
       "          document.getElementsByTagName(\"head\")[0].appendChild(s);\n",
       "          s.async = true;\n",
       "          s.onload = () => {\n",
       "            VEGA_DEBUG[key] = version;\n",
       "            return resolve(paths[lib]);\n",
       "          };\n",
       "          s.onerror = () => reject(`Error loading script: ${paths[lib]}`);\n",
       "          s.src = paths[lib];\n",
       "        });\n",
       "    }\n",
       "\n",
       "    function showError(err) {\n",
       "      outputDiv.innerHTML = `<div class=\"error\" style=\"color:red;\">${err}</div>`;\n",
       "      throw err;\n",
       "    }\n",
       "\n",
       "    function displayChart(vegaEmbed) {\n",
       "      vegaEmbed(outputDiv, spec, embedOpt)\n",
       "        .catch(err => showError(`Javascript Error: ${err.message}<br>This usually means there's a typo in your chart specification. See the javascript console for the full traceback.`));\n",
       "    }\n",
       "\n",
       "    if(typeof define === \"function\" && define.amd) {\n",
       "      requirejs.config({paths});\n",
       "      require([\"vega-embed\"], displayChart, err => showError(`Error loading script: ${err.message}`));\n",
       "    } else {\n",
       "      maybeLoadScript(\"vega\", \"5\")\n",
       "        .then(() => maybeLoadScript(\"vega-lite\", \"5.8.0\"))\n",
       "        .then(() => maybeLoadScript(\"vega-embed\", \"6\"))\n",
       "        .catch(showError)\n",
       "        .then(() => displayChart(vegaEmbed));\n",
       "    }\n",
       "  })({\"config\": {\"view\": {\"continuousWidth\": 300, \"continuousHeight\": 300, \"strokeWidth\": 0}, \"axis\": {\"domain\": false, \"grid\": false, \"labelFontSize\": 11, \"titleFontSize\": 20}, \"legend\": {\"labelLimit\": 0}}, \"data\": {\"name\": \"data-bb6a6e0648f7b577383befeb5482d9e3\"}, \"mark\": {\"type\": \"bar\", \"width\": 15}, \"encoding\": {\"color\": {\"field\": \"feature\", \"legend\": null, \"scale\": {\"reverse\": true, \"scheme\": \"blues\"}, \"sort\": \"-y\", \"type\": \"nominal\"}, \"x\": {\"axis\": {\"labelAngle\": -60, \"tickSize\": 0, \"title\": \"Top 50 Features by Importance\"}, \"field\": \"feature\", \"sort\": \"-y\", \"type\": \"nominal\"}, \"y\": {\"axis\": {\"tickSize\": 0, \"title\": \"Average Tree SHAP Values\"}, \"field\": \"transform_shap\", \"type\": \"quantitative\"}}, \"height\": 400, \"title\": {\"text\": \"Feature Importance Rating for LightGBM\", \"fontSize\": 25, \"anchor\": \"start\"}, \"transform\": [{\"calculate\": \"datum.avg_shap_value * 10000\", \"as\": \"transform_shap\"}], \"width\": 850, \"$schema\": \"https://vega.github.io/schema/vega-lite/v5.8.0.json\", \"datasets\": {\"data-bb6a6e0648f7b577383befeb5482d9e3\": [{\"shap_value_EIHOTEL.BO\": 2.410117913141373e-05, \"feature\": \"volatility_dch_100\", \"shap_value_ELGIEQUIP.BO\": -4.40445018914193e-07, \"shap_value_IPCALAB.BO\": 3.7899657415147087e-06, \"shap_value_PGHL.BO\": 1.4264121280521922e-06, \"shap_value_TV18BRDCST.BO\": -6.561535772535899e-06, \"avg_shap_value\": 2.2315576209530538e-05}, {\"shap_value_EIHOTEL.BO\": 1.6723778992088136e-05, \"feature\": \"trend_psar_up_indicator_20\", \"shap_value_ELGIEQUIP.BO\": -9.432520538968092e-07, \"shap_value_IPCALAB.BO\": 1.186770710210878e-06, \"shap_value_PGHL.BO\": 1.1301804966807286e-06, \"shap_value_TV18BRDCST.BO\": 2.456542175151222e-07, \"avg_shap_value\": 1.8343132362598055e-05}, {\"shap_value_EIHOTEL.BO\": 5.390002390310603e-07, \"feature\": \"trend_ema_fast_100\", \"shap_value_ELGIEQUIP.BO\": 1.7796194466900144e-05, \"shap_value_IPCALAB.BO\": 6.906724776282564e-07, \"shap_value_PGHL.BO\": 0.0, \"shap_value_TV18BRDCST.BO\": -1.0783001521170894e-06, \"avg_shap_value\": 1.7947567031442372e-05}, {\"shap_value_EIHOTEL.BO\": 4.213867491470729e-06, \"feature\": \"momentum_stoch_rsi_k_200\", \"shap_value_ELGIEQUIP.BO\": 2.868759675804237e-06, \"shap_value_IPCALAB.BO\": 1.958746282444473e-06, \"shap_value_PGHL.BO\": 3.483488024984541e-06, \"shap_value_TV18BRDCST.BO\": 2.403459836714653e-06, \"avg_shap_value\": 1.4928321311418634e-05}, {\"shap_value_EIHOTEL.BO\": -8.61407128710563e-08, \"feature\": \"momentum_wr_20\", \"shap_value_ELGIEQUIP.BO\": 2.3142812182010237e-07, \"shap_value_IPCALAB.BO\": 1.46844601418419e-06, \"shap_value_PGHL.BO\": 3.099774061411465e-07, \"shap_value_TV18BRDCST.BO\": 1.2995101174843324e-05, \"avg_shap_value\": 1.4918812004117706e-05}, {\"shap_value_EIHOTEL.BO\": 1.2764529008548697e-06, \"feature\": \"volatility_bbl_200\", \"shap_value_ELGIEQUIP.BO\": 2.9209565385490677e-06, \"shap_value_IPCALAB.BO\": 1.484860148164919e-06, \"shap_value_PGHL.BO\": 3.565346170908084e-06, \"shap_value_TV18BRDCST.BO\": 4.380781721235804e-06, \"avg_shap_value\": 1.3628397479712744e-05}, {\"shap_value_EIHOTEL.BO\": 1.4441456924448744e-06, \"feature\": \"trend_macd_signal_10\", \"shap_value_ELGIEQUIP.BO\": -9.764522678309491e-07, \"shap_value_IPCALAB.BO\": -1.3117816324151429e-07, \"shap_value_PGHL.BO\": 1.1257927475347534e-05, \"shap_value_TV18BRDCST.BO\": 1.750092945103076e-06, \"avg_shap_value\": 1.3344535681823021e-05}, {\"shap_value_EIHOTEL.BO\": -4.341106623357619e-06, \"feature\": \"momentum_rsi_200\", \"shap_value_ELGIEQUIP.BO\": 5.909959150578032e-07, \"shap_value_IPCALAB.BO\": 6.6093110742103485e-06, \"shap_value_PGHL.BO\": 5.113192243377459e-06, \"shap_value_TV18BRDCST.BO\": 5.085532514216263e-06, \"avg_shap_value\": 1.3057925123504255e-05}, {\"shap_value_EIHOTEL.BO\": 4.772555631187178e-06, \"feature\": \"momentum_stoch_5\", \"shap_value_ELGIEQUIP.BO\": 5.809955557886064e-07, \"shap_value_IPCALAB.BO\": 0.0, \"shap_value_PGHL.BO\": 1.948207002139765e-06, \"shap_value_TV18BRDCST.BO\": 4.796706560543376e-06, \"avg_shap_value\": 1.2098464749658925e-05}, {\"shap_value_EIHOTEL.BO\": 3.826592055448131e-06, \"feature\": \"volatility_dcp_200\", \"shap_value_ELGIEQUIP.BO\": 6.141111513669323e-06, \"shap_value_IPCALAB.BO\": 0.0, \"shap_value_PGHL.BO\": 0.0, \"shap_value_TV18BRDCST.BO\": 1.3318707638113653e-06, \"avg_shap_value\": 1.1299574332928819e-05}, {\"shap_value_EIHOTEL.BO\": -3.139958390585778e-06, \"feature\": \"momentum_kama_10\", \"shap_value_ELGIEQUIP.BO\": 3.599246829747524e-07, \"shap_value_IPCALAB.BO\": 4.006533727725123e-07, \"shap_value_PGHL.BO\": 1.19856162520705e-06, \"shap_value_TV18BRDCST.BO\": 1.1845913441566512e-05, \"avg_shap_value\": 1.0665094731935048e-05}, {\"shap_value_EIHOTEL.BO\": 5.365207303249322e-06, \"feature\": \"momentum_stoch_rsi_d_20\", \"shap_value_ELGIEQUIP.BO\": 2.7591633664120685e-06, \"shap_value_IPCALAB.BO\": 9.281202122205292e-07, \"shap_value_PGHL.BO\": 1.7678917018492722e-06, \"shap_value_TV18BRDCST.BO\": -1.9564747547035761e-07, \"avg_shap_value\": 1.0624735108260834e-05}, {\"shap_value_EIHOTEL.BO\": 1.8391122697782107e-07, \"feature\": \"momentum_rsi_20\", \"shap_value_ELGIEQUIP.BO\": 4.191652308160063e-06, \"shap_value_IPCALAB.BO\": 7.439940693317031e-06, \"shap_value_PGHL.BO\": -1.050623338261506e-06, \"shap_value_TV18BRDCST.BO\": -4.5771209160384725e-07, \"avg_shap_value\": 1.0307168798589562e-05}, {\"shap_value_EIHOTEL.BO\": 5.529834994919684e-06, \"feature\": \"volume_cmf_200\", \"shap_value_ELGIEQUIP.BO\": -3.56750412567606e-06, \"shap_value_IPCALAB.BO\": 2.896434788843536e-06, \"shap_value_PGHL.BO\": 3.9091384079408855e-06, \"shap_value_TV18BRDCST.BO\": 1.3386881100977887e-06, \"avg_shap_value\": 1.0106592176125835e-05}, {\"shap_value_EIHOTEL.BO\": 0.0, \"feature\": \"volume_vwap_200\", \"shap_value_ELGIEQUIP.BO\": 0.0, \"shap_value_IPCALAB.BO\": 0.0, \"shap_value_PGHL.BO\": 1.1470723975731492e-05, \"shap_value_TV18BRDCST.BO\": -1.578004032976807e-06, \"avg_shap_value\": 9.892719942754685e-06}, {\"shap_value_EIHOTEL.BO\": 1.8466185289721468e-06, \"feature\": \"trend_psar_down_indicator_20\", \"shap_value_ELGIEQUIP.BO\": 5.191283015225314e-06, \"shap_value_IPCALAB.BO\": 5.246280578831956e-07, \"shap_value_PGHL.BO\": 2.2819618215432914e-06, \"shap_value_TV18BRDCST.BO\": -4.140018817221021e-07, \"avg_shap_value\": 9.430489541901846e-06}, {\"shap_value_EIHOTEL.BO\": 0.0, \"feature\": \"volatility_kchi_200\", \"shap_value_ELGIEQUIP.BO\": -1.7538275810944633e-06, \"shap_value_IPCALAB.BO\": 0.0, \"shap_value_PGHL.BO\": 1.0844773586851114e-05, \"shap_value_TV18BRDCST.BO\": 1.4285973880345294e-07, \"avg_shap_value\": 9.233805744560102e-06}, {\"shap_value_EIHOTEL.BO\": 4.713291047848678e-07, \"feature\": \"volatility_kcw_20\", \"shap_value_ELGIEQUIP.BO\": 1.585217066113688e-06, \"shap_value_IPCALAB.BO\": 5.210936007069026e-06, \"shap_value_PGHL.BO\": 1.401095901104158e-06, \"shap_value_TV18BRDCST.BO\": 5.397119400991867e-07, \"avg_shap_value\": 9.208290019170928e-06}, {\"shap_value_EIHOTEL.BO\": 1.4974123848615935e-06, \"feature\": \"trend_kst_diff_50\", \"shap_value_ELGIEQUIP.BO\": 6.250288008500385e-07, \"shap_value_IPCALAB.BO\": 8.334913480347836e-07, \"shap_value_PGHL.BO\": -5.337601906078671e-06, \"shap_value_TV18BRDCST.BO\": 1.15865934890803e-05, \"avg_shap_value\": 9.204924116748045e-06}, {\"shap_value_EIHOTEL.BO\": 5.39384417179651e-06, \"feature\": \"trend_psar_up_indicator_5\", \"shap_value_ELGIEQUIP.BO\": 1.3880578262129058e-06, \"shap_value_IPCALAB.BO\": 6.633372887401167e-07, \"shap_value_PGHL.BO\": 8.886885841655185e-07, \"shap_value_TV18BRDCST.BO\": 7.7846364375121e-07, \"avg_shap_value\": 9.112391514666261e-06}, {\"shap_value_EIHOTEL.BO\": 6.992703450442043e-07, \"feature\": \"volume_fi_200\", \"shap_value_ELGIEQUIP.BO\": 1.24600464968545e-06, \"shap_value_IPCALAB.BO\": 9.37043359503182e-07, \"shap_value_PGHL.BO\": 2.094903021463057e-06, \"shap_value_TV18BRDCST.BO\": 3.932380106758593e-06, \"avg_shap_value\": 8.909601482454486e-06}, {\"shap_value_EIHOTEL.BO\": 1.3698051415577337e-07, \"feature\": \"trend_psar_up_indicator_50\", \"shap_value_ELGIEQUIP.BO\": 1.6778577704504352e-06, \"shap_value_IPCALAB.BO\": 3.394262748826799e-06, \"shap_value_PGHL.BO\": 1.0165357464699131e-06, \"shap_value_TV18BRDCST.BO\": 2.554634726603276e-06, \"avg_shap_value\": 8.780271506506196e-06}, {\"shap_value_EIHOTEL.BO\": 9.747404506046633e-06, \"feature\": \"others_dlr_10\", \"shap_value_ELGIEQUIP.BO\": 6.512168975727621e-07, \"shap_value_IPCALAB.BO\": 7.566546695283908e-08, \"shap_value_PGHL.BO\": -1.366080127175613e-06, \"shap_value_TV18BRDCST.BO\": -3.929212477653849e-07, \"avg_shap_value\": 8.715285495631236e-06}, {\"shap_value_EIHOTEL.BO\": 3.004717263466483e-06, \"feature\": \"momentum_roc_200\", \"shap_value_ELGIEQUIP.BO\": 3.789655818292353e-08, \"shap_value_IPCALAB.BO\": 8.898737492719591e-07, \"shap_value_PGHL.BO\": 1.6271423721423191e-06, \"shap_value_TV18BRDCST.BO\": 3.100106634782653e-06, \"avg_shap_value\": 8.659736577846337e-06}, {\"shap_value_EIHOTEL.BO\": 3.95448003285089e-06, \"feature\": \"volume_sma_em_5\", \"shap_value_ELGIEQUIP.BO\": 3.372541578382552e-06, \"shap_value_IPCALAB.BO\": 1.2705432585220475e-06, \"shap_value_PGHL.BO\": 0.0, \"shap_value_TV18BRDCST.BO\": 2.923489560549307e-09, \"avg_shap_value\": 8.600488359316039e-06}, {\"shap_value_EIHOTEL.BO\": 8.668480537703565e-07, \"feature\": \"volatility_dcw\", \"shap_value_ELGIEQUIP.BO\": 2.7430658229144165e-06, \"shap_value_IPCALAB.BO\": 2.5281618974977504e-06, \"shap_value_PGHL.BO\": 1.5495595454708712e-06, \"shap_value_TV18BRDCST.BO\": 7.550537281041682e-07, \"avg_shap_value\": 8.442689047757564e-06}, {\"shap_value_EIHOTEL.BO\": 1.1660796393261952e-06, \"feature\": \"momentum_stoch_rsi\", \"shap_value_ELGIEQUIP.BO\": 2.8126570387860512e-06, \"shap_value_IPCALAB.BO\": 1.8893362774616849e-06, \"shap_value_PGHL.BO\": 7.334373141436909e-07, \"shap_value_TV18BRDCST.BO\": 1.7864055626089195e-06, \"avg_shap_value\": 8.387915832326542e-06}, {\"shap_value_EIHOTEL.BO\": 5.162090074398571e-06, \"feature\": \"others_dr\", \"shap_value_ELGIEQUIP.BO\": -1.387409888594782e-06, \"shap_value_IPCALAB.BO\": 1.261602444406031e-06, \"shap_value_PGHL.BO\": -6.363206768650013e-07, \"shap_value_TV18BRDCST.BO\": 3.908155621389761e-06, \"avg_shap_value\": 8.30811757473458e-06}, {\"shap_value_EIHOTEL.BO\": -1.3898648473654918e-06, \"feature\": \"trend_vortex_ind_neg_100\", \"shap_value_ELGIEQUIP.BO\": 4.258877308674883e-06, \"shap_value_IPCALAB.BO\": 0.0, \"shap_value_PGHL.BO\": 4.99531120580504e-06, \"shap_value_TV18BRDCST.BO\": 4.016893356865596e-07, \"avg_shap_value\": 8.266013002800991e-06}, {\"shap_value_EIHOTEL.BO\": 5.103022767706643e-07, \"feature\": \"momentum_rsi\", \"shap_value_ELGIEQUIP.BO\": 8.616004993705751e-07, \"shap_value_IPCALAB.BO\": 5.681992159784815e-06, \"shap_value_PGHL.BO\": 5.829711787692478e-06, \"shap_value_TV18BRDCST.BO\": -4.979199973733648e-06, \"avg_shap_value\": 7.904406749884883e-06}, {\"shap_value_EIHOTEL.BO\": 2.987678458104749e-07, \"feature\": \"profit_loss_from_ordinary_activities_before_tax_qtr\", \"shap_value_ELGIEQUIP.BO\": 2.63943601103956e-06, \"shap_value_IPCALAB.BO\": -1.085173338458924e-06, \"shap_value_PGHL.BO\": 1.3321487022120424e-06, \"shap_value_TV18BRDCST.BO\": 4.659584408600848e-06, \"avg_shap_value\": 7.844763629204002e-06}, {\"shap_value_EIHOTEL.BO\": 1.0020732057259932e-05, \"feature\": \"volume_em\", \"shap_value_ELGIEQUIP.BO\": -1.6426518823015485e-06, \"shap_value_IPCALAB.BO\": -1.6736574681218733e-06, \"shap_value_PGHL.BO\": 1.192894333681397e-07, \"shap_value_TV18BRDCST.BO\": 7.519264536685834e-07, \"avg_shap_value\": 7.575638593873232e-06}, {\"shap_value_EIHOTEL.BO\": -3.1366226514890614e-07, \"feature\": \"trend_visual_ichimoku_a_100\", \"shap_value_ELGIEQUIP.BO\": 6.01030140334488e-07, \"shap_value_IPCALAB.BO\": 8.039394261173936e-06, \"shap_value_PGHL.BO\": -3.3163265154875145e-07, \"shap_value_TV18BRDCST.BO\": -4.928124309697211e-07, \"avg_shap_value\": 7.502317053841045e-06}, {\"shap_value_EIHOTEL.BO\": -1.3333548843207678e-06, \"feature\": \"trend_aroon_up\", \"shap_value_ELGIEQUIP.BO\": 2.853325462756671e-06, \"shap_value_IPCALAB.BO\": 2.1997923817993288e-06, \"shap_value_PGHL.BO\": 1.901225938342359e-07, \"shap_value_TV18BRDCST.BO\": 3.47052352479246e-06, \"avg_shap_value\": 7.380409078861928e-06}, {\"shap_value_EIHOTEL.BO\": -4.190675245134688e-07, \"feature\": \"volatility_kch_100\", \"shap_value_ELGIEQUIP.BO\": 1.9535573413785835e-06, \"shap_value_IPCALAB.BO\": 3.574412492195009e-06, \"shap_value_PGHL.BO\": 2.770387990082927e-06, \"shap_value_TV18BRDCST.BO\": -8.262441927964065e-07, \"avg_shap_value\": 7.053046106346643e-06}, {\"shap_value_EIHOTEL.BO\": 1.0251204612600056e-06, \"feature\": \"volume_fi\", \"shap_value_ELGIEQUIP.BO\": 1.0919041589114262e-06, \"shap_value_IPCALAB.BO\": 1.0685552185595902e-06, \"shap_value_PGHL.BO\": 1.3686424079811478e-06, \"shap_value_TV18BRDCST.BO\": 2.425342150029659e-06, \"avg_shap_value\": 6.979564396741829e-06}, {\"shap_value_EIHOTEL.BO\": -3.8011220415932725e-07, \"feature\": \"trend_adx_5\", \"shap_value_ELGIEQUIP.BO\": 1.2297237744861405e-06, \"shap_value_IPCALAB.BO\": 2.467867219615891e-06, \"shap_value_PGHL.BO\": 1.4868533037934903e-06, \"shap_value_TV18BRDCST.BO\": 2.1461020379242525e-06, \"avg_shap_value\": 6.950434131660447e-06}, {\"shap_value_EIHOTEL.BO\": 6.003950161241136e-06, \"feature\": \"trend_ichimoku_conv_100\", \"shap_value_ELGIEQUIP.BO\": 0.0, \"shap_value_IPCALAB.BO\": 0.0, \"shap_value_PGHL.BO\": 0.0, \"shap_value_TV18BRDCST.BO\": 9.443227204014768e-07, \"avg_shap_value\": 6.948272881642613e-06}, {\"shap_value_EIHOTEL.BO\": -6.777700855215009e-07, \"feature\": \"others_dr_10\", \"shap_value_ELGIEQUIP.BO\": 6.265601709408781e-06, \"shap_value_IPCALAB.BO\": -7.830733495567586e-07, \"shap_value_PGHL.BO\": 6.322761140449953e-07, \"shap_value_TV18BRDCST.BO\": 1.4096448528316746e-06, \"avg_shap_value\": 6.8466792412071915e-06}, {\"shap_value_EIHOTEL.BO\": 7.265746464429976e-06, \"feature\": \"others_dlr_100\", \"shap_value_ELGIEQUIP.BO\": 7.168384603290129e-07, \"shap_value_IPCALAB.BO\": -3.439587793751998e-07, \"shap_value_PGHL.BO\": 7.018260126312443e-07, \"shap_value_TV18BRDCST.BO\": -1.879034063822344e-06, \"avg_shap_value\": 6.46141809419269e-06}, {\"shap_value_EIHOTEL.BO\": 5.793153874652286e-07, \"feature\": \"trend_kst_diff_5\", \"shap_value_ELGIEQUIP.BO\": 4.813162601106405e-07, \"shap_value_IPCALAB.BO\": 3.359387983769839e-06, \"shap_value_PGHL.BO\": 1.191841534793152e-06, \"shap_value_TV18BRDCST.BO\": 7.501992760241782e-07, \"avg_shap_value\": 6.362060442163038e-06}, {\"shap_value_EIHOTEL.BO\": 1.003316305720521e-06, \"feature\": \"volume_vpt_5\", \"shap_value_ELGIEQUIP.BO\": 2.40541199576991e-06, \"shap_value_IPCALAB.BO\": 2.6879805642706983e-06, \"shap_value_PGHL.BO\": 5.315271178345295e-07, \"shap_value_TV18BRDCST.BO\": -5.413489109355622e-07, \"avg_shap_value\": 6.086887072660097e-06}, {\"shap_value_EIHOTEL.BO\": -1.0041454331842483e-06, \"feature\": \"volume_mfi_200\", \"shap_value_ELGIEQUIP.BO\": 1.0129163235398792e-06, \"shap_value_IPCALAB.BO\": 1.6489122529634985e-06, \"shap_value_PGHL.BO\": 1.5614462110527583e-06, \"shap_value_TV18BRDCST.BO\": 2.667962738784628e-06, \"avg_shap_value\": 5.8870920931565155e-06}, {\"shap_value_EIHOTEL.BO\": 2.777684278507364e-06, \"feature\": \"trend_aroon_ind_20\", \"shap_value_ELGIEQUIP.BO\": 1.995763913852804e-06, \"shap_value_IPCALAB.BO\": 7.84324886593252e-08, \"shap_value_PGHL.BO\": 8.07593443938742e-07, \"shap_value_TV18BRDCST.BO\": 2.0154178606170046e-07, \"avg_shap_value\": 5.861015911019936e-06}, {\"shap_value_EIHOTEL.BO\": 1.930011643383665e-06, \"feature\": \"momentum_wr_50\", \"shap_value_ELGIEQUIP.BO\": -6.501505570886862e-06, \"shap_value_IPCALAB.BO\": 4.335734969326923e-06, \"shap_value_PGHL.BO\": 1.6049962849940873e-07, \"shap_value_TV18BRDCST.BO\": 5.915715738833384e-06, \"avg_shap_value\": 5.840456409156518e-06}, {\"shap_value_EIHOTEL.BO\": 8.13447678418811e-07, \"feature\": \"volatility_bbw_200\", \"shap_value_ELGIEQUIP.BO\": -2.675762832120856e-06, \"shap_value_IPCALAB.BO\": 1.8170526249080136e-06, \"shap_value_PGHL.BO\": 3.695136047294237e-06, \"shap_value_TV18BRDCST.BO\": 2.167409845585302e-06, \"avg_shap_value\": 5.8172833640855075e-06}, {\"shap_value_EIHOTEL.BO\": 2.114656214572032e-06, \"feature\": \"volatility_bbp_10\", \"shap_value_ELGIEQUIP.BO\": -4.379711171157934e-07, \"shap_value_IPCALAB.BO\": 1.2901889546545484e-06, \"shap_value_PGHL.BO\": 1.6194438871619522e-06, \"shap_value_TV18BRDCST.BO\": 1.2224036948655997e-06, \"avg_shap_value\": 5.8087216341383386e-06}, {\"shap_value_EIHOTEL.BO\": -1.0793073952558697e-07, \"feature\": \"trend_psar_down_indicator_50\", \"shap_value_ELGIEQUIP.BO\": -4.726499691776897e-07, \"shap_value_IPCALAB.BO\": 3.6393299292600633e-06, \"shap_value_PGHL.BO\": -1.559633068303026e-08, \"shap_value_TV18BRDCST.BO\": 2.734285492219801e-06, \"avg_shap_value\": 5.777438382093558e-06}, {\"shap_value_EIHOTEL.BO\": -2.3159000206704924e-06, \"feature\": \"momentum_stoch_200\", \"shap_value_ELGIEQUIP.BO\": 1.0991322195956328e-06, \"shap_value_IPCALAB.BO\": -1.6576006763538033e-07, \"shap_value_PGHL.BO\": 1.7224509733677668e-06, \"shap_value_TV18BRDCST.BO\": 5.316203013312121e-06, \"avg_shap_value\": 5.656126117969648e-06}, {\"shap_value_EIHOTEL.BO\": 1.1504447767005035e-05, \"feature\": \"trend_vortex_ind_neg_50\", \"shap_value_ELGIEQUIP.BO\": 1.621544202196897e-07, \"shap_value_IPCALAB.BO\": -2.1989028465412657e-06, \"shap_value_PGHL.BO\": -4.301951100744982e-06, \"shap_value_TV18BRDCST.BO\": 4.337242170979459e-07, \"avg_shap_value\": 5.599472457036423e-06}]}}, {\"mode\": \"vega-lite\"});\n",
       "</script>"
      ],
      "text/plain": [
       "alt.Chart(...)"
      ]
     },
     "execution_count": 81,
     "metadata": {},
     "output_type": "execute_result"
    }
   ],
   "source": [
    "alt.Chart(topn_features_df).mark_bar(width=15).transform_calculate(\n",
    "                        transform_shap='datum.avg_shap_value * 10000'\n",
    ").encode(\n",
    "        x=alt.X('feature:N', \n",
    "                sort='-y', axis=alt.Axis(title='Top 50 Features by Importance', labelAngle=-60, tickSize=0)),\n",
    "        y=alt.Y('transform_shap:Q', \n",
    "                axis=alt.Axis(title='Average Tree SHAP Values', tickSize=0)),\n",
    "        color=alt.Color('feature:N', legend=None,\n",
    "                scale=alt.Scale(scheme='blues', reverse=True),\n",
    "                sort='-y')\n",
    ").properties(width=850, height=400, title={\"text\" : 'Feature Importance Rating for LightGBM',\n",
    "                          \"fontSize\": 25,\n",
    "                          \"anchor\":\"start\"}\n",
    ").configure_view(strokeWidth=0\n",
    ").configure_axis(labelFontSize=11, titleFontSize=20,\n",
    "                 grid=False, domain=False\n",
    ").configure_legend(labelLimit=0)"
   ]
  }
 ],
 "metadata": {
  "kernelspec": {
   "display_name": "Python 3 (ipykernel)",
   "language": "python",
   "name": "python3"
  },
  "language_info": {
   "codemirror_mode": {
    "name": "ipython",
    "version": 3
   },
   "file_extension": ".py",
   "mimetype": "text/x-python",
   "name": "python",
   "nbconvert_exporter": "python",
   "pygments_lexer": "ipython3",
   "version": "3.10.12"
  }
 },
 "nbformat": 4,
 "nbformat_minor": 5
}
