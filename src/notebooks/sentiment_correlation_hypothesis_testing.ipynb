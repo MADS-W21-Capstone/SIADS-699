{
 "cells": [
  {
   "cell_type": "markdown",
   "id": "24f9c4b6",
   "metadata": {},
   "source": [
    "### Load Libraries"
   ]
  },
  {
   "cell_type": "code",
   "execution_count": 59,
   "id": "fba3538f",
   "metadata": {},
   "outputs": [],
   "source": [
    "import plotly.express as px\n",
    "import pandas as pd\n",
    "import numpy as np"
   ]
  },
  {
   "cell_type": "markdown",
   "id": "58c0fc56",
   "metadata": {},
   "source": [
    "### Define Data Paths/Variables"
   ]
  },
  {
   "cell_type": "code",
   "execution_count": 55,
   "id": "cf3735ef",
   "metadata": {},
   "outputs": [],
   "source": [
    "data_paths = {'RAW_DATA': '../../datasets/rawdata/market_data/',\n",
    "                 'FINANCIAL_RESULTS': '../../datasets/processed_data/financial_results/',\n",
    "                 'INDEX_FEATURES': '../../datasets/processed_data/index_features/',\n",
    "                 'FEATURE_IMP_PATH': '../../datasets/processed_data/feature_importance/LightGBM/',\n",
    "                 'AGG_SENTIMENT': '../../datasets/processed_data/agg_sentiment_scores/agg_sentiment.csv',\n",
    "                 'TOPIC_SENTIMENT': '../../datasets/processed_data/agg_sentiment_scores/agg_sent_topic.csv',\n",
    "                 'TICKER_SENTIMENT': '../../datasets/processed_data/agg_sentiment_scores/ticker_news_sent.csv',\n",
    "                 'TICKERS': ['EIHOTEL.BO', 'ELGIEQUIP.BO', 'IPCALAB.BO', 'PGHL.BO',  'TV18BRDCST.BO'],\n",
    "                 'TOPIC_IDS': [33, 921, 495, 495, 385]\n",
    "\n",
    "             }\n",
    "\n",
    "train_size = 0.8  # 80% for training, 20% for testing\n",
    "window_size = 10  # Number of past records to consider\n",
    "target_price = 'ln_target'\n",
    "seed= 42\n",
    "\n",
    "ticker = data_paths['TICKERS'][2]\n",
    "topic_id = data_paths['TOPIC_IDS'][2]"
   ]
  },
  {
   "cell_type": "markdown",
   "id": "ccb46914",
   "metadata": {},
   "source": [
    "### Load Data"
   ]
  },
  {
   "cell_type": "code",
   "execution_count": 56,
   "id": "3075a056",
   "metadata": {},
   "outputs": [],
   "source": [
    "pd.options.display.float_format = \"{:,.5f}\".format"
   ]
  },
  {
   "cell_type": "code",
   "execution_count": 57,
   "id": "6b04a3fc",
   "metadata": {
    "scrolled": false
   },
   "outputs": [
    {
     "data": {
      "text/html": [
       "<div>\n",
       "<style scoped>\n",
       "    .dataframe tbody tr th:only-of-type {\n",
       "        vertical-align: middle;\n",
       "    }\n",
       "\n",
       "    .dataframe tbody tr th {\n",
       "        vertical-align: top;\n",
       "    }\n",
       "\n",
       "    .dataframe thead th {\n",
       "        text-align: right;\n",
       "    }\n",
       "</style>\n",
       "<table border=\"1\" class=\"dataframe\">\n",
       "  <thead>\n",
       "    <tr style=\"text-align: right;\">\n",
       "      <th></th>\n",
       "      <th>ticker</th>\n",
       "      <th>price</th>\n",
       "      <th>sentiment_type</th>\n",
       "      <th>statistic</th>\n",
       "      <th>pvalue</th>\n",
       "      <th>hypothesis_result</th>\n",
       "    </tr>\n",
       "  </thead>\n",
       "  <tbody>\n",
       "    <tr>\n",
       "      <th>0</th>\n",
       "      <td>EIHOTEL.BO</td>\n",
       "      <td>High</td>\n",
       "      <td>AGG_SENTIMENT</td>\n",
       "      <td>0.38520</td>\n",
       "      <td>0.00000</td>\n",
       "      <td>PearsonRResult(statistic=0.3851923720879502, p...</td>\n",
       "    </tr>\n",
       "    <tr>\n",
       "      <th>1</th>\n",
       "      <td>EIHOTEL.BO</td>\n",
       "      <td>High</td>\n",
       "      <td>TOPIC_SENTIMENT</td>\n",
       "      <td>0.08910</td>\n",
       "      <td>0.00000</td>\n",
       "      <td>PearsonRResult(statistic=0.08907477098747016, ...</td>\n",
       "    </tr>\n",
       "    <tr>\n",
       "      <th>2</th>\n",
       "      <td>EIHOTEL.BO</td>\n",
       "      <td>High</td>\n",
       "      <td>TICKER_SENTIMENT</td>\n",
       "      <td>0.20230</td>\n",
       "      <td>0.00000</td>\n",
       "      <td>PearsonRResult(statistic=0.20229537875862433, ...</td>\n",
       "    </tr>\n",
       "    <tr>\n",
       "      <th>3</th>\n",
       "      <td>ELGIEQUIP.BO</td>\n",
       "      <td>High</td>\n",
       "      <td>AGG_SENTIMENT</td>\n",
       "      <td>0.41600</td>\n",
       "      <td>0.00000</td>\n",
       "      <td>PearsonRResult(statistic=0.4160011472769253, p...</td>\n",
       "    </tr>\n",
       "    <tr>\n",
       "      <th>4</th>\n",
       "      <td>ELGIEQUIP.BO</td>\n",
       "      <td>High</td>\n",
       "      <td>TOPIC_SENTIMENT</td>\n",
       "      <td>0.07770</td>\n",
       "      <td>0.00000</td>\n",
       "      <td>PearsonRResult(statistic=0.07767349852066739, ...</td>\n",
       "    </tr>\n",
       "  </tbody>\n",
       "</table>\n",
       "</div>"
      ],
      "text/plain": [
       "         ticker price    sentiment_type  statistic  pvalue  \\\n",
       "0    EIHOTEL.BO  High     AGG_SENTIMENT    0.38520 0.00000   \n",
       "1    EIHOTEL.BO  High   TOPIC_SENTIMENT    0.08910 0.00000   \n",
       "2    EIHOTEL.BO  High  TICKER_SENTIMENT    0.20230 0.00000   \n",
       "3  ELGIEQUIP.BO  High     AGG_SENTIMENT    0.41600 0.00000   \n",
       "4  ELGIEQUIP.BO  High   TOPIC_SENTIMENT    0.07770 0.00000   \n",
       "\n",
       "                                   hypothesis_result  \n",
       "0  PearsonRResult(statistic=0.3851923720879502, p...  \n",
       "1  PearsonRResult(statistic=0.08907477098747016, ...  \n",
       "2  PearsonRResult(statistic=0.20229537875862433, ...  \n",
       "3  PearsonRResult(statistic=0.4160011472769253, p...  \n",
       "4  PearsonRResult(statistic=0.07767349852066739, ...  "
      ]
     },
     "execution_count": 57,
     "metadata": {},
     "output_type": "execute_result"
    }
   ],
   "source": [
    "hypothesis_df = pd.read_csv('../../datasets/hypothesis_result.csv')\n",
    "hypothesis_df.head()"
   ]
  },
  {
   "cell_type": "markdown",
   "id": "5de2d770",
   "metadata": {},
   "source": [
    "### Plot Hypothesis Testing Chart"
   ]
  },
  {
   "cell_type": "code",
   "execution_count": 67,
   "id": "e1599a4a",
   "metadata": {},
   "outputs": [
    {
     "data": {
      "application/vnd.plotly.v1+json": {
       "config": {
        "plotlyServerURL": "https://plotly.com"
       },
       "data": [
        {
         "customdata": [
          [
           0
          ],
          [
           0
          ],
          [
           0
          ],
          [
           0
          ],
          [
           0
          ]
         ],
         "hovertemplate": "sentiment_type=AGG_SENTIMENT<br>ticker=%{x}<br>value=%{y}<br>pvalue=%{customdata[0]}<extra></extra>",
         "legendgroup": "AGG_SENTIMENT",
         "marker": {
          "color": "#636efa",
          "symbol": "circle"
         },
         "mode": "markers",
         "name": "AGG_SENTIMENT",
         "orientation": "v",
         "showlegend": true,
         "type": "scatter",
         "x": [
          "EIHOTEL.BO",
          "ELGIEQUIP.BO",
          "IPCALAB.BO",
          "PGHL.BO",
          "TV18BRDCST.BO"
         ],
         "xaxis": "x",
         "y": [
          0.3852,
          0.416,
          0.3644,
          0.4292,
          -0.1731
         ],
         "yaxis": "y"
        },
        {
         "customdata": [
          [
           0
          ],
          [
           0
          ],
          [
           0
          ],
          [
           0
          ],
          [
           0.253014579944342
          ]
         ],
         "hovertemplate": "sentiment_type=TOPIC_SENTIMENT<br>ticker=%{x}<br>value=%{y}<br>pvalue=%{customdata[0]}<extra></extra>",
         "legendgroup": "TOPIC_SENTIMENT",
         "marker": {
          "color": "#EF553B",
          "symbol": "circle"
         },
         "mode": "markers",
         "name": "TOPIC_SENTIMENT",
         "orientation": "v",
         "showlegend": true,
         "type": "scatter",
         "x": [
          "EIHOTEL.BO",
          "ELGIEQUIP.BO",
          "IPCALAB.BO",
          "PGHL.BO",
          "TV18BRDCST.BO"
         ],
         "xaxis": "x",
         "y": [
          0.0891,
          0.0777,
          0.0666,
          0.0872,
          0.0019
         ],
         "yaxis": "y"
        },
        {
         "customdata": [
          [
           0
          ],
          [
           0
          ],
          [
           0
          ],
          [
           0
          ],
          [
           0.042642985676294
          ]
         ],
         "hovertemplate": "sentiment_type=TICKER_SENTIMENT<br>ticker=%{x}<br>value=%{y}<br>pvalue=%{customdata[0]}<extra></extra>",
         "legendgroup": "TICKER_SENTIMENT",
         "marker": {
          "color": "#00cc96",
          "symbol": "circle"
         },
         "mode": "markers",
         "name": "TICKER_SENTIMENT",
         "orientation": "v",
         "showlegend": true,
         "type": "scatter",
         "x": [
          "EIHOTEL.BO",
          "ELGIEQUIP.BO",
          "IPCALAB.BO",
          "PGHL.BO",
          "TV18BRDCST.BO"
         ],
         "xaxis": "x",
         "y": [
          0.2023,
          0.1976,
          0.2647,
          0.3438,
          0.0491
         ],
         "yaxis": "y"
        }
       ],
       "layout": {
        "hovermode": "x",
        "legend": {
         "title": {
          "text": "Sentiment Type"
         },
         "tracegroupgap": 0
        },
        "margin": {
         "t": 60
        },
        "template": {
         "data": {
          "pie": [
           {
            "automargin": true,
            "type": "pie"
           }
          ],
          "scatter": [
           {
            "line": {
             "width": 3
            },
            "marker": {
             "size": 9
            },
            "type": "scatter"
           }
          ],
          "scatter3d": [
           {
            "line": {
             "width": 3
            },
            "marker": {
             "size": 9
            },
            "type": "scatter3d"
           }
          ],
          "scattergeo": [
           {
            "line": {
             "width": 3
            },
            "marker": {
             "size": 9
            },
            "type": "scattergeo"
           }
          ],
          "scattergl": [
           {
            "line": {
             "width": 3
            },
            "marker": {
             "size": 9
            },
            "type": "scattergl"
           }
          ],
          "scatterpolar": [
           {
            "line": {
             "width": 3
            },
            "marker": {
             "size": 9
            },
            "type": "scatterpolar"
           }
          ],
          "scatterpolargl": [
           {
            "line": {
             "width": 3
            },
            "marker": {
             "size": 9
            },
            "type": "scatterpolargl"
           }
          ],
          "scatterternary": [
           {
            "line": {
             "width": 3
            },
            "marker": {
             "size": 9
            },
            "type": "scatterternary"
           }
          ],
          "table": [
           {
            "cells": {
             "height": 30
            },
            "header": {
             "height": 36
            },
            "type": "table"
           }
          ]
         },
         "layout": {
          "font": {
           "size": 18
          },
          "xaxis": {
           "title": {
            "standoff": 15
           }
          },
          "yaxis": {
           "title": {
            "standoff": 15
           }
          }
         }
        },
        "title": {
         "text": "Sentiment Correlation Hypothesis Testing for 'High' Price"
        },
        "xaxis": {
         "anchor": "y",
         "domain": [
          0,
          1
         ],
         "title": {
          "text": "Ticker"
         }
        },
        "yaxis": {
         "anchor": "x",
         "domain": [
          0,
          1
         ],
         "title": {
          "text": "Correlation Coefficient"
         }
        }
       }
      },
      "text/html": [
       "<div>                            <div id=\"84fea59d-55c5-4a43-a7e4-5937b24e4c10\" class=\"plotly-graph-div\" style=\"height:525px; width:100%;\"></div>            <script type=\"text/javascript\">                require([\"plotly\"], function(Plotly) {                    window.PLOTLYENV=window.PLOTLYENV || {};                                    if (document.getElementById(\"84fea59d-55c5-4a43-a7e4-5937b24e4c10\")) {                    Plotly.newPlot(                        \"84fea59d-55c5-4a43-a7e4-5937b24e4c10\",                        [{\"customdata\":[[0.0],[0.0],[0.0],[0.0],[0.0]],\"hovertemplate\":\"sentiment_type=AGG_SENTIMENT\\u003cbr\\u003eticker=%{x}\\u003cbr\\u003evalue=%{y}\\u003cbr\\u003epvalue=%{customdata[0]}\\u003cextra\\u003e\\u003c\\u002fextra\\u003e\",\"legendgroup\":\"AGG_SENTIMENT\",\"marker\":{\"color\":\"#636efa\",\"symbol\":\"circle\"},\"mode\":\"markers\",\"name\":\"AGG_SENTIMENT\",\"orientation\":\"v\",\"showlegend\":true,\"x\":[\"EIHOTEL.BO\",\"ELGIEQUIP.BO\",\"IPCALAB.BO\",\"PGHL.BO\",\"TV18BRDCST.BO\"],\"xaxis\":\"x\",\"y\":[0.3852,0.416,0.3644,0.4292,-0.1731],\"yaxis\":\"y\",\"type\":\"scatter\"},{\"customdata\":[[0.0],[0.0],[0.0],[0.0],[0.253014579944342]],\"hovertemplate\":\"sentiment_type=TOPIC_SENTIMENT\\u003cbr\\u003eticker=%{x}\\u003cbr\\u003evalue=%{y}\\u003cbr\\u003epvalue=%{customdata[0]}\\u003cextra\\u003e\\u003c\\u002fextra\\u003e\",\"legendgroup\":\"TOPIC_SENTIMENT\",\"marker\":{\"color\":\"#EF553B\",\"symbol\":\"circle\"},\"mode\":\"markers\",\"name\":\"TOPIC_SENTIMENT\",\"orientation\":\"v\",\"showlegend\":true,\"x\":[\"EIHOTEL.BO\",\"ELGIEQUIP.BO\",\"IPCALAB.BO\",\"PGHL.BO\",\"TV18BRDCST.BO\"],\"xaxis\":\"x\",\"y\":[0.0891,0.0777,0.0666,0.0872,0.0019],\"yaxis\":\"y\",\"type\":\"scatter\"},{\"customdata\":[[0.0],[0.0],[0.0],[0.0],[0.042642985676294]],\"hovertemplate\":\"sentiment_type=TICKER_SENTIMENT\\u003cbr\\u003eticker=%{x}\\u003cbr\\u003evalue=%{y}\\u003cbr\\u003epvalue=%{customdata[0]}\\u003cextra\\u003e\\u003c\\u002fextra\\u003e\",\"legendgroup\":\"TICKER_SENTIMENT\",\"marker\":{\"color\":\"#00cc96\",\"symbol\":\"circle\"},\"mode\":\"markers\",\"name\":\"TICKER_SENTIMENT\",\"orientation\":\"v\",\"showlegend\":true,\"x\":[\"EIHOTEL.BO\",\"ELGIEQUIP.BO\",\"IPCALAB.BO\",\"PGHL.BO\",\"TV18BRDCST.BO\"],\"xaxis\":\"x\",\"y\":[0.2023,0.1976,0.2647,0.3438,0.0491],\"yaxis\":\"y\",\"type\":\"scatter\"}],                        {\"template\":{\"data\":{\"pie\":[{\"automargin\":true,\"type\":\"pie\"}],\"scatter3d\":[{\"line\":{\"width\":3},\"marker\":{\"size\":9},\"type\":\"scatter3d\"}],\"scattergeo\":[{\"line\":{\"width\":3},\"marker\":{\"size\":9},\"type\":\"scattergeo\"}],\"scattergl\":[{\"line\":{\"width\":3},\"marker\":{\"size\":9},\"type\":\"scattergl\"}],\"scatterpolargl\":[{\"line\":{\"width\":3},\"marker\":{\"size\":9},\"type\":\"scatterpolargl\"}],\"scatterpolar\":[{\"line\":{\"width\":3},\"marker\":{\"size\":9},\"type\":\"scatterpolar\"}],\"scatter\":[{\"line\":{\"width\":3},\"marker\":{\"size\":9},\"type\":\"scatter\"}],\"scatterternary\":[{\"line\":{\"width\":3},\"marker\":{\"size\":9},\"type\":\"scatterternary\"}],\"table\":[{\"cells\":{\"height\":30},\"header\":{\"height\":36},\"type\":\"table\"}]},\"layout\":{\"font\":{\"size\":18},\"xaxis\":{\"title\":{\"standoff\":15}},\"yaxis\":{\"title\":{\"standoff\":15}}}},\"xaxis\":{\"anchor\":\"y\",\"domain\":[0.0,1.0],\"title\":{\"text\":\"Ticker\"}},\"yaxis\":{\"anchor\":\"x\",\"domain\":[0.0,1.0],\"title\":{\"text\":\"Correlation Coefficient\"}},\"legend\":{\"title\":{\"text\":\"Sentiment Type\"},\"tracegroupgap\":0},\"margin\":{\"t\":60},\"title\":{\"text\":\"Sentiment Correlation Hypothesis Testing for 'High' Price\"},\"hovermode\":\"x\"},                        {\"responsive\": true}                    ).then(function(){\n",
       "                            \n",
       "var gd = document.getElementById('84fea59d-55c5-4a43-a7e4-5937b24e4c10');\n",
       "var x = new MutationObserver(function (mutations, observer) {{\n",
       "        var display = window.getComputedStyle(gd).display;\n",
       "        if (!display || display === 'none') {{\n",
       "            console.log([gd, 'removed!']);\n",
       "            Plotly.purge(gd);\n",
       "            observer.disconnect();\n",
       "        }}\n",
       "}});\n",
       "\n",
       "// Listen for the removal of the full notebook cells\n",
       "var notebookContainer = gd.closest('#notebook-container');\n",
       "if (notebookContainer) {{\n",
       "    x.observe(notebookContainer, {childList: true});\n",
       "}}\n",
       "\n",
       "// Listen for the clearing of the current output cell\n",
       "var outputEl = gd.closest('.output');\n",
       "if (outputEl) {{\n",
       "    x.observe(outputEl, {childList: true});\n",
       "}}\n",
       "\n",
       "                        })                };                });            </script>        </div>"
      ]
     },
     "metadata": {},
     "output_type": "display_data"
    }
   ],
   "source": [
    "fig = px.scatter(hypothesis_df, x='ticker', y=['statistic'], color='sentiment_type',\n",
    "                    hover_data=['pvalue'])\n",
    "fig.update_layout(\n",
    "    template=\"presentation\",\n",
    "    xaxis_title='Ticker',\n",
    "    yaxis_title='Correlation Coefficient',\n",
    "    legend_title='Sentiment Type',\n",
    "    title=f\"Sentiment Correlation Hypothesis Testing for 'High' Price\",\n",
    "    hovermode=\"x\"\n",
    ")\n",
    "\n",
    "fig.show()\n",
    "fig.write_image('../../visualizations/sentiment_correlation_hypothesis_testing.png')"
   ]
  }
 ],
 "metadata": {
  "kernelspec": {
   "display_name": "Python 3 (ipykernel)",
   "language": "python",
   "name": "python3"
  },
  "language_info": {
   "codemirror_mode": {
    "name": "ipython",
    "version": 3
   },
   "file_extension": ".py",
   "mimetype": "text/x-python",
   "name": "python",
   "nbconvert_exporter": "python",
   "pygments_lexer": "ipython3",
   "version": "3.10.12"
  }
 },
 "nbformat": 4,
 "nbformat_minor": 5
}
